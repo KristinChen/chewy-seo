{
 "cells": [
  {
   "cell_type": "code",
   "execution_count": 104,
   "id": "097803bb",
   "metadata": {},
   "outputs": [],
   "source": [
    "%matplotlib inline\n",
    "import random\n",
    "random.seed(1234)\n",
    "from string import punctuation\n",
    "import pandas as pd\n",
    "import gzip\n",
    "# Gensim\n",
    "import gensim\n",
    "import gensim.corpora as corpora\n",
    "from gensim.utils import simple_preprocess\n",
    "from gensim.models import CoherenceModel\n",
    "# import nltk\n",
    "# nltk.download('wordnet')\n",
    "from nltk.corpus import stopwords\n",
    "from nltk.stem.wordnet import WordNetLemmatizer\n",
    "import string\n",
    "import spacy\n",
    "import matplotlib.pyplot as plt\n",
    "import pyLDAvis #python library for interactive topic model visualization\n",
    "import pyLDAvis.gensim_models\n",
    "pyLDAvis.enable_notebook()\n",
    "spacy.prefer_gpu()\n",
    "nlp = spacy.load(\"en_core_web_sm\")\n",
    "\n",
    "# import gensim.downloader\n",
    "# w2v = gensim.downloader.load('word2vec-google-news-300')\n",
    "\n",
    "# import logging\n",
    "# logging.basicConfig(format='%(asctime)s : %(levelname)s : %(message)s', level=logging.ERROR)\n",
    "\n",
    "# import warnings\n",
    "# warnings.filterwarnings(\"ignore\",category=DeprecationWarning)\n",
    "\n",
    "import pickle\n",
    "import numpy as np\n",
    "\n",
    "# Sklearn\n",
    "from sklearn.decomposition import LatentDirichletAllocation, TruncatedSVD\n",
    "from sklearn.feature_extraction.text import CountVectorizer, TfidfVectorizer\n",
    "from sklearn.model_selection import GridSearchCV\n",
    "from pprint import pprint\n",
    "\n",
    "# Plotting tools\n",
    "# import pyLDAvis\n",
    "# import pyLDAvis.sklearn\n",
    "# import matplotlib.pyplot as plt\n",
    "%matplotlib inline\n",
    "\n",
    "from tqdm.notebook import tqdm as tqdm\n",
    "tqdm.pandas()\n",
    "import math\n",
    "import nltk\n",
    "from collections import defaultdict\n",
    "\n",
    "nlp = spacy.load(\"en_core_web_sm\", disable=['parser', 'ner'])\n",
    "from nltk.probability import FreqDist\n",
    "from gensim.models.ldamulticore import LdaMulticore\n",
    "from nltk import tokenize\n",
    "\n",
    "stop_words = stopwords.words('english')\n",
    "\n",
    "from nltk.stem import WordNetLemmatizer\n",
    "  \n",
    "lemmatizer = WordNetLemmatizer()\n",
    "\n",
    "from numpy import dot\n",
    "from numpy.linalg import norm\n",
    "import random\n",
    "\n",
    "import itertools\n",
    "\n",
    "#nltk.download('vader_lexicon')\n",
    "\n",
    "from nltk.sentiment.vader import SentimentIntensityAnalyzer\n",
    "sent = SentimentIntensityAnalyzer()\n",
    "\n",
    "from scipy.spatial.distance import pdist\n",
    "from scipy.spatial import distance\n",
    "from scipy.cluster.hierarchy import dendrogram, linkage\n",
    "\n",
    "from nltk.sentiment.vader import SentimentIntensityAnalyzer\n",
    "sid = SentimentIntensityAnalyzer()\n",
    "\n",
    "from nltk.tokenize import sent_tokenize\n",
    "\n",
    "from sklearn.preprocessing import MinMaxScaler\n",
    "from nltk import pos_tag\n",
    "\n",
    "import re\n",
    "\n",
    "import gensim.downloader\n",
    "w2v = gensim.downloader.load('word2vec-google-news-300')\n",
    "from gensim.models.doc2vec import Doc2Vec, TaggedDocument\n",
    "\n",
    "from sentence_transformers import SentenceTransformer\n",
    "sbert_model = SentenceTransformer('bert-base-nli-mean-tokens')\n",
    "\n",
    "from sklearn.preprocessing import MinMaxScaler\n",
    "\n",
    "from scipy.spatial.distance import pdist\n",
    "from scipy.spatial import distance\n",
    "from scipy.cluster.hierarchy import dendrogram, linkage\n",
    "\n",
    "from gensim.models.doc2vec import Doc2Vec, TaggedDocument\n"
   ]
  },
  {
   "cell_type": "markdown",
   "id": "d557fe1d",
   "metadata": {},
   "source": [
    "# Step1: Read data - cat food"
   ]
  },
  {
   "cell_type": "code",
   "execution_count": 2,
   "id": "e2c701f4",
   "metadata": {},
   "outputs": [],
   "source": [
    "# df = pd.read_csv('./all_df.csv', index_col = False)"
   ]
  },
  {
   "cell_type": "code",
   "execution_count": 3,
   "id": "4fb40da7",
   "metadata": {},
   "outputs": [],
   "source": [
    "with open ('./model/df1.pickle', 'rb') as handle:\n",
    "    df1 = pickle.load(handle)"
   ]
  },
  {
   "cell_type": "code",
   "execution_count": 4,
   "id": "4302fb56",
   "metadata": {},
   "outputs": [],
   "source": [
    "# sents = [tokenize.sent_tokenize(str(r)) for r in df1.reviewText.tolist()]\n",
    "# columns_name = ['Sentence' + str(i) for i in range(1, 31, 1)]\n",
    "# sents_df1 = pd.DataFrame([sen[:30] for sen in sents], columns = columns_name)"
   ]
  },
  {
   "cell_type": "code",
   "execution_count": 5,
   "id": "299c3687",
   "metadata": {},
   "outputs": [],
   "source": [
    "with open ('./model/sents_df1.pickle', 'rb') as handle:\n",
    "    sents_df1 = pickle.load(handle)"
   ]
  },
  {
   "cell_type": "markdown",
   "id": "8743ce3b",
   "metadata": {},
   "source": [
    "# Step2: Get Attributes"
   ]
  },
  {
   "cell_type": "markdown",
   "id": "d4860fa0",
   "metadata": {},
   "source": [
    "### clean sentences (tokenize, lemmatize)"
   ]
  },
  {
   "cell_type": "code",
   "execution_count": 6,
   "id": "3458dc83",
   "metadata": {},
   "outputs": [
    {
     "name": "stderr",
     "output_type": "stream",
     "text": [
      "<>:14: DeprecationWarning: invalid escape sequence \\d\n",
      "<>:14: DeprecationWarning: invalid escape sequence \\d\n",
      "C:\\Users\\JIATIN~1\\AppData\\Local\\Temp/ipykernel_24616/2337347480.py:14: DeprecationWarning: invalid escape sequence \\d\n",
      "  tokens1 = [re.sub('[\\d.,]' , '', word.lower()) for word in str(sen1).split() if word.lower() not in stop_words]\n"
     ]
    }
   ],
   "source": [
    "def clean(sentence, stop_words):\n",
    "    '''\n",
    "    Clean sentence. \n",
    "            Parameters:\n",
    "                    sentence (string): A string. \n",
    "                    stop_words (list): A list of words to be removed from a sentence. \n",
    "                    Lemmatize (boolean): A boolean to indicate whether or not to run lemmatization. . \n",
    "                    \n",
    "            Returns:\n",
    "                    _ (list): A list of cleaned tokens. \n",
    "    '''\n",
    "    sen0 = ' '.join([word.lower() for word in str(sentence).split() if word.lower() not in stop_words])\n",
    "    sen1 = sen0.translate(str.maketrans('', '', punctuation))\n",
    "    tokens1 = [re.sub('[\\d.,]' , '', word.lower()) for word in str(sen1).split() if word.lower() not in stop_words]\n",
    "    sen2 = ' '.join(tokens1)\n",
    "    tokens1 = [word.lemma_ for word in nlp(sen2)] \n",
    "    return tokens1\n",
    "\n",
    "# def sent_to_words(sentences):\n",
    "#     '''\n",
    "#     Simplify and tokenize strings in an iterable.\n",
    "    \n",
    "#             Parameters:\n",
    "#                     sentences (iterable): Review strings in a list or as a pandas.series.\n",
    "                    \n",
    "#             Returns:\n",
    "#                     _ (generator): Simplify review tokens.  \n",
    "#     '''\n",
    "#     for sentence in sentences:\n",
    "#         yield(gensim.utils.simple_preprocess(str(sentence), deacc=True))  # deacc=True removes punctuations\n",
    "\n",
    "def get_bigrams(data_words): \n",
    "    '''\n",
    "    Form bigram.\n",
    "    \n",
    "        Parameters:\n",
    "            data_words (iterable): token lists in an iterable. \n",
    "\n",
    "        Returns:\n",
    "           _, _, bigram_pmi (data frame): Bigrams and their pmi scores in a Data Frame. \n",
    "    '''\n",
    "    bigram_measures = nltk.collocations.BigramAssocMeasures()\n",
    "    finder = nltk.collocations.BigramCollocationFinder.from_documents(data_words) \n",
    "    finder.apply_freq_filter(20)\n",
    "    bigram_scores = finder.score_ngrams(bigram_measures.pmi)\n",
    "    bigram_pmi = pd.DataFrame(bigram_scores)\n",
    "    bigram_pmi.columns = ['bigram', 'pmi']\n",
    "    bigram_pmi.sort_values(by='pmi', axis = 0, ascending = False, inplace = True)\n",
    "    \n",
    "    bigram_scores2 = finder.score_ngrams(bigram_measures.raw_freq)\n",
    "    bigram_freq = pd.DataFrame(bigram_scores2)\n",
    "    bigram_freq.columns = ['bigram', 'freq']\n",
    "    bigram_freq.sort_values(by='freq', axis = 0, ascending = False, inplace = True)\n",
    "\n",
    "    return finder, bigram_measures, bigram_pmi, bigram_freq\n",
    "\n",
    "def bigram_filter(bigram):\n",
    "    \"\"\"\n",
    "    Filter bigram. \n",
    "        \n",
    "        Parameters:\n",
    "            bigram (string): A bigram.\n",
    "\n",
    "        Returns:\n",
    "           _ (boolean): Decide whether or not to keep the bigram.\n",
    "    \"\"\"\n",
    "    stop_words = stopwords.words('english')   \n",
    "    tag = nltk.pos_tag(bigram)\n",
    "    if tag[0][1] not in ['JJ', 'NN'] and tag[1][1] not in ['NN']: #we only want adjective + noun\n",
    "        return False\n",
    "    if bigram[0] in stop_words or bigram[1] in stop_words: \n",
    "        return False\n",
    "    if 'n' in bigram or 't' in bigram:\n",
    "        return False\n",
    "    if 'PRON' in bigram: \n",
    "        return False\n",
    "    if len(bigram[0]) <= 2 or len(bigram[1]) <= 2:\n",
    "        return False\n",
    "    return True\n",
    "\n",
    "def get_trigrams(data_words): \n",
    "    trigram_measures = nltk.collocations.TrigramAssocMeasures()\n",
    "    finder = nltk.collocations.TrigramCollocationFinder.from_documents(data_words) \n",
    "    finder.apply_freq_filter(20)\n",
    "    trigram_scores = finder.score_ngrams(trigram_measures.pmi)\n",
    "\n",
    "    trigram_pmi = pd.DataFrame(trigram_scores)\n",
    "    trigram_pmi.columns = ['trigram', 'pmi']\n",
    "    trigram_pmi.sort_values(by='pmi', axis = 0, ascending = False, inplace = True)\n",
    "    \n",
    "    trigram_scores2 = finder.score_ngrams(trigram_measures.raw_freq)\n",
    "    trigram_freq = pd.DataFrame(trigram_scores2)\n",
    "    trigram_freq.columns = ['trigram', 'freq']\n",
    "    trigram_freq.sort_values(by='freq', axis = 0, ascending = False, inplace = True)\n",
    "\n",
    "    return finder, trigram_measures, trigram_pmi, trigram_freq\n",
    "\n",
    "def trigram_filter(trigram):\n",
    "    tag = nltk.pos_tag(trigram)\n",
    "    stop_words = stopwords.words('english')\n",
    "    if tag[0][1] not in ['JJ', 'NN'] and tag[1][1] not in ['JJ','NN']:\n",
    "        return False\n",
    "    if trigram[0] in stop_words or trigram[-1] in stop_words or trigram[1] in stop_words:\n",
    "        return False\n",
    "    if 'n' in trigram or 't' in trigram:\n",
    "        return False\n",
    "    if 'PRON' in trigram:\n",
    "        return False\n",
    "    if len(trigram[0]) <= 2 or len(trigram[1]) <= 2 and len(trigram[2]) <= 2:\n",
    "        return False\n",
    "    return True \n",
    "\n",
    "def replace_ngram(x, bigrams, trigrams):\n",
    "    '''\n",
    "    Form ngram. \n",
    "        \n",
    "        Parameters:\n",
    "            bigram (string): a ngrams.\n",
    "\n",
    "        Returns:\n",
    "           x (string): A connected ngrams with underscore.  \n",
    "    '''\n",
    "    for gram in trigrams:\n",
    "        x = x.replace(gram, '_'.join(gram.split()))\n",
    "    for gram in bigrams:\n",
    "        x = x.replace(gram, '_'.join(gram.split()))\n",
    "    return x\n",
    "\n",
    "def remove_stopwords(texts, extra_stopwords = []):\n",
    "    '''\n",
    "    Remove stopwords in an iterable (string or tokens).\n",
    "\n",
    "        Parameters:\n",
    "                texts (iterable): Review strings in a list or as a pandas.series.\n",
    "\n",
    "        Returns:\n",
    "                _ (list): Simplify review stirngs without stopwords.  \n",
    "    '''\n",
    "    stop_words = stopwords.words('english') + extra_stopwords\n",
    "    return [[word for word in doc.split() if word not in stop_words] for doc in texts]\n",
    "\n",
    "\n",
    "def extract_attributes(reviews, stop_words):\n",
    "    cleaned_tokens = [clean(sen, stop_words = stop_words) for sen in reviews]\n",
    "    sens = [' '.join(sen) for sen in cleaned_tokens] \n",
    "    cleaned_tokens2 = [[token.lemma_ for token in nlp(sen) if token.text not in stop_words] for sen in tqdm(sens)] #different ways to lemmatize\n",
    "\n",
    "    bifinder, bimeasures, bi_pmi, bi_freq = get_bigrams(tqdm(cleaned_tokens)) \n",
    "    tri_finder, tri_measures, tri_pmi, tri_freq = get_trigrams(tqdm(cleaned_tokens))\n",
    "    \n",
    "    bifinder, bimeasures, bi_pmi2, bi_freq2 = get_bigrams(tqdm(cleaned_tokens2)) \n",
    "    tri_finder, tri_measures, tri_pmi2, tri_freq2 = get_trigrams(tqdm(cleaned_tokens2))\n",
    "    print('get bigrams.')\n",
    "    cleaned_bi_pmi = bi_pmi[bi_pmi.progress_apply(lambda bigram: bigram_filter(bigram['bigram']) and bigram.pmi > 5, axis = 1)] \n",
    "    cleaned_bi_pmi2 = bi_pmi2[bi_pmi2.progress_apply(lambda bigram: bigram_filter(bigram['bigram']) and bigram.pmi > 5, axis = 1)] \n",
    "# \n",
    "    print('get trigrams.')\n",
    "    cleaned_tri_pmi = tri_pmi[tri_pmi.progress_apply(lambda trigram: trigram_filter(trigram['trigram']) and trigram.pmi > 5, axis = 1)]\n",
    "    cleaned_tri_pmi2 = tri_pmi2[tri_pmi2.progress_apply(lambda trigram: trigram_filter(trigram['trigram']) and trigram.pmi > 5, axis = 1)]\n",
    "\n",
    "    print('get lemmatized tokens from spacy.')\n",
    "    tags = [pos_tag(sen) for sen in tqdm(cleaned_tokens2)]\n",
    "    print('get adjectives.')\n",
    "    adj_tokens = [t[0] for sen in tags for t in sen if t[1] == 'JJ']\n",
    "    print('get nouns.')\n",
    "    noun_tokens = [t[0] for sen in tags for t in sen if t[1] == 'NN']\n",
    "    print('get verbs.')\n",
    "    verb_tokens = [t[0] for sen in tags for t in sen if t[1] == 'VB']\n",
    "\n",
    "    return {\n",
    "        'cleaned_tokens': cleaned_tokens,\n",
    "        'cleaned_tokens2': cleaned_tokens2,\n",
    "        'cleaned_bi_pmi': cleaned_bi_pmi, \n",
    "        'cleaned_tri_pmi': cleaned_tri_pmi,\n",
    "        'cleaned_bi_pmi2': cleaned_bi_pmi2, \n",
    "        'cleaned_tri_pmi2': cleaned_tri_pmi2,\n",
    "        'cleaned_bi_freq': bi_freq, \n",
    "        'cleaned_tri_freq': tri_freq,\n",
    "        'cleaned_bi_freq2': bi_freq2, \n",
    "        'cleaned_tri_freq2': tri_freq2,\n",
    "        'tags': tags,\n",
    "        'adj_tokens': FreqDist(adj_tokens).most_common(100),\n",
    "        'noun_tokens': FreqDist(noun_tokens).most_common(100),\n",
    "        'verb_tokens': FreqDist(verb_tokens).most_common(100)\n",
    "    }"
   ]
  },
  {
   "cell_type": "code",
   "execution_count": 7,
   "id": "80dec4cd",
   "metadata": {},
   "outputs": [],
   "source": [
    "# df1_dict = extract_attributes(tqdm(df1.reviewText.tolist()), stop_words = stop_words)"
   ]
  },
  {
   "cell_type": "code",
   "execution_count": 8,
   "id": "118fc6a9",
   "metadata": {},
   "outputs": [],
   "source": [
    "# with open ('./model/df1_dict.pickle', 'wb') as handle:\n",
    "#     pickle.dump(df1_dict, handle)"
   ]
  },
  {
   "cell_type": "markdown",
   "id": "e062ae66",
   "metadata": {},
   "source": [
    "#### load cat food cleaned tokens"
   ]
  },
  {
   "cell_type": "code",
   "execution_count": 9,
   "id": "46f883c8",
   "metadata": {},
   "outputs": [],
   "source": [
    "with open ('./model/df1_dict.pickle', 'rb') as handle:\n",
    "    df1_dict = pickle.load(handle)"
   ]
  },
  {
   "cell_type": "code",
   "execution_count": 10,
   "id": "0ff07185",
   "metadata": {},
   "outputs": [],
   "source": [
    "def to_str(s):\n",
    "    return '' if s is None else str(s)"
   ]
  },
  {
   "cell_type": "code",
   "execution_count": 11,
   "id": "71d0bec0",
   "metadata": {},
   "outputs": [],
   "source": [
    "remove_words = ['dog',\n",
    " 'cat',\n",
    " 'food',\n",
    " 'bed',\n",
    " 'litter',\n",
    " 'product',\n",
    " 'love',\n",
    " 'like',\n",
    " 'well',\n",
    " 'would',\n",
    " 'work',\n",
    " 'toy',\n",
    " 'great',\n",
    " 'make',\n",
    " 'good',\n",
    " 'time',\n",
    " 'go',\n",
    " 'I',\n",
    " 'little',\n",
    " 'small',\n",
    " 'look',\n",
    " 'try',\n",
    " 'really',\n",
    " 'seem',\n",
    " 'recommend',\n",
    " 'day',\n",
    " 'month',\n",
    " 'year',\n",
    " 'much',\n",
    " 'nice' , \n",
    " 'old', \n",
    " 'able', \n",
    " 'first', \n",
    " 'happy', \n",
    " 'thing', \n",
    " 'kitten'\n",
    "]\n",
    "extra_stopwords = [\"don't\", \"donnt\", \"he's\", \"i'd\", \"would\", \"she's\", \"that's\", \\\n",
    "                   \"i'm\", \"can't\", \"i've\", \"they're\", \"we'll\", \"willn't\", \\\n",
    "                   \"isn't\", \"aren't\", \"wouldn't\", \"would've\", \"we've\", \"ve\"] + \\\n",
    "                   [\"cat\", \"food\"] + remove_words\n",
    "stop_words = sorted(list(set(stopwords.words('english')  + extra_stopwords + remove_words))) + \\\n",
    "['cat',\n",
    " 'eat',\n",
    " 'get',\n",
    " 'dry',\n",
    " 'feed',\n",
    " 'buy',\n",
    " 'give',\n",
    " 'love',\n",
    " 'find',\n",
    " 'food',\n",
    " 'try',\n",
    " 'use',\n",
    " 'bag',\n",
    " 'go',\n",
    " 'think',\n",
    " 'wet',\n",
    " 'know',\n",
    " 'make',\n",
    " 'seem',\n",
    " 'say',\n",
    " 'year',\n",
    " 'kitty',\n",
    " 'high',\n",
    " 'see',\n",
    " 'stuff',\n",
    " 'come',\n",
    " 'look',\n",
    " 'keep',\n",
    " 'want',\n",
    " 'start',\n",
    " 'every',\n",
    " 'less',\n",
    " 'free',\n",
    " 'take',\n",
    " 'need',\n",
    " 'lot',\n",
    " 'mix',\n",
    " 'fancy',\n",
    " 'many',\n",
    " 'put',\n",
    " 'feast',\n",
    " 'good',\n",
    " 'coat',\n",
    " 'bit',\n",
    " 'new',\n",
    " 'something',\n",
    " 'change',\n",
    " 'case',\n",
    " 'help',\n",
    " 'sure',\n",
    " 'month',\n",
    " 'open',\n",
    " 'box',\n",
    " 'way',\n",
    " 'bad',\n",
    " 'big',\n",
    " 'leave',\n",
    " 'another',\n",
    " 'last']"
   ]
  },
  {
   "cell_type": "code",
   "execution_count": 12,
   "id": "81313b83",
   "metadata": {},
   "outputs": [
    {
     "data": {
      "application/vnd.jupyter.widget-view+json": {
       "model_id": "f3b54e8d473c4ab8a93687bde222cf9a",
       "version_major": 2,
       "version_minor": 0
      },
      "text/plain": [
       "  0%|          | 0/835290 [00:00<?, ?it/s]"
      ]
     },
     "metadata": {},
     "output_type": "display_data"
    }
   ],
   "source": [
    "sents_df1 = sents_df1.progress_applymap(lambda x: to_str(x))"
   ]
  },
  {
   "cell_type": "code",
   "execution_count": 13,
   "id": "9c475c3b",
   "metadata": {
    "scrolled": true
   },
   "outputs": [
    {
     "data": {
      "text/html": [
       "<div>\n",
       "<style scoped>\n",
       "    .dataframe tbody tr th:only-of-type {\n",
       "        vertical-align: middle;\n",
       "    }\n",
       "\n",
       "    .dataframe tbody tr th {\n",
       "        vertical-align: top;\n",
       "    }\n",
       "\n",
       "    .dataframe thead th {\n",
       "        text-align: right;\n",
       "    }\n",
       "</style>\n",
       "<table border=\"1\" class=\"dataframe\">\n",
       "  <thead>\n",
       "    <tr style=\"text-align: right;\">\n",
       "      <th></th>\n",
       "      <th>Sentence1</th>\n",
       "      <th>Sentence2</th>\n",
       "      <th>Sentence3</th>\n",
       "      <th>Sentence4</th>\n",
       "      <th>Sentence5</th>\n",
       "      <th>Sentence6</th>\n",
       "      <th>Sentence7</th>\n",
       "      <th>Sentence8</th>\n",
       "      <th>Sentence9</th>\n",
       "      <th>Sentence10</th>\n",
       "      <th>...</th>\n",
       "      <th>Sentence21</th>\n",
       "      <th>Sentence22</th>\n",
       "      <th>Sentence23</th>\n",
       "      <th>Sentence24</th>\n",
       "      <th>Sentence25</th>\n",
       "      <th>Sentence26</th>\n",
       "      <th>Sentence27</th>\n",
       "      <th>Sentence28</th>\n",
       "      <th>Sentence29</th>\n",
       "      <th>Sentence30</th>\n",
       "    </tr>\n",
       "  </thead>\n",
       "  <tbody>\n",
       "    <tr>\n",
       "      <th>0</th>\n",
       "      <td>I found these on sale and bought them on a whi...</td>\n",
       "      <td></td>\n",
       "      <td></td>\n",
       "      <td></td>\n",
       "      <td></td>\n",
       "      <td></td>\n",
       "      <td></td>\n",
       "      <td></td>\n",
       "      <td></td>\n",
       "      <td></td>\n",
       "      <td>...</td>\n",
       "      <td></td>\n",
       "      <td></td>\n",
       "      <td></td>\n",
       "      <td></td>\n",
       "      <td></td>\n",
       "      <td></td>\n",
       "      <td></td>\n",
       "      <td></td>\n",
       "      <td></td>\n",
       "      <td></td>\n",
       "    </tr>\n",
       "    <tr>\n",
       "      <th>1</th>\n",
       "      <td>My kittens were crazy over these, but as they ...</td>\n",
       "      <td>Now I have a new year old cat and he plays fet...</td>\n",
       "      <td>HE will chase it and bring it back as long as ...</td>\n",
       "      <td>He carries them around and plays by himself wi...</td>\n",
       "      <td>I have never seen a cat so crazy over a toy.</td>\n",
       "      <td>I have ten of them, but can usually only find ...</td>\n",
       "      <td>He always seems to locate one when he wants one.</td>\n",
       "      <td>I think they are a little overpriced for littl...</td>\n",
       "      <td></td>\n",
       "      <td></td>\n",
       "      <td>...</td>\n",
       "      <td></td>\n",
       "      <td></td>\n",
       "      <td></td>\n",
       "      <td></td>\n",
       "      <td></td>\n",
       "      <td></td>\n",
       "      <td></td>\n",
       "      <td></td>\n",
       "      <td></td>\n",
       "      <td></td>\n",
       "    </tr>\n",
       "    <tr>\n",
       "      <th>2</th>\n",
       "      <td>My cat absolutely loves spinners!</td>\n",
       "      <td>She carries them around in her mouth when she ...</td>\n",
       "      <td>By far her favorite toy!</td>\n",
       "      <td></td>\n",
       "      <td></td>\n",
       "      <td></td>\n",
       "      <td></td>\n",
       "      <td></td>\n",
       "      <td></td>\n",
       "      <td></td>\n",
       "      <td>...</td>\n",
       "      <td></td>\n",
       "      <td></td>\n",
       "      <td></td>\n",
       "      <td></td>\n",
       "      <td></td>\n",
       "      <td></td>\n",
       "      <td></td>\n",
       "      <td></td>\n",
       "      <td></td>\n",
       "      <td></td>\n",
       "    </tr>\n",
       "    <tr>\n",
       "      <th>3</th>\n",
       "      <td>these were TINY and made out of very lightweig...</td>\n",
       "      <td>i gave one to my cat and in under a minute, sh...</td>\n",
       "      <td>STAY AWAY.</td>\n",
       "      <td></td>\n",
       "      <td></td>\n",
       "      <td></td>\n",
       "      <td></td>\n",
       "      <td></td>\n",
       "      <td></td>\n",
       "      <td></td>\n",
       "      <td>...</td>\n",
       "      <td></td>\n",
       "      <td></td>\n",
       "      <td></td>\n",
       "      <td></td>\n",
       "      <td></td>\n",
       "      <td></td>\n",
       "      <td></td>\n",
       "      <td></td>\n",
       "      <td></td>\n",
       "      <td></td>\n",
       "    </tr>\n",
       "    <tr>\n",
       "      <th>4</th>\n",
       "      <td>I bought this cat toy thinking that I would us...</td>\n",
       "      <td>I haven't made my own parakeet toys yet, so I ...</td>\n",
       "      <td>Then this evening, on the spur of the moment, ...</td>\n",
       "      <td>They have been a huge hit - I put them in abou...</td>\n",
       "      <td>He picks them up, moves them around, drops the...</td>\n",
       "      <td>What a riot.</td>\n",
       "      <td></td>\n",
       "      <td></td>\n",
       "      <td></td>\n",
       "      <td></td>\n",
       "      <td>...</td>\n",
       "      <td></td>\n",
       "      <td></td>\n",
       "      <td></td>\n",
       "      <td></td>\n",
       "      <td></td>\n",
       "      <td></td>\n",
       "      <td></td>\n",
       "      <td></td>\n",
       "      <td></td>\n",
       "      <td></td>\n",
       "    </tr>\n",
       "  </tbody>\n",
       "</table>\n",
       "<p>5 rows × 30 columns</p>\n",
       "</div>"
      ],
      "text/plain": [
       "                                           Sentence1  \\\n",
       "0  I found these on sale and bought them on a whi...   \n",
       "1  My kittens were crazy over these, but as they ...   \n",
       "2                  My cat absolutely loves spinners!   \n",
       "3  these were TINY and made out of very lightweig...   \n",
       "4  I bought this cat toy thinking that I would us...   \n",
       "\n",
       "                                           Sentence2  \\\n",
       "0                                                      \n",
       "1  Now I have a new year old cat and he plays fet...   \n",
       "2  She carries them around in her mouth when she ...   \n",
       "3  i gave one to my cat and in under a minute, sh...   \n",
       "4  I haven't made my own parakeet toys yet, so I ...   \n",
       "\n",
       "                                           Sentence3  \\\n",
       "0                                                      \n",
       "1  HE will chase it and bring it back as long as ...   \n",
       "2                           By far her favorite toy!   \n",
       "3                                         STAY AWAY.   \n",
       "4  Then this evening, on the spur of the moment, ...   \n",
       "\n",
       "                                           Sentence4  \\\n",
       "0                                                      \n",
       "1  He carries them around and plays by himself wi...   \n",
       "2                                                      \n",
       "3                                                      \n",
       "4  They have been a huge hit - I put them in abou...   \n",
       "\n",
       "                                           Sentence5  \\\n",
       "0                                                      \n",
       "1       I have never seen a cat so crazy over a toy.   \n",
       "2                                                      \n",
       "3                                                      \n",
       "4  He picks them up, moves them around, drops the...   \n",
       "\n",
       "                                           Sentence6  \\\n",
       "0                                                      \n",
       "1  I have ten of them, but can usually only find ...   \n",
       "2                                                      \n",
       "3                                                      \n",
       "4                                       What a riot.   \n",
       "\n",
       "                                          Sentence7  \\\n",
       "0                                                     \n",
       "1  He always seems to locate one when he wants one.   \n",
       "2                                                     \n",
       "3                                                     \n",
       "4                                                     \n",
       "\n",
       "                                           Sentence8 Sentence9 Sentence10  \\\n",
       "0                                                                           \n",
       "1  I think they are a little overpriced for littl...                        \n",
       "2                                                                           \n",
       "3                                                                           \n",
       "4                                                                           \n",
       "\n",
       "   ... Sentence21 Sentence22 Sentence23 Sentence24 Sentence25 Sentence26  \\\n",
       "0  ...                                                                     \n",
       "1  ...                                                                     \n",
       "2  ...                                                                     \n",
       "3  ...                                                                     \n",
       "4  ...                                                                     \n",
       "\n",
       "  Sentence27 Sentence28 Sentence29 Sentence30  \n",
       "0                                              \n",
       "1                                              \n",
       "2                                              \n",
       "3                                              \n",
       "4                                              \n",
       "\n",
       "[5 rows x 30 columns]"
      ]
     },
     "execution_count": 13,
     "metadata": {},
     "output_type": "execute_result"
    }
   ],
   "source": [
    "sents_df1.head()"
   ]
  },
  {
   "cell_type": "code",
   "execution_count": 72,
   "id": "44b8a660",
   "metadata": {},
   "outputs": [
    {
     "data": {
      "application/vnd.jupyter.widget-view+json": {
       "model_id": "711765c782854045a58c1ed3d926e132",
       "version_major": 2,
       "version_minor": 0
      },
      "text/plain": [
       "  0%|          | 0/27843 [00:00<?, ?it/s]"
      ]
     },
     "metadata": {},
     "output_type": "display_data"
    }
   ],
   "source": [
    "sents_df1['Sentence1_tokens'] = sents_df1.Sentence1.progress_apply(lambda x:clean(x, stop_words = stop_words))"
   ]
  },
  {
   "cell_type": "code",
   "execution_count": 73,
   "id": "4d345c2b",
   "metadata": {},
   "outputs": [
    {
     "data": {
      "application/vnd.jupyter.widget-view+json": {
       "model_id": "87ef238e67834d02825fdbe60985d5d1",
       "version_major": 2,
       "version_minor": 0
      },
      "text/plain": [
       "  0%|          | 0/27843 [00:00<?, ?it/s]"
      ]
     },
     "metadata": {},
     "output_type": "display_data"
    }
   ],
   "source": [
    "sents_df1['Sentence2_tokens'] = sents_df1.Sentence2.progress_apply(lambda x:clean(x, stop_words = stop_words))"
   ]
  },
  {
   "cell_type": "code",
   "execution_count": 74,
   "id": "5e584f38",
   "metadata": {},
   "outputs": [
    {
     "data": {
      "text/plain": [
       "0    [find, sale, buy, whim, kitten, omg, go, nuts,...\n",
       "1               [kittens, crazy, grow, pay, attention]\n",
       "2                     [cat, absolutely, love, spinner]\n",
       "3                   [tiny, make, lightweight, plastic]\n",
       "4    [buy, cat, toy, thinking, would, use, spinner,...\n",
       "Name: Sentence1_tokens, dtype: object"
      ]
     },
     "execution_count": 74,
     "metadata": {},
     "output_type": "execute_result"
    }
   ],
   "source": [
    "sents_df1['Sentence1_tokens'].head()"
   ]
  },
  {
   "cell_type": "code",
   "execution_count": 75,
   "id": "c80fe227",
   "metadata": {},
   "outputs": [
    {
     "data": {
      "text/plain": [
       "0                                                   []\n",
       "1                   [new, year, old, cat, play, fetch]\n",
       "2          [carry, around, mouth, toss, around, chase]\n",
       "3    [give, one, cat, minute, chewed, ball, tip, ch...\n",
       "4    [make, parakeet, toy, yet, vacillate, kind, st...\n",
       "Name: Sentence2_tokens, dtype: object"
      ]
     },
     "execution_count": 75,
     "metadata": {},
     "output_type": "execute_result"
    }
   ],
   "source": [
    "sents_df1['Sentence2_tokens'].head()"
   ]
  },
  {
   "cell_type": "code",
   "execution_count": 17,
   "id": "92812779",
   "metadata": {},
   "outputs": [
    {
     "data": {
      "application/vnd.jupyter.widget-view+json": {
       "model_id": "aec5f7bc5bed46a2a60bcb80d7720640",
       "version_major": 2,
       "version_minor": 0
      },
      "text/plain": [
       "  0%|          | 0/27843 [00:00<?, ?it/s]"
      ]
     },
     "metadata": {},
     "output_type": "display_data"
    },
    {
     "data": {
      "application/vnd.jupyter.widget-view+json": {
       "model_id": "49b1a11ad4274f5797984e401b89d4f7",
       "version_major": 2,
       "version_minor": 0
      },
      "text/plain": [
       "  0%|          | 0/27843 [00:00<?, ?it/s]"
      ]
     },
     "metadata": {},
     "output_type": "display_data"
    },
    {
     "data": {
      "application/vnd.jupyter.widget-view+json": {
       "model_id": "6b3f1c00b6b240e1ba4913a3936d52bc",
       "version_major": 2,
       "version_minor": 0
      },
      "text/plain": [
       "  0%|          | 0/27843 [00:00<?, ?it/s]"
      ]
     },
     "metadata": {},
     "output_type": "display_data"
    },
    {
     "data": {
      "application/vnd.jupyter.widget-view+json": {
       "model_id": "e9eef65e72344ebea187f58b5c227585",
       "version_major": 2,
       "version_minor": 0
      },
      "text/plain": [
       "  0%|          | 0/27843 [00:00<?, ?it/s]"
      ]
     },
     "metadata": {},
     "output_type": "display_data"
    },
    {
     "data": {
      "application/vnd.jupyter.widget-view+json": {
       "model_id": "4365c06fb1044f7d83e9c06b3b16f9c5",
       "version_major": 2,
       "version_minor": 0
      },
      "text/plain": [
       "  0%|          | 0/27843 [00:00<?, ?it/s]"
      ]
     },
     "metadata": {},
     "output_type": "display_data"
    },
    {
     "data": {
      "application/vnd.jupyter.widget-view+json": {
       "model_id": "4d5e29ac7e194cbd91c741e316f33ed4",
       "version_major": 2,
       "version_minor": 0
      },
      "text/plain": [
       "  0%|          | 0/27843 [00:00<?, ?it/s]"
      ]
     },
     "metadata": {},
     "output_type": "display_data"
    },
    {
     "data": {
      "application/vnd.jupyter.widget-view+json": {
       "model_id": "035426ce9a9e4c3f864acef762511a68",
       "version_major": 2,
       "version_minor": 0
      },
      "text/plain": [
       "  0%|          | 0/27843 [00:00<?, ?it/s]"
      ]
     },
     "metadata": {},
     "output_type": "display_data"
    },
    {
     "data": {
      "application/vnd.jupyter.widget-view+json": {
       "model_id": "2c158b66b7fe4465a2d8338274c4fc3c",
       "version_major": 2,
       "version_minor": 0
      },
      "text/plain": [
       "  0%|          | 0/27843 [00:00<?, ?it/s]"
      ]
     },
     "metadata": {},
     "output_type": "display_data"
    },
    {
     "data": {
      "application/vnd.jupyter.widget-view+json": {
       "model_id": "95b65ebd841e4750b6c6d180fb1087ff",
       "version_major": 2,
       "version_minor": 0
      },
      "text/plain": [
       "  0%|          | 0/27843 [00:00<?, ?it/s]"
      ]
     },
     "metadata": {},
     "output_type": "display_data"
    },
    {
     "data": {
      "application/vnd.jupyter.widget-view+json": {
       "model_id": "918a89a2ab7e4dca836755f459876314",
       "version_major": 2,
       "version_minor": 0
      },
      "text/plain": [
       "  0%|          | 0/27843 [00:00<?, ?it/s]"
      ]
     },
     "metadata": {},
     "output_type": "display_data"
    },
    {
     "data": {
      "application/vnd.jupyter.widget-view+json": {
       "model_id": "fc95de8f60d547eab240305818acb94d",
       "version_major": 2,
       "version_minor": 0
      },
      "text/plain": [
       "  0%|          | 0/27843 [00:00<?, ?it/s]"
      ]
     },
     "metadata": {},
     "output_type": "display_data"
    },
    {
     "data": {
      "application/vnd.jupyter.widget-view+json": {
       "model_id": "b1f1162ee53d4a3391ba0cbb24fdb54b",
       "version_major": 2,
       "version_minor": 0
      },
      "text/plain": [
       "  0%|          | 0/27843 [00:00<?, ?it/s]"
      ]
     },
     "metadata": {},
     "output_type": "display_data"
    },
    {
     "data": {
      "application/vnd.jupyter.widget-view+json": {
       "model_id": "3125e201b9cb47b0a3795be7aae08725",
       "version_major": 2,
       "version_minor": 0
      },
      "text/plain": [
       "  0%|          | 0/27843 [00:00<?, ?it/s]"
      ]
     },
     "metadata": {},
     "output_type": "display_data"
    },
    {
     "data": {
      "application/vnd.jupyter.widget-view+json": {
       "model_id": "3731b1628977402fa9ecb354f2d5283f",
       "version_major": 2,
       "version_minor": 0
      },
      "text/plain": [
       "  0%|          | 0/27843 [00:00<?, ?it/s]"
      ]
     },
     "metadata": {},
     "output_type": "display_data"
    },
    {
     "data": {
      "application/vnd.jupyter.widget-view+json": {
       "model_id": "726ffee0c60e4220a379262c85c9635f",
       "version_major": 2,
       "version_minor": 0
      },
      "text/plain": [
       "  0%|          | 0/27843 [00:00<?, ?it/s]"
      ]
     },
     "metadata": {},
     "output_type": "display_data"
    },
    {
     "data": {
      "application/vnd.jupyter.widget-view+json": {
       "model_id": "15d252cba93e473eadcd3d165e0eae09",
       "version_major": 2,
       "version_minor": 0
      },
      "text/plain": [
       "  0%|          | 0/27843 [00:00<?, ?it/s]"
      ]
     },
     "metadata": {},
     "output_type": "display_data"
    },
    {
     "data": {
      "application/vnd.jupyter.widget-view+json": {
       "model_id": "75b71fa7fd3e4ccaba8046688f03d3a0",
       "version_major": 2,
       "version_minor": 0
      },
      "text/plain": [
       "  0%|          | 0/27843 [00:00<?, ?it/s]"
      ]
     },
     "metadata": {},
     "output_type": "display_data"
    },
    {
     "data": {
      "application/vnd.jupyter.widget-view+json": {
       "model_id": "80b7ddd9930a4646aa3ecd6068001b93",
       "version_major": 2,
       "version_minor": 0
      },
      "text/plain": [
       "  0%|          | 0/27843 [00:00<?, ?it/s]"
      ]
     },
     "metadata": {},
     "output_type": "display_data"
    },
    {
     "data": {
      "application/vnd.jupyter.widget-view+json": {
       "model_id": "880ed92114f04c0d96d0d63976385698",
       "version_major": 2,
       "version_minor": 0
      },
      "text/plain": [
       "  0%|          | 0/27843 [00:00<?, ?it/s]"
      ]
     },
     "metadata": {},
     "output_type": "display_data"
    },
    {
     "data": {
      "application/vnd.jupyter.widget-view+json": {
       "model_id": "150ab02ac64148cabdb3e258d2c5db6e",
       "version_major": 2,
       "version_minor": 0
      },
      "text/plain": [
       "  0%|          | 0/27843 [00:00<?, ?it/s]"
      ]
     },
     "metadata": {},
     "output_type": "display_data"
    },
    {
     "data": {
      "application/vnd.jupyter.widget-view+json": {
       "model_id": "569a18320b8b4ce4af53efb2158706d7",
       "version_major": 2,
       "version_minor": 0
      },
      "text/plain": [
       "  0%|          | 0/27843 [00:00<?, ?it/s]"
      ]
     },
     "metadata": {},
     "output_type": "display_data"
    },
    {
     "data": {
      "application/vnd.jupyter.widget-view+json": {
       "model_id": "31052325e54544e1968ac41a3ff852b7",
       "version_major": 2,
       "version_minor": 0
      },
      "text/plain": [
       "  0%|          | 0/27843 [00:00<?, ?it/s]"
      ]
     },
     "metadata": {},
     "output_type": "display_data"
    },
    {
     "data": {
      "application/vnd.jupyter.widget-view+json": {
       "model_id": "1e0ab6b1b270453c91a8b034e608b46f",
       "version_major": 2,
       "version_minor": 0
      },
      "text/plain": [
       "  0%|          | 0/27843 [00:00<?, ?it/s]"
      ]
     },
     "metadata": {},
     "output_type": "display_data"
    },
    {
     "data": {
      "application/vnd.jupyter.widget-view+json": {
       "model_id": "a77f4c1263aa4c52b447f11ff6e62b64",
       "version_major": 2,
       "version_minor": 0
      },
      "text/plain": [
       "  0%|          | 0/27843 [00:00<?, ?it/s]"
      ]
     },
     "metadata": {},
     "output_type": "display_data"
    },
    {
     "data": {
      "application/vnd.jupyter.widget-view+json": {
       "model_id": "4bf97f3c6ab14cfba9ee7cb354bcc2a0",
       "version_major": 2,
       "version_minor": 0
      },
      "text/plain": [
       "  0%|          | 0/27843 [00:00<?, ?it/s]"
      ]
     },
     "metadata": {},
     "output_type": "display_data"
    },
    {
     "data": {
      "application/vnd.jupyter.widget-view+json": {
       "model_id": "7a007dfd2d294133ae2818fd13cfe183",
       "version_major": 2,
       "version_minor": 0
      },
      "text/plain": [
       "  0%|          | 0/27843 [00:00<?, ?it/s]"
      ]
     },
     "metadata": {},
     "output_type": "display_data"
    },
    {
     "data": {
      "application/vnd.jupyter.widget-view+json": {
       "model_id": "1e4b1004f16c4912bde637bb67256c0b",
       "version_major": 2,
       "version_minor": 0
      },
      "text/plain": [
       "  0%|          | 0/27843 [00:00<?, ?it/s]"
      ]
     },
     "metadata": {},
     "output_type": "display_data"
    },
    {
     "data": {
      "application/vnd.jupyter.widget-view+json": {
       "model_id": "ce22e19198e04337ba8dffa72f69b42d",
       "version_major": 2,
       "version_minor": 0
      },
      "text/plain": [
       "  0%|          | 0/27843 [00:00<?, ?it/s]"
      ]
     },
     "metadata": {},
     "output_type": "display_data"
    },
    {
     "data": {
      "application/vnd.jupyter.widget-view+json": {
       "model_id": "339db3e170d7423c9b6883e78cc02c46",
       "version_major": 2,
       "version_minor": 0
      },
      "text/plain": [
       "  0%|          | 0/27843 [00:00<?, ?it/s]"
      ]
     },
     "metadata": {},
     "output_type": "display_data"
    }
   ],
   "source": [
    "sents_df1['Sentence2_tokens'] = sents_df1.Sentence2.progress_apply(lambda x:clean(x, stop_words = stop_words))\n",
    "sents_df1['Sentence3_tokens'] = sents_df1.Sentence3.progress_apply(lambda x:clean(x, stop_words = stop_words))\n",
    "sents_df1['Sentence4_tokens'] = sents_df1.Sentence4.progress_apply(lambda x:clean(x, stop_words = stop_words))\n",
    "sents_df1['Sentence5_tokens'] = sents_df1.Sentence5.progress_apply(lambda x:clean(x, stop_words = stop_words))\n",
    "sents_df1['Sentence6_tokens'] = sents_df1.Sentence6.progress_apply(lambda x:clean(x, stop_words = stop_words))\n",
    "sents_df1['Sentence7_tokens'] = sents_df1.Sentence7.progress_apply(lambda x:clean(x, stop_words = stop_words))\n",
    "sents_df1['Sentence8_tokens'] = sents_df1.Sentence8.progress_apply(lambda x:clean(x, stop_words = stop_words))\n",
    "sents_df1['Sentence9_tokens'] = sents_df1.Sentence9.progress_apply(lambda x:clean(x, stop_words = stop_words))\n",
    "sents_df1['Sentence10_tokens'] = sents_df1.Sentence10.progress_apply(lambda x:clean(x, stop_words = stop_words))\n",
    "sents_df1['Sentence11_tokens'] = sents_df1.Sentence11.progress_apply(lambda x:clean(x, stop_words = stop_words))\n",
    "sents_df1['Sentence12_tokens'] = sents_df1.Sentence12.progress_apply(lambda x:clean(x, stop_words = stop_words))\n",
    "sents_df1['Sentence13_tokens'] = sents_df1.Sentence13.progress_apply(lambda x:clean(x, stop_words = stop_words))\n",
    "sents_df1['Sentence14_tokens'] = sents_df1.Sentence14.progress_apply(lambda x:clean(x, stop_words = stop_words))\n",
    "sents_df1['Sentence15_tokens'] = sents_df1.Sentence15.progress_apply(lambda x:clean(x, stop_words = stop_words))\n",
    "sents_df1['Sentence16_tokens'] = sents_df1.Sentence16.progress_apply(lambda x:clean(x, stop_words = stop_words))\n",
    "sents_df1['Sentence17_tokens'] = sents_df1.Sentence17.progress_apply(lambda x:clean(x, stop_words = stop_words))\n",
    "sents_df1['Sentence18_tokens'] = sents_df1.Sentence18.progress_apply(lambda x:clean(x, stop_words = stop_words))\n",
    "sents_df1['Sentence19_tokens'] = sents_df1.Sentence19.progress_apply(lambda x:clean(x, stop_words = stop_words))\n",
    "sents_df1['Sentence20_tokens'] = sents_df1.Sentence20.progress_apply(lambda x:clean(x, stop_words = stop_words))\n",
    "sents_df1['Sentence21_tokens'] = sents_df1.Sentence21.progress_apply(lambda x:clean(x, stop_words = stop_words))\n",
    "sents_df1['Sentence22_tokens'] = sents_df1.Sentence22.progress_apply(lambda x:clean(x, stop_words = stop_words))\n",
    "sents_df1['Sentence23_tokens'] = sents_df1.Sentence23.progress_apply(lambda x:clean(x, stop_words = stop_words))\n",
    "sents_df1['Sentence24_tokens'] = sents_df1.Sentence24.progress_apply(lambda x:clean(x, stop_words = stop_words))\n",
    "sents_df1['Sentence25_tokens'] = sents_df1.Sentence25.progress_apply(lambda x:clean(x, stop_words = stop_words))\n",
    "sents_df1['Sentence26_tokens'] = sents_df1.Sentence26.progress_apply(lambda x:clean(x, stop_words = stop_words))\n",
    "sents_df1['Sentence27_tokens'] = sents_df1.Sentence27.progress_apply(lambda x:clean(x, stop_words = stop_words))\n",
    "sents_df1['Sentence28_tokens'] = sents_df1.Sentence28.progress_apply(lambda x:clean(x, stop_words = stop_words))\n",
    "sents_df1['Sentence29_tokens'] = sents_df1.Sentence29.progress_apply(lambda x:clean(x, stop_words = stop_words))\n",
    "sents_df1['Sentence30_tokens'] = sents_df1.Sentence30.progress_apply(lambda x:clean(x, stop_words = stop_words))"
   ]
  },
  {
   "cell_type": "code",
   "execution_count": 18,
   "id": "276d3e39",
   "metadata": {},
   "outputs": [],
   "source": [
    "with open ('./sents_df1.pickle', 'wb') as handle:\n",
    "    pickle.dump(sents_df1, handle)"
   ]
  },
  {
   "cell_type": "markdown",
   "id": "148296b6",
   "metadata": {},
   "source": [
    "### combine feature list from top nouns, adjective, and ngram pharses. "
   ]
  },
  {
   "cell_type": "code",
   "execution_count": 21,
   "id": "b27b9fe7",
   "metadata": {},
   "outputs": [],
   "source": [
    "keep_indexes = [6, 7, 8, 21, 23, 24, 26, 29, 30, 33, 35, 38, 68, 70, 75] #8? \n",
    "df1_dict['cleaned_bi_pmi2'].iloc[keep_indexes] # feature list 1\n",
    "feature_lst1 = df1_dict['cleaned_bi_pmi2'].iloc[keep_indexes]['bigram'].tolist()"
   ]
  },
  {
   "cell_type": "code",
   "execution_count": 22,
   "id": "e50a5fc8",
   "metadata": {},
   "outputs": [],
   "source": [
    "keep_indexes = [4, 8, 15, 28, 32, 38, 39, 65, 75, 76, 119] \n",
    "df1_dict['cleaned_bi_freq2'].iloc[keep_indexes]\n",
    "feature_lst2 = df1_dict['cleaned_bi_freq2'].iloc[keep_indexes]['bigram'].tolist()"
   ]
  },
  {
   "cell_type": "code",
   "execution_count": 23,
   "id": "4ddbe289",
   "metadata": {},
   "outputs": [],
   "source": [
    "retain_indexes = [47, 48, 53, 78]\n",
    "feature_lst3 = df1_dict['cleaned_tri_pmi2'].iloc[retain_indexes]['trigram'].tolist()"
   ]
  },
  {
   "cell_type": "code",
   "execution_count": 24,
   "id": "f2937ba6",
   "metadata": {},
   "outputs": [],
   "source": [
    "df1_dict['cleaned_tri_freq2'] = df1_dict['cleaned_tri_freq2'].reset_index(drop = True)\n",
    "retain_indexes = [27, 17, 33, 34, 39, 41]\n",
    "feature_lst4 = df1_dict['cleaned_tri_freq2'].iloc[retain_indexes]['trigram'].tolist()"
   ]
  },
  {
   "cell_type": "code",
   "execution_count": 25,
   "id": "30df4340",
   "metadata": {},
   "outputs": [],
   "source": [
    "[t[0] for t in df1_dict['noun_tokens']]\n",
    "\n",
    "feature_lst5 =  \\\n",
    "['brand',\n",
    " 'flavor',\n",
    " 'price',\n",
    " 'ingredient',\n",
    " 'quality',\n",
    " 'chicken',\n",
    " 'order',\n",
    " 'variety',\n",
    " 'grain',\n",
    " 'meat',\n",
    " 'smell',\n",
    " 'formula',\n",
    " 'treat',\n",
    " 'taste',\n",
    " 'wellness',\n",
    " 'health',\n",
    "# 'weight',\n",
    " 'pack',\n",
    " 'protein',\n",
    " 'tuna',\n",
    " 'science',\n",
    " 'balance',\n",
    " 'cost',\n",
    " 'size',\n",
    " 'friskie', #fresh\n",
    " 'corn',\n",
    " 'money',\n",
    " 'turkey',\n",
    " 'salmon',\n",
    " 'amount',\n",
    " 'byproduct',\n",
    " 'beef',\n",
    " 'ship',\n",
    " 'care',\n",
    " 'choice',\n",
    " 'contain',\n",
    " 'rice',\n",
    " 'nutrition',\n",
    " 'vitamin',\n",
    " 'gravy',\n",
    " 'chunk',\n",
    " 'prescription',\n",
    " 'waste']"
   ]
  },
  {
   "cell_type": "code",
   "execution_count": 26,
   "id": "53436fad",
   "metadata": {},
   "outputs": [],
   "source": [
    "[t[0] for t in df1_dict['adj_tokens']]\n",
    "\n",
    "feature_lst6 = ['healthy',\n",
    " 'expensive',\n",
    " 'natural',\n",
    " 'different',\n",
    " 'cheap',\n",
    " 'fish',\n",
    " 'several',\n",
    " 'kibble',\n",
    " 'ingredient',\n",
    " 'gravy',\n",
    " 'organic',\n",
    " 'fresh',\n",
    " 'grainfree',\n",
    " 'salmon',\n",
    " 'nutritional',\n",
    "'diabetic',\n",
    " 'vegetable']"
   ]
  },
  {
   "cell_type": "code",
   "execution_count": 27,
   "id": "bc95dea9",
   "metadata": {},
   "outputs": [],
   "source": [
    "feature_lst = feature_lst1 +feature_lst2 + feature_lst3 + feature_lst4 + feature_lst5 + feature_lst6"
   ]
  },
  {
   "cell_type": "code",
   "execution_count": 28,
   "id": "95898bf8",
   "metadata": {},
   "outputs": [],
   "source": [
    "total_features = [\n",
    " 'amount',\n",
    " #'balance',\n",
    " 'beef',\n",
    " #'brand',\n",
    " 'break bank',\n",
    " 'byproduct',\n",
    " 'calcium carbonate',\n",
    " # 'calcium iodate', #?????????????????\n",
    " 'cheap',\n",
    " 'chicken',\n",
    " #'choice',\n",
    " 'choline chloride',\n",
    "# 'chunk',\n",
    " #'balanced nutrition',\n",
    " 'corn',\n",
    " 'cost',\n",
    "# 'deliver front door',\n",
    "# 'diabetic',\n",
    " 'different flavor',\n",
    " 'diversity flavor choose',\n",
    " 'expensive',\n",
    " 'fatty acids',\n",
    " 'ferrous sulfate',\n",
    " 'fish',\n",
    " 'flavor',\n",
    " 'folic acid',\n",
    " 'formula',\n",
    "#  'fresh',\n",
    " #'friske',\n",
    " 'grain',\n",
    " 'gravy',\n",
    " 'health',\n",
    " 'ingredient',\n",
    " 'kibble',\n",
    " 'low carb', #adj + noun\n",
    " 'meat',\n",
    " 'money',\n",
    "#  'natural',\n",
    "#  'natural balance',\n",
    " 'nutrition',\n",
    " 'ocean whitefish', #noun + noun\n",
    "# 'order',\n",
    " 'organic',\n",
    " 'pack',\n",
    " 'powdered cellulose',\n",
    "#  'prescription',\n",
    " 'price',\n",
    " 'protein',\n",
    " 'pyridoxine hydrochloride',\n",
    " 'quality',\n",
    "  'rice',\n",
    " 'salmon',\n",
    " 'save money',\n",
    " 'several',\n",
    "# 'ship',\n",
    "#  'size',\n",
    "#  'smell',\n",
    " 'sodium bisulfate',\n",
    " 'sodium bisulfite',\n",
    " 'subscribe save',\n",
    " 'subscribe save option',\n",
    " 'subscribe save program',\n",
    " 'taste',\n",
    " 'taste wild',\n",
    " 'thiamine mononitrate',\n",
    "# 'treat',\n",
    " 'tuna',\n",
    " 'turkey',\n",
    " 'variety',\n",
    " 'variety pack',\n",
    " 'vegetable',\n",
    " 'vitamin',\n",
    " 'vitamin b supplement',\n",
    " 'vitamin e supplement',\n",
    " 'vitamin nutrient mineral',\n",
    " 'waste money',\n",
    "# 'wellness',\n",
    " 'zinc oxide',\n",
    " 'zinc sulfate'\n",
    "]"
   ]
  },
  {
   "cell_type": "code",
   "execution_count": 29,
   "id": "e843c6eb",
   "metadata": {},
   "outputs": [],
   "source": [
    "updated_feature_lst = []\n",
    "for w in total_features:\n",
    "    if len(w.split()) == 2:\n",
    "        updated_w = (w.split()[0], w.split()[1])\n",
    "        updated_feature_lst.append(updated_w)\n",
    "    if len(w.split()) == 3:\n",
    "        updated_w = (w.split()[0], w.split()[1], w.split()[2])\n",
    "        updated_feature_lst.append(updated_w)\n",
    "    if len(w.split()) == 1:\n",
    "        updated_feature_lst.append(w)"
   ]
  },
  {
   "cell_type": "markdown",
   "id": "98f3c8e7",
   "metadata": {},
   "source": [
    "# step 2: word embeddings"
   ]
  },
  {
   "cell_type": "code",
   "execution_count": 30,
   "id": "61bf614e",
   "metadata": {},
   "outputs": [],
   "source": [
    "# w2v = Word2Vec.load(\"word2vec.model\")\n",
    "\n",
    "def vectorize_features(features):\n",
    "    '''\n",
    "    Embed features to vectors. \n",
    "\n",
    "        Parameters:\n",
    "                features (list): A list of features. \n",
    "\n",
    "        Returns:\n",
    "                arr_dict (dictionary): A dictionary collects {'feature': vector}.\n",
    "    '''\n",
    "    arr_dict = {}\n",
    "    for f in features:\n",
    "        if isinstance(f, tuple) and len(f) == 2:\n",
    "            arr = np.mean(np.array([w2v[f[0]], w2v[f[1]]]), axis=0)\n",
    "            arr_dict[f] = arr\n",
    "        if isinstance(f, tuple) and len(f) == 3:\n",
    "            arr = np.mean(np.array([w2v[f[0]], w2v[f[1]], w2v[f[2]]]), axis=0)\n",
    "            arr_dict[f] = arr\n",
    "        if isinstance(f, str):\n",
    "            arr = w2v[f]\n",
    "            arr_dict[f] = arr\n",
    "\n",
    "    return arr_dict\n",
    "\n",
    "def compare_pairwise_features(features, arr_dict):\n",
    "    '''\n",
    "    Compute similarity of pairwise features. \n",
    "\n",
    "        Parameters:\n",
    "                features (list): A list of features. \n",
    "                arr_dict (dictionary): A dictionary collects {'feature': vector}.\n",
    "\n",
    "        Returns:\n",
    "                similarity_dict (dictionary): A dictionary collects {'(pairwise features in a tuple)': similarity score}.\n",
    "    '''\n",
    "    pairs =list(itertools.combinations(features, 2))\n",
    "    similarity_dict = {}\n",
    "    for p in pairs:\n",
    "        score = dot(arr_dict[p[0]], arr_dict[p[1]])/(norm(arr_dict[p[0]])*norm(arr_dict[p[1]]))\n",
    "        similarity_dict[p] = score\n",
    "    return similarity_dict "
   ]
  },
  {
   "cell_type": "code",
   "execution_count": 31,
   "id": "6ba8c772",
   "metadata": {},
   "outputs": [],
   "source": [
    "vec_features = vectorize_features(updated_feature_lst)\n",
    "dict_features = compare_pairwise_features(updated_feature_lst, vec_features)"
   ]
  },
  {
   "cell_type": "code",
   "execution_count": 32,
   "id": "e5a717f1",
   "metadata": {},
   "outputs": [],
   "source": [
    "for k, v in dict_features.items():\n",
    "    if v < 0:\n",
    "        dict_features[k] = 0"
   ]
  },
  {
   "cell_type": "code",
   "execution_count": 33,
   "id": "b50d6556",
   "metadata": {},
   "outputs": [],
   "source": [
    "# change format of dict keys for visualization\n",
    "update_key1 = [k[0] + ' ' + k[1] if isinstance(k, tuple) and len(k) == 2 else k for k in vec_features.keys()]\n",
    "update_key2 = [k[0] + ' ' + k[1] + ' ' + k[2] if isinstance(k, tuple) and len(k) == 3 else k for k in update_key1]\n",
    "update_key2 = [w.capitalize() for w in update_key2]\n",
    "len(update_key2)\n",
    "vec_features_keys = list(vec_features.keys())\n",
    "vec_features_updated = {}\n",
    "\n",
    "for u, k in zip(update_key2, vec_features_keys):\n",
    "    vec_features_updated[u] = vec_features[k]"
   ]
  },
  {
   "cell_type": "markdown",
   "id": "ef217b1a",
   "metadata": {},
   "source": [
    "# step3: clustering"
   ]
  },
  {
   "cell_type": "code",
   "execution_count": 34,
   "id": "52e1cc1a",
   "metadata": {},
   "outputs": [
    {
     "data": {
      "text/plain": [
       "60"
      ]
     },
     "execution_count": 34,
     "metadata": {},
     "output_type": "execute_result"
    }
   ],
   "source": [
    "len(vec_features_updated)"
   ]
  },
  {
   "cell_type": "code",
   "execution_count": 35,
   "id": "e60b6fcd",
   "metadata": {},
   "outputs": [],
   "source": [
    "Z = linkage(np.array(list(vec_features_updated.values())), 'average') #average and complete are good!!!"
   ]
  },
  {
   "cell_type": "code",
   "execution_count": 36,
   "id": "cf606dcc",
   "metadata": {},
   "outputs": [
    {
     "data": {
      "image/png": "[encoded data removed]",
      "text/plain": [
       "<Figure size 2880x2880 with 1 Axes>"
      ]
     },
     "metadata": {
      "needs_background": "light"
     },
     "output_type": "display_data"
    }
   ],
   "source": [
    "fig = plt.figure(figsize=(40, 40))\n",
    "dn = dendrogram(Z, \n",
    "                orientation='right', \n",
    "                labels=list(vec_features_updated.keys()),\n",
    "                #color_threshold = 4,\n",
    "               leaf_font_size = 28) #cosine distance = 1 - consine similarity\n",
    "plt.show()\n",
    "fig.savefig('dedogram.png')"
   ]
  },
  {
   "cell_type": "markdown",
   "id": "851ac9e3",
   "metadata": {},
   "source": [
    "# step 4: sentence embeddings"
   ]
  },
  {
   "cell_type": "code",
   "execution_count": 37,
   "id": "a6246e91",
   "metadata": {},
   "outputs": [],
   "source": [
    "# further clean tokens in review-level and sentence-level"
   ]
  },
  {
   "cell_type": "code",
   "execution_count": 56,
   "id": "6f8a97f1",
   "metadata": {},
   "outputs": [],
   "source": [
    "cleaned_sens = pd.DataFrame([' '.join(sen) for sen in df1_dict['cleaned_tokens2']], columns = ['cleaned_sens'])"
   ]
  },
  {
   "cell_type": "code",
   "execution_count": 39,
   "id": "0b801ba5",
   "metadata": {},
   "outputs": [],
   "source": [
    "bigrams = [' '.join(x) for x in df1_dict['cleaned_bi_pmi2'][:120].bigram.values]\n",
    "trigrams = [' '.join(x) for x in df1_dict['cleaned_tri_pmi2'][:120].trigram.values]"
   ]
  },
  {
   "cell_type": "code",
   "execution_count": 43,
   "id": "0822656a",
   "metadata": {},
   "outputs": [],
   "source": [
    "def further_clean(tokens, bigrams, trigrams):\n",
    "    sens = re.sub(' +', ' ', ' '.join(tokens))\n",
    "    connected_tokens = replace_ngram(sens, bigrams, trigrams)\n",
    "    return connected_tokens"
   ]
  },
  {
   "cell_type": "code",
   "execution_count": 50,
   "id": "0be00857",
   "metadata": {},
   "outputs": [
    {
     "data": {
      "application/vnd.jupyter.widget-view+json": {
       "model_id": "9b0d066cbde349f3b763cb4394375b8d",
       "version_major": 2,
       "version_minor": 0
      },
      "text/plain": [
       "  0%|          | 0/27843 [00:00<?, ?it/s]"
      ]
     },
     "metadata": {},
     "output_type": "display_data"
    }
   ],
   "source": [
    "cleaned_sens.cleaned_sens = cleaned_sens.cleaned_sens.progress_apply(lambda x: further_clean(x.split(), bigrams, trigrams))"
   ]
  },
  {
   "cell_type": "markdown",
   "id": "4b8dc185",
   "metadata": {},
   "source": [
    "#### sentence level"
   ]
  },
  {
   "cell_type": "code",
   "execution_count": 111,
   "id": "14a2ec2c",
   "metadata": {},
   "outputs": [],
   "source": [
    "with open ('./sents_df1.pickle', 'rb') as handle:\n",
    "    sents_df1 = pickle.load(handle)"
   ]
  },
  {
   "cell_type": "code",
   "execution_count": 112,
   "id": "f84182e0",
   "metadata": {},
   "outputs": [
    {
     "data": {
      "application/vnd.jupyter.widget-view+json": {
       "model_id": "7a3af735a3a94c4ca1f0ab7d22bed04f",
       "version_major": 2,
       "version_minor": 0
      },
      "text/plain": [
       "  0%|          | 0/1670580 [00:00<?, ?it/s]"
      ]
     },
     "metadata": {},
     "output_type": "display_data"
    }
   ],
   "source": [
    "sents_df1 = sents_df1.progress_applymap(lambda x: '' if isinstance(x, list) and len(x) == 0 else x)"
   ]
  },
  {
   "cell_type": "code",
   "execution_count": 113,
   "id": "53111b52",
   "metadata": {},
   "outputs": [
    {
     "data": {
      "application/vnd.jupyter.widget-view+json": {
       "model_id": "a0c95a77b4494525aeb807250cd7bddc",
       "version_major": 2,
       "version_minor": 0
      },
      "text/plain": [
       "  0%|          | 0/835290 [00:00<?, ?it/s]"
      ]
     },
     "metadata": {},
     "output_type": "display_data"
    }
   ],
   "source": [
    "token_columns = [c for c in sents_df1.columns if 'tokens' in c]\n",
    "sents_df1[token_columns] = sents_df1[token_columns].progress_applymap(lambda x: ' '.join(x))"
   ]
  },
  {
   "cell_type": "code",
   "execution_count": 114,
   "id": "e242dd67",
   "metadata": {},
   "outputs": [
    {
     "data": {
      "text/html": [
       "<div>\n",
       "<style scoped>\n",
       "    .dataframe tbody tr th:only-of-type {\n",
       "        vertical-align: middle;\n",
       "    }\n",
       "\n",
       "    .dataframe tbody tr th {\n",
       "        vertical-align: top;\n",
       "    }\n",
       "\n",
       "    .dataframe thead th {\n",
       "        text-align: right;\n",
       "    }\n",
       "</style>\n",
       "<table border=\"1\" class=\"dataframe\">\n",
       "  <thead>\n",
       "    <tr style=\"text-align: right;\">\n",
       "      <th></th>\n",
       "      <th>Sentence1_tokens</th>\n",
       "      <th>Sentence2_tokens</th>\n",
       "      <th>Sentence3_tokens</th>\n",
       "      <th>Sentence4_tokens</th>\n",
       "      <th>Sentence5_tokens</th>\n",
       "      <th>Sentence6_tokens</th>\n",
       "      <th>Sentence7_tokens</th>\n",
       "      <th>Sentence8_tokens</th>\n",
       "      <th>Sentence9_tokens</th>\n",
       "      <th>Sentence10_tokens</th>\n",
       "      <th>...</th>\n",
       "      <th>Sentence21_tokens</th>\n",
       "      <th>Sentence22_tokens</th>\n",
       "      <th>Sentence23_tokens</th>\n",
       "      <th>Sentence24_tokens</th>\n",
       "      <th>Sentence25_tokens</th>\n",
       "      <th>Sentence26_tokens</th>\n",
       "      <th>Sentence27_tokens</th>\n",
       "      <th>Sentence28_tokens</th>\n",
       "      <th>Sentence29_tokens</th>\n",
       "      <th>Sentence30_tokens</th>\n",
       "    </tr>\n",
       "  </thead>\n",
       "  <tbody>\n",
       "    <tr>\n",
       "      <th>0</th>\n",
       "      <td>find sale buy whim kitten omg go nuts hardwood...</td>\n",
       "      <td></td>\n",
       "      <td></td>\n",
       "      <td></td>\n",
       "      <td></td>\n",
       "      <td></td>\n",
       "      <td></td>\n",
       "      <td></td>\n",
       "      <td></td>\n",
       "      <td></td>\n",
       "      <td>...</td>\n",
       "      <td></td>\n",
       "      <td></td>\n",
       "      <td></td>\n",
       "      <td></td>\n",
       "      <td></td>\n",
       "      <td></td>\n",
       "      <td></td>\n",
       "      <td></td>\n",
       "      <td></td>\n",
       "      <td></td>\n",
       "    </tr>\n",
       "    <tr>\n",
       "      <th>1</th>\n",
       "      <td>kittens crazy grow pay attention</td>\n",
       "      <td>play fetch</td>\n",
       "      <td>chase bring back long throw</td>\n",
       "      <td>carry around play</td>\n",
       "      <td>never see crazy</td>\n",
       "      <td>ten usually one end furniture</td>\n",
       "      <td>always seem locate one want one</td>\n",
       "      <td>overpriced piece plastic right worth</td>\n",
       "      <td></td>\n",
       "      <td></td>\n",
       "      <td>...</td>\n",
       "      <td></td>\n",
       "      <td></td>\n",
       "      <td></td>\n",
       "      <td></td>\n",
       "      <td></td>\n",
       "      <td></td>\n",
       "      <td></td>\n",
       "      <td></td>\n",
       "      <td></td>\n",
       "      <td></td>\n",
       "    </tr>\n",
       "    <tr>\n",
       "      <th>2</th>\n",
       "      <td>absolutely love spinner</td>\n",
       "      <td>carry around mouth toss around chase</td>\n",
       "      <td>far favorite</td>\n",
       "      <td></td>\n",
       "      <td></td>\n",
       "      <td></td>\n",
       "      <td></td>\n",
       "      <td></td>\n",
       "      <td></td>\n",
       "      <td></td>\n",
       "      <td>...</td>\n",
       "      <td></td>\n",
       "      <td></td>\n",
       "      <td></td>\n",
       "      <td></td>\n",
       "      <td></td>\n",
       "      <td></td>\n",
       "      <td></td>\n",
       "      <td></td>\n",
       "      <td></td>\n",
       "      <td></td>\n",
       "    </tr>\n",
       "    <tr>\n",
       "      <th>3</th>\n",
       "      <td>tiny make lightweight plastic</td>\n",
       "      <td>give one minute chew ball tip choke</td>\n",
       "      <td>stay away</td>\n",
       "      <td></td>\n",
       "      <td></td>\n",
       "      <td></td>\n",
       "      <td></td>\n",
       "      <td></td>\n",
       "      <td></td>\n",
       "      <td></td>\n",
       "      <td>...</td>\n",
       "      <td></td>\n",
       "      <td></td>\n",
       "      <td></td>\n",
       "      <td></td>\n",
       "      <td></td>\n",
       "      <td></td>\n",
       "      <td></td>\n",
       "      <td></td>\n",
       "      <td></td>\n",
       "      <td></td>\n",
       "    </tr>\n",
       "    <tr>\n",
       "      <th>4</th>\n",
       "      <td>buy think spinner basis hang curious playful p...</td>\n",
       "      <td>make parakeet toy yet vacillate kind string hang</td>\n",
       "      <td>evening spur moment decide stick individually ...</td>\n",
       "      <td>huge hit hour ago stop play</td>\n",
       "      <td>pick move around drop onto dish pick back even...</td>\n",
       "      <td>riot</td>\n",
       "      <td></td>\n",
       "      <td></td>\n",
       "      <td></td>\n",
       "      <td></td>\n",
       "      <td>...</td>\n",
       "      <td></td>\n",
       "      <td></td>\n",
       "      <td></td>\n",
       "      <td></td>\n",
       "      <td></td>\n",
       "      <td></td>\n",
       "      <td></td>\n",
       "      <td></td>\n",
       "      <td></td>\n",
       "      <td></td>\n",
       "    </tr>\n",
       "  </tbody>\n",
       "</table>\n",
       "<p>5 rows × 30 columns</p>\n",
       "</div>"
      ],
      "text/plain": [
       "                                    Sentence1_tokens  \\\n",
       "0  find sale buy whim kitten omg go nuts hardwood...   \n",
       "1                   kittens crazy grow pay attention   \n",
       "2                            absolutely love spinner   \n",
       "3                      tiny make lightweight plastic   \n",
       "4  buy think spinner basis hang curious playful p...   \n",
       "\n",
       "                                   Sentence2_tokens  \\\n",
       "0                                                     \n",
       "1                                        play fetch   \n",
       "2              carry around mouth toss around chase   \n",
       "3               give one minute chew ball tip choke   \n",
       "4  make parakeet toy yet vacillate kind string hang   \n",
       "\n",
       "                                    Sentence3_tokens  \\\n",
       "0                                                      \n",
       "1                        chase bring back long throw   \n",
       "2                                       far favorite   \n",
       "3                                          stay away   \n",
       "4  evening spur moment decide stick individually ...   \n",
       "\n",
       "              Sentence4_tokens  \\\n",
       "0                                \n",
       "1            carry around play   \n",
       "2                                \n",
       "3                                \n",
       "4  huge hit hour ago stop play   \n",
       "\n",
       "                                    Sentence5_tokens  \\\n",
       "0                                                      \n",
       "1                                    never see crazy   \n",
       "2                                                      \n",
       "3                                                      \n",
       "4  pick move around drop onto dish pick back even...   \n",
       "\n",
       "                Sentence6_tokens                 Sentence7_tokens  \\\n",
       "0                                                                   \n",
       "1  ten usually one end furniture  always seem locate one want one   \n",
       "2                                                                   \n",
       "3                                                                   \n",
       "4                           riot                                    \n",
       "\n",
       "                       Sentence8_tokens Sentence9_tokens Sentence10_tokens  \\\n",
       "0                                                                            \n",
       "1  overpriced piece plastic right worth                                      \n",
       "2                                                                            \n",
       "3                                                                            \n",
       "4                                                                            \n",
       "\n",
       "   ... Sentence21_tokens Sentence22_tokens Sentence23_tokens  \\\n",
       "0  ...                                                         \n",
       "1  ...                                                         \n",
       "2  ...                                                         \n",
       "3  ...                                                         \n",
       "4  ...                                                         \n",
       "\n",
       "  Sentence24_tokens Sentence25_tokens Sentence26_tokens Sentence27_tokens  \\\n",
       "0                                                                           \n",
       "1                                                                           \n",
       "2                                                                           \n",
       "3                                                                           \n",
       "4                                                                           \n",
       "\n",
       "  Sentence28_tokens Sentence29_tokens Sentence30_tokens  \n",
       "0                                                        \n",
       "1                                                        \n",
       "2                                                        \n",
       "3                                                        \n",
       "4                                                        \n",
       "\n",
       "[5 rows x 30 columns]"
      ]
     },
     "execution_count": 114,
     "metadata": {},
     "output_type": "execute_result"
    }
   ],
   "source": [
    "sents_df1[token_columns].head()"
   ]
  },
  {
   "cell_type": "code",
   "execution_count": 115,
   "id": "018c65fd",
   "metadata": {},
   "outputs": [
    {
     "data": {
      "application/vnd.jupyter.widget-view+json": {
       "model_id": "bc1f9cfe7eb34a8ca04a41fcdb1503cc",
       "version_major": 2,
       "version_minor": 0
      },
      "text/plain": [
       "  0%|          | 0/835290 [00:00<?, ?it/s]"
      ]
     },
     "metadata": {},
     "output_type": "display_data"
    }
   ],
   "source": [
    "sents_df1[token_columns] = sents_df1[token_columns].progress_applymap(lambda x: further_clean(x.split(), bigrams, trigrams))"
   ]
  },
  {
   "cell_type": "code",
   "execution_count": 117,
   "id": "cc228a27",
   "metadata": {},
   "outputs": [],
   "source": [
    "with open ('./model/cleaned_sents_df1.pickle', 'wb') as handle:\n",
    "    pickle.dump(sents_df1, handle)"
   ]
  },
  {
   "cell_type": "code",
   "execution_count": 158,
   "id": "dbe05f1d",
   "metadata": {},
   "outputs": [],
   "source": [
    "with open ('./model/cleaned_sents_df1.pickle', 'rb') as handle:\n",
    "    sents_df1 = pickle.load(handle)"
   ]
  },
  {
   "cell_type": "markdown",
   "id": "98490ba2",
   "metadata": {},
   "source": [
    "## method 1: sentence2vec - gensim.doc2vec"
   ]
  },
  {
   "cell_type": "code",
   "execution_count": 127,
   "id": "c70b6985",
   "metadata": {},
   "outputs": [],
   "source": [
    "# need to add all sentences to model"
   ]
  },
  {
   "cell_type": "code",
   "execution_count": 125,
   "id": "355ab624",
   "metadata": {},
   "outputs": [],
   "source": [
    "tagged_data = [TaggedDocument(d, [i]) for i, d in enumerate(sents_df1[token_columns]['Sentence1_tokens'].values.tolist())]"
   ]
  },
  {
   "cell_type": "code",
   "execution_count": 126,
   "id": "3ddef831",
   "metadata": {},
   "outputs": [],
   "source": [
    "# model = Doc2Vec(tagged_data, vector_size = 300, window = 2, min_count = 1, epochs = 100) #window = The maximum distance between the current and predicted word within a sentence."
   ]
  },
  {
   "cell_type": "code",
   "execution_count": null,
   "id": "2945d8e3",
   "metadata": {},
   "outputs": [],
   "source": [
    "with open ('./model/gensim_d2v.pickle', 'wb') as handle:\n",
    "    pickle.dump(model, handle)"
   ]
  },
  {
   "cell_type": "code",
   "execution_count": 128,
   "id": "e988d2af",
   "metadata": {},
   "outputs": [],
   "source": [
    "with open ('./model/gensim_d2v.pickle', 'rb') as handle:\n",
    "    model = pickle.load(handle)"
   ]
  },
  {
   "cell_type": "code",
   "execution_count": null,
   "id": "3f3caad1",
   "metadata": {},
   "outputs": [],
   "source": [
    "def cosine(u, v):\n",
    "    return np.dot(u, v) / (np.lisimnalg.norm(u) * np.linalg.norm(v))"
   ]
  },
  {
   "cell_type": "code",
   "execution_count": 132,
   "id": "12632c4f",
   "metadata": {},
   "outputs": [],
   "source": [
    "test_doc_vector = model.infer_vector(sents_df1[token_columns]['Sentence1_tokens'].values.tolist()[0].split())"
   ]
  },
  {
   "cell_type": "code",
   "execution_count": 133,
   "id": "a77399b4",
   "metadata": {},
   "outputs": [
    {
     "data": {
      "text/plain": [
       "(300,)"
      ]
     },
     "execution_count": 133,
     "metadata": {},
     "output_type": "execute_result"
    }
   ],
   "source": [
    "test_doc_vector.shape"
   ]
  },
  {
   "cell_type": "markdown",
   "id": "f9505d09",
   "metadata": {},
   "source": [
    "## testing features: vitamin"
   ]
  },
  {
   "cell_type": "code",
   "execution_count": 134,
   "id": "032ad1d4",
   "metadata": {},
   "outputs": [],
   "source": [
    "test_feature = vec_features['vitamin']\n",
    "test_feature = model.infer_vector(['vitamin'])"
   ]
  },
  {
   "cell_type": "code",
   "execution_count": 136,
   "id": "11b8830d",
   "metadata": {},
   "outputs": [],
   "source": [
    "lst = model.docvecs.most_similar(positive = [test_feature], topn = 20)"
   ]
  },
  {
   "cell_type": "code",
   "execution_count": 137,
   "id": "470e5b29",
   "metadata": {},
   "outputs": [
    {
     "data": {
      "text/plain": [
       "array(['Every cat needs their special vitamins!',\n",
       "       \"...because this is not supplemented w/vits or minerals it can only be used as a 'treat'.\",\n",
       "       'This food almost killed my cat.',\n",
       "       'I had been supplementing dry cat food with canned.',\n",
       "       'i have a 4 year old Maine Coon.',\n",
       "       'My cat first sniffed it, then walked away.',\n",
       "       \"I'm very happy to be able to shop on line for Fancy Feast.\",\n",
       "       'I have an 18 year old cat with a very sensitive stomach.',\n",
       "       'My cat has a sensitive tummy.',\n",
       "       'So, five stars for the food itself.',\n",
       "       'This is a complete and balanced diet.',\n",
       "       'I have 3 glorious Maine Coons.', 'I just love my bravo treats.',\n",
       "       'So convenient having the food delivered to my door!',\n",
       "       'They sniff it and walk away.',\n",
       "       'Our Maine Coons love this dry food.',\n",
       "       'I recently have learned more about how a cat SHOULD eat.',\n",
       "       'Our kitten has a sensitive stomach.',\n",
       "       'I have a 3yr old and 12 yr old cat.',\n",
       "       'My cat was recently diagnosed with diabetes.'], dtype=object)"
      ]
     },
     "execution_count": 137,
     "metadata": {},
     "output_type": "execute_result"
    }
   ],
   "source": [
    "sents_df1.Sentence1[[t[0] for t in lst]].values "
   ]
  },
  {
   "cell_type": "markdown",
   "id": "e53e4ce3",
   "metadata": {},
   "source": [
    "## method2: sentence2vec - BERT "
   ]
  },
  {
   "cell_type": "code",
   "execution_count": 141,
   "id": "67a377e5",
   "metadata": {},
   "outputs": [],
   "source": [
    "from sentence_transformers import SentenceTransformer\n",
    "sbert_model = SentenceTransformer('bert-base-nli-mean-tokens')"
   ]
  },
  {
   "cell_type": "code",
   "execution_count": 146,
   "id": "3424f7ab",
   "metadata": {},
   "outputs": [],
   "source": [
    "sentence_embeddings = sbert_model.encode(sents_df1.Sentence1.values.tolist()) #feed into whole sentences - need to feed to whole corpus"
   ]
  },
  {
   "cell_type": "code",
   "execution_count": 149,
   "id": "02f1bc8f",
   "metadata": {},
   "outputs": [],
   "source": [
    "with open ('./model/sentence_embeddings.pickle', 'wb') as handle:\n",
    "    pickle.dump(sentence_embeddings, handle)"
   ]
  },
  {
   "cell_type": "code",
   "execution_count": 151,
   "id": "032e6c24",
   "metadata": {},
   "outputs": [],
   "source": [
    "# with open ('./model/sentence_embeddings.pickle', 'rb') as handle:\n",
    "#     sentence_embeddings = pickle.load(handle)"
   ]
  },
  {
   "cell_type": "markdown",
   "id": "3ab7e0ba",
   "metadata": {},
   "source": [
    "## testing features: value of money"
   ]
  },
  {
   "cell_type": "code",
   "execution_count": 152,
   "id": "44532d61",
   "metadata": {},
   "outputs": [],
   "source": [
    "feature_vec2 = sbert_model.encode('save money')"
   ]
  },
  {
   "cell_type": "code",
   "execution_count": null,
   "id": "a39d378c",
   "metadata": {},
   "outputs": [],
   "source": [
    "# due to the computation, dont rerun them now\n",
    "# sim_dict2 = {}\n",
    "# for idx, sent in enumerate(sents_df1.Sentence1.values.tolist()):\n",
    "#   sim = cosine(feature_vec2, sbert_model.encode([sent])[0])\n",
    "#   sim_dict2[idx] = sim"
   ]
  },
  {
   "cell_type": "code",
   "execution_count": null,
   "id": "758ffc8b",
   "metadata": {},
   "outputs": [],
   "source": [
    "# sents_df1.Sentence1[list({k for k, v in sim_dict2.items() if v > 0.8})]"
   ]
  },
  {
   "cell_type": "code",
   "execution_count": 225,
   "id": "a9a726da",
   "metadata": {},
   "outputs": [],
   "source": [
    "def cosine(u, v):\n",
    "    return np.dot(u, v) / (np.linalg.norm(u) * np.linalg.norm(v))"
   ]
  },
  {
   "cell_type": "markdown",
   "id": "ce374407",
   "metadata": {},
   "source": [
    "## Step 5: sentiment scoring"
   ]
  },
  {
   "cell_type": "code",
   "execution_count": 159,
   "id": "21815178",
   "metadata": {},
   "outputs": [],
   "source": [
    "sentence_columns = [c for c in sents_df1.columns if not 'tokens' in c]"
   ]
  },
  {
   "cell_type": "code",
   "execution_count": 161,
   "id": "11ba4c7a",
   "metadata": {},
   "outputs": [
    {
     "name": "stdout",
     "output_type": "stream",
     "text": [
      "Sentence1\n",
      "Sentence2\n",
      "Sentence3\n",
      "Sentence4\n",
      "Sentence5\n",
      "Sentence6\n",
      "Sentence7\n",
      "Sentence8\n",
      "Sentence9\n",
      "Sentence10\n",
      "Sentence11\n",
      "Sentence12\n",
      "Sentence13\n",
      "Sentence14\n",
      "Sentence15\n",
      "Sentence16\n",
      "Sentence17\n",
      "Sentence18\n",
      "Sentence19\n",
      "Sentence20\n",
      "Sentence21\n",
      "Sentence22\n",
      "Sentence23\n",
      "Sentence24\n",
      "Sentence25\n",
      "Sentence26\n",
      "Sentence27\n",
      "Sentence28\n",
      "Sentence29\n",
      "Sentence30\n"
     ]
    }
   ],
   "source": [
    "for col in sents_df1[sentence_columns].columns: #need to expand to whole sentences\n",
    "    print(col)\n",
    "    new_col = col + '_sentiment'\n",
    "    sents_df1[new_col] = sents_df1[col].astype(str).apply(sid.polarity_scores)\n",
    "    sents_df1[new_col] = sents_df1[new_col].apply(lambda x: x['compound'])"
   ]
  },
  {
   "cell_type": "code",
   "execution_count": 162,
   "id": "4506af54",
   "metadata": {},
   "outputs": [],
   "source": [
    "sentiment_columns = [c for c in sents_df1.columns if 'sentiment' in c]"
   ]
  },
  {
   "cell_type": "code",
   "execution_count": 166,
   "id": "da681a1e",
   "metadata": {},
   "outputs": [
    {
     "name": "stdout",
     "output_type": "stream",
     "text": [
      "Sentence1_sentiment\n",
      "Sentence2_sentiment\n",
      "Sentence3_sentiment\n",
      "Sentence4_sentiment\n",
      "Sentence5_sentiment\n",
      "Sentence6_sentiment\n",
      "Sentence7_sentiment\n",
      "Sentence8_sentiment\n",
      "Sentence9_sentiment\n",
      "Sentence10_sentiment\n",
      "Sentence11_sentiment\n",
      "Sentence12_sentiment\n",
      "Sentence13_sentiment\n",
      "Sentence14_sentiment\n",
      "Sentence15_sentiment\n",
      "Sentence16_sentiment\n",
      "Sentence17_sentiment\n",
      "Sentence18_sentiment\n",
      "Sentence19_sentiment\n",
      "Sentence20_sentiment\n",
      "Sentence21_sentiment\n",
      "Sentence22_sentiment\n",
      "Sentence23_sentiment\n",
      "Sentence24_sentiment\n",
      "Sentence25_sentiment\n",
      "Sentence26_sentiment\n",
      "Sentence27_sentiment\n",
      "Sentence28_sentiment\n",
      "Sentence29_sentiment\n",
      "Sentence30_sentiment\n"
     ]
    }
   ],
   "source": [
    "scaler = MinMaxScaler(feature_range=(1,5))\n",
    "\n",
    "for col in sents_df1[sentiment_columns].columns: #need to expand to whole sentences\n",
    "    print(col)\n",
    "    a = scaler.fit_transform(sents_df1[col].values.reshape(-1, 1))\n",
    "    col_name = col + '_scaled'\n",
    "    sents_df1[col_name] = a"
   ]
  },
  {
   "cell_type": "markdown",
   "id": "3df00224",
   "metadata": {},
   "source": [
    "## Step 6: link sentence to product attributes, and aggregate the sentiment scoring (selected products for demo)"
   ]
  },
  {
   "cell_type": "code",
   "execution_count": 168,
   "id": "f40adbb9",
   "metadata": {},
   "outputs": [
    {
     "data": {
      "text/plain": [
       "Index(['Unnamed: 0', 'reviewerID', 'asin', 'reviewerName', 'helpful',\n",
       "       'reviewText', 'overall', 'summary', 'unixReviewTime', 'reviewTime',\n",
       "       'related', 'title', 'price', 'salesRank', 'imUrl', 'brand',\n",
       "       'categories', 'description', 'category_1', 'category_2', 'category_3',\n",
       "       'category_4', 'category_5'],\n",
       "      dtype='object')"
      ]
     },
     "execution_count": 168,
     "metadata": {},
     "output_type": "execute_result"
    }
   ],
   "source": [
    "df1.columns #asin"
   ]
  },
  {
   "cell_type": "code",
   "execution_count": 197,
   "id": "0cb30932",
   "metadata": {},
   "outputs": [],
   "source": [
    "df1 = df1.reset_index(drop = True)"
   ]
  },
  {
   "cell_type": "code",
   "execution_count": 198,
   "id": "5b7b8bd4",
   "metadata": {},
   "outputs": [],
   "source": [
    "sents_df1['asin'] = df1['asin']\n",
    "sents_df1['rating'] = df1['overall']"
   ]
  },
  {
   "cell_type": "code",
   "execution_count": 200,
   "id": "150ebb5a",
   "metadata": {},
   "outputs": [
    {
     "data": {
      "text/html": [
       "<div>\n",
       "<style scoped>\n",
       "    .dataframe tbody tr th:only-of-type {\n",
       "        vertical-align: middle;\n",
       "    }\n",
       "\n",
       "    .dataframe tbody tr th {\n",
       "        vertical-align: top;\n",
       "    }\n",
       "\n",
       "    .dataframe thead th {\n",
       "        text-align: right;\n",
       "    }\n",
       "</style>\n",
       "<table border=\"1\" class=\"dataframe\">\n",
       "  <thead>\n",
       "    <tr style=\"text-align: right;\">\n",
       "      <th></th>\n",
       "      <th>asin</th>\n",
       "      <th>num_reviews</th>\n",
       "      <th>rating</th>\n",
       "    </tr>\n",
       "  </thead>\n",
       "  <tbody>\n",
       "    <tr>\n",
       "      <th>599</th>\n",
       "      <td>B0012KB46Q</td>\n",
       "      <td>640</td>\n",
       "      <td>4.542187</td>\n",
       "    </tr>\n",
       "    <tr>\n",
       "      <th>914</th>\n",
       "      <td>B001TLY70S</td>\n",
       "      <td>356</td>\n",
       "      <td>4.132022</td>\n",
       "    </tr>\n",
       "    <tr>\n",
       "      <th>1103</th>\n",
       "      <td>B002CJAOJY</td>\n",
       "      <td>292</td>\n",
       "      <td>4.116438</td>\n",
       "    </tr>\n",
       "    <tr>\n",
       "      <th>389</th>\n",
       "      <td>B000O2APH2</td>\n",
       "      <td>285</td>\n",
       "      <td>3.996491</td>\n",
       "    </tr>\n",
       "    <tr>\n",
       "      <th>468</th>\n",
       "      <td>B000VK4K3W</td>\n",
       "      <td>268</td>\n",
       "      <td>3.992537</td>\n",
       "    </tr>\n",
       "    <tr>\n",
       "      <th>674</th>\n",
       "      <td>B001709GF2</td>\n",
       "      <td>251</td>\n",
       "      <td>4.235060</td>\n",
       "    </tr>\n",
       "    <tr>\n",
       "      <th>911</th>\n",
       "      <td>B001STX13U</td>\n",
       "      <td>249</td>\n",
       "      <td>4.550201</td>\n",
       "    </tr>\n",
       "    <tr>\n",
       "      <th>732</th>\n",
       "      <td>B0018CJYCO</td>\n",
       "      <td>236</td>\n",
       "      <td>4.483051</td>\n",
       "    </tr>\n",
       "    <tr>\n",
       "      <th>504</th>\n",
       "      <td>B000WFKWDI</td>\n",
       "      <td>230</td>\n",
       "      <td>4.056522</td>\n",
       "    </tr>\n",
       "    <tr>\n",
       "      <th>320</th>\n",
       "      <td>B000HBF3HC</td>\n",
       "      <td>208</td>\n",
       "      <td>4.471154</td>\n",
       "    </tr>\n",
       "    <tr>\n",
       "      <th>1873</th>\n",
       "      <td>B005OB3E30</td>\n",
       "      <td>206</td>\n",
       "      <td>4.470874</td>\n",
       "    </tr>\n",
       "    <tr>\n",
       "      <th>585</th>\n",
       "      <td>B0010B6IFY</td>\n",
       "      <td>189</td>\n",
       "      <td>4.444444</td>\n",
       "    </tr>\n",
       "    <tr>\n",
       "      <th>565</th>\n",
       "      <td>B000XS6RJW</td>\n",
       "      <td>186</td>\n",
       "      <td>4.478495</td>\n",
       "    </tr>\n",
       "    <tr>\n",
       "      <th>614</th>\n",
       "      <td>B0012KCVAE</td>\n",
       "      <td>186</td>\n",
       "      <td>4.553763</td>\n",
       "    </tr>\n",
       "    <tr>\n",
       "      <th>1792</th>\n",
       "      <td>B005FGPXDS</td>\n",
       "      <td>174</td>\n",
       "      <td>4.195402</td>\n",
       "    </tr>\n",
       "    <tr>\n",
       "      <th>204</th>\n",
       "      <td>B0006345PW</td>\n",
       "      <td>173</td>\n",
       "      <td>4.635838</td>\n",
       "    </tr>\n",
       "    <tr>\n",
       "      <th>1438</th>\n",
       "      <td>B0048Z755Q</td>\n",
       "      <td>165</td>\n",
       "      <td>4.018182</td>\n",
       "    </tr>\n",
       "    <tr>\n",
       "      <th>241</th>\n",
       "      <td>B0009JOX2S</td>\n",
       "      <td>164</td>\n",
       "      <td>4.682927</td>\n",
       "    </tr>\n",
       "    <tr>\n",
       "      <th>598</th>\n",
       "      <td>B0012KB466</td>\n",
       "      <td>156</td>\n",
       "      <td>4.141026</td>\n",
       "    </tr>\n",
       "    <tr>\n",
       "      <th>92</th>\n",
       "      <td>B0000CEPDP</td>\n",
       "      <td>155</td>\n",
       "      <td>3.954839</td>\n",
       "    </tr>\n",
       "  </tbody>\n",
       "</table>\n",
       "</div>"
      ],
      "text/plain": [
       "            asin  num_reviews    rating\n",
       "599   B0012KB46Q          640  4.542187\n",
       "914   B001TLY70S          356  4.132022\n",
       "1103  B002CJAOJY          292  4.116438\n",
       "389   B000O2APH2          285  3.996491\n",
       "468   B000VK4K3W          268  3.992537\n",
       "674   B001709GF2          251  4.235060\n",
       "911   B001STX13U          249  4.550201\n",
       "732   B0018CJYCO          236  4.483051\n",
       "504   B000WFKWDI          230  4.056522\n",
       "320   B000HBF3HC          208  4.471154\n",
       "1873  B005OB3E30          206  4.470874\n",
       "585   B0010B6IFY          189  4.444444\n",
       "565   B000XS6RJW          186  4.478495\n",
       "614   B0012KCVAE          186  4.553763\n",
       "1792  B005FGPXDS          174  4.195402\n",
       "204   B0006345PW          173  4.635838\n",
       "1438  B0048Z755Q          165  4.018182\n",
       "241   B0009JOX2S          164  4.682927\n",
       "598   B0012KB466          156  4.141026\n",
       "92    B0000CEPDP          155  3.954839"
      ]
     },
     "execution_count": 200,
     "metadata": {},
     "output_type": "execute_result"
    }
   ],
   "source": [
    "num_reviews = sents_df1.groupby('asin').size()\n",
    "pd.DataFrame(num_reviews).reset_index()\n",
    "avg_ratings = sents_df1.groupby('asin')['rating'].mean()\n",
    "pd.DataFrame(avg_ratings).reset_index()\n",
    "combined = pd.concat([pd.DataFrame(num_reviews).reset_index(), pd.DataFrame(avg_ratings).reset_index(drop = True)], axis = 1)\n",
    "combined.columns = ['asin', 'num_reviews','rating']\n",
    "combined.sort_values(['num_reviews', 'rating'], ascending = [False, True]).head(20)"
   ]
  },
  {
   "cell_type": "markdown",
   "id": "e33e686d",
   "metadata": {},
   "source": [
    "### product 1"
   ]
  },
  {
   "cell_type": "code",
   "execution_count": 201,
   "id": "79d97e30",
   "metadata": {},
   "outputs": [],
   "source": [
    "product1 = sents_df1[sents_df1.asin == 'B002OHOC6A']"
   ]
  },
  {
   "cell_type": "code",
   "execution_count": 256,
   "id": "7b91a928",
   "metadata": {},
   "outputs": [],
   "source": [
    "product1 = product1.reset_index(drop = True)"
   ]
  },
  {
   "cell_type": "code",
   "execution_count": 203,
   "id": "e3a5e1ad",
   "metadata": {},
   "outputs": [
    {
     "data": {
      "text/plain": [
       "{'Give your cat the nutrition he needs every day, in every lifestage. 9Lives Daily Essentials cat food delivers nutrition that helps support healthy heart, clear vision, strong muscles and healthy skin and coat.'}"
      ]
     },
     "execution_count": 203,
     "metadata": {},
     "output_type": "execute_result"
    }
   ],
   "source": [
    "set(df1[df1.asin == 'B002OHOC6A']['description'].tolist())"
   ]
  },
  {
   "cell_type": "code",
   "execution_count": 210,
   "id": "c64d448f",
   "metadata": {},
   "outputs": [
    {
     "data": {
      "text/plain": [
       "3.861111111111111"
      ]
     },
     "execution_count": 210,
     "metadata": {},
     "output_type": "execute_result"
    }
   ],
   "source": [
    "sents_df1[sents_df1.asin == 'B002OHOC6A'].rating.mean()"
   ]
  },
  {
   "cell_type": "code",
   "execution_count": 226,
   "id": "ba346dda",
   "metadata": {},
   "outputs": [],
   "source": [
    "def cosine(u, v):\n",
    "    return np.dot(u, v) / (np.linalg.norm(u) * np.linalg.norm(v))"
   ]
  },
  {
   "cell_type": "code",
   "execution_count": 228,
   "id": "1e89e024",
   "metadata": {},
   "outputs": [
    {
     "data": {
      "application/vnd.jupyter.widget-view+json": {
       "model_id": "8962d620c25f4916996770dfcd84a164",
       "version_major": 2,
       "version_minor": 0
      },
      "text/plain": [
       "  0%|          | 0/36 [00:00<?, ?it/s]"
      ]
     },
     "metadata": {},
     "output_type": "display_data"
    }
   ],
   "source": [
    "sim_dict2 = {}\n",
    "for col in tqdm(product1[sentence_columns]):\n",
    "    for idx, sent in enumerate(product1[col].values.tolist()):\n",
    "        key_nme = col + '_' + str(idx) \n",
    "        sim = cosine(feature_vec2, sbert_model.encode([sent])[0])\n",
    "        sim_dict2[key_nme] = sim"
   ]
  },
  {
   "cell_type": "code",
   "execution_count": 230,
   "id": "4c361afa",
   "metadata": {},
   "outputs": [],
   "source": [
    "sorted_sim_dict = {k: v for k, v in sorted(sim_dict2.items(), key=lambda item: item[1], reverse=True)}"
   ]
  },
  {
   "cell_type": "code",
   "execution_count": 242,
   "id": "30a48628",
   "metadata": {},
   "outputs": [],
   "source": [
    "returned_lst = list({(k.split('_')[0], k.split('_')[1]) for k, v in sim_dict2.items() if v > 0.6})"
   ]
  },
  {
   "cell_type": "code",
   "execution_count": 263,
   "id": "ad8a9e58",
   "metadata": {},
   "outputs": [
    {
     "name": "stdout",
     "output_type": "stream",
     "text": [
      "Great product to buy.\n",
      "I liked the value size of the bag.\n",
      "But the price ended up going up and it ended up being cheaper just getting it at the store.\n",
      "I figure it's all pretty decent so why not save a little money...\n",
      "I was looking for something cheap so I guess you get what you pay for.\n",
      "That's pretty much all you expect.\n",
      "As always, shipping was quick, packaged well.\n",
      "In my opinion, it's the best.\n",
      "Can always find better deal if you chose to look.\n",
      "For the money it is a great product.\n",
      "Thought i was getting good deal, but that's that.\n",
      "This product is fantastic.\n",
      "We like to purchase the larger sized bag, as it's cheaper than smaller bags.\n",
      "Its a good product.\n",
      "And the colors pattern was cute.\n",
      "It's one of the better brands out there.\n"
     ]
    }
   ],
   "source": [
    "for idx, vle in enumerate(returned_lst):\n",
    "    print(product1.iloc[int(vle[1])][vle[0]])"
   ]
  },
  {
   "cell_type": "code",
   "execution_count": 268,
   "id": "114438ad",
   "metadata": {},
   "outputs": [
    {
     "data": {
      "text/plain": [
       "3.757054523574148"
      ]
     },
     "execution_count": 268,
     "metadata": {},
     "output_type": "execute_result"
    }
   ],
   "source": [
    "np.mean([product1.iloc[int(vle[1])][vle[0] + '_sentiment_scaled'] for idx, vle in enumerate(returned_lst)])"
   ]
  }
 ],
 "metadata": {
  "kernelspec": {
   "display_name": "Python 3 (ipykernel)",
   "language": "python",
   "name": "python3"
  },
  "language_info": {
   "codemirror_mode": {
    "name": "ipython",
    "version": 3
   },
   "file_extension": ".py",
   "mimetype": "text/x-python",
   "name": "python",
   "nbconvert_exporter": "python",
   "pygments_lexer": "ipython3",
   "version": "3.9.7"
  }
 },
 "nbformat": 4,
 "nbformat_minor": 5
}
