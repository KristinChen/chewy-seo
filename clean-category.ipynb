{
 "cells": [
  {
   "cell_type": "code",
   "execution_count": 1,
   "id": "de6a2c01",
   "metadata": {},
   "outputs": [],
   "source": [
    "import pandas as pd\n",
    "import gzip\n",
    "# Gensim\n",
    "import gensim\n",
    "import gensim.corpora as corpora\n",
    "from gensim.utils import simple_preprocess\n",
    "from gensim.models import CoherenceModel\n",
    "# import nltk\n",
    "# nltk.download('wordnet')\n",
    "from nltk.corpus import stopwords\n",
    "from nltk.stem.wordnet import WordNetLemmatizer\n",
    "import string\n",
    "import spacy\n",
    "import pyLDAvis #python library for interactive topic model visualization\n",
    "# import pyLDAvis.gensim\n",
    "import matplotlib.pyplot as plt\n",
    "\n",
    "import logging\n",
    "logging.basicConfig(format='%(asctime)s : %(levelname)s : %(message)s', level=logging.ERROR)\n",
    "\n",
    "\n",
    "import warnings\n",
    "warnings.filterwarnings(\"ignore\",category=DeprecationWarning)"
   ]
  },
  {
   "cell_type": "code",
   "execution_count": 2,
   "id": "dae8e342",
   "metadata": {},
   "outputs": [],
   "source": [
    "def parse(path):\n",
    "    g = gzip.open(path, 'rb')\n",
    "    for l in g:\n",
    "        yield eval(l)\n",
    "\n",
    "def getDF(path):\n",
    "    i = 0\n",
    "    df = {}\n",
    "    for d in parse(path):\n",
    "        df[i] = d\n",
    "        i += 1\n",
    "    return pd.DataFrame.from_dict(df, orient='index')"
   ]
  },
  {
   "cell_type": "code",
   "execution_count": 3,
   "id": "8a39e042",
   "metadata": {},
   "outputs": [
    {
     "data": {
      "text/plain": [
       "'C:\\\\Users\\\\JiatingChen\\\\Documents\\\\chewy-seo'"
      ]
     },
     "execution_count": 3,
     "metadata": {},
     "output_type": "execute_result"
    }
   ],
   "source": [
    "import os\n",
    "os.getcwd()"
   ]
  },
  {
   "cell_type": "code",
   "execution_count": 4,
   "id": "eb34c8dd",
   "metadata": {},
   "outputs": [],
   "source": [
    "df = getDF('./reviews_Pet_Supplies_5.json.gz') #1,235,316\n",
    "metadata_df = getDF('./meta_Pet_Supplies.json.gz')"
   ]
  },
  {
   "cell_type": "code",
   "execution_count": 5,
   "id": "09a250fb",
   "metadata": {},
   "outputs": [
    {
     "data": {
      "text/html": [
       "<div>\n",
       "<style scoped>\n",
       "    .dataframe tbody tr th:only-of-type {\n",
       "        vertical-align: middle;\n",
       "    }\n",
       "\n",
       "    .dataframe tbody tr th {\n",
       "        vertical-align: top;\n",
       "    }\n",
       "\n",
       "    .dataframe thead th {\n",
       "        text-align: right;\n",
       "    }\n",
       "</style>\n",
       "<table border=\"1\" class=\"dataframe\">\n",
       "  <thead>\n",
       "    <tr style=\"text-align: right;\">\n",
       "      <th></th>\n",
       "      <th>reviewerID</th>\n",
       "      <th>asin</th>\n",
       "      <th>reviewerName</th>\n",
       "      <th>helpful</th>\n",
       "      <th>reviewText</th>\n",
       "      <th>overall</th>\n",
       "      <th>summary</th>\n",
       "      <th>unixReviewTime</th>\n",
       "      <th>reviewTime</th>\n",
       "      <th>related</th>\n",
       "      <th>title</th>\n",
       "      <th>price</th>\n",
       "      <th>salesRank</th>\n",
       "      <th>imUrl</th>\n",
       "      <th>brand</th>\n",
       "      <th>categories</th>\n",
       "      <th>description</th>\n",
       "    </tr>\n",
       "  </thead>\n",
       "  <tbody>\n",
       "    <tr>\n",
       "      <th>0</th>\n",
       "      <td>A14CK12J7C7JRK</td>\n",
       "      <td>1223000893</td>\n",
       "      <td>Consumer in NorCal</td>\n",
       "      <td>[0, 0]</td>\n",
       "      <td>I purchased the Trilogy with hoping my two cat...</td>\n",
       "      <td>3.0</td>\n",
       "      <td>Nice Distraction for my cats for about 15 minutes</td>\n",
       "      <td>1294790400</td>\n",
       "      <td>01 12, 2011</td>\n",
       "      <td>{'also_bought': ['B000G1KNPK', 'B00BYHJ6UI', '...</td>\n",
       "      <td>Cat Sitter DVD Trilogy - Vol 1, Vol 2 and Vol 3</td>\n",
       "      <td>29.5</td>\n",
       "      <td>{'Pet Supplies': 39514}</td>\n",
       "      <td>http://ecx.images-amazon.com/images/I/41yr4bsw...</td>\n",
       "      <td>NaN</td>\n",
       "      <td>[[Pet Supplies, Cats, Toys]]</td>\n",
       "      <td>This combo pack provides you with all 3 Cat Si...</td>\n",
       "    </tr>\n",
       "    <tr>\n",
       "      <th>1</th>\n",
       "      <td>A39QHP5WLON5HV</td>\n",
       "      <td>1223000893</td>\n",
       "      <td>Melodee Placial</td>\n",
       "      <td>[0, 0]</td>\n",
       "      <td>There are usually one or more of my cats watch...</td>\n",
       "      <td>5.0</td>\n",
       "      <td>Entertaining for my cats</td>\n",
       "      <td>1379116800</td>\n",
       "      <td>09 14, 2013</td>\n",
       "      <td>{'also_bought': ['B000G1KNPK', 'B00BYHJ6UI', '...</td>\n",
       "      <td>Cat Sitter DVD Trilogy - Vol 1, Vol 2 and Vol 3</td>\n",
       "      <td>29.5</td>\n",
       "      <td>{'Pet Supplies': 39514}</td>\n",
       "      <td>http://ecx.images-amazon.com/images/I/41yr4bsw...</td>\n",
       "      <td>NaN</td>\n",
       "      <td>[[Pet Supplies, Cats, Toys]]</td>\n",
       "      <td>This combo pack provides you with all 3 Cat Si...</td>\n",
       "    </tr>\n",
       "    <tr>\n",
       "      <th>2</th>\n",
       "      <td>A2CR37UY3VR7BN</td>\n",
       "      <td>1223000893</td>\n",
       "      <td>Michelle Ashbery</td>\n",
       "      <td>[0, 0]</td>\n",
       "      <td>I bought the triliogy and have tested out all ...</td>\n",
       "      <td>4.0</td>\n",
       "      <td>Entertaining</td>\n",
       "      <td>1355875200</td>\n",
       "      <td>12 19, 2012</td>\n",
       "      <td>{'also_bought': ['B000G1KNPK', 'B00BYHJ6UI', '...</td>\n",
       "      <td>Cat Sitter DVD Trilogy - Vol 1, Vol 2 and Vol 3</td>\n",
       "      <td>29.5</td>\n",
       "      <td>{'Pet Supplies': 39514}</td>\n",
       "      <td>http://ecx.images-amazon.com/images/I/41yr4bsw...</td>\n",
       "      <td>NaN</td>\n",
       "      <td>[[Pet Supplies, Cats, Toys]]</td>\n",
       "      <td>This combo pack provides you with all 3 Cat Si...</td>\n",
       "    </tr>\n",
       "    <tr>\n",
       "      <th>3</th>\n",
       "      <td>A2A4COGL9VW2HY</td>\n",
       "      <td>1223000893</td>\n",
       "      <td>Michelle P</td>\n",
       "      <td>[2, 2]</td>\n",
       "      <td>My female kitty could care less about these vi...</td>\n",
       "      <td>4.0</td>\n",
       "      <td>Happy to have them</td>\n",
       "      <td>1305158400</td>\n",
       "      <td>05 12, 2011</td>\n",
       "      <td>{'also_bought': ['B000G1KNPK', 'B00BYHJ6UI', '...</td>\n",
       "      <td>Cat Sitter DVD Trilogy - Vol 1, Vol 2 and Vol 3</td>\n",
       "      <td>29.5</td>\n",
       "      <td>{'Pet Supplies': 39514}</td>\n",
       "      <td>http://ecx.images-amazon.com/images/I/41yr4bsw...</td>\n",
       "      <td>NaN</td>\n",
       "      <td>[[Pet Supplies, Cats, Toys]]</td>\n",
       "      <td>This combo pack provides you with all 3 Cat Si...</td>\n",
       "    </tr>\n",
       "    <tr>\n",
       "      <th>4</th>\n",
       "      <td>A2UBQA85NIGLHA</td>\n",
       "      <td>1223000893</td>\n",
       "      <td>Tim  Isenhour \"Timbo\"</td>\n",
       "      <td>[6, 7]</td>\n",
       "      <td>If I had gotten just volume two, I would have ...</td>\n",
       "      <td>3.0</td>\n",
       "      <td>You really only need vol 2</td>\n",
       "      <td>1330905600</td>\n",
       "      <td>03 5, 2012</td>\n",
       "      <td>{'also_bought': ['B000G1KNPK', 'B00BYHJ6UI', '...</td>\n",
       "      <td>Cat Sitter DVD Trilogy - Vol 1, Vol 2 and Vol 3</td>\n",
       "      <td>29.5</td>\n",
       "      <td>{'Pet Supplies': 39514}</td>\n",
       "      <td>http://ecx.images-amazon.com/images/I/41yr4bsw...</td>\n",
       "      <td>NaN</td>\n",
       "      <td>[[Pet Supplies, Cats, Toys]]</td>\n",
       "      <td>This combo pack provides you with all 3 Cat Si...</td>\n",
       "    </tr>\n",
       "  </tbody>\n",
       "</table>\n",
       "</div>"
      ],
      "text/plain": [
       "       reviewerID        asin           reviewerName helpful  \\\n",
       "0  A14CK12J7C7JRK  1223000893     Consumer in NorCal  [0, 0]   \n",
       "1  A39QHP5WLON5HV  1223000893        Melodee Placial  [0, 0]   \n",
       "2  A2CR37UY3VR7BN  1223000893       Michelle Ashbery  [0, 0]   \n",
       "3  A2A4COGL9VW2HY  1223000893             Michelle P  [2, 2]   \n",
       "4  A2UBQA85NIGLHA  1223000893  Tim  Isenhour \"Timbo\"  [6, 7]   \n",
       "\n",
       "                                          reviewText  overall  \\\n",
       "0  I purchased the Trilogy with hoping my two cat...      3.0   \n",
       "1  There are usually one or more of my cats watch...      5.0   \n",
       "2  I bought the triliogy and have tested out all ...      4.0   \n",
       "3  My female kitty could care less about these vi...      4.0   \n",
       "4  If I had gotten just volume two, I would have ...      3.0   \n",
       "\n",
       "                                             summary  unixReviewTime  \\\n",
       "0  Nice Distraction for my cats for about 15 minutes      1294790400   \n",
       "1                           Entertaining for my cats      1379116800   \n",
       "2                                       Entertaining      1355875200   \n",
       "3                                 Happy to have them      1305158400   \n",
       "4                         You really only need vol 2      1330905600   \n",
       "\n",
       "    reviewTime                                            related  \\\n",
       "0  01 12, 2011  {'also_bought': ['B000G1KNPK', 'B00BYHJ6UI', '...   \n",
       "1  09 14, 2013  {'also_bought': ['B000G1KNPK', 'B00BYHJ6UI', '...   \n",
       "2  12 19, 2012  {'also_bought': ['B000G1KNPK', 'B00BYHJ6UI', '...   \n",
       "3  05 12, 2011  {'also_bought': ['B000G1KNPK', 'B00BYHJ6UI', '...   \n",
       "4   03 5, 2012  {'also_bought': ['B000G1KNPK', 'B00BYHJ6UI', '...   \n",
       "\n",
       "                                             title  price  \\\n",
       "0  Cat Sitter DVD Trilogy - Vol 1, Vol 2 and Vol 3   29.5   \n",
       "1  Cat Sitter DVD Trilogy - Vol 1, Vol 2 and Vol 3   29.5   \n",
       "2  Cat Sitter DVD Trilogy - Vol 1, Vol 2 and Vol 3   29.5   \n",
       "3  Cat Sitter DVD Trilogy - Vol 1, Vol 2 and Vol 3   29.5   \n",
       "4  Cat Sitter DVD Trilogy - Vol 1, Vol 2 and Vol 3   29.5   \n",
       "\n",
       "                 salesRank                                              imUrl  \\\n",
       "0  {'Pet Supplies': 39514}  http://ecx.images-amazon.com/images/I/41yr4bsw...   \n",
       "1  {'Pet Supplies': 39514}  http://ecx.images-amazon.com/images/I/41yr4bsw...   \n",
       "2  {'Pet Supplies': 39514}  http://ecx.images-amazon.com/images/I/41yr4bsw...   \n",
       "3  {'Pet Supplies': 39514}  http://ecx.images-amazon.com/images/I/41yr4bsw...   \n",
       "4  {'Pet Supplies': 39514}  http://ecx.images-amazon.com/images/I/41yr4bsw...   \n",
       "\n",
       "  brand                    categories  \\\n",
       "0   NaN  [[Pet Supplies, Cats, Toys]]   \n",
       "1   NaN  [[Pet Supplies, Cats, Toys]]   \n",
       "2   NaN  [[Pet Supplies, Cats, Toys]]   \n",
       "3   NaN  [[Pet Supplies, Cats, Toys]]   \n",
       "4   NaN  [[Pet Supplies, Cats, Toys]]   \n",
       "\n",
       "                                         description  \n",
       "0  This combo pack provides you with all 3 Cat Si...  \n",
       "1  This combo pack provides you with all 3 Cat Si...  \n",
       "2  This combo pack provides you with all 3 Cat Si...  \n",
       "3  This combo pack provides you with all 3 Cat Si...  \n",
       "4  This combo pack provides you with all 3 Cat Si...  "
      ]
     },
     "execution_count": 5,
     "metadata": {},
     "output_type": "execute_result"
    }
   ],
   "source": [
    "merged_df = pd.merge(df, metadata_df, on = 'asin', how = 'left')\n",
    "merged_df.head()"
   ]
  },
  {
   "cell_type": "code",
   "execution_count": 6,
   "id": "76aee443",
   "metadata": {},
   "outputs": [],
   "source": [
    "cate_leng = []\n",
    "for i, item in merged_df.iterrows():\n",
    "    cate_leng.append(len(item['categories'][0]))"
   ]
  },
  {
   "cell_type": "code",
   "execution_count": 7,
   "id": "597255fd",
   "metadata": {},
   "outputs": [],
   "source": [
    "merged_df['category_len'] = cate_leng"
   ]
  },
  {
   "cell_type": "code",
   "execution_count": 8,
   "id": "b5b0ffe5",
   "metadata": {},
   "outputs": [
    {
     "data": {
      "text/plain": [
       "(5, 1)"
      ]
     },
     "execution_count": 8,
     "metadata": {},
     "output_type": "execute_result"
    }
   ],
   "source": [
    "merged_df['category_len'].max(), merged_df['category_len'].min()"
   ]
  },
  {
   "cell_type": "code",
   "execution_count": 10,
   "id": "376d1099",
   "metadata": {},
   "outputs": [],
   "source": [
    "merged_df['category_1'] = ''\n",
    "merged_df['category_2'] = ''\n",
    "merged_df['category_3'] = ''\n",
    "merged_df['category_4'] = ''\n",
    "merged_df['category_5'] = ''\n",
    "\n",
    "for i, item in merged_df.iterrows():\n",
    "    if item['category_len'] >= 1:\n",
    "        merged_df['category_1'].iloc[i] = item['categories'][0][0]\n",
    "    if item['category_len'] >= 2:\n",
    "        merged_df['category_2'].iloc[i] = item['categories'][0][1]\n",
    "    if item['category_len'] >= 3:\n",
    "        merged_df['category_3'].iloc[i] = item['categories'][0][2]\n",
    "    if item['category_len'] >= 4:\n",
    "        merged_df['category_4'].iloc[i] = item['categories'][0][3]\n",
    "    if item['category_len'] >= 5:\n",
    "        merged_df['category_5'].iloc[i] = item['categories'][0][4]"
   ]
  },
  {
   "cell_type": "code",
   "execution_count": 41,
   "id": "cb0a91f1",
   "metadata": {},
   "outputs": [],
   "source": [
    "# merged_df.to_csv('pet_category.csv')"
   ]
  },
  {
   "cell_type": "code",
   "execution_count": 12,
   "id": "5ddf0f01",
   "metadata": {},
   "outputs": [],
   "source": [
    "merged_df = pd.read_csv('./pet_category.csv', index_col = False)"
   ]
  },
  {
   "cell_type": "code",
   "execution_count": 13,
   "id": "9366d6cd",
   "metadata": {},
   "outputs": [
    {
     "data": {
      "text/html": [
       "<div>\n",
       "<style scoped>\n",
       "    .dataframe tbody tr th:only-of-type {\n",
       "        vertical-align: middle;\n",
       "    }\n",
       "\n",
       "    .dataframe tbody tr th {\n",
       "        vertical-align: top;\n",
       "    }\n",
       "\n",
       "    .dataframe thead th {\n",
       "        text-align: right;\n",
       "    }\n",
       "</style>\n",
       "<table border=\"1\" class=\"dataframe\">\n",
       "  <thead>\n",
       "    <tr style=\"text-align: right;\">\n",
       "      <th></th>\n",
       "      <th>Unnamed: 0</th>\n",
       "      <th>reviewerID</th>\n",
       "      <th>asin</th>\n",
       "      <th>reviewerName</th>\n",
       "      <th>helpful</th>\n",
       "      <th>reviewText</th>\n",
       "      <th>overall</th>\n",
       "      <th>summary</th>\n",
       "      <th>unixReviewTime</th>\n",
       "      <th>reviewTime</th>\n",
       "      <th>...</th>\n",
       "      <th>imUrl</th>\n",
       "      <th>brand</th>\n",
       "      <th>categories</th>\n",
       "      <th>description</th>\n",
       "      <th>category_len</th>\n",
       "      <th>category_1</th>\n",
       "      <th>category_2</th>\n",
       "      <th>category_3</th>\n",
       "      <th>category_4</th>\n",
       "      <th>category_5</th>\n",
       "    </tr>\n",
       "  </thead>\n",
       "  <tbody>\n",
       "    <tr>\n",
       "      <th>0</th>\n",
       "      <td>0</td>\n",
       "      <td>A14CK12J7C7JRK</td>\n",
       "      <td>1223000893</td>\n",
       "      <td>Consumer in NorCal</td>\n",
       "      <td>[0, 0]</td>\n",
       "      <td>I purchased the Trilogy with hoping my two cat...</td>\n",
       "      <td>3.0</td>\n",
       "      <td>Nice Distraction for my cats for about 15 minutes</td>\n",
       "      <td>1294790400</td>\n",
       "      <td>01 12, 2011</td>\n",
       "      <td>...</td>\n",
       "      <td>http://ecx.images-amazon.com/images/I/41yr4bsw...</td>\n",
       "      <td>NaN</td>\n",
       "      <td>[['Pet Supplies', 'Cats', 'Toys']]</td>\n",
       "      <td>This combo pack provides you with all 3 Cat Si...</td>\n",
       "      <td>3</td>\n",
       "      <td>Pet Supplies</td>\n",
       "      <td>Cats</td>\n",
       "      <td>Toys</td>\n",
       "      <td>NaN</td>\n",
       "      <td>NaN</td>\n",
       "    </tr>\n",
       "    <tr>\n",
       "      <th>1</th>\n",
       "      <td>1</td>\n",
       "      <td>A39QHP5WLON5HV</td>\n",
       "      <td>1223000893</td>\n",
       "      <td>Melodee Placial</td>\n",
       "      <td>[0, 0]</td>\n",
       "      <td>There are usually one or more of my cats watch...</td>\n",
       "      <td>5.0</td>\n",
       "      <td>Entertaining for my cats</td>\n",
       "      <td>1379116800</td>\n",
       "      <td>09 14, 2013</td>\n",
       "      <td>...</td>\n",
       "      <td>http://ecx.images-amazon.com/images/I/41yr4bsw...</td>\n",
       "      <td>NaN</td>\n",
       "      <td>[['Pet Supplies', 'Cats', 'Toys']]</td>\n",
       "      <td>This combo pack provides you with all 3 Cat Si...</td>\n",
       "      <td>3</td>\n",
       "      <td>Pet Supplies</td>\n",
       "      <td>Cats</td>\n",
       "      <td>Toys</td>\n",
       "      <td>NaN</td>\n",
       "      <td>NaN</td>\n",
       "    </tr>\n",
       "    <tr>\n",
       "      <th>2</th>\n",
       "      <td>2</td>\n",
       "      <td>A2CR37UY3VR7BN</td>\n",
       "      <td>1223000893</td>\n",
       "      <td>Michelle Ashbery</td>\n",
       "      <td>[0, 0]</td>\n",
       "      <td>I bought the triliogy and have tested out all ...</td>\n",
       "      <td>4.0</td>\n",
       "      <td>Entertaining</td>\n",
       "      <td>1355875200</td>\n",
       "      <td>12 19, 2012</td>\n",
       "      <td>...</td>\n",
       "      <td>http://ecx.images-amazon.com/images/I/41yr4bsw...</td>\n",
       "      <td>NaN</td>\n",
       "      <td>[['Pet Supplies', 'Cats', 'Toys']]</td>\n",
       "      <td>This combo pack provides you with all 3 Cat Si...</td>\n",
       "      <td>3</td>\n",
       "      <td>Pet Supplies</td>\n",
       "      <td>Cats</td>\n",
       "      <td>Toys</td>\n",
       "      <td>NaN</td>\n",
       "      <td>NaN</td>\n",
       "    </tr>\n",
       "    <tr>\n",
       "      <th>3</th>\n",
       "      <td>3</td>\n",
       "      <td>A2A4COGL9VW2HY</td>\n",
       "      <td>1223000893</td>\n",
       "      <td>Michelle P</td>\n",
       "      <td>[2, 2]</td>\n",
       "      <td>My female kitty could care less about these vi...</td>\n",
       "      <td>4.0</td>\n",
       "      <td>Happy to have them</td>\n",
       "      <td>1305158400</td>\n",
       "      <td>05 12, 2011</td>\n",
       "      <td>...</td>\n",
       "      <td>http://ecx.images-amazon.com/images/I/41yr4bsw...</td>\n",
       "      <td>NaN</td>\n",
       "      <td>[['Pet Supplies', 'Cats', 'Toys']]</td>\n",
       "      <td>This combo pack provides you with all 3 Cat Si...</td>\n",
       "      <td>3</td>\n",
       "      <td>Pet Supplies</td>\n",
       "      <td>Cats</td>\n",
       "      <td>Toys</td>\n",
       "      <td>NaN</td>\n",
       "      <td>NaN</td>\n",
       "    </tr>\n",
       "    <tr>\n",
       "      <th>4</th>\n",
       "      <td>4</td>\n",
       "      <td>A2UBQA85NIGLHA</td>\n",
       "      <td>1223000893</td>\n",
       "      <td>Tim  Isenhour \"Timbo\"</td>\n",
       "      <td>[6, 7]</td>\n",
       "      <td>If I had gotten just volume two, I would have ...</td>\n",
       "      <td>3.0</td>\n",
       "      <td>You really only need vol 2</td>\n",
       "      <td>1330905600</td>\n",
       "      <td>03 5, 2012</td>\n",
       "      <td>...</td>\n",
       "      <td>http://ecx.images-amazon.com/images/I/41yr4bsw...</td>\n",
       "      <td>NaN</td>\n",
       "      <td>[['Pet Supplies', 'Cats', 'Toys']]</td>\n",
       "      <td>This combo pack provides you with all 3 Cat Si...</td>\n",
       "      <td>3</td>\n",
       "      <td>Pet Supplies</td>\n",
       "      <td>Cats</td>\n",
       "      <td>Toys</td>\n",
       "      <td>NaN</td>\n",
       "      <td>NaN</td>\n",
       "    </tr>\n",
       "  </tbody>\n",
       "</table>\n",
       "<p>5 rows × 24 columns</p>\n",
       "</div>"
      ],
      "text/plain": [
       "   Unnamed: 0      reviewerID        asin           reviewerName helpful  \\\n",
       "0           0  A14CK12J7C7JRK  1223000893     Consumer in NorCal  [0, 0]   \n",
       "1           1  A39QHP5WLON5HV  1223000893        Melodee Placial  [0, 0]   \n",
       "2           2  A2CR37UY3VR7BN  1223000893       Michelle Ashbery  [0, 0]   \n",
       "3           3  A2A4COGL9VW2HY  1223000893             Michelle P  [2, 2]   \n",
       "4           4  A2UBQA85NIGLHA  1223000893  Tim  Isenhour \"Timbo\"  [6, 7]   \n",
       "\n",
       "                                          reviewText  overall  \\\n",
       "0  I purchased the Trilogy with hoping my two cat...      3.0   \n",
       "1  There are usually one or more of my cats watch...      5.0   \n",
       "2  I bought the triliogy and have tested out all ...      4.0   \n",
       "3  My female kitty could care less about these vi...      4.0   \n",
       "4  If I had gotten just volume two, I would have ...      3.0   \n",
       "\n",
       "                                             summary  unixReviewTime  \\\n",
       "0  Nice Distraction for my cats for about 15 minutes      1294790400   \n",
       "1                           Entertaining for my cats      1379116800   \n",
       "2                                       Entertaining      1355875200   \n",
       "3                                 Happy to have them      1305158400   \n",
       "4                         You really only need vol 2      1330905600   \n",
       "\n",
       "    reviewTime  ...                                              imUrl brand  \\\n",
       "0  01 12, 2011  ...  http://ecx.images-amazon.com/images/I/41yr4bsw...   NaN   \n",
       "1  09 14, 2013  ...  http://ecx.images-amazon.com/images/I/41yr4bsw...   NaN   \n",
       "2  12 19, 2012  ...  http://ecx.images-amazon.com/images/I/41yr4bsw...   NaN   \n",
       "3  05 12, 2011  ...  http://ecx.images-amazon.com/images/I/41yr4bsw...   NaN   \n",
       "4   03 5, 2012  ...  http://ecx.images-amazon.com/images/I/41yr4bsw...   NaN   \n",
       "\n",
       "                           categories  \\\n",
       "0  [['Pet Supplies', 'Cats', 'Toys']]   \n",
       "1  [['Pet Supplies', 'Cats', 'Toys']]   \n",
       "2  [['Pet Supplies', 'Cats', 'Toys']]   \n",
       "3  [['Pet Supplies', 'Cats', 'Toys']]   \n",
       "4  [['Pet Supplies', 'Cats', 'Toys']]   \n",
       "\n",
       "                                         description category_len  \\\n",
       "0  This combo pack provides you with all 3 Cat Si...            3   \n",
       "1  This combo pack provides you with all 3 Cat Si...            3   \n",
       "2  This combo pack provides you with all 3 Cat Si...            3   \n",
       "3  This combo pack provides you with all 3 Cat Si...            3   \n",
       "4  This combo pack provides you with all 3 Cat Si...            3   \n",
       "\n",
       "     category_1 category_2 category_3  category_4 category_5  \n",
       "0  Pet Supplies       Cats       Toys         NaN        NaN  \n",
       "1  Pet Supplies       Cats       Toys         NaN        NaN  \n",
       "2  Pet Supplies       Cats       Toys         NaN        NaN  \n",
       "3  Pet Supplies       Cats       Toys         NaN        NaN  \n",
       "4  Pet Supplies       Cats       Toys         NaN        NaN  \n",
       "\n",
       "[5 rows x 24 columns]"
      ]
     },
     "execution_count": 13,
     "metadata": {},
     "output_type": "execute_result"
    }
   ],
   "source": [
    "merged_df.head()"
   ]
  },
  {
   "cell_type": "code",
   "execution_count": 14,
   "id": "c6575932",
   "metadata": {},
   "outputs": [
    {
     "data": {
      "text/plain": [
       "1"
      ]
     },
     "execution_count": 14,
     "metadata": {},
     "output_type": "execute_result"
    }
   ],
   "source": [
    "merged_df['category_1'].nunique()"
   ]
  },
  {
   "cell_type": "code",
   "execution_count": 29,
   "id": "1fbc55d1",
   "metadata": {},
   "outputs": [
    {
     "data": {
      "text/plain": [
       "(157836, 24)"
      ]
     },
     "execution_count": 29,
     "metadata": {},
     "output_type": "execute_result"
    }
   ],
   "source": [
    "merged_df.shape"
   ]
  },
  {
   "cell_type": "code",
   "execution_count": 32,
   "id": "4bcafce9",
   "metadata": {},
   "outputs": [
    {
     "data": {
      "text/plain": [
       "0"
      ]
     },
     "execution_count": 32,
     "metadata": {},
     "output_type": "execute_result"
    }
   ],
   "source": [
    "sum(merged_df['category_1'].isnull()) "
   ]
  },
  {
   "cell_type": "code",
   "execution_count": 41,
   "id": "d0aea3ab",
   "metadata": {},
   "outputs": [
    {
     "data": {
      "text/plain": [
       "(1440, 24)"
      ]
     },
     "execution_count": 41,
     "metadata": {},
     "output_type": "execute_result"
    }
   ],
   "source": [
    "merged_df.loc[merged_df['category_2'].isnull()].shape #1440"
   ]
  },
  {
   "cell_type": "code",
   "execution_count": 28,
   "id": "d0a8e902",
   "metadata": {},
   "outputs": [
    {
     "data": {
      "text/plain": [
       "count     156396\n",
       "unique        18\n",
       "top         Dogs\n",
       "freq       95755\n",
       "Name: category_2, dtype: object"
      ]
     },
     "execution_count": 28,
     "metadata": {},
     "output_type": "execute_result"
    }
   ],
   "source": [
    "merged_df['category_2'].describe()"
   ]
  },
  {
   "cell_type": "code",
   "execution_count": 62,
   "id": "c47c8a21",
   "metadata": {},
   "outputs": [
    {
     "data": {
      "text/plain": [
       "Dogs                                              95755\n",
       "Cats                                              34149\n",
       "Fish & Aquatic Pets                               10459\n",
       "Pet Behavior Center                                4484\n",
       "Small Animals                                      3204\n",
       "Buy $25 Save $5 on Nylabone                        2517\n",
       "Birds                                              1588\n",
       "Pet Supplies: International Shipping Available     1258\n",
       "Hagen                                               841\n",
       "Reptiles & Amphibians                               787\n",
       "Bunny Rabbit Central                                766\n",
       "Horses                                              338\n",
       "Buy $25 Save $5 on Kaytee                           189\n",
       "$15 Off $75 on Midwest Beds                          22\n",
       "Tetra Pond                                           16\n",
       "Pets Best-Selling Halloween Costumes                 11\n",
       "$5 Off $25 Plush Puppies Holiday Toys                 6\n",
       "Flea & Tick Center                                    6\n",
       "Name: category_2, dtype: int64"
      ]
     },
     "execution_count": 62,
     "metadata": {},
     "output_type": "execute_result"
    }
   ],
   "source": [
    "merged_df['category_2'].value_counts()"
   ]
  },
  {
   "cell_type": "code",
   "execution_count": 21,
   "id": "c0d64958",
   "metadata": {},
   "outputs": [
    {
     "data": {
      "image/png": "[encoded data removed]",
      "text/plain": [
       "<Figure size 432x288 with 1 Axes>"
      ]
     },
     "metadata": {
      "needs_background": "light"
     },
     "output_type": "display_data"
    }
   ],
   "source": [
    "plt = merged_df['category_2'].value_counts().plot(kind='bar', rot=60)"
   ]
  },
  {
   "cell_type": "code",
   "execution_count": 57,
   "id": "d40e1cd0",
   "metadata": {},
   "outputs": [
    {
     "data": {
      "text/plain": [
       "Toys                            18997\n",
       "Treats                          14763\n",
       "Health Supplies                 12368\n",
       "Collars, Harnesses & Leashes     8205\n",
       "Grooming                         7964\n",
       "Food                             7865\n",
       "Feeding & Watering Supplies      7160\n",
       "Litter & Housebreaking           5135\n",
       "Carriers & Travel Products       3347\n",
       "Beds & Furniture                 2557\n",
       "Training & Behavior Aids         2426\n",
       "Apparel & Accessories            2202\n",
       "Houses, Kennels & Pens           1868\n",
       "Doors, Gates & Ramps              872\n",
       "Memorials                          26\n",
       "Name: category_3, dtype: int64"
      ]
     },
     "execution_count": 57,
     "metadata": {},
     "output_type": "execute_result"
    }
   ],
   "source": [
    "merged_df.loc[merged_df.category_2 == 'Dogs', 'category_3'].value_counts()"
   ]
  },
  {
   "cell_type": "code",
   "execution_count": 71,
   "id": "c148b6f6",
   "metadata": {},
   "outputs": [
    {
     "data": {
      "text/plain": [
       "Squeak Toys     7220\n",
       "Chew Toys       5459\n",
       "Balls           4454\n",
       "Ropes            813\n",
       "Flying Discs     425\n",
       "Laser Toys        36\n",
       "Name: category_4, dtype: int64"
      ]
     },
     "execution_count": 71,
     "metadata": {},
     "output_type": "execute_result"
    }
   ],
   "source": [
    "merged_df.loc[(merged_df.category_2 == 'Dogs') & (merged_df.category_3 == 'Toys'), 'category_4'].value_counts()"
   ]
  },
  {
   "cell_type": "code",
   "execution_count": 72,
   "id": "c60eb43f",
   "metadata": {},
   "outputs": [
    {
     "data": {
      "text/plain": [
       "Cookies, Biscuits & Snacks    10843\n",
       "Rawhide                        1660\n",
       "Jerky                          1164\n",
       "Bones                           866\n",
       "Animal Ears                     101\n",
       "Hooves                           44\n",
       "Name: category_4, dtype: int64"
      ]
     },
     "execution_count": 72,
     "metadata": {},
     "output_type": "execute_result"
    }
   ],
   "source": [
    "merged_df.loc[(merged_df.category_2 == 'Dogs') & (merged_df.category_3 == 'Treats'), 'category_4'].value_counts()"
   ]
  },
  {
   "cell_type": "code",
   "execution_count": 73,
   "id": "6cd10a84",
   "metadata": {},
   "outputs": [
    {
     "data": {
      "text/plain": [
       "Supplements & Vitamins       5097\n",
       "Flea, Lice & Tick Control    2183\n",
       "Dental Care                  1982\n",
       "Ear Care                      768\n",
       "Relaxants                     597\n",
       "Eye Care                      528\n",
       "Wormers                       287\n",
       "Digestive Remedies            281\n",
       "Recovery Collars & Cones      247\n",
       "Itch Remedies                 207\n",
       "Milk Replacers                 13\n",
       "Thermometers                   13\n",
       "Name: category_4, dtype: int64"
      ]
     },
     "execution_count": 73,
     "metadata": {},
     "output_type": "execute_result"
    }
   ],
   "source": [
    "merged_df.loc[(merged_df.category_2 == 'Dogs') & (merged_df.category_3 == 'Health Supplies'), 'category_4'].value_counts()"
   ]
  },
  {
   "cell_type": "code",
   "execution_count": 60,
   "id": "6572c2a8",
   "metadata": {},
   "outputs": [
    {
     "data": {
      "text/plain": [
       "Pumps & Filters           4216\n",
       "Food                      1051\n",
       "Cleaners                  1020\n",
       "Water Treatments           999\n",
       "Aquariums & Fish Bowls     930\n",
       "Test Kits                  613\n",
       "Aquarium Heaters           549\n",
       "Aquarium Lights            470\n",
       "Health Supplies            279\n",
       "Aquarium Substrate         161\n",
       "Aquarium Hoods              89\n",
       "Hydrometers                 47\n",
       "Automatic Feeders           15\n",
       "Breeding Tanks               5\n",
       "Thermometers                 5\n",
       "Name: category_3, dtype: int64"
      ]
     },
     "execution_count": 60,
     "metadata": {},
     "output_type": "execute_result"
    }
   ],
   "source": [
    "merged_df.loc[merged_df.category_2 == 'Fish & Aquatic Pets', 'category_3'].value_counts()"
   ]
  },
  {
   "cell_type": "code",
   "execution_count": 61,
   "id": "bd377199",
   "metadata": {},
   "outputs": [
    {
     "data": {
      "text/plain": [
       "Houses & Habitats               1154\n",
       "Feeding & Watering Supplies      758\n",
       "Toys                             389\n",
       "Grooming                         268\n",
       "Food                             197\n",
       "Health Supplies                  174\n",
       "Treats                           114\n",
       "Carriers                          70\n",
       "Exercise Wheels                   51\n",
       "Odor & Stain Removers             23\n",
       "Collars, Harnesses & Leashes       6\n",
       "Name: category_3, dtype: int64"
      ]
     },
     "execution_count": 61,
     "metadata": {},
     "output_type": "execute_result"
    }
   ],
   "source": [
    "merged_df.loc[merged_df.category_2 == 'Small Animals', 'category_3'].value_counts()"
   ]
  },
  {
   "cell_type": "code",
   "execution_count": 75,
   "id": "ac9b0eb3",
   "metadata": {},
   "outputs": [
    {
     "data": {
      "text/plain": [
       "Toys                           564\n",
       "Cages & Accessories            425\n",
       "Food                           279\n",
       "Feeding & Watering Supplies    198\n",
       "Treats                         107\n",
       "Health Supplies                 15\n",
       "Name: category_3, dtype: int64"
      ]
     },
     "execution_count": 75,
     "metadata": {},
     "output_type": "execute_result"
    }
   ],
   "source": [
    "merged_df.loc[merged_df.category_2 == 'Birds', 'category_3'].value_counts()"
   ]
  },
  {
   "cell_type": "code",
   "execution_count": 76,
   "id": "ff0b1714",
   "metadata": {},
   "outputs": [
    {
     "data": {
      "text/plain": [
       "All Aquatic & Pond       285\n",
       "Heaters                  154\n",
       "Cat Toys                 104\n",
       "All Reptile               66\n",
       "Bird Treats               49\n",
       "Incandescent Lighting     40\n",
       "Fluorescent Lighting      24\n",
       "Small Animal Housing      22\n",
       "Cat Grooming              19\n",
       "Terrariums/Stands         17\n",
       "Dog Toys                  17\n",
       "Fish Food                 12\n",
       "Small Animal Toys         11\n",
       "Nutrafin                   6\n",
       "Bird Food                  5\n",
       "Reptile Substrates         5\n",
       "Reptile Heating            5\n",
       "Name: category_3, dtype: int64"
      ]
     },
     "execution_count": 76,
     "metadata": {},
     "output_type": "execute_result"
    }
   ],
   "source": [
    "merged_df.loc[merged_df.category_2 == 'Hagen', 'category_3'].value_counts() #? need to recategorize"
   ]
  },
  {
   "cell_type": "code",
   "execution_count": 78,
   "id": "4f69205a",
   "metadata": {},
   "outputs": [
    {
     "data": {
      "text/plain": [
       "Potty Training           3132\n",
       "Pet Proofing              460\n",
       "Dog Training              448\n",
       "Fencing & Containment     321\n",
       "Barking Control           123\n",
       "Name: category_3, dtype: int64"
      ]
     },
     "execution_count": 78,
     "metadata": {},
     "output_type": "execute_result"
    }
   ],
   "source": [
    "merged_df.loc[merged_df.category_2 == 'Pet Behavior Center', 'category_3'].value_counts() "
   ]
  },
  {
   "cell_type": "code",
   "execution_count": 81,
   "id": "4f36dc6b",
   "metadata": {},
   "outputs": [
    {
     "data": {
      "text/plain": [
       "Food                                   183\n",
       "Habitat Lighting                       155\n",
       "Terrarium Heat Lamps & Mats            109\n",
       "Terrarium Covers                       101\n",
       "Terrarium Bedding, Sand & Substrate     91\n",
       "Health Supplies                         59\n",
       "Thermometers                            35\n",
       "Terrarium Bowls                         32\n",
       "Reptile Houses                          14\n",
       "Hygrometers                              8\n",
       "Name: category_3, dtype: int64"
      ]
     },
     "execution_count": 81,
     "metadata": {},
     "output_type": "execute_result"
    }
   ],
   "source": [
    "merged_df.loc[merged_df.category_2 == 'Reptiles & Amphibians', 'category_3'].value_counts() #? need to recategorize"
   ]
  },
  {
   "cell_type": "code",
   "execution_count": 82,
   "id": "a86c224b",
   "metadata": {},
   "outputs": [
    {
     "data": {
      "text/plain": [
       "Food                 352\n",
       "Toys                 173\n",
       "Treats               132\n",
       "Rabbit Hutches        97\n",
       "Houses & Habitats      6\n",
       "Grooming               6\n",
       "Name: category_3, dtype: int64"
      ]
     },
     "execution_count": 82,
     "metadata": {},
     "output_type": "execute_result"
    }
   ],
   "source": [
    "merged_df.loc[merged_df.category_2 == 'Bunny Rabbit Central', 'category_3'].value_counts() #? need to recategorize"
   ]
  },
  {
   "cell_type": "code",
   "execution_count": 83,
   "id": "38363dd9",
   "metadata": {},
   "outputs": [
    {
     "data": {
      "text/plain": [
       "Health Supplies                161\n",
       "Stable Supplies                106\n",
       "Grooming & Bathing Supplies     71\n",
       "Name: category_3, dtype: int64"
      ]
     },
     "execution_count": 83,
     "metadata": {},
     "output_type": "execute_result"
    }
   ],
   "source": [
    "merged_df.loc[merged_df.category_2 == 'Horses', 'category_3'].value_counts() "
   ]
  },
  {
   "cell_type": "code",
   "execution_count": 84,
   "id": "a869cdc0",
   "metadata": {},
   "outputs": [
    {
     "data": {
      "text/plain": [
       "Food    189\n",
       "Name: category_3, dtype: int64"
      ]
     },
     "execution_count": 84,
     "metadata": {},
     "output_type": "execute_result"
    }
   ],
   "source": [
    "merged_df.loc[merged_df.category_2 == 'Buy $25 Save $5 on Kaytee', 'category_3'].value_counts() #a brand"
   ]
  },
  {
   "cell_type": "code",
   "execution_count": 88,
   "id": "2b2b25ec",
   "metadata": {},
   "outputs": [
    {
     "data": {
      "text/plain": [
       "Series([], Name: category_3, dtype: int64)"
      ]
     },
     "execution_count": 88,
     "metadata": {},
     "output_type": "execute_result"
    }
   ],
   "source": [
    "merged_df.loc[merged_df.category_2 == 'Pet Supplies: International Shipping Available', 'category_3'].value_counts() #? need to recategorize"
   ]
  },
  {
   "cell_type": "code",
   "execution_count": 90,
   "id": "0674d101",
   "metadata": {},
   "outputs": [],
   "source": [
    "target_cate_1 = ['Dogs', 'Cats', 'Fish & Aquatic Pets', 'Small Animals']\n",
    "nex_cate_df = pd.DataFrame()\n",
    "for target in target_cate_1: \n",
    "    tmp_df = merged_df.where(merged_df['category_2'] == target).dropna(axis=0, thresh=10)\n",
    "    if len(nex_cate_df) == 0:\n",
    "        nex_cate_df = tmp_df\n",
    "    else:\n",
    "        nex_cate_df = pd.concat([nex_cate_df, tmp_df])"
   ]
  },
  {
   "cell_type": "code",
   "execution_count": 91,
   "id": "3fcadb40",
   "metadata": {},
   "outputs": [
    {
     "data": {
      "text/plain": [
       "(143567, 24)"
      ]
     },
     "execution_count": 91,
     "metadata": {},
     "output_type": "execute_result"
    }
   ],
   "source": [
    "nex_cate_df.shape"
   ]
  },
  {
   "cell_type": "code",
   "execution_count": 96,
   "id": "1aeace37",
   "metadata": {},
   "outputs": [
    {
     "data": {
      "text/plain": [
       "<AxesSubplot:>"
      ]
     },
     "execution_count": 96,
     "metadata": {},
     "output_type": "execute_result"
    },
    {
     "data": {
      "image/png": "[encoded data removed]",
      "text/plain": [
       "<Figure size 432x288 with 1 Axes>"
      ]
     },
     "metadata": {
      "needs_background": "light"
     },
     "output_type": "display_data"
    }
   ],
   "source": [
    "nex_cate_df['category_3'].value_counts().plot(kind='bar')"
   ]
  },
  {
   "cell_type": "code",
   "execution_count": 103,
   "id": "32a37d74",
   "metadata": {},
   "outputs": [],
   "source": [
    "#merged_df.loc[(merged_df.category_2 == 'Dogs') | (merged_df.category_2 == 'Cats')].reset_index(drop = True).to_csv('dogs_cats_data.csv', index = False)"
   ]
  }
 ],
 "metadata": {
  "kernelspec": {
   "display_name": "Python 3 (ipykernel)",
   "language": "python",
   "name": "python3"
  },
  "language_info": {
   "codemirror_mode": {
    "name": "ipython",
    "version": 3
   },
   "file_extension": ".py",
   "mimetype": "text/x-python",
   "name": "python",
   "nbconvert_exporter": "python",
   "pygments_lexer": "ipython3",
   "version": "3.9.7"
  }
 },
 "nbformat": 4,
 "nbformat_minor": 5
}
