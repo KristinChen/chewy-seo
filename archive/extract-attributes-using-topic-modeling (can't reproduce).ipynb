{
 "cells": [
  {
   "cell_type": "code",
   "execution_count": 2,
   "id": "7a2456b5",
   "metadata": {},
   "outputs": [],
   "source": [
    "%matplotlib inline\n",
    "import random\n",
    "random.seed(1234)\n",
    "\n",
    "import pandas as pd\n",
    "import gzip\n",
    "# Gensim\n",
    "import gensim\n",
    "import gensim.corpora as corpora\n",
    "from gensim.utils import simple_preprocess\n",
    "from gensim.models import CoherenceModel\n",
    "# import nltk\n",
    "# nltk.download('wordnet')\n",
    "from nltk.corpus import stopwords\n",
    "from nltk.stem.wordnet import WordNetLemmatizer\n",
    "import string\n",
    "import spacy\n",
    "import matplotlib.pyplot as plt\n",
    "import pyLDAvis #python library for interactive topic model visualization\n",
    "import pyLDAvis.gensim_models\n",
    "pyLDAvis.enable_notebook()\n",
    "spacy.prefer_gpu()\n",
    "nlp = spacy.load(\"en_core_web_sm\")\n",
    "# import logging\n",
    "# logging.basicConfig(format='%(asctime)s : %(levelname)s : %(message)s', level=logging.ERROR)\n",
    "\n",
    "# import warnings\n",
    "# warnings.filterwarnings(\"ignore\",category=DeprecationWarning)\n",
    "\n",
    "import pickle\n",
    "import numpy as np\n",
    "\n",
    "# Sklearn\n",
    "from sklearn.decomposition import LatentDirichletAllocation, TruncatedSVD\n",
    "from sklearn.feature_extraction.text import CountVectorizer, TfidfVectorizer\n",
    "from sklearn.model_selection import GridSearchCV\n",
    "from pprint import pprint\n",
    "\n",
    "# Plotting tools\n",
    "# import pyLDAvis\n",
    "# import pyLDAvis.sklearn\n",
    "# import matplotlib.pyplot as plt\n",
    "%matplotlib inline\n",
    "\n",
    "from tqdm.notebook import tqdm as tqdm\n",
    "tqdm.pandas()\n",
    "\n",
    "# Example for detecting bigrams \n",
    "import math\n",
    "import nltk\n",
    "from collections import defaultdict\n",
    "\n",
    "nlp = spacy.load(\"en_core_web_sm\", disable=['parser', 'ner'])\n",
    "from nltk.probability import FreqDist\n",
    "\n",
    "from gensim.models.ldamulticore import LdaMulticore"
   ]
  },
  {
   "cell_type": "markdown",
   "id": "42d8e864",
   "metadata": {},
   "source": [
    "# read data "
   ]
  },
  {
   "cell_type": "code",
   "execution_count": 25,
   "id": "739791dd",
   "metadata": {},
   "outputs": [],
   "source": [
    "df = pd.read_csv('./recategorized_dogs_cats_data.csv', index_col = False)"
   ]
  },
  {
   "cell_type": "markdown",
   "id": "19d8a7b6",
   "metadata": {},
   "source": [
    "# batch prepare data"
   ]
  },
  {
   "cell_type": "code",
   "execution_count": 27,
   "id": "ecbbfc05",
   "metadata": {
    "scrolled": false
   },
   "outputs": [
    {
     "data": {
      "text/plain": [
       "category_3                   \n",
       "Toys                             7893\n",
       "Food                             5999\n",
       "Beds & Furniture                 5840\n",
       "Litter & Housebreaking           4893\n",
       "Health Supplies                  4294\n",
       "Treats                           2237\n",
       "Grooming                         1150\n",
       "Feeding & Watering Supplies      1093\n",
       "Educational Repellents            225\n",
       "Cat Flaps, Steps, Nets & Pens     217\n",
       "Collars, Harnesses & Leashes      193\n",
       "Carriers & Strollers               88\n",
       "Cages                              19\n",
       "dtype: int64"
      ]
     },
     "execution_count": 27,
     "metadata": {},
     "output_type": "execute_result"
    }
   ],
   "source": [
    "df.loc[df.category_2 == 'Cats', ['category_3']].value_counts()"
   ]
  },
  {
   "cell_type": "code",
   "execution_count": 28,
   "id": "434ce194",
   "metadata": {},
   "outputs": [],
   "source": [
    "df1 = df.loc[(df.category_2 == 'Cats') & (df.category_3 == 'Toys')]\n",
    "df2 = df.loc[(df.category_2 == 'Cats') & (df.category_3 == 'Food')].reset_index(drop = True) \n",
    "df3 = df.loc[(df.category_2 == 'Cats') & (df.category_3 == 'Beds & Furniture')]\n",
    "df4 = df.loc[(df.category_2 == 'Cats') & (df.category_3 == 'Litter & Housebreaking')]\n",
    "df5 = df.loc[(df.category_2 == 'Cats') & (df.category_3 == 'Health Supplies')]\n",
    "df6 = df.loc[(df.category_2 == 'Cats') & (df.category_3 == 'Treats')]\n",
    "df7 = df.loc[(df.category_2 == 'Cats') & (df.category_3 == 'Grooming')]\n",
    "df8 = df.loc[(df.category_2 == 'Cats') & (df.category_3 == 'Feeding & Watering Supplies')]"
   ]
  },
  {
   "cell_type": "code",
   "execution_count": 29,
   "id": "a04bf09a",
   "metadata": {},
   "outputs": [],
   "source": [
    "def sent_to_words(sentences):\n",
    "    '''\n",
    "    Simplify and tokenize strings in an iterable.\n",
    "    \n",
    "            Parameters:\n",
    "                    sentences (iterable): Review strings in a list or as a pandas.series.\n",
    "                    \n",
    "            Returns:\n",
    "                    _ (generator): Simplify review tokens.  \n",
    "    '''\n",
    "    for sentence in sentences:\n",
    "        yield(gensim.utils.simple_preprocess(str(sentence), deacc=True))  # deacc=True removes punctuations\n",
    "\n",
    "def get_bigrams(data_words): \n",
    "    '''\n",
    "    Form bigram.\n",
    "    \n",
    "        Parameters:\n",
    "            data_words (iterable): Review tokens in a list or as a pandas.series.\n",
    "\n",
    "        Returns:\n",
    "           bigram_pmi (data frame): bigram and it's pmi score. \n",
    "    '''\n",
    "    bigram_measures = nltk.collocations.BigramAssocMeasures()\n",
    "    finder = nltk.collocations.BigramCollocationFinder.from_documents(data_words) #data_words_nostops\n",
    "    finder.apply_freq_filter(20)\n",
    "    bigram_scores = finder.score_ngrams(bigram_measures.pmi) \n",
    "    bigram_pmi = pd.DataFrame(bigram_scores)\n",
    "    bigram_pmi.columns = ['bigram', 'pmi']\n",
    "    bigram_pmi.sort_values(by='pmi', axis = 0, ascending = False, inplace = True)\n",
    "    return finder, bigram_measures, bigram_pmi\n",
    "\n",
    "def bigram_filter(bigram):\n",
    "    \"\"\"\n",
    "    Filter bigram. \n",
    "        \n",
    "        Parameters:\n",
    "            bigram (string): a bigram.\n",
    "\n",
    "        Returns:\n",
    "           _ (boolean): decide whether or not to keep the bigram.\n",
    "    \"\"\"\n",
    "    stop_words = stopwords.words('english')   \n",
    "    tag = nltk.pos_tag(bigram)\n",
    "    #if tag[0][1] not in ['JJ', 'NN', 'NNS'] and tag[1][1] not in ['NN', 'NNS']: #we only want adjective + noun\n",
    "    if tag[0][1] not in ['JJ', 'NN'] and tag[1][1] not in ['NN']: #we only want adjective + noun\n",
    "        return False\n",
    "    if bigram[0] in stop_words or bigram[1] in stop_words: \n",
    "        return False\n",
    "    if 'n' in bigram or 't' in bigram:\n",
    "        return False\n",
    "    if 'PRON' in bigram: #we don't want pronoun\n",
    "        return False\n",
    "    if len(bigram[0]) <= 2 or len(bigram[1]) <= 2:\n",
    "        return False\n",
    "    return True\n",
    "\n",
    "def get_trigrams(data_words): \n",
    "    trigram_measures = nltk.collocations.TrigramAssocMeasures()\n",
    "    finder = nltk.collocations.TrigramCollocationFinder.from_documents(data_words) #data_words_nostops\n",
    "    finder.apply_freq_filter(20)\n",
    "    trigram_scores = finder.score_ngrams(trigram_measures.pmi)\n",
    "\n",
    "    trigram_pmi = pd.DataFrame(trigram_scores)\n",
    "    trigram_pmi.columns = ['trigram', 'pmi']\n",
    "    trigram_pmi.sort_values(by='pmi', axis = 0, ascending = False, inplace = True)\n",
    "    return finder, trigram_measures, trigram_pmi\n",
    "\n",
    "def trigram_filter(trigram):\n",
    "    tag = nltk.pos_tag(trigram)\n",
    "    stop_words = stopwords.words('english')\n",
    "    #if tag[0][1] not in ['JJ', 'NN', 'NNS'] and tag[1][1] not in ['NN', 'NNS']: #we only want adjective + noun\n",
    "    if tag[0][1] not in ['JJ', 'NN'] and tag[1][1] not in ['JJ','NN']:\n",
    "        return False\n",
    "    if trigram[0] in stop_words or trigram[-1] in stop_words or trigram[1] in stop_words:\n",
    "        return False\n",
    "    if 'n' in trigram or 't' in trigram:\n",
    "        return False\n",
    "    if 'PRON' in trigram:\n",
    "        return False\n",
    "    if len(trigram[0]) <= 2 or len(trigram[1]) <= 2 and len(trigram[2]) <= 2:\n",
    "        return False\n",
    "    return True \n",
    "\n",
    "def replace_ngram(x, bigrams, trigrams):\n",
    "    '''\n",
    "    Form ngram. \n",
    "        \n",
    "        Parameters:\n",
    "            bigram (string): a bigram.\n",
    "\n",
    "        Returns:\n",
    "           _ (boolean): decide whether or not to keep the bigram.\n",
    "    '''\n",
    "    for gram in trigrams:\n",
    "        x = x.replace(gram, '_'.join(gram.split()))\n",
    "    for gram in bigrams:\n",
    "        x = x.replace(gram, '_'.join(gram.split()))\n",
    "    return x\n",
    "\n",
    "\n",
    "def remove_stopwords(texts, extra_stopwords = []):\n",
    "    '''\n",
    "    Remove stopwords in an iterable (string or tokens).\n",
    "\n",
    "        Parameters:\n",
    "                texts (iterable): Review strings in a list or as a pandas.series.\n",
    "\n",
    "        Returns:\n",
    "                _ (list): Simplify review stirngs without stopwords.  \n",
    "    '''\n",
    "    stop_words = stopwords.words('english') + extra_stopwords\n",
    "    return [[word for word in doc.split() if word not in stop_words] for doc in texts]\n",
    "\n",
    "def lemmatize_skip_ngrams(texts, allowed_postags=['NOUN', 'ADJ', 'VERB', 'ADV']):\n",
    "    '''feed tokens'''\n",
    "    nlp = spacy.load(\"en_core_web_sm\", disable=['parser', 'ner'])\n",
    "    texts_out = []\n",
    "    for sent in texts:\n",
    "        doc = nlp(' '.join(sent)) \n",
    "        if len(allowed_postags) > 0: \n",
    "            returned_doc = []\n",
    "            for token in doc:\n",
    "                if '_' in token.text:\n",
    "                    returned_token = token.text\n",
    "                if token.pos_ in allowed_postags and '_' not in token.text:\n",
    "                    returned_token = token.lemma_\n",
    "                if token.pos_ not in allowed_postags and '_' not in token.text:\n",
    "                    continue\n",
    "                returned_doc.append(returned_token)\n",
    "            texts_out.append(returned_doc)\n",
    "                    \n",
    "        else: \n",
    "            returned_doc = []\n",
    "            for token in doc:\n",
    "                if '_' in token.text:\n",
    "                    returned_token = token.text\n",
    "                else: \n",
    "                    returned_token = token.lemma_\n",
    "                returned_doc.append(returned_token)\n",
    "            texts_out.append(returned_doc)\n",
    "    return texts_out\n",
    "\n",
    "def preprocess_review(reviews, extra_stopwords = ['cat', 'cats'], allowed_postags=[]): \n",
    "    \n",
    "    data_words = list(sent_to_words(tqdm(reviews.tolist())))\n",
    "    bigram_finder, bigram_measures, bigram_pmi = get_bigrams(tqdm(data_words))\n",
    "    trigram_finder, trigram_measures, trigram_pmi = get_trigrams(tqdm(data_words))\n",
    "    filtered_bigram = bigram_pmi[bigram_pmi.progress_apply(lambda bigram:\\\n",
    "                                                  bigram_filter(bigram['bigram'])\\\n",
    "                                                  and bigram.pmi > 5, axis = 1)][:500]\n",
    "\n",
    "    filtered_trigram = trigram_pmi[trigram_pmi.progress_apply(lambda trigram: \\\n",
    "                                                     trigram_filter(trigram['trigram'])\\\n",
    "                                                     and trigram.pmi > 5, axis = 1)][:500]\n",
    "    bigrams = [' '.join(x) for x in filtered_bigram.bigram.values]\n",
    "    trigrams = [' '.join(x) for x in filtered_trigram.trigram.values]\n",
    "    reviews_ngrams = pd.DataFrame([' '.join(sen) for sen in data_words], columns = ['reviewText'])\n",
    "    reviews_ngrams.reviewText = reviews_ngrams.reviewText.map(lambda x: replace_ngram(x, bigrams, trigrams))\n",
    "    cleaned_reviews_ngrams = remove_stopwords(tqdm(reviews_ngrams.reviewText), extra_stopwords = extra_stopwords)\n",
    "    lemmatized_reviews_ngrams = lemmatize_skip_ngrams(tqdm(cleaned_reviews_ngrams), allowed_postags = allowed_postags)\n",
    "    return filtered_bigram, filtered_trigram, lemmatized_reviews_ngrams"
   ]
  },
  {
   "cell_type": "code",
   "execution_count": 30,
   "id": "df4bfbb1",
   "metadata": {},
   "outputs": [
    {
     "data": {
      "text/plain": [
       "(1093, 25)"
      ]
     },
     "execution_count": 30,
     "metadata": {},
     "output_type": "execute_result"
    }
   ],
   "source": [
    "df8.shape"
   ]
  },
  {
   "cell_type": "code",
   "execution_count": 31,
   "id": "bec39038",
   "metadata": {},
   "outputs": [
    {
     "data": {
      "application/vnd.jupyter.widget-view+json": {
       "model_id": "713fbcfbd8704fbf8edbd4d2a651cb17",
       "version_major": 2,
       "version_minor": 0
      },
      "text/plain": [
       "  0%|          | 0/7893 [00:00<?, ?it/s]"
      ]
     },
     "metadata": {},
     "output_type": "display_data"
    },
    {
     "data": {
      "application/vnd.jupyter.widget-view+json": {
       "model_id": "b8100b55737440618878b8df751f692d",
       "version_major": 2,
       "version_minor": 0
      },
      "text/plain": [
       "  0%|          | 0/7893 [00:00<?, ?it/s]"
      ]
     },
     "metadata": {},
     "output_type": "display_data"
    },
    {
     "data": {
      "application/vnd.jupyter.widget-view+json": {
       "model_id": "9bb4f390c3b440a98b976c38ae31afe0",
       "version_major": 2,
       "version_minor": 0
      },
      "text/plain": [
       "  0%|          | 0/7893 [00:00<?, ?it/s]"
      ]
     },
     "metadata": {},
     "output_type": "display_data"
    },
    {
     "data": {
      "application/vnd.jupyter.widget-view+json": {
       "model_id": "1819a46d83f741bab09c83d4f5f813da",
       "version_major": 2,
       "version_minor": 0
      },
      "text/plain": [
       "  0%|          | 0/3745 [00:00<?, ?it/s]"
      ]
     },
     "metadata": {},
     "output_type": "display_data"
    },
    {
     "data": {
      "application/vnd.jupyter.widget-view+json": {
       "model_id": "e484231a832945c2a281f32ad973f8e8",
       "version_major": 2,
       "version_minor": 0
      },
      "text/plain": [
       "  0%|          | 0/1269 [00:00<?, ?it/s]"
      ]
     },
     "metadata": {},
     "output_type": "display_data"
    },
    {
     "data": {
      "application/vnd.jupyter.widget-view+json": {
       "model_id": "7fae68208c1a41b78ea0af508a60055f",
       "version_major": 2,
       "version_minor": 0
      },
      "text/plain": [
       "  0%|          | 0/7893 [00:00<?, ?it/s]"
      ]
     },
     "metadata": {},
     "output_type": "display_data"
    },
    {
     "data": {
      "application/vnd.jupyter.widget-view+json": {
       "model_id": "c693b12558f04acaa7f59d05e5883ce0",
       "version_major": 2,
       "version_minor": 0
      },
      "text/plain": [
       "  0%|          | 0/7893 [00:00<?, ?it/s]"
      ]
     },
     "metadata": {},
     "output_type": "display_data"
    },
    {
     "data": {
      "application/vnd.jupyter.widget-view+json": {
       "model_id": "275a1062a1824d5ea9b8e8164ba0a12b",
       "version_major": 2,
       "version_minor": 0
      },
      "text/plain": [
       "  0%|          | 0/5999 [00:00<?, ?it/s]"
      ]
     },
     "metadata": {},
     "output_type": "display_data"
    },
    {
     "data": {
      "application/vnd.jupyter.widget-view+json": {
       "model_id": "f8587d6093154d2c8d1cce15ba121a08",
       "version_major": 2,
       "version_minor": 0
      },
      "text/plain": [
       "  0%|          | 0/5999 [00:00<?, ?it/s]"
      ]
     },
     "metadata": {},
     "output_type": "display_data"
    },
    {
     "data": {
      "application/vnd.jupyter.widget-view+json": {
       "model_id": "ac93bfb958974e76a60848d8338d0aa2",
       "version_major": 2,
       "version_minor": 0
      },
      "text/plain": [
       "  0%|          | 0/5999 [00:00<?, ?it/s]"
      ]
     },
     "metadata": {},
     "output_type": "display_data"
    },
    {
     "data": {
      "application/vnd.jupyter.widget-view+json": {
       "model_id": "894c4b82c07d4d99b89bc328edeb56ff",
       "version_major": 2,
       "version_minor": 0
      },
      "text/plain": [
       "  0%|          | 0/3561 [00:00<?, ?it/s]"
      ]
     },
     "metadata": {},
     "output_type": "display_data"
    },
    {
     "data": {
      "application/vnd.jupyter.widget-view+json": {
       "model_id": "70b778fdbb7e49ee96faba6ad7bd5524",
       "version_major": 2,
       "version_minor": 0
      },
      "text/plain": [
       "  0%|          | 0/1195 [00:00<?, ?it/s]"
      ]
     },
     "metadata": {},
     "output_type": "display_data"
    },
    {
     "data": {
      "application/vnd.jupyter.widget-view+json": {
       "model_id": "2603b8f5e6b54b7b945ebbddd14ad029",
       "version_major": 2,
       "version_minor": 0
      },
      "text/plain": [
       "  0%|          | 0/5999 [00:00<?, ?it/s]"
      ]
     },
     "metadata": {},
     "output_type": "display_data"
    },
    {
     "data": {
      "application/vnd.jupyter.widget-view+json": {
       "model_id": "e2ccb03646064f7ca9d69b9d1c0204b4",
       "version_major": 2,
       "version_minor": 0
      },
      "text/plain": [
       "  0%|          | 0/5999 [00:00<?, ?it/s]"
      ]
     },
     "metadata": {},
     "output_type": "display_data"
    },
    {
     "data": {
      "application/vnd.jupyter.widget-view+json": {
       "model_id": "6a2429cdf7dd426ca43a04baf0bc31e4",
       "version_major": 2,
       "version_minor": 0
      },
      "text/plain": [
       "  0%|          | 0/5840 [00:00<?, ?it/s]"
      ]
     },
     "metadata": {},
     "output_type": "display_data"
    },
    {
     "data": {
      "application/vnd.jupyter.widget-view+json": {
       "model_id": "876852c42291433285a2f45b6a355351",
       "version_major": 2,
       "version_minor": 0
      },
      "text/plain": [
       "  0%|          | 0/5840 [00:00<?, ?it/s]"
      ]
     },
     "metadata": {},
     "output_type": "display_data"
    },
    {
     "data": {
      "application/vnd.jupyter.widget-view+json": {
       "model_id": "1357866c88f8436892dea1f3347ec2b8",
       "version_major": 2,
       "version_minor": 0
      },
      "text/plain": [
       "  0%|          | 0/5840 [00:00<?, ?it/s]"
      ]
     },
     "metadata": {},
     "output_type": "display_data"
    },
    {
     "data": {
      "application/vnd.jupyter.widget-view+json": {
       "model_id": "7599a489f6124cf4bf55b355a13b1584",
       "version_major": 2,
       "version_minor": 0
      },
      "text/plain": [
       "  0%|          | 0/3445 [00:00<?, ?it/s]"
      ]
     },
     "metadata": {},
     "output_type": "display_data"
    },
    {
     "data": {
      "application/vnd.jupyter.widget-view+json": {
       "model_id": "1d76d2c33f554f97ba30f2e2396e603c",
       "version_major": 2,
       "version_minor": 0
      },
      "text/plain": [
       "  0%|          | 0/1059 [00:00<?, ?it/s]"
      ]
     },
     "metadata": {},
     "output_type": "display_data"
    },
    {
     "data": {
      "application/vnd.jupyter.widget-view+json": {
       "model_id": "6e0af04dbad54caf9c802cec41d8a9a8",
       "version_major": 2,
       "version_minor": 0
      },
      "text/plain": [
       "  0%|          | 0/5840 [00:00<?, ?it/s]"
      ]
     },
     "metadata": {},
     "output_type": "display_data"
    },
    {
     "data": {
      "application/vnd.jupyter.widget-view+json": {
       "model_id": "07a56f15e0e14bea922b92ffbad8a56c",
       "version_major": 2,
       "version_minor": 0
      },
      "text/plain": [
       "  0%|          | 0/5840 [00:00<?, ?it/s]"
      ]
     },
     "metadata": {},
     "output_type": "display_data"
    },
    {
     "data": {
      "application/vnd.jupyter.widget-view+json": {
       "model_id": "1b5f969cb6464702809a69d6ab175bef",
       "version_major": 2,
       "version_minor": 0
      },
      "text/plain": [
       "  0%|          | 0/4893 [00:00<?, ?it/s]"
      ]
     },
     "metadata": {},
     "output_type": "display_data"
    },
    {
     "data": {
      "application/vnd.jupyter.widget-view+json": {
       "model_id": "0b2fee9fe8ad4e77834405f77a407040",
       "version_major": 2,
       "version_minor": 0
      },
      "text/plain": [
       "  0%|          | 0/4893 [00:00<?, ?it/s]"
      ]
     },
     "metadata": {},
     "output_type": "display_data"
    },
    {
     "data": {
      "application/vnd.jupyter.widget-view+json": {
       "model_id": "0cda4872c6fe49238fdccaa1cb80ca58",
       "version_major": 2,
       "version_minor": 0
      },
      "text/plain": [
       "  0%|          | 0/4893 [00:00<?, ?it/s]"
      ]
     },
     "metadata": {},
     "output_type": "display_data"
    },
    {
     "data": {
      "application/vnd.jupyter.widget-view+json": {
       "model_id": "e5bc22ad21664ebdbe17f727fce7538e",
       "version_major": 2,
       "version_minor": 0
      },
      "text/plain": [
       "  0%|          | 0/3742 [00:00<?, ?it/s]"
      ]
     },
     "metadata": {},
     "output_type": "display_data"
    },
    {
     "data": {
      "application/vnd.jupyter.widget-view+json": {
       "model_id": "af7e7ada7db1446a983d5b10167b5e8f",
       "version_major": 2,
       "version_minor": 0
      },
      "text/plain": [
       "  0%|          | 0/1154 [00:00<?, ?it/s]"
      ]
     },
     "metadata": {},
     "output_type": "display_data"
    },
    {
     "data": {
      "application/vnd.jupyter.widget-view+json": {
       "model_id": "1d2ad41b5cf84886add264ef3e3e751c",
       "version_major": 2,
       "version_minor": 0
      },
      "text/plain": [
       "  0%|          | 0/4893 [00:00<?, ?it/s]"
      ]
     },
     "metadata": {},
     "output_type": "display_data"
    },
    {
     "data": {
      "application/vnd.jupyter.widget-view+json": {
       "model_id": "03b264e0297d47308bc58b2b4de2e45e",
       "version_major": 2,
       "version_minor": 0
      },
      "text/plain": [
       "  0%|          | 0/4893 [00:00<?, ?it/s]"
      ]
     },
     "metadata": {},
     "output_type": "display_data"
    },
    {
     "data": {
      "application/vnd.jupyter.widget-view+json": {
       "model_id": "73279f3a6de44381824c7dccc42170ac",
       "version_major": 2,
       "version_minor": 0
      },
      "text/plain": [
       "  0%|          | 0/4294 [00:00<?, ?it/s]"
      ]
     },
     "metadata": {},
     "output_type": "display_data"
    },
    {
     "data": {
      "application/vnd.jupyter.widget-view+json": {
       "model_id": "7fa1cc6a329c4220a177d1de675b8fd2",
       "version_major": 2,
       "version_minor": 0
      },
      "text/plain": [
       "  0%|          | 0/4294 [00:00<?, ?it/s]"
      ]
     },
     "metadata": {},
     "output_type": "display_data"
    },
    {
     "data": {
      "application/vnd.jupyter.widget-view+json": {
       "model_id": "c0b6d0e6af954063955f3be070096310",
       "version_major": 2,
       "version_minor": 0
      },
      "text/plain": [
       "  0%|          | 0/4294 [00:00<?, ?it/s]"
      ]
     },
     "metadata": {},
     "output_type": "display_data"
    },
    {
     "data": {
      "application/vnd.jupyter.widget-view+json": {
       "model_id": "579dd74b06fe4148ad95d427320de8ed",
       "version_major": 2,
       "version_minor": 0
      },
      "text/plain": [
       "  0%|          | 0/2248 [00:00<?, ?it/s]"
      ]
     },
     "metadata": {},
     "output_type": "display_data"
    },
    {
     "data": {
      "application/vnd.jupyter.widget-view+json": {
       "model_id": "ee02290d6b494680badb9c56443f04ad",
       "version_major": 2,
       "version_minor": 0
      },
      "text/plain": [
       "  0%|          | 0/427 [00:00<?, ?it/s]"
      ]
     },
     "metadata": {},
     "output_type": "display_data"
    },
    {
     "data": {
      "application/vnd.jupyter.widget-view+json": {
       "model_id": "590c1faafca34f01b9676177b6c55ca8",
       "version_major": 2,
       "version_minor": 0
      },
      "text/plain": [
       "  0%|          | 0/4294 [00:00<?, ?it/s]"
      ]
     },
     "metadata": {},
     "output_type": "display_data"
    },
    {
     "data": {
      "application/vnd.jupyter.widget-view+json": {
       "model_id": "efd147610d9e48dd961095c486909abd",
       "version_major": 2,
       "version_minor": 0
      },
      "text/plain": [
       "  0%|          | 0/4294 [00:00<?, ?it/s]"
      ]
     },
     "metadata": {},
     "output_type": "display_data"
    },
    {
     "data": {
      "application/vnd.jupyter.widget-view+json": {
       "model_id": "3c63daf8fff04a348e758a95821d452f",
       "version_major": 2,
       "version_minor": 0
      },
      "text/plain": [
       "  0%|          | 0/2237 [00:00<?, ?it/s]"
      ]
     },
     "metadata": {},
     "output_type": "display_data"
    },
    {
     "data": {
      "application/vnd.jupyter.widget-view+json": {
       "model_id": "e5d903230c66482fb143efcb2b8b933c",
       "version_major": 2,
       "version_minor": 0
      },
      "text/plain": [
       "  0%|          | 0/2237 [00:00<?, ?it/s]"
      ]
     },
     "metadata": {},
     "output_type": "display_data"
    },
    {
     "data": {
      "application/vnd.jupyter.widget-view+json": {
       "model_id": "ededd397dbf74bcbbc19f189f46d86ce",
       "version_major": 2,
       "version_minor": 0
      },
      "text/plain": [
       "  0%|          | 0/2237 [00:00<?, ?it/s]"
      ]
     },
     "metadata": {},
     "output_type": "display_data"
    },
    {
     "data": {
      "application/vnd.jupyter.widget-view+json": {
       "model_id": "2987cc345c624126858e7fc984fab78a",
       "version_major": 2,
       "version_minor": 0
      },
      "text/plain": [
       "  0%|          | 0/826 [00:00<?, ?it/s]"
      ]
     },
     "metadata": {},
     "output_type": "display_data"
    },
    {
     "data": {
      "application/vnd.jupyter.widget-view+json": {
       "model_id": "1ecc4a853f014fce8ccd76ff2e5d3477",
       "version_major": 2,
       "version_minor": 0
      },
      "text/plain": [
       "  0%|          | 0/89 [00:00<?, ?it/s]"
      ]
     },
     "metadata": {},
     "output_type": "display_data"
    },
    {
     "data": {
      "application/vnd.jupyter.widget-view+json": {
       "model_id": "ff9bc41f2264444588fca41049413bc0",
       "version_major": 2,
       "version_minor": 0
      },
      "text/plain": [
       "  0%|          | 0/2237 [00:00<?, ?it/s]"
      ]
     },
     "metadata": {},
     "output_type": "display_data"
    },
    {
     "data": {
      "application/vnd.jupyter.widget-view+json": {
       "model_id": "8cf2a2f6494d448996f40ee00f70be55",
       "version_major": 2,
       "version_minor": 0
      },
      "text/plain": [
       "  0%|          | 0/2237 [00:00<?, ?it/s]"
      ]
     },
     "metadata": {},
     "output_type": "display_data"
    },
    {
     "data": {
      "application/vnd.jupyter.widget-view+json": {
       "model_id": "b3c02c4430aa42029797e565f46f49af",
       "version_major": 2,
       "version_minor": 0
      },
      "text/plain": [
       "  0%|          | 0/1150 [00:00<?, ?it/s]"
      ]
     },
     "metadata": {},
     "output_type": "display_data"
    },
    {
     "data": {
      "application/vnd.jupyter.widget-view+json": {
       "model_id": "2d9fbfe69ecf4a8f9d4673250a3feb73",
       "version_major": 2,
       "version_minor": 0
      },
      "text/plain": [
       "  0%|          | 0/1150 [00:00<?, ?it/s]"
      ]
     },
     "metadata": {},
     "output_type": "display_data"
    },
    {
     "data": {
      "application/vnd.jupyter.widget-view+json": {
       "model_id": "76a2bdad3b43410ca41881af6802c53e",
       "version_major": 2,
       "version_minor": 0
      },
      "text/plain": [
       "  0%|          | 0/1150 [00:00<?, ?it/s]"
      ]
     },
     "metadata": {},
     "output_type": "display_data"
    },
    {
     "data": {
      "application/vnd.jupyter.widget-view+json": {
       "model_id": "d6f6bffee4194bca97f7510047c45500",
       "version_major": 2,
       "version_minor": 0
      },
      "text/plain": [
       "  0%|          | 0/502 [00:00<?, ?it/s]"
      ]
     },
     "metadata": {},
     "output_type": "display_data"
    },
    {
     "data": {
      "application/vnd.jupyter.widget-view+json": {
       "model_id": "e54bced41efb450987d9aa09c7f10731",
       "version_major": 2,
       "version_minor": 0
      },
      "text/plain": [
       "  0%|          | 0/39 [00:00<?, ?it/s]"
      ]
     },
     "metadata": {},
     "output_type": "display_data"
    },
    {
     "data": {
      "application/vnd.jupyter.widget-view+json": {
       "model_id": "10fc3c1a596e4e22ab4e66e6fd13a0e9",
       "version_major": 2,
       "version_minor": 0
      },
      "text/plain": [
       "  0%|          | 0/1150 [00:00<?, ?it/s]"
      ]
     },
     "metadata": {},
     "output_type": "display_data"
    },
    {
     "data": {
      "application/vnd.jupyter.widget-view+json": {
       "model_id": "2d561e7bfc7f488dbc137036058667f7",
       "version_major": 2,
       "version_minor": 0
      },
      "text/plain": [
       "  0%|          | 0/1150 [00:00<?, ?it/s]"
      ]
     },
     "metadata": {},
     "output_type": "display_data"
    },
    {
     "data": {
      "application/vnd.jupyter.widget-view+json": {
       "model_id": "c8beedeb0fdd43a0ae89fdadd67ac986",
       "version_major": 2,
       "version_minor": 0
      },
      "text/plain": [
       "  0%|          | 0/1093 [00:00<?, ?it/s]"
      ]
     },
     "metadata": {},
     "output_type": "display_data"
    },
    {
     "data": {
      "application/vnd.jupyter.widget-view+json": {
       "model_id": "99835b263a5c49c49b1ba93b38f1a67c",
       "version_major": 2,
       "version_minor": 0
      },
      "text/plain": [
       "  0%|          | 0/1093 [00:00<?, ?it/s]"
      ]
     },
     "metadata": {},
     "output_type": "display_data"
    },
    {
     "data": {
      "application/vnd.jupyter.widget-view+json": {
       "model_id": "37b6de4f9d014369843b698dc66b4372",
       "version_major": 2,
       "version_minor": 0
      },
      "text/plain": [
       "  0%|          | 0/1093 [00:00<?, ?it/s]"
      ]
     },
     "metadata": {},
     "output_type": "display_data"
    },
    {
     "data": {
      "application/vnd.jupyter.widget-view+json": {
       "model_id": "a8ddc9c51bb444e5b77f0d8b9463d529",
       "version_major": 2,
       "version_minor": 0
      },
      "text/plain": [
       "  0%|          | 0/599 [00:00<?, ?it/s]"
      ]
     },
     "metadata": {},
     "output_type": "display_data"
    },
    {
     "data": {
      "application/vnd.jupyter.widget-view+json": {
       "model_id": "48376a0261bd4986b9b3a1829ec3de9e",
       "version_major": 2,
       "version_minor": 0
      },
      "text/plain": [
       "  0%|          | 0/71 [00:00<?, ?it/s]"
      ]
     },
     "metadata": {},
     "output_type": "display_data"
    },
    {
     "data": {
      "application/vnd.jupyter.widget-view+json": {
       "model_id": "5c04b35982104be5a9456364109bf6f5",
       "version_major": 2,
       "version_minor": 0
      },
      "text/plain": [
       "  0%|          | 0/1093 [00:00<?, ?it/s]"
      ]
     },
     "metadata": {},
     "output_type": "display_data"
    },
    {
     "data": {
      "application/vnd.jupyter.widget-view+json": {
       "model_id": "be194091f46c401aac299e1c8d99980c",
       "version_major": 2,
       "version_minor": 0
      },
      "text/plain": [
       "  0%|          | 0/1093 [00:00<?, ?it/s]"
      ]
     },
     "metadata": {},
     "output_type": "display_data"
    }
   ],
   "source": [
    "cats_toys_bigram, cats_toys_trigram, cats_toys_reviews = preprocess_review(df1.reviewText, extra_stopwords = ['cat', 'cats', 'toy', 'toys'])\n",
    "cats_food_bigram, cats_food_trigram, cats_food_reviews = preprocess_review(df2.reviewText, extra_stopwords = ['cat', 'cats', 'food'])\n",
    "cats_beds_bigram, cats_beds_trigram, cats_beds_reviews = preprocess_review(df3.reviewText, extra_stopwords = ['cat', 'cats', 'bed', 'beds'] )\n",
    "cats_litter_bigram, cats_litter_trigram, cats_litter_reviews = preprocess_review(df4.reviewText, extra_stopwords = ['cat', 'cats', 'litters', 'litter'])\n",
    "cats_health_supplies_bigram, cats_health_supplies_trigram, cats_health_supplies_reviews = preprocess_review(df5.reviewText, extra_stopwords = ['cat', 'cats'])\n",
    "cats_treats_bigram, cats_treats_trigram, cats_treats_reviews = preprocess_review(df6.reviewText, extra_stopwords = ['cat', 'cats', 'treat', 'treats'])\n",
    "cats_grooming_bigram, cats_grooming_trigram, cats_grooming_reviews = preprocess_review(df7.reviewText, extra_stopwords = ['cat', 'cats'])\n",
    "cats_feeding_supplies_bigram, cats_feeding_suppliess_trigram, cats_feeding_supplies_reviews = preprocess_review(df8.reviewText, extra_stopwords = ['cat', 'cats'])"
   ]
  },
  {
   "cell_type": "code",
   "execution_count": 32,
   "id": "402f8b35",
   "metadata": {},
   "outputs": [
    {
     "data": {
      "application/vnd.jupyter.widget-view+json": {
       "model_id": "89a606e3fed24d69a7700eb75b32bd50",
       "version_major": 2,
       "version_minor": 0
      },
      "text/plain": [
       "  0%|          | 0/7893 [00:00<?, ?it/s]"
      ]
     },
     "metadata": {},
     "output_type": "display_data"
    },
    {
     "data": {
      "application/vnd.jupyter.widget-view+json": {
       "model_id": "ac70e9bdf6e3457788b781fedb9768d9",
       "version_major": 2,
       "version_minor": 0
      },
      "text/plain": [
       "  0%|          | 0/7893 [00:00<?, ?it/s]"
      ]
     },
     "metadata": {},
     "output_type": "display_data"
    },
    {
     "data": {
      "application/vnd.jupyter.widget-view+json": {
       "model_id": "ff0b42539f0c4dfcb66024aa0492b222",
       "version_major": 2,
       "version_minor": 0
      },
      "text/plain": [
       "  0%|          | 0/7893 [00:00<?, ?it/s]"
      ]
     },
     "metadata": {},
     "output_type": "display_data"
    },
    {
     "data": {
      "application/vnd.jupyter.widget-view+json": {
       "model_id": "518a6f3eab444b2a9088d652f0dc91d4",
       "version_major": 2,
       "version_minor": 0
      },
      "text/plain": [
       "  0%|          | 0/3745 [00:00<?, ?it/s]"
      ]
     },
     "metadata": {},
     "output_type": "display_data"
    },
    {
     "data": {
      "application/vnd.jupyter.widget-view+json": {
       "model_id": "13bb615e5df14a89b8adc479ce1136fb",
       "version_major": 2,
       "version_minor": 0
      },
      "text/plain": [
       "  0%|          | 0/1269 [00:00<?, ?it/s]"
      ]
     },
     "metadata": {},
     "output_type": "display_data"
    },
    {
     "data": {
      "application/vnd.jupyter.widget-view+json": {
       "model_id": "319a2985e13d4e9fadede2932afb3741",
       "version_major": 2,
       "version_minor": 0
      },
      "text/plain": [
       "  0%|          | 0/7893 [00:00<?, ?it/s]"
      ]
     },
     "metadata": {},
     "output_type": "display_data"
    },
    {
     "data": {
      "application/vnd.jupyter.widget-view+json": {
       "model_id": "9a50d788e9cb469cab5d68bfa95127d4",
       "version_major": 2,
       "version_minor": 0
      },
      "text/plain": [
       "  0%|          | 0/7893 [00:00<?, ?it/s]"
      ]
     },
     "metadata": {},
     "output_type": "display_data"
    },
    {
     "data": {
      "application/vnd.jupyter.widget-view+json": {
       "model_id": "3e798ce82b21465582f03c5afebaff44",
       "version_major": 2,
       "version_minor": 0
      },
      "text/plain": [
       "  0%|          | 0/5999 [00:00<?, ?it/s]"
      ]
     },
     "metadata": {},
     "output_type": "display_data"
    },
    {
     "data": {
      "application/vnd.jupyter.widget-view+json": {
       "model_id": "0dce287273d74744953a253499338e01",
       "version_major": 2,
       "version_minor": 0
      },
      "text/plain": [
       "  0%|          | 0/5999 [00:00<?, ?it/s]"
      ]
     },
     "metadata": {},
     "output_type": "display_data"
    },
    {
     "data": {
      "application/vnd.jupyter.widget-view+json": {
       "model_id": "26235c8f0af14a219c38d7afe7bb525a",
       "version_major": 2,
       "version_minor": 0
      },
      "text/plain": [
       "  0%|          | 0/5999 [00:00<?, ?it/s]"
      ]
     },
     "metadata": {},
     "output_type": "display_data"
    },
    {
     "data": {
      "application/vnd.jupyter.widget-view+json": {
       "model_id": "e409fd40820d4dc1ba48b207e0a06add",
       "version_major": 2,
       "version_minor": 0
      },
      "text/plain": [
       "  0%|          | 0/3561 [00:00<?, ?it/s]"
      ]
     },
     "metadata": {},
     "output_type": "display_data"
    },
    {
     "data": {
      "application/vnd.jupyter.widget-view+json": {
       "model_id": "cb74b86128954050981499b9c3fa4479",
       "version_major": 2,
       "version_minor": 0
      },
      "text/plain": [
       "  0%|          | 0/1195 [00:00<?, ?it/s]"
      ]
     },
     "metadata": {},
     "output_type": "display_data"
    },
    {
     "data": {
      "application/vnd.jupyter.widget-view+json": {
       "model_id": "a42c43e6245a496391053340b202bf74",
       "version_major": 2,
       "version_minor": 0
      },
      "text/plain": [
       "  0%|          | 0/5999 [00:00<?, ?it/s]"
      ]
     },
     "metadata": {},
     "output_type": "display_data"
    },
    {
     "data": {
      "application/vnd.jupyter.widget-view+json": {
       "model_id": "f5ad17e4601f4926bdf80928bbbedec6",
       "version_major": 2,
       "version_minor": 0
      },
      "text/plain": [
       "  0%|          | 0/5999 [00:00<?, ?it/s]"
      ]
     },
     "metadata": {},
     "output_type": "display_data"
    },
    {
     "data": {
      "application/vnd.jupyter.widget-view+json": {
       "model_id": "1d02deb6bacf4212968beac593a99390",
       "version_major": 2,
       "version_minor": 0
      },
      "text/plain": [
       "  0%|          | 0/5840 [00:00<?, ?it/s]"
      ]
     },
     "metadata": {},
     "output_type": "display_data"
    },
    {
     "data": {
      "application/vnd.jupyter.widget-view+json": {
       "model_id": "83287f78a1594748884ab73173df50c6",
       "version_major": 2,
       "version_minor": 0
      },
      "text/plain": [
       "  0%|          | 0/5840 [00:00<?, ?it/s]"
      ]
     },
     "metadata": {},
     "output_type": "display_data"
    },
    {
     "data": {
      "application/vnd.jupyter.widget-view+json": {
       "model_id": "c8c4427e881c4bbcb97c20cc46db2dc7",
       "version_major": 2,
       "version_minor": 0
      },
      "text/plain": [
       "  0%|          | 0/5840 [00:00<?, ?it/s]"
      ]
     },
     "metadata": {},
     "output_type": "display_data"
    },
    {
     "data": {
      "application/vnd.jupyter.widget-view+json": {
       "model_id": "4189b1dbd0e544d19c288662cde594ff",
       "version_major": 2,
       "version_minor": 0
      },
      "text/plain": [
       "  0%|          | 0/3445 [00:00<?, ?it/s]"
      ]
     },
     "metadata": {},
     "output_type": "display_data"
    },
    {
     "data": {
      "application/vnd.jupyter.widget-view+json": {
       "model_id": "2a7ec781ca444120915ce7ea8302eed2",
       "version_major": 2,
       "version_minor": 0
      },
      "text/plain": [
       "  0%|          | 0/1059 [00:00<?, ?it/s]"
      ]
     },
     "metadata": {},
     "output_type": "display_data"
    },
    {
     "data": {
      "application/vnd.jupyter.widget-view+json": {
       "model_id": "7b3277eec41640daba883e6fefe5a739",
       "version_major": 2,
       "version_minor": 0
      },
      "text/plain": [
       "  0%|          | 0/5840 [00:00<?, ?it/s]"
      ]
     },
     "metadata": {},
     "output_type": "display_data"
    },
    {
     "data": {
      "application/vnd.jupyter.widget-view+json": {
       "model_id": "7fa30700cde34e50912532e157bcb282",
       "version_major": 2,
       "version_minor": 0
      },
      "text/plain": [
       "  0%|          | 0/5840 [00:00<?, ?it/s]"
      ]
     },
     "metadata": {},
     "output_type": "display_data"
    },
    {
     "data": {
      "application/vnd.jupyter.widget-view+json": {
       "model_id": "9ae7f3bbce434df7bfda558fbb95ec57",
       "version_major": 2,
       "version_minor": 0
      },
      "text/plain": [
       "  0%|          | 0/4893 [00:00<?, ?it/s]"
      ]
     },
     "metadata": {},
     "output_type": "display_data"
    },
    {
     "data": {
      "application/vnd.jupyter.widget-view+json": {
       "model_id": "73f8c03ccd584ea39c174c5db99994f3",
       "version_major": 2,
       "version_minor": 0
      },
      "text/plain": [
       "  0%|          | 0/4893 [00:00<?, ?it/s]"
      ]
     },
     "metadata": {},
     "output_type": "display_data"
    },
    {
     "data": {
      "application/vnd.jupyter.widget-view+json": {
       "model_id": "26c83757b53743f2a06fca020aa2ba9a",
       "version_major": 2,
       "version_minor": 0
      },
      "text/plain": [
       "  0%|          | 0/4893 [00:00<?, ?it/s]"
      ]
     },
     "metadata": {},
     "output_type": "display_data"
    },
    {
     "data": {
      "application/vnd.jupyter.widget-view+json": {
       "model_id": "223aed577f21475e89de8610057ba90f",
       "version_major": 2,
       "version_minor": 0
      },
      "text/plain": [
       "  0%|          | 0/3742 [00:00<?, ?it/s]"
      ]
     },
     "metadata": {},
     "output_type": "display_data"
    },
    {
     "data": {
      "application/vnd.jupyter.widget-view+json": {
       "model_id": "46a2338dfe4248bdb490f6acd811c7c5",
       "version_major": 2,
       "version_minor": 0
      },
      "text/plain": [
       "  0%|          | 0/1154 [00:00<?, ?it/s]"
      ]
     },
     "metadata": {},
     "output_type": "display_data"
    },
    {
     "data": {
      "application/vnd.jupyter.widget-view+json": {
       "model_id": "e612a4f1b6c843548753ee4784baf39c",
       "version_major": 2,
       "version_minor": 0
      },
      "text/plain": [
       "  0%|          | 0/4893 [00:00<?, ?it/s]"
      ]
     },
     "metadata": {},
     "output_type": "display_data"
    },
    {
     "data": {
      "application/vnd.jupyter.widget-view+json": {
       "model_id": "8b7a9cb93c0c43ad85641d9050315fca",
       "version_major": 2,
       "version_minor": 0
      },
      "text/plain": [
       "  0%|          | 0/4893 [00:00<?, ?it/s]"
      ]
     },
     "metadata": {},
     "output_type": "display_data"
    },
    {
     "data": {
      "application/vnd.jupyter.widget-view+json": {
       "model_id": "821c5cf7150744fbb6e119f928328729",
       "version_major": 2,
       "version_minor": 0
      },
      "text/plain": [
       "  0%|          | 0/4294 [00:00<?, ?it/s]"
      ]
     },
     "metadata": {},
     "output_type": "display_data"
    },
    {
     "data": {
      "application/vnd.jupyter.widget-view+json": {
       "model_id": "f61742ef9afa47d589719076b8965583",
       "version_major": 2,
       "version_minor": 0
      },
      "text/plain": [
       "  0%|          | 0/4294 [00:00<?, ?it/s]"
      ]
     },
     "metadata": {},
     "output_type": "display_data"
    },
    {
     "data": {
      "application/vnd.jupyter.widget-view+json": {
       "model_id": "d67aaa5b7a624b27afe2525364e7c785",
       "version_major": 2,
       "version_minor": 0
      },
      "text/plain": [
       "  0%|          | 0/4294 [00:00<?, ?it/s]"
      ]
     },
     "metadata": {},
     "output_type": "display_data"
    },
    {
     "data": {
      "application/vnd.jupyter.widget-view+json": {
       "model_id": "73cfc83412a54281805646d13d4906d0",
       "version_major": 2,
       "version_minor": 0
      },
      "text/plain": [
       "  0%|          | 0/2248 [00:00<?, ?it/s]"
      ]
     },
     "metadata": {},
     "output_type": "display_data"
    },
    {
     "data": {
      "application/vnd.jupyter.widget-view+json": {
       "model_id": "571f40d51b6545a9a776665dae96da20",
       "version_major": 2,
       "version_minor": 0
      },
      "text/plain": [
       "  0%|          | 0/427 [00:00<?, ?it/s]"
      ]
     },
     "metadata": {},
     "output_type": "display_data"
    },
    {
     "data": {
      "application/vnd.jupyter.widget-view+json": {
       "model_id": "a645021a24d44196a92b0b18102aff70",
       "version_major": 2,
       "version_minor": 0
      },
      "text/plain": [
       "  0%|          | 0/4294 [00:00<?, ?it/s]"
      ]
     },
     "metadata": {},
     "output_type": "display_data"
    },
    {
     "data": {
      "application/vnd.jupyter.widget-view+json": {
       "model_id": "813d2e9317ca451e9773ce6f04b8fa8a",
       "version_major": 2,
       "version_minor": 0
      },
      "text/plain": [
       "  0%|          | 0/4294 [00:00<?, ?it/s]"
      ]
     },
     "metadata": {},
     "output_type": "display_data"
    },
    {
     "data": {
      "application/vnd.jupyter.widget-view+json": {
       "model_id": "d71e198da6f54d90b0bdc536988a4254",
       "version_major": 2,
       "version_minor": 0
      },
      "text/plain": [
       "  0%|          | 0/2237 [00:00<?, ?it/s]"
      ]
     },
     "metadata": {},
     "output_type": "display_data"
    },
    {
     "data": {
      "application/vnd.jupyter.widget-view+json": {
       "model_id": "2091927cef8a47ca84d6cd1581ee9c4f",
       "version_major": 2,
       "version_minor": 0
      },
      "text/plain": [
       "  0%|          | 0/2237 [00:00<?, ?it/s]"
      ]
     },
     "metadata": {},
     "output_type": "display_data"
    },
    {
     "data": {
      "application/vnd.jupyter.widget-view+json": {
       "model_id": "ba540f79848548cf94837b0cd8b0aba7",
       "version_major": 2,
       "version_minor": 0
      },
      "text/plain": [
       "  0%|          | 0/2237 [00:00<?, ?it/s]"
      ]
     },
     "metadata": {},
     "output_type": "display_data"
    },
    {
     "data": {
      "application/vnd.jupyter.widget-view+json": {
       "model_id": "05ce579b1a7e436c8cae15e525087b9b",
       "version_major": 2,
       "version_minor": 0
      },
      "text/plain": [
       "  0%|          | 0/826 [00:00<?, ?it/s]"
      ]
     },
     "metadata": {},
     "output_type": "display_data"
    },
    {
     "data": {
      "application/vnd.jupyter.widget-view+json": {
       "model_id": "887575bcab394301b5967a5db77cbb0d",
       "version_major": 2,
       "version_minor": 0
      },
      "text/plain": [
       "  0%|          | 0/89 [00:00<?, ?it/s]"
      ]
     },
     "metadata": {},
     "output_type": "display_data"
    },
    {
     "data": {
      "application/vnd.jupyter.widget-view+json": {
       "model_id": "7defdc6631744d519d5d6d2f048eb19b",
       "version_major": 2,
       "version_minor": 0
      },
      "text/plain": [
       "  0%|          | 0/2237 [00:00<?, ?it/s]"
      ]
     },
     "metadata": {},
     "output_type": "display_data"
    },
    {
     "data": {
      "application/vnd.jupyter.widget-view+json": {
       "model_id": "f031b690e5fe491f9fa2a7e03d6dbf9d",
       "version_major": 2,
       "version_minor": 0
      },
      "text/plain": [
       "  0%|          | 0/2237 [00:00<?, ?it/s]"
      ]
     },
     "metadata": {},
     "output_type": "display_data"
    },
    {
     "data": {
      "application/vnd.jupyter.widget-view+json": {
       "model_id": "3d59c2055b014254bc19f24ca257124a",
       "version_major": 2,
       "version_minor": 0
      },
      "text/plain": [
       "  0%|          | 0/1150 [00:00<?, ?it/s]"
      ]
     },
     "metadata": {},
     "output_type": "display_data"
    },
    {
     "data": {
      "application/vnd.jupyter.widget-view+json": {
       "model_id": "a6980c1ea5b84d9587025f211613713f",
       "version_major": 2,
       "version_minor": 0
      },
      "text/plain": [
       "  0%|          | 0/1150 [00:00<?, ?it/s]"
      ]
     },
     "metadata": {},
     "output_type": "display_data"
    },
    {
     "data": {
      "application/vnd.jupyter.widget-view+json": {
       "model_id": "53de637302bd425c8ae788b01158376a",
       "version_major": 2,
       "version_minor": 0
      },
      "text/plain": [
       "  0%|          | 0/1150 [00:00<?, ?it/s]"
      ]
     },
     "metadata": {},
     "output_type": "display_data"
    },
    {
     "data": {
      "application/vnd.jupyter.widget-view+json": {
       "model_id": "4b2a9f3ab1fe47fc9542bc4042f3819f",
       "version_major": 2,
       "version_minor": 0
      },
      "text/plain": [
       "  0%|          | 0/502 [00:00<?, ?it/s]"
      ]
     },
     "metadata": {},
     "output_type": "display_data"
    },
    {
     "data": {
      "application/vnd.jupyter.widget-view+json": {
       "model_id": "d87a067f6e5040b4b74066b8bf5d2db3",
       "version_major": 2,
       "version_minor": 0
      },
      "text/plain": [
       "  0%|          | 0/39 [00:00<?, ?it/s]"
      ]
     },
     "metadata": {},
     "output_type": "display_data"
    },
    {
     "data": {
      "application/vnd.jupyter.widget-view+json": {
       "model_id": "146db359dc6f44f98c99ce36dd7eabbe",
       "version_major": 2,
       "version_minor": 0
      },
      "text/plain": [
       "  0%|          | 0/1150 [00:00<?, ?it/s]"
      ]
     },
     "metadata": {},
     "output_type": "display_data"
    },
    {
     "data": {
      "application/vnd.jupyter.widget-view+json": {
       "model_id": "d62eff7ac82d41629accfeb578c85865",
       "version_major": 2,
       "version_minor": 0
      },
      "text/plain": [
       "  0%|          | 0/1150 [00:00<?, ?it/s]"
      ]
     },
     "metadata": {},
     "output_type": "display_data"
    },
    {
     "data": {
      "application/vnd.jupyter.widget-view+json": {
       "model_id": "a5b8070862f74fb5b266274db435d414",
       "version_major": 2,
       "version_minor": 0
      },
      "text/plain": [
       "  0%|          | 0/1093 [00:00<?, ?it/s]"
      ]
     },
     "metadata": {},
     "output_type": "display_data"
    },
    {
     "data": {
      "application/vnd.jupyter.widget-view+json": {
       "model_id": "6eb3feabab9c4305bbff5c6d5d59b11b",
       "version_major": 2,
       "version_minor": 0
      },
      "text/plain": [
       "  0%|          | 0/1093 [00:00<?, ?it/s]"
      ]
     },
     "metadata": {},
     "output_type": "display_data"
    },
    {
     "data": {
      "application/vnd.jupyter.widget-view+json": {
       "model_id": "1ca528e12f1a49d7aa72108bc9902d31",
       "version_major": 2,
       "version_minor": 0
      },
      "text/plain": [
       "  0%|          | 0/1093 [00:00<?, ?it/s]"
      ]
     },
     "metadata": {},
     "output_type": "display_data"
    },
    {
     "data": {
      "application/vnd.jupyter.widget-view+json": {
       "model_id": "a1e8a39fd7bf4123acef9208968295a1",
       "version_major": 2,
       "version_minor": 0
      },
      "text/plain": [
       "  0%|          | 0/599 [00:00<?, ?it/s]"
      ]
     },
     "metadata": {},
     "output_type": "display_data"
    },
    {
     "data": {
      "application/vnd.jupyter.widget-view+json": {
       "model_id": "79edd6ae38714c44bceec31b30b486cb",
       "version_major": 2,
       "version_minor": 0
      },
      "text/plain": [
       "  0%|          | 0/71 [00:00<?, ?it/s]"
      ]
     },
     "metadata": {},
     "output_type": "display_data"
    },
    {
     "data": {
      "application/vnd.jupyter.widget-view+json": {
       "model_id": "e4077e54e7f846ae8b3d96b95b574c96",
       "version_major": 2,
       "version_minor": 0
      },
      "text/plain": [
       "  0%|          | 0/1093 [00:00<?, ?it/s]"
      ]
     },
     "metadata": {},
     "output_type": "display_data"
    },
    {
     "data": {
      "application/vnd.jupyter.widget-view+json": {
       "model_id": "6db37672d3ba468ba04dce8a158c9b4e",
       "version_major": 2,
       "version_minor": 0
      },
      "text/plain": [
       "  0%|          | 0/1093 [00:00<?, ?it/s]"
      ]
     },
     "metadata": {},
     "output_type": "display_data"
    }
   ],
   "source": [
    "cats_toys_bigram, cats_toys_trigram, cats_toys_reviews2 = preprocess_review(df1.reviewText, extra_stopwords = ['cat', 'cats', 'toy', 'toys'],\n",
    "                                                                          allowed_postags = ['ADJ', 'VERB', 'ADV'])\n",
    "cats_food_bigram, cats_food_trigram, cats_food_reviews2 = preprocess_review(df2.reviewText, extra_stopwords = ['cat', 'cats', 'food'],\n",
    "                                                                          allowed_postags = ['ADJ', 'VERB', 'ADV'])\n",
    "cats_beds_bigram, cats_beds_trigram, cats_beds_reviews2 = preprocess_review(df3.reviewText, extra_stopwords = ['cat', 'cats', 'bed', 'beds'],\n",
    "                                                                          allowed_postags = ['ADJ', 'VERB', 'ADV'])\n",
    "cats_litter_bigram, cats_litter_trigram, cats_litter_reviews2 = preprocess_review(df4.reviewText, extra_stopwords = ['cat', 'cats', 'litters', 'litter'],\n",
    "                                                                                allowed_postags = ['ADJ', 'VERB', 'ADV'])\n",
    "cats_health_supplies_bigram, cats_health_supplies_trigram, cats_health_supplies_reviews2 = preprocess_review(df5.reviewText, extra_stopwords = ['cat', 'cats'],\n",
    "                                                                                                           allowed_postags = ['ADJ', 'VERB', 'ADV'])\n",
    "cats_treats_bigram, cats_treats_trigram, cats_treats_reviews2 = preprocess_review(df6.reviewText, extra_stopwords = ['cat', 'cats', 'treat', 'treats'],\n",
    "                                                                                allowed_postags = ['ADJ', 'VERB', 'ADV'])\n",
    "cats_grooming_bigram, cats_grooming_trigram, cats_grooming_reviews2 = preprocess_review(df7.reviewText, extra_stopwords = ['cat', 'cats'],\n",
    "                                                                                      allowed_postags = ['ADJ', 'VERB', 'ADV'])\n",
    "cats_feeding_supplies_bigram, cats_feeding_suppliess_trigram, cats_feeding_supplies_reviews2 = preprocess_review(df8.reviewText, extra_stopwords = ['cat', 'cats'],\n",
    "                                                                                                               allowed_postags = ['ADJ', 'VERB', 'ADV'])"
   ]
  },
  {
   "cell_type": "code",
   "execution_count": 33,
   "id": "c654cae7",
   "metadata": {},
   "outputs": [
    {
     "data": {
      "text/html": [
       "<div>\n",
       "<style scoped>\n",
       "    .dataframe tbody tr th:only-of-type {\n",
       "        vertical-align: middle;\n",
       "    }\n",
       "\n",
       "    .dataframe tbody tr th {\n",
       "        vertical-align: top;\n",
       "    }\n",
       "\n",
       "    .dataframe thead th {\n",
       "        text-align: right;\n",
       "    }\n",
       "</style>\n",
       "<table border=\"1\" class=\"dataframe\">\n",
       "  <thead>\n",
       "    <tr style=\"text-align: right;\">\n",
       "      <th></th>\n",
       "      <th>bigram</th>\n",
       "      <th>pmi</th>\n",
       "    </tr>\n",
       "  </thead>\n",
       "  <tbody>\n",
       "    <tr>\n",
       "      <th>0</th>\n",
       "      <td>(maine, coon)</td>\n",
       "      <td>13.269454</td>\n",
       "    </tr>\n",
       "    <tr>\n",
       "      <th>1</th>\n",
       "      <td>(hyaluronic, acid)</td>\n",
       "      <td>12.465851</td>\n",
       "    </tr>\n",
       "    <tr>\n",
       "      <th>2</th>\n",
       "      <td>(vetri, science)</td>\n",
       "      <td>11.822090</td>\n",
       "    </tr>\n",
       "    <tr>\n",
       "      <th>3</th>\n",
       "      <td>(herpes, virus)</td>\n",
       "      <td>11.817771</td>\n",
       "    </tr>\n",
       "    <tr>\n",
       "      <th>4</th>\n",
       "      <td>(urinary, tract)</td>\n",
       "      <td>11.552751</td>\n",
       "    </tr>\n",
       "    <tr>\n",
       "      <th>5</th>\n",
       "      <td>(comfort, zone)</td>\n",
       "      <td>11.045878</td>\n",
       "    </tr>\n",
       "    <tr>\n",
       "      <th>6</th>\n",
       "      <td>(plug, ins)</td>\n",
       "      <td>10.905827</td>\n",
       "    </tr>\n",
       "    <tr>\n",
       "      <th>7</th>\n",
       "      <td>(salmon, oil)</td>\n",
       "      <td>10.575949</td>\n",
       "    </tr>\n",
       "    <tr>\n",
       "      <th>8</th>\n",
       "      <td>(side, effects)</td>\n",
       "      <td>10.479255</td>\n",
       "    </tr>\n",
       "    <tr>\n",
       "      <th>9</th>\n",
       "      <td>(pill, pockets)</td>\n",
       "      <td>10.408671</td>\n",
       "    </tr>\n",
       "    <tr>\n",
       "      <th>10</th>\n",
       "      <td>(feline, herpes)</td>\n",
       "      <td>10.170406</td>\n",
       "    </tr>\n",
       "    <tr>\n",
       "      <th>12</th>\n",
       "      <td>(hairball, remedy)</td>\n",
       "      <td>9.817432</td>\n",
       "    </tr>\n",
       "    <tr>\n",
       "      <th>13</th>\n",
       "      <td>(litter, boxes)</td>\n",
       "      <td>9.719825</td>\n",
       "    </tr>\n",
       "    <tr>\n",
       "      <th>15</th>\n",
       "      <td>(litter, box)</td>\n",
       "      <td>9.661408</td>\n",
       "    </tr>\n",
       "    <tr>\n",
       "      <th>16</th>\n",
       "      <td>(pet, naturals)</td>\n",
       "      <td>9.529280</td>\n",
       "    </tr>\n",
       "    <tr>\n",
       "      <th>18</th>\n",
       "      <td>(frontline, plus)</td>\n",
       "      <td>9.251658</td>\n",
       "    </tr>\n",
       "    <tr>\n",
       "      <th>20</th>\n",
       "      <td>(fish, oil)</td>\n",
       "      <td>9.157806</td>\n",
       "    </tr>\n",
       "    <tr>\n",
       "      <th>21</th>\n",
       "      <td>(move, free)</td>\n",
       "      <td>9.093672</td>\n",
       "    </tr>\n",
       "    <tr>\n",
       "      <th>23</th>\n",
       "      <td>(living, room)</td>\n",
       "      <td>9.066418</td>\n",
       "    </tr>\n",
       "    <tr>\n",
       "      <th>25</th>\n",
       "      <td>(pet, stores)</td>\n",
       "      <td>8.940727</td>\n",
       "    </tr>\n",
       "  </tbody>\n",
       "</table>\n",
       "</div>"
      ],
      "text/plain": [
       "                bigram        pmi\n",
       "0        (maine, coon)  13.269454\n",
       "1   (hyaluronic, acid)  12.465851\n",
       "2     (vetri, science)  11.822090\n",
       "3      (herpes, virus)  11.817771\n",
       "4     (urinary, tract)  11.552751\n",
       "5      (comfort, zone)  11.045878\n",
       "6          (plug, ins)  10.905827\n",
       "7        (salmon, oil)  10.575949\n",
       "8      (side, effects)  10.479255\n",
       "9      (pill, pockets)  10.408671\n",
       "10    (feline, herpes)  10.170406\n",
       "12  (hairball, remedy)   9.817432\n",
       "13     (litter, boxes)   9.719825\n",
       "15       (litter, box)   9.661408\n",
       "16     (pet, naturals)   9.529280\n",
       "18   (frontline, plus)   9.251658\n",
       "20         (fish, oil)   9.157806\n",
       "21        (move, free)   9.093672\n",
       "23      (living, room)   9.066418\n",
       "25       (pet, stores)   8.940727"
      ]
     },
     "execution_count": 33,
     "metadata": {},
     "output_type": "execute_result"
    }
   ],
   "source": [
    "cats_health_supplies_bigram[:20]"
   ]
  },
  {
   "cell_type": "markdown",
   "id": "b4ef881b",
   "metadata": {},
   "source": [
    "# modeling"
   ]
  },
  {
   "cell_type": "code",
   "execution_count": 34,
   "id": "3c33c3bc",
   "metadata": {},
   "outputs": [],
   "source": [
    "def vectorize(texts):\n",
    "    dictionary = corpora.Dictionary(tqdm(texts))\n",
    "    doc_term_matrix = [dictionary.doc2bow(doc) for doc in tqdm(texts)]\n",
    "    return dictionary, doc_term_matrix"
   ]
  },
  {
   "cell_type": "code",
   "execution_count": 35,
   "id": "812547d1",
   "metadata": {},
   "outputs": [],
   "source": [
    "def compute_coherence_values(dictionary, corpus, texts, limit, start=2, step=3):\n",
    "    \"\"\"\n",
    "    Compute c_v coherence for various number of topics\n",
    "\n",
    "    Parameters:\n",
    "    ----------\n",
    "    dictionary : Gensim dictionary\n",
    "    corpus : Gensim corpus\n",
    "    texts : List of input texts\n",
    "    limit : Max num of topics\n",
    "\n",
    "    Returns:\n",
    "    -------\n",
    "    model_list : List of LDA topic models\n",
    "    coherence_values : Coherence values corresponding to the LDA model with respective number of topics\n",
    "    \"\"\"\n",
    "    coherence_values = []\n",
    "    model_list = []\n",
    "    for num_topics in range(start, limit, step):\n",
    "        print('Round: '+ str(num_topics))\n",
    "        model = LdaMulticore(corpus=corpus, \n",
    "                                num_topics=num_topics, \n",
    "                                id2word=dictionary,\n",
    "                                passes=40,\n",
    "                                iterations=10, \n",
    "                                chunksize = 100, \n",
    "                                eval_every = None,\n",
    "                                random_state = 1234)\n",
    "        model_list.append(model)\n",
    "        coherencemodel = CoherenceModel(model=model, \n",
    "                                        texts=texts, \n",
    "                                        dictionary=dictionary, \n",
    "                                        coherence='c_v')\n",
    "        coherence_values.append(coherencemodel.get_coherence())\n",
    "\n",
    "    return model_list, coherence_values\n",
    "\n",
    "def get_keywords(doc_term_matrix, model): #top 20\n",
    "    keywords_dict = {}\n",
    "    for k in range(len(model.top_topics(doc_term_matrix))):\n",
    "        tu = model.top_topics(doc_term_matrix)[k]\n",
    "        keywords_lst = []\n",
    "        for tup in tu[0]:\n",
    "            keywords_lst.append(tup[1])\n",
    "        keywords_dict[k] = keywords_lst\n",
    "    return keywords_dict"
   ]
  },
  {
   "cell_type": "markdown",
   "id": "41576cef",
   "metadata": {},
   "source": [
    "# Interpret the results"
   ]
  },
  {
   "cell_type": "markdown",
   "id": "b144491f",
   "metadata": {},
   "source": [
    "## 1. cats feeding supplies"
   ]
  },
  {
   "cell_type": "code",
   "execution_count": 36,
   "id": "3e238d23",
   "metadata": {},
   "outputs": [
    {
     "data": {
      "application/vnd.jupyter.widget-view+json": {
       "model_id": "4fb9991d884148698629aac65308d1a9",
       "version_major": 2,
       "version_minor": 0
      },
      "text/plain": [
       "  0%|          | 0/1093 [00:00<?, ?it/s]"
      ]
     },
     "metadata": {},
     "output_type": "display_data"
    },
    {
     "data": {
      "application/vnd.jupyter.widget-view+json": {
       "model_id": "dccc24cfa34440a88d2907c3cab5fc52",
       "version_major": 2,
       "version_minor": 0
      },
      "text/plain": [
       "  0%|          | 0/1093 [00:00<?, ?it/s]"
      ]
     },
     "metadata": {},
     "output_type": "display_data"
    }
   ],
   "source": [
    "cats_feeding_supplies_dictionary, cats_feeding_supplies_doc_term_matrix = vectorize(cats_feeding_supplies_reviews2)\n",
    "# cats_feeding_supplies_model_list, cats_feeding_supplies_coherence_values = compute_coherence_values(\n",
    "#                                                     dictionary=cats_feeding_supplies_dictionary, \n",
    "#                                                     corpus=cats_feeding_supplies_doc_term_matrix, \n",
    "#                                                     texts=cats_feeding_supplies_reviews2, \n",
    "#                                                     start=2, \n",
    "#                                                     limit=20, \n",
    "#                                                     step=2)\n",
    "\n",
    "# limit=20; start=2; step=2;\n",
    "# x = range(start, limit, step)\n",
    "# plt.plot(x, cats_feeding_supplies_coherence_values)\n",
    "# plt.xlabel(\"Num Topics\")\n",
    "# plt.ylabel(\"Coherence score\")\n",
    "# plt.legend((\"coherence_values\"), loc='best')\n",
    "# plt.show()\n",
    "# for m, cv in zip(x, cats_feeding_supplies_coherence_values):\n",
    "#     print(\"Num Topics =\", m, \" has Coherence Value of\", round(cv, 4))\n",
    "    \n",
    "# with open ('./cat_feeding_supplies_model_list.pickle', 'wb') as handle:\n",
    "#     pickle.dump(cats_feeding_supplies_model_list, handle)"
   ]
  },
  {
   "cell_type": "code",
   "execution_count": 37,
   "id": "8d3ab7af",
   "metadata": {},
   "outputs": [],
   "source": [
    "with open ('./model/cat_feeding_supplies_model_list.pickle', 'rb') as handle:\n",
    "    cat_feeding_supplies_model_list = pickle.load(handle)"
   ]
  },
  {
   "cell_type": "code",
   "execution_count": 38,
   "id": "c8248f54",
   "metadata": {},
   "outputs": [],
   "source": [
    "cats_feeding_supplies_optimal_model = cat_feeding_supplies_model_list[2]\n",
    "model_topics = cats_feeding_supplies_optimal_model.show_topics(formatted=False)"
   ]
  },
  {
   "cell_type": "code",
   "execution_count": 39,
   "id": "d702abdf",
   "metadata": {},
   "outputs": [
    {
     "data": {
      "text/plain": [
       "[(0,\n",
       "  '0.040*\"get\" + 0.024*\"eat\" + 0.014*\"put\" + 0.013*\"little\" + 0.013*\"come\" + 0.012*\"take\" + 0.012*\"try\" + 0.012*\"open\" + 0.012*\"use\" + 0.011*\"work\" + 0.011*\"small\" + 0.011*\"make\" + 0.011*\"great\" + 0.010*\"go\" + 0.010*\"really\" + 0.010*\"also\" + 0.009*\"find\" + 0.008*\"much\" + 0.008*\"seem\" + 0.008*\"even\" + 0.008*\"good\" + 0.008*\"give\" + 0.007*\"buy\" + 0.007*\"think\" + 0.007*\"want\" + 0.007*\"easy\" + 0.007*\"need\" + 0.007*\"keep\" + 0.007*\"big\" + 0.006*\"well\"'),\n",
       " (1,\n",
       "  '0.038*\"get\" + 0.021*\"keep\" + 0.017*\"drink\" + 0.016*\"great\" + 0.015*\"little\" + 0.014*\"use\" + 0.014*\"clean\" + 0.013*\"make\" + 0.012*\"love\" + 0.011*\"well\" + 0.011*\"much\" + 0.009*\"large\" + 0.009*\"fresh\" + 0.008*\"recommend\" + 0.008*\"easy\" + 0.008*\"come\" + 0.008*\"old\" + 0.008*\"buy\" + 0.008*\"small\" + 0.007*\"really\" + 0.007*\"go\" + 0.007*\"even\" + 0.007*\"seem\" + 0.007*\"happy\" + 0.007*\"find\" + 0.006*\"want\" + 0.006*\"hard\" + 0.006*\"work\" + 0.006*\"still\" + 0.005*\"extra\"'),\n",
       " (2,\n",
       "  '0.036*\"clean\" + 0.017*\"easy\" + 0.016*\"use\" + 0.015*\"take\" + 0.014*\"quiet\" + 0.014*\"good\" + 0.013*\"work\" + 0.013*\"get\" + 0.011*\"first\" + 0.011*\"go\" + 0.010*\"make\" + 0.010*\"drink\" + 0.009*\"new\" + 0.009*\"little\" + 0.008*\"add\" + 0.008*\"give\" + 0.008*\"buy\" + 0.008*\"even\" + 0.008*\"run\" + 0.008*\"often\" + 0.007*\"find\" + 0.007*\"try\" + 0.007*\"see\" + 0.007*\"think\" + 0.006*\"pet\" + 0.006*\"long\" + 0.006*\"right\" + 0.006*\"seem\" + 0.006*\"need\" + 0.006*\"fresh\"'),\n",
       " (3,\n",
       "  '0.026*\"clean\" + 0.025*\"buy\" + 0.023*\"easy\" + 0.022*\"well\" + 0.015*\"get\" + 0.014*\"grow\" + 0.014*\"use\" + 0.013*\"also\" + 0.013*\"good\" + 0.012*\"make\" + 0.011*\"recommend\" + 0.010*\"keep\" + 0.010*\"bowl\" + 0.010*\"nice\" + 0.009*\"really\" + 0.009*\"work\" + 0.009*\"great\" + 0.008*\"purchase\" + 0.008*\"much\" + 0.008*\"eat\" + 0.007*\"seem\" + 0.007*\"several\" + 0.007*\"look\" + 0.006*\"try\" + 0.006*\"put\" + 0.006*\"small\" + 0.006*\"catit\" + 0.006*\"shallow\" + 0.006*\"enough\" + 0.005*\"take\"'),\n",
       " (4,\n",
       "  '0.018*\"fit\" + 0.015*\"really\" + 0.015*\"use\" + 0.014*\"make\" + 0.013*\"little\" + 0.011*\"get\" + 0.011*\"hold\" + 0.010*\"think\" + 0.010*\"good\" + 0.009*\"buy\" + 0.008*\"keep\" + 0.008*\"well\" + 0.008*\"old\" + 0.007*\"run\" + 0.007*\"big\" + 0.007*\"still\" + 0.007*\"small\" + 0.007*\"come\" + 0.007*\"pet\" + 0.006*\"need\" + 0.006*\"play\" + 0.006*\"say\" + 0.006*\"large\" + 0.006*\"also\" + 0.006*\"drink\" + 0.006*\"nice\" + 0.006*\"top\" + 0.006*\"drate\" + 0.005*\"less\" + 0.005*\"drinkwell_hy_drate\"'),\n",
       " (5,\n",
       "  '0.016*\"use\" + 0.016*\"small\" + 0.016*\"make\" + 0.015*\"still\" + 0.014*\"get\" + 0.011*\"go\" + 0.010*\"different\" + 0.010*\"take\" + 0.009*\"well\" + 0.009*\"also\" + 0.009*\"think\" + 0.009*\"try\" + 0.009*\"even\" + 0.008*\"buy\" + 0.008*\"sure\" + 0.008*\"set\" + 0.007*\"put\" + 0.007*\"drink\" + 0.007*\"come\" + 0.007*\"see\" + 0.006*\"first\" + 0.006*\"like\" + 0.006*\"however\" + 0.006*\"long\" + 0.006*\"little\" + 0.005*\"give\" + 0.005*\"love\" + 0.005*\"top\" + 0.005*\"easy\" + 0.005*\"high\"')]"
      ]
     },
     "execution_count": 39,
     "metadata": {},
     "output_type": "execute_result"
    }
   ],
   "source": [
    "cats_feeding_supplies_optimal_model.print_topics(num_topics=6, num_words=30) "
   ]
  },
  {
   "cell_type": "code",
   "execution_count": 53,
   "id": "df90fad3",
   "metadata": {},
   "outputs": [],
   "source": [
    "# pyLDAvis.enable_notebook()\n",
    "# topic_data =  pyLDAvis.gensim_models.prepare(cats_feeding_supplies_optimal_model, \n",
    "#                                              cats_feeding_supplies_doc_term_matrix, \n",
    "#                                              cats_feeding_supplies_dictionary, \n",
    "#                                              mds = 'pcoa')\n",
    "# pyLDAvis.display(topic_data)"
   ]
  },
  {
   "cell_type": "code",
   "execution_count": 52,
   "id": "456e4a3c",
   "metadata": {},
   "outputs": [],
   "source": [
    "# pyLDAvis.enable_notebook()\n",
    "# topic_data =  pyLDAvis.gensim_models.prepare(cats_feeding_supplies_optimal_model, \n",
    "#                                              cats_feeding_supplies_doc_term_matrix, \n",
    "#                                              cats_feeding_supplies_dictionary, \n",
    "#                                              mds = 'tsne')\n",
    "# pyLDAvis.display(topic_data)\n",
    "\n",
    "# pcoa:Principal Coordinate Analysis(aka Classical Multidimensional Scaling)\n",
    "# mmds:Metric Multidimensional Scaling\n",
    "# tsne:t-distributed Stochastic Neighbor Embedding"
   ]
  },
  {
   "cell_type": "code",
   "execution_count": null,
   "id": "270d9590",
   "metadata": {},
   "outputs": [],
   "source": [
    "keywords_dict = get_keywords(cats_feeding_supplies_doc_term_matrix, model = cats_feeding_supplies_optimal_model)"
   ]
  },
  {
   "cell_type": "code",
   "execution_count": null,
   "id": "24672a63",
   "metadata": {},
   "outputs": [],
   "source": [
    "[w for w in keywords_dict[0] if w not in  keywords_dict[1] and w not in  keywords_dict[2] and w not in  keywords_dict[3]]"
   ]
  },
  {
   "cell_type": "code",
   "execution_count": null,
   "id": "4056f6f9",
   "metadata": {},
   "outputs": [],
   "source": [
    "[w for w in keywords_dict[1] if w not in  keywords_dict[0] and w not in  keywords_dict[2] and w not in  keywords_dict[3]]"
   ]
  },
  {
   "cell_type": "code",
   "execution_count": null,
   "id": "4e231a6e",
   "metadata": {},
   "outputs": [],
   "source": [
    "[w for w in keywords_dict[2] if w not in  keywords_dict[1] and w not in  keywords_dict[0] and w not in  keywords_dict[3]]"
   ]
  },
  {
   "cell_type": "code",
   "execution_count": null,
   "id": "c0f1d5ec",
   "metadata": {},
   "outputs": [],
   "source": [
    "[w for w in keywords_dict[3] if w not in  keywords_dict[1] and w not in  keywords_dict[2] and w not in  keywords_dict[0]]"
   ]
  },
  {
   "cell_type": "code",
   "execution_count": null,
   "id": "45f0876a",
   "metadata": {},
   "outputs": [],
   "source": [
    "pyLDAvis.enable_notebook()\n",
    "topic_data =  pyLDAvis.gensim_models.prepare(cat_feeding_supplies_optimal_model, \n",
    "                                             cats_feeding_supplies_doc_term_matrix2, \n",
    "                                             cats_feeding_supplies_dictionary2, \n",
    "                                             mds = 'tsne')\n",
    "pyLDAvis.display(topic_data)"
   ]
  },
  {
   "cell_type": "markdown",
   "id": "eec499ae",
   "metadata": {},
   "source": [
    "## 2. cat food (4/4)"
   ]
  },
  {
   "cell_type": "code",
   "execution_count": 22,
   "id": "278c71d1",
   "metadata": {},
   "outputs": [
    {
     "data": {
      "application/vnd.jupyter.widget-view+json": {
       "model_id": "5fc6568c0d424fe8b7530ddd1bf5ee4e",
       "version_major": 2,
       "version_minor": 0
      },
      "text/plain": [
       "  0%|          | 0/5999 [00:00<?, ?it/s]"
      ]
     },
     "metadata": {},
     "output_type": "display_data"
    },
    {
     "data": {
      "application/vnd.jupyter.widget-view+json": {
       "model_id": "435dcfdb79e04bd3b575c258274431b2",
       "version_major": 2,
       "version_minor": 0
      },
      "text/plain": [
       "  0%|          | 0/5999 [00:00<?, ?it/s]"
      ]
     },
     "metadata": {},
     "output_type": "display_data"
    },
    {
     "data": {
      "application/vnd.jupyter.widget-view+json": {
       "model_id": "043283db7f3c4ca5a9657cc4244b4e0f",
       "version_major": 2,
       "version_minor": 0
      },
      "text/plain": [
       "  0%|          | 0/5999 [00:00<?, ?it/s]"
      ]
     },
     "metadata": {},
     "output_type": "display_data"
    },
    {
     "data": {
      "application/vnd.jupyter.widget-view+json": {
       "model_id": "5f75e452a9234f879587f32cd95b9a59",
       "version_major": 2,
       "version_minor": 0
      },
      "text/plain": [
       "  0%|          | 0/3561 [00:00<?, ?it/s]"
      ]
     },
     "metadata": {},
     "output_type": "display_data"
    },
    {
     "data": {
      "application/vnd.jupyter.widget-view+json": {
       "model_id": "435bb35460fe4a3982aa5987d6391a4a",
       "version_major": 2,
       "version_minor": 0
      },
      "text/plain": [
       "  0%|          | 0/1195 [00:00<?, ?it/s]"
      ]
     },
     "metadata": {},
     "output_type": "display_data"
    },
    {
     "data": {
      "application/vnd.jupyter.widget-view+json": {
       "model_id": "04b99523d1014b3c9686fbf67c642a27",
       "version_major": 2,
       "version_minor": 0
      },
      "text/plain": [
       "  0%|          | 0/5999 [00:00<?, ?it/s]"
      ]
     },
     "metadata": {},
     "output_type": "display_data"
    },
    {
     "data": {
      "application/vnd.jupyter.widget-view+json": {
       "model_id": "c703ca6cee734ab2aa577e8dd0e9750d",
       "version_major": 2,
       "version_minor": 0
      },
      "text/plain": [
       "  0%|          | 0/5999 [00:00<?, ?it/s]"
      ]
     },
     "metadata": {},
     "output_type": "display_data"
    }
   ],
   "source": [
    "# cats_food_bigram, cats_food_trigram, cats_food_reviews2 = preprocess_review(df2.reviewText, \n",
    "#                                                          extra_stopwords = ['cat', 'cats', 'food'],\n",
    "#                                                          allowed_postags = ['ADJ', 'VERB', 'ADV'])"
   ]
  },
  {
   "cell_type": "code",
   "execution_count": 42,
   "id": "6f787b01",
   "metadata": {},
   "outputs": [
    {
     "data": {
      "application/vnd.jupyter.widget-view+json": {
       "model_id": "18ecc18fb60f4f9d803c7de1d8bc9416",
       "version_major": 2,
       "version_minor": 0
      },
      "text/plain": [
       "  0%|          | 0/5999 [00:00<?, ?it/s]"
      ]
     },
     "metadata": {},
     "output_type": "display_data"
    },
    {
     "data": {
      "application/vnd.jupyter.widget-view+json": {
       "model_id": "521998ff644846d6832cda5978c8d095",
       "version_major": 2,
       "version_minor": 0
      },
      "text/plain": [
       "  0%|          | 0/5999 [00:00<?, ?it/s]"
      ]
     },
     "metadata": {},
     "output_type": "display_data"
    }
   ],
   "source": [
    "cats_food_dictionary, cats_food_doc_term_matrix = vectorize(cats_food_reviews2)\n",
    "# cats_food_model_list, cats_food_coherence_values = compute_coherence_values(dictionary=cats_food_dictionary, \n",
    "#                                                     corpus=cats_food_doc_term_matrix, \n",
    "#                                                     texts=cats_food_reviews2, \n",
    "#                                                     start=2, \n",
    "#                                                     limit=20, \n",
    "#                                                     step=2)\n",
    "\n",
    "# limit=20; start=2; step=2;\n",
    "# x = range(start, limit, step)\n",
    "# plt.plot(x, cats_food_coherence_values)\n",
    "# plt.xlabel(\"Num Topics\")\n",
    "# plt.ylabel(\"Coherence score\")\n",
    "# plt.legend((\"coherence_values\"), loc='best')\n",
    "# plt.show()\n",
    "# for m, cv in zip(x, cats_food_coherence_values):\n",
    "#     print(\"Num Topics =\", m, \" has Coherence Value of\", round(cv, 4))"
   ]
  },
  {
   "cell_type": "code",
   "execution_count": 24,
   "id": "1e628a77",
   "metadata": {},
   "outputs": [],
   "source": [
    "# with open ('./cats_food_model_list.pickle', 'wb') as handle:\n",
    "#     pickle.dump(cats_food_model_list, handle)"
   ]
  },
  {
   "cell_type": "code",
   "execution_count": 45,
   "id": "8446c4b4",
   "metadata": {},
   "outputs": [],
   "source": [
    "with open ('./model/cats_food_model_list.pickle', 'rb') as handle:\n",
    "    cats_food_model_list = pickle.load(handle)"
   ]
  },
  {
   "cell_type": "code",
   "execution_count": 46,
   "id": "deddb31c",
   "metadata": {},
   "outputs": [
    {
     "data": {
      "text/plain": [
       "0.346099405886801"
      ]
     },
     "execution_count": 46,
     "metadata": {},
     "output_type": "execute_result"
    }
   ],
   "source": [
    "CoherenceModel(model=cats_food_model_list[1], \n",
    "               texts=cats_food_reviews2, \n",
    "               dictionary=cats_food_dictionary, \n",
    "               coherence='c_v').get_coherence()"
   ]
  },
  {
   "cell_type": "code",
   "execution_count": 47,
   "id": "1b20203d",
   "metadata": {},
   "outputs": [],
   "source": [
    "cats_food_optimal_model = cats_food_model_list[1]\n",
    "model_topics = cats_food_optimal_model.show_topics(formatted=False)"
   ]
  },
  {
   "cell_type": "code",
   "execution_count": 48,
   "id": "9709661a",
   "metadata": {},
   "outputs": [
    {
     "data": {
      "text/plain": [
       "[(0,\n",
       "  '0.059*\"eat\" + 0.024*\"get\" + 0.019*\"try\" + 0.017*\"seem\" + 0.016*\"go\" + 0.013*\"much\" + 0.013*\"give\" + 0.012*\"good\" + 0.011*\"look\" + 0.011*\"really\" + 0.011*\"well\" + 0.010*\"think\" + 0.010*\"even\" + 0.009*\"make\" + 0.009*\"say\" + 0.009*\"smell\" + 0.009*\"open\" + 0.009*\"come\" + 0.009*\"know\" + 0.009*\"first\" + 0.009*\"love\" + 0.008*\"see\" + 0.008*\"like\" + 0.008*\"put\" + 0.008*\"buy\" + 0.008*\"never\" + 0.008*\"old\" + 0.007*\"want\" + 0.007*\"picky\" + 0.007*\"little\"'),\n",
       " (1,\n",
       "  '0.022*\"well\" + 0.022*\"good\" + 0.019*\"get\" + 0.017*\"love\" + 0.016*\"healthy\" + 0.014*\"buy\" + 0.013*\"much\" + 0.013*\"try\" + 0.012*\"give\" + 0.012*\"find\" + 0.012*\"recommend\" + 0.012*\"seem\" + 0.011*\"feed\" + 0.011*\"also\" + 0.010*\"switch\" + 0.010*\"expensive\" + 0.009*\"eat\" + 0.009*\"go\" + 0.009*\"less\" + 0.009*\"make\" + 0.009*\"grain_free\" + 0.008*\"really\" + 0.008*\"use\" + 0.008*\"old\" + 0.007*\"great\" + 0.007*\"even\" + 0.007*\"cheap\" + 0.007*\"start\" + 0.007*\"little\" + 0.007*\"dry\"'),\n",
       " (2,\n",
       "  '0.035*\"dry\" + 0.026*\"fancy_feast\" + 0.025*\"eat\" + 0.022*\"get\" + 0.018*\"wet\" + 0.016*\"love\" + 0.016*\"can\" + 0.013*\"good\" + 0.013*\"really\" + 0.011*\"give\" + 0.010*\"try\" + 0.010*\"keep\" + 0.010*\"enjoy\" + 0.010*\"like\" + 0.009*\"happy\" + 0.009*\"prefer\" + 0.009*\"make\" + 0.009*\"favorite\" + 0.009*\"even\" + 0.009*\"great\" + 0.008*\"go\" + 0.008*\"always\" + 0.008*\"small\" + 0.008*\"find\" + 0.007*\"feed\" + 0.006*\"canned_cat_food\" + 0.006*\"also\" + 0.006*\"old\" + 0.006*\"treat\" + 0.006*\"kibble\"'),\n",
       " (3,\n",
       "  '0.014*\"dry\" + 0.012*\"natural\" + 0.012*\"make\" + 0.010*\"also\" + 0.010*\"well\" + 0.009*\"pet\" + 0.009*\"feed\" + 0.009*\"contain\" + 0.009*\"eat\" + 0.009*\"good\" + 0.008*\"high\" + 0.007*\"low\" + 0.007*\"include\" + 0.007*\"know\" + 0.006*\"use\" + 0.006*\"healthy\" + 0.006*\"see\" + 0.006*\"say\" + 0.006*\"look\" + 0.005*\"many\" + 0.005*\"need\" + 0.005*\"read\" + 0.005*\"first\" + 0.005*\"even\" + 0.005*\"mean\" + 0.005*\"find\" + 0.005*\"fresh\" + 0.004*\"compare\" + 0.004*\"add\" + 0.004*\"however\"')]"
      ]
     },
     "execution_count": 48,
     "metadata": {},
     "output_type": "execute_result"
    }
   ],
   "source": [
    "cats_food_optimal_model.print_topics(num_topics=4, num_words=30)"
   ]
  },
  {
   "cell_type": "code",
   "execution_count": 207,
   "id": "36f4c3b6",
   "metadata": {},
   "outputs": [],
   "source": [
    "keywords_dict = get_keywords(cats_food_doc_term_matrix, model = cats_food_optimal_model)"
   ]
  },
  {
   "cell_type": "code",
   "execution_count": 212,
   "id": "a87a7d25",
   "metadata": {},
   "outputs": [
    {
     "data": {
      "text/plain": [
       "['think', 'smell', 'open', 'come', 'first']"
      ]
     },
     "execution_count": 212,
     "metadata": {},
     "output_type": "execute_result"
    }
   ],
   "source": [
    "[w for w in keywords_dict[1] if w not in  keywords_dict[0] and w not in  keywords_dict[2] and w not in keywords_dict[3]] #scent"
   ]
  },
  {
   "cell_type": "code",
   "execution_count": 213,
   "id": "6290cdff",
   "metadata": {},
   "outputs": [
    {
     "data": {
      "text/plain": [
       "['buy', 'find', 'recommend', 'switch', 'expensive', 'less']"
      ]
     },
     "execution_count": 213,
     "metadata": {},
     "output_type": "execute_result"
    }
   ],
   "source": [
    "[w for w in keywords_dict[0] if w not in  keywords_dict[1] and w not in  keywords_dict[2] and w not in keywords_dict[3]] #value of money"
   ]
  },
  {
   "cell_type": "code",
   "execution_count": 214,
   "id": "27d28a50",
   "metadata": {},
   "outputs": [
    {
     "data": {
      "text/plain": [
       "['natural', 'pet', 'contain', 'high', 'low', 'include', 'use', 'see', 'many']"
      ]
     },
     "execution_count": 214,
     "metadata": {},
     "output_type": "execute_result"
    }
   ],
   "source": [
    "[w for w in keywords_dict[2] if w not in  keywords_dict[1] and w not in  keywords_dict[0] and w not in keywords_dict[3]] #ingredient "
   ]
  },
  {
   "cell_type": "code",
   "execution_count": 215,
   "id": "c64eb4eb",
   "metadata": {},
   "outputs": [
    {
     "data": {
      "text/plain": [
       "['fancy_feast',\n",
       " 'wet',\n",
       " 'can',\n",
       " 'keep',\n",
       " 'enjoy',\n",
       " 'like',\n",
       " 'happy',\n",
       " 'prefer',\n",
       " 'favorite',\n",
       " 'great']"
      ]
     },
     "execution_count": 215,
     "metadata": {},
     "output_type": "execute_result"
    }
   ],
   "source": [
    "[w for w in keywords_dict[2] if w not in  keywords_dict[1] and w not in  keywords_dict[0] and w not in keywords_dict[3]] #flavor"
   ]
  },
  {
   "cell_type": "code",
   "execution_count": 51,
   "id": "9e415661",
   "metadata": {},
   "outputs": [],
   "source": [
    "# pyLDAvis.enable_notebook()\n",
    "# topic_data =  pyLDAvis.gensim_models.prepare(cats_food_optimal_model, \n",
    "#                                              cats_food_doc_term_matrix, \n",
    "#                                              cats_food_dictionary, \n",
    "#                                              mds = 'tsne')\n",
    "# pyLDAvis.display(topic_data)"
   ]
  },
  {
   "cell_type": "code",
   "execution_count": 16,
   "id": "a1073f9f",
   "metadata": {},
   "outputs": [],
   "source": [
    "def format_topics_sentences(ldamodel, corpus, texts):\n",
    "    # Init output\n",
    "    sent_topics_df = pd.DataFrame()\n",
    "\n",
    "    # Get main topic in each document\n",
    "    for i, row in enumerate(ldamodel[corpus]):\n",
    "            row = sorted(row, key=lambda x: (x[1]), reverse=True)\n",
    "            # Get the Dominant topic, Perc Contribution and Keywords for each document\n",
    "            for j, (topic_num, prop_topic) in enumerate(row):\n",
    "                #if j == 0:  # => dominant topic (topic_num, prop_topic) sorted descending in the row\n",
    "                wp = ldamodel.show_topic(topic_num)\n",
    "                topic_keywords = \", \".join([word for word, prop in wp])\n",
    "                sent_topics_df = sent_topics_df.append(pd.Series([i, int(topic_num), round(prop_topic,4), topic_keywords]), ignore_index=True)\n",
    "    sent_topics_df.columns = ['index', 'Topic', 'Perc_Contribution', 'Topic_Keywords']\n",
    "\n",
    "    # Add original text to the end of the output\n",
    "    contents = pd.Series(texts).reset_index()\n",
    "    contents.columns = ['index', 'Tokens']\n",
    "    sent_topics_df = contents.merge(sent_topics_df, left_on = 'index', right_on = 'index')\n",
    "    return(sent_topics_df)"
   ]
  },
  {
   "cell_type": "code",
   "execution_count": 77,
   "id": "b88b9e32",
   "metadata": {},
   "outputs": [],
   "source": [
    "df_topic_sents_keywords = format_topics_sentences(ldamodel=cats_food_optimal_model, \n",
    "                                                  corpus=cats_food_doc_term_matrix[:2], \n",
    "                                                  texts=cats_food_reviews2[ :2])\n",
    "wide_df_topic_sents_keywords = df_topic_sents_keywords.pivot(index=['index'], columns='Topic', values='Perc_Contribution')"
   ]
  },
  {
   "cell_type": "code",
   "execution_count": 78,
   "id": "d98c1a5b",
   "metadata": {},
   "outputs": [
    {
     "data": {
      "text/html": [
       "<div>\n",
       "<style scoped>\n",
       "    .dataframe tbody tr th:only-of-type {\n",
       "        vertical-align: middle;\n",
       "    }\n",
       "\n",
       "    .dataframe tbody tr th {\n",
       "        vertical-align: top;\n",
       "    }\n",
       "\n",
       "    .dataframe thead th {\n",
       "        text-align: right;\n",
       "    }\n",
       "</style>\n",
       "<table border=\"1\" class=\"dataframe\">\n",
       "  <thead>\n",
       "    <tr style=\"text-align: right;\">\n",
       "      <th>Topic</th>\n",
       "      <th>0.0</th>\n",
       "      <th>1.0</th>\n",
       "      <th>2.0</th>\n",
       "      <th>3.0</th>\n",
       "    </tr>\n",
       "    <tr>\n",
       "      <th>index</th>\n",
       "      <th></th>\n",
       "      <th></th>\n",
       "      <th></th>\n",
       "      <th></th>\n",
       "    </tr>\n",
       "  </thead>\n",
       "  <tbody>\n",
       "    <tr>\n",
       "      <th>0</th>\n",
       "      <td>0.6181</td>\n",
       "      <td>0.2918</td>\n",
       "      <td>0.0832</td>\n",
       "      <td>NaN</td>\n",
       "    </tr>\n",
       "    <tr>\n",
       "      <th>1</th>\n",
       "      <td>0.1848</td>\n",
       "      <td>0.7847</td>\n",
       "      <td>0.0153</td>\n",
       "      <td>0.0151</td>\n",
       "    </tr>\n",
       "  </tbody>\n",
       "</table>\n",
       "</div>"
      ],
      "text/plain": [
       "Topic     0.0     1.0     2.0     3.0\n",
       "index                                \n",
       "0      0.6181  0.2918  0.0832     NaN\n",
       "1      0.1848  0.7847  0.0153  0.0151"
      ]
     },
     "execution_count": 78,
     "metadata": {},
     "output_type": "execute_result"
    }
   ],
   "source": [
    "wide_df_topic_sents_keywords"
   ]
  },
  {
   "cell_type": "code",
   "execution_count": 82,
   "id": "bf0821e2",
   "metadata": {},
   "outputs": [],
   "source": [
    "#df_topic_sents_keywords['Dominant_Topic'].value_counts(normalize = True)"
   ]
  },
  {
   "cell_type": "code",
   "execution_count": 80,
   "id": "a8b39013",
   "metadata": {},
   "outputs": [],
   "source": [
    "# # Number of Documents for Each Topic\n",
    "# topic_counts = df_topic_sents_keywords['Dominant_Topic'].value_counts()\n",
    "\n",
    "# # Percentage of Documents for Each Topic\n",
    "# topic_contribution = round(topic_counts/topic_counts.sum(), 4)\n",
    "\n",
    "# # Topic Number and Keywords\n",
    "# topic_num_keywords = df_topic_sents_keywords[['Dominant_Topic', 'Topic_Keywords']]\n",
    "\n",
    "# # Concatenate Column wise\n",
    "# df_dominant_topics = pd.concat([topic_num_keywords, topic_counts, topic_contribution], axis=1)\n",
    "\n",
    "# # Change Column names\n",
    "# df_dominant_topics.columns = ['Dominant_Topic', 'Topic_Keywords', 'Num_Documents', 'Perc_Documents']\n",
    "\n",
    "# # Show\n",
    "# df_dominant_topics"
   ]
  },
  {
   "cell_type": "markdown",
   "id": "63cec613",
   "metadata": {},
   "source": [
    "## 3. cat toys (0/4)"
   ]
  },
  {
   "cell_type": "code",
   "execution_count": 17,
   "id": "d10530db",
   "metadata": {},
   "outputs": [
    {
     "data": {
      "application/vnd.jupyter.widget-view+json": {
       "model_id": "3fe6b0b952b44b6481f15a0aea11d7c2",
       "version_major": 2,
       "version_minor": 0
      },
      "text/plain": [
       "  0%|          | 0/36078 [00:00<?, ?it/s]"
      ]
     },
     "metadata": {},
     "output_type": "display_data"
    },
    {
     "data": {
      "application/vnd.jupyter.widget-view+json": {
       "model_id": "e537f1483c9840b0abf8c3ce01f940c8",
       "version_major": 2,
       "version_minor": 0
      },
      "text/plain": [
       "  0%|          | 0/36078 [00:00<?, ?it/s]"
      ]
     },
     "metadata": {},
     "output_type": "display_data"
    }
   ],
   "source": [
    "cats_toys_dictionary, cats_toys_doc_term_matrix = vectorize(cats_toys_reviews2)\n",
    "# cats_toys_model_list, cats_toys_coherence_values = compute_coherence_values(dictionary=cats_toys_dictionary, \n",
    "#                                                     corpus=cats_toys_doc_term_matrix, \n",
    "#                                                     texts=cats_toys_reviews2, \n",
    "#                                                     start=2, \n",
    "#                                                     limit=20, \n",
    "#                                                     step=2)\n",
    "\n",
    "# limit=20; start=2; step=2;\n",
    "# x = range(start, limit, step)\n",
    "# plt.plot(x, cats_toys_coherence_values)\n",
    "# plt.xlabel(\"Num Topics\")\n",
    "# plt.ylabel(\"Coherence score\")\n",
    "# plt.legend((\"coherence_values\"), loc='best')\n",
    "# plt.show()\n",
    "# for m, cv in zip(x, cats_toys_coherence_values):\n",
    "#     print(\"Num Topics =\", m, \" has Coherence Value of\", round(cv, 4))"
   ]
  },
  {
   "cell_type": "code",
   "execution_count": 28,
   "id": "90d8b5d2",
   "metadata": {},
   "outputs": [],
   "source": [
    "# with open ('./cats_toys_model_list.pickle', 'wb') as handle:\n",
    "#     pickle.dump(cats_toys_model_list, handle)"
   ]
  },
  {
   "cell_type": "code",
   "execution_count": 11,
   "id": "7004e883",
   "metadata": {},
   "outputs": [],
   "source": [
    "with open ('./model/cats_toys_model_list.pickle', 'rb') as handle:\n",
    "     cats_toys_model_list = pickle.load(handle)"
   ]
  },
  {
   "cell_type": "code",
   "execution_count": 18,
   "id": "caf05a17",
   "metadata": {},
   "outputs": [
    {
     "data": {
      "text/plain": [
       "0.3751033707474788"
      ]
     },
     "execution_count": 18,
     "metadata": {},
     "output_type": "execute_result"
    }
   ],
   "source": [
    "CoherenceModel(model=cats_toys_model_list[1], \n",
    "               texts=cats_toys_reviews2, \n",
    "               dictionary=cats_toys_dictionary, \n",
    "               coherence='c_v').get_coherence()"
   ]
  },
  {
   "cell_type": "code",
   "execution_count": 129,
   "id": "de9ce8ed",
   "metadata": {},
   "outputs": [
    {
     "data": {
      "text/plain": [
       "0.6136577381694276"
      ]
     },
     "execution_count": 129,
     "metadata": {},
     "output_type": "execute_result"
    }
   ],
   "source": [
    "CoherenceModel(model=cats_toys_model_list[2], \n",
    "               texts=cats_toys_reviews2, \n",
    "               dictionary=cats_toys_dictionary, \n",
    "               coherence='c_v').get_coherence()"
   ]
  },
  {
   "cell_type": "code",
   "execution_count": 19,
   "id": "0875aead",
   "metadata": {},
   "outputs": [
    {
     "data": {
      "text/plain": [
       "[(0,\n",
       "  '0.042*\"buy\" + 0.029*\"love\" + 0.024*\"get\" + 0.016*\"play\" + 0.016*\"old\" + 0.015*\"catnip\" + 0.014*\"recommend\" + 0.013*\"good\" + 0.013*\"well\" + 0.012*\"little\" + 0.011*\"find\" + 0.011*\"great\" + 0.011*\"still\" + 0.010*\"make\" + 0.010*\"even\" + 0.009*\"new\" + 0.009*\"happy\" + 0.009*\"purchase\" + 0.008*\"keep\" + 0.008*\"small\" + 0.008*\"last\" + 0.008*\"highly\" + 0.008*\"come\" + 0.007*\"use\" + 0.007*\"always\" + 0.006*\"also\" + 0.006*\"carry\" + 0.006*\"much\" + 0.006*\"lose\" + 0.006*\"definitely\"'),\n",
       " (1,\n",
       "  '0.048*\"love\" + 0.040*\"go\" + 0.036*\"play\" + 0.029*\"get\" + 0.017*\"make\" + 0.017*\"much\" + 0.016*\"crazy\" + 0.013*\"great\" + 0.011*\"favorite\" + 0.011*\"really\" + 0.011*\"never\" + 0.011*\"little\" + 0.010*\"well\" + 0.010*\"know\" + 0.010*\"think\" + 0.010*\"even\" + 0.010*\"chase\" + 0.009*\"give\" + 0.009*\"see\" + 0.008*\"look\" + 0.008*\"around\" + 0.008*\"say\" + 0.007*\"also\" + 0.007*\"absolutely\" + 0.006*\"good\" + 0.006*\"worth\" + 0.006*\"fly\" + 0.006*\"keep\" + 0.005*\"carry\" + 0.005*\"nuts\"'),\n",
       " (2,\n",
       "  '0.026*\"seem\" + 0.025*\"make\" + 0.023*\"well\" + 0.019*\"really\" + 0.016*\"like\" + 0.016*\"play\" + 0.014*\"think\" + 0.014*\"much\" + 0.013*\"long\" + 0.012*\"still\" + 0.011*\"get\" + 0.011*\"also\" + 0.010*\"work\" + 0.009*\"nice\" + 0.009*\"small\" + 0.009*\"enjoy\" + 0.009*\"break\" + 0.009*\"maybe\" + 0.008*\"little\" + 0.008*\"come\" + 0.008*\"good\" + 0.008*\"use\" + 0.007*\"hard\" + 0.007*\"go\" + 0.006*\"pretty\" + 0.006*\"look\" + 0.006*\"see\" + 0.006*\"attach\" + 0.006*\"interested\" + 0.005*\"last\"'),\n",
       " (3,\n",
       "  '0.052*\"get\" + 0.022*\"put\" + 0.022*\"try\" + 0.020*\"play\" + 0.015*\"go\" + 0.013*\"back\" + 0.013*\"come\" + 0.013*\"keep\" + 0.013*\"even\" + 0.012*\"take\" + 0.012*\"away\" + 0.010*\"give\" + 0.009*\"make\" + 0.009*\"use\" + 0.008*\"great\" + 0.008*\"first\" + 0.008*\"want\" + 0.008*\"little\" + 0.008*\"together\" + 0.008*\"see\" + 0.008*\"good\" + 0.008*\"sit\" + 0.007*\"run\" + 0.007*\"sometimes\" + 0.007*\"right\" + 0.007*\"watch\" + 0.007*\"move\" + 0.006*\"think\" + 0.006*\"easy\" + 0.006*\"enough\"')]"
      ]
     },
     "execution_count": 19,
     "metadata": {},
     "output_type": "execute_result"
    }
   ],
   "source": [
    "cats_toys_optimal_model = cats_toys_model_list[1]\n",
    "model_topics = cats_toys_optimal_model.show_topics(formatted=False)\n",
    "keywords_dict = get_keywords(cats_toys_doc_term_matrix, model = cats_toys_optimal_model)\n",
    "cats_toys_optimal_model.print_topics(num_topics=4, num_words=30)"
   ]
  },
  {
   "cell_type": "code",
   "execution_count": 20,
   "id": "5c8d0f43",
   "metadata": {},
   "outputs": [
    {
     "data": {
      "text/plain": [
       "['crazy', 'favorite', 'never', 'know', 'chase', 'look']"
      ]
     },
     "execution_count": 20,
     "metadata": {},
     "output_type": "execute_result"
    }
   ],
   "source": [
    "[w for w in keywords_dict[0] if w not in  keywords_dict[1] and w not in  keywords_dict[2] and w not in  keywords_dict[3]]"
   ]
  },
  {
   "cell_type": "code",
   "execution_count": 21,
   "id": "6691b88e",
   "metadata": {},
   "outputs": [
    {
     "data": {
      "text/plain": [
       "['put', 'try', 'back', 'take', 'away', 'use', 'first', 'want', 'together']"
      ]
     },
     "execution_count": 21,
     "metadata": {},
     "output_type": "execute_result"
    }
   ],
   "source": [
    "[w for w in keywords_dict[1] if w not in  keywords_dict[0] and w not in  keywords_dict[2] and w not in  keywords_dict[3]]"
   ]
  },
  {
   "cell_type": "code",
   "execution_count": 22,
   "id": "4be6e183",
   "metadata": {},
   "outputs": [
    {
     "data": {
      "text/plain": [
       "['seem', 'like', 'long', 'also', 'work', 'nice', 'enjoy', 'break', 'maybe']"
      ]
     },
     "execution_count": 22,
     "metadata": {},
     "output_type": "execute_result"
    }
   ],
   "source": [
    "[w for w in keywords_dict[2] if w not in  keywords_dict[0] and w not in  keywords_dict[1] and w not in  keywords_dict[3]]"
   ]
  },
  {
   "cell_type": "code",
   "execution_count": 23,
   "id": "2026ec4d",
   "metadata": {},
   "outputs": [
    {
     "data": {
      "text/plain": [
       "['buy',\n",
       " 'old',\n",
       " 'catnip',\n",
       " 'recommend',\n",
       " 'good',\n",
       " 'find',\n",
       " 'new',\n",
       " 'happy',\n",
       " 'purchase']"
      ]
     },
     "execution_count": 23,
     "metadata": {},
     "output_type": "execute_result"
    }
   ],
   "source": [
    "[w for w in keywords_dict[3] if w not in  keywords_dict[0] and w not in  keywords_dict[2] and w not in  keywords_dict[1]]"
   ]
  },
  {
   "cell_type": "code",
   "execution_count": 24,
   "id": "5b6b82af",
   "metadata": {},
   "outputs": [
    {
     "ename": "IndexError",
     "evalue": "index 5541 is out of bounds for axis 1 with size 5541",
     "output_type": "error",
     "traceback": [
      "\u001b[1;31m---------------------------------------------------------------------------\u001b[0m",
      "\u001b[1;31mIndexError\u001b[0m                                Traceback (most recent call last)",
      "\u001b[1;32mC:\\Users\\JIATIN~1\\AppData\\Local\\Temp/ipykernel_35440/1107927963.py\u001b[0m in \u001b[0;36m<module>\u001b[1;34m\u001b[0m\n\u001b[0;32m      1\u001b[0m \u001b[0mpyLDAvis\u001b[0m\u001b[1;33m.\u001b[0m\u001b[0menable_notebook\u001b[0m\u001b[1;33m(\u001b[0m\u001b[1;33m)\u001b[0m\u001b[1;33m\u001b[0m\u001b[1;33m\u001b[0m\u001b[0m\n\u001b[1;32m----> 2\u001b[1;33m topic_data =  pyLDAvis.gensim_models.prepare(cats_toys_optimal_model, \n\u001b[0m\u001b[0;32m      3\u001b[0m                                              \u001b[0mcats_toys_doc_term_matrix\u001b[0m\u001b[1;33m,\u001b[0m\u001b[1;33m\u001b[0m\u001b[1;33m\u001b[0m\u001b[0m\n\u001b[0;32m      4\u001b[0m                                              \u001b[0mcats_toys_dictionary\u001b[0m\u001b[1;33m,\u001b[0m\u001b[1;33m\u001b[0m\u001b[1;33m\u001b[0m\u001b[0m\n\u001b[0;32m      5\u001b[0m                                              mds = 'tsne')\n",
      "\u001b[1;32m~\\anaconda3\\lib\\site-packages\\pyLDAvis\\gensim_models.py\u001b[0m in \u001b[0;36mprepare\u001b[1;34m(topic_model, corpus, dictionary, doc_topic_dist, **kwargs)\u001b[0m\n\u001b[0;32m    120\u001b[0m     \u001b[0mSee\u001b[0m\u001b[0;31m \u001b[0m\u001b[0;31m`\u001b[0m\u001b[0mpyLDAvis\u001b[0m\u001b[1;33m.\u001b[0m\u001b[0mprepare\u001b[0m\u001b[0;31m`\u001b[0m \u001b[1;32mfor\u001b[0m \u001b[1;33m**\u001b[0m\u001b[0mkwargs\u001b[0m\u001b[1;33m.\u001b[0m\u001b[1;33m\u001b[0m\u001b[1;33m\u001b[0m\u001b[0m\n\u001b[0;32m    121\u001b[0m     \"\"\"\n\u001b[1;32m--> 122\u001b[1;33m     \u001b[0mopts\u001b[0m \u001b[1;33m=\u001b[0m \u001b[0mfp\u001b[0m\u001b[1;33m.\u001b[0m\u001b[0mmerge\u001b[0m\u001b[1;33m(\u001b[0m\u001b[0m_extract_data\u001b[0m\u001b[1;33m(\u001b[0m\u001b[0mtopic_model\u001b[0m\u001b[1;33m,\u001b[0m \u001b[0mcorpus\u001b[0m\u001b[1;33m,\u001b[0m \u001b[0mdictionary\u001b[0m\u001b[1;33m,\u001b[0m \u001b[0mdoc_topic_dist\u001b[0m\u001b[1;33m)\u001b[0m\u001b[1;33m,\u001b[0m \u001b[0mkwargs\u001b[0m\u001b[1;33m)\u001b[0m\u001b[1;33m\u001b[0m\u001b[1;33m\u001b[0m\u001b[0m\n\u001b[0m\u001b[0;32m    123\u001b[0m     \u001b[1;32mreturn\u001b[0m \u001b[0mpyLDAvis\u001b[0m\u001b[1;33m.\u001b[0m\u001b[0mprepare\u001b[0m\u001b[1;33m(\u001b[0m\u001b[1;33m**\u001b[0m\u001b[0mopts\u001b[0m\u001b[1;33m)\u001b[0m\u001b[1;33m\u001b[0m\u001b[1;33m\u001b[0m\u001b[0m\n",
      "\u001b[1;32m~\\anaconda3\\lib\\site-packages\\pyLDAvis\\gensim_models.py\u001b[0m in \u001b[0;36m_extract_data\u001b[1;34m(topic_model, corpus, dictionary, doc_topic_dists)\u001b[0m\n\u001b[0;32m     47\u001b[0m             \u001b[0mgamma\u001b[0m \u001b[1;33m=\u001b[0m \u001b[0mtopic_model\u001b[0m\u001b[1;33m.\u001b[0m\u001b[0minference\u001b[0m\u001b[1;33m(\u001b[0m\u001b[0mcorpus\u001b[0m\u001b[1;33m)\u001b[0m\u001b[1;33m\u001b[0m\u001b[1;33m\u001b[0m\u001b[0m\n\u001b[0;32m     48\u001b[0m         \u001b[1;32melse\u001b[0m\u001b[1;33m:\u001b[0m\u001b[1;33m\u001b[0m\u001b[1;33m\u001b[0m\u001b[0m\n\u001b[1;32m---> 49\u001b[1;33m             \u001b[0mgamma\u001b[0m\u001b[1;33m,\u001b[0m \u001b[0m_\u001b[0m \u001b[1;33m=\u001b[0m \u001b[0mtopic_model\u001b[0m\u001b[1;33m.\u001b[0m\u001b[0minference\u001b[0m\u001b[1;33m(\u001b[0m\u001b[0mcorpus\u001b[0m\u001b[1;33m)\u001b[0m\u001b[1;33m\u001b[0m\u001b[1;33m\u001b[0m\u001b[0m\n\u001b[0m\u001b[0;32m     50\u001b[0m         \u001b[0mdoc_topic_dists\u001b[0m \u001b[1;33m=\u001b[0m \u001b[0mgamma\u001b[0m \u001b[1;33m/\u001b[0m \u001b[0mgamma\u001b[0m\u001b[1;33m.\u001b[0m\u001b[0msum\u001b[0m\u001b[1;33m(\u001b[0m\u001b[0maxis\u001b[0m\u001b[1;33m=\u001b[0m\u001b[1;36m1\u001b[0m\u001b[1;33m)\u001b[0m\u001b[1;33m[\u001b[0m\u001b[1;33m:\u001b[0m\u001b[1;33m,\u001b[0m \u001b[1;32mNone\u001b[0m\u001b[1;33m]\u001b[0m\u001b[1;33m\u001b[0m\u001b[1;33m\u001b[0m\u001b[0m\n\u001b[0;32m     51\u001b[0m     \u001b[1;32melse\u001b[0m\u001b[1;33m:\u001b[0m\u001b[1;33m\u001b[0m\u001b[1;33m\u001b[0m\u001b[0m\n",
      "\u001b[1;32m~\\anaconda3\\lib\\site-packages\\gensim\\models\\ldamodel.py\u001b[0m in \u001b[0;36minference\u001b[1;34m(self, chunk, collect_sstats)\u001b[0m\n\u001b[0;32m    678\u001b[0m             \u001b[0mElogthetad\u001b[0m \u001b[1;33m=\u001b[0m \u001b[0mElogtheta\u001b[0m\u001b[1;33m[\u001b[0m\u001b[0md\u001b[0m\u001b[1;33m,\u001b[0m \u001b[1;33m:\u001b[0m\u001b[1;33m]\u001b[0m\u001b[1;33m\u001b[0m\u001b[1;33m\u001b[0m\u001b[0m\n\u001b[0;32m    679\u001b[0m             \u001b[0mexpElogthetad\u001b[0m \u001b[1;33m=\u001b[0m \u001b[0mexpElogtheta\u001b[0m\u001b[1;33m[\u001b[0m\u001b[0md\u001b[0m\u001b[1;33m,\u001b[0m \u001b[1;33m:\u001b[0m\u001b[1;33m]\u001b[0m\u001b[1;33m\u001b[0m\u001b[1;33m\u001b[0m\u001b[0m\n\u001b[1;32m--> 680\u001b[1;33m             \u001b[0mexpElogbetad\u001b[0m \u001b[1;33m=\u001b[0m \u001b[0mself\u001b[0m\u001b[1;33m.\u001b[0m\u001b[0mexpElogbeta\u001b[0m\u001b[1;33m[\u001b[0m\u001b[1;33m:\u001b[0m\u001b[1;33m,\u001b[0m \u001b[0mids\u001b[0m\u001b[1;33m]\u001b[0m\u001b[1;33m\u001b[0m\u001b[1;33m\u001b[0m\u001b[0m\n\u001b[0m\u001b[0;32m    681\u001b[0m \u001b[1;33m\u001b[0m\u001b[0m\n\u001b[0;32m    682\u001b[0m             \u001b[1;31m# The optimal phi_{dwk} is proportional to expElogthetad_k * expElogbetad_w.\u001b[0m\u001b[1;33m\u001b[0m\u001b[1;33m\u001b[0m\u001b[0m\n",
      "\u001b[1;31mIndexError\u001b[0m: index 5541 is out of bounds for axis 1 with size 5541"
     ]
    }
   ],
   "source": [
    "pyLDAvis.enable_notebook()\n",
    "topic_data =  pyLDAvis.gensim_models.prepare(cats_toys_optimal_model, \n",
    "                                             cats_toys_doc_term_matrix, \n",
    "                                             cats_toys_dictionary, \n",
    "                                             mds = 'tsne')\n",
    "pyLDAvis.display(topic_data)"
   ]
  },
  {
   "cell_type": "markdown",
   "id": "4dcd4ed2",
   "metadata": {},
   "source": [
    "## 4. cats beds (2/4)"
   ]
  },
  {
   "cell_type": "code",
   "execution_count": 135,
   "id": "571af1ab",
   "metadata": {},
   "outputs": [
    {
     "data": {
      "application/vnd.jupyter.widget-view+json": {
       "model_id": "1497b5ebd9f1449d87bb442aedb25316",
       "version_major": 2,
       "version_minor": 0
      },
      "text/plain": [
       "  0%|          | 0/5840 [00:00<?, ?it/s]"
      ]
     },
     "metadata": {},
     "output_type": "display_data"
    },
    {
     "data": {
      "application/vnd.jupyter.widget-view+json": {
       "model_id": "5a02e9cf540444ad88eed3979e0cc7de",
       "version_major": 2,
       "version_minor": 0
      },
      "text/plain": [
       "  0%|          | 0/5840 [00:00<?, ?it/s]"
      ]
     },
     "metadata": {},
     "output_type": "display_data"
    }
   ],
   "source": [
    "cats_beds_dictionary, cats_beds_doc_term_matrix = vectorize(cats_beds_reviews2)\n",
    "# cats_beds_model_list, cats_beds_coherence_values = compute_coherence_values(dictionary=cats_beds_dictionary, \n",
    "#                                                     corpus=cats_beds_doc_term_matrix, \n",
    "#                                                     texts=cats_beds_reviews2, \n",
    "#                                                     start=2, \n",
    "#                                                     limit=20, \n",
    "#                                                     step=2)\n",
    "\n",
    "# limit=20; start=2; step=2;\n",
    "# x = range(start, limit, step)\n",
    "# plt.plot(x, cats_beds_coherence_values)\n",
    "# plt.xlabel(\"Num Topics\")\n",
    "# plt.ylabel(\"Coherence score\")\n",
    "# plt.legend((\"coherence_values\"), loc='best')\n",
    "# plt.show()"
   ]
  },
  {
   "cell_type": "code",
   "execution_count": 31,
   "id": "8d429f87",
   "metadata": {},
   "outputs": [
    {
     "name": "stdout",
     "output_type": "stream",
     "text": [
      "Num Topics = 2  has Coherence Value of 0.5773\n",
      "Num Topics = 4  has Coherence Value of 0.6171\n",
      "Num Topics = 6  has Coherence Value of 0.6064\n",
      "Num Topics = 8  has Coherence Value of 0.593\n",
      "Num Topics = 10  has Coherence Value of 0.6091\n",
      "Num Topics = 12  has Coherence Value of 0.5758\n",
      "Num Topics = 14  has Coherence Value of 0.5343\n",
      "Num Topics = 16  has Coherence Value of 0.546\n",
      "Num Topics = 18  has Coherence Value of 0.55\n"
     ]
    }
   ],
   "source": [
    "# for m, cv in zip(x, cats_beds_coherence_values):\n",
    "#     print(\"Num Topics =\", m, \" has Coherence Value of\", round(cv, 4))"
   ]
  },
  {
   "cell_type": "code",
   "execution_count": 33,
   "id": "b3a12e7d",
   "metadata": {},
   "outputs": [],
   "source": [
    "# with open ('./cats_beds_model_list.pickle', 'wb') as handle:\n",
    "#     pickle.dump(cats_beds_model_list, handle)"
   ]
  },
  {
   "cell_type": "code",
   "execution_count": 136,
   "id": "d8cd379a",
   "metadata": {},
   "outputs": [],
   "source": [
    "with open ('./model/cats_beds_model_list.pickle', 'rb') as handle:\n",
    "     cats_beds_model_list = pickle.load(handle)"
   ]
  },
  {
   "cell_type": "code",
   "execution_count": 144,
   "id": "b9f3ffb3",
   "metadata": {},
   "outputs": [
    {
     "data": {
      "text/plain": [
       "[(0,\n",
       "  '0.031*\"well\" + 0.028*\"easy\" + 0.026*\"make\" + 0.022*\"together\" + 0.022*\"put\" + 0.020*\"sturdy\" + 0.017*\"cat_tree\" + 0.016*\"good\" + 0.014*\"large\" + 0.013*\"look\" + 0.012*\"take\" + 0.012*\"love\" + 0.011*\"really\" + 0.011*\"little\" + 0.011*\"buy\" + 0.011*\"even\" + 0.010*\"assemble\" + 0.010*\"recommend\" + 0.009*\"top\" + 0.009*\"hold\" + 0.009*\"nice\" + 0.009*\"enough\" + 0.009*\"get\" + 0.008*\"great\" + 0.008*\"big\" + 0.008*\"also\" + 0.007*\"fit\" + 0.007*\"high\" + 0.007*\"seem\" + 0.007*\"go\"'),\n",
       " (1,\n",
       "  '0.033*\"get\" + 0.023*\"warm\" + 0.019*\"love\" + 0.018*\"soft\" + 0.017*\"keep\" + 0.016*\"buy\" + 0.015*\"nice\" + 0.014*\"great\" + 0.014*\"put\" + 0.014*\"well\" + 0.012*\"really\" + 0.011*\"small\" + 0.011*\"sleep\" + 0.010*\"comfortable\" + 0.010*\"fit\" + 0.009*\"cold\" + 0.009*\"also\" + 0.009*\"make\" + 0.008*\"seem\" + 0.008*\"good\" + 0.008*\"take\" + 0.008*\"come\" + 0.007*\"little\" + 0.007*\"go\" + 0.007*\"perfect\" + 0.007*\"feel\" + 0.007*\"wash\" + 0.007*\"large\" + 0.007*\"enough\" + 0.007*\"purchase\"'),\n",
       " (2,\n",
       "  '0.029*\"scratch\" + 0.023*\"look\" + 0.017*\"try\" + 0.016*\"use\" + 0.015*\"think\" + 0.013*\"seem\" + 0.013*\"also\" + 0.012*\"like\" + 0.012*\"new\" + 0.012*\"get\" + 0.011*\"buy\" + 0.011*\"even\" + 0.011*\"much\" + 0.010*\"still\" + 0.009*\"love\" + 0.009*\"really\" + 0.009*\"know\" + 0.009*\"sit\" + 0.009*\"see\" + 0.009*\"give\" + 0.009*\"away\" + 0.008*\"however\" + 0.008*\"go\" + 0.008*\"take\" + 0.008*\"right\" + 0.008*\"scratching_post\" + 0.008*\"nice\" + 0.007*\"little\" + 0.007*\"prefer\" + 0.006*\"want\"'),\n",
       " (3,\n",
       "  '0.017*\"apply\" + 0.015*\"well\" + 0.015*\"come\" + 0.014*\"make\" + 0.013*\"use\" + 0.013*\"try\" + 0.012*\"get\" + 0.012*\"seem\" + 0.010*\"work\" + 0.010*\"protect\" + 0.010*\"go\" + 0.009*\"want\" + 0.008*\"back\" + 0.008*\"pet\" + 0.007*\"pull\" + 0.007*\"scratch\" + 0.007*\"easy\" + 0.007*\"cut\" + 0.006*\"good\" + 0.006*\"give\" + 0.006*\"long\" + 0.006*\"put\" + 0.006*\"however\" + 0.006*\"thick\" + 0.006*\"see\" + 0.006*\"invisible\" + 0.005*\"clear\" + 0.005*\"easily\" + 0.005*\"trim\" + 0.005*\"cover\"'),\n",
       " (4,\n",
       "  '0.049*\"get\" + 0.042*\"use\" + 0.036*\"love\" + 0.024*\"play\" + 0.019*\"buy\" + 0.019*\"go\" + 0.015*\"good\" + 0.015*\"scratch\" + 0.015*\"old\" + 0.014*\"much\" + 0.014*\"still\" + 0.012*\"put\" + 0.012*\"great\" + 0.012*\"even\" + 0.012*\"first\" + 0.011*\"little\" + 0.010*\"really\" + 0.010*\"well\" + 0.010*\"keep\" + 0.009*\"take\" + 0.008*\"last\" + 0.008*\"make\" + 0.008*\"happy\" + 0.007*\"purchase\" + 0.007*\"sleep\" + 0.007*\"never\" + 0.007*\"think\" + 0.007*\"recommend\" + 0.007*\"find\" + 0.006*\"come\"'),\n",
       " (5,\n",
       "  '0.021*\"small\" + 0.019*\"get\" + 0.013*\"big\" + 0.012*\"want\" + 0.012*\"go\" + 0.012*\"take\" + 0.011*\"also\" + 0.011*\"put\" + 0.010*\"use\" + 0.010*\"see\" + 0.010*\"set\" + 0.008*\"first\" + 0.008*\"come\" + 0.008*\"top\" + 0.007*\"attach\" + 0.007*\"look\" + 0.007*\"back\" + 0.007*\"make\" + 0.006*\"open\" + 0.006*\"little\" + 0.006*\"say\" + 0.006*\"much\" + 0.006*\"together\" + 0.006*\"think\" + 0.006*\"really\" + 0.006*\"easily\" + 0.006*\"hold\" + 0.006*\"able\" + 0.005*\"easy\" + 0.005*\"however\"')]"
      ]
     },
     "execution_count": 144,
     "metadata": {},
     "output_type": "execute_result"
    }
   ],
   "source": [
    "cats_beds_optimal_model = cats_beds_model_list[2]\n",
    "model_topics = cats_beds_optimal_model.show_topics(formatted=False)\n",
    "keywords_dict = get_keywords(cats_beds_doc_term_matrix, model = cats_beds_optimal_model)\n",
    "\n",
    "cats_beds_optimal_model.print_topics(num_topics=6, num_words=30)"
   ]
  },
  {
   "cell_type": "markdown",
   "id": "f8f5effe",
   "metadata": {},
   "source": [
    "### num_topics 6 (**check**) v.s. 4"
   ]
  },
  {
   "cell_type": "code",
   "execution_count": 145,
   "id": "6dbb0b3f",
   "metadata": {},
   "outputs": [
    {
     "data": {
      "text/plain": [
       "['play', 'old']"
      ]
     },
     "execution_count": 145,
     "metadata": {},
     "output_type": "execute_result"
    }
   ],
   "source": [
    "[w for w in keywords_dict[0] if w not in  keywords_dict[1]\\\n",
    "                                and w not in  keywords_dict[2]\\\n",
    "                                and w not in  keywords_dict[3]\\\n",
    "                                and w not in  keywords_dict[4]\\\n",
    "                                and w not in  keywords_dict[5]]"
   ]
  },
  {
   "cell_type": "code",
   "execution_count": 146,
   "id": "db56f7c6",
   "metadata": {},
   "outputs": [
    {
     "data": {
      "text/plain": [
       "['think', 'like', 'new', 'know', 'sit']"
      ]
     },
     "execution_count": 146,
     "metadata": {},
     "output_type": "execute_result"
    }
   ],
   "source": [
    "[w for w in keywords_dict[1] if w not in  keywords_dict[0]\\\n",
    "                                and w not in  keywords_dict[2]\\\n",
    "                                and w not in  keywords_dict[3]\\\n",
    "                                and w not in  keywords_dict[4]\\\n",
    "                                and w not in  keywords_dict[5]] "
   ]
  },
  {
   "cell_type": "code",
   "execution_count": 147,
   "id": "0df418d2",
   "metadata": {},
   "outputs": [
    {
     "data": {
      "text/plain": [
       "['together', 'sturdy', 'cat_tree', 'large', 'assemble', 'recommend', 'hold']"
      ]
     },
     "execution_count": 147,
     "metadata": {},
     "output_type": "execute_result"
    }
   ],
   "source": [
    "[w for w in keywords_dict[2] if w not in  keywords_dict[1]\\\n",
    "                                and w not in  keywords_dict[0]\\\n",
    "                                and w not in  keywords_dict[3]\\\n",
    "                                and w not in  keywords_dict[4]\\\n",
    "                                and w not in  keywords_dict[5]] #sturdy/assemble/hold"
   ]
  },
  {
   "cell_type": "code",
   "execution_count": 148,
   "id": "5970ed48",
   "metadata": {},
   "outputs": [
    {
     "data": {
      "text/plain": [
       "['big', 'set', 'attach', 'open']"
      ]
     },
     "execution_count": 148,
     "metadata": {},
     "output_type": "execute_result"
    }
   ],
   "source": [
    "[w for w in keywords_dict[3] if w not in  keywords_dict[1]\\\n",
    "                                and w not in  keywords_dict[2]\\\n",
    "                                and w not in  keywords_dict[0]\\\n",
    "                                and w not in  keywords_dict[4]\\\n",
    "                                and w not in  keywords_dict[5]]"
   ]
  },
  {
   "cell_type": "code",
   "execution_count": 149,
   "id": "a7fa50bf",
   "metadata": {},
   "outputs": [
    {
     "data": {
      "text/plain": [
       "['warm', 'soft', 'nice', 'sleep', 'comfortable', 'fit', 'cold']"
      ]
     },
     "execution_count": 149,
     "metadata": {},
     "output_type": "execute_result"
    }
   ],
   "source": [
    "[w for w in keywords_dict[4] if w not in  keywords_dict[1]\\\n",
    "                                and w not in  keywords_dict[2]\\\n",
    "                                and w not in  keywords_dict[0]\\\n",
    "                                and w not in  keywords_dict[3]\\\n",
    "                                and w not in  keywords_dict[5]] #warm/soft/comfortable"
   ]
  },
  {
   "cell_type": "code",
   "execution_count": 150,
   "id": "c732db90",
   "metadata": {},
   "outputs": [
    {
     "data": {
      "text/plain": [
       "['apply', 'work', 'protect', 'pet', 'pull', 'cut']"
      ]
     },
     "execution_count": 150,
     "metadata": {},
     "output_type": "execute_result"
    }
   ],
   "source": [
    "[w for w in keywords_dict[5] if w not in  keywords_dict[1]\\\n",
    "                                and w not in  keywords_dict[2]\\\n",
    "                                and w not in  keywords_dict[0]\\\n",
    "                                and w not in  keywords_dict[4]\\\n",
    "                                and w not in  keywords_dict[3]] "
   ]
  },
  {
   "cell_type": "code",
   "execution_count": 152,
   "id": "f4f40b30",
   "metadata": {},
   "outputs": [
    {
     "data": {
      "text/plain": [
       "[(0,\n",
       "  '0.022*\"well\" + 0.021*\"easy\" + 0.020*\"make\" + 0.020*\"put\" + 0.019*\"together\" + 0.015*\"sturdy\" + 0.014*\"cat_tree\" + 0.012*\"take\" + 0.012*\"small\" + 0.012*\"large\" + 0.012*\"top\" + 0.011*\"look\" + 0.011*\"get\" + 0.011*\"little\" + 0.011*\"big\" + 0.011*\"good\" + 0.010*\"love\" + 0.010*\"really\" + 0.009*\"even\" + 0.009*\"assemble\" + 0.009*\"also\" + 0.008*\"hold\" + 0.008*\"great\" + 0.007*\"high\" + 0.007*\"use\" + 0.007*\"recommend\" + 0.007*\"go\" + 0.007*\"fit\" + 0.007*\"nice\" + 0.006*\"buy\"'),\n",
       " (1,\n",
       "  '0.034*\"get\" + 0.021*\"love\" + 0.020*\"warm\" + 0.018*\"buy\" + 0.015*\"soft\" + 0.015*\"keep\" + 0.015*\"great\" + 0.014*\"small\" + 0.013*\"put\" + 0.013*\"nice\" + 0.013*\"sleep\" + 0.012*\"well\" + 0.011*\"really\" + 0.010*\"fit\" + 0.009*\"make\" + 0.008*\"also\" + 0.008*\"comfortable\" + 0.008*\"use\" + 0.008*\"cold\" + 0.008*\"little\" + 0.007*\"go\" + 0.007*\"perfect\" + 0.007*\"seem\" + 0.007*\"take\" + 0.007*\"purchase\" + 0.007*\"good\" + 0.007*\"feel\" + 0.006*\"lay\" + 0.006*\"much\" + 0.006*\"come\"'),\n",
       " (2,\n",
       "  '0.033*\"use\" + 0.030*\"get\" + 0.023*\"love\" + 0.022*\"scratch\" + 0.019*\"buy\" + 0.014*\"much\" + 0.014*\"go\" + 0.014*\"still\" + 0.013*\"play\" + 0.013*\"good\" + 0.011*\"even\" + 0.011*\"look\" + 0.011*\"try\" + 0.010*\"think\" + 0.010*\"really\" + 0.010*\"seem\" + 0.010*\"old\" + 0.009*\"well\" + 0.009*\"also\" + 0.009*\"like\" + 0.008*\"little\" + 0.008*\"new\" + 0.007*\"great\" + 0.007*\"sit\" + 0.007*\"take\" + 0.007*\"last\" + 0.007*\"want\" + 0.007*\"first\" + 0.007*\"give\" + 0.006*\"long\"'),\n",
       " (3,\n",
       "  '0.018*\"get\" + 0.016*\"go\" + 0.015*\"come\" + 0.013*\"back\" + 0.011*\"put\" + 0.010*\"take\" + 0.009*\"make\" + 0.009*\"think\" + 0.009*\"see\" + 0.009*\"try\" + 0.009*\"seem\" + 0.008*\"want\" + 0.007*\"use\" + 0.007*\"little\" + 0.007*\"open\" + 0.006*\"well\" + 0.006*\"pull\" + 0.006*\"work\" + 0.006*\"give\" + 0.006*\"however\" + 0.005*\"easily\" + 0.005*\"first\" + 0.005*\"keep\" + 0.005*\"much\" + 0.005*\"also\" + 0.005*\"leave\" + 0.005*\"set\" + 0.005*\"jump\" + 0.005*\"find\" + 0.005*\"easy\"')]"
      ]
     },
     "execution_count": 152,
     "metadata": {},
     "output_type": "execute_result"
    }
   ],
   "source": [
    "cats_beds_optimal_model = cats_beds_model_list[1]\n",
    "model_topics = cats_beds_optimal_model.show_topics(formatted=False)\n",
    "keywords_dict = get_keywords(cats_beds_doc_term_matrix, model = cats_beds_optimal_model)\n",
    "\n",
    "cats_beds_optimal_model.print_topics(num_topics=4, num_words=30)"
   ]
  },
  {
   "cell_type": "code",
   "execution_count": 153,
   "id": "0609fe1a",
   "metadata": {},
   "outputs": [
    {
     "data": {
      "text/plain": [
       "['scratch', 'much', 'still', 'play', 'old', 'like']"
      ]
     },
     "execution_count": 153,
     "metadata": {},
     "output_type": "execute_result"
    }
   ],
   "source": [
    "[w for w in keywords_dict[1] if w not in  keywords_dict[0]\\\n",
    "                                and w not in  keywords_dict[2]\\\n",
    "                                and w not in  keywords_dict[3]] "
   ]
  },
  {
   "cell_type": "code",
   "execution_count": 154,
   "id": "a75f1b29",
   "metadata": {},
   "outputs": [
    {
     "data": {
      "text/plain": [
       "['easy', 'together', 'sturdy', 'cat_tree', 'large', 'top', 'big', 'assemble']"
      ]
     },
     "execution_count": 154,
     "metadata": {},
     "output_type": "execute_result"
    }
   ],
   "source": [
    "[w for w in keywords_dict[0] if w not in  keywords_dict[1]\\\n",
    "                                and w not in  keywords_dict[2]\\\n",
    "                                and w not in  keywords_dict[3]] #sturdy, assemble"
   ]
  },
  {
   "cell_type": "code",
   "execution_count": 155,
   "id": "21a37b48",
   "metadata": {},
   "outputs": [
    {
     "data": {
      "text/plain": [
       "['warm',\n",
       " 'soft',\n",
       " 'keep',\n",
       " 'great',\n",
       " 'nice',\n",
       " 'sleep',\n",
       " 'fit',\n",
       " 'comfortable',\n",
       " 'cold']"
      ]
     },
     "execution_count": 155,
     "metadata": {},
     "output_type": "execute_result"
    }
   ],
   "source": [
    "[w for w in keywords_dict[2] if w not in  keywords_dict[1]\\\n",
    "                                and w not in  keywords_dict[0]\\\n",
    "                                and w not in  keywords_dict[3]] #warm/soft/comofortable"
   ]
  },
  {
   "cell_type": "code",
   "execution_count": 156,
   "id": "162a69e4",
   "metadata": {},
   "outputs": [
    {
     "data": {
      "text/plain": [
       "['come', 'back', 'see', 'want', 'open', 'pull', 'work', 'give', 'however']"
      ]
     },
     "execution_count": 156,
     "metadata": {},
     "output_type": "execute_result"
    }
   ],
   "source": [
    "[w for w in keywords_dict[3] if w not in  keywords_dict[1]\\\n",
    "                                and w not in  keywords_dict[2]\\\n",
    "                                and w not in  keywords_dict[0]]  "
   ]
  },
  {
   "cell_type": "code",
   "execution_count": 157,
   "id": "007b350e",
   "metadata": {},
   "outputs": [
    {
     "name": "stderr",
     "output_type": "stream",
     "text": [
      "C:\\Users\\JiatingChen\\anaconda3\\lib\\site-packages\\pyLDAvis\\_prepare.py:246: FutureWarning: In a future version of pandas all arguments of DataFrame.drop except for the argument 'labels' will be keyword-only\n",
      "  default_term_info = default_term_info.sort_values(\n",
      "C:\\Users\\JiatingChen\\anaconda3\\lib\\site-packages\\sklearn\\manifold\\_t_sne.py:691: FutureWarning: 'square_distances' has been introduced in 0.24 to help phase out legacy squaring behavior. The 'legacy' setting will be removed in 1.1 (renaming of 0.26), and the default setting will be changed to True. In 1.3, 'square_distances' will be removed altogether, and distances will be squared by default. Set 'square_distances'=True to silence this warning.\n",
      "  warnings.warn(\n"
     ]
    },
    {
     "data": {
      "text/html": [
       "\n",
       "<link rel=\"stylesheet\" type=\"text/css\" href=\"https://cdn.jsdelivr.net/gh/bmabey/pyLDAvis@3.3.1/pyLDAvis/js/ldavis.v1.0.0.css\">\n",
       "\n",
       "\n",
       "<div id=\"ldavis_el2993617954848815209392689973\"></div>\n",
       "<script type=\"text/javascript\">\n",
       "\n",
       "var ldavis_el2993617954848815209392689973_data = {\"mdsDat\": {\"x\": [269.5624084472656, 1.782994270324707, 220.81143188476562, 50.533992767333984], \"y\": [-124.80339813232422, -295.0796813964844, -343.8321228027344, -76.05093383789062], \"topics\": [1, 2, 3, 4], \"cluster\": [1, 1, 1, 1], \"Freq\": [31.35779783583996, 30.667629546106074, 20.04500535716583, 17.92956726088813]}, \"tinfo\": {\"Term\": [\"scratch\", \"warm\", \"together\", \"sturdy\", \"cat_tree\", \"soft\", \"easy\", \"love\", \"assemble\", \"back\", \"get\", \"buy\", \"fit\", \"play\", \"use\", \"sleep\", \"cold\", \"comfortable\", \"keep\", \"small\", \"nice\", \"come\", \"lay\", \"try\", \"catnip\", \"heavy\", \"open\", \"jump\", \"large\", \"pull\", \"catnip\", \"occasionally\", \"cat_nip\", \"scratcher\", \"cardboard\", \"flip\", \"scratch_pad\", \"sprinkle\", \"feline\", \"cardboard_scratchers\", \"corrugated_cardboard\", \"scratching_pad\", \"cardboard_scratcher\", \"dig\", \"ball_around\", \"anymore\", \"upstairs\", \"spray\", \"catit\", \"playful\", \"scratch_pads\", \"appeal\", \"great_deal\", \"typical\", \"cardboard_box\", \"scratch\", \"donate\", \"worn\", \"catnip_spray\", \"lose\", \"popular\", \"rescue\", \"rub\", \"play\", \"local\", \"use\", \"unfortunately\", \"prefer\", \"continue\", \"crazy\", \"ignore\", \"ever\", \"wear\", \"still\", \"scratching_post\", \"interested\", \"like\", \"shred\", \"try\", \"sit\", \"buy\", \"love\", \"old\", \"last\", \"much\", \"never\", \"get\", \"new\", \"enjoy\", \"good\", \"go\", \"think\", \"even\", \"look\", \"seem\", \"really\", \"lay\", \"also\", \"first\", \"want\", \"long\", \"little\", \"well\", \"give\", \"great\", \"take\", \"sturdy\", \"cat_tree\", \"assemble\", \"heavy\", \"stable\", \"climb\", \"cat_trees\", \"wobble\", \"wobbly\", \"tighten\", \"flimsy\", \"screw\", \"upper\", \"sisal_rope\", \"fully\", \"knock\", \"pet_stores\", \"tight\", \"condo\", \"top_perch\", \"faux_fur\", \"affordable\", \"dangle\", \"tip\", \"package\", \"elastic\", \"nice_looking\", \"tie\", \"unstable\", \"molly\", \"support\", \"together\", \"tall\", \"easy\", \"high\", \"pleased\", \"construct\", \"build\", \"top\", \"hang\", \"large\", \"hold\", \"make\", \"big\", \"well\", \"put\", \"bottom\", \"small\", \"take\", \"look\", \"fit\", \"little\", \"good\", \"recommend\", \"even\", \"really\", \"also\", \"enough\", \"nice\", \"love\", \"great\", \"get\", \"use\", \"go\", \"buy\", \"warm\", \"cold\", \"hot\", \"wash\", \"pet_bed\", \"heat\", \"curl\", \"washable\", \"heating_pad\", \"plug\", \"cozy\", \"kitty_tube\", \"heated\", \"snuggle\", \"feral_cat\", \"medium\", \"wet\", \"removable\", \"take_turns\", \"brown\", \"stay_warm\", \"dog\", \"memory_foam\", \"dog_beds\", \"heated_bed\", \"comfy\", \"thermal\", \"feral_cats\", \"every_night\", \"pet_beds\", \"dirty\", \"comfortable\", \"soft\", \"dry\", \"sleep\", \"inside\", \"outdoor\", \"keep\", \"great_product\", \"perfect\", \"nice\", \"fit\", \"get\", \"great\", \"stay\", \"love\", \"small\", \"buy\", \"clean\", \"feel\", \"lay\", \"put\", \"really\", \"well\", \"purchase\", \"also\", \"make\", \"little\", \"seem\", \"hard\", \"take\", \"use\", \"go\", \"good\", \"much\", \"come\", \"apply\", \"hear\", \"window_sill\", \"trim\", \"interesting\", \"first_day\", \"sill\", \"green\", \"decent\", \"sound\", \"whole_thing\", \"near\", \"emery_cat\", \"peel\", \"sharp\", \"instal\", \"adorable\", \"adhere\", \"weird\", \"bend\", \"carefully\", \"send\", \"nervous\", \"settle\", \"entirely\", \"loud\", \"certain\", \"window_sills\", \"noticeable\", \"promptly\", \"grab\", \"plastic\", \"roll\", \"pull\", \"wooden\", \"cut\", \"back\", \"protect\", \"basically\", \"stick\", \"open\", \"remove\", \"sticky\", \"wait\", \"let\", \"receive\", \"come\", \"return\", \"rip\", \"set\", \"go\", \"able\", \"work\", \"easily\", \"see\", \"try\", \"get\", \"however\", \"think\", \"want\", \"jump\", \"leave\", \"take\", \"seem\", \"put\", \"make\", \"give\", \"little\", \"first\", \"use\", \"attach\", \"well\", \"keep\", \"find\", \"much\", \"also\", \"easy\"], \"Freq\": [947.0, 529.0, 844.0, 626.0, 554.0, 483.0, 1064.0, 1926.0, 372.0, 447.0, 3057.0, 1555.0, 545.0, 688.0, 2047.0, 507.0, 211.0, 238.0, 825.0, 1037.0, 755.0, 968.0, 395.0, 760.0, 208.0, 196.0, 235.0, 281.0, 763.0, 175.0, 208.096773928874, 83.66735135725715, 108.43210769230342, 61.776445124874364, 59.36012936696546, 52.32654267125075, 52.26008541293487, 51.22576386410692, 48.018267134142974, 43.78206509854233, 42.3840189279528, 40.15789753721621, 39.130936376307595, 36.77442923587787, 33.65975841468008, 51.71863292921617, 32.22137100244819, 31.10177583727692, 30.035544699106282, 29.503223468915227, 27.92775308273489, 26.38778745887434, 27.184106127447336, 27.644596773224304, 26.320703474458398, 919.9697070450197, 23.931312647142857, 23.593050595074494, 22.869245107947048, 62.23330901845213, 39.107203376316875, 27.318514584201335, 92.20832606548382, 541.0864756762666, 47.83331491783862, 1363.2398434956615, 92.33628507341741, 168.3117152627505, 64.25177516136817, 89.33265408462248, 99.82649760395871, 199.12705055141885, 114.52529430404597, 571.1055870340282, 203.9876078162534, 116.35316769575711, 370.23180711665975, 83.57752061624825, 448.3768367475192, 307.99852724825877, 797.6557036864959, 946.3756889941633, 400.957982115496, 292.2189632511529, 594.4549723514089, 260.286559135081, 1271.5944146348706, 344.4618015504814, 215.49639781707612, 528.4925653041179, 590.0363298622459, 418.19588430568575, 476.8537937984119, 452.48252428736737, 405.62179596832965, 410.06881117396046, 213.04915385488042, 374.93297190172035, 280.57318744321896, 284.8955375966979, 266.95053289869867, 344.7878934561881, 382.5955098180694, 274.33670889662966, 311.87468728522845, 306.61079047909817, 626.0436985990978, 554.148899742701, 372.18820360324054, 195.7272862827825, 144.83850050100634, 185.86899888938058, 116.55940548988838, 89.83324309074197, 81.9163827899846, 73.20084808184396, 74.95636191144152, 72.25410065949451, 62.079611524564434, 80.03570725584851, 61.5380455431165, 57.571671031262284, 50.884728075615826, 57.34052432249339, 48.43162613671626, 41.437912993087664, 41.273860978335485, 39.28994675631642, 37.90450380594366, 38.29616035154607, 37.33052606504278, 37.29608307680348, 36.06100569786336, 32.89930425150418, 32.45369541848871, 30.31331718726556, 38.63670595433013, 793.0218991651919, 207.19358466029973, 872.0666233495659, 299.21861626406223, 77.98589094431651, 75.23848177207016, 127.51661854088992, 475.53157460345085, 192.86898864874433, 483.15082543926724, 341.3421485587026, 832.3687630902377, 442.2480070039854, 893.6910992633616, 806.537880814695, 147.49977606988642, 492.578083708498, 497.95907721835687, 451.1161190660149, 273.19784854473477, 442.53586657075186, 432.18189283370566, 281.606232951904, 384.9785495562465, 391.55724108396413, 367.09320710650076, 246.53858603169806, 269.97785439576637, 409.7785654049166, 306.2276147012715, 448.88854291505555, 297.8182039890312, 277.7030997386379, 260.91573266401866, 528.5624235591027, 210.9775212437133, 134.30671560720435, 134.0229859177734, 95.8618644339266, 95.12040943794503, 90.69542505318292, 81.15161048359411, 79.84267126376913, 77.70846871391066, 77.72580429979512, 53.33636789783665, 51.52259418079796, 50.45990910134127, 47.585751571263, 47.966354949424435, 46.180165373164265, 52.413525902720856, 38.998596122317714, 56.641526851173595, 36.86158298392012, 37.791055483490105, 36.31420456140525, 34.89946298760115, 33.552644487763146, 93.98501241432628, 30.833740141839236, 28.978285862608644, 28.695289100133778, 27.924492180928222, 33.3943012090271, 222.84152168388366, 405.58731770468074, 93.8973779531139, 337.2340528828357, 139.05050458411665, 89.20637213952874, 393.93564247693394, 84.40729065615157, 194.07010134900042, 343.2541658300283, 263.06907481913487, 898.0414363814455, 391.239763217672, 147.39338727997318, 567.27125266147, 372.49974021551964, 469.0806059933417, 145.3662976568712, 177.20430922089363, 172.9002888401085, 355.1062903690123, 293.4537916092154, 331.11736749231403, 181.19385424756567, 225.2737708437978, 237.63159013748208, 203.66145679080694, 193.13396728874932, 133.69662223998316, 192.58401119939745, 217.60616232428873, 199.7758631669877, 178.15587201469438, 170.71806715213728, 166.44882974553803, 107.2094037338295, 62.17521661938681, 59.83502563248366, 44.04582560174368, 40.05324210399055, 40.561512230129686, 40.04790025499499, 37.506535734936335, 37.34159677187859, 34.2676612962408, 33.727595640406854, 33.22248951115068, 30.851894708721606, 30.866089637669752, 32.39027499475384, 29.096540350227205, 29.55421986071006, 27.903549630867488, 28.09286442592522, 27.258708176586158, 27.091741366535828, 76.3536838945479, 25.622680113179136, 26.330290376562672, 24.569188599674202, 23.15138048458713, 23.27498053665821, 21.508449407787516, 20.977074326359492, 20.40556593065, 21.697304464931175, 49.32008340137502, 75.06535103206525, 149.89156056837945, 32.05844700207836, 72.71055954681543, 302.1633801579376, 70.17675084020863, 46.65270902477121, 83.58600852724545, 161.151611564999, 93.64452962415568, 41.99564451350712, 61.22590643959444, 104.07415227645544, 83.9234756012839, 368.2137012652642, 69.39942986411398, 74.56787294094832, 116.45458595860956, 373.07811174258455, 104.97507191568485, 149.75561148369798, 129.2839794091784, 208.4043355140249, 204.68989762109538, 439.22365832238523, 136.66422020168625, 221.17386025447817, 185.55268887111473, 115.77248489924378, 117.5844911913915, 234.7892360878853, 203.34196272426607, 253.61812320306902, 222.40092435905862, 146.95517145416383, 166.7779591599962, 128.1327067804142, 169.01052425117197, 100.50468599838813, 151.1449811281184, 118.9060696330623, 112.23041955642981, 118.5818252325646, 117.65328242827445, 108.89588351926318], \"Total\": [947.0, 529.0, 844.0, 626.0, 554.0, 483.0, 1064.0, 1926.0, 372.0, 447.0, 3057.0, 1555.0, 545.0, 688.0, 2047.0, 507.0, 211.0, 238.0, 825.0, 1037.0, 755.0, 968.0, 395.0, 760.0, 208.0, 196.0, 235.0, 281.0, 763.0, 175.0, 208.96468975593334, 84.40702024014679, 109.5699989911824, 62.487065917821006, 60.08567336788279, 53.04837506463932, 52.9819540656448, 51.9662212957424, 48.75488859860069, 44.49321674229091, 43.09788160604465, 40.883522321914775, 39.84189893634566, 37.523513905460845, 34.415752174306405, 52.88465887319166, 32.96646157773514, 31.82989006968831, 30.742069448763807, 30.22687970327466, 28.658845874420226, 27.116876275843868, 27.938841440885408, 28.420546775188072, 27.065814207404006, 947.2029786432652, 24.648242913272302, 24.30155863863561, 23.576762379248727, 64.17817824573638, 40.45557220026813, 28.255773696308996, 101.26687752466327, 688.8600824994169, 51.63626250675268, 2047.6747340601535, 107.4679355730195, 209.42687841262097, 71.98240230180751, 105.35588579147681, 119.96915775309519, 264.71072943100165, 140.32882212133302, 902.3983394744682, 273.5213040944203, 144.73252208592143, 573.7840870853029, 99.18610242027994, 760.4345779462384, 481.2909718730184, 1555.4388824356188, 1926.0404985728242, 674.4139550770661, 462.77600740518653, 1124.7711312485433, 403.0581750731077, 3057.7480522537567, 584.6750104907901, 348.4364110528179, 1207.9670510498054, 1440.593404510456, 905.5259491027819, 1105.7580655555385, 1083.8209033324324, 1004.6210904104029, 1149.0476247933968, 395.21271043831695, 1084.9532322802934, 660.1910030590168, 680.5070099471285, 617.2645159219798, 1157.763175977743, 1758.5489577018634, 674.3340764804298, 1050.9471130524348, 1231.9431149847378, 626.7795388388979, 554.8736618151262, 372.91467966981224, 196.48678930157882, 145.59189607541816, 186.9662439289338, 117.29176701211661, 90.56069348562603, 82.63798622137352, 73.92358276547333, 75.70566916328524, 72.98882571691358, 62.814644545327255, 81.0538700188517, 62.3312898670889, 58.31381698920638, 51.61275580847916, 58.173887707758425, 49.177900541589906, 42.15957224961802, 41.99978223648347, 40.02267627903785, 38.63289144485864, 39.049529637467444, 38.07398627581921, 38.06566550487066, 36.8233288806753, 33.633368424144585, 33.184754161643916, 31.029910578600465, 39.58916985048487, 844.9539366248003, 229.26592656699086, 1064.7254646866886, 346.1036890995036, 83.74353233986065, 82.96791276873348, 152.63549196122173, 707.9984860778459, 250.43038076909176, 763.1254194522197, 511.80958155823726, 1546.0446177946717, 731.832522421839, 1758.5489577018634, 1641.9551491231186, 202.30572521038755, 1037.2921372147334, 1231.9431149847378, 1083.8209033324324, 545.6142500614177, 1157.763175977743, 1207.9670510498054, 616.147116047592, 1105.7580655555385, 1149.0476247933968, 1084.9532322802934, 534.5517485990414, 755.8636830953853, 1926.0404985728242, 1050.9471130524348, 3057.7480522537567, 2047.6747340601535, 1440.593404510456, 1555.4388824356188, 529.2796476306482, 211.69030512508778, 135.02483760242555, 134.74757583036842, 96.57773047400022, 95.83556291988076, 91.44185714366473, 81.87085076287228, 80.56257821776818, 78.42289449842298, 78.45643193628585, 54.0509238120565, 52.23790605418866, 51.19584389447138, 48.31673001893595, 48.70319708691479, 46.932686072483946, 53.31083599870876, 39.738475582517125, 57.729701430201914, 37.57312380003075, 38.5377411632626, 37.03866907849238, 35.62547325574363, 34.26585741367256, 96.00572234335753, 31.546355502151872, 29.698967789573317, 29.431510443045763, 28.643279688048267, 34.25493570699798, 238.92622417103118, 483.8149079536405, 104.67234708387423, 507.8085787173868, 191.0302546266642, 115.45010278013297, 825.5089995956455, 113.0340997895077, 349.2509798241271, 755.8636830953853, 545.6142500614177, 3057.7480522537567, 1050.9471130524348, 250.92954952292206, 1926.0404985728242, 1037.2921372147334, 1555.4388824356188, 270.34404374738443, 384.36355290471647, 395.21271043831695, 1641.9551491231186, 1149.0476247933968, 1758.5489577018634, 545.8403277283587, 1084.9532322802934, 1546.0446177946717, 1157.763175977743, 1004.6210904104029, 307.65652304499656, 1231.9431149847378, 2047.6747340601535, 1440.593404510456, 1207.9670510498054, 1124.7711312485433, 968.8941965868021, 107.9474432820524, 62.941577400523364, 60.581165663485756, 44.79910293898121, 40.81123710070555, 41.338128907504505, 40.826676770298896, 38.27204430351606, 38.14112303463521, 35.02717025885652, 34.48568944235462, 33.9874273727672, 31.589122924856362, 31.608969393215716, 33.19030701756966, 29.844070557270935, 30.32829662849796, 28.646592494656087, 28.861401095327867, 28.007471940525686, 27.849242969090287, 78.49734727959404, 26.384089887520236, 27.119250949486357, 25.33735240490678, 23.899764272318684, 24.034120753937906, 22.243665201513586, 21.722748001802, 21.15601643236243, 22.505535011392197, 51.82199773135195, 83.05269928087259, 175.99859419242102, 34.0966140838271, 85.57436708537904, 447.38266207704305, 84.5441751768934, 52.87745374910477, 106.67488748930987, 235.69925868151154, 129.16239740765357, 47.702105647185604, 78.67966822523175, 157.92968456448492, 124.32257766432059, 968.8941965868021, 97.13721914921396, 114.03189640601792, 224.01519870847966, 1440.593404510456, 217.50333838577197, 398.76311772426743, 321.7768927999642, 752.0484994120967, 760.4345779462384, 3057.7480522537567, 370.3069320598931, 905.5259491027819, 680.5070099471285, 281.70476353604005, 291.1228813254428, 1231.9431149847378, 1004.6210904104029, 1641.9551491231186, 1546.0446177946717, 674.3340764804298, 1157.763175977743, 660.1910030590168, 2047.6747340601535, 257.1028347684363, 1758.5489577018634, 825.5089995956455, 642.7911258730915, 1124.7711312485433, 1084.9532322802934, 1064.7254646866886], \"Category\": [\"Default\", \"Default\", \"Default\", \"Default\", \"Default\", \"Default\", \"Default\", \"Default\", \"Default\", \"Default\", \"Default\", \"Default\", \"Default\", \"Default\", \"Default\", \"Default\", \"Default\", \"Default\", \"Default\", \"Default\", \"Default\", \"Default\", \"Default\", \"Default\", \"Default\", \"Default\", \"Default\", \"Default\", \"Default\", \"Default\", \"Topic1\", \"Topic1\", \"Topic1\", \"Topic1\", \"Topic1\", \"Topic1\", \"Topic1\", \"Topic1\", \"Topic1\", \"Topic1\", \"Topic1\", \"Topic1\", \"Topic1\", \"Topic1\", \"Topic1\", \"Topic1\", \"Topic1\", \"Topic1\", \"Topic1\", \"Topic1\", \"Topic1\", \"Topic1\", \"Topic1\", \"Topic1\", \"Topic1\", \"Topic1\", \"Topic1\", \"Topic1\", \"Topic1\", \"Topic1\", \"Topic1\", \"Topic1\", \"Topic1\", \"Topic1\", \"Topic1\", \"Topic1\", \"Topic1\", \"Topic1\", \"Topic1\", \"Topic1\", \"Topic1\", \"Topic1\", \"Topic1\", \"Topic1\", \"Topic1\", \"Topic1\", \"Topic1\", \"Topic1\", \"Topic1\", \"Topic1\", \"Topic1\", \"Topic1\", \"Topic1\", \"Topic1\", \"Topic1\", \"Topic1\", \"Topic1\", \"Topic1\", \"Topic1\", \"Topic1\", \"Topic1\", \"Topic1\", \"Topic1\", \"Topic1\", \"Topic1\", \"Topic1\", \"Topic1\", \"Topic1\", \"Topic1\", \"Topic1\", \"Topic1\", \"Topic1\", \"Topic1\", \"Topic1\", \"Topic1\", \"Topic1\", \"Topic2\", \"Topic2\", \"Topic2\", \"Topic2\", \"Topic2\", \"Topic2\", \"Topic2\", \"Topic2\", \"Topic2\", \"Topic2\", \"Topic2\", \"Topic2\", \"Topic2\", \"Topic2\", \"Topic2\", \"Topic2\", \"Topic2\", \"Topic2\", \"Topic2\", \"Topic2\", \"Topic2\", \"Topic2\", \"Topic2\", \"Topic2\", \"Topic2\", \"Topic2\", \"Topic2\", \"Topic2\", \"Topic2\", \"Topic2\", \"Topic2\", \"Topic2\", \"Topic2\", \"Topic2\", \"Topic2\", \"Topic2\", \"Topic2\", \"Topic2\", \"Topic2\", \"Topic2\", \"Topic2\", \"Topic2\", \"Topic2\", \"Topic2\", \"Topic2\", \"Topic2\", \"Topic2\", \"Topic2\", \"Topic2\", \"Topic2\", \"Topic2\", \"Topic2\", \"Topic2\", \"Topic2\", \"Topic2\", \"Topic2\", \"Topic2\", \"Topic2\", \"Topic2\", \"Topic2\", \"Topic2\", \"Topic2\", \"Topic2\", \"Topic2\", \"Topic2\", \"Topic3\", \"Topic3\", \"Topic3\", \"Topic3\", \"Topic3\", \"Topic3\", \"Topic3\", \"Topic3\", \"Topic3\", \"Topic3\", \"Topic3\", \"Topic3\", \"Topic3\", \"Topic3\", \"Topic3\", \"Topic3\", \"Topic3\", \"Topic3\", \"Topic3\", \"Topic3\", \"Topic3\", \"Topic3\", \"Topic3\", \"Topic3\", \"Topic3\", \"Topic3\", \"Topic3\", \"Topic3\", \"Topic3\", \"Topic3\", \"Topic3\", \"Topic3\", \"Topic3\", \"Topic3\", \"Topic3\", \"Topic3\", \"Topic3\", \"Topic3\", \"Topic3\", \"Topic3\", \"Topic3\", \"Topic3\", \"Topic3\", \"Topic3\", \"Topic3\", \"Topic3\", \"Topic3\", \"Topic3\", \"Topic3\", \"Topic3\", \"Topic3\", \"Topic3\", \"Topic3\", \"Topic3\", \"Topic3\", \"Topic3\", \"Topic3\", \"Topic3\", \"Topic3\", \"Topic3\", \"Topic3\", \"Topic3\", \"Topic3\", \"Topic3\", \"Topic3\", \"Topic3\", \"Topic4\", \"Topic4\", \"Topic4\", \"Topic4\", \"Topic4\", \"Topic4\", \"Topic4\", \"Topic4\", \"Topic4\", \"Topic4\", \"Topic4\", \"Topic4\", \"Topic4\", \"Topic4\", \"Topic4\", \"Topic4\", \"Topic4\", \"Topic4\", \"Topic4\", \"Topic4\", \"Topic4\", \"Topic4\", \"Topic4\", \"Topic4\", \"Topic4\", \"Topic4\", \"Topic4\", \"Topic4\", \"Topic4\", \"Topic4\", \"Topic4\", \"Topic4\", \"Topic4\", \"Topic4\", \"Topic4\", \"Topic4\", \"Topic4\", \"Topic4\", \"Topic4\", \"Topic4\", \"Topic4\", \"Topic4\", \"Topic4\", \"Topic4\", \"Topic4\", \"Topic4\", \"Topic4\", \"Topic4\", \"Topic4\", \"Topic4\", \"Topic4\", \"Topic4\", \"Topic4\", \"Topic4\", \"Topic4\", \"Topic4\", \"Topic4\", \"Topic4\", \"Topic4\", \"Topic4\", \"Topic4\", \"Topic4\", \"Topic4\", \"Topic4\", \"Topic4\", \"Topic4\", \"Topic4\", \"Topic4\", \"Topic4\", \"Topic4\", \"Topic4\", \"Topic4\", \"Topic4\", \"Topic4\", \"Topic4\", \"Topic4\", \"Topic4\"], \"logprob\": [30.0, 29.0, 28.0, 27.0, 26.0, 25.0, 24.0, 23.0, 22.0, 21.0, 20.0, 19.0, 18.0, 17.0, 16.0, 15.0, 14.0, 13.0, 12.0, 11.0, 10.0, 9.0, 8.0, 7.0, 6.0, 5.0, 4.0, 3.0, 2.0, 1.0, -5.301, -6.2122, -5.9529, -6.5155, -6.5554, -6.6815, -6.6828, -6.7028, -6.7675, -6.8598, -6.8923, -6.9462, -6.9721, -7.0342, -7.1227, -6.6932, -7.1664, -7.2018, -7.2367, -7.2545, -7.3094, -7.3661, -7.3364, -7.3196, -7.3687, -3.8147, -7.4639, -7.4781, -7.5093, -6.5082, -6.9727, -7.3315, -6.115, -4.3455, -6.7713, -3.4214, -6.1136, -5.5132, -6.4762, -6.1467, -6.0356, -5.3451, -5.8982, -4.2915, -5.321, -5.8824, -4.7249, -6.2133, -4.5334, -4.9089, -3.9574, -3.7864, -4.6452, -4.9615, -4.2514, -5.0773, -3.491, -4.7971, -5.2661, -4.369, -4.2589, -4.6031, -4.4718, -4.5243, -4.6336, -4.6227, -5.2775, -4.7123, -5.0022, -4.9869, -5.052, -4.7961, -4.6921, -5.0247, -4.8964, -4.9135, -4.1774, -4.2994, -4.6974, -5.3401, -5.6412, -5.3917, -5.8584, -6.1188, -6.2111, -6.3236, -6.2999, -6.3366, -6.4884, -6.2343, -6.4971, -6.5638, -6.6872, -6.5678, -6.7366, -6.8926, -6.8966, -6.9458, -6.9817, -6.9714, -6.997, -6.9979, -7.0316, -7.1233, -7.137, -7.2052, -6.9626, -3.9409, -5.2831, -3.8459, -4.9156, -6.2603, -6.2961, -5.7685, -4.4524, -5.3548, -4.4365, -4.7839, -3.8925, -4.5249, -3.8214, -3.924, -5.623, -4.4171, -4.4063, -4.5051, -5.0066, -4.5243, -4.5479, -4.9763, -4.6636, -4.6467, -4.7112, -5.1093, -5.0184, -4.6012, -4.8925, -4.51, -4.9203, -4.9902, -5.0526, -3.9214, -4.8398, -5.2914, -5.2935, -5.6287, -5.6364, -5.6841, -5.7952, -5.8115, -5.8386, -5.8384, -6.2149, -6.2495, -6.2704, -6.329, -6.3211, -6.359, -6.2324, -6.528, -6.1548, -6.5844, -6.5595, -6.5994, -6.6391, -6.6784, -5.6484, -6.763, -6.825, -6.8348, -6.8621, -6.6832, -4.7851, -4.1862, -5.6494, -4.3708, -5.2567, -5.7006, -4.2154, -5.7559, -4.9233, -4.3531, -4.6191, -3.3913, -4.2222, -5.1985, -3.8507, -4.2713, -4.0408, -5.2123, -5.0143, -5.0388, -4.3191, -4.5098, -4.3891, -4.992, -4.7742, -4.7208, -4.8751, -4.9282, -5.296, -4.931, -4.8089, -4.8944, -5.0089, -5.0515, -5.0769, -5.4052, -5.9501, -5.9884, -6.2948, -6.3898, -6.3772, -6.39, -6.4555, -6.4599, -6.5458, -6.5617, -6.5768, -6.6508, -6.6504, -6.6022, -6.7094, -6.6938, -6.7513, -6.7445, -6.7747, -6.7808, -5.7447, -6.8366, -6.8093, -6.8785, -6.938, -6.9327, -7.0116, -7.0366, -7.0642, -7.0028, -6.1817, -5.7617, -5.0701, -6.6125, -5.7935, -4.3691, -5.829, -6.2373, -5.6542, -4.9977, -5.5405, -6.3425, -5.9655, -5.4349, -5.6501, -4.1714, -5.8402, -5.7683, -5.3225, -4.1582, -5.4263, -5.071, -5.218, -4.7406, -4.7585, -3.995, -5.1625, -4.6811, -4.8567, -5.3284, -5.3129, -4.6213, -4.7651, -4.5442, -4.6756, -5.0899, -4.9634, -5.227, -4.9501, -5.4698, -5.0618, -5.3017, -5.3595, -5.3044, -5.3123, -5.3896], \"loglift\": [30.0, 29.0, 28.0, 27.0, 26.0, 25.0, 24.0, 23.0, 22.0, 21.0, 20.0, 19.0, 18.0, 17.0, 16.0, 15.0, 14.0, 13.0, 12.0, 11.0, 10.0, 9.0, 8.0, 7.0, 6.0, 5.0, 4.0, 3.0, 2.0, 1.0, 1.1555, 1.1509, 1.1493, 1.1483, 1.1476, 1.146, 1.146, 1.1454, 1.1445, 1.1436, 1.143, 1.1418, 1.1417, 1.1395, 1.1375, 1.1374, 1.1368, 1.1366, 1.1365, 1.1355, 1.1339, 1.1325, 1.1323, 1.132, 1.1318, 1.1305, 1.1302, 1.1301, 1.1292, 1.1289, 1.1258, 1.126, 1.066, 0.9182, 1.0832, 0.7529, 1.008, 0.9412, 1.0461, 0.9947, 0.9759, 0.875, 0.9565, 0.7022, 0.8664, 0.9414, 0.7216, 0.9885, 0.6315, 0.7133, 0.4919, 0.4491, 0.6397, 0.7, 0.522, 0.7224, 0.2823, 0.6306, 0.6792, 0.333, 0.2671, 0.3871, 0.3186, 0.2862, 0.2528, 0.1293, 0.5418, 0.0972, 0.304, 0.289, 0.3215, -0.0516, -0.3656, 0.2603, -0.0551, -0.2311, 1.1808, 1.1807, 1.18, 1.1781, 1.1768, 1.1761, 1.1757, 1.1739, 1.1732, 1.1721, 1.172, 1.1718, 1.1702, 1.1693, 1.1692, 1.1692, 1.1678, 1.1675, 1.1667, 1.1647, 1.1645, 1.1635, 1.1629, 1.1625, 1.1622, 1.1615, 1.161, 1.1599, 1.1597, 1.1586, 1.1576, 1.1185, 1.0807, 0.9824, 1.0364, 1.1107, 1.0842, 1.0022, 0.784, 0.9208, 0.7249, 0.7769, 0.5628, 0.6783, 0.5051, 0.4711, 0.866, 0.4372, 0.2761, 0.3054, 0.4902, 0.2202, 0.1541, 0.399, 0.1269, 0.1054, 0.0983, 0.4081, 0.1524, -0.3656, -0.0512, -0.7367, -0.746, -0.4643, -0.6034, 1.6058, 1.6038, 1.6019, 1.6018, 1.5998, 1.5997, 1.599, 1.5984, 1.5982, 1.598, 1.5978, 1.5939, 1.5934, 1.5927, 1.5919, 1.5919, 1.591, 1.5902, 1.5884, 1.5882, 1.5881, 1.5876, 1.5874, 1.5866, 1.5862, 1.5859, 1.5843, 1.5826, 1.5819, 1.5818, 1.5817, 1.5375, 1.4308, 1.4986, 1.1979, 1.2896, 1.3493, 0.8674, 1.3152, 1.0196, 0.8178, 0.8777, 0.382, 0.6191, 1.0751, 0.3848, 0.5831, 0.4085, 0.9868, 0.8329, 0.7805, 0.076, 0.2422, -0.0626, 0.5044, 0.0352, -0.2655, -0.1306, -0.0418, 0.7738, -0.2486, -0.6346, -0.3684, -0.3068, -0.2781, -0.1543, 1.7119, 1.7065, 1.7063, 1.7018, 1.7, 1.6998, 1.6995, 1.6985, 1.6975, 1.6968, 1.6965, 1.696, 1.6951, 1.6949, 1.6943, 1.6934, 1.6929, 1.6924, 1.6917, 1.6916, 1.6911, 1.691, 1.6894, 1.6892, 1.6879, 1.6869, 1.6866, 1.6851, 1.6838, 1.6826, 1.6821, 1.6692, 1.6176, 1.5582, 1.6571, 1.5558, 1.3263, 1.5325, 1.5935, 1.4748, 1.3385, 1.3972, 1.5913, 1.4679, 1.3017, 1.3257, 0.7512, 1.3825, 1.294, 1.0645, 0.3677, 0.9902, 0.7394, 0.8069, 0.4354, 0.4063, -0.2217, 0.7219, 0.3092, 0.4192, 0.8295, 0.8121, 0.0611, 0.1212, -0.1491, -0.2203, 0.1951, -0.2189, 0.0793, -0.7758, 0.7794, -0.7353, -0.2189, -0.0265, -0.531, -0.5028, -0.5614]}, \"token.table\": {\"Topic\": [1, 2, 3, 4, 4, 4, 2, 1, 2, 3, 4, 1, 2, 1, 4, 2, 1, 2, 4, 1, 2, 3, 4, 1, 1, 3, 4, 4, 1, 2, 3, 4, 1, 2, 3, 4, 2, 3, 2, 3, 1, 2, 3, 4, 1, 1, 1, 1, 4, 1, 4, 2, 2, 1, 1, 1, 4, 2, 3, 4, 1, 2, 3, 1, 2, 3, 4, 2, 3, 3, 4, 2, 2, 3, 1, 3, 4, 1, 3, 1, 2, 4, 3, 1, 2, 4, 2, 4, 1, 3, 3, 3, 1, 2, 3, 4, 1, 2, 3, 4, 1, 2, 3, 4, 2, 4, 1, 2, 3, 4, 1, 2, 3, 4, 4, 1, 2, 3, 4, 1, 2, 3, 3, 2, 1, 2, 3, 4, 1, 3, 3, 1, 2, 3, 4, 1, 2, 3, 4, 4, 1, 2, 3, 4, 2, 1, 2, 1, 2, 3, 4, 1, 2, 3, 4, 1, 2, 3, 4, 1, 2, 3, 4, 4, 1, 2, 3, 4, 1, 1, 2, 3, 4, 1, 2, 3, 4, 1, 2, 3, 4, 4, 3, 3, 3, 3, 2, 1, 2, 3, 4, 1, 2, 3, 4, 3, 1, 2, 3, 4, 1, 4, 2, 3, 4, 4, 1, 4, 4, 2, 4, 1, 2, 3, 4, 3, 2, 1, 2, 3, 4, 1, 2, 3, 4, 1, 2, 3, 4, 1, 2, 3, 4, 1, 2, 3, 4, 1, 2, 3, 4, 1, 2, 3, 4, 1, 2, 4, 1, 2, 3, 4, 1, 2, 3, 4, 1, 4, 4, 1, 2, 3, 4, 1, 2, 3, 4, 3, 3, 2, 1, 2, 3, 4, 4, 4, 1, 2, 3, 4, 1, 2, 3, 4, 1, 2, 3, 4, 2, 4, 1, 1, 2, 3, 4, 2, 3, 4, 3, 4, 2, 4, 1, 2, 3, 4, 3, 3, 2, 2, 4, 1, 2, 4, 1, 1, 2, 3, 3, 1, 3, 1, 2, 3, 4, 1, 3, 4, 1, 2, 3, 4, 1, 2, 3, 4, 1, 2, 3, 4, 1, 2, 3, 4, 2, 3, 4, 1, 2, 3, 4, 3, 1, 2, 3, 4, 1, 2, 3, 4, 1, 2, 4, 1, 4, 1, 4, 1, 4, 1, 1, 1, 1, 1, 2, 2, 1, 2, 3, 4, 1, 2, 3, 4, 2, 4, 1, 2, 3, 4, 4, 4, 1, 4, 4, 1, 2, 1, 2, 3, 4, 1, 2, 3, 4, 1, 2, 3, 4, 3, 2, 3, 4, 1, 1, 2, 1, 2, 3, 4, 3, 1, 2, 3, 4, 1, 4, 1, 2, 3, 4, 2, 2, 1, 2, 3, 4, 3, 1, 2, 3, 1, 2, 3, 4, 2, 2, 2, 2, 2, 3, 4, 1, 2, 3, 4, 2, 4, 1, 2, 3, 4, 1, 1, 2, 3, 2, 2, 1, 1, 2, 3, 4, 2, 3, 4, 1, 2, 3, 4, 3, 3, 3, 1, 2, 4, 4, 1, 2, 3, 4, 3, 4, 4, 4, 2, 2, 2, 4, 1, 2, 3, 4, 1], \"Freq\": [0.018390522323411203, 0.44137253576186886, 0.05517156697023361, 0.48275121098954404, 0.9774286420007299, 0.9891752368252203, 0.9744475788698447, 0.34563701811537645, 0.33826342839558177, 0.20738221086922587, 0.1087604483669718, 0.9832719186992788, 0.018909075359601513, 0.9588125024253329, 0.9912231058629443, 0.9975472146319847, 0.003889494259760557, 0.6028716102628864, 0.3928389202358163, 0.09387936449081088, 0.015646560748468482, 0.21458140455042488, 0.6750373351482116, 0.9879197126885173, 0.018911651925314774, 0.09455825962657387, 0.8888476404897943, 0.9640284584533345, 0.20223206193437057, 0.6039633201012959, 0.17080410636348867, 0.02322935846543446, 0.014829041525543355, 0.7266230347516244, 0.10874630452065126, 0.14829041525543354, 0.017322105869697766, 0.9873600345727725, 0.8385991904983634, 0.1637889043942116, 0.513038480014357, 0.16779829985431977, 0.3015226154470344, 0.01800135017594235, 0.9819312440548746, 0.9606213875837348, 0.9788690057747815, 0.9889147879518878, 0.969505707209605, 0.9856712694566261, 0.009126585828302093, 0.9984254761484476, 0.9975124680994322, 0.975861434767735, 0.9953834795866227, 0.9755368285954152, 0.9569728069303942, 0.2922202350195641, 0.5363535959219847, 0.1701535545683538, 0.005348559071337507, 0.9948319872687763, 0.9967390801166833, 0.20435667867297563, 0.2435766473071831, 0.171329336665222, 0.37981443308916685, 0.06696627821208391, 0.9333425025809194, 0.9791083042301978, 0.02083209157936591, 0.9760481734962688, 0.9039639240902273, 0.08436996624842122, 0.8891061975350735, 0.013892284336485523, 0.09724599035539867, 0.9745258568372264, 0.9941823515928366, 0.8447558418914648, 0.037966554691751225, 0.11389966407525368, 0.9951678896572438, 0.10517168056902534, 0.04674296914178904, 0.8530591868376499, 0.9836178080079256, 0.9700815564974588, 0.986048377377987, 0.9633648208324732, 0.9860463756558928, 0.9824430892116559, 0.9737002383677725, 0.019107243275985727, 0.8980404339713292, 0.08598259474193577, 0.06215486707565791, 0.357390485685033, 0.18024911451940795, 0.40089889263799355, 0.005635255471010633, 0.8189904617868786, 0.07325832112313822, 0.10237380772335983, 0.9720045481738838, 0.9813504500818919, 0.6170422871432031, 0.20376745296356938, 0.11479856504989824, 0.06026924665119658, 0.13843374414907433, 0.4620693892543427, 0.28247966711500305, 0.11785575515394166, 0.986685570002908, 0.43137826877197843, 0.3481774286733998, 0.12841868797824096, 0.09224440967451111, 0.7517640120887902, 0.20777397319036917, 0.04155479463807383, 0.9853384880167534, 0.9761955376136451, 0.11187325040327036, 0.2237465008065407, 0.4605015191018338, 0.20553457632228742, 0.9845166583229081, 0.9934447132740187, 0.9764649130392098, 0.3033644867687541, 0.33603450842077376, 0.18513012269477813, 0.17424011547743826, 0.42563439776970186, 0.2317511133763857, 0.14995660277295544, 0.19388328439331615, 0.9918204109271351, 0.016495170349724014, 0.5003535006082951, 0.4820255335530461, 0.0018327967055248903, 0.9906787804521849, 0.9802373764820905, 0.9946850150575206, 0.41599241607314713, 0.14684009026481373, 0.29368018052962747, 0.14356970963530785, 0.4063267889858031, 0.20612928346360085, 0.16905567132985969, 0.21799283934639802, 0.4095534507882149, 0.19297603274427755, 0.1388316782332932, 0.25892107990509183, 0.4370980148350339, 0.3576256485013914, 0.14735501257696218, 0.05712076330230557, 0.9775373031062671, 0.2968750721373678, 0.2911659361347261, 0.3720453628388167, 0.039963952018491816, 0.9663965507348663, 0.1857846440950672, 0.06192821469835574, 0.7431385763802688, 0.9928918272209706, 0.0958350178053241, 0.7706732681844812, 0.003993125741888504, 0.12778002374043212, 0.04550529227021271, 0.4192987644898171, 0.43555065458632164, 0.10076171859832814, 0.9850404543481376, 0.9912812854182398, 0.9954457199348329, 0.9922413319339126, 0.9930168791737589, 0.9975225341952548, 0.023114460353816188, 0.8639029557238801, 0.060675458428767495, 0.052007535796086427, 0.044938588156116614, 0.6662634157059029, 0.14067731944523462, 0.14849272608108097, 0.9924100067763596, 0.4374749322105541, 0.18363145302665235, 0.010801850178038374, 0.3699633685978143, 0.8335475706665116, 0.16670951413330234, 0.041878183200009994, 0.7276334331001736, 0.23033000760005495, 0.9717173112946788, 0.8014784675080547, 0.19346031974332356, 0.9801222124508565, 0.5857195949719559, 0.41177862434392054, 0.3198026915870253, 0.058145943924913686, 0.47728128971699985, 0.1441534859805152, 0.9805567835304586, 0.9946184797118586, 0.15069606786594572, 0.632923485036972, 0.20311209147149206, 0.013104005901386585, 0.6309748027717813, 0.1166871210605349, 0.16638719114187386, 0.08643490448928512, 0.5389502775954977, 0.022772546940654836, 0.43773895785925404, 0.0025302829934060926, 0.18892365914212067, 0.06526453679455077, 0.3400625864558172, 0.40532712325036796, 0.18362602369511408, 0.04432352296088961, 0.11397477332800185, 0.6585209125617885, 0.6448418635649495, 0.034856316949456734, 0.23353732356136012, 0.08714079237364183, 0.29798840311935465, 0.38263438429528723, 0.17620183836622708, 0.14424366179980355, 0.9295792853660323, 0.01936623511179234, 0.05809870533537702, 0.4325536186074042, 0.20250637575253005, 0.19764622273446933, 0.168485304626105, 0.4170430729009121, 0.4161204112352021, 0.08673019657673836, 0.08027156491676847, 0.9660604537979218, 0.015581620222547127, 0.9623525879976643, 0.49116308857522784, 0.2128719517080797, 0.2943863332158078, 0.0015575996466444858, 0.1642902132813695, 0.538147470275982, 0.15394122346836983, 0.1435922336553702, 0.9855615826275249, 0.9719571705913289, 0.9668091025917833, 0.5281074375910013, 0.21426581222126484, 0.15203092900347007, 0.1057993014702511, 0.9709472752398322, 0.9854423673828555, 0.645068171493707, 0.1786342628751804, 0.08435506857994629, 0.09179816286641214, 0.5883610447301967, 0.06841407496862753, 0.17616624304421588, 0.16761448367313744, 0.17331167369165507, 0.35720726638738065, 0.4537855272995243, 0.01587587850610581, 0.9776411067195129, 0.9667285187978039, 0.9951778864010508, 0.594590306118706, 0.05782798488436293, 0.2357602460670181, 0.11269043208234827, 0.0848538943731893, 0.2291055148076111, 0.6830738497041738, 0.7708958056927379, 0.2252055162697886, 0.9717921242068289, 0.980734285080917, 0.18324930693745967, 0.26055760830170044, 0.5554744616541746, 0.0028632704208978073, 0.9940179742145033, 0.977541688834024, 0.9881278223012752, 0.03859364917516512, 0.9455444047915454, 0.7853554208527651, 0.18726589517561312, 0.026130124908225087, 0.9924941077113534, 0.03582366203308629, 0.9314152128602435, 0.02388244135539086, 0.9946075122433605, 0.9640204767575014, 0.024718473763012856, 0.802189295248912, 0.11459847074984457, 0.0811739167811399, 0.9453575565107772, 0.04731254390536927, 0.11828135976342317, 0.8279695183439623, 0.039773044961636625, 0.028409317829740446, 0.07954608992327325, 0.8522795348922134, 0.2693095261241958, 0.3370949170534151, 0.3315988042753703, 0.06228927815117453, 0.13824981767694974, 0.4914872372920637, 0.2162056620058025, 0.15469362859006713, 0.35681723816601557, 0.3411520911245808, 0.2549937823966892, 0.04699544112430449, 0.2332641467449458, 0.08847950393773807, 0.6756616664336361, 0.2596782421483271, 0.4576829017864265, 0.2531862860946189, 0.030836791255113842, 0.9754114529597602, 0.007742191381318729, 0.17032821038901202, 0.10064848795714347, 0.7277659898439605, 0.9555569169754132, 0.15442072700226545, 0.12353658160181236, 0.710335344210421, 0.07892528567581582, 0.26308428558605274, 0.6577107139651318, 0.08428383496997469, 0.9030410889640145, 0.9084905375658853, 0.08887407432709747, 0.9712807294142702, 0.028504977928462277, 0.9814662542565312, 0.9770107324870229, 0.992205332244891, 0.9783892807728756, 0.7458285586762874, 0.25226554190521483, 0.9864523684659795, 0.34306298091371484, 0.252643280517852, 0.126321640258926, 0.27657790709322744, 0.4041324673306857, 0.20206623366534285, 0.19211223200695157, 0.20206623366534285, 0.02547856799385009, 0.9681855837663034, 0.04463982826903374, 0.36158260897917327, 0.07588770805735735, 0.5178220079207914, 0.9587285448417757, 0.964136908497425, 0.8468928403302706, 0.15123086434469118, 0.9797515537463413, 0.012337473827806342, 0.9869979062245074, 0.6399455173683609, 0.1745305956459166, 0.16621961490087298, 0.020777451862609122, 0.14966269414344938, 0.15360118609459278, 0.6636358937676637, 0.03347718158471894, 0.13978704243275591, 0.47527594427137004, 0.3586260674826565, 0.02602931134954765, 0.9766417778572741, 0.16121867829561387, 0.8391638895899901, 0.9706750430803983, 0.973927334719933, 0.9814067432333864, 0.9959345534238282, 0.003985182302766822, 0.1235406513857715, 0.5858217985067229, 0.2829479434964444, 0.9847464426146468, 0.11249133026929649, 0.028122832567324122, 0.07499422017953099, 0.7874393118850754, 0.1048171759330921, 0.8804642778379737, 0.6327582565505767, 0.14406054877683883, 0.11635659708898521, 0.10638317448135791, 0.998756279057319, 0.9851179033884779, 0.24919981796708474, 0.4042394441290169, 0.15666307774477967, 0.19075556098457627, 0.9814166101821475, 0.0959584371276892, 0.9028816584287119, 0.982680867775214, 0.46161018401975673, 0.16012793464800174, 0.133624000637298, 0.24405705901523023, 0.9811684510407258, 0.9798210545312778, 0.9875062499553973, 0.9731231170461927, 0.9385126994823738, 0.003550489405355765, 0.05799132695414416, 0.15395513146339584, 0.6723178218034535, 0.13135621308344783, 0.04378540436114928, 0.9724956353268378, 0.9821625236543323, 0.5891368080735446, 0.06312180086502264, 0.07890225108127831, 0.26958269119436756, 0.9852027204643642, 0.8560692964785784, 0.055830606292081204, 0.08374590943812181, 0.964298239008403, 0.9870309773903218, 0.9706834906907975, 0.6656330604311494, 0.14553092590497618, 0.10646222096404298, 0.08253263918772138, 0.06354881906322721, 0.15251716575174531, 0.775295592571372, 0.4188053845648745, 0.2204238866130918, 0.08816955464523672, 0.27332561940023387, 0.9994716448442706, 0.9944520276096875, 0.9893631157517273, 0.8195037787787254, 0.17815299538667942, 0.0071261198154671775, 0.9701538711692236, 0.21779319723945503, 0.5083736771072397, 0.18822336367169612, 0.0858662474756076, 0.9801271533650666, 0.9859162032075222, 0.9904068259974727, 0.9890456361707419, 0.993808644081165, 0.9922797462698999, 0.05865685065041844, 0.938509610406695, 0.1956048504313647, 0.0727248802885843, 0.35610113796479215, 0.3761631739064705, 0.9875909754135614], \"Term\": [\"able\", \"able\", \"able\", \"able\", \"adhere\", \"adorable\", \"affordable\", \"also\", \"also\", \"also\", \"also\", \"anymore\", \"anymore\", \"appeal\", \"apply\", \"assemble\", \"attach\", \"attach\", \"attach\", \"back\", \"back\", \"back\", \"back\", \"ball_around\", \"basically\", \"basically\", \"basically\", \"bend\", \"big\", \"big\", \"big\", \"big\", \"bottom\", \"bottom\", \"bottom\", \"bottom\", \"brown\", \"brown\", \"build\", \"build\", \"buy\", \"buy\", \"buy\", \"buy\", \"cardboard\", \"cardboard_box\", \"cardboard_scratcher\", \"cardboard_scratchers\", \"carefully\", \"cat_nip\", \"cat_nip\", \"cat_tree\", \"cat_trees\", \"catit\", \"catnip\", \"catnip_spray\", \"certain\", \"clean\", \"clean\", \"clean\", \"climb\", \"climb\", \"cold\", \"come\", \"come\", \"come\", \"come\", \"comfortable\", \"comfortable\", \"comfy\", \"comfy\", \"condo\", \"construct\", \"construct\", \"continue\", \"continue\", \"continue\", \"corrugated_cardboard\", \"cozy\", \"crazy\", \"crazy\", \"crazy\", \"curl\", \"cut\", \"cut\", \"cut\", \"dangle\", \"decent\", \"dig\", \"dirty\", \"dog\", \"dog_beds\", \"donate\", \"dry\", \"dry\", \"dry\", \"easily\", \"easily\", \"easily\", \"easily\", \"easy\", \"easy\", \"easy\", \"easy\", \"elastic\", \"emery_cat\", \"enjoy\", \"enjoy\", \"enjoy\", \"enjoy\", \"enough\", \"enough\", \"enough\", \"enough\", \"entirely\", \"even\", \"even\", \"even\", \"even\", \"ever\", \"ever\", \"ever\", \"every_night\", \"faux_fur\", \"feel\", \"feel\", \"feel\", \"feel\", \"feline\", \"feral_cat\", \"feral_cats\", \"find\", \"find\", \"find\", \"find\", \"first\", \"first\", \"first\", \"first\", \"first_day\", \"fit\", \"fit\", \"fit\", \"fit\", \"flimsy\", \"flip\", \"fully\", \"get\", \"get\", \"get\", \"get\", \"give\", \"give\", \"give\", \"give\", \"go\", \"go\", \"go\", \"go\", \"good\", \"good\", \"good\", \"good\", \"grab\", \"great\", \"great\", \"great\", \"great\", \"great_deal\", \"great_product\", \"great_product\", \"great_product\", \"green\", \"hang\", \"hang\", \"hang\", \"hang\", \"hard\", \"hard\", \"hard\", \"hard\", \"hear\", \"heat\", \"heated\", \"heated_bed\", \"heating_pad\", \"heavy\", \"high\", \"high\", \"high\", \"high\", \"hold\", \"hold\", \"hold\", \"hold\", \"hot\", \"however\", \"however\", \"however\", \"however\", \"ignore\", \"ignore\", \"inside\", \"inside\", \"inside\", \"instal\", \"interested\", \"interested\", \"interesting\", \"jump\", \"jump\", \"keep\", \"keep\", \"keep\", \"keep\", \"kitty_tube\", \"knock\", \"large\", \"large\", \"large\", \"large\", \"last\", \"last\", \"last\", \"last\", \"lay\", \"lay\", \"lay\", \"lay\", \"leave\", \"leave\", \"leave\", \"leave\", \"let\", \"let\", \"let\", \"let\", \"like\", \"like\", \"like\", \"like\", \"little\", \"little\", \"little\", \"little\", \"local\", \"local\", \"local\", \"long\", \"long\", \"long\", \"long\", \"look\", \"look\", \"look\", \"look\", \"lose\", \"lose\", \"loud\", \"love\", \"love\", \"love\", \"love\", \"make\", \"make\", \"make\", \"make\", \"medium\", \"memory_foam\", \"molly\", \"much\", \"much\", \"much\", \"much\", \"near\", \"nervous\", \"never\", \"never\", \"never\", \"never\", \"new\", \"new\", \"new\", \"new\", \"nice\", \"nice\", \"nice\", \"nice\", \"nice_looking\", \"noticeable\", \"occasionally\", \"old\", \"old\", \"old\", \"old\", \"open\", \"open\", \"open\", \"outdoor\", \"outdoor\", \"package\", \"peel\", \"perfect\", \"perfect\", \"perfect\", \"perfect\", \"pet_bed\", \"pet_beds\", \"pet_stores\", \"plastic\", \"plastic\", \"play\", \"play\", \"play\", \"playful\", \"pleased\", \"pleased\", \"pleased\", \"plug\", \"popular\", \"popular\", \"prefer\", \"prefer\", \"prefer\", \"promptly\", \"protect\", \"protect\", \"protect\", \"pull\", \"pull\", \"pull\", \"pull\", \"purchase\", \"purchase\", \"purchase\", \"purchase\", \"put\", \"put\", \"put\", \"put\", \"really\", \"really\", \"really\", \"really\", \"receive\", \"receive\", \"receive\", \"recommend\", \"recommend\", \"recommend\", \"recommend\", \"removable\", \"remove\", \"remove\", \"remove\", \"remove\", \"rescue\", \"return\", \"return\", \"return\", \"rip\", \"rip\", \"rip\", \"roll\", \"roll\", \"rub\", \"rub\", \"scratch\", \"scratch\", \"scratch_pad\", \"scratch_pads\", \"scratcher\", \"scratching_pad\", \"scratching_post\", \"scratching_post\", \"screw\", \"see\", \"see\", \"see\", \"see\", \"seem\", \"seem\", \"seem\", \"seem\", \"send\", \"send\", \"set\", \"set\", \"set\", \"set\", \"settle\", \"sharp\", \"shred\", \"shred\", \"sill\", \"sisal_rope\", \"sisal_rope\", \"sit\", \"sit\", \"sit\", \"sit\", \"sleep\", \"sleep\", \"sleep\", \"sleep\", \"small\", \"small\", \"small\", \"small\", \"snuggle\", \"soft\", \"soft\", \"sound\", \"spray\", \"sprinkle\", \"stable\", \"stay\", \"stay\", \"stay\", \"stay\", \"stay_warm\", \"stick\", \"stick\", \"stick\", \"stick\", \"sticky\", \"sticky\", \"still\", \"still\", \"still\", \"still\", \"sturdy\", \"support\", \"take\", \"take\", \"take\", \"take\", \"take_turns\", \"tall\", \"tall\", \"thermal\", \"think\", \"think\", \"think\", \"think\", \"tie\", \"tight\", \"tighten\", \"tip\", \"together\", \"together\", \"together\", \"top\", \"top\", \"top\", \"top\", \"top_perch\", \"trim\", \"try\", \"try\", \"try\", \"try\", \"typical\", \"unfortunately\", \"unfortunately\", \"unfortunately\", \"unstable\", \"upper\", \"upstairs\", \"use\", \"use\", \"use\", \"use\", \"wait\", \"wait\", \"wait\", \"want\", \"want\", \"want\", \"want\", \"warm\", \"wash\", \"washable\", \"wear\", \"wear\", \"wear\", \"weird\", \"well\", \"well\", \"well\", \"well\", \"wet\", \"whole_thing\", \"window_sill\", \"window_sills\", \"wobble\", \"wobbly\", \"wooden\", \"wooden\", \"work\", \"work\", \"work\", \"work\", \"worn\"]}, \"R\": 30, \"lambda.step\": 0.01, \"plot.opts\": {\"xlab\": \"PC1\", \"ylab\": \"PC2\"}, \"topic.order\": [3, 1, 2, 4]};\n",
       "\n",
       "function LDAvis_load_lib(url, callback){\n",
       "  var s = document.createElement('script');\n",
       "  s.src = url;\n",
       "  s.async = true;\n",
       "  s.onreadystatechange = s.onload = callback;\n",
       "  s.onerror = function(){console.warn(\"failed to load library \" + url);};\n",
       "  document.getElementsByTagName(\"head\")[0].appendChild(s);\n",
       "}\n",
       "\n",
       "if(typeof(LDAvis) !== \"undefined\"){\n",
       "   // already loaded: just create the visualization\n",
       "   !function(LDAvis){\n",
       "       new LDAvis(\"#\" + \"ldavis_el2993617954848815209392689973\", ldavis_el2993617954848815209392689973_data);\n",
       "   }(LDAvis);\n",
       "}else if(typeof define === \"function\" && define.amd){\n",
       "   // require.js is available: use it to load d3/LDAvis\n",
       "   require.config({paths: {d3: \"https://d3js.org/d3.v5\"}});\n",
       "   require([\"d3\"], function(d3){\n",
       "      window.d3 = d3;\n",
       "      LDAvis_load_lib(\"https://cdn.jsdelivr.net/gh/bmabey/pyLDAvis@3.3.1/pyLDAvis/js/ldavis.v3.0.0.js\", function(){\n",
       "        new LDAvis(\"#\" + \"ldavis_el2993617954848815209392689973\", ldavis_el2993617954848815209392689973_data);\n",
       "      });\n",
       "    });\n",
       "}else{\n",
       "    // require.js not available: dynamically load d3 & LDAvis\n",
       "    LDAvis_load_lib(\"https://d3js.org/d3.v5.js\", function(){\n",
       "         LDAvis_load_lib(\"https://cdn.jsdelivr.net/gh/bmabey/pyLDAvis@3.3.1/pyLDAvis/js/ldavis.v3.0.0.js\", function(){\n",
       "                 new LDAvis(\"#\" + \"ldavis_el2993617954848815209392689973\", ldavis_el2993617954848815209392689973_data);\n",
       "            })\n",
       "         });\n",
       "}\n",
       "</script>"
      ],
      "text/plain": [
       "<IPython.core.display.HTML object>"
      ]
     },
     "execution_count": 157,
     "metadata": {},
     "output_type": "execute_result"
    }
   ],
   "source": [
    "pyLDAvis.enable_notebook()\n",
    "topic_data =  pyLDAvis.gensim_models.prepare(cats_beds_optimal_model, \n",
    "                                             cats_beds_doc_term_matrix, \n",
    "                                             cats_beds_dictionary, \n",
    "                                             mds = 'tsne')\n",
    "pyLDAvis.display(topic_data)"
   ]
  },
  {
   "cell_type": "markdown",
   "id": "7cbee05a",
   "metadata": {},
   "source": [
    "## 5. cats litter (1/4)"
   ]
  },
  {
   "cell_type": "code",
   "execution_count": 158,
   "id": "01491255",
   "metadata": {},
   "outputs": [
    {
     "data": {
      "application/vnd.jupyter.widget-view+json": {
       "model_id": "aa86563b74a5499d912c9d44a374d6e4",
       "version_major": 2,
       "version_minor": 0
      },
      "text/plain": [
       "  0%|          | 0/4893 [00:00<?, ?it/s]"
      ]
     },
     "metadata": {},
     "output_type": "display_data"
    },
    {
     "data": {
      "application/vnd.jupyter.widget-view+json": {
       "model_id": "cf413e3d362746dfaddb7c06d893742f",
       "version_major": 2,
       "version_minor": 0
      },
      "text/plain": [
       "  0%|          | 0/4893 [00:00<?, ?it/s]"
      ]
     },
     "metadata": {},
     "output_type": "display_data"
    }
   ],
   "source": [
    "cats_litter_dictionary, cats_litter_doc_term_matrix = vectorize(cats_litter_reviews2)\n",
    "# cats_litter_model_list, cats_litter_coherence_values = compute_coherence_values(dictionary=cats_litter_dictionary, \n",
    "#                                                     corpus=cats_litter_doc_term_matrix, \n",
    "#                                                     texts=cats_litter_reviews2, \n",
    "#                                                     start=2, \n",
    "#                                                     limit=20, \n",
    "#                                                     step=2)\n",
    "\n",
    "# limit=20; start=2; step=2;\n",
    "# x = range(start, limit, step)\n",
    "# plt.plot(x, cats_litter_coherence_values)\n",
    "# plt.xlabel(\"Num Topics\")\n",
    "# plt.ylabel(\"Coherence score\")\n",
    "# plt.legend((\"coherence_values\"), loc='best')\n",
    "# plt.show()\n",
    "# for m, cv in zip(x, cats_litter_coherence_values):\n",
    "#     print(\"Num Topics =\", m, \" has Coherence Value of\", round(cv, 4))\n",
    "    \n",
    "# with open ('./cats_litter_model_list.pickle', 'wb') as handle:\n",
    "#      pickle.dump(cats_litter_model_list, handle)"
   ]
  },
  {
   "cell_type": "code",
   "execution_count": 159,
   "id": "485c76c3",
   "metadata": {},
   "outputs": [],
   "source": [
    "with open ('./model/cats_litter_model_list.pickle', 'rb') as handle:\n",
    "     cats_litter_model_list = pickle.load(handle)"
   ]
  },
  {
   "cell_type": "code",
   "execution_count": 161,
   "id": "57307d8e",
   "metadata": {},
   "outputs": [
    {
     "name": "stderr",
     "output_type": "stream",
     "text": [
      "C:\\Users\\JiatingChen\\anaconda3\\lib\\site-packages\\pyLDAvis\\_prepare.py:246: FutureWarning: In a future version of pandas all arguments of DataFrame.drop except for the argument 'labels' will be keyword-only\n",
      "  default_term_info = default_term_info.sort_values(\n",
      "C:\\Users\\JiatingChen\\anaconda3\\lib\\site-packages\\sklearn\\manifold\\_t_sne.py:691: FutureWarning: 'square_distances' has been introduced in 0.24 to help phase out legacy squaring behavior. The 'legacy' setting will be removed in 1.1 (renaming of 0.26), and the default setting will be changed to True. In 1.3, 'square_distances' will be removed altogether, and distances will be squared by default. Set 'square_distances'=True to silence this warning.\n",
      "  warnings.warn(\n"
     ]
    },
    {
     "data": {
      "text/html": [
       "\n",
       "<link rel=\"stylesheet\" type=\"text/css\" href=\"https://cdn.jsdelivr.net/gh/bmabey/pyLDAvis@3.3.1/pyLDAvis/js/ldavis.v1.0.0.css\">\n",
       "\n",
       "\n",
       "<div id=\"ldavis_el2993617954848817445822275730\"></div>\n",
       "<script type=\"text/javascript\">\n",
       "\n",
       "var ldavis_el2993617954848817445822275730_data = {\"mdsDat\": {\"x\": [269.5624084472656, 1.782994270324707, 220.81143188476562, 50.533992767333984], \"y\": [-124.80339813232422, -295.0796813964844, -343.8321228027344, -76.05093383789062], \"topics\": [1, 2, 3, 4], \"cluster\": [1, 1, 1, 1], \"Freq\": [30.37816604670359, 27.38305680010425, 22.689830820734606, 19.548946332457554]}, \"tinfo\": {\"Term\": [\"easy\", \"well\", \"great\", \"nice\", \"take\", \"track\", \"large\", \"recommend\", \"clump\", \"fit\", \"empty\", \"good\", \"try\", \"seem\", \"smell\", \"highly\", \"odor_control\", \"pull\", \"make\", \"keep\", \"far\", \"start\", \"clean\", \"definitely\", \"litter_locker\", \"look\", \"natural\", \"go\", \"really\", \"top\", \"litter_locker\", \"fit\", \"tie\", \"plastic_bag\", \"flimsy\", \"diaper_genie\", \"lock\", \"litter_locker_ii\", \"pull\", \"litter_champ\", \"trash_bags\", \"litter_maid\", \"dispose\", \"grocery_bags\", \"snap\", \"plastic_grocery_bags\", \"littermaid\", \"disposable\", \"slide\", \"rip\", \"garbage_bag\", \"cartridge\", \"tray\", \"garbage_bags\", \"plastic_bags\", \"attach\", \"pail\", \"rake\", \"omega_paw\", \"correctly\", \"lid\", \"empty\", \"hang\", \"roll\", \"refill\", \"design\", \"plastic\", \"full\", \"top\", \"bottom\", \"open\", \"bag\", \"toss\", \"hold\", \"make\", \"close\", \"easy\", \"scoop\", \"break\", \"fall\", \"get\", \"small\", \"use\", \"put\", \"little\", \"buy\", \"much\", \"keep\", \"come\", \"go\", \"clean\", \"well\", \"take\", \"sure\", \"enough\", \"last\", \"need\", \"also\", \"good\", \"back\", \"really\", \"work\", \"pee\", \"upstairs\", \"breeze_system\", \"slowly\", \"awhile\", \"smart\", \"poope\", \"male_cat\", \"loud\", \"correct\", \"issue\", \"toilet_training\", \"lol\", \"mark\", \"scrub\", \"travel\", \"slow\", \"linger\", \"wonderfully\", \"treat\", \"downstairs\", \"next_day\", \"every_months\", \"overnight\", \"drive\", \"bulk\", \"customer_service\", \"every_month\", \"female\", \"automatically\", \"old_litter_box\", \"soak\", \"breeze\", \"care\", \"male\", \"laundry_room\", \"stop\", \"call\", \"eat\", \"move\", \"start\", \"spray\", \"dry\", \"sorry\", \"litter_robot\", \"take\", \"happen\", \"wait\", \"away\", \"follow\", \"old\", \"know\", \"go\", \"ago\", \"pet\", \"back\", \"right\", \"new\", \"give\", \"get\", \"first\", \"want\", \"let\", \"use\", \"still\", \"never\", \"put\", \"decide\", \"even\", \"find\", \"work\", \"clean\", \"buy\", \"leave\", \"try\", \"smell\", \"think\", \"come\", \"long\", \"also\", \"really\", \"keep\", \"feline_pine\", \"dusty\", \"world_best\", \"standard\", \"odor_control\", \"usual\", \"pine\", \"swheat_scoop\", \"weird\", \"clay_litters\", \"environmentally\", \"okocat\", \"sick\", \"pricey\", \"sticky\", \"greatly\", \"cat_attract\", \"clay_based\", \"ordinary\", \"sneeze\", \"adapt\", \"typically\", \"clump_seal\", \"disappear\", \"best_cat_litter\", \"break_apart\", \"worst\", \"accidentally\", \"scent\", \"typical\", \"clump\", \"lightweight\", \"yellow\", \"natural\", \"pine_pellets\", \"precious_cat\", \"friendly\", \"positive\", \"far\", \"mix\", \"fine\", \"well\", \"seem\", \"good\", \"try\", \"base\", \"smell\", \"eliminate\", \"suppose\", \"bad\", \"say\", \"strong\", \"regular\", \"use\", \"less\", \"think\", \"little\", \"get\", \"scoop\", \"really\", \"expensive\", \"work\", \"go\", \"even\", \"find\", \"last\", \"much\", \"also\", \"make\", \"still\", \"mat\", \"trap\", \"large_size\", \"great_job\", \"purr_fect_potty\", \"plastic_ones\", \"super_scoop\", \"attractive\", \"yoga_mat\", \"please\", \"vacuum\", \"fly\", \"unscented\", \"starter\", \"perfect_size\", \"good_quality\", \"unscente\", \"beige\", \"significantly\", \"better_job\", \"stray\", \"worth_every_penny\", \"neutral\", \"lug\", \"booda_dome\", \"crumble\", \"fantastic\", \"overprice\", \"fabulous\", \"bare\", \"top_entry\", \"highly\", \"high_sides\", \"nice\", \"track\", \"tidy_cat\", \"great\", \"arm_hammer\", \"definitely\", \"soft\", \"recommend\", \"wish\", \"large\", \"catch\", \"look\", \"easy\", \"perfect\", \"love\", \"clean\", \"walk\", \"really\", \"keep\", \"heavy\", \"multi_cat\", \"buy\", \"much\", \"stay\", \"make\", \"well\", \"use\", \"also\", \"get\", \"work\", \"big\", \"always\", \"seem\", \"good\", \"small\", \"find\", \"still\", \"little\", \"try\", \"even\"], \"Freq\": [1397.0, 2139.0, 1009.0, 449.0, 1021.0, 371.0, 688.0, 624.0, 276.0, 303.0, 351.0, 1367.0, 1290.0, 839.0, 815.0, 223.0, 200.0, 222.0, 1760.0, 1079.0, 470.0, 384.0, 1592.0, 284.0, 189.0, 485.0, 187.0, 1860.0, 1252.0, 432.0, 188.64056242059434, 302.0126950581086, 114.87892659352364, 99.88452176970628, 101.10860935839855, 86.58876044537861, 72.39314141814138, 68.37138821345128, 219.85476623724014, 60.74124125410252, 57.76598464727034, 54.80933691164562, 81.19631045205516, 49.32834630505051, 48.293821744280585, 45.8877887313459, 130.04028664641345, 44.589320098670406, 43.149780384905185, 43.985694838878494, 39.5848625954385, 38.85957194179208, 38.940510633208774, 34.13813260345339, 74.03451809615727, 34.30803011282712, 32.76380312560026, 61.942790332295125, 31.31282835946142, 30.444249397517577, 113.1124794941557, 336.2670143265796, 54.74883333438201, 104.9144105720604, 65.62987585615555, 90.84961784841305, 116.42075075974752, 248.01137414112867, 346.74123524908373, 212.4846040154975, 302.07461904655213, 133.78371844652307, 68.18373556432843, 271.96330759569213, 915.7258437282568, 170.89223272645242, 704.8246962791419, 477.79856599533497, 174.22007300181932, 146.62523524500955, 972.7442169747675, 384.503306943489, 1099.7539598600247, 345.4708432457592, 392.32901037305595, 474.1690046496778, 462.1611355862782, 405.8886217350996, 318.3245188783922, 516.368381480173, 470.64927523748764, 526.0419458206404, 349.82120140063296, 220.93160618333556, 228.0002057081599, 268.21819307850524, 260.9683352294516, 315.1410755249266, 295.65477624336563, 244.8174781451125, 251.4269136712286, 226.69366498268138, 103.4365369258139, 60.39539563205418, 58.47204355740388, 42.13793832160881, 41.56038575500144, 40.649041076591054, 45.941979930109746, 32.03451805206808, 31.974140050689567, 28.882595886489078, 40.955365525139484, 25.355269683005528, 25.892470615028245, 26.24433954533176, 26.55868524749912, 23.10177922664893, 20.665930164311177, 20.684038211274043, 20.7460423233, 19.743046569056876, 19.365300396474947, 19.319055504921103, 21.339434412139855, 18.839524620468953, 19.079921323755695, 25.567123571690544, 58.563476034000054, 19.049308508220054, 17.93607405122358, 17.69397985794685, 44.250240438403765, 76.03494417517756, 99.36582655475934, 32.17630865483248, 26.964407661151295, 50.25688349323287, 155.43255133299627, 93.39967343199108, 76.5336984088199, 142.79101993989428, 305.84249522754203, 72.09148978826089, 142.27361785301105, 31.634824962256832, 170.3020283002402, 633.9708346476615, 112.58819842543485, 92.17817658778807, 240.19500310953384, 69.45417922339234, 345.7959044601143, 333.79600197718395, 879.649038248278, 122.49251940256227, 90.26533512132809, 340.9033144941165, 276.3928596132404, 304.90492756316274, 299.08089071140927, 954.6927107262261, 314.1172168918612, 292.9173201719865, 150.2251606215224, 1058.8260349491663, 347.4657527997023, 266.76382199307045, 305.380813639936, 172.78658261084527, 371.5329041752577, 340.9273336428842, 372.88061754192273, 450.007710270187, 387.8196715233162, 185.14818206730627, 356.32667731470394, 281.4495863774292, 287.0039877627044, 260.41218473086707, 247.3912364424466, 252.63083708224565, 255.91003976861154, 241.87675395449187, 131.49690976044835, 98.15885573842954, 80.72653357789436, 62.88397067898435, 197.67859080779195, 71.03936936229714, 45.136199569925886, 36.45687875708648, 36.218418796093445, 32.72571303270749, 33.30819292626479, 54.40035500744358, 27.62691244972904, 57.236715512657575, 25.912912168932248, 25.12274277254689, 22.634065525707047, 32.014284809961254, 21.7025715995157, 20.464079141351416, 21.51296768853917, 21.195768402204596, 19.177152045019596, 19.646078079958357, 38.389532641974824, 18.727128549464133, 17.92221343496007, 18.972833836983277, 17.38251793385849, 18.09491096794315, 263.03164308263916, 56.79233671792118, 23.173822020628876, 170.0944350260549, 47.06177077847544, 59.77376270724954, 54.24639181876373, 42.453975993364566, 305.3080050714494, 42.456371387032384, 196.60150648097263, 1046.830445649299, 456.5961600523375, 680.2058040698407, 632.5320286922141, 66.55703332053812, 407.4609875280137, 83.59725023858472, 105.45614899938917, 209.58090271089253, 346.67024343475504, 140.0392384530168, 207.31542218360372, 1033.0737885333149, 261.38858046308525, 299.4309510666044, 317.3162613920185, 581.1975003349378, 281.6806995421893, 315.94299107408784, 164.65081419765866, 284.7805163849114, 370.61273545428156, 260.37695544347224, 238.76673403270067, 202.64716958454665, 260.32869269697994, 238.96454623324416, 258.6344692003233, 180.89347592217746, 92.82226180309925, 62.69265392409129, 40.0778881419871, 44.59196820404771, 36.398012715029395, 34.423937128194595, 33.06274839932984, 31.52857573396784, 31.25371364154994, 31.52681130673325, 30.812597278242528, 30.206831826944942, 60.11064079322607, 34.64742381317358, 22.97288240543504, 24.767083553386243, 22.890551491666542, 23.140810334288048, 21.78865553656213, 21.83694478878386, 21.239181365332673, 20.75439383552583, 20.75471232419633, 18.91578262735962, 37.37965212548176, 18.11029293078931, 42.64902488475463, 16.964256038396467, 16.532108316050433, 16.12872012065086, 35.86425755213264, 201.77049676206627, 33.27320252791183, 376.71945739813657, 297.434276264757, 79.16502809754545, 644.3895660541947, 94.6013395165316, 196.6351726993216, 84.93355859543827, 375.86830279598945, 97.54792662852213, 394.2257604519663, 105.94046617337277, 261.5820066261821, 585.2290470325879, 140.27764698772222, 159.94260255249037, 529.2640649771574, 87.95637278582711, 428.7452696604056, 379.7270350905285, 122.62174343558355, 56.0723636955774, 389.26363052824144, 375.1247718853789, 120.05040604495362, 408.2307009786556, 448.3699300385817, 616.04438012851, 285.7477294265838, 438.21024336589574, 252.64146910508978, 188.54308899645054, 143.281198983319, 201.93907918513716, 236.8028236882034, 187.80920192278282, 198.1510641149967, 176.21785771799654, 182.33805066631245, 182.84424381966386, 165.78871689051786], \"Total\": [1397.0, 2139.0, 1009.0, 449.0, 1021.0, 371.0, 688.0, 624.0, 276.0, 303.0, 351.0, 1367.0, 1290.0, 839.0, 815.0, 223.0, 200.0, 222.0, 1760.0, 1079.0, 470.0, 384.0, 1592.0, 284.0, 189.0, 485.0, 187.0, 1860.0, 1252.0, 432.0, 189.3614605880016, 303.1889644390507, 115.6003615333315, 100.60938353093486, 101.84945497965252, 87.31149578670744, 73.14550007870103, 69.08947077929282, 222.4153297238281, 61.45653645379395, 58.49128454227364, 55.55040027220771, 82.34213211989808, 50.06608191105616, 49.02196224974915, 46.61445945822008, 132.13429146373704, 45.31864556619114, 43.87918619273378, 44.73597570558541, 40.30397532922267, 39.58677428608609, 39.70743400137574, 34.860036736802265, 75.60206420351409, 35.04267422216616, 33.4833683462802, 63.40349290419326, 32.051320320379574, 31.17141342403001, 116.47629878971786, 351.36338087545846, 56.61317300194966, 112.5186061859137, 68.91568004938166, 97.56993308825304, 127.46939317759413, 290.9408768592649, 432.4934175275872, 261.12617978304894, 390.96171291082135, 163.52786571684732, 74.21247646123187, 396.5991696082178, 1760.9544110169163, 228.61541612820338, 1397.8887848773106, 977.5737322439314, 262.818617488648, 209.21012553536713, 2946.8446714018273, 798.7567741554618, 3807.6981634710155, 715.7964618031064, 985.4210945874634, 1341.209925976289, 1302.1234652811972, 1079.1421662902096, 752.7321937703674, 1860.7332701324488, 1592.5702182027412, 2139.9666897282577, 1021.0169389559657, 431.6738657274284, 482.88280492606464, 693.0681209978475, 667.0634057218133, 1092.4841882670003, 1367.504809464252, 672.4869285561631, 1252.0252141743335, 1136.9962680146052, 104.17230734617904, 61.12603075917201, 59.1940172385578, 42.86953920469479, 42.297583525122015, 41.37831966832673, 46.89972444563176, 32.7603559905682, 32.71228726680943, 29.629819771364758, 42.0392852854713, 26.071919800494285, 26.628194808603144, 26.998504782309432, 27.344821221533515, 23.836032716604645, 21.388481429467387, 21.42506662429652, 21.492221452812906, 20.454377162000785, 20.0827642141977, 20.044464375925916, 22.15769788952801, 19.56534900796141, 19.816797668879374, 26.557817605181455, 60.859381707873055, 19.80057971808572, 18.66059926755306, 18.421849662522508, 46.29125990572511, 80.94676250203747, 106.43489575402431, 33.778907050937036, 28.251978567207576, 54.722552605092936, 181.43275747402336, 105.6431723306134, 85.89132680203363, 169.2458975071061, 384.3791183891047, 81.29467212287678, 175.19360200361638, 33.786735532619836, 224.7540776650183, 1021.0169389559657, 143.76584519243085, 116.2079872516075, 371.9731334085465, 85.79697158547813, 586.9498655973375, 564.5665262986552, 1860.7332701324488, 173.26359572097894, 118.6132058479099, 672.4869285561631, 513.6458209726565, 596.630603893303, 591.6856831845777, 2946.8446714018273, 663.9311363540529, 606.9042839628212, 242.2415198486644, 3807.6981634710155, 820.9670335787739, 567.06813180313, 715.7964618031064, 305.50419808517717, 998.2498855228762, 973.4336132265528, 1136.9962680146052, 1592.5702182027412, 1341.209925976289, 360.8943477489526, 1290.8682418343642, 815.8995872551175, 880.6755196447166, 752.7321937703674, 720.183689707198, 1092.4841882670003, 1252.0252141743335, 1079.1421662902096, 132.24051378911966, 98.90840529900119, 81.46356690690551, 63.74622903492931, 200.59092800394, 72.29665953988533, 46.02398273741801, 37.206052247150524, 36.97468502182413, 33.46177640642689, 34.10345719571582, 55.702013387139736, 28.380905010580133, 58.85079531804961, 26.702367461877508, 25.899446233840678, 23.38171382361758, 33.135583037414364, 22.469325071099313, 21.19690250985939, 22.28965195507074, 21.961143311111467, 19.90387434453607, 20.396965832088632, 39.88373603901471, 19.475432015114695, 18.671407600662064, 19.772413091307058, 18.121900490658092, 18.865306452757636, 276.5989954716889, 60.447752232464076, 24.2552657998567, 187.05553382531508, 50.464841634175954, 64.7847070978282, 60.42442823575045, 48.654001210759446, 470.27887324323103, 49.05137052599167, 297.9498734481344, 2139.9666897282577, 839.5746244577134, 1367.504809464252, 1290.8682418343642, 84.69324282029396, 815.8995872551175, 114.13068085185863, 154.05896578765808, 385.16862145665806, 747.9692548222523, 234.5098725781292, 406.1659175206854, 3807.6981634710155, 623.4709285734543, 880.6755196447166, 985.4210945874634, 2946.8446714018273, 977.5737322439314, 1252.0252141743335, 406.76654315560603, 1136.9962680146052, 1860.7332701324488, 998.2498855228762, 973.4336132265528, 693.0681209978475, 1302.1234652811972, 1092.4841882670003, 1760.9544110169163, 820.9670335787739, 93.56349532068907, 63.442712989700986, 40.82429667203083, 45.471332408517334, 37.12014185329434, 35.16235744526414, 33.81868402289777, 32.266974254016596, 31.985991961309807, 32.27717703631993, 31.554498483825668, 30.947411729907937, 61.608624802012436, 35.52447643136139, 23.706826156204038, 25.568674824382498, 23.634686585889472, 23.894995555604794, 22.543248854120915, 22.60076589241955, 21.989415377372662, 21.539599215487033, 21.563461563519475, 19.679576722807376, 38.89034822233154, 18.852506505179104, 44.51864815542601, 17.72202761233468, 17.272403460741298, 16.87389250913719, 37.62686225124714, 223.39223836624845, 35.3116888176197, 449.1036010457598, 371.29144609893916, 91.31492374453002, 1009.4964415185141, 120.55885138474949, 284.3667031356353, 108.01427351061342, 624.3397685677446, 128.02013083334552, 688.390762748945, 151.08587743374113, 485.9174772503975, 1397.8887848773106, 243.16882869141983, 295.4450942980216, 1592.5702182027412, 132.1154456609891, 1252.0252141743335, 1079.1421662902096, 216.05563647382183, 71.49672886704012, 1341.209925976289, 1302.1234652811972, 242.4859664195269, 1760.9544110169163, 2139.9666897282577, 3807.6981634710155, 1092.4841882670003, 2946.8446714018273, 1136.9962680146052, 683.3595912464727, 367.7264612240843, 839.5746244577134, 1367.504809464252, 798.7567741554618, 973.4336132265528, 820.9670335787739, 985.4210945874634, 1290.8682418343642, 998.2498855228762], \"Category\": [\"Default\", \"Default\", \"Default\", \"Default\", \"Default\", \"Default\", \"Default\", \"Default\", \"Default\", \"Default\", \"Default\", \"Default\", \"Default\", \"Default\", \"Default\", \"Default\", \"Default\", \"Default\", \"Default\", \"Default\", \"Default\", \"Default\", \"Default\", \"Default\", \"Default\", \"Default\", \"Default\", \"Default\", \"Default\", \"Default\", \"Topic1\", \"Topic1\", \"Topic1\", \"Topic1\", \"Topic1\", \"Topic1\", \"Topic1\", \"Topic1\", \"Topic1\", \"Topic1\", \"Topic1\", \"Topic1\", \"Topic1\", \"Topic1\", \"Topic1\", \"Topic1\", \"Topic1\", \"Topic1\", \"Topic1\", \"Topic1\", \"Topic1\", \"Topic1\", \"Topic1\", \"Topic1\", \"Topic1\", \"Topic1\", \"Topic1\", \"Topic1\", \"Topic1\", \"Topic1\", \"Topic1\", \"Topic1\", \"Topic1\", \"Topic1\", \"Topic1\", \"Topic1\", \"Topic1\", \"Topic1\", \"Topic1\", \"Topic1\", \"Topic1\", \"Topic1\", \"Topic1\", \"Topic1\", \"Topic1\", \"Topic1\", \"Topic1\", \"Topic1\", \"Topic1\", \"Topic1\", \"Topic1\", \"Topic1\", \"Topic1\", \"Topic1\", \"Topic1\", \"Topic1\", \"Topic1\", \"Topic1\", \"Topic1\", \"Topic1\", \"Topic1\", \"Topic1\", \"Topic1\", \"Topic1\", \"Topic1\", \"Topic1\", \"Topic1\", \"Topic1\", \"Topic1\", \"Topic1\", \"Topic1\", \"Topic1\", \"Topic2\", \"Topic2\", \"Topic2\", \"Topic2\", \"Topic2\", \"Topic2\", \"Topic2\", \"Topic2\", \"Topic2\", \"Topic2\", \"Topic2\", \"Topic2\", \"Topic2\", \"Topic2\", \"Topic2\", \"Topic2\", \"Topic2\", \"Topic2\", \"Topic2\", \"Topic2\", \"Topic2\", \"Topic2\", \"Topic2\", \"Topic2\", \"Topic2\", \"Topic2\", \"Topic2\", \"Topic2\", \"Topic2\", \"Topic2\", \"Topic2\", \"Topic2\", \"Topic2\", \"Topic2\", \"Topic2\", \"Topic2\", \"Topic2\", \"Topic2\", \"Topic2\", \"Topic2\", \"Topic2\", \"Topic2\", \"Topic2\", \"Topic2\", \"Topic2\", \"Topic2\", \"Topic2\", \"Topic2\", \"Topic2\", \"Topic2\", \"Topic2\", \"Topic2\", \"Topic2\", \"Topic2\", \"Topic2\", \"Topic2\", \"Topic2\", \"Topic2\", \"Topic2\", \"Topic2\", \"Topic2\", \"Topic2\", \"Topic2\", \"Topic2\", \"Topic2\", \"Topic2\", \"Topic2\", \"Topic2\", \"Topic2\", \"Topic2\", \"Topic2\", \"Topic2\", \"Topic2\", \"Topic2\", \"Topic2\", \"Topic2\", \"Topic2\", \"Topic2\", \"Topic2\", \"Topic2\", \"Topic2\", \"Topic2\", \"Topic3\", \"Topic3\", \"Topic3\", \"Topic3\", \"Topic3\", \"Topic3\", \"Topic3\", \"Topic3\", \"Topic3\", \"Topic3\", \"Topic3\", \"Topic3\", \"Topic3\", \"Topic3\", \"Topic3\", \"Topic3\", \"Topic3\", \"Topic3\", \"Topic3\", \"Topic3\", \"Topic3\", \"Topic3\", \"Topic3\", \"Topic3\", \"Topic3\", \"Topic3\", \"Topic3\", \"Topic3\", \"Topic3\", \"Topic3\", \"Topic3\", \"Topic3\", \"Topic3\", \"Topic3\", \"Topic3\", \"Topic3\", \"Topic3\", \"Topic3\", \"Topic3\", \"Topic3\", \"Topic3\", \"Topic3\", \"Topic3\", \"Topic3\", \"Topic3\", \"Topic3\", \"Topic3\", \"Topic3\", \"Topic3\", \"Topic3\", \"Topic3\", \"Topic3\", \"Topic3\", \"Topic3\", \"Topic3\", \"Topic3\", \"Topic3\", \"Topic3\", \"Topic3\", \"Topic3\", \"Topic3\", \"Topic3\", \"Topic3\", \"Topic3\", \"Topic3\", \"Topic3\", \"Topic3\", \"Topic3\", \"Topic3\", \"Topic3\", \"Topic4\", \"Topic4\", \"Topic4\", \"Topic4\", \"Topic4\", \"Topic4\", \"Topic4\", \"Topic4\", \"Topic4\", \"Topic4\", \"Topic4\", \"Topic4\", \"Topic4\", \"Topic4\", \"Topic4\", \"Topic4\", \"Topic4\", \"Topic4\", \"Topic4\", \"Topic4\", \"Topic4\", \"Topic4\", \"Topic4\", \"Topic4\", \"Topic4\", \"Topic4\", \"Topic4\", \"Topic4\", \"Topic4\", \"Topic4\", \"Topic4\", \"Topic4\", \"Topic4\", \"Topic4\", \"Topic4\", \"Topic4\", \"Topic4\", \"Topic4\", \"Topic4\", \"Topic4\", \"Topic4\", \"Topic4\", \"Topic4\", \"Topic4\", \"Topic4\", \"Topic4\", \"Topic4\", \"Topic4\", \"Topic4\", \"Topic4\", \"Topic4\", \"Topic4\", \"Topic4\", \"Topic4\", \"Topic4\", \"Topic4\", \"Topic4\", \"Topic4\", \"Topic4\", \"Topic4\", \"Topic4\", \"Topic4\", \"Topic4\", \"Topic4\", \"Topic4\", \"Topic4\", \"Topic4\", \"Topic4\", \"Topic4\", \"Topic4\", \"Topic4\", \"Topic4\", \"Topic4\"], \"logprob\": [30.0, 29.0, 28.0, 27.0, 26.0, 25.0, 24.0, 23.0, 22.0, 21.0, 20.0, 19.0, 18.0, 17.0, 16.0, 15.0, 14.0, 13.0, 12.0, 11.0, 10.0, 9.0, 8.0, 7.0, 6.0, 5.0, 4.0, 3.0, 2.0, 1.0, -5.4177, -4.9471, -5.9137, -6.0536, -6.0414, -6.1964, -6.3755, -6.4326, -5.2646, -6.5509, -6.6012, -6.6537, -6.2607, -6.7591, -6.7803, -6.8314, -5.7897, -6.8601, -6.8929, -6.8737, -6.9791, -6.9976, -6.9955, -7.1272, -6.353, -7.1222, -7.1682, -6.5314, -7.2135, -7.2417, -5.9292, -4.8397, -6.6548, -6.0044, -6.4735, -6.1484, -5.9004, -5.1441, -4.809, -5.2987, -4.9469, -5.7613, -6.4354, -5.0519, -3.8378, -5.5165, -4.0996, -4.4884, -5.4972, -5.6697, -3.7774, -4.7056, -3.6547, -4.8127, -4.6855, -4.496, -4.5217, -4.6515, -4.8945, -4.4107, -4.5035, -4.3922, -4.8001, -5.2597, -5.2282, -5.0658, -5.0932, -4.9045, -4.9684, -5.1571, -5.1304, -5.234, -5.9148, -6.4529, -6.4852, -6.8128, -6.8266, -6.8488, -6.7264, -7.087, -7.0888, -7.1905, -6.8413, -7.3208, -7.2998, -7.2863, -7.2744, -7.4139, -7.5253, -7.5244, -7.5214, -7.571, -7.5903, -7.5927, -7.4932, -7.6178, -7.6051, -7.3125, -6.4837, -7.6067, -7.667, -7.6805, -6.7639, -6.2226, -5.955, -7.0825, -7.2592, -6.6366, -5.5076, -6.0169, -6.216, -5.5924, -4.8307, -6.2758, -5.596, -7.0995, -5.4162, -4.1018, -5.83, -6.03, -5.0723, -6.3131, -4.7079, -4.7432, -3.7742, -5.7457, -6.051, -4.7222, -4.9319, -4.8338, -4.8531, -3.6924, -4.804, -4.8739, -5.5416, -3.5889, -4.7031, -4.9674, -4.8322, -5.4017, -4.6361, -4.7221, -4.6325, -4.4445, -4.5932, -5.3326, -4.6779, -4.9138, -4.8943, -4.9915, -5.0428, -5.0218, -5.0089, -5.0653, -5.4868, -5.7792, -5.9747, -6.2245, -5.0791, -6.1025, -6.5561, -6.7696, -6.7762, -6.8776, -6.86, -6.3694, -7.047, -6.3186, -7.111, -7.142, -7.2463, -6.8996, -7.2883, -7.3471, -7.2971, -7.312, -7.412, -7.3879, -6.718, -7.4358, -7.4797, -7.4228, -7.5103, -7.4701, -4.7935, -6.3264, -7.2227, -5.2294, -6.5143, -6.2752, -6.3722, -6.6173, -4.6444, -6.6173, -5.0846, -3.4122, -4.242, -3.8434, -3.916, -6.1677, -4.3558, -5.9397, -5.7075, -5.0206, -4.5174, -5.4238, -5.0315, -3.4255, -4.7998, -4.6639, -4.6059, -4.0007, -4.725, -4.6102, -5.2619, -4.714, -4.4506, -4.8036, -4.8903, -5.0543, -4.8038, -4.8894, -4.8103, -5.1679, -5.6861, -6.0785, -6.5259, -6.4192, -6.6222, -6.678, -6.7184, -6.7659, -6.7746, -6.7659, -6.7888, -6.8087, -6.1206, -6.6715, -7.0824, -7.0072, -7.086, -7.0752, -7.1354, -7.1332, -7.1609, -7.184, -7.184, -7.2768, -6.5956, -7.3203, -6.4638, -7.3857, -7.4115, -7.4362, -6.637, -4.9096, -6.712, -4.2853, -4.5216, -5.8452, -3.7485, -5.6671, -4.9354, -5.7749, -4.2875, -5.6364, -4.2398, -5.5539, -4.65, -3.8448, -5.2731, -5.1419, -3.9453, -5.7399, -4.1559, -4.2773, -5.4077, -6.1901, -4.2525, -4.2895, -5.4289, -4.2049, -4.1111, -3.7934, -4.5617, -4.1341, -4.6848, -4.9774, -5.252, -4.9088, -4.7495, -4.9813, -4.9277, -5.045, -5.0109, -5.0081, -5.106], \"loglift\": [30.0, 29.0, 28.0, 27.0, 26.0, 25.0, 24.0, 23.0, 22.0, 21.0, 20.0, 19.0, 18.0, 17.0, 16.0, 15.0, 14.0, 13.0, 12.0, 11.0, 10.0, 9.0, 8.0, 7.0, 6.0, 5.0, 4.0, 3.0, 2.0, 1.0, 1.1876, 1.1876, 1.1852, 1.1842, 1.1841, 1.1831, 1.1811, 1.181, 1.1799, 1.1797, 1.179, 1.178, 1.1774, 1.1766, 1.1765, 1.1757, 1.1755, 1.1752, 1.1747, 1.1745, 1.1734, 1.1729, 1.1719, 1.1705, 1.1705, 1.1703, 1.1697, 1.1681, 1.1681, 1.1678, 1.1621, 1.1475, 1.158, 1.1215, 1.1426, 1.1201, 1.1008, 1.0318, 0.9705, 0.9853, 0.9335, 0.9907, 1.1067, 0.8142, 0.5376, 0.9004, 0.5067, 0.4756, 0.7803, 0.836, 0.0831, 0.4603, -0.0505, 0.463, 0.2705, 0.1517, 0.1556, 0.2136, 0.3308, -0.0905, -0.0275, -0.2117, 0.1203, 0.5216, 0.441, 0.2421, 0.253, -0.0517, -0.3401, 0.181, -0.4139, -0.4211, 1.2882, 1.2832, 1.283, 1.278, 1.2777, 1.2775, 1.2746, 1.2728, 1.2724, 1.2697, 1.2691, 1.2674, 1.2672, 1.2669, 1.2661, 1.264, 1.2609, 1.26, 1.2599, 1.2599, 1.2589, 1.2584, 1.2576, 1.2574, 1.2574, 1.2572, 1.2568, 1.2566, 1.2556, 1.2549, 1.2502, 1.2326, 1.2265, 1.2466, 1.2486, 1.2101, 1.1406, 1.1721, 1.1799, 1.1253, 1.0667, 1.1751, 1.0871, 1.2294, 1.0178, 0.8187, 1.0508, 1.0636, 0.8579, 1.0839, 0.7662, 0.7697, 0.546, 0.9485, 1.0221, 0.6159, 0.6755, 0.6239, 0.613, 0.1681, 0.5468, 0.5668, 0.8174, 0.0154, 0.4354, 0.5411, 0.4434, 0.7253, 0.3069, 0.2461, 0.1804, 0.0314, 0.0545, 0.6278, 0.008, 0.2309, 0.1741, 0.2338, 0.2267, -0.169, -0.2924, -0.2002, 1.4776, 1.4756, 1.4742, 1.4696, 1.4686, 1.4657, 1.4638, 1.4629, 1.4626, 1.461, 1.4597, 1.4596, 1.4563, 1.4554, 1.4532, 1.4528, 1.4508, 1.4488, 1.4485, 1.4481, 1.4478, 1.4478, 1.4461, 1.4457, 1.4451, 1.4441, 1.4423, 1.442, 1.4416, 1.4416, 1.433, 1.4209, 1.4376, 1.3882, 1.4134, 1.4028, 1.3754, 1.3469, 1.0512, 1.3389, 1.0675, 0.7682, 0.8742, 0.7849, 0.7699, 1.2423, 0.7889, 1.1719, 1.1042, 0.8747, 0.7143, 0.9677, 0.8107, 0.1788, 0.614, 0.4044, 0.3501, -0.1401, 0.239, 0.1063, 0.5788, 0.0988, -0.1303, 0.1394, 0.0779, 0.2536, -0.1266, -0.0366, -0.4349, -0.0293, 1.6243, 1.6204, 1.6138, 1.6127, 1.6126, 1.611, 1.6096, 1.6091, 1.6091, 1.6087, 1.6085, 1.608, 1.6076, 1.6073, 1.6008, 1.6004, 1.6003, 1.6002, 1.5982, 1.5979, 1.5975, 1.5951, 1.594, 1.5927, 1.5926, 1.5921, 1.5893, 1.5885, 1.5884, 1.5871, 1.5843, 1.5305, 1.5728, 1.4565, 1.4105, 1.4895, 1.1833, 1.3898, 1.2633, 1.3919, 1.1248, 1.3604, 1.0748, 1.2773, 1.013, 0.7615, 1.0821, 1.0186, 0.5306, 1.2254, 0.5606, 0.5878, 1.0658, 1.3892, 0.3952, 0.3878, 0.9292, 0.1705, 0.0693, -0.1892, 0.2911, -0.2735, 0.1281, 0.3446, 0.6897, 0.2073, -0.1213, 0.1846, 0.0404, 0.0935, -0.055, -0.3222, -0.163]}, \"token.table\": {\"Topic\": [3, 3, 1, 2, 3, 4, 1, 2, 3, 4, 1, 2, 3, 4, 3, 4, 1, 4, 2, 1, 2, 3, 4, 2, 1, 2, 3, 4, 1, 2, 3, 4, 1, 4, 4, 2, 3, 4, 4, 3, 4, 4, 1, 2, 3, 4, 2, 4, 1, 2, 3, 1, 2, 3, 4, 3, 1, 2, 4, 2, 2, 1, 2, 3, 4, 1, 2, 3, 2, 3, 1, 3, 1, 2, 3, 4, 3, 4, 3, 1, 2, 3, 4, 1, 2, 3, 4, 3, 4, 3, 1, 2, 3, 4, 2, 1, 4, 1, 2, 1, 2, 3, 4, 1, 2, 3, 4, 1, 2, 3, 1, 3, 1, 1, 2, 2, 2, 1, 2, 3, 4, 3, 1, 2, 3, 4, 1, 2, 3, 1, 2, 3, 4, 1, 2, 1, 2, 3, 4, 3, 1, 2, 3, 4, 2, 2, 1, 2, 3, 4, 4, 1, 2, 3, 4, 1, 3, 4, 1, 2, 3, 4, 3, 2, 1, 2, 3, 4, 1, 2, 3, 4, 1, 2, 3, 4, 1, 4, 1, 4, 1, 2, 3, 2, 3, 4, 1, 2, 3, 1, 1, 1, 2, 3, 4, 1, 2, 3, 4, 1, 2, 3, 4, 1, 2, 3, 4, 4, 1, 2, 3, 4, 4, 3, 1, 1, 4, 1, 2, 3, 4, 1, 2, 3, 4, 1, 2, 4, 1, 2, 4, 1, 2, 3, 4, 2, 3, 1, 2, 3, 4, 1, 2, 3, 4, 1, 2, 3, 4, 4, 1, 2, 3, 4, 1, 2, 3, 1, 2, 3, 4, 1, 2, 3, 4, 1, 2, 3, 4, 1, 3, 1, 3, 4, 2, 1, 1, 1, 1, 1, 2, 3, 1, 3, 1, 2, 3, 4, 1, 2, 1, 2, 3, 4, 1, 2, 3, 4, 2, 1, 2, 3, 4, 4, 1, 2, 3, 4, 1, 2, 2, 2, 4, 2, 3, 4, 1, 2, 3, 4, 1, 2, 3, 4, 3, 4, 3, 4, 1, 2, 3, 4, 4, 1, 2, 3, 4, 1, 2, 3, 4, 2, 1, 2, 3, 4, 1, 3, 3, 4, 1, 2, 3, 4, 2, 3, 1, 1, 2, 3, 4, 3, 2, 4, 1, 2, 1, 2, 3, 4, 4, 2, 3, 4, 3, 2, 3, 1, 4, 1, 1, 3, 1, 4, 4, 2, 1, 2, 3, 3, 4, 2, 3, 1, 2, 4, 1, 2, 3, 4, 1, 2, 1, 2, 3, 4, 1, 2, 3, 4, 1, 3, 1, 2, 3, 4, 1, 2, 3, 4, 1, 1, 2, 3, 4, 1, 2, 3, 4, 3, 1, 2, 3, 4, 2, 1, 2, 3, 4, 3, 4, 1, 2, 2, 1, 2, 3, 4, 2, 1, 2, 3, 4, 1, 3, 2, 3, 3, 4, 1, 2, 2, 3, 4, 3, 1, 2, 3, 4, 4, 1, 2, 3, 4, 3, 1, 2, 3, 4, 2, 3, 4, 1, 2, 3, 4, 4, 1, 3, 4, 1, 2, 3, 4, 3, 1, 2, 3, 4, 1, 2, 3, 4, 1, 3, 4, 1, 2, 1, 2, 3, 4, 2, 4, 1, 2, 2, 3, 4, 4, 1, 2, 1, 2, 1, 2, 3, 4, 3, 3, 4, 2, 4, 2, 1, 2, 3, 4, 3, 4, 4, 1, 2, 1, 2, 3, 4, 1, 2, 3, 4, 3, 1, 2, 3, 4, 1, 2, 3, 4, 2, 1, 2, 3, 4, 3, 3, 4, 3, 4, 4], \"Freq\": [0.9609348091333045, 0.9870050929617658, 0.21354745551733925, 0.7041294479220375, 0.01731465855545994, 0.06348708137001978, 0.28833369249918595, 0.2315822990549017, 0.21876746827716012, 0.26178868588814974, 0.2529053788797861, 0.2882577436694336, 0.07070472957929504, 0.38887601268612265, 0.20736760273383345, 0.7879968903885671, 0.9702455864082821, 0.9917260833967609, 0.9771005805469838, 0.2661482540225992, 0.6452078885396343, 0.08065098606745429, 0.005376732404496953, 0.9929645265681604, 0.364319348966407, 0.5070730530512032, 0.06096772778621505, 0.06691579878974822, 0.23626015965643757, 0.2154900357305969, 0.5452157530533175, 0.0025962654907300832, 0.8194322075481889, 0.17733980611117522, 0.9482103783306681, 0.15349512625917514, 0.7910902661049796, 0.05903658702275967, 0.9625446443996151, 0.9527693183714782, 0.025072876799249424, 0.973418339215617, 0.3058419061899408, 0.31169533980123154, 0.1053618050032332, 0.2765747381334871, 0.025713320803483625, 0.9513928697288941, 0.8118680408687311, 0.03063652984410306, 0.1531826492205153, 0.6620535548913906, 0.06468339329398644, 0.24731885671230108, 0.022829432927289332, 0.9755881145668185, 0.009395414848820293, 0.930146070033209, 0.05637248909292176, 0.9798287513796236, 0.9789961052721206, 0.3534122368315814, 0.2892910293051763, 0.06710358927181925, 0.29003662474152986, 0.00946582706613988, 0.8803219171510089, 0.10412409772753868, 0.947336749283968, 0.029604273415124, 0.9851775170705857, 0.983674685846509, 0.09928128462290108, 0.17208756001302852, 0.02647500923277362, 0.7015877446685009, 0.9657291970347363, 0.030179037407335508, 0.9861998836876394, 0.2957483410254502, 0.2825621092599843, 0.08979195916483945, 0.3321674573300704, 0.7479810543664576, 0.04374158212669342, 0.10060563889139487, 0.10935395531673356, 0.9508349788165416, 0.04699944762211042, 0.9545880199558133, 0.4224610062274164, 0.34540836987147255, 0.11823594199446559, 0.11292196707336602, 0.9787437191240212, 0.9624202660272386, 0.9547802036326095, 0.032862640793823096, 0.9694479034177812, 0.08183193604766698, 0.5662769974498555, 0.3273277441906679, 0.022912942093346753, 0.014066344462600838, 0.23209468363291383, 0.06329855008170376, 0.6927674647830913, 0.9326643682095133, 0.010249058991313332, 0.06149435394787999, 0.996432362269129, 0.9805379959276039, 0.9929687756063731, 0.9837005420512575, 0.012144451136435277, 0.9460849013288605, 0.9587825600015039, 0.0057079710021565614, 0.8105318823062317, 0.1655311590625403, 0.017123913006469687, 0.9908156915860177, 0.5043319666248529, 0.052221607891651436, 0.02503775720832603, 0.4184882276248779, 0.0465704763092016, 0.8964816689521309, 0.058213095386502, 0.21028526090326183, 0.05257131522581546, 0.7359984131614163, 0.008761885870969243, 0.95627495148419, 0.042690846048401336, 0.4721642553308761, 0.22986944009529492, 0.1325373348297196, 0.16567166853714949, 0.9676438318442847, 0.20135238973227393, 0.3726521839821189, 0.2604558275143842, 0.16629102833610682, 0.9595678647047653, 0.9477518876148613, 0.3933460179855377, 0.08358602882192676, 0.40563808104758575, 0.12046221800807091, 0.9842289776659949, 0.702642855472832, 0.0286793002233809, 0.18163556808141235, 0.08603790067014269, 0.022462496985729302, 0.022462496985729302, 0.96588737038636, 0.1339630665641576, 0.1871230136134265, 0.6485513540010805, 0.02976957034759058, 0.9906192606669854, 0.9645992468901197, 0.20134911856016194, 0.35030637463783276, 0.24552264967285053, 0.20340370140261257, 0.0033562692557212144, 0.13425077022884857, 0.6611850433770793, 0.20473242459899407, 0.20333434087960725, 0.47294061508293833, 0.23797648784428108, 0.08735845756309052, 0.9960784705958856, 0.00329827308144333, 0.991659700291747, 0.96938639850801, 0.15152049961400224, 0.8042241902589349, 0.034966269141692825, 0.016549598054919526, 0.8936782949656543, 0.08274799027459762, 0.8524068624429271, 0.08592811113335959, 0.0618682400160189, 0.9924579318357643, 0.975328863153655, 0.3301836738945387, 0.3240754456004979, 0.19716003549098354, 0.14863355515499274, 0.20112029643765722, 0.5053358708811724, 0.23323194040669493, 0.060843114888703025, 0.2773100305576149, 0.4729318350594982, 0.19938376228076574, 0.050517718744991856, 0.21645262082549022, 0.1133451223917263, 0.4972560208153154, 0.1733083484312202, 0.9777589246103515, 0.13075826181362438, 0.17731612776241484, 0.053492016196482695, 0.6379418227876825, 0.989634515120805, 0.9652716036582495, 0.97870650407695, 0.9715053420182949, 0.017663733491241725, 0.16693812057986343, 0.7860003177301903, 0.013911510048321953, 0.034778775120804885, 0.16662374834345922, 0.03702749963187983, 0.23142187269924894, 0.5692978068401524, 0.028319234607126004, 0.028319234607126004, 0.9345347420351581, 0.05819360643446655, 0.040287881377707606, 0.9042391153663263, 0.6858309871619156, 0.05547162396162553, 0.14876480971526845, 0.11094324792325105, 0.9752782360971661, 0.023787274051150394, 0.37622475766628133, 0.22425219545625638, 0.04818642216415426, 0.3521315465842042, 0.1098187673408077, 0.591604327287577, 0.19306847806690386, 0.10627622645884616, 0.29924864066650453, 0.1074970845112686, 0.021789949563094987, 0.572349341857295, 0.9798086742644223, 0.3866863759570213, 0.20632892448453005, 0.2929005011913259, 0.1139859093306145, 0.05482200404008191, 0.9137000673346986, 0.01827400134669397, 0.18564990119104588, 0.5126153988110969, 0.09975218571459181, 0.20227526547681118, 0.31597303253697806, 0.036890252529697944, 0.41862417001092017, 0.22775721127030904, 0.1155871215532847, 0.6192167226068823, 0.22704613162252352, 0.03715300335641294, 0.9701544535168151, 0.025756312925225178, 0.016543212329125118, 0.9429631027601316, 0.04962963698737535, 0.9801603126025062, 0.9925713930504821, 0.9980911607521447, 0.9842310157104379, 0.9900918756748711, 0.1646243769385406, 0.7563822724203217, 0.07563822724203217, 0.9838475581161097, 0.015136116278709378, 0.3977994810067536, 0.09437589727966349, 0.32168988642637986, 0.18469261618170704, 0.9843394319887275, 0.9764086595761202, 0.28048399718983674, 0.3429680559697509, 0.2027260573748325, 0.1735668299442059, 0.13170960707597731, 0.23666570021464675, 0.0946662800858587, 0.5391862039672821, 0.9782256966319768, 0.18277507747523836, 0.23016120867252235, 0.047386131197284014, 0.5415557851118173, 0.9654679197434267, 0.5201724668562135, 0.10108154923625111, 0.1470793328774665, 0.23169253982241828, 0.035395751048767694, 0.9556852783167278, 0.9767903623883969, 0.9630162932962237, 0.9939774019904056, 0.04077358040261539, 0.8562451884549231, 0.10193395100653846, 0.0827198780367021, 0.8449244685177428, 0.053177064452165634, 0.01772568815072188, 0.35480506443390897, 0.1574351476384228, 0.19967384578531672, 0.2879911237288222, 0.20979980815478927, 0.7832526171112132, 0.9088210143986295, 0.08553609547281218, 0.3912671535587808, 0.3208090837608394, 0.13791792385980012, 0.14991078680413056, 0.9738696144930309, 0.3015510666350871, 0.470842893517943, 0.1833994791230939, 0.04408641325074373, 0.20448163269515685, 0.5112040817378921, 0.1910730010430154, 0.09386042156499003, 0.9478926272941295, 0.03562652350758982, 0.08683965104975018, 0.037853181226814185, 0.8394499601475851, 0.009970540641602276, 0.9870835235186254, 0.9694443111901465, 0.017952672429447158, 0.20615048591391802, 0.5894881663323606, 0.15333507216737705, 0.05281541374654098, 0.9505034014975743, 0.04320470006807156, 0.9671988451685998, 0.772454156064347, 0.06650267568765901, 0.03069354262507339, 0.1278897609378058, 0.979112631571521, 0.9711045784191552, 0.959258182634128, 0.9855639271031136, 0.988746458861823, 0.26319162840240395, 0.1521576601701398, 0.008224738387575124, 0.5757316871302587, 0.9701846990589644, 0.7587688011350205, 0.16861528914111568, 0.07587688011350205, 0.9777511054777643, 0.05944732813682964, 0.9313414741436643, 0.9100223756332265, 0.08629522527556457, 0.9939430745965411, 0.9788092531547621, 0.013227152069658948, 0.986818264861125, 0.9669431309583398, 0.9914125998067292, 0.9808159971883255, 0.020553294181668617, 0.1027664709083431, 0.8632383556300819, 0.9261444974876084, 0.07717870812396736, 0.016992123803861302, 0.9685510568200941, 0.9891404530127162, 0.00899218593647924, 0.9698238800454656, 0.4819805886312119, 0.4260987812536801, 0.07124930440635306, 0.019558632582136137, 0.9778641074819959, 0.01577200173358058, 0.20047519583343668, 0.20446872563091548, 0.2523910832006613, 0.3426448566236826, 0.18899965361920765, 0.16177088996220315, 0.046449067414890015, 0.6022361844137464, 0.9576920659087681, 0.04353145754130764, 0.28067347623817834, 0.09848192148708011, 0.5096439436956396, 0.11079216167296513, 0.30176435526426937, 0.5373352390512152, 0.04283106977944468, 0.11875887529755116, 0.9835484597356503, 0.9331789964275707, 0.035549676054383646, 0.017774838027191823, 0.017774838027191823, 0.21792339584697953, 0.24599941617082352, 0.46392281201780305, 0.07219548083274169, 0.9380914550746796, 0.48896567515454264, 0.09206466687010216, 0.2884692895263201, 0.1309364151041453, 0.9873898893417531, 0.15007599840381575, 0.06550936438261798, 0.5443232640519349, 0.24059802918706968, 0.9865788278972029, 0.9759019271074759, 0.979963479977225, 0.9818368858608089, 0.9797166188201164, 0.48199904208269984, 0.19154767126922875, 0.09264397172498647, 0.23536576600401965, 0.9908570557876878, 0.03186666644540201, 0.34440512581376787, 0.49883589397225453, 0.1237897427302155, 0.9791529713857102, 0.9435340843171462, 0.938888692405543, 0.04941519433713384, 0.20367678534483957, 0.7869330342868801, 0.05919482804336259, 0.9471172486938014, 0.8856668969790801, 0.09840743299767557, 0.012300929124709446, 0.9882937540584492, 0.044227168404062475, 0.7960890312731246, 0.1456894959192646, 0.015609588848492638, 0.9852361953208583, 0.23506514971420592, 0.13609034983454027, 0.13609034983454027, 0.49487399939832827, 0.9736964348618052, 0.14129678203317222, 0.4226722703923342, 0.22047170300003596, 0.21438132446412336, 0.8543109974073569, 0.13779209635602532, 0.9550049257612014, 0.14071902234736722, 0.008528425596810133, 0.5969897917767094, 0.255852767904304, 0.9757919609662085, 0.2920959502092479, 0.6815572171549118, 0.019473063347283194, 0.5119605738178876, 0.2270232408785203, 0.22239011351365254, 0.03706501891894209, 0.9675845144994417, 0.3427954881511469, 0.6209495413937918, 0.036238380175978385, 0.0009794156804318482, 0.24072430227823904, 0.3258862016691255, 0.33951210557166733, 0.09311034333403585, 0.010951112468731622, 0.12046223715604784, 0.8651378850297982, 0.994806577372525, 0.9588860425815684, 0.8023243497754878, 0.10636000025842203, 0.04161913053590427, 0.050867826210549666, 0.02657675767175763, 0.9567632761832747, 0.9162879780130065, 0.08084893923644176, 0.0026933020151870854, 0.19661104710865723, 0.7999106985105644, 0.9930218464999621, 0.9916007222936167, 0.9649256767456, 0.9821838398988152, 0.9777858226431403, 0.09218601569351283, 0.2757833746797526, 0.4903676296974253, 0.14176504934380543, 0.9541323935063271, 0.9562343682432431, 0.9731459698615849, 0.016231493613331476, 0.9738896167998885, 0.9815785395323898, 0.2888884446127588, 0.2781207844044651, 0.2712925120772544, 0.16177752898314496, 0.982064737871188, 0.013831897716495605, 0.9824272762848728, 0.2065262514876576, 0.7916839640360208, 0.030276550784713547, 0.26491981936624354, 0.03784568848089193, 0.6660841172636981, 0.22573576034996745, 0.4827779400185435, 0.15323668403318957, 0.13840732751384865, 0.9736391257626988, 0.24579821850722067, 0.05560834220980848, 0.48925995204764267, 0.20934905302516132, 0.11716907256974102, 0.06249017203719521, 0.06249017203719521, 0.7655046074556413, 0.977097693047059, 0.19964885231891025, 0.3280573652641124, 0.25066045335193576, 0.22251612174750787, 0.9943095186657458, 0.9640408685289342, 0.9749485025190692, 0.9482476996865514, 0.04122816085593702, 0.9691742572028886], \"Term\": [\"accidentally\", \"adapt\", \"ago\", \"ago\", \"ago\", \"ago\", \"also\", \"also\", \"also\", \"also\", \"always\", \"always\", \"always\", \"always\", \"arm_hammer\", \"arm_hammer\", \"attach\", \"attractive\", \"automatically\", \"away\", \"away\", \"away\", \"away\", \"awhile\", \"back\", \"back\", \"back\", \"back\", \"bad\", \"bad\", \"bad\", \"bad\", \"bag\", \"bag\", \"bare\", \"base\", \"base\", \"base\", \"beige\", \"best_cat_litter\", \"best_cat_litter\", \"better_job\", \"big\", \"big\", \"big\", \"big\", \"booda_dome\", \"booda_dome\", \"bottom\", \"bottom\", \"bottom\", \"break\", \"break\", \"break\", \"break\", \"break_apart\", \"breeze\", \"breeze\", \"breeze\", \"breeze_system\", \"bulk\", \"buy\", \"buy\", \"buy\", \"buy\", \"call\", \"call\", \"call\", \"care\", \"care\", \"cartridge\", \"cat_attract\", \"catch\", \"catch\", \"catch\", \"catch\", \"clay_based\", \"clay_based\", \"clay_litters\", \"clean\", \"clean\", \"clean\", \"clean\", \"close\", \"close\", \"close\", \"close\", \"clump\", \"clump\", \"clump_seal\", \"come\", \"come\", \"come\", \"come\", \"correct\", \"correctly\", \"crumble\", \"customer_service\", \"customer_service\", \"decide\", \"decide\", \"decide\", \"decide\", \"definitely\", \"definitely\", \"definitely\", \"definitely\", \"design\", \"design\", \"design\", \"diaper_genie\", \"disappear\", \"disposable\", \"dispose\", \"dispose\", \"downstairs\", \"drive\", \"dry\", \"dry\", \"dry\", \"dry\", \"dusty\", \"easy\", \"easy\", \"easy\", \"easy\", \"eat\", \"eat\", \"eat\", \"eliminate\", \"eliminate\", \"eliminate\", \"eliminate\", \"empty\", \"empty\", \"enough\", \"enough\", \"enough\", \"enough\", \"environmentally\", \"even\", \"even\", \"even\", \"even\", \"every_month\", \"every_months\", \"expensive\", \"expensive\", \"expensive\", \"expensive\", \"fabulous\", \"fall\", \"fall\", \"fall\", \"fall\", \"fantastic\", \"fantastic\", \"fantastic\", \"far\", \"far\", \"far\", \"far\", \"feline_pine\", \"female\", \"find\", \"find\", \"find\", \"find\", \"fine\", \"fine\", \"fine\", \"fine\", \"first\", \"first\", \"first\", \"first\", \"fit\", \"fit\", \"flimsy\", \"fly\", \"follow\", \"follow\", \"follow\", \"friendly\", \"friendly\", \"friendly\", \"full\", \"full\", \"full\", \"garbage_bag\", \"garbage_bags\", \"get\", \"get\", \"get\", \"get\", \"give\", \"give\", \"give\", \"give\", \"go\", \"go\", \"go\", \"go\", \"good\", \"good\", \"good\", \"good\", \"good_quality\", \"great\", \"great\", \"great\", \"great\", \"great_job\", \"greatly\", \"grocery_bags\", \"hang\", \"hang\", \"happen\", \"happen\", \"happen\", \"happen\", \"heavy\", \"heavy\", \"heavy\", \"heavy\", \"high_sides\", \"high_sides\", \"high_sides\", \"highly\", \"highly\", \"highly\", \"hold\", \"hold\", \"hold\", \"hold\", \"issue\", \"issue\", \"keep\", \"keep\", \"keep\", \"keep\", \"know\", \"know\", \"know\", \"know\", \"large\", \"large\", \"large\", \"large\", \"large_size\", \"last\", \"last\", \"last\", \"last\", \"laundry_room\", \"laundry_room\", \"laundry_room\", \"leave\", \"leave\", \"leave\", \"leave\", \"less\", \"less\", \"less\", \"less\", \"let\", \"let\", \"let\", \"let\", \"lid\", \"lid\", \"lightweight\", \"lightweight\", \"lightweight\", \"linger\", \"litter_champ\", \"litter_locker\", \"litter_locker_ii\", \"litter_maid\", \"litter_robot\", \"litter_robot\", \"litter_robot\", \"littermaid\", \"littermaid\", \"little\", \"little\", \"little\", \"little\", \"lock\", \"lol\", \"long\", \"long\", \"long\", \"long\", \"look\", \"look\", \"look\", \"look\", \"loud\", \"love\", \"love\", \"love\", \"love\", \"lug\", \"make\", \"make\", \"make\", \"make\", \"male\", \"male\", \"male_cat\", \"mark\", \"mat\", \"mix\", \"mix\", \"mix\", \"move\", \"move\", \"move\", \"move\", \"much\", \"much\", \"much\", \"much\", \"multi_cat\", \"multi_cat\", \"natural\", \"natural\", \"need\", \"need\", \"need\", \"need\", \"neutral\", \"never\", \"never\", \"never\", \"never\", \"new\", \"new\", \"new\", \"new\", \"next_day\", \"nice\", \"nice\", \"nice\", \"nice\", \"odor_control\", \"odor_control\", \"okocat\", \"okocat\", \"old\", \"old\", \"old\", \"old\", \"old_litter_box\", \"old_litter_box\", \"omega_paw\", \"open\", \"open\", \"open\", \"open\", \"ordinary\", \"overnight\", \"overprice\", \"pail\", \"pee\", \"perfect\", \"perfect\", \"perfect\", \"perfect\", \"perfect_size\", \"pet\", \"pet\", \"pet\", \"pine\", \"pine_pellets\", \"pine_pellets\", \"plastic\", \"plastic\", \"plastic_bag\", \"plastic_bags\", \"plastic_bags\", \"plastic_grocery_bags\", \"plastic_ones\", \"please\", \"poope\", \"positive\", \"positive\", \"positive\", \"precious_cat\", \"precious_cat\", \"pricey\", \"pricey\", \"pull\", \"pull\", \"purr_fect_potty\", \"put\", \"put\", \"put\", \"put\", \"rake\", \"rake\", \"really\", \"really\", \"really\", \"really\", \"recommend\", \"recommend\", \"recommend\", \"recommend\", \"refill\", \"refill\", \"regular\", \"regular\", \"regular\", \"regular\", \"right\", \"right\", \"right\", \"right\", \"rip\", \"roll\", \"roll\", \"roll\", \"roll\", \"say\", \"say\", \"say\", \"say\", \"scent\", \"scoop\", \"scoop\", \"scoop\", \"scoop\", \"scrub\", \"seem\", \"seem\", \"seem\", \"seem\", \"sick\", \"significantly\", \"slide\", \"slow\", \"slowly\", \"small\", \"small\", \"small\", \"small\", \"smart\", \"smell\", \"smell\", \"smell\", \"smell\", \"snap\", \"sneeze\", \"soak\", \"soak\", \"soft\", \"soft\", \"sorry\", \"sorry\", \"spray\", \"spray\", \"spray\", \"standard\", \"start\", \"start\", \"start\", \"start\", \"starter\", \"stay\", \"stay\", \"stay\", \"stay\", \"sticky\", \"still\", \"still\", \"still\", \"still\", \"stop\", \"stop\", \"stray\", \"strong\", \"strong\", \"strong\", \"strong\", \"super_scoop\", \"suppose\", \"suppose\", \"suppose\", \"sure\", \"sure\", \"sure\", \"sure\", \"swheat_scoop\", \"take\", \"take\", \"take\", \"take\", \"think\", \"think\", \"think\", \"think\", \"tidy_cat\", \"tidy_cat\", \"tidy_cat\", \"tie\", \"toilet_training\", \"top\", \"top\", \"top\", \"top\", \"top_entry\", \"top_entry\", \"toss\", \"toss\", \"track\", \"track\", \"track\", \"trap\", \"trash_bags\", \"travel\", \"tray\", \"treat\", \"try\", \"try\", \"try\", \"try\", \"typical\", \"typically\", \"unscente\", \"unscented\", \"unscented\", \"upstairs\", \"use\", \"use\", \"use\", \"use\", \"usual\", \"usual\", \"vacuum\", \"wait\", \"wait\", \"walk\", \"walk\", \"walk\", \"walk\", \"want\", \"want\", \"want\", \"want\", \"weird\", \"well\", \"well\", \"well\", \"well\", \"wish\", \"wish\", \"wish\", \"wish\", \"wonderfully\", \"work\", \"work\", \"work\", \"work\", \"world_best\", \"worst\", \"worth_every_penny\", \"yellow\", \"yellow\", \"yoga_mat\"]}, \"R\": 30, \"lambda.step\": 0.01, \"plot.opts\": {\"xlab\": \"PC1\", \"ylab\": \"PC2\"}, \"topic.order\": [3, 2, 1, 4]};\n",
       "\n",
       "function LDAvis_load_lib(url, callback){\n",
       "  var s = document.createElement('script');\n",
       "  s.src = url;\n",
       "  s.async = true;\n",
       "  s.onreadystatechange = s.onload = callback;\n",
       "  s.onerror = function(){console.warn(\"failed to load library \" + url);};\n",
       "  document.getElementsByTagName(\"head\")[0].appendChild(s);\n",
       "}\n",
       "\n",
       "if(typeof(LDAvis) !== \"undefined\"){\n",
       "   // already loaded: just create the visualization\n",
       "   !function(LDAvis){\n",
       "       new LDAvis(\"#\" + \"ldavis_el2993617954848817445822275730\", ldavis_el2993617954848817445822275730_data);\n",
       "   }(LDAvis);\n",
       "}else if(typeof define === \"function\" && define.amd){\n",
       "   // require.js is available: use it to load d3/LDAvis\n",
       "   require.config({paths: {d3: \"https://d3js.org/d3.v5\"}});\n",
       "   require([\"d3\"], function(d3){\n",
       "      window.d3 = d3;\n",
       "      LDAvis_load_lib(\"https://cdn.jsdelivr.net/gh/bmabey/pyLDAvis@3.3.1/pyLDAvis/js/ldavis.v3.0.0.js\", function(){\n",
       "        new LDAvis(\"#\" + \"ldavis_el2993617954848817445822275730\", ldavis_el2993617954848817445822275730_data);\n",
       "      });\n",
       "    });\n",
       "}else{\n",
       "    // require.js not available: dynamically load d3 & LDAvis\n",
       "    LDAvis_load_lib(\"https://d3js.org/d3.v5.js\", function(){\n",
       "         LDAvis_load_lib(\"https://cdn.jsdelivr.net/gh/bmabey/pyLDAvis@3.3.1/pyLDAvis/js/ldavis.v3.0.0.js\", function(){\n",
       "                 new LDAvis(\"#\" + \"ldavis_el2993617954848817445822275730\", ldavis_el2993617954848817445822275730_data);\n",
       "            })\n",
       "         });\n",
       "}\n",
       "</script>"
      ],
      "text/plain": [
       "<IPython.core.display.HTML object>"
      ]
     },
     "execution_count": 161,
     "metadata": {},
     "output_type": "execute_result"
    }
   ],
   "source": [
    "cats_litter_optimal_model = cats_litter_model_list[1]\n",
    "model_topics = cats_litter_optimal_model.show_topics(formatted=False)\n",
    "pyLDAvis.enable_notebook()\n",
    "topic_data =  pyLDAvis.gensim_models.prepare(cats_litter_optimal_model, \n",
    "                                             cats_litter_doc_term_matrix, \n",
    "                                             cats_litter_dictionary, \n",
    "                                             mds = 'tsne')\n",
    "pyLDAvis.display(topic_data)"
   ]
  },
  {
   "cell_type": "code",
   "execution_count": 163,
   "id": "da7f709a",
   "metadata": {},
   "outputs": [
    {
     "data": {
      "text/plain": [
       "[(0,\n",
       "  '0.033*\"well\" + 0.033*\"use\" + 0.021*\"good\" + 0.020*\"try\" + 0.018*\"get\" + 0.014*\"seem\" + 0.013*\"smell\" + 0.012*\"go\" + 0.011*\"say\" + 0.010*\"little\" + 0.010*\"really\" + 0.010*\"far\" + 0.009*\"think\" + 0.009*\"work\" + 0.009*\"scoop\" + 0.008*\"clump\" + 0.008*\"less\" + 0.008*\"even\" + 0.008*\"much\" + 0.008*\"make\" + 0.008*\"also\" + 0.008*\"find\" + 0.007*\"bad\" + 0.007*\"regular\" + 0.006*\"last\" + 0.006*\"odor_control\" + 0.006*\"fine\" + 0.006*\"still\" + 0.005*\"natural\" + 0.005*\"expensive\"'),\n",
       " (1,\n",
       "  '0.028*\"use\" + 0.025*\"get\" + 0.023*\"go\" + 0.017*\"take\" + 0.012*\"clean\" + 0.010*\"buy\" + 0.010*\"work\" + 0.010*\"even\" + 0.009*\"try\" + 0.009*\"still\" + 0.009*\"old\" + 0.009*\"find\" + 0.009*\"back\" + 0.009*\"know\" + 0.008*\"first\" + 0.008*\"start\" + 0.008*\"put\" + 0.008*\"new\" + 0.008*\"give\" + 0.008*\"want\" + 0.007*\"think\" + 0.007*\"smell\" + 0.007*\"right\" + 0.007*\"never\" + 0.007*\"come\" + 0.007*\"really\" + 0.007*\"also\" + 0.006*\"long\" + 0.006*\"keep\" + 0.006*\"away\"'),\n",
       " (2,\n",
       "  '0.026*\"use\" + 0.023*\"get\" + 0.022*\"make\" + 0.017*\"easy\" + 0.012*\"well\" + 0.012*\"go\" + 0.011*\"scoop\" + 0.011*\"buy\" + 0.011*\"clean\" + 0.011*\"much\" + 0.010*\"keep\" + 0.009*\"little\" + 0.009*\"small\" + 0.008*\"take\" + 0.008*\"top\" + 0.008*\"put\" + 0.008*\"empty\" + 0.007*\"come\" + 0.007*\"also\" + 0.007*\"open\" + 0.007*\"fit\" + 0.007*\"good\" + 0.006*\"hold\" + 0.006*\"last\" + 0.006*\"need\" + 0.006*\"really\" + 0.006*\"full\" + 0.006*\"back\" + 0.005*\"enough\" + 0.005*\"work\"'),\n",
       " (3,\n",
       "  '0.024*\"great\" + 0.023*\"use\" + 0.021*\"easy\" + 0.019*\"clean\" + 0.016*\"well\" + 0.016*\"get\" + 0.016*\"really\" + 0.015*\"make\" + 0.014*\"large\" + 0.014*\"buy\" + 0.014*\"keep\" + 0.014*\"nice\" + 0.014*\"recommend\" + 0.014*\"much\" + 0.011*\"track\" + 0.010*\"also\" + 0.010*\"look\" + 0.009*\"work\" + 0.009*\"good\" + 0.007*\"seem\" + 0.007*\"highly\" + 0.007*\"find\" + 0.007*\"definitely\" + 0.007*\"big\" + 0.007*\"small\" + 0.007*\"try\" + 0.007*\"little\" + 0.006*\"still\" + 0.006*\"even\" + 0.006*\"love\"')]"
      ]
     },
     "execution_count": 163,
     "metadata": {},
     "output_type": "execute_result"
    }
   ],
   "source": [
    "keywords_dict = get_keywords(cats_litter_doc_term_matrix, model = cats_litter_optimal_model)\n",
    "cats_litter_optimal_model.print_topics(num_topics=4, num_words=30)"
   ]
  },
  {
   "cell_type": "code",
   "execution_count": 167,
   "id": "0f8c4bc9",
   "metadata": {},
   "outputs": [
    {
     "data": {
      "text/plain": [
       "['great', 'large', 'nice', 'recommend', 'track', 'look']"
      ]
     },
     "execution_count": 167,
     "metadata": {},
     "output_type": "execute_result"
    }
   ],
   "source": [
    "[w for w in keywords_dict[1] if w not in  keywords_dict[2]\\\n",
    "                                and w not in  keywords_dict[0]\\\n",
    "                                and w not in  keywords_dict[3]] "
   ]
  },
  {
   "cell_type": "code",
   "execution_count": 166,
   "id": "94278852",
   "metadata": {},
   "outputs": [
    {
     "data": {
      "text/plain": [
       "['still',\n",
       " 'old',\n",
       " 'find',\n",
       " 'back',\n",
       " 'know',\n",
       " 'first',\n",
       " 'start',\n",
       " 'new',\n",
       " 'give',\n",
       " 'want']"
      ]
     },
     "execution_count": 166,
     "metadata": {},
     "output_type": "execute_result"
    }
   ],
   "source": [
    "[w for w in keywords_dict[2] if w not in  keywords_dict[1]\\\n",
    "                                and w not in  keywords_dict[0]\\\n",
    "                                and w not in  keywords_dict[3]] "
   ]
  },
  {
   "cell_type": "code",
   "execution_count": 168,
   "id": "987150d1",
   "metadata": {},
   "outputs": [
    {
     "data": {
      "text/plain": [
       "['small', 'top', 'empty', 'come', 'open']"
      ]
     },
     "execution_count": 168,
     "metadata": {},
     "output_type": "execute_result"
    }
   ],
   "source": [
    "[w for w in keywords_dict[3] if w not in  keywords_dict[1]\\\n",
    "                                and w not in  keywords_dict[0]\\\n",
    "                                and w not in  keywords_dict[2]] "
   ]
  },
  {
   "cell_type": "code",
   "execution_count": 169,
   "id": "0680be47",
   "metadata": {},
   "outputs": [
    {
     "data": {
      "text/plain": [
       "['smell', 'say', 'far', 'think', 'clump', 'less']"
      ]
     },
     "execution_count": 169,
     "metadata": {},
     "output_type": "execute_result"
    }
   ],
   "source": [
    "[w for w in keywords_dict[0] if w not in  keywords_dict[1]\\\n",
    "                                and w not in  keywords_dict[2]\\\n",
    "                                and w not in  keywords_dict[3]]  #odor_control/smell -> scent"
   ]
  },
  {
   "cell_type": "markdown",
   "id": "c068920a",
   "metadata": {},
   "source": [
    "## 6. cats health supplies (0/4)"
   ]
  },
  {
   "cell_type": "code",
   "execution_count": 170,
   "id": "3f98b895",
   "metadata": {},
   "outputs": [
    {
     "data": {
      "application/vnd.jupyter.widget-view+json": {
       "model_id": "71ac6ec5fdf843e3921de276d1836d94",
       "version_major": 2,
       "version_minor": 0
      },
      "text/plain": [
       "  0%|          | 0/4294 [00:00<?, ?it/s]"
      ]
     },
     "metadata": {},
     "output_type": "display_data"
    },
    {
     "data": {
      "application/vnd.jupyter.widget-view+json": {
       "model_id": "e5bfb1bd80e9450ca95dd7306dbfb535",
       "version_major": 2,
       "version_minor": 0
      },
      "text/plain": [
       "  0%|          | 0/4294 [00:00<?, ?it/s]"
      ]
     },
     "metadata": {},
     "output_type": "display_data"
    }
   ],
   "source": [
    "cats_health_supplies_dictionary, cats_health_supplies_doc_term_matrix = vectorize(cats_health_supplies_reviews2)\n",
    "# cats_health_supplies_model_list, cats_health_supplies_coherence_values = compute_coherence_values(dictionary=cats_health_supplies_dictionary, \n",
    "#                                                     corpus=cats_health_supplies_doc_term_matrix, \n",
    "#                                                     texts=cats_health_supplies_reviews2, \n",
    "#                                                     start=2, \n",
    "#                                                     limit=20, \n",
    "#                                                     step=2)\n",
    "\n",
    "# limit=20; start=2; step=2;\n",
    "# x = range(start, limit, step)\n",
    "# plt.plot(x, cats_health_supplies_coherence_values)\n",
    "# plt.xlabel(\"Num Topics\")\n",
    "# plt.ylabel(\"Coherence score\")\n",
    "# plt.legend((\"coherence_values\"), loc='best')\n",
    "# plt.show()\n",
    "# for m, cv in zip(x, cats_health_supplies_coherence_values):\n",
    "#     print(\"Num Topics =\", m, \" has Coherence Value of\", round(cv, 4))\n",
    "    \n",
    "# with open ('./cats_health_supplies_model_list.pickle', 'wb') as handle:\n",
    "#      pickle.dump(cats_health_supplies_model_list, handle)"
   ]
  },
  {
   "cell_type": "code",
   "execution_count": 171,
   "id": "0fe35ff2",
   "metadata": {},
   "outputs": [],
   "source": [
    "with open ('./model/cats_health_supplies_model_list.pickle', 'rb') as handle:\n",
    "     cats_health_supplies_model_list = pickle.load(handle)"
   ]
  },
  {
   "cell_type": "code",
   "execution_count": 172,
   "id": "78cca1d1",
   "metadata": {},
   "outputs": [
    {
     "data": {
      "text/plain": [
       "[(0,\n",
       "  '0.021*\"calm\" + 0.020*\"get\" + 0.015*\"seem\" + 0.015*\"try\" + 0.014*\"spray\" + 0.014*\"feliway\" + 0.014*\"use\" + 0.013*\"go\" + 0.013*\"help\" + 0.012*\"new\" + 0.010*\"think\" + 0.009*\"come\" + 0.009*\"also\" + 0.009*\"see\" + 0.009*\"old\" + 0.008*\"still\" + 0.008*\"well\" + 0.008*\"work\" + 0.008*\"start\" + 0.008*\"make\" + 0.007*\"say\" + 0.007*\"buy\" + 0.007*\"really\" + 0.007*\"plug\" + 0.006*\"much\" + 0.006*\"even\" + 0.006*\"keep\" + 0.006*\"take\" + 0.006*\"stop\" + 0.006*\"little\"'),\n",
       " (1,\n",
       "  '0.039*\"eat\" + 0.025*\"give\" + 0.013*\"try\" + 0.013*\"good\" + 0.013*\"take\" + 0.012*\"seem\" + 0.010*\"daily\" + 0.010*\"treat\" + 0.010*\"even\" + 0.010*\"love\" + 0.008*\"small\" + 0.008*\"think\" + 0.008*\"well\" + 0.007*\"get\" + 0.007*\"little\" + 0.007*\"recommend\" + 0.007*\"use\" + 0.007*\"say\" + 0.007*\"make\" + 0.007*\"much\" + 0.007*\"also\" + 0.007*\"help\" + 0.006*\"want\" + 0.006*\"healthy\" + 0.006*\"see\" + 0.005*\"look\" + 0.005*\"picky\" + 0.005*\"dry\" + 0.005*\"open\" + 0.005*\"soft\"'),\n",
       " (2,\n",
       "  '0.045*\"get\" + 0.039*\"work\" + 0.031*\"use\" + 0.031*\"well\" + 0.023*\"seem\" + 0.023*\"really\" + 0.022*\"great\" + 0.018*\"make\" + 0.017*\"much\" + 0.017*\"help\" + 0.016*\"good\" + 0.014*\"try\" + 0.013*\"buy\" + 0.013*\"give\" + 0.012*\"sure\" + 0.011*\"keep\" + 0.010*\"know\" + 0.009*\"clean\" + 0.009*\"easy\" + 0.008*\"go\" + 0.008*\"still\" + 0.008*\"also\" + 0.008*\"put\" + 0.008*\"love\" + 0.008*\"bad\" + 0.007*\"say\" + 0.007*\"long\" + 0.007*\"little\" + 0.007*\"start\" + 0.006*\"find\"'),\n",
       " (3,\n",
       "  '0.021*\"go\" + 0.019*\"get\" + 0.017*\"use\" + 0.013*\"give\" + 0.013*\"take\" + 0.011*\"see\" + 0.011*\"put\" + 0.011*\"try\" + 0.011*\"find\" + 0.010*\"back\" + 0.008*\"even\" + 0.008*\"also\" + 0.008*\"come\" + 0.008*\"buy\" + 0.007*\"need\" + 0.007*\"recommend\" + 0.006*\"start\" + 0.006*\"still\" + 0.006*\"say\" + 0.006*\"never\" + 0.006*\"long\" + 0.006*\"apply\" + 0.005*\"ago\" + 0.005*\"purchase\" + 0.005*\"want\" + 0.005*\"live\" + 0.005*\"keep\" + 0.005*\"quickly\" + 0.005*\"little\" + 0.005*\"know\"')]"
      ]
     },
     "execution_count": 172,
     "metadata": {},
     "output_type": "execute_result"
    }
   ],
   "source": [
    "cats_health_supplies_optimal_model = cats_health_supplies_model_list[1]\n",
    "model_topics = cats_health_supplies_optimal_model.show_topics(formatted=False)\n",
    "\n",
    "keywords_dict = get_keywords(cats_health_supplies_doc_term_matrix, model = cats_health_supplies_optimal_model)\n",
    "cats_health_supplies_optimal_model.print_topics(num_topics=4, num_words=30)"
   ]
  },
  {
   "cell_type": "code",
   "execution_count": 178,
   "id": "b682fb59",
   "metadata": {},
   "outputs": [
    {
     "data": {
      "text/plain": [
       "['calm', 'spray', 'feliway', 'new', 'old']"
      ]
     },
     "execution_count": 178,
     "metadata": {},
     "output_type": "execute_result"
    }
   ],
   "source": [
    "[w for w in keywords_dict[0] if w not in  keywords_dict[1]\\\n",
    "                                and w not in  keywords_dict[2]\\\n",
    "                                and w not in  keywords_dict[3]]  "
   ]
  },
  {
   "cell_type": "code",
   "execution_count": 174,
   "id": "6fd5806d",
   "metadata": {},
   "outputs": [
    {
     "data": {
      "text/plain": [
       "['eat', 'daily', 'treat', 'love', 'small', 'little']"
      ]
     },
     "execution_count": 174,
     "metadata": {},
     "output_type": "execute_result"
    }
   ],
   "source": [
    "[w for w in keywords_dict[1] if w not in  keywords_dict[0]\\\n",
    "                                and w not in  keywords_dict[2]\\\n",
    "                                and w not in  keywords_dict[3]]  "
   ]
  },
  {
   "cell_type": "code",
   "execution_count": 175,
   "id": "25e2bc68",
   "metadata": {},
   "outputs": [
    {
     "data": {
      "text/plain": [
       "['put', 'find', 'back', 'need', 'never']"
      ]
     },
     "execution_count": 175,
     "metadata": {},
     "output_type": "execute_result"
    }
   ],
   "source": [
    "[w for w in keywords_dict[2] if w not in  keywords_dict[1]\\\n",
    "                                and w not in  keywords_dict[0]\\\n",
    "                                and w not in  keywords_dict[3]]  "
   ]
  },
  {
   "cell_type": "code",
   "execution_count": 176,
   "id": "6d71a4e7",
   "metadata": {},
   "outputs": [
    {
     "data": {
      "text/plain": [
       "['really', 'great', 'sure', 'keep', 'know', 'clean', 'easy']"
      ]
     },
     "execution_count": 176,
     "metadata": {},
     "output_type": "execute_result"
    }
   ],
   "source": [
    "[w for w in keywords_dict[3] if w not in  keywords_dict[1]\\\n",
    "                                and w not in  keywords_dict[2]\\\n",
    "                                and w not in  keywords_dict[0]]  #clean"
   ]
  },
  {
   "cell_type": "code",
   "execution_count": 177,
   "id": "55a62338",
   "metadata": {},
   "outputs": [
    {
     "name": "stderr",
     "output_type": "stream",
     "text": [
      "C:\\Users\\JiatingChen\\anaconda3\\lib\\site-packages\\pyLDAvis\\_prepare.py:246: FutureWarning: In a future version of pandas all arguments of DataFrame.drop except for the argument 'labels' will be keyword-only\n",
      "  default_term_info = default_term_info.sort_values(\n",
      "C:\\Users\\JiatingChen\\anaconda3\\lib\\site-packages\\sklearn\\manifold\\_t_sne.py:691: FutureWarning: 'square_distances' has been introduced in 0.24 to help phase out legacy squaring behavior. The 'legacy' setting will be removed in 1.1 (renaming of 0.26), and the default setting will be changed to True. In 1.3, 'square_distances' will be removed altogether, and distances will be squared by default. Set 'square_distances'=True to silence this warning.\n",
      "  warnings.warn(\n"
     ]
    },
    {
     "data": {
      "text/html": [
       "\n",
       "<link rel=\"stylesheet\" type=\"text/css\" href=\"https://cdn.jsdelivr.net/gh/bmabey/pyLDAvis@3.3.1/pyLDAvis/js/ldavis.v1.0.0.css\">\n",
       "\n",
       "\n",
       "<div id=\"ldavis_el2993617954848834246715634814\"></div>\n",
       "<script type=\"text/javascript\">\n",
       "\n",
       "var ldavis_el2993617954848834246715634814_data = {\"mdsDat\": {\"x\": [269.5624084472656, 1.782994270324707, 220.81143188476562, 50.533992767333984], \"y\": [-124.80339813232422, -295.0796813964844, -343.8321228027344, -76.05093383789062], \"topics\": [1, 2, 3, 4], \"cluster\": [1, 1, 1, 1], \"Freq\": [27.128221018091143, 25.541157350761516, 23.859143171941742, 23.471478459205596]}, \"tinfo\": {\"Term\": [\"eat\", \"work\", \"calm\", \"great\", \"feliway\", \"spray\", \"really\", \"get\", \"well\", \"daily\", \"seem\", \"help\", \"new\", \"plug\", \"clean\", \"go\", \"give\", \"treat\", \"use\", \"love\", \"healthy\", \"litter_box\", \"stress\", \"picky\", \"sure\", \"comfort_zone\", \"easy\", \"make\", \"mark\", \"good\", \"calm\", \"feliway\", \"plug\", \"litter_box\", \"comfort_zone\", \"mark\", \"female\", \"pee\", \"stress\", \"aggressive\", \"feral\", \"diffuser\", \"hiss\", \"anxious\", \"urinate\", \"feliway_diffuser\", \"relax\", \"mellow\", \"shy\", \"skittish\", \"adjust\", \"stressful\", \"new_home\", \"feliway_spray\", \"growl\", \"litter_boxes\", \"spray\", \"behavioral\", \"refill\", \"territorial\", \"male\", \"adopt\", \"nervous\", \"together\", \"move\", \"new\", \"play\", \"empty\", \"change\", \"old\", \"help\", \"seem\", \"think\", \"stop\", \"try\", \"go\", \"come\", \"get\", \"start\", \"still\", \"use\", \"also\", \"see\", \"notice\", \"say\", \"buy\", \"make\", \"well\", \"work\", \"really\", \"even\", \"much\", \"keep\", \"little\", \"take\", \"brush\", \"stuff_works\", \"best_price\", \"awesome\", \"pricey\", \"next_time\", \"perfectly\", \"anything_else\", \"odor\", \"allergic\", \"familiar\", \"lucky\", \"report\", \"instantly\", \"squeeze\", \"tick\", \"puppy\", \"wipe\", \"generic\", \"upper\", \"worried\", \"along\", \"sad\", \"okay\", \"gentle\", \"tight\", \"disappointed\", \"m\", \"itchy\", \"gross\", \"tired\", \"great\", \"combine\", \"thank\", \"clean\", \"work\", \"long_time\", \"fine\", \"around\", \"really\", \"well\", \"sure\", \"get\", \"easy\", \"lick\", \"much\", \"use\", \"make\", \"seem\", \"help\", \"good\", \"dental\", \"expensive\", \"buy\", \"bad\", \"know\", \"keep\", \"order\", \"love\", \"long\", \"try\", \"actually\", \"give\", \"still\", \"put\", \"need\", \"also\", \"say\", \"go\", \"little\", \"start\", \"find\", \"picky\", \"joint\", \"supplement\", \"pet_naturals\", \"digestive\", \"vetri_science\", \"eat\", \"finicky\", \"per_day\", \"canned_food\", \"gobble\", \"sprinkle\", \"salmon_oil\", \"shape\", \"renal\", \"move_free\", \"hyaluronic_acid\", \"sneeze\", \"tasty\", \"lysine\", \"eat_anything\", \"ingredient\", \"shed\", \"increase\", \"senior\", \"fair\", \"rosemary\", \"flex\", \"hairball_remedy\", \"crumble\", \"daily\", \"healthy\", \"dry_food\", \"enjoy\", \"feed\", \"capsule\", \"wet_food\", \"contain\", \"dry\", \"natural\", \"treat\", \"soft\", \"refuse\", \"break\", \"chew\", \"prefer\", \"give\", \"small\", \"open\", \"love\", \"good\", \"take\", \"even\", \"try\", \"seem\", \"recommend\", \"think\", \"little\", \"look\", \"say\", \"want\", \"make\", \"well\", \"also\", \"much\", \"help\", \"use\", \"get\", \"see\", \"arrive\", \"excellent\", \"monthly\", \"topical\", \"frontline_plus\", \"side_effects\", \"pill_pockets\", \"send\", \"flea_problem\", \"cold\", \"flea_free\", \"home_zone\", \"ship\", \"taurine\", \"flea_treatment\", \"inside\", \"wash\", \"exact\", \"maine_coon\", \"red\", \"burn\", \"adverse\", \"track\", \"flea_comb\", \"affordable\", \"convenient\", \"worm\", \"squirt\", \"leak\", \"pay\", \"kill\", \"severe\", \"several_times\", \"quickly\", \"dead\", \"infest\", \"multiple\", \"apply\", \"wait\", \"live\", \"back\", \"call\", \"sell\", \"go\", \"ago\", \"receive\", \"walk\", \"find\", \"put\", \"poor\", \"later\", \"take\", \"see\", \"purchase\", \"use\", \"get\", \"give\", \"need\", \"never\", \"away\", \"even\", \"come\", \"try\", \"also\", \"buy\", \"recommend\", \"long\", \"pet\", \"start\", \"still\", \"say\", \"want\", \"first\", \"keep\", \"know\", \"little\"], \"Freq\": [875.0, 1203.0, 529.0, 591.0, 348.0, 359.0, 812.0, 2123.0, 1194.0, 238.0, 1199.0, 885.0, 383.0, 171.0, 266.0, 1059.0, 1262.0, 315.0, 1603.0, 455.0, 132.0, 128.0, 129.0, 114.0, 447.0, 122.0, 340.0, 817.0, 115.0, 846.0, 528.6609862580893, 347.3223322043051, 170.84197546857095, 127.43459086881158, 121.40695453087379, 114.4154951252102, 113.04130464968753, 107.51118968507855, 128.0573873242172, 68.40957354122794, 79.3984283829701, 66.06856976360831, 62.55979494474786, 63.85577301326762, 60.09197725098907, 50.02477909209724, 44.74282152125321, 45.228277036593056, 39.37716361814221, 40.09784798955642, 39.693714608387175, 39.322549581220635, 38.64886959571129, 33.618817412200784, 32.989078716763835, 31.654478244845556, 350.950040243652, 30.603550757381516, 28.890679808592086, 28.108785980780688, 112.97318792676042, 109.06789520666433, 79.87711069686878, 57.43553580625293, 143.1889175269254, 304.0900016369731, 80.93983299768581, 47.85002476792323, 86.67886800192798, 213.424696562744, 324.22807017240564, 385.11453462617476, 245.03381709070976, 145.48147717616516, 369.33672909077615, 336.80904120591856, 224.79607407623797, 497.15998048083827, 209.35107638032642, 212.3142878927445, 341.08877189002214, 221.55309786814905, 219.01231962151687, 115.77639567019429, 182.79179137983957, 182.6485982072033, 191.99933504497707, 210.51436498446893, 209.41472815290592, 172.95372211548323, 160.98252573701484, 161.85686327244753, 153.2360583827544, 144.33290075828555, 146.00000596601197, 60.60872823354994, 27.90523841781584, 25.41369354046015, 25.096788586587778, 21.896986162205064, 21.585412714630735, 20.148479844784735, 19.01926790844077, 18.087391675999786, 28.098171444490195, 15.45285376920312, 16.12338055073797, 15.88906318130132, 14.22203589013637, 17.416619310412607, 13.981138514470839, 13.10758780846901, 19.15471917511274, 12.497676384565144, 12.559634908605236, 19.051506646215216, 13.178484768827108, 12.489782023464022, 12.021439515893213, 14.400966509894134, 10.952412822094173, 11.65838259589629, 10.728023085074575, 10.827641717742623, 10.812507429020608, 17.818009294219983, 525.6928211101458, 21.88728353417115, 45.18153868380417, 223.12189768763668, 909.1382663292159, 23.304702761691594, 83.66324807283766, 74.39033999533808, 530.455143149615, 720.5903445899542, 280.3866327306161, 1051.9878198045142, 211.8160311051784, 62.18316622105303, 403.24837732640435, 735.3774570366979, 416.51696263089934, 537.3443163767533, 402.28307559526564, 370.289076734732, 72.06355320555826, 125.78617595465703, 303.8048913629399, 178.74609421194288, 227.21563841029834, 251.16585130765793, 94.1576720189303, 179.72267908970926, 155.228065343388, 334.67724886143543, 112.54638023538033, 299.3300261427108, 187.07874189977363, 182.43963445567633, 141.6694658527617, 183.1163159302768, 170.59330734491726, 197.76548422642085, 155.17984855045478, 154.39203686223055, 149.83181266211486, 114.11325532549903, 101.22028985068222, 81.6212405475939, 74.93794403441326, 60.94133941897165, 57.052905820059756, 864.2027678885825, 47.71411043327297, 47.30057064779826, 46.784111146291096, 46.028084935782495, 42.296727452592584, 40.75815818403713, 39.47778021744715, 34.74507018628722, 33.335158252529965, 32.270647161945895, 32.19456213676679, 29.267917282852178, 29.47543564533155, 29.09448761591763, 28.39046723621652, 28.809412921300527, 28.94933831426964, 25.863882022662686, 25.679666189034954, 23.97361143618789, 23.757765066202303, 23.36671782177623, 23.358753796130863, 230.68916065641787, 127.06606762064672, 40.32829816963289, 81.91291818075702, 83.12974030058906, 53.32425513155331, 72.6435407992898, 82.46555542863005, 110.50848150580151, 96.74102654103409, 223.22742997901383, 104.03559214071413, 69.5267846309028, 94.7100282635448, 103.04818624982055, 51.904895048929355, 548.6959907657504, 180.4939089138932, 104.99681184364728, 212.94673668694915, 282.82674264452817, 278.56434075287194, 218.05929767543537, 283.38579827676426, 262.5688246552512, 160.22046786722697, 172.24852016358693, 163.6027001013014, 118.43701122998037, 155.35435848406772, 131.76567837174272, 154.61334268044013, 169.82076115175732, 146.32126172184417, 146.54543353608344, 145.51825621876128, 158.0239860056807, 164.27229343612225, 122.04306667594845, 65.71089446609822, 59.51656755508447, 58.240973487924386, 54.47435677383099, 53.536667818648624, 41.28700232433597, 37.38247148611645, 43.41036744580969, 32.975326840587186, 31.48700768200034, 30.471950852383625, 28.525872190327664, 28.296325474158326, 27.024952573213064, 26.184789200183843, 25.802211339901618, 28.70413703235674, 24.490220430958555, 23.738078712087464, 20.658492101921333, 19.912076947252068, 19.64599344024066, 18.51073802009532, 18.340297717352136, 17.588091697562003, 17.766470011801157, 16.607332473841865, 16.86622562514147, 16.618378363091576, 67.53838710381096, 79.71616417063359, 37.419228917367, 25.466732011614855, 104.84876591245926, 42.05263714978741, 26.197540954991695, 44.794602328501014, 120.39468059405444, 62.89228007028075, 105.992111901183, 224.93347068784263, 56.90471969886245, 57.913608683460374, 465.69354091612394, 111.38055917623844, 53.57205601856426, 70.20298692969489, 229.48833597805324, 239.4375188389872, 44.83093865177195, 80.37250256334002, 273.41008989381385, 245.65640113626134, 108.10326993445723, 369.49283002856686, 410.3715921219108, 291.3619987129256, 150.340047265151, 133.92688213317913, 101.19437573573549, 181.19476509816695, 169.23380568714782, 239.06430117523388, 173.72210061411394, 165.46191881929758, 142.80166976344074, 124.47813693472615, 94.45746506181398, 135.24090041227555, 135.06593130754803, 134.79302307750172, 107.94829211154037, 101.83956359259847, 105.62356424927547, 103.48661524345336, 104.23183011430048], \"Total\": [875.0, 1203.0, 529.0, 591.0, 348.0, 359.0, 812.0, 2123.0, 1194.0, 238.0, 1199.0, 885.0, 383.0, 171.0, 266.0, 1059.0, 1262.0, 315.0, 1603.0, 455.0, 132.0, 128.0, 129.0, 114.0, 447.0, 122.0, 340.0, 817.0, 115.0, 846.0, 529.3836986183185, 348.020447749512, 171.56203364299233, 128.14292922349176, 122.10560073818324, 115.13516962711289, 113.7538461345763, 108.21686156693656, 129.23899520830767, 69.10504223355053, 80.24559921379115, 66.77612685111166, 63.258171781229045, 64.56910779701943, 60.78996919773654, 50.72722649836357, 45.45957910556634, 45.97399878321127, 40.07370226695325, 40.808753784982116, 40.397492966867574, 40.02479006700495, 39.34885700374366, 34.32825017640365, 33.68564355615728, 32.36923519096319, 359.17592820074566, 31.322356387750567, 29.58750249159074, 28.80495817259196, 116.06476201008084, 115.54088279514966, 84.99220343746032, 60.45381605159133, 164.8236203204179, 383.28529582787064, 92.69067519383215, 50.47242888887439, 107.64215215083097, 391.0685244716462, 885.3837257498448, 1199.370150729397, 601.2626394323274, 274.94142278313893, 1226.4640774042098, 1059.940816199282, 559.6923441482443, 2123.7916858433855, 563.3344328149947, 588.306734930625, 1603.9830449609676, 724.7127761343841, 722.4382728816572, 201.21665158956887, 643.5324802863263, 686.4331411446004, 817.9722724487509, 1194.299795632332, 1203.833404104898, 812.5442067968368, 626.7378632397043, 769.4630958662641, 611.449860210707, 567.3472795243422, 827.8672279310615, 61.79251770910048, 28.614631040967414, 26.138544437577742, 25.823684859851916, 22.61338964853905, 22.305841520939047, 20.88207908445596, 19.747245471824048, 18.807954764313084, 29.27066361242698, 16.193964278539966, 16.903320412735788, 16.657799975870006, 14.938640354034868, 18.31145711400838, 14.707921260292535, 13.826227124514038, 20.234787535303003, 13.220724876752321, 13.295233067499701, 20.20691045731633, 13.995177614764417, 13.27557746209843, 12.787221221903366, 15.327306184932713, 11.667819300682321, 12.427602465580575, 11.43607627275116, 11.545572742477146, 11.552819951638408, 19.129244322547436, 591.4097894651006, 23.619388162243304, 49.92522457413774, 266.167287854389, 1203.833404104898, 25.535902878529644, 98.41680212528736, 91.44281520598292, 812.5442067968368, 1194.299795632332, 447.59923237224035, 2123.7916858433855, 340.53778198053396, 82.59469622053723, 769.4630958662641, 1603.9830449609676, 817.9722724487509, 1199.370150729397, 885.3837257498448, 846.4759878159899, 108.06275657116963, 218.96009509032237, 686.4331411446004, 363.2327235221005, 517.7201737111831, 611.449860210707, 176.91768975799522, 455.1220162530833, 374.2318876722751, 1226.4640774042098, 244.1544163953413, 1262.612006760563, 588.306734930625, 599.0140449154447, 417.5276266477483, 724.7127761343841, 643.5324802863263, 1059.940816199282, 567.3472795243422, 563.3344328149947, 540.0356067742333, 114.89522264478032, 101.93977938829943, 82.34820925635223, 75.65191976216545, 61.670391685098934, 57.79040453554084, 875.9444665204205, 48.42890270421703, 48.0169956785117, 47.505865280259876, 46.77190825986658, 43.02455832727301, 41.470258515982344, 40.18701882019568, 35.461343678381034, 34.04645259916852, 32.97843147840109, 32.91932304356488, 29.989074118787606, 30.203737880931993, 29.819498648137937, 29.115603125019927, 29.55964260389606, 29.766819507568737, 26.59591438513041, 26.41335506167018, 24.688495040626282, 24.469217280914677, 24.087676072832867, 24.0976668090379, 238.8473234635467, 132.21244525596836, 42.26629972816045, 88.90350856138541, 91.01645697320377, 57.08645365999932, 80.42769753336817, 92.63894178381635, 134.20835501017584, 115.46333069995497, 315.77831753726093, 130.88565173818898, 82.03522703693403, 122.65728552461088, 136.37092005684403, 59.013194828105924, 1262.612006760563, 342.0834774233806, 162.54053679950502, 455.1220162530833, 846.4759878159899, 827.8672279310615, 626.7378632397043, 1226.4640774042098, 1199.370150729397, 502.0146494342912, 601.2626394323274, 567.3472795243422, 289.71230263042395, 643.5324802863263, 421.72604652182247, 817.9722724487509, 1194.299795632332, 724.7127761343841, 769.4630958662641, 885.3837257498448, 1603.9830449609676, 2123.7916858433855, 722.4382728816572, 66.51639294953529, 60.25398851001608, 58.9921877264517, 55.182696254916806, 54.241896814168925, 42.06254556364394, 38.094049575896655, 44.33819651927102, 33.68083289628616, 32.21026972071366, 31.180925992198826, 29.225990555192936, 29.012005542383925, 27.73895592794989, 26.889199475935186, 26.517235671596872, 29.547281348359203, 25.209962770733572, 24.45458739285648, 21.385832459162646, 20.644944789263437, 20.372495898943626, 19.217896067095456, 19.04410183092701, 18.2947546492631, 18.49478728116682, 17.315014932994817, 17.594960689729092, 17.338758654238557, 70.52308592926286, 84.73763539096387, 39.548867741502136, 26.80628021378515, 116.52594079833023, 45.11160341697746, 27.809872837982866, 49.796717922752414, 151.24790096387548, 77.65230559963953, 153.51227110142918, 387.4574505495335, 72.70266493474453, 74.52067199263396, 1059.940816199282, 181.2761206399431, 69.51930350436164, 101.33472240797666, 540.0356067742333, 599.0140449154447, 55.69654886443928, 129.4002501289662, 827.8672279310615, 722.4382728816572, 211.52028430729916, 1603.9830449609676, 2123.7916858433855, 1262.612006760563, 417.5276266477483, 349.9178369107576, 213.37321606004616, 626.7378632397043, 559.6923441482443, 1226.4640774042098, 724.7127761343841, 686.4331411446004, 502.0146494342912, 374.2318876722751, 208.98650922146888, 563.3344328149947, 588.306734930625, 643.5324802863263, 421.72604652182247, 431.81671409707087, 611.449860210707, 517.7201737111831, 567.3472795243422], \"Category\": [\"Default\", \"Default\", \"Default\", \"Default\", \"Default\", \"Default\", \"Default\", \"Default\", \"Default\", \"Default\", \"Default\", \"Default\", \"Default\", \"Default\", \"Default\", \"Default\", \"Default\", \"Default\", \"Default\", \"Default\", \"Default\", \"Default\", \"Default\", \"Default\", \"Default\", \"Default\", \"Default\", \"Default\", \"Default\", \"Default\", \"Topic1\", \"Topic1\", \"Topic1\", \"Topic1\", \"Topic1\", \"Topic1\", \"Topic1\", \"Topic1\", \"Topic1\", \"Topic1\", \"Topic1\", \"Topic1\", \"Topic1\", \"Topic1\", \"Topic1\", \"Topic1\", \"Topic1\", \"Topic1\", \"Topic1\", \"Topic1\", \"Topic1\", \"Topic1\", \"Topic1\", \"Topic1\", \"Topic1\", \"Topic1\", \"Topic1\", \"Topic1\", \"Topic1\", \"Topic1\", \"Topic1\", \"Topic1\", \"Topic1\", \"Topic1\", \"Topic1\", \"Topic1\", \"Topic1\", \"Topic1\", \"Topic1\", \"Topic1\", \"Topic1\", \"Topic1\", \"Topic1\", \"Topic1\", \"Topic1\", \"Topic1\", \"Topic1\", \"Topic1\", \"Topic1\", \"Topic1\", \"Topic1\", \"Topic1\", \"Topic1\", \"Topic1\", \"Topic1\", \"Topic1\", \"Topic1\", \"Topic1\", \"Topic1\", \"Topic1\", \"Topic1\", \"Topic1\", \"Topic1\", \"Topic1\", \"Topic1\", \"Topic2\", \"Topic2\", \"Topic2\", \"Topic2\", \"Topic2\", \"Topic2\", \"Topic2\", \"Topic2\", \"Topic2\", \"Topic2\", \"Topic2\", \"Topic2\", \"Topic2\", \"Topic2\", \"Topic2\", \"Topic2\", \"Topic2\", \"Topic2\", \"Topic2\", \"Topic2\", \"Topic2\", \"Topic2\", \"Topic2\", \"Topic2\", \"Topic2\", \"Topic2\", \"Topic2\", \"Topic2\", \"Topic2\", \"Topic2\", \"Topic2\", \"Topic2\", \"Topic2\", \"Topic2\", \"Topic2\", \"Topic2\", \"Topic2\", \"Topic2\", \"Topic2\", \"Topic2\", \"Topic2\", \"Topic2\", \"Topic2\", \"Topic2\", \"Topic2\", \"Topic2\", \"Topic2\", \"Topic2\", \"Topic2\", \"Topic2\", \"Topic2\", \"Topic2\", \"Topic2\", \"Topic2\", \"Topic2\", \"Topic2\", \"Topic2\", \"Topic2\", \"Topic2\", \"Topic2\", \"Topic2\", \"Topic2\", \"Topic2\", \"Topic2\", \"Topic2\", \"Topic2\", \"Topic2\", \"Topic2\", \"Topic2\", \"Topic2\", \"Topic2\", \"Topic2\", \"Topic3\", \"Topic3\", \"Topic3\", \"Topic3\", \"Topic3\", \"Topic3\", \"Topic3\", \"Topic3\", \"Topic3\", \"Topic3\", \"Topic3\", \"Topic3\", \"Topic3\", \"Topic3\", \"Topic3\", \"Topic3\", \"Topic3\", \"Topic3\", \"Topic3\", \"Topic3\", \"Topic3\", \"Topic3\", \"Topic3\", \"Topic3\", \"Topic3\", \"Topic3\", \"Topic3\", \"Topic3\", \"Topic3\", \"Topic3\", \"Topic3\", \"Topic3\", \"Topic3\", \"Topic3\", \"Topic3\", \"Topic3\", \"Topic3\", \"Topic3\", \"Topic3\", \"Topic3\", \"Topic3\", \"Topic3\", \"Topic3\", \"Topic3\", \"Topic3\", \"Topic3\", \"Topic3\", \"Topic3\", \"Topic3\", \"Topic3\", \"Topic3\", \"Topic3\", \"Topic3\", \"Topic3\", \"Topic3\", \"Topic3\", \"Topic3\", \"Topic3\", \"Topic3\", \"Topic3\", \"Topic3\", \"Topic3\", \"Topic3\", \"Topic3\", \"Topic3\", \"Topic3\", \"Topic3\", \"Topic3\", \"Topic3\", \"Topic4\", \"Topic4\", \"Topic4\", \"Topic4\", \"Topic4\", \"Topic4\", \"Topic4\", \"Topic4\", \"Topic4\", \"Topic4\", \"Topic4\", \"Topic4\", \"Topic4\", \"Topic4\", \"Topic4\", \"Topic4\", \"Topic4\", \"Topic4\", \"Topic4\", \"Topic4\", \"Topic4\", \"Topic4\", \"Topic4\", \"Topic4\", \"Topic4\", \"Topic4\", \"Topic4\", \"Topic4\", \"Topic4\", \"Topic4\", \"Topic4\", \"Topic4\", \"Topic4\", \"Topic4\", \"Topic4\", \"Topic4\", \"Topic4\", \"Topic4\", \"Topic4\", \"Topic4\", \"Topic4\", \"Topic4\", \"Topic4\", \"Topic4\", \"Topic4\", \"Topic4\", \"Topic4\", \"Topic4\", \"Topic4\", \"Topic4\", \"Topic4\", \"Topic4\", \"Topic4\", \"Topic4\", \"Topic4\", \"Topic4\", \"Topic4\", \"Topic4\", \"Topic4\", \"Topic4\", \"Topic4\", \"Topic4\", \"Topic4\", \"Topic4\", \"Topic4\", \"Topic4\", \"Topic4\", \"Topic4\", \"Topic4\", \"Topic4\", \"Topic4\", \"Topic4\", \"Topic4\", \"Topic4\", \"Topic4\", \"Topic4\"], \"logprob\": [30.0, 29.0, 28.0, 27.0, 26.0, 25.0, 24.0, 23.0, 22.0, 21.0, 20.0, 19.0, 18.0, 17.0, 16.0, 15.0, 14.0, 13.0, 12.0, 11.0, 10.0, 9.0, 8.0, 7.0, 6.0, 5.0, 4.0, 3.0, 2.0, 1.0, -3.8577, -4.2778, -4.9873, -5.2804, -5.3289, -5.3882, -5.4003, -5.4504, -5.2756, -5.9025, -5.7536, -5.9373, -5.9919, -5.9714, -6.0322, -6.2155, -6.3271, -6.3163, -6.4548, -6.4367, -6.4468, -6.4562, -6.4735, -6.6129, -6.6319, -6.6732, -4.2674, -6.7069, -6.7645, -6.7919, -5.4009, -5.4361, -5.7475, -6.0774, -5.1639, -4.4107, -5.7343, -6.26, -5.6658, -4.7647, -4.3466, -4.1745, -4.6266, -5.148, -4.2163, -4.3085, -4.7128, -3.9191, -4.784, -4.77, -4.2959, -4.7274, -4.7389, -5.3764, -4.9197, -4.9205, -4.8705, -4.7785, -4.7837, -4.975, -5.0467, -5.0413, -5.0961, -5.1559, -5.1444, -5.9633, -6.7389, -6.8325, -6.845, -6.9814, -6.9957, -7.0646, -7.1223, -7.1725, -6.732, -7.33, -7.2875, -7.3021, -7.413, -7.2103, -7.43, -7.4946, -7.1152, -7.5422, -7.5373, -7.1206, -7.4892, -7.5428, -7.5811, -7.4005, -7.6742, -7.6117, -7.6949, -7.6856, -7.687, -7.1875, -3.803, -6.9818, -6.2571, -4.66, -3.2552, -6.9191, -5.6409, -5.7584, -3.794, -3.4877, -4.4316, -3.1093, -4.712, -5.9377, -4.0682, -3.4674, -4.0358, -3.7811, -4.0706, -4.1535, -5.7902, -5.2332, -4.3514, -4.8818, -4.6418, -4.5416, -5.5228, -4.8763, -5.0229, -4.2546, -5.3444, -4.3662, -4.8362, -4.8613, -5.1143, -4.8576, -4.9285, -4.7807, -5.0232, -5.0283, -5.0582, -5.2624, -5.3823, -5.5975, -5.683, -5.8897, -5.9556, -3.2378, -6.1344, -6.1431, -6.1541, -6.1704, -6.2549, -6.292, -6.3239, -6.4516, -6.493, -6.5255, -6.5278, -6.6231, -6.6161, -6.6291, -6.6536, -6.6389, -6.6341, -6.7468, -6.7539, -6.8227, -6.8317, -6.8483, -6.8487, -4.5586, -5.1549, -6.3026, -5.594, -5.5792, -6.0232, -5.7141, -5.5872, -5.2945, -5.4276, -4.5914, -5.3549, -5.7579, -5.4488, -5.3644, -6.0502, -3.6921, -4.8039, -5.3457, -4.6386, -4.3548, -4.37, -4.6149, -4.3528, -4.4291, -4.9231, -4.8507, -4.9022, -5.2252, -4.9539, -5.1186, -4.9587, -4.8649, -5.0138, -5.0123, -5.0193, -4.9369, -4.8981, -5.1952, -5.798, -5.897, -5.9187, -5.9855, -6.0029, -6.2627, -6.362, -6.2125, -6.4875, -6.5337, -6.5664, -6.6324, -6.6405, -6.6865, -6.7181, -6.7328, -6.6262, -6.785, -6.8162, -6.9551, -6.9919, -7.0054, -7.0649, -7.0741, -7.116, -7.1059, -7.1734, -7.1579, -7.1727, -5.7705, -5.6048, -6.3611, -6.7459, -5.3307, -6.2443, -6.7176, -6.1812, -5.1925, -5.8418, -5.3199, -4.5674, -5.9419, -5.9243, -3.8397, -5.2703, -6.0022, -5.7319, -4.5474, -4.5049, -6.1803, -5.5966, -4.3723, -4.4793, -5.3002, -4.0711, -3.9662, -4.3087, -4.9703, -5.0859, -5.3662, -4.7837, -4.852, -4.5065, -4.8258, -4.8745, -5.0218, -5.1591, -5.4351, -5.0762, -5.0775, -5.0795, -5.3016, -5.3598, -5.3234, -5.3438, -5.3366], \"loglift\": [30.0, 29.0, 28.0, 27.0, 26.0, 25.0, 24.0, 23.0, 22.0, 21.0, 20.0, 19.0, 18.0, 17.0, 16.0, 15.0, 14.0, 13.0, 12.0, 11.0, 10.0, 9.0, 8.0, 7.0, 6.0, 5.0, 4.0, 3.0, 2.0, 1.0, 1.3032, 1.3026, 1.3004, 1.2991, 1.2989, 1.2983, 1.2983, 1.2981, 1.2954, 1.2945, 1.294, 1.2939, 1.2935, 1.2935, 1.293, 1.2907, 1.2887, 1.2882, 1.2871, 1.287, 1.287, 1.2869, 1.2866, 1.2837, 1.2837, 1.2823, 1.2814, 1.2814, 1.2808, 1.2801, 1.2776, 1.2469, 1.2425, 1.2534, 1.1639, 1.0731, 1.169, 1.2512, 1.088, 0.699, 0.3, 0.1686, 0.407, 0.6681, 0.1044, 0.1581, 0.3924, -0.1475, 0.3147, 0.2854, -0.2435, 0.1195, 0.1111, 0.7519, 0.046, -0.0193, -0.1447, -0.4312, -0.4444, -0.2426, -0.0546, -0.2544, -0.0793, -0.0643, -0.4307, 1.3455, 1.3398, 1.3368, 1.3363, 1.3327, 1.332, 1.3291, 1.3273, 1.3258, 1.324, 1.318, 1.3176, 1.3176, 1.3157, 1.3148, 1.3142, 1.3115, 1.31, 1.3086, 1.308, 1.306, 1.3048, 1.3039, 1.3031, 1.3025, 1.3016, 1.301, 1.301, 1.3007, 1.2987, 1.2939, 1.2471, 1.2887, 1.265, 1.1885, 1.0841, 1.2734, 1.2025, 1.1585, 0.9384, 0.8596, 0.8972, 0.6624, 0.8901, 1.081, 0.7187, 0.585, 0.69, 0.562, 0.576, 0.5381, 0.9597, 0.8106, 0.5498, 0.6558, 0.5413, 0.4752, 0.7342, 0.4357, 0.4849, 0.0662, 0.5904, -0.0745, 0.2192, 0.176, 0.284, -0.0108, 0.0372, -0.314, 0.0685, 0.0705, 0.0828, 1.4262, 1.4259, 1.4241, 1.4235, 1.4211, 1.4202, 1.4195, 1.4181, 1.418, 1.4177, 1.417, 1.4159, 1.4157, 1.4152, 1.4126, 1.4119, 1.4113, 1.4107, 1.4087, 1.4086, 1.4084, 1.4078, 1.4073, 1.4052, 1.4051, 1.4048, 1.4036, 1.4035, 1.4026, 1.4019, 1.3982, 1.3933, 1.3861, 1.3511, 1.3424, 1.3648, 1.3312, 1.3167, 1.2387, 1.2561, 1.0862, 1.2034, 1.2676, 1.1744, 1.1528, 1.3047, 0.5996, 0.7936, 0.996, 0.6735, 0.3368, 0.3438, 0.3772, -0.0321, -0.086, 0.2909, 0.1829, 0.1895, 0.5385, 0.0117, 0.2697, -0.2329, -0.5176, -0.167, -0.2254, -0.3727, -0.8845, -1.1264, -0.3453, 1.4372, 1.4371, 1.4366, 1.4365, 1.4363, 1.4308, 1.4305, 1.4282, 1.4282, 1.4267, 1.4264, 1.4251, 1.4244, 1.4233, 1.4228, 1.422, 1.4204, 1.4204, 1.4196, 1.4148, 1.4132, 1.4131, 1.4119, 1.4117, 1.41, 1.4092, 1.4077, 1.4071, 1.4069, 1.4061, 1.3883, 1.394, 1.3981, 1.3438, 1.3792, 1.3897, 1.3435, 1.2212, 1.2386, 1.079, 0.9056, 1.2044, 1.1973, 0.6269, 0.9623, 1.1888, 1.0823, 0.5936, 0.5324, 1.2324, 0.9731, 0.3415, 0.3707, 0.7782, -0.0187, -0.1945, -0.017, 0.4279, 0.489, 0.7034, 0.2084, 0.2533, -0.1858, 0.0211, 0.0266, 0.1922, 0.3486, 0.6553, 0.0226, -0.0221, -0.1138, 0.0867, 0.0048, -0.3066, -0.1606, -0.245]}, \"token.table\": {\"Topic\": [1, 2, 3, 4, 1, 1, 4, 4, 4, 1, 1, 2, 3, 4, 1, 2, 2, 1, 2, 3, 4, 1, 2, 2, 4, 1, 2, 4, 1, 2, 3, 4, 2, 1, 2, 3, 4, 1, 2, 3, 4, 1, 2, 1, 2, 3, 2, 4, 4, 1, 2, 3, 4, 1, 3, 4, 1, 3, 2, 3, 1, 2, 3, 4, 2, 3, 1, 2, 3, 4, 4, 2, 3, 1, 2, 3, 4, 1, 1, 3, 4, 4, 3, 2, 3, 3, 4, 2, 3, 4, 1, 3, 2, 2, 3, 4, 3, 4, 1, 2, 3, 4, 1, 2, 3, 4, 3, 1, 3, 2, 3, 4, 1, 2, 3, 4, 4, 4, 1, 2, 3, 4, 3, 2, 3, 4, 1, 1, 1, 1, 1, 1, 2, 3, 4, 1, 2, 3, 3, 1, 2, 3, 4, 4, 4, 4, 4, 3, 4, 2, 2, 1, 2, 3, 4, 1, 2, 3, 4, 1, 2, 3, 4, 3, 1, 2, 3, 4, 1, 2, 3, 4, 2, 1, 3, 1, 2, 3, 1, 2, 3, 4, 1, 4, 3, 3, 2, 4, 3, 4, 2, 2, 3, 1, 2, 3, 4, 2, 4, 1, 2, 3, 4, 1, 2, 3, 4, 4, 1, 2, 3, 4, 1, 1, 1, 2, 3, 4, 1, 2, 3, 4, 1, 2, 3, 4, 2, 3, 1, 2, 3, 4, 1, 2, 3, 2, 3, 2, 4, 1, 2, 3, 4, 1, 3, 1, 1, 4, 1, 2, 3, 4, 3, 1, 2, 3, 4, 1, 2, 4, 2, 3, 1, 2, 3, 4, 1, 2, 1, 2, 3, 4, 1, 2, 3, 4, 1, 2, 1, 2, 3, 4, 2, 2, 1, 2, 3, 4, 1, 2, 3, 4, 1, 2, 3, 4, 1, 4, 1, 3, 2, 1, 2, 3, 4, 3, 3, 4, 1, 2, 3, 4, 1, 2, 3, 4, 2, 3, 4, 2, 2, 1, 2, 3, 4, 1, 2, 3, 4, 1, 2, 3, 4, 1, 2, 3, 4, 1, 2, 3, 4, 1, 2, 3, 4, 4, 1, 1, 2, 3, 4, 1, 3, 2, 3, 2, 3, 1, 2, 3, 4, 1, 2, 3, 4, 1, 2, 3, 4, 1, 2, 3, 4, 4, 3, 1, 4, 1, 4, 3, 3, 4, 1, 4, 1, 1, 2, 3, 4, 3, 2, 3, 1, 2, 3, 2, 4, 1, 2, 3, 4, 1, 2, 3, 4, 1, 2, 3, 4, 1, 2, 1, 2, 3, 1, 2, 3, 4, 1, 2, 3, 4, 3, 4, 1, 1, 2, 1, 2, 3, 4, 2, 2, 1, 2, 1, 2, 4, 4, 4, 1, 2, 3, 4, 1, 2, 3, 4, 2, 1, 1, 2, 3, 4, 3, 2, 4, 1, 2, 3, 4, 1, 2, 3, 4, 4, 1, 2, 3, 4, 2, 3, 4, 2, 4, 1, 2, 4, 4, 2, 4], \"Freq\": [0.2375545806473755, 0.46282185539919707, 0.17611805116960597, 0.12696882758739036, 0.9901604545808429, 0.9433890183551182, 0.05192967073514412, 0.9817157455428452, 0.9838885705266907, 0.9840092387207307, 0.36408546126762875, 0.01103289276568572, 0.00551644638284286, 0.6123255484955575, 0.03416389915995775, 0.956589176478817, 0.928891390866341, 0.3063282548765697, 0.25251383172257774, 0.20145912257648277, 0.24009511868704111, 0.9911860668911752, 0.9621595086317107, 0.19834986012245745, 0.7933994404898298, 0.18590853706445953, 0.8092489260452944, 0.9922366062464171, 0.26245093472388226, 0.11716559585887601, 0.14528533886500625, 0.47334900726985907, 0.968103511782995, 0.2632547131441987, 0.0800087853673545, 0.07484692824688002, 0.5807089260533795, 0.19546697035318206, 0.4927970097636562, 0.07157945393215118, 0.23951586508065972, 0.9897084247506795, 0.9564419342363637, 0.15490315082985998, 0.07337517670888104, 0.7745157541492999, 0.9871745360363628, 0.01618318911535021, 0.9687601591650249, 0.2665955196959964, 0.44286906004143667, 0.05098821414950751, 0.24037300956196397, 0.08252792391290469, 0.13754653985484114, 0.7840152771725944, 0.9992751975186998, 0.9893515194960552, 0.05255187190060311, 0.9284164035773217, 0.8082335614963676, 0.009290040936739857, 0.13935061405109786, 0.04645020468369929, 0.2419870745628502, 0.7552929903022294, 0.12398217777254872, 0.8378189588872231, 0.007514071380154468, 0.03005628552061787, 0.96242596751882, 0.9314381832789398, 0.04233809923995181, 0.4020065708463663, 0.1643760200794031, 0.1322154944116938, 0.3019516021023818, 0.9909455362284827, 0.04317838614061958, 0.8851569158827014, 0.06476757921092938, 0.9732472034609093, 0.954449249475629, 0.033494199909763586, 0.9671450223944236, 0.06650173730847637, 0.9310243223186692, 0.6662795053963031, 0.32388587067875846, 0.009253882019393098, 0.9883771807723716, 0.9891294401287074, 0.965592521424397, 0.13411981689690794, 0.827072204197599, 0.03725550469358554, 0.9463804557594027, 0.023659511393985064, 0.008809595171943322, 0.6225447254839949, 0.2584147917103375, 0.10865167378730099, 0.0011416248840207582, 0.012557873724228341, 0.9863638997939351, 0.0011416248840207582, 0.9725180272878562, 0.9510142677239101, 0.03962559448849625, 0.06748890001182761, 0.922348300161644, 0.011248150001971269, 0.2568857084328147, 0.10690274822980489, 0.34783282259846965, 0.2887969765611147, 0.9520045792317382, 0.9957847021201948, 0.16441352012178193, 0.5754473204262367, 0.03196929557923538, 0.22835211128025268, 0.9843505279543218, 0.9262710317249376, 0.911922994590265, 0.07690916821845609, 0.9970678511676231, 0.9856639806951198, 0.990437899551627, 0.993373005307579, 0.9844776632488891, 0.12962108261365832, 0.27775946274355356, 0.16850740739775583, 0.4240461131218251, 0.10160866624450689, 0.8535127964538579, 0.040643466497802754, 0.9911436625595962, 0.2871588707706326, 0.25473770794169026, 0.22231654511274787, 0.2362113291822946, 0.9451745301408008, 0.9621266542085927, 0.9797857464397434, 0.9669309799746554, 0.9808241810300711, 0.9955404064316251, 0.9076658134760163, 0.91340251385873, 0.23401541842020857, 0.4953404832556527, 0.07722037951894206, 0.19305094879735515, 0.0974170999019537, 0.23681067374539963, 0.43481290931847627, 0.23047460220706117, 0.31794228021938903, 0.18680288274017515, 0.05660693416368944, 0.4396471886713213, 0.9834963274199157, 0.10986726302768636, 0.43710631527144034, 0.33432726276166924, 0.1193182103849067, 0.021981374389757436, 0.889400225308647, 0.06932587307538883, 0.02029049943669917, 0.9521484837509298, 0.9796458228558333, 0.954845122063909, 0.030254337950227354, 0.007563584487556839, 0.9605752299197184, 0.3659430262574564, 0.4540404214675848, 0.1649002525728044, 0.014682899201688065, 0.9959187599963859, 0.9922674800443065, 0.9703311699635592, 0.974239118580547, 0.035958452806522545, 0.9349197729695861, 0.9616836676805347, 0.980494359291346, 0.9371669488126243, 0.9527461517374588, 0.9907810337246297, 0.25022493250268446, 0.41049972587041694, 0.16518116459327534, 0.17335844996918007, 0.059005658783501794, 0.9440905405360287, 0.19315453613323227, 0.4384607970224373, 0.16804444643591207, 0.19894917221722924, 0.1931990083101374, 0.11591940498608244, 0.06955164299164947, 0.6182368265924397, 0.9804623467576933, 0.08475120462104739, 0.7506535266435626, 0.07264388967518347, 0.08475120462104739, 0.9910808249006201, 0.988593020848813, 0.2538127972002052, 0.27320127476410977, 0.2890645745891226, 0.18330924242237043, 0.24753721463017445, 0.013028274454219708, 0.04559896058976898, 0.6904985460736445, 0.14696770054016609, 0.4141817015222863, 0.10421346038302687, 0.331345361217829, 0.9006926486761583, 0.07832109988488332, 0.11045440497161525, 0.27958771258440107, 0.4073006183328312, 0.2036503091664156, 0.1362272045427114, 0.3954983357691621, 0.46800636399350853, 0.9465595876621269, 0.960146062527846, 0.9618683661816594, 0.9814109563349545, 0.2347267828837432, 0.5097972315756297, 0.18949297576552185, 0.06723944301357228, 0.9735943799220073, 0.017231758936672694, 0.9901405484458888, 0.9788141382305219, 0.9831810318503105, 0.8675940967805909, 0.04853673268702606, 0.018201274757634774, 0.06067091585878258, 0.9692639755604355, 0.2105364128186289, 0.5237418170735028, 0.1910423005206077, 0.07537723421901528, 0.06024493430779466, 0.020081644769264887, 0.9036740146169199, 0.155893649445945, 0.8400935553475926, 0.13651791249753317, 0.34009725569560895, 0.16286347455846062, 0.35925766446719254, 0.9412628072275626, 0.05882892545172266, 0.2400563536331622, 0.27720793217162776, 0.10002348068048424, 0.3829470403195682, 0.7931428711434919, 0.04435338424157685, 0.11218797190516498, 0.049571429446468245, 0.9911342531827425, 0.9862887252806872, 0.5764930441075558, 0.14412326102688894, 0.1838814019998238, 0.0993953524323372, 0.9570418594452318, 0.9384368809890513, 0.5446615789081313, 0.1125122510420553, 0.16109708671930645, 0.18155385963604376, 0.1538077853824101, 0.1476554739671137, 0.6459926986061224, 0.05537080273766764, 0.11304692044847463, 0.5313205261078308, 0.005652346022423731, 0.35044545339027133, 0.04253926158320845, 0.9642232625527248, 0.997996046422004, 0.9788200893425155, 0.957759039179554, 0.10526995298383582, 0.24403489100798303, 0.2009699102418684, 0.4497897991127531, 0.9913826408607349, 0.9922083562382044, 0.9712803026174226, 0.8738743118508422, 0.08630857400995973, 0.02157714350248993, 0.010788571751244966, 0.9967240208625535, 0.1256810366659775, 0.05386330142827607, 0.807949521424141, 0.06778145144744713, 0.8811588688168127, 0.05083608858558535, 0.9728749356875527, 0.9402420402128988, 0.2789330592723869, 0.08037054250221316, 0.1276473322093974, 0.5105893288375896, 0.22036211190779806, 0.30383260884257, 0.07679285717999022, 0.3989889753482101, 0.060072460707395615, 0.008581780101056516, 0.02574534030316955, 0.9010869106109343, 0.21291149275679444, 0.6522722032433587, 0.12183952475677833, 0.012307022702704881, 0.11507595152327842, 0.014384493940409802, 0.10069145758286861, 0.7767626727821293, 0.2509886915491142, 0.14541408319908997, 0.31871579879252593, 0.2848522451708201, 0.9819585017371003, 0.9801435592018043, 0.08532919640544724, 0.012189885200778178, 0.8532919640544725, 0.06094942600389089, 0.9898903792202056, 0.9869902369587227, 0.9605109932390307, 0.9721127173003731, 0.903915481963765, 0.9886603427899754, 0.2843679310771975, 0.2657208536295124, 0.24085808369926565, 0.2097796212864572, 0.3031400857632503, 0.1882513774602833, 0.16887255919231295, 0.34051352099433596, 0.3210018189679493, 0.4477350046384124, 0.21928176204823552, 0.011672793417016339, 0.16102914371446014, 0.02683819061907669, 0.040257285928615036, 0.778307527953224, 0.9698184269021994, 0.9775937620906322, 0.03730469099124575, 0.9326172747811436, 0.05057034788131804, 0.9355514358043838, 0.9704626305945552, 0.9810673420042536, 0.9651176978818139, 0.9732068112948308, 0.9747389144093473, 0.9801818553626173, 0.11985378630040126, 0.19293536331284106, 0.5261873544895665, 0.15785620634686995, 0.9720734523505158, 0.19864667864440855, 0.7945867145776342, 0.9772369817718517, 0.022273207561751607, 0.9761866625223773, 0.9283805157698178, 0.9661857335051396, 0.3710051930531254, 0.27337224751282924, 0.11360924571961735, 0.23964450268981785, 0.360356234957942, 0.3178613959298828, 0.09178885230060786, 0.22947213075151968, 0.527385064542891, 0.1636712269271041, 0.08365418265163098, 0.22186544094563, 0.9904131473143175, 0.0077376027133931055, 0.9743961163746427, 0.9785203925891112, 0.9957715017788881, 0.2278824283486996, 0.6255596072317243, 0.09606808253915768, 0.049151111996778345, 0.17635678170867003, 0.15703001111045964, 0.3370105623062941, 0.3297630233319652, 0.9670188511032434, 0.9733603553836244, 0.9720548744501257, 0.08011981987302026, 0.9013479735714779, 0.40747584155788036, 0.15966400322267965, 0.2860646724406344, 0.14635866962078967, 0.9518680275911094, 0.9427640004123763, 0.052275980333489215, 0.9409676460028059, 0.9428685188600197, 0.016541552962456484, 0.03308310592491297, 0.9785676247232767, 0.9886618146786352, 0.009500335625944326, 0.09183657771746181, 0.7061916148618615, 0.19317349106086795, 0.30086490652134074, 0.27314293681476737, 0.23074463020471392, 0.19486913999620714, 0.9777940660384961, 0.9870049416349111, 0.21259576344729886, 0.45823427018699314, 0.0985047818905373, 0.23005230707347002, 0.9863229104919184, 0.18029084766885517, 0.8113088145098483, 0.1578925724549135, 0.009868285778432094, 0.1381560008980493, 0.6907800044902466, 0.2300071356749379, 0.2015526446636054, 0.3129994011246578, 0.2560904191019927, 0.9814777765200522, 0.17667255807264398, 0.6037010159733474, 0.14234281930023449, 0.07786989526424593, 0.024867055272472915, 0.9076475174452614, 0.07460116581741874, 0.9389769952786158, 0.04941984185676925, 0.17361206233963952, 0.755087869218815, 0.07060777654961416, 0.9818068344605042, 0.9402723904841503, 0.049488020551797386], \"Term\": [\"actually\", \"actually\", \"actually\", \"actually\", \"adjust\", \"adopt\", \"adopt\", \"adverse\", \"affordable\", \"aggressive\", \"ago\", \"ago\", \"ago\", \"ago\", \"allergic\", \"allergic\", \"along\", \"also\", \"also\", \"also\", \"also\", \"anxious\", \"anything_else\", \"apply\", \"apply\", \"around\", \"around\", \"arrive\", \"away\", \"away\", \"away\", \"away\", \"awesome\", \"back\", \"back\", \"back\", \"back\", \"bad\", \"bad\", \"bad\", \"bad\", \"behavioral\", \"best_price\", \"break\", \"break\", \"break\", \"brush\", \"brush\", \"burn\", \"buy\", \"buy\", \"buy\", \"buy\", \"call\", \"call\", \"call\", \"calm\", \"canned_food\", \"capsule\", \"capsule\", \"change\", \"change\", \"change\", \"change\", \"chew\", \"chew\", \"clean\", \"clean\", \"clean\", \"clean\", \"cold\", \"combine\", \"combine\", \"come\", \"come\", \"come\", \"come\", \"comfort_zone\", \"contain\", \"contain\", \"contain\", \"convenient\", \"crumble\", \"daily\", \"daily\", \"dead\", \"dead\", \"dental\", \"dental\", \"dental\", \"diffuser\", \"digestive\", \"disappointed\", \"dry\", \"dry\", \"dry\", \"dry_food\", \"dry_food\", \"easy\", \"easy\", \"easy\", \"easy\", \"eat\", \"eat\", \"eat\", \"eat\", \"eat_anything\", \"empty\", \"empty\", \"enjoy\", \"enjoy\", \"enjoy\", \"even\", \"even\", \"even\", \"even\", \"exact\", \"excellent\", \"expensive\", \"expensive\", \"expensive\", \"expensive\", \"fair\", \"familiar\", \"feed\", \"feed\", \"feliway\", \"feliway_diffuser\", \"feliway_spray\", \"female\", \"feral\", \"find\", \"find\", \"find\", \"find\", \"fine\", \"fine\", \"fine\", \"finicky\", \"first\", \"first\", \"first\", \"first\", \"flea_comb\", \"flea_free\", \"flea_problem\", \"flea_treatment\", \"flex\", \"frontline_plus\", \"generic\", \"gentle\", \"get\", \"get\", \"get\", \"get\", \"give\", \"give\", \"give\", \"give\", \"go\", \"go\", \"go\", \"go\", \"gobble\", \"good\", \"good\", \"good\", \"good\", \"great\", \"great\", \"great\", \"great\", \"gross\", \"growl\", \"hairball_remedy\", \"healthy\", \"healthy\", \"healthy\", \"help\", \"help\", \"help\", \"help\", \"hiss\", \"home_zone\", \"hyaluronic_acid\", \"increase\", \"infest\", \"infest\", \"ingredient\", \"inside\", \"instantly\", \"itchy\", \"joint\", \"keep\", \"keep\", \"keep\", \"keep\", \"kill\", \"kill\", \"know\", \"know\", \"know\", \"know\", \"later\", \"later\", \"later\", \"later\", \"leak\", \"lick\", \"lick\", \"lick\", \"lick\", \"litter_box\", \"litter_boxes\", \"little\", \"little\", \"little\", \"little\", \"live\", \"live\", \"live\", \"live\", \"long\", \"long\", \"long\", \"long\", \"long_time\", \"long_time\", \"look\", \"look\", \"look\", \"look\", \"love\", \"love\", \"love\", \"lucky\", \"lysine\", \"m\", \"maine_coon\", \"make\", \"make\", \"make\", \"make\", \"male\", \"male\", \"mark\", \"mellow\", \"monthly\", \"move\", \"move\", \"move\", \"move\", \"move_free\", \"much\", \"much\", \"much\", \"much\", \"multiple\", \"multiple\", \"multiple\", \"natural\", \"natural\", \"need\", \"need\", \"need\", \"need\", \"nervous\", \"nervous\", \"never\", \"never\", \"never\", \"never\", \"new\", \"new\", \"new\", \"new\", \"new_home\", \"next_time\", \"notice\", \"notice\", \"notice\", \"notice\", \"odor\", \"okay\", \"old\", \"old\", \"old\", \"old\", \"open\", \"open\", \"open\", \"open\", \"order\", \"order\", \"order\", \"order\", \"pay\", \"pay\", \"pee\", \"per_day\", \"perfectly\", \"pet\", \"pet\", \"pet\", \"pet\", \"pet_naturals\", \"picky\", \"pill_pockets\", \"play\", \"play\", \"play\", \"play\", \"plug\", \"poor\", \"poor\", \"poor\", \"prefer\", \"prefer\", \"prefer\", \"pricey\", \"puppy\", \"purchase\", \"purchase\", \"purchase\", \"purchase\", \"put\", \"put\", \"put\", \"put\", \"quickly\", \"quickly\", \"quickly\", \"quickly\", \"really\", \"really\", \"really\", \"really\", \"receive\", \"receive\", \"receive\", \"receive\", \"recommend\", \"recommend\", \"recommend\", \"recommend\", \"red\", \"refill\", \"refuse\", \"refuse\", \"refuse\", \"refuse\", \"relax\", \"renal\", \"report\", \"rosemary\", \"sad\", \"salmon_oil\", \"say\", \"say\", \"say\", \"say\", \"see\", \"see\", \"see\", \"see\", \"seem\", \"seem\", \"seem\", \"seem\", \"sell\", \"sell\", \"sell\", \"sell\", \"send\", \"senior\", \"several_times\", \"several_times\", \"severe\", \"severe\", \"shape\", \"shed\", \"ship\", \"shy\", \"side_effects\", \"skittish\", \"small\", \"small\", \"small\", \"small\", \"sneeze\", \"soft\", \"soft\", \"spray\", \"spray\", \"sprinkle\", \"squeeze\", \"squirt\", \"start\", \"start\", \"start\", \"start\", \"still\", \"still\", \"still\", \"still\", \"stop\", \"stop\", \"stop\", \"stop\", \"stress\", \"stress\", \"stressful\", \"stuff_works\", \"supplement\", \"sure\", \"sure\", \"sure\", \"sure\", \"take\", \"take\", \"take\", \"take\", \"tasty\", \"taurine\", \"territorial\", \"thank\", \"thank\", \"think\", \"think\", \"think\", \"think\", \"tick\", \"tight\", \"tired\", \"tired\", \"together\", \"together\", \"together\", \"topical\", \"track\", \"treat\", \"treat\", \"treat\", \"treat\", \"try\", \"try\", \"try\", \"try\", \"upper\", \"urinate\", \"use\", \"use\", \"use\", \"use\", \"vetri_science\", \"wait\", \"wait\", \"walk\", \"walk\", \"walk\", \"walk\", \"want\", \"want\", \"want\", \"want\", \"wash\", \"well\", \"well\", \"well\", \"well\", \"wet_food\", \"wet_food\", \"wet_food\", \"wipe\", \"wipe\", \"work\", \"work\", \"work\", \"worm\", \"worried\", \"worried\"]}, \"R\": 30, \"lambda.step\": 0.01, \"plot.opts\": {\"xlab\": \"PC1\", \"ylab\": \"PC2\"}, \"topic.order\": [1, 3, 2, 4]};\n",
       "\n",
       "function LDAvis_load_lib(url, callback){\n",
       "  var s = document.createElement('script');\n",
       "  s.src = url;\n",
       "  s.async = true;\n",
       "  s.onreadystatechange = s.onload = callback;\n",
       "  s.onerror = function(){console.warn(\"failed to load library \" + url);};\n",
       "  document.getElementsByTagName(\"head\")[0].appendChild(s);\n",
       "}\n",
       "\n",
       "if(typeof(LDAvis) !== \"undefined\"){\n",
       "   // already loaded: just create the visualization\n",
       "   !function(LDAvis){\n",
       "       new LDAvis(\"#\" + \"ldavis_el2993617954848834246715634814\", ldavis_el2993617954848834246715634814_data);\n",
       "   }(LDAvis);\n",
       "}else if(typeof define === \"function\" && define.amd){\n",
       "   // require.js is available: use it to load d3/LDAvis\n",
       "   require.config({paths: {d3: \"https://d3js.org/d3.v5\"}});\n",
       "   require([\"d3\"], function(d3){\n",
       "      window.d3 = d3;\n",
       "      LDAvis_load_lib(\"https://cdn.jsdelivr.net/gh/bmabey/pyLDAvis@3.3.1/pyLDAvis/js/ldavis.v3.0.0.js\", function(){\n",
       "        new LDAvis(\"#\" + \"ldavis_el2993617954848834246715634814\", ldavis_el2993617954848834246715634814_data);\n",
       "      });\n",
       "    });\n",
       "}else{\n",
       "    // require.js not available: dynamically load d3 & LDAvis\n",
       "    LDAvis_load_lib(\"https://d3js.org/d3.v5.js\", function(){\n",
       "         LDAvis_load_lib(\"https://cdn.jsdelivr.net/gh/bmabey/pyLDAvis@3.3.1/pyLDAvis/js/ldavis.v3.0.0.js\", function(){\n",
       "                 new LDAvis(\"#\" + \"ldavis_el2993617954848834246715634814\", ldavis_el2993617954848834246715634814_data);\n",
       "            })\n",
       "         });\n",
       "}\n",
       "</script>"
      ],
      "text/plain": [
       "<IPython.core.display.HTML object>"
      ]
     },
     "execution_count": 177,
     "metadata": {},
     "output_type": "execute_result"
    }
   ],
   "source": [
    "pyLDAvis.enable_notebook()\n",
    "topic_data =  pyLDAvis.gensim_models.prepare(cats_health_supplies_optimal_model, \n",
    "                                             cats_health_supplies_doc_term_matrix, \n",
    "                                             cats_health_supplies_dictionary, \n",
    "                                             mds = 'tsne')\n",
    "pyLDAvis.display(topic_data)"
   ]
  },
  {
   "cell_type": "markdown",
   "id": "da0eb026",
   "metadata": {},
   "source": [
    "## 7. cats treats"
   ]
  },
  {
   "cell_type": "code",
   "execution_count": 179,
   "id": "dc76fdc3",
   "metadata": {},
   "outputs": [
    {
     "data": {
      "application/vnd.jupyter.widget-view+json": {
       "model_id": "5dfff5b289bc486288c4d9a22670e800",
       "version_major": 2,
       "version_minor": 0
      },
      "text/plain": [
       "  0%|          | 0/2237 [00:00<?, ?it/s]"
      ]
     },
     "metadata": {},
     "output_type": "display_data"
    },
    {
     "data": {
      "application/vnd.jupyter.widget-view+json": {
       "model_id": "d97a8b62d66142658989e6af5e429ae4",
       "version_major": 2,
       "version_minor": 0
      },
      "text/plain": [
       "  0%|          | 0/2237 [00:00<?, ?it/s]"
      ]
     },
     "metadata": {},
     "output_type": "display_data"
    }
   ],
   "source": [
    "cats_treats_dictionary, cats_treats_doc_term_matrix = vectorize(cats_treats_reviews2)\n",
    "# cat_treats_model_list, cats_treats_coherence_values = compute_coherence_values(dictionary=cats_treats_dictionary, \n",
    "#                                                     corpus=cats_treats_doc_term_matrix, \n",
    "#                                                     texts=cats_treats_reviews2, \n",
    "#                                                     start=2, \n",
    "#                                                     limit=20, \n",
    "#                                                     step=2)\n",
    "\n",
    "# limit=20; start=2; step=2;\n",
    "# x = range(start, limit, step)\n",
    "# plt.plot(x, cats_treats_coherence_values)\n",
    "# plt.xlabel(\"Num Topics\")\n",
    "# plt.ylabel(\"Coherence score\")\n",
    "# plt.legend((\"coherence_values\"), loc='best')\n",
    "# plt.show()\n",
    "# for m, cv in zip(x, cats_treats_coherence_values):\n",
    "#     print(\"Num Topics =\", m, \" has Coherence Value of\", round(cv, 4))"
   ]
  },
  {
   "cell_type": "code",
   "execution_count": 41,
   "id": "bdc69a0f",
   "metadata": {},
   "outputs": [],
   "source": [
    "# with open ('./cat_treats_model_list.pickle', 'wb') as handle:\n",
    "#      pickle.dump(cat_treats_model_list, handle)"
   ]
  },
  {
   "cell_type": "code",
   "execution_count": 180,
   "id": "a46d18f7",
   "metadata": {},
   "outputs": [],
   "source": [
    "with open ('./model/cat_treats_model_list.pickle', 'rb') as handle:\n",
    "     cat_treats_model_list = pickle.load(handle)"
   ]
  },
  {
   "cell_type": "code",
   "execution_count": 189,
   "id": "875057cf",
   "metadata": {},
   "outputs": [
    {
     "data": {
      "text/plain": [
       "[(0,\n",
       "  '0.049*\"eat\" + 0.027*\"get\" + 0.019*\"try\" + 0.016*\"give\" + 0.016*\"use\" + 0.016*\"make\" + 0.013*\"take\" + 0.013*\"easy\" + 0.012*\"great\" + 0.012*\"buy\" + 0.011*\"much\" + 0.010*\"good\" + 0.009*\"work\" + 0.009*\"first\" + 0.009*\"even\" + 0.009*\"little\" + 0.009*\"well\" + 0.008*\"like\" + 0.008*\"pill_pockets\" + 0.008*\"put\" + 0.008*\"really\" + 0.007*\"say\" + 0.007*\"want\" + 0.007*\"keep\" + 0.007*\"actually\" + 0.006*\"also\" + 0.006*\"need\" + 0.006*\"come\" + 0.006*\"sure\" + 0.006*\"love\"'),\n",
       " (1,\n",
       "  '0.023*\"go\" + 0.020*\"try\" + 0.018*\"seem\" + 0.018*\"love\" + 0.017*\"get\" + 0.016*\"buy\" + 0.015*\"well\" + 0.014*\"really\" + 0.014*\"much\" + 0.013*\"grow\" + 0.013*\"good\" + 0.011*\"enjoy\" + 0.011*\"come\" + 0.010*\"make\" + 0.008*\"give\" + 0.008*\"also\" + 0.008*\"put\" + 0.008*\"small\" + 0.008*\"like\" + 0.008*\"think\" + 0.008*\"different\" + 0.007*\"away\" + 0.007*\"happy\" + 0.007*\"many\" + 0.006*\"scratch\" + 0.006*\"keep\" + 0.006*\"catnip\" + 0.006*\"crazy\" + 0.006*\"take\" + 0.006*\"old\"'),\n",
       " (2,\n",
       "  '0.050*\"get\" + 0.041*\"love\" + 0.028*\"give\" + 0.019*\"good\" + 0.018*\"open\" + 0.012*\"come\" + 0.012*\"know\" + 0.010*\"even\" + 0.010*\"really\" + 0.010*\"go\" + 0.010*\"buy\" + 0.009*\"come_running\" + 0.009*\"think\" + 0.009*\"recommend\" + 0.008*\"want\" + 0.007*\"keep\" + 0.007*\"say\" + 0.006*\"highly\" + 0.006*\"sure\" + 0.006*\"try\" + 0.006*\"always\" + 0.006*\"great\" + 0.006*\"well\" + 0.006*\"hear\" + 0.006*\"see\" + 0.006*\"usually\" + 0.005*\"favorite\" + 0.005*\"fresh\" + 0.005*\"big\" + 0.005*\"also\"'),\n",
       " (3,\n",
       "  '0.026*\"little\" + 0.016*\"find\" + 0.013*\"give\" + 0.013*\"love\" + 0.012*\"even\" + 0.011*\"well\" + 0.010*\"cheap\" + 0.010*\"go\" + 0.010*\"like\" + 0.010*\"natural\" + 0.010*\"know\" + 0.009*\"use\" + 0.008*\"seem\" + 0.008*\"long\" + 0.008*\"healthy\" + 0.008*\"make\" + 0.008*\"still\" + 0.007*\"small\" + 0.007*\"much\" + 0.007*\"also\" + 0.007*\"look\" + 0.007*\"gobble\" + 0.007*\"last\" + 0.006*\"think\" + 0.006*\"dental\" + 0.006*\"dry\" + 0.006*\"get\" + 0.006*\"crunchy\" + 0.005*\"help\" + 0.005*\"say\"')]"
      ]
     },
     "execution_count": 189,
     "metadata": {},
     "output_type": "execute_result"
    }
   ],
   "source": [
    "cat_treats_optimal_model = cat_treats_model_list[1]\n",
    "model_topics = cat_treats_optimal_model.show_topics(formatted=False)\n",
    "cat_treats_optimal_model.print_topics(num_topics=4, num_words=30)"
   ]
  },
  {
   "cell_type": "code",
   "execution_count": 190,
   "id": "1839ea90",
   "metadata": {},
   "outputs": [],
   "source": [
    "keywords_dict = get_keywords(cats_treats_doc_term_matrix, model = cat_treats_optimal_model)"
   ]
  },
  {
   "cell_type": "code",
   "execution_count": 191,
   "id": "f1eabdb6",
   "metadata": {},
   "outputs": [
    {
     "data": {
      "text/plain": [
       "['open', 'come_running', 'recommend', 'want', 'keep', 'say', 'highly', 'sure']"
      ]
     },
     "execution_count": 191,
     "metadata": {},
     "output_type": "execute_result"
    }
   ],
   "source": [
    "[w for w in keywords_dict[3] if w not in  keywords_dict[1]\\\n",
    "                                and w not in  keywords_dict[2]\\\n",
    "                                and w not in  keywords_dict[0]]  "
   ]
  },
  {
   "cell_type": "code",
   "execution_count": 192,
   "id": "5c36c3e5",
   "metadata": {},
   "outputs": [
    {
     "data": {
      "text/plain": [
       "['eat', 'take', 'easy', 'great', 'work', 'first', 'pill_pockets']"
      ]
     },
     "execution_count": 192,
     "metadata": {},
     "output_type": "execute_result"
    }
   ],
   "source": [
    "[w for w in keywords_dict[1] if w not in  keywords_dict[3]\\\n",
    "                                and w not in  keywords_dict[2]\\\n",
    "                                and w not in  keywords_dict[0]]  "
   ]
  },
  {
   "cell_type": "code",
   "execution_count": 193,
   "id": "fa9e9628",
   "metadata": {},
   "outputs": [
    {
     "data": {
      "text/plain": [
       "['find', 'cheap', 'natural', 'long', 'healthy', 'still']"
      ]
     },
     "execution_count": 193,
     "metadata": {},
     "output_type": "execute_result"
    }
   ],
   "source": [
    "[w for w in keywords_dict[2] if w not in  keywords_dict[1]\\\n",
    "                                and w not in  keywords_dict[0]\\\n",
    "                                and w not in  keywords_dict[3]]  "
   ]
  },
  {
   "cell_type": "code",
   "execution_count": 194,
   "id": "7637709c",
   "metadata": {},
   "outputs": [
    {
     "data": {
      "text/plain": [
       "['grow', 'enjoy']"
      ]
     },
     "execution_count": 194,
     "metadata": {},
     "output_type": "execute_result"
    }
   ],
   "source": [
    "[w for w in keywords_dict[0] if w not in  keywords_dict[1]\\\n",
    "                                and w not in  keywords_dict[2]\\\n",
    "                                and w not in  keywords_dict[3]]  "
   ]
  },
  {
   "cell_type": "code",
   "execution_count": 182,
   "id": "0243e46e",
   "metadata": {},
   "outputs": [
    {
     "name": "stderr",
     "output_type": "stream",
     "text": [
      "C:\\Users\\JiatingChen\\anaconda3\\lib\\site-packages\\pyLDAvis\\_prepare.py:246: FutureWarning: In a future version of pandas all arguments of DataFrame.drop except for the argument 'labels' will be keyword-only\n",
      "  default_term_info = default_term_info.sort_values(\n",
      "C:\\Users\\JiatingChen\\anaconda3\\lib\\site-packages\\sklearn\\manifold\\_t_sne.py:691: FutureWarning: 'square_distances' has been introduced in 0.24 to help phase out legacy squaring behavior. The 'legacy' setting will be removed in 1.1 (renaming of 0.26), and the default setting will be changed to True. In 1.3, 'square_distances' will be removed altogether, and distances will be squared by default. Set 'square_distances'=True to silence this warning.\n",
      "  warnings.warn(\n"
     ]
    },
    {
     "data": {
      "text/html": [
       "\n",
       "<link rel=\"stylesheet\" type=\"text/css\" href=\"https://cdn.jsdelivr.net/gh/bmabey/pyLDAvis@3.3.1/pyLDAvis/js/ldavis.v1.0.0.css\">\n",
       "\n",
       "\n",
       "<div id=\"ldavis_el299361797399646720839382268\"></div>\n",
       "<script type=\"text/javascript\">\n",
       "\n",
       "var ldavis_el299361797399646720839382268_data = {\"mdsDat\": {\"x\": [269.5624084472656, 1.782994270324707, 220.81143188476562, 50.533992767333984], \"y\": [-124.80339813232422, -295.0796813964844, -343.8321228027344, -76.05093383789062], \"topics\": [1, 2, 3, 4], \"cluster\": [1, 1, 1, 1], \"Freq\": [30.17117939571631, 29.53726270756041, 23.131886639071887, 17.159671257651397]}, \"tinfo\": {\"Term\": [\"eat\", \"open\", \"get\", \"love\", \"little\", \"grow\", \"come_running\", \"pill_pockets\", \"cheap\", \"enjoy\", \"easy\", \"natural\", \"find\", \"go\", \"give\", \"hear\", \"gobble\", \"walk\", \"scratch\", \"fast\", \"seem\", \"know\", \"work\", \"highly\", \"want\", \"like\", \"use\", \"healthy\", \"crunchy\", \"great\", \"pill_pockets\", \"pill_pocket\", \"eventually\", \"sick\", \"pille\", \"twice\", \"messy\", \"medicate\", \"happily\", \"perfectly\", \"generally\", \"weird\", \"handy\", \"directly\", \"possibly\", \"plenty\", \"fix\", \"taurine\", \"pill\", \"involve\", \"got\", \"count\", \"pliable\", \"interest\", \"problem\", \"young\", \"tough\", \"closed\", \"previously\", \"single\", \"eat\", \"easy\", \"female\", \"wear\", \"work\", \"refuse\", \"daily\", \"fit\", \"whole\", \"use\", \"moist\", \"take\", \"first\", \"great\", \"actually\", \"twice_day\", \"soft\", \"make\", \"try\", \"feed\", \"wet_food\", \"definitely\", \"throw\", \"need\", \"chew\", \"get\", \"want\", \"right\", \"give\", \"much\", \"hard\", \"buy\", \"put\", \"like\", \"say\", \"even\", \"sure\", \"little\", \"good\", \"well\", \"keep\", \"really\", \"also\", \"see\", \"come\", \"love\", \"cat_nip\", \"walk\", \"great_price\", \"stay\", \"heavy\", \"reach\", \"fast\", \"kibble\", \"third\", \"every_time\", \"forever\", \"rub\", \"sweet\", \"adopt\", \"climb\", \"pull\", \"cardboard\", \"certify\", \"cute\", \"admit\", \"eliminate\", \"wooden\", \"purr\", \"please\", \"originally\", \"joint\", \"disappear\", \"kinda\", \"supply\", \"luckily\", \"enjoy\", \"bottom\", \"grow\", \"stand\", \"perfect\", \"scratch\", \"sprout\", \"crazy\", \"organic\", \"different\", \"yet\", \"seem\", \"go\", \"many\", \"absolutely\", \"away\", \"save\", \"top\", \"try\", \"happy\", \"well\", \"buy\", \"really\", \"much\", \"turn\", \"catnip\", \"old\", \"love\", \"come\", \"good\", \"small\", \"put\", \"large\", \"get\", \"also\", \"make\", \"like\", \"think\", \"give\", \"keep\", \"take\", \"come_running\", \"open\", \"good_price\", \"hear\", \"total\", \"forward\", \"prime\", \"shake\", \"everyday\", \"crack\", \"foster\", \"live\", \"smoke\", \"inhale\", \"brush\", \"lid\", \"rid\", \"commercial\", \"groom\", \"hardly\", \"serve\", \"stinky\", \"reward\", \"plain\", \"medley\", \"wrap\", \"mad\", \"draw\", \"split\", \"smartbite\", \"stale\", \"whiskas_temptations\", \"highly\", \"bonito_flakes\", \"love\", \"get\", \"smell\", \"jump\", \"soon\", \"pass\", \"potent\", \"give\", \"fresh\", \"recommend\", \"special\", \"good\", \"know\", \"usually\", \"want\", \"favorite\", \"wait\", \"free\", \"nice\", \"come\", \"always\", \"even\", \"think\", \"bad\", \"really\", \"buy\", \"sure\", \"go\", \"say\", \"keep\", \"catnip\", \"big\", \"see\", \"great\", \"try\", \"well\", \"also\", \"dried_ground\", \"crude\", \"list\", \"hairball\", \"respond\", \"incline\", \"flake\", \"ok\", \"cool\", \"dangle\", \"cosmic\", \"garlic\", \"guarantee\", \"noticed\", \"sensitive\", \"ingredient\", \"rosemary\", \"gobble\", \"stuff\", \"preservative\", \"recyclable\", \"approve\", \"hunt\", \"cat_man\", \"vegetable\", \"concerned\", \"crawl\", \"cheap\", \"sprinkle\", \"arabic\", \"scratcher\", \"crunchy\", \"natural\", \"semi\", \"carry\", \"otherwise\", \"shape\", \"little\", \"ignore\", \"find\", \"human\", \"dental\", \"healthy\", \"break\", \"flat\", \"long\", \"rather\", \"pet\", \"still\", \"even\", \"like\", \"know\", \"last\", \"look\", \"well\", \"give\", \"dry\", \"love\", \"go\", \"small\", \"use\", \"purchase\", \"seem\", \"also\", \"make\", \"much\", \"think\", \"help\", \"expensive\", \"say\", \"get\"], \"Freq\": [639.0, 156.0, 951.0, 689.0, 351.0, 164.0, 79.0, 93.0, 76.0, 142.0, 171.0, 83.0, 232.0, 444.0, 588.0, 52.0, 47.0, 62.0, 90.0, 63.0, 331.0, 240.0, 134.0, 71.0, 159.0, 248.0, 306.0, 103.0, 45.0, 242.0, 92.58150694514781, 38.90903649647241, 18.436415061965626, 24.125728162911738, 15.98768085015603, 18.668667165235217, 12.5523431056715, 9.915484741915881, 13.205184736329185, 9.355844989468881, 8.473381612335496, 8.194241298807027, 9.332311374654934, 7.686022759703023, 7.47768880743715, 6.90387550343073, 6.751238548426374, 18.530842932028403, 6.454450285765031, 6.566395556539954, 6.194607872449241, 6.178525211806492, 6.270097173595999, 6.024887170150111, 5.790780245259274, 24.568861205210034, 5.920527925922289, 5.586515913811862, 5.90342543652751, 17.084345749415665, 539.2110340586163, 142.00192743670087, 13.34063453934908, 11.677417930416237, 101.49589081689476, 31.33792607585899, 49.20473381957118, 17.01045275816594, 48.01595731529773, 173.19098436593592, 16.444030304354836, 145.0720643758277, 101.23177455849837, 130.23214714489833, 72.9073687690458, 22.001674336247703, 55.8172931072629, 172.83810552191295, 206.1802445593242, 41.59958516023032, 23.044539068022253, 42.320442518087695, 26.943635212721606, 69.78139329748845, 44.46772362317248, 301.1352200277763, 76.53269582756657, 58.32701281993214, 181.49179583049212, 124.66118846664975, 49.932392620892664, 129.9695199140334, 87.4150570724825, 92.68780696614517, 82.41184701319025, 100.41397788917747, 67.96781980695883, 97.6173566947395, 108.1466943290669, 95.12577933487569, 74.64059164545479, 86.98613441966432, 71.71772883561347, 64.65090757589599, 68.74744463508209, 67.12814270530033, 44.842114904243665, 60.72727698042136, 23.374266384138632, 24.608108379413068, 26.62046056182337, 17.91083133975046, 60.50245063641751, 16.336294018069758, 15.033171312642843, 22.258304093612402, 11.509197551177976, 16.211697564289782, 9.205764521338818, 11.571870336793172, 8.637548179289068, 49.64454490751897, 8.857053511672992, 7.50578229444148, 15.708259002582873, 7.356566829586226, 7.497540104385258, 14.357209230543628, 6.948966583590245, 6.855640089060187, 6.358372255810968, 6.476117828042715, 8.757208936083659, 5.712500779137705, 5.64685746444337, 5.9059609934081445, 124.67794561072934, 16.717082312886454, 141.35500075606248, 23.37674150868764, 32.29149984126243, 70.38871053929154, 15.190358171719202, 65.56737544360203, 31.568211758072753, 83.15640516075055, 25.321508618417692, 196.71585340192453, 252.63494027326942, 72.13670018577098, 41.88165335624423, 76.16290278549242, 34.053990984332685, 58.58557043610006, 216.0577420289802, 74.97743960502254, 166.61483625573294, 176.12360676445454, 152.853741032561, 149.91547968143672, 46.00505900676152, 66.57595579689466, 62.351095347889974, 196.39061494993857, 114.39266424860779, 139.26734202346782, 87.41716756972686, 89.8145762448597, 58.6443812175621, 186.28167988492842, 89.82477031611062, 104.59913799984908, 86.0278280258428, 84.50022569631305, 90.18491359200243, 66.74036176923897, 63.00811690634422, 78.44684121447987, 153.01888209455478, 24.672919204795782, 50.473195898947594, 16.1123423461081, 12.813725060852217, 11.673002097221268, 26.220870440782907, 9.957928423874367, 9.583496946293051, 8.82716490389011, 23.332598089601493, 8.627859094204958, 8.490740843441296, 8.47181294556549, 8.466047369134001, 8.329491009370109, 7.491184817839536, 7.536771322037702, 7.211679721073642, 23.0117434638923, 6.361278999196196, 6.360166118080252, 7.153049814161269, 6.098505767756747, 6.038595502516859, 5.672841128275888, 5.667098344601003, 5.651178595102265, 5.138898012061823, 16.22989450181103, 16.747645841931234, 54.907893362413056, 32.668978941758176, 345.1574599159901, 427.4474135872583, 41.85636849893915, 11.926655748545421, 34.54906622698424, 16.87934040761247, 15.566185285322343, 235.8737473013365, 45.876788782321185, 75.66398437160427, 24.591251766892892, 157.97999710059722, 100.07583534225354, 47.798420325911096, 70.71228772898655, 46.75614522399094, 32.23582539524865, 33.951840508542254, 42.46523636105888, 100.2318804999036, 51.3095315080213, 87.08931542061532, 77.5885650997009, 40.76228843422551, 86.86080911675171, 83.16454543581825, 54.20630456642673, 83.52928503689562, 57.294762725896106, 58.30139788440236, 44.7719069329559, 45.23421935208834, 49.5867637928363, 51.12098982538992, 53.647247796392314, 50.84453945350372, 44.9855999270055, 21.15375544944654, 16.00468820254755, 15.914250461055166, 13.400058899471997, 12.25883137497052, 11.232792107158422, 20.149401185117906, 9.944880214731365, 9.695897442007345, 9.511545507009792, 11.780473342333885, 7.2034107325446275, 6.878812739354636, 6.792181525356911, 8.30366625948196, 17.791718331637714, 5.90094170271912, 42.00840811235472, 5.746420063719665, 5.211561048042424, 5.207224855993906, 5.056922522625115, 5.009905144826844, 17.11490333444772, 4.735048203511542, 6.476777861903431, 4.60206674645896, 66.07932362190907, 19.03526484470933, 4.213784769040591, 9.961193588936444, 36.00796519238393, 63.03350175626637, 9.858693757229249, 16.03782954525015, 19.263877034799727, 7.966532014193404, 165.5567930821199, 19.600501096604063, 100.49578393255868, 20.15058328172111, 37.84315546616894, 51.46758629876162, 22.823706555389958, 17.195005082009075, 53.02351360138597, 22.934238468867452, 25.59196802184528, 48.463611240980214, 75.55352208057761, 63.94254580628791, 60.862713668723096, 41.82039006059088, 44.11802711149025, 69.07319204778693, 81.12960114161348, 37.620580202263575, 80.9778164091151, 65.83362984184845, 46.96473333188526, 55.731297006054824, 31.533606046614736, 53.576558379358076, 45.125655665788216, 51.433399594510654, 46.60612286136904, 38.50818772433144, 32.68274803133396, 27.72313822994823, 32.65670073852, 37.05681421977582], \"Total\": [639.0, 156.0, 951.0, 689.0, 351.0, 164.0, 79.0, 93.0, 76.0, 142.0, 171.0, 83.0, 232.0, 444.0, 588.0, 52.0, 47.0, 62.0, 90.0, 63.0, 331.0, 240.0, 134.0, 71.0, 159.0, 248.0, 306.0, 103.0, 45.0, 242.0, 93.69219760156467, 40.29332897198874, 19.151224580363518, 25.174322247543166, 16.692336517595336, 19.643150363049852, 13.266232046406735, 10.61858787492205, 14.142209106391872, 10.055285485449746, 9.17369319311701, 8.926233802812323, 10.171038678359237, 8.382340866218096, 8.176140627696064, 7.604126121167169, 7.452235475345632, 20.48001346784318, 7.148224235463604, 7.298761632887459, 6.889313814377881, 6.887912804785941, 6.994798936184511, 6.743568135142019, 6.493302694576677, 27.568759086642764, 6.643882715271645, 6.280997226887566, 6.643708465548158, 19.269488873076362, 639.9616095783665, 171.81149750248107, 15.277732026716102, 13.349635423462765, 134.2999497416451, 40.46957393723133, 67.51474828651496, 21.40912631678607, 69.29878991239673, 306.9729469789509, 20.713476894129933, 256.66456935035154, 170.41084164684253, 242.6532781715705, 126.58168669950399, 29.51136662238466, 91.87406368692314, 373.2025111082457, 502.561878958843, 66.27917338906478, 31.48600959745955, 68.93088769168605, 38.560833998314365, 132.99156339326788, 73.96854581578626, 951.9211277197388, 159.1132037640261, 109.99527942557538, 588.6800578654445, 354.36912390457746, 92.1483366199732, 413.7859281553244, 223.14148515603904, 248.1947539447084, 211.8839860563486, 313.923317646045, 168.77454683021685, 351.9673496208254, 433.5435850975684, 381.65834709189926, 230.08853124013265, 354.3796794302503, 251.6537547445178, 181.61810771836898, 306.0834967399984, 689.6540339803441, 45.54812456895978, 62.38073200824249, 24.08059637923005, 25.414769243082375, 27.508129945556483, 18.660832747421722, 63.145730304533245, 17.120274702635253, 15.799161200605363, 23.5191420294603, 12.222751284623143, 17.34549290994862, 9.91646421471792, 12.539924017895952, 9.360493232242607, 53.83145429851804, 9.613860489076846, 8.206761837726427, 17.190153611574253, 8.057278322579775, 8.213976971973926, 15.754913021572696, 7.651888486074833, 7.562331901970464, 7.060516071203443, 7.2014984255313585, 9.762013325011337, 6.415953073656353, 6.347828559585522, 6.645914947848177, 142.39262628488964, 18.86937522031048, 164.21290195467404, 27.72482341018617, 39.06928380067822, 90.9235251760831, 17.78248340337072, 88.4948942253538, 39.86212475208637, 117.34440883506723, 31.5145076029767, 331.8314737581901, 444.05043040658643, 111.91278272903524, 58.9676994908777, 122.2494478694055, 46.713786324941815, 92.26435276951725, 502.561878958843, 131.21338780451725, 381.65834709189926, 413.7859281553244, 354.3796794302503, 354.36912390457746, 70.8945927443602, 127.60443007389352, 116.66039985377859, 689.6540339803441, 306.0834967399984, 433.5435850975684, 204.3676736754151, 223.14148515603904, 109.52520286155932, 951.9211277197388, 251.6537547445178, 373.2025111082457, 248.1947539447084, 264.6516391448076, 588.6800578654445, 230.08853124013265, 256.66456935035154, 79.16044058188206, 156.89104564089936, 25.485448479863184, 52.756284778074885, 16.87285392936383, 13.526579379687544, 12.396088889903188, 27.904886108756155, 10.684757138384184, 10.289232613220229, 9.540021108797214, 25.222504375424915, 9.334553332816771, 9.195890337952392, 9.187490260462878, 9.187182192199314, 9.040827527547984, 8.204191956544657, 8.262596848843742, 7.9266079922036665, 25.374596388359205, 7.073528963922517, 7.081123646540662, 7.970194831900899, 6.823681364660806, 6.77938058159031, 6.383688758833466, 6.391003174320046, 6.383601418185446, 5.840878076759701, 18.533145343047973, 19.89979761813152, 71.93982697201308, 41.443353294312004, 689.6540339803441, 951.9211277197388, 63.998586141402946, 14.906913968329663, 53.145306546737174, 22.599405775039717, 20.477622537854884, 588.6800578654445, 79.870732013836, 154.45466051261005, 37.18333381459038, 433.5435850975684, 240.30593077157332, 90.64809636198056, 159.1132037640261, 93.95883722628487, 56.78519706208467, 61.82905283966851, 85.60517375778089, 306.0834967399984, 118.19927543924375, 313.923317646045, 264.6516391448076, 89.60125221234479, 354.3796794302503, 413.7859281553244, 168.77454683021685, 444.05043040658643, 211.8839860563486, 230.08853124013265, 127.60443007389352, 131.778742067299, 181.61810771836898, 242.6532781715705, 502.561878958843, 381.65834709189926, 251.6537547445178, 21.84938841118065, 16.705346408896926, 16.70250784688613, 14.128178140335384, 12.982991901266834, 11.943708762435342, 21.439718087647023, 10.66320506319207, 10.440116600760632, 10.247829188779926, 12.836578248156142, 7.898533332705757, 7.599178494665808, 7.510028978520314, 9.22884604229345, 19.843765052708946, 6.603933055014565, 47.02941524241588, 6.454757569801341, 5.905632582408392, 5.90527424704649, 5.763704784644782, 5.756139918733824, 19.68186338066352, 5.457597041555334, 7.466189084467385, 5.310251409358325, 76.3935777996854, 22.12681828233801, 4.909031110738749, 11.972226326218998, 45.92764345519747, 83.62725329883986, 11.932439111988739, 21.102499201922928, 26.50584941528418, 9.61366064487492, 351.9673496208254, 28.439223887047298, 232.4824453869093, 30.73341338859091, 68.35443631594939, 103.12111205346056, 37.45204529486131, 26.1438781037156, 132.65323370741908, 39.579510691926686, 48.14805392240275, 143.50508936070128, 313.923317646045, 248.1947539447084, 240.30593077157332, 124.58425052236844, 152.05824571203755, 381.65834709189926, 588.6800578654445, 118.81644024106208, 689.6540339803441, 444.05043040658643, 204.3676736754151, 306.9729469789509, 84.87717296106077, 331.8314737581901, 251.6537547445178, 373.2025111082457, 354.36912390457746, 264.6516391448076, 143.19389617407893, 74.55324309455781, 211.8839860563486, 951.9211277197388], \"Category\": [\"Default\", \"Default\", \"Default\", \"Default\", \"Default\", \"Default\", \"Default\", \"Default\", \"Default\", \"Default\", \"Default\", \"Default\", \"Default\", \"Default\", \"Default\", \"Default\", \"Default\", \"Default\", \"Default\", \"Default\", \"Default\", \"Default\", \"Default\", \"Default\", \"Default\", \"Default\", \"Default\", \"Default\", \"Default\", \"Default\", \"Topic1\", \"Topic1\", \"Topic1\", \"Topic1\", \"Topic1\", \"Topic1\", \"Topic1\", \"Topic1\", \"Topic1\", \"Topic1\", \"Topic1\", \"Topic1\", \"Topic1\", \"Topic1\", \"Topic1\", \"Topic1\", \"Topic1\", \"Topic1\", \"Topic1\", \"Topic1\", \"Topic1\", \"Topic1\", \"Topic1\", \"Topic1\", \"Topic1\", \"Topic1\", \"Topic1\", \"Topic1\", \"Topic1\", \"Topic1\", \"Topic1\", \"Topic1\", \"Topic1\", \"Topic1\", \"Topic1\", \"Topic1\", \"Topic1\", \"Topic1\", \"Topic1\", \"Topic1\", \"Topic1\", \"Topic1\", \"Topic1\", \"Topic1\", \"Topic1\", \"Topic1\", \"Topic1\", \"Topic1\", \"Topic1\", \"Topic1\", \"Topic1\", \"Topic1\", \"Topic1\", \"Topic1\", \"Topic1\", \"Topic1\", \"Topic1\", \"Topic1\", \"Topic1\", \"Topic1\", \"Topic1\", \"Topic1\", \"Topic1\", \"Topic1\", \"Topic1\", \"Topic1\", \"Topic1\", \"Topic1\", \"Topic1\", \"Topic1\", \"Topic1\", \"Topic1\", \"Topic1\", \"Topic1\", \"Topic1\", \"Topic1\", \"Topic2\", \"Topic2\", \"Topic2\", \"Topic2\", \"Topic2\", \"Topic2\", \"Topic2\", \"Topic2\", \"Topic2\", \"Topic2\", \"Topic2\", \"Topic2\", \"Topic2\", \"Topic2\", \"Topic2\", \"Topic2\", \"Topic2\", \"Topic2\", \"Topic2\", \"Topic2\", \"Topic2\", \"Topic2\", \"Topic2\", \"Topic2\", \"Topic2\", \"Topic2\", \"Topic2\", \"Topic2\", \"Topic2\", \"Topic2\", \"Topic2\", \"Topic2\", \"Topic2\", \"Topic2\", \"Topic2\", \"Topic2\", \"Topic2\", \"Topic2\", \"Topic2\", \"Topic2\", \"Topic2\", \"Topic2\", \"Topic2\", \"Topic2\", \"Topic2\", \"Topic2\", \"Topic2\", \"Topic2\", \"Topic2\", \"Topic2\", \"Topic2\", \"Topic2\", \"Topic2\", \"Topic2\", \"Topic2\", \"Topic2\", \"Topic2\", \"Topic2\", \"Topic2\", \"Topic2\", \"Topic2\", \"Topic2\", \"Topic2\", \"Topic2\", \"Topic2\", \"Topic2\", \"Topic2\", \"Topic2\", \"Topic2\", \"Topic2\", \"Topic2\", \"Topic3\", \"Topic3\", \"Topic3\", \"Topic3\", \"Topic3\", \"Topic3\", \"Topic3\", \"Topic3\", \"Topic3\", \"Topic3\", \"Topic3\", \"Topic3\", \"Topic3\", \"Topic3\", \"Topic3\", \"Topic3\", \"Topic3\", \"Topic3\", \"Topic3\", \"Topic3\", \"Topic3\", \"Topic3\", \"Topic3\", \"Topic3\", \"Topic3\", \"Topic3\", \"Topic3\", \"Topic3\", \"Topic3\", \"Topic3\", \"Topic3\", \"Topic3\", \"Topic3\", \"Topic3\", \"Topic3\", \"Topic3\", \"Topic3\", \"Topic3\", \"Topic3\", \"Topic3\", \"Topic3\", \"Topic3\", \"Topic3\", \"Topic3\", \"Topic3\", \"Topic3\", \"Topic3\", \"Topic3\", \"Topic3\", \"Topic3\", \"Topic3\", \"Topic3\", \"Topic3\", \"Topic3\", \"Topic3\", \"Topic3\", \"Topic3\", \"Topic3\", \"Topic3\", \"Topic3\", \"Topic3\", \"Topic3\", \"Topic3\", \"Topic3\", \"Topic3\", \"Topic3\", \"Topic3\", \"Topic3\", \"Topic3\", \"Topic3\", \"Topic3\", \"Topic4\", \"Topic4\", \"Topic4\", \"Topic4\", \"Topic4\", \"Topic4\", \"Topic4\", \"Topic4\", \"Topic4\", \"Topic4\", \"Topic4\", \"Topic4\", \"Topic4\", \"Topic4\", \"Topic4\", \"Topic4\", \"Topic4\", \"Topic4\", \"Topic4\", \"Topic4\", \"Topic4\", \"Topic4\", \"Topic4\", \"Topic4\", \"Topic4\", \"Topic4\", \"Topic4\", \"Topic4\", \"Topic4\", \"Topic4\", \"Topic4\", \"Topic4\", \"Topic4\", \"Topic4\", \"Topic4\", \"Topic4\", \"Topic4\", \"Topic4\", \"Topic4\", \"Topic4\", \"Topic4\", \"Topic4\", \"Topic4\", \"Topic4\", \"Topic4\", \"Topic4\", \"Topic4\", \"Topic4\", \"Topic4\", \"Topic4\", \"Topic4\", \"Topic4\", \"Topic4\", \"Topic4\", \"Topic4\", \"Topic4\", \"Topic4\", \"Topic4\", \"Topic4\", \"Topic4\", \"Topic4\", \"Topic4\", \"Topic4\", \"Topic4\", \"Topic4\", \"Topic4\", \"Topic4\", \"Topic4\", \"Topic4\", \"Topic4\", \"Topic4\"], \"logprob\": [30.0, 29.0, 28.0, 27.0, 26.0, 25.0, 24.0, 23.0, 22.0, 21.0, 20.0, 19.0, 18.0, 17.0, 16.0, 15.0, 14.0, 13.0, 12.0, 11.0, 10.0, 9.0, 8.0, 7.0, 6.0, 5.0, 4.0, 3.0, 2.0, 1.0, -4.7869, -5.6537, -6.4006, -6.1317, -6.5432, -6.3881, -6.7851, -7.0209, -6.7344, -7.079, -7.178, -7.2115, -7.0815, -7.2756, -7.303, -7.3829, -7.4052, -6.3955, -7.4502, -7.433, -7.4913, -7.4939, -7.4792, -7.5191, -7.5587, -6.1135, -7.5365, -7.5946, -7.5394, -6.4768, -3.0249, -4.3591, -6.7242, -6.8573, -4.695, -5.8701, -5.419, -6.4811, -5.4434, -4.1606, -6.515, -4.3377, -4.6976, -4.4457, -5.0258, -6.2239, -5.2929, -4.1626, -3.9862, -5.5869, -6.1775, -5.5697, -6.0212, -5.0696, -5.5202, -3.6074, -4.9773, -5.2489, -4.1138, -4.4894, -5.4043, -4.4477, -4.8443, -4.7857, -4.9032, -4.7057, -5.0959, -4.7339, -4.6315, -4.7598, -5.0023, -4.8492, -5.0422, -5.146, -5.0845, -5.1084, -5.4906, -5.1873, -6.1421, -6.0907, -6.0121, -6.4083, -5.1911, -6.5003, -6.5835, -6.191, -6.8506, -6.508, -7.0739, -6.8452, -7.1376, -5.3888, -7.1125, -7.2781, -6.5395, -7.2981, -7.2792, -6.6295, -7.3551, -7.3687, -7.444, -7.4256, -7.1239, -7.5511, -7.5626, -7.5178, -4.468, -6.4773, -4.3425, -6.142, -5.8189, -5.0397, -6.5731, -5.1107, -5.8416, -4.873, -6.0621, -4.012, -3.7618, -5.0152, -5.5589, -4.9609, -5.7658, -5.2232, -3.9182, -4.9765, -4.1781, -4.1225, -4.2643, -4.2837, -5.465, -5.0954, -5.161, -4.0136, -4.5541, -4.3573, -4.823, -4.796, -5.2222, -4.0665, -4.7959, -4.6436, -4.8391, -4.857, -4.7919, -5.0929, -5.1505, -4.6869, -4.0187, -5.8436, -5.1279, -6.2697, -6.4988, -6.592, -5.7827, -6.7509, -6.7893, -6.8715, -5.8994, -6.8943, -6.9103, -6.9126, -6.9132, -6.9295, -7.0356, -7.0295, -7.0736, -5.9133, -7.1991, -7.1992, -7.0818, -7.2413, -7.2511, -7.3136, -7.3146, -7.3174, -7.4125, -6.2624, -6.231, -5.0436, -5.5629, -3.2053, -2.9915, -5.3151, -6.5705, -5.5069, -6.2232, -6.3042, -3.586, -5.2233, -4.723, -5.8469, -3.9868, -4.4434, -5.1823, -4.7907, -5.2043, -5.5762, -5.5244, -5.3006, -4.4418, -5.1114, -4.5824, -4.6979, -5.3415, -4.585, -4.6285, -5.0565, -4.6241, -5.0011, -4.9837, -5.2477, -5.2374, -5.1456, -5.1151, -5.0669, -5.1205, -5.243, -5.6988, -5.9778, -5.9834, -6.1554, -6.2444, -6.3318, -5.7475, -6.4536, -6.4789, -6.4981, -6.2842, -6.7761, -6.8222, -6.8349, -6.6339, -5.8719, -6.9755, -5.0128, -7.0021, -7.0998, -7.1006, -7.1299, -7.1392, -5.9107, -7.1957, -6.8824, -7.2241, -4.5598, -5.8044, -7.3123, -6.4519, -5.1669, -4.607, -6.4623, -5.9757, -5.7924, -6.6754, -3.6413, -5.7751, -4.1405, -5.7474, -5.1172, -4.8097, -5.6228, -5.906, -4.7799, -5.618, -5.5084, -4.8698, -4.4258, -4.5927, -4.642, -5.0173, -4.9638, -4.5155, -4.3546, -5.1231, -4.3565, -4.5635, -4.9012, -4.7301, -5.2996, -4.7695, -4.9412, -4.8104, -4.9089, -5.0998, -5.2638, -5.4284, -5.2646, -5.1382], \"loglift\": [30.0, 29.0, 28.0, 27.0, 26.0, 25.0, 24.0, 23.0, 22.0, 21.0, 20.0, 19.0, 18.0, 17.0, 16.0, 15.0, 14.0, 13.0, 12.0, 11.0, 10.0, 9.0, 8.0, 7.0, 6.0, 5.0, 4.0, 3.0, 2.0, 1.0, 1.1864, 1.1633, 1.1602, 1.1557, 1.1552, 1.1474, 1.143, 1.1298, 1.1297, 1.1262, 1.1189, 1.1127, 1.1122, 1.1116, 1.109, 1.1017, 1.0995, 1.0983, 1.0962, 1.0925, 1.092, 1.0896, 1.0889, 1.0856, 1.0838, 1.0831, 1.083, 1.0811, 1.0801, 1.0779, 1.027, 1.0077, 1.0627, 1.0645, 0.9182, 0.9426, 0.8819, 0.9683, 0.8314, 0.6259, 0.9675, 0.6277, 0.6775, 0.576, 0.6466, 0.9046, 0.6999, 0.4285, 0.3073, 0.7325, 0.8862, 0.7104, 0.8398, 0.5534, 0.6894, 0.0474, 0.4664, 0.5639, 0.0216, 0.1535, 0.5856, 0.0402, 0.2611, 0.2133, 0.254, 0.0584, 0.2888, -0.0842, -0.1902, -0.191, 0.0725, -0.2063, -0.057, 0.1654, -0.2951, -1.1313, 1.2039, 1.1927, 1.1897, 1.1873, 1.1867, 1.1785, 1.1768, 1.1726, 1.1698, 1.1644, 1.1594, 1.1519, 1.1452, 1.1392, 1.1391, 1.1385, 1.1375, 1.1302, 1.1294, 1.1285, 1.1283, 1.1266, 1.1232, 1.1214, 1.1148, 1.1133, 1.1109, 1.1034, 1.1025, 1.1015, 1.0867, 1.0984, 1.0696, 1.0489, 1.029, 0.9635, 1.062, 0.9197, 0.9862, 0.8751, 1.0007, 0.6967, 0.6555, 0.7804, 0.8774, 0.7463, 0.9034, 0.7653, 0.3753, 0.6599, 0.3907, 0.3654, 0.3786, 0.3593, 0.7871, 0.5689, 0.593, -0.0366, 0.2353, 0.0839, 0.3703, 0.3095, 0.5949, -0.4117, 0.1893, -0.0525, 0.16, 0.0779, -0.6565, -0.0181, -0.185, 1.4549, 1.439, 1.4316, 1.4197, 1.4178, 1.4098, 1.4039, 1.4017, 1.3935, 1.3929, 1.3863, 1.3861, 1.3852, 1.3842, 1.3829, 1.3822, 1.382, 1.373, 1.372, 1.3694, 1.3662, 1.3578, 1.3566, 1.3558, 1.3516, 1.3482, 1.3459, 1.3437, 1.3421, 1.3359, 1.3313, 1.2915, 1.1938, 1.2261, 0.7718, 0.6633, 1.0393, 1.2409, 1.0333, 1.1721, 1.1897, 0.5494, 0.9095, 0.7504, 1.0505, 0.4544, 0.588, 0.824, 0.653, 0.766, 0.8978, 0.8645, 0.7629, 0.3476, 0.6295, 0.1817, 0.237, 0.6763, 0.0579, -0.1406, 0.3282, -0.2068, 0.1561, 0.0911, 0.4166, 0.3947, 0.1658, -0.0935, -0.7733, -0.5518, -0.2578, 1.7303, 1.7198, 1.7143, 1.7097, 1.7052, 1.7012, 1.7005, 1.6929, 1.6887, 1.688, 1.6768, 1.6705, 1.663, 1.6621, 1.657, 1.6535, 1.6501, 1.6497, 1.6464, 1.6376, 1.6368, 1.6318, 1.6238, 1.6229, 1.6206, 1.6204, 1.6195, 1.6176, 1.6121, 1.6099, 1.5787, 1.5193, 1.4799, 1.5717, 1.4882, 1.4435, 1.5747, 1.0084, 1.3904, 0.9239, 1.3405, 1.1714, 1.0677, 1.2673, 1.3436, 0.8456, 1.2169, 1.1306, 0.6771, 0.3383, 0.4064, 0.3893, 0.671, 0.5252, 0.0532, -0.2192, 0.6126, -0.3794, -0.1462, 0.2921, 0.0564, 0.7725, -0.0609, 0.044, -0.2192, -0.266, -0.1649, 0.2853, 0.7734, -0.1074, -1.4834]}, \"token.table\": {\"Topic\": [1, 2, 3, 1, 2, 3, 4, 2, 2, 1, 2, 3, 4, 1, 2, 3, 4, 4, 1, 2, 3, 4, 1, 2, 3, 4, 1, 2, 3, 4, 2, 3, 4, 1, 2, 4, 2, 3, 4, 3, 1, 2, 3, 4, 2, 2, 4, 3, 4, 2, 2, 3, 4, 2, 1, 2, 3, 4, 1, 2, 2, 1, 1, 2, 3, 4, 3, 3, 4, 4, 2, 4, 1, 3, 4, 1, 2, 3, 4, 4, 1, 3, 4, 2, 4, 1, 2, 3, 4, 4, 1, 2, 3, 4, 1, 2, 3, 4, 1, 2, 3, 4, 1, 2, 4, 3, 4, 1, 2, 3, 4, 1, 2, 3, 4, 1, 2, 3, 4, 2, 1, 2, 3, 4, 1, 2, 3, 4, 1, 2, 4, 3, 1, 2, 3, 4, 1, 2, 1, 2, 3, 1, 3, 4, 1, 4, 1, 2, 3, 4, 1, 2, 3, 4, 1, 2, 4, 1, 3, 4, 1, 4, 2, 3, 3, 1, 2, 3, 4, 1, 2, 3, 4, 4, 1, 1, 2, 3, 4, 1, 2, 3, 4, 1, 2, 3, 4, 1, 2, 3, 4, 1, 2, 3, 4, 3, 1, 1, 2, 3, 4, 2, 3, 1, 2, 4, 4, 1, 1, 1, 2, 3, 4, 1, 2, 3, 4, 3, 1, 2, 3, 4, 1, 3, 4, 2, 1, 2, 3, 4, 1, 2, 3, 2, 3, 4, 4, 1, 2, 3, 4, 4, 1, 2, 4, 3, 1, 1, 2, 3, 4, 1, 2, 3, 4, 2, 2, 1, 2, 3, 4, 1, 2, 3, 4, 1, 2, 3, 4, 3, 1, 2, 3, 4, 4, 1, 2, 3, 4, 3, 4, 1, 2, 3, 4, 1, 2, 3, 4, 1, 2, 3, 4, 2, 3, 1, 2, 3, 4, 1, 2, 3, 4, 1, 3, 1, 1, 4, 1, 2, 3, 4, 2, 3, 4, 1, 2, 3, 4, 1, 2, 3, 4, 4, 4, 1, 2, 3, 4, 2, 3, 4, 1, 2, 3, 2, 1, 3, 4, 2, 3, 2, 3, 1, 1, 3, 4, 1, 1, 3, 1, 3, 1, 3, 2, 1, 1, 1, 1, 3, 4, 1, 3, 1, 1, 2, 1, 2, 3, 4, 2, 1, 2, 3, 4, 1, 2, 3, 4, 2, 1, 2, 3, 4, 1, 2, 3, 4, 4, 1, 2, 3, 4, 3, 3, 1, 2, 3, 4, 4, 2, 4, 1, 2, 3, 4, 1, 2, 3, 4, 2, 3, 4, 1, 4, 1, 2, 3, 4, 1, 2, 3, 4, 2, 4, 4, 2, 3, 1, 3, 1, 4, 1, 3, 1, 2, 4, 1, 2, 3, 4, 3, 1, 2, 3, 4, 3, 1, 2, 3, 4, 1, 2, 3, 1, 3, 4, 3, 2, 4, 1, 2, 2, 3, 1, 2, 4, 2, 1, 2, 3, 4, 3, 4, 2, 1, 2, 3, 4, 2, 1, 2, 3, 4, 1, 2, 1, 2, 3, 4, 2, 1, 2, 3, 4, 1, 2, 3, 4, 3, 1, 1, 2, 3, 4, 1, 2, 3, 1, 3, 1, 3, 1, 2, 3, 4, 1, 2, 3, 4, 4, 1, 2, 3, 4, 1, 2, 1, 2, 3, 4, 1, 4, 1, 1, 2, 3, 4, 1, 2, 4, 3, 4, 1, 2, 4, 1, 2, 1, 2, 3, 4, 3, 1, 2, 3, 4, 1, 3], \"Freq\": [0.08479218357116848, 0.7122543419978152, 0.20350124057080435, 0.5767026961277334, 0.16590077559838906, 0.11850055399884933, 0.1422006647986192, 0.8687797193728743, 0.9569435973355647, 0.2861073941578791, 0.3576342426973489, 0.17881712134867445, 0.17881712134867445, 0.2622689511826532, 0.30457039492179083, 0.4314747261392037, 0.8674975882388382, 0.8148247403137864, 0.29447985759786377, 0.621679699373268, 0.024539988133155312, 0.049079976266310624, 0.27901395775979604, 0.2455322828286205, 0.4575828907260655, 0.011160558310391842, 0.25041975270295874, 0.26559670741222896, 0.3414814809585801, 0.14418106973806716, 0.09651728641728878, 0.7962676129426324, 0.09651728641728878, 0.052995925319436504, 0.9009307304304206, 0.052995925319436504, 0.32040973745288315, 0.05340162290881386, 0.6141186634513595, 0.8707492223885034, 0.31417211450265026, 0.4253407088651265, 0.2005868115670767, 0.060417714327432745, 0.9361483880721687, 0.23693876029358568, 0.7582040329394742, 0.10161639481579288, 0.8637393559342395, 0.987966034295662, 0.52506014063306, 0.3526523332610104, 0.1253874962705815, 0.9748059171431118, 0.0654505279633675, 0.052360422370694, 0.0130901055926735, 0.863946969116451, 0.5948474383906245, 0.3920585389392752, 0.9614877952156545, 0.9552623227272449, 0.2254286844436171, 0.37244739168945434, 0.32670823832408274, 0.07514289481453904, 0.985340650287542, 0.8532223571897233, 0.8036228298158647, 0.9578437083041231, 0.07790238026583454, 0.9348285631900145, 0.8710911665186889, 0.9718897779754143, 0.9415750055050943, 0.06780052174220237, 0.7458057391642261, 0.1582012173984722, 0.033900260871101186, 0.9577772054746932, 0.10886689635790943, 0.10886689635790943, 0.7838416537769479, 0.9307653882294039, 0.058172836764337744, 0.7257673507432302, 0.14811578586596535, 0.0444347357597896, 0.07405789293298268, 0.9758164208034158, 0.609305949864704, 0.21760926780882284, 0.08704370712352913, 0.07253642260294095, 0.08777777015476607, 0.24870368210517052, 0.11703702687302142, 0.5559258776468518, 0.06817538287013193, 0.7073195972776187, 0.16191653431656333, 0.06817538287013193, 0.9543873397276198, 0.9219409665156904, 0.10243788516841004, 0.93881974963005, 0.9611253003884536, 0.2188249365765344, 0.2440739677199807, 0.2272412802910165, 0.3198210611503195, 0.826487179636796, 0.10476598051734033, 0.06402365476059688, 0.005820332250963352, 0.8422380216761999, 0.09063043646979516, 0.03593965584147049, 0.031251874644756955, 0.8522059440736183, 0.07725119120980278, 0.8778544455659407, 0.021068506693582578, 0.021068506693582578, 0.318549130882823, 0.16246005675023972, 0.277137743868056, 0.24209733947094544, 0.9398876779115257, 0.9354082718001614, 0.042518557809098245, 0.9359127091504733, 0.06706616362293415, 0.2146117235933893, 0.3487440508392576, 0.37557051628843124, 0.0316727669528025, 0.9660193920604763, 0.07450070910457966, 0.4257183377404552, 0.5002190468450349, 0.6336832198171238, 0.2866662184886989, 0.0754384785496576, 0.850911639061803, 0.06545474146629254, 0.2322756021863518, 0.17635740166000785, 0.16345320153854387, 0.43014000404879965, 0.592685295277816, 0.1525724522497348, 0.14083610976898597, 0.1173634248074883, 0.7940538884424702, 0.04670905226132178, 0.14012715678396534, 0.939315460865163, 0.046642404340949455, 0.932848086818989, 0.3059989787384692, 0.650247829819247, 0.9817756837690564, 0.961070765571502, 0.9433941390025604, 0.11321538465342484, 0.2264307693068497, 0.5499032968880635, 0.12938901103248554, 0.05008092325117391, 0.26292484706866304, 0.5759306173884999, 0.1126820773151413, 0.8862404835357007, 0.8720588133471012, 0.3162026676737648, 0.1953943394927583, 0.44856657507208497, 0.03886876645823687, 0.3074675243056585, 0.1528844043508799, 0.4008968825200851, 0.13759596391579193, 0.09458385157186648, 0.5697551058971957, 0.18916770314373296, 0.1486317667557902, 0.042526575967208664, 0.042526575967208664, 0.042526575967208664, 0.8930580953113819, 0.24910990200834077, 0.3206136701774015, 0.36443856034553557, 0.06458404866882908, 0.9809519349739224, 0.870914021579058, 0.535743843971818, 0.25138749601754534, 0.21017643109663628, 0.004121106492090907, 0.9551258464610916, 0.9682186056456948, 0.13397242079110463, 0.8586414241611706, 0.9211522015062026, 0.920146948238536, 0.8848653794965073, 0.9192340391943699, 0.10669642964220473, 0.5715880159403826, 0.25911990055964007, 0.06096938836697413, 0.5426033918138299, 0.19533722105297874, 0.16278101754414895, 0.09766861052648937, 0.8831015747069811, 0.2133413765805265, 0.23273604717875618, 0.058184011794689044, 0.49456410025485686, 0.01895508761101374, 0.947754380550687, 0.01895508761101374, 0.9815280083901682, 0.3282262809782249, 0.13967075786307445, 0.30727566729876377, 0.23045675047407282, 0.013900506049160117, 0.22240809678656187, 0.7645278327038064, 0.26030300958922514, 0.09761362859595943, 0.6507575239730629, 0.8686376756977526, 0.035162703594574955, 0.17581351797287478, 0.14065081437829982, 0.7032540718914991, 0.9209869579704221, 0.050393662560698695, 0.050393662560698695, 0.9070859260925765, 0.8699538278510316, 0.889736691282595, 0.9590668050397385, 0.8331599405379713, 0.8049955896635937, 0.13416593161059898, 0.3259614879358155, 0.2911922625559952, 0.2520768840036973, 0.13038459517432618, 0.9345644434979298, 0.9351689345478165, 0.21639083077574744, 0.11651813964847939, 0.41613621303028353, 0.25384308994847293, 0.2830398774899713, 0.5386887990938163, 0.036521274514835, 0.15521541668804875, 0.21672081251676586, 0.2648809930760472, 0.184614025477245, 0.3371212639149691, 0.8707784206992943, 0.37470574426693193, 0.3465020860963027, 0.024174564146253675, 0.2578620175600392, 0.9579399780364659, 0.2784349176296479, 0.14774097670144581, 0.10228221463946248, 0.471634656393077, 0.9118840721625419, 0.03964713357228443, 0.18846129341362441, 0.24876890730598425, 0.1658459382039895, 0.39953794203688375, 0.3485506474957596, 0.23017495589342615, 0.13152854622481494, 0.2893628016945929, 0.0971501603685386, 0.2842004691378144, 0.5002508257782957, 0.11745019387838249, 0.9028102296046818, 0.9398954470794751, 0.4635552946475811, 0.2813485892369712, 0.11789845644215936, 0.13665502905795746, 0.26806589263923863, 0.6433581423341727, 0.06254870828248901, 0.026806589263923864, 0.9417448080471256, 0.879290763937693, 0.9799316003613214, 0.7724439543288021, 0.19311098858220052, 0.35273953504385813, 0.42328744205262975, 0.09312323725157855, 0.13263006517649065, 0.14349389136479593, 0.10762041852359695, 0.7533429296651787, 0.5263491774512326, 0.2857324106163834, 0.11278910945383555, 0.07519273963589036, 0.11681536945763249, 0.3621276453186607, 0.49062455172205643, 0.023363073891526497, 0.9320869493341417, 0.9378043412593308, 0.2057253363616227, 0.531457118934192, 0.17143778030135226, 0.08571889015067613, 0.006373850055718626, 0.9751990585249499, 0.012747700111437252, 0.025086470082045998, 0.8027670426254719, 0.17560529057432198, 0.8497962386164952, 0.22636512816450977, 0.03772752136075163, 0.7168229058542809, 0.2212447552723856, 0.752232167926111, 0.8190577580908841, 0.15357332964204076, 0.8950516634284754, 0.4153854282923411, 0.04153854282923411, 0.5400010567800434, 0.8393693038101602, 0.9679021563870326, 0.024818004009923914, 0.992612003781699, 0.010673247352491387, 0.9585236903853726, 0.8782721310628857, 0.9256404096963873, 0.9205528536033224, 0.8577801956481755, 0.8561496577355854, 0.19533517587823535, 0.7813407035129414, 0.8466493521615149, 0.9031100673838722, 0.9680472693104186, 0.9240290006827047, 0.07430599919924731, 0.9288249899905915, 0.21207115378663577, 0.37701538450957467, 0.047126923063696834, 0.37701538450957467, 0.9148068496736247, 0.38988716033310605, 0.4033315451721787, 0.13444384839072623, 0.07170338580838732, 0.10106239137554342, 0.25265597843885856, 0.07579679353165757, 0.5811087504093747, 0.9645871780554367, 0.24549940374649362, 0.43174033072659224, 0.24549940374649362, 0.07901130235519335, 0.20070614830990538, 0.2460268914766582, 0.4920537829533164, 0.05826952692868221, 0.846700727320283, 0.7660075702324238, 0.1482595297224046, 0.0741297648612023, 0.9242861808170029, 0.8473231508859723, 0.8848747501955417, 0.5272953557906433, 0.0727303939021577, 0.2636476778953217, 0.127278189328776, 0.9085494886178501, 0.922429825607498, 0.057651864100468624, 0.21406956675358846, 0.7278365269622008, 0.021406956675358847, 0.021406956675358847, 0.3870042353186279, 0.18878255381396483, 0.2690151391848999, 0.15574560689652098, 0.7698777611672836, 0.010998253730961194, 0.21996507461922388, 0.16705330700439816, 0.8352665350219908, 0.35789382907124, 0.23676053307789724, 0.27530294543941536, 0.13214541381091938, 0.13561100606385543, 0.5936748487684338, 0.11150238276361446, 0.16273320727662652, 0.1676103252008689, 0.8380516260043446, 0.8668472703237261, 0.07881898767530804, 0.9064183582660424, 0.03583601796841644, 0.9317364671788275, 0.1040186498088118, 0.8321491984704944, 0.9533523788249048, 0.039723015784371034, 0.882223711898901, 0.05189551246464124, 0.05189551246464124, 0.27401593898329263, 0.4257033337776153, 0.06850398474582316, 0.22997766307526346, 0.8560356737961241, 0.2343801778192092, 0.01562534518794728, 0.6562644978937857, 0.09375207112768368, 0.9641596848945512, 0.6095300213434528, 0.14149804066901583, 0.04353785866738948, 0.20680482867010005, 0.07526534815416504, 0.26342871853957767, 0.6585717963489441, 0.13446884630979616, 0.6723442315489808, 0.21515015409567387, 0.9399083067604046, 0.13558207789841387, 0.8586864933566211, 0.11247023009288425, 0.8435267256966318, 0.10791476368312335, 0.8633181094649868, 0.03606875994141039, 0.829581478652439, 0.10820627982423119, 0.9836799917750475, 0.35538809269552146, 0.2090518192326597, 0.09755751564190786, 0.3344829107722555, 0.8482329019365168, 0.9295469171562802, 0.9452051112722186, 0.40290435540855796, 0.20737724175440483, 0.31995345870679603, 0.07110076860151023, 0.9075815537802565, 0.5649396812618593, 0.2454565511689458, 0.15194929358077597, 0.03506522159556368, 0.9277337649134347, 0.04882809289018077, 0.24182733274129306, 0.3211769262970298, 0.2947270617784509, 0.14736353088922546, 0.949417491823886, 0.7001923247090628, 0.23339744156968759, 0.025933049063298623, 0.025933049063298623, 0.270960552473085, 0.6394669038364805, 0.0433536883956936, 0.054192110494616995, 0.9482687438048164, 0.9030863814330113, 0.4098997727936906, 0.4297978200166853, 0.10744945500417133, 0.053724727502085665, 0.2538980661741926, 0.6488506135562699, 0.08463268872473087, 0.9672582884535842, 0.05090833097124127, 0.7454754732812945, 0.23719674149859368, 0.5635675772167069, 0.2019721953030973, 0.0521218568524122, 0.1824264989834427, 0.1985700827971223, 0.2757917816626698, 0.5295202207923261, 0.011031671266506794, 0.9161541172660622, 0.12327156305096072, 0.29937379598090463, 0.5635271453758205, 0.01761022329299439, 0.016030590982290302, 0.9778660499197084, 0.4839321827382431, 0.03142416771027553, 0.4462231814859125, 0.04399383479438574, 0.8989009526739059, 0.07490841272282549, 0.8962346468540291, 0.24891372276766952, 0.43756412318106114, 0.13362736695948574, 0.18078996706283365, 0.730483166779437, 0.06352027537212496, 0.22232096380243738, 0.8542800447634002, 0.15075530201707063, 0.6926527874538452, 0.23088426248461505, 0.07215133202644221, 0.06347226408871519, 0.8886116972420127, 0.7520479359396283, 0.04467611500631455, 0.04467611500631455, 0.1563664025221009, 0.8850366088449511, 0.09519425268496454, 0.7932854390413712, 0.031731417561654846, 0.06346283512330969, 0.9068235505787656, 0.07254588404630126], \"Term\": [\"absolutely\", \"absolutely\", \"absolutely\", \"actually\", \"actually\", \"actually\", \"actually\", \"admit\", \"adopt\", \"also\", \"also\", \"also\", \"also\", \"always\", \"always\", \"always\", \"approve\", \"arabic\", \"away\", \"away\", \"away\", \"away\", \"bad\", \"bad\", \"bad\", \"bad\", \"big\", \"big\", \"big\", \"big\", \"bonito_flakes\", \"bonito_flakes\", \"bonito_flakes\", \"bottom\", \"bottom\", \"bottom\", \"break\", \"break\", \"break\", \"brush\", \"buy\", \"buy\", \"buy\", \"buy\", \"cardboard\", \"carry\", \"carry\", \"cat_man\", \"cat_man\", \"cat_nip\", \"catnip\", \"catnip\", \"catnip\", \"certify\", \"cheap\", \"cheap\", \"cheap\", \"cheap\", \"chew\", \"chew\", \"climb\", \"closed\", \"come\", \"come\", \"come\", \"come\", \"come_running\", \"commercial\", \"concerned\", \"cool\", \"cosmic\", \"cosmic\", \"count\", \"crack\", \"crawl\", \"crazy\", \"crazy\", \"crazy\", \"crazy\", \"crude\", \"crunchy\", \"crunchy\", \"crunchy\", \"cute\", \"cute\", \"daily\", \"daily\", \"daily\", \"daily\", \"dangle\", \"definitely\", \"definitely\", \"definitely\", \"definitely\", \"dental\", \"dental\", \"dental\", \"dental\", \"different\", \"different\", \"different\", \"different\", \"directly\", \"disappear\", \"disappear\", \"draw\", \"dried_ground\", \"dry\", \"dry\", \"dry\", \"dry\", \"easy\", \"easy\", \"easy\", \"easy\", \"eat\", \"eat\", \"eat\", \"eat\", \"eliminate\", \"enjoy\", \"enjoy\", \"enjoy\", \"enjoy\", \"even\", \"even\", \"even\", \"even\", \"eventually\", \"every_time\", \"every_time\", \"everyday\", \"expensive\", \"expensive\", \"expensive\", \"expensive\", \"fast\", \"fast\", \"favorite\", \"favorite\", \"favorite\", \"feed\", \"feed\", \"feed\", \"female\", \"female\", \"find\", \"find\", \"find\", \"find\", \"first\", \"first\", \"first\", \"first\", \"fit\", \"fit\", \"fit\", \"fix\", \"flake\", \"flake\", \"flat\", \"flat\", \"forever\", \"forward\", \"foster\", \"free\", \"free\", \"free\", \"free\", \"fresh\", \"fresh\", \"fresh\", \"fresh\", \"garlic\", \"generally\", \"get\", \"get\", \"get\", \"get\", \"give\", \"give\", \"give\", \"give\", \"go\", \"go\", \"go\", \"go\", \"gobble\", \"gobble\", \"gobble\", \"gobble\", \"good\", \"good\", \"good\", \"good\", \"good_price\", \"got\", \"great\", \"great\", \"great\", \"great\", \"great_price\", \"groom\", \"grow\", \"grow\", \"guarantee\", \"hairball\", \"handy\", \"happily\", \"happy\", \"happy\", \"happy\", \"happy\", \"hard\", \"hard\", \"hard\", \"hard\", \"hardly\", \"healthy\", \"healthy\", \"healthy\", \"healthy\", \"hear\", \"hear\", \"hear\", \"heavy\", \"help\", \"help\", \"help\", \"help\", \"highly\", \"highly\", \"highly\", \"human\", \"human\", \"human\", \"hunt\", \"ignore\", \"ignore\", \"ignore\", \"ignore\", \"incline\", \"ingredient\", \"ingredient\", \"ingredient\", \"inhale\", \"interest\", \"involve\", \"joint\", \"jump\", \"jump\", \"keep\", \"keep\", \"keep\", \"keep\", \"kibble\", \"kinda\", \"know\", \"know\", \"know\", \"know\", \"large\", \"large\", \"large\", \"large\", \"last\", \"last\", \"last\", \"last\", \"lid\", \"like\", \"like\", \"like\", \"like\", \"list\", \"little\", \"little\", \"little\", \"little\", \"live\", \"live\", \"long\", \"long\", \"long\", \"long\", \"look\", \"look\", \"look\", \"look\", \"love\", \"love\", \"love\", \"love\", \"luckily\", \"mad\", \"make\", \"make\", \"make\", \"make\", \"many\", \"many\", \"many\", \"many\", \"medicate\", \"medley\", \"messy\", \"moist\", \"moist\", \"much\", \"much\", \"much\", \"much\", \"natural\", \"natural\", \"natural\", \"need\", \"need\", \"need\", \"need\", \"nice\", \"nice\", \"nice\", \"nice\", \"noticed\", \"ok\", \"old\", \"old\", \"old\", \"old\", \"open\", \"open\", \"open\", \"organic\", \"organic\", \"organic\", \"originally\", \"otherwise\", \"otherwise\", \"otherwise\", \"pass\", \"pass\", \"perfect\", \"perfect\", \"perfectly\", \"pet\", \"pet\", \"pet\", \"pill\", \"pill_pocket\", \"pill_pocket\", \"pill_pockets\", \"pill_pockets\", \"pille\", \"plain\", \"please\", \"plenty\", \"pliable\", \"possibly\", \"potent\", \"potent\", \"preservative\", \"previously\", \"prime\", \"problem\", \"pull\", \"pull\", \"purchase\", \"purchase\", \"purchase\", \"purchase\", \"purr\", \"put\", \"put\", \"put\", \"put\", \"rather\", \"rather\", \"rather\", \"rather\", \"reach\", \"really\", \"really\", \"really\", \"really\", \"recommend\", \"recommend\", \"recommend\", \"recommend\", \"recyclable\", \"refuse\", \"refuse\", \"refuse\", \"respond\", \"reward\", \"rid\", \"right\", \"right\", \"right\", \"right\", \"rosemary\", \"rub\", \"rub\", \"save\", \"save\", \"save\", \"save\", \"say\", \"say\", \"say\", \"say\", \"scratch\", \"scratch\", \"scratch\", \"scratcher\", \"scratcher\", \"see\", \"see\", \"see\", \"see\", \"seem\", \"seem\", \"seem\", \"seem\", \"semi\", \"semi\", \"sensitive\", \"serve\", \"serve\", \"shake\", \"shake\", \"shape\", \"shape\", \"sick\", \"sick\", \"single\", \"single\", \"single\", \"small\", \"small\", \"small\", \"small\", \"smartbite\", \"smell\", \"smell\", \"smell\", \"smell\", \"smoke\", \"soft\", \"soft\", \"soft\", \"soft\", \"soon\", \"soon\", \"soon\", \"special\", \"special\", \"special\", \"split\", \"sprinkle\", \"sprinkle\", \"sprout\", \"sprout\", \"stale\", \"stale\", \"stand\", \"stand\", \"stand\", \"stay\", \"still\", \"still\", \"still\", \"still\", \"stinky\", \"stuff\", \"supply\", \"sure\", \"sure\", \"sure\", \"sure\", \"sweet\", \"take\", \"take\", \"take\", \"take\", \"taurine\", \"taurine\", \"think\", \"think\", \"think\", \"think\", \"third\", \"throw\", \"throw\", \"throw\", \"throw\", \"top\", \"top\", \"top\", \"top\", \"total\", \"tough\", \"try\", \"try\", \"try\", \"try\", \"turn\", \"turn\", \"turn\", \"twice\", \"twice\", \"twice_day\", \"twice_day\", \"use\", \"use\", \"use\", \"use\", \"usually\", \"usually\", \"usually\", \"usually\", \"vegetable\", \"wait\", \"wait\", \"wait\", \"wait\", \"walk\", \"walk\", \"want\", \"want\", \"want\", \"want\", \"wear\", \"wear\", \"weird\", \"well\", \"well\", \"well\", \"well\", \"wet_food\", \"wet_food\", \"wet_food\", \"whiskas_temptations\", \"whiskas_temptations\", \"whole\", \"whole\", \"whole\", \"wooden\", \"wooden\", \"work\", \"work\", \"work\", \"work\", \"wrap\", \"yet\", \"yet\", \"yet\", \"yet\", \"young\", \"young\"]}, \"R\": 30, \"lambda.step\": 0.01, \"plot.opts\": {\"xlab\": \"PC1\", \"ylab\": \"PC2\"}, \"topic.order\": [1, 2, 3, 4]};\n",
       "\n",
       "function LDAvis_load_lib(url, callback){\n",
       "  var s = document.createElement('script');\n",
       "  s.src = url;\n",
       "  s.async = true;\n",
       "  s.onreadystatechange = s.onload = callback;\n",
       "  s.onerror = function(){console.warn(\"failed to load library \" + url);};\n",
       "  document.getElementsByTagName(\"head\")[0].appendChild(s);\n",
       "}\n",
       "\n",
       "if(typeof(LDAvis) !== \"undefined\"){\n",
       "   // already loaded: just create the visualization\n",
       "   !function(LDAvis){\n",
       "       new LDAvis(\"#\" + \"ldavis_el299361797399646720839382268\", ldavis_el299361797399646720839382268_data);\n",
       "   }(LDAvis);\n",
       "}else if(typeof define === \"function\" && define.amd){\n",
       "   // require.js is available: use it to load d3/LDAvis\n",
       "   require.config({paths: {d3: \"https://d3js.org/d3.v5\"}});\n",
       "   require([\"d3\"], function(d3){\n",
       "      window.d3 = d3;\n",
       "      LDAvis_load_lib(\"https://cdn.jsdelivr.net/gh/bmabey/pyLDAvis@3.3.1/pyLDAvis/js/ldavis.v3.0.0.js\", function(){\n",
       "        new LDAvis(\"#\" + \"ldavis_el299361797399646720839382268\", ldavis_el299361797399646720839382268_data);\n",
       "      });\n",
       "    });\n",
       "}else{\n",
       "    // require.js not available: dynamically load d3 & LDAvis\n",
       "    LDAvis_load_lib(\"https://d3js.org/d3.v5.js\", function(){\n",
       "         LDAvis_load_lib(\"https://cdn.jsdelivr.net/gh/bmabey/pyLDAvis@3.3.1/pyLDAvis/js/ldavis.v3.0.0.js\", function(){\n",
       "                 new LDAvis(\"#\" + \"ldavis_el299361797399646720839382268\", ldavis_el299361797399646720839382268_data);\n",
       "            })\n",
       "         });\n",
       "}\n",
       "</script>"
      ],
      "text/plain": [
       "<IPython.core.display.HTML object>"
      ]
     },
     "execution_count": 182,
     "metadata": {},
     "output_type": "execute_result"
    }
   ],
   "source": [
    "pyLDAvis.enable_notebook()\n",
    "topic_data =  pyLDAvis.gensim_models.prepare(cat_treats_optimal_model, \n",
    "                                             cats_treats_doc_term_matrix, \n",
    "                                             cats_treats_dictionary, \n",
    "                                             mds = 'tsne')\n",
    "pyLDAvis.display(topic_data)"
   ]
  },
  {
   "cell_type": "markdown",
   "id": "9152f037",
   "metadata": {},
   "source": [
    "## 8. cats grooming"
   ]
  },
  {
   "cell_type": "code",
   "execution_count": 195,
   "id": "ef81d22e",
   "metadata": {},
   "outputs": [
    {
     "data": {
      "application/vnd.jupyter.widget-view+json": {
       "model_id": "03c3b1a0afb7465b8cce7ed95e7a3a8e",
       "version_major": 2,
       "version_minor": 0
      },
      "text/plain": [
       "  0%|          | 0/1150 [00:00<?, ?it/s]"
      ]
     },
     "metadata": {},
     "output_type": "display_data"
    },
    {
     "data": {
      "application/vnd.jupyter.widget-view+json": {
       "model_id": "c0671a269fb74a54a985b74333a3ed48",
       "version_major": 2,
       "version_minor": 0
      },
      "text/plain": [
       "  0%|          | 0/1150 [00:00<?, ?it/s]"
      ]
     },
     "metadata": {},
     "output_type": "display_data"
    }
   ],
   "source": [
    "cats_grooming_dictionary, cats_grooming_doc_term_matrix = vectorize(cats_grooming_reviews2)\n",
    "# cats_grooming_model_list, cats_grooming_coherence_values = compute_coherence_values(dictionary=cats_grooming_dictionary, \n",
    "#                                                     corpus=cats_grooming_doc_term_matrix, \n",
    "#                                                     texts=cats_grooming_reviews2, \n",
    "#                                                     start=2, \n",
    "#                                                     limit=20, \n",
    "#                                                     step=2)\n",
    "\n",
    "# limit=20; start=2; step=2;\n",
    "# x = range(start, limit, step)\n",
    "# plt.plot(x, cats_grooming_coherence_values)\n",
    "# plt.xlabel(\"Num Topics\")\n",
    "# plt.ylabel(\"Coherence score\")\n",
    "# plt.legend((\"coherence_values\"), loc='best')\n",
    "# plt.show()\n",
    "# for m, cv in zip(x, cats_grooming_coherence_values):\n",
    "#     print(\"Num Topics =\", m, \" has Coherence Value of\", round(cv, 4))\n",
    "    \n",
    "    \n",
    "# with open ('./cats_grooming_model_list.pickle', 'wb') as handle:\n",
    "#      pickle.dump(cats_grooming_model_list, handle)"
   ]
  },
  {
   "cell_type": "code",
   "execution_count": 196,
   "id": "3911809f",
   "metadata": {},
   "outputs": [],
   "source": [
    "with open ('./model/cats_grooming_model_list.pickle', 'rb') as handle:\n",
    "     cats_grooming_model_list = pickle.load(handle)"
   ]
  },
  {
   "cell_type": "code",
   "execution_count": 199,
   "id": "c303185e",
   "metadata": {},
   "outputs": [
    {
     "data": {
      "text/plain": [
       "[(0,\n",
       "  '0.031*\"get\" + 0.020*\"well\" + 0.019*\"use\" + 0.017*\"make\" + 0.014*\"put\" + 0.012*\"small\" + 0.010*\"go\" + 0.010*\"seem\" + 0.010*\"good\" + 0.009*\"big\" + 0.008*\"try\" + 0.008*\"take\" + 0.007*\"still\" + 0.007*\"first\" + 0.007*\"clean\" + 0.007*\"let\" + 0.007*\"really\" + 0.007*\"enough\" + 0.007*\"fit\" + 0.007*\"much\" + 0.006*\"come\" + 0.006*\"easy\" + 0.006*\"see\" + 0.006*\"love\" + 0.006*\"large\" + 0.006*\"say\" + 0.006*\"give\" + 0.005*\"soft\" + 0.005*\"know\" + 0.005*\"quite\"'),\n",
       " (1,\n",
       "  '0.025*\"use\" + 0.020*\"get\" + 0.017*\"love\" + 0.016*\"well\" + 0.013*\"much\" + 0.013*\"recommend\" + 0.012*\"long\" + 0.012*\"work\" + 0.012*\"buy\" + 0.012*\"also\" + 0.011*\"seem\" + 0.011*\"even\" + 0.010*\"try\" + 0.010*\"great\" + 0.010*\"make\" + 0.010*\"pet\" + 0.009*\"groom\" + 0.009*\"brush\" + 0.009*\"remove\" + 0.009*\"find\" + 0.008*\"look\" + 0.008*\"good\" + 0.007*\"see\" + 0.007*\"highly\" + 0.007*\"come\" + 0.007*\"never\" + 0.007*\"go\" + 0.007*\"say\" + 0.007*\"give\" + 0.006*\"little\"'),\n",
       " (2,\n",
       "  '0.033*\"use\" + 0.027*\"get\" + 0.022*\"well\" + 0.021*\"easy\" + 0.018*\"great\" + 0.013*\"long\" + 0.013*\"work\" + 0.012*\"cut\" + 0.010*\"trim\" + 0.010*\"good\" + 0.010*\"sharp\" + 0.010*\"still\" + 0.009*\"little\" + 0.009*\"make\" + 0.009*\"scratch\" + 0.009*\"hold\" + 0.008*\"soft_claws\" + 0.008*\"keep\" + 0.008*\"try\" + 0.007*\"clip\" + 0.007*\"clean\" + 0.006*\"give\" + 0.006*\"first\" + 0.006*\"even\" + 0.006*\"much\" + 0.006*\"nice\" + 0.006*\"go\" + 0.006*\"put\" + 0.006*\"take\" + 0.005*\"seem\"'),\n",
       " (3,\n",
       "  '0.055*\"get\" + 0.023*\"much\" + 0.022*\"brush\" + 0.021*\"really\" + 0.019*\"use\" + 0.016*\"good\" + 0.015*\"try\" + 0.014*\"think\" + 0.013*\"long\" + 0.012*\"work\" + 0.011*\"seem\" + 0.010*\"well\" + 0.010*\"shed\" + 0.010*\"little\" + 0.010*\"come\" + 0.009*\"also\" + 0.009*\"love\" + 0.009*\"go\" + 0.009*\"pull\" + 0.009*\"buy\" + 0.008*\"make\" + 0.008*\"great\" + 0.007*\"take\" + 0.007*\"even\" + 0.007*\"remove\" + 0.007*\"help\" + 0.007*\"groom\" + 0.006*\"keep\" + 0.006*\"back\" + 0.006*\"still\"')]"
      ]
     },
     "execution_count": 199,
     "metadata": {},
     "output_type": "execute_result"
    }
   ],
   "source": [
    "cats_grooming_optimal_model = cats_grooming_model_list[1]\n",
    "model_topics = cats_grooming_optimal_model.show_topics(formatted=False)\n",
    "\n",
    "cats_grooming_optimal_model.print_topics(num_topics=4, num_words=30)"
   ]
  },
  {
   "cell_type": "code",
   "execution_count": 200,
   "id": "a340da78",
   "metadata": {},
   "outputs": [],
   "source": [
    "keywords_dict = get_keywords(cats_grooming_doc_term_matrix, model = cats_grooming_optimal_model)"
   ]
  },
  {
   "cell_type": "code",
   "execution_count": 202,
   "id": "e446cf4b",
   "metadata": {},
   "outputs": [
    {
     "data": {
      "text/plain": [
       "['easy',\n",
       " 'cut',\n",
       " 'trim',\n",
       " 'sharp',\n",
       " 'scratch',\n",
       " 'hold',\n",
       " 'soft_claws',\n",
       " 'keep',\n",
       " 'clip']"
      ]
     },
     "execution_count": 202,
     "metadata": {},
     "output_type": "execute_result"
    }
   ],
   "source": [
    "[w for w in keywords_dict[3] if w not in  keywords_dict[1]\\\n",
    "                                and w not in  keywords_dict[2]\\\n",
    "                                and w not in  keywords_dict[0]]  "
   ]
  },
  {
   "cell_type": "code",
   "execution_count": 203,
   "id": "47490ba9",
   "metadata": {},
   "outputs": [
    {
     "data": {
      "text/plain": [
       "['put', 'small', 'big', 'take', 'first', 'clean', 'let', 'enough', 'fit']"
      ]
     },
     "execution_count": 203,
     "metadata": {},
     "output_type": "execute_result"
    }
   ],
   "source": [
    "[w for w in keywords_dict[2] if w not in  keywords_dict[1]\\\n",
    "                                and w not in  keywords_dict[3]\\\n",
    "                                and w not in  keywords_dict[0]]  "
   ]
  },
  {
   "cell_type": "code",
   "execution_count": 204,
   "id": "b3bc0b35",
   "metadata": {},
   "outputs": [
    {
     "data": {
      "text/plain": [
       "['think', 'shed', 'come', 'pull']"
      ]
     },
     "execution_count": 204,
     "metadata": {},
     "output_type": "execute_result"
    }
   ],
   "source": [
    "[w for w in keywords_dict[0] if w not in  keywords_dict[1]\\\n",
    "                                and w not in  keywords_dict[2]\\\n",
    "                                and w not in  keywords_dict[3]]  "
   ]
  },
  {
   "cell_type": "code",
   "execution_count": 205,
   "id": "3a418e0f",
   "metadata": {},
   "outputs": [
    {
     "data": {
      "text/plain": [
       "['recommend', 'even', 'pet', 'groom', 'remove', 'find']"
      ]
     },
     "execution_count": 205,
     "metadata": {},
     "output_type": "execute_result"
    }
   ],
   "source": [
    "[w for w in keywords_dict[1] if w not in  keywords_dict[3]\\\n",
    "                                and w not in  keywords_dict[2]\\\n",
    "                                and w not in  keywords_dict[0]]  "
   ]
  },
  {
   "cell_type": "code",
   "execution_count": 206,
   "id": "f763a344",
   "metadata": {},
   "outputs": [
    {
     "name": "stderr",
     "output_type": "stream",
     "text": [
      "C:\\Users\\JiatingChen\\anaconda3\\lib\\site-packages\\pyLDAvis\\_prepare.py:246: FutureWarning: In a future version of pandas all arguments of DataFrame.drop except for the argument 'labels' will be keyword-only\n",
      "  default_term_info = default_term_info.sort_values(\n",
      "C:\\Users\\JiatingChen\\anaconda3\\lib\\site-packages\\sklearn\\manifold\\_t_sne.py:691: FutureWarning: 'square_distances' has been introduced in 0.24 to help phase out legacy squaring behavior. The 'legacy' setting will be removed in 1.1 (renaming of 0.26), and the default setting will be changed to True. In 1.3, 'square_distances' will be removed altogether, and distances will be squared by default. Set 'square_distances'=True to silence this warning.\n",
      "  warnings.warn(\n"
     ]
    },
    {
     "data": {
      "text/html": [
       "\n",
       "<link rel=\"stylesheet\" type=\"text/css\" href=\"https://cdn.jsdelivr.net/gh/bmabey/pyLDAvis@3.3.1/pyLDAvis/js/ldavis.v1.0.0.css\">\n",
       "\n",
       "\n",
       "<div id=\"ldavis_el2993617974028807047664809327\"></div>\n",
       "<script type=\"text/javascript\">\n",
       "\n",
       "var ldavis_el2993617974028807047664809327_data = {\"mdsDat\": {\"x\": [269.5624084472656, 1.782994270324707, 220.81143188476562, 50.533992767333984], \"y\": [-124.80339813232422, -295.0796813964844, -343.8321228027344, -76.05093383789062], \"topics\": [1, 2, 3, 4], \"cluster\": [1, 1, 1, 1], \"Freq\": [29.440372822994366, 28.259652904200188, 25.40900524144969, 16.89096903135576]}, \"tinfo\": {\"Term\": [\"brush\", \"easy\", \"recommend\", \"put\", \"trim\", \"sharp\", \"get\", \"love\", \"great\", \"soft_claws\", \"scratch\", \"highly\", \"big\", \"really\", \"hold\", \"cut\", \"small\", \"well\", \"fit\", \"make\", \"zoom_groom\", \"think\", \"shed\", \"nail\", \"clip\", \"bad\", \"short_hair\", \"pink\", \"thick\", \"pull\", \"fluffy\", \"size\", \"fight\", \"matted\", \"oatmeal\", \"cool\", \"general\", \"paint\", \"fond\", \"clearly\", \"dsh\", \"warm\", \"useful\", \"sick\", \"kinda\", \"terrible\", \"oster\", \"choose\", \"heat\", \"amazingly\", \"thus\", \"vacuum\", \"issue\", \"damage\", \"irritated\", \"combine\", \"universal\", \"change\", \"maintain\", \"generally\", \"regularly\", \"undercoat\", \"white\", \"brush\", \"bald\", \"rid\", \"gentle\", \"create\", \"really\", \"think\", \"pull\", \"shed\", \"lose\", \"everywhere\", \"get\", \"short_hair\", \"much\", \"sensitive\", \"huge\", \"help\", \"maine_coon\", \"pretty\", \"good\", \"try\", \"back\", \"come\", \"long\", \"purchase\", \"little\", \"also\", \"work\", \"seem\", \"use\", \"actually\", \"go\", \"buy\", \"remove\", \"love\", \"groom\", \"take\", \"keep\", \"well\", \"make\", \"great\", \"even\", \"still\", \"zoom_groom\", \"talk\", \"local\", \"purr\", \"disappoint\", \"painful\", \"shorthaire\", \"rug\", \"ichi\", \"kitty\", \"everyday\", \"puppy\", \"wet\", \"shine\", \"sleepy\", \"surprised\", \"special\", \"mid\", \"laugh\", \"removed\", \"curl\", \"highly\", \"sound\", \"apart\", \"properly\", \"circular\", \"kind\", \"thick\", \"tummy\", \"grateful\", \"sadly\", \"show\", \"already\", \"stroke\", \"comb\", \"recommend\", \"wonderful\", \"short\", \"pet\", \"love_glove\", \"awesome\", \"love\", \"pick\", \"long_haired_cats\", \"adopt\", \"loose_hair\", \"never\", \"groom\", \"buy\", \"find\", \"stop\", \"also\", \"even\", \"look\", \"remove\", \"use\", \"ever\", \"rub\", \"say\", \"seem\", \"well\", \"work\", \"long\", \"much\", \"great\", \"get\", \"try\", \"make\", \"brush\", \"see\", \"come\", \"want\", \"good\", \"go\", \"give\", \"little\", \"peticure\", \"nail\", \"operate\", \"file\", \"frighten\", \"expose\", \"nervous\", \"cleanly\", \"protect\", \"rear\", \"hide\", \"possible\", \"rinse\", \"average\", \"shedde\", \"capture\", \"mind\", \"prepare\", \"petite\", \"suck\", \"improve\", \"ship\", \"describe\", \"waste\", \"contain\", \"foster\", \"gradually\", \"inside\", \"shred\", \"plug\", \"trim\", \"sharp\", \"round\", \"soft_claws\", \"clear\", \"scratch\", \"relatively\", \"treat\", \"nail_clippers\", \"hold\", \"apply\", \"easy\", \"clip\", \"cut\", \"quick\", \"replace\", \"smell\", \"quickly\", \"great\", \"declaw\", \"use\", \"well\", \"able\", \"nail_caps\", \"still\", \"play\", \"nice\", \"dry\", \"fall\", \"kitten\", \"get\", \"long\", \"sit\", \"work\", \"keep\", \"little\", \"good\", \"make\", \"first\", \"clean\", \"give\", \"try\", \"put\", \"even\", \"go\", \"much\", \"take\", \"seem\", \"tear\", \"construct\", \"thankfully\", \"stiff\", \"mild\", \"hit\", \"patient\", \"apple\", \"buzz\", \"smash\", \"ultimately\", \"carefully\", \"attract\", \"skittish\", \"traditional\", \"knead\", \"maltese\", \"fill\", \"wild\", \"dislike\", \"firm\", \"pink\", \"cap\", \"incredibly\", \"virtually\", \"awful\", \"way\", \"source\", \"superfine\", \"fuzze\", \"advertise\", \"sell\", \"horrible\", \"fit\", \"pass\", \"bad\", \"accept\", \"big\", \"put\", \"quite\", \"single\", \"excellent\", \"small\", \"free\", \"make\", \"close\", \"least\", \"fairly\", \"let\", \"sturdy\", \"well\", \"large\", \"get\", \"handle\", \"immediately\", \"go\", \"use\", \"enough\", \"seem\", \"take\", \"first\", \"good\", \"clean\", \"still\", \"different\", \"know\", \"sure\", \"say\", \"try\", \"soft\", \"see\", \"come\", \"really\", \"easy\", \"much\", \"love\", \"give\"], \"Freq\": [240.0, 221.0, 135.0, 132.0, 83.0, 79.0, 890.0, 219.0, 257.0, 63.0, 75.0, 62.0, 70.0, 257.0, 79.0, 129.0, 139.0, 435.0, 43.0, 272.0, 37.0, 173.0, 123.0, 32.0, 66.0, 33.0, 67.0, 26.0, 44.0, 105.0, 14.673686115294904, 9.380057182707677, 8.306572336013453, 9.910210932242657, 7.750048632398151, 7.38202266344183, 8.071102531613112, 5.780991083504069, 6.546805821626024, 5.591537427911919, 5.523595684178881, 4.717414155327005, 4.692543605865328, 4.692597011776618, 4.6804846408539555, 4.659815655606512, 4.631281640146033, 9.143171897263574, 3.988720115864733, 3.832418965086694, 3.8321061590348546, 3.8243941659289584, 3.8130748054705714, 3.8064686288807907, 3.804243083384274, 3.799591383632027, 3.780285371095397, 9.653323113469305, 3.763512773426248, 5.965601855157337, 7.413406938924164, 30.955592066671493, 10.219368328125967, 171.48148037338325, 13.380098005398308, 15.315609012586581, 27.849134463787884, 8.477735140172648, 158.12031588551005, 109.76420906483052, 68.23096860670336, 78.12582197353146, 24.08295857542388, 18.556277914486973, 425.5628876219943, 43.49424089504324, 178.65507008721244, 18.14402197762106, 20.051424421482483, 51.84932015976117, 20.365488878156057, 30.832555618000185, 120.08466535845525, 115.22241167897565, 47.57738221327894, 73.3246467050004, 97.44946294877862, 32.29612172864585, 74.29080721188258, 72.94390833400045, 94.2494884537026, 82.89828191577713, 143.95743442345315, 43.63102465358534, 68.37321682218548, 66.4533398345408, 52.56141214143908, 68.53457986601761, 50.14493378022444, 54.97150333517914, 49.08962938282723, 78.8329413712002, 63.51822993695463, 58.64166167809271, 52.59958435312525, 46.142596054559185, 35.75837367153607, 9.67979018515286, 9.934734452247664, 16.234002237300093, 8.500220081567047, 12.80846225388451, 6.08162866305181, 5.894963792323369, 5.4425013244136, 5.441793105208144, 8.742167406187036, 5.403053428511669, 7.9554840607790736, 5.233520225278702, 5.766746822397481, 12.983157186144101, 6.453026740933712, 4.459339705904765, 4.448954644842771, 4.289725514100858, 4.424481018759353, 53.023951461156386, 5.660497571548844, 7.906795282774814, 4.248896504590234, 9.161413359464289, 17.459865924983635, 37.60360693287059, 4.354888142856837, 3.6465845025081287, 4.983448626938709, 19.615735158061916, 20.369724968226304, 12.977761107210076, 35.21673589437683, 96.0703797956119, 15.22083866116063, 44.931897407097544, 70.36526907305553, 22.863909309537966, 12.308997982671555, 122.58158527318561, 35.31285381963307, 22.163639046162093, 13.318214658348495, 31.482201250149835, 51.74256063070739, 69.56494346134686, 91.03504808080977, 64.63684061446952, 37.618115949196465, 87.00367826195944, 82.36816127447271, 61.03031960716052, 65.3415445713141, 188.5941494484775, 31.63155106760786, 27.127369971608765, 49.43402449508471, 84.66259850610747, 120.89797418254818, 91.77468395914583, 92.11979866101602, 97.60745326768011, 74.01365600205735, 146.30133872139228, 74.26094340287614, 73.40007969597022, 66.29643773224265, 53.18378843697062, 52.61343590351038, 45.21323447093288, 56.25354476666546, 51.54441433767737, 48.6223294665449, 46.98539191702419, 16.53985616031527, 30.32553436887016, 9.650022000856673, 8.703379943893847, 7.262891202888871, 7.089702885415268, 13.811550636257842, 9.320963887788839, 6.39871082770071, 6.2294741017509345, 6.186442734182704, 8.434175156821983, 5.363037112936248, 5.358631952144199, 5.350770601274998, 5.348299791401395, 5.348061580385207, 5.312545673543974, 9.752957822638981, 5.2918321605151855, 4.5189505147997995, 4.518314898088311, 4.511438540087674, 4.509642080424127, 4.5085172596257355, 4.507154615146141, 4.490221491577513, 4.488348726921788, 6.849621815916091, 8.894539055362692, 69.19138994870586, 65.4084781631193, 9.53008837056313, 52.21041346660804, 17.764993621316293, 57.48663486519568, 6.7393204320462425, 8.71067733502391, 20.230898284660174, 57.254748254653386, 29.665010468463553, 142.89390004814118, 47.72574984473994, 80.40483694166998, 34.706277563422375, 18.53500472745286, 25.993121284490165, 33.76447719378045, 122.99243016879512, 25.478148575659485, 216.34792081020834, 149.00595935901038, 33.00338563769394, 21.965545481853955, 63.50646506795654, 16.28309489699311, 41.27028553293359, 22.92750896151003, 25.565571631265627, 24.42744510144599, 180.84524223340557, 86.28768690141787, 30.83316630505238, 84.13407339428204, 51.571725963353686, 61.2308193495748, 68.17919376942794, 59.600510901481435, 42.678685119715574, 43.39693742638675, 43.24495337536878, 51.291273742967874, 39.77956641631668, 42.61267704079727, 40.588126649567286, 42.11740883735771, 37.0460473633521, 35.841953037452676, 9.089327038613208, 8.343581652046096, 5.88246604584447, 5.122739169212049, 5.121372433498114, 7.211480575035578, 4.464431395156136, 4.313243080181217, 5.166222890745187, 4.31061569298736, 4.308383546811004, 4.296196991685754, 4.262744667416969, 4.403070420303762, 8.697999808387463, 3.657520465614359, 3.6379502418129985, 15.197343100157669, 3.487477222959653, 3.470322732856133, 4.155410853822225, 21.60233013046539, 4.131002982961066, 3.431372052439013, 3.5593791598800495, 3.407988718391296, 4.7185396986300425, 2.845972728096595, 2.838953659603403, 2.8389477374252907, 6.001735108223696, 13.544062540769355, 9.63906068898884, 29.20489692882614, 6.328404512790508, 22.234606584399337, 6.449133520817436, 39.14357451276445, 63.28492264020973, 23.294781520805, 8.282518331015371, 12.764307372732882, 51.35131558649604, 12.779903815020836, 75.86150726622041, 12.275609234899445, 20.208916806536266, 14.647079028611971, 31.311291060172643, 12.393000194359033, 87.09223932323648, 26.497837385393535, 137.92230848099348, 15.607881876179968, 11.807676828388056, 45.88955128928672, 84.79642818725564, 29.555125272896003, 44.304875301040234, 35.44604252439284, 31.78451325916841, 42.86019342370625, 31.4471777543352, 32.29335504213609, 19.8046720184174, 23.6820590111459, 22.795629451173195, 25.580054269577868, 37.24802434143488, 23.775685042298527, 26.91057509189756, 27.812525908244794, 31.21894009971621, 27.754585377481327, 28.76183973027478, 26.56612473377734, 25.32004696173202], \"Total\": [240.0, 221.0, 135.0, 132.0, 83.0, 79.0, 890.0, 219.0, 257.0, 63.0, 75.0, 62.0, 70.0, 257.0, 79.0, 129.0, 139.0, 435.0, 43.0, 272.0, 37.0, 173.0, 123.0, 32.0, 66.0, 33.0, 67.0, 26.0, 44.0, 105.0, 15.471597378411422, 10.091574195944634, 9.008527546086206, 10.787747002184863, 8.47739626929707, 8.108197193068625, 8.997318133142333, 6.496540714342364, 7.390249285693086, 6.312123898395105, 6.305545847244698, 5.416294603911217, 5.413615277934272, 5.415690342535899, 5.41252621946733, 5.412315321895288, 5.412714868796461, 10.761746567624781, 4.701053762035622, 4.519510599632731, 4.519697418274971, 4.5189812454677245, 4.5177439802978885, 4.516994737463476, 4.517409505865435, 4.516424570733753, 4.514424483551163, 11.576846301906336, 4.516118973925215, 7.163472485580486, 8.927109596492002, 38.028527351457186, 12.485867101907942, 240.95045761292468, 16.822259848627958, 19.611324904110965, 37.73643125577978, 10.660310572031186, 257.18718093033186, 173.20726377497468, 105.3577381235872, 123.69456638217137, 33.71417572175371, 25.46663771827632, 890.6317770577856, 67.04947089966463, 347.14177192252504, 25.563573355680553, 29.15539884197773, 98.33855587014261, 31.0368203163915, 52.52223303623487, 287.3775973182549, 278.02265316625454, 95.494165902509, 174.61254676271298, 293.71274397674443, 62.00292105273154, 201.67627477359343, 197.58558461363515, 291.69226387055556, 247.7077087603775, 633.6959328693946, 101.45125015094953, 206.39530909871684, 198.56961847021273, 139.48386086399145, 219.44826007579567, 136.31846891380377, 167.39690360217116, 147.59610902372603, 435.82911423599523, 272.38032780062673, 257.08409644921704, 186.39751902353865, 162.3902640869359, 37.863149957916605, 10.389497260610291, 10.701285460657475, 17.588066718510298, 9.24001541253634, 14.1306196665507, 6.796213342344433, 6.629322900348003, 6.14853174036184, 6.148627778127807, 9.917998056914154, 6.1487139800992905, 9.089175730615377, 5.981988336460494, 6.628197504125298, 14.945786512972237, 7.455478061305579, 5.1672141489430246, 5.167872385048946, 4.999105035420675, 5.168266451137762, 62.11754204868736, 6.641551060571466, 9.29835802156861, 5.000508054865994, 10.783678525647577, 20.63782844595403, 44.62899878725373, 5.171711213552101, 4.3525233334935365, 5.982210146015198, 24.28497827788617, 25.3312563579308, 15.935573972295934, 45.805143849429044, 135.05170730218623, 19.20319933055754, 63.37605311375766, 103.77338707713096, 31.09364820196279, 15.687371074348295, 219.44826007579567, 53.381236801783366, 32.01845935517745, 17.722736379879674, 50.01607476287955, 91.93740207734731, 136.31846891380377, 198.56961847021273, 129.1340641306437, 65.46423558675366, 197.58558461363515, 186.39751902353865, 126.44900370234775, 139.48386086399145, 633.6959328693946, 53.23569228549112, 44.22341470337145, 109.82679200679982, 247.7077087603775, 435.82911423599523, 291.69226387055556, 293.71274397674443, 347.14177192252504, 257.08409644921704, 890.6317770577856, 278.02265316625454, 272.38032780062673, 240.95045761292468, 151.9255427660516, 174.61254676271298, 112.56805626804142, 287.3775973182549, 206.39530909871684, 158.2538618372717, 201.67627477359343, 17.24024814210828, 32.1395734865902, 10.370974992864484, 9.50823988046611, 7.972878770764739, 7.796067004986588, 15.328921281501446, 10.353334391683509, 7.113675254599579, 6.937075942250818, 6.936163097600047, 9.522328038733962, 6.078027689761009, 6.078788842489978, 6.079860060229168, 6.077219224905636, 6.077188760465035, 6.080581476328253, 11.193215752605507, 6.074195877193989, 5.220629076800157, 5.220369217683609, 5.219826047370976, 5.2190494776701435, 5.219815167773414, 5.219732671000866, 5.218554388311765, 5.219385350286071, 7.991419551144762, 10.40422381346225, 83.73139246077605, 79.80917612174682, 11.188624785183562, 63.78550009428408, 21.57919431292744, 75.2224541020462, 7.976948841772766, 10.490248425145657, 25.92516256607786, 79.54435612299837, 39.362511493340655, 221.52039443494306, 66.63903567189385, 129.2983795604173, 50.70103358566613, 25.231137818589175, 37.93926436267396, 51.975608044092105, 257.08409644921704, 38.252303217451704, 633.6959328693946, 435.82911423599523, 59.58049761895046, 34.67899155871172, 162.3902640869359, 23.92352353648872, 91.39657745219141, 39.30172279677332, 46.163013074399075, 43.31556125667699, 890.6317770577856, 293.71274397674443, 61.70230592735568, 291.69226387055556, 147.59610902372603, 201.67627477359343, 287.3775973182549, 272.38032780062673, 144.5636125614714, 152.1685544890762, 158.2538618372717, 278.02265316625454, 132.3483773538831, 186.39751902353865, 206.39530909871684, 347.14177192252504, 167.39690360217116, 247.7077087603775, 10.119835241673984, 9.290532540589211, 6.656927908563639, 5.8378850505865785, 5.837906481591415, 8.293526065536314, 5.188469911279665, 5.019534985180774, 6.012933651804757, 5.0194236570148005, 5.019555306770266, 5.019445717222842, 5.020820208128011, 5.1924464926549625, 10.30885185135047, 4.369539213960106, 4.370792596838418, 18.307751071804528, 4.2014416738827896, 4.201472469333411, 5.031707973168261, 26.285150468249572, 5.036227614722121, 4.200737058385206, 4.368824489758193, 4.2012633749182795, 5.83622757172316, 3.550891335411165, 3.551111657375759, 3.5511117628841387, 7.518157269734193, 17.54286675474263, 12.378822227434856, 43.63792337866417, 8.287057152843738, 33.55611314998861, 8.584518488010332, 70.67500095676908, 132.3483773538831, 41.24134404538786, 11.767046210994167, 21.53816027041354, 139.26694070267385, 22.030309968579566, 272.38032780062673, 21.64683090783473, 44.07975692494242, 28.352121890526824, 86.73658427961894, 23.007768330740085, 435.82911423599523, 71.96341104423318, 890.6317770577856, 33.86742482487694, 21.936376949921204, 206.39530909871684, 633.6959328693946, 113.08384333790212, 247.7077087603775, 167.39690360217116, 144.5636125614714, 287.3775973182549, 152.1685544890762, 162.3902640869359, 58.76302268776574, 90.04698505857677, 82.98018968177342, 109.82679200679982, 278.02265316625454, 94.209960402523, 151.9255427660516, 174.61254676271298, 257.18718093033186, 221.52039443494306, 347.14177192252504, 219.44826007579567, 158.2538618372717], \"Category\": [\"Default\", \"Default\", \"Default\", \"Default\", \"Default\", \"Default\", \"Default\", \"Default\", \"Default\", \"Default\", \"Default\", \"Default\", \"Default\", \"Default\", \"Default\", \"Default\", \"Default\", \"Default\", \"Default\", \"Default\", \"Default\", \"Default\", \"Default\", \"Default\", \"Default\", \"Default\", \"Default\", \"Default\", \"Default\", \"Default\", \"Topic1\", \"Topic1\", \"Topic1\", \"Topic1\", \"Topic1\", \"Topic1\", \"Topic1\", \"Topic1\", \"Topic1\", \"Topic1\", \"Topic1\", \"Topic1\", \"Topic1\", \"Topic1\", \"Topic1\", \"Topic1\", \"Topic1\", \"Topic1\", \"Topic1\", \"Topic1\", \"Topic1\", \"Topic1\", \"Topic1\", \"Topic1\", \"Topic1\", \"Topic1\", \"Topic1\", \"Topic1\", \"Topic1\", \"Topic1\", \"Topic1\", \"Topic1\", \"Topic1\", \"Topic1\", \"Topic1\", \"Topic1\", \"Topic1\", \"Topic1\", \"Topic1\", \"Topic1\", \"Topic1\", \"Topic1\", \"Topic1\", \"Topic1\", \"Topic1\", \"Topic1\", \"Topic1\", \"Topic1\", \"Topic1\", \"Topic1\", \"Topic1\", \"Topic1\", \"Topic1\", \"Topic1\", \"Topic1\", \"Topic1\", \"Topic1\", \"Topic1\", \"Topic1\", \"Topic1\", \"Topic1\", \"Topic1\", \"Topic1\", \"Topic1\", \"Topic1\", \"Topic1\", \"Topic1\", \"Topic1\", \"Topic1\", \"Topic1\", \"Topic1\", \"Topic1\", \"Topic1\", \"Topic1\", \"Topic1\", \"Topic1\", \"Topic2\", \"Topic2\", \"Topic2\", \"Topic2\", \"Topic2\", \"Topic2\", \"Topic2\", \"Topic2\", \"Topic2\", \"Topic2\", \"Topic2\", \"Topic2\", \"Topic2\", \"Topic2\", \"Topic2\", \"Topic2\", \"Topic2\", \"Topic2\", \"Topic2\", \"Topic2\", \"Topic2\", \"Topic2\", \"Topic2\", \"Topic2\", \"Topic2\", \"Topic2\", \"Topic2\", \"Topic2\", \"Topic2\", \"Topic2\", \"Topic2\", \"Topic2\", \"Topic2\", \"Topic2\", \"Topic2\", \"Topic2\", \"Topic2\", \"Topic2\", \"Topic2\", \"Topic2\", \"Topic2\", \"Topic2\", \"Topic2\", \"Topic2\", \"Topic2\", \"Topic2\", \"Topic2\", \"Topic2\", \"Topic2\", \"Topic2\", \"Topic2\", \"Topic2\", \"Topic2\", \"Topic2\", \"Topic2\", \"Topic2\", \"Topic2\", \"Topic2\", \"Topic2\", \"Topic2\", \"Topic2\", \"Topic2\", \"Topic2\", \"Topic2\", \"Topic2\", \"Topic2\", \"Topic2\", \"Topic2\", \"Topic2\", \"Topic2\", \"Topic2\", \"Topic2\", \"Topic2\", \"Topic2\", \"Topic2\", \"Topic2\", \"Topic3\", \"Topic3\", \"Topic3\", \"Topic3\", \"Topic3\", \"Topic3\", \"Topic3\", \"Topic3\", \"Topic3\", \"Topic3\", \"Topic3\", \"Topic3\", \"Topic3\", \"Topic3\", \"Topic3\", \"Topic3\", \"Topic3\", \"Topic3\", \"Topic3\", \"Topic3\", \"Topic3\", \"Topic3\", \"Topic3\", \"Topic3\", \"Topic3\", \"Topic3\", \"Topic3\", \"Topic3\", \"Topic3\", \"Topic3\", \"Topic3\", \"Topic3\", \"Topic3\", \"Topic3\", \"Topic3\", \"Topic3\", \"Topic3\", \"Topic3\", \"Topic3\", \"Topic3\", \"Topic3\", \"Topic3\", \"Topic3\", \"Topic3\", \"Topic3\", \"Topic3\", \"Topic3\", \"Topic3\", \"Topic3\", \"Topic3\", \"Topic3\", \"Topic3\", \"Topic3\", \"Topic3\", \"Topic3\", \"Topic3\", \"Topic3\", \"Topic3\", \"Topic3\", \"Topic3\", \"Topic3\", \"Topic3\", \"Topic3\", \"Topic3\", \"Topic3\", \"Topic3\", \"Topic3\", \"Topic3\", \"Topic3\", \"Topic3\", \"Topic3\", \"Topic3\", \"Topic3\", \"Topic3\", \"Topic3\", \"Topic3\", \"Topic3\", \"Topic3\", \"Topic4\", \"Topic4\", \"Topic4\", \"Topic4\", \"Topic4\", \"Topic4\", \"Topic4\", \"Topic4\", \"Topic4\", \"Topic4\", \"Topic4\", \"Topic4\", \"Topic4\", \"Topic4\", \"Topic4\", \"Topic4\", \"Topic4\", \"Topic4\", \"Topic4\", \"Topic4\", \"Topic4\", \"Topic4\", \"Topic4\", \"Topic4\", \"Topic4\", \"Topic4\", \"Topic4\", \"Topic4\", \"Topic4\", \"Topic4\", \"Topic4\", \"Topic4\", \"Topic4\", \"Topic4\", \"Topic4\", \"Topic4\", \"Topic4\", \"Topic4\", \"Topic4\", \"Topic4\", \"Topic4\", \"Topic4\", \"Topic4\", \"Topic4\", \"Topic4\", \"Topic4\", \"Topic4\", \"Topic4\", \"Topic4\", \"Topic4\", \"Topic4\", \"Topic4\", \"Topic4\", \"Topic4\", \"Topic4\", \"Topic4\", \"Topic4\", \"Topic4\", \"Topic4\", \"Topic4\", \"Topic4\", \"Topic4\", \"Topic4\", \"Topic4\", \"Topic4\", \"Topic4\", \"Topic4\", \"Topic4\", \"Topic4\", \"Topic4\", \"Topic4\", \"Topic4\", \"Topic4\", \"Topic4\", \"Topic4\", \"Topic4\", \"Topic4\"], \"logprob\": [30.0, 29.0, 28.0, 27.0, 26.0, 25.0, 24.0, 23.0, 22.0, 21.0, 20.0, 19.0, 18.0, 17.0, 16.0, 15.0, 14.0, 13.0, 12.0, 11.0, 10.0, 9.0, 8.0, 7.0, 6.0, 5.0, 4.0, 3.0, 2.0, 1.0, -6.2642, -6.7117, -6.8332, -6.6567, -6.9026, -6.9512, -6.862, -7.1957, -7.0713, -7.229, -7.2413, -7.399, -7.4043, -7.4043, -7.4069, -7.4113, -7.4175, -6.7373, -7.5668, -7.6068, -7.6069, -7.6089, -7.6119, -7.6136, -7.6142, -7.6154, -7.6205, -6.683, -7.6249, -7.1643, -6.947, -5.5177, -6.626, -3.8058, -6.3565, -6.2214, -5.6235, -6.8128, -3.8869, -4.252, -4.7274, -4.592, -5.7688, -6.0295, -2.8969, -5.1777, -3.7648, -6.052, -5.952, -5.0019, -5.9364, -5.5217, -4.1621, -4.2034, -5.0879, -4.6554, -4.371, -5.4753, -4.6423, -4.6606, -4.4043, -4.5327, -3.9808, -5.1745, -4.7253, -4.7538, -4.9883, -4.723, -5.0354, -4.9435, -5.0566, -4.583, -4.799, -4.8788, -4.9876, -5.1186, -5.3326, -6.6393, -6.6133, -6.1223, -6.7693, -6.3593, -7.1041, -7.1353, -7.2151, -7.2153, -6.7412, -7.2224, -6.8355, -7.2543, -7.1573, -6.3457, -7.0448, -7.4144, -7.4167, -7.4531, -7.4222, -4.9386, -7.1758, -6.8416, -7.4627, -6.6944, -6.0495, -5.2823, -7.4381, -7.6156, -7.3032, -5.933, -5.8953, -6.3461, -5.3478, -4.3443, -6.1867, -5.1042, -4.6557, -5.7798, -6.399, -4.1006, -5.3451, -5.8109, -6.3202, -5.4599, -4.9631, -4.6671, -4.3981, -4.7406, -5.2819, -4.4434, -4.4982, -4.798, -4.7297, -3.6698, -5.4552, -5.6088, -5.0087, -4.4707, -4.1144, -4.39, -4.3863, -4.3284, -4.6051, -3.9237, -4.6018, -4.6134, -4.7152, -4.9356, -4.9464, -5.098, -4.8795, -4.9669, -5.0253, -5.0595, -5.9973, -5.391, -6.5361, -6.6393, -6.8203, -6.8444, -6.1775, -6.5708, -6.9469, -6.9737, -6.9807, -6.6707, -7.1235, -7.1243, -7.1258, -7.1262, -7.1263, -7.133, -6.5255, -7.1369, -7.2947, -7.2949, -7.2964, -7.2968, -7.2971, -7.2974, -7.3011, -7.3015, -6.8788, -6.6176, -4.5662, -4.6224, -6.5486, -4.8477, -5.9258, -4.7515, -6.8951, -6.6385, -5.7958, -4.7555, -5.4131, -3.8409, -4.9376, -4.416, -5.2561, -5.8834, -5.5452, -5.2836, -3.9909, -5.5652, -3.4261, -3.799, -5.3064, -5.7136, -4.6519, -6.0129, -5.0829, -5.6707, -5.5618, -5.6073, -3.6054, -4.3453, -5.3744, -4.3706, -4.8601, -4.6884, -4.5809, -4.7154, -5.0493, -5.0326, -5.0361, -4.8655, -5.1197, -5.0509, -5.0996, -5.0626, -5.1909, -5.2239, -6.1876, -6.2732, -6.6227, -6.761, -6.7613, -6.419, -6.8986, -6.933, -6.7526, -6.9336, -6.9341, -6.937, -6.9448, -6.9124, -6.2316, -7.0979, -7.1033, -5.6736, -7.1455, -7.1505, -6.9703, -5.3219, -6.9762, -7.1617, -7.1251, -7.1686, -6.8432, -7.3488, -7.3513, -7.3513, -6.6027, -5.7888, -6.1289, -5.0204, -6.5497, -5.2931, -6.5308, -4.7275, -4.2471, -5.2465, -6.2806, -5.8481, -4.456, -5.8468, -4.0658, -5.8871, -5.3886, -5.7105, -4.9507, -5.8776, -3.9277, -5.1176, -3.468, -5.6469, -5.926, -4.5685, -3.9545, -5.0084, -4.6036, -4.8267, -4.9357, -4.6368, -4.9464, -4.9198, -5.4088, -5.23, -5.2681, -5.1529, -4.7771, -5.226, -5.1022, -5.0692, -4.9537, -5.0713, -5.0357, -5.1151, -5.1631], \"loglift\": [30.0, 29.0, 28.0, 27.0, 26.0, 25.0, 24.0, 23.0, 22.0, 21.0, 20.0, 19.0, 18.0, 17.0, 16.0, 15.0, 14.0, 13.0, 12.0, 11.0, 10.0, 9.0, 8.0, 7.0, 6.0, 5.0, 4.0, 3.0, 2.0, 1.0, 1.1699, 1.1497, 1.1417, 1.138, 1.1331, 1.129, 1.1142, 1.1061, 1.1016, 1.1016, 1.0904, 1.0847, 1.0799, 1.0795, 1.0775, 1.0731, 1.0669, 1.0598, 1.0585, 1.0579, 1.0578, 1.0559, 1.0532, 1.0517, 1.051, 1.05, 1.0453, 1.0411, 1.0405, 1.0398, 1.037, 1.017, 1.0225, 0.8827, 0.9939, 0.9756, 0.919, 0.9937, 0.7364, 0.7666, 0.7883, 0.7633, 0.8864, 0.9062, 0.4843, 0.79, 0.5585, 0.88, 0.8485, 0.5827, 0.8015, 0.6901, 0.3502, 0.342, 0.5261, 0.3551, 0.1195, 0.5706, 0.2241, 0.2263, 0.093, 0.1282, -0.2592, 0.379, 0.118, 0.1282, 0.2468, 0.059, 0.2227, 0.1093, 0.122, -0.4871, -0.2331, -0.2552, -0.0424, -0.0355, 1.2065, 1.193, 1.1894, 1.1836, 1.1803, 1.1655, 1.1526, 1.1463, 1.1418, 1.1416, 1.1375, 1.1345, 1.1305, 1.1301, 1.1245, 1.123, 1.1193, 1.1164, 1.1139, 1.1107, 1.1084, 1.1055, 1.1039, 1.1016, 1.1009, 1.1007, 1.0965, 1.0925, 1.0918, 1.0868, 1.0811, 1.0502, 1.0457, 1.0584, 1.0009, 0.9232, 1.0313, 0.9198, 0.8752, 0.9563, 1.0212, 0.6814, 0.8505, 0.8959, 0.978, 0.8008, 0.6889, 0.591, 0.4838, 0.5717, 0.7097, 0.4435, 0.4471, 0.5353, 0.5054, 0.0518, 0.7432, 0.775, 0.4655, 0.1902, -0.0186, 0.1074, 0.1042, -0.005, 0.0186, -0.5425, -0.0564, -0.0475, -0.0267, 0.2141, 0.0641, 0.3516, -0.3672, -0.1236, 0.0836, -0.1931, 1.3286, 1.312, 1.298, 1.2816, 1.2768, 1.2751, 1.2658, 1.265, 1.2641, 1.2625, 1.2557, 1.2487, 1.2449, 1.244, 1.2423, 1.2423, 1.2423, 1.235, 1.2323, 1.2322, 1.2257, 1.2256, 1.2242, 1.224, 1.2236, 1.2233, 1.2197, 1.2192, 1.2159, 1.2133, 1.1793, 1.1711, 1.2096, 1.1698, 1.1756, 1.1012, 1.2015, 1.1842, 1.1221, 1.0413, 1.0872, 0.9317, 1.0362, 0.895, 0.991, 1.0616, 0.9919, 0.9387, 0.6328, 0.9637, 0.2954, 0.2968, 0.7793, 0.9134, 0.4312, 0.9853, 0.575, 0.8311, 0.7791, 0.7973, -0.2242, 0.1452, 0.6763, 0.1268, 0.3186, 0.1781, -0.0686, -0.1495, 0.15, 0.1155, 0.0727, -0.3201, 0.168, -0.1057, -0.2563, -0.7392, -0.1381, -0.5631, 1.671, 1.6709, 1.6547, 1.6477, 1.6474, 1.6386, 1.6281, 1.6267, 1.6266, 1.6262, 1.6256, 1.6228, 1.6147, 1.6135, 1.6085, 1.6005, 1.5949, 1.5922, 1.5921, 1.5872, 1.587, 1.5822, 1.5803, 1.5761, 1.5735, 1.5691, 1.5658, 1.5571, 1.5546, 1.5546, 1.5531, 1.5197, 1.5282, 1.3768, 1.5087, 1.3668, 1.4924, 1.1875, 1.0406, 1.2072, 1.4272, 1.2552, 0.7807, 1.2338, 0.5001, 1.2111, 0.9985, 1.1179, 0.7595, 1.1597, 0.1681, 0.7793, -0.0868, 1.0037, 1.159, 0.2748, -0.2329, 0.4365, 0.0572, 0.226, 0.2637, -0.1245, 0.2017, 0.1633, 0.6908, 0.4428, 0.4864, 0.3213, -0.2317, 0.4015, 0.0475, -0.0587, -0.3304, -0.2987, -0.7123, -0.3331, -0.0542]}, \"token.table\": {\"Topic\": [1, 2, 3, 4, 1, 4, 1, 2, 3, 4, 1, 2, 1, 4, 2, 3, 4, 1, 2, 3, 4, 1, 1, 2, 4, 1, 3, 4, 4, 3, 2, 3, 4, 4, 1, 2, 3, 4, 1, 3, 4, 1, 2, 1, 2, 3, 4, 1, 2, 3, 4, 1, 2, 3, 4, 4, 4, 3, 4, 1, 2, 1, 3, 1, 2, 1, 2, 3, 4, 2, 3, 1, 2, 3, 4, 1, 1, 2, 3, 4, 1, 2, 3, 4, 1, 2, 1, 1, 2, 3, 4, 4, 3, 1, 1, 4, 2, 1, 2, 3, 4, 1, 2, 3, 4, 3, 1, 2, 3, 4, 2, 4, 1, 2, 3, 4, 1, 1, 2, 3, 4, 1, 2, 3, 4, 1, 2, 3, 4, 1, 2, 3, 4, 2, 1, 2, 4, 2, 4, 3, 1, 3, 4, 1, 2, 3, 4, 1, 3, 1, 4, 1, 2, 3, 4, 4, 1, 2, 3, 4, 1, 2, 3, 4, 1, 1, 3, 1, 2, 3, 4, 3, 4, 1, 1, 4, 1, 2, 3, 1, 2, 3, 4, 1, 2, 3, 4, 1, 2, 3, 4, 1, 2, 3, 4, 3, 2, 1, 2, 3, 4, 1, 2, 3, 4, 1, 2, 3, 4, 1, 1, 2, 3, 4, 3, 2, 3, 2, 4, 1, 2, 3, 4, 2, 4, 1, 2, 3, 4, 2, 1, 2, 4, 3, 4, 3, 1, 1, 1, 2, 3, 4, 1, 2, 3, 4, 1, 1, 2, 3, 4, 2, 4, 1, 2, 3, 4, 1, 2, 3, 4, 2, 1, 2, 3, 4, 1, 2, 3, 4, 1, 2, 3, 4, 2, 1, 2, 3, 4, 1, 2, 3, 1, 2, 3, 4, 1, 2, 3, 4, 1, 2, 3, 4, 1, 2, 3, 4, 2, 4, 1, 2, 3, 4, 1, 1, 2, 3, 4, 4, 1, 2, 4, 3, 1, 2, 3, 4, 3, 4, 3, 4, 2, 3, 4, 2, 3, 1, 2, 3, 4, 1, 2, 3, 4, 1, 3, 1, 2, 4, 1, 2, 4, 4, 1, 2, 3, 4, 3, 3, 4, 1, 2, 3, 1, 2, 3, 4, 2, 3, 4, 1, 3, 1, 3, 3, 1, 2, 3, 4, 2, 3, 1, 2, 3, 4, 2, 1, 2, 3, 4, 1, 2, 1, 2, 3, 4, 1, 2, 3, 4, 1, 2, 3, 4, 1, 2, 3, 4, 1, 2, 3, 4, 3, 1, 2, 3, 4, 1, 2, 4, 1, 3, 1, 2, 3, 4, 2, 1, 2, 3, 4, 1, 3, 3, 2, 3, 1, 2, 3, 4, 2, 2, 4, 1, 2, 3, 4, 1, 2, 3, 4, 1, 2, 3, 4, 1, 2, 3, 4, 2, 3, 4, 1, 3, 4, 1, 3, 1, 2, 3, 4, 3, 2, 3, 1, 2, 3, 4, 1, 2, 3, 2, 1, 2, 3, 1, 3, 1, 2, 3, 4, 1, 2, 3, 4, 1, 4, 2, 1, 2, 3, 4, 4, 1, 2, 3, 4, 1, 2, 3, 4, 3, 4, 2, 4, 2, 4, 1, 2, 3, 4, 1, 2, 3, 4, 2, 4, 1, 2, 4, 3, 4, 1, 2, 3, 4, 2, 4, 1, 2, 3, 4, 2, 4, 1, 4, 1, 2, 3, 1, 2, 3, 4, 1, 3, 4, 2, 3, 2, 3, 4, 1, 2, 3, 4, 2, 4, 1, 2, 3, 4, 1, 1, 2, 3, 4, 1, 1, 4, 1, 2, 3, 4, 1, 3, 2, 4, 1, 2, 3, 4, 2, 3, 1, 3, 4, 4, 1, 2, 3, 4, 1, 2, 3, 4, 1, 2], \"Freq\": [0.1007040934497266, 0.1510561401745899, 0.5538725139734962, 0.2014081868994532, 0.2329775400674276, 0.6989326202022828, 0.43370584329451145, 0.30556548050295124, 0.08871255885569553, 0.17742511771139105, 0.22569878117360775, 0.7335210388142253, 0.13301131701855917, 0.798067902111355, 0.7895384152053053, 0.07895384152053053, 0.07895384152053053, 0.3694601513705892, 0.44031552286631864, 0.0961608613156328, 0.09109976335165212, 0.8850515806567755, 0.10754586967724679, 0.8603669574179743, 0.7968865665463519, 0.0762146490705386, 0.7621464907053859, 0.17783418116459004, 0.7966825805721055, 0.8225322723912735, 0.7649465256560535, 0.12749108760934225, 0.06374554380467112, 0.7140709192168544, 0.5026485078575764, 0.20943687827399018, 0.16754950261919213, 0.1256621269643941, 0.02980082930136202, 0.2980082930136202, 0.6556182446299644, 0.7727855898659355, 0.1783351361229082, 0.14149274658116895, 0.05659709863246758, 0.2546869438461041, 0.5518217116665589, 0.7096894593771773, 0.2739152299350509, 0.00830046151318336, 0.00830046151318336, 0.3323771305422567, 0.45827755877795995, 0.14604449675341583, 0.06043220555313758, 0.8315408566830387, 0.7942452776175216, 0.8227447151336946, 0.7969007387160507, 0.8637931038570772, 0.08637931038570772, 0.8362954789397521, 0.09292171988219468, 0.0927327347177153, 0.8345946124594377, 0.23000809935743038, 0.28258137921055737, 0.28258137921055737, 0.20372145943086692, 0.09658724060948586, 0.8692851654853727, 0.09268186619932611, 0.046340933099663056, 0.834136795793935, 0.046340933099663056, 0.9505516838041687, 0.09003731730965912, 0.06002487820643942, 0.720298538477273, 0.13505597596448868, 0.04619613855985107, 0.1847845542394043, 0.1847845542394043, 0.5543536627182128, 0.21831609202826788, 0.7641063220989376, 0.8856563277774717, 0.41806846846579826, 0.30352916203681246, 0.12026627175043512, 0.16035502900058016, 0.8610916505645902, 0.9578883234926535, 0.8633238478689222, 0.7504471793710323, 0.18761179484275808, 0.7739539046249105, 0.18561717541700137, 0.10827668565991747, 0.6187239180566713, 0.09280858770850069, 0.8855445340293235, 0.2091377336031936, 0.65355541750998, 0.130711083501996, 0.9578863269817787, 0.2212275578313053, 0.37438509786836277, 0.08508752224280973, 0.3403500889712389, 0.974024349330554, 0.7140353820944989, 0.10177670889094971, 0.12722088611368715, 0.5852160761229608, 0.178109240559162, 0.9515433152582324, 0.17154176750601616, 0.05868534151521606, 0.6455387566673766, 0.12639919710969613, 0.29181887549925045, 0.1414879396360002, 0.30066187172650044, 0.2652898868175004, 0.28433854848307855, 0.4399200184077819, 0.23068976575042222, 0.048283904459390695, 0.2817658483627554, 0.6011004765072115, 0.056353169672551086, 0.07513755956340144, 0.90744119411536, 0.7460741465044092, 0.039267060342337325, 0.23560236205402393, 0.371433766837988, 0.6035798711117305, 0.8978886399414729, 0.10581218617723202, 0.3527072872574401, 0.5290609308861601, 0.12997418496773686, 0.10831182080644737, 0.5632214681935264, 0.21662364161289474, 0.8880474593737169, 0.9465474276148368, 0.10924334682921091, 0.8193251012190819, 0.24006059290937823, 0.5033528561003092, 0.09292668112621093, 0.16262169197086912, 0.7949586942108176, 0.21443847072387023, 0.26977743091067546, 0.29744691100407805, 0.22135584074722087, 0.16041093292313952, 0.045831695120897006, 0.11457923780224251, 0.6645595792530066, 0.9695185075673263, 0.9471940295101308, 0.957903462715317, 0.18156803084954076, 0.09078401542477038, 0.18156803084954076, 0.5900961002610075, 0.8779764751557332, 0.8448058524532224, 0.8891538435804962, 0.837582612633403, 0.13959710210556717, 0.7419885523942191, 0.23849632041242758, 0.026499591156936397, 0.47831214983963055, 0.16392857717508466, 0.2032265237581529, 0.15494618938466906, 0.25907740590974787, 0.3096290948677475, 0.27171532814924776, 0.1579740279937487, 0.32946485216617144, 0.25194371048001346, 0.19864792557077984, 0.2228732823477042, 0.41756908374143925, 0.19486557241267166, 0.23662248078681558, 0.14962892167401573, 0.7664957960309818, 0.9190071352907406, 0.2294968876523038, 0.28784355400458445, 0.4784426640887012, 0.0038897777568187085, 0.3667881571617105, 0.5135034200263947, 0.02934305257293684, 0.09536492086204472, 0.26574208244463715, 0.08858069414821239, 0.17716138829642478, 0.47243036879046607, 0.8508730600579101, 0.5287854752378782, 0.06101370868129364, 0.33557539774711503, 0.08135161157505819, 0.8650315622013034, 0.8532211393435193, 0.12878809650468215, 0.12057597602007819, 0.8440318321405473, 0.1760024303717034, 0.1005728173552591, 0.7165813236562211, 0.012571602169407387, 0.16156625915246225, 0.8078312957623113, 0.6859792969528562, 0.10289689454292843, 0.10289689454292843, 0.10289689454292843, 0.8132022751346732, 0.3191046550658925, 0.1367591378853825, 0.54703655154153, 0.9577389863262636, 0.7141603862140379, 0.7663737646389268, 0.8854632272780171, 0.885397671369649, 0.33198707150283524, 0.2845603470024302, 0.3523128105744374, 0.033876231786003595, 0.09690942073859968, 0.8237300762780972, 0.04845471036929984, 0.04845471036929984, 0.923783053838411, 0.09234556551852158, 0.04617278275926079, 0.5540733931111295, 0.3001230879351951, 0.8131895734177046, 0.9154283333172806, 0.18879032972554577, 0.34426471891128935, 0.19989564323881315, 0.26652752431841753, 0.30571091170869363, 0.19454330745098686, 0.12506355478992012, 0.361294713837547, 0.7740129209793007, 0.11343075254507046, 0.09074460203605637, 0.34029225763521137, 0.4537230101802818, 0.12682076532479666, 0.3343456540381003, 0.18446656774515877, 0.3574039750062451, 0.3669246671829602, 0.2330467480756639, 0.30246492835352123, 0.09421038751994924, 0.9344671756271056, 0.3302546518297492, 0.3132312161684219, 0.2928030933748292, 0.0612843683807782, 0.24985586943009436, 0.6871036409327596, 0.031231983678761795, 0.1502582024665429, 0.4824079131820587, 0.26097477270504815, 0.10280824379289777, 0.11996143296820691, 0.6198007370024023, 0.059980716484103455, 0.19993572161367817, 0.7118667292379999, 0.059322227436499994, 0.14830556859125, 0.08898334115474998, 0.3144249126248162, 0.5604965833746723, 0.009113765583328007, 0.12303583537492808, 0.7397009141741084, 0.25728727449534206, 0.6443959077031285, 0.16109897692578212, 0.03221979538515642, 0.16109897692578212, 0.8857162583835504, 0.23496557375041363, 0.26800760755906555, 0.22028022539101277, 0.2790216188286162, 0.9151658220738664, 0.9269776161764528, 0.7741115201927942, 0.8564714107302723, 0.8227488394843593, 0.5156394720481785, 0.2823054092777737, 0.1209880325476173, 0.08353935580668813, 0.9334286907235123, 0.031114289690783743, 0.6343898427021408, 0.34603082329207685, 0.15429025718950962, 0.7714512859475481, 0.038572564297377404, 0.06523616252154513, 0.9133062753016317, 0.11964662641593521, 0.5656022339662392, 0.22841628679405812, 0.09789269434031063, 0.19694391739576475, 0.2516505611168105, 0.4485944785125753, 0.09847195869788238, 0.9436859792639308, 0.9642294969258218, 0.923750857231423, 0.9199879627906873, 0.07076830483005286, 0.9235684441650377, 0.12067009814899682, 0.7240205888939809, 0.770940194006725, 0.15418211210652483, 0.6745467404660461, 0.09636382006657801, 0.07709105605326241, 0.9860646934935068, 0.8933983067084402, 0.08933983067084403, 0.26226443669683364, 0.6556610917420841, 0.07493269619909533, 0.03804429429490703, 0.07608858858981406, 0.07608858858981406, 0.8369744744879546, 0.208999313682781, 0.6687978037848992, 0.1253995882096686, 0.09611481047784443, 0.8650332943005998, 0.10501633591410643, 0.8401306873128515, 0.8222897792694721, 0.5902262376889655, 0.0951977802724138, 0.1903955605448276, 0.1332768923813793, 0.7999187194804336, 0.8434458680301021, 0.6454200821987498, 0.21830385133193006, 0.028474415391121312, 0.10440618976744481, 0.81317817289645, 0.5161047166275441, 0.3386937202868258, 0.032256544789221506, 0.11289790676227528, 0.056856732238089874, 0.909707715809438, 0.15111632193663008, 0.06800234487148353, 0.30223264387326015, 0.4760164141003847, 0.09861731894581273, 0.17751117410246292, 0.6903212326206891, 0.03944692757832509, 0.26935711821059366, 0.01923979415789955, 0.6541530013685846, 0.0769591766315982, 0.09699004949009006, 0.12123756186261259, 0.21822761135270266, 0.5576927845680179, 0.614338550733599, 0.15552874702116432, 0.10887012291481502, 0.12053477894140234, 0.864917733343024, 0.007404571330316028, 0.7108388477103388, 0.259159996561061, 0.022213713990948087, 0.7841283815705277, 0.1120183402243611, 0.1120183402243611, 0.12536121515074977, 0.8775285060552485, 0.3799722754425294, 0.4660037340332907, 0.07886217037486458, 0.07886217037486458, 0.8001432199680516, 0.15853426939204376, 0.07926713469602188, 0.753037779612208, 0.03963356734801094, 0.7648641829831533, 0.20396378212884086, 0.8226352782865658, 0.089376488996596, 0.8937648899659602, 0.09044982226790942, 0.6105363003083886, 0.022612455566977354, 0.27134946680372823, 0.9050698073079277, 0.8358114940730631, 0.16716229881461261, 0.20942066666734632, 0.4461570724652161, 0.10926295652209372, 0.23673640579786975, 0.03988170867079427, 0.013293902890264758, 0.7577524647450912, 0.1861146404637066, 0.269869037513563, 0.34885509727363023, 0.20404732104684034, 0.17771863446015126, 0.3350723334988774, 0.34314636563138046, 0.14533257838505526, 0.17762870691506752, 0.11400645219284412, 0.11400645219284412, 0.7980451653499088, 0.704126913305732, 0.11735448555095532, 0.15647264740127376, 0.17541842530291712, 0.8144426889064009, 0.6305855000858184, 0.23444845516011198, 0.016168858976559446, 0.11318201283591613, 0.8223873494567793, 0.8358424856037866, 0.9577866605800363, 0.01577883050250916, 0.7100473726129122, 0.14200947452258245, 0.14200947452258245, 0.6413175141135242, 0.328115937453431, 0.014914360793337772, 0.8828445632535471, 0.04117771852860157, 0.8235543705720314, 0.1235331555858047, 0.12513421346483442, 0.875939494253841, 0.923243332568152, 0.16996618897709123, 0.08498309448854562, 0.6798647559083649, 0.21068904645647057, 0.2268958961838914, 0.5024123415500452, 0.06482739890968325, 0.891833110003463, 0.7703497774427234, 0.9052234783688451, 0.15797000988891266, 0.23695501483336898, 0.23695501483336898, 0.3662032047424793, 0.7969042410695649, 0.13178958748918662, 0.026357917497837325, 0.6853058549437704, 0.15814750498702396, 0.23352095580979385, 0.38212520041602627, 0.1273750668053421, 0.2547501336106842, 0.815232300807183, 0.17245298670921178, 0.9034034286990389, 0.8448582951786171, 0.8047773664763893, 0.8564745548557197, 0.28326821351416626, 0.12316009283224619, 0.3941122970631878, 0.1970561485315939, 0.24440826134442048, 0.5804696206929987, 0.13747964700623652, 0.03055103266805256, 0.8157848611289783, 0.12550536325061204, 0.3477086471403403, 0.1303907426776276, 0.5215629707105104, 0.8231542250346032, 0.8448058775535586, 0.3374299348721565, 0.22897031294896333, 0.15666389833350122, 0.2771745893592714, 0.869810363523968, 0.0669084895018437, 0.3285604381949072, 0.23895304595993253, 0.2210315675129376, 0.20908391521494096, 0.9625104804553929, 0.8893425421530138, 0.9238190501896141, 0.9013166557326615, 0.044813911455508844, 0.851464317654668, 0.1120347786387721, 0.6350772918098196, 0.13856231821305157, 0.09814830873424486, 0.12701545836196393, 0.8850149976470497, 0.09700401309666692, 0.8730361178700022, 0.09532662711809087, 0.8579396440628179, 0.023885903974867007, 0.8240636871329118, 0.14331542384920204, 0.4136353591706473, 0.2661653615532861, 0.18343828971915663, 0.13308268077664304, 0.7734383910529044, 0.7968833403638144, 0.8151775038118098, 0.1314802425502919, 0.026296048510058376, 0.026296048510058376, 0.8860487122056137, 0.2272383213001914, 0.2982502967065012, 0.3408574819502871, 0.13413373132302964, 0.9235972161486696, 0.8851552557364046, 0.9155780941480195, 0.22208787136264707, 0.39975816845276474, 0.27538896048968237, 0.09771866339956471, 0.923140332209662, 0.9580288559042498, 0.17134355843919696, 0.8567177921959849, 0.181263705015408, 0.2776317507198021, 0.34187711452273156, 0.1996195232448164, 0.8801678212748523, 0.11002097765935653, 0.800905529298155, 0.08009055292981548, 0.08009055292981548, 0.7140406157840412, 0.10414931207933947, 0.7811198405950461, 0.05207465603966974, 0.05207465603966974, 0.32225743237988114, 0.31540089126541554, 0.2879747268075533, 0.07542195225912111, 0.05282180701349257, 0.9507925262428661], \"Term\": [\"able\", \"able\", \"able\", \"able\", \"accept\", \"accept\", \"actually\", \"actually\", \"actually\", \"actually\", \"adopt\", \"adopt\", \"advertise\", \"advertise\", \"already\", \"already\", \"already\", \"also\", \"also\", \"also\", \"also\", \"amazingly\", \"apart\", \"apart\", \"apple\", \"apply\", \"apply\", \"apply\", \"attract\", \"average\", \"awesome\", \"awesome\", \"awesome\", \"awful\", \"back\", \"back\", \"back\", \"back\", \"bad\", \"bad\", \"bad\", \"bald\", \"bald\", \"big\", \"big\", \"big\", \"big\", \"brush\", \"brush\", \"brush\", \"brush\", \"buy\", \"buy\", \"buy\", \"buy\", \"buzz\", \"cap\", \"capture\", \"carefully\", \"change\", \"change\", \"choose\", \"choose\", \"circular\", \"circular\", \"clean\", \"clean\", \"clean\", \"clean\", \"cleanly\", \"cleanly\", \"clear\", \"clear\", \"clear\", \"clear\", \"clearly\", \"clip\", \"clip\", \"clip\", \"clip\", \"close\", \"close\", \"close\", \"close\", \"comb\", \"comb\", \"combine\", \"come\", \"come\", \"come\", \"come\", \"construct\", \"contain\", \"cool\", \"create\", \"create\", \"curl\", \"cut\", \"cut\", \"cut\", \"cut\", \"damage\", \"declaw\", \"declaw\", \"declaw\", \"describe\", \"different\", \"different\", \"different\", \"different\", \"disappoint\", \"dislike\", \"dry\", \"dry\", \"dry\", \"dry\", \"dsh\", \"easy\", \"easy\", \"easy\", \"easy\", \"enough\", \"enough\", \"enough\", \"enough\", \"even\", \"even\", \"even\", \"even\", \"ever\", \"ever\", \"ever\", \"ever\", \"everyday\", \"everywhere\", \"everywhere\", \"everywhere\", \"excellent\", \"excellent\", \"expose\", \"fairly\", \"fairly\", \"fairly\", \"fall\", \"fall\", \"fall\", \"fall\", \"fight\", \"file\", \"fill\", \"fill\", \"find\", \"find\", \"find\", \"find\", \"firm\", \"first\", \"first\", \"first\", \"first\", \"fit\", \"fit\", \"fit\", \"fit\", \"fluffy\", \"fond\", \"foster\", \"free\", \"free\", \"free\", \"free\", \"frighten\", \"fuzze\", \"general\", \"generally\", \"generally\", \"gentle\", \"gentle\", \"gentle\", \"get\", \"get\", \"get\", \"get\", \"give\", \"give\", \"give\", \"give\", \"go\", \"go\", \"go\", \"go\", \"good\", \"good\", \"good\", \"good\", \"gradually\", \"grateful\", \"great\", \"great\", \"great\", \"great\", \"groom\", \"groom\", \"groom\", \"groom\", \"handle\", \"handle\", \"handle\", \"handle\", \"heat\", \"help\", \"help\", \"help\", \"help\", \"hide\", \"highly\", \"highly\", \"hit\", \"hit\", \"hold\", \"hold\", \"hold\", \"hold\", \"horrible\", \"horrible\", \"huge\", \"huge\", \"huge\", \"huge\", \"ichi\", \"immediately\", \"immediately\", \"immediately\", \"improve\", \"incredibly\", \"inside\", \"irritated\", \"issue\", \"keep\", \"keep\", \"keep\", \"keep\", \"kind\", \"kind\", \"kind\", \"kind\", \"kinda\", \"kitten\", \"kitten\", \"kitten\", \"kitten\", \"kitty\", \"knead\", \"know\", \"know\", \"know\", \"know\", \"large\", \"large\", \"large\", \"large\", \"laugh\", \"least\", \"least\", \"least\", \"least\", \"let\", \"let\", \"let\", \"let\", \"little\", \"little\", \"little\", \"little\", \"local\", \"long\", \"long\", \"long\", \"long\", \"long_haired_cats\", \"long_haired_cats\", \"long_haired_cats\", \"look\", \"look\", \"look\", \"look\", \"loose_hair\", \"loose_hair\", \"loose_hair\", \"loose_hair\", \"lose\", \"lose\", \"lose\", \"lose\", \"love\", \"love\", \"love\", \"love\", \"love_glove\", \"love_glove\", \"maine_coon\", \"maine_coon\", \"maine_coon\", \"maine_coon\", \"maintain\", \"make\", \"make\", \"make\", \"make\", \"maltese\", \"matted\", \"mid\", \"mild\", \"mind\", \"much\", \"much\", \"much\", \"much\", \"nail\", \"nail\", \"nail_caps\", \"nail_caps\", \"nail_clippers\", \"nail_clippers\", \"nail_clippers\", \"nervous\", \"nervous\", \"never\", \"never\", \"never\", \"never\", \"nice\", \"nice\", \"nice\", \"nice\", \"oatmeal\", \"operate\", \"oster\", \"painful\", \"painful\", \"paint\", \"pass\", \"pass\", \"patient\", \"pet\", \"pet\", \"pet\", \"pet\", \"peticure\", \"petite\", \"petite\", \"pick\", \"pick\", \"pick\", \"pink\", \"pink\", \"pink\", \"pink\", \"play\", \"play\", \"play\", \"plug\", \"plug\", \"possible\", \"possible\", \"prepare\", \"pretty\", \"pretty\", \"pretty\", \"pretty\", \"properly\", \"protect\", \"pull\", \"pull\", \"pull\", \"pull\", \"puppy\", \"purchase\", \"purchase\", \"purchase\", \"purchase\", \"purr\", \"purr\", \"put\", \"put\", \"put\", \"put\", \"quick\", \"quick\", \"quick\", \"quick\", \"quickly\", \"quickly\", \"quickly\", \"quickly\", \"quite\", \"quite\", \"quite\", \"quite\", \"really\", \"really\", \"really\", \"really\", \"rear\", \"recommend\", \"recommend\", \"recommend\", \"recommend\", \"regularly\", \"regularly\", \"regularly\", \"relatively\", \"relatively\", \"remove\", \"remove\", \"remove\", \"remove\", \"removed\", \"replace\", \"replace\", \"replace\", \"replace\", \"rid\", \"rid\", \"rinse\", \"round\", \"round\", \"rub\", \"rub\", \"rub\", \"rub\", \"rug\", \"sadly\", \"sadly\", \"say\", \"say\", \"say\", \"say\", \"scratch\", \"scratch\", \"scratch\", \"scratch\", \"see\", \"see\", \"see\", \"see\", \"seem\", \"seem\", \"seem\", \"seem\", \"sell\", \"sell\", \"sell\", \"sensitive\", \"sensitive\", \"sensitive\", \"sharp\", \"sharp\", \"shed\", \"shed\", \"shed\", \"shed\", \"shedde\", \"shine\", \"ship\", \"short\", \"short\", \"short\", \"short\", \"short_hair\", \"short_hair\", \"short_hair\", \"shorthaire\", \"show\", \"show\", \"show\", \"shred\", \"shred\", \"sick\", \"single\", \"single\", \"single\", \"sit\", \"sit\", \"sit\", \"sit\", \"size\", \"skittish\", \"sleepy\", \"small\", \"small\", \"small\", \"small\", \"smash\", \"smell\", \"smell\", \"smell\", \"smell\", \"soft\", \"soft\", \"soft\", \"soft\", \"soft_claws\", \"soft_claws\", \"sound\", \"source\", \"special\", \"stiff\", \"still\", \"still\", \"still\", \"still\", \"stop\", \"stop\", \"stop\", \"stop\", \"stroke\", \"stroke\", \"sturdy\", \"sturdy\", \"sturdy\", \"suck\", \"superfine\", \"sure\", \"sure\", \"sure\", \"sure\", \"surprised\", \"surprised\", \"take\", \"take\", \"take\", \"take\", \"talk\", \"tear\", \"terrible\", \"thankfully\", \"thick\", \"thick\", \"thick\", \"think\", \"think\", \"think\", \"think\", \"thus\", \"traditional\", \"traditional\", \"treat\", \"treat\", \"trim\", \"trim\", \"trim\", \"try\", \"try\", \"try\", \"try\", \"tummy\", \"ultimately\", \"undercoat\", \"undercoat\", \"undercoat\", \"undercoat\", \"universal\", \"use\", \"use\", \"use\", \"use\", \"useful\", \"vacuum\", \"virtually\", \"want\", \"want\", \"want\", \"want\", \"warm\", \"waste\", \"way\", \"way\", \"well\", \"well\", \"well\", \"well\", \"wet\", \"wet\", \"white\", \"white\", \"white\", \"wild\", \"wonderful\", \"wonderful\", \"wonderful\", \"wonderful\", \"work\", \"work\", \"work\", \"work\", \"zoom_groom\", \"zoom_groom\"]}, \"R\": 30, \"lambda.step\": 0.01, \"plot.opts\": {\"xlab\": \"PC1\", \"ylab\": \"PC2\"}, \"topic.order\": [4, 2, 3, 1]};\n",
       "\n",
       "function LDAvis_load_lib(url, callback){\n",
       "  var s = document.createElement('script');\n",
       "  s.src = url;\n",
       "  s.async = true;\n",
       "  s.onreadystatechange = s.onload = callback;\n",
       "  s.onerror = function(){console.warn(\"failed to load library \" + url);};\n",
       "  document.getElementsByTagName(\"head\")[0].appendChild(s);\n",
       "}\n",
       "\n",
       "if(typeof(LDAvis) !== \"undefined\"){\n",
       "   // already loaded: just create the visualization\n",
       "   !function(LDAvis){\n",
       "       new LDAvis(\"#\" + \"ldavis_el2993617974028807047664809327\", ldavis_el2993617974028807047664809327_data);\n",
       "   }(LDAvis);\n",
       "}else if(typeof define === \"function\" && define.amd){\n",
       "   // require.js is available: use it to load d3/LDAvis\n",
       "   require.config({paths: {d3: \"https://d3js.org/d3.v5\"}});\n",
       "   require([\"d3\"], function(d3){\n",
       "      window.d3 = d3;\n",
       "      LDAvis_load_lib(\"https://cdn.jsdelivr.net/gh/bmabey/pyLDAvis@3.3.1/pyLDAvis/js/ldavis.v3.0.0.js\", function(){\n",
       "        new LDAvis(\"#\" + \"ldavis_el2993617974028807047664809327\", ldavis_el2993617974028807047664809327_data);\n",
       "      });\n",
       "    });\n",
       "}else{\n",
       "    // require.js not available: dynamically load d3 & LDAvis\n",
       "    LDAvis_load_lib(\"https://d3js.org/d3.v5.js\", function(){\n",
       "         LDAvis_load_lib(\"https://cdn.jsdelivr.net/gh/bmabey/pyLDAvis@3.3.1/pyLDAvis/js/ldavis.v3.0.0.js\", function(){\n",
       "                 new LDAvis(\"#\" + \"ldavis_el2993617974028807047664809327\", ldavis_el2993617974028807047664809327_data);\n",
       "            })\n",
       "         });\n",
       "}\n",
       "</script>"
      ],
      "text/plain": [
       "<IPython.core.display.HTML object>"
      ]
     },
     "execution_count": 206,
     "metadata": {},
     "output_type": "execute_result"
    }
   ],
   "source": [
    "\n",
    "pyLDAvis.enable_notebook()\n",
    "topic_data =  pyLDAvis.gensim_models.prepare(cats_grooming_optimal_model, \n",
    "                                             cats_grooming_doc_term_matrix, \n",
    "                                             cats_grooming_dictionary, \n",
    "                                             mds = 'tsne')\n",
    "pyLDAvis.display(topic_data)"
   ]
  }
 ],
 "metadata": {
  "kernelspec": {
   "display_name": "chewy_seo",
   "language": "python",
   "name": "chewy_seo"
  },
  "language_info": {
   "codemirror_mode": {
    "name": "ipython",
    "version": 3
   },
   "file_extension": ".py",
   "mimetype": "text/x-python",
   "name": "python",
   "nbconvert_exporter": "python",
   "pygments_lexer": "ipython3",
   "version": "3.9.7"
  }
 },
 "nbformat": 4,
 "nbformat_minor": 5
}
