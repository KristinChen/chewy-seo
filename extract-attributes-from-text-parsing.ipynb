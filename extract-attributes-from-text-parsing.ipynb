{
 "cells": [
  {
   "cell_type": "code",
   "execution_count": 1,
   "id": "f84e741e",
   "metadata": {},
   "outputs": [],
   "source": [
    "%matplotlib inline\n",
    "import random\n",
    "random.seed(1234)\n",
    "from string import punctuation\n",
    "import pandas as pd\n",
    "import gzip\n",
    "# Gensim\n",
    "import gensim\n",
    "import gensim.corpora as corpora\n",
    "from gensim.utils import simple_preprocess\n",
    "from gensim.models import CoherenceModel\n",
    "# import nltk\n",
    "# nltk.download('wordnet')\n",
    "from nltk.corpus import stopwords\n",
    "from nltk.stem.wordnet import WordNetLemmatizer\n",
    "import string\n",
    "import spacy\n",
    "import matplotlib.pyplot as plt\n",
    "import pyLDAvis #python library for interactive topic model visualization\n",
    "import pyLDAvis.gensim_models\n",
    "pyLDAvis.enable_notebook()\n",
    "spacy.prefer_gpu()\n",
    "nlp = spacy.load(\"en_core_web_sm\")\n",
    "import gensim.downloader\n",
    "w2v = gensim.downloader.load('word2vec-google-news-300')\n",
    "# import logging\n",
    "# logging.basicConfig(format='%(asctime)s : %(levelname)s : %(message)s', level=logging.ERROR)\n",
    "\n",
    "# import warnings\n",
    "# warnings.filterwarnings(\"ignore\",category=DeprecationWarning)\n",
    "\n",
    "import pickle\n",
    "import numpy as np\n",
    "\n",
    "# Sklearn\n",
    "from sklearn.decomposition import LatentDirichletAllocation, TruncatedSVD\n",
    "from sklearn.feature_extraction.text import CountVectorizer, TfidfVectorizer\n",
    "from sklearn.model_selection import GridSearchCV\n",
    "from pprint import pprint\n",
    "\n",
    "# Plotting tools\n",
    "# import pyLDAvis\n",
    "# import pyLDAvis.sklearn\n",
    "# import matplotlib.pyplot as plt\n",
    "%matplotlib inline\n",
    "\n",
    "from tqdm.notebook import tqdm as tqdm\n",
    "tqdm.pandas()\n",
    "import math\n",
    "import nltk\n",
    "from collections import defaultdict\n",
    "\n",
    "nlp = spacy.load(\"en_core_web_sm\", disable=['parser', 'ner'])\n",
    "from nltk.probability import FreqDist\n",
    "from gensim.models.ldamulticore import LdaMulticore\n",
    "from nltk import tokenize\n",
    "\n",
    "stop_words = stopwords.words('english')\n",
    "\n",
    "from nltk.stem import WordNetLemmatizer\n",
    "  \n",
    "lemmatizer = WordNetLemmatizer()\n",
    "\n",
    "from numpy import dot\n",
    "from numpy.linalg import norm\n",
    "import random\n",
    "\n",
    "import itertools\n",
    "\n",
    "#nltk.download('vader_lexicon')\n",
    "\n",
    "from nltk.sentiment.vader import SentimentIntensityAnalyzer\n",
    "sent = SentimentIntensityAnalyzer()\n",
    "\n",
    "from scipy.spatial.distance import pdist\n",
    "from scipy.spatial import distance\n",
    "from scipy.cluster.hierarchy import dendrogram, linkage"
   ]
  },
  {
   "cell_type": "markdown",
   "id": "3f589a7c",
   "metadata": {},
   "source": [
    "# read data"
   ]
  },
  {
   "cell_type": "code",
   "execution_count": 11,
   "id": "2606a6ca",
   "metadata": {},
   "outputs": [],
   "source": [
    "df = pd.read_csv('./all_df.csv', index_col = False)"
   ]
  },
  {
   "cell_type": "code",
   "execution_count": 13,
   "id": "d4161e52",
   "metadata": {},
   "outputs": [
    {
     "data": {
      "text/plain": [
       "20.0"
      ]
     },
     "execution_count": 13,
     "metadata": {},
     "output_type": "execute_result"
    }
   ],
   "source": [
    "df.groupby('asin')['reviewText'].nunique().quantile(q = 0.9) #90% of products has only 20 reviews"
   ]
  },
  {
   "cell_type": "code",
   "execution_count": 113,
   "id": "ac2d5944",
   "metadata": {},
   "outputs": [],
   "source": [
    "df0 = df.loc[(df.category_2 == 'Cats')]\n",
    "df1 = df.loc[(df.category_2 == 'Cats') & (df.category_3 == 'Food') ]\n",
    "df2 = df.loc[(df.category_2 == 'Cats') & (df.category_3 == 'Beds & Furniture')] \n",
    "df3 = df.loc[(df.category_2 == 'Cats') & (df.category_3 == 'Litter & Housebreaking')]\n",
    "df4 = df.loc[(df.category_2 == 'Cats') & (df.category_3 == 'Toys')]\n",
    "df5 = df.loc[(df.category_2 == 'Cats') & (df.category_3 == 'Treats')]\n",
    "df6 = df.loc[(df.category_2 == 'Cats') & (df.category_3 == 'Grooming') ]\n",
    "df7 = df.loc[(df.category_2 == 'Cats') & (df.category_3 == 'Feeding & Watering Supplies') ]\n",
    "df8 = df.loc[(df.category_2 == 'Cats') & (df.category_3 == 'Cat Flaps, Steps, Nets & Pens') ]\n",
    "df9 = df.loc[(df.category_2 == 'Cats') & (df.category_3 == 'Collars, Harnesses & Leashes') ]\n",
    "df10 = df.loc[(df.category_2 == 'Cats') & (df.category_3 == 'Health Supplies')]\n",
    "df11 = df.loc[(df.category_2 == 'Cats') & (df.category_3 == 'Educational Repellents')]\n",
    "df12 = df.loc[(df.category_2 == 'Cats') & (df.category_3 == 'Carriers & Strollers')]\n",
    "df13 = df.loc[(df.category_2 == 'Cats') & (df.category_3 == 'Cages')]\n",
    "df14 = df.loc[(df.category_2 == 'Cats') & (df.category_3 == 'Memorials')]\n",
    "df15 = df.loc[(df.category_2 == 'Cats') & (df.category_3 == 'Apparel')]"
   ]
  },
  {
   "cell_type": "markdown",
   "id": "372fce58",
   "metadata": {},
   "source": [
    "# Prepare pipeline to get attribute(s)"
   ]
  },
  {
   "cell_type": "code",
   "execution_count": 161,
   "id": "4a760a96",
   "metadata": {},
   "outputs": [],
   "source": [
    "def clean(sentence, stop_words, lemmatize = True):\n",
    "    '''\n",
    "    Clean sentence. \n",
    "            Parameters:\n",
    "                    sentence (string): A string. \n",
    "                    stop_words (list): A list of words to be removed from a sentence. \n",
    "                    Lemmatize (boolean): A boolean to indicate whether or not to run lemmatization. . \n",
    "                    \n",
    "            Returns:\n",
    "                    _ (list): A list of cleaned tokens. \n",
    "    '''\n",
    "    sen0 = ' '.join([word for word in str(sentence).split() if word.lower() not in stop_words])\n",
    "    sen1 = sen0.translate(str.maketrans('', '', punctuation))\n",
    "    tokens1 = [word for word in str(sen1).split() if word.lower() not in stop_words]\n",
    "    return tokens1\n",
    "    if lemmatize:\n",
    "        sen2 = ' '.join(tokens)\n",
    "        tokens1 = [lemmatizer.lemmatize(word) for word in tokens] \n",
    "        #tokens2 = [word.lemma_ for word in nlp(tokens)] \n",
    "    return tokens1\n",
    "\n",
    "# def sent_to_words(sentences):\n",
    "#     '''\n",
    "#     Simplify and tokenize strings in an iterable.\n",
    "    \n",
    "#             Parameters:\n",
    "#                     sentences (iterable): Review strings in a list or as a pandas.series.\n",
    "                    \n",
    "#             Returns:\n",
    "#                     _ (generator): Simplify review tokens.  \n",
    "#     '''\n",
    "#     for sentence in sentences:\n",
    "#         yield(gensim.utils.simple_preprocess(str(sentence), deacc=True))  # deacc=True removes punctuations\n",
    "\n",
    "def get_bigrams(data_words): \n",
    "    '''\n",
    "    Form bigram.\n",
    "    \n",
    "        Parameters:\n",
    "            data_words (iterable): token lists in an iterable. \n",
    "\n",
    "        Returns:\n",
    "           _, _, bigram_pmi (data frame): Bigrams and their pmi scores in a Data Frame. \n",
    "    '''\n",
    "    bigram_measures = nltk.collocations.BigramAssocMeasures()\n",
    "    finder = nltk.collocations.BigramCollocationFinder.from_documents(data_words) \n",
    "    finder.apply_freq_filter(20)\n",
    "    bigram_scores = finder.score_ngrams(bigram_measures.pmi) \n",
    "    bigram_pmi = pd.DataFrame(bigram_scores)\n",
    "    bigram_pmi.columns = ['bigram', 'pmi']\n",
    "    bigram_pmi.sort_values(by='pmi', axis = 0, ascending = False, inplace = True)\n",
    "    return finder, bigram_measures, bigram_pmi\n",
    "\n",
    "def bigram_filter(bigram):\n",
    "    \"\"\"\n",
    "    Filter bigram. \n",
    "        \n",
    "        Parameters:\n",
    "            bigram (string): A bigram.\n",
    "\n",
    "        Returns:\n",
    "           _ (boolean): Decide whether or not to keep the bigram.\n",
    "    \"\"\"\n",
    "    stop_words = stopwords.words('english')   \n",
    "    tag = nltk.pos_tag(bigram)\n",
    "    if tag[0][1] not in ['JJ', 'NN'] and tag[1][1] not in ['NN']: #we only want adjective + noun\n",
    "        return False\n",
    "    if bigram[0] in stop_words or bigram[1] in stop_words: \n",
    "        return False\n",
    "    if 'n' in bigram or 't' in bigram:\n",
    "        return False\n",
    "    if 'PRON' in bigram: \n",
    "        return False\n",
    "    if len(bigram[0]) <= 2 or len(bigram[1]) <= 2:\n",
    "        return False\n",
    "    return True\n",
    "\n",
    "def get_trigrams(data_words): \n",
    "    trigram_measures = nltk.collocations.TrigramAssocMeasures()\n",
    "    finder = nltk.collocations.TrigramCollocationFinder.from_documents(data_words) \n",
    "    finder.apply_freq_filter(20)\n",
    "    trigram_scores = finder.score_ngrams(trigram_measures.pmi)\n",
    "\n",
    "    trigram_pmi = pd.DataFrame(trigram_scores)\n",
    "    trigram_pmi.columns = ['trigram', 'pmi']\n",
    "    trigram_pmi.sort_values(by='pmi', axis = 0, ascending = False, inplace = True)\n",
    "    return finder, trigram_measures, trigram_pmi\n",
    "\n",
    "def trigram_filter(trigram):\n",
    "    tag = nltk.pos_tag(trigram)\n",
    "    stop_words = stopwords.words('english')\n",
    "    if tag[0][1] not in ['JJ', 'NN'] and tag[1][1] not in ['JJ','NN']:\n",
    "        return False\n",
    "    if trigram[0] in stop_words or trigram[-1] in stop_words or trigram[1] in stop_words:\n",
    "        return False\n",
    "    if 'n' in trigram or 't' in trigram:\n",
    "        return False\n",
    "    if 'PRON' in trigram:\n",
    "        return False\n",
    "    if len(trigram[0]) <= 2 or len(trigram[1]) <= 2 and len(trigram[2]) <= 2:\n",
    "        return False\n",
    "    return True \n",
    "\n",
    "def replace_ngram(x, bigrams, trigrams):\n",
    "    '''\n",
    "    Form ngram. \n",
    "        \n",
    "        Parameters:\n",
    "            bigram (string): a ngrams.\n",
    "\n",
    "        Returns:\n",
    "           x (string): A connected ngrams with underscore.  \n",
    "    '''\n",
    "    for gram in trigrams:\n",
    "        x = x.replace(gram, '_'.join(gram.split()))\n",
    "    for gram in bigrams:\n",
    "        x = x.replace(gram, '_'.join(gram.split()))\n",
    "    return x\n",
    "\n",
    "# def remove_stopwords(texts, extra_stopwords = []):\n",
    "#     '''\n",
    "#     Remove stopwords in an iterable (string or tokens).\n",
    "\n",
    "#         Parameters:\n",
    "#                 texts (iterable): Review strings in a list or as a pandas.series.\n",
    "\n",
    "#         Returns:\n",
    "#                 _ (list): Simplify review stirngs without stopwords.  \n",
    "#     '''\n",
    "#     stop_words = stopwords.words('english') + extra_stopwords\n",
    "#     return [[word for word in doc.split() if word not in stop_words] for doc in texts]\n",
    "\n",
    "# def lemmatize_skip_ngrams(texts, allowed_postags=['NOUN', 'ADJ', 'VERB', 'ADV']):\n",
    "#     '''feed tokens'''\n",
    "#     nlp = spacy.load(\"en_core_web_sm\", disable=['parser', 'ner'])\n",
    "#     texts_out = []\n",
    "#     for sent in texts:\n",
    "#         doc = nlp(' '.join(sent)) \n",
    "#         if len(allowed_postags) > 0: \n",
    "#             returned_doc = []\n",
    "#             for token in doc:\n",
    "#                 if '_' in token.text:\n",
    "#                     returned_token = token.text\n",
    "#                 if token.pos_ in allowed_postags and '_' not in token.text:\n",
    "#                     returned_token = token.lemma_\n",
    "#                 if token.pos_ not in allowed_postags and '_' not in token.text:\n",
    "#                     continue\n",
    "#                 returned_doc.append(returned_token)\n",
    "#             texts_out.append(returned_doc)\n",
    "                    \n",
    "#         else: \n",
    "#             returned_doc = []\n",
    "#             for token in doc:\n",
    "#                 if '_' in token.text:\n",
    "#                     returned_token = token.text\n",
    "#                 else: \n",
    "#                     returned_token = token.lemma_\n",
    "#                 returned_doc.append(returned_token)\n",
    "#             texts_out.append(returned_doc)\n",
    "#     return texts_out"
   ]
  },
  {
   "cell_type": "code",
   "execution_count": 114,
   "id": "c36b44cc",
   "metadata": {},
   "outputs": [],
   "source": [
    "sub_df0 = df.sample(n=2292, random_state=1234) get 10% of the total data to view the most common words in the corpus and root them out"
   ]
  },
  {
   "cell_type": "code",
   "execution_count": 115,
   "id": "a7af568b",
   "metadata": {},
   "outputs": [],
   "source": [
    "cleaned_tokens = [clean(sen, stop_words = stop_words) for sen in sub_df0.reviewText.tolist()]"
   ]
  },
  {
   "cell_type": "code",
   "execution_count": 116,
   "id": "5410ab66",
   "metadata": {},
   "outputs": [],
   "source": [
    "all_tokens = [token for sen in cleaned_tokens for token in sen]"
   ]
  },
  {
   "cell_type": "code",
   "execution_count": 117,
   "id": "c619c066",
   "metadata": {},
   "outputs": [],
   "source": [
    "fdist = FreqDist(all_tokens)\n",
    "remove_words = [tu[0] for tu in fdist.most_common(30)]    "
   ]
  },
  {
   "cell_type": "code",
   "execution_count": 118,
   "id": "e5c294b3",
   "metadata": {},
   "outputs": [],
   "source": [
    "remove_words = ['dog',\n",
    " 'cat',\n",
    " 'food',\n",
    " 'bed',\n",
    " 'litter',\n",
    " 'product',\n",
    " 'love',\n",
    " 'like',\n",
    " 'well',\n",
    " 'would',\n",
    " 'work',\n",
    " 'toy',\n",
    " 'great',\n",
    " 'make',\n",
    " 'good',\n",
    " 'time',\n",
    " 'go',\n",
    " 'I',\n",
    " 'little',\n",
    " 'small',\n",
    " 'look',\n",
    " 'try',\n",
    " 'really',\n",
    " 'seem',\n",
    " 'recommend',\n",
    " 'day',\n",
    " 'month',\n",
    " 'year',\n",
    " 'much',\n",
    " 'nice' , \n",
    " 'old', \n",
    " 'able', \n",
    " 'first', \n",
    " 'happy', \n",
    " 'thing', \n",
    " 'kitten'\n",
    "]"
   ]
  },
  {
   "cell_type": "code",
   "execution_count": 119,
   "id": "8b99924c",
   "metadata": {},
   "outputs": [],
   "source": [
    "extra_stopwords = [\"don't\", \"donnt\", \"he's\", \"i'd\", \"would\", \"she's\", \"that's\", \\\n",
    "                   \"i'm\", \"can't\", \"i've\", \"they're\", \"we'll\", \"willn't\", \\\n",
    "                   \"isn't\", \"aren't\", \"wouldn't\", \"would've\", \"we've\", \"ve\"] + \\\n",
    "                   [\"cat\", \"food\"] + remove_words\n",
    "stop_words = sorted(list(set(stopwords.words('english')  + extra_stopwords)))"
   ]
  },
  {
   "cell_type": "code",
   "execution_count": 207,
   "id": "93ee3586",
   "metadata": {},
   "outputs": [],
   "source": [
    "def extract_attributes(reviews, stop_words):\n",
    "    cleaned_tokens = [clean(sen, stop_words = stop_words) for sen in reviews]\n",
    "    bifinder, bimeasures, bi_pmi = get_bigrams(tqdm(cleaned_tokens)) \n",
    "    tri_finder, tri_measures, tri_pmi = get_trigrams(tqdm(cleaned_tokens))\n",
    "    cleaned_bi_pmi = bi_pmi[bi_pmi.progress_apply(lambda bigram: bigram_filter(bigram['bigram']) and bigram.pmi > 5, axis = 1)] \n",
    "    cleaned_tri_pmi = tri_pmi[tri_pmi.progress_apply(lambda trigram: trigram_filter(trigram['trigram']) and trigram.pmi > 5, axis = 1)]\n",
    "    sens = [' '.join(sen) for sen in cleaned_tokens] \n",
    "    cleaned_tokens2 = [[token.lemma_ for token in nlp(sen)] for sen in sens] #different ways to lemmatize\n",
    "    sens2 = [' '.join(sen) for sen in cleaned_tokens2] \n",
    "    adj_tokens = [token.text for sen in sens2 for token in nlp(sen) if token.pos_ == 'ADJ']\n",
    "    noun_tokens = [token.text for sen in sens2 for token in nlp(sen) if token.pos_ == 'NOUN']\n",
    "    verb_tokens = [token.text for sen in sens2 for token in nlp(sen) if token.pos_ == 'VERB']\n",
    "    return {\n",
    "        'cleaned_tokens': cleaned_tokens,\n",
    "        'cleaned_bi_pmi': cleaned_bi_pmi, \n",
    "        'cleaned_tri_pmi': cleaned_tri_pmi,\n",
    "        'adj_tokens': FreqDist(adj_tokens).most_common(100),\n",
    "        'noun_tokens': FreqDist(noun_tokens).most_common(100),\n",
    "        'verb_tokens': FreqDist(verb_tokens).most_common(100)\n",
    "    }"
   ]
  },
  {
   "cell_type": "code",
   "execution_count": 209,
   "id": "2f5943ed",
   "metadata": {},
   "outputs": [
    {
     "data": {
      "application/vnd.jupyter.widget-view+json": {
       "model_id": "0f40a969b29f4bbf9fe1b6c6b8a8eb8f",
       "version_major": 2,
       "version_minor": 0
      },
      "text/plain": [
       "  0%|          | 0/27843 [00:00<?, ?it/s]"
      ]
     },
     "metadata": {},
     "output_type": "display_data"
    },
    {
     "data": {
      "application/vnd.jupyter.widget-view+json": {
       "model_id": "3c24a49fddf74c24be703372eaf6a2d7",
       "version_major": 2,
       "version_minor": 0
      },
      "text/plain": [
       "  0%|          | 0/27843 [00:00<?, ?it/s]"
      ]
     },
     "metadata": {},
     "output_type": "display_data"
    },
    {
     "data": {
      "application/vnd.jupyter.widget-view+json": {
       "model_id": "f1b8f7bbc26d49acb9bdbb2c08ddf498",
       "version_major": 2,
       "version_minor": 0
      },
      "text/plain": [
       "  0%|          | 0/27843 [00:00<?, ?it/s]"
      ]
     },
     "metadata": {},
     "output_type": "display_data"
    },
    {
     "data": {
      "application/vnd.jupyter.widget-view+json": {
       "model_id": "763ce5e6ddd6403f9bdba6ed486e06e0",
       "version_major": 2,
       "version_minor": 0
      },
      "text/plain": [
       "  0%|          | 0/3064 [00:00<?, ?it/s]"
      ]
     },
     "metadata": {},
     "output_type": "display_data"
    },
    {
     "data": {
      "application/vnd.jupyter.widget-view+json": {
       "model_id": "fc8354918fb448839d91171566a1e4a4",
       "version_major": 2,
       "version_minor": 0
      },
      "text/plain": [
       "  0%|          | 0/291 [00:00<?, ?it/s]"
      ]
     },
     "metadata": {},
     "output_type": "display_data"
    }
   ],
   "source": [
    "df1_dict = extract_attributes(tqdm(df1.reviewText.tolist()), stop_words = stop_words)"
   ]
  },
  {
   "cell_type": "code",
   "execution_count": 210,
   "id": "de9e8913",
   "metadata": {},
   "outputs": [],
   "source": [
    "with open ('./df1_dict.pickle', 'wb') as handle:\n",
    "    pickle.dump(df1_dict, handle)"
   ]
  },
  {
   "cell_type": "code",
   "execution_count": 211,
   "id": "79cf329c",
   "metadata": {},
   "outputs": [
    {
     "data": {
      "application/vnd.jupyter.widget-view+json": {
       "model_id": "e9d8338c16064f3fa5ee6eb90842694e",
       "version_major": 2,
       "version_minor": 0
      },
      "text/plain": [
       "  0%|          | 0/53303 [00:00<?, ?it/s]"
      ]
     },
     "metadata": {},
     "output_type": "display_data"
    },
    {
     "data": {
      "application/vnd.jupyter.widget-view+json": {
       "model_id": "45b9da1795264e35a7ff54ee515ba026",
       "version_major": 2,
       "version_minor": 0
      },
      "text/plain": [
       "  0%|          | 0/53303 [00:00<?, ?it/s]"
      ]
     },
     "metadata": {},
     "output_type": "display_data"
    },
    {
     "data": {
      "application/vnd.jupyter.widget-view+json": {
       "model_id": "95353234352a407982e43e41374c6f00",
       "version_major": 2,
       "version_minor": 0
      },
      "text/plain": [
       "  0%|          | 0/53303 [00:00<?, ?it/s]"
      ]
     },
     "metadata": {},
     "output_type": "display_data"
    },
    {
     "data": {
      "application/vnd.jupyter.widget-view+json": {
       "model_id": "f494889c10c4491aadd25d67fd8296d3",
       "version_major": 2,
       "version_minor": 0
      },
      "text/plain": [
       "  0%|          | 0/6436 [00:00<?, ?it/s]"
      ]
     },
     "metadata": {},
     "output_type": "display_data"
    },
    {
     "data": {
      "application/vnd.jupyter.widget-view+json": {
       "model_id": "374f6d4467de4d87bf19c10419eaeab6",
       "version_major": 2,
       "version_minor": 0
      },
      "text/plain": [
       "  0%|          | 0/485 [00:00<?, ?it/s]"
      ]
     },
     "metadata": {},
     "output_type": "display_data"
    }
   ],
   "source": [
    "df2_dict = extract_attributes(tqdm(df2.reviewText.tolist()), stop_words = stop_words)"
   ]
  },
  {
   "cell_type": "code",
   "execution_count": 212,
   "id": "cd0dbe85",
   "metadata": {},
   "outputs": [],
   "source": [
    "with open ('./df2_dict.pickle', 'wb') as handle:\n",
    "    pickle.dump(df2_dict, handle)"
   ]
  },
  {
   "cell_type": "code",
   "execution_count": 213,
   "id": "a9dc8f09",
   "metadata": {},
   "outputs": [
    {
     "data": {
      "application/vnd.jupyter.widget-view+json": {
       "model_id": "2548d667c2694adcb175bcf5ba26a658",
       "version_major": 2,
       "version_minor": 0
      },
      "text/plain": [
       "  0%|          | 0/39361 [00:00<?, ?it/s]"
      ]
     },
     "metadata": {},
     "output_type": "display_data"
    },
    {
     "data": {
      "application/vnd.jupyter.widget-view+json": {
       "model_id": "774928c2035245bbbcdeb665ae178a16",
       "version_major": 2,
       "version_minor": 0
      },
      "text/plain": [
       "  0%|          | 0/39361 [00:00<?, ?it/s]"
      ]
     },
     "metadata": {},
     "output_type": "display_data"
    },
    {
     "data": {
      "application/vnd.jupyter.widget-view+json": {
       "model_id": "bf32ab7ac58c40f998a5d16873cbaece",
       "version_major": 2,
       "version_minor": 0
      },
      "text/plain": [
       "  0%|          | 0/39361 [00:00<?, ?it/s]"
      ]
     },
     "metadata": {},
     "output_type": "display_data"
    },
    {
     "data": {
      "application/vnd.jupyter.widget-view+json": {
       "model_id": "32fca3206796482e9bac60b9cafe58bb",
       "version_major": 2,
       "version_minor": 0
      },
      "text/plain": [
       "  0%|          | 0/6643 [00:00<?, ?it/s]"
      ]
     },
     "metadata": {},
     "output_type": "display_data"
    },
    {
     "data": {
      "application/vnd.jupyter.widget-view+json": {
       "model_id": "cb58db6d05294fa7a14bce4c55ff8533",
       "version_major": 2,
       "version_minor": 0
      },
      "text/plain": [
       "  0%|          | 0/472 [00:00<?, ?it/s]"
      ]
     },
     "metadata": {},
     "output_type": "display_data"
    }
   ],
   "source": [
    "df3_dict = extract_attributes(tqdm(df3.reviewText.tolist()), stop_words = stop_words)"
   ]
  },
  {
   "cell_type": "code",
   "execution_count": 214,
   "id": "afdba2aa",
   "metadata": {},
   "outputs": [],
   "source": [
    "with open ('./df3_dict.pickle', 'wb') as handle:\n",
    "    pickle.dump(df3_dict, handle)"
   ]
  },
  {
   "cell_type": "code",
   "execution_count": 215,
   "id": "8db01f1b",
   "metadata": {},
   "outputs": [
    {
     "data": {
      "application/vnd.jupyter.widget-view+json": {
       "model_id": "47e925235e354725973956554e646cdb",
       "version_major": 2,
       "version_minor": 0
      },
      "text/plain": [
       "  0%|          | 0/36078 [00:00<?, ?it/s]"
      ]
     },
     "metadata": {},
     "output_type": "display_data"
    },
    {
     "data": {
      "application/vnd.jupyter.widget-view+json": {
       "model_id": "e17ca05da45644dcafefe95ed254baeb",
       "version_major": 2,
       "version_minor": 0
      },
      "text/plain": [
       "  0%|          | 0/36078 [00:00<?, ?it/s]"
      ]
     },
     "metadata": {},
     "output_type": "display_data"
    },
    {
     "data": {
      "application/vnd.jupyter.widget-view+json": {
       "model_id": "56c526b9a4294681889f355a6275a692",
       "version_major": 2,
       "version_minor": 0
      },
      "text/plain": [
       "  0%|          | 0/36078 [00:00<?, ?it/s]"
      ]
     },
     "metadata": {},
     "output_type": "display_data"
    },
    {
     "data": {
      "application/vnd.jupyter.widget-view+json": {
       "model_id": "306dee38117b4d58b190b01a2b145ae9",
       "version_major": 2,
       "version_minor": 0
      },
      "text/plain": [
       "  0%|          | 0/3252 [00:00<?, ?it/s]"
      ]
     },
     "metadata": {},
     "output_type": "display_data"
    },
    {
     "data": {
      "application/vnd.jupyter.widget-view+json": {
       "model_id": "e87203cf416f41e3b2e0ef9b8164d9f2",
       "version_major": 2,
       "version_minor": 0
      },
      "text/plain": [
       "  0%|          | 0/164 [00:00<?, ?it/s]"
      ]
     },
     "metadata": {},
     "output_type": "display_data"
    }
   ],
   "source": [
    "df4_dict = extract_attributes(tqdm(df4.reviewText.tolist()), stop_words = stop_words)"
   ]
  },
  {
   "cell_type": "code",
   "execution_count": 216,
   "id": "b5cfd090",
   "metadata": {},
   "outputs": [],
   "source": [
    "with open ('./df4_dict.pickle', 'wb') as handle:\n",
    "    pickle.dump(df4_dict, handle)"
   ]
  },
  {
   "cell_type": "code",
   "execution_count": 217,
   "id": "63eb6ba5",
   "metadata": {},
   "outputs": [
    {
     "data": {
      "application/vnd.jupyter.widget-view+json": {
       "model_id": "636b3d998e764dd69c63e50542b6892c",
       "version_major": 2,
       "version_minor": 0
      },
      "text/plain": [
       "  0%|          | 0/10143 [00:00<?, ?it/s]"
      ]
     },
     "metadata": {},
     "output_type": "display_data"
    },
    {
     "data": {
      "application/vnd.jupyter.widget-view+json": {
       "model_id": "bf665f745ba44cd58789374062f37238",
       "version_major": 2,
       "version_minor": 0
      },
      "text/plain": [
       "  0%|          | 0/10143 [00:00<?, ?it/s]"
      ]
     },
     "metadata": {},
     "output_type": "display_data"
    },
    {
     "data": {
      "application/vnd.jupyter.widget-view+json": {
       "model_id": "00beed8204134a7f8e37d5ed71a423a1",
       "version_major": 2,
       "version_minor": 0
      },
      "text/plain": [
       "  0%|          | 0/10143 [00:00<?, ?it/s]"
      ]
     },
     "metadata": {},
     "output_type": "display_data"
    },
    {
     "data": {
      "application/vnd.jupyter.widget-view+json": {
       "model_id": "1e03a25163ac4d08a1e41affea9050e4",
       "version_major": 2,
       "version_minor": 0
      },
      "text/plain": [
       "  0%|          | 0/434 [00:00<?, ?it/s]"
      ]
     },
     "metadata": {},
     "output_type": "display_data"
    },
    {
     "data": {
      "application/vnd.jupyter.widget-view+json": {
       "model_id": "976b473b543d4b17b1d691ec6e5d9119",
       "version_major": 2,
       "version_minor": 0
      },
      "text/plain": [
       "  0%|          | 0/13 [00:00<?, ?it/s]"
      ]
     },
     "metadata": {},
     "output_type": "display_data"
    }
   ],
   "source": [
    "df5_dict = extract_attributes(tqdm(df5.reviewText.tolist()), stop_words = stop_words)"
   ]
  },
  {
   "cell_type": "code",
   "execution_count": 218,
   "id": "b3603298",
   "metadata": {},
   "outputs": [],
   "source": [
    "with open ('./df5_dict.pickle', 'wb') as handle:\n",
    "    pickle.dump(df5_dict, handle)"
   ]
  },
  {
   "cell_type": "code",
   "execution_count": 219,
   "id": "48dcee5e",
   "metadata": {},
   "outputs": [
    {
     "data": {
      "application/vnd.jupyter.widget-view+json": {
       "model_id": "b844b3998ee64b15a0ed7a11d5a1da0a",
       "version_major": 2,
       "version_minor": 0
      },
      "text/plain": [
       "  0%|          | 0/8567 [00:00<?, ?it/s]"
      ]
     },
     "metadata": {},
     "output_type": "display_data"
    },
    {
     "data": {
      "application/vnd.jupyter.widget-view+json": {
       "model_id": "73ed5187b5bd45dcbcb98b90ce5f3d51",
       "version_major": 2,
       "version_minor": 0
      },
      "text/plain": [
       "  0%|          | 0/8567 [00:00<?, ?it/s]"
      ]
     },
     "metadata": {},
     "output_type": "display_data"
    },
    {
     "data": {
      "application/vnd.jupyter.widget-view+json": {
       "model_id": "704a65790934421f8bbd3445886af7a1",
       "version_major": 2,
       "version_minor": 0
      },
      "text/plain": [
       "  0%|          | 0/8567 [00:00<?, ?it/s]"
      ]
     },
     "metadata": {},
     "output_type": "display_data"
    },
    {
     "data": {
      "application/vnd.jupyter.widget-view+json": {
       "model_id": "dffaff75295e41399260f073e51b22e8",
       "version_major": 2,
       "version_minor": 0
      },
      "text/plain": [
       "  0%|          | 0/535 [00:00<?, ?it/s]"
      ]
     },
     "metadata": {},
     "output_type": "display_data"
    },
    {
     "data": {
      "application/vnd.jupyter.widget-view+json": {
       "model_id": "6cbb770397e549bba70525b3b961324d",
       "version_major": 2,
       "version_minor": 0
      },
      "text/plain": [
       "  0%|          | 0/18 [00:00<?, ?it/s]"
      ]
     },
     "metadata": {},
     "output_type": "display_data"
    }
   ],
   "source": [
    "df6_dict = extract_attributes(tqdm(df6.reviewText.tolist()), stop_words = stop_words)"
   ]
  },
  {
   "cell_type": "code",
   "execution_count": 220,
   "id": "c7bcd6e5",
   "metadata": {},
   "outputs": [],
   "source": [
    "with open ('./df6_dict.pickle', 'wb') as handle:\n",
    "    pickle.dump(df6_dict, handle)"
   ]
  },
  {
   "cell_type": "code",
   "execution_count": 221,
   "id": "bf609709",
   "metadata": {},
   "outputs": [
    {
     "data": {
      "application/vnd.jupyter.widget-view+json": {
       "model_id": "003511c8c50346e18a655bc64c87a6ba",
       "version_major": 2,
       "version_minor": 0
      },
      "text/plain": [
       "  0%|          | 0/7831 [00:00<?, ?it/s]"
      ]
     },
     "metadata": {},
     "output_type": "display_data"
    },
    {
     "data": {
      "application/vnd.jupyter.widget-view+json": {
       "model_id": "3cfc88f4d1474230a84395458f397003",
       "version_major": 2,
       "version_minor": 0
      },
      "text/plain": [
       "  0%|          | 0/7831 [00:00<?, ?it/s]"
      ]
     },
     "metadata": {},
     "output_type": "display_data"
    },
    {
     "data": {
      "application/vnd.jupyter.widget-view+json": {
       "model_id": "5eae726e80424b939294b4ba2e653031",
       "version_major": 2,
       "version_minor": 0
      },
      "text/plain": [
       "  0%|          | 0/7831 [00:00<?, ?it/s]"
      ]
     },
     "metadata": {},
     "output_type": "display_data"
    },
    {
     "data": {
      "application/vnd.jupyter.widget-view+json": {
       "model_id": "0db06c65d9ff41269f1f80bfd48dfba6",
       "version_major": 2,
       "version_minor": 0
      },
      "text/plain": [
       "  0%|          | 0/649 [00:00<?, ?it/s]"
      ]
     },
     "metadata": {},
     "output_type": "display_data"
    },
    {
     "data": {
      "application/vnd.jupyter.widget-view+json": {
       "model_id": "49ee9b4ac526432d9fd2d6de5a312145",
       "version_major": 2,
       "version_minor": 0
      },
      "text/plain": [
       "  0%|          | 0/31 [00:00<?, ?it/s]"
      ]
     },
     "metadata": {},
     "output_type": "display_data"
    }
   ],
   "source": [
    "df7_dict = extract_attributes(tqdm(df7.reviewText.tolist()), stop_words = stop_words)"
   ]
  },
  {
   "cell_type": "code",
   "execution_count": 222,
   "id": "ea709fc2",
   "metadata": {},
   "outputs": [],
   "source": [
    "with open ('./df7_dict.pickle', 'wb') as handle:\n",
    "    pickle.dump(df7_dict, handle)"
   ]
  },
  {
   "cell_type": "code",
   "execution_count": 223,
   "id": "a18bcc98",
   "metadata": {},
   "outputs": [
    {
     "data": {
      "application/vnd.jupyter.widget-view+json": {
       "model_id": "95a26cb96b8348d6bfc9dcab0d9d3e7c",
       "version_major": 2,
       "version_minor": 0
      },
      "text/plain": [
       "  0%|          | 0/3965 [00:00<?, ?it/s]"
      ]
     },
     "metadata": {},
     "output_type": "display_data"
    },
    {
     "data": {
      "application/vnd.jupyter.widget-view+json": {
       "model_id": "76d3916642ad4e78a60a24d3d6a359e5",
       "version_major": 2,
       "version_minor": 0
      },
      "text/plain": [
       "  0%|          | 0/3965 [00:00<?, ?it/s]"
      ]
     },
     "metadata": {},
     "output_type": "display_data"
    },
    {
     "data": {
      "application/vnd.jupyter.widget-view+json": {
       "model_id": "942ed18012c44ee4876d25902fc39883",
       "version_major": 2,
       "version_minor": 0
      },
      "text/plain": [
       "  0%|          | 0/3965 [00:00<?, ?it/s]"
      ]
     },
     "metadata": {},
     "output_type": "display_data"
    },
    {
     "data": {
      "application/vnd.jupyter.widget-view+json": {
       "model_id": "a6307719c5e44d5fb03d8c79e7f96be1",
       "version_major": 2,
       "version_minor": 0
      },
      "text/plain": [
       "  0%|          | 0/258 [00:00<?, ?it/s]"
      ]
     },
     "metadata": {},
     "output_type": "display_data"
    },
    {
     "data": {
      "application/vnd.jupyter.widget-view+json": {
       "model_id": "dbd8448ce21f4b0cbe90f2e4d430ac1e",
       "version_major": 2,
       "version_minor": 0
      },
      "text/plain": [
       "  0%|          | 0/7 [00:00<?, ?it/s]"
      ]
     },
     "metadata": {},
     "output_type": "display_data"
    }
   ],
   "source": [
    "df8_dict = extract_attributes(tqdm(df8.reviewText.tolist()), stop_words = stop_words)"
   ]
  },
  {
   "cell_type": "code",
   "execution_count": 224,
   "id": "f28c5162",
   "metadata": {},
   "outputs": [],
   "source": [
    "with open ('./df8_dict.pickle', 'wb') as handle:\n",
    "    pickle.dump(df8_dict, handle)"
   ]
  },
  {
   "cell_type": "code",
   "execution_count": 225,
   "id": "498ccb41",
   "metadata": {},
   "outputs": [
    {
     "data": {
      "application/vnd.jupyter.widget-view+json": {
       "model_id": "205db5f10f7549e49a0013f90f6e9934",
       "version_major": 2,
       "version_minor": 0
      },
      "text/plain": [
       "  0%|          | 0/3082 [00:00<?, ?it/s]"
      ]
     },
     "metadata": {},
     "output_type": "display_data"
    },
    {
     "data": {
      "application/vnd.jupyter.widget-view+json": {
       "model_id": "0ec67ceb1c5d477b84fb67cd1ef886b9",
       "version_major": 2,
       "version_minor": 0
      },
      "text/plain": [
       "  0%|          | 0/3082 [00:00<?, ?it/s]"
      ]
     },
     "metadata": {},
     "output_type": "display_data"
    },
    {
     "data": {
      "application/vnd.jupyter.widget-view+json": {
       "model_id": "ce0fdd946bd94a41ac175734935efafc",
       "version_major": 2,
       "version_minor": 0
      },
      "text/plain": [
       "  0%|          | 0/3082 [00:00<?, ?it/s]"
      ]
     },
     "metadata": {},
     "output_type": "display_data"
    },
    {
     "data": {
      "application/vnd.jupyter.widget-view+json": {
       "model_id": "ef2198b8394f431a8e17d2f26d51aa68",
       "version_major": 2,
       "version_minor": 0
      },
      "text/plain": [
       "  0%|          | 0/82 [00:00<?, ?it/s]"
      ]
     },
     "metadata": {},
     "output_type": "display_data"
    },
    {
     "data": {
      "application/vnd.jupyter.widget-view+json": {
       "model_id": "13f592be831a4ddb8bc94e8b45318fc1",
       "version_major": 2,
       "version_minor": 0
      },
      "text/plain": [
       "  0%|          | 0/1 [00:00<?, ?it/s]"
      ]
     },
     "metadata": {},
     "output_type": "display_data"
    }
   ],
   "source": [
    "df9_dict = extract_attributes(tqdm(df9.reviewText.tolist()), stop_words = stop_words)"
   ]
  },
  {
   "cell_type": "code",
   "execution_count": 226,
   "id": "e495ecfe",
   "metadata": {},
   "outputs": [],
   "source": [
    "with open ('./df9_dict.pickle', 'wb') as handle:\n",
    "    pickle.dump(df9_dict, handle)"
   ]
  },
  {
   "cell_type": "code",
   "execution_count": 227,
   "id": "6b0f6389",
   "metadata": {},
   "outputs": [
    {
     "data": {
      "application/vnd.jupyter.widget-view+json": {
       "model_id": "3f10a143d37243f9afc6ef5d535dda3b",
       "version_major": 2,
       "version_minor": 0
      },
      "text/plain": [
       "  0%|          | 0/34889 [00:00<?, ?it/s]"
      ]
     },
     "metadata": {},
     "output_type": "display_data"
    },
    {
     "data": {
      "application/vnd.jupyter.widget-view+json": {
       "model_id": "128b953457454e2da0371484d7502d7d",
       "version_major": 2,
       "version_minor": 0
      },
      "text/plain": [
       "  0%|          | 0/34889 [00:00<?, ?it/s]"
      ]
     },
     "metadata": {},
     "output_type": "display_data"
    },
    {
     "data": {
      "application/vnd.jupyter.widget-view+json": {
       "model_id": "a7a36925b83e4b7581c94681652857ac",
       "version_major": 2,
       "version_minor": 0
      },
      "text/plain": [
       "  0%|          | 0/34889 [00:00<?, ?it/s]"
      ]
     },
     "metadata": {},
     "output_type": "display_data"
    },
    {
     "data": {
      "application/vnd.jupyter.widget-view+json": {
       "model_id": "9a4a12a6f83246f9866e4939f6f753ea",
       "version_major": 2,
       "version_minor": 0
      },
      "text/plain": [
       "  0%|          | 0/3310 [00:00<?, ?it/s]"
      ]
     },
     "metadata": {},
     "output_type": "display_data"
    },
    {
     "data": {
      "application/vnd.jupyter.widget-view+json": {
       "model_id": "bb2278bfdc2d42fb996d2c4321093fec",
       "version_major": 2,
       "version_minor": 0
      },
      "text/plain": [
       "  0%|          | 0/144 [00:00<?, ?it/s]"
      ]
     },
     "metadata": {},
     "output_type": "display_data"
    }
   ],
   "source": [
    "df10_dict = extract_attributes(tqdm(df10.reviewText.tolist()), stop_words = stop_words)"
   ]
  },
  {
   "cell_type": "code",
   "execution_count": 228,
   "id": "326c31f3",
   "metadata": {},
   "outputs": [],
   "source": [
    "with open ('./df10_dict.pickle', 'wb') as handle:\n",
    "    pickle.dump(df10_dict, handle)"
   ]
  },
  {
   "cell_type": "code",
   "execution_count": 229,
   "id": "ae6d0f30",
   "metadata": {},
   "outputs": [
    {
     "data": {
      "application/vnd.jupyter.widget-view+json": {
       "model_id": "a22fea6012394ae98678ff8d45a95d45",
       "version_major": 2,
       "version_minor": 0
      },
      "text/plain": [
       "  0%|          | 0/2263 [00:00<?, ?it/s]"
      ]
     },
     "metadata": {},
     "output_type": "display_data"
    },
    {
     "data": {
      "application/vnd.jupyter.widget-view+json": {
       "model_id": "068f0e97e62b4e4aafe98d95914612df",
       "version_major": 2,
       "version_minor": 0
      },
      "text/plain": [
       "  0%|          | 0/2263 [00:00<?, ?it/s]"
      ]
     },
     "metadata": {},
     "output_type": "display_data"
    },
    {
     "data": {
      "application/vnd.jupyter.widget-view+json": {
       "model_id": "806ae46529304b799b40810e44fb5bfe",
       "version_major": 2,
       "version_minor": 0
      },
      "text/plain": [
       "  0%|          | 0/2263 [00:00<?, ?it/s]"
      ]
     },
     "metadata": {},
     "output_type": "display_data"
    },
    {
     "data": {
      "application/vnd.jupyter.widget-view+json": {
       "model_id": "babfad500ec144d19c65d98017fc244f",
       "version_major": 2,
       "version_minor": 0
      },
      "text/plain": [
       "  0%|          | 0/57 [00:00<?, ?it/s]"
      ]
     },
     "metadata": {},
     "output_type": "display_data"
    },
    {
     "data": {
      "application/vnd.jupyter.widget-view+json": {
       "model_id": "648583835882412da043b0367bfdc05e",
       "version_major": 2,
       "version_minor": 0
      },
      "text/plain": [
       "  0%|          | 0/2 [00:00<?, ?it/s]"
      ]
     },
     "metadata": {},
     "output_type": "display_data"
    }
   ],
   "source": [
    "df11_dict = extract_attributes(tqdm(df11.reviewText.tolist()), stop_words = stop_words)"
   ]
  },
  {
   "cell_type": "code",
   "execution_count": 230,
   "id": "cda4534f",
   "metadata": {},
   "outputs": [],
   "source": [
    "with open ('./df11_dict.pickle', 'wb') as handle:\n",
    "    pickle.dump(df11_dict, handle)"
   ]
  },
  {
   "cell_type": "code",
   "execution_count": 231,
   "id": "98809694",
   "metadata": {},
   "outputs": [
    {
     "data": {
      "application/vnd.jupyter.widget-view+json": {
       "model_id": "ff781b6c627a434082027c9f1d93d980",
       "version_major": 2,
       "version_minor": 0
      },
      "text/plain": [
       "  0%|          | 0/1284 [00:00<?, ?it/s]"
      ]
     },
     "metadata": {},
     "output_type": "display_data"
    },
    {
     "data": {
      "application/vnd.jupyter.widget-view+json": {
       "model_id": "607e938c4e194204b01a7a0a474708e4",
       "version_major": 2,
       "version_minor": 0
      },
      "text/plain": [
       "  0%|          | 0/1284 [00:00<?, ?it/s]"
      ]
     },
     "metadata": {},
     "output_type": "display_data"
    },
    {
     "data": {
      "application/vnd.jupyter.widget-view+json": {
       "model_id": "bb9ea2513e22440aa37242e4c9020f52",
       "version_major": 2,
       "version_minor": 0
      },
      "text/plain": [
       "  0%|          | 0/1284 [00:00<?, ?it/s]"
      ]
     },
     "metadata": {},
     "output_type": "display_data"
    },
    {
     "data": {
      "application/vnd.jupyter.widget-view+json": {
       "model_id": "aef52f7751574f0d877687515fc0b8c8",
       "version_major": 2,
       "version_minor": 0
      },
      "text/plain": [
       "  0%|          | 0/18 [00:00<?, ?it/s]"
      ]
     },
     "metadata": {},
     "output_type": "display_data"
    },
    {
     "data": {
      "application/vnd.jupyter.widget-view+json": {
       "model_id": "c8acc6356c6a482ab81e65470a0fd5b9",
       "version_major": 2,
       "version_minor": 0
      },
      "text/plain": [
       "  0%|          | 0/1 [00:00<?, ?it/s]"
      ]
     },
     "metadata": {},
     "output_type": "display_data"
    }
   ],
   "source": [
    "df12_dict = extract_attributes(tqdm(df12.reviewText.tolist()), stop_words = stop_words)"
   ]
  },
  {
   "cell_type": "code",
   "execution_count": 232,
   "id": "cac7425f",
   "metadata": {},
   "outputs": [],
   "source": [
    "with open ('./df12_dict.pickle', 'wb') as handle:\n",
    "    pickle.dump(df12_dict, handle)"
   ]
  },
  {
   "cell_type": "markdown",
   "id": "116bc9a8",
   "metadata": {},
   "source": [
    "## Get the attribute(s)"
   ]
  },
  {
   "cell_type": "code",
   "execution_count": 5,
   "id": "1507c5ff",
   "metadata": {},
   "outputs": [],
   "source": [
    "with open ('./model/df12_dict.pickle', 'rb') as handle:\n",
    "    df12_dict = pickle.load(handle)"
   ]
  },
  {
   "cell_type": "code",
   "execution_count": 6,
   "id": "698f394c",
   "metadata": {},
   "outputs": [
    {
     "data": {
      "text/html": [
       "<div>\n",
       "<style scoped>\n",
       "    .dataframe tbody tr th:only-of-type {\n",
       "        vertical-align: middle;\n",
       "    }\n",
       "\n",
       "    .dataframe tbody tr th {\n",
       "        vertical-align: top;\n",
       "    }\n",
       "\n",
       "    .dataframe thead th {\n",
       "        text-align: right;\n",
       "    }\n",
       "</style>\n",
       "<table border=\"1\" class=\"dataframe\">\n",
       "  <thead>\n",
       "    <tr style=\"text-align: right;\">\n",
       "      <th></th>\n",
       "      <th>bigram</th>\n",
       "      <th>pmi</th>\n",
       "    </tr>\n",
       "  </thead>\n",
       "  <tbody>\n",
       "    <tr>\n",
       "      <th>1</th>\n",
       "      <td>(shoulder, strap)</td>\n",
       "      <td>9.158442</td>\n",
       "    </tr>\n",
       "    <tr>\n",
       "      <th>2</th>\n",
       "      <td>(cable, ties)</td>\n",
       "      <td>8.124491</td>\n",
       "    </tr>\n",
       "    <tr>\n",
       "      <th>3</th>\n",
       "      <td>(play, pen)</td>\n",
       "      <td>7.860412</td>\n",
       "    </tr>\n",
       "    <tr>\n",
       "      <th>4</th>\n",
       "      <td>(zip, ties)</td>\n",
       "      <td>7.784664</td>\n",
       "    </tr>\n",
       "    <tr>\n",
       "      <th>5</th>\n",
       "      <td>(plenty, room)</td>\n",
       "      <td>7.316619</td>\n",
       "    </tr>\n",
       "    <tr>\n",
       "      <th>6</th>\n",
       "      <td>(move, around)</td>\n",
       "      <td>6.634101</td>\n",
       "    </tr>\n",
       "    <tr>\n",
       "      <th>7</th>\n",
       "      <td>(easy, clean)</td>\n",
       "      <td>6.066932</td>\n",
       "    </tr>\n",
       "    <tr>\n",
       "      <th>10</th>\n",
       "      <td>(big, enough)</td>\n",
       "      <td>5.780325</td>\n",
       "    </tr>\n",
       "    <tr>\n",
       "      <th>12</th>\n",
       "      <td>(easy, assemble)</td>\n",
       "      <td>5.577967</td>\n",
       "    </tr>\n",
       "  </tbody>\n",
       "</table>\n",
       "</div>"
      ],
      "text/plain": [
       "               bigram       pmi\n",
       "1   (shoulder, strap)  9.158442\n",
       "2       (cable, ties)  8.124491\n",
       "3         (play, pen)  7.860412\n",
       "4         (zip, ties)  7.784664\n",
       "5      (plenty, room)  7.316619\n",
       "6      (move, around)  6.634101\n",
       "7       (easy, clean)  6.066932\n",
       "10      (big, enough)  5.780325\n",
       "12   (easy, assemble)  5.577967"
      ]
     },
     "execution_count": 6,
     "metadata": {},
     "output_type": "execute_result"
    }
   ],
   "source": [
    "df12_dict['cleaned_bi_pmi'][0:20]"
   ]
  },
  {
   "cell_type": "code",
   "execution_count": 7,
   "id": "606f4437",
   "metadata": {},
   "outputs": [
    {
     "data": {
      "text/html": [
       "<div>\n",
       "<style scoped>\n",
       "    .dataframe tbody tr th:only-of-type {\n",
       "        vertical-align: middle;\n",
       "    }\n",
       "\n",
       "    .dataframe tbody tr th {\n",
       "        vertical-align: top;\n",
       "    }\n",
       "\n",
       "    .dataframe thead th {\n",
       "        text-align: right;\n",
       "    }\n",
       "</style>\n",
       "<table border=\"1\" class=\"dataframe\">\n",
       "  <thead>\n",
       "    <tr style=\"text-align: right;\">\n",
       "      <th></th>\n",
       "      <th>trigram</th>\n",
       "      <th>pmi</th>\n",
       "    </tr>\n",
       "  </thead>\n",
       "  <tbody>\n",
       "    <tr>\n",
       "      <th>0</th>\n",
       "      <td>(easy, put, together)</td>\n",
       "      <td>10.915001</td>\n",
       "    </tr>\n",
       "  </tbody>\n",
       "</table>\n",
       "</div>"
      ],
      "text/plain": [
       "                 trigram        pmi\n",
       "0  (easy, put, together)  10.915001"
      ]
     },
     "execution_count": 7,
     "metadata": {},
     "output_type": "execute_result"
    }
   ],
   "source": [
    "df12_dict['cleaned_tri_pmi'][0:20] "
   ]
  },
  {
   "cell_type": "code",
   "execution_count": 8,
   "id": "7621d003",
   "metadata": {},
   "outputs": [
    {
     "data": {
      "text/plain": [
       "[('easy', 314),\n",
       " ('large', 206),\n",
       " ('top', 195),\n",
       " ('open', 178),\n",
       " ('big', 171),\n",
       " ('fit', 164),\n",
       " ('enough', 157),\n",
       " ('pet', 156),\n",
       " ('sturdy', 155),\n",
       " ('perfect', 149),\n",
       " ('comfortable', 115),\n",
       " ('new', 114),\n",
       " ('secure', 108),\n",
       " ('long', 106),\n",
       " ('difficult', 88),\n",
       " ('bottom', 87),\n",
       " ('safe', 87),\n",
       " ('front', 84),\n",
       " ('sure', 73),\n",
       " ('right', 73),\n",
       " ('clean', 73),\n",
       " ('close', 72),\n",
       " ('heavy', 68),\n",
       " ('short', 63),\n",
       " ('extra', 60),\n",
       " ('bad', 60),\n",
       " ('plenty', 59),\n",
       " ('many', 58),\n",
       " ('cheap', 58),\n",
       " ('last', 57)]"
      ]
     },
     "execution_count": 8,
     "metadata": {},
     "output_type": "execute_result"
    }
   ],
   "source": [
    "df12_dict['adj_tokens'][0:30] "
   ]
  },
  {
   "cell_type": "code",
   "execution_count": 250,
   "id": "de2c44a4",
   "metadata": {},
   "outputs": [
    {
     "data": {
      "text/plain": [
       "[('cage', 632),\n",
       " ('carrier', 581),\n",
       " ('cat', 530),\n",
       " ('use', 369),\n",
       " ('stroller', 301),\n",
       " ('shelf', 290),\n",
       " ('side', 267),\n",
       " ('door', 260),\n",
       " ('wheel', 217),\n",
       " ('bag', 211),\n",
       " ('place', 201),\n",
       " ('size', 185),\n",
       " ('box', 184),\n",
       " ('room', 183),\n",
       " ('price', 179),\n",
       " ('purchase', 172),\n",
       " ('tie', 160),\n",
       " ('way', 146),\n",
       " ('crate', 144),\n",
       " ('problem', 139),\n",
       " ('love', 133),\n",
       " ('quality', 131),\n",
       " ('order', 121),\n",
       " ('bit', 112),\n",
       " ('review', 112),\n",
       " ('zip', 112),\n",
       " ('dog', 107),\n",
       " ('people', 106),\n",
       " ('water', 104),\n",
       " ('playpen', 103)]"
      ]
     },
     "execution_count": 250,
     "metadata": {},
     "output_type": "execute_result"
    }
   ],
   "source": [
    "df12_dict['noun_tokens'][0:30] "
   ]
  },
  {
   "cell_type": "code",
   "execution_count": 251,
   "id": "ab5394f0",
   "metadata": {},
   "outputs": [
    {
     "data": {
      "text/plain": [
       "[('get', 708),\n",
       " ('put', 442),\n",
       " ('take', 345),\n",
       " ('make', 281),\n",
       " ('buy', 280),\n",
       " ('use', 252),\n",
       " ('come', 237),\n",
       " ('need', 232),\n",
       " ('keep', 206),\n",
       " ('go', 189),\n",
       " ('want', 175),\n",
       " ('give', 158),\n",
       " ('think', 153),\n",
       " ('see', 148),\n",
       " ('say', 138),\n",
       " ('hold', 137),\n",
       " ('look', 132),\n",
       " ('find', 128),\n",
       " ('assemble', 124),\n",
       " ('seem', 114),\n",
       " ('leave', 92),\n",
       " ('feel', 90),\n",
       " ('carry', 83),\n",
       " ('know', 82),\n",
       " ('set', 80),\n",
       " ('try', 76),\n",
       " ('fold', 76),\n",
       " ('let', 68),\n",
       " ('walk', 64),\n",
       " ('expect', 63)]"
      ]
     },
     "execution_count": 251,
     "metadata": {},
     "output_type": "execute_result"
    }
   ],
   "source": [
    "df12_dict['verb_tokens'][0:30] "
   ]
  },
  {
   "cell_type": "markdown",
   "id": "0f368833",
   "metadata": {},
   "source": [
    "# Form features hirerachy"
   ]
  },
  {
   "cell_type": "code",
   "execution_count": 9,
   "id": "aa7b8f06",
   "metadata": {},
   "outputs": [],
   "source": [
    "feature_list1 = df12_dict['cleaned_tri_pmi'].loc[0:20, 'trigram'].values.tolist() \\\n",
    "+ df12_dict['cleaned_bi_pmi'].loc[0:20, 'bigram'].values.tolist() "
   ]
  },
  {
   "cell_type": "code",
   "execution_count": 10,
   "id": "6fc51dfc",
   "metadata": {},
   "outputs": [],
   "source": [
    "clean_feature_list1 = [\n",
    "    ('easy', 'put', 'together'),\n",
    "# ('shoulder', 'strap'),\n",
    "# ('cable', 'ties'),\n",
    "# ('play', 'pen'),\n",
    "# ('zip', 'ties'),\n",
    " ('plenty', 'room'),\n",
    " ('move', 'around'),\n",
    " ('easy', 'clean'),\n",
    " ('big', 'enough'),\n",
    " ('easy', 'assemble')]"
   ]
  },
  {
   "cell_type": "code",
   "execution_count": 11,
   "id": "9fd3e60f",
   "metadata": {},
   "outputs": [],
   "source": [
    "clean_verbs = [\n",
    "'assemble',\n",
    "#  'buy',\n",
    "#  'come',\n",
    "#  'find',\n",
    "#  'get',\n",
    "#  'give',\n",
    "#  'go',\n",
    " 'hold',\n",
    " 'keep' \\\n",
    "#  'look',\n",
    "#  'make',\n",
    "#  'need',\n",
    "#  'put',\n",
    "#  'say',\n",
    "#  'see',\n",
    "#  'seem',\n",
    "#  'take',\n",
    "#  'think',\n",
    "#  'use',\n",
    "#  'want'\n",
    "]"
   ]
  },
  {
   "cell_type": "code",
   "execution_count": 12,
   "id": "363ccb6a",
   "metadata": {},
   "outputs": [],
   "source": [
    "clean_nouns = [\n",
    "# 'bag',\n",
    "# 'box',\n",
    "# 'cage',\n",
    "# 'carrier',\n",
    "# 'cat',\n",
    "# 'crate',\n",
    "# 'door',\n",
    "# 'place',\n",
    " 'price',\n",
    "# 'problem',\n",
    "# 'purchase',\n",
    "# 'room',\n",
    "# 'shelf',\n",
    "# 'side',\n",
    " 'size' \\\n",
    "# 'stroller',\n",
    "# 'tie',\n",
    "# 'use',\n",
    "# 'way',\n",
    "# 'wheel'\n",
    "]"
   ]
  },
  {
   "cell_type": "code",
   "execution_count": 13,
   "id": "05c143a6",
   "metadata": {},
   "outputs": [],
   "source": [
    "clean_adjs = [\n",
    "# 'bad',\n",
    " 'big',\n",
    "#  'bottom',\n",
    " 'cheap',\n",
    " 'clean',\n",
    "#  'close',\n",
    " 'comfortable',\n",
    " 'difficult',\n",
    " 'easy',\n",
    " 'enough',\n",
    " 'extra',\n",
    " 'fit',\n",
    "#  'front',\n",
    " 'heavy',\n",
    " 'large',\n",
    "#  'last',\n",
    "#  'long',\n",
    "#  'many',\n",
    "#  'new',\n",
    "#  'open',\n",
    "#  'perfect',\n",
    "#  'pet',\n",
    " 'plenty',\n",
    "#  'right',\n",
    " 'safe',\n",
    " 'secure',\n",
    "#  'short',\n",
    " 'sturdy' \\\n",
    "#  'sure',\n",
    "#  'top'\n",
    "]"
   ]
  },
  {
   "cell_type": "code",
   "execution_count": 14,
   "id": "b1c52335",
   "metadata": {},
   "outputs": [],
   "source": [
    "feature_list2 = clean_verbs + clean_nouns + clean_adjs"
   ]
  },
  {
   "cell_type": "code",
   "execution_count": 15,
   "id": "c16046e6",
   "metadata": {},
   "outputs": [],
   "source": [
    "feature_lists = clean_feature_list1 + feature_list2"
   ]
  },
  {
   "cell_type": "code",
   "execution_count": 16,
   "id": "4aeee996",
   "metadata": {},
   "outputs": [],
   "source": [
    "def vectorize_features(features):\n",
    "    '''\n",
    "    Embed features to vectors. \n",
    "\n",
    "        Parameters:\n",
    "                features (list): A list of features. \n",
    "\n",
    "        Returns:\n",
    "                arr_dict (dictionary): A dictionary collects {'feature': vector}.\n",
    "    '''\n",
    "    arr_dict = {}\n",
    "    for f in features:\n",
    "        if isinstance(f, tuple) and len(f) == 2:\n",
    "            arr = np.mean(np.array([w2v[f[0]], w2v[f[1]]]), axis=0)\n",
    "            arr_dict[f] = arr\n",
    "        if isinstance(f, tuple) and len(f) == 3:\n",
    "            arr = np.mean(np.array([w2v[f[0]], w2v[f[1]], w2v[f[2]]]), axis=0)\n",
    "            arr_dict[f] = arr\n",
    "        if isinstance(f, str):\n",
    "            arr = w2v[f]\n",
    "            arr_dict[f] = arr\n",
    "\n",
    "    return arr_dict\n",
    "\n",
    "def compare_pairwise_features(features, arr_dict):\n",
    "    '''\n",
    "    Compute similarity of pairwise features. \n",
    "\n",
    "        Parameters:\n",
    "                features (list): A list of features. \n",
    "                arr_dict (dictionary): A dictionary collects {'feature': vector}.\n",
    "\n",
    "        Returns:\n",
    "                similarity_dict (dictionary): A dictionary collects {'(pairwise features in a tuple)': similarity score}.\n",
    "    '''\n",
    "    pairs =list(itertools.combinations(features, 2))\n",
    "    similarity_dict = {}\n",
    "    for p in pairs:\n",
    "        score = dot(arr_dict[p[0]], arr_dict[p[1]])/(norm(arr_dict[p[0]])*norm(arr_dict[p[1]]))\n",
    "        similarity_dict[p] = score\n",
    "    return similarity_dict "
   ]
  },
  {
   "cell_type": "code",
   "execution_count": 17,
   "id": "55018e2a",
   "metadata": {},
   "outputs": [],
   "source": [
    "vec_features = vectorize_features(feature_lists)"
   ]
  },
  {
   "cell_type": "code",
   "execution_count": 18,
   "id": "76511d38",
   "metadata": {},
   "outputs": [],
   "source": [
    "dict_features = compare_pairwise_features(feature_lists, vec_features)"
   ]
  },
  {
   "cell_type": "code",
   "execution_count": 465,
   "id": "8912a451",
   "metadata": {},
   "outputs": [
    {
     "data": {
      "text/plain": [
       "{(('plenty', 'room'), 'plenty'): 0.80888534,\n",
       " (('big', 'enough'), 'big'): 0.8008372,\n",
       " (('big', 'enough'), 'enough'): 0.7971251,\n",
       " (('easy', 'clean'), 'clean'): 0.7898818,\n",
       " (('easy', 'assemble'), 'assemble'): 0.7809159,\n",
       " (('easy', 'clean'), 'easy'): 0.7679792,\n",
       " (('easy', 'assemble'), 'easy'): 0.71325916,\n",
       " (('easy', 'put', 'together'), ('easy', 'assemble')): 0.6634535,\n",
       " (('easy', 'put', 'together'), 'easy'): 0.6429897,\n",
       " (('easy', 'put', 'together'), ('easy', 'clean')): 0.59803647,\n",
       " ('difficult', 'easy'): 0.5890915,\n",
       " (('easy', 'clean'), ('easy', 'assemble')): 0.58371544,\n",
       " ('big', 'large'): 0.5561479,\n",
       " (('big', 'enough'), 'plenty'): 0.5428195,\n",
       " (('big', 'enough'), 'large'): 0.5061705,\n",
       " (('easy', 'clean'), 'safe'): 0.4824456,\n",
       " ('enough', 'plenty'): 0.48221698,\n",
       " ('safe', 'secure'): 0.48023543,\n",
       " (('plenty', 'room'), ('big', 'enough')): 0.46595684,\n",
       " (('easy', 'put', 'together'), ('big', 'enough')): 0.45970392,\n",
       " ('size', 'large'): 0.45715412,\n",
       " (('easy', 'clean'), 'cheap'): 0.45332953,\n",
       " (('easy', 'assemble'), 'difficult'): 0.4525711,\n",
       " (('easy', 'put', 'together'), 'difficult'): 0.44811484,\n",
       " ('comfortable', 'safe'): 0.43758047,\n",
       " (('plenty', 'room'), 'enough'): 0.418821,\n",
       " (('easy', 'clean'), ('big', 'enough')): 0.41767317,\n",
       " ('heavy', 'large'): 0.41594332,\n",
       " (('easy', 'clean'), 'difficult'): 0.41525805,\n",
       " ('cheap', 'easy'): 0.41449657,\n",
       " ('comfortable', 'easy'): 0.41076234,\n",
       " ('clean', 'safe'): 0.40663508,\n",
       " ('hold', 'keep'): 0.40519446,\n",
       " (('big', 'enough'), 'easy'): 0.4012275,\n",
       " (('big', 'enough'), 'extra'): 0.39265522,\n",
       " (('easy', 'put', 'together'), ('move', 'around')): 0.3908838,\n",
       " (('easy', 'put', 'together'), 'comfortable'): 0.38693386,\n",
       " ('big', 'plenty'): 0.38559258,\n",
       " ('comfortable', 'secure'): 0.38461998,\n",
       " ('comfortable', 'sturdy'): 0.3829039,\n",
       " ('comfortable', 'fit'): 0.38243407,\n",
       " ('enough', 'extra'): 0.38126633,\n",
       " (('easy', 'clean'), 'comfortable'): 0.37834686,\n",
       " ('extra', 'plenty'): 0.37515366,\n",
       " (('easy', 'put', 'together'), 'enough'): 0.37488833,\n",
       " (('easy', 'put', 'together'), 'assemble'): 0.36679912,\n",
       " ('price', 'cheap'): 0.36354047,\n",
       " (('easy', 'clean'), 'enough'): 0.3626039,\n",
       " (('easy', 'assemble'), 'sturdy'): 0.36053264,\n",
       " (('easy', 'put', 'together'), 'big'): 0.35977027,\n",
       " (('easy', 'put', 'together'), 'keep'): 0.3568602,\n",
       " ('keep', 'secure'): 0.3520555,\n",
       " (('plenty', 'room'), 'extra'): 0.34802765,\n",
       " (('big', 'enough'), 'sturdy'): 0.3471191,\n",
       " (('big', 'enough'), ('easy', 'assemble')): 0.34467918,\n",
       " (('easy', 'assemble'), 'fit'): 0.34413275,\n",
       " ('easy', 'safe'): 0.34381384,\n",
       " ('enough', 'sturdy'): 0.341407,\n",
       " ('big', 'heavy'): 0.3409661,\n",
       " (('easy', 'put', 'together'), 'fit'): 0.3405196,\n",
       " ('easy', 'enough'): 0.33953053,\n",
       " (('easy', 'assemble'), 'cheap'): 0.3336524,\n",
       " (('big', 'enough'), 'cheap'): 0.33187288,\n",
       " ('comfortable', 'difficult'): 0.32959005,\n",
       " ('keep', 'clean'): 0.32860672,\n",
       " (('move', 'around'), ('big', 'enough')): 0.3273115,\n",
       " (('easy', 'clean'), 'sturdy'): 0.32715815,\n",
       " (('plenty', 'room'), 'big'): 0.32614765,\n",
       " (('easy', 'clean'), 'secure'): 0.32393363,\n",
       " (('easy', 'assemble'), 'enough'): 0.32265425,\n",
       " ('safe', 'sturdy'): 0.32258254,\n",
       " (('easy', 'assemble'), 'secure'): 0.3209823,\n",
       " (('big', 'enough'), 'difficult'): 0.3188712,\n",
       " (('move', 'around'), 'keep'): 0.31857067,\n",
       " (('easy', 'assemble'), 'comfortable'): 0.31502053,\n",
       " ('heavy', 'sturdy'): 0.3128418,\n",
       " (('plenty', 'room'), 'comfortable'): 0.31128433,\n",
       " (('easy', 'put', 'together'), 'hold'): 0.31089705,\n",
       " (('easy', 'put', 'together'), 'sturdy'): 0.3101762,\n",
       " (('easy', 'clean'), 'plenty'): 0.3094275,\n",
       " ('easy', 'sturdy'): 0.3068993,\n",
       " (('plenty', 'room'), ('easy', 'clean')): 0.30607846,\n",
       " (('easy', 'clean'), 'big'): 0.30506435,\n",
       " ('cheap', 'sturdy'): 0.3040274,\n",
       " (('big', 'enough'), 'heavy'): 0.3030793,\n",
       " ('big', 'easy'): 0.30177683,\n",
       " (('easy', 'put', 'together'), 'cheap'): 0.30008397,\n",
       " ('size', 'big'): 0.2996735,\n",
       " (('easy', 'clean'), 'keep'): 0.29875135,\n",
       " ('fit', 'sturdy'): 0.29764494,\n",
       " (('easy', 'put', 'together'), 'clean'): 0.2964745,\n",
       " (('easy', 'put', 'together'), ('plenty', 'room')): 0.295096,\n",
       " ('cheap', 'clean'): 0.29454726,\n",
       " (('move', 'around'), ('easy', 'assemble')): 0.2943263,\n",
       " ('cheap', 'safe'): 0.2927082,\n",
       " (('easy', 'put', 'together'), 'secure'): 0.29044524,\n",
       " ('easy', 'plenty'): 0.2886698,\n",
       " ('size', 'fit'): 0.28858823,\n",
       " ('keep', 'safe'): 0.28776953,\n",
       " (('move', 'around'), 'assemble'): 0.28656057,\n",
       " ('assemble', 'hold'): 0.2863817,\n",
       " (('big', 'enough'), 'size'): 0.2859811,\n",
       " ('assemble', 'fit'): 0.28543663,\n",
       " ('clean', 'secure'): 0.28402182,\n",
       " (('easy', 'put', 'together'), 'plenty'): 0.2818327,\n",
       " ('secure', 'sturdy'): 0.28180572,\n",
       " ('cheap', 'plenty'): 0.27955198,\n",
       " ('extra', 'heavy'): 0.27927646,\n",
       " (('move', 'around'), 'hold'): 0.27836606,\n",
       " (('easy', 'put', 'together'), 'safe'): 0.2781625,\n",
       " ('cheap', 'enough'): 0.27685547,\n",
       " ('big', 'enough'): 0.27675387,\n",
       " (('easy', 'clean'), 'fit'): 0.2741539,\n",
       " (('move', 'around'), 'big'): 0.27290285,\n",
       " (('plenty', 'room'), 'easy'): 0.27230117,\n",
       " ('enough', 'safe'): 0.27223665,\n",
       " (('move', 'around'), 'comfortable'): 0.27072823,\n",
       " (('easy', 'assemble'), 'large'): 0.27068466,\n",
       " (('easy', 'put', 'together'), 'extra'): 0.269385,\n",
       " ('heavy', 'plenty'): 0.26426062,\n",
       " ('difficult', 'enough'): 0.26403922,\n",
       " ('enough', 'fit'): 0.2635795,\n",
       " ('hold', 'secure'): 0.2603546,\n",
       " ('assemble', 'secure'): 0.25919002,\n",
       " ('price', 'size'): 0.25622925,\n",
       " ('large', 'sturdy'): 0.2554787,\n",
       " ('big', 'cheap'): 0.2535654,\n",
       " (('big', 'enough'), 'clean'): 0.25286838,\n",
       " (('big', 'enough'), 'comfortable'): 0.25270575,\n",
       " (('plenty', 'room'), 'cheap'): 0.25249913,\n",
       " ('keep', 'enough'): 0.252196,\n",
       " ('enough', 'large'): 0.25145176,\n",
       " (('big', 'enough'), 'fit'): 0.25011247,\n",
       " (('move', 'around'), 'enough'): 0.25003982,\n",
       " (('big', 'enough'), 'keep'): 0.24987113,\n",
       " ('keep', 'comfortable'): 0.24819721,\n",
       " (('plenty', 'room'), ('move', 'around')): 0.24721222,\n",
       " (('move', 'around'), 'secure'): 0.24720407,\n",
       " ('big', 'extra'): 0.24673957,\n",
       " ('big', 'difficult'): 0.24558546,\n",
       " (('easy', 'assemble'), 'plenty'): 0.24061531,\n",
       " (('plenty', 'room'), 'large'): 0.23918255,\n",
       " (('plenty', 'room'), ('easy', 'assemble')): 0.23861217,\n",
       " ('assemble', 'sturdy'): 0.23721237,\n",
       " ('cheap', 'comfortable'): 0.23674065,\n",
       " ('comfortable', 'plenty'): 0.23380354,\n",
       " ('keep', 'plenty'): 0.23238052,\n",
       " ('large', 'plenty'): 0.2298601,\n",
       " (('move', 'around'), ('easy', 'clean')): 0.22956948,\n",
       " (('plenty', 'room'), 'keep'): 0.22907266,\n",
       " (('easy', 'assemble'), 'big'): 0.22852135,\n",
       " (('big', 'enough'), 'safe'): 0.22811274,\n",
       " ('clean', 'enough'): 0.22795062,\n",
       " ('easy', 'fit'): 0.22671928,\n",
       " (('easy', 'assemble'), 'safe'): 0.22619322,\n",
       " (('move', 'around'), 'extra'): 0.22240022,\n",
       " (('easy', 'put', 'together'), 'large'): 0.22209585,\n",
       " ('easy', 'secure'): 0.21937238,\n",
       " ('difficult', 'large'): 0.21912092,\n",
       " ('big', 'comfortable'): 0.21490635,\n",
       " (('easy', 'assemble'), 'size'): 0.21388538,\n",
       " ('clean', 'easy'): 0.2138359,\n",
       " ('big', 'sturdy'): 0.21380478,\n",
       " ('fit', 'safe'): 0.21363752,\n",
       " ('assemble', 'large'): 0.21268162,\n",
       " (('move', 'around'), 'plenty'): 0.21060257,\n",
       " (('move', 'around'), 'clean'): 0.21007216,\n",
       " (('plenty', 'room'), 'heavy'): 0.21005106,\n",
       " ('difficult', 'heavy'): 0.20996487,\n",
       " ('plenty', 'sturdy'): 0.20884879,\n",
       " ('enough', 'secure'): 0.20882593,\n",
       " ('cheap', 'large'): 0.20876098,\n",
       " (('easy', 'assemble'), 'keep'): 0.20854165,\n",
       " (('easy', 'assemble'), 'clean'): 0.20734811,\n",
       " (('plenty', 'room'), 'clean'): 0.20610896,\n",
       " ('clean', 'sturdy'): 0.20513229,\n",
       " ('keep', 'extra'): 0.20400366,\n",
       " ('hold', 'enough'): 0.20278208,\n",
       " ('size', 'sturdy'): 0.20161691,\n",
       " ('clean', 'fit'): 0.2010617,\n",
       " ('difficult', 'safe'): 0.20075871,\n",
       " (('plenty', 'room'), 'safe'): 0.19947942,\n",
       " (('easy', 'assemble'), 'hold'): 0.19906804,\n",
       " ('fit', 'secure'): 0.19690706,\n",
       " ('keep', 'fit'): 0.19575083,\n",
       " ('clean', 'plenty'): 0.1955439,\n",
       " ('plenty', 'safe'): 0.19486557,\n",
       " ('easy', 'large'): 0.19161002,\n",
       " ('comfortable', 'enough'): 0.18880469,\n",
       " ('keep', 'sturdy'): 0.18755938,\n",
       " (('move', 'around'), 'large'): 0.18712904,\n",
       " (('big', 'enough'), 'hold'): 0.18595502,\n",
       " (('plenty', 'room'), 'fit'): 0.18491395,\n",
       " ('cheap', 'extra'): 0.18467762,\n",
       " (('easy', 'put', 'together'), 'size'): 0.18456867,\n",
       " (('easy', 'clean'), 'extra'): 0.18441704,\n",
       " ('cheap', 'secure'): 0.18403941,\n",
       " ('clean', 'comfortable'): 0.18375714,\n",
       " (('plenty', 'room'), 'sturdy'): 0.18194509,\n",
       " (('move', 'around'), 'fit'): 0.18115784,\n",
       " (('move', 'around'), 'safe'): 0.18014252,\n",
       " ('comfortable', 'extra'): 0.17917456,\n",
       " ('assemble', 'size'): 0.17881866,\n",
       " ('cheap', 'heavy'): 0.17873447,\n",
       " ('easy', 'extra'): 0.17748299,\n",
       " ('assemble', 'keep'): 0.17715587,\n",
       " (('move', 'around'), 'size'): 0.1768788,\n",
       " ('big', 'clean'): 0.17633903,\n",
       " (('move', 'around'), 'cheap'): 0.17589422,\n",
       " (('big', 'enough'), 'secure'): 0.17452317,\n",
       " (('easy', 'clean'), 'heavy'): 0.1726749,\n",
       " (('move', 'around'), 'difficult'): 0.17107749,\n",
       " (('easy', 'clean'), 'large'): 0.16687532,\n",
       " (('plenty', 'room'), 'difficult'): 0.16518073,\n",
       " ('extra', 'secure'): 0.16504791,\n",
       " ('size', 'cheap'): 0.16078676,\n",
       " ('difficult', 'fit'): 0.16020848,\n",
       " (('easy', 'put', 'together'), 'heavy'): 0.1584291,\n",
       " ('size', 'enough'): 0.15673168,\n",
       " ('difficult', 'secure'): 0.15594895,\n",
       " ('assemble', 'enough'): 0.15447459,\n",
       " ('difficult', 'plenty'): 0.15355775,\n",
       " ('comfortable', 'heavy'): 0.15335634,\n",
       " ('hold', 'sturdy'): 0.15194175,\n",
       " ('cheap', 'difficult'): 0.15148078,\n",
       " (('plenty', 'room'), 'hold'): 0.14949903,\n",
       " ('extra', 'large'): 0.14923456,\n",
       " ('difficult', 'sturdy'): 0.14795691,\n",
       " ('keep', 'big'): 0.1475217,\n",
       " (('move', 'around'), 'easy'): 0.14628977,\n",
       " (('plenty', 'room'), 'size'): 0.14454809,\n",
       " (('easy', 'assemble'), 'extra'): 0.14432901,\n",
       " (('move', 'around'), 'sturdy'): 0.14387628,\n",
       " ('easy', 'heavy'): 0.14271125,\n",
       " ('enough', 'heavy'): 0.14253412,\n",
       " (('easy', 'clean'), 'assemble'): 0.1424553,\n",
       " ('extra', 'sturdy'): 0.14198275,\n",
       " (('move', 'around'), 'price'): 0.14058018,\n",
       " (('easy', 'clean'), 'size'): 0.13990065,\n",
       " ('size', 'difficult'): 0.13941185,\n",
       " ('size', 'easy'): 0.13932377,\n",
       " ('fit', 'plenty'): 0.13923943,\n",
       " ('big', 'fit'): 0.13661526,\n",
       " ('size', 'heavy'): 0.13582206,\n",
       " ('size', 'comfortable'): 0.13540299,\n",
       " ('hold', 'fit'): 0.13422072,\n",
       " ('large', 'secure'): 0.13397072,\n",
       " ('keep', 'easy'): 0.13269567,\n",
       " ('comfortable', 'large'): 0.131303,\n",
       " (('easy', 'assemble'), 'heavy'): 0.1311062,\n",
       " (('big', 'enough'), 'assemble'): 0.13069052,\n",
       " ('keep', 'cheap'): 0.1303842,\n",
       " (('move', 'around'), 'heavy'): 0.128661,\n",
       " ('keep', 'difficult'): 0.12746349,\n",
       " ('clean', 'heavy'): 0.12672146,\n",
       " (('big', 'enough'), 'price'): 0.12279854,\n",
       " ('hold', 'safe'): 0.12227056,\n",
       " ('hold', 'extra'): 0.12132603,\n",
       " ('hold', 'plenty'): 0.11955542,\n",
       " ('assemble', 'easy'): 0.11918772,\n",
       " ('size', 'extra'): 0.1189125,\n",
       " ('keep', 'heavy'): 0.1182377,\n",
       " ('hold', 'size'): 0.11638263,\n",
       " ('assemble', 'difficult'): 0.11610384,\n",
       " (('easy', 'put', 'together'), 'price'): 0.11308501,\n",
       " ('cheap', 'fit'): 0.112054,\n",
       " ('extra', 'safe'): 0.11144545,\n",
       " ('clean', 'extra'): 0.11133667,\n",
       " ('heavy', 'safe'): 0.10925805,\n",
       " (('easy', 'assemble'), 'price'): 0.10759391,\n",
       " ('hold', 'large'): 0.10727879,\n",
       " ('assemble', 'cheap'): 0.10324508,\n",
       " ('assemble', 'clean'): 0.103153646,\n",
       " ('price', 'big'): 0.10154165,\n",
       " ('hold', 'comfortable'): 0.101311445,\n",
       " ('fit', 'large'): 0.10108878,\n",
       " ('price', 'easy'): 0.09802706,\n",
       " ('hold', 'clean'): 0.09791337,\n",
       " ('size', 'plenty'): 0.09751556,\n",
       " (('plenty', 'room'), 'assemble'): 0.09533754,\n",
       " ('hold', 'big'): 0.09481262,\n",
       " ('price', 'large'): 0.094741456,\n",
       " ('price', 'enough'): 0.09465943,\n",
       " ('extra', 'fit'): 0.093954735,\n",
       " ('big', 'safe'): 0.09301738,\n",
       " ('difficult', 'extra'): 0.0924213,\n",
       " ('hold', 'price'): 0.090360105,\n",
       " ('hold', 'difficult'): 0.08754075,\n",
       " ('keep', 'size'): 0.086984426,\n",
       " ('assemble', 'plenty'): 0.083587565,\n",
       " (('easy', 'clean'), 'price'): 0.082361154,\n",
       " ('price', 'heavy'): 0.081309564,\n",
       " ('assemble', 'comfortable'): 0.080179736,\n",
       " ('size', 'clean'): 0.0799768,\n",
       " ('hold', 'heavy'): 0.074587114,\n",
       " ('price', 'difficult'): 0.071627945,\n",
       " ('clean', 'large'): 0.07105484,\n",
       " (('plenty', 'room'), 'secure'): 0.070645206,\n",
       " ('big', 'secure'): 0.07062489,\n",
       " (('plenty', 'room'), 'price'): 0.07012898,\n",
       " ('clean', 'difficult'): 0.069303714,\n",
       " ('price', 'plenty'): 0.068960994,\n",
       " ('hold', 'cheap'): 0.0654851,\n",
       " ('assemble', 'price'): 0.06505305,\n",
       " ('plenty', 'secure'): 0.063647814,\n",
       " ('keep', 'large'): 0.06333889,\n",
       " ('large', 'safe'): 0.06313908,\n",
       " ('heavy', 'secure'): 0.06231549,\n",
       " ('price', 'extra'): 0.06223534,\n",
       " (('easy', 'clean'), 'hold'): 0.061104465,\n",
       " ('assemble', 'heavy'): 0.0585376,\n",
       " ('assemble', 'big'): 0.054774765,\n",
       " ('price', 'safe'): 0.05248613,\n",
       " ('price', 'sturdy'): 0.052095402,\n",
       " ('price', 'fit'): 0.048354283,\n",
       " ('assemble', 'extra'): 0.04628033,\n",
       " ('keep', 'price'): 0.042623553,\n",
       " ('price', 'secure'): 0.040330928,\n",
       " ('fit', 'heavy'): 0.040196013,\n",
       " ('price', 'clean'): 0.031757895,\n",
       " ('price', 'comfortable'): 0.023313375,\n",
       " ('size', 'secure'): 0.023196233,\n",
       " ('assemble', 'safe'): 0.014013838,\n",
       " ('size', 'safe'): 0.001969947,\n",
       " ('hold', 'easy'): -0.0049244245}"
      ]
     },
     "execution_count": 465,
     "metadata": {},
     "output_type": "execute_result"
    }
   ],
   "source": [
    "{k: v for k, v in sorted(dict_features.items(), key=lambda item: item[1], reverse=True)}"
   ]
  },
  {
   "cell_type": "markdown",
   "id": "94a17177",
   "metadata": {},
   "source": [
    "# Detect features in reviews, and aggretae sentiment scoring in feature level (haven't implemented, shown as examples)"
   ]
  },
  {
   "cell_type": "code",
   "execution_count": 492,
   "id": "cc2bde78",
   "metadata": {},
   "outputs": [
    {
     "data": {
      "text/plain": [
       "\"This is a great carrier, I purchased it after I had to return the Cayman 1 and although I liked the Cayman 1 it was not big enough. Although the dimensions and size are a little off, the carrier is very sturdy, easy to put together, airline approved. I found it was great and my dog did not even mind being put into it. I measured my dog and after purchasing and returning the Cayman 1, I found that you have to purchase the size up. It is usually only a difference of a few dollars but it, you won't have to return it and your pet wil much more comfortable. It is also very light weight\""
      ]
     },
     "execution_count": 492,
     "metadata": {},
     "output_type": "execute_result"
    }
   ],
   "source": [
    "example1 = df12[(df12.reviewerID == 'A2TGOCH6XUQ30M') & (df12.asin == 'B0002AQX3Q')]['reviewText'].values[0]\n",
    "example1"
   ]
  },
  {
   "cell_type": "code",
   "execution_count": 493,
   "id": "75f4adda",
   "metadata": {},
   "outputs": [
    {
     "data": {
      "text/plain": [
       "'I purchased two of these carriers to ship my two cats across the country by air. Each came with all of the necessary parts and a \"live animals\" sticker.  I found the carriers very easy to assemble and, once-assembled they were very sturdy. The front doors latch securely, the bottom halves are solid and the top halves have lots of air ventilation. There are holes in the bottom for an optional set of wheels, and there is a hook on top for an optional shoulder strap on top-- both of these are sold separately. I also purchased twoLanca 1 No Spill  Cups for the doors of each of the carriers (four total) and I was glad that I didn\\'t purchase the bigger pet dishes because anything bigger would not have fit.The overall carrier dimensions were just right for them to stand in them fully and turn around, which is required for animal shipping per federal guidelines. We had no problems with the airline at all. After the cats arrived, the carriers (and the cats!) were still in great condition. I disassembled the carriers just as easily as I had put them together, hosed them down, and stored them. These are the best carriers I have purchased for my animals, and I would recommend them to anyone looking for this type of product.'"
      ]
     },
     "execution_count": 493,
     "metadata": {},
     "output_type": "execute_result"
    }
   ],
   "source": [
    "example2 = df12[(df12.reviewerID == 'A2XC5LHBWTTA3S') & (df12.asin == 'B0002AQX40')]['reviewText'].values[0]\n",
    "example2"
   ]
  },
  {
   "cell_type": "code",
   "execution_count": 499,
   "id": "2a5977fd",
   "metadata": {},
   "outputs": [
    {
     "data": {
      "text/plain": [
       "'Although the dimensions and size are a little off, the carrier is very sturdy, easy to put together, airline approved.'"
      ]
     },
     "execution_count": 499,
     "metadata": {},
     "output_type": "execute_result"
    }
   ],
   "source": [
    "tokenize.sent_tokenize(str(example1))[1]"
   ]
  },
  {
   "cell_type": "code",
   "execution_count": 497,
   "id": "91c45cd7",
   "metadata": {},
   "outputs": [
    {
     "data": {
      "text/plain": [
       "'I found the carriers very easy to assemble and, once-assembled they were very sturdy.'"
      ]
     },
     "execution_count": 497,
     "metadata": {},
     "output_type": "execute_result"
    }
   ],
   "source": [
    "tokenize.sent_tokenize(str(example2))[2]"
   ]
  },
  {
   "cell_type": "code",
   "execution_count": 502,
   "id": "16dbed09",
   "metadata": {},
   "outputs": [
    {
     "data": {
      "text/plain": [
       "0.7165"
      ]
     },
     "execution_count": 502,
     "metadata": {},
     "output_type": "execute_result"
    }
   ],
   "source": [
    "round(sent.polarity_scores(tokenize.sent_tokenize(str(example1))[1])['compound'], 4)"
   ]
  },
  {
   "cell_type": "code",
   "execution_count": 504,
   "id": "30b060bc",
   "metadata": {},
   "outputs": [
    {
     "data": {
      "text/plain": [
       "0.4927"
      ]
     },
     "execution_count": 504,
     "metadata": {},
     "output_type": "execute_result"
    }
   ],
   "source": [
    "round(sent.polarity_scores(tokenize.sent_tokenize(str(example2))[2])['compound'], 4)"
   ]
  },
  {
   "cell_type": "markdown",
   "id": "7b7cbfff",
   "metadata": {},
   "source": [
    "# clustering graphing using dendrogram"
   ]
  },
  {
   "cell_type": "code",
   "execution_count": 39,
   "id": "bb3f4960",
   "metadata": {},
   "outputs": [],
   "source": [
    "test_vecs = np.vstack((vec_features[('easy', 'put', 'together')], vec_features[('plenty', 'room')]))"
   ]
  },
  {
   "cell_type": "code",
   "execution_count": 42,
   "id": "40118682",
   "metadata": {},
   "outputs": [],
   "source": [
    "dict_features = compare_pairwise_features(feature_lists, vec_features)"
   ]
  },
  {
   "cell_type": "code",
   "execution_count": 44,
   "id": "c42be8e0",
   "metadata": {},
   "outputs": [
    {
     "data": {
      "text/plain": [
       "0.295096"
      ]
     },
     "execution_count": 44,
     "metadata": {},
     "output_type": "execute_result"
    }
   ],
   "source": [
    "dict_features[(('easy', 'put', 'together'), ('plenty', 'room'))]"
   ]
  },
  {
   "cell_type": "code",
   "execution_count": 40,
   "id": "999bf912",
   "metadata": {},
   "outputs": [
    {
     "data": {
      "text/plain": [
       "array([2.18094859])"
      ]
     },
     "execution_count": 40,
     "metadata": {},
     "output_type": "execute_result"
    }
   ],
   "source": [
    "pdist(test_vecs, 'euclidean')"
   ]
  },
  {
   "cell_type": "code",
   "execution_count": 45,
   "id": "0d6f3cff",
   "metadata": {},
   "outputs": [
    {
     "data": {
      "text/plain": [
       "array([2.18094859])"
      ]
     },
     "execution_count": 45,
     "metadata": {},
     "output_type": "execute_result"
    }
   ],
   "source": [
    "pdist(test_vecs, 'minkowski', p=2.)"
   ]
  },
  {
   "cell_type": "code",
   "execution_count": 85,
   "id": "f68478ea",
   "metadata": {},
   "outputs": [
    {
     "data": {
      "text/plain": [
       "0.295096"
      ]
     },
     "execution_count": 85,
     "metadata": {},
     "output_type": "execute_result"
    }
   ],
   "source": [
    "a = vec_features[('easy', 'put', 'together')]\n",
    "b = vec_features[('plenty', 'room')]\n",
    "dot(a, b)/(norm(a)*norm(b))"
   ]
  },
  {
   "cell_type": "code",
   "execution_count": 87,
   "id": "46b88682",
   "metadata": {},
   "outputs": [
    {
     "data": {
      "text/plain": [
       "0.45970392"
      ]
     },
     "execution_count": 87,
     "metadata": {},
     "output_type": "execute_result"
    }
   ],
   "source": [
    "a = vec_features[('easy', 'put', 'together')]\n",
    "b = vec_features[('big', 'enough')]\n",
    "dot(a, b)/(norm(a)*norm(b))"
   ]
  },
  {
   "cell_type": "code",
   "execution_count": 96,
   "id": "99d38cb4",
   "metadata": {},
   "outputs": [
    {
     "data": {
      "text/plain": [
       "0.4597039520740509"
      ]
     },
     "execution_count": 96,
     "metadata": {},
     "output_type": "execute_result"
    }
   ],
   "source": [
    "1 - distance.cosine(vec_features[('easy', 'put', 'together')],  \n",
    "                    vec_features[('big', 'enough')])"
   ]
  },
  {
   "cell_type": "code",
   "execution_count": 97,
   "id": "940f3c53",
   "metadata": {},
   "outputs": [
    {
     "data": {
      "text/plain": [
       "0.29509595036506653"
      ]
     },
     "execution_count": 97,
     "metadata": {},
     "output_type": "execute_result"
    }
   ],
   "source": [
    "1 - distance.cosine(vec_features[('easy', 'put', 'together')],  \n",
    "                    vec_features[('plenty', 'room')])"
   ]
  },
  {
   "cell_type": "code",
   "execution_count": 98,
   "id": "21bd17e5",
   "metadata": {},
   "outputs": [
    {
     "data": {
      "text/plain": [
       "0.4659568667411804"
      ]
     },
     "execution_count": 98,
     "metadata": {},
     "output_type": "execute_result"
    }
   ],
   "source": [
    "1 - distance.cosine(vec_features[('plenty', 'room')],  \n",
    "                    vec_features[('big', 'enough')])"
   ]
  },
  {
   "cell_type": "code",
   "execution_count": 118,
   "id": "120a50d0",
   "metadata": {},
   "outputs": [
    {
     "data": {
      "image/png": "[encoded data removed]",
      "text/plain": [
       "<Figure size 1800x1080 with 1 Axes>"
      ]
     },
     "metadata": {
      "needs_background": "light"
     },
     "output_type": "display_data"
    }
   ],
   "source": [
    "fig = plt.figure(figsize=(25, 15))\n",
    "dn = dendrogram(Z, orientation='right', labels=list(vec_features.keys())) #cosine distance = 1 - consine similarity\n",
    "plt.show()"
   ]
  }
 ],
 "metadata": {
  "kernelspec": {
   "display_name": "chewy_seo",
   "language": "python",
   "name": "chewy_seo"
  },
  "language_info": {
   "codemirror_mode": {
    "name": "ipython",
    "version": 3
   },
   "file_extension": ".py",
   "mimetype": "text/x-python",
   "name": "python",
   "nbconvert_exporter": "python",
   "pygments_lexer": "ipython3",
   "version": "3.9.7"
  }
 },
 "nbformat": 4,
 "nbformat_minor": 5
}
