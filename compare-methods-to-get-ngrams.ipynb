{
 "cells": [
  {
   "cell_type": "markdown",
   "id": "d86e2160",
   "metadata": {},
   "source": [
    "Methodologies:\n",
    "- 1. Decide on which level of categories we wanna build topic modeling based on token frequencies (level 3 because most vocabularies on level4 are overlapped **check**)\n",
    "- 2. Decide preprocess pipeline before feeding into ngram parser (**NOTE**: it's a bit different from the text parsing method):\n",
    "    - tokenize + punct removal + ngram \n",
    "    - tokenize + punct removal + ngram + lemmatize \n",
    "    - tokenize + punct removal + ngram + stopwords removal + lemmatize (**check**)\n",
    "- 3. Compare ngram parser between `gensim.models.phrases` vs.s `nltk.collocations` (**check**)\n",
    "    - `gensim` measure metrics: relative frequency. \n",
    "        - `gensim` parameter: `min_count`=5, `threshold=10`. `Threshold` = _(cnt(a, b) - min_count) * N / (cnt(a) * cnt(b))_\n",
    "    - `nltk.collocations` measure metrics: pmi (**check**) or `raw_freq` (pmi/Pointwise Mutual Information: quantifies the discrepancy between the probability of their coincidence given their joint distribution and their individual distributions). \n",
    "    \n",
    "- 4. Decide to keep certain tokens after pos tagging\n",
    "    - ngram: adjective + noun (**check**)\n",
    "    - unigram: adjective, noun, adverb, verb (**check**)"
   ]
  },
  {
   "cell_type": "code",
   "execution_count": 1,
   "id": "af691571",
   "metadata": {},
   "outputs": [],
   "source": [
    "%matplotlib inline\n",
    "import random\n",
    "random.seed(1234)\n",
    "\n",
    "import pandas as pd\n",
    "import gzip\n",
    "# Gensim\n",
    "import gensim\n",
    "import gensim.corpora as corpora\n",
    "from gensim.utils import simple_preprocess\n",
    "from gensim.models import CoherenceModel\n",
    "# import nltk\n",
    "# nltk.download('wordnet')\n",
    "from nltk.corpus import stopwords\n",
    "from nltk.stem.wordnet import WordNetLemmatizer\n",
    "import string\n",
    "import spacy\n",
    "import matplotlib.pyplot as plt\n",
    "import pyLDAvis #python library for interactive topic model visualization\n",
    "import pyLDAvis.gensim_models\n",
    "pyLDAvis.enable_notebook()\n",
    "spacy.prefer_gpu()\n",
    "nlp = spacy.load(\"en_core_web_sm\")\n",
    "# import logging\n",
    "# logging.basicConfig(format='%(asctime)s : %(levelname)s : %(message)s', level=logging.ERROR)\n",
    "\n",
    "# import warnings\n",
    "# warnings.filterwarnings(\"ignore\",category=DeprecationWarning)\n",
    "\n",
    "import pickle\n",
    "import numpy as np\n",
    "\n",
    "# Sklearn\n",
    "from sklearn.decomposition import LatentDirichletAllocation, TruncatedSVD\n",
    "from sklearn.feature_extraction.text import CountVectorizer, TfidfVectorizer\n",
    "from sklearn.model_selection import GridSearchCV\n",
    "from pprint import pprint\n",
    "\n",
    "# Plotting tools\n",
    "# import pyLDAvis\n",
    "# import pyLDAvis.sklearn\n",
    "# import matplotlib.pyplot as plt\n",
    "%matplotlib inline\n",
    "\n",
    "from tqdm.notebook import tqdm as tqdm\n",
    "tqdm.pandas()\n",
    "\n",
    "# Example for detecting bigrams \n",
    "import math\n",
    "import nltk\n",
    "from collections import defaultdict\n",
    "\n",
    "nlp = spacy.load(\"en_core_web_sm\", disable=['parser', 'ner'])\n",
    "from nltk.probability import FreqDist\n",
    "\n",
    "from gensim.models.ldamulticore import LdaMulticore"
   ]
  },
  {
   "cell_type": "code",
   "execution_count": 32,
   "id": "9c63d194",
   "metadata": {},
   "outputs": [],
   "source": [
    "def sent_to_words(sentences):\n",
    "    '''\n",
    "    Simplify and tokenize strings in an iterable.\n",
    "    \n",
    "            Parameters:\n",
    "                    sentences (iterable): Review strings in a list or as a pandas.series.\n",
    "                    \n",
    "            Returns:\n",
    "                    _ (generator): Simplify review tokens.  \n",
    "    '''\n",
    "    for sentence in sentences:\n",
    "        yield(gensim.utils.simple_preprocess(str(sentence), deacc=True))  # deacc=True removes punctuations\n",
    "\n",
    "def remove_stopwords(texts, extra_stopwords = []):\n",
    "    '''\n",
    "    Remove stopwords in an iterable (string or tokens).\n",
    "\n",
    "        Parameters:\n",
    "                texts (iterable): Review strings in a list or as a pandas.series.\n",
    "\n",
    "        Returns:\n",
    "                _ (list): Simplify review stirngs without stopwords.  \n",
    "    '''\n",
    "    stop_words = stopwords.words('english') + extra_stopwords\n",
    "    return [[word for word in simple_preprocess(str(doc), deacc=True) if word not in stop_words] for doc in texts]\n",
    "\n",
    "def make_bigrams(texts):\n",
    "    '''\n",
    "    Form bigrams.\n",
    "    \n",
    "        Parameters:\n",
    "            texts (iterable): Review tokens in a list or as a pandas.series.\n",
    "\n",
    "        Returns:\n",
    "            _ (list): strings contain bigrams in a_b format.   \n",
    "    '''\n",
    "    bigram = gensim.models.Phrases(texts, min_count=5, threshold=10) #train based on corpus\n",
    "    bigram_mod = gensim.models.phrases.Phraser(bigram)\n",
    "    return [bigram_mod[doc] for doc in texts]\n",
    "\n",
    "def make_trigrams(texts):\n",
    "    '''\n",
    "    Form trigrams.\n",
    "    \n",
    "        Parameters:\n",
    "            texts (iterable): Review tokens in a list or as a pandas.series.\n",
    "\n",
    "        Returns:\n",
    "            _ (list): strings contain trigrams in a_b_c format.   \n",
    "    '''\n",
    "    bigram = gensim.models.Phrases(texts, min_count=5, threshold=10) \n",
    "    bigram_mod = gensim.models.phrases.Phraser(bigram)\n",
    "\n",
    "    trigram = gensim.models.Phrases(bigram[texts], threshold=10) \n",
    "    trigram_mod = gensim.models.phrases.Phraser(trigram)\n",
    "    return [trigram_mod[bigram_mod[doc]] for doc in texts]\n",
    "\n",
    "def lemmatization(texts, allowed_postags=['NOUN', 'ADJ', 'VERB', 'ADV']):\n",
    "    nlp = spacy.load(\"en_core_web_sm\", disable=['parser', 'ner'])\n",
    "    texts_out = []\n",
    "    for sent in texts:\n",
    "        doc = nlp(\" \".join(sent))  \n",
    "        if len(allowed_postags) > 0: \n",
    "            texts_out.append([token.lemma_ for token in doc if token.pos_ in allowed_postags])\n",
    "        else: \n",
    "            texts_out.append([token.lemma_ for token in doc])\n",
    "    return texts_out\n",
    "\n",
    "def preprocess_review(sentences, extra_stopwords = [], allowed_postags=['NOUN', 'ADJ', 'VERB', 'ADV']):\n",
    "    sens1 = sent_to_words(sentences)\n",
    "    tokens1 = remove_stopwords(sens1, extra_stopwords = extra_stopwords)\n",
    "    bigram_lst = make_bigrams(tokens1)\n",
    "    trigram_lst = make_trigrams(tokens1)\n",
    "    reviews = lemmatization(sens1, allowed_postags = allowed_postags)\n",
    "    return bigram_lst, trigram_lst, reviews"
   ]
  },
  {
   "cell_type": "markdown",
   "id": "be5d266b",
   "metadata": {},
   "source": [
    "# read data "
   ]
  },
  {
   "cell_type": "code",
   "execution_count": 3,
   "id": "95a7b9f8",
   "metadata": {},
   "outputs": [],
   "source": [
    "df = pd.read_csv('recategorized_dogs_cats_data.csv', index_col = False)"
   ]
  },
  {
   "cell_type": "code",
   "execution_count": 4,
   "id": "c5f8c0c4",
   "metadata": {},
   "outputs": [
    {
     "data": {
      "text/plain": [
       "category_3                     final_category_4         \n",
       "Food                           Wet                          3955\n",
       "Beds & Furniture               Beds & Sofas                 2366\n",
       "Toys                           Catnip Toys                  2268\n",
       "Litter & Housebreaking         Litter Boxes                 2257\n",
       "Toys                           Mice & Animal Toys           2091\n",
       "Food                           Dry                          1961\n",
       "Treats                         Snacks                       1578\n",
       "Health Supplies                Relaxants                    1432\n",
       "Litter & Housebreaking         Litter                       1242\n",
       "Beds & Furniture               Activity Trees               1213\n",
       "Toys                           Feather Toys                 1140\n",
       "Beds & Furniture               Scratching Pads              1075\n",
       "Health Supplies                Supplements & Vitamins       1072\n",
       "                               Flea, Lice & Tick Control     708\n",
       "Toys                           Balls                         646\n",
       "Health Supplies                Others                        630\n",
       "Beds & Furniture               Scratching Posts              582\n",
       "Treats                         Catnip                        578\n",
       "Feeding & Watering Supplies    Others                        566\n",
       "Litter & Housebreaking         Litter Scoops                 532\n",
       "Feeding & Watering Supplies    Fountains                     527\n",
       "Beds & Furniture               Cat Houses & Condos           515\n",
       "Toys                           Laser Toys                    511\n",
       "Grooming                       Others                        450\n",
       "Litter & Housebreaking         Odor & Stain Removers         368\n",
       "Health Supplies                Dental Care                   363\n",
       "Grooming                       Claw Care                     343\n",
       "                               Brushes                       341\n",
       "Litter & Housebreaking         Others                        277\n",
       "Cat Flaps, Steps, Nets & Pens  Others                        217\n",
       "Collars, Harnesses & Leashes   Others                        193\n",
       "Educational Repellents         Others                        192\n",
       "Carriers & Strollers           Others                         88\n",
       "Beds & Furniture               Others                         83\n",
       "dtype: int64"
      ]
     },
     "execution_count": 4,
     "metadata": {},
     "output_type": "execute_result"
    }
   ],
   "source": [
    "df.loc[df.category_2 == 'Cats', ['category_3', 'final_category_4']].value_counts()"
   ]
  },
  {
   "cell_type": "code",
   "execution_count": 8,
   "id": "49249ce2",
   "metadata": {},
   "outputs": [],
   "source": [
    "df1 = df.loc[(df.category_2 == 'Cats') & (df.category_3 == 'Food') & (df.final_category_4 == 'Wet')].reset_index(drop = True) \n",
    "df2 = df.loc[(df.category_2 == 'Cats') & (df.category_3 == 'Food') & (df.final_category_4 == 'Dry')].reset_index(drop = True)  \n",
    "\n",
    "df3 = df.loc[(df.category_2 == 'Cats') & (df.category_3 == 'Beds & Furniture') & (df.final_category_4 == 'Beds & Sofas')]\n",
    "df4 = df.loc[(df.category_2 == 'Cats') & (df.category_3 == 'Beds & Furniture') & (df.final_category_4 == 'Activity Trees')]\n",
    "df5 = df.loc[(df.category_2 == 'Cats') & (df.category_3 == 'Beds & Furniture') & (df.final_category_4 == 'Scratching Pads')]\n",
    "\n",
    "df6 = df.loc[(df.category_2 == 'Cats') & (df.category_3 == 'Litter & Housebreaking') & (df.final_category_4 == 'Litter')]\n",
    "df7 = df.loc[(df.category_2 == 'Cats') & (df.category_3 == 'Litter & Housebreaking') & (df.final_category_4 == 'Litter Boxes')]\n",
    "\n",
    "df8 = df.loc[(df.category_2 == 'Cats') & (df.category_3 == 'Toys') & (df.final_category_4 == 'Mice & Animal Toys')]\n",
    "df9 = df.loc[(df.category_2 == 'Cats') & (df.category_3 == 'Toys') & (df.final_category_4 == 'Catnip Toys')]\n",
    "df10 = df.loc[(df.category_2 == 'Cats') & (df.category_3 == 'Toys') & (df.final_category_4 == 'Feather Toys')]\n",
    "\n",
    "df11 = df.loc[(df.category_2 == 'Cats') & (df.category_3 == 'Treats') & (df.final_category_4 == 'Snacks')]\n",
    "df12 = df.loc[(df.category_2 == 'Cats') & (df.category_3 == 'Treats') & (df.final_category_4 == 'Snacks')]\n",
    "\n",
    "df13 = df.loc[(df.category_2 == 'Cats') & (df.category_3 == 'Health Supplies') & (df.final_category_4 == 'Relaxants')]\n",
    "df14 = df.loc[(df.category_2 == 'Cats') & (df.category_3 == 'Health Supplies') & (df.final_category_4 == 'Supplements & Vitamins')]"
   ]
  },
  {
   "cell_type": "code",
   "execution_count": 33,
   "id": "c1f89a74",
   "metadata": {},
   "outputs": [],
   "source": [
    "cats_toys_bigram, cats_toys_trigram, cats_toys_reviews = preprocess_review(df1.reviewText, extra_stopwords = ['cat', 'cats', 'toy', 'toys'])"
   ]
  },
  {
   "cell_type": "code",
   "execution_count": 15,
   "id": "a69c7b04",
   "metadata": {},
   "outputs": [
    {
     "ename": "NameError",
     "evalue": "name 'data_words' is not defined",
     "output_type": "error",
     "traceback": [
      "\u001b[1;31m---------------------------------------------------------------------------\u001b[0m",
      "\u001b[1;31mNameError\u001b[0m                                 Traceback (most recent call last)",
      "\u001b[1;32mC:\\Users\\JIATIN~1\\AppData\\Local\\Temp/ipykernel_10140/1693947628.py\u001b[0m in \u001b[0;36m<module>\u001b[1;34m\u001b[0m\n\u001b[1;32m----> 1\u001b[1;33m \u001b[0mcats_toys_bigram\u001b[0m\u001b[1;33m,\u001b[0m \u001b[0mcats_toys_trigram\u001b[0m\u001b[1;33m,\u001b[0m \u001b[0mcats_toys_reviews\u001b[0m \u001b[1;33m=\u001b[0m \u001b[0mpreprocess_review\u001b[0m\u001b[1;33m(\u001b[0m\u001b[0mdf1\u001b[0m\u001b[1;33m.\u001b[0m\u001b[0mreviewText\u001b[0m\u001b[1;33m,\u001b[0m \u001b[0mextra_stopwords\u001b[0m \u001b[1;33m=\u001b[0m \u001b[1;33m[\u001b[0m\u001b[1;34m'cat'\u001b[0m\u001b[1;33m,\u001b[0m \u001b[1;34m'cats'\u001b[0m\u001b[1;33m,\u001b[0m \u001b[1;34m'toy'\u001b[0m\u001b[1;33m,\u001b[0m \u001b[1;34m'toys'\u001b[0m\u001b[1;33m]\u001b[0m\u001b[1;33m)\u001b[0m\u001b[1;33m\u001b[0m\u001b[1;33m\u001b[0m\u001b[0m\n\u001b[0m\u001b[0;32m      2\u001b[0m \u001b[0mcats_food_bigram\u001b[0m\u001b[1;33m,\u001b[0m \u001b[0mcats_food_trigram\u001b[0m\u001b[1;33m,\u001b[0m \u001b[0mcats_food_reviews\u001b[0m \u001b[1;33m=\u001b[0m \u001b[0mpreprocess_review\u001b[0m\u001b[1;33m(\u001b[0m\u001b[0mdf2\u001b[0m\u001b[1;33m.\u001b[0m\u001b[0mreviewText\u001b[0m\u001b[1;33m,\u001b[0m \u001b[0mextra_stopwords\u001b[0m \u001b[1;33m=\u001b[0m \u001b[1;33m[\u001b[0m\u001b[1;34m'cat'\u001b[0m\u001b[1;33m,\u001b[0m \u001b[1;34m'cats'\u001b[0m\u001b[1;33m,\u001b[0m \u001b[1;34m'food'\u001b[0m\u001b[1;33m]\u001b[0m\u001b[1;33m)\u001b[0m\u001b[1;33m\u001b[0m\u001b[1;33m\u001b[0m\u001b[0m\n\u001b[0;32m      3\u001b[0m \u001b[0mcats_beds_bigram\u001b[0m\u001b[1;33m,\u001b[0m \u001b[0mcats_beds_trigram\u001b[0m\u001b[1;33m,\u001b[0m \u001b[0mcats_beds_reviews\u001b[0m \u001b[1;33m=\u001b[0m \u001b[0mpreprocess_review\u001b[0m\u001b[1;33m(\u001b[0m\u001b[0mdf3\u001b[0m\u001b[1;33m.\u001b[0m\u001b[0mreviewText\u001b[0m\u001b[1;33m,\u001b[0m \u001b[0mextra_stopwords\u001b[0m \u001b[1;33m=\u001b[0m \u001b[1;33m[\u001b[0m\u001b[1;34m'cat'\u001b[0m\u001b[1;33m,\u001b[0m \u001b[1;34m'cats'\u001b[0m\u001b[1;33m,\u001b[0m \u001b[1;34m'bed'\u001b[0m\u001b[1;33m,\u001b[0m \u001b[1;34m'beds'\u001b[0m\u001b[1;33m]\u001b[0m \u001b[1;33m)\u001b[0m\u001b[1;33m\u001b[0m\u001b[1;33m\u001b[0m\u001b[0m\n\u001b[0;32m      4\u001b[0m \u001b[0mcats_litter_bigram\u001b[0m\u001b[1;33m,\u001b[0m \u001b[0mcats_litter_trigram\u001b[0m\u001b[1;33m,\u001b[0m \u001b[0mcats_litter_reviews\u001b[0m \u001b[1;33m=\u001b[0m \u001b[0mpreprocess_review\u001b[0m\u001b[1;33m(\u001b[0m\u001b[0mdf4\u001b[0m\u001b[1;33m.\u001b[0m\u001b[0mreviewText\u001b[0m\u001b[1;33m,\u001b[0m \u001b[0mextra_stopwords\u001b[0m \u001b[1;33m=\u001b[0m \u001b[1;33m[\u001b[0m\u001b[1;34m'cat'\u001b[0m\u001b[1;33m,\u001b[0m \u001b[1;34m'cats'\u001b[0m\u001b[1;33m,\u001b[0m \u001b[1;34m'litters'\u001b[0m\u001b[1;33m,\u001b[0m \u001b[1;34m'litter'\u001b[0m\u001b[1;33m]\u001b[0m\u001b[1;33m)\u001b[0m\u001b[1;33m\u001b[0m\u001b[1;33m\u001b[0m\u001b[0m\n\u001b[0;32m      5\u001b[0m \u001b[0mcats_health_supplies_bigram\u001b[0m\u001b[1;33m,\u001b[0m \u001b[0mcats_health_supplies_trigram\u001b[0m\u001b[1;33m,\u001b[0m \u001b[0mcats_health_supplies_reviews\u001b[0m \u001b[1;33m=\u001b[0m \u001b[0mpreprocess_review\u001b[0m\u001b[1;33m(\u001b[0m\u001b[0mdf5\u001b[0m\u001b[1;33m.\u001b[0m\u001b[0mreviewText\u001b[0m\u001b[1;33m,\u001b[0m \u001b[0mextra_stopwords\u001b[0m \u001b[1;33m=\u001b[0m \u001b[1;33m[\u001b[0m\u001b[1;34m'cat'\u001b[0m\u001b[1;33m,\u001b[0m \u001b[1;34m'cats'\u001b[0m\u001b[1;33m]\u001b[0m\u001b[1;33m)\u001b[0m\u001b[1;33m\u001b[0m\u001b[1;33m\u001b[0m\u001b[0m\n",
      "\u001b[1;32mC:\\Users\\JIATIN~1\\AppData\\Local\\Temp/ipykernel_10140/2787494194.py\u001b[0m in \u001b[0;36mpreprocess_review\u001b[1;34m(sentences, extra_stopwords, allowed_postags)\u001b[0m\n\u001b[0;32m     68\u001b[0m     \u001b[0mtokens1\u001b[0m \u001b[1;33m=\u001b[0m \u001b[0mremove_stopwords\u001b[0m\u001b[1;33m(\u001b[0m\u001b[0msens1\u001b[0m\u001b[1;33m,\u001b[0m \u001b[0mextra_stopwords\u001b[0m \u001b[1;33m=\u001b[0m \u001b[0mextra_stopwords\u001b[0m\u001b[1;33m)\u001b[0m\u001b[1;33m\u001b[0m\u001b[1;33m\u001b[0m\u001b[0m\n\u001b[0;32m     69\u001b[0m     \u001b[0mbigram_lst\u001b[0m \u001b[1;33m=\u001b[0m \u001b[0mmake_bigrams\u001b[0m\u001b[1;33m(\u001b[0m\u001b[0mtokens1\u001b[0m\u001b[1;33m)\u001b[0m\u001b[1;33m\u001b[0m\u001b[1;33m\u001b[0m\u001b[0m\n\u001b[1;32m---> 70\u001b[1;33m     \u001b[0mtrigram_lst\u001b[0m \u001b[1;33m=\u001b[0m \u001b[0mmake_trigrams\u001b[0m\u001b[1;33m(\u001b[0m\u001b[0mtokens1\u001b[0m\u001b[1;33m,\u001b[0m \u001b[0mbigram_lst\u001b[0m\u001b[1;33m)\u001b[0m\u001b[1;33m\u001b[0m\u001b[1;33m\u001b[0m\u001b[0m\n\u001b[0m\u001b[0;32m     71\u001b[0m     \u001b[0mreviews\u001b[0m \u001b[1;33m=\u001b[0m \u001b[0mlemmatization\u001b[0m\u001b[1;33m(\u001b[0m\u001b[0msens1\u001b[0m\u001b[1;33m,\u001b[0m \u001b[0mallowed_postags\u001b[0m \u001b[1;33m=\u001b[0m \u001b[0mallowed_postags\u001b[0m\u001b[1;33m)\u001b[0m\u001b[1;33m\u001b[0m\u001b[1;33m\u001b[0m\u001b[0m\n\u001b[0;32m     72\u001b[0m     \u001b[1;32mreturn\u001b[0m \u001b[0mbigram_lst\u001b[0m\u001b[1;33m,\u001b[0m \u001b[0mtrigram_lst\u001b[0m\u001b[1;33m,\u001b[0m \u001b[0mreviews\u001b[0m\u001b[1;33m\u001b[0m\u001b[1;33m\u001b[0m\u001b[0m\n",
      "\u001b[1;32mC:\\Users\\JIATIN~1\\AppData\\Local\\Temp/ipykernel_10140/2787494194.py\u001b[0m in \u001b[0;36mmake_trigrams\u001b[1;34m(bigram, texts)\u001b[0m\n\u001b[0;32m     49\u001b[0m             \u001b[0m_\u001b[0m \u001b[1;33m(\u001b[0m\u001b[0mlist\u001b[0m\u001b[1;33m)\u001b[0m\u001b[1;33m:\u001b[0m \u001b[0mstrings\u001b[0m \u001b[0mcontain\u001b[0m \u001b[0mtrigrams\u001b[0m \u001b[1;32min\u001b[0m \u001b[0ma_b_c\u001b[0m \u001b[0mformat\u001b[0m\u001b[1;33m.\u001b[0m\u001b[1;33m\u001b[0m\u001b[1;33m\u001b[0m\u001b[0m\n\u001b[0;32m     50\u001b[0m     '''\n\u001b[1;32m---> 51\u001b[1;33m     \u001b[0mtrigram\u001b[0m \u001b[1;33m=\u001b[0m \u001b[0mgensim\u001b[0m\u001b[1;33m.\u001b[0m\u001b[0mmodels\u001b[0m\u001b[1;33m.\u001b[0m\u001b[0mPhrases\u001b[0m\u001b[1;33m(\u001b[0m\u001b[0mbigram\u001b[0m\u001b[1;33m[\u001b[0m\u001b[0mdata_words\u001b[0m\u001b[1;33m]\u001b[0m\u001b[1;33m,\u001b[0m \u001b[0mthreshold\u001b[0m\u001b[1;33m=\u001b[0m\u001b[1;36m10\u001b[0m\u001b[1;33m)\u001b[0m \u001b[1;31m#train based on corpus\u001b[0m\u001b[1;33m\u001b[0m\u001b[1;33m\u001b[0m\u001b[0m\n\u001b[0m\u001b[0;32m     52\u001b[0m     \u001b[0mbigram_mod\u001b[0m \u001b[1;33m=\u001b[0m \u001b[0mgensim\u001b[0m\u001b[1;33m.\u001b[0m\u001b[0mmodels\u001b[0m\u001b[1;33m.\u001b[0m\u001b[0mphrases\u001b[0m\u001b[1;33m.\u001b[0m\u001b[0mPhraser\u001b[0m\u001b[1;33m(\u001b[0m\u001b[0mbigram\u001b[0m\u001b[1;33m)\u001b[0m\u001b[1;33m\u001b[0m\u001b[1;33m\u001b[0m\u001b[0m\n\u001b[0;32m     53\u001b[0m     \u001b[1;32mreturn\u001b[0m \u001b[1;33m[\u001b[0m\u001b[0mtrigram_mod\u001b[0m\u001b[1;33m[\u001b[0m\u001b[0mbigram_mod\u001b[0m\u001b[1;33m[\u001b[0m\u001b[0mdoc\u001b[0m\u001b[1;33m]\u001b[0m\u001b[1;33m]\u001b[0m \u001b[1;32mfor\u001b[0m \u001b[0mdoc\u001b[0m \u001b[1;32min\u001b[0m \u001b[0mtexts\u001b[0m\u001b[1;33m]\u001b[0m\u001b[1;33m\u001b[0m\u001b[1;33m\u001b[0m\u001b[0m\n",
      "\u001b[1;31mNameError\u001b[0m: name 'data_words' is not defined"
     ]
    }
   ],
   "source": [
    "cats_toys_bigram, cats_toys_trigram, cats_toys_reviews = preprocess_review(df1.reviewText, extra_stopwords = ['cat', 'cats', 'toy', 'toys'])\n",
    "cats_food_bigram, cats_food_trigram, cats_food_reviews = preprocess_review(df2.reviewText, extra_stopwords = ['cat', 'cats', 'food'])\n",
    "cats_beds_bigram, cats_beds_trigram, cats_beds_reviews = preprocess_review(df3.reviewText, extra_stopwords = ['cat', 'cats', 'bed', 'beds'] )\n",
    "cats_litter_bigram, cats_litter_trigram, cats_litter_reviews = preprocess_review(df4.reviewText, extra_stopwords = ['cat', 'cats', 'litters', 'litter'])\n",
    "cats_health_supplies_bigram, cats_health_supplies_trigram, cats_health_supplies_reviews = preprocess_review(df5.reviewText, extra_stopwords = ['cat', 'cats'])\n",
    "cats_treats_bigram, cats_treats_trigram, cats_treats_reviews = preprocess_review(df6.reviewText, extra_stopwords = ['cat', 'cats', 'treat', 'treats'])\n",
    "cats_grooming_bigram, cats_grooming_trigram, cats_grooming_reviews = preprocess_review(df7.reviewText, extra_stopwords = ['cat', 'cats'])\n",
    "cats_feeding_supplies_bigram, cats_feeding_suppliess_trigram, cats_feeding_supplies_reviews = preprocess_review(df8.reviewText, extra_stopwords = ['cat', 'cats'])"
   ]
  },
  {
   "cell_type": "code",
   "execution_count": null,
   "id": "94722e22",
   "metadata": {},
   "outputs": [],
   "source": [
    "cats_toys_bigram, cats_toys_trigram, cats_toys_reviews2 = preprocess_review(df1.reviewText, extra_stopwords = ['cat', 'cats', 'toy', 'toys'],\n",
    "                                                                          allowed_postags = ['ADJ', 'VERB', 'ADV'])\n",
    "cats_food_bigram, cats_food_trigram, cats_food_reviews2 = preprocess_review(df2.reviewText, extra_stopwords = ['cat', 'cats', 'food'],\n",
    "                                                                          allowed_postags = ['ADJ', 'VERB', 'ADV'])\n",
    "cats_beds_bigram, cats_beds_trigram, cats_beds_reviews2 = preprocess_review(df3.reviewText, extra_stopwords = ['cat', 'cats', 'bed', 'beds'],\n",
    "                                                                          allowed_postags = ['ADJ', 'VERB', 'ADV'])\n",
    "cats_litter_bigram, cats_litter_trigram, cats_litter_reviews2 = preprocess_review(df4.reviewText, extra_stopwords = ['cat', 'cats', 'litters', 'litter'],\n",
    "                                                                                allowed_postags = ['ADJ', 'VERB', 'ADV'])\n",
    "cats_health_supplies_bigram, cats_health_supplies_trigram, cats_health_supplies_reviews2 = preprocess_review(df5.reviewText, extra_stopwords = ['cat', 'cats'],\n",
    "                                                                                                           allowed_postags = ['ADJ', 'VERB', 'ADV'])\n",
    "cats_treats_bigram, cats_treats_trigram, cats_treats_reviews2 = preprocess_review(df6.reviewText, extra_stopwords = ['cat', 'cats', 'treat', 'treats'],\n",
    "                                                                                allowed_postags = ['ADJ', 'VERB', 'ADV'])\n",
    "cats_grooming_bigram, cats_grooming_trigram, cats_grooming_reviews2 = preprocess_review(df7.reviewText, extra_stopwords = ['cat', 'cats'],\n",
    "                                                                                      allowed_postags = ['ADJ', 'VERB', 'ADV'])\n",
    "cats_feeding_supplies_bigram, cats_feeding_suppliess_trigram, cats_feeding_supplies_reviews2 = preprocess_review(df8.reviewText, extra_stopwords = ['cat', 'cats'],\n",
    "                                                                                                               allowed_postags = ['ADJ', 'VERB', 'ADV'])"
   ]
  },
  {
   "cell_type": "markdown",
   "id": "f0369a19",
   "metadata": {},
   "source": [
    "# method 1:  GENSIM.simple_preprocess(); gensim.models.phrases.Phraser(ngram)"
   ]
  },
  {
   "cell_type": "code",
   "execution_count": 34,
   "id": "d5988c8a",
   "metadata": {},
   "outputs": [
    {
     "data": {
      "application/vnd.jupyter.widget-view+json": {
       "model_id": "dc23f8b47e4f4883abd261b78c5454c6",
       "version_major": 2,
       "version_minor": 0
      },
      "text/plain": [
       "  0%|          | 0/3955 [00:00<?, ?it/s]"
      ]
     },
     "metadata": {},
     "output_type": "display_data"
    },
    {
     "data": {
      "application/vnd.jupyter.widget-view+json": {
       "model_id": "5dd2eea8914b41f195f76ffd289999c4",
       "version_major": 2,
       "version_minor": 0
      },
      "text/plain": [
       "  0%|          | 0/3955 [00:00<?, ?it/s]"
      ]
     },
     "metadata": {},
     "output_type": "display_data"
    },
    {
     "data": {
      "application/vnd.jupyter.widget-view+json": {
       "model_id": "892072efb1a64f1b9436bfa9cd7fcf90",
       "version_major": 2,
       "version_minor": 0
      },
      "text/plain": [
       "  0%|          | 0/3955 [00:00<?, ?it/s]"
      ]
     },
     "metadata": {},
     "output_type": "display_data"
    },
    {
     "data": {
      "application/vnd.jupyter.widget-view+json": {
       "model_id": "df58fb8fcb494816965afe568dbc4ca9",
       "version_major": 2,
       "version_minor": 0
      },
      "text/plain": [
       "  0%|          | 0/3955 [00:00<?, ?it/s]"
      ]
     },
     "metadata": {},
     "output_type": "display_data"
    },
    {
     "data": {
      "application/vnd.jupyter.widget-view+json": {
       "model_id": "edf1d59e876d4a2899d3fbb8fe80967c",
       "version_major": 2,
       "version_minor": 0
      },
      "text/plain": [
       "  0%|          | 0/3955 [00:00<?, ?it/s]"
      ]
     },
     "metadata": {},
     "output_type": "display_data"
    }
   ],
   "source": [
    "cats_wet_food_reviews = df1.reviewText #wet food\n",
    "cats_wet_food_data_words = list(sent_to_words(tqdm(cats_wet_food_reviews.tolist())))\n",
    "cats_wet_food_data_words_nostops = remove_stopwords(tqdm(cats_wet_food_data_words))\n",
    "cats_wet_food_data_words_bigrams = make_bigrams(tqdm(cats_wet_food_data_words_nostops))\n",
    "cats_wet_food_unigrams_lemmatized = lemmatization(tqdm(cats_wet_food_data_words_nostops), allowed_postags=['NOUN','ADJ', 'VERB', 'ADV'])\n",
    "cats_wet_food_bigrams_lemmatized = lemmatization(tqdm(cats_wet_food_data_words_bigrams), allowed_postags=['NOUN','ADJ', 'VERB', 'ADV'])"
   ]
  },
  {
   "cell_type": "code",
   "execution_count": 35,
   "id": "51862c90",
   "metadata": {},
   "outputs": [
    {
     "data": {
      "application/vnd.jupyter.widget-view+json": {
       "model_id": "24de1142df894ce2b1d2db109c8366eb",
       "version_major": 2,
       "version_minor": 0
      },
      "text/plain": [
       "  0%|          | 0/1961 [00:00<?, ?it/s]"
      ]
     },
     "metadata": {},
     "output_type": "display_data"
    },
    {
     "data": {
      "application/vnd.jupyter.widget-view+json": {
       "model_id": "8f322c8e7fec48299882b6db97e323fb",
       "version_major": 2,
       "version_minor": 0
      },
      "text/plain": [
       "  0%|          | 0/1961 [00:00<?, ?it/s]"
      ]
     },
     "metadata": {},
     "output_type": "display_data"
    },
    {
     "data": {
      "application/vnd.jupyter.widget-view+json": {
       "model_id": "4b6dfe408b1d45d5a51a19ca3f9173e9",
       "version_major": 2,
       "version_minor": 0
      },
      "text/plain": [
       "  0%|          | 0/1961 [00:00<?, ?it/s]"
      ]
     },
     "metadata": {},
     "output_type": "display_data"
    },
    {
     "data": {
      "application/vnd.jupyter.widget-view+json": {
       "model_id": "a24937aaf1b843c2a7ec3a99171c9e24",
       "version_major": 2,
       "version_minor": 0
      },
      "text/plain": [
       "  0%|          | 0/1961 [00:00<?, ?it/s]"
      ]
     },
     "metadata": {},
     "output_type": "display_data"
    },
    {
     "data": {
      "application/vnd.jupyter.widget-view+json": {
       "model_id": "bbc31d91f1044df18e00694728b4eb08",
       "version_major": 2,
       "version_minor": 0
      },
      "text/plain": [
       "  0%|          | 0/1961 [00:00<?, ?it/s]"
      ]
     },
     "metadata": {},
     "output_type": "display_data"
    }
   ],
   "source": [
    "cats_dry_food_reviews = df2.reviewText #wet food\n",
    "cats_dry_food_data_words = list(sent_to_words(tqdm(cats_dry_food_reviews.tolist())))\n",
    "cats_dry_food_data_words_nostops = remove_stopwords(tqdm(cats_dry_food_data_words))\n",
    "cats_dry_food_data_words_bigrams = make_bigrams(tqdm(cats_dry_food_data_words_nostops))\n",
    "cats_dry_food_unigrams_lemmatized = lemmatization(tqdm(cats_dry_food_data_words_nostops), allowed_postags=['NOUN','ADJ', 'VERB', 'ADV'])\n",
    "cats_dry_food_bigrams_lemmatized = lemmatization(tqdm(cats_dry_food_data_words_bigrams), allowed_postags=['NOUN','ADJ', 'VERB', 'ADV'])"
   ]
  },
  {
   "cell_type": "markdown",
   "id": "1f3b06ad",
   "metadata": {},
   "source": [
    "## GENSIM: take one review as an example"
   ]
  },
  {
   "cell_type": "code",
   "execution_count": 36,
   "id": "f0799de5",
   "metadata": {},
   "outputs": [
    {
     "data": {
      "text/plain": [
       "'9 Lives Cat Food is one Meal my Cats really like and enjoy eating It. Daily Essentials Real Flaked Tuna in Sauce, one of the many Flavors that is Good for them and I get it Locally. 100% Completed and Balanced Nutrition with all kinds of Vitamins and Nutrients all supposed to be Good for Cats. I can get several Meals out of each Can of Food, my Cats are a little Finicky so I have to try different Flavors and Brands all the time. They enjoy eating it maybe twice a week, they don\\'t eat a lot at one time, they are Nibblers and prefer to eat many little Meals. I have tried to give them other more expensive Cat Food from Popular \"Specialty Pet Shops\" or other \"Food Boutiques\" for Pets, however, they don\\'t want any of that, they Crave and like eating 9 Lives. I am Glad there are such Diversity of Flavors to make my Cats Happy and to choose from. I even Feed 9 Lives to several Cats outside and they Love It! ...Thank You D.D.'"
      ]
     },
     "execution_count": 36,
     "metadata": {},
     "output_type": "execute_result"
    }
   ],
   "source": [
    "cats_wet_food_reviews[714] "
   ]
  },
  {
   "cell_type": "code",
   "execution_count": 37,
   "id": "2e96b059",
   "metadata": {},
   "outputs": [
    {
     "data": {
      "text/plain": [
       "['lives cat food is one meal my cats really like and enjoy eating it daily essentials real flaked tuna in sauce one of the many flavors that is good for them and get it locally completed and balanced nutrition with all kinds of vitamins and nutrients all supposed to be good for cats can get several meals out of each can of food my cats are little finicky so have to try different flavors and brands all the time they enjoy eating it maybe twice week they don eat lot at one time they are nibblers and prefer to eat many little meals have tried to give them other more expensive cat food from popular specialty pet shops or other food boutiques for pets however they don want any of that they crave and like eating lives am glad there are such diversity of flavors to make my cats happy and to choose from even feed lives to several cats outside and they love it thank you']"
      ]
     },
     "execution_count": 37,
     "metadata": {},
     "output_type": "execute_result"
    }
   ],
   "source": [
    "[\" \".join(cats_wet_food_data_words[714])] "
   ]
  },
  {
   "cell_type": "code",
   "execution_count": null,
   "id": "b34b2c3d",
   "metadata": {},
   "outputs": [],
   "source": [
    "[\" \".join(cats_wet_food_data_words_nostops[714])] "
   ]
  },
  {
   "cell_type": "code",
   "execution_count": 38,
   "id": "0c4d674c",
   "metadata": {},
   "outputs": [
    {
     "data": {
      "text/plain": [
       "['lives cat food one meal cats really like enjoy_eating daily essentials real flaked_tuna sauce one many_flavors good get_locally completed_balanced nutrition kinds_vitamins nutrients_supposed good cats get several_meals food cats little_finicky try_different flavors brands time enjoy_eating maybe twice_week eat lot one time_nibblers prefer eat many little_meals tried_give expensive cat food popular_specialty pet_shops food_boutiques pets_however want_crave like eating lives glad_diversity flavors_make cats happy_choose even feed lives several cats outside_love thank']"
      ]
     },
     "execution_count": 38,
     "metadata": {},
     "output_type": "execute_result"
    }
   ],
   "source": [
    "[\" \".join(cats_wet_food_data_words_bigrams[714])] #enjoy_eating?  completed_balanced? "
   ]
  },
  {
   "cell_type": "code",
   "execution_count": 40,
   "id": "d546b363",
   "metadata": {},
   "outputs": [
    {
     "data": {
      "text/plain": [
       "['live cat food meal cat really enjoy eat daily essential real flaked tuna sauce many flavor good get locally complete balanced nutrition kind vitamin nutrient suppose good cat get several meal food cat little finicky try different flavor brand time enjoy eat maybe twice week eat lot time nibbler prefer eat many little meal try give expensive cat food popular specialty pet shop food boutique pet however want crave eat life glad diversity flavor make cat happy choose even feed live several cat love thank']"
      ]
     },
     "execution_count": 40,
     "metadata": {},
     "output_type": "execute_result"
    }
   ],
   "source": [
    "[\" \".join(cats_wet_food_unigrams_lemmatized[714])] "
   ]
  },
  {
   "cell_type": "code",
   "execution_count": 39,
   "id": "13ae43f7",
   "metadata": {},
   "outputs": [
    {
     "data": {
      "text/plain": [
       "['live cat food meal cat really enjoy_eate daily essential real flaked_tuna sauce many_flavor good get_locally completed_balance nutrition nutrients_suppose good cat get several_meal food cat try_different flavor brand time enjoy_eate maybe twice_week eat lot time_nibbler prefer eat many little_meal tried_give expensive cat food popular_specialty pet_shop food_boutique want_crave eat life glad_diversity cat happy_choose even feed live several cat outside_love thank']"
      ]
     },
     "execution_count": 39,
     "metadata": {},
     "output_type": "execute_result"
    }
   ],
   "source": [
    "[\" \".join(cats_wet_food_bigrams_lemmatized[714])] #kinds_vitamin?  nutrients_supposed? "
   ]
  },
  {
   "cell_type": "markdown",
   "id": "fe557d91",
   "metadata": {},
   "source": [
    "# method 2: NLTK.collocations"
   ]
  },
  {
   "cell_type": "code",
   "execution_count": 41,
   "id": "2c3d0922",
   "metadata": {},
   "outputs": [],
   "source": [
    "def sent_to_words(sentences):\n",
    "    '''\n",
    "    Simplify and tokenize strings in an iterable.\n",
    "    \n",
    "            Parameters:\n",
    "                    sentences (iterable): Review strings in a list or as a pandas.series.\n",
    "                    \n",
    "            Returns:\n",
    "                    _ (generator): Simplify review tokens.  \n",
    "    '''\n",
    "    for sentence in sentences:\n",
    "        yield(gensim.utils.simple_preprocess(str(sentence), deacc=True))  # deacc=True removes punctuations\n",
    "\n",
    "def get_bigrams(data_words): \n",
    "    '''\n",
    "    Form bigram.\n",
    "    \n",
    "        Parameters:\n",
    "            data_words (iterable): Review tokens in a list or as a pandas.series.\n",
    "\n",
    "        Returns:\n",
    "           bigram_pmi (data frame): bigram and it's pmi score. \n",
    "    '''\n",
    "    bigram_measures = nltk.collocations.BigramAssocMeasures()\n",
    "    finder = nltk.collocations.BigramCollocationFinder.from_documents(data_words) #data_words_nostops\n",
    "    finder.apply_freq_filter(20)\n",
    "    bigram_scores = finder.score_ngrams(bigram_measures.pmi) \n",
    "    bigram_pmi = pd.DataFrame(bigram_scores)\n",
    "    bigram_pmi.columns = ['bigram', 'pmi']\n",
    "    bigram_pmi.sort_values(by='pmi', axis = 0, ascending = False, inplace = True)\n",
    "    return finder, bigram_measures, bigram_pmi\n",
    "\n",
    "def bigram_filter(bigram):\n",
    "    \"\"\"\n",
    "    Filter bigram. \n",
    "        \n",
    "        Parameters:\n",
    "            bigram (string): a bigram.\n",
    "\n",
    "        Returns:\n",
    "           _ (boolean): decide whether or not to keep the bigram.\n",
    "    \"\"\"\n",
    "    stop_words = stopwords.words('english')   \n",
    "    tag = nltk.pos_tag(bigram)\n",
    "    #if tag[0][1] not in ['JJ', 'NN', 'NNS'] and tag[1][1] not in ['NN', 'NNS']: #we only want adjective + noun\n",
    "    if tag[0][1] not in ['JJ', 'NN'] and tag[1][1] not in ['NN']: #we only want adjective + noun\n",
    "        return False\n",
    "    if bigram[0] in stop_words or bigram[1] in stop_words: \n",
    "        return False\n",
    "    if 'n' in bigram or 't' in bigram:\n",
    "        return False\n",
    "    if 'PRON' in bigram: #we don't want pronoun\n",
    "        return False\n",
    "    if len(bigram[0]) <= 2 or len(bigram[1]) <= 2:\n",
    "        return False\n",
    "    return True\n",
    "\n",
    "def get_trigrams(data_words): \n",
    "    trigram_measures = nltk.collocations.TrigramAssocMeasures()\n",
    "    finder = nltk.collocations.TrigramCollocationFinder.from_documents(data_words) #data_words_nostops\n",
    "    finder.apply_freq_filter(20)\n",
    "    trigram_scores = finder.score_ngrams(trigram_measures.pmi)\n",
    "\n",
    "    trigram_pmi = pd.DataFrame(trigram_scores)\n",
    "    trigram_pmi.columns = ['trigram', 'pmi']\n",
    "    trigram_pmi.sort_values(by='pmi', axis = 0, ascending = False, inplace = True)\n",
    "    return finder, trigram_measures, trigram_pmi\n",
    "\n",
    "def trigram_filter(trigram):\n",
    "    tag = nltk.pos_tag(trigram)\n",
    "    stop_words = stopwords.words('english')\n",
    "    #if tag[0][1] not in ['JJ', 'NN', 'NNS'] and tag[1][1] not in ['NN', 'NNS']: #we only want adjective + noun\n",
    "    if tag[0][1] not in ['JJ', 'NN'] and tag[1][1] not in ['JJ','NN']:\n",
    "        return False\n",
    "    if trigram[0] in stop_words or trigram[-1] in stop_words or trigram[1] in stop_words:\n",
    "        return False\n",
    "    if 'n' in trigram or 't' in trigram:\n",
    "        return False\n",
    "    if 'PRON' in trigram:\n",
    "        return False\n",
    "    if len(trigram[0]) <= 2 or len(trigram[1]) <= 2 and len(trigram[2]) <= 2:\n",
    "        return False\n",
    "    return True \n",
    "\n",
    "def replace_ngram(x, bigrams, trigrams):\n",
    "    '''\n",
    "    Form ngram. \n",
    "        \n",
    "        Parameters:\n",
    "            bigram (string): a bigram.\n",
    "\n",
    "        Returns:\n",
    "           _ (boolean): decide whether or not to keep the bigram.\n",
    "    '''\n",
    "    for gram in trigrams:\n",
    "        x = x.replace(gram, '_'.join(gram.split()))\n",
    "    for gram in bigrams:\n",
    "        x = x.replace(gram, '_'.join(gram.split()))\n",
    "    return x\n",
    "\n",
    "def remove_stopwords(texts, extra_stopwords = []):\n",
    "    '''\n",
    "    Remove stopwords in an iterable (string or tokens).\n",
    "\n",
    "        Parameters:\n",
    "                texts (iterable): Review strings in a list or as a pandas.series.\n",
    "\n",
    "        Returns:\n",
    "                _ (list): Simplify review stirngs without stopwords.  \n",
    "    '''\n",
    "    stop_words = stopwords.words('english') + extra_stopwords\n",
    "    return [[word for word in doc.split() if word not in stop_words] for doc in texts]\n",
    "\n",
    "def lemmatize_skip_ngrams(texts, allowed_postags=['NOUN', 'ADJ', 'VERB', 'ADV']):\n",
    "    '''feed tokens'''\n",
    "    nlp = spacy.load(\"en_core_web_sm\", disable=['parser', 'ner'])\n",
    "    texts_out = []\n",
    "    for sent in texts:\n",
    "        doc = nlp(' '.join(sent)) \n",
    "        if len(allowed_postags) > 0: \n",
    "            returned_doc = []\n",
    "            for token in doc:\n",
    "                if '_' in token.text:\n",
    "                    returned_token = token.text\n",
    "                if token.pos_ in allowed_postags and '_' not in token.text:\n",
    "                    returned_token = token.lemma_\n",
    "                if token.pos_ not in allowed_postags and '_' not in token.text:\n",
    "                    continue\n",
    "                returned_doc.append(returned_token)\n",
    "            texts_out.append(returned_doc)\n",
    "                    \n",
    "        else: \n",
    "            returned_doc = []\n",
    "            for token in doc:\n",
    "                if '_' in token.text:\n",
    "                    returned_token = token.text\n",
    "                else: \n",
    "                    returned_token = token.lemma_\n",
    "                returned_doc.append(returned_token)\n",
    "            texts_out.append(returned_doc)\n",
    "    return texts_out"
   ]
  },
  {
   "cell_type": "code",
   "execution_count": 42,
   "id": "bcbcf803",
   "metadata": {},
   "outputs": [
    {
     "data": {
      "application/vnd.jupyter.widget-view+json": {
       "model_id": "ac6c03179d99488bb3b17c9060d93e66",
       "version_major": 2,
       "version_minor": 0
      },
      "text/plain": [
       "  0%|          | 0/3955 [00:00<?, ?it/s]"
      ]
     },
     "metadata": {},
     "output_type": "display_data"
    },
    {
     "data": {
      "application/vnd.jupyter.widget-view+json": {
       "model_id": "94c55813a8414905b7265b3cabef8cc3",
       "version_major": 2,
       "version_minor": 0
      },
      "text/plain": [
       "  0%|          | 0/3955 [00:00<?, ?it/s]"
      ]
     },
     "metadata": {},
     "output_type": "display_data"
    },
    {
     "data": {
      "application/vnd.jupyter.widget-view+json": {
       "model_id": "93f94a75826d43a78c13c9af4a344f5c",
       "version_major": 2,
       "version_minor": 0
      },
      "text/plain": [
       "  0%|          | 0/3955 [00:00<?, ?it/s]"
      ]
     },
     "metadata": {},
     "output_type": "display_data"
    },
    {
     "data": {
      "application/vnd.jupyter.widget-view+json": {
       "model_id": "e901598252f9449c9035c68021570868",
       "version_major": 2,
       "version_minor": 0
      },
      "text/plain": [
       "  0%|          | 0/2124 [00:00<?, ?it/s]"
      ]
     },
     "metadata": {},
     "output_type": "display_data"
    },
    {
     "data": {
      "application/vnd.jupyter.widget-view+json": {
       "model_id": "4b54696c358545c18aae0899e058a913",
       "version_major": 2,
       "version_minor": 0
      },
      "text/plain": [
       "  0%|          | 0/591 [00:00<?, ?it/s]"
      ]
     },
     "metadata": {},
     "output_type": "display_data"
    },
    {
     "data": {
      "application/vnd.jupyter.widget-view+json": {
       "model_id": "89089379f3c14768967a5025562381d2",
       "version_major": 2,
       "version_minor": 0
      },
      "text/plain": [
       "  0%|          | 0/3955 [00:00<?, ?it/s]"
      ]
     },
     "metadata": {},
     "output_type": "display_data"
    },
    {
     "data": {
      "application/vnd.jupyter.widget-view+json": {
       "model_id": "92b7ac66bf2544faad950180368a7e78",
       "version_major": 2,
       "version_minor": 0
      },
      "text/plain": [
       "  0%|          | 0/3955 [00:00<?, ?it/s]"
      ]
     },
     "metadata": {},
     "output_type": "display_data"
    }
   ],
   "source": [
    "cats_wet_food_data_words = list(sent_to_words(tqdm(cats_wet_food_reviews.tolist())))\n",
    "cats_wet_food_bigram_finder, cats_wet_food_bigram_measures, cats_wet_food_bigram_pmi = get_bigrams(tqdm(cats_wet_food_data_words))\n",
    "cats_wet_food_trigram_finder, cats_wet_food_trigram_measures, cats_wet_food_trigram_pmi = get_trigrams(tqdm(cats_wet_food_data_words))\n",
    "cats_wet_food_filtered_bigram = cats_wet_food_bigram_pmi[cats_wet_food_bigram_pmi.progress_apply(lambda bigram:\\\n",
    "                                              bigram_filter(bigram['bigram'])\\\n",
    "                                              and bigram.pmi > 5, axis = 1)][:500]\n",
    "\n",
    "cats_wet_food_filtered_trigram = cats_wet_food_trigram_pmi[cats_wet_food_trigram_pmi.progress_apply(lambda trigram: \\\n",
    "                                                 trigram_filter(trigram['trigram'])\\\n",
    "                                                 and trigram.pmi > 5, axis = 1)][:500]\n",
    "cats_wet_food_bigrams = [' '.join(x) for x in cats_wet_food_filtered_bigram.bigram.values]\n",
    "cats_wet_food_trigrams = [' '.join(x) for x in cats_wet_food_filtered_trigram.trigram.values]\n",
    "\n",
    "cats_wet_food_reviews_ngrams = pd.DataFrame([' '.join(sen) for sen in cats_wet_food_data_words], columns = ['reviewText'])\n",
    "cats_wet_food_reviews_ngrams.reviewText = cats_wet_food_reviews_ngrams.reviewText.map(lambda x: replace_ngram(x, cats_wet_food_bigrams, cats_wet_food_trigrams))\n",
    "cats_wet_food_cleaned_reviews_ngrams = remove_stopwords(tqdm(cats_wet_food_reviews_ngrams.reviewText))\n",
    "cats_wet_food_lemmatized_reviews_ngrams = lemmatize_skip_ngrams(tqdm(cats_wet_food_cleaned_reviews_ngrams), allowed_postags = [])"
   ]
  },
  {
   "cell_type": "code",
   "execution_count": 43,
   "id": "a835ca13",
   "metadata": {},
   "outputs": [
    {
     "data": {
      "application/vnd.jupyter.widget-view+json": {
       "model_id": "7997dc0f328e4db18927f88311075609",
       "version_major": 2,
       "version_minor": 0
      },
      "text/plain": [
       "  0%|          | 0/3955 [00:00<?, ?it/s]"
      ]
     },
     "metadata": {},
     "output_type": "display_data"
    }
   ],
   "source": [
    "cats_wet_food_lemmatized_reviews_ngrams2 = lemmatize_skip_ngrams(tqdm(cats_wet_food_cleaned_reviews_ngrams), allowed_postags = ['NOUN', 'ADJ', 'VERB', 'ADV'])"
   ]
  },
  {
   "cell_type": "code",
   "execution_count": 44,
   "id": "905e6b8a",
   "metadata": {},
   "outputs": [
    {
     "data": {
      "text/html": [
       "<div>\n",
       "<style scoped>\n",
       "    .dataframe tbody tr th:only-of-type {\n",
       "        vertical-align: middle;\n",
       "    }\n",
       "\n",
       "    .dataframe tbody tr th {\n",
       "        vertical-align: top;\n",
       "    }\n",
       "\n",
       "    .dataframe thead th {\n",
       "        text-align: right;\n",
       "    }\n",
       "</style>\n",
       "<table border=\"1\" class=\"dataframe\">\n",
       "  <thead>\n",
       "    <tr style=\"text-align: right;\">\n",
       "      <th></th>\n",
       "      <th>bigram</th>\n",
       "      <th>pmi</th>\n",
       "    </tr>\n",
       "  </thead>\n",
       "  <tbody>\n",
       "    <tr>\n",
       "      <th>0</th>\n",
       "      <td>(officials, aafco)</td>\n",
       "      <td>13.122603</td>\n",
       "    </tr>\n",
       "    <tr>\n",
       "      <th>1</th>\n",
       "      <td>(elegant, medleys)</td>\n",
       "      <td>12.646165</td>\n",
       "    </tr>\n",
       "    <tr>\n",
       "      <th>2</th>\n",
       "      <td>(levels, established)</td>\n",
       "      <td>12.572023</td>\n",
       "    </tr>\n",
       "    <tr>\n",
       "      <th>3</th>\n",
       "      <td>(reasonably, priced)</td>\n",
       "      <td>12.570062</td>\n",
       "    </tr>\n",
       "    <tr>\n",
       "      <th>4</th>\n",
       "      <td>(maine, coon)</td>\n",
       "      <td>12.387646</td>\n",
       "    </tr>\n",
       "    <tr>\n",
       "      <th>5</th>\n",
       "      <td>(pot, pie)</td>\n",
       "      <td>12.329706</td>\n",
       "    </tr>\n",
       "    <tr>\n",
       "      <th>6</th>\n",
       "      <td>(petite, cuisine)</td>\n",
       "      <td>12.286269</td>\n",
       "    </tr>\n",
       "    <tr>\n",
       "      <th>7</th>\n",
       "      <td>(spot, stew)</td>\n",
       "      <td>12.173200</td>\n",
       "    </tr>\n",
       "    <tr>\n",
       "      <th>8</th>\n",
       "      <td>(ocean, whitefish)</td>\n",
       "      <td>12.152786</td>\n",
       "    </tr>\n",
       "    <tr>\n",
       "      <th>9</th>\n",
       "      <td>(control, officials)</td>\n",
       "      <td>11.981619</td>\n",
       "    </tr>\n",
       "  </tbody>\n",
       "</table>\n",
       "</div>"
      ],
      "text/plain": [
       "                  bigram        pmi\n",
       "0     (officials, aafco)  13.122603\n",
       "1     (elegant, medleys)  12.646165\n",
       "2  (levels, established)  12.572023\n",
       "3   (reasonably, priced)  12.570062\n",
       "4          (maine, coon)  12.387646\n",
       "5             (pot, pie)  12.329706\n",
       "6      (petite, cuisine)  12.286269\n",
       "7           (spot, stew)  12.173200\n",
       "8     (ocean, whitefish)  12.152786\n",
       "9   (control, officials)  11.981619"
      ]
     },
     "execution_count": 44,
     "metadata": {},
     "output_type": "execute_result"
    }
   ],
   "source": [
    "cats_wet_food_bigram_pmi.head(10)"
   ]
  },
  {
   "cell_type": "code",
   "execution_count": 45,
   "id": "37df68be",
   "metadata": {},
   "outputs": [
    {
     "data": {
      "text/html": [
       "<div>\n",
       "<style scoped>\n",
       "    .dataframe tbody tr th:only-of-type {\n",
       "        vertical-align: middle;\n",
       "    }\n",
       "\n",
       "    .dataframe tbody tr th {\n",
       "        vertical-align: top;\n",
       "    }\n",
       "\n",
       "    .dataframe thead th {\n",
       "        text-align: right;\n",
       "    }\n",
       "</style>\n",
       "<table border=\"1\" class=\"dataframe\">\n",
       "  <thead>\n",
       "    <tr style=\"text-align: right;\">\n",
       "      <th></th>\n",
       "      <th>bigram</th>\n",
       "      <th>pmi</th>\n",
       "    </tr>\n",
       "  </thead>\n",
       "  <tbody>\n",
       "    <tr>\n",
       "      <th>1</th>\n",
       "      <td>(elegant, medleys)</td>\n",
       "      <td>12.646165</td>\n",
       "    </tr>\n",
       "    <tr>\n",
       "      <th>4</th>\n",
       "      <td>(maine, coon)</td>\n",
       "      <td>12.387646</td>\n",
       "    </tr>\n",
       "    <tr>\n",
       "      <th>5</th>\n",
       "      <td>(pot, pie)</td>\n",
       "      <td>12.329706</td>\n",
       "    </tr>\n",
       "    <tr>\n",
       "      <th>6</th>\n",
       "      <td>(petite, cuisine)</td>\n",
       "      <td>12.286269</td>\n",
       "    </tr>\n",
       "    <tr>\n",
       "      <th>7</th>\n",
       "      <td>(spot, stew)</td>\n",
       "      <td>12.173200</td>\n",
       "    </tr>\n",
       "    <tr>\n",
       "      <th>8</th>\n",
       "      <td>(ocean, whitefish)</td>\n",
       "      <td>12.152786</td>\n",
       "    </tr>\n",
       "    <tr>\n",
       "      <th>9</th>\n",
       "      <td>(control, officials)</td>\n",
       "      <td>11.981619</td>\n",
       "    </tr>\n",
       "    <tr>\n",
       "      <th>10</th>\n",
       "      <td>(pro, plan)</td>\n",
       "      <td>11.864805</td>\n",
       "    </tr>\n",
       "    <tr>\n",
       "      <th>11</th>\n",
       "      <td>(urinary, tract)</td>\n",
       "      <td>11.747529</td>\n",
       "    </tr>\n",
       "    <tr>\n",
       "      <th>12</th>\n",
       "      <td>(blue, buffalo)</td>\n",
       "      <td>11.513261</td>\n",
       "    </tr>\n",
       "    <tr>\n",
       "      <th>13</th>\n",
       "      <td>(royal, canin)</td>\n",
       "      <td>11.183525</td>\n",
       "    </tr>\n",
       "    <tr>\n",
       "      <th>14</th>\n",
       "      <td>(digestive, system)</td>\n",
       "      <td>11.119992</td>\n",
       "    </tr>\n",
       "    <tr>\n",
       "      <th>15</th>\n",
       "      <td>(nutritional, levels)</td>\n",
       "      <td>11.104519</td>\n",
       "    </tr>\n",
       "    <tr>\n",
       "      <th>17</th>\n",
       "      <td>(wheat, gluten)</td>\n",
       "      <td>10.747622</td>\n",
       "    </tr>\n",
       "    <tr>\n",
       "      <th>18</th>\n",
       "      <td>(brown, rice)</td>\n",
       "      <td>10.679364</td>\n",
       "    </tr>\n",
       "    <tr>\n",
       "      <th>19</th>\n",
       "      <td>(human, grade)</td>\n",
       "      <td>10.652848</td>\n",
       "    </tr>\n",
       "    <tr>\n",
       "      <th>20</th>\n",
       "      <td>(sensitive, stomach)</td>\n",
       "      <td>10.556683</td>\n",
       "    </tr>\n",
       "    <tr>\n",
       "      <th>21</th>\n",
       "      <td>(vitamin, supplement)</td>\n",
       "      <td>10.544627</td>\n",
       "    </tr>\n",
       "    <tr>\n",
       "      <th>24</th>\n",
       "      <td>(balanced, nutrition)</td>\n",
       "      <td>10.186733</td>\n",
       "    </tr>\n",
       "    <tr>\n",
       "      <th>26</th>\n",
       "      <td>(limited, ingredient)</td>\n",
       "      <td>9.947267</td>\n",
       "    </tr>\n",
       "  </tbody>\n",
       "</table>\n",
       "</div>"
      ],
      "text/plain": [
       "                   bigram        pmi\n",
       "1      (elegant, medleys)  12.646165\n",
       "4           (maine, coon)  12.387646\n",
       "5              (pot, pie)  12.329706\n",
       "6       (petite, cuisine)  12.286269\n",
       "7            (spot, stew)  12.173200\n",
       "8      (ocean, whitefish)  12.152786\n",
       "9    (control, officials)  11.981619\n",
       "10            (pro, plan)  11.864805\n",
       "11       (urinary, tract)  11.747529\n",
       "12        (blue, buffalo)  11.513261\n",
       "13         (royal, canin)  11.183525\n",
       "14    (digestive, system)  11.119992\n",
       "15  (nutritional, levels)  11.104519\n",
       "17        (wheat, gluten)  10.747622\n",
       "18          (brown, rice)  10.679364\n",
       "19         (human, grade)  10.652848\n",
       "20   (sensitive, stomach)  10.556683\n",
       "21  (vitamin, supplement)  10.544627\n",
       "24  (balanced, nutrition)  10.186733\n",
       "26  (limited, ingredient)   9.947267"
      ]
     },
     "execution_count": 45,
     "metadata": {},
     "output_type": "execute_result"
    }
   ],
   "source": [
    "cats_wet_food_bigrams[:20]\n",
    "cats_wet_food_filtered_bigram[:20]"
   ]
  },
  {
   "cell_type": "code",
   "execution_count": 46,
   "id": "04183cc6",
   "metadata": {},
   "outputs": [
    {
     "data": {
      "text/html": [
       "<div>\n",
       "<style scoped>\n",
       "    .dataframe tbody tr th:only-of-type {\n",
       "        vertical-align: middle;\n",
       "    }\n",
       "\n",
       "    .dataframe tbody tr th {\n",
       "        vertical-align: top;\n",
       "    }\n",
       "\n",
       "    .dataframe thead th {\n",
       "        text-align: right;\n",
       "    }\n",
       "</style>\n",
       "<table border=\"1\" class=\"dataframe\">\n",
       "  <thead>\n",
       "    <tr style=\"text-align: right;\">\n",
       "      <th></th>\n",
       "      <th>trigram</th>\n",
       "      <th>pmi</th>\n",
       "    </tr>\n",
       "  </thead>\n",
       "  <tbody>\n",
       "    <tr>\n",
       "      <th>0</th>\n",
       "      <td>(control, officials, aafco)</td>\n",
       "      <td>25.104222</td>\n",
       "    </tr>\n",
       "    <tr>\n",
       "      <th>1</th>\n",
       "      <td>(nutritional, levels, established)</td>\n",
       "      <td>24.536364</td>\n",
       "    </tr>\n",
       "    <tr>\n",
       "      <th>2</th>\n",
       "      <td>(specialty, pet, shops)</td>\n",
       "      <td>22.252273</td>\n",
       "    </tr>\n",
       "    <tr>\n",
       "      <th>4</th>\n",
       "      <td>(feed, control, officials)</td>\n",
       "      <td>20.860519</td>\n",
       "    </tr>\n",
       "    <tr>\n",
       "      <th>5</th>\n",
       "      <td>(american, feed, control)</td>\n",
       "      <td>20.477190</td>\n",
       "    </tr>\n",
       "    <tr>\n",
       "      <th>6</th>\n",
       "      <td>(chicken, pot, pie)</td>\n",
       "      <td>20.402118</td>\n",
       "    </tr>\n",
       "    <tr>\n",
       "      <th>10</th>\n",
       "      <td>(try, different, ones)</td>\n",
       "      <td>16.837204</td>\n",
       "    </tr>\n",
       "    <tr>\n",
       "      <th>11</th>\n",
       "      <td>(local, pet, store)</td>\n",
       "      <td>16.550639</td>\n",
       "    </tr>\n",
       "    <tr>\n",
       "      <th>12</th>\n",
       "      <td>(ounce, cans, pack)</td>\n",
       "      <td>16.463351</td>\n",
       "    </tr>\n",
       "    <tr>\n",
       "      <th>13</th>\n",
       "      <td>(feast, gravy, lovers)</td>\n",
       "      <td>16.422643</td>\n",
       "    </tr>\n",
       "  </tbody>\n",
       "</table>\n",
       "</div>"
      ],
      "text/plain": [
       "                               trigram        pmi\n",
       "0          (control, officials, aafco)  25.104222\n",
       "1   (nutritional, levels, established)  24.536364\n",
       "2              (specialty, pet, shops)  22.252273\n",
       "4           (feed, control, officials)  20.860519\n",
       "5            (american, feed, control)  20.477190\n",
       "6                  (chicken, pot, pie)  20.402118\n",
       "10              (try, different, ones)  16.837204\n",
       "11                 (local, pet, store)  16.550639\n",
       "12                 (ounce, cans, pack)  16.463351\n",
       "13              (feast, gravy, lovers)  16.422643"
      ]
     },
     "execution_count": 46,
     "metadata": {},
     "output_type": "execute_result"
    }
   ],
   "source": [
    "cats_wet_food_trigrams[:10]\n",
    "cats_wet_food_filtered_trigram[:10]"
   ]
  },
  {
   "cell_type": "code",
   "execution_count": 47,
   "id": "7333d6d6",
   "metadata": {},
   "outputs": [
    {
     "data": {
      "application/vnd.jupyter.widget-view+json": {
       "model_id": "ae9feddde09b45be987d9a3e816765cd",
       "version_major": 2,
       "version_minor": 0
      },
      "text/plain": [
       "  0%|          | 0/1961 [00:00<?, ?it/s]"
      ]
     },
     "metadata": {},
     "output_type": "display_data"
    },
    {
     "data": {
      "application/vnd.jupyter.widget-view+json": {
       "model_id": "47142aafcf3c4f0981f839212aad53b6",
       "version_major": 2,
       "version_minor": 0
      },
      "text/plain": [
       "  0%|          | 0/1961 [00:00<?, ?it/s]"
      ]
     },
     "metadata": {},
     "output_type": "display_data"
    },
    {
     "data": {
      "application/vnd.jupyter.widget-view+json": {
       "model_id": "f4053cdab4434719b344a2d2bbfcf3e3",
       "version_major": 2,
       "version_minor": 0
      },
      "text/plain": [
       "  0%|          | 0/1961 [00:00<?, ?it/s]"
      ]
     },
     "metadata": {},
     "output_type": "display_data"
    },
    {
     "data": {
      "application/vnd.jupyter.widget-view+json": {
       "model_id": "21df6d51c0db4131b574375fcdeb44d9",
       "version_major": 2,
       "version_minor": 0
      },
      "text/plain": [
       "  0%|          | 0/1143 [00:00<?, ?it/s]"
      ]
     },
     "metadata": {},
     "output_type": "display_data"
    },
    {
     "data": {
      "application/vnd.jupyter.widget-view+json": {
       "model_id": "61386636082d4d5a86808effa588251a",
       "version_major": 2,
       "version_minor": 0
      },
      "text/plain": [
       "  0%|          | 0/182 [00:00<?, ?it/s]"
      ]
     },
     "metadata": {},
     "output_type": "display_data"
    },
    {
     "data": {
      "application/vnd.jupyter.widget-view+json": {
       "model_id": "23ec1ae1dbf0457fa01734a38f24c7cb",
       "version_major": 2,
       "version_minor": 0
      },
      "text/plain": [
       "  0%|          | 0/1961 [00:00<?, ?it/s]"
      ]
     },
     "metadata": {},
     "output_type": "display_data"
    }
   ],
   "source": [
    "cats_dry_food_data_words = list(sent_to_words(tqdm(cats_dry_food_reviews.tolist())))\n",
    "cats_dry_food_bigram_finder, cats_dry_food_bigram_measures, cats_dry_food_bigram_pmi = get_bigrams(tqdm(cats_dry_food_data_words))\n",
    "cats_dry_food_trigram_finder, cats_dry_food_trigram_measures, cats_dry_food_trigram_pmi = get_trigrams(tqdm(cats_dry_food_data_words))\n",
    "cats_dry_food_filtered_bigram = cats_dry_food_bigram_pmi[cats_dry_food_bigram_pmi.progress_apply(lambda bigram:\\\n",
    "                                              bigram_filter(bigram['bigram'])\\\n",
    "                                              and bigram.pmi > 5, axis = 1)][:500]\n",
    "\n",
    "cats_dry_food_filtered_trigram = cats_dry_food_trigram_pmi[cats_dry_food_trigram_pmi.progress_apply(lambda trigram: \\\n",
    "                                                 trigram_filter(trigram['trigram'])\\\n",
    "                                                 and trigram.pmi > 5, axis = 1)][:500]\n",
    "cats_dry_food_bigrams = [' '.join(x) for x in cats_dry_food_filtered_bigram.bigram.values]\n",
    "cats_dry_food_trigrams = [' '.join(x) for x in cats_dry_food_filtered_trigram.trigram.values]\n",
    "\n",
    "cats_dry_food_reviews_ngrams = pd.DataFrame([' '.join(sen) for sen in cats_dry_food_data_words], columns = ['reviewText'])\n",
    "cats_dry_food_reviews_ngrams.reviewText = cats_dry_food_reviews_ngrams.reviewText.map(lambda x: replace_ngram(x, cats_dry_food_bigrams, cats_dry_food_trigrams))\n",
    "cats_dry_food_cleaned_reviews_ngrams = remove_stopwords(tqdm(cats_dry_food_reviews_ngrams.reviewText))"
   ]
  },
  {
   "cell_type": "code",
   "execution_count": 48,
   "id": "11de4906",
   "metadata": {},
   "outputs": [
    {
     "data": {
      "application/vnd.jupyter.widget-view+json": {
       "model_id": "fd77832b9b8d402a81a758936068de08",
       "version_major": 2,
       "version_minor": 0
      },
      "text/plain": [
       "  0%|          | 0/1961 [00:00<?, ?it/s]"
      ]
     },
     "metadata": {},
     "output_type": "display_data"
    }
   ],
   "source": [
    "cats_dry_food_lemmatized_reviews_ngrams = lemmatize_skip_ngrams(tqdm(cats_dry_food_cleaned_reviews_ngrams), allowed_postags = [])"
   ]
  },
  {
   "cell_type": "code",
   "execution_count": 49,
   "id": "97196543",
   "metadata": {},
   "outputs": [
    {
     "data": {
      "application/vnd.jupyter.widget-view+json": {
       "model_id": "ff2bd184a7cb4f0bbbe5436dbc7c57cc",
       "version_major": 2,
       "version_minor": 0
      },
      "text/plain": [
       "  0%|          | 0/1961 [00:00<?, ?it/s]"
      ]
     },
     "metadata": {},
     "output_type": "display_data"
    }
   ],
   "source": [
    "cats_dry_food_lemmatized_reviews_ngrams2 = lemmatize_skip_ngrams(tqdm(cats_dry_food_cleaned_reviews_ngrams), allowed_postags = ['NOUN', 'ADJ', 'VERB', 'ADV'])"
   ]
  },
  {
   "cell_type": "code",
   "execution_count": 50,
   "id": "fbd4a4d8",
   "metadata": {},
   "outputs": [
    {
     "data": {
      "text/html": [
       "<div>\n",
       "<style scoped>\n",
       "    .dataframe tbody tr th:only-of-type {\n",
       "        vertical-align: middle;\n",
       "    }\n",
       "\n",
       "    .dataframe tbody tr th {\n",
       "        vertical-align: top;\n",
       "    }\n",
       "\n",
       "    .dataframe thead th {\n",
       "        text-align: right;\n",
       "    }\n",
       "</style>\n",
       "<table border=\"1\" class=\"dataframe\">\n",
       "  <thead>\n",
       "    <tr style=\"text-align: right;\">\n",
       "      <th></th>\n",
       "      <th>trigram</th>\n",
       "      <th>pmi</th>\n",
       "    </tr>\n",
       "  </thead>\n",
       "  <tbody>\n",
       "    <tr>\n",
       "      <th>0</th>\n",
       "      <td>(blue, buffalo, wilderness)</td>\n",
       "      <td>18.578908</td>\n",
       "    </tr>\n",
       "    <tr>\n",
       "      <th>2</th>\n",
       "      <td>(hill, science, diet)</td>\n",
       "      <td>16.129572</td>\n",
       "    </tr>\n",
       "    <tr>\n",
       "      <th>11</th>\n",
       "      <td>(year, old, cat)</td>\n",
       "      <td>12.679082</td>\n",
       "    </tr>\n",
       "    <tr>\n",
       "      <th>12</th>\n",
       "      <td>(grain, free, diet)</td>\n",
       "      <td>12.652765</td>\n",
       "    </tr>\n",
       "    <tr>\n",
       "      <th>17</th>\n",
       "      <td>(grain, free, dry)</td>\n",
       "      <td>11.958455</td>\n",
       "    </tr>\n",
       "    <tr>\n",
       "      <th>24</th>\n",
       "      <td>(grain, free, cat)</td>\n",
       "      <td>11.236011</td>\n",
       "    </tr>\n",
       "    <tr>\n",
       "      <th>26</th>\n",
       "      <td>(high, quality, food)</td>\n",
       "      <td>11.034184</td>\n",
       "    </tr>\n",
       "    <tr>\n",
       "      <th>27</th>\n",
       "      <td>(grain, free, food)</td>\n",
       "      <td>10.892940</td>\n",
       "    </tr>\n",
       "    <tr>\n",
       "      <th>49</th>\n",
       "      <td>(dry, cat, food)</td>\n",
       "      <td>9.156870</td>\n",
       "    </tr>\n",
       "    <tr>\n",
       "      <th>58</th>\n",
       "      <td>(adult, cat, food)</td>\n",
       "      <td>8.761447</td>\n",
       "    </tr>\n",
       "  </tbody>\n",
       "</table>\n",
       "</div>"
      ],
      "text/plain": [
       "                        trigram        pmi\n",
       "0   (blue, buffalo, wilderness)  18.578908\n",
       "2         (hill, science, diet)  16.129572\n",
       "11             (year, old, cat)  12.679082\n",
       "12          (grain, free, diet)  12.652765\n",
       "17           (grain, free, dry)  11.958455\n",
       "24           (grain, free, cat)  11.236011\n",
       "26        (high, quality, food)  11.034184\n",
       "27          (grain, free, food)  10.892940\n",
       "49             (dry, cat, food)   9.156870\n",
       "58           (adult, cat, food)   8.761447"
      ]
     },
     "execution_count": 50,
     "metadata": {},
     "output_type": "execute_result"
    }
   ],
   "source": [
    "cats_dry_food_filtered_trigram[:10]"
   ]
  },
  {
   "cell_type": "markdown",
   "id": "29093045",
   "metadata": {},
   "source": [
    "# NLTK: take one review as an example"
   ]
  },
  {
   "cell_type": "code",
   "execution_count": 52,
   "id": "a17696e3",
   "metadata": {},
   "outputs": [
    {
     "data": {
      "text/plain": [
       "'9 Lives Cat Food is one Meal my Cats really like and enjoy eating It. Daily Essentials Real Flaked Tuna in Sauce, one of the many Flavors that is Good for them and I get it Locally. 100% Completed and Balanced Nutrition with all kinds of Vitamins and Nutrients all supposed to be Good for Cats. I can get several Meals out of each Can of Food, my Cats are a little Finicky so I have to try different Flavors and Brands all the time. They enjoy eating it maybe twice a week, they don\\'t eat a lot at one time, they are Nibblers and prefer to eat many little Meals. I have tried to give them other more expensive Cat Food from Popular \"Specialty Pet Shops\" or other \"Food Boutiques\" for Pets, however, they don\\'t want any of that, they Crave and like eating 9 Lives. I am Glad there are such Diversity of Flavors to make my Cats Happy and to choose from. I even Feed 9 Lives to several Cats outside and they Love It! ...Thank You D.D.'"
      ]
     },
     "execution_count": 52,
     "metadata": {},
     "output_type": "execute_result"
    }
   ],
   "source": [
    "cats_wet_food_reviews[714] #wet food"
   ]
  },
  {
   "cell_type": "code",
   "execution_count": 53,
   "id": "7f31acdf",
   "metadata": {},
   "outputs": [
    {
     "data": {
      "text/plain": [
       "'lives cat food is one meal my cats really like and enjoy eating it daily essentials real flaked tuna in sauce one of the many flavors that is good for them and get it locally completed and balanced nutrition with all kinds of vitamins and nutrients all supposed to be good for cats can get several meals out of each can of food my cats are little finicky so have to try different flavors and brands all the time they enjoy eating it maybe twice week they don eat lot at one time they are nibblers and prefer to eat many little meals have tried to give them other more expensive cat food from popular specialty pet shops or other food boutiques for pets however they don want any of that they crave and like eating lives am glad there are such diversity of flavors to make my cats happy and to choose from even feed lives to several cats outside and they love it thank you'"
      ]
     },
     "execution_count": 53,
     "metadata": {},
     "output_type": "execute_result"
    }
   ],
   "source": [
    "' '.join(cats_wet_food_data_words[714])"
   ]
  },
  {
   "cell_type": "code",
   "execution_count": 54,
   "id": "051bc27c",
   "metadata": {},
   "outputs": [
    {
     "data": {
      "text/plain": [
       "'lives cat food is one meal my cats really like and enjoy_eating it daily essentials real flaked tuna in sauce one of the many_flavors that is good for them and get it locally completed and balanced_nutrition with all kinds of vitamins and nutrients all supposed to be good for cats can get several meals out of each can of food my cats are little_finicky so have to try different_flavors and brands all the time they enjoy_eating it maybe twice week they don eat lot at one time they are nibblers and prefer to eat many little meals have tried to give them other more expensive cat food from popular specialty_pet_shops or other food_boutiques for pets however they don want any of that they crave and like eating lives am glad there are such diversity of flavors to make my cats happy and to choose from even feed lives to several_cats_outside and they love it thank you'"
      ]
     },
     "execution_count": 54,
     "metadata": {},
     "output_type": "execute_result"
    }
   ],
   "source": [
    "cats_wet_food_reviews_ngrams.loc[714, 'reviewText'] "
   ]
  },
  {
   "cell_type": "code",
   "execution_count": 55,
   "id": "59a9c1df",
   "metadata": {},
   "outputs": [
    {
     "data": {
      "text/plain": [
       "'live cat food one meal cat really like enjoy_eating daily essential real flaked tuna sauce one many_flavors good get locally complete balanced_nutrition kind vitamin nutrient suppose good cat get several meal food cat little_finicky try different_flavors brand time enjoy_eating maybe twice week eat lot one time nibbler prefer eat many little meal try give expensive cat food popular specialty_pet_shops food_boutiques pet however want crave like eat life glad diversity flavor make cat happy choose even feed life several_cats_outside love thank'"
      ]
     },
     "execution_count": 55,
     "metadata": {},
     "output_type": "execute_result"
    }
   ],
   "source": [
    "' '.join(cats_wet_food_lemmatized_reviews_ngrams[714]) "
   ]
  },
  {
   "cell_type": "code",
   "execution_count": 56,
   "id": "b484287c",
   "metadata": {},
   "outputs": [
    {
     "data": {
      "text/plain": [
       "'live cat food meal cat really enjoy_eating daily essential real flaked tuna sauce many_flavors good get locally complete balanced_nutrition kind vitamin nutrient suppose good cat get several meal food cat little_finicky try different_flavors brand time enjoy_eating maybe twice week eat lot time nibbler prefer eat many little meal try give expensive cat food popular specialty_pet_shops food_boutiques pet however want crave eat life glad diversity flavor make cat happy choose even feed life several_cats_outside love thank'"
      ]
     },
     "execution_count": 56,
     "metadata": {},
     "output_type": "execute_result"
    }
   ],
   "source": [
    "' '.join(cats_wet_food_lemmatized_reviews_ngrams2[714]) #m?"
   ]
  },
  {
   "cell_type": "code",
   "execution_count": 57,
   "id": "ea448270",
   "metadata": {},
   "outputs": [],
   "source": [
    "fdist = FreqDist([word for sen in cats_wet_food_lemmatized_reviews_ngrams2 for word in sen])\n",
    "lst1 = [tu[0] for tu in fdist.most_common(100)]\n",
    "\n",
    "fdist2 = FreqDist([word for sen in cats_dry_food_lemmatized_reviews_ngrams2 for word in sen])\n",
    "lst2 = [tu[0] for tu in fdist2.most_common(100)]"
   ]
  },
  {
   "cell_type": "code",
   "execution_count": 58,
   "id": "b822802a",
   "metadata": {},
   "outputs": [],
   "source": [
    "trigrams_fdist1 = sorted(cats_wet_food_trigram_finder.nbest(cats_wet_food_trigram_measures.raw_freq, 20))\n",
    "trigrams_lst1 = [' '.join(tu) for tu in trigrams_fdist1]\n",
    "\n",
    "trigrams_fdist2 = sorted(cats_dry_food_trigram_finder.nbest(cats_dry_food_trigram_measures.raw_freq, 20))\n",
    "trigrams_lst2 = [' '.join(tu) for tu in trigrams_fdist2]"
   ]
  },
  {
   "cell_type": "code",
   "execution_count": 59,
   "id": "01641077",
   "metadata": {},
   "outputs": [
    {
     "data": {
      "text/plain": [
       "['all the time',\n",
       " 'canned cat food',\n",
       " 'cats love it',\n",
       " 'cats love this',\n",
       " 'for my cats',\n",
       " 'love this food',\n",
       " 'my cat loves',\n",
       " 'my cats are',\n",
       " 'my cats love',\n",
       " 'of cat food',\n",
       " 'of my cats',\n",
       " 'one of my',\n",
       " 'one of the',\n",
       " 'seems to be',\n",
       " 'subscribe and save',\n",
       " 'the fancy feast',\n",
       " 'this cat food',\n",
       " 'this food and',\n",
       " 'this food is',\n",
       " 'this is the']"
      ]
     },
     "execution_count": 59,
     "metadata": {},
     "output_type": "execute_result"
    }
   ],
   "source": [
    "trigrams_lst1"
   ]
  },
  {
   "cell_type": "code",
   "execution_count": 60,
   "id": "d41d2c70",
   "metadata": {},
   "outputs": [
    {
     "data": {
      "text/plain": [
       "13"
      ]
     },
     "execution_count": 60,
     "metadata": {},
     "output_type": "execute_result"
    }
   ],
   "source": [
    "len([w for w in trigrams_lst1 if w in trigrams_lst2])"
   ]
  },
  {
   "cell_type": "code",
   "execution_count": 61,
   "id": "85fb9b6f",
   "metadata": {},
   "outputs": [],
   "source": [
    "bigrams_fdist1 = sorted(cats_wet_food_bigram_finder.nbest(cats_wet_food_bigram_measures.raw_freq, 20))\n",
    "bigrams_lst1 = [' '.join(tu) for tu in bigrams_fdist1]\n",
    "\n",
    "bigrams_fdist2 = sorted(cats_dry_food_bigram_finder.nbest(cats_dry_food_bigram_measures.raw_freq, 20))\n",
    "bigrams_lst2 = [' '.join(tu) for tu in bigrams_fdist2]"
   ]
  },
  {
   "cell_type": "code",
   "execution_count": 62,
   "id": "1bf3be3b",
   "metadata": {},
   "outputs": [
    {
     "data": {
      "text/plain": [
       "['and the',\n",
       " 'and they',\n",
       " 'cat food',\n",
       " 'cats love',\n",
       " 'dry food',\n",
       " 'eat it',\n",
       " 'fancy feast',\n",
       " 'food and',\n",
       " 'for the',\n",
       " 'in the',\n",
       " 'it is',\n",
       " 'my cat',\n",
       " 'my cats',\n",
       " 'of the',\n",
       " 'one of',\n",
       " 'the food',\n",
       " 'this food',\n",
       " 'this is',\n",
       " 'to be',\n",
       " 'to the']"
      ]
     },
     "execution_count": 62,
     "metadata": {},
     "output_type": "execute_result"
    }
   ],
   "source": [
    "bigrams_lst1"
   ]
  },
  {
   "cell_type": "code",
   "execution_count": 63,
   "id": "67cfab17",
   "metadata": {},
   "outputs": [
    {
     "data": {
      "text/plain": [
       "17"
      ]
     },
     "execution_count": 63,
     "metadata": {},
     "output_type": "execute_result"
    }
   ],
   "source": [
    "len([w for w in bigrams_lst1 if w in bigrams_lst2])"
   ]
  },
  {
   "cell_type": "code",
   "execution_count": 64,
   "id": "87c9cecd",
   "metadata": {},
   "outputs": [
    {
     "data": {
      "text/plain": [
       "'I used this in my automatic feeder instead of the overpriced science diet CD from the vet. I use friskies special diet cans normally, since wet food is much better for UTIs, but this dry is ok when we go away for a few days. More meat than Purinas cheaper urinary food.'"
      ]
     },
     "execution_count": 64,
     "metadata": {},
     "output_type": "execute_result"
    }
   ],
   "source": [
    "cats_dry_food_reviews[44] #wet food"
   ]
  },
  {
   "cell_type": "code",
   "execution_count": 65,
   "id": "b36d3798",
   "metadata": {},
   "outputs": [
    {
     "data": {
      "text/plain": [
       "'used this in my automatic feeder instead of the overpriced science diet cd from the vet use friskies special diet cans normally since wet food is much better for utis but this dry is ok when we go away for few days more meat than purinas cheaper urinary food'"
      ]
     },
     "execution_count": 65,
     "metadata": {},
     "output_type": "execute_result"
    }
   ],
   "source": [
    "' '.join(cats_dry_food_data_words[44])"
   ]
  },
  {
   "cell_type": "code",
   "execution_count": 66,
   "id": "5bf39111",
   "metadata": {},
   "outputs": [
    {
     "data": {
      "text/plain": [
       "'used this in my automatic feeder instead of the overpriced science_diet cd from the vet use friskies special diet cans normally since wet food is much better for utis but this dry is ok when we go away for few days more meat than purinas cheaper urinary food'"
      ]
     },
     "execution_count": 66,
     "metadata": {},
     "output_type": "execute_result"
    }
   ],
   "source": [
    "cats_dry_food_reviews_ngrams.loc[44, 'reviewText'] "
   ]
  },
  {
   "cell_type": "code",
   "execution_count": 67,
   "id": "72107ebc",
   "metadata": {},
   "outputs": [
    {
     "data": {
      "text/plain": [
       "'use automatic feeder instead overprice science_diet cd vet use friskie special diet can normally since wet food much well utis dry ok go away day meat purina cheap urinary food'"
      ]
     },
     "execution_count": 67,
     "metadata": {},
     "output_type": "execute_result"
    }
   ],
   "source": [
    "' '.join(cats_dry_food_lemmatized_reviews_ngrams[44]) "
   ]
  },
  {
   "cell_type": "code",
   "execution_count": 68,
   "id": "c29d076f",
   "metadata": {},
   "outputs": [
    {
     "data": {
      "text/plain": [
       "'use automatic feeder instead overprice science_diet cd vet use friskie special diet can normally wet food much well utis dry go away day meat purina cheap urinary food'"
      ]
     },
     "execution_count": 68,
     "metadata": {},
     "output_type": "execute_result"
    }
   ],
   "source": [
    "' '.join(cats_dry_food_lemmatized_reviews_ngrams2[44]) "
   ]
  }
 ],
 "metadata": {
  "kernelspec": {
   "display_name": "chewy_seo",
   "language": "python",
   "name": "chewy_seo"
  },
  "language_info": {
   "codemirror_mode": {
    "name": "ipython",
    "version": 3
   },
   "file_extension": ".py",
   "mimetype": "text/x-python",
   "name": "python",
   "nbconvert_exporter": "python",
   "pygments_lexer": "ipython3",
   "version": "3.9.7"
  }
 },
 "nbformat": 4,
 "nbformat_minor": 5
}
