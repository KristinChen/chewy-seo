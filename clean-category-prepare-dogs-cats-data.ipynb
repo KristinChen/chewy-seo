{
 "cells": [
  {
   "cell_type": "code",
   "execution_count": 2,
   "id": "7a2456b5",
   "metadata": {},
   "outputs": [],
   "source": [
    "%matplotlib inline\n",
    "import random\n",
    "random.seed(1234)\n",
    "\n",
    "import pandas as pd\n",
    "import gzip\n",
    "# Gensim\n",
    "import gensim\n",
    "import gensim.corpora as corpora\n",
    "from gensim.utils import simple_preprocess\n",
    "from gensim.models import CoherenceModel\n",
    "# import nltk\n",
    "# nltk.download('wordnet')\n",
    "from nltk.corpus import stopwords\n",
    "from nltk.stem.wordnet import WordNetLemmatizer\n",
    "import string\n",
    "import spacy\n",
    "import matplotlib.pyplot as plt\n",
    "import pyLDAvis #python library for interactive topic model visualization\n",
    "# import pyLDAvis.gensim\n",
    "pyLDAvis.enable_notebook()\n",
    "\n",
    "# import logging\n",
    "# logging.basicConfig(format='%(asctime)s : %(levelname)s : %(message)s', level=logging.ERROR)\n",
    "\n",
    "# import warnings\n",
    "# warnings.filterwarnings(\"ignore\",category=DeprecationWarning)\n",
    "\n",
    "import pickle\n",
    "import numpy as np"
   ]
  },
  {
   "cell_type": "markdown",
   "id": "42d8e864",
   "metadata": {},
   "source": [
    "# read data "
   ]
  },
  {
   "cell_type": "code",
   "execution_count": 5,
   "id": "c15e2c1e",
   "metadata": {},
   "outputs": [
    {
     "data": {
      "text/plain": [
       "(1235316, 17)"
      ]
     },
     "execution_count": 5,
     "metadata": {},
     "output_type": "execute_result"
    }
   ],
   "source": [
    "# def parse(path):\n",
    "#   g = gzip.open(path, 'rb')\n",
    "#   for l in g:\n",
    "#     yield eval(l)\n",
    "\n",
    "# def getDF(path):\n",
    "#   i = 0\n",
    "#   df = {}\n",
    "#   for d in parse(path):\n",
    "#     df[i] = d\n",
    "#     i += 1\n",
    "#   return pd.DataFrame.from_dict(df, orient='index')\n",
    "\n",
    "# df = getDF('./reviews_Pet_Supplies.json.gz') #1,235,316\n",
    "# metadata_df = getDF('./meta_Pet_Supplies.json.gz')\n",
    "# merged_df = pd.merge(df, metadata_df, on = 'asin', how = 'left')"
   ]
  },
  {
   "cell_type": "code",
   "execution_count": null,
   "id": "17af28c0",
   "metadata": {},
   "outputs": [],
   "source": [
    "# columns = ['category_' + str(i) for i in range(1, 6)] "
   ]
  },
  {
   "cell_type": "code",
   "execution_count": null,
   "id": "fc9334b1",
   "metadata": {},
   "outputs": [],
   "source": [
    "# total_l = merged_df.categories.values.tolist()"
   ]
  },
  {
   "cell_type": "code",
   "execution_count": null,
   "id": "3ec802f8",
   "metadata": {},
   "outputs": [],
   "source": [
    "# len(total_l[152][0])\n",
    "# leng = [len(l[0]) for l in total_l]"
   ]
  },
  {
   "cell_type": "code",
   "execution_count": null,
   "id": "7f20222f",
   "metadata": {},
   "outputs": [],
   "source": [
    "# merged_df2 = pd.DataFrame([l[0] for l in total_l], columns = columns)"
   ]
  },
  {
   "cell_type": "code",
   "execution_count": null,
   "id": "4527d478",
   "metadata": {},
   "outputs": [],
   "source": [
    "# return_df = pd.concat([merged_df, merged_df2],axis = 1)"
   ]
  },
  {
   "cell_type": "code",
   "execution_count": null,
   "id": "03ef99d0",
   "metadata": {},
   "outputs": [],
   "source": [
    "#return_df.to_csv('all_df.csv')"
   ]
  },
  {
   "cell_type": "code",
   "execution_count": null,
   "id": "7fcc133a",
   "metadata": {},
   "outputs": [],
   "source": [
    "# merged_df = pd.read_csv('./all_df.csv', index_col = False)"
   ]
  },
  {
   "cell_type": "code",
   "execution_count": 8,
   "id": "ab4f8960",
   "metadata": {},
   "outputs": [],
   "source": [
    "# from tqdm.notebook import tqdm as tqdm\n",
    "# tqdm.pandas()"
   ]
  },
  {
   "cell_type": "code",
   "execution_count": null,
   "id": "669c0390",
   "metadata": {},
   "outputs": [],
   "source": [
    "#merged_df.loc[(merged_df.category_2 == 'Dogs') | (merged_df.category_2 == 'Cats')].reset_index(drop = True).to_csv('dogs_cats_data.csv', index = False)"
   ]
  },
  {
   "cell_type": "code",
   "execution_count": 3,
   "id": "739791dd",
   "metadata": {},
   "outputs": [],
   "source": [
    "df = pd.read_csv('dogs_cats_data.csv', index_col = False)"
   ]
  },
  {
   "cell_type": "code",
   "execution_count": 4,
   "id": "eb93b7e1",
   "metadata": {},
   "outputs": [],
   "source": [
    "vc = df.loc[df.category_2 == 'Dogs', ['category_2', 'category_3', 'category_4']].value_counts()"
   ]
  },
  {
   "cell_type": "code",
   "execution_count": 5,
   "id": "aa8cfc32",
   "metadata": {},
   "outputs": [
    {
     "data": {
      "text/plain": [
       "category_2  category_3                    category_4                \n",
       "Dogs        Treats                        Cookies, Biscuits & Snacks    10843\n",
       "            Toys                          Squeak Toys                    7220\n",
       "            Food                          Dry                            5872\n",
       "            Toys                          Chew Toys                      5459\n",
       "            Health Supplies               Supplements & Vitamins         5097\n",
       "            Toys                          Balls                          4454\n",
       "            Collars, Harnesses & Leashes  Collars                        3264\n",
       "                                          Harnesses                      2619\n",
       "            Feeding & Watering Supplies   Fountains                      2346\n",
       "            Health Supplies               Flea, Lice & Tick Control      2183\n",
       "            Collars, Harnesses & Leashes  Leashes                        2010\n",
       "            Health Supplies               Dental Care                    1982\n",
       "            Litter & Housebreaking        Pooper Scoopers & Bags         1966\n",
       "            Grooming                      Shampoos & Conditioners        1806\n",
       "            Feeding & Watering Supplies   Bowls                          1772\n",
       "            Houses, Kennels & Pens        Crates & Kennels               1734\n",
       "            Treats                        Rawhide                        1660\n",
       "            Carriers & Travel Products    Carriers                       1655\n",
       "            Food                          Wet                            1581\n",
       "            Beds & Furniture              Beds                           1523\n",
       "            Carriers & Travel Products    Car Travel Accessories         1466\n",
       "            Litter & Housebreaking        Training Pads & Trays          1407\n",
       "                                          Odor & Stain Removers          1366\n",
       "            Treats                        Jerky                          1164\n",
       "            Feeding & Watering Supplies   Food Storage                   1125\n",
       "            Grooming                      Deodorizers                    1048\n",
       "                                          Claw Care                      1032\n",
       "dtype: int64"
      ]
     },
     "execution_count": 5,
     "metadata": {},
     "output_type": "execute_result"
    }
   ],
   "source": [
    "vc[vc > 1000]"
   ]
  },
  {
   "cell_type": "code",
   "execution_count": 8,
   "id": "30293b74",
   "metadata": {},
   "outputs": [
    {
     "data": {
      "text/plain": [
       "category_2  category_3                   category_4                     \n",
       "Dogs        Training & Behavior Aids     Repellents                         892\n",
       "            Treats                       Bones                              866\n",
       "            Toys                         Ropes                              813\n",
       "            Health Supplies              Ear Care                           768\n",
       "            Grooming                     Electric Clippers & Blades         703\n",
       "                                         Brushes                            693\n",
       "                                         Shedding Tools                     681\n",
       "            Feeding & Watering Supplies  Travel Bowls                       638\n",
       "            Health Supplies              Relaxants                          597\n",
       "            Feeding & Watering Supplies  Automatic Feeders                  537\n",
       "            Training & Behavior Aids     Training Collars                   534\n",
       "            Health Supplies              Eye Care                           528\n",
       "            Feeding & Watering Supplies  Raised Bowls & Feeding Stations    515\n",
       "dtype: int64"
      ]
     },
     "execution_count": 8,
     "metadata": {},
     "output_type": "execute_result"
    }
   ],
   "source": [
    "vc[(vc > 500) & (vc <= 1000)]"
   ]
  },
  {
   "cell_type": "code",
   "execution_count": 9,
   "id": "d93fb362",
   "metadata": {},
   "outputs": [
    {
     "data": {
      "text/plain": [
       "category_2  category_3             category_4             \n",
       "Dogs        Toys                   Flying Discs               425\n",
       "            Apparel & Accessories  Hoodies                    382\n",
       "            Beds & Furniture       Bed Mats                   381\n",
       "            Doors, Gates & Ramps   Doors                      342\n",
       "            Beds & Furniture       Stairs & Steps             339\n",
       "            Doors, Gates & Ramps   Playpens                   339\n",
       "            Grooming               Scissors                   337\n",
       "            Food                   Dehydrated/Freeze-Dried    305\n",
       "dtype: int64"
      ]
     },
     "execution_count": 9,
     "metadata": {},
     "output_type": "execute_result"
    }
   ],
   "source": [
    "vc[(vc <= 500) & (vc > 300)]"
   ]
  },
  {
   "cell_type": "code",
   "execution_count": 10,
   "id": "864b8d4a",
   "metadata": {},
   "outputs": [],
   "source": [
    "merged_df1 = pd.DataFrame(vc[vc <= 300]).assign(updated_category_4 = 'Others')"
   ]
  },
  {
   "cell_type": "code",
   "execution_count": 11,
   "id": "08f77fae",
   "metadata": {},
   "outputs": [],
   "source": [
    "vc2 = df.loc[df.category_2 == 'Cats', ['category_2', 'category_3', 'category_4']].value_counts()"
   ]
  },
  {
   "cell_type": "code",
   "execution_count": 12,
   "id": "89ae8253",
   "metadata": {},
   "outputs": [
    {
     "data": {
      "text/plain": [
       "category_2  category_3              category_4            \n",
       "Cats        Food                    Wet                       3955\n",
       "            Beds & Furniture        Beds & Sofas              2366\n",
       "            Toys                    Catnip Toys               2268\n",
       "            Litter & Housebreaking  Litter Boxes              2257\n",
       "            Toys                    Mice & Animal Toys        2091\n",
       "            Food                    Dry                       1961\n",
       "            Treats                  Snacks                    1578\n",
       "            Health Supplies         Relaxants                 1432\n",
       "            Litter & Housebreaking  Litter                    1242\n",
       "            Beds & Furniture        Activity Trees            1213\n",
       "            Toys                    Feather Toys              1140\n",
       "            Beds & Furniture        Scratching Pads           1075\n",
       "            Health Supplies         Supplements & Vitamins    1072\n",
       "dtype: int64"
      ]
     },
     "execution_count": 12,
     "metadata": {},
     "output_type": "execute_result"
    }
   ],
   "source": [
    "vc2[vc2>1000]"
   ]
  },
  {
   "cell_type": "code",
   "execution_count": 13,
   "id": "e643b30d",
   "metadata": {},
   "outputs": [
    {
     "data": {
      "text/plain": [
       "category_2  category_3                   category_4               \n",
       "Cats        Health Supplies              Flea, Lice & Tick Control    708\n",
       "            Toys                         Balls                        646\n",
       "            Beds & Furniture             Scratching Posts             582\n",
       "            Treats                       Catnip                       578\n",
       "            Litter & Housebreaking       Litter Scoops                532\n",
       "            Feeding & Watering Supplies  Fountains                    527\n",
       "            Beds & Furniture             Cat Houses & Condos          515\n",
       "            Toys                         Laser Toys                   511\n",
       "dtype: int64"
      ]
     },
     "execution_count": 13,
     "metadata": {},
     "output_type": "execute_result"
    }
   ],
   "source": [
    "vc2[(vc2 > 500) & (vc2 <= 1000)]"
   ]
  },
  {
   "cell_type": "code",
   "execution_count": 14,
   "id": "bc763450",
   "metadata": {},
   "outputs": [],
   "source": [
    "merged_df2 = pd.DataFrame(vc2[vc2 <= 300]).assign(updated_category_4 = 'Others')"
   ]
  },
  {
   "cell_type": "code",
   "execution_count": 15,
   "id": "04c75a06",
   "metadata": {},
   "outputs": [],
   "source": [
    "updated_df = pd.merge(df, pd.concat([merged_df1, merged_df2]), on = ['category_2', 'category_3', 'category_4'], how = 'left')"
   ]
  },
  {
   "cell_type": "code",
   "execution_count": 17,
   "id": "f2650e28",
   "metadata": {},
   "outputs": [],
   "source": [
    "updated_df['final_category_4'] = np.where(updated_df['updated_category_4'].isnull(), updated_df['category_4'], updated_df['updated_category_4'])"
   ]
  },
  {
   "cell_type": "code",
   "execution_count": 18,
   "id": "47a4fed6",
   "metadata": {},
   "outputs": [
    {
     "data": {
      "text/plain": [
       "category_2  category_3                    final_category_4\n",
       "Dogs        Apparel & Accessories         Others              1801\n",
       "            Grooming                      Others              1482\n",
       "            Health Supplies               Others              1048\n",
       "            Training & Behavior Aids      Others               768\n",
       "            Litter & Housebreaking        Others               314\n",
       "            Beds & Furniture              Others               299\n",
       "            Collars, Harnesses & Leashes  Others               271\n",
       "            Carriers & Travel Products    Others               226\n",
       "            Doors, Gates & Ramps          Others               177\n",
       "            Feeding & Watering Supplies   Others               157\n",
       "            Treats                        Others               145\n",
       "            Houses, Kennels & Pens        Others               115\n",
       "            Food                          Others                48\n",
       "            Toys                          Others                36\n",
       "dtype: int64"
      ]
     },
     "execution_count": 18,
     "metadata": {},
     "output_type": "execute_result"
    }
   ],
   "source": [
    "updated_df.loc[(updated_df.category_2 == 'Dogs') & (updated_df.final_category_4 == 'Others'), ['category_2', 'category_3', 'final_category_4']].value_counts()"
   ]
  },
  {
   "cell_type": "code",
   "execution_count": 19,
   "id": "b09399a1",
   "metadata": {},
   "outputs": [
    {
     "data": {
      "text/plain": [
       "category_2  category_3                     final_category_4\n",
       "Cats        Health Supplies                Others              630\n",
       "            Feeding & Watering Supplies    Others              566\n",
       "            Grooming                       Others              450\n",
       "            Litter & Housebreaking         Others              277\n",
       "            Cat Flaps, Steps, Nets & Pens  Others              217\n",
       "            Collars, Harnesses & Leashes   Others              193\n",
       "            Educational Repellents         Others              192\n",
       "            Carriers & Strollers           Others               88\n",
       "            Beds & Furniture               Others               83\n",
       "dtype: int64"
      ]
     },
     "execution_count": 19,
     "metadata": {},
     "output_type": "execute_result"
    }
   ],
   "source": [
    "updated_df.loc[(updated_df.category_2 == 'Cats') & (updated_df.final_category_4 == 'Others'), ['category_2', 'category_3', 'final_category_4']].value_counts()"
   ]
  },
  {
   "cell_type": "code",
   "execution_count": 30,
   "id": "b5fe6ee5",
   "metadata": {},
   "outputs": [],
   "source": [
    "updated_df2 = updated_df.drop(columns = [0])"
   ]
  },
  {
   "cell_type": "code",
   "execution_count": 31,
   "id": "56452f45",
   "metadata": {},
   "outputs": [],
   "source": [
    "updated_df2.to_csv('recategorized_dogs_cats_data.csv', index = False)"
   ]
  }
 ],
 "metadata": {
  "kernelspec": {
   "display_name": "chewy_seo",
   "language": "python",
   "name": "chewy_seo"
  },
  "language_info": {
   "codemirror_mode": {
    "name": "ipython",
    "version": 3
   },
   "file_extension": ".py",
   "mimetype": "text/x-python",
   "name": "python",
   "nbconvert_exporter": "python",
   "pygments_lexer": "ipython3",
   "version": "3.9.7"
  }
 },
 "nbformat": 4,
 "nbformat_minor": 5
}
