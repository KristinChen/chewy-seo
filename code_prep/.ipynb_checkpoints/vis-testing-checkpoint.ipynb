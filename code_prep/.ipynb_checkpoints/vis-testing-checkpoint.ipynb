{
 "cells": [
  {
   "cell_type": "code",
   "execution_count": null,
   "id": "22dd235d",
   "metadata": {},
   "outputs": [],
   "source": [
    "import nlp_viz\n",
    "import nlp_preprocess\n",
    "import pandas as pd"
   ]
  },
  {
   "cell_type": "code",
   "execution_count": null,
   "id": "1184181b",
   "metadata": {},
   "outputs": [],
   "source": [
    "df = pd.read_csv('C:/Users/Three/Downloads/recategorized_dogs_cats_data.csv')\n",
    "df.head()"
   ]
  },
  {
   "cell_type": "code",
   "execution_count": null,
   "id": "6b28341c",
   "metadata": {},
   "outputs": [],
   "source": [
    "df['reviewText']"
   ]
  },
  {
   "cell_type": "code",
   "execution_count": null,
   "id": "2b95a91f",
   "metadata": {},
   "outputs": [],
   "source": [
    "%%time\n",
    "df['review_process_'] = df['reviewText'].apply(lambda x:nlp_preprocess.remove_punct(str(x)))"
   ]
  },
  {
   "cell_type": "code",
   "execution_count": null,
   "id": "14a53bc5",
   "metadata": {
    "scrolled": false
   },
   "outputs": [],
   "source": [
    "%%time\n",
    "df['review_process_'] = df['reviewText'].apply(lambda x : nlp_preprocess.standard_preprocess(str(x)))"
   ]
  },
  {
   "cell_type": "code",
   "execution_count": null,
   "id": "f2db5884",
   "metadata": {},
   "outputs": [],
   "source": [
    "df['review_process_']"
   ]
  },
  {
   "cell_type": "code",
   "execution_count": null,
   "id": "b95b8c58",
   "metadata": {},
   "outputs": [],
   "source": [
    "nlp_viz.show_wordcloud(df['review_process_'])"
   ]
  },
  {
   "cell_type": "code",
   "execution_count": null,
   "id": "4aba9135",
   "metadata": {},
   "outputs": [],
   "source": [
    "import spacy\n",
    "from spacy import displacy\n",
    "nlp = spacy.load(\"en_core_web_sm\")\n",
    "doc = nlp(df['review_process_'][0])"
   ]
  },
  {
   "cell_type": "code",
   "execution_count": null,
   "id": "5f655811",
   "metadata": {},
   "outputs": [],
   "source": [
    "displacy.render(doc, style='ent')"
   ]
  },
  {
   "cell_type": "code",
   "execution_count": null,
   "id": "a534db27",
   "metadata": {},
   "outputs": [],
   "source": [
    "nlp_"
   ]
  },
  {
   "cell_type": "code",
   "execution_count": 20,
   "id": "8ea290c7",
   "metadata": {},
   "outputs": [],
   "source": [
    "tag_map = {\n",
    "    'NN'   : 'green',\n",
    "    'NNS'  : 'green',\n",
    "    'NNP'  : 'green',\n",
    "    'NNPS' : 'green',\n",
    "    'VB'   : 'blue',\n",
    "    'VBD'  : 'blue',\n",
    "    'VBG'  : 'blue',\n",
    "    'VBN'  : 'blue',\n",
    "    'VBP'  : 'blue',\n",
    "    'VBZ'  : 'blue',\n",
    "    'JJ'   : 'red',\n",
    "    'JJR'  : 'red',\n",
    "    'JJS'  : 'red',\n",
    "    'RB'   : 'cyan',\n",
    "    'RBR'  : 'cyan',\n",
    "    'RBS'  : 'cyan',\n",
    "    'IN'   : 'darkwhite',\n",
    "    'POS'  : 'darkyellow',\n",
    "    'PRP$' : 'magenta',\n",
    "    'PRP$' : 'magenta',\n",
    "    'DT'   : 'black',\n",
    "    'CC'   : 'black',\n",
    "    'CD'   : 'black',\n",
    "    'WDT'  : 'black',\n",
    "    'WP'   : 'black',\n",
    "    'WP$'  : 'black',\n",
    "    'WRB'  : 'black',\n",
    "    'EX'   : 'yellow',\n",
    "    'FW'   : 'yellow',\n",
    "    'LS'   : 'yellow',\n",
    "    'MD'   : 'yellow',\n",
    "    'PDT'  : 'yellow',\n",
    "    'RP'   : 'yellow',\n",
    "    'SYM'  : 'yellow',\n",
    "    'TO'   : 'yellow',\n",
    "}\n",
    "\n",
    "COLORS = {\n",
    "    'white'      : \"\\033[0;37m{}\\033[0m\",\n",
    "    'yellow'     : \"\\033[0;33m{}\\033[0m\",\n",
    "    'green'      : \"\\033[0;32m{}\\033[0m\",\n",
    "    'blue'       : \"\\033[0;34m{}\\033[0m\",\n",
    "    'cyan'       : \"\\033[0;36m{}\\033[0m\",\n",
    "    'red'        : \"\\033[0;31m{}\\033[0m\",\n",
    "    'magenta'    : \"\\033[0;35m{}\\033[0m\",\n",
    "    'black'      : \"\\033[0;30m{}\\033[0m\",\n",
    "    'darkwhite'  : \"\\033[1;37m{}\\033[0m\",\n",
    "    'darkyellow' : \"\\033[1;33m{}\\033[0m\",\n",
    "    'darkgreen'  : \"\\033[1;32m{}\\033[0m\",\n",
    "    'darkblue'   : \"\\033[1;34m{}\\033[0m\",\n",
    "    'darkcyan'   : \"\\033[1;36m{}\\033[0m\",\n",
    "    'darkred'    : \"\\033[1;31m{}\\033[0m\",\n",
    "    'darkmagenta': \"\\033[1;35m{}\\033[0m\",\n",
    "    'darkblack'  : \"\\033[1;30m{}\\033[0m\",\n",
    "    'off'        : \"\\033[0;0m{}\\033[0m\"\n",
    "}"
   ]
  },
  {
   "cell_type": "code",
   "execution_count": 21,
   "id": "88a8d138",
   "metadata": {},
   "outputs": [],
   "source": [
    "def colored(text, color=None):\n",
    "    \"\"\"\n",
    "    Colorize text\n",
    "    \"\"\"\n",
    "    if os.getenv('ANSI_COLORS_DISABLED') is None:\n",
    "        if color is not None:\n",
    "            text = COLORS[color].format(text)\n",
    "    return text"
   ]
  },
  {
   "cell_type": "code",
   "execution_count": 22,
   "id": "02f403cd",
   "metadata": {},
   "outputs": [
    {
     "name": "stdout",
     "output_type": "stream",
     "text": [
      "\u001b[1;37mIn\u001b[0m \u001b[0;30ma\u001b[0m \u001b[0;31msmall\u001b[0m \u001b[0;32msaucepan\u001b[0m , \u001b[0;32mcombine\u001b[0m \u001b[0;32msugar\u001b[0m \u001b[0;30mand\u001b[0m \u001b[0;32meggs\u001b[0m \u001b[1;37muntil\u001b[0m \u001b[0;36mwell\u001b[0m \u001b[0;34mblended\u001b[0m . \u001b[0;32mCook\u001b[0m \u001b[1;37mover\u001b[0m \u001b[0;31mlow\u001b[0m \u001b[0;32mheat\u001b[0m , \u001b[0;34mstirring\u001b[0m \u001b[0;36mconstantly\u001b[0m , \u001b[1;37muntil\u001b[0m \u001b[0;32mmixture\u001b[0m \u001b[0;34mreaches\u001b[0m \u001b[0;30m160°\u001b[0m \u001b[0;30mand\u001b[0m \u001b[0;34mcoats\u001b[0m \u001b[0;30mthe\u001b[0m \u001b[0;32mback\u001b[0m \u001b[1;37mof\u001b[0m \u001b[0;30ma\u001b[0m \u001b[0;32mmetal\u001b[0m \u001b[0;32mspoon\u001b[0m . \u001b[0;34mRemove\u001b[0m \u001b[1;37mfrom\u001b[0m \u001b[0;30mthe\u001b[0m \u001b[0;32mheat\u001b[0m . \u001b[0;32mStir\u001b[0m \u001b[1;37min\u001b[0m \u001b[0;32mchocolate\u001b[0m \u001b[0;30mand\u001b[0m \u001b[0;32mvanilla\u001b[0m \u001b[1;37muntil\u001b[0m \u001b[0;31msmooth\u001b[0m . \u001b[0;32mCool\u001b[0m \u001b[0;33mto\u001b[0m \u001b[0;34mlukewarm\u001b[0m ( \u001b[0;30m90°\u001b[0m ) , \u001b[0;34mstirring\u001b[0m \u001b[0;36moccasionally\u001b[0m . \u001b[1;37mIn\u001b[0m \u001b[0;30ma\u001b[0m \u001b[0;31msmall\u001b[0m \u001b[0;32mbowl\u001b[0m , \u001b[0;32mcream\u001b[0m \u001b[0;32mbutter\u001b[0m \u001b[1;37muntil\u001b[0m \u001b[0;31mlight\u001b[0m \u001b[0;30mand\u001b[0m \u001b[0;31mfluffy\u001b[0m . \u001b[0;32mAdd\u001b[0m \u001b[0;34mcooled\u001b[0m \u001b[0;31mchocolate\u001b[0m \u001b[0;32mmixture\u001b[0m ; \u001b[0;32mbeat\u001b[0m \u001b[1;37mon\u001b[0m \u001b[0;31mhigh\u001b[0m \u001b[0;32mspeed\u001b[0m \u001b[1;37mfor\u001b[0m \u001b[0;30m5\u001b[0m \u001b[0;32mminutes\u001b[0m \u001b[0;30mor\u001b[0m \u001b[1;37muntil\u001b[0m \u001b[0;31mlight\u001b[0m \u001b[0;30mand\u001b[0m \u001b[0;31mfluffy\u001b[0m . \u001b[1;37mIn\u001b[0m \u001b[0;30manother\u001b[0m \u001b[0;31mlarge\u001b[0m \u001b[0;32mbowl\u001b[0m , \u001b[0;31mbeat\u001b[0m \u001b[0;32mcream\u001b[0m \u001b[1;37muntil\u001b[0m it \u001b[0;34mbegins\u001b[0m \u001b[0;33mto\u001b[0m \u001b[0;34mthicken\u001b[0m . \u001b[0;32mAdd\u001b[0m \u001b[0;32mconfectioners\u001b[0m \u001b[1;33m'\u001b[0m \u001b[0;32msugar\u001b[0m ; \u001b[0;30mbeat\u001b[0m \u001b[1;37muntil\u001b[0m \u001b[0;31mstiff\u001b[0m \u001b[0;32mpeaks\u001b[0m \u001b[0;32mform\u001b[0m . \u001b[0;32mFold\u001b[0m \u001b[1;37minto\u001b[0m \u001b[0;31mchocolate\u001b[0m \u001b[0;32mmixture\u001b[0m . \u001b[0;32mPour\u001b[0m \u001b[1;37minto\u001b[0m \u001b[0;32mcrust\u001b[0m . \u001b[0;32mChill\u001b[0m \u001b[1;37mfor\u001b[0m \u001b[1;37mat\u001b[0m \u001b[0;31mleast\u001b[0m \u001b[0;30m6\u001b[0m \u001b[0;32mhours\u001b[0m \u001b[1;37mbefore\u001b[0m \u001b[0;34mserving\u001b[0m . \u001b[0;31mGarnish\u001b[0m \u001b[1;37mwith\u001b[0m \u001b[0;31mwhipped\u001b[0m \u001b[0;32mcream\u001b[0m \u001b[0;30mand\u001b[0m \u001b[0;32mchocolate\u001b[0m \u001b[0;32mcurls\u001b[0m \u001b[1;37mif\u001b[0m \u001b[0;34mdesired\u001b[0m .\n"
     ]
    }
   ],
   "source": [
    "import os\n",
    "from nltk.corpus import wordnet as wn\n",
    "from nltk import pos_tag, word_tokenize\n",
    "\n",
    "text = \"\"\"In a small saucepan, combine sugar\n",
    "          and eggs until well blended. Cook\n",
    "          over low heat, stirring constantly,\n",
    "          until mixture reaches 160° and coats\n",
    "          the back of a metal spoon. Remove\n",
    "          from the heat. Stir in chocolate and\n",
    "          vanilla until smooth. Cool to\n",
    "          lukewarm (90°), stirring occasionally.\n",
    "          In a small bowl, cream butter until\n",
    "          light and fluffy. Add cooled\n",
    "          chocolate mixture; beat on high speed\n",
    "          for 5 minutes or until light and\n",
    "          fluffy. In another large bowl, beat\n",
    "          cream until it begins to thicken. Add\n",
    "          confectioners' sugar; beat until stiff\n",
    "          peaks form. Fold into chocolate\n",
    "          mixture. Pour into crust. Chill for at\n",
    "          least 6 hours before serving. Garnish\n",
    "          with whipped cream and chocolate curls\n",
    "          if desired.\"\"\"\n",
    "\n",
    "# Tokenize the text\n",
    "tokens = word_tokenize(text)\n",
    "\n",
    "# Part of speech tag the text and map to Treebank-tagged colors\n",
    "tagged = [\n",
    "  (tag_map.get(tag),token)\n",
    "  for token, tag in pos_tag(tokens)\n",
    "]\n",
    "print(' '.join(\n",
    "  (colored(token, color)\n",
    "  for color, token in tagged)))"
   ]
  },
  {
   "cell_type": "code",
   "execution_count": null,
   "id": "42134538",
   "metadata": {},
   "outputs": [],
   "source": []
  },
  {
   "cell_type": "code",
   "execution_count": null,
   "id": "5b119519",
   "metadata": {},
   "outputs": [],
   "source": []
  },
  {
   "cell_type": "code",
   "execution_count": null,
   "id": "71dfb7e4",
   "metadata": {},
   "outputs": [],
   "source": []
  }
 ],
 "metadata": {
  "kernelspec": {
   "display_name": "Python 3 (ipykernel)",
   "language": "python",
   "name": "python3"
  },
  "language_info": {
   "codemirror_mode": {
    "name": "ipython",
    "version": 3
   },
   "file_extension": ".py",
   "mimetype": "text/x-python",
   "name": "python",
   "nbconvert_exporter": "python",
   "pygments_lexer": "ipython3",
   "version": "3.9.7"
  }
 },
 "nbformat": 4,
 "nbformat_minor": 5
}
