{
 "cells": [
  {
   "cell_type": "markdown",
   "id": "42d8e864",
   "metadata": {},
   "source": [
    "# read data "
   ]
  },
  {
   "cell_type": "code",
   "execution_count": 3,
   "id": "669c0390",
   "metadata": {},
   "outputs": [],
   "source": [
    "#merged_df.loc[(merged_df.category_2 == 'Dogs') | (merged_df.category_2 == 'Cats')].reset_index(drop = True).to_csv('dogs_cats_data.csv', index = False)"
   ]
  },
  {
   "cell_type": "code",
   "execution_count": 121,
   "id": "7a2456b5",
   "metadata": {},
   "outputs": [],
   "source": [
    "%matplotlib inline\n",
    "import random\n",
    "random.seed(1234)\n",
    "\n",
    "import pandas as pd\n",
    "import gzip\n",
    "# Gensim\n",
    "import gensim\n",
    "import gensim.corpora as corpora\n",
    "from gensim.utils import simple_preprocess\n",
    "from gensim.models import CoherenceModel\n",
    "# import nltk\n",
    "# nltk.download('wordnet')\n",
    "from nltk.corpus import stopwords\n",
    "from nltk.stem.wordnet import WordNetLemmatizer\n",
    "import string\n",
    "import spacy\n",
    "import matplotlib.pyplot as plt\n",
    "import pyLDAvis #python library for interactive topic model visualization\n",
    "import pyLDAvis.gensim_models\n",
    "pyLDAvis.enable_notebook()\n",
    "spacy.prefer_gpu()\n",
    "nlp = spacy.load(\"en_core_web_sm\")\n",
    "# import logging\n",
    "# logging.basicConfig(format='%(asctime)s : %(levelname)s : %(message)s', level=logging.ERROR)\n",
    "\n",
    "# import warnings\n",
    "# warnings.filterwarnings(\"ignore\",category=DeprecationWarning)\n",
    "\n",
    "import pickle\n",
    "import numpy as np\n",
    "\n",
    "# Sklearn\n",
    "from sklearn.decomposition import LatentDirichletAllocation, TruncatedSVD\n",
    "from sklearn.feature_extraction.text import CountVectorizer, TfidfVectorizer\n",
    "from sklearn.model_selection import GridSearchCV\n",
    "from pprint import pprint\n",
    "\n",
    "# Plotting tools\n",
    "# import pyLDAvis\n",
    "# import pyLDAvis.sklearn\n",
    "# import matplotlib.pyplot as plt\n",
    "%matplotlib inline\n",
    "\n",
    "from tqdm.notebook import tqdm as tqdm\n",
    "tqdm.pandas()\n",
    "\n",
    "# Example for detecting bigrams \n",
    "import math\n",
    "import nltk\n",
    "from collections import defaultdict\n",
    "\n",
    "nlp = spacy.load(\"en_core_web_sm\", disable=['parser', 'ner'])\n",
    "from nltk.probability import FreqDist\n",
    "\n",
    "from gensim.models.ldamulticore import LdaMulticore"
   ]
  },
  {
   "cell_type": "code",
   "execution_count": 2,
   "id": "739791dd",
   "metadata": {},
   "outputs": [],
   "source": [
    "df = pd.read_csv('recategorized_dogs_cats_data.csv', index_col = False)"
   ]
  },
  {
   "cell_type": "code",
   "execution_count": 3,
   "id": "15245ac7",
   "metadata": {
    "scrolled": true
   },
   "outputs": [
    {
     "data": {
      "text/plain": [
       "category_3                     final_category_4         \n",
       "Food                           Wet                          3955\n",
       "Beds & Furniture               Beds & Sofas                 2366\n",
       "Toys                           Catnip Toys                  2268\n",
       "Litter & Housebreaking         Litter Boxes                 2257\n",
       "Toys                           Mice & Animal Toys           2091\n",
       "Food                           Dry                          1961\n",
       "Treats                         Snacks                       1578\n",
       "Health Supplies                Relaxants                    1432\n",
       "Litter & Housebreaking         Litter                       1242\n",
       "Beds & Furniture               Activity Trees               1213\n",
       "Toys                           Feather Toys                 1140\n",
       "Beds & Furniture               Scratching Pads              1075\n",
       "Health Supplies                Supplements & Vitamins       1072\n",
       "                               Flea, Lice & Tick Control     708\n",
       "Toys                           Balls                         646\n",
       "Health Supplies                Others                        630\n",
       "Beds & Furniture               Scratching Posts              582\n",
       "Treats                         Catnip                        578\n",
       "Feeding & Watering Supplies    Others                        566\n",
       "Litter & Housebreaking         Litter Scoops                 532\n",
       "Feeding & Watering Supplies    Fountains                     527\n",
       "Beds & Furniture               Cat Houses & Condos           515\n",
       "Toys                           Laser Toys                    511\n",
       "Grooming                       Others                        450\n",
       "Litter & Housebreaking         Odor & Stain Removers         368\n",
       "Health Supplies                Dental Care                   363\n",
       "Grooming                       Claw Care                     343\n",
       "                               Brushes                       341\n",
       "Litter & Housebreaking         Others                        277\n",
       "Cat Flaps, Steps, Nets & Pens  Others                        217\n",
       "Collars, Harnesses & Leashes   Others                        193\n",
       "Educational Repellents         Others                        192\n",
       "Carriers & Strollers           Others                         88\n",
       "Beds & Furniture               Others                         83\n",
       "dtype: int64"
      ]
     },
     "execution_count": 3,
     "metadata": {},
     "output_type": "execute_result"
    }
   ],
   "source": [
    "df.loc[df.category_2 == 'Cats', ['category_3', 'final_category_4']].value_counts()"
   ]
  },
  {
   "cell_type": "code",
   "execution_count": 4,
   "id": "4ad73d06",
   "metadata": {},
   "outputs": [],
   "source": [
    "df1 = df.loc[(df.category_2 == 'Cats') & (df.category_3 == 'Food') & (df.final_category_4 == 'Wet')].reset_index(drop = True) \n",
    "df2 = df.loc[(df.category_2 == 'Cats') & (df.category_3 == 'Food') & (df.final_category_4 == 'Dry')].reset_index(drop = True)  #freshness\n",
    "\n",
    "df3 = df.loc[(df.category_2 == 'Cats') & (df.category_3 == 'Beds & Furniture') & (df.final_category_4 == 'Beds & Sofas')]\n",
    "df4 = df.loc[(df.category_2 == 'Cats') & (df.category_3 == 'Beds & Furniture') & (df.final_category_4 == 'Activity Trees')]\n",
    "df5 = df.loc[(df.category_2 == 'Cats') & (df.category_3 == 'Beds & Furniture') & (df.final_category_4 == 'Scratching Pads')]\n",
    "\n",
    "df6 = df.loc[(df.category_2 == 'Cats') & (df.category_3 == 'Litter & Housebreaking') & (df.final_category_4 == 'Litter')]\n",
    "df7 = df.loc[(df.category_2 == 'Cats') & (df.category_3 == 'Litter & Housebreaking') & (df.final_category_4 == 'Litter Boxes')]\n",
    "\n",
    "df8 = df.loc[(df.category_2 == 'Cats') & (df.category_3 == 'Toys') & (df.final_category_4 == 'Mice & Animal Toys')]\n",
    "df9 = df.loc[(df.category_2 == 'Cats') & (df.category_3 == 'Toys') & (df.final_category_4 == 'Catnip Toys')]\n",
    "df10 = df.loc[(df.category_2 == 'Cats') & (df.category_3 == 'Toys') & (df.final_category_4 == 'Feather Toys')]\n",
    "\n",
    "df11 = df.loc[(df.category_2 == 'Cats') & (df.category_3 == 'Treats') & (df.final_category_4 == 'Snacks')]\n",
    "df12 = df.loc[(df.category_2 == 'Cats') & (df.category_3 == 'Treats') & (df.final_category_4 == 'Snacks')]\n",
    "\n",
    "df13 = df.loc[(df.category_2 == 'Cats') & (df.category_3 == 'Health Supplies') & (df.final_category_4 == 'Relaxants')]\n",
    "df14 = df.loc[(df.category_2 == 'Cats') & (df.category_3 == 'Health Supplies') & (df.final_category_4 == 'Supplements & Vitamins')]"
   ]
  },
  {
   "cell_type": "markdown",
   "id": "4f9ee3a9",
   "metadata": {},
   "source": [
    "# Explore methodologies to prepare data"
   ]
  },
  {
   "cell_type": "markdown",
   "id": "6a94362f",
   "metadata": {},
   "source": [
    "Methodologies:\n",
    "- decide on which level of categories we wanna build topic modeling based on token frequencies (level 3 **check**)\n",
    "- decide preprocess pipeline before feeding into ngram parser:\n",
    "    - tokenize + punct removal + ngram \n",
    "    - tokenize + punct removal + ngram + lemmatize \n",
    "    - tokenize + punct removal + ngram + stopwords removal + lemmatize (**check**)\n",
    "\n",
    "- compare ngram parser between `gensim.models.phrases` vs.s `nltk.collocations` (**check**)\n",
    "    - `gensim` measure metrics: relative frequency. \n",
    "        - `gensim` parameter: `min_count`=5, `threshold=10`. `Threshold` = _(cnt(a, b) - min_count) * N / (cnt(a) * cnt(b))_\n",
    "    - `nltk.collocations` measure metrics: pmi (**check**) or `raw_freq` (pmi/Pointwise Mutual Information: quantifies the discrepancy between the probability of their coincidence given their joint distribution and their individual distributions). \n",
    "    \n",
    "- decide to keep certain tokens after pos tagging\n",
    "    - ngram: adjective + noun (**check**)\n",
    "    - unigram: adjective, noun, adverb, verb (**check**)"
   ]
  },
  {
   "cell_type": "markdown",
   "id": "31ea75ef",
   "metadata": {},
   "source": [
    "## level of category: compare between cat wet food v.s. cat dry food"
   ]
  },
  {
   "cell_type": "code",
   "execution_count": 142,
   "id": "40ecd85d",
   "metadata": {},
   "outputs": [],
   "source": [
    "reviews = df1.reviewText\n",
    "reviews = df2.reviewText"
   ]
  },
  {
   "cell_type": "markdown",
   "id": "cc27517b",
   "metadata": {},
   "source": [
    "## GENSIM.simple_preprocess(); gensim.models.phrases.Phraser(ngram)"
   ]
  },
  {
   "cell_type": "code",
   "execution_count": 209,
   "id": "377a9b1b",
   "metadata": {},
   "outputs": [
    {
     "data": {
      "application/vnd.jupyter.widget-view+json": {
       "model_id": "427cee74c3154a52aa2ecff1d443a24e",
       "version_major": 2,
       "version_minor": 0
      },
      "text/plain": [
       "  0%|          | 0/3955 [00:00<?, ?it/s]"
      ]
     },
     "metadata": {},
     "output_type": "display_data"
    },
    {
     "data": {
      "application/vnd.jupyter.widget-view+json": {
       "model_id": "ff19486d52f1495f97db627c302982a3",
       "version_major": 2,
       "version_minor": 0
      },
      "text/plain": [
       "  0%|          | 0/3955 [00:00<?, ?it/s]"
      ]
     },
     "metadata": {},
     "output_type": "display_data"
    },
    {
     "data": {
      "application/vnd.jupyter.widget-view+json": {
       "model_id": "f1ba29cec1f74c1cbd8aab36e12c8fc1",
       "version_major": 2,
       "version_minor": 0
      },
      "text/plain": [
       "  0%|          | 0/3955 [00:00<?, ?it/s]"
      ]
     },
     "metadata": {},
     "output_type": "display_data"
    },
    {
     "data": {
      "application/vnd.jupyter.widget-view+json": {
       "model_id": "fb500ad63bff4c37a51fb334594b8fb7",
       "version_major": 2,
       "version_minor": 0
      },
      "text/plain": [
       "  0%|          | 0/3955 [00:00<?, ?it/s]"
      ]
     },
     "metadata": {},
     "output_type": "display_data"
    },
    {
     "data": {
      "application/vnd.jupyter.widget-view+json": {
       "model_id": "b99f3c9bf6584130aa9187cdea2751de",
       "version_major": 2,
       "version_minor": 0
      },
      "text/plain": [
       "  0%|          | 0/3955 [00:00<?, ?it/s]"
      ]
     },
     "metadata": {},
     "output_type": "display_data"
    }
   ],
   "source": [
    "def sent_to_words(sentences):\n",
    "    '''\n",
    "    Simplify and tokenize strings in an iterable.\n",
    "    \n",
    "            Parameters:\n",
    "                    sentences (iterable): Review strings in a list or as a pandas.series.\n",
    "                    \n",
    "            Returns:\n",
    "                    _ (generator): Simplify review tokens.  \n",
    "    '''\n",
    "    for sentence in sentences:\n",
    "        yield(gensim.utils.simple_preprocess(str(sentence), deacc=True))  # deacc=True removes punctuations\n",
    "\n",
    "def remove_stopwords(texts):\n",
    "    '''\n",
    "    Remove stopwords in an iterable (string or tokens).\n",
    "\n",
    "        Parameters:\n",
    "                texts (iterable): Review strings in a list or as a pandas.series.\n",
    "\n",
    "        Returns:\n",
    "                _ (list): Simplify review stirngs without stopwords.  \n",
    "    '''\n",
    "    stop_words = stopwords.words('english')\n",
    "    return [[word for word in simple_preprocess(str(doc), deacc=True) if word not in stop_words] for doc in texts]\n",
    "\n",
    "def make_bigrams(texts):\n",
    "    '''\n",
    "    Form bigrams.\n",
    "    \n",
    "        Parameters:\n",
    "            texts (iterable): Review tokens in a list or as a pandas.series.\n",
    "\n",
    "        Returns:\n",
    "            _ (list): strings contain bigrams in a_b format.   \n",
    "    '''\n",
    "    bigram = gensim.models.Phrases(texts, min_count=5, threshold=10) #train based on corpus\n",
    "    bigram_mod = gensim.models.phrases.Phraser(bigram)\n",
    "    return [bigram_mod[doc] for doc in texts]\n",
    "\n",
    "def make_trigrams(texts):\n",
    "    '''\n",
    "    Form trigrams.\n",
    "    \n",
    "        Parameters:\n",
    "            texts (iterable): Review tokens in a list or as a pandas.series.\n",
    "\n",
    "        Returns:\n",
    "            _ (list): strings contain trigrams in a_b_c format.   \n",
    "    '''\n",
    "    trigram = gensim.models.Phrases(bigram[data_words], threshold=10) #train based on corpus  \n",
    "    bigram_mod = gensim.models.phrases.Phraser(bigram)\n",
    "    return [trigram_mod[bigram_mod[doc]] for doc in texts]\n",
    "\n",
    "def lemmatization(texts, allowed_postags=['NOUN', 'ADJ', 'VERB', 'ADV']):\n",
    "    nlp = spacy.load(\"en_core_web_sm\", disable=['parser', 'ner'])\n",
    "    texts_out = []\n",
    "    for sent in texts:\n",
    "        doc = nlp(\" \".join(sent))  \n",
    "        if len(allowed_postags) > 0: \n",
    "            texts_out.append([token.lemma_ for token in doc if token.pos_ in allowed_postags])\n",
    "        else: \n",
    "            texts_out.append([token.lemma_ for token in doc])\n",
    "    return texts_out\n",
    "\n",
    "data_words = list(sent_to_words(tqdm(reviews.tolist())))\n",
    "data_words_nostops = remove_stopwords(tqdm(data_words))\n",
    "data_words_bigrams = make_bigrams(tqdm(data_words_nostops))\n",
    "unigrams_lemmatized = lemmatization(tqdm(data_words_nostops), allowed_postags=['NOUN','ADJ', 'VERB', 'ADV'])\n",
    "bigrams_lemmatized = lemmatization(tqdm(data_words_bigrams), allowed_postags=['NOUN','ADJ', 'VERB', 'ADV'])"
   ]
  },
  {
   "cell_type": "markdown",
   "id": "b05aa1cd",
   "metadata": {},
   "source": [
    "## GENSIM: take one review as an example"
   ]
  },
  {
   "cell_type": "code",
   "execution_count": 211,
   "id": "279e2dab",
   "metadata": {},
   "outputs": [
    {
     "data": {
      "text/plain": [
       "'9 Lives Cat Food is one Meal my Cats really like and enjoy eating It. Daily Essentials Real Flaked Tuna in Sauce, one of the many Flavors that is Good for them and I get it Locally. 100% Completed and Balanced Nutrition with all kinds of Vitamins and Nutrients all supposed to be Good for Cats. I can get several Meals out of each Can of Food, my Cats are a little Finicky so I have to try different Flavors and Brands all the time. They enjoy eating it maybe twice a week, they don\\'t eat a lot at one time, they are Nibblers and prefer to eat many little Meals. I have tried to give them other more expensive Cat Food from Popular \"Specialty Pet Shops\" or other \"Food Boutiques\" for Pets, however, they don\\'t want any of that, they Crave and like eating 9 Lives. I am Glad there are such Diversity of Flavors to make my Cats Happy and to choose from. I even Feed 9 Lives to several Cats outside and they Love It! ...Thank You D.D.'"
      ]
     },
     "execution_count": 211,
     "metadata": {},
     "output_type": "execute_result"
    }
   ],
   "source": [
    "reviews[714] "
   ]
  },
  {
   "cell_type": "code",
   "execution_count": 259,
   "id": "0ef7ff4c",
   "metadata": {},
   "outputs": [
    {
     "data": {
      "text/plain": [
       "['lives cat food is one meal my cats really like and enjoy eating it daily essentials real flaked tuna in sauce one of the many flavors that is good for them and get it locally completed and balanced nutrition with all kinds of vitamins and nutrients all supposed to be good for cats can get several meals out of each can of food my cats are little finicky so have to try different flavors and brands all the time they enjoy eating it maybe twice week they don eat lot at one time they are nibblers and prefer to eat many little meals have tried to give them other more expensive cat food from popular specialty pet shops or other food boutiques for pets however they don want any of that they crave and like eating lives am glad there are such diversity of flavors to make my cats happy and to choose from even feed lives to several cats outside and they love it thank you']"
      ]
     },
     "execution_count": 259,
     "metadata": {},
     "output_type": "execute_result"
    }
   ],
   "source": [
    "[\" \".join(data_words[714])] "
   ]
  },
  {
   "cell_type": "code",
   "execution_count": 258,
   "id": "54247616",
   "metadata": {},
   "outputs": [
    {
     "data": {
      "text/plain": [
       "['lives cat food one meal cats really like enjoy eating daily essentials real flaked tuna sauce one many flavors good get locally completed balanced nutrition kinds vitamins nutrients supposed good cats get several meals food cats little finicky try different flavors brands time enjoy eating maybe twice week eat lot one time nibblers prefer eat many little meals tried give expensive cat food popular specialty pet shops food boutiques pets however want crave like eating lives glad diversity flavors make cats happy choose even feed lives several cats outside love thank']"
      ]
     },
     "execution_count": 258,
     "metadata": {},
     "output_type": "execute_result"
    }
   ],
   "source": [
    "[\" \".join(data_words_nostops[714])] "
   ]
  },
  {
   "cell_type": "code",
   "execution_count": 257,
   "id": "538d42d0",
   "metadata": {},
   "outputs": [
    {
     "data": {
      "text/plain": [
       "['lives cat food one meal cats really like enjoy_eating daily essentials real flaked_tuna sauce one many_flavors good get_locally completed_balanced nutrition kinds_vitamins nutrients_supposed good cats get several_meals food cats little_finicky try_different flavors brands time enjoy_eating maybe twice_week eat lot one time_nibblers prefer eat many little_meals tried_give expensive cat food popular_specialty pet_shops food_boutiques pets_however want_crave like eating lives glad_diversity flavors_make cats happy_choose even feed lives several cats outside_love thank']"
      ]
     },
     "execution_count": 257,
     "metadata": {},
     "output_type": "execute_result"
    }
   ],
   "source": [
    "[\" \".join(data_words_bigrams[714])] #enjoy_eate?  completed_balanced? "
   ]
  },
  {
   "cell_type": "code",
   "execution_count": 260,
   "id": "daf48b69",
   "metadata": {},
   "outputs": [],
   "source": [
    "# doc = nlp(\" \".join(data_words_bigrams[714]))  \n",
    "\n",
    "# for token in doc: \n",
    "#     print(token.text, token.pos_, token.lemma_) #['NOUN','ADJ', 'VERB', 'ADV'] #and no PROUN "
   ]
  },
  {
   "cell_type": "code",
   "execution_count": 256,
   "id": "55c2c0a5",
   "metadata": {},
   "outputs": [
    {
     "data": {
      "text/plain": [
       "['live cat food meal cat really enjoy eat daily essential real flaked tuna sauce many flavor good get locally complete balanced nutrition kind vitamin nutrient suppose good cat get several meal food cat little finicky try different flavor brand time enjoy eat maybe twice week eat lot time nibbler prefer eat many little meal try give expensive cat food popular specialty pet shop food boutique pet however want crave eat life glad diversity flavor make cat happy choose even feed life several cat love thank']"
      ]
     },
     "execution_count": 256,
     "metadata": {},
     "output_type": "execute_result"
    }
   ],
   "source": [
    "[\" \".join(unigrams_lemmatized[714])] #enjoy_eate?  completed_balanced? "
   ]
  },
  {
   "cell_type": "code",
   "execution_count": 255,
   "id": "84ea8e32",
   "metadata": {},
   "outputs": [
    {
     "data": {
      "text/plain": [
       "['live cat food meal cat really enjoy_eate daily essential real sauce many_flavor good get_locally completed_balanced nutrition kinds_vitamin nutrients_supposed good cat get food cat try_different flavor brand time enjoy_eate maybe twice_week eat lot time_nibbler prefer eat many little_meal tried_give expensive cat food popular_specialty pet_shop food_boutique want_crave eat life glad_diversity cat even feed life several cat thank']"
      ]
     },
     "execution_count": 255,
     "metadata": {},
     "output_type": "execute_result"
    }
   ],
   "source": [
    "[\" \".join(bigrams_lemmatized[714])] #enjoy_eate?  completed_balanced? "
   ]
  },
  {
   "cell_type": "markdown",
   "id": "63f66078",
   "metadata": {},
   "source": [
    "## NLTK.collocations"
   ]
  },
  {
   "cell_type": "code",
   "execution_count": 143,
   "id": "efa5d735",
   "metadata": {},
   "outputs": [
    {
     "data": {
      "application/vnd.jupyter.widget-view+json": {
       "model_id": "4c0594019e7b46c094815157b0f52ce7",
       "version_major": 2,
       "version_minor": 0
      },
      "text/plain": [
       "  0%|          | 0/5999 [00:00<?, ?it/s]"
      ]
     },
     "metadata": {},
     "output_type": "display_data"
    },
    {
     "data": {
      "application/vnd.jupyter.widget-view+json": {
       "model_id": "4e5f5159f6524f41bfe5e56d3c1f6c94",
       "version_major": 2,
       "version_minor": 0
      },
      "text/plain": [
       "  0%|          | 0/5999 [00:00<?, ?it/s]"
      ]
     },
     "metadata": {},
     "output_type": "display_data"
    },
    {
     "data": {
      "application/vnd.jupyter.widget-view+json": {
       "model_id": "5f1e506499bb46c3bce17ec4599119ae",
       "version_major": 2,
       "version_minor": 0
      },
      "text/plain": [
       "  0%|          | 0/5999 [00:00<?, ?it/s]"
      ]
     },
     "metadata": {},
     "output_type": "display_data"
    },
    {
     "data": {
      "application/vnd.jupyter.widget-view+json": {
       "model_id": "3a9dedca6cb94a2990cce0fdaf7a50ac",
       "version_major": 2,
       "version_minor": 0
      },
      "text/plain": [
       "  0%|          | 0/3561 [00:00<?, ?it/s]"
      ]
     },
     "metadata": {},
     "output_type": "display_data"
    },
    {
     "data": {
      "application/vnd.jupyter.widget-view+json": {
       "model_id": "7bf2cec7d47b44dd8502acae6b723df8",
       "version_major": 2,
       "version_minor": 0
      },
      "text/plain": [
       "  0%|          | 0/1195 [00:00<?, ?it/s]"
      ]
     },
     "metadata": {},
     "output_type": "display_data"
    },
    {
     "data": {
      "application/vnd.jupyter.widget-view+json": {
       "model_id": "052071ee47dc435a80f58d2c3df1b2bd",
       "version_major": 2,
       "version_minor": 0
      },
      "text/plain": [
       "  0%|          | 0/5999 [00:00<?, ?it/s]"
      ]
     },
     "metadata": {},
     "output_type": "display_data"
    },
    {
     "data": {
      "application/vnd.jupyter.widget-view+json": {
       "model_id": "6bb1fe55c76c4eb4a31905590ca569c8",
       "version_major": 2,
       "version_minor": 0
      },
      "text/plain": [
       "  0%|          | 0/5999 [00:00<?, ?it/s]"
      ]
     },
     "metadata": {},
     "output_type": "display_data"
    }
   ],
   "source": [
    "def sent_to_words(sentences):\n",
    "    '''\n",
    "    Simplify and tokenize strings in an iterable.\n",
    "    \n",
    "            Parameters:\n",
    "                    sentences (iterable): Review strings in a list or as a pandas.series.\n",
    "                    \n",
    "            Returns:\n",
    "                    _ (generator): Simplify review tokens.  \n",
    "    '''\n",
    "    for sentence in sentences:\n",
    "        yield(gensim.utils.simple_preprocess(str(sentence), deacc=True))  # deacc=True removes punctuations\n",
    "\n",
    "def get_bigrams(data_words): \n",
    "    '''\n",
    "    Form bigram.\n",
    "    \n",
    "        Parameters:\n",
    "            data_words (iterable): Review tokens in a list or as a pandas.series.\n",
    "\n",
    "        Returns:\n",
    "           bigram_pmi (data frame): bigram and it's pmi score. \n",
    "    '''\n",
    "    bigram_measures = nltk.collocations.BigramAssocMeasures()\n",
    "    finder = nltk.collocations.BigramCollocationFinder.from_documents(data_words) #data_words_nostops\n",
    "    finder.apply_freq_filter(20)\n",
    "    bigram_scores = finder.score_ngrams(bigram_measures.pmi) \n",
    "    bigram_pmi = pd.DataFrame(bigram_scores)\n",
    "    bigram_pmi.columns = ['bigram', 'pmi']\n",
    "    bigram_pmi.sort_values(by='pmi', axis = 0, ascending = False, inplace = True)\n",
    "    return finder, bigram_measures, bigram_pmi\n",
    "\n",
    "def bigram_filter(bigram):\n",
    "    \"\"\"\n",
    "    Filter bigram. \n",
    "        \n",
    "        Parameters:\n",
    "            bigram (string): a bigram.\n",
    "\n",
    "        Returns:\n",
    "           _ (boolean): decide whether or not to keep the bigram.\n",
    "    \"\"\"\n",
    "    stop_words = stopwords.words('english')   \n",
    "    tag = nltk.pos_tag(bigram)\n",
    "    #if tag[0][1] not in ['JJ', 'NN', 'NNS'] and tag[1][1] not in ['NN', 'NNS']: #we only want adjective + noun\n",
    "    if tag[0][1] not in ['JJ', 'NN'] and tag[1][1] not in ['NN']: #we only want adjective + noun\n",
    "        return False\n",
    "    if bigram[0] in stop_words or bigram[1] in stop_words: \n",
    "        return False\n",
    "    if 'n' in bigram or 't' in bigram:\n",
    "        return False\n",
    "    if 'PRON' in bigram: #we don't want pronoun\n",
    "        return False\n",
    "    if len(bigram[0]) <= 2 or len(bigram[1]) <= 2:\n",
    "        return False\n",
    "    return True\n",
    "\n",
    "def get_trigrams(data_words): \n",
    "    trigram_measures = nltk.collocations.TrigramAssocMeasures()\n",
    "    finder = nltk.collocations.TrigramCollocationFinder.from_documents(data_words) #data_words_nostops\n",
    "    finder.apply_freq_filter(20)\n",
    "    trigram_scores = finder.score_ngrams(trigram_measures.pmi)\n",
    "\n",
    "    trigram_pmi = pd.DataFrame(trigram_scores)\n",
    "    trigram_pmi.columns = ['trigram', 'pmi']\n",
    "    trigram_pmi.sort_values(by='pmi', axis = 0, ascending = False, inplace = True)\n",
    "    return finder, trigram_measures, trigram_pmi\n",
    "\n",
    "def trigram_filter(trigram):\n",
    "    tag = nltk.pos_tag(trigram)\n",
    "    stop_words = stopwords.words('english')\n",
    "    #if tag[0][1] not in ['JJ', 'NN', 'NNS'] and tag[1][1] not in ['NN', 'NNS']: #we only want adjective + noun\n",
    "    if tag[0][1] not in ['JJ', 'NN'] and tag[1][1] not in ['JJ','NN']:\n",
    "        return False\n",
    "    if trigram[0] in stop_words or trigram[-1] in stop_words or trigram[1] in stop_words:\n",
    "        return False\n",
    "    if 'n' in trigram or 't' in trigram:\n",
    "        return False\n",
    "    if 'PRON' in trigram:\n",
    "        return False\n",
    "    if len(trigram[0]) <= 2 or len(trigram[1]) <= 2 and len(trigram[2]) <= 2:\n",
    "        return False\n",
    "    return True \n",
    "\n",
    "def replace_ngram(x, bigrams, trigrams):\n",
    "    '''\n",
    "    Form ngram. \n",
    "        \n",
    "        Parameters:\n",
    "            bigram (string): a bigram.\n",
    "\n",
    "        Returns:\n",
    "           _ (boolean): decide whether or not to keep the bigram.\n",
    "    '''\n",
    "    for gram in trigrams:\n",
    "        x = x.replace(gram, '_'.join(gram.split()))\n",
    "    for gram in bigrams:\n",
    "        x = x.replace(gram, '_'.join(gram.split()))\n",
    "    return x\n",
    "\n",
    "def remove_stopwords(texts, extra_stopwords = []):\n",
    "    '''\n",
    "    Remove stopwords in an iterable (string or tokens).\n",
    "\n",
    "        Parameters:\n",
    "                texts (iterable): Review strings in a list or as a pandas.series.\n",
    "\n",
    "        Returns:\n",
    "                _ (list): Simplify review stirngs without stopwords.  \n",
    "    '''\n",
    "    stop_words = stopwords.words('english') + extra_stopwords\n",
    "    return [[word for word in doc.split() if word not in stop_words] for doc in texts]\n",
    "\n",
    "def lemmatize_skip_ngrams(texts, allowed_postags=['NOUN', 'ADJ', 'VERB', 'ADV']):\n",
    "    '''feed tokens'''\n",
    "    nlp = spacy.load(\"en_core_web_sm\", disable=['parser', 'ner'])\n",
    "    texts_out = []\n",
    "    for sent in texts:\n",
    "        doc = nlp(' '.join(sent)) \n",
    "        if len(allowed_postags) > 0: \n",
    "            returned_doc = []\n",
    "            for token in doc:\n",
    "                if '_' in token.text:\n",
    "                    returned_token = token.text\n",
    "                if token.pos_ in allowed_postags and '_' not in token.text:\n",
    "                    returned_token = token.lemma_\n",
    "                if token.pos_ not in allowed_postags and '_' not in token.text:\n",
    "                    continue\n",
    "                returned_doc.append(returned_token)\n",
    "            texts_out.append(returned_doc)\n",
    "                    \n",
    "        else: \n",
    "            returned_doc = []\n",
    "            for token in doc:\n",
    "                if '_' in token.text:\n",
    "                    returned_token = token.text\n",
    "                else: \n",
    "                    returned_token = token.lemma_\n",
    "                returned_doc.append(returned_token)\n",
    "            texts_out.append(returned_doc)\n",
    "    return texts_out\n",
    "\n",
    "data_words = list(sent_to_words(tqdm(reviews.tolist())))\n",
    "bigram_finder, bigram_measures, bigram_pmi = get_bigrams(tqdm(data_words))\n",
    "trigram_finder, trigram_measures, trigram_pmi = get_trigrams(tqdm(data_words))\n",
    "filtered_bigram = bigram_pmi[bigram_pmi.progress_apply(lambda bigram:\\\n",
    "                                              bigram_filter(bigram['bigram'])\\\n",
    "                                              and bigram.pmi > 5, axis = 1)][:500]\n",
    "\n",
    "filtered_trigram = trigram_pmi[trigram_pmi.progress_apply(lambda trigram: \\\n",
    "                                                 trigram_filter(trigram['trigram'])\\\n",
    "                                                 and trigram.pmi > 5, axis = 1)][:500]\n",
    "bigrams = [' '.join(x) for x in filtered_bigram.bigram.values]\n",
    "trigrams = [' '.join(x) for x in filtered_trigram.trigram.values]\n",
    "reviews_ngrams = pd.DataFrame([' '.join(sen) for sen in data_words], columns = ['reviewText'])\n",
    "reviews_ngrams.reviewText = reviews_ngrams.reviewText.map(lambda x: replace_ngram(x, bigrams, trigrams))\n",
    "cleaned_reviews_ngrams = remove_stopwords(tqdm(reviews_ngrams.reviewText))\n",
    "lemmatized_reviews_ngrams = lemmatize_skip_ngrams(tqdm(cleaned_reviews_ngrams), allowed_postags = [])"
   ]
  },
  {
   "cell_type": "code",
   "execution_count": 144,
   "id": "fe115c2a",
   "metadata": {},
   "outputs": [
    {
     "data": {
      "application/vnd.jupyter.widget-view+json": {
       "model_id": "d3338d0de2c64ea180b64560caa5eb13",
       "version_major": 2,
       "version_minor": 0
      },
      "text/plain": [
       "  0%|          | 0/5999 [00:00<?, ?it/s]"
      ]
     },
     "metadata": {},
     "output_type": "display_data"
    }
   ],
   "source": [
    "lemmatized_reviews_ngrams2 = lemmatize_skip_ngrams(tqdm(cleaned_reviews_ngrams), allowed_postags = ['NOUN', 'ADJ', 'VERB', 'ADV'])"
   ]
  },
  {
   "cell_type": "code",
   "execution_count": 34,
   "id": "df276fe5",
   "metadata": {},
   "outputs": [
    {
     "data": {
      "text/html": [
       "<div>\n",
       "<style scoped>\n",
       "    .dataframe tbody tr th:only-of-type {\n",
       "        vertical-align: middle;\n",
       "    }\n",
       "\n",
       "    .dataframe tbody tr th {\n",
       "        vertical-align: top;\n",
       "    }\n",
       "\n",
       "    .dataframe thead th {\n",
       "        text-align: right;\n",
       "    }\n",
       "</style>\n",
       "<table border=\"1\" class=\"dataframe\">\n",
       "  <thead>\n",
       "    <tr style=\"text-align: right;\">\n",
       "      <th></th>\n",
       "      <th>bigram</th>\n",
       "      <th>pmi</th>\n",
       "    </tr>\n",
       "  </thead>\n",
       "  <tbody>\n",
       "    <tr>\n",
       "      <th>0</th>\n",
       "      <td>(royal, canin)</td>\n",
       "      <td>12.546719</td>\n",
       "    </tr>\n",
       "    <tr>\n",
       "      <th>1</th>\n",
       "      <td>(pro, plan)</td>\n",
       "      <td>11.743186</td>\n",
       "    </tr>\n",
       "    <tr>\n",
       "      <th>2</th>\n",
       "      <td>(fancy, feast)</td>\n",
       "      <td>11.743186</td>\n",
       "    </tr>\n",
       "    <tr>\n",
       "      <th>3</th>\n",
       "      <td>(urinary, tract)</td>\n",
       "      <td>11.023967</td>\n",
       "    </tr>\n",
       "    <tr>\n",
       "      <th>4</th>\n",
       "      <td>(brown, rice)</td>\n",
       "      <td>10.963776</td>\n",
       "    </tr>\n",
       "    <tr>\n",
       "      <th>5</th>\n",
       "      <td>(vitamin, supplement)</td>\n",
       "      <td>10.421220</td>\n",
       "    </tr>\n",
       "    <tr>\n",
       "      <th>6</th>\n",
       "      <td>(nature, variety)</td>\n",
       "      <td>10.177776</td>\n",
       "    </tr>\n",
       "    <tr>\n",
       "      <th>7</th>\n",
       "      <td>(ocean, fish)</td>\n",
       "      <td>10.045432</td>\n",
       "    </tr>\n",
       "    <tr>\n",
       "      <th>8</th>\n",
       "      <td>(ideal, balance)</td>\n",
       "      <td>10.008215</td>\n",
       "    </tr>\n",
       "    <tr>\n",
       "      <th>9</th>\n",
       "      <td>(picky, eaters)</td>\n",
       "      <td>9.806244</td>\n",
       "    </tr>\n",
       "  </tbody>\n",
       "</table>\n",
       "</div>"
      ],
      "text/plain": [
       "                  bigram        pmi\n",
       "0         (royal, canin)  12.546719\n",
       "1            (pro, plan)  11.743186\n",
       "2         (fancy, feast)  11.743186\n",
       "3       (urinary, tract)  11.023967\n",
       "4          (brown, rice)  10.963776\n",
       "5  (vitamin, supplement)  10.421220\n",
       "6      (nature, variety)  10.177776\n",
       "7          (ocean, fish)  10.045432\n",
       "8       (ideal, balance)  10.008215\n",
       "9        (picky, eaters)   9.806244"
      ]
     },
     "execution_count": 34,
     "metadata": {},
     "output_type": "execute_result"
    }
   ],
   "source": [
    "bigram_pmi.head(10)"
   ]
  },
  {
   "cell_type": "code",
   "execution_count": 37,
   "id": "8cb7a5f3",
   "metadata": {
    "scrolled": false
   },
   "outputs": [
    {
     "data": {
      "text/html": [
       "<div>\n",
       "<style scoped>\n",
       "    .dataframe tbody tr th:only-of-type {\n",
       "        vertical-align: middle;\n",
       "    }\n",
       "\n",
       "    .dataframe tbody tr th {\n",
       "        vertical-align: top;\n",
       "    }\n",
       "\n",
       "    .dataframe thead th {\n",
       "        text-align: right;\n",
       "    }\n",
       "</style>\n",
       "<table border=\"1\" class=\"dataframe\">\n",
       "  <thead>\n",
       "    <tr style=\"text-align: right;\">\n",
       "      <th></th>\n",
       "      <th>bigram</th>\n",
       "      <th>pmi</th>\n",
       "    </tr>\n",
       "  </thead>\n",
       "  <tbody>\n",
       "    <tr>\n",
       "      <th>0</th>\n",
       "      <td>(royal, canin)</td>\n",
       "      <td>12.546719</td>\n",
       "    </tr>\n",
       "    <tr>\n",
       "      <th>1</th>\n",
       "      <td>(pro, plan)</td>\n",
       "      <td>11.743186</td>\n",
       "    </tr>\n",
       "    <tr>\n",
       "      <th>2</th>\n",
       "      <td>(fancy, feast)</td>\n",
       "      <td>11.743186</td>\n",
       "    </tr>\n",
       "    <tr>\n",
       "      <th>3</th>\n",
       "      <td>(urinary, tract)</td>\n",
       "      <td>11.023967</td>\n",
       "    </tr>\n",
       "    <tr>\n",
       "      <th>4</th>\n",
       "      <td>(brown, rice)</td>\n",
       "      <td>10.963776</td>\n",
       "    </tr>\n",
       "    <tr>\n",
       "      <th>5</th>\n",
       "      <td>(vitamin, supplement)</td>\n",
       "      <td>10.421220</td>\n",
       "    </tr>\n",
       "    <tr>\n",
       "      <th>6</th>\n",
       "      <td>(nature, variety)</td>\n",
       "      <td>10.177776</td>\n",
       "    </tr>\n",
       "    <tr>\n",
       "      <th>7</th>\n",
       "      <td>(ocean, fish)</td>\n",
       "      <td>10.045432</td>\n",
       "    </tr>\n",
       "    <tr>\n",
       "      <th>8</th>\n",
       "      <td>(ideal, balance)</td>\n",
       "      <td>10.008215</td>\n",
       "    </tr>\n",
       "    <tr>\n",
       "      <th>9</th>\n",
       "      <td>(picky, eaters)</td>\n",
       "      <td>9.806244</td>\n",
       "    </tr>\n",
       "    <tr>\n",
       "      <th>10</th>\n",
       "      <td>(sensitive, stomach)</td>\n",
       "      <td>9.777743</td>\n",
       "    </tr>\n",
       "    <tr>\n",
       "      <th>11</th>\n",
       "      <td>(blue, buffalo)</td>\n",
       "      <td>9.596147</td>\n",
       "    </tr>\n",
       "    <tr>\n",
       "      <th>12</th>\n",
       "      <td>(picky, eater)</td>\n",
       "      <td>9.587312</td>\n",
       "    </tr>\n",
       "    <tr>\n",
       "      <th>13</th>\n",
       "      <td>(grocery, store)</td>\n",
       "      <td>9.531425</td>\n",
       "    </tr>\n",
       "    <tr>\n",
       "      <th>14</th>\n",
       "      <td>(meow, mix)</td>\n",
       "      <td>9.517105</td>\n",
       "    </tr>\n",
       "    <tr>\n",
       "      <th>15</th>\n",
       "      <td>(vet, bills)</td>\n",
       "      <td>9.428211</td>\n",
       "    </tr>\n",
       "    <tr>\n",
       "      <th>16</th>\n",
       "      <td>(litter, box)</td>\n",
       "      <td>9.331600</td>\n",
       "    </tr>\n",
       "    <tr>\n",
       "      <th>17</th>\n",
       "      <td>(hairball, control)</td>\n",
       "      <td>9.269200</td>\n",
       "    </tr>\n",
       "    <tr>\n",
       "      <th>19</th>\n",
       "      <td>(limited, ingredient)</td>\n",
       "      <td>9.226686</td>\n",
       "    </tr>\n",
       "    <tr>\n",
       "      <th>21</th>\n",
       "      <td>(anything, else)</td>\n",
       "      <td>9.113830</td>\n",
       "    </tr>\n",
       "  </tbody>\n",
       "</table>\n",
       "</div>"
      ],
      "text/plain": [
       "                   bigram        pmi\n",
       "0          (royal, canin)  12.546719\n",
       "1             (pro, plan)  11.743186\n",
       "2          (fancy, feast)  11.743186\n",
       "3        (urinary, tract)  11.023967\n",
       "4           (brown, rice)  10.963776\n",
       "5   (vitamin, supplement)  10.421220\n",
       "6       (nature, variety)  10.177776\n",
       "7           (ocean, fish)  10.045432\n",
       "8        (ideal, balance)  10.008215\n",
       "9         (picky, eaters)   9.806244\n",
       "10   (sensitive, stomach)   9.777743\n",
       "11        (blue, buffalo)   9.596147\n",
       "12         (picky, eater)   9.587312\n",
       "13       (grocery, store)   9.531425\n",
       "14            (meow, mix)   9.517105\n",
       "15           (vet, bills)   9.428211\n",
       "16          (litter, box)   9.331600\n",
       "17    (hairball, control)   9.269200\n",
       "19  (limited, ingredient)   9.226686\n",
       "21       (anything, else)   9.113830"
      ]
     },
     "execution_count": 37,
     "metadata": {},
     "output_type": "execute_result"
    }
   ],
   "source": [
    "bigrams[:20]\n",
    "filtered_bigram[:20]"
   ]
  },
  {
   "cell_type": "code",
   "execution_count": 36,
   "id": "5f05f46f",
   "metadata": {
    "scrolled": true
   },
   "outputs": [
    {
     "data": {
      "text/html": [
       "<div>\n",
       "<style scoped>\n",
       "    .dataframe tbody tr th:only-of-type {\n",
       "        vertical-align: middle;\n",
       "    }\n",
       "\n",
       "    .dataframe tbody tr th {\n",
       "        vertical-align: top;\n",
       "    }\n",
       "\n",
       "    .dataframe thead th {\n",
       "        text-align: right;\n",
       "    }\n",
       "</style>\n",
       "<table border=\"1\" class=\"dataframe\">\n",
       "  <thead>\n",
       "    <tr style=\"text-align: right;\">\n",
       "      <th></th>\n",
       "      <th>trigram</th>\n",
       "      <th>pmi</th>\n",
       "    </tr>\n",
       "  </thead>\n",
       "  <tbody>\n",
       "    <tr>\n",
       "      <th>0</th>\n",
       "      <td>(blue, buffalo, wilderness)</td>\n",
       "      <td>18.578908</td>\n",
       "    </tr>\n",
       "    <tr>\n",
       "      <th>2</th>\n",
       "      <td>(hill, science, diet)</td>\n",
       "      <td>16.129572</td>\n",
       "    </tr>\n",
       "    <tr>\n",
       "      <th>11</th>\n",
       "      <td>(year, old, cat)</td>\n",
       "      <td>12.679082</td>\n",
       "    </tr>\n",
       "    <tr>\n",
       "      <th>12</th>\n",
       "      <td>(grain, free, diet)</td>\n",
       "      <td>12.652765</td>\n",
       "    </tr>\n",
       "    <tr>\n",
       "      <th>17</th>\n",
       "      <td>(grain, free, dry)</td>\n",
       "      <td>11.958455</td>\n",
       "    </tr>\n",
       "    <tr>\n",
       "      <th>24</th>\n",
       "      <td>(grain, free, cat)</td>\n",
       "      <td>11.236011</td>\n",
       "    </tr>\n",
       "    <tr>\n",
       "      <th>26</th>\n",
       "      <td>(high, quality, food)</td>\n",
       "      <td>11.034184</td>\n",
       "    </tr>\n",
       "    <tr>\n",
       "      <th>27</th>\n",
       "      <td>(grain, free, food)</td>\n",
       "      <td>10.892940</td>\n",
       "    </tr>\n",
       "    <tr>\n",
       "      <th>49</th>\n",
       "      <td>(dry, cat, food)</td>\n",
       "      <td>9.156870</td>\n",
       "    </tr>\n",
       "    <tr>\n",
       "      <th>58</th>\n",
       "      <td>(adult, cat, food)</td>\n",
       "      <td>8.761447</td>\n",
       "    </tr>\n",
       "  </tbody>\n",
       "</table>\n",
       "</div>"
      ],
      "text/plain": [
       "                        trigram        pmi\n",
       "0   (blue, buffalo, wilderness)  18.578908\n",
       "2         (hill, science, diet)  16.129572\n",
       "11             (year, old, cat)  12.679082\n",
       "12          (grain, free, diet)  12.652765\n",
       "17           (grain, free, dry)  11.958455\n",
       "24           (grain, free, cat)  11.236011\n",
       "26        (high, quality, food)  11.034184\n",
       "27          (grain, free, food)  10.892940\n",
       "49             (dry, cat, food)   9.156870\n",
       "58           (adult, cat, food)   8.761447"
      ]
     },
     "execution_count": 36,
     "metadata": {},
     "output_type": "execute_result"
    }
   ],
   "source": [
    "trigrams[:10]\n",
    "filtered_trigram[:10]"
   ]
  },
  {
   "cell_type": "markdown",
   "id": "7c7a3efe",
   "metadata": {},
   "source": [
    "# NLTK: take one review as an example"
   ]
  },
  {
   "cell_type": "code",
   "execution_count": 146,
   "id": "39ed22a1",
   "metadata": {},
   "outputs": [
    {
     "data": {
      "text/html": [
       "<div>\n",
       "<style scoped>\n",
       "    .dataframe tbody tr th:only-of-type {\n",
       "        vertical-align: middle;\n",
       "    }\n",
       "\n",
       "    .dataframe tbody tr th {\n",
       "        vertical-align: top;\n",
       "    }\n",
       "\n",
       "    .dataframe thead th {\n",
       "        text-align: right;\n",
       "    }\n",
       "</style>\n",
       "<table border=\"1\" class=\"dataframe\">\n",
       "  <thead>\n",
       "    <tr style=\"text-align: right;\">\n",
       "      <th></th>\n",
       "      <th>reviewerID</th>\n",
       "      <th>asin</th>\n",
       "      <th>reviewerName</th>\n",
       "      <th>helpful</th>\n",
       "      <th>reviewText</th>\n",
       "      <th>overall</th>\n",
       "      <th>summary</th>\n",
       "      <th>unixReviewTime</th>\n",
       "      <th>reviewTime</th>\n",
       "      <th>related</th>\n",
       "      <th>...</th>\n",
       "      <th>categories</th>\n",
       "      <th>description</th>\n",
       "      <th>category_len</th>\n",
       "      <th>category_1</th>\n",
       "      <th>category_2</th>\n",
       "      <th>category_3</th>\n",
       "      <th>category_4</th>\n",
       "      <th>category_5</th>\n",
       "      <th>updated_category_4</th>\n",
       "      <th>final_category_4</th>\n",
       "    </tr>\n",
       "  </thead>\n",
       "  <tbody>\n",
       "    <tr>\n",
       "      <th>44</th>\n",
       "      <td>A1NJH2VUXKZMS5</td>\n",
       "      <td>B000084EXJ</td>\n",
       "      <td>Dinda S. Evans</td>\n",
       "      <td>[0, 0]</td>\n",
       "      <td>the price and size were right to donate to hum...</td>\n",
       "      <td>3</td>\n",
       "      <td>donated it to local humane society</td>\n",
       "      <td>1353369600</td>\n",
       "      <td>11 20, 2012</td>\n",
       "      <td>{'also_bought': ['B002OIBZ6E', 'B000R4CJQ2', '...</td>\n",
       "      <td>...</td>\n",
       "      <td>[['Pet Supplies', 'Cats', 'Food', 'Dry']]</td>\n",
       "      <td>SPORTMiX Gourmet Mix combines three flavors an...</td>\n",
       "      <td>4</td>\n",
       "      <td>Pet Supplies</td>\n",
       "      <td>Cats</td>\n",
       "      <td>Food</td>\n",
       "      <td>Dry</td>\n",
       "      <td>NaN</td>\n",
       "      <td>NaN</td>\n",
       "      <td>Dry</td>\n",
       "    </tr>\n",
       "  </tbody>\n",
       "</table>\n",
       "<p>1 rows × 25 columns</p>\n",
       "</div>"
      ],
      "text/plain": [
       "        reviewerID        asin    reviewerName helpful  \\\n",
       "44  A1NJH2VUXKZMS5  B000084EXJ  Dinda S. Evans  [0, 0]   \n",
       "\n",
       "                                           reviewText  overall  \\\n",
       "44  the price and size were right to donate to hum...        3   \n",
       "\n",
       "                               summary  unixReviewTime   reviewTime  \\\n",
       "44  donated it to local humane society      1353369600  11 20, 2012   \n",
       "\n",
       "                                              related  ...  \\\n",
       "44  {'also_bought': ['B002OIBZ6E', 'B000R4CJQ2', '...  ...   \n",
       "\n",
       "                                   categories  \\\n",
       "44  [['Pet Supplies', 'Cats', 'Food', 'Dry']]   \n",
       "\n",
       "                                          description category_len  \\\n",
       "44  SPORTMiX Gourmet Mix combines three flavors an...            4   \n",
       "\n",
       "      category_1 category_2 category_3 category_4  category_5  \\\n",
       "44  Pet Supplies       Cats       Food        Dry         NaN   \n",
       "\n",
       "   updated_category_4 final_category_4  \n",
       "44                NaN              Dry  \n",
       "\n",
       "[1 rows x 25 columns]"
      ]
     },
     "execution_count": 146,
     "metadata": {},
     "output_type": "execute_result"
    }
   ],
   "source": [
    "# df2.loc[(df2.reviewerID == 'A1NJH2VUXKZMS5') & (df2.asin == 'B000084EXJ')] #23"
   ]
  },
  {
   "cell_type": "code",
   "execution_count": 147,
   "id": "24a5b345",
   "metadata": {},
   "outputs": [
    {
     "data": {
      "text/plain": [
       "'the price and size were right to donate to humane society. My cats have refused to switch to purina or whiskas from Blue buffalo. I was seeking to reduce costs but just knew when I saw the big bag that there was no way my cats would eat it.  I had thought it was fancy feast...white cat...gourmet...so when I realized its just a cheaper brand than even the purina ....well. As a donation though it helps Im sure.. The dogs will eat it if the cats wont..at my place the racoons get whatever the cats reject.'"
      ]
     },
     "execution_count": 147,
     "metadata": {},
     "output_type": "execute_result"
    }
   ],
   "source": [
    "reviews[714] #wet food\n",
    "reviews[44] #dry food"
   ]
  },
  {
   "cell_type": "code",
   "execution_count": 150,
   "id": "fb8acfc2",
   "metadata": {},
   "outputs": [
    {
     "data": {
      "text/plain": [
       "'the price and size were right to donate to humane society my cats have refused to switch to purina or whiskas from blue buffalo was seeking to reduce costs but just knew when saw the big bag that there was no way my cats would eat it had thought it was fancy feast white cat gourmet so when realized its just cheaper brand than even the purina well as donation though it helps im sure the dogs will eat it if the cats wont at my place the racoons get whatever the cats reject'"
      ]
     },
     "execution_count": 150,
     "metadata": {},
     "output_type": "execute_result"
    }
   ],
   "source": [
    "' '.join(data_words[44])"
   ]
  },
  {
   "cell_type": "code",
   "execution_count": 44,
   "id": "994f443a",
   "metadata": {},
   "outputs": [
    {
     "data": {
      "text/plain": [
       "'the price and size were right to donate to humane society my cats have refused to switch to purina or whiskas from blue_buffalo was seeking to reduce costs but just knew when saw the big bag that there was no way my cats would eat it had thought it was fancy_feast white cat gourmet so when realized its just cheaper brand than even the purina well as donation though it helps im sure the dogs will eat it if the cats wont at my place the racoons get whatever the cats reject'"
      ]
     },
     "execution_count": 44,
     "metadata": {},
     "output_type": "execute_result"
    }
   ],
   "source": [
    "reviews_ngrams.loc[44, 'reviewText'] "
   ]
  },
  {
   "cell_type": "code",
   "execution_count": 151,
   "id": "b16e7e08",
   "metadata": {},
   "outputs": [
    {
     "data": {
      "text/plain": [
       "'price size right donate humane society cats refused switch purina whiskas blue_buffalo seeking reduce costs knew saw big_bag way cats would eat thought fancy_feast white cat gourmet realized cheaper brand even purina well donation though helps im sure dogs eat cats wont place racoons get whatever cats reject'"
      ]
     },
     "execution_count": 151,
     "metadata": {},
     "output_type": "execute_result"
    }
   ],
   "source": [
    "' '.join(cleaned_reviews_ngrams[44]) "
   ]
  },
  {
   "cell_type": "code",
   "execution_count": 152,
   "id": "920b9a31",
   "metadata": {},
   "outputs": [
    {
     "data": {
      "text/plain": [
       "'price size right donate humane society cat refuse switch purina whiskas blue_buffalo seek reduce cost know see big_bag way cat would eat think fancy_feast white cat gourmet realize cheap brand even purina well donation though help I m sure dog eat cat will not place racoon get whatever cat reject'"
      ]
     },
     "execution_count": 152,
     "metadata": {},
     "output_type": "execute_result"
    }
   ],
   "source": [
    "' '.join(lemmatized_reviews_ngrams[44]) "
   ]
  },
  {
   "cell_type": "code",
   "execution_count": 153,
   "id": "3c03bcfe",
   "metadata": {},
   "outputs": [
    {
     "data": {
      "text/plain": [
       "'price size right donate humane society cat refuse switch purina whiskas blue_buffalo seek reduce cost know see big_bag way cat eat think fancy_feast white cat gourmet realize cheap brand even well donation though help m sure dog eat cat place racoon get cat reject'"
      ]
     },
     "execution_count": 153,
     "metadata": {},
     "output_type": "execute_result"
    }
   ],
   "source": [
    "' '.join(lemmatized_reviews_ngrams2[44]) #m?"
   ]
  },
  {
   "cell_type": "code",
   "execution_count": 49,
   "id": "b22132b1",
   "metadata": {},
   "outputs": [],
   "source": [
    "corpus = [word for sen in lemmatized_reviews_ngrams2 for word in sen]\n",
    "fdist = FreqDist(corpus)\n",
    "fdist.most_common(100)"
   ]
  },
  {
   "cell_type": "code",
   "execution_count": 51,
   "id": "7d88903e",
   "metadata": {},
   "outputs": [
    {
     "data": {
      "text/plain": [
       "[('cat', 'food', 'and'),\n",
       " ('cats', 'love', 'it'),\n",
       " ('cats', 'love', 'this'),\n",
       " ('dry', 'cat', 'food'),\n",
       " ('love', 'this', 'food'),\n",
       " ('my', 'cats', 'are'),\n",
       " ('my', 'cats', 'love'),\n",
       " ('of', 'cat', 'food'),\n",
       " ('of', 'my', 'cats'),\n",
       " ('of', 'the', 'wild'),\n",
       " ('of', 'this', 'food'),\n",
       " ('one', 'of', 'my'),\n",
       " ('one', 'of', 'the'),\n",
       " ('seem', 'to', 'like'),\n",
       " ('taste', 'of', 'the'),\n",
       " ('this', 'cat', 'food'),\n",
       " ('this', 'dry', 'food'),\n",
       " ('this', 'food', 'and'),\n",
       " ('this', 'food', 'is'),\n",
       " ('this', 'is', 'the')]"
      ]
     },
     "execution_count": 51,
     "metadata": {},
     "output_type": "execute_result"
    }
   ],
   "source": [
    "sorted(trigram_finder.nbest(trigram_measures.raw_freq, 20))"
   ]
  },
  {
   "cell_type": "code",
   "execution_count": 52,
   "id": "f4fed8fc",
   "metadata": {
    "scrolled": true
   },
   "outputs": [
    {
     "data": {
      "text/plain": [
       "[('and', 'the'),\n",
       " ('and', 'they'),\n",
       " ('cat', 'food'),\n",
       " ('dry', 'food'),\n",
       " ('food', 'and'),\n",
       " ('for', 'the'),\n",
       " ('grain', 'free'),\n",
       " ('in', 'the'),\n",
       " ('it', 'is'),\n",
       " ('my', 'cat'),\n",
       " ('my', 'cats'),\n",
       " ('of', 'the'),\n",
       " ('on', 'the'),\n",
       " ('one', 'of'),\n",
       " ('the', 'cats'),\n",
       " ('the', 'food'),\n",
       " ('this', 'food'),\n",
       " ('this', 'is'),\n",
       " ('to', 'be'),\n",
       " ('to', 'the')]"
      ]
     },
     "execution_count": 52,
     "metadata": {},
     "output_type": "execute_result"
    }
   ],
   "source": [
    "sorted(bigram_finder.nbest(bigram_measures.raw_freq, 20)) "
   ]
  },
  {
   "cell_type": "markdown",
   "id": "19d8a7b6",
   "metadata": {},
   "source": [
    "# batch prepare data"
   ]
  },
  {
   "cell_type": "code",
   "execution_count": 54,
   "id": "ecbbfc05",
   "metadata": {},
   "outputs": [
    {
     "data": {
      "text/plain": [
       "category_3                   \n",
       "Toys                             7893\n",
       "Food                             5999\n",
       "Beds & Furniture                 5840\n",
       "Litter & Housebreaking           4893\n",
       "Health Supplies                  4294\n",
       "Treats                           2237\n",
       "Grooming                         1150\n",
       "Feeding & Watering Supplies      1093\n",
       "Educational Repellents            225\n",
       "Cat Flaps, Steps, Nets & Pens     217\n",
       "Collars, Harnesses & Leashes      193\n",
       "Carriers & Strollers               88\n",
       "Cages                              19\n",
       "dtype: int64"
      ]
     },
     "execution_count": 54,
     "metadata": {},
     "output_type": "execute_result"
    }
   ],
   "source": [
    "df.loc[df.category_2 == 'Cats', ['category_3']].value_counts()"
   ]
  },
  {
   "cell_type": "code",
   "execution_count": 55,
   "id": "78ffb0ba",
   "metadata": {},
   "outputs": [],
   "source": [
    "df1 = df.loc[(df.category_2 == 'Cats') & (df.category_3 == 'Toys')]\n",
    "\n",
    "df2 = df.loc[(df.category_2 == 'Cats') & (df.category_3 == 'Food')].reset_index(drop = True) \n",
    "\n",
    "df3 = df.loc[(df.category_2 == 'Cats') & (df.category_3 == 'Beds & Furniture')]\n",
    "\n",
    "df4 = df.loc[(df.category_2 == 'Cats') & (df.category_3 == 'Litter & Housebreaking')]\n",
    "\n",
    "df5 = df.loc[(df.category_2 == 'Cats') & (df.category_3 == 'Health Supplies')]\n",
    "\n",
    "df6 = df.loc[(df.category_2 == 'Cats') & (df.category_3 == 'Treats')]\n",
    "\n",
    "df7 = df.loc[(df.category_2 == 'Cats') & (df.category_3 == 'Grooming')]\n",
    "\n",
    "df8 = df.loc[(df.category_2 == 'Cats') & (df.category_3 == 'Feeding & Watering Supplies ')]"
   ]
  },
  {
   "cell_type": "code",
   "execution_count": 74,
   "id": "434ce194",
   "metadata": {},
   "outputs": [],
   "source": [
    "df1 = df.loc[(df.category_2 == 'Cats') & (df.category_3 == 'Toys')]\n",
    "df2 = df.loc[(df.category_2 == 'Cats') & (df.category_3 == 'Food')].reset_index(drop = True) \n",
    "df3 = df.loc[(df.category_2 == 'Cats') & (df.category_3 == 'Beds & Furniture')]\n",
    "df4 = df.loc[(df.category_2 == 'Cats') & (df.category_3 == 'Litter & Housebreaking')]\n",
    "df5 = df.loc[(df.category_2 == 'Cats') & (df.category_3 == 'Health Supplies')]\n",
    "df6 = df.loc[(df.category_2 == 'Cats') & (df.category_3 == 'Treats')]\n",
    "df7 = df.loc[(df.category_2 == 'Cats') & (df.category_3 == 'Grooming')]\n",
    "df8 = df.loc[(df.category_2 == 'Cats') & (df.category_3 == 'Feeding & Watering Supplies')]"
   ]
  },
  {
   "cell_type": "code",
   "execution_count": 155,
   "id": "a04bf09a",
   "metadata": {},
   "outputs": [],
   "source": [
    "def sent_to_words(sentences):\n",
    "    '''\n",
    "    Simplify and tokenize strings in an iterable.\n",
    "    \n",
    "            Parameters:\n",
    "                    sentences (iterable): Review strings in a list or as a pandas.series.\n",
    "                    \n",
    "            Returns:\n",
    "                    _ (generator): Simplify review tokens.  \n",
    "    '''\n",
    "    for sentence in sentences:\n",
    "        yield(gensim.utils.simple_preprocess(str(sentence), deacc=True))  # deacc=True removes punctuations\n",
    "\n",
    "def get_bigrams(data_words): \n",
    "    '''\n",
    "    Form bigram.\n",
    "    \n",
    "        Parameters:\n",
    "            data_words (iterable): Review tokens in a list or as a pandas.series.\n",
    "\n",
    "        Returns:\n",
    "           bigram_pmi (data frame): bigram and it's pmi score. \n",
    "    '''\n",
    "    bigram_measures = nltk.collocations.BigramAssocMeasures()\n",
    "    finder = nltk.collocations.BigramCollocationFinder.from_documents(data_words) #data_words_nostops\n",
    "    finder.apply_freq_filter(20)\n",
    "    bigram_scores = finder.score_ngrams(bigram_measures.pmi) \n",
    "    bigram_pmi = pd.DataFrame(bigram_scores)\n",
    "    bigram_pmi.columns = ['bigram', 'pmi']\n",
    "    bigram_pmi.sort_values(by='pmi', axis = 0, ascending = False, inplace = True)\n",
    "    return finder, bigram_measures, bigram_pmi\n",
    "\n",
    "def bigram_filter(bigram):\n",
    "    \"\"\"\n",
    "    Filter bigram. \n",
    "        \n",
    "        Parameters:\n",
    "            bigram (string): a bigram.\n",
    "\n",
    "        Returns:\n",
    "           _ (boolean): decide whether or not to keep the bigram.\n",
    "    \"\"\"\n",
    "    stop_words = stopwords.words('english')   \n",
    "    tag = nltk.pos_tag(bigram)\n",
    "    #if tag[0][1] not in ['JJ', 'NN', 'NNS'] and tag[1][1] not in ['NN', 'NNS']: #we only want adjective + noun\n",
    "    if tag[0][1] not in ['JJ', 'NN'] and tag[1][1] not in ['NN']: #we only want adjective + noun\n",
    "        return False\n",
    "    if bigram[0] in stop_words or bigram[1] in stop_words: \n",
    "        return False\n",
    "    if 'n' in bigram or 't' in bigram:\n",
    "        return False\n",
    "    if 'PRON' in bigram: #we don't want pronoun\n",
    "        return False\n",
    "    if len(bigram[0]) <= 2 or len(bigram[1]) <= 2:\n",
    "        return False\n",
    "    return True\n",
    "\n",
    "def get_trigrams(data_words): \n",
    "    trigram_measures = nltk.collocations.TrigramAssocMeasures()\n",
    "    finder = nltk.collocations.TrigramCollocationFinder.from_documents(data_words) #data_words_nostops\n",
    "    finder.apply_freq_filter(20)\n",
    "    trigram_scores = finder.score_ngrams(trigram_measures.pmi)\n",
    "\n",
    "    trigram_pmi = pd.DataFrame(trigram_scores)\n",
    "    trigram_pmi.columns = ['trigram', 'pmi']\n",
    "    trigram_pmi.sort_values(by='pmi', axis = 0, ascending = False, inplace = True)\n",
    "    return finder, trigram_measures, trigram_pmi\n",
    "\n",
    "def trigram_filter(trigram):\n",
    "    tag = nltk.pos_tag(trigram)\n",
    "    stop_words = stopwords.words('english')\n",
    "    #if tag[0][1] not in ['JJ', 'NN', 'NNS'] and tag[1][1] not in ['NN', 'NNS']: #we only want adjective + noun\n",
    "    if tag[0][1] not in ['JJ', 'NN'] and tag[1][1] not in ['JJ','NN']:\n",
    "        return False\n",
    "    if trigram[0] in stop_words or trigram[-1] in stop_words or trigram[1] in stop_words:\n",
    "        return False\n",
    "    if 'n' in trigram or 't' in trigram:\n",
    "        return False\n",
    "    if 'PRON' in trigram:\n",
    "        return False\n",
    "    if len(trigram[0]) <= 2 or len(trigram[1]) <= 2 and len(trigram[2]) <= 2:\n",
    "        return False\n",
    "    return True \n",
    "\n",
    "def replace_ngram(x, bigrams, trigrams):\n",
    "    '''\n",
    "    Form ngram. \n",
    "        \n",
    "        Parameters:\n",
    "            bigram (string): a bigram.\n",
    "\n",
    "        Returns:\n",
    "           _ (boolean): decide whether or not to keep the bigram.\n",
    "    '''\n",
    "    for gram in trigrams:\n",
    "        x = x.replace(gram, '_'.join(gram.split()))\n",
    "    for gram in bigrams:\n",
    "        x = x.replace(gram, '_'.join(gram.split()))\n",
    "    return x\n",
    "\n",
    "\n",
    "def remove_stopwords(texts, extra_stopwords = []):\n",
    "    '''\n",
    "    Remove stopwords in an iterable (string or tokens).\n",
    "\n",
    "        Parameters:\n",
    "                texts (iterable): Review strings in a list or as a pandas.series.\n",
    "\n",
    "        Returns:\n",
    "                _ (list): Simplify review stirngs without stopwords.  \n",
    "    '''\n",
    "    stop_words = stopwords.words('english') + extra_stopwords\n",
    "    return [[word for word in doc.split() if word not in stop_words] for doc in texts]\n",
    "\n",
    "def lemmatize_skip_ngrams(texts, allowed_postags=['NOUN', 'ADJ', 'VERB', 'ADV']):\n",
    "    '''feed tokens'''\n",
    "    nlp = spacy.load(\"en_core_web_sm\", disable=['parser', 'ner'])\n",
    "    texts_out = []\n",
    "    for sent in texts:\n",
    "        doc = nlp(' '.join(sent)) \n",
    "        if len(allowed_postags) > 0: \n",
    "            returned_doc = []\n",
    "            for token in doc:\n",
    "                if '_' in token.text:\n",
    "                    returned_token = token.text\n",
    "                if token.pos_ in allowed_postags and '_' not in token.text:\n",
    "                    returned_token = token.lemma_\n",
    "                if token.pos_ not in allowed_postags and '_' not in token.text:\n",
    "                    continue\n",
    "                returned_doc.append(returned_token)\n",
    "            texts_out.append(returned_doc)\n",
    "                    \n",
    "        else: \n",
    "            returned_doc = []\n",
    "            for token in doc:\n",
    "                if '_' in token.text:\n",
    "                    returned_token = token.text\n",
    "                else: \n",
    "                    returned_token = token.lemma_\n",
    "                returned_doc.append(returned_token)\n",
    "            texts_out.append(returned_doc)\n",
    "    return texts_out\n",
    "\n",
    "def preprocess_review(reviews, extra_stopwords = ['cat', 'cats'], allowed_postags=[]): \n",
    "    \n",
    "    data_words = list(sent_to_words(tqdm(reviews.tolist())))\n",
    "    bigram_finder, bigram_measures, bigram_pmi = get_bigrams(tqdm(data_words))\n",
    "    trigram_finder, trigram_measures, trigram_pmi = get_trigrams(tqdm(data_words))\n",
    "    filtered_bigram = bigram_pmi[bigram_pmi.progress_apply(lambda bigram:\\\n",
    "                                                  bigram_filter(bigram['bigram'])\\\n",
    "                                                  and bigram.pmi > 5, axis = 1)][:500]\n",
    "\n",
    "    filtered_trigram = trigram_pmi[trigram_pmi.progress_apply(lambda trigram: \\\n",
    "                                                     trigram_filter(trigram['trigram'])\\\n",
    "                                                     and trigram.pmi > 5, axis = 1)][:500]\n",
    "    bigrams = [' '.join(x) for x in filtered_bigram.bigram.values]\n",
    "    trigrams = [' '.join(x) for x in filtered_trigram.trigram.values]\n",
    "    reviews_ngrams = pd.DataFrame([' '.join(sen) for sen in data_words], columns = ['reviewText'])\n",
    "    reviews_ngrams.reviewText = reviews_ngrams.reviewText.map(lambda x: replace_ngram(x, bigrams, trigrams))\n",
    "    cleaned_reviews_ngrams = remove_stopwords(tqdm(reviews_ngrams.reviewText), extra_stopwords = extra_stopwords)\n",
    "    lemmatized_reviews_ngrams = lemmatize_skip_ngrams(tqdm(cleaned_reviews_ngrams), allowed_postags = allowed_postags)\n",
    "    return filtered_bigram, filtered_trigram, lemmatized_reviews_ngrams"
   ]
  },
  {
   "cell_type": "code",
   "execution_count": 75,
   "id": "df4bfbb1",
   "metadata": {},
   "outputs": [
    {
     "data": {
      "text/plain": [
       "(1093, 25)"
      ]
     },
     "execution_count": 75,
     "metadata": {},
     "output_type": "execute_result"
    }
   ],
   "source": [
    "df8.shape"
   ]
  },
  {
   "cell_type": "code",
   "execution_count": 82,
   "id": "bec39038",
   "metadata": {},
   "outputs": [
    {
     "data": {
      "application/vnd.jupyter.widget-view+json": {
       "model_id": "227d62f72466490e9c8ba5848612eb7c",
       "version_major": 2,
       "version_minor": 0
      },
      "text/plain": [
       "  0%|          | 0/7893 [00:00<?, ?it/s]"
      ]
     },
     "metadata": {},
     "output_type": "display_data"
    },
    {
     "data": {
      "application/vnd.jupyter.widget-view+json": {
       "model_id": "787fd9dc01bf4989beb268fcc62cd66e",
       "version_major": 2,
       "version_minor": 0
      },
      "text/plain": [
       "  0%|          | 0/7893 [00:00<?, ?it/s]"
      ]
     },
     "metadata": {},
     "output_type": "display_data"
    },
    {
     "data": {
      "application/vnd.jupyter.widget-view+json": {
       "model_id": "3665edca2a9548dab32facf4c33bd2f7",
       "version_major": 2,
       "version_minor": 0
      },
      "text/plain": [
       "  0%|          | 0/7893 [00:00<?, ?it/s]"
      ]
     },
     "metadata": {},
     "output_type": "display_data"
    },
    {
     "data": {
      "application/vnd.jupyter.widget-view+json": {
       "model_id": "64499e6d71554c51a766ae4d804dd50c",
       "version_major": 2,
       "version_minor": 0
      },
      "text/plain": [
       "  0%|          | 0/3745 [00:00<?, ?it/s]"
      ]
     },
     "metadata": {},
     "output_type": "display_data"
    },
    {
     "data": {
      "application/vnd.jupyter.widget-view+json": {
       "model_id": "af10138ac2c5478b8a2698ec8a3727c1",
       "version_major": 2,
       "version_minor": 0
      },
      "text/plain": [
       "  0%|          | 0/1269 [00:00<?, ?it/s]"
      ]
     },
     "metadata": {},
     "output_type": "display_data"
    },
    {
     "data": {
      "application/vnd.jupyter.widget-view+json": {
       "model_id": "7b2df2d4fe544c63bce582585f55c35d",
       "version_major": 2,
       "version_minor": 0
      },
      "text/plain": [
       "  0%|          | 0/7893 [00:00<?, ?it/s]"
      ]
     },
     "metadata": {},
     "output_type": "display_data"
    },
    {
     "data": {
      "application/vnd.jupyter.widget-view+json": {
       "model_id": "68dbdc7fb1424a0eab1ef2e59feb077a",
       "version_major": 2,
       "version_minor": 0
      },
      "text/plain": [
       "  0%|          | 0/7893 [00:00<?, ?it/s]"
      ]
     },
     "metadata": {},
     "output_type": "display_data"
    },
    {
     "data": {
      "application/vnd.jupyter.widget-view+json": {
       "model_id": "96916f2be89e442e8225c6f5af68d1d9",
       "version_major": 2,
       "version_minor": 0
      },
      "text/plain": [
       "  0%|          | 0/5999 [00:00<?, ?it/s]"
      ]
     },
     "metadata": {},
     "output_type": "display_data"
    },
    {
     "data": {
      "application/vnd.jupyter.widget-view+json": {
       "model_id": "36854b2c2666416798387a9044716ad0",
       "version_major": 2,
       "version_minor": 0
      },
      "text/plain": [
       "  0%|          | 0/5999 [00:00<?, ?it/s]"
      ]
     },
     "metadata": {},
     "output_type": "display_data"
    },
    {
     "data": {
      "application/vnd.jupyter.widget-view+json": {
       "model_id": "cef26ec3130b4501b245e057086115f5",
       "version_major": 2,
       "version_minor": 0
      },
      "text/plain": [
       "  0%|          | 0/5999 [00:00<?, ?it/s]"
      ]
     },
     "metadata": {},
     "output_type": "display_data"
    },
    {
     "data": {
      "application/vnd.jupyter.widget-view+json": {
       "model_id": "3bc645a2172f44d0bbe80610dd3ae912",
       "version_major": 2,
       "version_minor": 0
      },
      "text/plain": [
       "  0%|          | 0/3561 [00:00<?, ?it/s]"
      ]
     },
     "metadata": {},
     "output_type": "display_data"
    },
    {
     "data": {
      "application/vnd.jupyter.widget-view+json": {
       "model_id": "997086a9f91b45d6a23e2c8bdd61fd8a",
       "version_major": 2,
       "version_minor": 0
      },
      "text/plain": [
       "  0%|          | 0/1195 [00:00<?, ?it/s]"
      ]
     },
     "metadata": {},
     "output_type": "display_data"
    },
    {
     "data": {
      "application/vnd.jupyter.widget-view+json": {
       "model_id": "66987d5af3e9423b909fc2240429e631",
       "version_major": 2,
       "version_minor": 0
      },
      "text/plain": [
       "  0%|          | 0/5999 [00:00<?, ?it/s]"
      ]
     },
     "metadata": {},
     "output_type": "display_data"
    },
    {
     "data": {
      "application/vnd.jupyter.widget-view+json": {
       "model_id": "cf54df62b5e146d8be122ed3b2d2c530",
       "version_major": 2,
       "version_minor": 0
      },
      "text/plain": [
       "  0%|          | 0/5999 [00:00<?, ?it/s]"
      ]
     },
     "metadata": {},
     "output_type": "display_data"
    },
    {
     "data": {
      "application/vnd.jupyter.widget-view+json": {
       "model_id": "e58d5b9b85c640f8835cca6e003dd0ca",
       "version_major": 2,
       "version_minor": 0
      },
      "text/plain": [
       "  0%|          | 0/5840 [00:00<?, ?it/s]"
      ]
     },
     "metadata": {},
     "output_type": "display_data"
    },
    {
     "data": {
      "application/vnd.jupyter.widget-view+json": {
       "model_id": "01b49e3e6ac44ce98b35b8b571f158b0",
       "version_major": 2,
       "version_minor": 0
      },
      "text/plain": [
       "  0%|          | 0/5840 [00:00<?, ?it/s]"
      ]
     },
     "metadata": {},
     "output_type": "display_data"
    },
    {
     "data": {
      "application/vnd.jupyter.widget-view+json": {
       "model_id": "f6ae41dd1b084398b3229cf8ea4b02ee",
       "version_major": 2,
       "version_minor": 0
      },
      "text/plain": [
       "  0%|          | 0/5840 [00:00<?, ?it/s]"
      ]
     },
     "metadata": {},
     "output_type": "display_data"
    },
    {
     "data": {
      "application/vnd.jupyter.widget-view+json": {
       "model_id": "6e95ecd5ef784ad8b99412e359aa5607",
       "version_major": 2,
       "version_minor": 0
      },
      "text/plain": [
       "  0%|          | 0/3445 [00:00<?, ?it/s]"
      ]
     },
     "metadata": {},
     "output_type": "display_data"
    },
    {
     "data": {
      "application/vnd.jupyter.widget-view+json": {
       "model_id": "af75f2c390c24eb69567c541ca33c07d",
       "version_major": 2,
       "version_minor": 0
      },
      "text/plain": [
       "  0%|          | 0/1059 [00:00<?, ?it/s]"
      ]
     },
     "metadata": {},
     "output_type": "display_data"
    },
    {
     "data": {
      "application/vnd.jupyter.widget-view+json": {
       "model_id": "1c7632e17d97429187562198baf38192",
       "version_major": 2,
       "version_minor": 0
      },
      "text/plain": [
       "  0%|          | 0/5840 [00:00<?, ?it/s]"
      ]
     },
     "metadata": {},
     "output_type": "display_data"
    },
    {
     "data": {
      "application/vnd.jupyter.widget-view+json": {
       "model_id": "1794797b04de4a81bd3934f68be2caa0",
       "version_major": 2,
       "version_minor": 0
      },
      "text/plain": [
       "  0%|          | 0/5840 [00:00<?, ?it/s]"
      ]
     },
     "metadata": {},
     "output_type": "display_data"
    },
    {
     "data": {
      "application/vnd.jupyter.widget-view+json": {
       "model_id": "2f6834faa2f64181a221eb693153645e",
       "version_major": 2,
       "version_minor": 0
      },
      "text/plain": [
       "  0%|          | 0/4893 [00:00<?, ?it/s]"
      ]
     },
     "metadata": {},
     "output_type": "display_data"
    },
    {
     "data": {
      "application/vnd.jupyter.widget-view+json": {
       "model_id": "45f8a8d66b374fc3ad50413998701170",
       "version_major": 2,
       "version_minor": 0
      },
      "text/plain": [
       "  0%|          | 0/4893 [00:00<?, ?it/s]"
      ]
     },
     "metadata": {},
     "output_type": "display_data"
    },
    {
     "data": {
      "application/vnd.jupyter.widget-view+json": {
       "model_id": "34fd5d4f115a431791388ed2e11d5e65",
       "version_major": 2,
       "version_minor": 0
      },
      "text/plain": [
       "  0%|          | 0/4893 [00:00<?, ?it/s]"
      ]
     },
     "metadata": {},
     "output_type": "display_data"
    },
    {
     "data": {
      "application/vnd.jupyter.widget-view+json": {
       "model_id": "d3625fca2e1c4c74a1ea9d54aa21f009",
       "version_major": 2,
       "version_minor": 0
      },
      "text/plain": [
       "  0%|          | 0/3742 [00:00<?, ?it/s]"
      ]
     },
     "metadata": {},
     "output_type": "display_data"
    },
    {
     "data": {
      "application/vnd.jupyter.widget-view+json": {
       "model_id": "104203eaf0014fe4b33d5b6a20e93772",
       "version_major": 2,
       "version_minor": 0
      },
      "text/plain": [
       "  0%|          | 0/1154 [00:00<?, ?it/s]"
      ]
     },
     "metadata": {},
     "output_type": "display_data"
    },
    {
     "data": {
      "application/vnd.jupyter.widget-view+json": {
       "model_id": "d04ae3c774104ffeb69881401196c13b",
       "version_major": 2,
       "version_minor": 0
      },
      "text/plain": [
       "  0%|          | 0/4893 [00:00<?, ?it/s]"
      ]
     },
     "metadata": {},
     "output_type": "display_data"
    },
    {
     "data": {
      "application/vnd.jupyter.widget-view+json": {
       "model_id": "b73818658a604a7b93c17dfd59e4b2ee",
       "version_major": 2,
       "version_minor": 0
      },
      "text/plain": [
       "  0%|          | 0/4893 [00:00<?, ?it/s]"
      ]
     },
     "metadata": {},
     "output_type": "display_data"
    },
    {
     "data": {
      "application/vnd.jupyter.widget-view+json": {
       "model_id": "ca0bc814ad3140468ad90a95196d5fd2",
       "version_major": 2,
       "version_minor": 0
      },
      "text/plain": [
       "  0%|          | 0/4294 [00:00<?, ?it/s]"
      ]
     },
     "metadata": {},
     "output_type": "display_data"
    },
    {
     "data": {
      "application/vnd.jupyter.widget-view+json": {
       "model_id": "4f6b7a07559e47f8aef9f3097d46e806",
       "version_major": 2,
       "version_minor": 0
      },
      "text/plain": [
       "  0%|          | 0/4294 [00:00<?, ?it/s]"
      ]
     },
     "metadata": {},
     "output_type": "display_data"
    },
    {
     "data": {
      "application/vnd.jupyter.widget-view+json": {
       "model_id": "e252c5c0ebba4bc189a12471aa91c197",
       "version_major": 2,
       "version_minor": 0
      },
      "text/plain": [
       "  0%|          | 0/4294 [00:00<?, ?it/s]"
      ]
     },
     "metadata": {},
     "output_type": "display_data"
    },
    {
     "data": {
      "application/vnd.jupyter.widget-view+json": {
       "model_id": "f8665fafd92046b582b4504566922a94",
       "version_major": 2,
       "version_minor": 0
      },
      "text/plain": [
       "  0%|          | 0/2248 [00:00<?, ?it/s]"
      ]
     },
     "metadata": {},
     "output_type": "display_data"
    },
    {
     "data": {
      "application/vnd.jupyter.widget-view+json": {
       "model_id": "d93f4b861b7041358aaed50f3b2c7199",
       "version_major": 2,
       "version_minor": 0
      },
      "text/plain": [
       "  0%|          | 0/427 [00:00<?, ?it/s]"
      ]
     },
     "metadata": {},
     "output_type": "display_data"
    },
    {
     "data": {
      "application/vnd.jupyter.widget-view+json": {
       "model_id": "2fd34e41f7684e7286dc40712621121b",
       "version_major": 2,
       "version_minor": 0
      },
      "text/plain": [
       "  0%|          | 0/4294 [00:00<?, ?it/s]"
      ]
     },
     "metadata": {},
     "output_type": "display_data"
    },
    {
     "data": {
      "application/vnd.jupyter.widget-view+json": {
       "model_id": "3cdb18a04d0b4794b3d53e6bfbd205f7",
       "version_major": 2,
       "version_minor": 0
      },
      "text/plain": [
       "  0%|          | 0/4294 [00:00<?, ?it/s]"
      ]
     },
     "metadata": {},
     "output_type": "display_data"
    },
    {
     "data": {
      "application/vnd.jupyter.widget-view+json": {
       "model_id": "9d2f76e74fd04165812c88d4245f6acb",
       "version_major": 2,
       "version_minor": 0
      },
      "text/plain": [
       "  0%|          | 0/2237 [00:00<?, ?it/s]"
      ]
     },
     "metadata": {},
     "output_type": "display_data"
    },
    {
     "data": {
      "application/vnd.jupyter.widget-view+json": {
       "model_id": "c66b41040c1a4025a8c621edb60e0f4f",
       "version_major": 2,
       "version_minor": 0
      },
      "text/plain": [
       "  0%|          | 0/2237 [00:00<?, ?it/s]"
      ]
     },
     "metadata": {},
     "output_type": "display_data"
    },
    {
     "data": {
      "application/vnd.jupyter.widget-view+json": {
       "model_id": "cb7ee7249853458d97f36a9156ec3206",
       "version_major": 2,
       "version_minor": 0
      },
      "text/plain": [
       "  0%|          | 0/2237 [00:00<?, ?it/s]"
      ]
     },
     "metadata": {},
     "output_type": "display_data"
    },
    {
     "data": {
      "application/vnd.jupyter.widget-view+json": {
       "model_id": "0574ceb5b1254f24bf76d1eb4c69be18",
       "version_major": 2,
       "version_minor": 0
      },
      "text/plain": [
       "  0%|          | 0/826 [00:00<?, ?it/s]"
      ]
     },
     "metadata": {},
     "output_type": "display_data"
    },
    {
     "data": {
      "application/vnd.jupyter.widget-view+json": {
       "model_id": "376e2e43adea465faa79592f411dd752",
       "version_major": 2,
       "version_minor": 0
      },
      "text/plain": [
       "  0%|          | 0/89 [00:00<?, ?it/s]"
      ]
     },
     "metadata": {},
     "output_type": "display_data"
    },
    {
     "data": {
      "application/vnd.jupyter.widget-view+json": {
       "model_id": "5a56cc72935a43689b33b75c9e391155",
       "version_major": 2,
       "version_minor": 0
      },
      "text/plain": [
       "  0%|          | 0/2237 [00:00<?, ?it/s]"
      ]
     },
     "metadata": {},
     "output_type": "display_data"
    },
    {
     "data": {
      "application/vnd.jupyter.widget-view+json": {
       "model_id": "4f6a95e839e84de9bfddc26c9d2ce08a",
       "version_major": 2,
       "version_minor": 0
      },
      "text/plain": [
       "  0%|          | 0/2237 [00:00<?, ?it/s]"
      ]
     },
     "metadata": {},
     "output_type": "display_data"
    },
    {
     "data": {
      "application/vnd.jupyter.widget-view+json": {
       "model_id": "d793870ff1004e5f98fa85b04a507a9c",
       "version_major": 2,
       "version_minor": 0
      },
      "text/plain": [
       "  0%|          | 0/1150 [00:00<?, ?it/s]"
      ]
     },
     "metadata": {},
     "output_type": "display_data"
    },
    {
     "data": {
      "application/vnd.jupyter.widget-view+json": {
       "model_id": "145754512d7840b2890bee45acc86fe7",
       "version_major": 2,
       "version_minor": 0
      },
      "text/plain": [
       "  0%|          | 0/1150 [00:00<?, ?it/s]"
      ]
     },
     "metadata": {},
     "output_type": "display_data"
    },
    {
     "data": {
      "application/vnd.jupyter.widget-view+json": {
       "model_id": "f78c522dd0054f37b97dc2e8c1e8a3d8",
       "version_major": 2,
       "version_minor": 0
      },
      "text/plain": [
       "  0%|          | 0/1150 [00:00<?, ?it/s]"
      ]
     },
     "metadata": {},
     "output_type": "display_data"
    },
    {
     "data": {
      "application/vnd.jupyter.widget-view+json": {
       "model_id": "cf8bc5d04b8846519e3808b6026f73b9",
       "version_major": 2,
       "version_minor": 0
      },
      "text/plain": [
       "  0%|          | 0/502 [00:00<?, ?it/s]"
      ]
     },
     "metadata": {},
     "output_type": "display_data"
    },
    {
     "data": {
      "application/vnd.jupyter.widget-view+json": {
       "model_id": "90cd6698e4524fd1a0090cb0811c38bd",
       "version_major": 2,
       "version_minor": 0
      },
      "text/plain": [
       "  0%|          | 0/39 [00:00<?, ?it/s]"
      ]
     },
     "metadata": {},
     "output_type": "display_data"
    },
    {
     "data": {
      "application/vnd.jupyter.widget-view+json": {
       "model_id": "dcec7a5a734540fea5df3f14b08dcd70",
       "version_major": 2,
       "version_minor": 0
      },
      "text/plain": [
       "  0%|          | 0/1150 [00:00<?, ?it/s]"
      ]
     },
     "metadata": {},
     "output_type": "display_data"
    },
    {
     "data": {
      "application/vnd.jupyter.widget-view+json": {
       "model_id": "435b5e4841fe4df7b5b5ae72f0dde971",
       "version_major": 2,
       "version_minor": 0
      },
      "text/plain": [
       "  0%|          | 0/1150 [00:00<?, ?it/s]"
      ]
     },
     "metadata": {},
     "output_type": "display_data"
    },
    {
     "data": {
      "application/vnd.jupyter.widget-view+json": {
       "model_id": "391c317537614fbcb2120993cd2c59bb",
       "version_major": 2,
       "version_minor": 0
      },
      "text/plain": [
       "  0%|          | 0/1093 [00:00<?, ?it/s]"
      ]
     },
     "metadata": {},
     "output_type": "display_data"
    },
    {
     "data": {
      "application/vnd.jupyter.widget-view+json": {
       "model_id": "7e4452dd2ca64aacad44e31030a61f71",
       "version_major": 2,
       "version_minor": 0
      },
      "text/plain": [
       "  0%|          | 0/1093 [00:00<?, ?it/s]"
      ]
     },
     "metadata": {},
     "output_type": "display_data"
    },
    {
     "data": {
      "application/vnd.jupyter.widget-view+json": {
       "model_id": "8424f90c7ca345f58d74740b82e4592b",
       "version_major": 2,
       "version_minor": 0
      },
      "text/plain": [
       "  0%|          | 0/1093 [00:00<?, ?it/s]"
      ]
     },
     "metadata": {},
     "output_type": "display_data"
    },
    {
     "data": {
      "application/vnd.jupyter.widget-view+json": {
       "model_id": "52be84c9d1954a449db835d81cd46d1d",
       "version_major": 2,
       "version_minor": 0
      },
      "text/plain": [
       "  0%|          | 0/599 [00:00<?, ?it/s]"
      ]
     },
     "metadata": {},
     "output_type": "display_data"
    },
    {
     "data": {
      "application/vnd.jupyter.widget-view+json": {
       "model_id": "d39880fc79bf46d2866b110789fae162",
       "version_major": 2,
       "version_minor": 0
      },
      "text/plain": [
       "  0%|          | 0/71 [00:00<?, ?it/s]"
      ]
     },
     "metadata": {},
     "output_type": "display_data"
    },
    {
     "data": {
      "application/vnd.jupyter.widget-view+json": {
       "model_id": "f762a596459748f881f29feae4257691",
       "version_major": 2,
       "version_minor": 0
      },
      "text/plain": [
       "  0%|          | 0/1093 [00:00<?, ?it/s]"
      ]
     },
     "metadata": {},
     "output_type": "display_data"
    },
    {
     "data": {
      "application/vnd.jupyter.widget-view+json": {
       "model_id": "f9adf31a034d4e09bfda7ac242e75604",
       "version_major": 2,
       "version_minor": 0
      },
      "text/plain": [
       "  0%|          | 0/1093 [00:00<?, ?it/s]"
      ]
     },
     "metadata": {},
     "output_type": "display_data"
    }
   ],
   "source": [
    "cats_toys_bigram, cats_toys_trigram, cats_toys_reviews = preprocess_review(df1.reviewText, extra_stopwords = ['cat', 'cats', 'toy', 'toys'])\n",
    "cats_food_bigram, cats_food_trigram, cats_food_reviews = preprocess_review(df2.reviewText, extra_stopwords = ['cat', 'cats', 'food'])\n",
    "cats_beds_bigram, cats_beds_trigram, cats_beds_reviews = preprocess_review(df3.reviewText, extra_stopwords = ['cat', 'cats', 'bed', 'beds'] )\n",
    "cats_litter_bigram, cats_litter_trigram, cats_litter_reviews = preprocess_review(df4.reviewText, extra_stopwords = ['cat', 'cats', 'litters', 'litter'])\n",
    "cats_health_supplies_bigram, cats_health_supplies_trigram, cats_health_supplies_reviews = preprocess_review(df5.reviewText, extra_stopwords = ['cat', 'cats'])\n",
    "cats_treats_bigram, cats_treats_trigram, cats_treats_reviews = preprocess_review(df6.reviewText, extra_stopwords = ['cat', 'cats', 'treat', 'treats'])\n",
    "cats_grooming_bigram, cats_grooming_trigram, cats_grooming_reviews = preprocess_review(df7.reviewText, extra_stopwords = ['cat', 'cats'])\n",
    "cats_feeding_supplies_bigram, cats_feeding_suppliess_trigram, cats_feeding_supplies_reviews = preprocess_review(df8.reviewText, extra_stopwords = ['cat', 'cats'])"
   ]
  },
  {
   "cell_type": "code",
   "execution_count": 287,
   "id": "402f8b35",
   "metadata": {},
   "outputs": [
    {
     "data": {
      "application/vnd.jupyter.widget-view+json": {
       "model_id": "5a7f87760d824162b2cac35132a1e9e1",
       "version_major": 2,
       "version_minor": 0
      },
      "text/plain": [
       "  0%|          | 0/7893 [00:00<?, ?it/s]"
      ]
     },
     "metadata": {},
     "output_type": "display_data"
    },
    {
     "data": {
      "application/vnd.jupyter.widget-view+json": {
       "model_id": "23ba2e34f406450faca81e6f6180655e",
       "version_major": 2,
       "version_minor": 0
      },
      "text/plain": [
       "  0%|          | 0/7893 [00:00<?, ?it/s]"
      ]
     },
     "metadata": {},
     "output_type": "display_data"
    },
    {
     "data": {
      "application/vnd.jupyter.widget-view+json": {
       "model_id": "929d0f35ddb54ba8ae0e387ec76dc713",
       "version_major": 2,
       "version_minor": 0
      },
      "text/plain": [
       "  0%|          | 0/7893 [00:00<?, ?it/s]"
      ]
     },
     "metadata": {},
     "output_type": "display_data"
    },
    {
     "data": {
      "application/vnd.jupyter.widget-view+json": {
       "model_id": "f3d37f2166bf408881b0cb90bb438c00",
       "version_major": 2,
       "version_minor": 0
      },
      "text/plain": [
       "  0%|          | 0/3745 [00:00<?, ?it/s]"
      ]
     },
     "metadata": {},
     "output_type": "display_data"
    },
    {
     "data": {
      "application/vnd.jupyter.widget-view+json": {
       "model_id": "be2957f7cfcc4245879be903c5cfd4a9",
       "version_major": 2,
       "version_minor": 0
      },
      "text/plain": [
       "  0%|          | 0/1269 [00:00<?, ?it/s]"
      ]
     },
     "metadata": {},
     "output_type": "display_data"
    },
    {
     "data": {
      "application/vnd.jupyter.widget-view+json": {
       "model_id": "915aa1564b0048e8804a85e341630d44",
       "version_major": 2,
       "version_minor": 0
      },
      "text/plain": [
       "  0%|          | 0/7893 [00:00<?, ?it/s]"
      ]
     },
     "metadata": {},
     "output_type": "display_data"
    },
    {
     "data": {
      "application/vnd.jupyter.widget-view+json": {
       "model_id": "b3d5390a0ac34d2f9873b07c9d5c0475",
       "version_major": 2,
       "version_minor": 0
      },
      "text/plain": [
       "  0%|          | 0/7893 [00:00<?, ?it/s]"
      ]
     },
     "metadata": {},
     "output_type": "display_data"
    },
    {
     "data": {
      "application/vnd.jupyter.widget-view+json": {
       "model_id": "fb946b2123914212a592735701b304e8",
       "version_major": 2,
       "version_minor": 0
      },
      "text/plain": [
       "  0%|          | 0/5999 [00:00<?, ?it/s]"
      ]
     },
     "metadata": {},
     "output_type": "display_data"
    },
    {
     "data": {
      "application/vnd.jupyter.widget-view+json": {
       "model_id": "e56d71087d314da9816b5b247a147ce4",
       "version_major": 2,
       "version_minor": 0
      },
      "text/plain": [
       "  0%|          | 0/5999 [00:00<?, ?it/s]"
      ]
     },
     "metadata": {},
     "output_type": "display_data"
    },
    {
     "data": {
      "application/vnd.jupyter.widget-view+json": {
       "model_id": "880e4003f1694eadbde3f1200b6e971c",
       "version_major": 2,
       "version_minor": 0
      },
      "text/plain": [
       "  0%|          | 0/5999 [00:00<?, ?it/s]"
      ]
     },
     "metadata": {},
     "output_type": "display_data"
    },
    {
     "data": {
      "application/vnd.jupyter.widget-view+json": {
       "model_id": "856f6585284245e0a7c9df2427631757",
       "version_major": 2,
       "version_minor": 0
      },
      "text/plain": [
       "  0%|          | 0/3561 [00:00<?, ?it/s]"
      ]
     },
     "metadata": {},
     "output_type": "display_data"
    },
    {
     "data": {
      "application/vnd.jupyter.widget-view+json": {
       "model_id": "159ef31872f54a8e85a3ee945fdb1af9",
       "version_major": 2,
       "version_minor": 0
      },
      "text/plain": [
       "  0%|          | 0/1195 [00:00<?, ?it/s]"
      ]
     },
     "metadata": {},
     "output_type": "display_data"
    },
    {
     "data": {
      "application/vnd.jupyter.widget-view+json": {
       "model_id": "faf1f79860934894b8c4c1ff46f6a8a8",
       "version_major": 2,
       "version_minor": 0
      },
      "text/plain": [
       "  0%|          | 0/5999 [00:00<?, ?it/s]"
      ]
     },
     "metadata": {},
     "output_type": "display_data"
    },
    {
     "data": {
      "application/vnd.jupyter.widget-view+json": {
       "model_id": "24b5dcb4e5af48bf85ea823780152301",
       "version_major": 2,
       "version_minor": 0
      },
      "text/plain": [
       "  0%|          | 0/5999 [00:00<?, ?it/s]"
      ]
     },
     "metadata": {},
     "output_type": "display_data"
    },
    {
     "data": {
      "application/vnd.jupyter.widget-view+json": {
       "model_id": "f79e64590e8b4b4b940edc990d427d28",
       "version_major": 2,
       "version_minor": 0
      },
      "text/plain": [
       "  0%|          | 0/5840 [00:00<?, ?it/s]"
      ]
     },
     "metadata": {},
     "output_type": "display_data"
    },
    {
     "data": {
      "application/vnd.jupyter.widget-view+json": {
       "model_id": "c7379e0f463c4c82a8ccaf43054c2ee9",
       "version_major": 2,
       "version_minor": 0
      },
      "text/plain": [
       "  0%|          | 0/5840 [00:00<?, ?it/s]"
      ]
     },
     "metadata": {},
     "output_type": "display_data"
    },
    {
     "data": {
      "application/vnd.jupyter.widget-view+json": {
       "model_id": "05ebf1573d4d49be9cbf18fc428ff938",
       "version_major": 2,
       "version_minor": 0
      },
      "text/plain": [
       "  0%|          | 0/5840 [00:00<?, ?it/s]"
      ]
     },
     "metadata": {},
     "output_type": "display_data"
    },
    {
     "data": {
      "application/vnd.jupyter.widget-view+json": {
       "model_id": "4f25a2fafd664882ba12dddda4ab7584",
       "version_major": 2,
       "version_minor": 0
      },
      "text/plain": [
       "  0%|          | 0/3445 [00:00<?, ?it/s]"
      ]
     },
     "metadata": {},
     "output_type": "display_data"
    },
    {
     "data": {
      "application/vnd.jupyter.widget-view+json": {
       "model_id": "30a34bc5eed04f369ec34615ad9315e0",
       "version_major": 2,
       "version_minor": 0
      },
      "text/plain": [
       "  0%|          | 0/1059 [00:00<?, ?it/s]"
      ]
     },
     "metadata": {},
     "output_type": "display_data"
    },
    {
     "data": {
      "application/vnd.jupyter.widget-view+json": {
       "model_id": "cc531d5ec82c4d8caebfcfcb76bf4585",
       "version_major": 2,
       "version_minor": 0
      },
      "text/plain": [
       "  0%|          | 0/5840 [00:00<?, ?it/s]"
      ]
     },
     "metadata": {},
     "output_type": "display_data"
    },
    {
     "data": {
      "application/vnd.jupyter.widget-view+json": {
       "model_id": "83d6301ef96f4c178a7d0cfbabd6ec25",
       "version_major": 2,
       "version_minor": 0
      },
      "text/plain": [
       "  0%|          | 0/5840 [00:00<?, ?it/s]"
      ]
     },
     "metadata": {},
     "output_type": "display_data"
    },
    {
     "data": {
      "application/vnd.jupyter.widget-view+json": {
       "model_id": "e45819b115734a65b1dcf6ab917fa9fd",
       "version_major": 2,
       "version_minor": 0
      },
      "text/plain": [
       "  0%|          | 0/4893 [00:00<?, ?it/s]"
      ]
     },
     "metadata": {},
     "output_type": "display_data"
    },
    {
     "data": {
      "application/vnd.jupyter.widget-view+json": {
       "model_id": "4dbb1a4605de4d58808fbbb07532af52",
       "version_major": 2,
       "version_minor": 0
      },
      "text/plain": [
       "  0%|          | 0/4893 [00:00<?, ?it/s]"
      ]
     },
     "metadata": {},
     "output_type": "display_data"
    },
    {
     "data": {
      "application/vnd.jupyter.widget-view+json": {
       "model_id": "1ab3bd68ac124af0b1720a4eea4a3436",
       "version_major": 2,
       "version_minor": 0
      },
      "text/plain": [
       "  0%|          | 0/4893 [00:00<?, ?it/s]"
      ]
     },
     "metadata": {},
     "output_type": "display_data"
    },
    {
     "data": {
      "application/vnd.jupyter.widget-view+json": {
       "model_id": "cc2b3e0b45554c9ebc4fc37cf522516a",
       "version_major": 2,
       "version_minor": 0
      },
      "text/plain": [
       "  0%|          | 0/3742 [00:00<?, ?it/s]"
      ]
     },
     "metadata": {},
     "output_type": "display_data"
    },
    {
     "data": {
      "application/vnd.jupyter.widget-view+json": {
       "model_id": "fd30f9092dc14dae9e06dca757e0e2dc",
       "version_major": 2,
       "version_minor": 0
      },
      "text/plain": [
       "  0%|          | 0/1154 [00:00<?, ?it/s]"
      ]
     },
     "metadata": {},
     "output_type": "display_data"
    },
    {
     "data": {
      "application/vnd.jupyter.widget-view+json": {
       "model_id": "1fea570b6c6b4e89b08796c7702cfdf7",
       "version_major": 2,
       "version_minor": 0
      },
      "text/plain": [
       "  0%|          | 0/4893 [00:00<?, ?it/s]"
      ]
     },
     "metadata": {},
     "output_type": "display_data"
    },
    {
     "data": {
      "application/vnd.jupyter.widget-view+json": {
       "model_id": "22a462b69b394a6d9624cf1683c4d0ce",
       "version_major": 2,
       "version_minor": 0
      },
      "text/plain": [
       "  0%|          | 0/4893 [00:00<?, ?it/s]"
      ]
     },
     "metadata": {},
     "output_type": "display_data"
    },
    {
     "data": {
      "application/vnd.jupyter.widget-view+json": {
       "model_id": "abf6549dafb744ba883f18b58a6db7d4",
       "version_major": 2,
       "version_minor": 0
      },
      "text/plain": [
       "  0%|          | 0/4294 [00:00<?, ?it/s]"
      ]
     },
     "metadata": {},
     "output_type": "display_data"
    },
    {
     "data": {
      "application/vnd.jupyter.widget-view+json": {
       "model_id": "e8b05bf3eb674bbcb7972a866e5f9433",
       "version_major": 2,
       "version_minor": 0
      },
      "text/plain": [
       "  0%|          | 0/4294 [00:00<?, ?it/s]"
      ]
     },
     "metadata": {},
     "output_type": "display_data"
    },
    {
     "data": {
      "application/vnd.jupyter.widget-view+json": {
       "model_id": "2c41bd61fde840fab143fd439192e114",
       "version_major": 2,
       "version_minor": 0
      },
      "text/plain": [
       "  0%|          | 0/4294 [00:00<?, ?it/s]"
      ]
     },
     "metadata": {},
     "output_type": "display_data"
    },
    {
     "data": {
      "application/vnd.jupyter.widget-view+json": {
       "model_id": "d9709d8952d74b799c1411a989c060ca",
       "version_major": 2,
       "version_minor": 0
      },
      "text/plain": [
       "  0%|          | 0/2248 [00:00<?, ?it/s]"
      ]
     },
     "metadata": {},
     "output_type": "display_data"
    },
    {
     "data": {
      "application/vnd.jupyter.widget-view+json": {
       "model_id": "de7a2094aede41139f4e036f4ee20c58",
       "version_major": 2,
       "version_minor": 0
      },
      "text/plain": [
       "  0%|          | 0/427 [00:00<?, ?it/s]"
      ]
     },
     "metadata": {},
     "output_type": "display_data"
    },
    {
     "data": {
      "application/vnd.jupyter.widget-view+json": {
       "model_id": "5eab02a6ad714bef95f86ce794261175",
       "version_major": 2,
       "version_minor": 0
      },
      "text/plain": [
       "  0%|          | 0/4294 [00:00<?, ?it/s]"
      ]
     },
     "metadata": {},
     "output_type": "display_data"
    },
    {
     "data": {
      "application/vnd.jupyter.widget-view+json": {
       "model_id": "5c67a54f6d79430bb823b0669279a792",
       "version_major": 2,
       "version_minor": 0
      },
      "text/plain": [
       "  0%|          | 0/4294 [00:00<?, ?it/s]"
      ]
     },
     "metadata": {},
     "output_type": "display_data"
    },
    {
     "data": {
      "application/vnd.jupyter.widget-view+json": {
       "model_id": "9fe10f392f9b4f4eb79a169b8cbbb997",
       "version_major": 2,
       "version_minor": 0
      },
      "text/plain": [
       "  0%|          | 0/2237 [00:00<?, ?it/s]"
      ]
     },
     "metadata": {},
     "output_type": "display_data"
    },
    {
     "data": {
      "application/vnd.jupyter.widget-view+json": {
       "model_id": "defe13ac896243f3b765984538bb3163",
       "version_major": 2,
       "version_minor": 0
      },
      "text/plain": [
       "  0%|          | 0/2237 [00:00<?, ?it/s]"
      ]
     },
     "metadata": {},
     "output_type": "display_data"
    },
    {
     "data": {
      "application/vnd.jupyter.widget-view+json": {
       "model_id": "71a4c0f6283a4ff2833ec873c74825e6",
       "version_major": 2,
       "version_minor": 0
      },
      "text/plain": [
       "  0%|          | 0/2237 [00:00<?, ?it/s]"
      ]
     },
     "metadata": {},
     "output_type": "display_data"
    },
    {
     "data": {
      "application/vnd.jupyter.widget-view+json": {
       "model_id": "c0aaebc69a9a4f13b4bc91bfa24a17e9",
       "version_major": 2,
       "version_minor": 0
      },
      "text/plain": [
       "  0%|          | 0/826 [00:00<?, ?it/s]"
      ]
     },
     "metadata": {},
     "output_type": "display_data"
    },
    {
     "data": {
      "application/vnd.jupyter.widget-view+json": {
       "model_id": "c20a346bb62c49c0a58b0104f8bab1f5",
       "version_major": 2,
       "version_minor": 0
      },
      "text/plain": [
       "  0%|          | 0/89 [00:00<?, ?it/s]"
      ]
     },
     "metadata": {},
     "output_type": "display_data"
    },
    {
     "data": {
      "application/vnd.jupyter.widget-view+json": {
       "model_id": "c4a23376fdff41c19af9bc02323e499a",
       "version_major": 2,
       "version_minor": 0
      },
      "text/plain": [
       "  0%|          | 0/2237 [00:00<?, ?it/s]"
      ]
     },
     "metadata": {},
     "output_type": "display_data"
    },
    {
     "data": {
      "application/vnd.jupyter.widget-view+json": {
       "model_id": "17c0796b6bdb42f7a1a9ad08ef7a462b",
       "version_major": 2,
       "version_minor": 0
      },
      "text/plain": [
       "  0%|          | 0/2237 [00:00<?, ?it/s]"
      ]
     },
     "metadata": {},
     "output_type": "display_data"
    },
    {
     "data": {
      "application/vnd.jupyter.widget-view+json": {
       "model_id": "e07e192a0ad34d8a9021e589e194871e",
       "version_major": 2,
       "version_minor": 0
      },
      "text/plain": [
       "  0%|          | 0/1150 [00:00<?, ?it/s]"
      ]
     },
     "metadata": {},
     "output_type": "display_data"
    },
    {
     "data": {
      "application/vnd.jupyter.widget-view+json": {
       "model_id": "30f68bdda61c4c8faad3d6adbf64953a",
       "version_major": 2,
       "version_minor": 0
      },
      "text/plain": [
       "  0%|          | 0/1150 [00:00<?, ?it/s]"
      ]
     },
     "metadata": {},
     "output_type": "display_data"
    },
    {
     "data": {
      "application/vnd.jupyter.widget-view+json": {
       "model_id": "c84aaa3bcf52448ea8eff47621d735e0",
       "version_major": 2,
       "version_minor": 0
      },
      "text/plain": [
       "  0%|          | 0/1150 [00:00<?, ?it/s]"
      ]
     },
     "metadata": {},
     "output_type": "display_data"
    },
    {
     "data": {
      "application/vnd.jupyter.widget-view+json": {
       "model_id": "3f1581aa2ddc467892be1fb3d79fd2c9",
       "version_major": 2,
       "version_minor": 0
      },
      "text/plain": [
       "  0%|          | 0/502 [00:00<?, ?it/s]"
      ]
     },
     "metadata": {},
     "output_type": "display_data"
    },
    {
     "data": {
      "application/vnd.jupyter.widget-view+json": {
       "model_id": "191464b27f2c470d944f809335e64965",
       "version_major": 2,
       "version_minor": 0
      },
      "text/plain": [
       "  0%|          | 0/39 [00:00<?, ?it/s]"
      ]
     },
     "metadata": {},
     "output_type": "display_data"
    },
    {
     "data": {
      "application/vnd.jupyter.widget-view+json": {
       "model_id": "7e79933ec6e042e988f615c66cb9abe8",
       "version_major": 2,
       "version_minor": 0
      },
      "text/plain": [
       "  0%|          | 0/1150 [00:00<?, ?it/s]"
      ]
     },
     "metadata": {},
     "output_type": "display_data"
    },
    {
     "data": {
      "application/vnd.jupyter.widget-view+json": {
       "model_id": "5f0049cf65064693a80b36993b054856",
       "version_major": 2,
       "version_minor": 0
      },
      "text/plain": [
       "  0%|          | 0/1150 [00:00<?, ?it/s]"
      ]
     },
     "metadata": {},
     "output_type": "display_data"
    },
    {
     "data": {
      "application/vnd.jupyter.widget-view+json": {
       "model_id": "9fc2540272f24489b61102c3d1edfb6b",
       "version_major": 2,
       "version_minor": 0
      },
      "text/plain": [
       "  0%|          | 0/1093 [00:00<?, ?it/s]"
      ]
     },
     "metadata": {},
     "output_type": "display_data"
    },
    {
     "data": {
      "application/vnd.jupyter.widget-view+json": {
       "model_id": "8c7a35e34ac04a35bfa3e13475eaeacc",
       "version_major": 2,
       "version_minor": 0
      },
      "text/plain": [
       "  0%|          | 0/1093 [00:00<?, ?it/s]"
      ]
     },
     "metadata": {},
     "output_type": "display_data"
    },
    {
     "data": {
      "application/vnd.jupyter.widget-view+json": {
       "model_id": "91491840d45b461d82d688ad641546ae",
       "version_major": 2,
       "version_minor": 0
      },
      "text/plain": [
       "  0%|          | 0/1093 [00:00<?, ?it/s]"
      ]
     },
     "metadata": {},
     "output_type": "display_data"
    },
    {
     "data": {
      "application/vnd.jupyter.widget-view+json": {
       "model_id": "1f0907470760486d8188e161d608ba7c",
       "version_major": 2,
       "version_minor": 0
      },
      "text/plain": [
       "  0%|          | 0/599 [00:00<?, ?it/s]"
      ]
     },
     "metadata": {},
     "output_type": "display_data"
    },
    {
     "data": {
      "application/vnd.jupyter.widget-view+json": {
       "model_id": "a151fa78c5034a6b9ffb196dc6aae1d2",
       "version_major": 2,
       "version_minor": 0
      },
      "text/plain": [
       "  0%|          | 0/71 [00:00<?, ?it/s]"
      ]
     },
     "metadata": {},
     "output_type": "display_data"
    },
    {
     "data": {
      "application/vnd.jupyter.widget-view+json": {
       "model_id": "d1bd8a304c794bd8afab45e3c2179930",
       "version_major": 2,
       "version_minor": 0
      },
      "text/plain": [
       "  0%|          | 0/1093 [00:00<?, ?it/s]"
      ]
     },
     "metadata": {},
     "output_type": "display_data"
    },
    {
     "data": {
      "application/vnd.jupyter.widget-view+json": {
       "model_id": "9abe27c16a7b4cefa442bce06b900cdb",
       "version_major": 2,
       "version_minor": 0
      },
      "text/plain": [
       "  0%|          | 0/1093 [00:00<?, ?it/s]"
      ]
     },
     "metadata": {},
     "output_type": "display_data"
    }
   ],
   "source": [
    "cats_toys_bigram, cats_toys_trigram, cats_toys_reviews2 = preprocess_review(df1.reviewText, extra_stopwords = ['cat', 'cats', 'toy', 'toys'],\n",
    "                                                                          allowed_postags = ['ADJ', 'VERB', 'ADV'])\n",
    "cats_food_bigram, cats_food_trigram, cats_food_reviews2 = preprocess_review(df2.reviewText, extra_stopwords = ['cat', 'cats', 'food'],\n",
    "                                                                          allowed_postags = ['ADJ', 'VERB', 'ADV'])\n",
    "cats_beds_bigram, cats_beds_trigram, cats_beds_reviews2 = preprocess_review(df3.reviewText, extra_stopwords = ['cat', 'cats', 'bed', 'beds'],\n",
    "                                                                          allowed_postags = ['ADJ', 'VERB', 'ADV'])\n",
    "cats_litter_bigram, cats_litter_trigram, cats_litter_reviews2 = preprocess_review(df4.reviewText, extra_stopwords = ['cat', 'cats', 'litters', 'litter'],\n",
    "                                                                                allowed_postags = ['ADJ', 'VERB', 'ADV'])\n",
    "cats_health_supplies_bigram, cats_health_supplies_trigram, cats_health_supplies_reviews2 = preprocess_review(df5.reviewText, extra_stopwords = ['cat', 'cats'],\n",
    "                                                                                                           allowed_postags = ['ADJ', 'VERB', 'ADV'])\n",
    "cats_treats_bigram, cats_treats_trigram, cats_treats_reviews2 = preprocess_review(df6.reviewText, extra_stopwords = ['cat', 'cats', 'treat', 'treats'],\n",
    "                                                                                allowed_postags = ['ADJ', 'VERB', 'ADV'])\n",
    "cats_grooming_bigram, cats_grooming_trigram, cats_grooming_reviews2 = preprocess_review(df7.reviewText, extra_stopwords = ['cat', 'cats'],\n",
    "                                                                                      allowed_postags = ['ADJ', 'VERB', 'ADV'])\n",
    "cats_feeding_supplies_bigram, cats_feeding_suppliess_trigram, cats_feeding_supplies_reviews2 = preprocess_review(df8.reviewText, extra_stopwords = ['cat', 'cats'],\n",
    "                                                                                                               allowed_postags = ['ADJ', 'VERB', 'ADV'])"
   ]
  },
  {
   "cell_type": "code",
   "execution_count": 88,
   "id": "c654cae7",
   "metadata": {},
   "outputs": [
    {
     "data": {
      "text/html": [
       "<div>\n",
       "<style scoped>\n",
       "    .dataframe tbody tr th:only-of-type {\n",
       "        vertical-align: middle;\n",
       "    }\n",
       "\n",
       "    .dataframe tbody tr th {\n",
       "        vertical-align: top;\n",
       "    }\n",
       "\n",
       "    .dataframe thead th {\n",
       "        text-align: right;\n",
       "    }\n",
       "</style>\n",
       "<table border=\"1\" class=\"dataframe\">\n",
       "  <thead>\n",
       "    <tr style=\"text-align: right;\">\n",
       "      <th></th>\n",
       "      <th>bigram</th>\n",
       "      <th>pmi</th>\n",
       "    </tr>\n",
       "  </thead>\n",
       "  <tbody>\n",
       "    <tr>\n",
       "      <th>0</th>\n",
       "      <td>(maine, coon)</td>\n",
       "      <td>13.269454</td>\n",
       "    </tr>\n",
       "    <tr>\n",
       "      <th>1</th>\n",
       "      <td>(hyaluronic, acid)</td>\n",
       "      <td>12.465851</td>\n",
       "    </tr>\n",
       "    <tr>\n",
       "      <th>2</th>\n",
       "      <td>(vetri, science)</td>\n",
       "      <td>11.822090</td>\n",
       "    </tr>\n",
       "    <tr>\n",
       "      <th>3</th>\n",
       "      <td>(herpes, virus)</td>\n",
       "      <td>11.817771</td>\n",
       "    </tr>\n",
       "    <tr>\n",
       "      <th>4</th>\n",
       "      <td>(urinary, tract)</td>\n",
       "      <td>11.552751</td>\n",
       "    </tr>\n",
       "    <tr>\n",
       "      <th>5</th>\n",
       "      <td>(comfort, zone)</td>\n",
       "      <td>11.045878</td>\n",
       "    </tr>\n",
       "    <tr>\n",
       "      <th>6</th>\n",
       "      <td>(plug, ins)</td>\n",
       "      <td>10.905827</td>\n",
       "    </tr>\n",
       "    <tr>\n",
       "      <th>7</th>\n",
       "      <td>(salmon, oil)</td>\n",
       "      <td>10.575949</td>\n",
       "    </tr>\n",
       "    <tr>\n",
       "      <th>8</th>\n",
       "      <td>(side, effects)</td>\n",
       "      <td>10.479255</td>\n",
       "    </tr>\n",
       "    <tr>\n",
       "      <th>9</th>\n",
       "      <td>(pill, pockets)</td>\n",
       "      <td>10.408671</td>\n",
       "    </tr>\n",
       "    <tr>\n",
       "      <th>10</th>\n",
       "      <td>(feline, herpes)</td>\n",
       "      <td>10.170406</td>\n",
       "    </tr>\n",
       "    <tr>\n",
       "      <th>12</th>\n",
       "      <td>(hairball, remedy)</td>\n",
       "      <td>9.817432</td>\n",
       "    </tr>\n",
       "    <tr>\n",
       "      <th>13</th>\n",
       "      <td>(litter, boxes)</td>\n",
       "      <td>9.719825</td>\n",
       "    </tr>\n",
       "    <tr>\n",
       "      <th>15</th>\n",
       "      <td>(litter, box)</td>\n",
       "      <td>9.661408</td>\n",
       "    </tr>\n",
       "    <tr>\n",
       "      <th>16</th>\n",
       "      <td>(pet, naturals)</td>\n",
       "      <td>9.529280</td>\n",
       "    </tr>\n",
       "    <tr>\n",
       "      <th>18</th>\n",
       "      <td>(frontline, plus)</td>\n",
       "      <td>9.251658</td>\n",
       "    </tr>\n",
       "    <tr>\n",
       "      <th>20</th>\n",
       "      <td>(fish, oil)</td>\n",
       "      <td>9.157806</td>\n",
       "    </tr>\n",
       "    <tr>\n",
       "      <th>21</th>\n",
       "      <td>(move, free)</td>\n",
       "      <td>9.093672</td>\n",
       "    </tr>\n",
       "    <tr>\n",
       "      <th>23</th>\n",
       "      <td>(living, room)</td>\n",
       "      <td>9.066418</td>\n",
       "    </tr>\n",
       "    <tr>\n",
       "      <th>25</th>\n",
       "      <td>(pet, stores)</td>\n",
       "      <td>8.940727</td>\n",
       "    </tr>\n",
       "  </tbody>\n",
       "</table>\n",
       "</div>"
      ],
      "text/plain": [
       "                bigram        pmi\n",
       "0        (maine, coon)  13.269454\n",
       "1   (hyaluronic, acid)  12.465851\n",
       "2     (vetri, science)  11.822090\n",
       "3      (herpes, virus)  11.817771\n",
       "4     (urinary, tract)  11.552751\n",
       "5      (comfort, zone)  11.045878\n",
       "6          (plug, ins)  10.905827\n",
       "7        (salmon, oil)  10.575949\n",
       "8      (side, effects)  10.479255\n",
       "9      (pill, pockets)  10.408671\n",
       "10    (feline, herpes)  10.170406\n",
       "12  (hairball, remedy)   9.817432\n",
       "13     (litter, boxes)   9.719825\n",
       "15       (litter, box)   9.661408\n",
       "16     (pet, naturals)   9.529280\n",
       "18   (frontline, plus)   9.251658\n",
       "20         (fish, oil)   9.157806\n",
       "21        (move, free)   9.093672\n",
       "23      (living, room)   9.066418\n",
       "25       (pet, stores)   8.940727"
      ]
     },
     "execution_count": 88,
     "metadata": {},
     "output_type": "execute_result"
    }
   ],
   "source": [
    "cats_health_supplies_bigram[:20]"
   ]
  },
  {
   "cell_type": "markdown",
   "id": "b4ef881b",
   "metadata": {},
   "source": [
    "# modeling"
   ]
  },
  {
   "cell_type": "code",
   "execution_count": 123,
   "id": "3c33c3bc",
   "metadata": {},
   "outputs": [],
   "source": [
    "def vectorize(texts):\n",
    "    dictionary = corpora.Dictionary(tqdm(texts))\n",
    "    doc_term_matrix = [dictionary.doc2bow(doc) for doc in tqdm(texts)]\n",
    "    return dictionary, doc_term_matrix"
   ]
  },
  {
   "cell_type": "code",
   "execution_count": 285,
   "id": "812547d1",
   "metadata": {},
   "outputs": [],
   "source": [
    "def compute_coherence_values(dictionary, corpus, texts, limit, start=2, step=3):\n",
    "    \"\"\"\n",
    "    Compute c_v coherence for various number of topics\n",
    "\n",
    "    Parameters:\n",
    "    ----------\n",
    "    dictionary : Gensim dictionary\n",
    "    corpus : Gensim corpus\n",
    "    texts : List of input texts\n",
    "    limit : Max num of topics\n",
    "\n",
    "    Returns:\n",
    "    -------\n",
    "    model_list : List of LDA topic models\n",
    "    coherence_values : Coherence values corresponding to the LDA model with respective number of topics\n",
    "    \"\"\"\n",
    "    coherence_values = []\n",
    "    model_list = []\n",
    "    for num_topics in range(start, limit, step):\n",
    "        print('Round: '+ str(num_topics))\n",
    "        model = LdaMulticore(corpus=corpus, \n",
    "                                num_topics=num_topics, \n",
    "                                id2word=dictionary,\n",
    "                                passes=40,\n",
    "                                iterations=10, \n",
    "                                chunksize = 100, \n",
    "                                eval_every = None,\n",
    "                                random_state = 1234)\n",
    "        model_list.append(model)\n",
    "        coherencemodel = CoherenceModel(model=model, \n",
    "                                        texts=texts, \n",
    "                                        dictionary=dictionary, \n",
    "                                        coherence='c_v')\n",
    "        coherence_values.append(coherencemodel.get_coherence())\n",
    "\n",
    "    return model_list, coherence_values\n",
    "\n",
    "def get_keywords(doc_term_matrix, model): #top 20\n",
    "    keywords_dict = {}\n",
    "    for k in range(len(model.top_topics(doc_term_matrix))):\n",
    "        tu = model.top_topics(doc_term_matrix)[k]\n",
    "        keywords_lst = []\n",
    "        for tup in tu[0]:\n",
    "            keywords_lst.append(tup[1])\n",
    "        keywords_dict[k] = keywords_lst\n",
    "    return keywords_dict"
   ]
  },
  {
   "cell_type": "markdown",
   "id": "b144491f",
   "metadata": {},
   "source": [
    "## 1. cats feeding supplies"
   ]
  },
  {
   "cell_type": "code",
   "execution_count": 400,
   "id": "3e238d23",
   "metadata": {},
   "outputs": [
    {
     "data": {
      "application/vnd.jupyter.widget-view+json": {
       "model_id": "9304b8394a2a4865a39e8120a371b99d",
       "version_major": 2,
       "version_minor": 0
      },
      "text/plain": [
       "  0%|          | 0/1093 [00:00<?, ?it/s]"
      ]
     },
     "metadata": {},
     "output_type": "display_data"
    },
    {
     "data": {
      "application/vnd.jupyter.widget-view+json": {
       "model_id": "c4f33fdff3624a5abcf028c5095dac72",
       "version_major": 2,
       "version_minor": 0
      },
      "text/plain": [
       "  0%|          | 0/1093 [00:00<?, ?it/s]"
      ]
     },
     "metadata": {},
     "output_type": "display_data"
    },
    {
     "name": "stdout",
     "output_type": "stream",
     "text": [
      "Round: 2\n"
     ]
    },
    {
     "ename": "KeyboardInterrupt",
     "evalue": "",
     "output_type": "error",
     "traceback": [
      "\u001b[1;31m---------------------------------------------------------------------------\u001b[0m",
      "\u001b[1;31mKeyboardInterrupt\u001b[0m                         Traceback (most recent call last)",
      "\u001b[1;32mC:\\Users\\JIATIN~1\\AppData\\Local\\Temp/ipykernel_21320/865370574.py\u001b[0m in \u001b[0;36m<module>\u001b[1;34m\u001b[0m\n\u001b[0;32m      1\u001b[0m \u001b[0mcats_feeding_supplies_dictionary\u001b[0m\u001b[1;33m,\u001b[0m \u001b[0mcats_feeding_supplies_doc_term_matrix\u001b[0m \u001b[1;33m=\u001b[0m \u001b[0mvectorize\u001b[0m\u001b[1;33m(\u001b[0m\u001b[0mcats_feeding_supplies_reviews2\u001b[0m\u001b[1;33m)\u001b[0m\u001b[1;33m\u001b[0m\u001b[1;33m\u001b[0m\u001b[0m\n\u001b[1;32m----> 2\u001b[1;33m cats_feeding_supplies_model_list, cats_feeding_supplies_coherence_values = compute_coherence_values(\n\u001b[0m\u001b[0;32m      3\u001b[0m                                                     \u001b[0mdictionary\u001b[0m\u001b[1;33m=\u001b[0m\u001b[0mcats_feeding_supplies_dictionary\u001b[0m\u001b[1;33m,\u001b[0m\u001b[1;33m\u001b[0m\u001b[1;33m\u001b[0m\u001b[0m\n\u001b[0;32m      4\u001b[0m                                                     \u001b[0mcorpus\u001b[0m\u001b[1;33m=\u001b[0m\u001b[0mcats_feeding_supplies_doc_term_matrix\u001b[0m\u001b[1;33m,\u001b[0m\u001b[1;33m\u001b[0m\u001b[1;33m\u001b[0m\u001b[0m\n\u001b[0;32m      5\u001b[0m                                                     \u001b[0mtexts\u001b[0m\u001b[1;33m=\u001b[0m\u001b[0mcats_feeding_supplies_reviews2\u001b[0m\u001b[1;33m,\u001b[0m\u001b[1;33m\u001b[0m\u001b[1;33m\u001b[0m\u001b[0m\n",
      "\u001b[1;32mC:\\Users\\JIATIN~1\\AppData\\Local\\Temp/ipykernel_21320/1989102652.py\u001b[0m in \u001b[0;36mcompute_coherence_values\u001b[1;34m(dictionary, corpus, texts, limit, start, step)\u001b[0m\n\u001b[0;32m     32\u001b[0m                                         \u001b[0mdictionary\u001b[0m\u001b[1;33m=\u001b[0m\u001b[0mdictionary\u001b[0m\u001b[1;33m,\u001b[0m\u001b[1;33m\u001b[0m\u001b[1;33m\u001b[0m\u001b[0m\n\u001b[0;32m     33\u001b[0m                                         coherence='c_v')\n\u001b[1;32m---> 34\u001b[1;33m         \u001b[0mcoherence_values\u001b[0m\u001b[1;33m.\u001b[0m\u001b[0mappend\u001b[0m\u001b[1;33m(\u001b[0m\u001b[0mcoherencemodel\u001b[0m\u001b[1;33m.\u001b[0m\u001b[0mget_coherence\u001b[0m\u001b[1;33m(\u001b[0m\u001b[1;33m)\u001b[0m\u001b[1;33m)\u001b[0m\u001b[1;33m\u001b[0m\u001b[1;33m\u001b[0m\u001b[0m\n\u001b[0m\u001b[0;32m     35\u001b[0m \u001b[1;33m\u001b[0m\u001b[0m\n\u001b[0;32m     36\u001b[0m     \u001b[1;32mreturn\u001b[0m \u001b[0mmodel_list\u001b[0m\u001b[1;33m,\u001b[0m \u001b[0mcoherence_values\u001b[0m\u001b[1;33m\u001b[0m\u001b[1;33m\u001b[0m\u001b[0m\n",
      "\u001b[1;32m~\\anaconda3\\lib\\site-packages\\gensim\\models\\coherencemodel.py\u001b[0m in \u001b[0;36mget_coherence\u001b[1;34m(self)\u001b[0m\n\u001b[0;32m    607\u001b[0m \u001b[1;33m\u001b[0m\u001b[0m\n\u001b[0;32m    608\u001b[0m         \"\"\"\n\u001b[1;32m--> 609\u001b[1;33m         \u001b[0mconfirmed_measures\u001b[0m \u001b[1;33m=\u001b[0m \u001b[0mself\u001b[0m\u001b[1;33m.\u001b[0m\u001b[0mget_coherence_per_topic\u001b[0m\u001b[1;33m(\u001b[0m\u001b[1;33m)\u001b[0m\u001b[1;33m\u001b[0m\u001b[1;33m\u001b[0m\u001b[0m\n\u001b[0m\u001b[0;32m    610\u001b[0m         \u001b[1;32mreturn\u001b[0m \u001b[0mself\u001b[0m\u001b[1;33m.\u001b[0m\u001b[0maggregate_measures\u001b[0m\u001b[1;33m(\u001b[0m\u001b[0mconfirmed_measures\u001b[0m\u001b[1;33m)\u001b[0m\u001b[1;33m\u001b[0m\u001b[1;33m\u001b[0m\u001b[0m\n\u001b[0;32m    611\u001b[0m \u001b[1;33m\u001b[0m\u001b[0m\n",
      "\u001b[1;32m~\\anaconda3\\lib\\site-packages\\gensim\\models\\coherencemodel.py\u001b[0m in \u001b[0;36mget_coherence_per_topic\u001b[1;34m(self, segmented_topics, with_std, with_support)\u001b[0m\n\u001b[0;32m    567\u001b[0m             \u001b[0msegmented_topics\u001b[0m \u001b[1;33m=\u001b[0m \u001b[0mmeasure\u001b[0m\u001b[1;33m.\u001b[0m\u001b[0mseg\u001b[0m\u001b[1;33m(\u001b[0m\u001b[0mself\u001b[0m\u001b[1;33m.\u001b[0m\u001b[0mtopics\u001b[0m\u001b[1;33m)\u001b[0m\u001b[1;33m\u001b[0m\u001b[1;33m\u001b[0m\u001b[0m\n\u001b[0;32m    568\u001b[0m         \u001b[1;32mif\u001b[0m \u001b[0mself\u001b[0m\u001b[1;33m.\u001b[0m\u001b[0m_accumulator\u001b[0m \u001b[1;32mis\u001b[0m \u001b[1;32mNone\u001b[0m\u001b[1;33m:\u001b[0m\u001b[1;33m\u001b[0m\u001b[1;33m\u001b[0m\u001b[0m\n\u001b[1;32m--> 569\u001b[1;33m             \u001b[0mself\u001b[0m\u001b[1;33m.\u001b[0m\u001b[0mestimate_probabilities\u001b[0m\u001b[1;33m(\u001b[0m\u001b[0msegmented_topics\u001b[0m\u001b[1;33m)\u001b[0m\u001b[1;33m\u001b[0m\u001b[1;33m\u001b[0m\u001b[0m\n\u001b[0m\u001b[0;32m    570\u001b[0m \u001b[1;33m\u001b[0m\u001b[0m\n\u001b[0;32m    571\u001b[0m         \u001b[0mkwargs\u001b[0m \u001b[1;33m=\u001b[0m \u001b[0mdict\u001b[0m\u001b[1;33m(\u001b[0m\u001b[0mwith_std\u001b[0m\u001b[1;33m=\u001b[0m\u001b[0mwith_std\u001b[0m\u001b[1;33m,\u001b[0m \u001b[0mwith_support\u001b[0m\u001b[1;33m=\u001b[0m\u001b[0mwith_support\u001b[0m\u001b[1;33m)\u001b[0m\u001b[1;33m\u001b[0m\u001b[1;33m\u001b[0m\u001b[0m\n",
      "\u001b[1;32m~\\anaconda3\\lib\\site-packages\\gensim\\models\\coherencemodel.py\u001b[0m in \u001b[0;36mestimate_probabilities\u001b[1;34m(self, segmented_topics)\u001b[0m\n\u001b[0;32m    539\u001b[0m                 \u001b[0mkwargs\u001b[0m\u001b[1;33m[\u001b[0m\u001b[1;34m'model'\u001b[0m\u001b[1;33m]\u001b[0m \u001b[1;33m=\u001b[0m \u001b[0mself\u001b[0m\u001b[1;33m.\u001b[0m\u001b[0mkeyed_vectors\u001b[0m\u001b[1;33m\u001b[0m\u001b[1;33m\u001b[0m\u001b[0m\n\u001b[0;32m    540\u001b[0m \u001b[1;33m\u001b[0m\u001b[0m\n\u001b[1;32m--> 541\u001b[1;33m             \u001b[0mself\u001b[0m\u001b[1;33m.\u001b[0m\u001b[0m_accumulator\u001b[0m \u001b[1;33m=\u001b[0m \u001b[0mself\u001b[0m\u001b[1;33m.\u001b[0m\u001b[0mmeasure\u001b[0m\u001b[1;33m.\u001b[0m\u001b[0mprob\u001b[0m\u001b[1;33m(\u001b[0m\u001b[1;33m**\u001b[0m\u001b[0mkwargs\u001b[0m\u001b[1;33m)\u001b[0m\u001b[1;33m\u001b[0m\u001b[1;33m\u001b[0m\u001b[0m\n\u001b[0m\u001b[0;32m    542\u001b[0m \u001b[1;33m\u001b[0m\u001b[0m\n\u001b[0;32m    543\u001b[0m         \u001b[1;32mreturn\u001b[0m \u001b[0mself\u001b[0m\u001b[1;33m.\u001b[0m\u001b[0m_accumulator\u001b[0m\u001b[1;33m\u001b[0m\u001b[1;33m\u001b[0m\u001b[0m\n",
      "\u001b[1;32m~\\anaconda3\\lib\\site-packages\\gensim\\topic_coherence\\probability_estimation.py\u001b[0m in \u001b[0;36mp_boolean_sliding_window\u001b[1;34m(texts, segmented_topics, dictionary, window_size, processes)\u001b[0m\n\u001b[0;32m    154\u001b[0m         \u001b[0maccumulator\u001b[0m \u001b[1;33m=\u001b[0m \u001b[0mParallelWordOccurrenceAccumulator\u001b[0m\u001b[1;33m(\u001b[0m\u001b[0mprocesses\u001b[0m\u001b[1;33m,\u001b[0m \u001b[0mtop_ids\u001b[0m\u001b[1;33m,\u001b[0m \u001b[0mdictionary\u001b[0m\u001b[1;33m)\u001b[0m\u001b[1;33m\u001b[0m\u001b[1;33m\u001b[0m\u001b[0m\n\u001b[0;32m    155\u001b[0m     \u001b[0mlogger\u001b[0m\u001b[1;33m.\u001b[0m\u001b[0minfo\u001b[0m\u001b[1;33m(\u001b[0m\u001b[1;34m\"using %s to estimate probabilities from sliding windows\"\u001b[0m\u001b[1;33m,\u001b[0m \u001b[0maccumulator\u001b[0m\u001b[1;33m)\u001b[0m\u001b[1;33m\u001b[0m\u001b[1;33m\u001b[0m\u001b[0m\n\u001b[1;32m--> 156\u001b[1;33m     \u001b[1;32mreturn\u001b[0m \u001b[0maccumulator\u001b[0m\u001b[1;33m.\u001b[0m\u001b[0maccumulate\u001b[0m\u001b[1;33m(\u001b[0m\u001b[0mtexts\u001b[0m\u001b[1;33m,\u001b[0m \u001b[0mwindow_size\u001b[0m\u001b[1;33m)\u001b[0m\u001b[1;33m\u001b[0m\u001b[1;33m\u001b[0m\u001b[0m\n\u001b[0m\u001b[0;32m    157\u001b[0m \u001b[1;33m\u001b[0m\u001b[0m\n\u001b[0;32m    158\u001b[0m \u001b[1;33m\u001b[0m\u001b[0m\n",
      "\u001b[1;32m~\\anaconda3\\lib\\site-packages\\gensim\\topic_coherence\\text_analysis.py\u001b[0m in \u001b[0;36maccumulate\u001b[1;34m(self, texts, window_size)\u001b[0m\n\u001b[0;32m    442\u001b[0m \u001b[1;33m\u001b[0m\u001b[0m\n\u001b[0;32m    443\u001b[0m     \u001b[1;32mdef\u001b[0m \u001b[0maccumulate\u001b[0m\u001b[1;33m(\u001b[0m\u001b[0mself\u001b[0m\u001b[1;33m,\u001b[0m \u001b[0mtexts\u001b[0m\u001b[1;33m,\u001b[0m \u001b[0mwindow_size\u001b[0m\u001b[1;33m)\u001b[0m\u001b[1;33m:\u001b[0m\u001b[1;33m\u001b[0m\u001b[1;33m\u001b[0m\u001b[0m\n\u001b[1;32m--> 444\u001b[1;33m         \u001b[0mworkers\u001b[0m\u001b[1;33m,\u001b[0m \u001b[0minput_q\u001b[0m\u001b[1;33m,\u001b[0m \u001b[0moutput_q\u001b[0m \u001b[1;33m=\u001b[0m \u001b[0mself\u001b[0m\u001b[1;33m.\u001b[0m\u001b[0mstart_workers\u001b[0m\u001b[1;33m(\u001b[0m\u001b[0mwindow_size\u001b[0m\u001b[1;33m)\u001b[0m\u001b[1;33m\u001b[0m\u001b[1;33m\u001b[0m\u001b[0m\n\u001b[0m\u001b[0;32m    445\u001b[0m         \u001b[1;32mtry\u001b[0m\u001b[1;33m:\u001b[0m\u001b[1;33m\u001b[0m\u001b[1;33m\u001b[0m\u001b[0m\n\u001b[0;32m    446\u001b[0m             \u001b[0mself\u001b[0m\u001b[1;33m.\u001b[0m\u001b[0mqueue_all_texts\u001b[0m\u001b[1;33m(\u001b[0m\u001b[0minput_q\u001b[0m\u001b[1;33m,\u001b[0m \u001b[0mtexts\u001b[0m\u001b[1;33m,\u001b[0m \u001b[0mwindow_size\u001b[0m\u001b[1;33m)\u001b[0m\u001b[1;33m\u001b[0m\u001b[1;33m\u001b[0m\u001b[0m\n",
      "\u001b[1;32m~\\anaconda3\\lib\\site-packages\\gensim\\topic_coherence\\text_analysis.py\u001b[0m in \u001b[0;36mstart_workers\u001b[1;34m(self, window_size)\u001b[0m\n\u001b[0;32m    476\u001b[0m             \u001b[0maccumulator\u001b[0m \u001b[1;33m=\u001b[0m \u001b[0mPatchedWordOccurrenceAccumulator\u001b[0m\u001b[1;33m(\u001b[0m\u001b[0mself\u001b[0m\u001b[1;33m.\u001b[0m\u001b[0mrelevant_ids\u001b[0m\u001b[1;33m,\u001b[0m \u001b[0mself\u001b[0m\u001b[1;33m.\u001b[0m\u001b[0mdictionary\u001b[0m\u001b[1;33m)\u001b[0m\u001b[1;33m\u001b[0m\u001b[1;33m\u001b[0m\u001b[0m\n\u001b[0;32m    477\u001b[0m             \u001b[0mworker\u001b[0m \u001b[1;33m=\u001b[0m \u001b[0mAccumulatingWorker\u001b[0m\u001b[1;33m(\u001b[0m\u001b[0minput_q\u001b[0m\u001b[1;33m,\u001b[0m \u001b[0moutput_q\u001b[0m\u001b[1;33m,\u001b[0m \u001b[0maccumulator\u001b[0m\u001b[1;33m,\u001b[0m \u001b[0mwindow_size\u001b[0m\u001b[1;33m)\u001b[0m\u001b[1;33m\u001b[0m\u001b[1;33m\u001b[0m\u001b[0m\n\u001b[1;32m--> 478\u001b[1;33m             \u001b[0mworker\u001b[0m\u001b[1;33m.\u001b[0m\u001b[0mstart\u001b[0m\u001b[1;33m(\u001b[0m\u001b[1;33m)\u001b[0m\u001b[1;33m\u001b[0m\u001b[1;33m\u001b[0m\u001b[0m\n\u001b[0m\u001b[0;32m    479\u001b[0m             \u001b[0mworkers\u001b[0m\u001b[1;33m.\u001b[0m\u001b[0mappend\u001b[0m\u001b[1;33m(\u001b[0m\u001b[0mworker\u001b[0m\u001b[1;33m)\u001b[0m\u001b[1;33m\u001b[0m\u001b[1;33m\u001b[0m\u001b[0m\n\u001b[0;32m    480\u001b[0m \u001b[1;33m\u001b[0m\u001b[0m\n",
      "\u001b[1;32m~\\anaconda3\\lib\\multiprocessing\\process.py\u001b[0m in \u001b[0;36mstart\u001b[1;34m(self)\u001b[0m\n\u001b[0;32m    119\u001b[0m                \u001b[1;34m'daemonic processes are not allowed to have children'\u001b[0m\u001b[1;33m\u001b[0m\u001b[1;33m\u001b[0m\u001b[0m\n\u001b[0;32m    120\u001b[0m         \u001b[0m_cleanup\u001b[0m\u001b[1;33m(\u001b[0m\u001b[1;33m)\u001b[0m\u001b[1;33m\u001b[0m\u001b[1;33m\u001b[0m\u001b[0m\n\u001b[1;32m--> 121\u001b[1;33m         \u001b[0mself\u001b[0m\u001b[1;33m.\u001b[0m\u001b[0m_popen\u001b[0m \u001b[1;33m=\u001b[0m \u001b[0mself\u001b[0m\u001b[1;33m.\u001b[0m\u001b[0m_Popen\u001b[0m\u001b[1;33m(\u001b[0m\u001b[0mself\u001b[0m\u001b[1;33m)\u001b[0m\u001b[1;33m\u001b[0m\u001b[1;33m\u001b[0m\u001b[0m\n\u001b[0m\u001b[0;32m    122\u001b[0m         \u001b[0mself\u001b[0m\u001b[1;33m.\u001b[0m\u001b[0m_sentinel\u001b[0m \u001b[1;33m=\u001b[0m \u001b[0mself\u001b[0m\u001b[1;33m.\u001b[0m\u001b[0m_popen\u001b[0m\u001b[1;33m.\u001b[0m\u001b[0msentinel\u001b[0m\u001b[1;33m\u001b[0m\u001b[1;33m\u001b[0m\u001b[0m\n\u001b[0;32m    123\u001b[0m         \u001b[1;31m# Avoid a refcycle if the target function holds an indirect\u001b[0m\u001b[1;33m\u001b[0m\u001b[1;33m\u001b[0m\u001b[0m\n",
      "\u001b[1;32m~\\anaconda3\\lib\\multiprocessing\\context.py\u001b[0m in \u001b[0;36m_Popen\u001b[1;34m(process_obj)\u001b[0m\n\u001b[0;32m    222\u001b[0m     \u001b[1;33m@\u001b[0m\u001b[0mstaticmethod\u001b[0m\u001b[1;33m\u001b[0m\u001b[1;33m\u001b[0m\u001b[0m\n\u001b[0;32m    223\u001b[0m     \u001b[1;32mdef\u001b[0m \u001b[0m_Popen\u001b[0m\u001b[1;33m(\u001b[0m\u001b[0mprocess_obj\u001b[0m\u001b[1;33m)\u001b[0m\u001b[1;33m:\u001b[0m\u001b[1;33m\u001b[0m\u001b[1;33m\u001b[0m\u001b[0m\n\u001b[1;32m--> 224\u001b[1;33m         \u001b[1;32mreturn\u001b[0m \u001b[0m_default_context\u001b[0m\u001b[1;33m.\u001b[0m\u001b[0mget_context\u001b[0m\u001b[1;33m(\u001b[0m\u001b[1;33m)\u001b[0m\u001b[1;33m.\u001b[0m\u001b[0mProcess\u001b[0m\u001b[1;33m.\u001b[0m\u001b[0m_Popen\u001b[0m\u001b[1;33m(\u001b[0m\u001b[0mprocess_obj\u001b[0m\u001b[1;33m)\u001b[0m\u001b[1;33m\u001b[0m\u001b[1;33m\u001b[0m\u001b[0m\n\u001b[0m\u001b[0;32m    225\u001b[0m \u001b[1;33m\u001b[0m\u001b[0m\n\u001b[0;32m    226\u001b[0m \u001b[1;32mclass\u001b[0m \u001b[0mDefaultContext\u001b[0m\u001b[1;33m(\u001b[0m\u001b[0mBaseContext\u001b[0m\u001b[1;33m)\u001b[0m\u001b[1;33m:\u001b[0m\u001b[1;33m\u001b[0m\u001b[1;33m\u001b[0m\u001b[0m\n",
      "\u001b[1;32m~\\anaconda3\\lib\\multiprocessing\\context.py\u001b[0m in \u001b[0;36m_Popen\u001b[1;34m(process_obj)\u001b[0m\n\u001b[0;32m    325\u001b[0m         \u001b[1;32mdef\u001b[0m \u001b[0m_Popen\u001b[0m\u001b[1;33m(\u001b[0m\u001b[0mprocess_obj\u001b[0m\u001b[1;33m)\u001b[0m\u001b[1;33m:\u001b[0m\u001b[1;33m\u001b[0m\u001b[1;33m\u001b[0m\u001b[0m\n\u001b[0;32m    326\u001b[0m             \u001b[1;32mfrom\u001b[0m \u001b[1;33m.\u001b[0m\u001b[0mpopen_spawn_win32\u001b[0m \u001b[1;32mimport\u001b[0m \u001b[0mPopen\u001b[0m\u001b[1;33m\u001b[0m\u001b[1;33m\u001b[0m\u001b[0m\n\u001b[1;32m--> 327\u001b[1;33m             \u001b[1;32mreturn\u001b[0m \u001b[0mPopen\u001b[0m\u001b[1;33m(\u001b[0m\u001b[0mprocess_obj\u001b[0m\u001b[1;33m)\u001b[0m\u001b[1;33m\u001b[0m\u001b[1;33m\u001b[0m\u001b[0m\n\u001b[0m\u001b[0;32m    328\u001b[0m \u001b[1;33m\u001b[0m\u001b[0m\n\u001b[0;32m    329\u001b[0m     \u001b[1;32mclass\u001b[0m \u001b[0mSpawnContext\u001b[0m\u001b[1;33m(\u001b[0m\u001b[0mBaseContext\u001b[0m\u001b[1;33m)\u001b[0m\u001b[1;33m:\u001b[0m\u001b[1;33m\u001b[0m\u001b[1;33m\u001b[0m\u001b[0m\n",
      "\u001b[1;32m~\\anaconda3\\lib\\multiprocessing\\popen_spawn_win32.py\u001b[0m in \u001b[0;36m__init__\u001b[1;34m(self, process_obj)\u001b[0m\n\u001b[0;32m     91\u001b[0m             \u001b[1;32mtry\u001b[0m\u001b[1;33m:\u001b[0m\u001b[1;33m\u001b[0m\u001b[1;33m\u001b[0m\u001b[0m\n\u001b[0;32m     92\u001b[0m                 \u001b[0mreduction\u001b[0m\u001b[1;33m.\u001b[0m\u001b[0mdump\u001b[0m\u001b[1;33m(\u001b[0m\u001b[0mprep_data\u001b[0m\u001b[1;33m,\u001b[0m \u001b[0mto_child\u001b[0m\u001b[1;33m)\u001b[0m\u001b[1;33m\u001b[0m\u001b[1;33m\u001b[0m\u001b[0m\n\u001b[1;32m---> 93\u001b[1;33m                 \u001b[0mreduction\u001b[0m\u001b[1;33m.\u001b[0m\u001b[0mdump\u001b[0m\u001b[1;33m(\u001b[0m\u001b[0mprocess_obj\u001b[0m\u001b[1;33m,\u001b[0m \u001b[0mto_child\u001b[0m\u001b[1;33m)\u001b[0m\u001b[1;33m\u001b[0m\u001b[1;33m\u001b[0m\u001b[0m\n\u001b[0m\u001b[0;32m     94\u001b[0m             \u001b[1;32mfinally\u001b[0m\u001b[1;33m:\u001b[0m\u001b[1;33m\u001b[0m\u001b[1;33m\u001b[0m\u001b[0m\n\u001b[0;32m     95\u001b[0m                 \u001b[0mset_spawning_popen\u001b[0m\u001b[1;33m(\u001b[0m\u001b[1;32mNone\u001b[0m\u001b[1;33m)\u001b[0m\u001b[1;33m\u001b[0m\u001b[1;33m\u001b[0m\u001b[0m\n",
      "\u001b[1;32m~\\anaconda3\\lib\\multiprocessing\\reduction.py\u001b[0m in \u001b[0;36mdump\u001b[1;34m(obj, file, protocol)\u001b[0m\n\u001b[0;32m     58\u001b[0m \u001b[1;32mdef\u001b[0m \u001b[0mdump\u001b[0m\u001b[1;33m(\u001b[0m\u001b[0mobj\u001b[0m\u001b[1;33m,\u001b[0m \u001b[0mfile\u001b[0m\u001b[1;33m,\u001b[0m \u001b[0mprotocol\u001b[0m\u001b[1;33m=\u001b[0m\u001b[1;32mNone\u001b[0m\u001b[1;33m)\u001b[0m\u001b[1;33m:\u001b[0m\u001b[1;33m\u001b[0m\u001b[1;33m\u001b[0m\u001b[0m\n\u001b[0;32m     59\u001b[0m     \u001b[1;34m'''Replacement for pickle.dump() using ForkingPickler.'''\u001b[0m\u001b[1;33m\u001b[0m\u001b[1;33m\u001b[0m\u001b[0m\n\u001b[1;32m---> 60\u001b[1;33m     \u001b[0mForkingPickler\u001b[0m\u001b[1;33m(\u001b[0m\u001b[0mfile\u001b[0m\u001b[1;33m,\u001b[0m \u001b[0mprotocol\u001b[0m\u001b[1;33m)\u001b[0m\u001b[1;33m.\u001b[0m\u001b[0mdump\u001b[0m\u001b[1;33m(\u001b[0m\u001b[0mobj\u001b[0m\u001b[1;33m)\u001b[0m\u001b[1;33m\u001b[0m\u001b[1;33m\u001b[0m\u001b[0m\n\u001b[0m\u001b[0;32m     61\u001b[0m \u001b[1;33m\u001b[0m\u001b[0m\n\u001b[0;32m     62\u001b[0m \u001b[1;31m#\u001b[0m\u001b[1;33m\u001b[0m\u001b[1;33m\u001b[0m\u001b[0m\n",
      "\u001b[1;31mKeyboardInterrupt\u001b[0m: "
     ]
    }
   ],
   "source": [
    "cats_feeding_supplies_dictionary, cats_feeding_supplies_doc_term_matrix = vectorize(cats_feeding_supplies_reviews2)\n",
    "cats_feeding_supplies_model_list, cats_feeding_supplies_coherence_values = compute_coherence_values(\n",
    "                                                    dictionary=cats_feeding_supplies_dictionary, \n",
    "                                                    corpus=cats_feeding_supplies_doc_term_matrix, \n",
    "                                                    texts=cats_feeding_supplies_reviews2, \n",
    "                                                    start=2, \n",
    "                                                    limit=20, \n",
    "                                                    step=2)\n",
    "\n",
    "limit=20; start=2; step=2;\n",
    "x = range(start, limit, step)\n",
    "plt.plot(x, cats_feeding_supplies_coherence_values)\n",
    "plt.xlabel(\"Num Topics\")\n",
    "plt.ylabel(\"Coherence score\")\n",
    "plt.legend((\"coherence_values\"), loc='best')\n",
    "plt.show()\n",
    "for m, cv in zip(x, cats_feeding_supplies_coherence_values):\n",
    "    print(\"Num Topics =\", m, \" has Coherence Value of\", round(cv, 4))\n",
    "    \n",
    "with open ('./cat_feeding_supplies_model_list.pickle', 'wb') as handle:\n",
    "    pickle.dump(cats_feeding_supplies_model_list, handle)"
   ]
  },
  {
   "cell_type": "code",
   "execution_count": null,
   "id": "8d3ab7af",
   "metadata": {},
   "outputs": [],
   "source": [
    "# with open ('./cat_feeding_supplies_model_list.pickle', 'rb') as handle:\n",
    "#     model_list2 = pickle.load(handle)"
   ]
  },
  {
   "cell_type": "code",
   "execution_count": null,
   "id": "c8248f54",
   "metadata": {},
   "outputs": [],
   "source": [
    "cats_feeding_supplies_optimal_model = cats_feeding_supplies_model_list[3]\n",
    "model_topics = cats_feeding_supplies_optimal_model.show_topics(formatted=False)"
   ]
  },
  {
   "cell_type": "code",
   "execution_count": 112,
   "id": "d702abdf",
   "metadata": {},
   "outputs": [
    {
     "data": {
      "text/plain": [
       "[(0,\n",
       "  '0.042*\"food\" + 0.025*\"ball\" + 0.019*\"get\" + 0.014*\"hole\" + 0.014*\"treat\" + 0.014*\"use\"'),\n",
       " (1,\n",
       "  '0.017*\"get\" + 0.015*\"like\" + 0.010*\"ball\" + 0.009*\"bowl\" + 0.009*\"eat\" + 0.009*\"little\"'),\n",
       " (2,\n",
       "  '0.046*\"water\" + 0.030*\"fountain\" + 0.018*\"filter\" + 0.016*\"drink\" + 0.016*\"clean\" + 0.015*\"use\"'),\n",
       " (3,\n",
       "  '0.070*\"bowl\" + 0.038*\"dish\" + 0.014*\"bottom\" + 0.013*\"like\" + 0.011*\"easy\" + 0.011*\"eat\"'),\n",
       " (4,\n",
       "  '0.032*\"pump\" + 0.019*\"water\" + 0.019*\"fountain\" + 0.017*\"one\" + 0.012*\"bowl\" + 0.011*\"clean\"'),\n",
       " (5,\n",
       "  '0.029*\"water\" + 0.022*\"bowl\" + 0.017*\"filter\" + 0.012*\"get\" + 0.010*\"pet\" + 0.010*\"one\"'),\n",
       " (6,\n",
       "  '0.036*\"grass\" + 0.020*\"grow\" + 0.014*\"like\" + 0.011*\"seed\" + 0.011*\"would\" + 0.008*\"buy\"'),\n",
       " (7,\n",
       "  '0.019*\"feeder\" + 0.018*\"food\" + 0.015*\"time\" + 0.014*\"one\" + 0.013*\"get\" + 0.012*\"feed\"')]"
      ]
     },
     "execution_count": 112,
     "metadata": {},
     "output_type": "execute_result"
    }
   ],
   "source": [
    "cats_feeding_supplies_optimal_model.print_topics(num_topics=8, num_words=6) #too many noun. maybe remove nouns"
   ]
  },
  {
   "cell_type": "code",
   "execution_count": 177,
   "id": "456e4a3c",
   "metadata": {},
   "outputs": [
    {
     "name": "stderr",
     "output_type": "stream",
     "text": [
      "C:\\Users\\JiatingChen\\anaconda3\\lib\\site-packages\\sklearn\\manifold\\_t_sne.py:691: FutureWarning: 'square_distances' has been introduced in 0.24 to help phase out legacy squaring behavior. The 'legacy' setting will be removed in 1.1 (renaming of 0.26), and the default setting will be changed to True. In 1.3, 'square_distances' will be removed altogether, and distances will be squared by default. Set 'square_distances'=True to silence this warning.\n",
      "  warnings.warn(\n"
     ]
    },
    {
     "data": {
      "text/html": [
       "\n",
       "<link rel=\"stylesheet\" type=\"text/css\" href=\"https://cdn.jsdelivr.net/gh/bmabey/pyLDAvis@3.3.1/pyLDAvis/js/ldavis.v1.0.0.css\">\n",
       "\n",
       "\n",
       "<div id=\"ldavis_el213201355682578320839382268\"></div>\n",
       "<script type=\"text/javascript\">\n",
       "\n",
       "var ldavis_el213201355682578320839382268_data = {\"mdsDat\": {\"x\": [-108.958251953125, 186.487060546875, 19.245832443237305, 170.65882873535156, -1.3864107131958008, -145.8000946044922, 64.83454132080078, -196.90603637695312], \"y\": [-208.9414825439453, -98.1032485961914, 160.85877990722656, 75.44507598876953, -35.043739318847656, 106.94461059570312, -221.8252716064453, -58.99091339111328], \"topics\": [1, 2, 3, 4, 5, 6, 7, 8], \"cluster\": [1, 1, 1, 1, 1, 1, 1, 1], \"Freq\": [30.085380361962503, 17.96813554183925, 13.19401548431193, 11.94132005772017, 10.133228005242257, 6.246599264601884, 6.1292016783030485, 4.3021196060189535]}, \"tinfo\": {\"Term\": [\"bowl\", \"water\", \"food\", \"pump\", \"fountain\", \"ball\", \"dish\", \"filter\", \"grass\", \"feeder\", \"hole\", \"eat\", \"treat\", \"drink\", \"like\", \"clean\", \"grow\", \"size\", \"feed\", \"bottom\", \"easy\", \"unit\", \"toy\", \"open\", \"time\", \"rubber\", \"pet\", \"would\", \"drinkwell\", \"buy\", \"cuttlebone\", \"quietly\", \"drinking\", \"splash\", \"cage\", \"install\", \"picky\", \"plunger\", \"therefore\", \"cuttle\", \"sink\", \"usage\", \"quiet\", \"neat\", \"vitamin\", \"pod\", \"syrinx\", \"petsmart\", \"clip\", \"movement\", \"motor\", \"tell\", \"bowel\", \"louder\", \"lover\", \"aqua\", \"vomit\", \"produce\", \"yay\", \"toilet\", \"animal\", \"drink\", \"fur\", \"package\", \"gurgle\", \"noisy\", \"habit\", \"fountain\", \"water\", \"cool\", \"filter\", \"bubble\", \"refill\", \"require\", \"fresh\", \"carbon\", \"clean\", \"dirty\", \"stop\", \"apart\", \"easy\", \"love\", \"product\", \"month\", \"week\", \"change\", \"nice\", \"use\", \"recommend\", \"dome\", \"dog\", \"drinkwell\", \"take\", \"like\", \"keep\", \"get\", \"really\", \"great\", \"well\", \"need\", \"one\", \"buy\", \"much\", \"work\", \"make\", \"would\", \"good\", \"bowl\", \"little\", \"go\", \"day\", \"hole\", \"lbs\", \"dispenser\", \"mechanism\", \"motivate\", \"tube\", \"release\", \"bat\", \"pellet\", \"toy\", \"exercise\", \"picasso\", \"broken\", \"sized\", \"treat\", \"overweight\", \"flower\", \"wellness\", \"combination\", \"liver\", \"egg\", \"cons\", \"slimcat\", \"roll\", \"chemical\", \"dozen\", \"adjustable\", \"nudge\", \"distributor\", \"behind\", \"ball\", \"kibble\", \"dispense\", \"size\", \"setting\", \"fall\", \"concept\", \"food\", \"lazy\", \"opening\", \"interested\", \"boy\", \"adjust\", \"nose\", \"can\", \"around\", \"figure\", \"play\", \"small\", \"big\", \"get\", \"eat\", \"come\", \"though\", \"fit\", \"use\", \"make\", \"work\", \"one\", \"would\", \"try\", \"put\", \"way\", \"old\", \"like\", \"even\", \"still\", \"well\", \"time\", \"really\", \"good\", \"little\", \"take\", \"feast\", \"clog\", \"foam\", \"frequently\", \"via\", \"housing\", \"locate\", \"maintenance\", \"submersible\", \"pump\", \"residue\", \"sgd\", \"internal\", \"impeller\", \"dinky\", \"man\", \"select\", \"fear\", \"bulky\", \"slime\", \"rattle\", \"frame\", \"clogged\", \"mineral\", \"vibration\", \"tabby\", \"cartridge\", \"rid\", \"component\", \"ole\", \"leak\", \"gallon\", \"major\", \"fancy\", \"unit\", \"seal\", \"aquarium\", \"con\", \"total\", \"inch\", \"flow\", \"straight\", \"willing\", \"likely\", \"capacity\", \"plastic\", \"glass\", \"year\", \"cleaning\", \"call\", \"new\", \"replace\", \"fountain\", \"design\", \"one\", \"entire\", \"fit\", \"noise\", \"water\", \"clean\", \"container\", \"make\", \"bowl\", \"well\", \"keep\", \"problem\", \"difficult\", \"get\", \"every\", \"time\", \"buy\", \"top\", \"filter\", \"use\", \"work\", \"like\", \"find\", \"would\", \"drink\", \"go\", \"also\", \"love\", \"feeder\", \"timer\", \"schedule\", \"freezer\", \"adorable\", \"gear\", \"sitter\", \"battery\", \"accurate\", \"auto\", \"bed\", \"vacation\", \"lunch\", \"solid\", \"separately\", \"gain\", \"digital\", \"bump\", \"analog\", \"hinge\", \"activity\", \"pm\", \"nan\", \"lebistro\", \"tomcat\", \"seven\", \"anytime\", \"destroy\", \"rapidly\", \"fashion\", \"wake\", \"fed\", \"compartment\", \"lid\", \"regret\", \"feed\", \"dial\", \"win\", \"wet_food\", \"morning\", \"hour\", \"ice\", \"portion\", \"feeding\", \"pack\", \"meal\", \"open\", \"sleep\", \"dry_food\", \"time\", \"day\", \"eat\", \"food\", \"box\", \"work\", \"one\", \"able\", \"get\", \"go\", \"put\", \"leave\", \"two\", \"come\", \"would\", \"use\", \"also\", \"try\", \"buy\", \"great\", \"could\", \"around\", \"need\", \"little\", \"occupy\", \"track\", \"orange\", \"fluffy\", \"rug\", \"tier\", \"lily\", \"bengal\", \"pace\", \"evaporate\", \"beat\", \"ruin\", \"stimulation\", \"toddler\", \"forth\", \"prissy\", \"warp\", \"zen\", \"pantry\", \"distribute\", \"effective\", \"heavyweight\", \"capone\", \"tranquility\", \"ant\", \"dental\", \"overnight\", \"schematic\", \"attack\", \"brita\", \"bag\", \"incredibly\", \"waterer\", \"occasionally\", \"interesting\", \"shake\", \"towel\", \"entirely\", \"messy\", \"cup\", \"tight\", \"walk\", \"floor\", \"kitty\", \"play\", \"filtration\", \"like\", \"get\", \"ball\", \"leave\", \"eat\", \"fill\", \"help\", \"little\", \"dish\", \"bit\", \"something\", \"suction\", \"keep\", \"stick\", \"bowl\", \"could\", \"side\", \"seem\", \"use\", \"day\", \"food\", \"love\", \"take\", \"one\", \"two\", \"put\", \"want\", \"water\", \"work\", \"try\", \"go\", \"think\", \"would\", \"filtered_water\", \"cent\", \"breakdown\", \"outlet\", \"wk\", \"skittish\", \"popular\", \"chok\", \"pdf\", \"scum\", \"fussy\", \"calendar\", \"common\", \"garbage\", \"justify\", \"bedroom\", \"husk\", \"rubbish\", \"relax\", \"scamme\", \"what\", \"lower\", \"loosen\", \"bye\", \"magnet\", \"mother\", \"jasper\", \"partial\", \"linen\", \"eventual\", \"drank\", \"that\", \"stream\", \"buck\", \"band\", \"pressure\", \"s\", \"spot\", \"extension\", \"waterfall\", \"cord\", \"whisper\", \"halo\", \"medium\", \"describe\", \"hy\", \"drate\", \"bring\", \"electrical\", \"near\", \"quick\", \"pet\", \"supply\", \"large\", \"hot\", \"bowl\", \"filter\", \"water\", \"drinkwell_hy_drate\", \"plug\", \"pet_fountain\", \"petmate\", \"absolutely\", \"get\", \"secure\", \"would\", \"one\", \"seem\", \"sure\", \"size\", \"little\", \"well\", \"think\", \"thing\", \"two\", \"drink\", \"often\", \"fountain\", \"really\", \"work\", \"clean\", \"take\", \"buy\", \"try\", \"time\", \"need\", \"good\", \"whisker\", \"rust\", \"skid\", \"durapet\", \"shallow\", \"microwave\", \"rubber\", \"sticker\", \"grip\", \"label\", \"stainless\", \"slanted\", \"coaster\", \"dimension\", \"heartily\", \"comparable\", \"code\", \"stiff\", \"profile\", \"rash\", \"tzu\", \"bun\", \"irritation\", \"cleansing\", \"swear\", \"impatient\", \"sturdiness\", \"fountian\", \"rubberize\", \"icepack\", \"lip\", \"dish\", \"tho\", \"stainless_steel\", \"risk\", \"deep\", \"bowl\", \"plate\", \"bottom\", \"chin\", \"dishwasher\", \"non\", \"heavy\", \"slide\", \"stand\", \"ground\", \"wide\", \"wash\", \"brush\", \"depth\", \"quality\", \"eat\", \"easy\", \"like\", \"great\", \"side\", \"clean\", \"buy\", \"small\", \"plastic\", \"make\", \"much\", \"food\", \"good\", \"use\", \"water\", \"one\", \"well\", \"would\", \"seed\", \"soil\", \"root\", \"grass\", \"coal\", \"donate\", \"sprout\", \"kit\", \"grow\", \"vessel\", \"theory\", \"nurse\", \"bill\", \"obsess\", \"century\", \"fashioned\", \"replant\", \"cheaply\", \"intrusive\", \"oat\", \"rat\", \"sootie\", \"potting\", \"enterprise\", \"grid\", \"floss\", \"catnip\", \"fiona\", \"shield\", \"letter\", \"shelter\", \"cleanup\", \"plant\", \"pot\", \"senior\", \"garden\", \"accidentally\", \"deluxe\", \"word\", \"terrible\", \"munch\", \"dirt\", \"dust\", \"model\", \"petmate\", \"section\", \"like\", \"drinkwell\", \"would\", \"design\", \"bug\", \"week\", \"buy\", \"star\", \"pull\", \"time\", \"day\", \"product\", \"use\", \"love\", \"well\", \"filter\", \"fountain\", \"every\", \"unit\", \"pet\", \"try\", \"water\", \"easy\", \"come\", \"one\"], \"Freq\": [655.0, 1128.0, 666.0, 287.0, 695.0, 322.0, 230.0, 444.0, 102.0, 133.0, 150.0, 290.0, 168.0, 347.0, 518.0, 442.0, 64.0, 186.0, 117.0, 113.0, 328.0, 142.0, 91.0, 115.0, 349.0, 44.0, 143.0, 404.0, 93.0, 339.0, 27.46689957327682, 12.843085598913143, 76.49136608417432, 28.238828098438045, 9.910112040325362, 9.899969095419866, 10.6798779314354, 7.9482215513826695, 7.943691492200995, 6.971481316861478, 41.38683805415794, 6.90457249873153, 111.77920980463472, 5.993494221665824, 5.987954295908828, 5.984447688951471, 5.961314347745488, 5.9624374280624375, 6.815096408103739, 12.591883929955882, 81.97624077875197, 35.3521853541024, 5.014465056875007, 5.012790499843283, 5.01035514646782, 5.012606841995754, 5.010490499785588, 5.011278970599504, 5.010380808249255, 14.195589286308174, 30.467458213411206, 279.88636396690544, 20.39277968459979, 18.70504960507214, 11.400334961102882, 27.54681136701188, 9.82553080871338, 513.9379121701757, 789.9819406217507, 31.486891098314217, 303.4252579286315, 18.874890344401503, 52.29537755335075, 22.294625630360486, 75.6114990745728, 15.591283261375999, 271.7197425413065, 23.400799361893554, 50.68132194515274, 48.54091200303357, 182.94422861015292, 190.00709153070682, 152.22415783297765, 80.50690554171872, 96.86398667835374, 64.7457131095962, 65.6838555089772, 257.31362500644445, 86.13210489525285, 28.84568193120635, 79.71618454179162, 55.930341722416024, 125.99940320444567, 185.78942981913136, 120.37913896370213, 226.2403515076548, 105.43407973953862, 102.25041674127792, 129.31116981563326, 94.8336828864479, 173.4397166237561, 118.4289643359153, 92.09940497931126, 129.24367228604683, 118.50830452604818, 120.2606157491779, 99.55021767988785, 132.87954619042262, 98.54033902843388, 92.14487564332653, 91.56017346283124, 144.63273463403576, 9.699268834422032, 8.73753635588015, 7.70338070027476, 7.636037405140072, 31.12116939399312, 5.823010595777389, 24.042684491145984, 7.419441024418108, 79.34712585164405, 17.151540969862587, 4.911295300644803, 4.9017041085222175, 22.759349568031464, 142.65611483102384, 18.22577612457154, 3.9510413490249396, 3.9510500639193986, 3.948129973248413, 3.9428385297437605, 3.9459689799361715, 3.935817029432186, 7.076089208411706, 46.12469322894968, 3.9199853718497177, 3.9143008565536017, 18.475375510096317, 6.984062928060176, 3.846026870793407, 8.408135583334673, 262.2173025648945, 63.69685827936463, 24.993954288119376, 137.52064990637217, 11.26880569978933, 46.98662393820095, 11.041467159848985, 432.200027982198, 9.590422206737333, 19.37439320400207, 24.322905010663835, 12.766441680733461, 33.52586962105112, 16.689129871919892, 48.58502453401662, 97.25496219142457, 53.823659384410526, 51.9658169815762, 111.23636473848288, 68.33160022797723, 198.2543142477843, 99.10928017073422, 77.67113023967383, 45.64046243939034, 48.24939171039211, 139.9944394125927, 100.8654720445982, 111.30545882586303, 138.78441297961328, 100.33787594021065, 72.49271350691033, 71.5387967861302, 50.50805675151344, 50.40617061987911, 86.53376199370078, 59.78659933075842, 55.78627284945875, 72.01008385382264, 67.23114345840902, 60.56761735368866, 59.09230232104937, 57.33345631105219, 54.37235875598748, 11.938630501030289, 9.19514376932639, 8.298163590608684, 10.402386676153428, 4.656040792282405, 4.657467627462527, 4.643575292850749, 13.77621326578819, 4.546805592076051, 240.21734926802958, 7.437860975911766, 3.7539424547079485, 3.75379637291252, 3.7535280413970504, 3.7528903127130797, 3.7513571158631747, 3.7424549530366242, 3.737007558471748, 3.7383337693335688, 9.785937387495425, 3.7296372684909147, 3.7289505516519816, 5.239483539198697, 8.978783831589633, 3.6333069164393255, 3.640572168754564, 8.505332291271142, 5.802777149044633, 4.2599781794321245, 2.843753127539563, 19.886913627541652, 7.492149560974182, 9.807982057228516, 12.134563702151903, 76.86271524366374, 7.8296841273515145, 9.859644700651055, 10.307208428412915, 7.238904190559093, 14.931704379577353, 48.90307268795591, 10.13323516075635, 5.522557399969152, 9.522034224700267, 7.993416663947286, 60.974869764893796, 14.26470902436217, 53.736948426777055, 28.381433217942707, 9.85068648831387, 39.200572279060275, 34.197089838395165, 140.68218858812065, 41.42694357765863, 125.1573320975804, 15.353276139786447, 37.73731109571339, 28.223761972520396, 144.757522908809, 81.17179455974902, 18.113357057315454, 65.17832532286333, 90.19480189656258, 62.22727180657106, 51.50386530961412, 37.685685524408115, 16.5027412691805, 74.95081788916258, 30.044257139225728, 49.40225051232008, 43.463403246183184, 27.360588916743517, 46.25434405333015, 49.873338263827954, 43.72627986439778, 46.12792813344332, 32.02096714674638, 38.195084661104985, 36.02253148474751, 33.47270066696157, 32.444125946642366, 33.65407864870786, 132.08999259181417, 38.529650472032664, 14.142946377388022, 7.434277774314044, 7.402676268648609, 6.519110297015281, 12.009077035609101, 38.24498288194163, 5.598271676364507, 5.57984784997265, 10.159633227795611, 4.688755370790233, 4.670873174936855, 4.645016707645275, 3.7737177090703833, 3.773344239635665, 3.773263154827913, 3.7732583616373074, 3.7722969274882514, 5.8588682626647, 5.125621541626504, 5.784205930892507, 2.8586053534635907, 2.8590049857303668, 2.858829634840697, 2.858789092436821, 2.8584647532058143, 2.8579894284707184, 2.8581601858860575, 2.858291399478897, 15.052152323870557, 12.188291236907473, 9.25972686995384, 48.23967682892867, 3.5522890792397654, 83.98695045430046, 12.279698180629216, 8.34225586513634, 39.5265638179542, 25.3869806626414, 41.22517790037302, 26.134643303859725, 18.109973064166304, 29.329689895745183, 41.42820467260206, 29.584169971399554, 54.35423185298281, 14.031116447359162, 25.871473173636655, 99.81243615054493, 73.9551667984041, 77.76130524930099, 125.62365891826401, 19.75248604600216, 81.8036201786581, 93.67290860343347, 20.853392455311727, 92.18909656483247, 49.04468360482712, 42.46633626227489, 29.251250929208005, 40.27978176708489, 37.44873166755016, 46.83153648815497, 53.820634701959165, 36.81482901444472, 35.88989980504426, 39.38318670508678, 35.13273865777502, 31.71849147082564, 32.310607088227876, 30.280233915744166, 30.25348791216262, 9.435651786159285, 8.605908100333872, 7.750469776087436, 7.735201318678875, 6.0375092472023475, 5.196930603566651, 4.363870266856747, 4.361659279251276, 4.3617474069191315, 4.358691749512522, 4.342665055207832, 4.339221636062657, 4.215046362528349, 3.512611227782082, 3.5108869760652293, 3.5103863431212954, 3.5108805359664244, 3.5088014009101682, 3.477811306508726, 3.461416170761887, 8.068496091078147, 2.6601233161696833, 2.6604256618609416, 2.6602212734620303, 2.6603346530962524, 2.659853679401302, 2.6600441707448974, 2.6602956735508547, 2.6597928374152247, 2.658943252801839, 10.975857003557202, 5.186597634510575, 12.550789945331347, 7.248432212708973, 5.127916810011179, 4.45196607317095, 6.033292677248023, 4.354261300487362, 5.253962762772008, 25.9579015253031, 7.411321970732272, 10.840147174110863, 33.70614845044516, 44.35903721056036, 28.584214492223676, 7.19101771500615, 87.09230062776065, 101.79321585533158, 58.54534109026525, 29.519010425563856, 53.265729108716414, 34.789779812501074, 22.92122817415889, 49.49771000243332, 41.63005686639822, 28.81250853789862, 22.338007403151796, 11.717967214372086, 38.97641076433964, 14.121097540353345, 54.858117429872216, 27.207055628935784, 18.606115217448423, 28.67290346553306, 47.16394293010584, 32.20849330480337, 48.5601509277533, 36.342258502410736, 32.82194864493633, 44.369306117580955, 30.27381712169619, 28.76781289638278, 22.470216530468853, 45.239541077260355, 32.54557485529988, 26.398000252092057, 26.283461400085194, 25.239313944849165, 26.567902260856116, 16.694193786344826, 3.496521363608672, 3.495989386236544, 19.009178780212885, 3.484327882263309, 4.109418637060034, 3.3875234625648325, 2.6497684253618417, 2.6494063213610963, 2.648497195852011, 2.647038750424888, 2.6464885947215047, 2.647450583653664, 2.647300142291554, 2.6176462693026195, 5.3409299557229435, 1.8019172651716073, 1.8017914794771763, 1.80182595562266, 1.8017501081025962, 1.8017350639663852, 1.801778524804328, 1.8014047198087515, 1.8014502701100572, 1.8010967329090983, 1.8008553998907133, 1.8008898760361969, 1.8008391020764847, 1.8007682692684912, 1.8007605382540495, 3.522254776490284, 3.4960620995615637, 9.720889801621675, 3.4723253778692915, 3.489598762541907, 3.4581974713427956, 6.527440084051984, 10.3775972712902, 3.3755748663255707, 7.5926501778969655, 20.756902887825696, 3.2703745649433307, 2.7535157139217015, 12.838313976849008, 4.541561031828737, 9.791190214350399, 9.741358184722106, 7.295855279799357, 7.227274913310761, 13.531084748371368, 7.149907935489587, 36.72687864325507, 7.90512106592645, 31.97446944560958, 8.929638442891328, 77.58690972001374, 60.0529555935115, 103.82907851372688, 8.106156693899575, 11.43575417260825, 10.27677899247209, 11.470389117307386, 8.299535692326637, 41.98941778410914, 6.947229571420754, 29.134089724990826, 34.47599169907007, 19.702872258756187, 15.691199553585838, 18.701985876637433, 20.991435956643333, 22.827044564859506, 18.24717155070606, 16.678756831021634, 19.63050996358121, 21.6113061872285, 12.817729419585616, 23.90798915361052, 17.77832104568981, 20.31005192466202, 20.28453205493607, 17.904197004938055, 17.666840653224817, 16.1816367224942, 16.690352516898947, 15.537914849731816, 14.89253310727415, 22.10993687778586, 9.016362634489903, 16.038509451976168, 6.36610390601908, 26.45304228870361, 5.412784457902342, 38.35824025458027, 8.3055938859644, 9.026696433954509, 8.192188617115688, 8.16187362378114, 2.7923607722751025, 2.792286145201753, 2.7909447030563492, 2.783579584971147, 2.7876836639665146, 2.7820753573965136, 2.6943194546619713, 5.407937388484394, 1.8985830676809243, 1.8983358142455955, 1.8977955880415396, 1.8975159415359106, 1.897622756660128, 1.897516351574775, 1.896730307071416, 1.8974095364505577, 1.8952404308570423, 1.8971452664023496, 1.894020360215548, 8.16223445798195, 132.56094623403686, 3.6655883540747634, 21.335847467562026, 5.613880638325564, 18.737122833627797, 246.9805134606077, 7.3891881866295535, 50.403968380273916, 8.686479807330647, 20.764996280789866, 13.837830865889964, 17.53626497317133, 13.243305675233648, 14.837799205510944, 7.407650596545171, 8.995920556936197, 20.002599538827784, 6.220171484161526, 6.842979105500775, 16.283476510596245, 39.624627246059575, 39.897401500318566, 47.33531296506816, 32.03707783823341, 17.966233366702976, 38.49261491096251, 32.40493518471717, 26.713479293605754, 21.951219034092503, 28.122817314358414, 22.560476101074684, 30.110666047873185, 22.488858712990872, 25.924138077775797, 27.950236876732056, 24.756796794108357, 20.311809846591455, 17.033260457084502, 28.21241505635004, 8.776153864642165, 10.127409512857604, 89.55294038365876, 5.6371792765410325, 4.841247794251363, 11.561434851531425, 8.602489074626828, 49.92106755178894, 2.4724176239593953, 2.472072829396485, 2.4705005316525956, 2.4709328199944083, 2.468905209230048, 2.4702619384199975, 2.4695651540820958, 2.4687500804575864, 2.4651193764416313, 2.4443177305076493, 1.681268799139813, 1.681233686504859, 1.6810571160003969, 1.6811377023757015, 1.6809330705441243, 1.6810588428512963, 1.6807880150685761, 1.6808638526039075, 1.6805143092010237, 1.6800289201940553, 1.6801499436612537, 3.669872735863596, 3.223052080307317, 6.032800241972986, 10.158972893596548, 4.809849039964827, 7.363657176130965, 2.905910156465744, 6.043442824065891, 2.471901871157446, 2.462719917116937, 2.4642902002014435, 5.2609180365420745, 5.618150530863751, 11.82803875695162, 10.745746468101903, 6.070226857132306, 33.700936646366685, 12.80620539027027, 26.029360081430788, 13.204814383375124, 3.8877348356062558, 14.633293076960125, 20.393519689953745, 9.437043879749089, 7.878076273569088, 16.311755311675714, 14.41703493389451, 13.874484859688453, 18.211209563389097, 13.839189178538971, 13.407119571173716, 13.896331826033528, 14.752000261485595, 9.695412433230121, 9.929474409068387, 9.920698552797717, 10.782100133235739, 13.188549750370791, 10.968525200163592, 10.350196303556823, 11.078744336901622], \"Total\": [655.0, 1128.0, 666.0, 287.0, 695.0, 322.0, 230.0, 444.0, 102.0, 133.0, 150.0, 290.0, 168.0, 347.0, 518.0, 442.0, 64.0, 186.0, 117.0, 113.0, 328.0, 142.0, 91.0, 115.0, 349.0, 44.0, 143.0, 404.0, 93.0, 339.0, 28.30662238240242, 13.621533327225901, 81.54786293963457, 30.125665369559314, 10.684609177679947, 10.682759312032289, 11.64226319452309, 8.725076355340203, 8.720578316056477, 7.746176900204556, 46.34158914660192, 7.736582555571208, 125.83576847847763, 6.7664433908664865, 6.765554655111214, 6.765792123875989, 6.759025306593776, 6.761063583360684, 7.737858155060055, 14.43437518758733, 94.06996984311313, 40.70630894032229, 5.787197344908065, 5.786964106024747, 5.7842412621500845, 5.787113044371693, 5.785198152833108, 5.786398716129055, 5.7862360083463384, 16.406344165049337, 35.468647176066774, 347.2476912924044, 24.059485427775996, 22.32931445231433, 13.407048336881381, 33.36725506865042, 11.548554143163393, 695.8660975077933, 1128.776224661831, 39.42249750612289, 444.255926540205, 23.063581466350854, 69.03427442854364, 27.873980003840433, 107.0877221811579, 18.911660737065723, 442.5267318328032, 29.621593918447438, 70.1681382413893, 68.14987943712822, 328.8348431360085, 351.02244158851784, 270.0510305376013, 127.74183412593248, 160.1026200193609, 99.75505152835578, 102.33634345655533, 606.1680239813443, 154.10790175681737, 38.838303759825905, 148.9893583424639, 93.95724783766494, 287.0227732457138, 518.1475314406811, 288.71754597578587, 755.2537019430149, 249.26035063354553, 245.99443015350127, 368.848861250162, 220.17763213953847, 645.7352092520443, 339.47352616049267, 211.44444002494043, 433.80899823318515, 366.64489865900697, 404.38972536301077, 261.86162643817244, 655.9471878342956, 287.72536319644723, 252.0187859091113, 267.111925619417, 150.72063129069554, 10.479890312243716, 9.521473562128062, 8.552451396793632, 8.555966833959067, 35.24491894272187, 6.638371135843211, 27.42243337865369, 8.546070596448516, 91.52151414175985, 19.849658378665666, 5.68686885491848, 5.681917560604424, 26.41656735108295, 168.57829207798466, 21.65504258310455, 4.726524076593596, 4.727124500958004, 4.726609752223753, 4.7216528020121595, 4.725794109801665, 4.715698725963583, 8.483306834841633, 55.512403306805915, 4.72180662093508, 4.7224531842519255, 22.50224503626692, 8.522683394711486, 4.71562579344145, 10.337268722608556, 322.4108880090614, 79.76011244789422, 31.311183892437366, 186.18356054906153, 14.053216127260438, 63.44375119006111, 13.9416614394621, 666.3980046742489, 12.208661660326642, 26.1661586935933, 34.21109917679146, 16.805287707342725, 52.50361690194694, 23.36985336124009, 86.02346524354316, 205.8903068414339, 99.83641796408484, 95.81838486158324, 251.06300518978287, 142.17092177361886, 755.2537019430149, 290.80227123933156, 218.6873363045371, 105.90757207904574, 115.90491831450493, 606.1680239813443, 366.64489865900697, 433.80899823318515, 645.7352092520443, 404.38972536301077, 243.31361835957713, 249.69147808498576, 130.0820142252839, 136.86159278679372, 518.1475314406811, 210.027006967753, 176.71375572320704, 368.848861250162, 349.0677772384315, 249.26035063354553, 261.86162643817244, 287.72536319644723, 287.0227732457138, 12.729665346056624, 9.997114757683066, 9.086127155265094, 11.847152404705955, 5.441090796631772, 5.444143352936033, 5.445042242927083, 16.294989583663146, 5.431493098912866, 287.8021522592153, 8.97598835500658, 4.535156142268402, 4.535220660547088, 4.53511870776857, 4.534733390727111, 4.533447772901309, 4.526635238751272, 4.5313263290733055, 4.5342345573923195, 11.87613559402862, 4.532185299329609, 4.534103756394114, 6.3771793663984715, 10.956016418521434, 4.52442938745353, 4.538830972923372, 10.698101035869335, 7.303912081174, 5.41608704842458, 3.6245227529710258, 26.145980600652198, 9.893718547230879, 13.390357747179348, 17.205087244575825, 142.64836361158467, 10.757159441387143, 14.484166100673473, 15.451789477889028, 10.116473879265152, 24.549932323850292, 108.7148514625776, 15.581634148170137, 7.315755756257063, 14.570363230781748, 11.72419262165433, 164.50999312484157, 25.079288790678703, 159.90289788595868, 66.5037514601238, 15.54205150897837, 109.5023117425167, 90.14802225363519, 695.8660975077933, 121.60471914859049, 645.7352092520443, 29.54651176502588, 115.90491831450493, 74.42714563592742, 1128.776224661831, 442.5267318328032, 38.97933688551509, 366.64489865900697, 655.9471878342956, 368.848861250162, 288.71754597578587, 175.32500355282875, 34.07531117654829, 755.2537019430149, 116.14368735950634, 349.0677772384315, 339.47352616049267, 114.58643528299478, 444.255926540205, 606.1680239813443, 433.80899823318515, 518.1475314406811, 189.92701025743327, 404.38972536301077, 347.2476912924044, 252.0187859091113, 238.08405455641213, 351.02244158851784, 133.66644426932302, 39.34008809983653, 15.562256972329795, 8.216278580246415, 8.214345239260272, 7.30084778705685, 13.584265699906716, 43.560839895588195, 6.384600719404263, 6.384374930053132, 11.811041896036375, 5.469933451827771, 5.466823615699736, 5.468545654556152, 4.554244655350445, 4.554190829759272, 4.554433288823007, 4.554486170308179, 4.554448362309851, 7.253631944371535, 6.387596851103518, 7.29528558456021, 3.6380067972026233, 3.6391257586308, 3.6391187347346348, 3.63913526606592, 3.6388020192421435, 3.638218056557057, 3.638648304633566, 3.638924350726993, 19.2156374545188, 15.577161106191683, 11.873634522150585, 63.982633625851314, 4.537426298473553, 117.72404808782905, 16.219484370024613, 10.950709581362757, 57.331678186719095, 37.01586079801429, 63.96933188180164, 39.214562343954654, 26.021038042061676, 45.583374154386014, 70.78137788177033, 51.73418513089367, 115.31013374533246, 21.809647610748275, 54.53470825152001, 349.0677772384315, 267.111925619417, 290.80227123933156, 666.3980046742489, 41.831630096899836, 433.80899823318515, 645.7352092520443, 50.52939755367836, 755.2537019430149, 252.0187859091113, 249.69147808498576, 113.07433064292022, 258.6576367792697, 218.6873363045371, 404.38972536301077, 606.1680239813443, 238.08405455641213, 243.31361835957713, 339.47352616049267, 245.99443015350127, 167.54024450958406, 205.8903068414339, 220.17763213953847, 287.72536319644723, 10.267313090114486, 9.410093296041833, 8.560492194298257, 8.555670580911496, 6.857946245785555, 6.003636011232672, 5.152689276481858, 5.150805919446326, 5.151852301199489, 5.15000840777596, 5.147918985271018, 5.147935774951965, 5.159439972257286, 4.300891375027058, 4.299932232934144, 4.299389288921444, 4.300470101535546, 4.29845112752713, 4.302703902773602, 4.300281443990106, 10.253448585342035, 3.448212107866372, 3.4486497430279623, 3.448391180651052, 3.448596423289014, 3.448022354516893, 3.4483361628708056, 3.448720909896096, 3.448123281121637, 3.4477132850560945, 14.717657999825727, 6.8488857927112194, 17.7817147362501, 10.14342094114074, 6.992001826927877, 6.036083567941686, 8.647260393273328, 6.0660389021940535, 7.589211210897922, 50.774311196859706, 12.21421187761782, 21.433995010745612, 111.52990299820608, 168.3979561314433, 95.81838486158324, 12.377313533673824, 518.1475314406811, 755.2537019430149, 322.4108880090614, 113.07433064292022, 290.80227123933156, 150.59765178996898, 78.02755250700406, 287.72536319644723, 230.61580176197532, 136.52254187182155, 93.07496854432979, 30.318834854677192, 288.71754597578587, 43.40303349001032, 655.9471878342956, 167.54024450958406, 77.90508531202553, 194.10521476174506, 606.1680239813443, 267.111925619417, 666.3980046742489, 351.02244158851784, 287.0227732457138, 645.7352092520443, 258.6576367792697, 249.69147808498576, 129.83772048048706, 1128.776224661831, 433.80899823318515, 243.31361835957713, 252.0187859091113, 206.4090410921063, 404.38972536301077, 19.83803973133394, 4.285827883129357, 4.286465004472544, 23.356953204129372, 4.287552847237033, 5.159205878031559, 4.286225783432337, 3.438484282043203, 3.4380897813626436, 3.4376885322490547, 3.436103883798457, 3.4355362486960686, 3.4371241100412235, 3.43696421203177, 3.441196145703138, 7.630853760524781, 2.59003688107401, 2.5899874033609005, 2.590040553209981, 2.5899886774635856, 2.589969830019568, 2.590039985462028, 2.589773181369574, 2.5899312073144714, 2.5895221124383934, 2.589397131427401, 2.589467387386429, 2.589406558934674, 2.589387437346273, 2.5894368408182507, 5.074355282094768, 5.077387804112975, 14.494018917588098, 5.1353184306450865, 5.201269705221009, 5.177570249447216, 10.434018230805078, 17.41988046098009, 5.137747192565384, 13.03242589523127, 40.37198492606733, 5.1537523972822985, 4.235654290703483, 25.614020345741128, 7.680943081073087, 19.295760852249014, 19.30483277391574, 13.876857774597276, 13.709114416703127, 33.12995455336066, 14.055141117966945, 143.65919950232694, 17.95149265745056, 153.14493688136875, 22.25017818947303, 655.9471878342956, 444.255926540205, 1128.776224661831, 20.069127876101735, 39.12554957461154, 35.44670855442582, 43.78104472893405, 25.059382522163904, 755.2537019430149, 18.3668114829534, 404.38972536301077, 645.7352092520443, 194.10521476174506, 116.40981925938604, 186.18356054906153, 287.72536319644723, 368.848861250162, 206.4090410921063, 159.7188770083371, 258.6576367792697, 347.2476912924044, 76.7949531341148, 695.8660975077933, 249.26035063354553, 433.80899823318515, 442.5267318328032, 287.0227732457138, 339.47352616049267, 243.31361835957713, 349.0677772384315, 220.17763213953847, 261.86162643817244, 23.2570410219082, 9.834216997297084, 17.904543673297635, 7.151228850605017, 30.391030055744096, 6.258837798688236, 44.68068235613144, 9.852132057205903, 10.791398191218748, 9.795100538473017, 9.786745894960273, 3.5752400272244933, 3.575243058876396, 3.5747252023848297, 3.568262990236688, 3.573919635355548, 3.5752208952448226, 3.567717339184717, 7.238649896981532, 2.681148016008583, 2.6809772349608814, 2.6805011234664593, 2.680285258973431, 2.680623530413927, 2.6807725564875637, 2.6797405273772936, 2.680730659123559, 2.678233447641783, 2.681096270042468, 2.677993752105874, 11.620339180240435, 230.61580176197532, 5.383561135781527, 36.001907084158915, 8.782933359135738, 34.56954762278485, 655.9471878342956, 12.504153470303962, 113.61605726311126, 15.252010471002908, 41.6249853021217, 26.17665703059724, 37.09232671677261, 26.45115331137058, 33.22806712273294, 13.401925427811777, 17.556508011920517, 53.52514093072829, 10.771511757920331, 12.430210472033709, 56.76762116273615, 290.80227123933156, 328.8348431360085, 518.1475314406811, 245.99443015350127, 77.90508531202553, 442.5267318328032, 339.47352616049267, 251.06300518978287, 164.50999312484157, 366.64489865900697, 211.44444002494043, 666.3980046742489, 261.86162643817244, 606.1680239813443, 1128.776224661831, 645.7352092520443, 368.848861250162, 404.38972536301077, 30.454762117364965, 9.606760903663416, 11.243986019790285, 102.07836366098928, 6.434302427719819, 5.641695705517543, 13.84094397785399, 10.539437147290425, 64.8446387067839, 3.2680355163885846, 3.267698292940267, 3.266520003852503, 3.267282129000827, 3.2660891482645122, 3.2679358437161925, 3.2672813806621677, 3.268228808722609, 3.2655103001476795, 3.268325319051495, 2.4765106006318827, 2.4765081840720926, 2.4763622375585372, 2.4765267098618367, 2.4762859515468376, 2.476568691152659, 2.476275699109218, 2.4764752663732263, 2.4762036321354177, 2.475499899019057, 2.475717054118484, 5.791592693981775, 5.045031378620706, 10.14353800888468, 19.816164201977116, 8.42353621200191, 14.835332534829652, 4.9592039024479195, 14.16847947215362, 4.181639643647793, 4.177881016195334, 4.2377857742695015, 12.478487589333174, 14.215309309185788, 48.95726577365106, 43.78104472893405, 18.128914993740516, 518.1475314406811, 93.95724783766494, 404.38972536301077, 121.60471914859049, 8.645876449784067, 160.1026200193609, 339.47352616049267, 64.86736607315564, 45.710488552734226, 349.0677772384315, 267.111925619417, 270.0510305376013, 606.1680239813443, 351.02244158851784, 368.848861250162, 444.255926540205, 695.8660975077933, 116.14368735950634, 142.64836361158467, 143.65919950232694, 243.31361835957713, 1128.776224661831, 328.8348431360085, 218.6873363045371, 645.7352092520443], \"Category\": [\"Default\", \"Default\", \"Default\", \"Default\", \"Default\", \"Default\", \"Default\", \"Default\", \"Default\", \"Default\", \"Default\", \"Default\", \"Default\", \"Default\", \"Default\", \"Default\", \"Default\", \"Default\", \"Default\", \"Default\", \"Default\", \"Default\", \"Default\", \"Default\", \"Default\", \"Default\", \"Default\", \"Default\", \"Default\", \"Default\", \"Topic1\", \"Topic1\", \"Topic1\", \"Topic1\", \"Topic1\", \"Topic1\", \"Topic1\", \"Topic1\", \"Topic1\", \"Topic1\", \"Topic1\", \"Topic1\", \"Topic1\", \"Topic1\", \"Topic1\", \"Topic1\", \"Topic1\", \"Topic1\", \"Topic1\", \"Topic1\", \"Topic1\", \"Topic1\", \"Topic1\", \"Topic1\", \"Topic1\", \"Topic1\", \"Topic1\", \"Topic1\", \"Topic1\", \"Topic1\", \"Topic1\", \"Topic1\", \"Topic1\", \"Topic1\", \"Topic1\", \"Topic1\", \"Topic1\", \"Topic1\", \"Topic1\", \"Topic1\", \"Topic1\", \"Topic1\", \"Topic1\", \"Topic1\", \"Topic1\", \"Topic1\", \"Topic1\", \"Topic1\", \"Topic1\", \"Topic1\", \"Topic1\", \"Topic1\", \"Topic1\", \"Topic1\", \"Topic1\", \"Topic1\", \"Topic1\", \"Topic1\", \"Topic1\", \"Topic1\", \"Topic1\", \"Topic1\", \"Topic1\", \"Topic1\", \"Topic1\", \"Topic1\", \"Topic1\", \"Topic1\", \"Topic1\", \"Topic1\", \"Topic1\", \"Topic1\", \"Topic1\", \"Topic1\", \"Topic1\", \"Topic1\", \"Topic1\", \"Topic1\", \"Topic1\", \"Topic1\", \"Topic1\", \"Topic2\", \"Topic2\", \"Topic2\", \"Topic2\", \"Topic2\", \"Topic2\", \"Topic2\", \"Topic2\", \"Topic2\", \"Topic2\", \"Topic2\", \"Topic2\", \"Topic2\", \"Topic2\", \"Topic2\", \"Topic2\", \"Topic2\", \"Topic2\", \"Topic2\", \"Topic2\", \"Topic2\", \"Topic2\", \"Topic2\", \"Topic2\", \"Topic2\", \"Topic2\", \"Topic2\", \"Topic2\", \"Topic2\", \"Topic2\", \"Topic2\", \"Topic2\", \"Topic2\", \"Topic2\", \"Topic2\", \"Topic2\", \"Topic2\", \"Topic2\", \"Topic2\", \"Topic2\", \"Topic2\", \"Topic2\", \"Topic2\", \"Topic2\", \"Topic2\", \"Topic2\", \"Topic2\", \"Topic2\", \"Topic2\", \"Topic2\", \"Topic2\", \"Topic2\", \"Topic2\", \"Topic2\", \"Topic2\", \"Topic2\", \"Topic2\", \"Topic2\", \"Topic2\", \"Topic2\", \"Topic2\", \"Topic2\", \"Topic2\", \"Topic2\", \"Topic2\", \"Topic2\", \"Topic2\", \"Topic2\", \"Topic2\", \"Topic2\", \"Topic2\", \"Topic2\", \"Topic2\", \"Topic3\", \"Topic3\", \"Topic3\", \"Topic3\", \"Topic3\", \"Topic3\", \"Topic3\", \"Topic3\", \"Topic3\", \"Topic3\", \"Topic3\", \"Topic3\", \"Topic3\", \"Topic3\", \"Topic3\", \"Topic3\", \"Topic3\", \"Topic3\", \"Topic3\", \"Topic3\", \"Topic3\", \"Topic3\", \"Topic3\", \"Topic3\", \"Topic3\", \"Topic3\", \"Topic3\", \"Topic3\", \"Topic3\", \"Topic3\", \"Topic3\", \"Topic3\", \"Topic3\", \"Topic3\", \"Topic3\", \"Topic3\", \"Topic3\", \"Topic3\", \"Topic3\", \"Topic3\", \"Topic3\", \"Topic3\", \"Topic3\", \"Topic3\", \"Topic3\", \"Topic3\", \"Topic3\", \"Topic3\", \"Topic3\", \"Topic3\", \"Topic3\", \"Topic3\", \"Topic3\", \"Topic3\", \"Topic3\", \"Topic3\", \"Topic3\", \"Topic3\", \"Topic3\", \"Topic3\", \"Topic3\", \"Topic3\", \"Topic3\", \"Topic3\", \"Topic3\", \"Topic3\", \"Topic3\", \"Topic3\", \"Topic3\", \"Topic3\", \"Topic3\", \"Topic3\", \"Topic3\", \"Topic3\", \"Topic3\", \"Topic3\", \"Topic3\", \"Topic3\", \"Topic3\", \"Topic3\", \"Topic3\", \"Topic3\", \"Topic4\", \"Topic4\", \"Topic4\", \"Topic4\", \"Topic4\", \"Topic4\", \"Topic4\", \"Topic4\", \"Topic4\", \"Topic4\", \"Topic4\", \"Topic4\", \"Topic4\", \"Topic4\", \"Topic4\", \"Topic4\", \"Topic4\", \"Topic4\", \"Topic4\", \"Topic4\", \"Topic4\", \"Topic4\", \"Topic4\", \"Topic4\", \"Topic4\", \"Topic4\", \"Topic4\", \"Topic4\", \"Topic4\", \"Topic4\", \"Topic4\", \"Topic4\", \"Topic4\", \"Topic4\", \"Topic4\", \"Topic4\", \"Topic4\", \"Topic4\", \"Topic4\", \"Topic4\", \"Topic4\", \"Topic4\", \"Topic4\", \"Topic4\", \"Topic4\", \"Topic4\", \"Topic4\", \"Topic4\", \"Topic4\", \"Topic4\", \"Topic4\", \"Topic4\", \"Topic4\", \"Topic4\", \"Topic4\", \"Topic4\", \"Topic4\", \"Topic4\", \"Topic4\", \"Topic4\", \"Topic4\", \"Topic4\", \"Topic4\", \"Topic4\", \"Topic4\", \"Topic4\", \"Topic4\", \"Topic4\", \"Topic4\", \"Topic4\", \"Topic4\", \"Topic4\", \"Topic4\", \"Topic5\", \"Topic5\", \"Topic5\", \"Topic5\", \"Topic5\", \"Topic5\", \"Topic5\", \"Topic5\", \"Topic5\", \"Topic5\", \"Topic5\", \"Topic5\", \"Topic5\", \"Topic5\", \"Topic5\", \"Topic5\", \"Topic5\", \"Topic5\", \"Topic5\", \"Topic5\", \"Topic5\", \"Topic5\", \"Topic5\", \"Topic5\", \"Topic5\", \"Topic5\", \"Topic5\", \"Topic5\", \"Topic5\", \"Topic5\", \"Topic5\", \"Topic5\", \"Topic5\", \"Topic5\", \"Topic5\", \"Topic5\", \"Topic5\", \"Topic5\", \"Topic5\", \"Topic5\", \"Topic5\", \"Topic5\", \"Topic5\", \"Topic5\", \"Topic5\", \"Topic5\", \"Topic5\", \"Topic5\", \"Topic5\", \"Topic5\", \"Topic5\", \"Topic5\", \"Topic5\", \"Topic5\", \"Topic5\", \"Topic5\", \"Topic5\", \"Topic5\", \"Topic5\", \"Topic5\", \"Topic5\", \"Topic5\", \"Topic5\", \"Topic5\", \"Topic5\", \"Topic5\", \"Topic5\", \"Topic5\", \"Topic5\", \"Topic5\", \"Topic5\", \"Topic5\", \"Topic5\", \"Topic5\", \"Topic5\", \"Topic5\", \"Topic5\", \"Topic5\", \"Topic5\", \"Topic6\", \"Topic6\", \"Topic6\", \"Topic6\", \"Topic6\", \"Topic6\", \"Topic6\", \"Topic6\", \"Topic6\", \"Topic6\", \"Topic6\", \"Topic6\", \"Topic6\", \"Topic6\", \"Topic6\", \"Topic6\", \"Topic6\", \"Topic6\", \"Topic6\", \"Topic6\", \"Topic6\", \"Topic6\", \"Topic6\", \"Topic6\", \"Topic6\", \"Topic6\", \"Topic6\", \"Topic6\", \"Topic6\", \"Topic6\", \"Topic6\", \"Topic6\", \"Topic6\", \"Topic6\", \"Topic6\", \"Topic6\", \"Topic6\", \"Topic6\", \"Topic6\", \"Topic6\", \"Topic6\", \"Topic6\", \"Topic6\", \"Topic6\", \"Topic6\", \"Topic6\", \"Topic6\", \"Topic6\", \"Topic6\", \"Topic6\", \"Topic6\", \"Topic6\", \"Topic6\", \"Topic6\", \"Topic6\", \"Topic6\", \"Topic6\", \"Topic6\", \"Topic6\", \"Topic6\", \"Topic6\", \"Topic6\", \"Topic6\", \"Topic6\", \"Topic6\", \"Topic6\", \"Topic6\", \"Topic6\", \"Topic6\", \"Topic6\", \"Topic6\", \"Topic6\", \"Topic6\", \"Topic6\", \"Topic6\", \"Topic6\", \"Topic6\", \"Topic6\", \"Topic6\", \"Topic6\", \"Topic6\", \"Topic6\", \"Topic6\", \"Topic6\", \"Topic6\", \"Topic6\", \"Topic6\", \"Topic7\", \"Topic7\", \"Topic7\", \"Topic7\", \"Topic7\", \"Topic7\", \"Topic7\", \"Topic7\", \"Topic7\", \"Topic7\", \"Topic7\", \"Topic7\", \"Topic7\", \"Topic7\", \"Topic7\", \"Topic7\", \"Topic7\", \"Topic7\", \"Topic7\", \"Topic7\", \"Topic7\", \"Topic7\", \"Topic7\", \"Topic7\", \"Topic7\", \"Topic7\", \"Topic7\", \"Topic7\", \"Topic7\", \"Topic7\", \"Topic7\", \"Topic7\", \"Topic7\", \"Topic7\", \"Topic7\", \"Topic7\", \"Topic7\", \"Topic7\", \"Topic7\", \"Topic7\", \"Topic7\", \"Topic7\", \"Topic7\", \"Topic7\", \"Topic7\", \"Topic7\", \"Topic7\", \"Topic7\", \"Topic7\", \"Topic7\", \"Topic7\", \"Topic7\", \"Topic7\", \"Topic7\", \"Topic7\", \"Topic7\", \"Topic7\", \"Topic7\", \"Topic7\", \"Topic7\", \"Topic7\", \"Topic7\", \"Topic7\", \"Topic7\", \"Topic7\", \"Topic7\", \"Topic7\", \"Topic7\", \"Topic7\", \"Topic8\", \"Topic8\", \"Topic8\", \"Topic8\", \"Topic8\", \"Topic8\", \"Topic8\", \"Topic8\", \"Topic8\", \"Topic8\", \"Topic8\", \"Topic8\", \"Topic8\", \"Topic8\", \"Topic8\", \"Topic8\", \"Topic8\", \"Topic8\", \"Topic8\", \"Topic8\", \"Topic8\", \"Topic8\", \"Topic8\", \"Topic8\", \"Topic8\", \"Topic8\", \"Topic8\", \"Topic8\", \"Topic8\", \"Topic8\", \"Topic8\", \"Topic8\", \"Topic8\", \"Topic8\", \"Topic8\", \"Topic8\", \"Topic8\", \"Topic8\", \"Topic8\", \"Topic8\", \"Topic8\", \"Topic8\", \"Topic8\", \"Topic8\", \"Topic8\", \"Topic8\", \"Topic8\", \"Topic8\", \"Topic8\", \"Topic8\", \"Topic8\", \"Topic8\", \"Topic8\", \"Topic8\", \"Topic8\", \"Topic8\", \"Topic8\", \"Topic8\", \"Topic8\", \"Topic8\", \"Topic8\", \"Topic8\", \"Topic8\", \"Topic8\", \"Topic8\", \"Topic8\", \"Topic8\", \"Topic8\", \"Topic8\", \"Topic8\", \"Topic8\"], \"logprob\": [30.0, 29.0, 28.0, 27.0, 26.0, 25.0, 24.0, 23.0, 22.0, 21.0, 20.0, 19.0, 18.0, 17.0, 16.0, 15.0, 14.0, 13.0, 12.0, 11.0, 10.0, 9.0, 8.0, 7.0, 6.0, 5.0, 4.0, 3.0, 2.0, 1.0, -6.4448, -7.205, -5.4206, -6.4171, -7.4643, -7.4653, -7.3895, -7.6849, -7.6854, -7.816, -6.0349, -7.8256, -5.0413, -7.9671, -7.9681, -7.9687, -7.9725, -7.9723, -7.8387, -7.2248, -5.3514, -6.1925, -8.1455, -8.1458, -8.1463, -8.1459, -8.1463, -8.1461, -8.1463, -7.1049, -6.3412, -4.1234, -6.7426, -6.829, -7.3242, -6.4419, -7.4728, -3.5157, -3.0858, -6.3082, -4.0427, -6.82, -5.8009, -6.6535, -5.4322, -7.0111, -4.153, -6.605, -5.8323, -5.8754, -4.5486, -4.5108, -4.7325, -5.3695, -5.1845, -5.5874, -5.573, -4.2075, -5.3019, -6.3959, -5.3793, -5.7337, -4.9215, -4.5332, -4.9672, -4.3362, -5.0997, -5.1304, -4.8956, -5.2057, -4.602, -4.9835, -5.2349, -4.8961, -4.9828, -4.9682, -5.1572, -4.8684, -5.1674, -5.2345, -5.2408, -4.2682, -6.9703, -7.0748, -7.2007, -7.2095, -5.8045, -7.4806, -6.0625, -7.2383, -4.8685, -6.4003, -7.6508, -7.6528, -6.1174, -4.2819, -6.3395, -7.8684, -7.8684, -7.8691, -7.8705, -7.8697, -7.8723, -7.2857, -5.411, -7.8763, -7.8777, -6.3259, -7.2987, -7.8953, -7.1132, -3.6732, -5.0882, -6.0237, -4.3186, -6.8203, -5.3925, -6.8407, -3.1735, -6.9816, -6.2784, -6.051, -6.6956, -5.7301, -6.4276, -5.3591, -4.665, -5.2567, -5.2918, -4.5307, -5.018, -3.9528, -4.6462, -4.8899, -5.4216, -5.366, -4.3008, -4.6286, -4.5301, -4.3095, -4.6338, -4.9589, -4.9721, -5.3202, -5.3223, -4.7818, -5.1516, -5.2209, -4.9656, -5.0342, -5.1386, -5.1633, -5.1935, -5.2465, -6.4538, -6.7149, -6.8175, -6.5915, -7.3954, -7.3951, -7.3981, -6.3106, -7.4191, -3.452, -6.927, -7.6107, -7.6108, -7.6108, -7.611, -7.6114, -7.6138, -7.6153, -7.6149, -6.6526, -7.6172, -7.6174, -7.2773, -6.7387, -7.6434, -7.6414, -6.7928, -7.1752, -7.4843, -7.8884, -5.9435, -6.9197, -6.6503, -6.4375, -4.5915, -6.8756, -6.6451, -6.6007, -6.9541, -6.2301, -5.0437, -6.6177, -7.2247, -6.6799, -6.8549, -4.8231, -6.2758, -4.9494, -5.5878, -6.646, -5.2649, -5.4014, -3.987, -5.2096, -4.104, -6.2022, -5.3029, -5.5934, -3.9585, -4.537, -6.0369, -4.7564, -4.4316, -4.8027, -4.9919, -5.3043, -6.13, -4.6167, -5.5309, -5.0335, -5.1616, -5.6244, -5.0994, -5.0241, -5.1556, -5.1021, -5.4672, -5.2908, -5.3494, -5.4228, -5.454, -5.4174, -3.9503, -5.1824, -6.1846, -6.8277, -6.8319, -6.959, -6.3481, -5.1898, -7.1113, -7.1146, -6.5154, -7.2886, -7.2924, -7.298, -7.5057, -7.5058, -7.5058, -7.5058, -7.5061, -7.0658, -7.1995, -7.0787, -7.7834, -7.7833, -7.7834, -7.7834, -7.7835, -7.7837, -7.7836, -7.7836, -6.1223, -6.3333, -6.6081, -4.9576, -7.5662, -4.4031, -6.3258, -6.7124, -5.1568, -5.5995, -5.1147, -5.5705, -5.9373, -5.4552, -5.1098, -5.4465, -4.8383, -6.1925, -5.5806, -4.2305, -4.5303, -4.4801, -4.0005, -5.8505, -4.4295, -4.294, -5.7963, -4.3099, -4.9411, -5.0851, -5.4579, -5.1379, -5.2108, -4.9872, -4.8481, -5.2279, -5.2533, -5.1604, -5.2746, -5.3769, -5.3584, -5.4233, -5.4242, -6.4251, -6.5171, -6.6218, -6.6238, -6.8716, -7.0215, -7.1962, -7.1967, -7.1967, -7.1974, -7.2011, -7.2019, -7.2309, -7.4132, -7.4137, -7.4139, -7.4137, -7.4143, -7.4232, -7.4279, -6.5816, -7.6912, -7.6911, -7.6912, -7.6911, -7.6913, -7.6913, -7.6912, -7.6914, -7.6917, -6.2739, -7.0235, -6.1398, -6.6888, -7.0349, -7.1763, -6.8723, -7.1984, -7.0106, -5.4131, -6.6666, -6.2863, -5.1519, -4.8773, -5.3167, -6.6968, -4.2026, -4.0467, -4.5998, -5.2846, -4.6943, -5.1203, -5.5375, -4.7677, -4.9408, -5.3088, -5.5633, -6.2085, -5.0066, -6.0219, -4.6648, -5.3661, -5.7461, -5.3136, -4.816, -5.1974, -4.7868, -5.0766, -5.1785, -4.8771, -5.2593, -5.3103, -5.5574, -4.8576, -5.187, -5.3963, -5.4007, -5.4412, -5.3899, -5.3708, -6.934, -6.9342, -5.2409, -6.9375, -6.7725, -6.9657, -7.2113, -7.2115, -7.2118, -7.2124, -7.2126, -7.2122, -7.2123, -7.2235, -6.5104, -7.597, -7.597, -7.597, -7.5971, -7.5971, -7.597, -7.5972, -7.5972, -7.5974, -7.5976, -7.5975, -7.5976, -7.5976, -7.5976, -6.9267, -6.9342, -5.9115, -6.941, -6.936, -6.9451, -6.3098, -5.8462, -6.9693, -6.1586, -5.1529, -7.0009, -7.1729, -5.6334, -6.6725, -5.9043, -5.9094, -6.1985, -6.208, -5.5808, -6.2187, -4.5823, -6.1183, -4.7209, -5.9964, -3.8344, -4.0906, -3.5431, -6.0932, -5.7491, -5.8559, -5.746, -6.0696, -4.4484, -6.2475, -4.8139, -4.6456, -5.2051, -5.4327, -5.2572, -5.1417, -5.0579, -5.2818, -5.3717, -5.2087, -5.1126, -5.635, -5.0116, -5.3078, -5.1747, -5.176, -5.3008, -5.3141, -5.4019, -5.371, -5.4425, -5.485, -5.0708, -5.9678, -5.3919, -6.3159, -4.8915, -6.4781, -4.5199, -6.0499, -5.9667, -6.0637, -6.0674, -7.14, -7.14, -7.1405, -7.1431, -7.1416, -7.1436, -7.1757, -6.479, -7.5257, -7.5259, -7.5262, -7.5263, -7.5262, -7.5263, -7.5267, -7.5264, -7.5275, -7.5265, -7.5281, -6.0673, -3.2798, -6.8679, -5.1065, -6.4416, -5.2363, -2.6575, -6.1668, -4.2468, -6.0051, -5.1336, -5.5394, -5.3026, -5.5834, -5.4697, -6.1643, -5.9701, -5.171, -6.339, -6.2436, -5.3767, -4.4874, -4.4805, -4.3096, -4.6999, -5.2783, -4.5164, -4.6885, -4.8817, -5.078, -4.8303, -5.0506, -4.762, -5.0538, -4.9117, -4.8364, -4.9577, -5.1556, -5.3317, -4.4731, -5.6408, -5.4976, -3.3181, -6.0835, -6.2357, -5.3652, -5.6608, -3.9024, -6.9077, -6.9078, -6.9085, -6.9083, -6.9091, -6.9086, -6.9088, -6.9092, -6.9106, -6.9191, -7.2933, -7.2934, -7.2935, -7.2934, -7.2935, -7.2935, -7.2936, -7.2936, -7.2938, -7.2941, -7.294, -6.5127, -6.6426, -6.0157, -5.4945, -6.2422, -5.8163, -6.7461, -6.0139, -6.9079, -6.9116, -6.911, -6.1526, -6.0869, -5.3424, -5.4384, -6.0095, -4.2954, -5.263, -4.5537, -5.2323, -6.4551, -5.1296, -4.7977, -5.5682, -5.7488, -5.021, -5.1445, -5.1828, -4.9108, -5.1854, -5.2171, -5.1813, -5.1215, -5.5412, -5.5174, -5.5183, -5.435, -5.2335, -5.4179, -5.4759, -5.4079], \"loglift\": [30.0, 29.0, 28.0, 27.0, 26.0, 25.0, 24.0, 23.0, 22.0, 21.0, 20.0, 19.0, 18.0, 17.0, 16.0, 15.0, 14.0, 13.0, 12.0, 11.0, 10.0, 9.0, 8.0, 7.0, 6.0, 5.0, 4.0, 3.0, 2.0, 1.0, 1.171, 1.1423, 1.1371, 1.1365, 1.1259, 1.125, 1.1149, 1.1079, 1.1078, 1.0958, 1.0881, 1.0874, 1.0827, 1.0798, 1.079, 1.0784, 1.0755, 1.0754, 1.0741, 1.0646, 1.0635, 1.0601, 1.0578, 1.0575, 1.0575, 1.0575, 1.0574, 1.0573, 1.0572, 1.0564, 1.0491, 0.9855, 1.0358, 1.024, 1.039, 1.0094, 1.0396, 0.8981, 0.8443, 0.9764, 0.8199, 1.0007, 0.9234, 0.9778, 0.8531, 1.0081, 0.7134, 0.9654, 0.8758, 0.8618, 0.6148, 0.5873, 0.6279, 0.7395, 0.6986, 0.7689, 0.7577, 0.3443, 0.6194, 0.9037, 0.5757, 0.6824, 0.3778, 0.1755, 0.3263, -0.0043, 0.3407, 0.3232, 0.153, 0.3588, -0.1134, 0.148, 0.37, -0.0098, 0.0717, -0.0116, 0.234, -0.3955, 0.1296, 0.195, 0.1305, 1.6753, 1.6392, 1.6306, 1.612, 1.6028, 1.5921, 1.5855, 1.585, 1.5752, 1.5738, 1.5705, 1.5699, 1.5689, 1.5676, 1.5496, 1.5442, 1.5374, 1.5372, 1.5366, 1.5363, 1.5362, 1.5358, 1.5352, 1.5313, 1.5305, 1.5289, 1.5194, 1.5175, 1.5127, 1.51, 1.5099, 1.4917, 1.4912, 1.4136, 1.4958, 1.4163, 1.4833, 1.2836, 1.4752, 1.4161, 1.3754, 1.4417, 1.268, 1.3799, 1.1453, 0.9666, 1.0988, 1.1047, 0.9025, 0.9839, 0.3791, 0.6401, 0.6814, 0.8748, 0.8402, 0.251, 0.426, 0.3562, 0.1791, 0.3227, 0.5057, 0.4666, 0.7705, 0.7177, -0.0732, 0.4601, 0.5636, 0.083, 0.0694, 0.3018, 0.2279, 0.1034, 0.0529, 1.9613, 1.9418, 1.9347, 1.8954, 1.8696, 1.8693, 1.8662, 1.8575, 1.8476, 1.8447, 1.8374, 1.8364, 1.8363, 1.8363, 1.8362, 1.836, 1.8352, 1.8327, 1.8324, 1.8318, 1.8305, 1.8299, 1.8289, 1.8264, 1.8061, 1.8049, 1.796, 1.7953, 1.7853, 1.7828, 1.7518, 1.7474, 1.7141, 1.6763, 1.407, 1.7078, 1.6408, 1.6205, 1.6907, 1.5282, 1.2265, 1.5951, 1.7442, 1.6, 1.6424, 1.0329, 1.4612, 0.9349, 1.1739, 1.5694, 0.9982, 1.0561, 0.4268, 0.9486, 0.3846, 1.3708, 0.9033, 1.0558, -0.0284, 0.3295, 1.259, 0.2981, 0.0413, 0.2458, 0.3016, 0.488, 1.3004, -0.2848, 0.6733, 0.0701, -0.0301, 0.5932, -0.2368, -0.4723, -0.2692, -0.3934, 0.2452, -0.3343, -0.2405, 0.0066, 0.0323, -0.3193, 2.1133, 2.1043, 2.0295, 2.0251, 2.0211, 2.0119, 2.0019, 1.995, 1.9937, 1.9905, 1.9746, 1.9711, 1.9678, 1.9619, 1.9372, 1.9371, 1.937, 1.937, 1.9367, 1.9116, 1.9051, 1.8931, 1.8841, 1.8839, 1.8838, 1.8838, 1.8838, 1.8838, 1.8837, 1.8837, 1.881, 1.8798, 1.8765, 1.8427, 1.8804, 1.7875, 1.8469, 1.8531, 1.7533, 1.7481, 1.6858, 1.7194, 1.7627, 1.6842, 1.5895, 1.5663, 1.3731, 1.6841, 1.3795, 0.8732, 0.841, 0.8062, 0.4566, 1.3748, 0.4569, 0.1946, 1.2401, 0.022, 0.4884, 0.3537, 0.773, 0.2655, 0.3605, -0.0307, -0.2963, 0.2584, 0.2113, -0.0289, 0.179, 0.4608, 0.2732, 0.1412, -0.1272, 2.2049, 2.2, 2.1899, 2.1885, 2.1619, 2.1451, 2.1232, 2.123, 2.1229, 2.1225, 2.1192, 2.1184, 2.0872, 2.0869, 2.0866, 2.0866, 2.0865, 2.0864, 2.0765, 2.0723, 2.0497, 2.0299, 2.0299, 2.0299, 2.0298, 2.0298, 2.0298, 2.0298, 2.0298, 2.0296, 1.996, 2.0113, 1.941, 1.9533, 1.9793, 1.9849, 1.9294, 1.9578, 1.9216, 1.6184, 1.7898, 1.6076, 1.0927, 0.9553, 1.0798, 1.7463, 0.5061, 0.2852, 0.5833, 0.9463, 0.592, 0.8241, 1.0644, 0.5293, 0.5774, 0.7337, 0.8622, 1.3387, 0.2869, 1.1665, -0.192, 0.4716, 0.8573, 0.3769, -0.2642, 0.1739, -0.3297, 0.0215, 0.1209, -0.3885, 0.1441, 0.1284, 0.5353, -0.9276, -0.3006, 0.0683, 0.0288, 0.1879, -0.4333, 2.6006, 2.5696, 2.5693, 2.5672, 2.5657, 2.5456, 2.5378, 2.5126, 2.5126, 2.5123, 2.5122, 2.5122, 2.5121, 2.5121, 2.4996, 2.4163, 2.4103, 2.4103, 2.4103, 2.4102, 2.4102, 2.4102, 2.4101, 2.4101, 2.4101, 2.41, 2.41, 2.41, 2.4099, 2.4099, 2.408, 2.4, 2.3737, 2.3818, 2.374, 2.3695, 2.3041, 2.2552, 2.3531, 2.2329, 2.1079, 2.3183, 2.3425, 2.0824, 2.2477, 2.0947, 2.0892, 2.1302, 2.1329, 1.8777, 2.0972, 1.4092, 1.953, 1.2067, 1.8602, 0.6385, 0.772, 0.387, 1.8666, 1.5431, 1.535, 1.4337, 1.6681, -0.1165, 1.8009, 0.1427, -0.157, 0.4855, 0.7691, 0.475, 0.1552, -0.0093, 0.3473, 0.5139, 0.1947, -0.0037, 0.9828, -0.5978, 0.1326, -0.2884, -0.3095, -0.0014, -0.1826, 0.0627, -0.2673, 0.122, -0.0938, 2.7415, 2.7053, 2.682, 2.6758, 2.6533, 2.6469, 2.6395, 2.6213, 2.6135, 2.6134, 2.6106, 2.545, 2.5449, 2.5446, 2.5438, 2.5437, 2.5413, 2.5113, 2.5005, 2.447, 2.4469, 2.4468, 2.4467, 2.4467, 2.4465, 2.4465, 2.4465, 2.4463, 2.4462, 2.4457, 2.4389, 2.2384, 2.4077, 2.2689, 2.3445, 2.1796, 1.8153, 2.2661, 1.9794, 2.2292, 2.0967, 2.1546, 2.043, 2.1003, 1.9859, 2.1992, 2.1235, 1.8078, 2.243, 2.1952, 1.5433, 0.7989, 0.6829, 0.3991, 0.7537, 1.3251, 0.3501, 0.443, 0.5516, 0.778, 0.2243, 0.5543, -0.3049, 0.3373, -0.3599, -0.9064, -0.4692, -0.1071, -0.3751, 3.0696, 3.0556, 3.0415, 3.0152, 3.0138, 2.9931, 2.9661, 2.943, 2.8845, 2.8671, 2.867, 2.8668, 2.8667, 2.8662, 2.8662, 2.8661, 2.8655, 2.8649, 2.8556, 2.7588, 2.7587, 2.7587, 2.7587, 2.7587, 2.7586, 2.7586, 2.7585, 2.7584, 2.7584, 2.7584, 2.6898, 2.698, 2.6264, 2.4779, 2.5857, 2.4456, 2.6116, 2.294, 2.6203, 2.6175, 2.6039, 2.2824, 2.2177, 1.7256, 1.7414, 2.052, 0.4133, 1.1532, 0.4029, 0.9259, 2.3468, 0.7535, 0.3339, 1.2184, 1.3878, 0.0827, 0.2268, 0.1775, -0.3591, -0.0873, -0.1685, -0.3187, -0.7077, 0.6629, 0.4812, 0.4732, 0.0296, -1.3035, -0.2545, 0.0954, -0.9193]}, \"token.table\": {\"Topic\": [1, 2, 3, 4, 5, 6, 7, 1, 2, 6, 7, 8, 6, 8, 4, 4, 1, 2, 3, 4, 5, 6, 2, 5, 8, 4, 1, 2, 3, 4, 5, 6, 7, 8, 4, 1, 5, 6, 8, 5, 4, 1, 2, 3, 4, 5, 6, 1, 1, 3, 6, 8, 1, 2, 3, 4, 5, 6, 7, 8, 5, 4, 3, 4, 5, 2, 4, 5, 4, 6, 2, 5, 4, 6, 5, 4, 6, 5, 6, 8, 2, 5, 5, 1, 2, 3, 4, 5, 6, 7, 8, 1, 2, 3, 4, 5, 6, 1, 2, 3, 4, 5, 6, 7, 8, 1, 1, 2, 3, 4, 5, 6, 7, 8, 1, 3, 4, 5, 6, 7, 8, 2, 5, 6, 2, 5, 6, 7, 5, 2, 3, 7, 1, 7, 5, 6, 2, 7, 8, 3, 4, 7, 1, 2, 3, 4, 5, 6, 7, 8, 6, 1, 6, 1, 3, 4, 1, 2, 3, 4, 7, 8, 2, 3, 5, 6, 5, 1, 8, 3, 8, 8, 6, 8, 1, 2, 3, 4, 5, 6, 7, 8, 8, 2, 3, 5, 7, 6, 1, 2, 3, 4, 5, 6, 7, 8, 1, 3, 4, 5, 6, 7, 1, 8, 1, 3, 3, 8, 7, 7, 2, 1, 2, 3, 4, 5, 6, 7, 8, 6, 7, 3, 4, 3, 1, 3, 5, 7, 2, 6, 8, 2, 1, 3, 4, 5, 1, 3, 4, 5, 8, 1, 3, 5, 6, 1, 2, 3, 4, 5, 6, 7, 8, 1, 2, 3, 5, 6, 7, 1, 1, 1, 2, 3, 4, 5, 6, 7, 8, 1, 2, 3, 5, 7, 1, 8, 5, 2, 3, 5, 6, 7, 4, 6, 8, 1, 2, 3, 4, 5, 6, 7, 8, 4, 4, 5, 1, 2, 3, 6, 7, 8, 4, 7, 3, 2, 5, 6, 8, 1, 3, 6, 1, 2, 3, 4, 5, 6, 7, 8, 1, 2, 3, 4, 7, 2, 4, 2, 5, 2, 1, 2, 3, 4, 5, 7, 8, 1, 3, 5, 6, 8, 2, 6, 8, 1, 2, 5, 6, 1, 3, 5, 6, 7, 1, 6, 7, 8, 1, 3, 6, 8, 3, 5, 6, 7, 1, 2, 4, 5, 7, 7, 5, 7, 8, 1, 2, 3, 4, 5, 6, 7, 8, 1, 2, 4, 5, 7, 8, 4, 5, 8, 2, 3, 5, 6, 8, 1, 2, 3, 5, 6, 4, 5, 5, 1, 2, 3, 4, 5, 6, 7, 8, 6, 1, 2, 3, 4, 5, 6, 8, 2, 5, 5, 6, 1, 2, 3, 4, 5, 8, 3, 7, 4, 8, 3, 3, 2, 3, 4, 1, 2, 4, 5, 7, 8, 2, 4, 1, 2, 4, 1, 2, 3, 4, 5, 6, 8, 1, 2, 3, 4, 5, 6, 1, 2, 3, 5, 6, 8, 1, 2, 6, 1, 5, 8, 1, 2, 3, 4, 5, 6, 7, 8, 8, 1, 2, 3, 4, 6, 7, 8, 1, 2, 3, 4, 5, 6, 7, 8, 8, 1, 3, 5, 6, 8, 2, 5, 3, 1, 2, 3, 4, 5, 6, 7, 8, 5, 1, 2, 3, 5, 6, 7, 8, 7, 3, 4, 2, 3, 1, 3, 4, 5, 6, 8, 1, 4, 5, 8, 6, 4, 3, 5, 6, 1, 8, 4, 1, 2, 3, 4, 5, 6, 7, 8, 1, 3, 5, 7, 1, 2, 3, 4, 5, 6, 7, 8, 1, 2, 3, 4, 5, 6, 7, 8, 1, 8, 1, 2, 3, 4, 5, 6, 7, 8, 8, 2, 7, 4, 6, 7, 1, 2, 3, 4, 6, 8, 1, 5, 1, 2, 8, 6, 8, 7, 1, 2, 4, 7, 5, 1, 2, 3, 4, 5, 6, 8, 4, 5, 1, 2, 3, 5, 8, 1, 3, 5, 6, 8, 1, 2, 3, 4, 5, 8, 3, 6, 1, 2, 5, 6, 1, 4, 7, 7, 3, 2, 3, 4, 7, 5, 6, 1, 1, 2, 4, 5, 6, 1, 5, 3, 8, 7, 6, 6, 1, 2, 3, 4, 5, 6, 7, 8, 2, 4, 5, 3, 8, 1, 2, 3, 4, 5, 6, 7, 8, 5, 7, 1, 2, 3, 4, 5, 6, 7, 2, 3, 5, 2, 2, 3, 6, 7, 1, 2, 3, 4, 5, 7, 8, 4, 8, 3, 4, 1, 2, 3, 4, 5, 6, 7, 8, 2, 3, 7, 5, 6, 4, 5, 7, 1, 2, 3, 4, 5, 6, 7, 8, 2, 3, 6, 1, 1, 2, 3, 4, 5, 6, 7, 8, 1, 6, 4, 6, 3, 6, 3, 5, 8, 1, 2, 3, 4, 5, 6, 7, 8, 3, 2, 4, 5, 7, 2, 1, 3, 6, 8, 5, 8, 7, 1, 2, 3, 1, 2, 3, 8, 1, 2, 3, 4, 5, 6, 7, 1, 2, 4, 5, 6, 2, 1, 5, 6, 8, 1, 6, 1, 2, 3, 4, 5, 6, 7, 8, 1, 8, 4, 1, 3, 4, 5, 6, 8, 1, 1, 2, 3, 4, 5, 6, 7, 8, 1, 2, 3, 4, 5, 6, 7, 8, 1, 2, 3, 4, 5, 7, 1, 3, 4, 6, 8, 1, 6, 8, 1, 4, 5, 7, 8, 2, 4, 5, 6, 2, 4, 8, 8, 8, 5, 8, 5, 1, 2, 3, 4, 5, 6, 7, 8, 1, 2, 3, 4, 5, 6, 7, 8, 3, 1, 2, 3, 4, 5, 6, 7, 8, 1, 2, 4, 5, 2, 4, 5, 5, 1, 5, 6, 5, 2, 5, 5, 1, 2, 3, 4, 5, 6, 8, 1, 2, 3, 5, 6, 6, 2, 1, 2, 3, 4, 5, 6, 7, 8, 1, 3, 6, 1, 3, 6, 8, 1, 2, 1, 2, 4, 8, 1, 2, 3, 4, 5, 6, 7, 8, 3, 5, 7, 1, 2, 5, 6, 8, 1, 3, 4, 5, 6, 8, 1, 3, 4, 1, 6, 2, 4, 5, 6, 8, 2, 4, 8, 8, 6, 7, 5, 1, 2, 3, 4, 5, 6, 7, 8, 1, 1, 2, 3, 4, 5, 6, 7, 8, 1, 7, 1, 3, 4, 5, 8, 1, 2, 3, 5, 6, 1, 2, 3, 4, 5, 6, 7, 8, 1, 2, 3, 4, 7, 8, 3, 4, 6, 1, 3, 4, 6, 7, 1, 4, 7, 8, 3, 1, 2, 3, 4, 5, 6, 7, 8, 1, 2, 3, 4, 5, 6, 7, 8, 1, 3, 5, 6, 8, 4, 6, 2, 1, 2, 3, 4, 5, 6, 8, 8, 1, 2, 3, 5, 3, 8, 1, 3, 5, 7, 8, 2, 3, 5, 8, 1, 3, 4, 7, 8, 7, 6, 5, 5, 7, 2, 6, 8, 6, 2, 4, 5, 6, 3, 5, 6, 3, 4, 6, 7, 8, 1, 4, 6, 8, 1, 8, 1, 2, 3, 4, 5, 6, 7, 8, 3, 2, 3, 8, 4, 2, 6, 4, 3, 5, 7, 1, 6, 7, 7, 8, 8, 1, 2, 3, 4, 5, 6, 7, 8, 1, 3, 5, 6, 4, 8, 1, 2, 3, 4, 5, 6, 7, 2, 5, 6, 4, 7, 6, 7, 1, 3, 4, 5, 1, 2, 3, 4, 7, 2, 5, 1, 3, 1, 2, 3, 4, 5, 6, 7, 8, 8, 4, 1, 2, 3, 4, 5, 6, 7, 8, 8, 1, 3, 5, 1, 2, 5, 6, 7, 1, 8, 6, 7, 3, 4, 7, 1, 3, 4, 5, 7, 8, 1, 2, 3, 4, 5, 6, 8, 1, 3, 4, 5, 6, 7, 4, 7, 7, 1, 2, 3, 4, 5, 6, 7, 8, 5, 1, 2, 3, 4, 5, 2, 3, 7, 5, 6, 7, 3, 1, 3, 5, 6, 1, 3, 4, 6, 7, 1, 2, 3, 4, 5, 6, 7, 8, 7, 1, 3, 1, 2, 3, 4, 5, 6, 7, 8, 1, 2, 3, 8, 3, 8, 6, 8, 8, 1, 1, 2, 3, 4, 5, 6, 7, 1, 2, 3, 4, 5, 6, 7, 8, 4, 7, 1, 2, 3, 4, 5, 6, 7, 8, 5, 2, 3, 4, 5, 8, 1, 2, 3, 4, 5, 6, 7, 8, 4, 5, 1, 7, 4, 1, 2, 3, 4, 5, 6, 7, 8, 1, 2, 3, 1, 5, 8, 2, 5, 5, 5, 2, 5, 7, 1, 2, 3, 4, 5, 6, 7, 8, 2, 3, 4, 1, 2, 3, 4, 5, 6, 7, 8, 7, 1, 3, 4, 5, 6, 8, 1, 1, 2, 3, 4, 5, 6, 7, 8, 4, 8, 3, 3, 1, 1, 1, 4, 5, 1, 2, 4, 5, 6, 1, 2, 3, 4, 5, 6, 7, 8, 5, 1, 2, 3, 4, 5, 7, 1, 2, 3, 5, 6, 7, 8, 5, 6, 8, 3, 6, 1, 2, 3, 4, 5, 6, 7, 8, 1, 2, 3, 4, 5, 6, 7, 8, 1, 2, 3, 4, 5, 6, 7, 8, 2, 1, 2, 4, 5, 7, 6, 7, 5, 6, 1, 2, 4, 7, 2, 3, 3, 4, 6, 4, 8, 1, 2, 3, 4, 5, 6, 7, 8, 1, 2, 3, 4, 5, 6, 7, 8, 1, 1, 2, 3, 4, 5, 6, 8, 5], \"Freq\": [0.15832367665776037, 0.1385332170755403, 0.07916183832888019, 0.41559965122662096, 0.09895229791110023, 0.03958091916444009, 0.03958091916444009, 0.2394312786715023, 0.0798104262238341, 0.3192417048953364, 0.2394312786715023, 0.0798104262238341, 0.20164526800488858, 0.6049358040146657, 0.9397611947391834, 0.7827669961882774, 0.07618522753337537, 0.6475744340336905, 0.03809261376668768, 0.13332414818340688, 0.05713892065003152, 0.05713892065003152, 0.7999201844522339, 0.133320030742039, 0.044440010247346326, 0.8521677377940804, 0.3108145992299803, 0.18480868062323152, 0.13440631318053203, 0.15540729961499014, 0.08820414302472414, 0.04200197286891626, 0.05460256472959114, 0.02940138100824138, 0.8782622354667218, 0.8458174299989412, 0.05638782866659608, 0.05638782866659608, 0.02819391433329804, 0.869919129922087, 0.8244471625924877, 0.7190034730025462, 0.08804124159214852, 0.1173883221228647, 0.04402062079607426, 0.029347080530716173, 0.014673540265358087, 0.8639886523147831, 0.13808181887026313, 0.6904090943513157, 0.06904090943513157, 0.06904090943513157, 0.15542256695282286, 0.4711246560757443, 0.05342650739003285, 0.15542256695282286, 0.058283462607308566, 0.02428477608637857, 0.07285432825913571, 0.009713910434551429, 0.8700384978764834, 0.9397944302669685, 0.1358911859498082, 0.0679455929749041, 0.7474015227239451, 0.8126276429989437, 0.0031016322251868084, 0.18299630128602168, 0.19226074721643543, 0.5767822416493064, 0.8751958540149906, 0.10939948175187382, 0.8723431433159443, 0.11478199254157162, 0.7770130049529936, 0.8466653567079347, 0.08466653567079348, 0.13104693542590298, 0.655234677129515, 0.13104693542590298, 0.773898813571835, 0.09673735169647937, 0.7765775031240103, 0.1828784654108119, 0.47829752492058497, 0.10550680696777609, 0.0773716584430358, 0.09143923270540595, 0.05627029704948058, 0.007033787131185073, 0.6121295685633439, 0.2929919077946501, 0.32229109857411514, 0.058598381558930025, 0.06592317925379627, 0.21241913315112135, 0.036623988474331265, 0.18483302893857995, 0.061611009646193315, 0.08801572806599045, 0.026404718419797135, 0.0968173008725895, 0.03520629122639618, 0.44007864032995225, 0.05280943683959427, 0.8639760668260795, 0.20276022592477103, 0.04573538930633933, 0.137206167919018, 0.02439220763004764, 0.08384821372828877, 0.11891201219648226, 0.3765547052888605, 0.010671590838145844, 0.14343213463356436, 0.19124284617808582, 0.4781071154452145, 0.07171606731678218, 0.023905355772260727, 0.047810711544521454, 0.023905355772260727, 0.7735660481623243, 0.1785152418836133, 0.6998774040776649, 0.07206242337012216, 0.21618727011036645, 0.504436963590855, 0.1441248467402443, 0.8701419613409617, 0.8799846084827948, 0.3713499172536098, 0.5570248758804147, 0.8238096077021034, 0.1300752012161216, 0.19472989134081456, 0.5841896740224437, 0.34698622139978946, 0.11566207379992982, 0.4626482951997193, 0.8821775647840409, 0.8782549447788399, 0.7461291407382712, 0.3475970610568708, 0.15906984150060188, 0.12666672563936818, 0.11488377441710138, 0.04124032927793383, 0.05302328050020063, 0.09426360977813446, 0.05891475611133404, 0.7722212830794924, 0.935925669690372, 0.8732261233275088, 0.06434157031472439, 0.6434157031472438, 0.25736628125889754, 0.011624735148356036, 0.5696120222694457, 0.26736890841218885, 0.08137314603849226, 0.05812367574178018, 0.011624735148356036, 0.08529371976992442, 0.6823497581593954, 0.08529371976992442, 0.08529371976992442, 0.8699056800607297, 0.8460388657798285, 0.15863228733371784, 0.8412707984177917, 0.0934745331575324, 0.8075994245357355, 0.6999814462473254, 0.6120071187583853, 0.6515960746260904, 0.11027010493672298, 0.07017188495973281, 0.03007366498274263, 0.10024554994247543, 0.010024554994247543, 0.03007366498274263, 0.010024554994247543, 0.6124617031247924, 0.8471333794707294, 0.3278256338406002, 0.06556512676812004, 0.5900861409130804, 0.8724774505054161, 0.6146521338348615, 0.018078003936319455, 0.18303978985523447, 0.01129875246019966, 0.020337754428359386, 0.04519500984079864, 0.08587051869751741, 0.018078003936319455, 0.3759186429503937, 0.42102888010444095, 0.015036745718015748, 0.06014698287206299, 0.10525722002611024, 0.7460950697881739, 0.19821482265456128, 0.5946444679636838, 0.9046431014533985, 0.900259746751756, 0.7840456905360281, 0.9325020182687113, 0.8391037897554356, 0.8391089915563293, 0.8462725314096639, 0.24692787846115288, 0.3566736022216653, 0.054872861880256196, 0.16919132413078994, 0.06859107735032025, 0.0365819079201708, 0.02286369245010675, 0.0457273849002135, 0.8728227157220747, 0.839414510142321, 0.16844042119276503, 0.7579818953674426, 0.7385405670618812, 0.12943484655042253, 0.6471742327521127, 0.12943484655042253, 0.06471742327521127, 0.7890020890095868, 0.07172746263723516, 0.07172746263723516, 0.8482306085367358, 0.384819270888471, 0.4617831250661652, 0.051309236118462796, 0.10261847223692559, 0.786353020763975, 0.025366226476257255, 0.12683113238128627, 0.025366226476257255, 0.025366226476257255, 0.1733875610232939, 0.14861790944853762, 0.1733875610232939, 0.5201626830698817, 0.05968715176029216, 0.27456089809734396, 0.1730927401048473, 0.19099888563293493, 0.16115530975278886, 0.06565586693632139, 0.0716245821123506, 0.005968715176029217, 0.1575599907004703, 0.1378649918629115, 0.09847499418779393, 0.5120699697765284, 0.05908499651267636, 0.019694998837558788, 0.9036715905384434, 0.9538403994390119, 0.3444249064756557, 0.08610622661891393, 0.07861872865205186, 0.277037424773897, 0.1197999674697933, 0.02246249390058624, 0.0187187449171552, 0.05241248576803457, 0.11570877477620195, 0.057854387388100975, 0.2603447432464544, 0.028927193694050488, 0.5496166801869593, 0.49405442650057313, 0.42347522271477694, 0.8700639646578898, 0.08044916071613306, 0.08044916071613306, 0.08044916071613306, 0.16089832143226612, 0.5631441250129314, 0.13019234610189198, 0.6509617305094599, 0.13019234610189198, 0.2220308569358096, 0.14802057129053972, 0.3371579679395627, 0.08223365071696652, 0.008223365071696652, 0.016446730143393304, 0.07401028564526986, 0.10690374593205647, 0.8245794928627725, 0.7398508932982677, 0.18496272332456692, 0.2054273243091503, 0.1760805636935574, 0.4988949304650793, 0.058693521231185805, 0.058693521231185805, 0.029346760615592903, 0.8782651421893397, 0.839225347447292, 0.8820805227887123, 0.08013791678206397, 0.24041375034619192, 0.24041375034619192, 0.4006895839103199, 0.7764605801876276, 0.1012774669809949, 0.1012774669809949, 0.05637081197678572, 0.03468973044725275, 0.07805189350631869, 0.05637081197678572, 0.18212108484807696, 0.017344865223626375, 0.576716768685577, 0.004336216305906594, 0.024024032506962306, 0.024024032506962306, 0.3603604876044346, 0.07207209752088692, 0.5045046826462084, 0.798436753010744, 0.1596873506021488, 0.9452318426632788, 0.6976287573439349, 0.848243727388897, 0.5369511010049028, 0.22149232916452244, 0.08725455391329671, 0.006711888762561286, 0.07383077638817415, 0.06711888762561286, 0.013423777525122572, 0.746685544748157, 0.051495554810217725, 0.051495554810217725, 0.1287388870255443, 0.886258362908519, 0.8470173962420406, 0.7882774811047014, 0.19706937027617535, 0.10360100102510887, 0.1554015015376633, 0.20720200205021774, 0.5180050051255444, 0.806340854154801, 0.1036723955341887, 0.014398943824192875, 0.06335535282644865, 0.011519155059354299, 0.9319680155966644, 0.02452547409464906, 0.01226273704732453, 0.01226273704732453, 0.5960157549181757, 0.1277176617681805, 0.1277176617681805, 0.13836080024886221, 0.2989666535108775, 0.199311102340585, 0.39862220468117, 0.0996555511702925, 0.03667389198775544, 0.3117280818959212, 0.4767605958408207, 0.05501083798163316, 0.11002167596326631, 0.8390166397055494, 0.42208015805346294, 0.14069338601782097, 0.42208015805346294, 0.5565103693233319, 0.14292889266774098, 0.0760260067381601, 0.03041040269526404, 0.03649248323431685, 0.006082080539052808, 0.12164161078105616, 0.03345144296479044, 0.05158144032394758, 0.34043750613805407, 0.2682234896845274, 0.18225442247794812, 0.1375505075305269, 0.01719381344131586, 0.09752816251788343, 0.7802253001430675, 0.09752816251788343, 0.84641859274057, 0.07294417200148277, 0.3647208600074138, 0.5106092040103793, 0.8076611664136282, 0.27075954223028037, 0.06768988555757009, 0.5076741416817757, 0.06768988555757009, 0.033844942778785046, 0.16485222335753658, 0.6594088934301463, 0.7766977611066477, 0.3380517630806459, 0.28567754626533454, 0.11427101850613382, 0.12379360338164497, 0.052374216815311334, 0.019045169751022304, 0.04285163193980018, 0.028567754626533454, 0.7723687129468695, 0.4305012277183182, 0.008610024554366364, 0.25830073663099096, 0.12054034376112911, 0.08610024554366365, 0.008610024554366364, 0.08610024554366365, 0.8564379132223018, 0.10075740155556491, 0.19463783688054126, 0.5839135106416238, 0.07880996798284026, 0.7408136990386985, 0.04728598078970416, 0.09457196157940832, 0.015761993596568054, 0.015761993596568054, 0.6974681284329546, 0.2324893761443182, 0.8244194467523495, 0.6121297087655999, 0.8827437508386278, 0.9426799270663735, 0.06419654988369577, 0.12839309976739155, 0.7703585986043493, 0.00849444116340564, 0.18687770559492406, 0.7135330577260737, 0.00849444116340564, 0.07644997047065076, 0.00849444116340564, 0.007481309205660556, 0.9875328151471934, 0.06581346939871807, 0.2632538775948723, 0.6361968708542747, 0.09014746505866887, 0.5408847903520132, 0.040065540026075055, 0.20032770013037526, 0.10016385006518763, 0.010016385006518764, 0.020032770013037528, 0.3718517475830261, 0.15936503467843974, 0.1460846151219031, 0.033201048891341615, 0.2324073422393913, 0.053121678226146586, 0.6820392973926451, 0.002250954776873416, 0.10354391973617716, 0.04276814076059491, 0.135057286612405, 0.03151336687622783, 0.1008164126640509, 0.05040820633202545, 0.8569395076444327, 0.32317190552841424, 0.5655508346747249, 0.08079297638210356, 0.2843197496070024, 0.236933124672502, 0.1684857775448903, 0.09477324986900079, 0.08424288877244515, 0.026325902741389108, 0.05791698603105604, 0.042121444386222576, 0.8076880164638353, 0.06902209255945646, 0.4141325553567388, 0.32785493965741824, 0.06902209255945646, 0.025883284709796176, 0.05176656941959235, 0.03451104627972823, 0.23312133608166233, 0.10759446280692107, 0.08966205233910089, 0.09862825757301098, 0.3048509779529431, 0.01793241046782018, 0.14345928374256145, 0.00896620523391009, 0.8076645103448914, 0.32194313407168557, 0.45072038770035977, 0.05519025155514609, 0.12877725362867423, 0.03679350103676406, 0.8462878714208938, 0.9350523637327448, 0.8804631349853252, 0.03301330413009583, 0.6482612447364272, 0.009003628399117045, 0.18907619638145792, 0.07352963192612252, 0.0015006047331861739, 0.045018141995585216, 0.0015006047331861739, 0.930247218633611, 0.7386478545813098, 0.0014370580828430152, 0.20262518968086513, 0.0014370580828430152, 0.034489393988232364, 0.0014370580828430152, 0.021555871242645228, 0.746760892617865, 0.8822030140706625, 0.8519672174735416, 0.08440846929619793, 0.8440846929619792, 0.709698539216592, 0.08404324806512274, 0.08404324806512274, 0.018676277347805054, 0.06536697071731769, 0.02801441602170758, 0.8312729738147502, 0.08312729738147502, 0.04156364869073751, 0.04156364869073751, 0.8730818687250037, 0.8783118998576163, 0.7075196213216726, 0.1010742316173818, 0.8728633220846203, 0.47184651800461835, 0.47184651800461835, 0.958792759987381, 0.29923719594962284, 0.26216356105320937, 0.09930437918682174, 0.12181337180250133, 0.13505395569407758, 0.05561045234462018, 0.015888700669891478, 0.009268408724103363, 0.3189883120997189, 0.558229546174508, 0.03987353901246486, 0.03987353901246486, 0.36505215144231, 0.09919895419627989, 0.13094261953908945, 0.19442995022470858, 0.10316691236413109, 0.05158345618206554, 0.03571162351066076, 0.019839790839255977, 0.3818810772704445, 0.22530983558956225, 0.05728216159056668, 0.09547026931761113, 0.06491978313597556, 0.05728216159056668, 0.08401383699949778, 0.03818810772704445, 0.11755674336486227, 0.881675575236467, 0.4146435345562568, 0.17886583843603235, 0.0528467249924641, 0.14227964421048028, 0.0528467249924641, 0.024390796150368047, 0.13008424613529623, 0.008130265383456015, 0.8075689590782755, 0.09266639802187329, 0.8339975821968596, 0.29846457671665366, 0.07461614417916342, 0.5223130092541439, 0.09252885234091518, 0.030842950780305058, 0.04626442617045759, 0.015421475390152529, 0.030842950780305058, 0.7710737695076265, 0.8204639622086061, 0.07458763292805509, 0.8659092624092585, 0.08659092624092585, 0.08659092624092585, 0.7082731011793085, 0.23609103372643617, 0.8407452052184656, 0.24263778513334217, 0.2156780312296375, 0.053919507807409374, 0.48527557026668433, 0.8700160854827143, 0.16660781457720425, 0.24350372899745235, 0.10252788589366414, 0.10252788589366414, 0.29476767194428444, 0.0640799286835401, 0.025631971473416035, 0.8271718286803492, 0.13786197144672488, 0.006634791743084566, 0.962044802747262, 0.006634791743084566, 0.006634791743084566, 0.019904375229253698, 0.26966076176588605, 0.2247173014715717, 0.04494346029431434, 0.40449114264882907, 0.04494346029431434, 0.03126498184623015, 0.18758989107738092, 0.015632490923115076, 0.6409321278477181, 0.09379494553869046, 0.03126498184623015, 0.9184181377780022, 0.7721897763751767, 0.10364970914152319, 0.1554745637122848, 0.20729941828304638, 0.5182485457076159, 0.3060087702814801, 0.6630190022765402, 0.7468277319270349, 0.746340916057807, 0.8820055786297453, 0.08146661968827495, 0.6109996476620622, 0.08146661968827495, 0.24439985906482486, 0.7300457550805043, 0.14600915101610085, 0.9360877380001178, 0.1753816785889871, 0.7015267143559484, 0.029230279764831182, 0.029230279764831182, 0.029230279764831182, 0.143020557596075, 0.715102787980375, 0.8819857509463446, 0.6119341879285207, 0.7461892323976048, 0.7723596017243595, 0.8717898872884536, 0.4156311303992039, 0.13161652462641457, 0.18010682317298835, 0.07619904057318738, 0.13508011737974127, 0.02770874202661359, 0.017317963766633495, 0.017317963766633495, 0.8024060904102912, 0.0501503806506432, 0.1504511419519296, 0.09488172717620781, 0.8539355445858703, 0.19002605931287164, 0.23159425978756232, 0.08907471530290859, 0.1365812301311265, 0.2612858315551985, 0.011876628707054478, 0.03562988612116343, 0.04156820047469067, 0.10209185664529101, 0.8167348531623281, 0.18283333794893752, 0.30689881727143087, 0.1697738138097277, 0.03917857241762947, 0.07182738276565404, 0.20895238622735718, 0.026119048278419647, 0.8190905996269906, 0.08190905996269905, 0.08190905996269905, 0.9542084603993366, 0.038246796525774805, 0.7649359305154961, 0.15298718610309922, 0.038246796525774805, 0.22109350422730356, 0.15034358287456642, 0.017687480338184285, 0.2564684649036721, 0.26531220507276426, 0.06190618118364499, 0.026531220507276427, 0.8243738191473583, 0.8078467596581347, 0.2344386148234363, 0.7502035674349962, 0.3589711206050468, 0.16790584673461867, 0.08877780402060297, 0.03473914070371421, 0.16790584673461867, 0.025089379397126927, 0.09070775628192043, 0.0656183768847935, 0.13726493762178457, 0.6863246881089228, 0.13726493762178457, 0.7762936566458576, 0.7723834491333189, 0.17211201574914942, 0.08605600787457471, 0.6884480629965977, 0.344078112892699, 0.19810558015034185, 0.08341287585277551, 0.1042660948159694, 0.1703012881994167, 0.07298626637117858, 0.017377682469328234, 0.01042660948159694, 0.8471609768289987, 0.9182665215306315, 0.7722684034214615, 0.8640108886790144, 0.541275934211424, 0.1281969317869162, 0.09685990401678113, 0.03418584847651099, 0.10255754542953296, 0.014244103531879578, 0.042732310595638735, 0.03988348988926282, 0.8644176087049019, 0.7721888508386202, 0.9146078877761663, 0.7723432792457305, 0.8591598005092295, 0.061368557179230676, 0.7468060367622725, 0.1493612073524545, 0.07468060367622725, 0.32456472307466716, 0.27547089941631414, 0.1772832520996081, 0.04363895436298046, 0.05182125830603929, 0.032729215772235344, 0.0763681701352158, 0.01909204253380395, 0.8823306676013797, 0.2899436796394532, 0.5798873592789064, 0.019329578642630216, 0.11597747185578129, 0.935404321970102, 0.23424671016151616, 0.15616447344101078, 0.507534538683285, 0.07808223672050539, 0.6588299970911499, 0.26353199883645995, 0.7988703591340759, 0.0912740508776049, 0.0912740508776049, 0.8214664578984441, 0.183833795817164, 0.3880935689473462, 0.183833795817164, 0.24511172775621864, 0.6340914122161992, 0.02348486711911849, 0.11742433559559246, 0.09393946847647396, 0.0861111794367678, 0.015656578079412325, 0.02348486711911849, 0.10806178523922318, 0.16209267785883477, 0.6753861577451449, 0.027015446309805794, 0.7723805575151399, 0.9350199872500199, 0.8716915731636458, 0.010630385038581045, 0.09567346534722941, 0.010630385038581045, 0.9006278298196929, 0.06927906383228408, 0.43510247887884096, 0.16079874219435428, 0.09931687017886587, 0.08039937109717714, 0.08039937109717714, 0.009458749540844368, 0.10877561971971024, 0.028376248622533105, 0.23597228677100304, 0.4719445735420061, 0.8246273762618568, 0.12073665822744828, 0.12073665822744828, 0.03018416455686207, 0.27165748101175863, 0.422578303796069, 0.03018416455686207, 0.8867287662672164, 0.4314698049790696, 0.17712970941246017, 0.054501449049987744, 0.13625362262496934, 0.06358502389165237, 0.07266859873331699, 0.027250724524993872, 0.04087608678749081, 0.301363500686598, 0.12785118210946583, 0.35615686444779765, 0.11871895481593255, 0.027396681880599818, 0.018264454587066548, 0.009132227293533274, 0.036528909174133095, 0.6449321694596101, 0.07817359629813456, 0.01954339907453364, 0.00977169953726682, 0.09771699537266819, 0.1563471925962691, 0.5374383184821645, 0.3762068229375152, 0.04030787388616234, 0.013435957962054114, 0.026871915924108227, 0.8391460413028362, 0.08990850442530389, 0.029969501475101294, 0.11460592529035984, 0.26741382567750627, 0.03820197509678661, 0.5348276513550125, 0.03820197509678661, 0.7274328913075353, 0.12837051023074153, 0.04279017007691384, 0.12837051023074153, 0.8213375618697341, 0.11733393740996201, 0.6122723870177494, 0.8075879019010455, 0.6123531566989625, 0.6901024852087794, 0.19717213863107982, 0.876568184977755, 0.40367236042011195, 0.13021689045810064, 0.16928195759553083, 0.026043378091620127, 0.06510844522905032, 0.16928195759553083, 0.026043378091620127, 0.013021689045810064, 0.2338128568315756, 0.3653325887993369, 0.1534396872957215, 0.021919955327960212, 0.10229312486381432, 0.043839910655920425, 0.014613303551973475, 0.0584532142078939, 0.8276951765693555, 0.2679116726504445, 0.21525851155151324, 0.19357779815783563, 0.1455705042146924, 0.06813938495155815, 0.05265316109893129, 0.03871555963156713, 0.017034846237889537, 0.03468905871563879, 0.3555628518352976, 0.4683022926611237, 0.13875623486255517, 0.7261287460070358, 0.07643460484284587, 0.15286920968569173, 0.9345257046467988, 0.1284414098783063, 0.042813803292768765, 0.8134622625626065, 0.86998478637374, 0.8312151745221574, 0.1385358624203596, 0.7764197741205998, 0.24017616651085755, 0.014128009794756327, 0.028256019589512654, 0.5792484015850095, 0.04238402938426898, 0.028256019589512654, 0.04238402938426898, 0.8508993879133956, 0.0895683566224627, 0.04478417831123135, 0.6972359864377712, 0.7723777454332371, 0.8725775621865779, 0.8190898871007437, 0.2297103152065488, 0.0765701050688496, 0.11137469828196306, 0.12529653556720843, 0.06264826778360422, 0.2575539897770396, 0.0696091864262269, 0.0696091864262269, 0.3103250047352156, 0.3667477328688912, 0.28211364066837785, 0.22840935071134089, 0.251250285782475, 0.251250285782475, 0.251250285782475, 0.8874343401778235, 0.879218446487575, 0.9448334757776965, 0.1971698630446506, 0.0985849315223253, 0.5915095891339518, 0.1033371874686009, 0.08510121320943605, 0.37079814326968563, 0.1580451102460955, 0.11549450364137749, 0.006078658086388289, 0.13373047790054235, 0.024314632345553155, 0.23992027985938288, 0.07997342661979429, 0.55981398633856, 0.1252369262676979, 0.5426933471600242, 0.3026559051469366, 0.010436410522308157, 0.020872821044616314, 0.3067049570030006, 0.10223498566766687, 0.05111749283383343, 0.17891122491841702, 0.28114621058608386, 0.07667623925075015, 0.9168974200556516, 0.13707482570886692, 0.8224489542532014, 0.8868141217088884, 0.6999164653425353, 0.038430442259203924, 0.6917479606656707, 0.19215221129601961, 0.038430442259203924, 0.038430442259203924, 0.4037108250849989, 0.05046385313562486, 0.5046385313562486, 0.8075826487296712, 0.5794223652147058, 0.19314078840490193, 0.9303646939594648, 0.4677028281096931, 0.05703693025727965, 0.21674033497766268, 0.07985170236019151, 0.0969627814373754, 0.03422215815436779, 0.03422215815436779, 0.017111079077183896, 0.8640953113139196, 0.562856581948262, 0.10368410720099563, 0.07035707274353276, 0.09627809954378165, 0.029624030628855894, 0.03332703445746288, 0.05184205360049782, 0.05184205360049782, 0.1381473084389664, 0.6907365421948319, 0.5031667944976324, 0.06563045145621292, 0.1750145372165678, 0.0875072686082839, 0.1750145372165678, 0.10423827537251995, 0.0034746091790839985, 0.8339062029801596, 0.010423827537251996, 0.04516991932809198, 0.25231137435358175, 0.28835585640409345, 0.07609390655108021, 0.16820758290238785, 0.11614333105164874, 0.02402965470034112, 0.052064251850739096, 0.02402965470034112, 0.29946648550352284, 0.17615675617854284, 0.12330972932497998, 0.08807837808927142, 0.2818508098856685, 0.017615675617854282, 0.1422966858328703, 0.2845933716657406, 0.4980384004150461, 0.8900490008066027, 0.055628062550412666, 0.00794686607863038, 0.03178746431452152, 0.00794686607863038, 0.9543712655326683, 0.8244819913426941, 0.7459491188320867, 0.8075886899398104, 0.882576447302733, 0.4212462982304297, 0.24472403992434488, 0.04011869506956473, 0.1043086071808683, 0.03610682556260826, 0.07221365112521652, 0.04413056457652121, 0.04011869506956473, 0.5580505543168591, 0.0973343990087545, 0.006488959933916966, 0.1362681586122563, 0.06488959933916967, 0.04542271953741876, 0.06488959933916967, 0.032444799669584835, 0.7532490263778239, 0.07242779099786768, 0.02897111639914707, 0.07242779099786768, 0.05794223279829414, 0.8815570186441706, 0.7721886815715255, 0.903836178667928, 0.3438788697191849, 0.011092866765134999, 0.37715747001458994, 0.03327860029540499, 0.011092866765134999, 0.13311440118161996, 0.08874293412107999, 0.611952258257494, 0.7892665488376212, 0.03587575221989187, 0.10762725665967561, 0.03587575221989187, 0.7798584092520103, 0.11140834417885861, 0.13691292952136194, 0.8214775771281717, 0.1138571772219848, 0.6831430633319088, 0.1138571772219848, 0.8286436410574269, 0.018013992196900586, 0.1260979453783041, 0.8893643217271194, 0.022381036888143496, 0.04476207377628699, 0.022381036888143496, 0.8504794017494528, 0.022381036888143496, 0.7459635158749149, 0.772204527869401, 0.8748974962711624, 0.7770104707721074, 0.9151719961511561, 0.1916807078307819, 0.6708824774077367, 0.09584035391539095, 0.7722041479959788, 0.06425803158102536, 0.899612442134355, 0.8698877289233546, 0.8726794099747298, 0.7436907525253148, 0.1859226881313287, 0.09296134406566435, 0.22064199657735198, 0.22064199657735198, 0.055160499144337995, 0.165481497433014, 0.330962994866028, 0.05444603168754249, 0.3811222218127974, 0.3811222218127974, 0.10889206337508497, 0.06567117458650654, 0.9193964442110915, 0.32971808654680895, 0.2060738040917556, 0.09788505694358392, 0.02575922551146945, 0.14940350796652282, 0.1030369020458778, 0.06182214122752668, 0.03091107061376334, 0.8836585651428476, 0.11871498796137345, 0.2374299759227469, 0.5935749398068673, 0.8783015192872206, 0.7827389759317935, 0.14231617744214428, 0.8243716654267551, 0.8819982982987821, 0.6626813487547533, 0.16567033718868832, 0.032904445758033585, 0.06580889151606717, 0.8555155897088732, 0.17266407581443552, 0.6906563032577421, 0.8079176253622636, 0.15403359038678396, 0.03850839759669599, 0.12836132532231995, 0.11552519279008797, 0.2438865181124079, 0.03850839759669599, 0.23105038558017593, 0.03850839759669599, 0.8847344416760554, 0.021578888821367208, 0.043157777642734416, 0.043157777642734416, 0.8833749475381952, 0.07361457896151627, 0.048339391369778835, 0.7412040010032754, 0.02685521742765491, 0.02685521742765491, 0.0053710434855309816, 0.10204982622508865, 0.05371043485530982, 0.8706657339057003, 0.037855031908943494, 0.07571006381788699, 0.055851744576510695, 0.8936279132241711, 0.7753131188333501, 0.8391045012798596, 0.1375538043320578, 0.04585126811068593, 0.641917753549603, 0.18340507244274373, 0.0756110698258385, 0.151222139651677, 0.18902767456459624, 0.03780553491291925, 0.49147195386795023, 0.8251499251742763, 0.11787856073918232, 0.08420247411984795, 0.8420247411984796, 0.15135642932050122, 0.442120096173043, 0.09957659823717185, 0.1075427260961456, 0.03983063929486874, 0.04779676715384249, 0.1075427260961456, 0.003983063929486874, 0.9368402201586973, 0.914319878784265, 0.12892832721490133, 0.25785665442980266, 0.07520819087535911, 0.096696245411176, 0.23636859989398576, 0.096696245411176, 0.07520819087535911, 0.03223208180372533, 0.8076362858657601, 0.929440052411018, 0.03319428758610779, 0.03319428758610779, 0.05740567521344158, 0.11481135042688316, 0.11481135042688316, 0.5740567521344159, 0.05740567521344158, 0.1444988147629289, 0.8669928885775734, 0.10217900931860859, 0.8174320745488687, 0.36109198242223367, 0.02777630634017182, 0.5833024331436082, 0.06019007944737486, 0.18057023834212457, 0.18057023834212457, 0.09028511917106229, 0.45142559585531145, 0.03009503972368743, 0.2620732277124967, 0.21582501105735022, 0.2312410832757324, 0.0770803610919108, 0.015416072218382159, 0.046248216655146474, 0.13874464996543942, 0.2764783710973089, 0.1843189140648726, 0.11519932129054537, 0.32255809961352705, 0.023039864258109076, 0.06911959277432722, 0.10150087252115085, 0.8120069801692068, 0.8408737898180999, 0.25464910649335687, 0.31689666585839965, 0.1471305948628284, 0.11317738066371416, 0.05658869033185708, 0.03395321419911425, 0.03395321419911425, 0.045270952265485664, 0.7752779413091953, 0.7268256117121431, 0.01425148258259104, 0.01425148258259104, 0.0712574129129552, 0.15676630840850145, 0.1925343626651837, 0.6417812088839457, 0.06417812088839457, 0.2759759058370007, 0.6899397645925017, 0.7460652539609788, 0.9205571854635641, 0.23087958470541725, 0.19789678689035764, 0.3957935737807153, 0.16491398907529806, 0.278528370615733, 0.1114113482462932, 0.0557056741231466, 0.4456453929851728, 0.0557056741231466, 0.22334885635434606, 0.3006619220154658, 0.16321647195125288, 0.01718068125802662, 0.11167442817717303, 0.13744545006421297, 0.00859034062901331, 0.04295170314506655, 0.7460535938268726, 0.887701958172385, 0.8812841949528863, 0.4389895567350477, 0.1881383814578776, 0.08710110252679518, 0.08013301432465156, 0.11497345533536964, 0.06271279381929253, 0.013936176404287228, 0.013936176404287228, 0.859817578923993, 0.07369864962205654, 0.024566216540685516, 0.024566216540685516, 0.23935578732940288, 0.47871157465880576, 0.5908550057117615, 0.19695166857058716, 0.6120516096363366, 0.9173703520637232, 0.432009047974951, 0.10017601112462632, 0.08139300903875889, 0.1126980125152046, 0.11895901321049375, 0.10643701181991547, 0.05008800556231316, 0.2858401923085933, 0.25192694915333647, 0.13565297262102732, 0.053292239243975026, 0.12111872555448869, 0.08720548239923186, 0.01937899608871819, 0.03875799217743638, 0.18575065366185925, 0.743002614647437, 0.19828610540071986, 0.43434099278252924, 0.13219073693381325, 0.13219073693381325, 0.06609536846690663, 0.009442195495272376, 0.028326586485817123, 0.01888439099054475, 0.8328286376197873, 0.16374367990659638, 0.08187183995329819, 0.08187183995329819, 0.5731028796730874, 0.08187183995329819, 0.23204662613321875, 0.1919398018632797, 0.14037388494478664, 0.2864773162138503, 0.03724205110780054, 0.04870114375635455, 0.017188638972831016, 0.045836370594216046, 0.9913551769641832, 0.9300397641349021, 0.8533284355831322, 0.060952031113080875, 0.8243754102787637, 0.36653553185656185, 0.10472443767330339, 0.23562998476493263, 0.052362218836651694, 0.12217851061885396, 0.052362218836651694, 0.026181109418325847, 0.026181109418325847, 0.09884867118073741, 0.09884867118073741, 0.6919406982651618, 0.11564356276097529, 0.6938613765658518, 0.11564356276097529, 0.8631850198373578, 0.12019031921785994, 0.9564198480142242, 0.8699709060947093, 0.84827054680236, 0.13050316104651694, 0.017795885597252308, 0.2219357895545204, 0.2959143860726939, 0.09452820666211054, 0.14795719303634694, 0.10685797274847278, 0.06575875246059863, 0.016439688115149658, 0.04520914231666156, 0.8795594068574685, 0.056745768184352806, 0.056745768184352806, 0.2938246902211359, 0.20103794594077717, 0.10051897297038859, 0.15464457380059782, 0.11598343035044838, 0.07732228690029891, 0.042527257795164405, 0.019330571725074727, 0.7459966365694196, 0.056081961246909874, 0.5397888770015076, 0.1892766192083208, 0.1261844128055472, 0.014020490311727469, 0.07010245155863734, 0.9047922580441172, 0.4239748548793619, 0.23095906491482748, 0.0824853803267241, 0.08908421075286203, 0.07753625750712066, 0.02309590649148275, 0.042892397769896534, 0.029694736917620677, 0.9140879032685958, 0.6119884529927461, 0.9189333879697756, 0.8840893861869523, 0.8868452485957148, 0.8642746312071292, 0.10408189708687883, 0.7806142281515913, 0.052040948543439415, 0.04665485829863565, 0.2799291497918139, 0.0933097165972713, 0.5132034412849922, 0.04665485829863565, 0.2541634270678641, 0.26956727113258316, 0.030807688129438075, 0.1232307525177523, 0.16944228471190942, 0.10782690845303326, 0.030807688129438075, 0.007701922032359519, 0.9301308707091677, 0.3362905671429324, 0.07473123714287386, 0.09341404642859233, 0.018682809285718464, 0.09341404642859233, 0.3736561857143693, 0.6998729976233113, 0.0035436607474598042, 0.1284577020954179, 0.0398661834089228, 0.09213517943395491, 0.024805625232218628, 0.011516897429244364, 0.7310880976792404, 0.16871263792597854, 0.11247509195065236, 0.30692674043622614, 0.6138534808724523, 0.2921233978910359, 0.39206034980112714, 0.05381220487466451, 0.08456203623161565, 0.07687457839237787, 0.05381220487466451, 0.030749831356951147, 0.030749831356951147, 0.6058614155612817, 0.043721957824010026, 0.09368990962287863, 0.09368990962287863, 0.03747596384915145, 0.01249198794971715, 0.018737981924575726, 0.09368990962287863, 0.3497367446459572, 0.19520190398844123, 0.16809052843449107, 0.07591185155106048, 0.05693388866329536, 0.06235616377408539, 0.05422275110790034, 0.03524478822013522, 0.8461803786190434, 0.01744236400586736, 0.03488472801173472, 0.6976945602346943, 0.03488472801173472, 0.22675073207627566, 0.7722097673952014, 0.9459500879443751, 0.19403338051849847, 0.5821001415554955, 0.22783574030120798, 0.22783574030120798, 0.056958935075301996, 0.5126304156777179, 0.13669127747255833, 0.82014766483535, 0.1826365666206546, 0.7305462664826184, 0.6996998303900201, 0.23914064463184215, 0.4782812892636843, 0.2973658926518133, 0.2558729773980719, 0.10142712617581229, 0.18902328060037746, 0.07607034463185922, 0.04610323917082377, 0.020746457626870694, 0.01383097175124713, 0.2967434444390963, 0.24728620369924692, 0.09396875740571382, 0.11622451573864605, 0.06676727499879667, 0.07171299907278161, 0.04203865462887198, 0.0642944129618042, 0.864119609498777, 0.3189435630889738, 0.13758349780308674, 0.3377049491530311, 0.08755313496560066, 0.0812993396109149, 0.037522772128114563, 0.006253795354685761, 0.9305677513428361], \"Term\": [\"able\", \"able\", \"able\", \"able\", \"able\", \"able\", \"able\", \"absolutely\", \"absolutely\", \"absolutely\", \"absolutely\", \"absolutely\", \"accidentally\", \"accidentally\", \"accurate\", \"activity\", \"adjust\", \"adjust\", \"adjust\", \"adjust\", \"adjust\", \"adjust\", \"adjustable\", \"adjustable\", \"adjustable\", \"adorable\", \"also\", \"also\", \"also\", \"also\", \"also\", \"also\", \"also\", \"also\", \"analog\", \"animal\", \"animal\", \"animal\", \"animal\", \"ant\", \"anytime\", \"apart\", \"apart\", \"apart\", \"apart\", \"apart\", \"apart\", \"aqua\", \"aquarium\", \"aquarium\", \"aquarium\", \"aquarium\", \"around\", \"around\", \"around\", \"around\", \"around\", \"around\", \"around\", \"around\", \"attack\", \"auto\", \"bag\", \"bag\", \"bag\", \"ball\", \"ball\", \"ball\", \"band\", \"band\", \"bat\", \"bat\", \"battery\", \"battery\", \"beat\", \"bed\", \"bed\", \"bedroom\", \"bedroom\", \"bedroom\", \"behind\", \"behind\", \"bengal\", \"big\", \"big\", \"big\", \"big\", \"big\", \"big\", \"big\", \"bill\", \"bit\", \"bit\", \"bit\", \"bit\", \"bit\", \"bit\", \"bottom\", \"bottom\", \"bottom\", \"bottom\", \"bottom\", \"bottom\", \"bottom\", \"bottom\", \"bowel\", \"bowl\", \"bowl\", \"bowl\", \"bowl\", \"bowl\", \"bowl\", \"bowl\", \"bowl\", \"box\", \"box\", \"box\", \"box\", \"box\", \"box\", \"box\", \"boy\", \"boy\", \"breakdown\", \"bring\", \"bring\", \"bring\", \"bring\", \"brita\", \"broken\", \"brush\", \"brush\", \"bubble\", \"bubble\", \"buck\", \"buck\", \"bug\", \"bug\", \"bug\", \"bulky\", \"bump\", \"bun\", \"buy\", \"buy\", \"buy\", \"buy\", \"buy\", \"buy\", \"buy\", \"buy\", \"bye\", \"cage\", \"calendar\", \"call\", \"call\", \"call\", \"can\", \"can\", \"can\", \"can\", \"can\", \"can\", \"capacity\", \"capacity\", \"capacity\", \"capacity\", \"capone\", \"carbon\", \"carbon\", \"cartridge\", \"cartridge\", \"catnip\", \"cent\", \"century\", \"change\", \"change\", \"change\", \"change\", \"change\", \"change\", \"change\", \"change\", \"cheaply\", \"chemical\", \"chin\", \"chin\", \"chin\", \"chok\", \"clean\", \"clean\", \"clean\", \"clean\", \"clean\", \"clean\", \"clean\", \"clean\", \"cleaning\", \"cleaning\", \"cleaning\", \"cleaning\", \"cleaning\", \"cleansing\", \"cleanup\", \"cleanup\", \"clip\", \"clog\", \"clogged\", \"coal\", \"coaster\", \"code\", \"combination\", \"come\", \"come\", \"come\", \"come\", \"come\", \"come\", \"come\", \"come\", \"common\", \"comparable\", \"compartment\", \"compartment\", \"component\", \"con\", \"con\", \"con\", \"con\", \"concept\", \"concept\", \"concept\", \"cons\", \"container\", \"container\", \"container\", \"container\", \"cool\", \"cool\", \"cool\", \"cool\", \"cool\", \"cord\", \"cord\", \"cord\", \"cord\", \"could\", \"could\", \"could\", \"could\", \"could\", \"could\", \"could\", \"could\", \"cup\", \"cup\", \"cup\", \"cup\", \"cup\", \"cup\", \"cuttle\", \"cuttlebone\", \"day\", \"day\", \"day\", \"day\", \"day\", \"day\", \"day\", \"day\", \"deep\", \"deep\", \"deep\", \"deep\", \"deep\", \"deluxe\", \"deluxe\", \"dental\", \"depth\", \"depth\", \"depth\", \"depth\", \"depth\", \"describe\", \"describe\", \"describe\", \"design\", \"design\", \"design\", \"design\", \"design\", \"design\", \"design\", \"design\", \"destroy\", \"dial\", \"dial\", \"difficult\", \"difficult\", \"difficult\", \"difficult\", \"difficult\", \"difficult\", \"digital\", \"dimension\", \"dinky\", \"dirt\", \"dirt\", \"dirt\", \"dirt\", \"dirty\", \"dirty\", \"dirty\", \"dish\", \"dish\", \"dish\", \"dish\", \"dish\", \"dish\", \"dish\", \"dish\", \"dishwasher\", \"dishwasher\", \"dishwasher\", \"dishwasher\", \"dishwasher\", \"dispense\", \"dispense\", \"dispenser\", \"distribute\", \"distributor\", \"dog\", \"dog\", \"dog\", \"dog\", \"dog\", \"dog\", \"dog\", \"dome\", \"dome\", \"dome\", \"dome\", \"donate\", \"dozen\", \"drank\", \"drank\", \"drate\", \"drate\", \"drate\", \"drate\", \"drink\", \"drink\", \"drink\", \"drink\", \"drink\", \"drinking\", \"drinking\", \"drinking\", \"drinking\", \"drinkwell\", \"drinkwell\", \"drinkwell\", \"drinkwell\", \"drinkwell_hy_drate\", \"drinkwell_hy_drate\", \"drinkwell_hy_drate\", \"drinkwell_hy_drate\", \"dry_food\", \"dry_food\", \"dry_food\", \"dry_food\", \"dry_food\", \"durapet\", \"dust\", \"dust\", \"dust\", \"easy\", \"easy\", \"easy\", \"easy\", \"easy\", \"easy\", \"easy\", \"easy\", \"eat\", \"eat\", \"eat\", \"eat\", \"eat\", \"eat\", \"effective\", \"effective\", \"effective\", \"egg\", \"electrical\", \"electrical\", \"electrical\", \"enterprise\", \"entire\", \"entire\", \"entire\", \"entire\", \"entire\", \"entirely\", \"entirely\", \"evaporate\", \"even\", \"even\", \"even\", \"even\", \"even\", \"even\", \"even\", \"even\", \"eventual\", \"every\", \"every\", \"every\", \"every\", \"every\", \"every\", \"every\", \"exercise\", \"exercise\", \"extension\", \"extension\", \"fall\", \"fall\", \"fall\", \"fall\", \"fall\", \"fall\", \"fancy\", \"fancy\", \"fashion\", \"fashioned\", \"fear\", \"feast\", \"fed\", \"fed\", \"fed\", \"feed\", \"feed\", \"feed\", \"feed\", \"feed\", \"feed\", \"feeder\", \"feeder\", \"feeding\", \"feeding\", \"feeding\", \"figure\", \"figure\", \"figure\", \"figure\", \"figure\", \"figure\", \"figure\", \"fill\", \"fill\", \"fill\", \"fill\", \"fill\", \"fill\", \"filter\", \"filter\", \"filter\", \"filter\", \"filter\", \"filter\", \"filtered_water\", \"filtered_water\", \"filtered_water\", \"filtration\", \"filtration\", \"filtration\", \"find\", \"find\", \"find\", \"find\", \"find\", \"find\", \"find\", \"find\", \"fiona\", \"fit\", \"fit\", \"fit\", \"fit\", \"fit\", \"fit\", \"fit\", \"floor\", \"floor\", \"floor\", \"floor\", \"floor\", \"floor\", \"floor\", \"floor\", \"floss\", \"flow\", \"flow\", \"flow\", \"flow\", \"flow\", \"flower\", \"fluffy\", \"foam\", \"food\", \"food\", \"food\", \"food\", \"food\", \"food\", \"food\", \"food\", \"forth\", \"fountain\", \"fountain\", \"fountain\", \"fountain\", \"fountain\", \"fountain\", \"fountain\", \"fountian\", \"frame\", \"freezer\", \"frequently\", \"frequently\", \"fresh\", \"fresh\", \"fresh\", \"fresh\", \"fresh\", \"fresh\", \"fur\", \"fur\", \"fur\", \"fur\", \"fussy\", \"gain\", \"gallon\", \"gallon\", \"garbage\", \"garden\", \"garden\", \"gear\", \"get\", \"get\", \"get\", \"get\", \"get\", \"get\", \"get\", \"get\", \"glass\", \"glass\", \"glass\", \"glass\", \"go\", \"go\", \"go\", \"go\", \"go\", \"go\", \"go\", \"go\", \"good\", \"good\", \"good\", \"good\", \"good\", \"good\", \"good\", \"good\", \"grass\", \"grass\", \"great\", \"great\", \"great\", \"great\", \"great\", \"great\", \"great\", \"great\", \"grid\", \"grip\", \"grip\", \"ground\", \"ground\", \"ground\", \"grow\", \"grow\", \"grow\", \"grow\", \"grow\", \"grow\", \"gurgle\", \"gurgle\", \"habit\", \"habit\", \"habit\", \"halo\", \"halo\", \"heartily\", \"heavy\", \"heavy\", \"heavy\", \"heavy\", \"heavyweight\", \"help\", \"help\", \"help\", \"help\", \"help\", \"help\", \"help\", \"hinge\", \"hinge\", \"hole\", \"hole\", \"hole\", \"hole\", \"hole\", \"hot\", \"hot\", \"hot\", \"hot\", \"hot\", \"hour\", \"hour\", \"hour\", \"hour\", \"hour\", \"hour\", \"housing\", \"husk\", \"hy\", \"hy\", \"hy\", \"hy\", \"ice\", \"ice\", \"icepack\", \"impatient\", \"impeller\", \"inch\", \"inch\", \"inch\", \"inch\", \"incredibly\", \"incredibly\", \"install\", \"interested\", \"interested\", \"interested\", \"interested\", \"interested\", \"interesting\", \"interesting\", \"internal\", \"intrusive\", \"irritation\", \"jasper\", \"justify\", \"keep\", \"keep\", \"keep\", \"keep\", \"keep\", \"keep\", \"keep\", \"keep\", \"kibble\", \"kibble\", \"kibble\", \"kit\", \"kit\", \"kitty\", \"kitty\", \"kitty\", \"kitty\", \"kitty\", \"kitty\", \"kitty\", \"kitty\", \"label\", \"label\", \"large\", \"large\", \"large\", \"large\", \"large\", \"large\", \"large\", \"lazy\", \"lazy\", \"lazy\", \"lbs\", \"leak\", \"leak\", \"leak\", \"leak\", \"leave\", \"leave\", \"leave\", \"leave\", \"leave\", \"leave\", \"leave\", \"lebistro\", \"letter\", \"lid\", \"lid\", \"like\", \"like\", \"like\", \"like\", \"like\", \"like\", \"like\", \"like\", \"likely\", \"likely\", \"likely\", \"lily\", \"linen\", \"lip\", \"lip\", \"lip\", \"little\", \"little\", \"little\", \"little\", \"little\", \"little\", \"little\", \"little\", \"liver\", \"locate\", \"loosen\", \"louder\", \"love\", \"love\", \"love\", \"love\", \"love\", \"love\", \"love\", \"love\", \"lover\", \"lower\", \"lunch\", \"magnet\", \"maintenance\", \"maintenance\", \"major\", \"major\", \"major\", \"make\", \"make\", \"make\", \"make\", \"make\", \"make\", \"make\", \"make\", \"man\", \"meal\", \"meal\", \"meal\", \"meal\", \"mechanism\", \"medium\", \"medium\", \"medium\", \"medium\", \"messy\", \"messy\", \"microwave\", \"mineral\", \"mineral\", \"mineral\", \"model\", \"model\", \"model\", \"model\", \"month\", \"month\", \"month\", \"month\", \"month\", \"month\", \"month\", \"morning\", \"morning\", \"morning\", \"morning\", \"mother\", \"motivate\", \"motor\", \"motor\", \"motor\", \"motor\", \"movement\", \"movement\", \"much\", \"much\", \"much\", \"much\", \"much\", \"much\", \"much\", \"much\", \"munch\", \"munch\", \"nan\", \"near\", \"near\", \"near\", \"near\", \"near\", \"near\", \"neat\", \"need\", \"need\", \"need\", \"need\", \"need\", \"need\", \"need\", \"need\", \"new\", \"new\", \"new\", \"new\", \"new\", \"new\", \"new\", \"new\", \"nice\", \"nice\", \"nice\", \"nice\", \"nice\", \"nice\", \"noise\", \"noise\", \"noise\", \"noise\", \"noise\", \"noisy\", \"noisy\", \"noisy\", \"non\", \"non\", \"non\", \"non\", \"non\", \"nose\", \"nose\", \"nose\", \"nose\", \"nudge\", \"nudge\", \"nurse\", \"oat\", \"obsess\", \"occasionally\", \"occasionally\", \"occupy\", \"often\", \"often\", \"often\", \"often\", \"often\", \"often\", \"often\", \"often\", \"old\", \"old\", \"old\", \"old\", \"old\", \"old\", \"old\", \"old\", \"ole\", \"one\", \"one\", \"one\", \"one\", \"one\", \"one\", \"one\", \"one\", \"open\", \"open\", \"open\", \"open\", \"opening\", \"opening\", \"opening\", \"orange\", \"outlet\", \"outlet\", \"outlet\", \"overnight\", \"overweight\", \"overweight\", \"pace\", \"pack\", \"pack\", \"pack\", \"pack\", \"pack\", \"pack\", \"pack\", \"package\", \"package\", \"package\", \"pantry\", \"partial\", \"pdf\", \"pellet\", \"pet\", \"pet\", \"pet\", \"pet\", \"pet\", \"pet\", \"pet\", \"pet\", \"pet_fountain\", \"pet_fountain\", \"pet_fountain\", \"petmate\", \"petmate\", \"petmate\", \"petmate\", \"petsmart\", \"picasso\", \"picky\", \"plant\", \"plant\", \"plant\", \"plastic\", \"plastic\", \"plastic\", \"plastic\", \"plastic\", \"plastic\", \"plastic\", \"plastic\", \"plate\", \"plate\", \"plate\", \"play\", \"play\", \"play\", \"play\", \"play\", \"plug\", \"plug\", \"plug\", \"plug\", \"plug\", \"plug\", \"plunger\", \"pm\", \"pm\", \"pod\", \"popular\", \"portion\", \"portion\", \"portion\", \"portion\", \"portion\", \"pot\", \"pot\", \"pot\", \"potting\", \"pressure\", \"pressure\", \"prissy\", \"problem\", \"problem\", \"problem\", \"problem\", \"problem\", \"problem\", \"problem\", \"problem\", \"produce\", \"product\", \"product\", \"product\", \"product\", \"product\", \"product\", \"product\", \"product\", \"profile\", \"profile\", \"pull\", \"pull\", \"pull\", \"pull\", \"pull\", \"pump\", \"pump\", \"pump\", \"pump\", \"pump\", \"put\", \"put\", \"put\", \"put\", \"put\", \"put\", \"put\", \"put\", \"quality\", \"quality\", \"quality\", \"quality\", \"quality\", \"quality\", \"quick\", \"quick\", \"quick\", \"quiet\", \"quiet\", \"quiet\", \"quiet\", \"quiet\", \"quietly\", \"rapidly\", \"rash\", \"rat\", \"rattle\", \"really\", \"really\", \"really\", \"really\", \"really\", \"really\", \"really\", \"really\", \"recommend\", \"recommend\", \"recommend\", \"recommend\", \"recommend\", \"recommend\", \"recommend\", \"recommend\", \"refill\", \"refill\", \"refill\", \"refill\", \"refill\", \"regret\", \"relax\", \"release\", \"replace\", \"replace\", \"replace\", \"replace\", \"replace\", \"replace\", \"replace\", \"replant\", \"require\", \"require\", \"require\", \"require\", \"residue\", \"residue\", \"rid\", \"rid\", \"risk\", \"risk\", \"risk\", \"roll\", \"roll\", \"roll\", \"root\", \"rubber\", \"rubber\", \"rubber\", \"rubber\", \"rubber\", \"rubberize\", \"rubbish\", \"rug\", \"ruin\", \"rust\", \"s\", \"s\", \"s\", \"scamme\", \"schedule\", \"schedule\", \"schematic\", \"scum\", \"seal\", \"seal\", \"seal\", \"section\", \"section\", \"section\", \"section\", \"section\", \"secure\", \"secure\", \"secure\", \"secure\", \"seed\", \"seed\", \"seem\", \"seem\", \"seem\", \"seem\", \"seem\", \"seem\", \"seem\", \"seem\", \"select\", \"senior\", \"senior\", \"senior\", \"separately\", \"setting\", \"setting\", \"seven\", \"sgd\", \"shake\", \"shake\", \"shallow\", \"shallow\", \"shallow\", \"shelter\", \"shelter\", \"shield\", \"side\", \"side\", \"side\", \"side\", \"side\", \"side\", \"side\", \"side\", \"sink\", \"sink\", \"sink\", \"sink\", \"sitter\", \"sitter\", \"size\", \"size\", \"size\", \"size\", \"size\", \"size\", \"size\", \"sized\", \"sized\", \"sized\", \"skid\", \"skid\", \"skittish\", \"slanted\", \"sleep\", \"sleep\", \"sleep\", \"sleep\", \"slide\", \"slide\", \"slide\", \"slide\", \"slide\", \"slimcat\", \"slimcat\", \"slime\", \"slime\", \"small\", \"small\", \"small\", \"small\", \"small\", \"small\", \"small\", \"small\", \"soil\", \"solid\", \"something\", \"something\", \"something\", \"something\", \"something\", \"something\", \"something\", \"something\", \"sootie\", \"splash\", \"splash\", \"splash\", \"spot\", \"spot\", \"spot\", \"spot\", \"spot\", \"sprout\", \"sprout\", \"stainless\", \"stainless\", \"stainless_steel\", \"stainless_steel\", \"stainless_steel\", \"stand\", \"stand\", \"stand\", \"stand\", \"stand\", \"stand\", \"star\", \"star\", \"star\", \"star\", \"star\", \"star\", \"star\", \"stick\", \"stick\", \"stick\", \"stick\", \"stick\", \"stick\", \"sticker\", \"sticker\", \"stiff\", \"still\", \"still\", \"still\", \"still\", \"still\", \"still\", \"still\", \"still\", \"stimulation\", \"stop\", \"stop\", \"stop\", \"stop\", \"stop\", \"straight\", \"straight\", \"straight\", \"stream\", \"stream\", \"sturdiness\", \"submersible\", \"suction\", \"suction\", \"suction\", \"suction\", \"supply\", \"supply\", \"supply\", \"supply\", \"supply\", \"sure\", \"sure\", \"sure\", \"sure\", \"sure\", \"sure\", \"sure\", \"sure\", \"swear\", \"syrinx\", \"tabby\", \"take\", \"take\", \"take\", \"take\", \"take\", \"take\", \"take\", \"take\", \"tell\", \"tell\", \"tell\", \"tell\", \"terrible\", \"terrible\", \"that\", \"that\", \"theory\", \"therefore\", \"thing\", \"thing\", \"thing\", \"thing\", \"thing\", \"thing\", \"thing\", \"think\", \"think\", \"think\", \"think\", \"think\", \"think\", \"think\", \"think\", \"tho\", \"tho\", \"though\", \"though\", \"though\", \"though\", \"though\", \"though\", \"though\", \"though\", \"tier\", \"tight\", \"tight\", \"tight\", \"tight\", \"tight\", \"time\", \"time\", \"time\", \"time\", \"time\", \"time\", \"time\", \"time\", \"timer\", \"toddler\", \"toilet\", \"toilet\", \"tomcat\", \"top\", \"top\", \"top\", \"top\", \"top\", \"top\", \"top\", \"top\", \"total\", \"total\", \"total\", \"towel\", \"towel\", \"towel\", \"toy\", \"toy\", \"track\", \"tranquility\", \"treat\", \"treat\", \"treat\", \"try\", \"try\", \"try\", \"try\", \"try\", \"try\", \"try\", \"try\", \"tube\", \"tube\", \"tube\", \"two\", \"two\", \"two\", \"two\", \"two\", \"two\", \"two\", \"two\", \"tzu\", \"unit\", \"unit\", \"unit\", \"unit\", \"unit\", \"unit\", \"usage\", \"use\", \"use\", \"use\", \"use\", \"use\", \"use\", \"use\", \"use\", \"vacation\", \"vessel\", \"via\", \"vibration\", \"vitamin\", \"vomit\", \"wake\", \"wake\", \"wake\", \"walk\", \"walk\", \"walk\", \"walk\", \"walk\", \"want\", \"want\", \"want\", \"want\", \"want\", \"want\", \"want\", \"want\", \"warp\", \"wash\", \"wash\", \"wash\", \"wash\", \"wash\", \"wash\", \"water\", \"water\", \"water\", \"water\", \"water\", \"water\", \"water\", \"waterer\", \"waterer\", \"waterer\", \"waterfall\", \"waterfall\", \"way\", \"way\", \"way\", \"way\", \"way\", \"way\", \"way\", \"way\", \"week\", \"week\", \"week\", \"week\", \"week\", \"week\", \"week\", \"week\", \"well\", \"well\", \"well\", \"well\", \"well\", \"well\", \"well\", \"well\", \"wellness\", \"wet_food\", \"wet_food\", \"wet_food\", \"wet_food\", \"wet_food\", \"what\", \"whisker\", \"whisper\", \"whisper\", \"wide\", \"wide\", \"wide\", \"wide\", \"willing\", \"willing\", \"win\", \"win\", \"wk\", \"word\", \"word\", \"work\", \"work\", \"work\", \"work\", \"work\", \"work\", \"work\", \"work\", \"would\", \"would\", \"would\", \"would\", \"would\", \"would\", \"would\", \"would\", \"yay\", \"year\", \"year\", \"year\", \"year\", \"year\", \"year\", \"year\", \"zen\"]}, \"R\": 30, \"lambda.step\": 0.01, \"plot.opts\": {\"xlab\": \"PC1\", \"ylab\": \"PC2\"}, \"topic.order\": [3, 1, 5, 8, 2, 6, 4, 7]};\n",
       "\n",
       "function LDAvis_load_lib(url, callback){\n",
       "  var s = document.createElement('script');\n",
       "  s.src = url;\n",
       "  s.async = true;\n",
       "  s.onreadystatechange = s.onload = callback;\n",
       "  s.onerror = function(){console.warn(\"failed to load library \" + url);};\n",
       "  document.getElementsByTagName(\"head\")[0].appendChild(s);\n",
       "}\n",
       "\n",
       "if(typeof(LDAvis) !== \"undefined\"){\n",
       "   // already loaded: just create the visualization\n",
       "   !function(LDAvis){\n",
       "       new LDAvis(\"#\" + \"ldavis_el213201355682578320839382268\", ldavis_el213201355682578320839382268_data);\n",
       "   }(LDAvis);\n",
       "}else if(typeof define === \"function\" && define.amd){\n",
       "   // require.js is available: use it to load d3/LDAvis\n",
       "   require.config({paths: {d3: \"https://d3js.org/d3.v5\"}});\n",
       "   require([\"d3\"], function(d3){\n",
       "      window.d3 = d3;\n",
       "      LDAvis_load_lib(\"https://cdn.jsdelivr.net/gh/bmabey/pyLDAvis@3.3.1/pyLDAvis/js/ldavis.v3.0.0.js\", function(){\n",
       "        new LDAvis(\"#\" + \"ldavis_el213201355682578320839382268\", ldavis_el213201355682578320839382268_data);\n",
       "      });\n",
       "    });\n",
       "}else{\n",
       "    // require.js not available: dynamically load d3 & LDAvis\n",
       "    LDAvis_load_lib(\"https://d3js.org/d3.v5.js\", function(){\n",
       "         LDAvis_load_lib(\"https://cdn.jsdelivr.net/gh/bmabey/pyLDAvis@3.3.1/pyLDAvis/js/ldavis.v3.0.0.js\", function(){\n",
       "                 new LDAvis(\"#\" + \"ldavis_el213201355682578320839382268\", ldavis_el213201355682578320839382268_data);\n",
       "            })\n",
       "         });\n",
       "}\n",
       "</script>"
      ],
      "text/plain": [
       "<IPython.core.display.HTML object>"
      ]
     },
     "execution_count": 177,
     "metadata": {},
     "output_type": "execute_result"
    }
   ],
   "source": [
    "pyLDAvis.enable_notebook()\n",
    "topic_data =  pyLDAvis.gensim_models.prepare(cats_feeding_supplies_optimal_model, \n",
    "                                             cats_feeding_supplies_doc_term_matrix, \n",
    "                                             cats_feeding_supplies_dictionary, \n",
    "                                             mds = 'tsne')\n",
    "pyLDAvis.display(topic_data)\n",
    "\n",
    "# pcoa:Principal Coordinate Analysis(aka Classical Multidimensional Scaling)\n",
    "# mmds:Metric Multidimensional Scaling\n",
    "# tsne:t-distributed Stochastic Neighbor Embedding"
   ]
  },
  {
   "cell_type": "code",
   "execution_count": null,
   "id": "24672a63",
   "metadata": {},
   "outputs": [],
   "source": [
    "[w for w in keywords_dict[0] if w not in  keywords_dict[1] and w not in  keywords_dict[2] and w not in  keywords_dict[3]]"
   ]
  },
  {
   "cell_type": "code",
   "execution_count": 374,
   "id": "4056f6f9",
   "metadata": {},
   "outputs": [
    {
     "data": {
      "text/plain": [
       "['quiet', 'new', 'run', 'fresh']"
      ]
     },
     "execution_count": 374,
     "metadata": {},
     "output_type": "execute_result"
    }
   ],
   "source": [
    "[w for w in keywords_dict[1] if w not in  keywords_dict[0] and w not in  keywords_dict[2] and w not in  keywords_dict[3]]"
   ]
  },
  {
   "cell_type": "code",
   "execution_count": 375,
   "id": "4e231a6e",
   "metadata": {},
   "outputs": [
    {
     "data": {
      "text/plain": [
       "['nice', 'grow', 'recommend', 'bowl']"
      ]
     },
     "execution_count": 375,
     "metadata": {},
     "output_type": "execute_result"
    }
   ],
   "source": [
    "[w for w in keywords_dict[2] if w not in  keywords_dict[1] and w not in  keywords_dict[0] and w not in  keywords_dict[3]]"
   ]
  },
  {
   "cell_type": "code",
   "execution_count": 376,
   "id": "c0f1d5ec",
   "metadata": {},
   "outputs": [
    {
     "data": {
      "text/plain": [
       "['set', 'large', 'leave', 'see', 'extra', 'want', 'hard']"
      ]
     },
     "execution_count": 376,
     "metadata": {},
     "output_type": "execute_result"
    }
   ],
   "source": [
    "[w for w in keywords_dict[3] if w not in  keywords_dict[1] and w not in  keywords_dict[2] and w not in  keywords_dict[0]]"
   ]
  },
  {
   "cell_type": "code",
   "execution_count": 377,
   "id": "45f0876a",
   "metadata": {},
   "outputs": [
    {
     "name": "stderr",
     "output_type": "stream",
     "text": [
      "C:\\Users\\JiatingChen\\anaconda3\\lib\\site-packages\\pyLDAvis\\_prepare.py:246: FutureWarning: In a future version of pandas all arguments of DataFrame.drop except for the argument 'labels' will be keyword-only\n",
      "  default_term_info = default_term_info.sort_values(\n",
      "C:\\Users\\JiatingChen\\anaconda3\\lib\\site-packages\\sklearn\\manifold\\_t_sne.py:691: FutureWarning: 'square_distances' has been introduced in 0.24 to help phase out legacy squaring behavior. The 'legacy' setting will be removed in 1.1 (renaming of 0.26), and the default setting will be changed to True. In 1.3, 'square_distances' will be removed altogether, and distances will be squared by default. Set 'square_distances'=True to silence this warning.\n",
      "  warnings.warn(\n"
     ]
    },
    {
     "data": {
      "text/html": [
       "\n",
       "<link rel=\"stylesheet\" type=\"text/css\" href=\"https://cdn.jsdelivr.net/gh/bmabey/pyLDAvis@3.3.1/pyLDAvis/js/ldavis.v1.0.0.css\">\n",
       "\n",
       "\n",
       "<div id=\"ldavis_el2132013561651745441830906474\"></div>\n",
       "<script type=\"text/javascript\">\n",
       "\n",
       "var ldavis_el2132013561651745441830906474_data = {\"mdsDat\": {\"x\": [269.5624084472656, 1.782994270324707, 220.81143188476562, 50.533992767333984], \"y\": [-124.80339813232422, -295.0796813964844, -343.8321228027344, -76.05093383789062], \"topics\": [1, 2, 3, 4], \"cluster\": [1, 1, 1, 1], \"Freq\": [34.78074770940702, 27.722112336305603, 21.39744677664379, 16.099693177643594]}, \"tinfo\": {\"Term\": [\"clean\", \"nice\", \"eat\", \"well\", \"grow\", \"buy\", \"drink\", \"easy\", \"get\", \"quiet\", \"great\", \"bowl\", \"extra\", \"open\", \"recommend\", \"figure\", \"small\", \"cute\", \"pump\", \"wet_food\", \"fresh\", \"new\", \"purchase\", \"catit\", \"fit\", \"set\", \"leave\", \"feed\", \"keep\", \"highly\", \"roll\", \"hole\", \"figure\", \"dispense\", \"hungry\", \"learn\", \"fat\", \"adjust\", \"twist\", \"bat\", \"slim\", \"scarf\", \"entertain\", \"motivated\", \"starve\", \"smart\", \"bored\", \"slowly\", \"basically\", \"stimulate\", \"lose\", \"occupy\", \"screw\", \"slow\", \"challenge\", \"tape\", \"treat\", \"feral\", \"motivate\", \"fancy\", \"interested\", \"push\", \"eat\", \"round\", \"around\", \"close\", \"fall\", \"fit\", \"able\", \"open\", \"perfectly\", \"kibble\", \"sized\", \"small\", \"get\", \"big\", \"put\", \"come\", \"try\", \"dry_food\", \"play\", \"little\", \"work\", \"even\", \"find\", \"take\", \"great\", \"still\", \"also\", \"make\", \"go\", \"seem\", \"give\", \"really\", \"use\", \"think\", \"much\", \"good\", \"need\", \"easy\", \"buy\", \"large\", \"keep\", \"silent\", \"tall\", \"strong\", \"splash\", \"rinse\", \"attractive\", \"negative\", \"offer\", \"forward\", \"submerge\", \"clog\", \"frequent\", \"lily\", \"loud\", \"harmful\", \"main\", \"thoroughly\", \"eliminate\", \"near\", \"afraid\", \"program\", \"readily\", \"accord\", \"thank\", \"remain\", \"zen\", \"remind\", \"powerful\", \"proper\", \"consume\", \"pump\", \"stagnant\", \"important\", \"noisy\", \"difficult\", \"mention\", \"reservoir\", \"continue\", \"water_level\", \"run\", \"running_water\", \"remove\", \"apart\", \"clean\", \"require\", \"new\", \"cool\", \"add\", \"quiet\", \"pet\", \"fresh\", \"drink\", \"low\", \"bottom\", \"take\", \"use\", \"first\", \"replace\", \"enough\", \"little\", \"often\", \"make\", \"good\", \"go\", \"love\", \"easy\", \"old\", \"see\", \"give\", \"get\", \"seem\", \"keep\", \"think\", \"try\", \"work\", \"also\", \"find\", \"put\", \"still\", \"really\", \"grow\", \"medium\", \"cute\", \"stainless\", \"plenty\", \"sprout\", \"nice\", \"fight\", \"medicinal\", \"complete\", \"supply\", \"unique\", \"neat\", \"ok\", \"fantastic\", \"bowl\", \"weird\", \"overseas\", \"cheaply\", \"catit\", \"reuse\", \"wonder\", \"tough\", \"flush\", \"sgd\", \"construct\", \"dental\", \"accommodate\", \"multi\", \"stiff\", \"sturdy\", \"care\", \"gross\", \"pot\", \"highly\", \"perfect_size\", \"wonderful\", \"s\", \"several\", \"water\", \"well\", \"appreciate\", \"buy\", \"slide\", \"heavy\", \"stand\", \"easy\", \"recommend\", \"clean\", \"shallow\", \"purchase\", \"die\", \"hold\", \"wash\", \"really\", \"great\", \"quiet\", \"keep\", \"drink\", \"good\", \"happy\", \"also\", \"use\", \"make\", \"filter\", \"much\", \"get\", \"small\", \"work\", \"large\", \"old\", \"seem\", \"even\", \"take\", \"think\", \"put\", \"ugly\", \"color\", \"prove\", \"accurate\", \"total\", \"locate\", \"bottled\", \"accustomed\", \"worry\", \"playful\", \"shoot\", \"deliver\", \"internal\", \"divide\", \"amazing\", \"forever\", \"solid\", \"drip\", \"unfortunate\", \"precise\", \"upgrade\", \"poorly\", \"reliable\", \"clearly\", \"rounded\", \"deal\", \"fluffy\", \"inferior\", \"hum\", \"jump\", \"extra\", \"wake\", \"disassemble\", \"traditional\", \"absolutely\", \"everyday\", \"entire\", \"wet_food\", \"satisfied\", \"wait\", \"sink\", \"fail\", \"believe\", \"feed\", \"leave\", \"plastic\", \"get\", \"set\", \"rather\", \"hard\", \"anymore\", \"want\", \"large\", \"great\", \"keep\", \"use\", \"break\", \"little\", \"go\", \"well\", \"see\", \"love\", \"come\", \"recommend\", \"purchase\", \"even\", \"first\", \"buy\", \"make\", \"long\", \"much\", \"drink\", \"small\", \"like\", \"give\", \"work\", \"really\"], \"Freq\": [397.0, 95.0, 278.0, 290.0, 68.0, 305.0, 190.0, 314.0, 729.0, 119.0, 235.0, 64.0, 41.0, 112.0, 134.0, 56.0, 242.0, 33.0, 52.0, 55.0, 103.0, 107.0, 89.0, 41.0, 106.0, 106.0, 95.0, 67.0, 262.0, 47.0, 33.32314279623508, 19.75917775097773, 54.59102428885871, 17.85119780383073, 18.603726436320834, 18.303129463023513, 14.801952139236983, 41.64566369925007, 11.259408324493235, 8.61533486863628, 7.67791050319253, 8.524001137759871, 9.367966825837604, 7.654618161148879, 7.641793497992222, 16.937528675136896, 6.749582254897689, 6.741731938552635, 10.933941388418663, 6.723079171256234, 30.293234794166395, 9.9754753883551, 5.816483947506, 33.82446012482961, 6.619218942818404, 5.787572512452732, 37.80160420691953, 5.741750659947697, 6.52717906134417, 15.542960361639489, 29.246039436376094, 39.46186581583713, 230.9051995171808, 10.566643885826764, 35.066567217865796, 25.69045072923406, 39.63734778195823, 82.45493334526063, 40.08827807709256, 82.06776443420685, 31.16366105514725, 28.98463618296576, 21.1147341960799, 151.45400881454637, 382.6907731970445, 88.29665509151583, 139.1688399912122, 120.70524548038287, 123.10384303945737, 37.84552488473811, 47.08738773830639, 125.44765842706981, 109.42410472177195, 95.0212209577598, 82.22852115291177, 113.60838946150085, 100.85542302674584, 82.63906152321664, 99.13656272674717, 127.6292244967204, 99.24130918599381, 84.06507951710181, 72.88746657657205, 90.03727144270904, 114.01044657780108, 73.48044414213045, 73.74009973185386, 79.85730050932219, 63.06962572936225, 79.54157797915607, 76.47170279793356, 61.18276771489635, 62.21951487788806, 18.190750001123327, 11.671966752045702, 14.34704604197663, 15.913043081052146, 13.217452142369563, 8.793673146952978, 7.838724740850137, 7.7533095783731305, 5.957755348850837, 5.957242863523196, 5.93362618429241, 5.926445271882428, 5.015067060062686, 35.9480230645847, 4.985989988493409, 17.36458788723184, 7.435021835978979, 4.938333088438746, 4.9119356233484295, 14.646346885354257, 4.054481315355795, 4.042095547368487, 6.440665708249588, 4.033204468125955, 6.445767031437491, 4.026485216052443, 4.026247562158541, 6.424129703251753, 4.001235548679404, 5.605467569770375, 42.99570246623011, 6.341039784120819, 18.241029094240996, 26.10079020481645, 27.38103973149327, 16.662299453673608, 12.090023952108501, 17.630259528117993, 26.466274598734106, 60.24840760623088, 28.402386753145077, 19.190744879262077, 38.23427046557969, 213.72822884278673, 18.939628009921627, 66.55797636757792, 22.83312351875217, 38.560796562561244, 67.83246384618161, 44.80337045591659, 58.15168471490543, 94.94176117395442, 41.93928055344908, 30.225326711474903, 106.49253479334935, 137.66419460432184, 70.07465162705259, 35.89906918605164, 55.330246392065774, 94.43735890231689, 39.8914814221434, 107.59984946395626, 84.8517806267252, 81.9650641911512, 54.99529840580648, 86.28297472995861, 51.350468872297704, 54.471240039435344, 56.30260000463583, 118.79264949368438, 61.895280383109, 70.85048194042815, 57.37221006142219, 59.720550542371484, 60.044076082466866, 59.20640869649993, 50.32809593878707, 51.787898864828506, 48.478954756305065, 46.69429731076948, 65.82222234565684, 15.07610778161814, 30.760804835792232, 8.734019438496224, 7.927557941263219, 5.497040984751295, 84.13839608920672, 3.75963365579145, 3.7582046843553374, 3.749641026353865, 3.744243698807043, 3.7422869450891123, 5.216600073488448, 4.469908012680973, 5.784831981680065, 52.90124031973639, 5.776021686259904, 2.873792504693379, 2.872567127179468, 33.09260144230245, 2.8699792504645254, 2.869128914386249, 2.8597054761638105, 2.859413070976706, 2.858320456314828, 2.857200054079269, 2.8550126453379696, 2.852320883053447, 2.846009653083325, 2.834140545140667, 13.909974101268316, 9.447238914959717, 8.636972154695519, 5.488530359243384, 32.503964010885994, 14.329038318339357, 11.812703163684072, 6.591551739891991, 36.98185631973809, 5.3351393201594925, 148.04750827971682, 4.132387429477704, 148.06565265724012, 9.293456307190485, 21.88213091667205, 17.013793048986955, 133.13840926446775, 62.53635229168294, 145.939970832557, 16.9379885479841, 42.953687048733734, 16.086314307335787, 45.174458313790865, 12.989710684631625, 81.3184622589424, 79.25110164772705, 46.52554317867401, 82.00464170194196, 64.27763135590907, 73.9468177946779, 31.51854472736467, 67.7054831981259, 96.4848429681631, 81.05861175815934, 25.7349284974377, 55.54950578892335, 94.72829054579115, 52.14655161272504, 48.620771275547355, 38.684460893179825, 34.66635013289406, 39.113756749145736, 39.14892383062989, 38.7341719544052, 36.36957656680824, 36.86372317120268, 7.786837220975174, 6.067511458206166, 5.280381626340796, 5.264912660942999, 6.728199716050905, 4.4510461162342425, 4.442894299433534, 4.425209664380613, 14.75115183589744, 4.399697896818374, 4.395234581024885, 4.394540390704914, 3.604774002140029, 3.6038770207895774, 3.593032346814584, 3.5401099005313785, 4.2172736997378735, 2.757148490225146, 2.7566420592554977, 2.7545302448450952, 2.7481682911961567, 2.745172887295806, 2.7449564311015466, 2.7413608532080236, 2.740378601235591, 2.7400973721650197, 6.851122783701726, 2.724722969700573, 6.136242312555439, 3.404397332796541, 31.15679205867852, 11.907351448936724, 8.2910713788948, 3.363154228691948, 16.356889477696317, 5.10564025764011, 16.699885088548537, 28.770885072836727, 5.482995009691626, 11.396125646621226, 6.367086831060525, 6.775381153727289, 13.819698196690275, 27.339630801446386, 34.17115446064976, 16.992237602435882, 133.42454267732464, 34.641653702051514, 14.653249136519367, 30.67811995612384, 9.384831087763786, 30.988846102621842, 34.23500247867753, 44.38603492667591, 47.11470794861844, 59.998840931623725, 15.09459675733471, 48.26026409427524, 43.702536230844764, 46.98661398299365, 31.883798449555716, 29.64376763366101, 38.52113903824678, 29.024742273752153, 23.322562409898214, 33.98815277374796, 30.019542146173126, 39.37545009488889, 41.55299503628131, 28.205831643789303, 30.4749594196153, 28.086489942261675, 26.364681492537304, 20.781132741694485, 23.545730932605373, 24.510270666354188, 24.373352284567495], \"Total\": [397.0, 95.0, 278.0, 290.0, 68.0, 305.0, 190.0, 314.0, 729.0, 119.0, 235.0, 64.0, 41.0, 112.0, 134.0, 56.0, 242.0, 33.0, 52.0, 55.0, 103.0, 107.0, 89.0, 41.0, 106.0, 106.0, 95.0, 67.0, 262.0, 47.0, 34.425665245961895, 20.477331841069425, 56.7095656574621, 18.6124592914221, 19.524621962672057, 19.53298446528213, 15.800593555081772, 44.635308872328444, 12.084000284633385, 9.293428020587912, 8.361339645887206, 9.285034073959775, 10.216512141322626, 8.359298976077662, 8.359130099514394, 18.54288881352479, 7.428804910663132, 7.4281217794188255, 12.047581017443138, 7.428658375340118, 33.58274380599876, 11.118693813605544, 6.496777416275017, 37.8654337776245, 7.416967368840626, 6.495095078076899, 42.483209909978015, 6.492118589396552, 7.409922345638755, 17.68696858948073, 33.281747145065076, 45.40915530844975, 278.28561962420406, 12.041563579717183, 42.30240832300517, 30.57365623735672, 48.55105936389076, 106.74007448308647, 50.57677547534954, 112.79986564144939, 39.294275318895295, 36.580413747720414, 25.819744361985418, 242.93618720777775, 729.6362559138447, 139.21096560905409, 240.4536326376282, 212.14632788393803, 230.9079814418384, 53.924885704766545, 71.4226467793362, 286.5222623696244, 242.59922274614036, 204.29218950184173, 169.97929552146928, 275.7705545095831, 235.01558130880085, 175.06665312021084, 236.43355601992175, 357.84068075511726, 248.18481872627984, 195.15736660537192, 158.1864692109061, 242.4233832969884, 408.1583250819097, 189.34746902135512, 205.88222825503507, 252.2662894536327, 157.5004147366998, 314.2655829725179, 305.3488622187065, 150.67640565295807, 262.18934646887664, 19.054128857417403, 12.371153846388255, 15.219622100886621, 17.10358265591143, 14.246622072632398, 9.502531942249336, 8.54591723538218, 8.539520059088924, 6.637203190944043, 6.637357316290827, 6.636793772231447, 6.6354597969728095, 5.683016713617337, 40.783255542508776, 5.679733869979157, 19.807919180989135, 8.52573445726186, 5.675262378919451, 5.679008798094064, 17.04761608035062, 4.726860361432312, 4.725558013433683, 7.542208692313178, 4.724734802408337, 7.557422350891379, 4.723802627768403, 4.725463399665515, 7.554900897868811, 4.723558220753506, 6.628703712135751, 52.39548020002809, 7.534319843975119, 22.60306461316909, 32.96954852900945, 35.014555010517014, 20.87812543747388, 14.996531318729147, 22.46919792309284, 35.439158353813795, 88.42683310745318, 38.876066553763934, 25.34032840857516, 54.84298015406472, 397.46320103095735, 25.39686659948488, 107.94675996821853, 31.83006579307547, 60.077234824989205, 119.24342580164452, 74.96717582610125, 103.72120006175473, 190.0803174687806, 75.74169786371382, 50.07856359970243, 275.7705545095831, 408.1583250819097, 163.97019015664227, 63.94426741978615, 122.63153657987755, 286.5222623696244, 76.99266153050006, 357.84068075511726, 252.2662894536327, 248.18481872627984, 131.43807930659057, 314.2655829725179, 131.33417414805922, 147.55580148520002, 158.1864692109061, 729.6362559138447, 195.15736660537192, 262.18934646887664, 189.34746902135512, 230.9079814418384, 242.59922274614036, 236.43355601992175, 169.97929552146928, 240.4536326376282, 175.06665312021084, 242.4233832969884, 68.2959252935612, 15.952987796973305, 33.77518352136838, 9.776056713007964, 8.8845349853549, 6.217735947494796, 95.35195344883327, 4.446503616407115, 4.446707127738094, 4.446455674976211, 4.445834671361923, 4.446801664678248, 6.2044734421725245, 5.340150118455467, 7.07658969282689, 64.8139092257499, 7.133294853003455, 3.5612396197595584, 3.561036615865006, 41.03946073581668, 3.5610724562643044, 3.5610006548120436, 3.560864503313572, 3.561275449018502, 3.5610424652031933, 3.5604371831028265, 3.560219346137097, 3.560910719470339, 3.562226907973017, 3.558813735250415, 18.829975804566935, 12.542362594247576, 11.467153972104096, 7.119127515647073, 47.82417725628538, 20.22605354137046, 16.693563507580308, 8.833333487509424, 59.050457769047256, 7.060586210029516, 290.4223260594032, 5.355948261078499, 305.3488622187065, 13.391273918039897, 36.31396646035052, 27.126264899132043, 314.2655829725179, 134.04350344590057, 397.46320103095735, 28.180037588965096, 89.91260984622186, 26.768227376775762, 99.54539347599794, 20.722737239269506, 242.4233832969884, 235.01558130880085, 119.24342580164452, 262.18934646887664, 190.0803174687806, 252.2662894536327, 72.11109003435574, 236.43355601992175, 408.1583250819097, 357.84068075511726, 56.25009156006545, 205.88222825503507, 729.6362559138447, 242.93618720777775, 242.59922274614036, 150.67640565295807, 131.33417414805922, 195.15736660537192, 204.29218950184173, 275.7705545095831, 189.34746902135512, 240.4536326376282, 8.548781892159408, 6.853812387044116, 5.999594816147254, 6.000787862657567, 7.720909714499457, 5.149236512987136, 5.149581527201735, 5.150892161912578, 17.217107018799496, 5.15263686894993, 5.15242422824742, 5.154595523127883, 4.300465768526848, 4.3003504567453765, 4.300517834126817, 4.304615597235936, 5.170010595760855, 3.451393552813724, 3.4515176292113203, 3.451504807032911, 3.4516245422649345, 3.4519588975911515, 3.451972607464788, 3.452169821537473, 3.452225628489332, 3.4520903256701274, 8.640350549971357, 3.452639971988252, 7.778647740631273, 4.318623153665511, 41.77572739111717, 15.609441679833477, 11.229598254491242, 4.310174865690223, 24.43239029897007, 6.891661567655524, 28.278449239155407, 55.610048746939455, 7.883001721593008, 19.28678782823762, 9.683704527356408, 10.512465594289333, 26.895227101160877, 67.34671929516668, 95.48177048272399, 38.13216785268854, 729.6362559138447, 106.74058989467599, 32.10097007287105, 99.65205580711883, 17.76286637576199, 124.10684793385482, 150.67640565295807, 235.01558130880085, 262.18934646887664, 408.1583250819097, 39.695599049219354, 286.5222623696244, 248.18481872627984, 290.4223260594032, 147.55580148520002, 131.43807930659057, 212.14632788393803, 134.04350344590057, 89.91260984622186, 204.29218950184173, 163.97019015664227, 305.3488622187065, 357.84068075511726, 154.6004687847925, 205.88222825503507, 190.0803174687806, 242.93618720777775, 83.07366352706941, 158.1864692109061, 242.59922274614036, 242.4233832969884], \"Category\": [\"Default\", \"Default\", \"Default\", \"Default\", \"Default\", \"Default\", \"Default\", \"Default\", \"Default\", \"Default\", \"Default\", \"Default\", \"Default\", \"Default\", \"Default\", \"Default\", \"Default\", \"Default\", \"Default\", \"Default\", \"Default\", \"Default\", \"Default\", \"Default\", \"Default\", \"Default\", \"Default\", \"Default\", \"Default\", \"Default\", \"Topic1\", \"Topic1\", \"Topic1\", \"Topic1\", \"Topic1\", \"Topic1\", \"Topic1\", \"Topic1\", \"Topic1\", \"Topic1\", \"Topic1\", \"Topic1\", \"Topic1\", \"Topic1\", \"Topic1\", \"Topic1\", \"Topic1\", \"Topic1\", \"Topic1\", \"Topic1\", \"Topic1\", \"Topic1\", \"Topic1\", \"Topic1\", \"Topic1\", \"Topic1\", \"Topic1\", \"Topic1\", \"Topic1\", \"Topic1\", \"Topic1\", \"Topic1\", \"Topic1\", \"Topic1\", \"Topic1\", \"Topic1\", \"Topic1\", \"Topic1\", \"Topic1\", \"Topic1\", \"Topic1\", \"Topic1\", \"Topic1\", \"Topic1\", \"Topic1\", \"Topic1\", \"Topic1\", \"Topic1\", \"Topic1\", \"Topic1\", \"Topic1\", \"Topic1\", \"Topic1\", \"Topic1\", \"Topic1\", \"Topic1\", \"Topic1\", \"Topic1\", \"Topic1\", \"Topic1\", \"Topic1\", \"Topic1\", \"Topic1\", \"Topic1\", \"Topic1\", \"Topic1\", \"Topic1\", \"Topic1\", \"Topic1\", \"Topic1\", \"Topic1\", \"Topic1\", \"Topic1\", \"Topic2\", \"Topic2\", \"Topic2\", \"Topic2\", \"Topic2\", \"Topic2\", \"Topic2\", \"Topic2\", \"Topic2\", \"Topic2\", \"Topic2\", \"Topic2\", \"Topic2\", \"Topic2\", \"Topic2\", \"Topic2\", \"Topic2\", \"Topic2\", \"Topic2\", \"Topic2\", \"Topic2\", \"Topic2\", \"Topic2\", \"Topic2\", \"Topic2\", \"Topic2\", \"Topic2\", \"Topic2\", \"Topic2\", \"Topic2\", \"Topic2\", \"Topic2\", \"Topic2\", \"Topic2\", \"Topic2\", \"Topic2\", \"Topic2\", \"Topic2\", \"Topic2\", \"Topic2\", \"Topic2\", \"Topic2\", \"Topic2\", \"Topic2\", \"Topic2\", \"Topic2\", \"Topic2\", \"Topic2\", \"Topic2\", \"Topic2\", \"Topic2\", \"Topic2\", \"Topic2\", \"Topic2\", \"Topic2\", \"Topic2\", \"Topic2\", \"Topic2\", \"Topic2\", \"Topic2\", \"Topic2\", \"Topic2\", \"Topic2\", \"Topic2\", \"Topic2\", \"Topic2\", \"Topic2\", \"Topic2\", \"Topic2\", \"Topic2\", \"Topic2\", \"Topic2\", \"Topic2\", \"Topic2\", \"Topic2\", \"Topic2\", \"Topic2\", \"Topic2\", \"Topic2\", \"Topic2\", \"Topic3\", \"Topic3\", \"Topic3\", \"Topic3\", \"Topic3\", \"Topic3\", \"Topic3\", \"Topic3\", \"Topic3\", \"Topic3\", \"Topic3\", \"Topic3\", \"Topic3\", \"Topic3\", \"Topic3\", \"Topic3\", \"Topic3\", \"Topic3\", \"Topic3\", \"Topic3\", \"Topic3\", \"Topic3\", \"Topic3\", \"Topic3\", \"Topic3\", \"Topic3\", \"Topic3\", \"Topic3\", \"Topic3\", \"Topic3\", \"Topic3\", \"Topic3\", \"Topic3\", \"Topic3\", \"Topic3\", \"Topic3\", \"Topic3\", \"Topic3\", \"Topic3\", \"Topic3\", \"Topic3\", \"Topic3\", \"Topic3\", \"Topic3\", \"Topic3\", \"Topic3\", \"Topic3\", \"Topic3\", \"Topic3\", \"Topic3\", \"Topic3\", \"Topic3\", \"Topic3\", \"Topic3\", \"Topic3\", \"Topic3\", \"Topic3\", \"Topic3\", \"Topic3\", \"Topic3\", \"Topic3\", \"Topic3\", \"Topic3\", \"Topic3\", \"Topic3\", \"Topic3\", \"Topic3\", \"Topic3\", \"Topic3\", \"Topic3\", \"Topic3\", \"Topic3\", \"Topic3\", \"Topic3\", \"Topic3\", \"Topic3\", \"Topic4\", \"Topic4\", \"Topic4\", \"Topic4\", \"Topic4\", \"Topic4\", \"Topic4\", \"Topic4\", \"Topic4\", \"Topic4\", \"Topic4\", \"Topic4\", \"Topic4\", \"Topic4\", \"Topic4\", \"Topic4\", \"Topic4\", \"Topic4\", \"Topic4\", \"Topic4\", \"Topic4\", \"Topic4\", \"Topic4\", \"Topic4\", \"Topic4\", \"Topic4\", \"Topic4\", \"Topic4\", \"Topic4\", \"Topic4\", \"Topic4\", \"Topic4\", \"Topic4\", \"Topic4\", \"Topic4\", \"Topic4\", \"Topic4\", \"Topic4\", \"Topic4\", \"Topic4\", \"Topic4\", \"Topic4\", \"Topic4\", \"Topic4\", \"Topic4\", \"Topic4\", \"Topic4\", \"Topic4\", \"Topic4\", \"Topic4\", \"Topic4\", \"Topic4\", \"Topic4\", \"Topic4\", \"Topic4\", \"Topic4\", \"Topic4\", \"Topic4\", \"Topic4\", \"Topic4\", \"Topic4\", \"Topic4\", \"Topic4\", \"Topic4\", \"Topic4\", \"Topic4\", \"Topic4\", \"Topic4\", \"Topic4\", \"Topic4\", \"Topic4\", \"Topic4\", \"Topic4\", \"Topic4\", \"Topic4\", \"Topic4\", \"Topic4\"], \"logprob\": [30.0, 29.0, 28.0, 27.0, 26.0, 25.0, 24.0, 23.0, 22.0, 21.0, 20.0, 19.0, 18.0, 17.0, 16.0, 15.0, 14.0, 13.0, 12.0, 11.0, 10.0, 9.0, 8.0, 7.0, 6.0, 5.0, 4.0, 3.0, 2.0, 1.0, -5.7183, -6.241, -5.2247, -6.3425, -6.3012, -6.3175, -6.5298, -5.4954, -6.8034, -7.071, -7.1862, -7.0817, -6.9873, -7.1893, -7.191, -6.3951, -7.3151, -7.3163, -6.8327, -7.319, -5.8137, -6.9245, -7.4639, -5.7034, -7.3346, -7.4689, -5.5922, -7.4768, -7.3486, -6.481, -5.8488, -5.5492, -3.7826, -6.8669, -5.6673, -5.9785, -5.5448, -4.8123, -5.5335, -4.817, -5.7853, -5.8578, -6.1746, -4.2043, -3.2774, -4.7439, -4.2889, -4.4312, -4.4116, -5.5911, -5.3726, -4.3927, -4.5294, -4.6705, -4.8151, -4.4918, -4.6109, -4.8101, -4.6281, -4.3755, -4.627, -4.793, -4.9357, -4.7244, -4.4883, -4.9276, -4.924, -4.8443, -5.0803, -4.8483, -4.8877, -5.1107, -5.0939, -6.0968, -6.5406, -6.3342, -6.2306, -6.4162, -6.8237, -6.9387, -6.9496, -7.2131, -7.2131, -7.2171, -7.2183, -7.3853, -5.4157, -7.3911, -6.1433, -6.9915, -7.4007, -7.4061, -6.3136, -7.5979, -7.601, -7.1351, -7.6032, -7.1343, -7.6049, -7.6049, -7.1377, -7.6111, -7.274, -5.2367, -7.1507, -6.0941, -5.7358, -5.6879, -6.1846, -6.5054, -6.1281, -5.7219, -4.8993, -5.6513, -6.0433, -5.354, -3.633, -6.0565, -4.7997, -5.8695, -5.3455, -4.7807, -5.1955, -4.9347, -4.4445, -5.2615, -5.5891, -4.3297, -4.0729, -4.7482, -5.417, -4.9844, -4.4498, -5.3116, -4.3193, -4.5568, -4.5915, -4.9905, -4.5401, -5.0591, -5.0001, -4.967, -4.2204, -4.8723, -4.7372, -4.9482, -4.9081, -4.9027, -4.9167, -5.0792, -5.0506, -5.1166, -5.1541, -4.5518, -6.0257, -5.3126, -6.5716, -6.6684, -7.0346, -4.3063, -7.4145, -7.4149, -7.4171, -7.4186, -7.4191, -7.0869, -7.2414, -6.9836, -4.7704, -6.9851, -7.6832, -7.6836, -5.2395, -7.6845, -7.6848, -7.6881, -7.6882, -7.6886, -7.6889, -7.6897, -7.6907, -7.6929, -7.6971, -6.1062, -6.4931, -6.5827, -7.0361, -5.2574, -6.0765, -6.2696, -6.853, -5.1284, -7.0645, -3.7413, -7.3199, -3.7411, -6.5095, -5.6531, -5.9048, -3.8474, -4.603, -3.7556, -5.9092, -4.9787, -5.9608, -4.9283, -6.1746, -4.3404, -4.3662, -4.8988, -4.332, -4.5756, -4.4354, -5.2882, -4.5236, -4.1694, -4.3436, -5.4909, -4.7215, -4.1878, -4.7847, -4.8547, -5.0834, -5.193, -5.0723, -5.0714, -5.0821, -5.1451, -5.1316, -6.4019, -6.6514, -6.7903, -6.7933, -6.548, -6.9612, -6.963, -6.967, -5.763, -6.9728, -6.9738, -6.974, -7.1721, -7.1723, -7.1753, -7.1902, -7.0151, -7.4401, -7.4403, -7.4411, -7.4434, -7.4445, -7.4446, -7.4459, -7.4462, -7.4463, -6.5299, -7.452, -6.6401, -7.2293, -5.0153, -5.9772, -6.3391, -7.2414, -5.6597, -6.824, -5.6389, -5.095, -6.7527, -6.021, -6.6032, -6.541, -5.8282, -5.146, -4.9229, -5.6216, -3.5608, -4.9093, -5.7697, -5.0308, -6.2152, -5.0207, -4.9211, -4.6614, -4.6017, -4.36, -5.74, -4.5777, -4.6769, -4.6045, -4.9922, -5.0651, -4.8031, -5.0862, -5.3049, -4.9283, -5.0525, -4.7812, -4.7274, -5.1148, -5.0374, -5.119, -5.1823, -5.4203, -5.2954, -5.2552, -5.2608], \"loglift\": [30.0, 29.0, 28.0, 27.0, 26.0, 25.0, 24.0, 23.0, 22.0, 21.0, 20.0, 19.0, 18.0, 17.0, 16.0, 15.0, 14.0, 13.0, 12.0, 11.0, 10.0, 9.0, 8.0, 7.0, 6.0, 5.0, 4.0, 3.0, 2.0, 1.0, 1.0236, 1.0204, 1.018, 1.0143, 1.0078, 0.9911, 0.9908, 0.9868, 0.9854, 0.9803, 0.9708, 0.9706, 0.9694, 0.968, 0.9664, 0.9656, 0.9602, 0.9591, 0.9591, 0.9563, 0.953, 0.9476, 0.9455, 0.9433, 0.9423, 0.9408, 0.9393, 0.9333, 0.9293, 0.9269, 0.9268, 0.9157, 0.8695, 0.9254, 0.8685, 0.8821, 0.8533, 0.798, 0.8237, 0.738, 0.8243, 0.8234, 0.8549, 0.5836, 0.4108, 0.6008, 0.5093, 0.4922, 0.4271, 0.702, 0.6395, 0.2302, 0.2599, 0.2907, 0.3299, 0.1693, 0.2101, 0.3054, 0.1869, 0.0251, 0.1395, 0.2139, 0.2812, 0.0656, -0.2193, 0.1095, 0.0293, -0.0941, 0.1409, -0.3179, -0.3284, 0.1548, -0.3823, 1.2366, 1.2248, 1.2239, 1.2108, 1.208, 1.2054, 1.1966, 1.1864, 1.1749, 1.1748, 1.1709, 1.1699, 1.1579, 1.1567, 1.1527, 1.1513, 1.1461, 1.1439, 1.1378, 1.1311, 1.1295, 1.1267, 1.1251, 1.1247, 1.1238, 1.1232, 1.1228, 1.1208, 1.117, 1.1153, 1.0852, 1.1105, 1.0685, 1.0493, 1.037, 1.0574, 1.0675, 1.0404, 0.991, 0.8992, 0.969, 1.005, 0.9222, 0.6625, 0.9896, 0.7994, 0.9507, 0.8395, 0.7188, 0.7682, 0.7043, 0.5888, 0.6918, 0.778, 0.3314, 0.1961, 0.4328, 0.7056, 0.4871, 0.1731, 0.6254, 0.0813, 0.1934, 0.1751, 0.4117, -0.0097, 0.3439, 0.2864, 0.2499, -0.5322, 0.1346, -0.0256, 0.0889, -0.0694, -0.1134, -0.1017, 0.0658, -0.2524, -0.0011, -0.3641, 1.505, 1.4854, 1.4484, 1.4292, 1.4279, 1.4187, 1.4168, 1.3741, 1.3737, 1.3715, 1.3702, 1.3694, 1.3685, 1.364, 1.3403, 1.3388, 1.3308, 1.3274, 1.3271, 1.3267, 1.3261, 1.3259, 1.3226, 1.3224, 1.3221, 1.3219, 1.3212, 1.32, 1.3174, 1.3142, 1.2391, 1.2585, 1.2585, 1.2818, 1.1557, 1.1972, 1.1961, 1.2492, 1.0739, 1.2617, 0.8681, 1.2825, 0.8181, 1.1766, 1.0354, 1.0754, 0.683, 0.7795, 0.54, 1.0328, 0.8032, 1.0327, 0.7518, 1.0748, 0.4496, 0.4549, 0.6007, 0.3796, 0.4577, 0.3148, 0.7143, 0.2914, 0.0996, 0.057, 0.7599, 0.2319, -0.4996, 0.0032, -0.0655, 0.1822, 0.2099, -0.0654, -0.1103, -0.4209, -0.108, -0.3334, 1.733, 1.7045, 1.6987, 1.6955, 1.6887, 1.6807, 1.6788, 1.6745, 1.6718, 1.6684, 1.6674, 1.6668, 1.6499, 1.6497, 1.6466, 1.6308, 1.6227, 1.6018, 1.6016, 1.6008, 1.5985, 1.5973, 1.5972, 1.5958, 1.5954, 1.5954, 1.5943, 1.5896, 1.5892, 1.5885, 1.5331, 1.5556, 1.523, 1.5783, 1.4251, 1.5264, 1.2997, 1.1674, 1.4633, 1.3002, 1.4071, 1.3871, 1.1605, 0.9249, 0.7988, 1.0181, 0.1274, 0.701, 1.0421, 0.6482, 1.1884, 0.4389, 0.3445, 0.1596, 0.1099, -0.091, 0.8595, 0.0452, 0.0896, 0.0049, 0.2943, 0.3371, 0.1203, 0.2964, 0.477, 0.0328, 0.1285, -0.2219, -0.3267, 0.1251, -0.084, -0.0858, -0.3944, 0.4407, -0.0785, -0.4659, -0.4708]}, \"token.table\": {\"Topic\": [1, 2, 3, 4, 2, 3, 4, 3, 2, 4, 4, 4, 1, 2, 3, 1, 2, 3, 4, 1, 2, 4, 1, 2, 3, 4, 4, 1, 2, 4, 1, 2, 3, 4, 1, 3, 1, 2, 3, 4, 2, 1, 4, 1, 1, 3, 4, 1, 2, 3, 4, 1, 4, 1, 2, 3, 4, 1, 2, 3, 4, 1, 2, 3, 4, 1, 2, 3, 4, 1, 2, 3, 2, 3, 4, 1, 3, 1, 2, 3, 4, 4, 2, 1, 2, 3, 4, 4, 1, 2, 3, 4, 3, 3, 1, 2, 1, 2, 4, 1, 2, 4, 1, 3, 4, 4, 3, 1, 2, 3, 4, 1, 2, 3, 4, 1, 3, 4, 1, 4, 1, 2, 3, 4, 4, 1, 2, 3, 4, 1, 2, 3, 4, 1, 2, 3, 4, 2, 1, 2, 3, 4, 1, 1, 2, 3, 4, 1, 2, 3, 4, 3, 4, 2, 3, 4, 1, 4, 1, 2, 3, 1, 2, 3, 3, 4, 1, 3, 1, 2, 3, 4, 1, 3, 1, 4, 1, 2, 3, 4, 1, 2, 3, 4, 1, 2, 3, 4, 1, 2, 3, 1, 4, 3, 4, 2, 2, 1, 2, 3, 4, 1, 2, 3, 4, 1, 2, 3, 4, 1, 2, 3, 4, 1, 2, 3, 4, 1, 2, 3, 4, 3, 4, 2, 3, 1, 2, 3, 4, 1, 2, 3, 4, 2, 1, 2, 3, 4, 1, 2, 3, 4, 1, 2, 3, 4, 1, 1, 4, 1, 1, 2, 3, 4, 1, 2, 3, 4, 4, 4, 1, 2, 3, 4, 1, 4, 1, 2, 3, 4, 1, 2, 1, 2, 3, 4, 1, 2, 3, 4, 2, 1, 2, 3, 4, 4, 1, 2, 3, 4, 1, 2, 1, 2, 3, 4, 1, 2, 3, 4, 1, 2, 3, 4, 2, 4, 1, 2, 3, 4, 3, 3, 1, 2, 1, 1, 1, 2, 3, 4, 3, 2, 3, 4, 1, 2, 3, 4, 2, 1, 2, 3, 4, 1, 2, 3, 4, 1, 2, 3, 4, 1, 4, 2, 1, 2, 3, 4, 3, 1, 2, 3, 4, 1, 2, 4, 3, 2, 3, 4, 1, 2, 1, 2, 3, 4, 1, 3, 4, 1, 2, 3, 4, 4, 3, 4, 1, 3, 4, 2, 3, 4, 2, 2, 4, 2, 4, 1, 2, 3, 4, 1, 2, 3, 4, 1, 2, 3, 4, 1, 2, 3, 4, 1, 2, 3, 4, 2, 1, 2, 3, 4, 1, 2, 3, 4, 4, 2, 3, 2, 1, 2, 3, 4, 1, 2, 3, 4, 1, 2, 4, 2, 3, 4, 3, 2, 1, 4, 1, 3, 4, 1, 2, 3, 4, 2, 3, 4, 1, 3, 4, 2, 4, 1, 1, 1, 2, 3, 4, 1, 2, 3, 4, 1, 2, 3, 4, 1, 2, 3, 4, 3, 1, 2, 3, 4, 2, 2, 4, 1, 3, 4, 1, 3, 4, 1, 1, 4, 1, 1, 2, 3, 4, 1, 4, 4, 2, 4, 3, 2, 4, 1, 3, 1, 2, 3, 1, 3, 1, 2, 3, 4, 1, 2, 1, 2, 3, 2, 3, 1, 2, 3, 4, 2, 1, 2, 1, 2, 3, 4, 2, 4, 3, 4, 1, 3, 4, 1, 2, 3, 4, 1, 4, 4, 3, 4, 1, 2, 3, 4, 1, 2, 3, 4, 1, 2, 4, 1, 2, 3, 4, 1, 2, 3, 3, 4, 1, 2, 3, 4, 1, 3, 1, 2, 3, 4, 1, 2, 3, 4, 3, 3, 4, 1, 2, 3, 4, 1, 2, 4, 2], \"Freq\": [0.7908768327766462, 0.03954384163883231, 0.019771920819416155, 0.1384034457359131, 0.16371709648763336, 0.12278782236572501, 0.6548683859505334, 0.8424811056330638, 0.7955229356242878, 0.1325871559373813, 0.833223922331034, 0.7765645007242318, 0.1997428815583334, 0.6491643650645835, 0.14980716116875004, 0.9409590985498434, 0.022403788060710556, 0.022403788060710556, 0.022403788060710556, 0.05865922808718209, 0.8798884213077314, 0.05865922808718209, 0.41872228995979877, 0.24954156674371844, 0.2876072294673365, 0.042295180804020074, 0.9301205469392422, 0.33778332128800986, 0.11259444042933663, 0.5066749819320148, 0.2552742385747683, 0.6928872189886568, 0.03646774836782404, 0.01823387418391202, 0.1867083009869545, 0.746833203947818, 0.8273760617304163, 0.023639316049440466, 0.04727863209888093, 0.11819658024720232, 0.9471159954732673, 0.913046360433153, 0.08300421458483209, 0.968426287916808, 0.03718131831490789, 0.4461758197788947, 0.5205384564087104, 0.6321341110953159, 0.07183342171537681, 0.20831692297459276, 0.08620010605845217, 0.9422780762424336, 0.7767621463745591, 0.0798744954422728, 0.599058715817046, 0.2396234863268184, 0.0798744954422728, 0.06171514799497453, 0.030857573997487266, 0.8177257109334125, 0.07714393499371816, 0.37787564262227674, 0.20153367606521425, 0.02519170950815178, 0.37787564262227674, 0.24889563841100842, 0.1342726470375177, 0.4846915063793322, 0.12772276181617537, 0.1594595902463607, 0.07972979512318035, 0.7175681561086231, 0.12183395956848701, 0.8041041331520143, 0.0487335838273948, 0.9437819599163474, 0.8424513206728919, 0.047803167565492785, 0.5384146241587082, 0.3673296033979972, 0.047803167565492785, 0.8690186622000846, 0.9040509929816093, 0.8504053227442142, 0.06541579405724725, 0.032707897028623624, 0.06541579405724725, 0.8754251883728109, 0.5703610390380984, 0.09427455190712371, 0.15555301064675411, 0.1838353762188912, 0.8995929100364641, 0.8425931551994352, 0.15085905833582697, 0.9051543500149618, 0.04450537146109006, 0.801096686299621, 0.13351611438327016, 0.15708418677185815, 0.7225872591505474, 0.1256673494174865, 0.059215074249253735, 0.9178336508634328, 0.8690386742466344, 0.7760065716218879, 0.8426447104319724, 0.07471544424100376, 0.14943088848200753, 0.5977235539280301, 0.14943088848200753, 0.1713573112152313, 0.7711079004685408, 0.028559551869205214, 0.028559551869205214, 0.08905038072934206, 0.08905038072934206, 0.7124030458347365, 0.967094123251925, 0.9301567489053695, 0.015782801922627942, 0.4997887275498848, 0.3366997743493961, 0.1473061512778608, 0.8692141171655928, 0.7046839228931567, 0.05563294128103869, 0.07417725504138492, 0.16689882384311608, 0.2545617602898498, 0.27365389231158854, 0.42320892648187525, 0.047730330054346834, 0.830082417883977, 0.03234087342405105, 0.09702262027215315, 0.03952773418495128, 0.8810165356534548, 0.3180258609464367, 0.4484980090270261, 0.18755371286584727, 0.04892705553022103, 0.8809268638362194, 0.21217570840808958, 0.17681309034007464, 0.035362618068014925, 0.6011645071562538, 0.4650202253529793, 0.17621819066007638, 0.19090303988174942, 0.16642829117896102, 0.14510288849546485, 0.7255144424773242, 0.1914987601556652, 0.0478746900389163, 0.7420576956032026, 0.28537548809003327, 0.6658761388767442, 0.8238749169240476, 0.14417811046170834, 0.020596872923101188, 0.9046208183756231, 0.056538801148476446, 0.056538801148476446, 0.8478660287570207, 0.14131100479283676, 0.9493314252853314, 0.06328876168568875, 0.43060746393449434, 0.13363679915208446, 0.02969706647824099, 0.40091039745625334, 0.9241975354239031, 0.8995832107817107, 0.9698540160263571, 0.017633709382297403, 0.03555549768064543, 0.3911104744870997, 0.4622214698483906, 0.124444241882259, 0.4824116946033758, 0.2941534723191316, 0.11766138892765263, 0.10589525003488737, 0.3049334757264996, 0.42690686601709943, 0.08538137320341989, 0.18296008543589976, 0.768221311415642, 0.1030540783606349, 0.12179118351711399, 0.11573604499221563, 0.8101523149455093, 0.8423948225703263, 0.9292351220788367, 0.9039952262101214, 0.9042327409981875, 0.019282461047589277, 0.559191370380089, 0.2603132241424552, 0.15425968838071422, 0.5249190907054165, 0.16309496551943753, 0.13020186322980307, 0.1822826085217243, 0.46148068393050046, 0.3540125794535346, 0.03160826602263702, 0.15171967690865767, 0.3988962762028807, 0.3303989358448103, 0.0926728722491541, 0.17728723386794698, 0.3171252099250631, 0.33694553554537954, 0.29334081918068333, 0.05549691173688604, 0.42975873955901733, 0.04680540727870486, 0.3361479250016076, 0.18722162911481943, 0.7848503666990179, 0.17441119259978177, 0.029284323938847872, 0.9663826899819797, 0.15254241746670716, 0.12480743247276041, 0.4437597599031481, 0.2773498499394676, 0.3612569726577409, 0.2408379817718273, 0.09031424316443523, 0.3110823931219436, 0.8803229366833606, 0.11015045696997623, 0.2753761424249406, 0.6058275133348693, 0.027537614242494058, 0.1254595550666047, 0.020909925844434116, 0.6900275528663259, 0.16727940675547293, 0.20091336526609174, 0.2310503700560055, 0.4520550718487064, 0.12054801915965505, 0.9766897443097501, 0.12855704916120103, 0.7713422949672063, 0.9731302371090692, 0.044241788320039395, 0.7963521897607091, 0.1327253649601182, 0.8689003268048268, 0.8713484864120193, 0.030046499531448945, 0.030046499531448945, 0.06009299906289789, 0.9301318078786208, 0.6946658444726057, 0.23647032511048174, 0.2707966626265194, 0.31275107514612105, 0.17925976258375229, 0.792773974619333, 0.19135923525294243, 0.4048410879968615, 0.11282456550732206, 0.2588328267520918, 0.22564913101464412, 0.9215181649272873, 0.05119545360707152, 0.4084549312693827, 0.15709805048822412, 0.07331242356117125, 0.35608891443997465, 0.10833758399335988, 0.3370502613126752, 0.30093773331488854, 0.2527876959845064, 0.8798144105434831, 0.4362662746210811, 0.32807223851505296, 0.06282234354543567, 0.16752624945449512, 0.7768141917566631, 0.38162885574512323, 0.2846045703861936, 0.1552388565742874, 0.18111199933666863, 0.893315929553118, 0.0893315929553118, 0.07355960087279131, 0.8827152104734959, 0.024519866957597107, 0.049039733915194214, 0.17498734096951107, 0.4184479892749178, 0.17498734096951107, 0.22824435778631877, 0.10562213715349816, 0.5545162200558653, 0.22444704145118358, 0.10562213715349816, 0.8582425970475452, 0.1009697172997112, 0.3577010856616239, 0.30181029102699514, 0.22635771827024637, 0.11737066873272033, 0.8995420397822961, 0.9402627389237951, 0.19158808160144739, 0.8142493468061514, 0.9446792656497915, 0.9570180493476916, 0.35942878910526, 0.22342870674110757, 0.27200016472830485, 0.1457143739615919, 0.8421698217161196, 0.8804353326020649, 0.8058701591039815, 0.1611740318207963, 0.3999989467032185, 0.24761839557818288, 0.22222163705734363, 0.12698379260419634, 0.9361195269804451, 0.04631912992545668, 0.6206763410011195, 0.1574850417465527, 0.1760126937167354, 0.04194984848576214, 0.0629247727286432, 0.8809468182010048, 0.010487462121440534, 0.060662037826821544, 0.7886064917486801, 0.12132407565364309, 0.030331018913410772, 0.8993862199679751, 0.08993862199679752, 0.9368207984341353, 0.20781201327430046, 0.5195300331857511, 0.19482376244465668, 0.07792950497786268, 0.7490426132733738, 0.23603909798109543, 0.388322387001157, 0.26649575578510776, 0.10659830231404309, 0.72695122049745, 0.0797873290789884, 0.18617043451763962, 0.8424032978164353, 0.04944118228277185, 0.6921765519588058, 0.24720591141385923, 0.7889189900670631, 0.20359199743666145, 0.13339171297044258, 0.6002627083669916, 0.0933741990793098, 0.17340922686157534, 0.3933686660026179, 0.15734746640104716, 0.44581782146963356, 0.6580545823960966, 0.028002322655153046, 0.25202090389637744, 0.05600464531030609, 0.7763015523380306, 0.9004410487647411, 0.8690717615709336, 0.14046665097683783, 0.7023332548841891, 0.14046665097683783, 0.7941864600358373, 0.13236441000597288, 0.8691860993173446, 0.8462276636384364, 0.8468192436848839, 0.8333896126690167, 0.8206814754982806, 0.17177054138336106, 0.12234101555736591, 0.14458483656779608, 0.4782421517242486, 0.2558039416199469, 0.8588576408234325, 0.04404398158068885, 0.022021990790344424, 0.06606597237103327, 0.578074028141125, 0.21625790980819062, 0.15387582044044332, 0.054064477452047656, 0.025158619687682824, 0.570262046254144, 0.3941517084403643, 0.016772413125121885, 0.3738204787194689, 0.09345511967986722, 0.06230341311991148, 0.46727559839933613, 0.846460881154969, 0.371251315677509, 0.19387568707603248, 0.3341261841097581, 0.09900035084733573, 0.2014271434713514, 0.11190396859519522, 0.46999666809981994, 0.21634767261737745, 0.8690683099606843, 0.7939214882296892, 0.13232024803828155, 0.8464778290914567, 0.078925575381383, 0.7497929661231385, 0.078925575381383, 0.078925575381383, 0.07819309223101459, 0.5629902640633051, 0.3596882242626671, 0.01563861844620292, 0.1574997444795466, 0.7481237862778463, 0.0787498722397733, 0.800185039123895, 0.06668208659365792, 0.13336417318731583, 0.8424428418249905, 0.9124970069201775, 0.9585871402694499, 0.0290480951596803, 0.9135026300511677, 0.08304569364101524, 0.8690046140792882, 0.0791614915293172, 0.6785270702512902, 0.11308784504188171, 0.12439662954606988, 0.7202374746755101, 0.025722766952696794, 0.2572276695269679, 0.11320754519389847, 0.7924528163572894, 0.11320754519389847, 0.25371046089228017, 0.6342761522307004, 0.9693017740495791, 0.9235347951077184, 0.3185235655049059, 0.36596324547372167, 0.09487935993763154, 0.2168671084288721, 0.4304218767711524, 0.31769233761680293, 0.19983872850089218, 0.05124069961561338, 0.4403198450221818, 0.0655795513862824, 0.16863313213615475, 0.327897756931412, 0.08467334867335902, 0.16934669734671803, 0.6265827801828567, 0.13547735787737442, 0.8424499368694891, 0.07097222612588606, 0.3193750175664873, 0.6032639220700315, 0.7763335903263903, 0.9446771424028104, 0.30979879564943535, 0.6195975912988707, 0.813331058030088, 0.11619015114715543, 0.038730050382385146, 0.22402648309348563, 0.6720794492804569, 0.0746754943644952, 0.9567844793788586, 0.8979165589300955, 0.07922793167030254, 0.9423647333562803, 0.6215624017794152, 0.05351199485518145, 0.2140479794207258, 0.1070239897103629, 0.9167935034804587, 0.05392902961649758, 0.7736928050553312, 0.9354765210240905, 0.05846728256400566, 0.8041512283927984, 0.7963558920050294, 0.13272598200083824, 0.1022907322815963, 0.9206165905343667, 0.2211878422005671, 0.11059392110028354, 0.6266988862349401, 0.9570373836465045, 0.8429775265518092, 0.4741051395036805, 0.2741812854961044, 0.1370906427480522, 0.11424220229004349, 0.9422966633163432, 0.9198651521830117, 0.212427251182652, 0.053106812795663, 0.743495379139282, 0.903974234636052, 0.8997185670817247, 0.41338713700863394, 0.38437751335890524, 0.1414219152924274, 0.06164545025567349, 0.9699984454969321, 0.9237740060575851, 0.8466083637035209, 0.3855345961438062, 0.301033862742424, 0.1901266501531099, 0.1161885084269005, 0.8210436338464302, 0.9066289153536368, 0.8424920401234987, 0.6960274451694632, 0.8944710176213628, 0.023538710990035863, 0.09415484396014345, 0.5326797247629204, 0.2598437681770343, 0.10826823674043097, 0.10393750727081373, 0.9102945829940228, 0.9358058377108992, 0.8691828703437644, 0.8995229159359018, 0.8691559476603498, 0.27930338056224224, 0.33810409225955634, 0.2352028467892566, 0.1470017792432854, 0.2592448283523679, 0.051848965670473576, 0.10369793134094715, 0.5703386223752093, 0.1921913711927206, 0.06406379039757354, 0.7687654847708824, 0.44316652074922835, 0.15309388898609708, 0.15309388898609708, 0.24978476624047416, 0.28953703995387364, 0.04825617332564561, 0.6273302532333929, 0.708156497387927, 0.14163129947758538, 0.056434748817469294, 0.7336517346271008, 0.028217374408734647, 0.16930424645240788, 0.14018767212166375, 0.8411260327299825, 0.21348220999827153, 0.11362762790230582, 0.5096026948345836, 0.16183328822449616, 0.34166486863663614, 0.017982361507191374, 0.10789416904314825, 0.5214884837085498, 0.8424598282356524, 0.7188399286078717, 0.23961330953595722, 0.4493006975296838, 0.24732148487872505, 0.20197921265095878, 0.10305061869946877, 0.05808176709990198, 0.11616353419980396, 0.8712265064985297, 0.846775429711309], \"Term\": [\"able\", \"able\", \"able\", \"able\", \"absolutely\", \"absolutely\", \"absolutely\", \"accommodate\", \"accord\", \"accord\", \"accurate\", \"accustomed\", \"add\", \"add\", \"add\", \"adjust\", \"adjust\", \"adjust\", \"adjust\", \"afraid\", \"afraid\", \"afraid\", \"also\", \"also\", \"also\", \"also\", \"amazing\", \"anymore\", \"anymore\", \"anymore\", \"apart\", \"apart\", \"apart\", \"apart\", \"appreciate\", \"appreciate\", \"around\", \"around\", \"around\", \"around\", \"attractive\", \"basically\", \"basically\", \"bat\", \"believe\", \"believe\", \"believe\", \"big\", \"big\", \"big\", \"big\", \"bored\", \"bottled\", \"bottom\", \"bottom\", \"bottom\", \"bottom\", \"bowl\", \"bowl\", \"bowl\", \"bowl\", \"break\", \"break\", \"break\", \"break\", \"buy\", \"buy\", \"buy\", \"buy\", \"care\", \"care\", \"care\", \"catit\", \"catit\", \"catit\", \"challenge\", \"cheaply\", \"clean\", \"clean\", \"clean\", \"clean\", \"clearly\", \"clog\", \"close\", \"close\", \"close\", \"close\", \"color\", \"come\", \"come\", \"come\", \"come\", \"complete\", \"construct\", \"consume\", \"consume\", \"continue\", \"continue\", \"continue\", \"cool\", \"cool\", \"cool\", \"cute\", \"cute\", \"deal\", \"deliver\", \"dental\", \"die\", \"die\", \"die\", \"die\", \"difficult\", \"difficult\", \"difficult\", \"difficult\", \"disassemble\", \"disassemble\", \"disassemble\", \"dispense\", \"divide\", \"drink\", \"drink\", \"drink\", \"drink\", \"drip\", \"dry_food\", \"dry_food\", \"dry_food\", \"dry_food\", \"easy\", \"easy\", \"easy\", \"easy\", \"eat\", \"eat\", \"eat\", \"eat\", \"eliminate\", \"enough\", \"enough\", \"enough\", \"enough\", \"entertain\", \"entire\", \"entire\", \"entire\", \"entire\", \"even\", \"even\", \"even\", \"even\", \"everyday\", \"everyday\", \"extra\", \"extra\", \"extra\", \"fail\", \"fail\", \"fall\", \"fall\", \"fall\", \"fancy\", \"fancy\", \"fancy\", \"fantastic\", \"fantastic\", \"fat\", \"fat\", \"feed\", \"feed\", \"feed\", \"feed\", \"feral\", \"fight\", \"figure\", \"figure\", \"filter\", \"filter\", \"filter\", \"filter\", \"find\", \"find\", \"find\", \"find\", \"first\", \"first\", \"first\", \"first\", \"fit\", \"fit\", \"fit\", \"fluffy\", \"fluffy\", \"flush\", \"forever\", \"forward\", \"frequent\", \"fresh\", \"fresh\", \"fresh\", \"fresh\", \"get\", \"get\", \"get\", \"get\", \"give\", \"give\", \"give\", \"give\", \"go\", \"go\", \"go\", \"go\", \"good\", \"good\", \"good\", \"good\", \"great\", \"great\", \"great\", \"great\", \"gross\", \"gross\", \"grow\", \"grow\", \"happy\", \"happy\", \"happy\", \"happy\", \"hard\", \"hard\", \"hard\", \"hard\", \"harmful\", \"heavy\", \"heavy\", \"heavy\", \"heavy\", \"highly\", \"highly\", \"highly\", \"highly\", \"hold\", \"hold\", \"hold\", \"hold\", \"hole\", \"hum\", \"hum\", \"hungry\", \"important\", \"important\", \"important\", \"inferior\", \"interested\", \"interested\", \"interested\", \"interested\", \"internal\", \"jump\", \"keep\", \"keep\", \"keep\", \"keep\", \"kibble\", \"kibble\", \"large\", \"large\", \"large\", \"large\", \"learn\", \"learn\", \"leave\", \"leave\", \"leave\", \"leave\", \"like\", \"like\", \"like\", \"like\", \"lily\", \"little\", \"little\", \"little\", \"little\", \"locate\", \"long\", \"long\", \"long\", \"long\", \"lose\", \"lose\", \"loud\", \"loud\", \"loud\", \"loud\", \"love\", \"love\", \"love\", \"love\", \"low\", \"low\", \"low\", \"low\", \"main\", \"main\", \"make\", \"make\", \"make\", \"make\", \"medicinal\", \"medium\", \"mention\", \"mention\", \"motivate\", \"motivated\", \"much\", \"much\", \"much\", \"much\", \"multi\", \"near\", \"neat\", \"neat\", \"need\", \"need\", \"need\", \"need\", \"negative\", \"new\", \"new\", \"new\", \"new\", \"nice\", \"nice\", \"nice\", \"nice\", \"noisy\", \"noisy\", \"noisy\", \"noisy\", \"occupy\", \"occupy\", \"offer\", \"often\", \"often\", \"often\", \"often\", \"ok\", \"old\", \"old\", \"old\", \"old\", \"open\", \"open\", \"open\", \"overseas\", \"perfect_size\", \"perfect_size\", \"perfect_size\", \"perfectly\", \"perfectly\", \"pet\", \"pet\", \"pet\", \"pet\", \"plastic\", \"plastic\", \"plastic\", \"play\", \"play\", \"play\", \"play\", \"playful\", \"plenty\", \"poorly\", \"pot\", \"pot\", \"pot\", \"powerful\", \"powerful\", \"precise\", \"program\", \"proper\", \"prove\", \"pump\", \"pump\", \"purchase\", \"purchase\", \"purchase\", \"purchase\", \"push\", \"push\", \"push\", \"push\", \"put\", \"put\", \"put\", \"put\", \"quiet\", \"quiet\", \"quiet\", \"quiet\", \"rather\", \"rather\", \"rather\", \"rather\", \"readily\", \"really\", \"really\", \"really\", \"really\", \"recommend\", \"recommend\", \"recommend\", \"recommend\", \"reliable\", \"remain\", \"remain\", \"remind\", \"remove\", \"remove\", \"remove\", \"remove\", \"replace\", \"replace\", \"replace\", \"replace\", \"require\", \"require\", \"require\", \"reservoir\", \"reservoir\", \"reservoir\", \"reuse\", \"rinse\", \"roll\", \"roll\", \"round\", \"round\", \"rounded\", \"run\", \"run\", \"run\", \"run\", \"running_water\", \"running_water\", \"running_water\", \"s\", \"s\", \"s\", \"satisfied\", \"satisfied\", \"scarf\", \"screw\", \"see\", \"see\", \"see\", \"see\", \"seem\", \"seem\", \"seem\", \"seem\", \"set\", \"set\", \"set\", \"set\", \"several\", \"several\", \"several\", \"several\", \"sgd\", \"shallow\", \"shallow\", \"shallow\", \"shoot\", \"silent\", \"sink\", \"sink\", \"sized\", \"sized\", \"sized\", \"slide\", \"slide\", \"slide\", \"slim\", \"slow\", \"slow\", \"slowly\", \"small\", \"small\", \"small\", \"small\", \"smart\", \"smart\", \"solid\", \"splash\", \"splash\", \"sprout\", \"stagnant\", \"stagnant\", \"stainless\", \"stainless\", \"stand\", \"stand\", \"stand\", \"starve\", \"stiff\", \"still\", \"still\", \"still\", \"still\", \"stimulate\", \"strong\", \"sturdy\", \"sturdy\", \"sturdy\", \"submerge\", \"supply\", \"take\", \"take\", \"take\", \"take\", \"tall\", \"tape\", \"thank\", \"think\", \"think\", \"think\", \"think\", \"thoroughly\", \"total\", \"tough\", \"traditional\", \"treat\", \"treat\", \"treat\", \"try\", \"try\", \"try\", \"try\", \"twist\", \"ugly\", \"unfortunate\", \"unique\", \"upgrade\", \"use\", \"use\", \"use\", \"use\", \"wait\", \"wait\", \"wait\", \"wait\", \"wake\", \"wake\", \"wake\", \"want\", \"want\", \"want\", \"want\", \"wash\", \"wash\", \"wash\", \"water\", \"water\", \"water_level\", \"water_level\", \"water_level\", \"water_level\", \"weird\", \"weird\", \"well\", \"well\", \"well\", \"well\", \"wet_food\", \"wet_food\", \"wet_food\", \"wet_food\", \"wonder\", \"wonderful\", \"wonderful\", \"work\", \"work\", \"work\", \"work\", \"worry\", \"worry\", \"worry\", \"zen\"]}, \"R\": 30, \"lambda.step\": 0.01, \"plot.opts\": {\"xlab\": \"PC1\", \"ylab\": \"PC2\"}, \"topic.order\": [1, 3, 4, 2]};\n",
       "\n",
       "function LDAvis_load_lib(url, callback){\n",
       "  var s = document.createElement('script');\n",
       "  s.src = url;\n",
       "  s.async = true;\n",
       "  s.onreadystatechange = s.onload = callback;\n",
       "  s.onerror = function(){console.warn(\"failed to load library \" + url);};\n",
       "  document.getElementsByTagName(\"head\")[0].appendChild(s);\n",
       "}\n",
       "\n",
       "if(typeof(LDAvis) !== \"undefined\"){\n",
       "   // already loaded: just create the visualization\n",
       "   !function(LDAvis){\n",
       "       new LDAvis(\"#\" + \"ldavis_el2132013561651745441830906474\", ldavis_el2132013561651745441830906474_data);\n",
       "   }(LDAvis);\n",
       "}else if(typeof define === \"function\" && define.amd){\n",
       "   // require.js is available: use it to load d3/LDAvis\n",
       "   require.config({paths: {d3: \"https://d3js.org/d3.v5\"}});\n",
       "   require([\"d3\"], function(d3){\n",
       "      window.d3 = d3;\n",
       "      LDAvis_load_lib(\"https://cdn.jsdelivr.net/gh/bmabey/pyLDAvis@3.3.1/pyLDAvis/js/ldavis.v3.0.0.js\", function(){\n",
       "        new LDAvis(\"#\" + \"ldavis_el2132013561651745441830906474\", ldavis_el2132013561651745441830906474_data);\n",
       "      });\n",
       "    });\n",
       "}else{\n",
       "    // require.js not available: dynamically load d3 & LDAvis\n",
       "    LDAvis_load_lib(\"https://d3js.org/d3.v5.js\", function(){\n",
       "         LDAvis_load_lib(\"https://cdn.jsdelivr.net/gh/bmabey/pyLDAvis@3.3.1/pyLDAvis/js/ldavis.v3.0.0.js\", function(){\n",
       "                 new LDAvis(\"#\" + \"ldavis_el2132013561651745441830906474\", ldavis_el2132013561651745441830906474_data);\n",
       "            })\n",
       "         });\n",
       "}\n",
       "</script>"
      ],
      "text/plain": [
       "<IPython.core.display.HTML object>"
      ]
     },
     "execution_count": 377,
     "metadata": {},
     "output_type": "execute_result"
    }
   ],
   "source": [
    "pyLDAvis.enable_notebook()\n",
    "topic_data =  pyLDAvis.gensim_models.prepare(cat_feeding_supplies_optimal_model, \n",
    "                                             cats_feeding_supplies_doc_term_matrix2, \n",
    "                                             cats_feeding_supplies_dictionary2, \n",
    "                                             mds = 'tsne')\n",
    "pyLDAvis.display(topic_data)"
   ]
  },
  {
   "cell_type": "markdown",
   "id": "eec499ae",
   "metadata": {},
   "source": [
    "## 2. cat food (2/4)"
   ]
  },
  {
   "cell_type": "code",
   "execution_count": 185,
   "id": "278c71d1",
   "metadata": {},
   "outputs": [
    {
     "data": {
      "application/vnd.jupyter.widget-view+json": {
       "model_id": "c31d3ca739f84b46a33158496ab8799f",
       "version_major": 2,
       "version_minor": 0
      },
      "text/plain": [
       "  0%|          | 0/5999 [00:00<?, ?it/s]"
      ]
     },
     "metadata": {},
     "output_type": "display_data"
    },
    {
     "data": {
      "application/vnd.jupyter.widget-view+json": {
       "model_id": "28a4544e17a448048f04bdd3444d8c0f",
       "version_major": 2,
       "version_minor": 0
      },
      "text/plain": [
       "  0%|          | 0/5999 [00:00<?, ?it/s]"
      ]
     },
     "metadata": {},
     "output_type": "display_data"
    },
    {
     "data": {
      "application/vnd.jupyter.widget-view+json": {
       "model_id": "2f3781a4c41644adb215485909d76f13",
       "version_major": 2,
       "version_minor": 0
      },
      "text/plain": [
       "  0%|          | 0/5999 [00:00<?, ?it/s]"
      ]
     },
     "metadata": {},
     "output_type": "display_data"
    },
    {
     "data": {
      "application/vnd.jupyter.widget-view+json": {
       "model_id": "59fd98902ba04262844c137ff816a49b",
       "version_major": 2,
       "version_minor": 0
      },
      "text/plain": [
       "  0%|          | 0/3561 [00:00<?, ?it/s]"
      ]
     },
     "metadata": {},
     "output_type": "display_data"
    },
    {
     "data": {
      "application/vnd.jupyter.widget-view+json": {
       "model_id": "2ccb6f53b48344fbb9d3089811ebde0c",
       "version_major": 2,
       "version_minor": 0
      },
      "text/plain": [
       "  0%|          | 0/1195 [00:00<?, ?it/s]"
      ]
     },
     "metadata": {},
     "output_type": "display_data"
    },
    {
     "data": {
      "application/vnd.jupyter.widget-view+json": {
       "model_id": "e356af3d0d094ccbbaf1fce3abe8146c",
       "version_major": 2,
       "version_minor": 0
      },
      "text/plain": [
       "  0%|          | 0/5999 [00:00<?, ?it/s]"
      ]
     },
     "metadata": {},
     "output_type": "display_data"
    },
    {
     "data": {
      "application/vnd.jupyter.widget-view+json": {
       "model_id": "621bbd561265472aa0f21cee3acb72a0",
       "version_major": 2,
       "version_minor": 0
      },
      "text/plain": [
       "  0%|          | 0/5999 [00:00<?, ?it/s]"
      ]
     },
     "metadata": {},
     "output_type": "display_data"
    }
   ],
   "source": [
    "cats_food_bigram, cats_food_trigram, cats_food_reviews2 = preprocess_review(df2.reviewText, \n",
    "                                                         extra_stopwords = ['cat', 'cats', 'food'],\n",
    "                                                         allowed_postags = ['ADJ', 'VERB', 'ADV'])"
   ]
  },
  {
   "cell_type": "code",
   "execution_count": 341,
   "id": "6f787b01",
   "metadata": {},
   "outputs": [
    {
     "data": {
      "application/vnd.jupyter.widget-view+json": {
       "model_id": "616e86453ac147ac9c16aff607b14d43",
       "version_major": 2,
       "version_minor": 0
      },
      "text/plain": [
       "  0%|          | 0/5999 [00:00<?, ?it/s]"
      ]
     },
     "metadata": {},
     "output_type": "display_data"
    },
    {
     "data": {
      "application/vnd.jupyter.widget-view+json": {
       "model_id": "13cc3dcbb6984a0fad5e7f75e83ff0b7",
       "version_major": 2,
       "version_minor": 0
      },
      "text/plain": [
       "  0%|          | 0/5999 [00:00<?, ?it/s]"
      ]
     },
     "metadata": {},
     "output_type": "display_data"
    },
    {
     "name": "stdout",
     "output_type": "stream",
     "text": [
      "Round: 2\n",
      "Round: 4\n",
      "Round: 6\n",
      "Round: 8\n",
      "Round: 10\n",
      "Round: 12\n",
      "Round: 14\n",
      "Round: 16\n",
      "Round: 18\n"
     ]
    },
    {
     "data": {
      "image/png": "[encoded data removed]",
      "text/plain": [
       "<Figure size 432x288 with 1 Axes>"
      ]
     },
     "metadata": {
      "needs_background": "light"
     },
     "output_type": "display_data"
    },
    {
     "name": "stdout",
     "output_type": "stream",
     "text": [
      "Num Topics = 2  has Coherence Value of 0.5726\n",
      "Num Topics = 4  has Coherence Value of 0.5961\n",
      "Num Topics = 6  has Coherence Value of 0.6069\n",
      "Num Topics = 8  has Coherence Value of 0.5661\n",
      "Num Topics = 10  has Coherence Value of 0.5473\n",
      "Num Topics = 12  has Coherence Value of 0.5732\n",
      "Num Topics = 14  has Coherence Value of 0.5395\n",
      "Num Topics = 16  has Coherence Value of 0.5304\n",
      "Num Topics = 18  has Coherence Value of 0.5398\n"
     ]
    }
   ],
   "source": [
    "cats_food_dictionary, cats_food_doc_term_matrix = vectorize(cats_food_reviews2)\n",
    "model_list, coherence_values = compute_coherence_values(dictionary=cats_food_dictionary, \n",
    "                                                    corpus=cats_food_doc_term_matrix, \n",
    "                                                    texts=cats_food_reviews2, \n",
    "                                                    start=2, \n",
    "                                                    limit=20, \n",
    "                                                    step=2)\n",
    "\n",
    "limit=20; start=2; step=2;\n",
    "x = range(start, limit, step)\n",
    "plt.plot(x, coherence_values)\n",
    "plt.xlabel(\"Num Topics\")\n",
    "plt.ylabel(\"Coherence score\")\n",
    "plt.legend((\"coherence_values\"), loc='best')\n",
    "plt.show()\n",
    "for m, cv in zip(x, coherence_values):\n",
    "    print(\"Num Topics =\", m, \" has Coherence Value of\", round(cv, 4))"
   ]
  },
  {
   "cell_type": "code",
   "execution_count": 342,
   "id": "1e628a77",
   "metadata": {},
   "outputs": [],
   "source": [
    "with open ('./cat_food_model_list.pickle', 'wb') as handle:\n",
    "    pickle.dump(model_list, handle)"
   ]
  },
  {
   "cell_type": "code",
   "execution_count": 379,
   "id": "8446c4b4",
   "metadata": {},
   "outputs": [],
   "source": [
    "with open ('./cat_food_model_list.pickle', 'rb') as handle:\n",
    "    model_list = pickle.load(handle)"
   ]
  },
  {
   "cell_type": "code",
   "execution_count": 380,
   "id": "1b20203d",
   "metadata": {},
   "outputs": [],
   "source": [
    "cat_food_optimal_model = model_list[1]\n",
    "model_topics = cat_food_optimal_model.show_topics(formatted=False)"
   ]
  },
  {
   "cell_type": "code",
   "execution_count": 381,
   "id": "9709661a",
   "metadata": {},
   "outputs": [
    {
     "data": {
      "text/plain": [
       "[(0,\n",
       "  '0.060*\"eat\" + 0.024*\"get\" + 0.019*\"try\" + 0.017*\"seem\" + 0.016*\"go\" + 0.013*\"give\" + 0.013*\"much\" + 0.012*\"good\" + 0.011*\"look\" + 0.011*\"well\" + 0.010*\"really\" + 0.010*\"think\" + 0.010*\"even\" + 0.010*\"make\" + 0.010*\"say\" + 0.009*\"know\" + 0.009*\"open\" + 0.009*\"smell\" + 0.009*\"first\" + 0.009*\"come\" + 0.009*\"love\" + 0.009*\"put\" + 0.008*\"see\" + 0.008*\"never\" + 0.008*\"like\" + 0.008*\"buy\" + 0.007*\"old\" + 0.007*\"little\" + 0.007*\"picky\" + 0.007*\"want\"'),\n",
       " (1,\n",
       "  '0.022*\"good\" + 0.022*\"well\" + 0.019*\"get\" + 0.016*\"healthy\" + 0.016*\"love\" + 0.014*\"buy\" + 0.013*\"much\" + 0.013*\"try\" + 0.012*\"seem\" + 0.012*\"give\" + 0.012*\"find\" + 0.012*\"recommend\" + 0.011*\"feed\" + 0.011*\"also\" + 0.010*\"eat\" + 0.010*\"switch\" + 0.010*\"expensive\" + 0.009*\"grain_free\" + 0.009*\"less\" + 0.009*\"use\" + 0.009*\"make\" + 0.008*\"go\" + 0.008*\"really\" + 0.008*\"old\" + 0.008*\"dry\" + 0.007*\"even\" + 0.007*\"great\" + 0.007*\"little\" + 0.007*\"cheap\" + 0.007*\"start\"'),\n",
       " (2,\n",
       "  '0.034*\"dry\" + 0.025*\"eat\" + 0.025*\"fancy_feast\" + 0.021*\"get\" + 0.017*\"wet\" + 0.017*\"love\" + 0.015*\"can\" + 0.013*\"good\" + 0.013*\"really\" + 0.011*\"give\" + 0.010*\"like\" + 0.010*\"keep\" + 0.010*\"try\" + 0.009*\"prefer\" + 0.009*\"enjoy\" + 0.009*\"happy\" + 0.009*\"go\" + 0.009*\"favorite\" + 0.009*\"make\" + 0.008*\"great\" + 0.008*\"always\" + 0.008*\"even\" + 0.008*\"find\" + 0.007*\"small\" + 0.007*\"canned_cat_food\" + 0.006*\"feed\" + 0.006*\"old\" + 0.006*\"also\" + 0.005*\"leave\" + 0.005*\"treat\"'),\n",
       " (3,\n",
       "  '0.013*\"dry\" + 0.012*\"natural\" + 0.012*\"make\" + 0.010*\"also\" + 0.009*\"feed\" + 0.009*\"well\" + 0.009*\"contain\" + 0.008*\"good\" + 0.008*\"high\" + 0.008*\"eat\" + 0.008*\"pet\" + 0.007*\"include\" + 0.007*\"know\" + 0.007*\"low\" + 0.006*\"say\" + 0.006*\"use\" + 0.006*\"see\" + 0.005*\"mean\" + 0.005*\"healthy\" + 0.005*\"look\" + 0.005*\"first\" + 0.005*\"need\" + 0.005*\"read\" + 0.005*\"even\" + 0.005*\"many\" + 0.005*\"add\" + 0.005*\"find\" + 0.004*\"fresh\" + 0.004*\"compare\" + 0.004*\"much\"')]"
      ]
     },
     "execution_count": 381,
     "metadata": {},
     "output_type": "execute_result"
    }
   ],
   "source": [
    "cat_food_optimal_model.print_topics(num_topics=4, num_words=30)"
   ]
  },
  {
   "cell_type": "code",
   "execution_count": 382,
   "id": "36f4c3b6",
   "metadata": {},
   "outputs": [],
   "source": [
    "keywords_dict = get_keywords(cats_food_doc_term_matrix, model = cat_food_optimal_model)"
   ]
  },
  {
   "cell_type": "code",
   "execution_count": 388,
   "id": "b3f281df",
   "metadata": {},
   "outputs": [],
   "source": [
    "# keywords_dict #2 and 3 are swamped"
   ]
  },
  {
   "cell_type": "code",
   "execution_count": 383,
   "id": "c780ac74",
   "metadata": {},
   "outputs": [
    {
     "data": {
      "text/plain": [
       "['think', 'even', 'open', 'smell', 'first', 'come']"
      ]
     },
     "execution_count": 383,
     "metadata": {},
     "output_type": "execute_result"
    }
   ],
   "source": [
    "[w for w in keywords_dict[0] if w not in  keywords_dict[1] and w not in  keywords_dict[2] and w not in  keywords_dict[3]]"
   ]
  },
  {
   "cell_type": "code",
   "execution_count": 384,
   "id": "306f350b",
   "metadata": {},
   "outputs": [
    {
     "data": {
      "text/plain": [
       "['buy', 'find', 'recommend', 'switch', 'expensive', 'grain_free', 'less']"
      ]
     },
     "execution_count": 384,
     "metadata": {},
     "output_type": "execute_result"
    }
   ],
   "source": [
    "[w for w in keywords_dict[1] if w not in  keywords_dict[0] and w not in  keywords_dict[2] and w not in  keywords_dict[3]] #cheap price"
   ]
  },
  {
   "cell_type": "code",
   "execution_count": 385,
   "id": "dca1db02",
   "metadata": {},
   "outputs": [
    {
     "data": {
      "text/plain": [
       "['natural', 'contain', 'high', 'pet', 'include', 'low', 'see', 'mean']"
      ]
     },
     "execution_count": 385,
     "metadata": {},
     "output_type": "execute_result"
    }
   ],
   "source": [
    "[w for w in keywords_dict[2] if w not in keywords_dict[0] and w not in  keywords_dict[1] and w not in keywords_dict[3]] #health"
   ]
  },
  {
   "cell_type": "code",
   "execution_count": 386,
   "id": "7b25f4ac",
   "metadata": {},
   "outputs": [
    {
     "data": {
      "text/plain": [
       "['fancy_feast',\n",
       " 'wet',\n",
       " 'can',\n",
       " 'like',\n",
       " 'keep',\n",
       " 'prefer',\n",
       " 'enjoy',\n",
       " 'happy',\n",
       " 'favorite',\n",
       " 'great']"
      ]
     },
     "execution_count": 386,
     "metadata": {},
     "output_type": "execute_result"
    }
   ],
   "source": [
    "[w for w in keywords_dict[3] if w not in  keywords_dict[0] and w not in  keywords_dict[1] and w not in  keywords_dict[2]]"
   ]
  },
  {
   "cell_type": "code",
   "execution_count": 368,
   "id": "9e415661",
   "metadata": {},
   "outputs": [
    {
     "name": "stderr",
     "output_type": "stream",
     "text": [
      "C:\\Users\\JiatingChen\\anaconda3\\lib\\site-packages\\pyLDAvis\\_prepare.py:246: FutureWarning: In a future version of pandas all arguments of DataFrame.drop except for the argument 'labels' will be keyword-only\n",
      "  default_term_info = default_term_info.sort_values(\n",
      "C:\\Users\\JiatingChen\\anaconda3\\lib\\site-packages\\sklearn\\manifold\\_t_sne.py:691: FutureWarning: 'square_distances' has been introduced in 0.24 to help phase out legacy squaring behavior. The 'legacy' setting will be removed in 1.1 (renaming of 0.26), and the default setting will be changed to True. In 1.3, 'square_distances' will be removed altogether, and distances will be squared by default. Set 'square_distances'=True to silence this warning.\n",
      "  warnings.warn(\n"
     ]
    },
    {
     "data": {
      "text/html": [
       "\n",
       "<link rel=\"stylesheet\" type=\"text/css\" href=\"https://cdn.jsdelivr.net/gh/bmabey/pyLDAvis@3.3.1/pyLDAvis/js/ldavis.v1.0.0.css\">\n",
       "\n",
       "\n",
       "<div id=\"ldavis_el2132013556954710721485546387\"></div>\n",
       "<script type=\"text/javascript\">\n",
       "\n",
       "var ldavis_el2132013556954710721485546387_data = {\"mdsDat\": {\"x\": [269.5624084472656, 1.782994270324707, 220.81143188476562, 50.533992767333984], \"y\": [-124.80339813232422, -295.0796813964844, -343.8321228027344, -76.05093383789062], \"topics\": [1, 2, 3, 4], \"cluster\": [1, 1, 1, 1], \"Freq\": [32.01002165425126, 31.73936703536126, 19.551207515008485, 16.699403795379]}, \"tinfo\": {\"Term\": [\"fancy_feast\", \"dry\", \"eat\", \"wet\", \"switch\", \"natural\", \"can\", \"love\", \"smell\", \"contain\", \"recommend\", \"favorite\", \"grain_free\", \"open\", \"prefer\", \"healthy\", \"pet\", \"include\", \"low\", \"enjoy\", \"feed\", \"canned_cat_food\", \"leave\", \"highly\", \"picky\", \"high\", \"pate\", \"get\", \"try\", \"happy\", \"refuse\", \"walk\", \"sit\", \"hate\", \"fussy\", \"eat_anything\", \"touch\", \"fussie_cat\", \"excited\", \"waste\", \"sniff\", \"outside\", \"inside\", \"literally\", \"left\", \"meow\", \"happily\", \"dish\", \"dent\", \"fishy\", \"hardly\", \"last_year\", \"brown\", \"pleasant\", \"mushy\", \"doubt\", \"tiki\", \"perfect_size\", \"fond\", \"weird\", \"hungry\", \"guess\", \"smell\", \"nibble\", \"else\", \"feral\", \"crazy\", \"open\", \"empty\", \"picky\", \"tiki_cat\", \"away\", \"eat\", \"flavor\", \"put\", \"turn\", \"happen\", \"look\", \"first\", \"never\", \"go\", \"try\", \"seem\", \"say\", \"get\", \"come\", \"think\", \"know\", \"much\", \"leave\", \"give\", \"see\", \"really\", \"even\", \"like\", \"new\", \"sure\", \"bad\", \"make\", \"good\", \"little\", \"well\", \"want\", \"old\", \"love\", \"buy\", \"vomit\", \"wellness_core\", \"switch\", \"reduce\", \"sensitive_stomach\", \"coat\", \"shiny\", \"overweight\", \"seriously\", \"digestive_issues\", \"spot_stew\", \"limited_ingredient\", \"multiple\", \"lose_weight\", \"transition\", \"vet_bills\", \"vet_said\", \"long_run\", \"adjust\", \"good_quality_food\", \"losing_weight\", \"big_bag\", \"sensitive\", \"adore\", \"prescription_diet\", \"allergic\", \"filler\", \"hair_balls\", \"maine_coons\", \"medical\", \"highly\", \"beautiful\", \"adopt\", \"royal_canin\", \"sick\", \"super\", \"purina_one\", \"work\", \"grain_free_food\", \"recommend\", \"grain_free\", \"natural_balance\", \"hairball\", \"help\", \"blue_buffalo\", \"healthy\", \"grow\", \"definitely\", \"expensive\", \"due\", \"science_diet\", \"less\", \"well\", \"cheap\", \"kitten\", \"soft\", \"start\", \"good\", \"buy\", \"find\", \"feed\", \"love\", \"much\", \"get\", \"also\", \"use\", \"seem\", \"give\", \"try\", \"take\", \"old\", \"long\", \"great\", \"little\", \"make\", \"really\", \"go\", \"eat\", \"dry\", \"even\", \"grill\", \"senior\", \"locally\", \"tasty\", \"split\", \"variety_pack\", \"popular\", \"get_tired\", \"twice_day\", \"alternate\", \"classic_pate\", \"bowl\", \"many_flavors\", \"chunky\", \"bowl_clean\", \"enjoy_eating\", \"specialty_pet_shops\", \"select\", \"classic\", \"little_finicky\", \"ounce_cans_pack\", \"get_bored\", \"several_cats_outside\", \"fancy_feast_gourmet_cat_food\", \"preferred\", \"pet_hospital\", \"nutritional_levels_established\", \"love_fancy_feast\", \"good_value\", \"slice\", \"fancy_feast\", \"pate\", \"disappear\", \"canned_cat_food\", \"deliver\", \"rotate\", \"thank\", \"favorite\", \"devour\", \"wet\", \"female\", \"dry\", \"finish\", \"can\", \"subscribe\", \"canned\", \"prefer\", \"enjoy\", \"treat\", \"carry\", \"fast\", \"keep\", \"love\", \"available\", \"happy\", \"like\", \"get\", \"really\", \"always\", \"eat\", \"save\", \"finicky\", \"great\", \"give\", \"good\", \"small\", \"try\", \"find\", \"even\", \"go\", \"make\", \"leave\", \"feed\", \"old\", \"also\", \"vitamin_supplement\", \"list\", \"first_ingredient\", \"taurine\", \"chicken_meal\", \"organic\", \"nutrience\", \"debone\", \"non\", \"ingredient_list\", \"wheat_gluten\", \"likely\", \"vegetable\", \"adult_cat_food\", \"pet_foods\", \"glycemic\", \"source\", \"chicken_fat\", \"hill_ideal_balance\", \"crude\", \"mixed_tocopherols\", \"sweet_potatoes\", \"corn_gluten\", \"folic_acid\", \"thiamine_mononitrate\", \"lead\", \"primary\", \"crude_protein\", \"real_meat\", \"preserve\", \"low_quality\", \"diabetic\", \"brown_rice\", \"contain\", \"natural\", \"pet\", \"artificial\", \"include\", \"provide\", \"mean\", \"low\", \"high\", \"read\", \"compare\", \"make\", \"dry\", \"feed\", \"also\", \"fresh\", \"know\", \"ingredient\", \"well\", \"say\", \"many\", \"need\", \"good\", \"see\", \"use\", \"add\", \"eat\", \"first\", \"look\", \"healthy\", \"even\", \"find\", \"free\", \"much\"], \"Freq\": [658.0, 1477.0, 3773.0, 645.0, 417.0, 365.0, 638.0, 1476.0, 397.0, 232.0, 572.0, 275.0, 461.0, 431.0, 364.0, 1001.0, 258.0, 239.0, 279.0, 411.0, 874.0, 187.0, 370.0, 244.0, 350.0, 403.0, 134.0, 2459.0, 1630.0, 607.0, 133.49391938986574, 112.98063483666382, 110.07004034722358, 94.30168566143617, 84.05524666670527, 79.62245252545672, 69.58426487738849, 64.70839125118687, 58.06098265902301, 51.921315373354616, 46.88123391064761, 44.550946153203434, 39.185686786708416, 41.327024241548685, 35.87482769369505, 36.3779105520008, 34.69883297925835, 31.21668481454213, 30.929215226835208, 73.23214496921761, 28.287993288001264, 24.02089660331877, 23.30414559812978, 24.215591176338428, 22.74502101717815, 23.481511334807372, 32.69839388470149, 22.711806183098236, 30.94517755221253, 21.611902738669365, 109.36739272006348, 107.55573896192199, 375.20051742367946, 54.06700350364479, 59.119868614872395, 107.97568870993312, 117.66487684415235, 380.9884570979332, 66.44002409697868, 296.7109049501747, 67.17941732708975, 236.43478093330586, 2533.33779404774, 86.11872254273834, 359.9734783570275, 158.27348564553515, 93.35658205640227, 463.719424144163, 373.39236981258983, 335.59535609007014, 671.7860480705666, 806.4329678579327, 714.0438657158392, 405.45060870940347, 1031.285172307913, 369.5515629943585, 423.2018372839415, 385.3983234011571, 559.3198418264888, 228.13961126022033, 564.578274506088, 341.5110928546192, 443.881407755188, 414.36394362366315, 331.4862699300043, 248.7508315614106, 254.98064425147734, 209.66251175866736, 408.1669271967502, 508.4476572442226, 304.41081752265535, 447.62096965293256, 284.7105454389262, 304.7204418232645, 360.3712487703172, 321.0413396777355, 100.46659642705687, 63.10134389454717, 413.50137685452256, 57.51273102380683, 50.59395594734972, 50.94177699236163, 124.087842087067, 58.00599873532838, 48.26964126475089, 43.67167019030914, 42.40269831709872, 36.0229298956481, 38.07489828305283, 35.64661325691556, 34.94545612694872, 35.96456910333386, 33.6564601910501, 32.26768084986106, 32.50288668349998, 29.320899062724067, 28.80480460331972, 27.55087885280466, 91.6146423826317, 25.43078910217281, 25.18733634293516, 62.53580206063822, 23.372177764929667, 22.351563350047428, 22.048372869532347, 21.6969508134908, 236.14675462801353, 58.63099753372263, 99.09281193993158, 117.30842979950201, 139.6970799011096, 86.38890400368886, 99.14531101869859, 193.78478313531915, 99.87877471066895, 492.5048342832205, 389.56277348212956, 170.4806022240827, 60.099028413924636, 255.26126296421077, 143.6144818632204, 676.8240608601178, 75.8959826605563, 176.86054886506224, 399.32631309291315, 104.73180478599912, 239.70737574139798, 380.319537241269, 942.6065063902944, 297.61555881034434, 150.25490244913158, 131.00441993645518, 281.6157028507139, 943.6304727971385, 589.8800005824658, 498.1957500462903, 471.12606880430855, 676.5842994423559, 555.5938444098207, 793.9177092722683, 448.713727712171, 364.82953561616716, 516.3180101690652, 511.1644677888807, 539.8900574736386, 273.3525665989479, 336.31472348276844, 246.82547349209494, 299.94719758317297, 297.83580885173404, 362.3405167924812, 349.08418690929443, 351.62199393936436, 415.43716319861244, 317.4748782956413, 301.58087985346515, 91.6035243597034, 90.66924156505871, 81.55391774118588, 65.05185026664233, 46.50868522259771, 110.74981293863904, 45.52342153321969, 43.99842205859697, 44.61282455249978, 41.53073922065758, 38.59775571150657, 50.07553118959989, 34.394650131897905, 35.859188370772564, 34.38783162520997, 31.512027926665187, 29.973268122048072, 30.63560468788984, 73.04348900069952, 28.602402389697016, 28.326840878565513, 27.42024116091939, 26.014386593852528, 26.781166320143566, 28.629796725344878, 24.544219402500378, 25.211511191001325, 24.192320392915807, 24.5115525294798, 23.523878150595653, 637.3261750324162, 130.83345820451538, 54.83124861406112, 171.78164971924187, 130.1534242000535, 50.48913212042382, 91.5255401332346, 227.50412257402422, 58.06632475366179, 451.4569190286465, 54.035970718000264, 867.1963404812103, 80.07869607233525, 394.77521131416296, 98.21313269584904, 78.00374057174194, 239.92524612208533, 236.71283016306995, 141.0584751935844, 65.33739741615229, 108.84630964591472, 262.67385374604584, 438.45826465562277, 106.23020473054723, 233.42209311267666, 263.93074484565204, 549.4260893449315, 339.5713299561312, 217.64627630504174, 640.2993928441541, 137.34763150880917, 129.44616429239832, 218.65735226808357, 291.06222961725734, 340.4105566919468, 176.44373975301554, 262.59601389025244, 209.01497923206253, 215.90348163576235, 231.0992651933952, 225.8184505686254, 141.99397310807996, 162.3891101369158, 155.54305271176918, 154.59536750609607, 77.3536104680002, 79.99194888078624, 71.11169126522168, 64.02911620393657, 65.8268450003254, 64.1998472097876, 58.629358297225664, 56.37443376537558, 61.939322244690125, 57.303535365093765, 49.18087250356117, 48.14413982524997, 46.28111717041355, 47.01353566489302, 51.83107458640982, 45.22038483733302, 44.104213353115455, 39.204509910244816, 41.57004299873091, 37.56388354246966, 35.89218247718971, 34.603897861851806, 33.53312842202927, 32.25756295577753, 32.20390669485778, 32.171611719466505, 30.043963455678618, 28.575971727257393, 33.955717076630144, 27.753630313072197, 34.53507932706687, 68.89932488803963, 82.25671784392257, 199.23624513397314, 269.45055174850063, 183.24862154848248, 74.63049999269236, 162.84044755052074, 69.27747230651819, 120.8228425891165, 151.4834574184364, 185.1707929992308, 110.1089466102218, 90.68204044937345, 264.38687635476697, 283.2000777919441, 202.98524708194813, 220.1335887170278, 98.11399006107712, 157.30786689162784, 82.08044806097, 200.50426542937734, 141.70017875284518, 107.27664823863843, 110.15203398014165, 186.69663874450126, 132.77758905514736, 133.29932336126961, 102.45674069351884, 184.79709509927724, 110.18257432438249, 115.85990306166579, 116.884792621963, 110.01819903956543, 100.12753591996457, 84.58423221147832, 86.23971514139552], \"Total\": [658.0, 1477.0, 3773.0, 645.0, 417.0, 365.0, 638.0, 1476.0, 397.0, 232.0, 572.0, 275.0, 461.0, 431.0, 364.0, 1001.0, 258.0, 239.0, 279.0, 411.0, 874.0, 187.0, 370.0, 244.0, 350.0, 403.0, 134.0, 2459.0, 1630.0, 607.0, 134.1939623327498, 113.65843976278933, 110.77685253871286, 94.98895714641867, 84.73635064510191, 80.31170307070212, 70.26497704707413, 65.38822791672011, 58.7522945310389, 52.61232586427308, 47.55862432433306, 45.250127732772015, 39.86845492515252, 42.06316824680995, 36.5577983811299, 37.08265981222473, 35.42255970086183, 31.898850492653594, 31.60560690178424, 74.90769933243033, 28.982333136534184, 24.71304381315207, 23.986306525120188, 24.93455202946967, 23.423938818204224, 24.18397951851391, 33.70056636678766, 23.41049905258792, 31.908118682065247, 22.294771662643523, 112.98804171148304, 112.4520886406222, 397.6193550188379, 56.277218326261206, 61.77913615589534, 114.68956127076802, 126.34787033716935, 431.51607757455554, 70.52266273176782, 350.452278290549, 72.7371277632012, 283.6634882898015, 3773.8714451897836, 97.21345094976887, 491.99486639862357, 200.30397135749445, 109.5173852336946, 756.5528780566898, 583.04422602787, 521.7610046147045, 1278.8552112984157, 1630.72324451899, 1415.6365878449683, 705.4576542048295, 2459.6671208202984, 662.0077744993639, 804.0040199064739, 715.127060229119, 1289.3052394457777, 370.7377414037156, 1394.033661799592, 711.2063154386486, 1156.29434523796, 1041.866504152456, 746.0460091675603, 466.1040770893629, 492.61920265370634, 359.36359392321276, 1260.712770912624, 1979.1853254778093, 753.9115719520344, 1695.7674593279658, 657.8855341796608, 806.3549643431916, 1476.9362736269345, 1105.4456277558627, 101.42552514533078, 63.75685478771253, 417.79953708598447, 58.199263374972496, 51.24493767923246, 51.6292573342301, 125.79242654683216, 58.8438147719723, 48.98413695766701, 44.326564026780495, 43.111051012411366, 36.676024363946595, 38.79763077474986, 36.32543028977193, 35.610980841896826, 36.668869112339536, 34.33528454727265, 32.924782550948876, 33.17769431301605, 29.975372412906182, 29.467469999106058, 28.229435219097834, 93.94684656895643, 26.10017092711271, 25.862570343041984, 64.25505272047536, 24.04364616807336, 22.99849349217595, 22.702817630052486, 22.35786217079623, 244.51288387657172, 60.64583413705413, 103.88454941924014, 123.64776361036705, 147.98169186007797, 90.76162867441967, 104.81024710216732, 210.0390170564568, 106.96001708457247, 572.6605812764818, 461.41665480144394, 193.2668338072187, 63.890593135187146, 313.68261619228923, 169.10640290907364, 1001.7615850643709, 84.73589664797898, 223.1780279396543, 569.7313109024379, 123.5847878193216, 329.4625375710971, 571.9999011671523, 1695.7674593279658, 440.71138082572065, 191.63261044171713, 162.7415415462131, 423.3916296553711, 1979.1853254778093, 1105.4456277558627, 922.6428649092587, 874.0933470242898, 1476.9362736269345, 1289.3052394457777, 2459.6671208202984, 1075.4536413312892, 788.4274701955792, 1415.6365878449683, 1394.033661799592, 1630.72324451899, 515.3863655402472, 806.3549643431916, 475.70247348567017, 716.6702306538721, 753.9115719520344, 1260.712770912624, 1156.29434523796, 1278.8552112984157, 3773.8714451897836, 1477.8930220685572, 1041.866504152456, 92.24246989488188, 91.34274078610063, 82.20031176300905, 65.90742436938959, 47.16472885092845, 112.35099862470713, 46.18237228760868, 44.64547664751313, 45.31429035191023, 42.199697495169076, 39.23760850526799, 50.99444162598011, 35.02772754655242, 36.5247492832766, 35.040206030294115, 32.148574971843864, 30.60174281292897, 31.29483064063017, 74.64715420541054, 29.230899127601013, 28.98747432402529, 28.06523128707391, 26.642861890265994, 27.428873737982446, 29.34218004880422, 25.173988323962384, 25.8595036429849, 24.83336092529376, 25.161163499652176, 24.165224050688348, 658.2252080595703, 134.6985379111814, 56.89646184588328, 187.18975631958216, 140.96617300333415, 53.357052740694925, 100.27448904957946, 275.49266147038526, 63.005411969332684, 645.2369881706354, 60.720383822809026, 1477.8930220685572, 96.1956460341456, 638.6944623800287, 123.11820231816482, 93.6679958143601, 364.69004304866905, 411.29124136646186, 212.71269200077003, 78.43878957268369, 162.6901480609366, 625.9839891316093, 1476.9362736269345, 173.41849240220847, 607.5596012811935, 746.0460091675603, 2459.6671208202984, 1156.29434523796, 574.9230535738313, 3773.8714451897836, 269.18721199218356, 243.5944683721032, 716.6702306538721, 1394.033661799592, 1979.1853254778093, 508.6422456907143, 1630.72324451899, 922.6428649092587, 1041.866504152456, 1278.8552112984157, 1260.712770912624, 370.7377414037156, 874.0933470242898, 806.3549643431916, 1075.4536413312892, 78.03116490962988, 80.72804215140705, 71.80939217427719, 64.71179695599801, 66.54339002463465, 64.9038011256256, 59.33570670059957, 57.05904933808482, 62.71744639901343, 58.054882593556776, 49.881368987212745, 48.867276069749174, 46.97782466477418, 47.73083731681886, 52.625684785230305, 45.92283919179408, 44.81206676243167, 39.884217904529635, 42.29542198231625, 38.247297066239724, 36.57017007709947, 35.29469797395193, 34.21813495800171, 32.93579700598076, 32.88223226333126, 32.908747469916754, 30.745626424749435, 29.262759052421092, 34.782826797271674, 28.434831378105883, 35.42900132203176, 71.51628327968065, 87.77300676294517, 232.39888872431925, 365.3902443265407, 258.0136959634729, 88.90882063392517, 239.67162193791938, 83.65186265517147, 194.67021720484252, 279.9119921134206, 403.77841645041406, 194.28545765697982, 164.75033537136974, 1260.712770912624, 1477.8930220685572, 874.0933470242898, 1075.4536413312892, 226.41844027232418, 715.127060229119, 164.04143774850792, 1695.7674593279658, 705.4576542048295, 358.9865714848865, 392.97226676505926, 1979.1853254778093, 711.2063154386486, 788.4274701955792, 324.01854471214403, 3773.8714451897836, 583.04422602787, 756.5528780566898, 1001.7615850643709, 1041.866504152456, 922.6428649092587, 221.6903938042612, 1289.3052394457777], \"Category\": [\"Default\", \"Default\", \"Default\", \"Default\", \"Default\", \"Default\", \"Default\", \"Default\", \"Default\", \"Default\", \"Default\", \"Default\", \"Default\", \"Default\", \"Default\", \"Default\", \"Default\", \"Default\", \"Default\", \"Default\", \"Default\", \"Default\", \"Default\", \"Default\", \"Default\", \"Default\", \"Default\", \"Default\", \"Default\", \"Default\", \"Topic1\", \"Topic1\", \"Topic1\", \"Topic1\", \"Topic1\", \"Topic1\", \"Topic1\", \"Topic1\", \"Topic1\", \"Topic1\", \"Topic1\", \"Topic1\", \"Topic1\", \"Topic1\", \"Topic1\", \"Topic1\", \"Topic1\", \"Topic1\", \"Topic1\", \"Topic1\", \"Topic1\", \"Topic1\", \"Topic1\", \"Topic1\", \"Topic1\", \"Topic1\", \"Topic1\", \"Topic1\", \"Topic1\", \"Topic1\", \"Topic1\", \"Topic1\", \"Topic1\", \"Topic1\", \"Topic1\", \"Topic1\", \"Topic1\", \"Topic1\", \"Topic1\", \"Topic1\", \"Topic1\", \"Topic1\", \"Topic1\", \"Topic1\", \"Topic1\", \"Topic1\", \"Topic1\", \"Topic1\", \"Topic1\", \"Topic1\", \"Topic1\", \"Topic1\", \"Topic1\", \"Topic1\", \"Topic1\", \"Topic1\", \"Topic1\", \"Topic1\", \"Topic1\", \"Topic1\", \"Topic1\", \"Topic1\", \"Topic1\", \"Topic1\", \"Topic1\", \"Topic1\", \"Topic1\", \"Topic1\", \"Topic1\", \"Topic1\", \"Topic1\", \"Topic1\", \"Topic1\", \"Topic1\", \"Topic1\", \"Topic1\", \"Topic2\", \"Topic2\", \"Topic2\", \"Topic2\", \"Topic2\", \"Topic2\", \"Topic2\", \"Topic2\", \"Topic2\", \"Topic2\", \"Topic2\", \"Topic2\", \"Topic2\", \"Topic2\", \"Topic2\", \"Topic2\", \"Topic2\", \"Topic2\", \"Topic2\", \"Topic2\", \"Topic2\", \"Topic2\", \"Topic2\", \"Topic2\", \"Topic2\", \"Topic2\", \"Topic2\", \"Topic2\", \"Topic2\", \"Topic2\", \"Topic2\", \"Topic2\", \"Topic2\", \"Topic2\", \"Topic2\", \"Topic2\", \"Topic2\", \"Topic2\", \"Topic2\", \"Topic2\", \"Topic2\", \"Topic2\", \"Topic2\", \"Topic2\", \"Topic2\", \"Topic2\", \"Topic2\", \"Topic2\", \"Topic2\", \"Topic2\", \"Topic2\", \"Topic2\", \"Topic2\", \"Topic2\", \"Topic2\", \"Topic2\", \"Topic2\", \"Topic2\", \"Topic2\", \"Topic2\", \"Topic2\", \"Topic2\", \"Topic2\", \"Topic2\", \"Topic2\", \"Topic2\", \"Topic2\", \"Topic2\", \"Topic2\", \"Topic2\", \"Topic2\", \"Topic2\", \"Topic2\", \"Topic2\", \"Topic2\", \"Topic2\", \"Topic2\", \"Topic2\", \"Topic2\", \"Topic2\", \"Topic3\", \"Topic3\", \"Topic3\", \"Topic3\", \"Topic3\", \"Topic3\", \"Topic3\", \"Topic3\", \"Topic3\", \"Topic3\", \"Topic3\", \"Topic3\", \"Topic3\", \"Topic3\", \"Topic3\", \"Topic3\", \"Topic3\", \"Topic3\", \"Topic3\", \"Topic3\", \"Topic3\", \"Topic3\", \"Topic3\", \"Topic3\", \"Topic3\", \"Topic3\", \"Topic3\", \"Topic3\", \"Topic3\", \"Topic3\", \"Topic3\", \"Topic3\", \"Topic3\", \"Topic3\", \"Topic3\", \"Topic3\", \"Topic3\", \"Topic3\", \"Topic3\", \"Topic3\", \"Topic3\", \"Topic3\", \"Topic3\", \"Topic3\", \"Topic3\", \"Topic3\", \"Topic3\", \"Topic3\", \"Topic3\", \"Topic3\", \"Topic3\", \"Topic3\", \"Topic3\", \"Topic3\", \"Topic3\", \"Topic3\", \"Topic3\", \"Topic3\", \"Topic3\", \"Topic3\", \"Topic3\", \"Topic3\", \"Topic3\", \"Topic3\", \"Topic3\", \"Topic3\", \"Topic3\", \"Topic3\", \"Topic3\", \"Topic3\", \"Topic3\", \"Topic3\", \"Topic3\", \"Topic3\", \"Topic3\", \"Topic4\", \"Topic4\", \"Topic4\", \"Topic4\", \"Topic4\", \"Topic4\", \"Topic4\", \"Topic4\", \"Topic4\", \"Topic4\", \"Topic4\", \"Topic4\", \"Topic4\", \"Topic4\", \"Topic4\", \"Topic4\", \"Topic4\", \"Topic4\", \"Topic4\", \"Topic4\", \"Topic4\", \"Topic4\", \"Topic4\", \"Topic4\", \"Topic4\", \"Topic4\", \"Topic4\", \"Topic4\", \"Topic4\", \"Topic4\", \"Topic4\", \"Topic4\", \"Topic4\", \"Topic4\", \"Topic4\", \"Topic4\", \"Topic4\", \"Topic4\", \"Topic4\", \"Topic4\", \"Topic4\", \"Topic4\", \"Topic4\", \"Topic4\", \"Topic4\", \"Topic4\", \"Topic4\", \"Topic4\", \"Topic4\", \"Topic4\", \"Topic4\", \"Topic4\", \"Topic4\", \"Topic4\", \"Topic4\", \"Topic4\", \"Topic4\", \"Topic4\", \"Topic4\", \"Topic4\", \"Topic4\", \"Topic4\", \"Topic4\", \"Topic4\", \"Topic4\", \"Topic4\", \"Topic4\"], \"logprob\": [30.0, 29.0, 28.0, 27.0, 26.0, 25.0, 24.0, 23.0, 22.0, 21.0, 20.0, 19.0, 18.0, 17.0, 16.0, 15.0, 14.0, 13.0, 12.0, 11.0, 10.0, 9.0, 8.0, 7.0, 6.0, 5.0, 4.0, 3.0, 2.0, 1.0, -5.7585, -5.9253, -5.9514, -6.106, -6.2211, -6.2752, -6.41, -6.4827, -6.591, -6.7028, -6.8049, -6.8559, -6.9842, -6.931, -7.0725, -7.0586, -7.1058, -7.2116, -7.2208, -6.3589, -7.3101, -7.4736, -7.5039, -7.4655, -7.5282, -7.4963, -7.1652, -7.5297, -7.2203, -7.5793, -5.9578, -5.9745, -4.7251, -6.6623, -6.573, -5.9706, -5.8847, -4.7098, -6.4562, -4.9598, -6.4452, -5.1869, -2.8152, -6.1968, -4.7665, -5.5882, -6.1161, -4.5133, -4.7299, -4.8366, -4.1426, -3.9599, -4.0816, -4.6475, -3.714, -4.7403, -4.6047, -4.6983, -4.3258, -5.2226, -4.3165, -4.8192, -4.557, -4.6258, -4.849, -5.1361, -5.1114, -5.307, -4.6409, -4.4212, -4.9342, -4.5486, -5.0011, -4.9331, -4.7654, -4.881, -6.0342, -6.4993, -4.6194, -6.592, -6.7202, -6.7134, -5.8231, -6.5835, -6.7672, -6.8674, -6.8968, -7.0599, -7.0045, -7.0704, -7.0903, -7.0615, -7.1278, -7.17, -7.1627, -7.2657, -7.2835, -7.328, -6.1265, -7.4081, -7.4177, -6.5083, -7.4925, -7.5372, -7.5508, -7.5669, -5.1796, -6.5728, -6.048, -5.8792, -5.7046, -6.1852, -6.0475, -5.3773, -6.0401, -4.4445, -4.679, -5.5054, -6.5481, -5.1018, -5.6769, -4.1266, -6.3147, -5.4687, -4.6543, -5.9926, -5.1646, -4.703, -3.7954, -4.9482, -5.6317, -5.7688, -5.0035, -3.7943, -4.2641, -4.4331, -4.4889, -4.127, -4.324, -3.9671, -4.5377, -4.7446, -4.3973, -4.4074, -4.3527, -5.0333, -4.826, -5.1354, -4.9404, -4.9475, -4.7515, -4.7887, -4.7815, -4.6147, -4.8837, -4.935, -5.6421, -5.6523, -5.7583, -5.9843, -6.3199, -5.4523, -6.3413, -6.3754, -6.3615, -6.4331, -6.5063, -6.246, -6.6216, -6.5799, -6.6218, -6.7092, -6.7592, -6.7374, -5.8685, -6.806, -6.8157, -6.8482, -6.9009, -6.8718, -6.8051, -6.9591, -6.9322, -6.9735, -6.9604, -7.0015, -3.7022, -5.2856, -6.1553, -5.0133, -5.2908, -6.2378, -5.6429, -4.7324, -6.0979, -4.047, -6.1699, -3.3943, -5.7765, -4.1812, -5.5724, -5.8028, -4.6792, -4.6927, -5.2104, -5.98, -5.4696, -4.5886, -4.0763, -5.4939, -4.7067, -4.5838, -3.8507, -4.3318, -4.7767, -3.6976, -5.237, -5.2963, -4.772, -4.486, -4.3294, -4.9865, -4.5889, -4.8171, -4.7847, -4.7167, -4.7398, -5.2037, -5.0695, -5.1126, -5.1187, -5.6535, -5.6199, -5.7376, -5.8425, -5.8148, -5.8399, -5.9306, -5.9698, -5.8757, -5.9535, -6.1064, -6.1277, -6.1671, -6.1514, -6.0539, -6.1903, -6.2153, -6.3331, -6.2745, -6.3758, -6.4213, -6.4579, -6.4893, -6.5281, -6.5298, -6.5308, -6.5992, -6.6493, -6.4768, -6.6785, -6.4599, -5.7692, -5.592, -4.7074, -4.4055, -4.791, -5.6893, -4.9091, -5.7637, -5.2075, -4.9814, -4.7806, -5.3004, -5.4945, -4.4245, -4.3557, -4.6887, -4.6076, -5.4157, -4.9437, -5.5942, -4.701, -5.0482, -5.3265, -5.3, -4.7724, -5.1132, -5.1093, -5.3724, -4.7826, -5.2997, -5.2495, -5.2407, -5.3012, -5.3954, -5.5641, -5.5447], \"loglift\": [30.0, 29.0, 28.0, 27.0, 26.0, 25.0, 24.0, 23.0, 22.0, 21.0, 20.0, 19.0, 18.0, 17.0, 16.0, 15.0, 14.0, 13.0, 12.0, 11.0, 10.0, 9.0, 8.0, 7.0, 6.0, 5.0, 4.0, 3.0, 2.0, 1.0, 1.1339, 1.1331, 1.1327, 1.1319, 1.1311, 1.1305, 1.1294, 1.1287, 1.1273, 1.1259, 1.1248, 1.1235, 1.1218, 1.1215, 1.1203, 1.1199, 1.1185, 1.1175, 1.1175, 1.1165, 1.1149, 1.1107, 1.1103, 1.1099, 1.1097, 1.1096, 1.1089, 1.1088, 1.1085, 1.108, 1.1066, 1.0946, 1.0811, 1.0991, 1.0951, 1.0788, 1.0679, 1.0146, 1.0795, 0.9727, 1.0596, 0.957, 0.7406, 1.0179, 0.8267, 0.9036, 0.9795, 0.6496, 0.6935, 0.6978, 0.4953, 0.435, 0.4547, 0.5853, 0.2699, 0.5561, 0.4974, 0.5209, 0.304, 0.6536, 0.2352, 0.4055, 0.1817, 0.2171, 0.3279, 0.5112, 0.4806, 0.6003, 0.0114, -0.22, 0.2322, -0.1928, 0.3016, 0.166, -0.2715, -0.0973, 1.1381, 1.1373, 1.1373, 1.1357, 1.1348, 1.1342, 1.134, 1.1333, 1.1329, 1.1327, 1.131, 1.1296, 1.1288, 1.1287, 1.1287, 1.1282, 1.1276, 1.1275, 1.1271, 1.1255, 1.1249, 1.1233, 1.1225, 1.1216, 1.1212, 1.1205, 1.1193, 1.1191, 1.1184, 1.1176, 1.1128, 1.1138, 1.1004, 1.095, 1.09, 1.0982, 1.092, 1.0671, 1.0791, 0.9968, 0.9783, 1.0222, 1.0864, 0.9415, 0.9842, 0.7555, 1.0374, 0.915, 0.7922, 0.9821, 0.8296, 0.7395, 0.5604, 0.755, 0.9044, 0.9307, 0.7399, 0.4069, 0.5195, 0.5314, 0.5296, 0.3669, 0.3058, 0.0168, 0.2735, 0.377, 0.139, 0.1443, 0.0422, 0.5135, 0.2731, 0.4915, 0.2766, 0.2189, -0.0992, -0.0501, -0.1436, -1.0589, -0.3904, -0.0921, 1.6252, 1.6247, 1.6242, 1.6191, 1.6181, 1.6178, 1.6178, 1.6175, 1.6165, 1.6162, 1.6157, 1.6139, 1.6139, 1.6137, 1.6133, 1.6121, 1.6114, 1.6108, 1.6104, 1.6104, 1.6091, 1.6089, 1.6083, 1.6082, 1.6076, 1.6068, 1.6068, 1.606, 1.606, 1.6052, 1.5999, 1.603, 1.5952, 1.5462, 1.5523, 1.5769, 1.5408, 1.4407, 1.5505, 1.275, 1.5155, 1.099, 1.4488, 1.151, 1.4061, 1.4491, 1.2134, 1.0797, 1.2214, 1.4494, 1.2302, 0.7637, 0.4177, 1.142, 0.6755, 0.593, 0.1332, 0.4068, 0.6608, -0.1418, 0.9592, 0.9999, 0.445, 0.0657, -0.1282, 0.5734, -0.194, 0.1473, 0.0582, -0.0787, -0.0876, 0.6724, -0.0511, -0.0135, -0.3076, 1.7811, 1.7806, 1.78, 1.7792, 1.779, 1.7789, 1.7778, 1.7777, 1.7773, 1.7768, 1.7757, 1.7749, 1.7749, 1.7747, 1.7746, 1.7744, 1.7739, 1.7726, 1.7725, 1.7718, 1.7711, 1.77, 1.7696, 1.769, 1.769, 1.7671, 1.7667, 1.766, 1.7657, 1.7655, 1.7642, 1.7525, 1.7249, 1.6358, 1.4852, 1.4476, 1.6147, 1.4033, 1.6013, 1.3128, 1.1758, 1.0102, 1.2219, 1.1927, 0.2278, 0.1376, 0.3297, 0.2035, 0.9535, 0.2755, 1.0974, -0.3453, 0.1847, 0.5819, 0.5179, -0.5712, 0.1115, 0.0124, 0.6384, -1.2268, 0.1237, -0.0866, -0.3585, -0.4583, -0.431, 0.8263, -0.9149]}, \"token.table\": {\"Topic\": [1, 2, 3, 4, 2, 2, 3, 4, 2, 4, 2, 4, 1, 2, 3, 4, 3, 1, 2, 3, 4, 1, 4, 1, 2, 3, 4, 1, 2, 4, 1, 2, 3, 4, 2, 4, 2, 2, 4, 3, 3, 1, 1, 3, 4, 1, 2, 3, 4, 1, 2, 3, 4, 3, 4, 1, 2, 3, 2, 3, 1, 2, 3, 4, 4, 4, 3, 3, 4, 3, 2, 1, 2, 3, 4, 1, 2, 3, 4, 2, 4, 4, 1, 2, 3, 4, 4, 4, 1, 2, 3, 4, 1, 3, 1, 1, 3, 4, 3, 4, 2, 3, 4, 1, 1, 1, 2, 3, 4, 1, 2, 3, 4, 1, 2, 3, 4, 1, 1, 2, 1, 4, 1, 2, 3, 4, 3, 1, 2, 3, 4, 1, 1, 2, 3, 4, 1, 3, 3, 1, 2, 3, 1, 2, 3, 1, 2, 3, 4, 3, 4, 1, 2, 3, 2, 1, 2, 3, 4, 1, 2, 3, 4, 1, 2, 3, 1, 2, 3, 4, 4, 1, 4, 1, 3, 4, 4, 1, 3, 1, 2, 3, 4, 1, 2, 3, 4, 1, 1, 1, 2, 3, 4, 3, 3, 1, 2, 3, 4, 4, 1, 2, 3, 4, 1, 2, 3, 4, 2, 3, 1, 2, 3, 4, 2, 4, 1, 2, 3, 4, 3, 1, 2, 3, 1, 4, 2, 1, 2, 4, 1, 2, 4, 1, 1, 2, 3, 4, 1, 1, 1, 2, 3, 4, 2, 3, 4, 1, 2, 3, 4, 2, 3, 4, 4, 1, 3, 1, 2, 4, 1, 2, 3, 4, 4, 1, 1, 2, 3, 4, 2, 3, 1, 2, 3, 4, 1, 4, 1, 3, 1, 1, 2, 3, 4, 1, 2, 3, 4, 4, 2, 4, 1, 1, 2, 3, 4, 3, 3, 1, 2, 3, 4, 2, 1, 2, 3, 4, 2, 2, 1, 2, 3, 4, 3, 2, 3, 4, 4, 2, 1, 2, 3, 4, 1, 2, 3, 4, 3, 1, 2, 3, 4, 2, 1, 4, 1, 2, 3, 4, 2, 1, 1, 2, 4, 2, 4, 1, 2, 3, 4, 1, 2, 3, 4, 1, 2, 3, 4, 1, 2, 4, 4, 3, 1, 2, 3, 4, 1, 3, 4, 4, 3, 1, 2, 1, 3, 1, 1, 2, 4, 4, 3, 1, 2, 3, 1, 3, 1, 2, 3, 4, 3, 2, 4, 4, 2, 3, 4, 1, 2, 4, 1, 2, 3, 4, 1, 2, 4, 4, 1, 2, 3, 4, 1, 2, 3, 4, 2, 1, 1, 3, 2, 4, 1, 2, 3, 4, 1, 2, 3, 4, 1, 2, 3, 4, 1, 2, 3, 4, 1, 2, 3, 4, 3, 3, 2, 4, 2, 2, 3, 2, 3, 1, 2, 1, 3, 1, 2, 3, 4, 1, 2, 4, 1, 1, 2, 3, 4, 4, 3, 3, 2, 1, 2, 3, 4, 1, 2, 3, 1, 2, 1, 2, 3, 4, 4, 1, 2, 4, 1, 2, 3, 4, 3, 4, 1, 2, 3, 4, 1, 2, 3, 4, 1, 3, 1, 4, 1, 2, 1, 2, 3, 4, 1, 2, 3, 4, 1, 2, 3, 4, 3, 1, 2, 3, 4, 1, 3, 4, 2, 2, 4, 2, 1, 1, 2, 3, 4, 1, 1, 1, 2, 3, 4, 2, 1, 2, 3, 4, 4, 1, 2, 3], \"Freq\": [0.10801850872793028, 0.3024518244382048, 0.27467563647959414, 0.314796796864254, 0.9946441632941824, 0.952980982768401, 0.009626070533014152, 0.03850428213205661, 0.9578481332484355, 0.9846883616985841, 0.980467641573105, 0.015562978437668332, 0.23431972361733108, 0.4174982377150066, 0.14412522682812032, 0.20456483807862239, 0.9952677979458991, 0.3409151864438669, 0.20176613075249267, 0.3791811767589948, 0.07827134382639801, 0.15746469135659621, 0.843560846553194, 0.011532795449296215, 0.16722553401479512, 0.6112381588126994, 0.20759031808733186, 0.8319717191057503, 0.16216397914773098, 0.003525303894515891, 0.5843663730858387, 0.26713891341066914, 0.00834809104408341, 0.14191754774941798, 0.9728615467084731, 0.032978357515541463, 0.9918724828422137, 0.8515348769935516, 0.14783591614471384, 0.9804990192210777, 0.9703139293931433, 0.9588804335470633, 0.01139302431214156, 0.05696512156070781, 0.934227993595608, 0.29038063197341873, 0.533721410792265, 0.11579040776510155, 0.05970442900388049, 0.020354020217361598, 0.27086503827719666, 0.6184490758352178, 0.08924455018381623, 0.8327283969498783, 0.16014007633651506, 0.05342172668320252, 0.02671086334160126, 0.9188536989510834, 0.16573432699332794, 0.8286716349666396, 0.18152469729760848, 0.6761794974335916, 0.03403588074330159, 0.10891481837856509, 0.9778303812639331, 0.9918340495662532, 0.9856330489990013, 0.9779341326143797, 0.0133963579810189, 0.9939443683160228, 0.9878120010490079, 0.5589058229411406, 0.17069285943878076, 0.15105562782192988, 0.1193339459793246, 0.006069790375514948, 0.43702490703707625, 0.006069790375514948, 0.5523509241718603, 0.14199723665264985, 0.8562863664811309, 0.9936251651859622, 0.933929473327153, 0.047487939321719644, 0.023743969660859822, 0.9935342603214173, 0.991020701364817, 0.9814394149504706, 0.19715202435562912, 0.7930888252487808, 0.008961455652528596, 0.004480727826264298, 0.07093900463456207, 0.922207060249307, 0.9808386244989319, 0.06348660972087547, 0.9205558409526943, 0.015871652430218867, 0.02796565912379068, 0.9648152397707784, 0.9926327692220133, 0.9666681936915468, 0.03515157067969261, 0.9718218531774178, 0.9510428166874884, 0.006766389617296749, 0.21449455086830693, 0.5866459798196281, 0.19148882616949797, 0.05664127538280726, 0.8496191307421089, 0.008091610768972466, 0.08900771845869714, 0.6711940342399815, 0.10996664990508974, 0.16958712274519863, 0.04902127766853398, 0.9961188337591631, 0.9550149722248886, 0.032373388888979275, 0.9358693708294917, 0.05671935580784799, 0.22125440769821475, 0.007294101352688398, 0.5762340068623835, 0.19694073652258676, 0.9953784896539275, 0.39736376815068386, 0.2898643912596776, 0.20732022686122636, 0.10557974516080972, 0.9871954867968354, 0.11759929411966834, 0.700330124682801, 0.1351514275703651, 0.04739076031688127, 0.03038473725270937, 0.9677538814987934, 0.9843641506363217, 0.3073326848364057, 0.02458661478691245, 0.6699852529433643, 0.15245415168532497, 0.021779164526475, 0.8276082520060499, 0.04347361769697126, 0.5388440509282489, 0.1853348964976143, 0.23224064190750435, 0.8893224416627522, 0.09881360462919468, 0.9416724486810548, 0.008719189339639397, 0.05231513603783638, 0.9565936813086537, 0.12464194367482609, 0.5397538082614208, 0.22652318459164045, 0.10838429884767486, 0.39409761905329893, 0.004105183531805197, 0.5295686756028705, 0.06978812004068835, 0.04158192355795563, 0.1247457706738669, 0.8316384711591126, 0.6397456373784076, 0.09776273815166014, 0.07375083755300677, 0.1886649332751336, 0.9887286029059702, 0.9745326668762818, 0.013349762559949066, 0.8846512407468904, 0.0925797810083955, 0.010286642334266167, 0.9715872366528483, 0.9715395730123169, 0.03133998622620377, 0.06315113505712443, 0.33379885673051485, 0.2255397680611587, 0.38341760570396977, 0.3754111188901685, 0.0044166013987078645, 0.1854972587457303, 0.4328269370733707, 0.9940627246051909, 0.9913100972664501, 0.4191624107477445, 0.3228079089560709, 0.22320093453007928, 0.03455752173962976, 0.9620444500821012, 0.9855421714363288, 0.4052986778458619, 0.36656216704289457, 0.20874675266043505, 0.019368255401483667, 0.979904570186963, 0.5254699625595001, 0.2752461708645, 0.18063029962982813, 0.018766784377125, 0.25667126441398813, 0.47696392442284413, 0.1717878541353464, 0.09448331977444052, 0.9674608742313331, 0.9935947517031792, 0.006501715897730122, 0.8452230667049159, 0.006501715897730122, 0.1430377497500627, 0.9349287960652696, 0.06544501572456887, 0.2246500456048071, 0.41860256944995117, 0.30557987569846434, 0.05162765023216064, 0.9973713854891549, 0.04720549564274191, 0.8969044172120962, 0.04720549564274191, 0.9604090177920099, 0.03557070436266704, 0.9565843957337625, 0.031303512799891645, 0.9391053839967493, 0.031303512799891645, 0.8491802447762167, 0.045654851869689074, 0.10044067411331596, 0.9880708874674703, 0.19092777030497843, 0.41312819264266887, 0.38350146966431015, 0.011521503380472836, 0.9661057951440118, 0.9895887145608487, 0.1996483025321324, 0.6758095040712682, 0.007985932101285296, 0.11679425698129745, 0.8129235948596002, 0.0924501343173663, 0.0924501343173663, 0.2080348938371638, 0.30214591723969025, 0.029719270548166258, 0.4581720876175631, 0.9651843136377674, 0.02862834828586598, 0.004089764040837997, 0.9930152728482112, 0.9647038602397715, 0.026551482391920317, 0.012517126457203476, 0.3045834104586179, 0.6800972041747223, 0.006096020698947427, 0.24384082795789705, 0.24993684865684448, 0.49987369731368897, 0.9818295628820399, 0.9782169906814066, 0.16773591948519373, 0.3514466884451678, 0.42013854118672334, 0.060704428004165346, 0.7827477779186272, 0.2139510592977581, 0.5383658672860878, 0.23212658173893655, 0.008390117412250719, 0.2195414056205605, 0.9711470663612634, 0.972385838423432, 0.6149899903277422, 0.3830200816953482, 0.9847420138566709, 0.18706296938455588, 0.6643357791227218, 0.008741260251614761, 0.13986016402583618, 0.44367236863759985, 0.15816718881944647, 0.3538655749858802, 0.04289279696798548, 0.9822524163509483, 0.9815676760044051, 0.9909815457924571, 0.974724484837383, 0.4032303141506113, 0.395271821108165, 0.1459057057781817, 0.05438303579004955, 0.9921008544214438, 0.9975631264807538, 0.15135510957600454, 0.5192321120176823, 0.19970465846833932, 0.1282314122796705, 0.9719122654943024, 0.613308089173949, 0.22602517941539926, 0.007930708049663133, 0.15332702229348724, 0.9910412543725997, 0.9841360660036224, 0.24374782204782783, 0.4583813209066096, 0.29655985015819053, 0.001354154566932377, 0.966441879220426, 0.45728658866510546, 0.0035725514739461364, 0.5394552725658666, 0.9878912386456408, 0.9690427134858299, 0.3236264511738473, 0.2871391552081684, 0.17926367148355266, 0.20940535075954825, 0.20335022476759507, 0.4930546545734839, 0.005571239034728632, 0.2980612883579818, 0.9706595997360504, 0.29280287872706035, 0.06677960392020675, 0.02054757043698669, 0.6215640057188474, 0.9839939003084262, 0.9708041489551453, 0.9844088754332452, 0.43356684119292993, 0.43124000662481043, 0.06825381399817143, 0.06670259095275845, 0.9794412504366382, 0.9819014717595337, 0.030104799377647196, 0.23262799519091015, 0.736199184780645, 0.8796128991773774, 0.11383225754060178, 0.2595603013913989, 0.3893404520870984, 0.0687071386036056, 0.27991797208876357, 0.6439730011025258, 0.20315814915734443, 0.10732883351708762, 0.0479146578201284, 0.5342154515251343, 0.3775980701543118, 0.02789076654548894, 0.060072420251822335, 0.9595356985652831, 0.0355383592061216, 0.9885606567198386, 0.9943422482133143, 0.9667625622343271, 0.37824533051450204, 0.4166899378782711, 0.193463185443483, 0.012401486246377116, 0.8829334984260753, 0.009269643028095279, 0.1066008948230957, 0.9860747581813238, 0.9659344476518654, 0.9944723309014913, 0.9856600940091632, 0.02227195667096375, 0.972542107965417, 0.9824651729266515, 0.14340324013357067, 0.14727900338042393, 0.7092646741741468, 0.9881106576041001, 0.9930885673845821, 0.8474762996226455, 0.14267277771425008, 0.008560366662855005, 0.9625197986967986, 0.9960510411532582, 0.06855136430654804, 0.27146340265393026, 0.6580930973428611, 0.0027420545722619217, 0.9883382881491737, 0.9666479266522692, 0.9847077912183192, 0.9757485368992441, 0.05977153217270163, 0.10758875791086295, 0.8248471439832825, 0.009541051830792997, 0.9445641312485068, 0.03816420732317199, 0.7317149518961061, 0.23374227630014502, 0.02032541533044739, 0.014227790731313174, 0.1080883780662395, 0.3242651341987185, 0.5661772184422069, 0.9774938707013577, 0.383985273151731, 0.30182626200440116, 0.29404277673781204, 0.020755960710904377, 0.008731175435289807, 0.8608938979195749, 0.052387052611738844, 0.07858057891760827, 0.9965761873361066, 0.9911027119849906, 0.037483329705627066, 0.9370832426406766, 0.9462362810595171, 0.048524937490231644, 0.1485954689450905, 0.3306249184028263, 0.5089394811369349, 0.011144660170881785, 0.5740954082587759, 0.20412281182534256, 0.019845273371908306, 0.2012877727722128, 0.07588116143434083, 0.7284591497696721, 0.0030352464573736334, 0.1912205268145389, 0.480873120184634, 0.1757577193657288, 0.157478916551693, 0.18700621340513543, 0.5043667323454294, 0.3645003275773691, 0.08618031000860277, 0.04450294697165553, 0.9905789347762952, 0.9962477501424745, 0.9792771483018596, 0.021288633658736077, 0.9952202560813783, 0.9799090681434783, 0.9758711397854423, 0.985750918429379, 0.00794960418088209, 0.054060741565005815, 0.9460629773876018, 0.9929872304465288, 0.9931627345833095, 0.19856785561106186, 0.3420871967952947, 0.3460192335400682, 0.1120630472260448, 0.9431130433331992, 0.05029936231110396, 0.007544904346665594, 0.9882539847973011, 0.018434137783732995, 0.804957349889674, 0.1720519526481746, 0.006144712594577665, 0.9818783907750386, 0.9803363221301652, 0.9965073720353805, 0.9742281622386914, 0.24091170645727014, 0.6660500119700998, 0.01180939737535638, 0.08266578162749466, 0.17869006845264931, 0.02436682751627036, 0.7959830321981651, 0.044071487680645414, 0.9475369851338764, 0.517641209734278, 0.3085547603121971, 0.048719172680873224, 0.1258578627589225, 0.991650361361091, 0.0023934923599357575, 0.9909058370134036, 0.007180477079807272, 0.35119283726155437, 0.5296996937701898, 0.019402919185721235, 0.0989548878471783, 0.9862318338476744, 0.9890005070252954, 0.06980838363124382, 0.009972626233034831, 0.9174816134392044, 0.9731699400373409, 0.5261167724624134, 0.26616782342070083, 0.13557146146194576, 0.07213894279626472, 0.9792120298762077, 0.029673091814430536, 0.9211251813258469, 0.06874068517357067, 0.9962288887265045, 0.9828429089159488, 0.3149788541990595, 0.018804707713376688, 0.6628659468965282, 0.004701176928344172, 0.49425922069182476, 0.33114141336673125, 0.16127813280638947, 0.013490946470496458, 0.7888011352406387, 0.03993929798686778, 0.0549165347319432, 0.11482548171224488, 0.9930642111027348, 0.30059835426739917, 0.4629468325215219, 0.06849076426345803, 0.16869021568592443, 0.008900677450499224, 0.9879751970054138, 0.9791853992441801, 0.9817592107820294, 0.990234985622122, 0.9867852170241966, 0.9859451046145615, 0.9942068555211252, 0.4332060597066873, 0.3222445075712902, 0.183922572717576, 0.06080085048514909, 0.9883615511343723, 0.9867784399363266, 0.2641871664276084, 0.5560903971902561, 0.061918867131470726, 0.11853040279452967, 0.9881290444732166, 0.11158690732242914, 0.17357963361266754, 0.698967988922438, 0.015498181572559602, 0.9823306977112298, 0.04284918167171232, 0.9236379160346878, 0.03332714130022069], \"Term\": [\"add\", \"add\", \"add\", \"add\", \"adjust\", \"adopt\", \"adopt\", \"adopt\", \"adore\", \"adult_cat_food\", \"allergic\", \"allergic\", \"also\", \"also\", \"also\", \"also\", \"alternate\", \"always\", \"always\", \"always\", \"always\", \"artificial\", \"artificial\", \"available\", \"available\", \"available\", \"available\", \"away\", \"away\", \"away\", \"bad\", \"bad\", \"bad\", \"bad\", \"beautiful\", \"beautiful\", \"big_bag\", \"blue_buffalo\", \"blue_buffalo\", \"bowl\", \"bowl_clean\", \"brown\", \"brown_rice\", \"brown_rice\", \"brown_rice\", \"buy\", \"buy\", \"buy\", \"buy\", \"can\", \"can\", \"can\", \"can\", \"canned\", \"canned\", \"canned_cat_food\", \"canned_cat_food\", \"canned_cat_food\", \"carry\", \"carry\", \"cheap\", \"cheap\", \"cheap\", \"cheap\", \"chicken_fat\", \"chicken_meal\", \"chunky\", \"classic\", \"classic\", \"classic_pate\", \"coat\", \"come\", \"come\", \"come\", \"come\", \"compare\", \"compare\", \"compare\", \"compare\", \"contain\", \"contain\", \"corn_gluten\", \"crazy\", \"crazy\", \"crazy\", \"crude\", \"crude_protein\", \"debone\", \"definitely\", \"definitely\", \"definitely\", \"definitely\", \"deliver\", \"deliver\", \"dent\", \"devour\", \"devour\", \"devour\", \"diabetic\", \"diabetic\", \"digestive_issues\", \"disappear\", \"disappear\", \"dish\", \"doubt\", \"dry\", \"dry\", \"dry\", \"dry\", \"due\", \"due\", \"due\", \"due\", \"eat\", \"eat\", \"eat\", \"eat\", \"eat_anything\", \"else\", \"else\", \"empty\", \"empty\", \"enjoy\", \"enjoy\", \"enjoy\", \"enjoy\", \"enjoy_eating\", \"even\", \"even\", \"even\", \"even\", \"excited\", \"expensive\", \"expensive\", \"expensive\", \"expensive\", \"fancy_feast\", \"fancy_feast\", \"fancy_feast_gourmet_cat_food\", \"fast\", \"fast\", \"fast\", \"favorite\", \"favorite\", \"favorite\", \"feed\", \"feed\", \"feed\", \"feed\", \"female\", \"female\", \"feral\", \"feral\", \"feral\", \"filler\", \"find\", \"find\", \"find\", \"find\", \"finicky\", \"finicky\", \"finicky\", \"finicky\", \"finish\", \"finish\", \"finish\", \"first\", \"first\", \"first\", \"first\", \"first_ingredient\", \"fishy\", \"fishy\", \"flavor\", \"flavor\", \"flavor\", \"folic_acid\", \"fond\", \"fond\", \"free\", \"free\", \"free\", \"free\", \"fresh\", \"fresh\", \"fresh\", \"fresh\", \"fussie_cat\", \"fussy\", \"get\", \"get\", \"get\", \"get\", \"get_bored\", \"get_tired\", \"give\", \"give\", \"give\", \"give\", \"glycemic\", \"go\", \"go\", \"go\", \"go\", \"good\", \"good\", \"good\", \"good\", \"good_quality_food\", \"good_value\", \"grain_free\", \"grain_free\", \"grain_free\", \"grain_free\", \"grain_free_food\", \"grain_free_food\", \"great\", \"great\", \"great\", \"great\", \"grill\", \"grow\", \"grow\", \"grow\", \"guess\", \"guess\", \"hair_balls\", \"hairball\", \"hairball\", \"hairball\", \"happen\", \"happen\", \"happen\", \"happily\", \"happy\", \"happy\", \"happy\", \"happy\", \"hardly\", \"hate\", \"healthy\", \"healthy\", \"healthy\", \"healthy\", \"help\", \"help\", \"help\", \"high\", \"high\", \"high\", \"high\", \"highly\", \"highly\", \"highly\", \"hill_ideal_balance\", \"hungry\", \"hungry\", \"include\", \"include\", \"include\", \"ingredient\", \"ingredient\", \"ingredient\", \"ingredient\", \"ingredient_list\", \"inside\", \"keep\", \"keep\", \"keep\", \"keep\", \"kitten\", \"kitten\", \"know\", \"know\", \"know\", \"know\", \"last_year\", \"lead\", \"leave\", \"leave\", \"left\", \"less\", \"less\", \"less\", \"less\", \"like\", \"like\", \"like\", \"like\", \"likely\", \"limited_ingredient\", \"list\", \"literally\", \"little\", \"little\", \"little\", \"little\", \"little_finicky\", \"locally\", \"long\", \"long\", \"long\", \"long\", \"long_run\", \"look\", \"look\", \"look\", \"look\", \"lose_weight\", \"losing_weight\", \"love\", \"love\", \"love\", \"love\", \"love_fancy_feast\", \"low\", \"low\", \"low\", \"low_quality\", \"maine_coons\", \"make\", \"make\", \"make\", \"make\", \"many\", \"many\", \"many\", \"many\", \"many_flavors\", \"mean\", \"mean\", \"mean\", \"mean\", \"medical\", \"meow\", \"mixed_tocopherols\", \"much\", \"much\", \"much\", \"much\", \"multiple\", \"mushy\", \"natural\", \"natural\", \"natural\", \"natural_balance\", \"natural_balance\", \"need\", \"need\", \"need\", \"need\", \"never\", \"never\", \"never\", \"never\", \"new\", \"new\", \"new\", \"new\", \"nibble\", \"nibble\", \"non\", \"nutrience\", \"nutritional_levels_established\", \"old\", \"old\", \"old\", \"old\", \"open\", \"open\", \"open\", \"organic\", \"ounce_cans_pack\", \"outside\", \"overweight\", \"pate\", \"pate\", \"perfect_size\", \"pet\", \"pet\", \"pet\", \"pet_foods\", \"pet_hospital\", \"picky\", \"picky\", \"picky\", \"pleasant\", \"popular\", \"prefer\", \"prefer\", \"prefer\", \"prefer\", \"preferred\", \"prescription_diet\", \"preserve\", \"primary\", \"provide\", \"provide\", \"provide\", \"purina_one\", \"purina_one\", \"purina_one\", \"put\", \"put\", \"put\", \"put\", \"read\", \"read\", \"read\", \"real_meat\", \"really\", \"really\", \"really\", \"really\", \"recommend\", \"recommend\", \"recommend\", \"recommend\", \"reduce\", \"refuse\", \"rotate\", \"rotate\", \"royal_canin\", \"royal_canin\", \"save\", \"save\", \"save\", \"save\", \"say\", \"say\", \"say\", \"say\", \"science_diet\", \"science_diet\", \"science_diet\", \"science_diet\", \"see\", \"see\", \"see\", \"see\", \"seem\", \"seem\", \"seem\", \"seem\", \"select\", \"senior\", \"sensitive\", \"sensitive\", \"sensitive_stomach\", \"seriously\", \"several_cats_outside\", \"shiny\", \"shiny\", \"sick\", \"sick\", \"sit\", \"slice\", \"small\", \"small\", \"small\", \"small\", \"smell\", \"smell\", \"smell\", \"sniff\", \"soft\", \"soft\", \"soft\", \"soft\", \"source\", \"specialty_pet_shops\", \"split\", \"spot_stew\", \"start\", \"start\", \"start\", \"start\", \"subscribe\", \"subscribe\", \"subscribe\", \"super\", \"super\", \"sure\", \"sure\", \"sure\", \"sure\", \"sweet_potatoes\", \"switch\", \"switch\", \"switch\", \"take\", \"take\", \"take\", \"take\", \"tasty\", \"taurine\", \"thank\", \"thank\", \"thank\", \"thiamine_mononitrate\", \"think\", \"think\", \"think\", \"think\", \"tiki\", \"tiki\", \"tiki_cat\", \"tiki_cat\", \"touch\", \"transition\", \"treat\", \"treat\", \"treat\", \"treat\", \"try\", \"try\", \"try\", \"try\", \"turn\", \"turn\", \"turn\", \"turn\", \"twice_day\", \"use\", \"use\", \"use\", \"use\", \"variety_pack\", \"variety_pack\", \"vegetable\", \"vet_bills\", \"vet_said\", \"vitamin_supplement\", \"vomit\", \"walk\", \"want\", \"want\", \"want\", \"want\", \"waste\", \"weird\", \"well\", \"well\", \"well\", \"well\", \"wellness_core\", \"wet\", \"wet\", \"wet\", \"wet\", \"wheat_gluten\", \"work\", \"work\", \"work\"]}, \"R\": 30, \"lambda.step\": 0.01, \"plot.opts\": {\"xlab\": \"PC1\", \"ylab\": \"PC2\"}, \"topic.order\": [1, 2, 3, 4]};\n",
       "\n",
       "function LDAvis_load_lib(url, callback){\n",
       "  var s = document.createElement('script');\n",
       "  s.src = url;\n",
       "  s.async = true;\n",
       "  s.onreadystatechange = s.onload = callback;\n",
       "  s.onerror = function(){console.warn(\"failed to load library \" + url);};\n",
       "  document.getElementsByTagName(\"head\")[0].appendChild(s);\n",
       "}\n",
       "\n",
       "if(typeof(LDAvis) !== \"undefined\"){\n",
       "   // already loaded: just create the visualization\n",
       "   !function(LDAvis){\n",
       "       new LDAvis(\"#\" + \"ldavis_el2132013556954710721485546387\", ldavis_el2132013556954710721485546387_data);\n",
       "   }(LDAvis);\n",
       "}else if(typeof define === \"function\" && define.amd){\n",
       "   // require.js is available: use it to load d3/LDAvis\n",
       "   require.config({paths: {d3: \"https://d3js.org/d3.v5\"}});\n",
       "   require([\"d3\"], function(d3){\n",
       "      window.d3 = d3;\n",
       "      LDAvis_load_lib(\"https://cdn.jsdelivr.net/gh/bmabey/pyLDAvis@3.3.1/pyLDAvis/js/ldavis.v3.0.0.js\", function(){\n",
       "        new LDAvis(\"#\" + \"ldavis_el2132013556954710721485546387\", ldavis_el2132013556954710721485546387_data);\n",
       "      });\n",
       "    });\n",
       "}else{\n",
       "    // require.js not available: dynamically load d3 & LDAvis\n",
       "    LDAvis_load_lib(\"https://d3js.org/d3.v5.js\", function(){\n",
       "         LDAvis_load_lib(\"https://cdn.jsdelivr.net/gh/bmabey/pyLDAvis@3.3.1/pyLDAvis/js/ldavis.v3.0.0.js\", function(){\n",
       "                 new LDAvis(\"#\" + \"ldavis_el2132013556954710721485546387\", ldavis_el2132013556954710721485546387_data);\n",
       "            })\n",
       "         });\n",
       "}\n",
       "</script>"
      ],
      "text/plain": [
       "<IPython.core.display.HTML object>"
      ]
     },
     "execution_count": 368,
     "metadata": {},
     "output_type": "execute_result"
    }
   ],
   "source": [
    "pyLDAvis.enable_notebook()\n",
    "topic_data =  pyLDAvis.gensim_models.prepare(optimal_model, \n",
    "                                             cats_food_doc_term_matrix, \n",
    "                                             cats_food_dictionary, \n",
    "                                             mds = 'tsne')\n",
    "pyLDAvis.display(topic_data)"
   ]
  },
  {
   "cell_type": "markdown",
   "id": "63cec613",
   "metadata": {},
   "source": [
    "## 3. cat toys (0/4)"
   ]
  },
  {
   "cell_type": "code",
   "execution_count": 289,
   "id": "d10530db",
   "metadata": {},
   "outputs": [
    {
     "data": {
      "application/vnd.jupyter.widget-view+json": {
       "model_id": "7933985075694041bf3bc246870b6457",
       "version_major": 2,
       "version_minor": 0
      },
      "text/plain": [
       "  0%|          | 0/7893 [00:00<?, ?it/s]"
      ]
     },
     "metadata": {},
     "output_type": "display_data"
    },
    {
     "data": {
      "application/vnd.jupyter.widget-view+json": {
       "model_id": "813ab49470574f82b1dfaf70a3cce2e2",
       "version_major": 2,
       "version_minor": 0
      },
      "text/plain": [
       "  0%|          | 0/7893 [00:00<?, ?it/s]"
      ]
     },
     "metadata": {},
     "output_type": "display_data"
    },
    {
     "name": "stdout",
     "output_type": "stream",
     "text": [
      "Round: 2\n",
      "Round: 4\n",
      "Round: 6\n",
      "Round: 8\n",
      "Round: 10\n",
      "Round: 12\n",
      "Round: 14\n",
      "Round: 16\n",
      "Round: 18\n"
     ]
    },
    {
     "data": {
      "image/png": "[encoded data removed]",
      "text/plain": [
       "<Figure size 432x288 with 1 Axes>"
      ]
     },
     "metadata": {
      "needs_background": "light"
     },
     "output_type": "display_data"
    },
    {
     "name": "stdout",
     "output_type": "stream",
     "text": [
      "Num Topics = 2  has Coherence Value of 0.6101\n",
      "Num Topics = 4  has Coherence Value of 0.6221\n",
      "Num Topics = 6  has Coherence Value of 0.6184\n",
      "Num Topics = 8  has Coherence Value of 0.6114\n",
      "Num Topics = 10  has Coherence Value of 0.5888\n",
      "Num Topics = 12  has Coherence Value of 0.5788\n",
      "Num Topics = 14  has Coherence Value of 0.5461\n",
      "Num Topics = 16  has Coherence Value of 0.5548\n",
      "Num Topics = 18  has Coherence Value of 0.5473\n"
     ]
    }
   ],
   "source": [
    "cats_toys_dictionary, cats_toys_doc_term_matrix = vectorize(cats_toys_reviews2)\n",
    "model_list, coherence_values = compute_coherence_values(dictionary=cats_toys_dictionary, \n",
    "                                                    corpus=cats_toys_doc_term_matrix, \n",
    "                                                    texts=cats_toys_reviews2, \n",
    "                                                    start=2, \n",
    "                                                    limit=20, \n",
    "                                                    step=2)\n",
    "\n",
    "limit=20; start=2; step=2;\n",
    "x = range(start, limit, step)\n",
    "plt.plot(x, coherence_values)\n",
    "plt.xlabel(\"Num Topics\")\n",
    "plt.ylabel(\"Coherence score\")\n",
    "plt.legend((\"coherence_values\"), loc='best')\n",
    "plt.show()\n",
    "for m, cv in zip(x, coherence_values):\n",
    "    print(\"Num Topics =\", m, \" has Coherence Value of\", round(cv, 4))\n",
    "    \n",
    "# with open ('./cat_toys_model_list.pickle', 'wb') as handle:\n",
    "#     pickle.dump(model_list, handle)"
   ]
  },
  {
   "cell_type": "code",
   "execution_count": 292,
   "id": "7004e883",
   "metadata": {},
   "outputs": [],
   "source": [
    "with open ('./cat_toys_model_list.pickle', 'rb') as handle:\n",
    "     model_list = pickle.load(handle)"
   ]
  },
  {
   "cell_type": "code",
   "execution_count": 295,
   "id": "0875aead",
   "metadata": {},
   "outputs": [
    {
     "data": {
      "text/plain": [
       "[(0,\n",
       "  '0.044*\"buy\" + 0.027*\"love\" + 0.025*\"get\" + 0.016*\"old\" + 0.016*\"catnip\" + 0.014*\"good\" + 0.013*\"play\" + 0.012*\"recommend\" + 0.012*\"well\" + 0.011*\"great\" + 0.011*\"little\" + 0.011*\"find\" + 0.011*\"happy\" + 0.011*\"still\" + 0.010*\"purchase\" + 0.009*\"even\" + 0.009*\"new\" + 0.009*\"make\" + 0.009*\"last\" + 0.008*\"keep\" + 0.008*\"come\" + 0.008*\"small\" + 0.007*\"use\" + 0.007*\"always\" + 0.007*\"highly\" + 0.006*\"lose\" + 0.006*\"much\" + 0.006*\"carry\" + 0.006*\"order\" + 0.006*\"hold\"'),\n",
       " (1,\n",
       "  '0.051*\"love\" + 0.041*\"go\" + 0.037*\"play\" + 0.029*\"get\" + 0.016*\"make\" + 0.016*\"crazy\" + 0.016*\"much\" + 0.014*\"great\" + 0.012*\"favorite\" + 0.011*\"well\" + 0.011*\"little\" + 0.010*\"never\" + 0.010*\"even\" + 0.010*\"know\" + 0.009*\"give\" + 0.009*\"think\" + 0.008*\"see\" + 0.008*\"really\" + 0.008*\"chase\" + 0.008*\"around\" + 0.007*\"look\" + 0.007*\"absolutely\" + 0.007*\"also\" + 0.006*\"say\" + 0.006*\"worth\" + 0.006*\"good\" + 0.006*\"fly\" + 0.006*\"carry\" + 0.006*\"run\" + 0.006*\"sure\"'),\n",
       " (2,\n",
       "  '0.028*\"make\" + 0.027*\"seem\" + 0.023*\"well\" + 0.022*\"really\" + 0.018*\"like\" + 0.017*\"play\" + 0.016*\"think\" + 0.014*\"much\" + 0.013*\"long\" + 0.012*\"get\" + 0.012*\"also\" + 0.012*\"still\" + 0.011*\"small\" + 0.011*\"enjoy\" + 0.009*\"little\" + 0.009*\"break\" + 0.009*\"nice\" + 0.009*\"maybe\" + 0.008*\"good\" + 0.008*\"come\" + 0.007*\"hard\" + 0.007*\"work\" + 0.007*\"look\" + 0.006*\"take\" + 0.006*\"interested\" + 0.006*\"chew\" + 0.006*\"big\" + 0.006*\"attach\" + 0.006*\"pretty\" + 0.006*\"however\"'),\n",
       " (3,\n",
       "  '0.048*\"get\" + 0.023*\"put\" + 0.020*\"play\" + 0.020*\"try\" + 0.015*\"go\" + 0.015*\"keep\" + 0.013*\"even\" + 0.013*\"back\" + 0.013*\"come\" + 0.012*\"away\" + 0.011*\"take\" + 0.010*\"use\" + 0.010*\"give\" + 0.009*\"make\" + 0.008*\"great\" + 0.008*\"little\" + 0.008*\"see\" + 0.008*\"good\" + 0.008*\"want\" + 0.008*\"together\" + 0.007*\"move\" + 0.007*\"sit\" + 0.007*\"first\" + 0.007*\"easy\" + 0.007*\"right\" + 0.007*\"turn\" + 0.007*\"sometimes\" + 0.006*\"run\" + 0.006*\"think\" + 0.006*\"enough\"')]"
      ]
     },
     "execution_count": 295,
     "metadata": {},
     "output_type": "execute_result"
    }
   ],
   "source": [
    "optimal_model = model_list[1]\n",
    "model_topics = optimal_model.show_topics(formatted=False)\n",
    "keywords_dict = get_keywords(cats_toys_doc_term_matrix, model = optimal_model)\n",
    "optimal_model.print_topics(num_topics=4, num_words=30)"
   ]
  },
  {
   "cell_type": "code",
   "execution_count": 296,
   "id": "5c8d0f43",
   "metadata": {},
   "outputs": [
    {
     "data": {
      "text/plain": [
       "['put', 'try', 'back', 'away', 'take', 'use', 'want', 'together']"
      ]
     },
     "execution_count": 296,
     "metadata": {},
     "output_type": "execute_result"
    }
   ],
   "source": [
    "[w for w in keywords_dict[0] if w not in  keywords_dict[1] and w not in  keywords_dict[2] and w not in  keywords_dict[3]]"
   ]
  },
  {
   "cell_type": "code",
   "execution_count": 298,
   "id": "6691b88e",
   "metadata": {},
   "outputs": [
    {
     "data": {
      "text/plain": [
       "['buy',\n",
       " 'old',\n",
       " 'catnip',\n",
       " 'recommend',\n",
       " 'find',\n",
       " 'happy',\n",
       " 'purchase',\n",
       " 'new',\n",
       " 'last']"
      ]
     },
     "execution_count": 298,
     "metadata": {},
     "output_type": "execute_result"
    }
   ],
   "source": [
    "[w for w in keywords_dict[1] if w not in  keywords_dict[0] and w not in  keywords_dict[2] and w not in  keywords_dict[3]]"
   ]
  },
  {
   "cell_type": "code",
   "execution_count": 299,
   "id": "4be6e183",
   "metadata": {},
   "outputs": [
    {
     "data": {
      "text/plain": [
       "['crazy', 'favorite', 'never', 'know', 'chase', 'around']"
      ]
     },
     "execution_count": 299,
     "metadata": {},
     "output_type": "execute_result"
    }
   ],
   "source": [
    "[w for w in keywords_dict[2] if w not in  keywords_dict[0] and w not in  keywords_dict[1] and w not in  keywords_dict[3]]"
   ]
  },
  {
   "cell_type": "code",
   "execution_count": 300,
   "id": "2026ec4d",
   "metadata": {},
   "outputs": [
    {
     "data": {
      "text/plain": [
       "['seem', 'like', 'long', 'also', 'small', 'enjoy', 'break', 'nice', 'maybe']"
      ]
     },
     "execution_count": 300,
     "metadata": {},
     "output_type": "execute_result"
    }
   ],
   "source": [
    "[w for w in keywords_dict[3] if w not in  keywords_dict[0] and w not in  keywords_dict[2] and w not in  keywords_dict[1]]"
   ]
  },
  {
   "cell_type": "code",
   "execution_count": 294,
   "id": "5b6b82af",
   "metadata": {},
   "outputs": [
    {
     "name": "stderr",
     "output_type": "stream",
     "text": [
      "C:\\Users\\JiatingChen\\anaconda3\\lib\\site-packages\\pyLDAvis\\_prepare.py:246: FutureWarning: In a future version of pandas all arguments of DataFrame.drop except for the argument 'labels' will be keyword-only\n",
      "  default_term_info = default_term_info.sort_values(\n",
      "C:\\Users\\JiatingChen\\anaconda3\\lib\\site-packages\\sklearn\\manifold\\_t_sne.py:691: FutureWarning: 'square_distances' has been introduced in 0.24 to help phase out legacy squaring behavior. The 'legacy' setting will be removed in 1.1 (renaming of 0.26), and the default setting will be changed to True. In 1.3, 'square_distances' will be removed altogether, and distances will be squared by default. Set 'square_distances'=True to silence this warning.\n",
      "  warnings.warn(\n"
     ]
    },
    {
     "data": {
      "text/html": [
       "\n",
       "<link rel=\"stylesheet\" type=\"text/css\" href=\"https://cdn.jsdelivr.net/gh/bmabey/pyLDAvis@3.3.1/pyLDAvis/js/ldavis.v1.0.0.css\">\n",
       "\n",
       "\n",
       "<div id=\"ldavis_el213201355946725264308140217\"></div>\n",
       "<script type=\"text/javascript\">\n",
       "\n",
       "var ldavis_el213201355946725264308140217_data = {\"mdsDat\": {\"x\": [269.5624084472656, 1.782994270324707, 220.81143188476562, 50.533992767333984], \"y\": [-124.80339813232422, -295.0796813964844, -343.8321228027344, -76.05093383789062], \"topics\": [1, 2, 3, 4], \"cluster\": [1, 1, 1, 1], \"Freq\": [28.253699626169198, 24.603873282610962, 24.557335582690236, 22.585091508529608]}, \"tinfo\": {\"Term\": [\"love\", \"buy\", \"seem\", \"put\", \"go\", \"catnip\", \"crazy\", \"like\", \"away\", \"happy\", \"back\", \"favorite\", \"old\", \"break\", \"really\", \"small\", \"try\", \"get\", \"well\", \"together\", \"chase\", \"think\", \"maybe\", \"make\", \"around\", \"carry\", \"play\", \"walk\", \"enjoy\", \"purchase\", \"walk\", \"figure\", \"treat\", \"push\", \"interesting\", \"middle\", \"forth\", \"away\", \"stuck\", \"come_running\", \"turbo_scratcher\", \"bottom\", \"play_circuit\", \"suggest\", \"round\", \"require\", \"curious\", \"flash\", \"noisy\", \"shut\", \"great_idea\", \"tape\", \"amuse\", \"adult_cats\", \"first_day\", \"bergan\", \"energetic\", \"slide\", \"intrigue\", \"wake\", \"put\", \"together\", \"send\", \"entertain\", \"bore\", \"turn\", \"learn\", \"move\", \"wait\", \"back\", \"sit\", \"light\", \"slow\", \"sometimes\", \"try\", \"busy\", \"right\", \"get\", \"fit\", \"keep\", \"set\", \"take\", \"watch\", \"come\", \"run\", \"even\", \"use\", \"easy\", \"play\", \"give\", \"want\", \"go\", \"first\", \"see\", \"enough\", \"interested\", \"great\", \"little\", \"good\", \"make\", \"think\", \"catnip\", \"happy\", \"tear\", \"arrive\", \"fill\", \"scratch\", \"stuff\", \"rub\", \"good_quality\", \"roll_around\", \"get_lost\", \"high_quality\", \"shred\", \"potent\", \"plenty\", \"previous\", \"went_crazy\", \"fight\", \"senior\", \"local\", \"new_kitten\", \"beat\", \"fresh\", \"package\", \"several_months\", \"small_enough\", \"right_size\", \"generally\", \"fur_balls\", \"yeowww_catnip_toys\", \"kick\", \"buy\", \"toss\", \"lose\", \"ago\", \"constantly\", \"old\", \"highly\", \"pay\", \"purchase\", \"cat_nip\", \"recommend\", \"new\", \"always\", \"order\", \"last\", \"love\", \"several\", \"find\", \"definitely\", \"good\", \"still\", \"carry\", \"many\", \"get\", \"great\", \"little\", \"small\", \"well\", \"even\", \"play\", \"keep\", \"come\", \"use\", \"hold\", \"make\", \"much\", \"break\", \"overall\", \"regular\", \"elastic\", \"swallow\", \"unfortunately\", \"design\", \"sharp\", \"spray\", \"undercover_mouse\", \"thin\", \"lightweight\", \"hope\", \"actual\", \"hate\", \"pleased\", \"perfectly\", \"good_idea\", \"poorly\", \"sturdy\", \"jackson_galaxy\", \"warm\", \"double\", \"growl\", \"spoil\", \"cheaply_made\", \"ok\", \"good_size\", \"complete\", \"flimsy\", \"seem\", \"fishing_pole\", \"like\", \"attract\", \"maybe\", \"thick\", \"heavy\", \"rather\", \"nice\", \"enjoy\", \"attach\", \"really\", \"less\", \"hard\", \"feel\", \"make\", \"well\", \"think\", \"small\", \"long\", \"short\", \"still\", \"also\", \"receive\", \"chew\", \"much\", \"work\", \"however\", \"play\", \"interested\", \"pretty\", \"big\", \"little\", \"large\", \"good\", \"get\", \"come\", \"look\", \"take\", \"crazy\", \"drag\", \"cat_dancer\", \"tired\", \"much_fun\", \"miss\", \"nuts\", \"wild\", \"little_bit\", \"red_dot\", \"drive\", \"step\", \"last_long\", \"weird\", \"entertained\", \"real_fur\", \"neko_flies\", \"cat_catcher\", \"laser_pointers\", \"cat_charmer\", \"laugh\", \"real_mouse\", \"like_real_bird\", \"red_light\", \"little_guy\", \"insane\", \"appreciate\", \"purple\", \"unsupervised\", \"neat\", \"fly\", \"switch\", \"pant\", \"inexpensive\", \"kitten_loves\", \"chase\", \"simple\", \"absolutely\", \"love\", \"favorite\", \"go\", \"jump\", \"never\", \"play\", \"around\", \"interactive\", \"worth\", \"much\", \"know\", \"throw\", \"great\", \"get\", \"make\", \"carry\", \"bring\", \"give\", \"little\", \"see\", \"even\", \"well\", \"think\", \"look\", \"say\", \"really\", \"run\", \"also\", \"sure\", \"good\"], \"Freq\": [2483.0, 1730.0, 1011.0, 911.0, 2083.0, 506.0, 470.0, 711.0, 438.0, 362.0, 572.0, 511.0, 710.0, 281.0, 1265.0, 632.0, 1072.0, 3902.0, 1555.0, 293.0, 317.0, 1043.0, 322.0, 2009.0, 429.0, 374.0, 2841.0, 215.0, 518.0, 461.0, 214.70104147267335, 133.32222169483217, 114.48906993030138, 101.73120322483602, 90.91034301677017, 79.74145728715372, 73.67623071896497, 433.21885461469043, 56.32680190572049, 56.346210971233376, 45.418229572548746, 43.923392770591725, 42.39812425638391, 56.32939470323922, 41.111128188189404, 53.83644377572702, 40.69441307609242, 39.21422536296398, 53.321384765784025, 38.396825315724136, 33.39486505395688, 32.84883796577722, 32.372998818468844, 32.72716974787372, 31.006355658656343, 29.74025832021078, 30.478703991417614, 30.03288831018455, 29.176822138473632, 29.455849713324028, 864.9343209729608, 281.2241824849555, 99.64858313412346, 198.51833679850088, 64.58174369697407, 243.60443639207614, 60.57393887577317, 277.55158251817744, 120.75446741580696, 471.6029591533084, 275.55432062249514, 169.95008593089904, 102.71374753614556, 243.02596024751261, 746.1018157486826, 95.57338294961332, 246.91767549136748, 1807.4786372648157, 100.96867754384262, 548.8781926083105, 156.76508949281757, 411.46499679163486, 219.94052500529148, 471.38323585001285, 240.95373740514148, 474.59239823282377, 377.0099924232389, 247.81838815971577, 751.3537725048749, 374.86734277255334, 285.13012554233023, 574.3197815649033, 272.0074604777643, 305.1027271269756, 221.2822825205775, 215.04537540646697, 314.1145790427875, 308.21957375759547, 296.664365540733, 329.10433627568017, 224.7775125532436, 505.8034946602557, 361.56488487878966, 149.03301578436137, 128.34674883023027, 91.65261161521245, 91.0846069800413, 78.15156963612624, 60.695489136573, 60.55065336287562, 49.61429682210816, 49.3097468557212, 52.27316938462159, 45.58199566270067, 42.82341424449063, 40.93684281870425, 39.56628098378174, 56.55388794949018, 37.908112577765884, 34.421702653466646, 57.42149946675169, 31.117141122963215, 49.85072526259588, 68.53762996999386, 28.444989930789994, 26.920795371845788, 25.77691196110142, 25.377738048609867, 25.523184616579545, 24.34301851325721, 23.407818733207268, 71.623952626899, 1424.6306903015995, 147.95506789896274, 210.46404872309478, 116.68295333018506, 73.27426958456003, 522.6349425206799, 216.30764422348415, 102.815896192678, 329.9280864183642, 112.96219885173889, 395.6270698633699, 303.1333775161604, 217.83755717833995, 196.02904746254262, 278.0327358387508, 872.0118077874494, 155.94439313297323, 366.0933703437643, 192.65764461580665, 441.8214822797535, 349.609050294418, 200.35720753423334, 167.3473284216386, 827.2037281788397, 370.5849736679124, 368.8066433075955, 251.28338077502048, 379.3701846397774, 303.4543640887853, 436.8148905068687, 261.25614222058965, 261.13366567746726, 231.64329284011248, 195.5320764993368, 278.0684077370565, 207.6319904558302, 280.9405711258271, 113.178217383649, 91.8863178485555, 81.66399732896784, 71.31731045990716, 130.2642422150289, 61.75066325640388, 60.66529450151469, 55.890715349728275, 54.22164842552219, 60.385592897964855, 43.73009774818808, 116.28007555227559, 40.35127852022695, 38.67981078869176, 36.943815697905315, 34.06302809597993, 30.92621666404533, 30.40039644814601, 164.79191335084022, 28.8821689265561, 28.145158825062406, 27.54571573849754, 28.448538202152868, 37.80742686261234, 26.46603191417067, 25.277502053788442, 24.790266511025116, 25.3242441870474, 30.492008386935566, 891.5634473520796, 33.964153337534384, 592.4831310183596, 60.11599280449787, 278.12350306433467, 61.334598816444064, 106.01262287478411, 113.65378862665297, 279.5910154185243, 343.03749799149494, 197.18685220987544, 728.0209956721607, 145.9003077646726, 239.77036439113633, 139.6897664908612, 912.5683673645501, 740.1939645969412, 529.6993920635605, 343.32586666049707, 423.99247953839154, 121.4131450663747, 375.4820988335833, 383.07834381938864, 138.36680085718456, 201.5068256593904, 439.78906699190793, 215.56694994018827, 185.68923491659856, 561.2417121335842, 207.13840998087448, 194.4389394789951, 197.63827948483384, 292.17785936777585, 170.5275779548372, 273.9039105401274, 393.20464714522905, 247.22858560464363, 213.07489683315546, 208.57466654153419, 469.86448721448784, 114.90529296976464, 110.0053512425806, 99.16362783316008, 72.02992799129902, 73.91886004032405, 148.88747548641473, 109.20943878651516, 61.734009625509614, 58.97073272457067, 56.84276795073334, 50.81862739249148, 39.5715495859716, 40.11336913073436, 34.083458625524536, 33.30690083513081, 31.755170458218334, 48.15805346456889, 30.28913525035348, 28.89807463618301, 29.119998878048193, 28.045450405932783, 26.85389213080405, 26.257120958133726, 26.845601737687627, 22.04102556900924, 22.55120066935987, 22.86994337153942, 21.437856073678297, 21.29240098758315, 181.53775149622712, 28.935839668142986, 37.00436408972058, 71.60740262085218, 57.34448948858879, 248.75484243508708, 134.92730057045705, 206.3398858964512, 1506.5031301688746, 355.0529853923083, 1221.0734216384888, 143.36200485147666, 293.2730314357674, 1092.1398947633804, 239.48609961039543, 93.57945788213641, 188.15440172900261, 469.5284277280266, 288.479434483266, 147.28119446166377, 416.7257891423395, 874.6829666402119, 489.86991402894745, 173.8458775478433, 137.49333693767895, 274.5895404375968, 318.49074088524105, 249.0499359924136, 291.69499607198594, 322.3915583177179, 258.9453047785547, 217.03042419723107, 189.72339681486315, 249.0385210792784, 171.12292084190184, 197.64506879555944, 170.63645390511573, 185.27339985713493], \"Total\": [2483.0, 1730.0, 1011.0, 911.0, 2083.0, 506.0, 470.0, 711.0, 438.0, 362.0, 572.0, 511.0, 710.0, 281.0, 1265.0, 632.0, 1072.0, 3902.0, 1555.0, 293.0, 317.0, 1043.0, 322.0, 2009.0, 429.0, 374.0, 2841.0, 215.0, 518.0, 461.0, 215.44729933581633, 134.1488378025373, 115.30979967484797, 102.4850246351305, 91.75293242173224, 80.51246308787151, 74.41958783664573, 438.87439575475724, 57.0833528534733, 57.12182191198732, 46.16423461684603, 44.67408513818053, 43.136799100652915, 57.32459271211441, 41.86218418939781, 54.837113562313334, 41.45090659818743, 39.96824358106908, 54.351076276790906, 39.20108413178177, 34.15059437332616, 33.60274444034607, 33.12048019941674, 33.512304760848586, 31.770469843154142, 30.474644203955272, 31.242177515675397, 30.785259057505517, 29.93150439653913, 30.217811559674907, 911.8239759213653, 293.8708769759986, 103.26354065208083, 209.2879376985847, 66.83486666813617, 267.7382318808228, 63.62845782020191, 312.85657537335254, 134.09148046630264, 572.2584879854563, 322.5413377008946, 194.26295010724766, 114.19948751672445, 301.46834706021065, 1072.125568027685, 107.9381718206019, 323.86130119990963, 3902.569979229096, 118.95953409666808, 1024.5992813992043, 210.43124120960655, 763.1625283916076, 347.58795286120835, 1077.575132388478, 424.86021700629794, 1185.7657100822228, 843.9021713199868, 464.1023489632585, 2841.5502699087083, 953.9622654634657, 618.0852445210897, 2083.954072202401, 615.1100380992211, 857.6687656585018, 467.8546073320463, 448.2112637889369, 1203.4839936006606, 1287.6948173182077, 1197.6631582177488, 2009.6110254062344, 1043.9366289418344, 506.54681600874306, 362.4479799898266, 149.79736946434977, 129.11124635698684, 92.39967126699192, 91.84932176517, 78.90517753358624, 61.43608406866032, 61.29056651597095, 50.36280288289814, 50.05512349594297, 53.07616262631202, 46.34169568325464, 43.557160421449744, 41.692839576870426, 40.32330553208997, 57.65808611563297, 38.734670678916146, 35.18931265047798, 58.728311181419436, 31.871831827262245, 51.090939208769456, 70.32705190461834, 29.198630306103517, 27.674806990670522, 26.52973792515135, 26.121713967273447, 26.287535784190347, 25.086463085492085, 24.140646429419302, 75.65668202352236, 1730.6396677169805, 166.42717255876926, 247.53625772587162, 133.58755052384532, 81.73271132092324, 710.7705653146882, 269.8394515273453, 120.30289876001576, 461.764517025566, 136.49090406920328, 598.864034420223, 478.2971176928855, 338.4957936951183, 314.91187420016115, 513.3229526448026, 2483.9752693396345, 239.37194396762231, 853.3962708359586, 337.74179646579955, 1197.6631582177488, 857.1600397415075, 374.7539152357382, 288.80750756334044, 3902.569979229096, 1203.4839936006606, 1287.6948173182077, 632.3590378076412, 1555.7214260644128, 1185.7657100822228, 2841.5502699087083, 1024.5992813992043, 1077.575132388478, 843.9021713199868, 484.17835055179773, 2009.6110254062344, 1213.4702945795077, 281.70228097399223, 113.93988153731328, 92.65312808597974, 82.41316355415896, 72.06806120290992, 131.84153247777363, 62.50675190825835, 61.44077905486622, 56.64930444398522, 54.9589128610888, 61.24515425141125, 44.5011766140527, 118.43704599351457, 41.11031488231385, 39.448705533514534, 37.75162198022966, 34.82477245980548, 31.672082825560132, 31.15544206706132, 168.92551718487155, 29.64664567046804, 28.90471217362746, 28.309428778343857, 29.238365879339316, 38.863278996805185, 27.221459921388217, 26.025273113623154, 25.538504670670047, 26.08889018075271, 31.422988436600455, 1011.6452749737949, 35.234900978804575, 711.7351959047691, 64.34377667989597, 322.9940656358065, 67.87906123437948, 125.12310219316298, 138.37862935376495, 397.98967058028825, 518.5979339178343, 272.9546541025799, 1265.4819387018208, 197.4131590884193, 369.1185354774421, 194.63753433963888, 2009.6110254062344, 1555.7214260644128, 1043.9366289418344, 632.3590378076412, 848.6503080434013, 165.7377758173341, 857.1600397415075, 939.9967595360356, 209.1640313395678, 367.0637683314066, 1213.4702945795077, 416.13466190474617, 343.6423145874386, 2841.5502699087083, 448.2112637889369, 415.3076886066201, 445.74777134169864, 1287.6948173182077, 330.0777625703905, 1197.6631582177488, 3902.569979229096, 1077.575132388478, 691.3463559680383, 763.1625283916076, 470.6017512896495, 115.64044573010568, 110.7343466005201, 99.89783176819112, 72.76767948438315, 74.68074963215571, 150.46055425165045, 110.36387666564482, 62.49346233168453, 59.71135660220924, 57.580443732255446, 51.56714022550157, 40.305703645712775, 40.86083156993624, 34.8297752497537, 34.0442973559356, 32.488064175508754, 49.31172190667181, 31.056735592316585, 29.63454584218807, 29.87361504026638, 28.776049505553427, 27.58404481990203, 27.0036148646114, 27.664162738565473, 22.771791195094057, 23.30895872230115, 23.643540227775674, 22.195663043725673, 22.058316769085828, 192.0058668614761, 30.08037928687769, 38.91558473544024, 80.8448181337149, 63.734917665145055, 317.4947376568884, 163.62564956969376, 262.6387643826862, 2483.9752693396345, 511.31676630724644, 2083.954072202401, 198.28799984263196, 527.221234610244, 2841.5502699087083, 429.5721524718688, 133.4116738113123, 348.1363117939551, 1213.4702945795077, 631.750797248113, 258.3005380657139, 1203.4839936006606, 3902.569979229096, 2009.6110254062344, 374.7539152357382, 257.6062977740133, 953.9622654634657, 1287.6948173182077, 857.6687656585018, 1185.7657100822228, 1555.7214260644128, 1043.9366289418344, 691.3463559680383, 522.9926864189754, 1265.4819387018208, 424.86021700629794, 939.9967595360356, 481.90316503947776, 1197.6631582177488], \"Category\": [\"Default\", \"Default\", \"Default\", \"Default\", \"Default\", \"Default\", \"Default\", \"Default\", \"Default\", \"Default\", \"Default\", \"Default\", \"Default\", \"Default\", \"Default\", \"Default\", \"Default\", \"Default\", \"Default\", \"Default\", \"Default\", \"Default\", \"Default\", \"Default\", \"Default\", \"Default\", \"Default\", \"Default\", \"Default\", \"Default\", \"Topic1\", \"Topic1\", \"Topic1\", \"Topic1\", \"Topic1\", \"Topic1\", \"Topic1\", \"Topic1\", \"Topic1\", \"Topic1\", \"Topic1\", \"Topic1\", \"Topic1\", \"Topic1\", \"Topic1\", \"Topic1\", \"Topic1\", \"Topic1\", \"Topic1\", \"Topic1\", \"Topic1\", \"Topic1\", \"Topic1\", \"Topic1\", \"Topic1\", \"Topic1\", \"Topic1\", \"Topic1\", \"Topic1\", \"Topic1\", \"Topic1\", \"Topic1\", \"Topic1\", \"Topic1\", \"Topic1\", \"Topic1\", \"Topic1\", \"Topic1\", \"Topic1\", \"Topic1\", \"Topic1\", \"Topic1\", \"Topic1\", \"Topic1\", \"Topic1\", \"Topic1\", \"Topic1\", \"Topic1\", \"Topic1\", \"Topic1\", \"Topic1\", \"Topic1\", \"Topic1\", \"Topic1\", \"Topic1\", \"Topic1\", \"Topic1\", \"Topic1\", \"Topic1\", \"Topic1\", \"Topic1\", \"Topic1\", \"Topic1\", \"Topic1\", \"Topic1\", \"Topic1\", \"Topic1\", \"Topic1\", \"Topic1\", \"Topic1\", \"Topic1\", \"Topic2\", \"Topic2\", \"Topic2\", \"Topic2\", \"Topic2\", \"Topic2\", \"Topic2\", \"Topic2\", \"Topic2\", \"Topic2\", \"Topic2\", \"Topic2\", \"Topic2\", \"Topic2\", \"Topic2\", \"Topic2\", \"Topic2\", \"Topic2\", \"Topic2\", \"Topic2\", \"Topic2\", \"Topic2\", \"Topic2\", \"Topic2\", \"Topic2\", \"Topic2\", \"Topic2\", \"Topic2\", \"Topic2\", \"Topic2\", \"Topic2\", \"Topic2\", \"Topic2\", \"Topic2\", \"Topic2\", \"Topic2\", \"Topic2\", \"Topic2\", \"Topic2\", \"Topic2\", \"Topic2\", \"Topic2\", \"Topic2\", \"Topic2\", \"Topic2\", \"Topic2\", \"Topic2\", \"Topic2\", \"Topic2\", \"Topic2\", \"Topic2\", \"Topic2\", \"Topic2\", \"Topic2\", \"Topic2\", \"Topic2\", \"Topic2\", \"Topic2\", \"Topic2\", \"Topic2\", \"Topic2\", \"Topic2\", \"Topic2\", \"Topic2\", \"Topic2\", \"Topic2\", \"Topic2\", \"Topic3\", \"Topic3\", \"Topic3\", \"Topic3\", \"Topic3\", \"Topic3\", \"Topic3\", \"Topic3\", \"Topic3\", \"Topic3\", \"Topic3\", \"Topic3\", \"Topic3\", \"Topic3\", \"Topic3\", \"Topic3\", \"Topic3\", \"Topic3\", \"Topic3\", \"Topic3\", \"Topic3\", \"Topic3\", \"Topic3\", \"Topic3\", \"Topic3\", \"Topic3\", \"Topic3\", \"Topic3\", \"Topic3\", \"Topic3\", \"Topic3\", \"Topic3\", \"Topic3\", \"Topic3\", \"Topic3\", \"Topic3\", \"Topic3\", \"Topic3\", \"Topic3\", \"Topic3\", \"Topic3\", \"Topic3\", \"Topic3\", \"Topic3\", \"Topic3\", \"Topic3\", \"Topic3\", \"Topic3\", \"Topic3\", \"Topic3\", \"Topic3\", \"Topic3\", \"Topic3\", \"Topic3\", \"Topic3\", \"Topic3\", \"Topic3\", \"Topic3\", \"Topic3\", \"Topic3\", \"Topic3\", \"Topic3\", \"Topic3\", \"Topic3\", \"Topic3\", \"Topic3\", \"Topic3\", \"Topic3\", \"Topic3\", \"Topic4\", \"Topic4\", \"Topic4\", \"Topic4\", \"Topic4\", \"Topic4\", \"Topic4\", \"Topic4\", \"Topic4\", \"Topic4\", \"Topic4\", \"Topic4\", \"Topic4\", \"Topic4\", \"Topic4\", \"Topic4\", \"Topic4\", \"Topic4\", \"Topic4\", \"Topic4\", \"Topic4\", \"Topic4\", \"Topic4\", \"Topic4\", \"Topic4\", \"Topic4\", \"Topic4\", \"Topic4\", \"Topic4\", \"Topic4\", \"Topic4\", \"Topic4\", \"Topic4\", \"Topic4\", \"Topic4\", \"Topic4\", \"Topic4\", \"Topic4\", \"Topic4\", \"Topic4\", \"Topic4\", \"Topic4\", \"Topic4\", \"Topic4\", \"Topic4\", \"Topic4\", \"Topic4\", \"Topic4\", \"Topic4\", \"Topic4\", \"Topic4\", \"Topic4\", \"Topic4\", \"Topic4\", \"Topic4\", \"Topic4\", \"Topic4\", \"Topic4\", \"Topic4\", \"Topic4\", \"Topic4\", \"Topic4\", \"Topic4\", \"Topic4\", \"Topic4\", \"Topic4\", \"Topic4\", \"Topic4\"], \"logprob\": [30.0, 29.0, 28.0, 27.0, 26.0, 25.0, 24.0, 23.0, 22.0, 21.0, 20.0, 19.0, 18.0, 17.0, 16.0, 15.0, 14.0, 13.0, 12.0, 11.0, 10.0, 9.0, 8.0, 7.0, 6.0, 5.0, 4.0, 3.0, 2.0, 1.0, -5.1577, -5.6342, -5.7864, -5.9046, -6.017, -6.1481, -6.2272, -4.4557, -6.4958, -6.4954, -6.711, -6.7445, -6.7798, -6.4957, -6.8106, -6.541, -6.8208, -6.8579, -6.5506, -6.8789, -7.0185, -7.035, -7.0496, -7.0387, -7.0927, -7.1344, -7.1099, -7.1246, -7.1535, -7.144, -3.7643, -4.8878, -5.9253, -5.236, -6.359, -5.0314, -6.4231, -4.9009, -5.7332, -4.3708, -4.9081, -5.3914, -5.895, -5.0338, -3.9121, -5.967, -5.0179, -3.0272, -5.9121, -4.219, -5.4722, -4.5072, -5.1336, -4.3713, -5.0423, -4.3645, -4.5947, -5.0142, -3.905, -4.6003, -4.874, -4.1737, -4.9211, -4.8063, -5.1275, -5.1561, -4.7772, -4.7961, -4.8343, -4.7305, -5.1118, -4.1625, -4.4982, -5.3844, -5.5339, -5.8706, -5.8768, -6.03, -6.2827, -6.2851, -6.4843, -6.4905, -6.4321, -6.5691, -6.6315, -6.6766, -6.7106, -6.3534, -6.7534, -6.8499, -6.3382, -6.9508, -6.4796, -6.1612, -7.0406, -7.0957, -7.1391, -7.1547, -7.149, -7.1964, -7.2355, -6.1172, -3.1269, -5.3917, -5.0393, -5.6291, -6.0944, -4.1297, -5.0119, -5.7557, -4.5897, -5.6615, -4.4081, -4.6744, -5.0049, -5.1103, -4.7609, -3.6178, -5.3391, -4.4857, -5.1277, -4.2977, -4.5318, -5.0885, -5.2685, -3.6706, -4.4735, -4.4783, -4.862, -4.4501, -4.6734, -4.3091, -4.8231, -4.8236, -4.9434, -5.1129, -4.7607, -5.0528, -4.7486, -5.6577, -5.8662, -5.9841, -6.1196, -5.5171, -6.2636, -6.2813, -6.3633, -6.3936, -6.286, -6.6087, -5.6307, -6.6891, -6.7314, -6.7773, -6.8585, -6.9551, -6.9723, -5.282, -7.0235, -7.0493, -7.0709, -7.0386, -6.7542, -7.1108, -7.1568, -7.1763, -7.1549, -6.9692, -3.5937, -6.8614, -4.0024, -6.2904, -4.7586, -6.2704, -5.7232, -5.6536, -4.7534, -4.5489, -5.1026, -3.7964, -5.4038, -4.907, -5.4473, -3.5704, -3.7798, -4.1144, -4.548, -4.337, -5.5875, -4.4585, -4.4385, -5.4568, -5.0809, -4.3004, -5.0134, -5.1626, -4.0566, -5.0533, -5.1166, -5.1003, -4.7093, -5.2478, -4.7739, -4.4124, -4.8764, -5.0251, -5.0464, -4.1505, -5.5589, -5.6025, -5.7062, -6.0259, -6.0, -5.2998, -5.6097, -6.1802, -6.2259, -6.2627, -6.3747, -6.6249, -6.6113, -6.7742, -6.7972, -6.8449, -6.4285, -6.8922, -6.9392, -6.9316, -6.9692, -7.0126, -7.0351, -7.0129, -7.2101, -7.1872, -7.1732, -7.2378, -7.2446, -5.1015, -6.9379, -6.692, -6.0318, -6.2539, -4.7865, -5.3983, -4.9735, -2.9854, -4.4307, -3.1955, -5.3376, -4.6219, -3.3071, -4.8245, -5.7642, -5.0657, -4.1513, -4.6384, -5.3106, -4.2706, -3.5291, -4.1088, -5.1448, -5.3794, -4.6877, -4.5394, -4.7853, -4.6273, -4.5272, -4.7464, -4.923, -5.0574, -4.7854, -5.1606, -5.0165, -5.1635, -5.0812], \"loglift\": [30.0, 29.0, 28.0, 27.0, 26.0, 25.0, 24.0, 23.0, 22.0, 21.0, 20.0, 19.0, 18.0, 17.0, 16.0, 15.0, 14.0, 13.0, 12.0, 11.0, 10.0, 9.0, 8.0, 7.0, 6.0, 5.0, 4.0, 3.0, 2.0, 1.0, 1.2605, 1.2578, 1.2568, 1.2566, 1.2547, 1.2543, 1.2539, 1.251, 1.2506, 1.2503, 1.2477, 1.247, 1.2467, 1.2464, 1.2458, 1.2455, 1.2455, 1.2449, 1.2448, 1.2432, 1.2416, 1.2413, 1.2411, 1.2402, 1.2396, 1.2396, 1.2392, 1.2392, 1.2384, 1.2384, 1.2112, 1.22, 1.2283, 1.2111, 1.2297, 1.1695, 1.2147, 1.1442, 1.1592, 1.0705, 1.1065, 1.1302, 1.1579, 1.0484, 0.9014, 1.1423, 0.9927, 0.4942, 1.1, 0.6398, 0.9695, 0.6462, 0.8063, 0.4371, 0.6968, 0.3483, 0.4582, 0.6365, -0.0663, 0.3299, 0.4903, -0.0249, 0.448, 0.2304, 0.5152, 0.5295, -0.0793, -0.1659, -0.1316, -0.5454, -0.2717, 1.4008, 1.3998, 1.3972, 1.3963, 1.3941, 1.3939, 1.3927, 1.3901, 1.3901, 1.3873, 1.3873, 1.387, 1.3857, 1.3853, 1.384, 1.3833, 1.3829, 1.3807, 1.3802, 1.3798, 1.3783, 1.3777, 1.3765, 1.3761, 1.3746, 1.3735, 1.3734, 1.3728, 1.3722, 1.3714, 1.3475, 1.2077, 1.2846, 1.24, 1.267, 1.293, 1.0948, 1.1811, 1.2452, 1.0661, 1.2131, 0.9877, 0.9462, 0.9615, 0.9282, 0.7891, 0.3555, 0.9737, 0.5559, 0.8409, 0.405, 0.5055, 0.7761, 0.8566, -0.1491, 0.2244, 0.1519, 0.4794, -0.0089, 0.0394, -0.4703, 0.0357, -0.0152, 0.1094, 0.4955, -0.5756, -0.3632, 1.4015, 1.3975, 1.3958, 1.395, 1.3937, 1.3921, 1.392, 1.3915, 1.3907, 1.3907, 1.39, 1.3867, 1.3858, 1.3855, 1.3845, 1.3825, 1.382, 1.3803, 1.3796, 1.3794, 1.378, 1.3775, 1.3768, 1.3768, 1.3766, 1.376, 1.375, 1.3744, 1.3744, 1.3741, 1.2778, 1.3674, 1.2208, 1.3362, 1.2546, 1.3028, 1.2384, 1.2073, 1.0511, 0.9909, 1.079, 0.8513, 1.1018, 0.9727, 1.0724, 0.6147, 0.6614, 0.7257, 0.7934, 0.7102, 1.093, 0.5787, 0.5065, 0.9909, 0.8044, 0.3892, 0.7464, 0.7886, -0.2178, 0.6323, 0.6453, 0.5908, -0.0791, 0.7437, -0.0712, -0.8909, -0.068, 0.2272, 0.107, 1.4863, 1.4815, 1.4813, 1.4805, 1.4777, 1.4776, 1.4774, 1.4774, 1.4757, 1.4754, 1.475, 1.4733, 1.4695, 1.4694, 1.4662, 1.466, 1.4651, 1.4642, 1.4629, 1.4627, 1.4623, 1.4622, 1.4611, 1.4598, 1.4578, 1.4553, 1.4548, 1.4546, 1.4531, 1.4525, 1.4318, 1.4491, 1.4375, 1.3665, 1.3822, 1.2439, 1.295, 1.2466, 0.9878, 1.1232, 0.9533, 1.1635, 0.9014, 0.5317, 0.9036, 1.1333, 0.8725, 0.5384, 0.704, 0.9261, 0.4273, -0.0076, 0.0763, 0.7198, 0.86, 0.2425, 0.0909, 0.2513, 0.0854, -0.086, 0.0937, 0.3293, 0.4739, -0.1377, 0.5785, -0.0715, 0.4497, -0.3784]}, \"token.table\": {\"Topic\": [2, 3, 4, 3, 1, 1, 2, 3, 4, 1, 2, 3, 4, 1, 2, 4, 1, 4, 1, 2, 3, 4, 2, 1, 3, 4, 2, 3, 1, 3, 1, 2, 4, 1, 2, 1, 1, 2, 3, 4, 1, 3, 1, 3, 1, 2, 3, 4, 1, 2, 4, 1, 2, 3, 4, 2, 4, 3, 4, 4, 4, 2, 3, 2, 1, 4, 3, 1, 2, 3, 4, 1, 2, 3, 4, 1, 3, 2, 4, 4, 1, 1, 2, 3, 4, 3, 3, 4, 4, 1, 2, 3, 4, 3, 1, 1, 2, 3, 4, 1, 2, 3, 4, 1, 2, 4, 1, 2, 3, 4, 1, 2, 4, 1, 2, 3, 4, 2, 1, 2, 1, 2, 3, 4, 1, 2, 3, 4, 1, 1, 3, 1, 2, 1, 3, 3, 4, 1, 2, 3, 2, 2, 1, 2, 3, 4, 2, 1, 2, 3, 4, 1, 2, 3, 4, 1, 2, 3, 4, 3, 2, 3, 1, 2, 3, 4, 1, 3, 2, 1, 2, 3, 4, 3, 1, 3, 4, 2, 1, 2, 4, 1, 2, 3, 4, 1, 3, 1, 2, 3, 4, 1, 4, 4, 1, 3, 4, 1, 2, 3, 4, 1, 1, 3, 1, 3, 4, 1, 2, 3, 4, 2, 4, 2, 4, 1, 2, 3, 4, 1, 2, 3, 4, 2, 3, 4, 4, 4, 1, 3, 1, 2, 3, 4, 1, 2, 3, 4, 3, 1, 2, 3, 4, 4, 1, 2, 3, 4, 4, 4, 2, 3, 1, 2, 3, 4, 1, 2, 3, 4, 1, 2, 3, 4, 1, 2, 3, 4, 1, 2, 3, 4, 1, 2, 3, 4, 1, 3, 4, 1, 4, 1, 3, 4, 1, 2, 3, 4, 4, 4, 4, 1, 2, 3, 4, 1, 2, 3, 4, 2, 1, 2, 3, 1, 3, 1, 4, 3, 1, 2, 3, 4, 1, 2, 4, 3, 2, 1, 4, 1, 2, 4, 3, 1, 2, 3, 4, 1, 3, 2, 3, 2, 1, 2, 3, 4, 2, 1, 2, 3, 4, 4, 1, 1, 2, 3, 1, 3, 4, 4, 1, 2, 3, 4, 1, 2, 3, 4, 1, 2, 3, 4, 4, 4, 3, 1, 1, 2, 3, 4, 2, 2, 1, 2, 1, 3, 4, 1, 2, 3, 4, 2, 1, 2, 3, 4, 1, 2, 3, 4, 1, 2, 3, 2, 1, 2, 3, 1, 2, 3, 4, 2, 3, 1, 2, 3, 4, 2, 1, 1, 4, 1, 3, 4, 1, 1, 3, 1, 2, 3, 2, 1, 2, 3, 4, 1, 3, 3, 4, 1, 2, 3, 4, 1, 2, 2, 3, 4, 1, 1, 2, 3, 4, 3, 1, 4, 1, 2, 3, 4, 1, 2, 2, 3, 3, 1, 2, 3, 4, 2, 3, 4, 4, 1, 2, 3, 2, 3, 4, 1, 1, 2, 3, 4, 1, 1, 2, 3, 3, 1, 3, 4, 1, 2, 3, 4, 1, 4, 1, 1, 1, 2, 3, 4, 3, 1, 2, 3, 4, 4, 1, 2, 3, 4, 2, 3, 4, 1, 2, 3, 1, 2, 3, 4, 2], \"Freq\": [0.1979905750859829, 0.0152300442373833, 0.78434727822524, 0.9729918176133572, 0.9847129356066523, 0.05988581996323081, 0.8758301169622505, 0.05988581996323081, 0.007485727495403851, 0.17872402037100807, 0.20319218982656276, 0.40744821310771484, 0.21063902400868809, 0.1477123229632649, 0.6440257281198349, 0.20975149860783615, 0.9661695666043975, 0.9867450654496398, 0.4306610634219708, 0.002327897640118761, 0.009311590560475045, 0.556367535988384, 0.9913931095211157, 0.12089920250122634, 0.7217316028103512, 0.15753532447129492, 0.062166074271636416, 0.9324911140745462, 0.9866148588033833, 0.011392781279484796, 0.824802095398532, 0.17299874458570902, 0.0017474620665223135, 0.0195729421984937, 0.978647109924685, 0.9844249468253458, 0.1749868535858752, 0.3163223891744667, 0.4441973975641448, 0.06505921479474848, 0.9725462657500751, 0.029924500484617696, 0.984911047733926, 0.9975070099838593, 0.1708032776380307, 0.2756143798250041, 0.02329135604154964, 0.5318192962820502, 0.8893980542820044, 0.08338106758893792, 0.027793689196312636, 0.06413813462765973, 0.8233949715713074, 0.03698054609162363, 0.07569455528129211, 0.5336835503751586, 0.464304688826388, 0.02027915394827657, 0.9733993895172754, 0.9785876306130284, 0.9933683936098952, 0.8278939960915419, 0.16850939743456161, 0.9989205025252126, 0.21417677817856162, 0.7842649671538506, 0.9551287871805691, 0.08172966821643439, 0.12531882459853275, 0.5503130993239915, 0.24518900464930318, 0.43709249206226036, 0.24221048923195318, 0.2292183557099327, 0.09094493465414334, 0.9803608870579127, 0.9582623034859472, 0.8931552473937359, 0.09788002711164229, 0.9987213152352272, 0.9891219122766509, 0.0029608417153701677, 0.5714424510664424, 0.005921683430740335, 0.4204395235825638, 0.991892845288104, 0.9890697625597955, 0.9944617497272501, 0.9899194293299568, 0.5343648885940746, 0.19607743895992255, 0.18530395330278396, 0.08618788525710881, 0.9949866800843358, 0.9602403668869703, 0.17547312483974892, 0.16004691606262814, 0.6613987013190537, 0.0038565521942801957, 0.47236897219043866, 0.19450487090194535, 0.1923674547381877, 0.13893205064424666, 0.9508431407384723, 0.04778106234866695, 0.9761762674664526, 0.4005850362860154, 0.25553108630455296, 0.09782708254563743, 0.24625438020108734, 0.011734408874037674, 0.29336022185094185, 0.6942858583805623, 0.06679081732157191, 0.01027551035716491, 0.7192857250015436, 0.20551020714329818, 0.9810332535157956, 0.991436095747409, 0.9956745379987657, 0.2226398292248012, 0.42887461840145913, 0.17225292050550406, 0.1757682862301062, 0.4421973031695586, 0.27474758910167424, 0.20646712317108065, 0.07640909282709284, 0.975748868463141, 0.028380951051956874, 0.9649523357665337, 0.8490282075073199, 0.14290573789727165, 0.9757746777362093, 0.9547150507510926, 0.05208174189393164, 0.9478877024695558, 0.9943618629336305, 0.9811302781976675, 0.014219279394169095, 0.9566912608688786, 0.9890618966132507, 0.4630282120801201, 0.21191163884353037, 0.10070287069589774, 0.22421122610409802, 0.9789207692989013, 0.39309730958573386, 0.16038370231097943, 0.15933544281875078, 0.2882713603628715, 0.27543793198540845, 0.06957926853289935, 0.06909941150853453, 0.585905426749449, 0.24798291402898945, 0.369052013470752, 0.22877884997960643, 0.15446747170155908, 0.978779961227629, 0.9952591967657007, 0.9789140093512014, 0.26090916179163687, 0.3082716529448958, 0.08475393153741069, 0.34649401422647313, 0.966308218218748, 0.9576458587169407, 0.9987640157634782, 0.3169713486445879, 0.02709156826022119, 0.6501976382453086, 0.005418313652044238, 0.9886255955057048, 0.055944904476501196, 0.8471656963584466, 0.09590555053114491, 0.9797241817595433, 0.11488312707624401, 0.800475982208668, 0.08152996115088285, 0.06609134828835478, 0.40480950826617307, 0.2251236551072085, 0.3036071311996298, 0.0168866082670579, 0.9794232794893583, 0.25026021636260865, 0.09603008302286145, 0.5412604679470373, 0.11349009811792717, 0.11132438921582173, 0.8905951137265739, 0.9661075763218692, 0.28483264555802223, 0.0074955959357374275, 0.7045860179593182, 0.4796845090025308, 0.035697451832746474, 0.4618357830861575, 0.02231090739546655, 0.9917939143539144, 0.968878797931492, 0.9781882349303286, 0.272331154900227, 0.0050431695351893895, 0.7211732435320827, 0.5358192319345368, 0.2547337332147798, 0.048799565749957814, 0.1610385669748608, 0.9516674281012553, 0.03965280950421897, 0.09413991921231024, 0.8943292325169473, 0.20102863431784823, 0.23585249223117627, 0.10605447637240813, 0.45587595813811255, 0.0939172628855575, 0.39081699716893287, 0.5180597404332365, 0.965974028752139, 0.5415693932399785, 0.3175388888421457, 0.14026257666646927, 0.9924153750446857, 0.9707562998623085, 0.9586905307743074, 0.047148714628244624, 0.15703107200728916, 0.015196555355544112, 0.7395656939698134, 0.09117933213326468, 0.8751025345087537, 0.005147661967698551, 0.11324856328936812, 0.005147661967698551, 0.9887379019570813, 0.011240135440864735, 0.04496054176345894, 0.8317700226239904, 0.11099633747853926, 0.9788267158165057, 0.23918710851182126, 0.28655858130150014, 0.22676180417354483, 0.24695292372324404, 0.9921037767268281, 0.9759919450719688, 0.9705710730199536, 0.01702756268456059, 0.18028627168326597, 0.20267476293805062, 0.4996168574751946, 0.11665582285387797, 0.28061187901736595, 0.09835880295454065, 0.30809448572525233, 0.31388029766375475, 0.0807962444925888, 0.8483605671721826, 0.036358310021664966, 0.03231849779703552, 0.014090317416608081, 0.3510501939223499, 0.028180634833216162, 0.6066888099093822, 0.16371327378316608, 0.13833522830310083, 0.4543167749666585, 0.2438282801025878, 0.05540022188131978, 0.5782398158862752, 0.2008258043197842, 0.16273815177637685, 0.0897849313203763, 0.8606969278298141, 0.04953651383193174, 0.9936349843463091, 0.9908845367044549, 0.8885860866700472, 0.07031976225446417, 0.04155258678672882, 0.07993603175396435, 0.17140922273015036, 0.362596432698395, 0.3873189167460128, 0.9894502684457884, 0.9520218709267503, 0.9849771235099726, 0.19346716957522583, 0.16880958913916766, 0.08155968913465403, 0.5557439282896194, 0.16307854911658445, 0.6334974407990396, 0.13798954156018683, 0.06481326952069383, 0.9726456944179623, 0.05779044457727982, 0.23869966238441664, 0.7035358470277543, 0.9751416831212256, 0.01839889968153256, 0.0066462602439139335, 0.9902927763431761, 0.960604712613507, 0.045021560488836855, 0.7358211292394273, 0.1224023675790252, 0.09707773980405447, 0.14289712039056854, 0.6223963465900318, 0.23498637575337936, 0.9917510749999727, 0.9589490913259393, 0.025696645875895183, 0.9507758974081217, 0.024937054974747533, 0.8561722207996653, 0.11637292321548849, 0.976316501112608, 0.2642923505358671, 0.1537892905248654, 0.19742744161201256, 0.3842972660255218, 0.973646651481943, 0.9800903394131442, 0.9833822885679683, 0.9629136359364037, 0.9872085228683694, 0.08186701313927476, 0.195036119537684, 0.4671235455593913, 0.25523245272832723, 0.9919821669423238, 0.06280257345627617, 0.7146499738127978, 0.19273893233133033, 0.030318483737512635, 0.9727815622543843, 0.9952673608963134, 0.9486480097498518, 0.017547246423118647, 0.03290108704334746, 0.1734371854388296, 0.8238266308344406, 0.9693253367805659, 0.973031409144481, 0.10272766131562408, 0.1248536191374508, 0.5752749033674949, 0.19676298205838766, 0.028685620379248128, 0.22948496303398502, 0.6597692687227069, 0.0812759244078697, 0.12857676463163437, 0.6612519323912626, 0.0701327807081642, 0.1402655614163284, 0.98808674525772, 0.9628340550091814, 0.992950825304315, 0.9847345436706457, 0.7626721657847428, 0.043228381866341696, 0.1049832131039727, 0.0926322468564465, 0.9570581789281215, 0.9927962134327251, 0.9794042234992562, 0.992901825120023, 0.5672453911975183, 0.030598299110239577, 0.40248531906545904, 0.24283322367200152, 0.13575715654104023, 0.2581298046907103, 0.36329379919433297, 0.9907530970414626, 0.355615142129872, 0.15273961842299422, 0.20054362113553437, 0.29032187013225613, 0.03558559595005524, 0.05930932658342541, 0.8817319885402577, 0.023723730633370164, 0.9683960027762706, 0.029051880083288118, 0.009683960027762705, 0.9662024472517844, 0.7460869360344422, 0.019008584357565406, 0.23760730446956757, 0.19634715422772048, 0.6517054480749871, 0.054308787339582255, 0.09608477760079938, 0.9756165601842135, 0.9928259527036172, 0.17497519715699578, 0.048269019905378144, 0.7300689260688444, 0.048269019905378144, 0.9926266037913215, 0.9693609460456731, 0.17112231531935854, 0.8250540202897644, 0.8557042702413102, 0.01240151116291754, 0.13331624500136355, 0.9744923680506087, 0.9019304923318129, 0.09632267393834895, 0.05851106379103435, 0.39692640571755733, 0.5424133751439131, 0.9800322970906873, 0.8060547728132365, 0.09619583708470722, 0.08292744576267864, 0.013268391322028584, 0.025731230761105013, 0.9777867689219906, 0.9885381744690749, 0.9890019065819535, 0.041999158069543775, 0.4083251478983423, 0.437491229891081, 0.11199775485211674, 0.9810215623414037, 0.9885282872191632, 0.005919768763564614, 0.9767618459881613, 0.017759306290693843, 0.9768931160354414, 0.2490126828491976, 0.18883461782730818, 0.20958567473140796, 0.3548430730601066, 0.985179826054946, 0.03324426166515266, 0.9640835882894271, 0.5385484542410609, 0.06027549609510657, 0.2738604061712451, 0.1271026765483769, 0.982062642489928, 0.994677012906161, 0.0883925011762112, 0.8986570952914805, 0.9796693425523937, 0.21553032412328205, 0.029695289101429972, 0.5076936523792867, 0.24809935087968912, 0.3910173813664481, 0.03871459221449981, 0.5691045055531473, 0.991012499948202, 0.9562022711864374, 0.03743140563363278, 0.00680571011520596, 0.8892778608477399, 0.006008634194917161, 0.1081554155085089, 0.9886410376347773, 0.6958140186623517, 0.0988690160565808, 0.08581084412457957, 0.11938900052115418, 0.97478059310397, 0.9113379074999296, 0.07843481990778083, 0.011204974272540118, 0.9825521865122679, 0.007584863291607931, 0.986032227909031, 0.9461307805326561, 0.4467342457601652, 0.2749133820062555, 0.20737000797885652, 0.07228325992405855, 0.9023690362670539, 0.09694873943365043, 0.9596988829826428, 0.9979238573089787, 0.4611014460001002, 0.19253007745267342, 0.1941479772632001, 0.15208258218950674, 0.9687001839633291, 0.6329333286411277, 0.00287696967564149, 0.043154545134622344, 0.31934363399620536, 0.9789325978727853, 0.0732779005868625, 0.24361688002123585, 0.4756635652129671, 0.2069779297278046, 0.9885864037472006, 0.01734362111837194, 0.9876420011071486, 0.47340444820982874, 0.007209204795073534, 0.5190627452452945, 0.06893851398702824, 0.3274579414383842, 0.06606607590423541, 0.5400183595650546, 0.9527499633137728], \"Term\": [\"absolutely\", \"absolutely\", \"absolutely\", \"actual\", \"adult_cats\", \"ago\", \"ago\", \"ago\", \"ago\", \"also\", \"also\", \"also\", \"also\", \"always\", \"always\", \"always\", \"amuse\", \"appreciate\", \"around\", \"around\", \"around\", \"around\", \"arrive\", \"attach\", \"attach\", \"attach\", \"attract\", \"attract\", \"away\", \"away\", \"back\", \"back\", \"back\", \"beat\", \"beat\", \"bergan\", \"big\", \"big\", \"big\", \"big\", \"bore\", \"bore\", \"bottom\", \"break\", \"bring\", \"bring\", \"bring\", \"bring\", \"busy\", \"busy\", \"busy\", \"buy\", \"buy\", \"buy\", \"buy\", \"carry\", \"carry\", \"cat_catcher\", \"cat_catcher\", \"cat_charmer\", \"cat_dancer\", \"cat_nip\", \"cat_nip\", \"catnip\", \"chase\", \"chase\", \"cheaply_made\", \"chew\", \"chew\", \"chew\", \"chew\", \"come\", \"come\", \"come\", \"come\", \"come_running\", \"complete\", \"constantly\", \"constantly\", \"crazy\", \"curious\", \"definitely\", \"definitely\", \"definitely\", \"definitely\", \"design\", \"double\", \"drag\", \"drive\", \"easy\", \"easy\", \"easy\", \"easy\", \"elastic\", \"energetic\", \"enjoy\", \"enjoy\", \"enjoy\", \"enjoy\", \"enough\", \"enough\", \"enough\", \"enough\", \"entertain\", \"entertain\", \"entertained\", \"even\", \"even\", \"even\", \"even\", \"favorite\", \"favorite\", \"favorite\", \"feel\", \"feel\", \"feel\", \"feel\", \"fight\", \"figure\", \"fill\", \"find\", \"find\", \"find\", \"find\", \"first\", \"first\", \"first\", \"first\", \"first_day\", \"fishing_pole\", \"fishing_pole\", \"fit\", \"fit\", \"flash\", \"flimsy\", \"fly\", \"fly\", \"forth\", \"fresh\", \"fresh\", \"fur_balls\", \"generally\", \"get\", \"get\", \"get\", \"get\", \"get_lost\", \"give\", \"give\", \"give\", \"give\", \"go\", \"go\", \"go\", \"go\", \"good\", \"good\", \"good\", \"good\", \"good_idea\", \"good_quality\", \"good_size\", \"great\", \"great\", \"great\", \"great\", \"great_idea\", \"growl\", \"happy\", \"hard\", \"hard\", \"hard\", \"hard\", \"hate\", \"heavy\", \"heavy\", \"heavy\", \"high_quality\", \"highly\", \"highly\", \"highly\", \"hold\", \"hold\", \"hold\", \"hold\", \"hope\", \"hope\", \"however\", \"however\", \"however\", \"however\", \"inexpensive\", \"inexpensive\", \"insane\", \"interactive\", \"interactive\", \"interactive\", \"interested\", \"interested\", \"interested\", \"interested\", \"interesting\", \"intrigue\", \"jackson_galaxy\", \"jump\", \"jump\", \"jump\", \"keep\", \"keep\", \"keep\", \"keep\", \"kick\", \"kick\", \"kitten_loves\", \"kitten_loves\", \"know\", \"know\", \"know\", \"know\", \"large\", \"large\", \"large\", \"laser_pointers\", \"last\", \"last\", \"last\", \"last_long\", \"laugh\", \"learn\", \"learn\", \"less\", \"less\", \"less\", \"less\", \"light\", \"light\", \"light\", \"light\", \"lightweight\", \"like\", \"like\", \"like\", \"like\", \"like_real_bird\", \"little\", \"little\", \"little\", \"little\", \"little_bit\", \"little_guy\", \"local\", \"local\", \"long\", \"long\", \"long\", \"long\", \"look\", \"look\", \"look\", \"look\", \"lose\", \"lose\", \"lose\", \"lose\", \"love\", \"love\", \"love\", \"love\", \"make\", \"make\", \"make\", \"make\", \"many\", \"many\", \"many\", \"many\", \"maybe\", \"maybe\", \"maybe\", \"middle\", \"miss\", \"move\", \"move\", \"move\", \"much\", \"much\", \"much\", \"much\", \"much_fun\", \"neat\", \"neko_flies\", \"never\", \"never\", \"never\", \"never\", \"new\", \"new\", \"new\", \"new\", \"new_kitten\", \"nice\", \"nice\", \"nice\", \"noisy\", \"noisy\", \"nuts\", \"nuts\", \"ok\", \"old\", \"old\", \"old\", \"old\", \"order\", \"order\", \"order\", \"overall\", \"package\", \"pant\", \"pant\", \"pay\", \"pay\", \"pay\", \"perfectly\", \"play\", \"play\", \"play\", \"play\", \"play_circuit\", \"pleased\", \"plenty\", \"poorly\", \"potent\", \"pretty\", \"pretty\", \"pretty\", \"pretty\", \"previous\", \"purchase\", \"purchase\", \"purchase\", \"purchase\", \"purple\", \"push\", \"put\", \"put\", \"put\", \"rather\", \"rather\", \"real_fur\", \"real_mouse\", \"really\", \"really\", \"really\", \"really\", \"receive\", \"receive\", \"receive\", \"receive\", \"recommend\", \"recommend\", \"recommend\", \"recommend\", \"red_dot\", \"red_light\", \"regular\", \"require\", \"right\", \"right\", \"right\", \"right\", \"right_size\", \"roll_around\", \"round\", \"rub\", \"run\", \"run\", \"run\", \"say\", \"say\", \"say\", \"say\", \"scratch\", \"see\", \"see\", \"see\", \"see\", \"seem\", \"seem\", \"seem\", \"seem\", \"send\", \"send\", \"send\", \"senior\", \"set\", \"set\", \"set\", \"several\", \"several\", \"several\", \"several\", \"several_months\", \"sharp\", \"short\", \"short\", \"short\", \"short\", \"shred\", \"shut\", \"simple\", \"simple\", \"sit\", \"sit\", \"sit\", \"slide\", \"slow\", \"slow\", \"small\", \"small\", \"small\", \"small_enough\", \"sometimes\", \"sometimes\", \"sometimes\", \"sometimes\", \"spoil\", \"spoil\", \"spray\", \"step\", \"still\", \"still\", \"still\", \"still\", \"stuck\", \"stuff\", \"sturdy\", \"sturdy\", \"sturdy\", \"suggest\", \"sure\", \"sure\", \"sure\", \"sure\", \"swallow\", \"switch\", \"switch\", \"take\", \"take\", \"take\", \"take\", \"tape\", \"tear\", \"thick\", \"thick\", \"thin\", \"think\", \"think\", \"think\", \"think\", \"throw\", \"throw\", \"throw\", \"tired\", \"together\", \"together\", \"together\", \"toss\", \"toss\", \"toss\", \"treat\", \"try\", \"try\", \"try\", \"try\", \"turbo_scratcher\", \"turn\", \"turn\", \"turn\", \"undercover_mouse\", \"unfortunately\", \"unfortunately\", \"unsupervised\", \"use\", \"use\", \"use\", \"use\", \"wait\", \"wait\", \"wake\", \"walk\", \"want\", \"want\", \"want\", \"want\", \"warm\", \"watch\", \"watch\", \"watch\", \"watch\", \"weird\", \"well\", \"well\", \"well\", \"well\", \"went_crazy\", \"went_crazy\", \"wild\", \"work\", \"work\", \"work\", \"worth\", \"worth\", \"worth\", \"worth\", \"yeowww_catnip_toys\"]}, \"R\": 30, \"lambda.step\": 0.01, \"plot.opts\": {\"xlab\": \"PC1\", \"ylab\": \"PC2\"}, \"topic.order\": [4, 1, 3, 2]};\n",
       "\n",
       "function LDAvis_load_lib(url, callback){\n",
       "  var s = document.createElement('script');\n",
       "  s.src = url;\n",
       "  s.async = true;\n",
       "  s.onreadystatechange = s.onload = callback;\n",
       "  s.onerror = function(){console.warn(\"failed to load library \" + url);};\n",
       "  document.getElementsByTagName(\"head\")[0].appendChild(s);\n",
       "}\n",
       "\n",
       "if(typeof(LDAvis) !== \"undefined\"){\n",
       "   // already loaded: just create the visualization\n",
       "   !function(LDAvis){\n",
       "       new LDAvis(\"#\" + \"ldavis_el213201355946725264308140217\", ldavis_el213201355946725264308140217_data);\n",
       "   }(LDAvis);\n",
       "}else if(typeof define === \"function\" && define.amd){\n",
       "   // require.js is available: use it to load d3/LDAvis\n",
       "   require.config({paths: {d3: \"https://d3js.org/d3.v5\"}});\n",
       "   require([\"d3\"], function(d3){\n",
       "      window.d3 = d3;\n",
       "      LDAvis_load_lib(\"https://cdn.jsdelivr.net/gh/bmabey/pyLDAvis@3.3.1/pyLDAvis/js/ldavis.v3.0.0.js\", function(){\n",
       "        new LDAvis(\"#\" + \"ldavis_el213201355946725264308140217\", ldavis_el213201355946725264308140217_data);\n",
       "      });\n",
       "    });\n",
       "}else{\n",
       "    // require.js not available: dynamically load d3 & LDAvis\n",
       "    LDAvis_load_lib(\"https://d3js.org/d3.v5.js\", function(){\n",
       "         LDAvis_load_lib(\"https://cdn.jsdelivr.net/gh/bmabey/pyLDAvis@3.3.1/pyLDAvis/js/ldavis.v3.0.0.js\", function(){\n",
       "                 new LDAvis(\"#\" + \"ldavis_el213201355946725264308140217\", ldavis_el213201355946725264308140217_data);\n",
       "            })\n",
       "         });\n",
       "}\n",
       "</script>"
      ],
      "text/plain": [
       "<IPython.core.display.HTML object>"
      ]
     },
     "execution_count": 294,
     "metadata": {},
     "output_type": "execute_result"
    }
   ],
   "source": [
    "pyLDAvis.enable_notebook()\n",
    "topic_data =  pyLDAvis.gensim_models.prepare(optimal_model, \n",
    "                                             cats_toys_doc_term_matrix, \n",
    "                                             cats_toys_dictionary, \n",
    "                                             mds = 'tsne')\n",
    "pyLDAvis.display(topic_data)"
   ]
  },
  {
   "cell_type": "markdown",
   "id": "4dcd4ed2",
   "metadata": {},
   "source": [
    "## 4. cats beds (4/6)"
   ]
  },
  {
   "cell_type": "code",
   "execution_count": 290,
   "id": "571af1ab",
   "metadata": {},
   "outputs": [
    {
     "data": {
      "application/vnd.jupyter.widget-view+json": {
       "model_id": "0fc59d8806834003a2aee5dccb8aef1b",
       "version_major": 2,
       "version_minor": 0
      },
      "text/plain": [
       "  0%|          | 0/5840 [00:00<?, ?it/s]"
      ]
     },
     "metadata": {},
     "output_type": "display_data"
    },
    {
     "data": {
      "application/vnd.jupyter.widget-view+json": {
       "model_id": "3cdf1dc8d12e446cb7307eeaa4685024",
       "version_major": 2,
       "version_minor": 0
      },
      "text/plain": [
       "  0%|          | 0/5840 [00:00<?, ?it/s]"
      ]
     },
     "metadata": {},
     "output_type": "display_data"
    },
    {
     "name": "stdout",
     "output_type": "stream",
     "text": [
      "Round: 2\n",
      "Round: 4\n",
      "Round: 6\n",
      "Round: 8\n",
      "Round: 10\n",
      "Round: 12\n",
      "Round: 14\n",
      "Round: 16\n",
      "Round: 18\n"
     ]
    },
    {
     "data": {
      "image/png": "[encoded data removed]",
      "text/plain": [
       "<Figure size 432x288 with 1 Axes>"
      ]
     },
     "metadata": {
      "needs_background": "light"
     },
     "output_type": "display_data"
    },
    {
     "name": "stdout",
     "output_type": "stream",
     "text": [
      "Num Topics = 2  has Coherence Value of 0.5824\n",
      "Num Topics = 4  has Coherence Value of 0.6102\n",
      "Num Topics = 6  has Coherence Value of 0.6146\n",
      "Num Topics = 8  has Coherence Value of 0.5825\n",
      "Num Topics = 10  has Coherence Value of 0.5846\n",
      "Num Topics = 12  has Coherence Value of 0.5846\n",
      "Num Topics = 14  has Coherence Value of 0.5368\n",
      "Num Topics = 16  has Coherence Value of 0.5594\n",
      "Num Topics = 18  has Coherence Value of 0.5569\n"
     ]
    }
   ],
   "source": [
    "cats_beds_dictionary, cats_beds_doc_term_matrix = vectorize(cats_beds_reviews2)\n",
    "model_list, coherence_values = compute_coherence_values(dictionary=cats_beds_dictionary, \n",
    "                                                    corpus=cats_beds_doc_term_matrix, \n",
    "                                                    texts=cats_beds_reviews2, \n",
    "                                                    start=2, \n",
    "                                                    limit=20, \n",
    "                                                    step=2)\n",
    "\n",
    "limit=20; start=2; step=2;\n",
    "x = range(start, limit, step)\n",
    "plt.plot(x, coherence_values)\n",
    "plt.xlabel(\"Num Topics\")\n",
    "plt.ylabel(\"Coherence score\")\n",
    "plt.legend((\"coherence_values\"), loc='best')\n",
    "plt.show()\n",
    "for m, cv in zip(x, coherence_values):\n",
    "    print(\"Num Topics =\", m, \" has Coherence Value of\", round(cv, 4))\n",
    "    \n",
    "# with open ('./cats_beds_model_list.pickle', 'wb') as handle:\n",
    "#     pickle.dump(model_list, handle)"
   ]
  },
  {
   "cell_type": "code",
   "execution_count": 397,
   "id": "b9f3ffb3",
   "metadata": {},
   "outputs": [
    {
     "data": {
      "text/plain": [
       "[(0,\n",
       "  '0.024*\"well\" + 0.023*\"easy\" + 0.023*\"together\" + 0.023*\"put\" + 0.021*\"make\" + 0.018*\"sturdy\" + 0.016*\"cat_tree\" + 0.013*\"look\" + 0.012*\"large\" + 0.012*\"good\" + 0.012*\"small\" + 0.012*\"take\" + 0.011*\"top\" + 0.011*\"little\" + 0.010*\"assemble\" + 0.010*\"even\" + 0.010*\"get\" + 0.010*\"really\" + 0.010*\"big\" + 0.009*\"hold\" + 0.008*\"love\" + 0.008*\"also\" + 0.008*\"go\" + 0.008*\"nice\" + 0.008*\"great\" + 0.007*\"high\" + 0.007*\"fit\" + 0.007*\"buy\" + 0.007*\"recommend\" + 0.007*\"enough\"'),\n",
       " (1,\n",
       "  '0.030*\"get\" + 0.028*\"warm\" + 0.020*\"soft\" + 0.019*\"love\" + 0.018*\"keep\" + 0.017*\"buy\" + 0.016*\"nice\" + 0.014*\"put\" + 0.014*\"great\" + 0.014*\"fit\" + 0.013*\"well\" + 0.013*\"small\" + 0.012*\"sleep\" + 0.011*\"really\" + 0.011*\"cold\" + 0.011*\"comfortable\" + 0.010*\"also\" + 0.009*\"make\" + 0.008*\"seem\" + 0.008*\"perfect\" + 0.008*\"little\" + 0.008*\"good\" + 0.007*\"feel\" + 0.007*\"large\" + 0.007*\"lay\" + 0.007*\"recommend\" + 0.007*\"wash\" + 0.007*\"hot\" + 0.007*\"take\" + 0.007*\"stay\"'),\n",
       " (2,\n",
       "  '0.035*\"scratch\" + 0.023*\"use\" + 0.022*\"look\" + 0.015*\"seem\" + 0.015*\"also\" + 0.014*\"really\" + 0.014*\"much\" + 0.012*\"try\" + 0.012*\"think\" + 0.011*\"like\" + 0.011*\"love\" + 0.011*\"buy\" + 0.011*\"take\" + 0.010*\"get\" + 0.010*\"sit\" + 0.009*\"new\" + 0.009*\"even\" + 0.009*\"scratching_post\" + 0.009*\"however\" + 0.009*\"nice\" + 0.009*\"prefer\" + 0.008*\"still\" + 0.008*\"give\" + 0.008*\"little\" + 0.007*\"see\" + 0.007*\"right\" + 0.007*\"good\" + 0.007*\"come\" + 0.007*\"long\" + 0.007*\"cute\"'),\n",
       " (3,\n",
       "  '0.018*\"go\" + 0.017*\"get\" + 0.015*\"come\" + 0.012*\"make\" + 0.012*\"seem\" + 0.012*\"try\" + 0.011*\"think\" + 0.011*\"back\" + 0.010*\"well\" + 0.010*\"want\" + 0.009*\"last\" + 0.009*\"give\" + 0.009*\"buy\" + 0.008*\"see\" + 0.008*\"use\" + 0.008*\"work\" + 0.007*\"long\" + 0.007*\"say\" + 0.007*\"put\" + 0.006*\"know\" + 0.006*\"little\" + 0.006*\"cover\" + 0.006*\"order\" + 0.005*\"less\" + 0.005*\"much\" + 0.005*\"find\" + 0.005*\"easily\" + 0.005*\"take\" + 0.005*\"cheap\" + 0.005*\"still\"'),\n",
       " (4,\n",
       "  '0.049*\"get\" + 0.037*\"love\" + 0.034*\"use\" + 0.024*\"play\" + 0.020*\"buy\" + 0.018*\"go\" + 0.015*\"still\" + 0.015*\"old\" + 0.014*\"good\" + 0.013*\"much\" + 0.012*\"put\" + 0.012*\"great\" + 0.012*\"even\" + 0.011*\"first\" + 0.011*\"well\" + 0.011*\"little\" + 0.010*\"make\" + 0.009*\"take\" + 0.009*\"scratch\" + 0.009*\"really\" + 0.009*\"sleep\" + 0.008*\"purchase\" + 0.008*\"think\" + 0.007*\"recommend\" + 0.007*\"find\" + 0.007*\"never\" + 0.006*\"keep\" + 0.006*\"happy\" + 0.006*\"new\" + 0.006*\"always\"'),\n",
       " (5,\n",
       "  '0.023*\"set\" + 0.019*\"open\" + 0.018*\"get\" + 0.017*\"small\" + 0.014*\"use\" + 0.013*\"take\" + 0.013*\"attach\" + 0.012*\"also\" + 0.012*\"want\" + 0.010*\"go\" + 0.010*\"big\" + 0.009*\"easy\" + 0.009*\"see\" + 0.009*\"come\" + 0.008*\"make\" + 0.008*\"happy\" + 0.008*\"easily\" + 0.008*\"suction_cups\" + 0.007*\"able\" + 0.007*\"outside\" + 0.007*\"hide\" + 0.007*\"top\" + 0.006*\"keep\" + 0.006*\"right\" + 0.006*\"however\" + 0.006*\"move\" + 0.006*\"secure\" + 0.006*\"live\" + 0.006*\"indoor_cats\" + 0.006*\"close\"')]"
      ]
     },
     "execution_count": 397,
     "metadata": {},
     "output_type": "execute_result"
    }
   ],
   "source": [
    "with open ('./cats_beds_model_list.pickle', 'rb') as handle:\n",
    "     model_list = pickle.load(handle)\n",
    "\n",
    "optimal_model = model_list[2]\n",
    "model_topics = optimal_model.show_topics(formatted=False)\n",
    "keywords_dict = get_keywords(cats_beds_doc_term_matrix, model = optimal_model)\n",
    "\n",
    "optimal_model.print_topics(num_topics=6, num_words=30)"
   ]
  },
  {
   "cell_type": "markdown",
   "id": "f8f5effe",
   "metadata": {},
   "source": [
    "### num_topics 6 (**check**) v.s. 4"
   ]
  },
  {
   "cell_type": "code",
   "execution_count": 311,
   "id": "6dbb0b3f",
   "metadata": {},
   "outputs": [
    {
     "data": {
      "text/plain": [
       "['back', 'last', 'give', 'work', 'long', 'say', 'know']"
      ]
     },
     "execution_count": 311,
     "metadata": {},
     "output_type": "execute_result"
    }
   ],
   "source": [
    "[w for w in keywords_dict[0] if w not in  keywords_dict[1]\\\n",
    "                                and w not in  keywords_dict[2]\\\n",
    "                                and w not in  keywords_dict[3]\\\n",
    "                                and w not in  keywords_dict[4]\\\n",
    "                                and w not in  keywords_dict[5]] #last, long ----------good one"
   ]
  },
  {
   "cell_type": "code",
   "execution_count": 312,
   "id": "db56f7c6",
   "metadata": {},
   "outputs": [
    {
     "data": {
      "text/plain": [
       "['warm', 'soft', 'keep', 'fit', 'sleep', 'cold', 'comfortable', 'perfect']"
      ]
     },
     "execution_count": 312,
     "metadata": {},
     "output_type": "execute_result"
    }
   ],
   "source": [
    "[w for w in keywords_dict[1] if w not in  keywords_dict[0]\\\n",
    "                                and w not in  keywords_dict[2]\\\n",
    "                                and w not in  keywords_dict[3]\\\n",
    "                                and w not in  keywords_dict[4]\\\n",
    "                                and w not in  keywords_dict[5]] #########good one"
   ]
  },
  {
   "cell_type": "code",
   "execution_count": 313,
   "id": "0df418d2",
   "metadata": {},
   "outputs": [
    {
     "data": {
      "text/plain": [
       "['like', 'sit', 'new', 'scratching_post', 'however']"
      ]
     },
     "execution_count": 313,
     "metadata": {},
     "output_type": "execute_result"
    }
   ],
   "source": [
    "[w for w in keywords_dict[2] if w not in  keywords_dict[1]\\\n",
    "                                and w not in  keywords_dict[0]\\\n",
    "                                and w not in  keywords_dict[3]\\\n",
    "                                and w not in  keywords_dict[4]\\\n",
    "                                and w not in  keywords_dict[5]]"
   ]
  },
  {
   "cell_type": "code",
   "execution_count": 315,
   "id": "5970ed48",
   "metadata": {},
   "outputs": [
    {
     "data": {
      "text/plain": [
       "['play', 'still', 'old', 'first']"
      ]
     },
     "execution_count": 315,
     "metadata": {},
     "output_type": "execute_result"
    }
   ],
   "source": [
    "[w for w in keywords_dict[3] if w not in  keywords_dict[1]\\\n",
    "                                and w not in  keywords_dict[2]\\\n",
    "                                and w not in  keywords_dict[0]\\\n",
    "                                and w not in  keywords_dict[4]\\\n",
    "                                and w not in  keywords_dict[5]]"
   ]
  },
  {
   "cell_type": "code",
   "execution_count": 316,
   "id": "a7fa50bf",
   "metadata": {},
   "outputs": [
    {
     "data": {
      "text/plain": [
       "['together', 'sturdy', 'cat_tree', 'large', 'top', 'assemble', 'hold']"
      ]
     },
     "execution_count": 316,
     "metadata": {},
     "output_type": "execute_result"
    }
   ],
   "source": [
    "[w for w in keywords_dict[4] if w not in  keywords_dict[1]\\\n",
    "                                and w not in  keywords_dict[2]\\\n",
    "                                and w not in  keywords_dict[0]\\\n",
    "                                and w not in  keywords_dict[3]\\\n",
    "                                and w not in  keywords_dict[5]] #sturdy/assemble/hold good one"
   ]
  },
  {
   "cell_type": "code",
   "execution_count": 318,
   "id": "c732db90",
   "metadata": {},
   "outputs": [
    {
     "data": {
      "text/plain": [
       "['set', 'open', 'attach', 'happy', 'easily', 'suction_cups', 'able', 'outside']"
      ]
     },
     "execution_count": 318,
     "metadata": {},
     "output_type": "execute_result"
    }
   ],
   "source": [
    "[w for w in keywords_dict[5] if w not in  keywords_dict[1]\\\n",
    "                                and w not in  keywords_dict[2]\\\n",
    "                                and w not in  keywords_dict[0]\\\n",
    "                                and w not in  keywords_dict[4]\\\n",
    "                                and w not in  keywords_dict[3]] #easily/attach good one"
   ]
  },
  {
   "cell_type": "code",
   "execution_count": 319,
   "id": "f4f40b30",
   "metadata": {},
   "outputs": [
    {
     "data": {
      "text/plain": [
       "[(0,\n",
       "  '0.020*\"well\" + 0.020*\"make\" + 0.019*\"put\" + 0.019*\"easy\" + 0.018*\"together\" + 0.014*\"sturdy\" + 0.013*\"small\" + 0.012*\"cat_tree\" + 0.012*\"take\" + 0.012*\"top\" + 0.012*\"big\" + 0.012*\"large\" + 0.012*\"get\" + 0.011*\"look\" + 0.011*\"little\" + 0.011*\"love\" + 0.010*\"good\" + 0.010*\"really\" + 0.009*\"also\" + 0.009*\"even\" + 0.008*\"assemble\" + 0.008*\"hold\" + 0.008*\"great\" + 0.007*\"fit\" + 0.007*\"nice\" + 0.007*\"recommend\" + 0.007*\"use\" + 0.007*\"go\" + 0.007*\"buy\" + 0.007*\"high\"'),\n",
       " (1,\n",
       "  '0.036*\"get\" + 0.020*\"love\" + 0.020*\"warm\" + 0.016*\"keep\" + 0.015*\"buy\" + 0.015*\"great\" + 0.014*\"put\" + 0.014*\"soft\" + 0.012*\"sleep\" + 0.012*\"nice\" + 0.011*\"small\" + 0.010*\"well\" + 0.010*\"really\" + 0.009*\"make\" + 0.009*\"also\" + 0.008*\"go\" + 0.008*\"cold\" + 0.008*\"take\" + 0.008*\"fit\" + 0.008*\"use\" + 0.008*\"comfortable\" + 0.007*\"little\" + 0.007*\"seem\" + 0.007*\"feel\" + 0.007*\"come\" + 0.007*\"stay\" + 0.006*\"purchase\" + 0.006*\"outside\" + 0.006*\"perfect\" + 0.006*\"old\"'),\n",
       " (2,\n",
       "  '0.037*\"use\" + 0.026*\"get\" + 0.024*\"scratch\" + 0.024*\"love\" + 0.019*\"buy\" + 0.015*\"good\" + 0.015*\"much\" + 0.014*\"still\" + 0.012*\"try\" + 0.012*\"look\" + 0.012*\"even\" + 0.011*\"well\" + 0.011*\"go\" + 0.011*\"really\" + 0.010*\"like\" + 0.010*\"also\" + 0.010*\"seem\" + 0.010*\"think\" + 0.009*\"play\" + 0.008*\"sit\" + 0.008*\"give\" + 0.008*\"want\" + 0.008*\"take\" + 0.007*\"little\" + 0.007*\"old\" + 0.006*\"new\" + 0.006*\"long\" + 0.006*\"lay\" + 0.006*\"scratching_post\" + 0.006*\"never\"'),\n",
       " (3,\n",
       "  '0.025*\"get\" + 0.019*\"go\" + 0.017*\"come\" + 0.011*\"put\" + 0.011*\"make\" + 0.010*\"back\" + 0.009*\"think\" + 0.008*\"use\" + 0.008*\"well\" + 0.008*\"seem\" + 0.008*\"take\" + 0.008*\"first\" + 0.008*\"try\" + 0.008*\"see\" + 0.008*\"little\" + 0.008*\"old\" + 0.007*\"want\" + 0.007*\"play\" + 0.006*\"new\" + 0.006*\"much\" + 0.006*\"still\" + 0.006*\"even\" + 0.006*\"buy\" + 0.006*\"keep\" + 0.005*\"last\" + 0.005*\"pull\" + 0.005*\"find\" + 0.005*\"give\" + 0.005*\"work\" + 0.005*\"long\"')]"
      ]
     },
     "execution_count": 319,
     "metadata": {},
     "output_type": "execute_result"
    }
   ],
   "source": [
    "optimal_model = model_list[1]\n",
    "model_topics = optimal_model.show_topics(formatted=False)\n",
    "keywords_dict = get_keywords(cats_food_doc_term_matrix, model = optimal_model)\n",
    "\n",
    "optimal_model.print_topics(num_topics=4, num_words=30)"
   ]
  },
  {
   "cell_type": "code",
   "execution_count": 320,
   "id": "0609fe1a",
   "metadata": {},
   "outputs": [
    {
     "data": {
      "text/plain": [
       "['come', 'back', 'first', 'see', 'old', 'want', 'new']"
      ]
     },
     "execution_count": 320,
     "metadata": {},
     "output_type": "execute_result"
    }
   ],
   "source": [
    "[w for w in keywords_dict[1] if w not in  keywords_dict[0]\\\n",
    "                                and w not in  keywords_dict[2]\\\n",
    "                                and w not in  keywords_dict[3]] #assemble, hold"
   ]
  },
  {
   "cell_type": "code",
   "execution_count": 321,
   "id": "a75f1b29",
   "metadata": {},
   "outputs": [
    {
     "data": {
      "text/plain": [
       "['warm', 'keep', 'great', 'soft', 'sleep', 'nice', 'cold', 'fit']"
      ]
     },
     "execution_count": 321,
     "metadata": {},
     "output_type": "execute_result"
    }
   ],
   "source": [
    "[w for w in keywords_dict[0] if w not in  keywords_dict[1]\\\n",
    "                                and w not in  keywords_dict[2]\\\n",
    "                                and w not in  keywords_dict[3]] #########good one"
   ]
  },
  {
   "cell_type": "code",
   "execution_count": 322,
   "id": "21a37b48",
   "metadata": {},
   "outputs": [
    {
     "data": {
      "text/plain": [
       "['easy', 'together', 'sturdy', 'cat_tree', 'top', 'big', 'large']"
      ]
     },
     "execution_count": 322,
     "metadata": {},
     "output_type": "execute_result"
    }
   ],
   "source": [
    "[w for w in keywords_dict[2] if w not in  keywords_dict[1]\\\n",
    "                                and w not in  keywords_dict[0]\\\n",
    "                                and w not in  keywords_dict[3]] #########sturdy"
   ]
  },
  {
   "cell_type": "code",
   "execution_count": 323,
   "id": "162a69e4",
   "metadata": {},
   "outputs": [
    {
     "data": {
      "text/plain": [
       "['scratch', 'still', 'like', 'sit']"
      ]
     },
     "execution_count": 323,
     "metadata": {},
     "output_type": "execute_result"
    }
   ],
   "source": [
    "[w for w in keywords_dict[3] if w not in  keywords_dict[1]\\\n",
    "                                and w not in  keywords_dict[2]\\\n",
    "                                and w not in  keywords_dict[0]]  #last, long"
   ]
  },
  {
   "cell_type": "code",
   "execution_count": 324,
   "id": "007b350e",
   "metadata": {},
   "outputs": [
    {
     "name": "stderr",
     "output_type": "stream",
     "text": [
      "C:\\Users\\JiatingChen\\anaconda3\\lib\\site-packages\\pyLDAvis\\_prepare.py:246: FutureWarning: In a future version of pandas all arguments of DataFrame.drop except for the argument 'labels' will be keyword-only\n",
      "  default_term_info = default_term_info.sort_values(\n",
      "C:\\Users\\JiatingChen\\anaconda3\\lib\\site-packages\\sklearn\\manifold\\_t_sne.py:691: FutureWarning: 'square_distances' has been introduced in 0.24 to help phase out legacy squaring behavior. The 'legacy' setting will be removed in 1.1 (renaming of 0.26), and the default setting will be changed to True. In 1.3, 'square_distances' will be removed altogether, and distances will be squared by default. Set 'square_distances'=True to silence this warning.\n",
      "  warnings.warn(\n"
     ]
    },
    {
     "data": {
      "text/html": [
       "\n",
       "<link rel=\"stylesheet\" type=\"text/css\" href=\"https://cdn.jsdelivr.net/gh/bmabey/pyLDAvis@3.3.1/pyLDAvis/js/ldavis.v1.0.0.css\">\n",
       "\n",
       "\n",
       "<div id=\"ldavis_el2132013560260807203460889655\"></div>\n",
       "<script type=\"text/javascript\">\n",
       "\n",
       "var ldavis_el2132013560260807203460889655_data = {\"mdsDat\": {\"x\": [269.5624084472656, 1.782994270324707, 220.81143188476562, 50.533992767333984], \"y\": [-124.80339813232422, -295.0796813964844, -343.8321228027344, -76.05093383789062], \"topics\": [1, 2, 3, 4], \"cluster\": [1, 1, 1, 1], \"Freq\": [32.71034388618661, 26.382415882963695, 21.287315765213062, 19.61992446563664]}, \"tinfo\": {\"Term\": [\"scratch\", \"warm\", \"together\", \"sturdy\", \"use\", \"cat_tree\", \"soft\", \"get\", \"assemble\", \"love\", \"keep\", \"cold\", \"sleep\", \"fit\", \"come\", \"comfortable\", \"easy\", \"back\", \"small\", \"nice\", \"outside\", \"like\", \"try\", \"buy\", \"heavy\", \"scratching_post\", \"wash\", \"hot\", \"high\", \"put\", \"sturdy\", \"cat_tree\", \"assemble\", \"heavy\", \"stable\", \"cat_trees\", \"wobble\", \"wobbly\", \"screw\", \"tighten\", \"fully\", \"knock\", \"sisal_rope\", \"tight\", \"upper\", \"climb\", \"pet_stores\", \"average\", \"top_perch\", \"affordable\", \"dangle\", \"tip\", \"faux_fur\", \"perch\", \"package\", \"elastic\", \"reasonably\", \"tie\", \"nice_looking\", \"molly\", \"together\", \"high\", \"little_bit\", \"tall\", \"condo\", \"easy\", \"build\", \"top\", \"hang\", \"attach\", \"big\", \"large\", \"make\", \"hold\", \"well\", \"put\", \"small\", \"fit\", \"overall\", \"bottom\", \"look\", \"take\", \"little\", \"recommend\", \"good\", \"really\", \"nice\", \"also\", \"even\", \"love\", \"get\", \"great\", \"enough\", \"go\", \"buy\", \"use\", \"occasionally\", \"scratcher\", \"cardboard\", \"feline\", \"cardboard_scratchers\", \"cardboard_scratcher\", \"dig\", \"popular\", \"memory_foam\", \"spray\", \"shape\", \"upstairs\", \"catit\", \"visible\", \"horizontal\", \"playful\", \"appeal\", \"cardboard_box\", \"worn\", \"catnip_spray\", \"donate\", \"big_hit\", \"awful\", \"train\", \"separately\", \"alternative\", \"rectangular\", \"clip\", \"functional\", \"sad\", \"unfortunately\", \"scratch\", \"anymore\", \"prefer\", \"corrugated_cardboard\", \"use\", \"scratching_post\", \"ever\", \"flip\", \"like\", \"chew\", \"try\", \"still\", \"sit\", \"catnip\", \"love\", \"buy\", \"much\", \"lay\", \"good\", \"often\", \"never\", \"cute\", \"get\", \"look\", \"play\", \"even\", \"think\", \"enjoy\", \"seem\", \"give\", \"also\", \"really\", \"want\", \"go\", \"old\", \"new\", \"well\", \"long\", \"take\", \"little\", \"apply\", \"original\", \"window_sill\", \"eventually\", \"hear\", \"turbo_scratcher\", \"roll\", \"scratch_pad\", \"trim\", \"first_day\", \"bit\", \"green\", \"peel\", \"decent\", \"emery_cat\", \"whole_thing\", \"sharp\", \"near\", \"bend\", \"adhere\", \"initially\", \"weird\", \"bored\", \"adorable\", \"wooden\", \"settle\", \"window_sills\", \"chase\", \"loud\", \"entirely\", \"forever\", \"send\", \"smooth\", \"sill\", \"interesting\", \"tear\", \"basically\", \"pull\", \"back\", \"come\", \"let\", \"around\", \"go\", \"stick\", \"remove\", \"interested\", \"get\", \"finally\", \"sometimes\", \"end\", \"replace\", \"open\", \"first\", \"old\", \"shred\", \"think\", \"see\", \"try\", \"new\", \"make\", \"put\", \"want\", \"seem\", \"play\", \"easily\", \"take\", \"little\", \"last\", \"start\", \"well\", \"order\", \"use\", \"still\", \"work\", \"much\", \"keep\", \"even\", \"buy\", \"find\", \"give\", \"long\", \"warm\", \"cold\", \"wash\", \"hot\", \"outdoor\", \"pet_bed\", \"dry\", \"heat\", \"curl\", \"washable\", \"heating_pad\", \"plug\", \"outside\", \"cozy\", \"heated\", \"kitty_tube\", \"feral_cat\", \"snuggle\", \"wet\", \"take_turns\", \"heated_bed\", \"thermal\", \"stay_warm\", \"abo\", \"feral_cats\", \"pet_beds\", \"crate\", \"every_night\", \"electric\", \"gentle\", \"comfy\", \"indoor_cats\", \"dog_beds\", \"comfortable\", \"soft\", \"outdoors\", \"feral\", \"removable\", \"cool\", \"sleep\", \"inside\", \"stay\", \"live\", \"keep\", \"get\", \"nice\", \"great\", \"love\", \"feel\", \"buy\", \"fit\", \"put\", \"small\", \"perfect\", \"clean\", \"really\", \"also\", \"well\", \"purchase\", \"take\", \"make\", \"go\", \"seem\", \"little\", \"use\", \"come\", \"old\"], \"Freq\": [946.0, 519.0, 835.0, 625.0, 2065.0, 531.0, 461.0, 3066.0, 365.0, 1913.0, 836.0, 218.0, 493.0, 540.0, 970.0, 232.0, 1072.0, 454.0, 1021.0, 748.0, 162.0, 568.0, 773.0, 1533.0, 202.0, 290.0, 133.0, 130.0, 332.0, 1633.0, 624.6796274579759, 531.1057267521501, 365.0245575239165, 202.2118360803955, 145.01721289347915, 112.4244335420341, 88.29364042926456, 81.55584335846929, 76.0156355336064, 70.17863656236509, 65.86950663489144, 59.7297668083113, 81.37315080453942, 58.779070212655, 57.23994537365646, 187.9617661949129, 48.68225700209481, 44.66288905036235, 40.47895893976463, 39.71413500227386, 38.30155804027347, 38.900679542479814, 37.075940799958204, 36.61804886713356, 36.621084536356115, 37.63331804943297, 36.8281460643372, 35.58003243724575, 35.76785370111424, 33.80680378149889, 804.2195856873292, 298.5018042661227, 60.1978680160088, 205.22538900831714, 46.70041604243682, 812.2247518530141, 131.3679622550937, 516.0404555169783, 201.39136411970222, 210.3136571432634, 507.65734599913736, 506.3091237042866, 863.6829433809637, 337.8005543065305, 890.381669397048, 821.6060340087099, 545.4678173930507, 321.2085897792767, 134.32238298186542, 148.71038070300932, 487.4810821869593, 519.4174576167948, 483.40398077315115, 311.81928007758995, 448.41142128100313, 420.3073881985775, 317.88178011348396, 389.3147359406083, 384.6869773063556, 479.473605061065, 503.9218612647185, 335.52413687069486, 246.9974543487256, 302.1282278959181, 300.07524382349504, 309.6497546872338, 83.79040441965715, 59.70704382858003, 60.761102132928414, 49.37607154036926, 43.37526317647519, 37.69595661551015, 37.88290630670035, 40.50775158389728, 33.10835213047922, 31.20549718394871, 31.54469170258531, 30.239708302195872, 28.27326421895229, 29.69099908438395, 35.24545928697682, 27.70857903271181, 26.52387626043109, 26.859876402880683, 23.742365531544326, 22.66250492434184, 22.11048892427107, 22.5936899271616, 21.574181161803203, 21.17397875861232, 21.53650264652255, 21.057025350230056, 19.205096485483196, 17.944427646106472, 18.598173184938897, 18.564496325815732, 97.34715710760024, 839.2418808261395, 51.081476024852975, 178.52638074090262, 40.072658336007365, 1310.4550009671118, 216.85843718571314, 192.15199134470794, 45.112668647738275, 367.55680233320743, 126.06763603648028, 426.71852956359834, 474.33475529327177, 278.44659867027667, 138.1261506740869, 829.698924151447, 674.4206696629435, 519.76387768944, 217.6770803881876, 523.3788569598036, 109.45928331023408, 214.9416806737162, 88.43000386602758, 913.2676964973846, 417.4566616433884, 298.52014855428655, 415.09667368390035, 350.1286782562749, 177.32511544487303, 352.8564098329, 268.36432175039096, 365.9133356380541, 375.46737759517674, 266.35896472882325, 376.6182849710222, 243.58641017265688, 226.47766648951574, 384.3374347363954, 217.9671779783914, 265.2802588385406, 247.30745172491473, 126.64921824189923, 74.31356472357541, 66.65548915164551, 71.91993788328999, 64.94050512395908, 62.58392910477675, 88.90300658993002, 52.07745870072767, 49.42331848069232, 41.11781328567024, 39.660361158093615, 38.04837669806333, 37.15293678074745, 38.8614169612543, 36.193289512066556, 34.14782297789871, 32.87936169967846, 31.996385290725456, 30.03340745930009, 29.64886584575969, 35.39759394072008, 28.63208564366518, 28.56318839844147, 28.293717387383378, 34.417676568202666, 27.068822320785078, 25.70861293264353, 32.18728903631111, 25.2703337764965, 25.639277040525858, 28.508245401400693, 77.5390639606194, 41.69429424723765, 41.24617851694607, 38.834863982733665, 119.99431822215729, 49.903725878192404, 142.9906026103288, 271.3163622618997, 479.87516380714874, 110.41409196090946, 102.20998345842723, 534.899082954619, 79.6499317572471, 89.88758747153055, 88.84803391001672, 699.3971826064488, 81.16275563446762, 107.53113307278527, 95.28204718482745, 105.68600613956856, 119.7095209545863, 221.67240439354723, 214.80599082039757, 69.09468249935126, 250.93520490497698, 217.36691033022475, 218.21664522004852, 180.97317567810475, 304.3837418723352, 310.4565673580875, 194.80100120886667, 230.72451958305297, 190.7774020878018, 132.8045093437154, 230.33724384714347, 216.49361383581132, 145.09705755324137, 129.4267171820448, 231.20770397818245, 124.48256643350926, 239.05825648794172, 172.91132069314236, 135.44584964949928, 179.09072747983532, 165.10002872944065, 172.7771409169489, 169.91726870745399, 141.6940019689564, 138.20334892975796, 134.90157130652278, 518.7376468897635, 217.7741053367553, 132.60865238955682, 130.2552550558425, 126.92695681838768, 95.05273476272929, 103.52275707963834, 91.12392509667174, 90.62506337129894, 81.29952383619516, 75.18022386081019, 74.05776674013826, 160.8192780957666, 74.00861983816992, 54.187091855586104, 51.30913463288937, 50.072810998064064, 50.58758892696892, 45.65859664120904, 38.202748977015695, 34.50427133735886, 32.79329161671877, 29.88502794841191, 30.92359366628063, 29.21053778692923, 28.00153554961082, 27.51457753948468, 27.58272296553157, 26.44769946109313, 23.896908982084536, 88.50567313848309, 58.23709082691787, 36.11257087482303, 203.4075004624113, 359.27017609734514, 51.257823419058, 52.2390956678335, 49.48600282490874, 76.89178721610998, 324.2582246796772, 135.3652561597313, 171.34522645577758, 95.01808145481, 421.00106814443484, 950.0837852859261, 311.2979361540857, 379.9129692390329, 524.6103247442619, 179.52384485072395, 388.9656291730916, 210.02623363877336, 375.7431184585221, 288.0706871487221, 160.3705724739612, 138.04513629026695, 259.21177708520264, 228.99543007567996, 260.4517332378317, 164.38669631691994, 216.08939525532912, 229.31985799213695, 218.7751360505725, 187.56084672730685, 189.41962584598656, 205.92172562203734, 173.43200002245536, 157.89808935155864], \"Total\": [946.0, 519.0, 835.0, 625.0, 2065.0, 531.0, 461.0, 3066.0, 365.0, 1913.0, 836.0, 218.0, 493.0, 540.0, 970.0, 232.0, 1072.0, 454.0, 1021.0, 748.0, 162.0, 568.0, 773.0, 1533.0, 202.0, 290.0, 133.0, 130.0, 332.0, 1633.0, 625.411415449064, 531.8270962720917, 365.74774344646124, 202.9873579281577, 145.84188783706838, 113.15132355639906, 89.01797894773111, 82.27477694890537, 76.74222627429421, 70.89891146218939, 66.61635364845749, 60.47302319988239, 82.39038763874736, 59.524613651310666, 57.969896857847935, 190.39506656673234, 49.406227705639836, 45.41836220165691, 41.197779618683455, 40.4419387451808, 39.02699212356706, 39.64832230834085, 37.79903314034312, 37.34834803592027, 37.3530970640585, 38.3913934182554, 37.57948813804465, 36.3059839339753, 36.50434180847448, 34.52188841735306, 835.3465330537512, 332.16012449218914, 62.79058847809196, 230.65411055817876, 48.2736107686293, 1072.8686713136228, 152.2268002632273, 705.5771810003115, 248.62263976761216, 262.1985697251419, 736.259245780374, 772.2617562404034, 1559.2580228838701, 514.9741688723402, 1766.3785413494575, 1633.5780344548755, 1021.4438152481197, 540.9082350748316, 175.36114390011218, 203.81252849789584, 1076.139203874432, 1231.124355557808, 1136.6246721798636, 623.4183296210275, 1213.2546631076198, 1148.53304569973, 748.5339104921716, 1090.4522096465466, 1095.8364694992745, 1913.8280362483483, 3066.6705256544783, 1055.146355018785, 532.6274435142203, 1432.4207318721317, 1533.378811366984, 2065.0847377643245, 84.5401430144272, 60.433137690927175, 61.512728529119165, 50.11272280438009, 44.111494436290315, 38.4215624178187, 38.63321215621361, 41.33113631579003, 33.86897124282505, 31.937482130012572, 32.3136389027025, 30.986326803501363, 28.9965117227527, 30.45084757841386, 36.15432570785506, 28.442838323079172, 27.268249777761127, 27.619963592131928, 24.476821739861936, 23.38538669356746, 22.84092981967564, 23.352285992269305, 22.306927429634605, 21.91217676604846, 22.290912517105752, 21.800341427331084, 19.933405721753775, 18.665458657443672, 19.362161585858683, 19.341584917696487, 104.13731774520058, 946.221392967761, 54.29117162723629, 205.91248399306582, 43.49316167816154, 2065.0847377643245, 290.69270828458497, 259.362236915537, 51.047392336557564, 568.1083923853923, 171.4228764906569, 773.0187560025595, 887.9821520244774, 469.66714071079736, 202.17384928727603, 1913.8280362483483, 1533.378811366984, 1111.5656514114467, 387.8044711052128, 1213.2546631076198, 160.77373788648683, 393.5613916273995, 126.21529893092914, 3066.6705256544783, 1076.139203874432, 681.4108791693586, 1095.8364694992745, 897.8415997506124, 348.9472632094638, 998.4153472766061, 667.8177377569173, 1090.4522096465466, 1148.53304569973, 690.1763801326629, 1432.4207318721317, 656.2143145785273, 571.2869994377354, 1766.3785413494575, 608.3098036191047, 1231.124355557808, 1136.6246721798636, 127.39244029401029, 75.08021423290874, 67.40372572933649, 72.73532958382506, 65.69977794266606, 63.335793881658056, 90.13702316928162, 52.83957333646038, 50.168652500764175, 41.8835256057768, 40.43148783799364, 38.80402043370969, 37.897960085052055, 39.64771831478088, 36.9271210518391, 34.916214269876185, 33.63367841823799, 32.764370351075975, 30.779351970658492, 30.396120298230393, 36.325297215822104, 29.3835496843779, 29.32296652956958, 29.063106024007915, 35.38596301134474, 27.847147071355124, 26.448395117717894, 33.113526697903566, 26.017119363041793, 26.408466160488814, 29.385770059999846, 81.16822971516238, 44.18491255123215, 43.90347441719897, 41.4132957092537, 145.78454002341104, 54.90953593594499, 182.30486164534372, 454.625081210308, 970.3108207167996, 159.20576966171933, 150.46112325352598, 1432.4207318721317, 110.06996976573406, 133.040389608473, 139.4292340218455, 3066.6705256544783, 124.17765925888324, 194.4645310941766, 162.05501793616506, 194.96775743047147, 239.9265640358479, 655.7575825396293, 656.2143145785273, 100.58067911884946, 897.8415997506124, 756.7649046028617, 773.0187560025595, 571.2869994377354, 1559.2580228838701, 1633.5780344548755, 690.1763801326629, 998.4153472766061, 681.4108791693586, 325.29538149606066, 1231.124355557808, 1136.6246721798636, 446.38046019846774, 332.6708778467458, 1766.3785413494575, 309.4338062812613, 2065.0847377643245, 887.9821520244774, 406.31861165326745, 1111.5656514114467, 836.2847080942386, 1095.8364694992745, 1533.378811366984, 632.8760132468476, 667.8177377569173, 608.3098036191047, 519.4600506713891, 218.49200969663508, 133.33818945197578, 130.98049437235468, 127.67166211511261, 95.77492549353565, 104.33876007890134, 91.84359830517796, 91.40514983904373, 82.02479131946248, 75.90377241936598, 74.77625373324345, 162.41552889444424, 74.74664272509382, 54.90594668066046, 52.028780200825366, 50.80636777198906, 51.33526117215184, 46.41285180997653, 38.94684188151765, 35.224599086130176, 33.51165753914705, 30.602394998656795, 31.670796967700838, 29.93579425398144, 28.726241846520907, 28.238971839623453, 28.32240693465704, 27.16698349429782, 24.623067323365472, 93.41040000260185, 61.25579547690918, 37.51633506047834, 232.90709293680715, 461.53791182188513, 55.74092266627556, 57.51057020502232, 54.27980358884313, 90.15479502172609, 493.39541187561053, 188.8111128071971, 253.19521954442644, 124.01862561137727, 836.2847080942386, 3066.6705256544783, 748.5339104921716, 1055.146355018785, 1913.8280362483483, 377.88537109113537, 1533.378811366984, 540.9082350748316, 1633.5780344548755, 1021.4438152481197, 347.85118532539934, 270.58111097118694, 1148.53304569973, 1090.4522096465466, 1766.3785413494575, 536.2767833016787, 1231.124355557808, 1559.2580228838701, 1432.4207318721317, 998.4153472766061, 1136.6246721798636, 2065.0847377643245, 970.3108207167996, 656.2143145785273], \"Category\": [\"Default\", \"Default\", \"Default\", \"Default\", \"Default\", \"Default\", \"Default\", \"Default\", \"Default\", \"Default\", \"Default\", \"Default\", \"Default\", \"Default\", \"Default\", \"Default\", \"Default\", \"Default\", \"Default\", \"Default\", \"Default\", \"Default\", \"Default\", \"Default\", \"Default\", \"Default\", \"Default\", \"Default\", \"Default\", \"Default\", \"Topic1\", \"Topic1\", \"Topic1\", \"Topic1\", \"Topic1\", \"Topic1\", \"Topic1\", \"Topic1\", \"Topic1\", \"Topic1\", \"Topic1\", \"Topic1\", \"Topic1\", \"Topic1\", \"Topic1\", \"Topic1\", \"Topic1\", \"Topic1\", \"Topic1\", \"Topic1\", \"Topic1\", \"Topic1\", \"Topic1\", \"Topic1\", \"Topic1\", \"Topic1\", \"Topic1\", \"Topic1\", \"Topic1\", \"Topic1\", \"Topic1\", \"Topic1\", \"Topic1\", \"Topic1\", \"Topic1\", \"Topic1\", \"Topic1\", \"Topic1\", \"Topic1\", \"Topic1\", \"Topic1\", \"Topic1\", \"Topic1\", \"Topic1\", \"Topic1\", \"Topic1\", \"Topic1\", \"Topic1\", \"Topic1\", \"Topic1\", \"Topic1\", \"Topic1\", \"Topic1\", \"Topic1\", \"Topic1\", \"Topic1\", \"Topic1\", \"Topic1\", \"Topic1\", \"Topic1\", \"Topic1\", \"Topic1\", \"Topic1\", \"Topic1\", \"Topic1\", \"Topic1\", \"Topic2\", \"Topic2\", \"Topic2\", \"Topic2\", \"Topic2\", \"Topic2\", \"Topic2\", \"Topic2\", \"Topic2\", \"Topic2\", \"Topic2\", \"Topic2\", \"Topic2\", \"Topic2\", \"Topic2\", \"Topic2\", \"Topic2\", \"Topic2\", \"Topic2\", \"Topic2\", \"Topic2\", \"Topic2\", \"Topic2\", \"Topic2\", \"Topic2\", \"Topic2\", \"Topic2\", \"Topic2\", \"Topic2\", \"Topic2\", \"Topic2\", \"Topic2\", \"Topic2\", \"Topic2\", \"Topic2\", \"Topic2\", \"Topic2\", \"Topic2\", \"Topic2\", \"Topic2\", \"Topic2\", \"Topic2\", \"Topic2\", \"Topic2\", \"Topic2\", \"Topic2\", \"Topic2\", \"Topic2\", \"Topic2\", \"Topic2\", \"Topic2\", \"Topic2\", \"Topic2\", \"Topic2\", \"Topic2\", \"Topic2\", \"Topic2\", \"Topic2\", \"Topic2\", \"Topic2\", \"Topic2\", \"Topic2\", \"Topic2\", \"Topic2\", \"Topic2\", \"Topic2\", \"Topic2\", \"Topic2\", \"Topic2\", \"Topic2\", \"Topic2\", \"Topic3\", \"Topic3\", \"Topic3\", \"Topic3\", \"Topic3\", \"Topic3\", \"Topic3\", \"Topic3\", \"Topic3\", \"Topic3\", \"Topic3\", \"Topic3\", \"Topic3\", \"Topic3\", \"Topic3\", \"Topic3\", \"Topic3\", \"Topic3\", \"Topic3\", \"Topic3\", \"Topic3\", \"Topic3\", \"Topic3\", \"Topic3\", \"Topic3\", \"Topic3\", \"Topic3\", \"Topic3\", \"Topic3\", \"Topic3\", \"Topic3\", \"Topic3\", \"Topic3\", \"Topic3\", \"Topic3\", \"Topic3\", \"Topic3\", \"Topic3\", \"Topic3\", \"Topic3\", \"Topic3\", \"Topic3\", \"Topic3\", \"Topic3\", \"Topic3\", \"Topic3\", \"Topic3\", \"Topic3\", \"Topic3\", \"Topic3\", \"Topic3\", \"Topic3\", \"Topic3\", \"Topic3\", \"Topic3\", \"Topic3\", \"Topic3\", \"Topic3\", \"Topic3\", \"Topic3\", \"Topic3\", \"Topic3\", \"Topic3\", \"Topic3\", \"Topic3\", \"Topic3\", \"Topic3\", \"Topic3\", \"Topic3\", \"Topic3\", \"Topic3\", \"Topic3\", \"Topic3\", \"Topic3\", \"Topic3\", \"Topic3\", \"Topic3\", \"Topic3\", \"Topic3\", \"Topic3\", \"Topic3\", \"Topic4\", \"Topic4\", \"Topic4\", \"Topic4\", \"Topic4\", \"Topic4\", \"Topic4\", \"Topic4\", \"Topic4\", \"Topic4\", \"Topic4\", \"Topic4\", \"Topic4\", \"Topic4\", \"Topic4\", \"Topic4\", \"Topic4\", \"Topic4\", \"Topic4\", \"Topic4\", \"Topic4\", \"Topic4\", \"Topic4\", \"Topic4\", \"Topic4\", \"Topic4\", \"Topic4\", \"Topic4\", \"Topic4\", \"Topic4\", \"Topic4\", \"Topic4\", \"Topic4\", \"Topic4\", \"Topic4\", \"Topic4\", \"Topic4\", \"Topic4\", \"Topic4\", \"Topic4\", \"Topic4\", \"Topic4\", \"Topic4\", \"Topic4\", \"Topic4\", \"Topic4\", \"Topic4\", \"Topic4\", \"Topic4\", \"Topic4\", \"Topic4\", \"Topic4\", \"Topic4\", \"Topic4\", \"Topic4\", \"Topic4\", \"Topic4\", \"Topic4\", \"Topic4\", \"Topic4\", \"Topic4\", \"Topic4\", \"Topic4\", \"Topic4\", \"Topic4\", \"Topic4\", \"Topic4\"], \"logprob\": [30.0, 29.0, 28.0, 27.0, 26.0, 25.0, 24.0, 23.0, 22.0, 21.0, 20.0, 19.0, 18.0, 17.0, 16.0, 15.0, 14.0, 13.0, 12.0, 11.0, 10.0, 9.0, 8.0, 7.0, 6.0, 5.0, 4.0, 3.0, 2.0, 1.0, -4.244, -4.4063, -4.7813, -5.372, -5.7044, -5.959, -6.2006, -6.28, -6.3503, -6.4302, -6.4936, -6.5914, -6.2822, -6.6075, -6.634, -5.445, -6.796, -6.8821, -6.9805, -6.9996, -7.0358, -7.0203, -7.0683, -7.0807, -7.0806, -7.0534, -7.075, -7.1095, -7.1042, -7.1606, -3.9914, -4.9825, -6.5836, -5.3572, -6.8375, -3.9815, -5.8033, -4.4351, -5.376, -5.3327, -4.4515, -4.4541, -3.9201, -4.8588, -3.8896, -3.97, -4.3796, -4.9092, -5.781, -5.6793, -4.492, -4.4286, -4.5004, -4.9388, -4.5756, -4.6403, -4.9196, -4.7169, -4.7288, -4.5086, -4.4589, -4.8656, -5.1719, -4.9704, -4.9772, -4.9458, -6.038, -6.3768, -6.3593, -6.5668, -6.6964, -6.8367, -6.8318, -6.7648, -6.9665, -7.0257, -7.0149, -7.0571, -7.1244, -7.0754, -6.9039, -7.1445, -7.1882, -7.1756, -7.299, -7.3456, -7.3702, -7.3486, -7.3948, -7.4135, -7.3965, -7.419, -7.5111, -7.579, -7.5432, -7.545, -5.888, -3.7338, -6.5329, -5.2815, -6.7756, -3.2881, -5.087, -5.208, -6.6571, -4.5594, -5.6295, -4.4102, -4.3044, -4.8371, -5.5381, -3.7452, -3.9524, -4.2129, -5.0833, -4.206, -5.7707, -5.0959, -5.9841, -3.6492, -4.4321, -4.7674, -4.4378, -4.608, -5.2883, -4.6002, -4.8739, -4.5639, -4.5381, -4.8814, -4.535, -4.9708, -5.0436, -4.5148, -5.0819, -4.8855, -4.9556, -5.4103, -5.9434, -6.0522, -5.9761, -6.0782, -6.1152, -5.7641, -6.299, -6.3513, -6.5353, -6.5713, -6.6128, -6.6366, -6.5917, -6.6628, -6.721, -6.7588, -6.7861, -6.8494, -6.8623, -6.685, -6.8972, -6.8996, -6.9091, -6.7131, -6.9533, -7.0049, -6.7801, -7.0221, -7.0076, -6.9015, -5.9009, -6.5213, -6.5321, -6.5924, -5.4642, -6.3416, -5.2889, -4.6484, -4.0782, -5.5475, -5.6247, -3.9696, -5.8741, -5.7531, -5.7648, -3.7015, -5.8552, -5.5739, -5.6949, -5.5912, -5.4666, -4.8505, -4.882, -6.0162, -4.7265, -4.8701, -4.8662, -5.0533, -4.5334, -4.5136, -4.9797, -4.8105, -5.0006, -5.3628, -4.8121, -4.8741, -5.2743, -5.3886, -4.8084, -5.4275, -4.775, -5.0989, -5.3431, -5.0638, -5.1451, -5.0997, -5.1164, -5.298, -5.323, -5.3471, -3.9187, -4.7867, -5.2827, -5.3006, -5.3265, -5.6157, -5.5303, -5.6579, -5.6634, -5.772, -5.8502, -5.8653, -5.0898, -5.8659, -6.1777, -6.2323, -6.2566, -6.2464, -6.3489, -6.5272, -6.629, -6.6799, -6.7728, -6.7386, -6.7956, -6.8379, -6.8554, -6.8529, -6.895, -6.9964, -5.6871, -6.1056, -6.5835, -4.8549, -4.2861, -6.2333, -6.2143, -6.2684, -5.8277, -4.3886, -5.2621, -5.0264, -5.6161, -4.1275, -3.3136, -4.4294, -4.2302, -3.9075, -4.9798, -4.2066, -4.8229, -4.2412, -4.5069, -5.0926, -5.2425, -4.6125, -4.7364, -4.6077, -5.0679, -4.7944, -4.735, -4.7821, -4.936, -4.9262, -4.8426, -5.0143, -5.1082], \"loglift\": [30.0, 29.0, 28.0, 27.0, 26.0, 25.0, 24.0, 23.0, 22.0, 21.0, 20.0, 19.0, 18.0, 17.0, 16.0, 15.0, 14.0, 13.0, 12.0, 11.0, 10.0, 9.0, 8.0, 7.0, 6.0, 5.0, 4.0, 3.0, 2.0, 1.0, 1.1163, 1.1161, 1.1155, 1.1137, 1.1118, 1.111, 1.1093, 1.1087, 1.108, 1.1073, 1.1062, 1.1051, 1.1051, 1.1049, 1.1048, 1.1046, 1.1027, 1.1007, 1.0999, 1.0993, 1.0987, 1.0984, 1.0982, 1.0977, 1.0977, 1.0975, 1.0973, 1.0973, 1.0971, 1.0965, 1.0795, 1.0106, 1.0753, 1.0007, 1.0843, 0.8392, 0.9701, 0.8046, 0.9068, 0.897, 0.7457, 0.6953, 0.5267, 0.6958, 0.4324, 0.4302, 0.4902, 0.5963, 0.8509, 0.8023, 0.3256, 0.2545, 0.2625, 0.4247, 0.1221, 0.1122, 0.261, 0.0875, 0.0706, -0.2667, -0.6884, -0.0283, 0.349, -0.4388, -0.5137, -0.78, 1.3236, 1.3204, 1.3202, 1.3177, 1.3156, 1.3134, 1.3129, 1.3123, 1.3098, 1.3093, 1.3084, 1.3081, 1.3072, 1.3072, 1.307, 1.3063, 1.3048, 1.3046, 1.302, 1.3011, 1.3, 1.2994, 1.2991, 1.2982, 1.298, 1.2978, 1.2953, 1.2931, 1.2922, 1.2915, 1.265, 1.2125, 1.2715, 1.1898, 1.2506, 0.8777, 1.0395, 1.0325, 1.2089, 0.897, 1.0252, 0.7383, 0.7054, 0.8097, 0.9515, 0.4967, 0.5111, 0.5723, 0.755, 0.4917, 0.948, 0.7276, 0.9767, 0.1212, 0.3855, 0.5071, 0.3617, 0.3908, 0.6555, 0.2924, 0.4208, 0.2405, 0.2144, 0.3804, -0.0034, 0.3415, 0.4072, -0.1927, 0.3061, -0.2024, -0.1927, 1.5412, 1.5368, 1.5359, 1.5358, 1.5354, 1.5351, 1.5333, 1.5325, 1.5321, 1.5286, 1.5278, 1.5274, 1.5272, 1.527, 1.527, 1.5248, 1.5244, 1.5233, 1.5225, 1.5222, 1.5212, 1.5212, 1.5208, 1.5202, 1.5193, 1.5187, 1.5187, 1.5187, 1.5179, 1.5175, 1.5167, 1.5013, 1.489, 1.4846, 1.4828, 1.3524, 1.4515, 1.3042, 1.0309, 0.843, 1.1811, 1.1604, 0.562, 1.2236, 1.155, 1.0964, 0.0689, 1.1218, 0.9546, 1.016, 0.9347, 0.8518, 0.4625, 0.4303, 1.1716, 0.2723, 0.2996, 0.2822, 0.3975, -0.0866, -0.1134, 0.2821, 0.0821, 0.274, 0.6512, -0.1291, -0.1112, 0.4233, 0.603, -0.4863, 0.6365, -0.6092, -0.0891, 0.4485, -0.2786, -0.0754, -0.3002, -0.6529, 0.0505, -0.0282, 0.0409, 1.6272, 1.6253, 1.6231, 1.6231, 1.6228, 1.6211, 1.6208, 1.6208, 1.6201, 1.6197, 1.619, 1.619, 1.6187, 1.6187, 1.6154, 1.6147, 1.6141, 1.614, 1.6122, 1.6093, 1.608, 1.607, 1.6049, 1.6047, 1.6041, 1.6031, 1.6026, 1.6022, 1.6018, 1.5987, 1.5747, 1.5781, 1.5905, 1.4932, 1.3781, 1.5448, 1.5325, 1.5362, 1.4695, 1.2089, 1.2959, 1.2381, 1.3623, 0.9423, 0.4568, 0.7513, 0.6071, 0.3344, 0.8843, 0.2569, 0.6826, 0.159, 0.3629, 0.8543, 0.9556, 0.14, 0.068, -0.2856, 0.4462, -0.1114, -0.2882, -0.2505, -0.0434, -0.1632, -0.6768, -0.0932, 0.2041]}, \"token.table\": {\"Topic\": [4, 3, 3, 1, 1, 2, 3, 4, 2, 1, 2, 2, 3, 2, 3, 4, 1, 1, 2, 3, 4, 1, 2, 1, 2, 3, 4, 3, 4, 3, 1, 2, 3, 4, 2, 3, 3, 1, 2, 3, 4, 1, 4, 1, 2, 3, 4, 2, 2, 2, 2, 1, 1, 2, 2, 3, 2, 3, 2, 3, 4, 1, 2, 3, 4, 1, 2, 2, 4, 1, 2, 3, 4, 1, 2, 4, 3, 4, 1, 2, 1, 2, 3, 4, 2, 3, 4, 4, 4, 1, 2, 3, 4, 1, 3, 2, 2, 4, 2, 4, 1, 2, 3, 4, 1, 2, 3, 4, 1, 4, 3, 1, 2, 3, 4, 1, 2, 3, 4, 1, 2, 3, 4, 3, 1, 2, 3, 4, 3, 1, 2, 3, 4, 4, 1, 1, 2, 3, 4, 2, 3, 4, 4, 4, 1, 2, 3, 4, 1, 2, 3, 4, 1, 2, 3, 4, 3, 1, 2, 3, 4, 2, 3, 3, 1, 2, 4, 1, 2, 3, 4, 1, 2, 3, 4, 1, 2, 3, 4, 1, 2, 3, 4, 1, 2, 3, 4, 3, 1, 2, 3, 4, 3, 4, 4, 4, 4, 1, 1, 2, 3, 4, 1, 2, 3, 4, 2, 4, 2, 4, 3, 1, 3, 4, 2, 3, 2, 3, 1, 2, 3, 4, 4, 1, 1, 2, 3, 4, 1, 2, 3, 4, 1, 2, 3, 4, 1, 2, 3, 4, 1, 2, 3, 4, 1, 2, 3, 4, 1, 2, 1, 4, 1, 2, 3, 4, 1, 2, 3, 4, 3, 1, 2, 3, 4, 1, 2, 3, 4, 2, 1, 1, 2, 3, 4, 3, 1, 2, 3, 4, 1, 2, 3, 4, 1, 2, 3, 4, 1, 2, 1, 2, 3, 4, 1, 2, 3, 4, 1, 3, 4, 1, 2, 3, 4, 3, 4, 2, 3, 4, 3, 4, 1, 2, 4, 1, 3, 1, 1, 2, 3, 4, 4, 4, 1, 1, 2, 3, 2, 4, 2, 1, 2, 4, 1, 2, 3, 4, 1, 2, 3, 4, 1, 2, 3, 4, 1, 2, 3, 4, 1, 1, 2, 3, 4, 2, 3, 4, 1, 3, 4, 1, 2, 3, 2, 3, 2, 2, 3, 3, 2, 1, 2, 1, 1, 2, 3, 4, 1, 2, 3, 4, 1, 3, 2, 3, 2, 3, 2, 3, 1, 3, 1, 2, 1, 2, 3, 4, 1, 2, 3, 4, 1, 2, 3, 4, 3, 4, 4, 1, 4, 1, 2, 3, 4, 2, 1, 1, 2, 3, 4, 1, 2, 3, 4, 4, 1, 2, 3, 4, 1, 2, 3, 4, 1, 1, 2, 3, 4, 4, 1, 2, 2, 3, 4, 1, 2, 3, 4, 1, 1, 1, 1, 1, 3, 4, 1, 2, 3, 4, 1, 2, 3, 1, 2, 3, 4, 3, 1, 2, 4, 1, 2, 1, 2, 3, 4, 2, 1, 2, 3, 4, 4, 4, 4, 3, 1, 2, 3, 4, 4, 3, 3, 3, 1, 1, 3, 1, 2, 3, 4, 2], \"Freq\": [0.9788197004203922, 0.9869680638731564, 0.963420770542222, 0.9890722660957133, 0.3567327357941605, 0.3356405688963052, 0.09720737787707201, 0.2100046182438631, 0.9632876654707941, 0.05525760284928145, 0.9393792484377846, 0.990162559755489, 0.9969194381306726, 0.2326182288365961, 0.6779159811809372, 0.08640105642502141, 0.9979555760497243, 0.8009197007448945, 0.0076278066737608995, 0.1830673601702616, 0.0076278066737608995, 0.9907886990772721, 0.9862407124153345, 0.041792678814415576, 0.08578497230327407, 0.5960955767740327, 0.2749518343053656, 0.9105886463569418, 0.07284709170855534, 0.9746793898909426, 0.6899743574174908, 0.1589114169642646, 0.028522562019226982, 0.12359776874998359, 0.9849142823796382, 0.9893279258056843, 0.9889858848611413, 0.731063988549351, 0.00981293944361545, 0.12756821276700084, 0.13247468248880856, 0.8605580605614624, 0.13138291000938357, 0.19564637112244593, 0.4395521804550952, 0.11086627696938603, 0.25368812788877154, 0.9916646758909996, 0.9775537867722413, 0.9890279730627719, 0.9748026120970436, 0.9984448023090787, 0.9898249218814908, 0.9656333929997942, 0.6825808604153888, 0.3165592396129339, 0.9835201915359617, 0.9663724523194908, 0.7350244178574813, 0.005833527125853026, 0.25667519353753315, 0.30305145730860655, 0.003695749479373251, 0.18478747396866255, 0.5100134281535086, 0.9874205429272881, 0.010504473860928596, 0.9643481218620743, 0.9977481570272606, 0.2617717895924958, 0.06492764859971353, 0.49468684647400785, 0.178293384250007, 0.12021961051910524, 0.004293557518539473, 0.8715921762635129, 0.042821784296915376, 0.9527847006063672, 0.9736168322951106, 0.020715251750959802, 0.022184066854325685, 0.08873626741730274, 0.03327610028148853, 0.8540865738915389, 0.9196848069126347, 0.0689763605184476, 0.990011019921793, 0.9915375162742951, 0.9955675381555945, 0.26145800294827276, 0.697221341195394, 0.023768909358933887, 0.007922969786311296, 0.9736850813325453, 0.9836631629180181, 0.9836096425621247, 0.026655055681423744, 0.9595820045312548, 0.9631832054861774, 0.9967532671593454, 0.3596731052925105, 0.018444774630385154, 0.4088591709735376, 0.21211490824942927, 0.7568493905277198, 0.0615173149936324, 0.0885476503696224, 0.09320805302065516, 0.9898051781035567, 0.9570440533251414, 0.9748932214201701, 0.08021966962553925, 0.3085371908674587, 0.5862206626481715, 0.01851223145204752, 0.23499252937478282, 0.5072399719431288, 0.12609355234744443, 0.13182507745414646, 0.46373877840450684, 0.20089088781085923, 0.08073185211090605, 0.2553379508624005, 0.9845327571087812, 0.3513297930081847, 0.378706140515316, 0.15787027062445702, 0.11224302477923823, 0.9898903381887117, 0.22362546178566498, 0.740277390738753, 0.026989279870683704, 0.007711222820195344, 0.988616541828494, 0.978861016434563, 0.26198420889948654, 0.16407091870472895, 0.0979132901947576, 0.4763349252717937, 0.9777956027509478, 0.08694053948996244, 0.9041816106956093, 0.9841286081380998, 0.9687399557184964, 0.06442382669914683, 0.16911254508526044, 0.6522912453288617, 0.11274169672350697, 0.35709996155574114, 0.252814132074861, 0.22437254221643912, 0.1659092741741275, 0.23484288112016355, 0.2668669103638222, 0.3385397377186773, 0.16012014621829332, 0.9789051758896118, 0.593446317110686, 0.005546227262716691, 0.012941196946338947, 0.3882359083901684, 0.8815337657859806, 0.09794819619844229, 0.9868722153881903, 0.9907477126155829, 0.9812953949251622, 0.9746957876862795, 0.1643476192775675, 0.2977170166674983, 0.2279344957837692, 0.3097822188763673, 0.24557598687157856, 0.4013071004974576, 0.20664320846510878, 0.14524921174721414, 0.21083191082084862, 0.2631908290710594, 0.3734936168515034, 0.1528880412906154, 0.36925471100395096, 0.43107190592648736, 0.07747755096957899, 0.12116170204817141, 0.3184392367957506, 0.20186773046873474, 0.12036244962220335, 0.36013961304281317, 0.9792799708709765, 0.8084541302750019, 0.028155118964801062, 0.15284207438034864, 0.008044319704228876, 0.9893488537620823, 0.9908148382604213, 0.9835000262188437, 0.9936238000727562, 0.9880931817937498, 0.995135864921661, 0.9001682560696147, 0.015052980870729342, 0.04515894261218803, 0.04214834643804216, 0.6563436001850972, 0.07767379883847304, 0.1417546828802133, 0.12427807814155686, 0.9680722656209223, 0.9925141955139725, 0.04897495782469876, 0.9468491846108427, 0.9635158603672801, 0.021185193713065854, 0.25951862298505673, 0.7150002878159726, 0.35860485321296465, 0.6383166387190771, 0.04829366911634383, 0.9417265477687047, 0.06217978099647407, 0.23676147379426665, 0.1973012281618889, 0.5034170730676074, 0.9802267092010539, 0.9921779468785792, 0.6552182545764745, 0.17222139893018007, 0.009064284154220004, 0.16315711477596007, 0.12993400287775206, 0.4122044229225238, 0.3248350071943802, 0.13441448573560558, 0.0618868573938868, 0.5621389546611384, 0.02062895246462893, 0.3558494300148491, 0.03768707637134514, 0.11934240850925962, 0.6909297334746609, 0.14446712609015638, 0.03696477693600776, 0.6477637101167075, 0.0985727384960207, 0.2165079791966169, 0.42494238583936733, 0.21731008137127064, 0.19003634646232576, 0.16628180315453503, 0.9555572173198279, 0.03185190724399426, 0.22577253910021822, 0.7660139719471689, 0.22521419050774172, 0.358370025771443, 0.22192639210616882, 0.19562400489358586, 0.45254368416897206, 0.3874963373685038, 0.08642004646347927, 0.07341057710338561, 0.960905765590381, 0.2502837198157977, 0.43368577755138227, 0.041801038800133236, 0.2743193171258743, 0.5541097030253015, 0.10389556931724403, 0.194964525138532, 0.1468647245286968, 0.9743431462209194, 0.9848823908169889, 0.23390431295700487, 0.46780862591400973, 0.16103412315116875, 0.13764369185546826, 0.976670683950718, 0.18548567403459143, 0.5462934235265364, 0.22359916869923352, 0.04573619359757049, 0.0927729845982194, 0.3955980097961808, 0.31682849457127754, 0.19429813755476139, 0.42483045262560054, 0.13359448195773602, 0.025382951571969844, 0.415478838888559, 0.9861840596628044, 0.993610810259275, 0.17415779696413605, 0.677971423896101, 0.05597929188132944, 0.09329881980221574, 0.06095569558809635, 0.3718297430873877, 0.32763686378601786, 0.24077499757298057, 0.13754208556527073, 0.5001530384191664, 0.3626109528538956, 0.3005489319918303, 0.03231708946148713, 0.4007319093224404, 0.2650001335841945, 0.9856125312914295, 0.9947391448972677, 0.01794014078286905, 0.05382042234860715, 0.9149471799263216, 0.00615704672334572, 0.9912845224586609, 0.7641373511815595, 0.10264531583035873, 0.1254553860148829, 0.9905470471845224, 0.9763058464614766, 0.9906730001662928, 0.3306011445452532, 0.15236400574694278, 0.05749585122526142, 0.45996680980209137, 0.9919088896228069, 0.9747185221651657, 0.9917778036392472, 0.28176832197637997, 0.43879545974446676, 0.280300778632753, 0.9844305860741105, 0.9896189806992384, 0.991988211665414, 0.12141080285759596, 0.8693013484603871, 0.009712864228607678, 0.08776507579444828, 0.04388253789722414, 0.7844003649128816, 0.08227975855729527, 0.37853587237209146, 0.1696884945116272, 0.14544728100996618, 0.3058122318671084, 0.503189919711611, 0.0771313015616338, 0.189767487969099, 0.2301695983109072, 0.3656838621862377, 0.32650344838056944, 0.0818435310607294, 0.22550504834817994, 0.9845796692090122, 0.5004665169047292, 0.1924871218864343, 0.07218267070741287, 0.23579672431088203, 0.9531737960495568, 0.0736922342294948, 0.9027298693113112, 0.18791285919691728, 0.6764862931089022, 0.13529725862178044, 0.16412970237610544, 0.2923560323574378, 0.5436796391208493, 0.01109422038624409, 0.987385614375724, 0.9823393522738689, 0.8866846662265074, 0.11202452278904622, 0.9841108986419264, 0.9928327783815831, 0.2511242900820677, 0.746492752709708, 0.9903283197487479, 0.295996813062508, 0.2801398409341594, 0.2867469126543047, 0.13610567743499255, 0.22736028709814168, 0.3535602702451278, 0.23136663576947458, 0.18829838755264597, 0.03696027387227338, 0.9609671206791078, 0.9869492773397002, 0.9695786764373239, 0.9902939157163055, 0.9811594078305043, 0.3082102872199677, 0.6860164457476701, 0.04555448120107118, 0.9338668646219592, 0.9831243949859332, 0.01213733820970288, 0.17459173293643804, 0.5919085580040216, 0.06387502424503831, 0.1682042305119342, 0.20875751480633395, 0.04661575573345321, 0.0891779674900844, 0.6566741242451669, 0.533558470729605, 0.17328412719108274, 0.010769070051423222, 0.2819538340736262, 0.950550710071028, 0.04526431952719181, 0.9934691834716192, 0.22100026322293417, 0.777834259774837, 0.09770419260054447, 0.31882420743335566, 0.5553712000452001, 0.030853955558066675, 0.9706463356692858, 0.9942273934494805, 0.17735246433918395, 0.37274077250947135, 0.3877706423687242, 0.06011947943701151, 0.11848564934985317, 0.059242824674926586, 0.1461323008648189, 0.6753682012941631, 0.9803154296033616, 0.03634052056626659, 0.12719182198193305, 0.7268104113253318, 0.10902156169879976, 0.1824360992286413, 0.5337945125578764, 0.19482373559601818, 0.0889657520929794, 0.9993421683088907, 0.4215658618538557, 0.21525039189069703, 0.1868210948485295, 0.17544937603166247, 0.975688866265509, 0.8887767033672356, 0.10838740284966288, 0.17148594765937003, 0.8231325487649761, 0.9847319536925515, 0.1882291932640925, 0.3898237730321442, 0.27955933437448055, 0.14256412270889846, 0.9915720798386363, 0.9911866097210844, 0.9873212233636509, 0.9836481780162369, 0.9624748151654396, 0.031124807455598796, 0.005985539895307461, 0.7313161676635518, 0.08220220489241473, 0.05952573457726584, 0.1261378661280157, 0.9709261122863948, 0.9583712391613315, 0.9767055234193031, 0.08408592869871424, 0.5523798700669382, 0.2820112685587647, 0.08279229902642633, 0.9946981973213207, 0.05761623335335545, 0.9314624392125798, 0.009602705558892576, 0.9832689566409565, 0.9681689665975539, 0.15011490537458924, 0.6343565356151997, 0.11573374962750589, 0.09975377582956575, 0.9851942519086576, 0.22168246321410037, 0.38540872689510264, 0.2825364727238534, 0.11011677911288646, 0.9991143675614813, 0.9974636714855231, 0.9875063221377642, 0.986946788645423, 0.5038557586416715, 0.21739394530157513, 0.13077604522047878, 0.14719381713127483, 0.9911047954634025, 0.9737596331952102, 0.994010335111776, 0.983046414887476, 0.9885643444193578, 0.9966602528855714, 0.9608329717944823, 0.0787559296626738, 0.25841789420564837, 0.33225157826440505, 0.3297904554624465, 0.9805194585747461], \"Term\": [\"abo\", \"adhere\", \"adorable\", \"affordable\", \"also\", \"also\", \"also\", \"also\", \"alternative\", \"anymore\", \"anymore\", \"appeal\", \"apply\", \"around\", \"around\", \"around\", \"assemble\", \"attach\", \"attach\", \"attach\", \"attach\", \"average\", \"awful\", \"back\", \"back\", \"back\", \"back\", \"basically\", \"basically\", \"bend\", \"big\", \"big\", \"big\", \"big\", \"big_hit\", \"bit\", \"bored\", \"bottom\", \"bottom\", \"bottom\", \"bottom\", \"build\", \"build\", \"buy\", \"buy\", \"buy\", \"buy\", \"cardboard\", \"cardboard_box\", \"cardboard_scratcher\", \"cardboard_scratchers\", \"cat_tree\", \"cat_trees\", \"catit\", \"catnip\", \"catnip\", \"catnip_spray\", \"chase\", \"chew\", \"chew\", \"chew\", \"clean\", \"clean\", \"clean\", \"clean\", \"climb\", \"climb\", \"clip\", \"cold\", \"come\", \"come\", \"come\", \"come\", \"comfortable\", \"comfortable\", \"comfortable\", \"comfy\", \"comfy\", \"condo\", \"condo\", \"cool\", \"cool\", \"cool\", \"cool\", \"corrugated_cardboard\", \"corrugated_cardboard\", \"cozy\", \"crate\", \"curl\", \"cute\", \"cute\", \"cute\", \"cute\", \"dangle\", \"decent\", \"dig\", \"dog_beds\", \"dog_beds\", \"donate\", \"dry\", \"easily\", \"easily\", \"easily\", \"easily\", \"easy\", \"easy\", \"easy\", \"easy\", \"elastic\", \"electric\", \"emery_cat\", \"end\", \"end\", \"end\", \"end\", \"enjoy\", \"enjoy\", \"enjoy\", \"enjoy\", \"enough\", \"enough\", \"enough\", \"enough\", \"entirely\", \"even\", \"even\", \"even\", \"even\", \"eventually\", \"ever\", \"ever\", \"ever\", \"ever\", \"every_night\", \"faux_fur\", \"feel\", \"feel\", \"feel\", \"feel\", \"feline\", \"feral\", \"feral\", \"feral_cat\", \"feral_cats\", \"finally\", \"finally\", \"finally\", \"finally\", \"find\", \"find\", \"find\", \"find\", \"first\", \"first\", \"first\", \"first\", \"first_day\", \"fit\", \"fit\", \"fit\", \"fit\", \"flip\", \"flip\", \"forever\", \"fully\", \"functional\", \"gentle\", \"get\", \"get\", \"get\", \"get\", \"give\", \"give\", \"give\", \"give\", \"go\", \"go\", \"go\", \"go\", \"good\", \"good\", \"good\", \"good\", \"great\", \"great\", \"great\", \"great\", \"green\", \"hang\", \"hang\", \"hang\", \"hang\", \"hear\", \"heat\", \"heated\", \"heated_bed\", \"heating_pad\", \"heavy\", \"high\", \"high\", \"high\", \"high\", \"hold\", \"hold\", \"hold\", \"hold\", \"horizontal\", \"hot\", \"indoor_cats\", \"indoor_cats\", \"initially\", \"inside\", \"inside\", \"inside\", \"interested\", \"interested\", \"interesting\", \"interesting\", \"keep\", \"keep\", \"keep\", \"keep\", \"kitty_tube\", \"knock\", \"large\", \"large\", \"large\", \"large\", \"last\", \"last\", \"last\", \"last\", \"lay\", \"lay\", \"lay\", \"lay\", \"let\", \"let\", \"let\", \"let\", \"like\", \"like\", \"like\", \"like\", \"little\", \"little\", \"little\", \"little\", \"little_bit\", \"little_bit\", \"live\", \"live\", \"long\", \"long\", \"long\", \"long\", \"look\", \"look\", \"look\", \"look\", \"loud\", \"love\", \"love\", \"love\", \"love\", \"make\", \"make\", \"make\", \"make\", \"memory_foam\", \"molly\", \"much\", \"much\", \"much\", \"much\", \"near\", \"never\", \"never\", \"never\", \"never\", \"new\", \"new\", \"new\", \"new\", \"nice\", \"nice\", \"nice\", \"nice\", \"nice_looking\", \"occasionally\", \"often\", \"often\", \"often\", \"often\", \"old\", \"old\", \"old\", \"old\", \"open\", \"open\", \"open\", \"order\", \"order\", \"order\", \"order\", \"original\", \"outdoor\", \"outdoors\", \"outdoors\", \"outdoors\", \"outside\", \"outside\", \"overall\", \"overall\", \"overall\", \"package\", \"peel\", \"perch\", \"perfect\", \"perfect\", \"perfect\", \"perfect\", \"pet_bed\", \"pet_beds\", \"pet_stores\", \"play\", \"play\", \"play\", \"playful\", \"plug\", \"popular\", \"prefer\", \"prefer\", \"prefer\", \"pull\", \"pull\", \"pull\", \"pull\", \"purchase\", \"purchase\", \"purchase\", \"purchase\", \"put\", \"put\", \"put\", \"put\", \"really\", \"really\", \"really\", \"really\", \"reasonably\", \"recommend\", \"recommend\", \"recommend\", \"recommend\", \"rectangular\", \"removable\", \"removable\", \"remove\", \"remove\", \"remove\", \"replace\", \"replace\", \"replace\", \"roll\", \"roll\", \"sad\", \"scratch\", \"scratch\", \"scratch_pad\", \"scratcher\", \"scratching_post\", \"scratching_post\", \"screw\", \"see\", \"see\", \"see\", \"see\", \"seem\", \"seem\", \"seem\", \"seem\", \"send\", \"send\", \"separately\", \"settle\", \"shape\", \"sharp\", \"shred\", \"shred\", \"sill\", \"sill\", \"sisal_rope\", \"sisal_rope\", \"sit\", \"sit\", \"sit\", \"sit\", \"sleep\", \"sleep\", \"sleep\", \"sleep\", \"small\", \"small\", \"small\", \"small\", \"smooth\", \"smooth\", \"snuggle\", \"soft\", \"soft\", \"sometimes\", \"sometimes\", \"sometimes\", \"sometimes\", \"spray\", \"stable\", \"start\", \"start\", \"start\", \"start\", \"stay\", \"stay\", \"stay\", \"stay\", \"stay_warm\", \"stick\", \"stick\", \"stick\", \"stick\", \"still\", \"still\", \"still\", \"still\", \"sturdy\", \"take\", \"take\", \"take\", \"take\", \"take_turns\", \"tall\", \"tall\", \"tear\", \"tear\", \"thermal\", \"think\", \"think\", \"think\", \"think\", \"tie\", \"tight\", \"tighten\", \"tip\", \"together\", \"together\", \"together\", \"top\", \"top\", \"top\", \"top\", \"top_perch\", \"train\", \"trim\", \"try\", \"try\", \"try\", \"try\", \"turbo_scratcher\", \"unfortunately\", \"unfortunately\", \"unfortunately\", \"upper\", \"upstairs\", \"use\", \"use\", \"use\", \"use\", \"visible\", \"want\", \"want\", \"want\", \"want\", \"warm\", \"wash\", \"washable\", \"weird\", \"well\", \"well\", \"well\", \"well\", \"wet\", \"whole_thing\", \"window_sill\", \"window_sills\", \"wobble\", \"wobbly\", \"wooden\", \"work\", \"work\", \"work\", \"work\", \"worn\"]}, \"R\": 30, \"lambda.step\": 0.01, \"plot.opts\": {\"xlab\": \"PC1\", \"ylab\": \"PC2\"}, \"topic.order\": [1, 3, 4, 2]};\n",
       "\n",
       "function LDAvis_load_lib(url, callback){\n",
       "  var s = document.createElement('script');\n",
       "  s.src = url;\n",
       "  s.async = true;\n",
       "  s.onreadystatechange = s.onload = callback;\n",
       "  s.onerror = function(){console.warn(\"failed to load library \" + url);};\n",
       "  document.getElementsByTagName(\"head\")[0].appendChild(s);\n",
       "}\n",
       "\n",
       "if(typeof(LDAvis) !== \"undefined\"){\n",
       "   // already loaded: just create the visualization\n",
       "   !function(LDAvis){\n",
       "       new LDAvis(\"#\" + \"ldavis_el2132013560260807203460889655\", ldavis_el2132013560260807203460889655_data);\n",
       "   }(LDAvis);\n",
       "}else if(typeof define === \"function\" && define.amd){\n",
       "   // require.js is available: use it to load d3/LDAvis\n",
       "   require.config({paths: {d3: \"https://d3js.org/d3.v5\"}});\n",
       "   require([\"d3\"], function(d3){\n",
       "      window.d3 = d3;\n",
       "      LDAvis_load_lib(\"https://cdn.jsdelivr.net/gh/bmabey/pyLDAvis@3.3.1/pyLDAvis/js/ldavis.v3.0.0.js\", function(){\n",
       "        new LDAvis(\"#\" + \"ldavis_el2132013560260807203460889655\", ldavis_el2132013560260807203460889655_data);\n",
       "      });\n",
       "    });\n",
       "}else{\n",
       "    // require.js not available: dynamically load d3 & LDAvis\n",
       "    LDAvis_load_lib(\"https://d3js.org/d3.v5.js\", function(){\n",
       "         LDAvis_load_lib(\"https://cdn.jsdelivr.net/gh/bmabey/pyLDAvis@3.3.1/pyLDAvis/js/ldavis.v3.0.0.js\", function(){\n",
       "                 new LDAvis(\"#\" + \"ldavis_el2132013560260807203460889655\", ldavis_el2132013560260807203460889655_data);\n",
       "            })\n",
       "         });\n",
       "}\n",
       "</script>"
      ],
      "text/plain": [
       "<IPython.core.display.HTML object>"
      ]
     },
     "execution_count": 324,
     "metadata": {},
     "output_type": "execute_result"
    }
   ],
   "source": [
    "pyLDAvis.enable_notebook()\n",
    "topic_data =  pyLDAvis.gensim_models.prepare(optimal_model, \n",
    "                                             cats_beds_doc_term_matrix, \n",
    "                                             cats_beds_dictionary, \n",
    "                                             mds = 'tsne')\n",
    "pyLDAvis.display(topic_data)"
   ]
  },
  {
   "cell_type": "markdown",
   "id": "7cbee05a",
   "metadata": {},
   "source": [
    "## 5. cats litter (1/4)"
   ]
  },
  {
   "cell_type": "code",
   "execution_count": 328,
   "id": "01491255",
   "metadata": {},
   "outputs": [],
   "source": [
    "cats_litter_dictionary, cats_litter_doc_term_matrix = vectorize(cats_litter_reviews2)\n",
    "model_list, coherence_values = compute_coherence_values(dictionary=cats_litter_dictionary, \n",
    "                                                    corpus=cats_litter_doc_term_matrix, \n",
    "                                                    texts=cats_litter_reviews2, \n",
    "                                                    start=2, \n",
    "                                                    limit=20, \n",
    "                                                    step=2)\n",
    "\n",
    "limit=20; start=2; step=2;\n",
    "x = range(start, limit, step)\n",
    "plt.plot(x, coherence_values)\n",
    "plt.xlabel(\"Num Topics\")\n",
    "plt.ylabel(\"Coherence score\")\n",
    "plt.legend((\"coherence_values\"), loc='best')\n",
    "plt.show()\n",
    "for m, cv in zip(x, coherence_values):\n",
    "    print(\"Num Topics =\", m, \" has Coherence Value of\", round(cv, 4))\n",
    "    \n",
    "with open ('./cat_litter_model_list.pickle', 'wb') as handle:\n",
    "     pickle.dump(model_list, handle)"
   ]
  },
  {
   "cell_type": "code",
   "execution_count": 331,
   "id": "29550ec5",
   "metadata": {},
   "outputs": [
    {
     "name": "stdout",
     "output_type": "stream",
     "text": [
      "Num Topics = 2  has Coherence Value of 0.4805\n",
      "Num Topics = 4  has Coherence Value of 0.4866\n",
      "Num Topics = 6  has Coherence Value of 0.4833\n",
      "Num Topics = 8  has Coherence Value of 0.4711\n",
      "Num Topics = 10  has Coherence Value of 0.4638\n",
      "Num Topics = 12  has Coherence Value of 0.4461\n",
      "Num Topics = 14  has Coherence Value of 0.4498\n",
      "Num Topics = 16  has Coherence Value of 0.4311\n",
      "Num Topics = 18  has Coherence Value of 0.4076\n"
     ]
    }
   ],
   "source": [
    "for m, cv in zip(x, coherence_values):\n",
    "    print(\"Num Topics =\", m, \" has Coherence Value of\", round(cv, 4))"
   ]
  },
  {
   "cell_type": "code",
   "execution_count": 334,
   "id": "57307d8e",
   "metadata": {},
   "outputs": [
    {
     "name": "stderr",
     "output_type": "stream",
     "text": [
      "C:\\Users\\JiatingChen\\anaconda3\\lib\\site-packages\\pyLDAvis\\_prepare.py:246: FutureWarning: In a future version of pandas all arguments of DataFrame.drop except for the argument 'labels' will be keyword-only\n",
      "  default_term_info = default_term_info.sort_values(\n",
      "C:\\Users\\JiatingChen\\anaconda3\\lib\\site-packages\\sklearn\\manifold\\_t_sne.py:691: FutureWarning: 'square_distances' has been introduced in 0.24 to help phase out legacy squaring behavior. The 'legacy' setting will be removed in 1.1 (renaming of 0.26), and the default setting will be changed to True. In 1.3, 'square_distances' will be removed altogether, and distances will be squared by default. Set 'square_distances'=True to silence this warning.\n",
      "  warnings.warn(\n"
     ]
    },
    {
     "data": {
      "text/html": [
       "\n",
       "<link rel=\"stylesheet\" type=\"text/css\" href=\"https://cdn.jsdelivr.net/gh/bmabey/pyLDAvis@3.3.1/pyLDAvis/js/ldavis.v1.0.0.css\">\n",
       "\n",
       "\n",
       "<div id=\"ldavis_el2132013563777884806158156951\"></div>\n",
       "<script type=\"text/javascript\">\n",
       "\n",
       "var ldavis_el2132013563777884806158156951_data = {\"mdsDat\": {\"x\": [269.5624084472656, 1.782994270324707, 220.81143188476562, 50.533992767333984], \"y\": [-124.80339813232422, -295.0796813964844, -343.8321228027344, -76.05093383789062], \"topics\": [1, 2, 3, 4], \"cluster\": [1, 1, 1, 1], \"Freq\": [28.003761316212188, 27.153445584709512, 24.480942343775087, 20.361850755303212]}, \"tinfo\": {\"Term\": [\"easy\", \"great\", \"well\", \"take\", \"track\", \"nice\", \"clump\", \"recommend\", \"empty\", \"good\", \"fit\", \"try\", \"large\", \"keep\", \"seem\", \"make\", \"pull\", \"highly\", \"clean\", \"definitely\", \"odor_control\", \"litter_locker\", \"far\", \"fine\", \"full\", \"look\", \"smell\", \"top\", \"start\", \"put\", \"litter_locker\", \"tie\", \"plastic_bag\", \"diaper_genie\", \"flimsy\", \"litter_locker_ii\", \"lock\", \"litter_champ\", \"trash_bags\", \"refill\", \"grocery_bags\", \"plastic_grocery_bags\", \"snap\", \"litter_maid\", \"disposable\", \"slide\", \"rip\", \"cartridge\", \"garbage_bag\", \"pail\", \"tray\", \"garbage_bags\", \"attach\", \"litter_genie_pail\", \"refill_bags\", \"tie_knot\", \"correctly\", \"omega_paw\", \"spare\", \"trap_door\", \"fit\", \"pull\", \"dispose\", \"littermaid\", \"plastic_bags\", \"empty\", \"plastic\", \"lid\", \"full\", \"bag\", \"top\", \"open\", \"bottom\", \"convenient\", \"hold\", \"close\", \"make\", \"easy\", \"toss\", \"scoop\", \"save\", \"sturdy\", \"use\", \"small\", \"put\", \"get\", \"little\", \"much\", \"buy\", \"keep\", \"come\", \"go\", \"well\", \"take\", \"clean\", \"last\", \"need\", \"enough\", \"also\", \"good\", \"really\", \"back\", \"pee\", \"upstairs\", \"breeze_system\", \"awhile\", \"smart\", \"slowly\", \"male_cat\", \"loud\", \"correct\", \"male\", \"mark\", \"lol\", \"customer_service\", \"travel\", \"lay\", \"linger\", \"slow\", \"bit_pricey\", \"wonderfully\", \"overnight\", \"drive\", \"treat\", \"downstairs\", \"every_months\", \"die\", \"instantly\", \"automatically\", \"unable\", \"toilet_training\", \"remover\", \"laundry_room\", \"soak\", \"plenty\", \"dark\", \"move\", \"stop\", \"eat\", \"wonderful\", \"dry\", \"take\", \"start\", \"wait\", \"follow\", \"place\", \"run\", \"old\", \"arrive\", \"send\", \"go\", \"away\", \"ago\", \"back\", \"know\", \"learn\", \"right\", \"get\", \"new\", \"still\", \"want\", \"give\", \"put\", \"use\", \"first\", \"long\", \"set\", \"never\", \"leave\", \"big\", \"order\", \"find\", \"clean\", \"buy\", \"come\", \"even\", \"work\", \"really\", \"also\", \"keep\", \"think\", \"smell\", \"try\", \"much\", \"feline_pine\", \"dusty\", \"world_best\", \"usual\", \"standard\", \"pricey\", \"weird\", \"swheat_scoop\", \"clay_litters\", \"clump\", \"greatly\", \"sick\", \"year_old_cat\", \"grate\", \"clump_seal\", \"typically\", \"cat_attract\", \"adapt\", \"disappear\", \"sneeze\", \"fall_apart\", \"typical\", \"scent\", \"lug\", \"worst\", \"overly\", \"break_apart\", \"world_best_cat\", \"yellow\", \"accidentally\", \"odor_control\", \"precious_cat\", \"job_done\", \"sticky\", \"lightweight\", \"young\", \"fine\", \"natural\", \"suppose\", \"far\", \"well\", \"good\", \"strong\", \"try\", \"positive\", \"seem\", \"mix\", \"say\", \"okocat\", \"bad\", \"regular\", \"use\", \"smell\", \"think\", \"get\", \"eliminate\", \"little\", \"work\", \"less\", \"go\", \"even\", \"scoop\", \"really\", \"pretty\", \"find\", \"also\", \"much\", \"make\", \"first\", \"still\", \"give\", \"clean\", \"trap\", \"mat\", \"unscented\", \"large_size\", \"living_room\", \"purr_fect_potty\", \"yoga_mat\", \"attractive\", \"plastic_ones\", \"vacuum\", \"please\", \"fly\", \"declaw\", \"unscente\", \"perfect_size\", \"beige\", \"neutral\", \"significantly\", \"stray\", \"better_job\", \"worth_every_penny\", \"crumble\", \"kill\", \"overprice\", \"fabulous\", \"mask\", \"maintain\", \"respiratory\", \"bare\", \"attract\", \"highly\", \"track\", \"soft\", \"great_job\", \"nice\", \"arm_hammer\", \"walk\", \"great\", \"definitely\", \"thank\", \"recommend\", \"super_scoop\", \"catch\", \"large\", \"rug\", \"love\", \"easy\", \"look\", \"perfect\", \"clean\", \"keep\", \"multi_cat\", \"really\", \"buy\", \"much\", \"prefer\", \"make\", \"fresh\", \"always\", \"well\", \"also\", \"use\", \"get\", \"work\", \"seem\", \"smell\", \"try\", \"still\", \"even\", \"good\", \"find\", \"less\", \"little\"], \"Freq\": [1389.0, 1005.0, 2146.0, 1020.0, 368.0, 459.0, 284.0, 621.0, 346.0, 1373.0, 291.0, 1295.0, 671.0, 1085.0, 841.0, 1741.0, 231.0, 223.0, 1563.0, 287.0, 203.0, 191.0, 473.0, 302.0, 297.0, 494.0, 833.0, 427.0, 382.0, 720.0, 190.95835443846724, 126.80541624360124, 107.11742462281867, 96.29413767588359, 96.36496333663686, 74.10310862372224, 72.2731567731596, 57.90516503865371, 57.91640206535014, 70.8710833427042, 53.71804723643814, 48.63281589248569, 46.2417244310826, 46.39846338851486, 43.21880456808211, 42.41755848506164, 43.682980911208745, 40.545966219290605, 40.06442563596641, 38.46930163805974, 37.01510126951259, 33.47377945201707, 33.53669858931727, 31.219708543912283, 30.744594006914483, 29.45392134761619, 28.845716707380575, 29.241072535199777, 28.991300760114193, 26.75130008762929, 282.3044592546919, 224.55300378421893, 82.10756255914329, 115.87988740942829, 75.79950729422625, 315.94504217120266, 115.76523597585901, 103.87341409245776, 249.5689702497294, 140.4563734414783, 313.86487371806646, 291.7944773183128, 198.47687882601602, 102.40234449686635, 277.87175105577774, 173.4384474317791, 872.8040530019553, 700.743649191614, 66.52337141149384, 462.5824098976973, 167.1599287120641, 124.82112978520806, 1070.5190039325553, 352.56736533115975, 320.6404495163531, 781.0973596181389, 380.9566844735368, 446.5610286078588, 422.93540581412066, 368.77299188535403, 295.0030020209657, 464.0972505181062, 479.7547401111088, 300.82621813564765, 358.1180459092044, 248.80039959715953, 235.13101057311377, 205.00189128440516, 258.25685713768706, 257.6001548954283, 222.12045896326907, 204.619859750726, 102.73356724502146, 61.178756485489814, 57.695402513713454, 42.0046139948675, 41.81331556939071, 41.06958614980472, 30.99650285819345, 31.400625924681783, 29.336500297769852, 27.780881745105898, 26.533719350987997, 25.68086139709879, 59.257375856475164, 24.210301477643792, 23.612692416097506, 21.60898927477572, 20.600280812606627, 23.139250600262258, 20.873959259803197, 19.864222263907877, 19.98612009971975, 19.329170171921223, 19.2305570125309, 21.47462737972233, 25.12802120139958, 18.121079893947375, 17.09562623914512, 17.10062845209537, 23.90518307693189, 16.52487628520659, 52.682771512167044, 76.53018196029164, 40.68059248264415, 30.317467104037064, 147.55221854824669, 152.91844838536844, 76.63984798641307, 97.88885930461034, 135.56600944023643, 666.4012370157739, 276.05737271262234, 95.30088264977547, 71.55973632482406, 87.71760302180556, 118.48464332352788, 337.6864588657638, 70.78656650976255, 87.88531816429511, 827.1402931037134, 222.1070318124488, 120.13942801070378, 356.70841375531194, 295.4405397992204, 64.8701839360327, 268.86751055278603, 982.8870367079757, 291.16536084367925, 360.79349313544, 288.5919473416476, 282.0810324599482, 319.3705780019192, 1041.8030765051726, 299.0372669423336, 301.5552590657751, 134.38787161270074, 251.38091541934588, 188.15023636192825, 283.95113238808347, 149.43307716034838, 344.99917882622316, 453.92858900004273, 383.43468346745203, 272.0061442575399, 315.6256358310056, 339.8935462568207, 321.4919498253227, 298.81087450373775, 266.4560081663673, 242.80799612330114, 233.81900949814084, 238.26011638057847, 235.26260192686425, 125.27988812018855, 99.6732719199973, 80.61675006050491, 75.1161873637326, 62.3743724228948, 59.05359824055349, 38.54163723914602, 34.283110325925236, 32.270732929231144, 277.0771516767107, 25.425544810664356, 28.06408114740788, 24.57121147091584, 24.913468084963814, 22.599334287328738, 22.3865491310462, 21.663637576918685, 21.66332847587818, 21.171183781789455, 20.300868921146787, 20.695840224902287, 19.429905945419193, 18.518658130212827, 18.99022866020559, 18.502969756757086, 18.979501856999995, 18.414812145805254, 50.20172217863813, 22.32173762255355, 18.360695533314026, 191.4588755696253, 66.24965791829712, 21.270391256389217, 26.524251438834593, 53.303752534316104, 56.89261902298719, 234.2721216757063, 142.16387237740008, 121.91277670057538, 322.58748184500706, 1104.0255112464026, 749.899130078261, 164.93538990369103, 686.4946016611785, 42.16632754131132, 447.33191921823226, 42.576606326272646, 379.0290287224875, 44.5154196695272, 215.98500216103338, 211.1920933921893, 1075.7305854651459, 345.7081439530486, 357.84468720737397, 722.3619365818944, 78.2760614921902, 317.42135450885786, 345.96553936917667, 230.5186379438644, 448.3254138348159, 301.0909921513908, 294.04147827404995, 325.0141842589927, 166.55662685533161, 251.65623540485285, 241.55835510086592, 243.3166015872597, 255.86883189765507, 188.95621805608678, 188.30518346197775, 171.1497327115943, 175.74866163262004, 63.80133505359455, 97.80229988867804, 63.44073530629885, 39.63421214309298, 39.70287743139746, 34.449898284344094, 34.453421282371984, 34.78832503840209, 32.84266810306153, 30.842713209415347, 31.236413215018313, 29.58608436106306, 24.50741234195379, 23.704001266735023, 22.83725584278882, 23.20816915022456, 21.589174079576715, 21.624435574433107, 20.82541829477738, 21.590912357323056, 20.462567743186078, 18.896012929435532, 21.29111086460006, 18.234861974205625, 17.27091730005577, 17.537610241161644, 36.37104019574292, 17.2030780254132, 16.242921735206707, 15.235054033384236, 193.74569086313545, 308.82473327271384, 94.63079887117995, 41.06953196298056, 349.990122628363, 105.02445248050675, 107.20626307273024, 666.5046251106154, 211.707951742292, 39.8110321439242, 384.05821683076516, 31.491183693871598, 107.61694777692342, 363.9511733292414, 49.014658817710405, 171.7002819042987, 587.0988238052853, 255.0474090560807, 142.47975337250278, 575.3553908912754, 409.1343462135899, 57.26182801748701, 416.3008274750004, 385.4118973084056, 373.15345648683046, 82.00884569188682, 421.18777641546274, 113.0013758852341, 151.79604631937875, 450.1954123658669, 298.5210454887321, 635.7209204595054, 443.55052058272537, 265.86347742706454, 223.24563095603625, 215.14439415385385, 245.11786233573164, 197.1437717406158, 202.44334270245423, 219.3849426200006, 184.12891471346612, 161.58179368142922, 165.87809972841666], \"Total\": [1389.0, 1005.0, 2146.0, 1020.0, 368.0, 459.0, 284.0, 621.0, 346.0, 1373.0, 291.0, 1295.0, 671.0, 1085.0, 841.0, 1741.0, 231.0, 223.0, 1563.0, 287.0, 203.0, 191.0, 473.0, 302.0, 297.0, 494.0, 833.0, 427.0, 382.0, 720.0, 191.69535094140923, 127.54252628575415, 107.85932222121191, 97.03274053922021, 97.21308173649727, 74.83684739152139, 73.07223155715805, 58.636771360584845, 58.66376621600803, 71.8083565496321, 54.47081016122961, 49.39783586226936, 46.98908627694266, 47.1580282733148, 43.96576970053635, 43.16580988977657, 44.46276521432917, 41.2904779669561, 40.80056270859549, 39.20651397728315, 37.825925542139764, 34.21271400697951, 34.29050840385997, 31.952219145415846, 31.480608135232593, 30.191196460946745, 29.599001535598934, 30.007749267386178, 29.7541300415378, 27.478684483362287, 291.7883780346125, 231.57801138663154, 84.48644109370586, 121.72756397703994, 78.94602890493874, 346.5515865457998, 125.80854234863916, 113.35630787722334, 297.56731428089796, 162.87270392842825, 427.93127728348037, 397.8425195237871, 256.807804256144, 120.89154465791255, 399.4258596882232, 232.38288962331228, 1741.7074965508818, 1389.8737352719477, 73.6189984262643, 962.5018232824481, 257.3947904026262, 173.2310248022238, 3823.7735863623793, 803.40725260817, 720.0598727669537, 2929.8968534907344, 984.871744658252, 1298.2936886088132, 1333.5601327760344, 1085.4301994113516, 751.2755488152638, 1851.1424354146568, 2146.044185372457, 1020.187584811187, 1563.1506874331426, 700.7017606992631, 660.544187205757, 482.2779288034903, 1097.1471322310229, 1373.8380739747224, 1284.927420522585, 665.909484324178, 103.53666363732833, 61.91561903617468, 58.421073373200976, 42.741514584245195, 42.54871405802008, 41.79880428421357, 31.71759734086874, 32.21659318148523, 30.123343075829986, 28.54042900568579, 27.27530866419405, 26.42296670473098, 61.02878622233494, 24.944020652455706, 24.366509535107372, 22.35904093689828, 21.31581671147041, 23.960451152200587, 21.616323406893343, 20.586848007612044, 20.724418431486704, 20.043595931933954, 19.947721870614274, 22.295687391698326, 26.12255636573695, 18.86796111398809, 17.817966091995658, 17.823191022875903, 24.93483850671645, 17.248089524803277, 55.08992465289613, 80.79388102955122, 43.31441751886716, 32.076656839326404, 168.1528154447483, 180.93974065915984, 87.52680631970082, 120.04211930257583, 172.68961746266498, 1020.187584811187, 382.15715540833776, 117.12847478310056, 85.23033129925174, 109.75692977273162, 164.13989455144454, 578.8904964838691, 89.91980672108225, 117.05266065374092, 1851.1424354146568, 368.7144201277704, 173.05836322984854, 665.909484324178, 562.4784616920396, 81.49105640463841, 512.6638577964158, 2929.8968534907344, 595.7165533227935, 824.3392272735307, 605.5823761262878, 595.1180520885674, 720.0598727669537, 3823.7735863623793, 663.20963250746, 728.9150111157855, 212.7851733598761, 560.055720424745, 357.52360271118505, 685.1645934301989, 252.45716702742016, 983.5823577978193, 1563.1506874331426, 1333.5601327760344, 751.2755488152638, 992.5831069263768, 1141.6741200480617, 1284.927420522585, 1097.1471322310229, 1085.4301994113516, 884.0582424120059, 833.9140643508808, 1295.4826561953828, 1298.2936886088132, 126.04026847052768, 100.45473179430418, 81.42685382948723, 75.90190586584548, 63.13278099162651, 59.93942085767967, 39.30049081167685, 35.029852611169616, 33.01614332674657, 284.4274124220777, 26.197754999062216, 28.92411908423871, 25.337778805535287, 25.702876818970868, 23.33178877765891, 23.143923429118622, 22.41640974547516, 22.431394145945877, 21.926165027010704, 21.036941795352284, 21.474413989769914, 20.195266233621506, 19.263116924420892, 19.75522340506232, 19.251119875097064, 19.747300992289755, 19.160662068710938, 52.24366576905736, 23.233496522778587, 19.131059814269694, 203.44472157348235, 70.45081523987648, 22.198918676077533, 27.907618615988472, 59.14867870309849, 64.8546354802416, 302.5850057149627, 184.3232655485306, 156.3563620503061, 473.1695244406128, 2146.044185372457, 1373.8380739747224, 237.9133979704946, 1295.4826561953828, 48.66462879051211, 841.655270933193, 49.757798224060835, 758.1318054442179, 53.04754443869077, 388.0913977102657, 403.89139879999266, 3823.7735863623793, 833.9140643508808, 884.0582424120059, 2929.8968534907344, 119.68951813794128, 984.871744658252, 1141.6741200480617, 625.0243192631143, 1851.1424354146568, 992.5831069263768, 962.5018232824481, 1284.927420522585, 403.00791973998776, 983.5823577978193, 1097.1471322310229, 1298.2936886088132, 1741.7074965508818, 663.20963250746, 824.3392272735307, 595.1180520885674, 1563.1506874331426, 64.58144859669184, 99.06482090492297, 64.36675699939849, 40.39160459192024, 40.52244336571853, 35.18457450750079, 35.19850512904356, 35.54523662729782, 33.59416336802709, 31.599358610945316, 32.0107984395598, 30.342557182427154, 25.263110101964333, 24.452902720827296, 23.582832957012847, 23.973003852279803, 22.346604259652075, 22.38833994435131, 21.587491863672234, 22.413052693965344, 21.245706058170445, 19.650185987134588, 22.14938043427314, 18.99197451443907, 18.02729736675794, 18.30715520946067, 37.97935913329222, 17.981446683483867, 17.02942559437554, 16.004087539187815, 223.70272796429728, 368.5903857262761, 110.57509466151852, 45.692997068537586, 459.83277418714056, 126.39253600332717, 129.7172362927823, 1005.3709244149052, 287.0614958824593, 44.86732608234656, 621.5067309136649, 34.71443546738219, 149.89963510684154, 671.1135198494408, 59.70371170338345, 292.77182488019787, 1389.8737352719477, 494.9193296246365, 242.77755551001337, 1563.1506874331426, 1085.4301994113516, 75.04367260996293, 1284.927420522585, 1333.5601327760344, 1298.2936886088132, 132.18770632367952, 1741.7074965508818, 227.28939497061398, 367.3019201482216, 2146.044185372457, 1097.1471322310229, 3823.7735863623793, 2929.8968534907344, 1141.6741200480617, 841.655270933193, 833.9140643508808, 1295.4826561953828, 824.3392272735307, 992.5831069263768, 1373.8380739747224, 983.5823577978193, 625.0243192631143, 984.871744658252], \"Category\": [\"Default\", \"Default\", \"Default\", \"Default\", \"Default\", \"Default\", \"Default\", \"Default\", \"Default\", \"Default\", \"Default\", \"Default\", \"Default\", \"Default\", \"Default\", \"Default\", \"Default\", \"Default\", \"Default\", \"Default\", \"Default\", \"Default\", \"Default\", \"Default\", \"Default\", \"Default\", \"Default\", \"Default\", \"Default\", \"Default\", \"Topic1\", \"Topic1\", \"Topic1\", \"Topic1\", \"Topic1\", \"Topic1\", \"Topic1\", \"Topic1\", \"Topic1\", \"Topic1\", \"Topic1\", \"Topic1\", \"Topic1\", \"Topic1\", \"Topic1\", \"Topic1\", \"Topic1\", \"Topic1\", \"Topic1\", \"Topic1\", \"Topic1\", \"Topic1\", \"Topic1\", \"Topic1\", \"Topic1\", \"Topic1\", \"Topic1\", \"Topic1\", \"Topic1\", \"Topic1\", \"Topic1\", \"Topic1\", \"Topic1\", \"Topic1\", \"Topic1\", \"Topic1\", \"Topic1\", \"Topic1\", \"Topic1\", \"Topic1\", \"Topic1\", \"Topic1\", \"Topic1\", \"Topic1\", \"Topic1\", \"Topic1\", \"Topic1\", \"Topic1\", \"Topic1\", \"Topic1\", \"Topic1\", \"Topic1\", \"Topic1\", \"Topic1\", \"Topic1\", \"Topic1\", \"Topic1\", \"Topic1\", \"Topic1\", \"Topic1\", \"Topic1\", \"Topic1\", \"Topic1\", \"Topic1\", \"Topic1\", \"Topic1\", \"Topic1\", \"Topic1\", \"Topic1\", \"Topic1\", \"Topic1\", \"Topic1\", \"Topic2\", \"Topic2\", \"Topic2\", \"Topic2\", \"Topic2\", \"Topic2\", \"Topic2\", \"Topic2\", \"Topic2\", \"Topic2\", \"Topic2\", \"Topic2\", \"Topic2\", \"Topic2\", \"Topic2\", \"Topic2\", \"Topic2\", \"Topic2\", \"Topic2\", \"Topic2\", \"Topic2\", \"Topic2\", \"Topic2\", \"Topic2\", \"Topic2\", \"Topic2\", \"Topic2\", \"Topic2\", \"Topic2\", \"Topic2\", \"Topic2\", \"Topic2\", \"Topic2\", \"Topic2\", \"Topic2\", \"Topic2\", \"Topic2\", \"Topic2\", \"Topic2\", \"Topic2\", \"Topic2\", \"Topic2\", \"Topic2\", \"Topic2\", \"Topic2\", \"Topic2\", \"Topic2\", \"Topic2\", \"Topic2\", \"Topic2\", \"Topic2\", \"Topic2\", \"Topic2\", \"Topic2\", \"Topic2\", \"Topic2\", \"Topic2\", \"Topic2\", \"Topic2\", \"Topic2\", \"Topic2\", \"Topic2\", \"Topic2\", \"Topic2\", \"Topic2\", \"Topic2\", \"Topic2\", \"Topic2\", \"Topic2\", \"Topic2\", \"Topic2\", \"Topic2\", \"Topic2\", \"Topic2\", \"Topic2\", \"Topic2\", \"Topic2\", \"Topic2\", \"Topic2\", \"Topic2\", \"Topic2\", \"Topic2\", \"Topic3\", \"Topic3\", \"Topic3\", \"Topic3\", \"Topic3\", \"Topic3\", \"Topic3\", \"Topic3\", \"Topic3\", \"Topic3\", \"Topic3\", \"Topic3\", \"Topic3\", \"Topic3\", \"Topic3\", \"Topic3\", \"Topic3\", \"Topic3\", \"Topic3\", \"Topic3\", \"Topic3\", \"Topic3\", \"Topic3\", \"Topic3\", \"Topic3\", \"Topic3\", \"Topic3\", \"Topic3\", \"Topic3\", \"Topic3\", \"Topic3\", \"Topic3\", \"Topic3\", \"Topic3\", \"Topic3\", \"Topic3\", \"Topic3\", \"Topic3\", \"Topic3\", \"Topic3\", \"Topic3\", \"Topic3\", \"Topic3\", \"Topic3\", \"Topic3\", \"Topic3\", \"Topic3\", \"Topic3\", \"Topic3\", \"Topic3\", \"Topic3\", \"Topic3\", \"Topic3\", \"Topic3\", \"Topic3\", \"Topic3\", \"Topic3\", \"Topic3\", \"Topic3\", \"Topic3\", \"Topic3\", \"Topic3\", \"Topic3\", \"Topic3\", \"Topic3\", \"Topic3\", \"Topic3\", \"Topic3\", \"Topic3\", \"Topic3\", \"Topic3\", \"Topic3\", \"Topic4\", \"Topic4\", \"Topic4\", \"Topic4\", \"Topic4\", \"Topic4\", \"Topic4\", \"Topic4\", \"Topic4\", \"Topic4\", \"Topic4\", \"Topic4\", \"Topic4\", \"Topic4\", \"Topic4\", \"Topic4\", \"Topic4\", \"Topic4\", \"Topic4\", \"Topic4\", \"Topic4\", \"Topic4\", \"Topic4\", \"Topic4\", \"Topic4\", \"Topic4\", \"Topic4\", \"Topic4\", \"Topic4\", \"Topic4\", \"Topic4\", \"Topic4\", \"Topic4\", \"Topic4\", \"Topic4\", \"Topic4\", \"Topic4\", \"Topic4\", \"Topic4\", \"Topic4\", \"Topic4\", \"Topic4\", \"Topic4\", \"Topic4\", \"Topic4\", \"Topic4\", \"Topic4\", \"Topic4\", \"Topic4\", \"Topic4\", \"Topic4\", \"Topic4\", \"Topic4\", \"Topic4\", \"Topic4\", \"Topic4\", \"Topic4\", \"Topic4\", \"Topic4\", \"Topic4\", \"Topic4\", \"Topic4\", \"Topic4\", \"Topic4\", \"Topic4\", \"Topic4\", \"Topic4\", \"Topic4\", \"Topic4\", \"Topic4\", \"Topic4\", \"Topic4\", \"Topic4\"], \"logprob\": [30.0, 29.0, 28.0, 27.0, 26.0, 25.0, 24.0, 23.0, 22.0, 21.0, 20.0, 19.0, 18.0, 17.0, 16.0, 15.0, 14.0, 13.0, 12.0, 11.0, 10.0, 9.0, 8.0, 7.0, 6.0, 5.0, 4.0, 3.0, 2.0, 1.0, -5.3241, -5.7335, -5.9023, -6.0088, -6.008, -6.2707, -6.2957, -6.5174, -6.5172, -6.3153, -6.5924, -6.6919, -6.7423, -6.7389, -6.8099, -6.8286, -6.7992, -6.8737, -6.8857, -6.9263, -6.9649, -7.0654, -7.0635, -7.1351, -7.1505, -7.1934, -7.2142, -7.2006, -7.2092, -7.2896, -4.9332, -5.1621, -6.1682, -5.8236, -6.2481, -4.8206, -5.8246, -5.933, -5.0564, -5.6313, -4.8272, -4.9001, -5.2855, -5.9473, -4.949, -5.4204, -3.8045, -4.024, -6.3786, -4.4394, -5.4572, -5.7493, -3.6003, -4.7109, -4.8059, -3.9155, -4.6335, -4.4746, -4.529, -4.666, -4.8892, -4.4361, -4.4029, -4.8696, -4.6953, -5.0595, -5.116, -5.2532, -5.0222, -5.0248, -5.173, -5.255, -5.9132, -6.4315, -6.4902, -6.8076, -6.8121, -6.8301, -7.1115, -7.0985, -7.1665, -7.221, -7.2669, -7.2996, -6.4635, -7.3586, -7.3836, -7.4722, -7.52, -7.4038, -7.5068, -7.5564, -7.5503, -7.5837, -7.5888, -7.4785, -7.3214, -7.6483, -7.7065, -7.7062, -7.3713, -7.7405, -6.5811, -6.2077, -6.8396, -7.1336, -5.5512, -5.5154, -6.2062, -5.9615, -5.6359, -4.0435, -4.9247, -5.9883, -6.2748, -6.0712, -5.7706, -4.7232, -6.2857, -6.0693, -3.8274, -5.1422, -5.7567, -4.6684, -4.8569, -6.373, -4.9511, -3.6549, -4.8715, -4.657, -4.8803, -4.9032, -4.779, -3.5966, -4.8448, -4.8364, -5.6446, -5.0184, -5.3081, -4.8965, -5.5385, -4.7018, -4.4274, -4.5962, -4.9395, -4.7908, -4.7167, -4.7724, -4.8455, -4.9601, -5.0531, -5.0908, -5.072, -5.0846, -5.6112, -5.8398, -6.052, -6.1227, -6.3086, -6.3633, -6.79, -6.9071, -6.9676, -4.8174, -7.206, -7.1072, -7.2402, -7.2263, -7.3238, -7.3333, -7.3661, -7.3661, -7.3891, -7.4311, -7.4118, -7.4749, -7.523, -7.4978, -7.5238, -7.4984, -7.5286, -6.5257, -7.3362, -7.5315, -5.1871, -6.2483, -7.3844, -7.1637, -6.4657, -6.4006, -4.9853, -5.4848, -5.6384, -4.6654, -3.435, -3.8218, -5.3362, -3.9101, -6.7001, -4.3384, -6.6904, -4.5041, -6.6459, -5.0665, -5.089, -3.461, -4.5961, -4.5616, -3.8592, -6.0815, -4.6815, -4.5954, -5.0014, -4.3362, -4.7343, -4.758, -4.6579, -5.3264, -4.9137, -4.9546, -4.9474, -4.8971, -5.2002, -5.2037, -5.2992, -5.2727, -6.1017, -5.6746, -6.1074, -6.5778, -6.5761, -6.718, -6.7179, -6.7082, -6.7658, -6.8286, -6.8159, -6.8702, -7.0585, -7.0919, -7.1291, -7.113, -7.1853, -7.1837, -7.2213, -7.1852, -7.2389, -7.3186, -7.1992, -7.3542, -7.4085, -7.3932, -6.6637, -7.4124, -7.4698, -7.5339, -4.991, -4.5247, -5.7075, -6.5422, -4.3996, -5.6033, -5.5828, -3.7555, -4.9023, -6.5734, -4.3067, -6.8078, -5.5789, -4.3605, -6.3654, -5.1118, -3.8823, -4.7161, -5.2983, -3.9025, -4.2435, -6.2099, -4.2261, -4.3032, -4.3355, -5.8507, -4.2144, -5.5301, -5.235, -4.1478, -4.5587, -3.8027, -4.1627, -4.6745, -4.8492, -4.8862, -4.7558, -4.9736, -4.947, -4.8667, -5.0419, -5.1725, -5.1463], \"loglift\": [30.0, 29.0, 28.0, 27.0, 26.0, 25.0, 24.0, 23.0, 22.0, 21.0, 20.0, 19.0, 18.0, 17.0, 16.0, 15.0, 14.0, 13.0, 12.0, 11.0, 10.0, 9.0, 8.0, 7.0, 6.0, 5.0, 4.0, 3.0, 2.0, 1.0, 1.269, 1.267, 1.2659, 1.2652, 1.2641, 1.263, 1.2618, 1.2603, 1.26, 1.2597, 1.2589, 1.2572, 1.2568, 1.2566, 1.2557, 1.2553, 1.2551, 1.2546, 1.2546, 1.2538, 1.2512, 1.251, 1.2506, 1.2496, 1.2492, 1.2481, 1.2471, 1.247, 1.2469, 1.246, 1.2398, 1.242, 1.2443, 1.2236, 1.2322, 1.1804, 1.1896, 1.1855, 1.0969, 1.1248, 0.9628, 0.9628, 1.0152, 1.1068, 0.91, 0.9803, 0.5819, 0.588, 1.1715, 0.5401, 0.8412, 0.9451, -0.0003, 0.4492, 0.4638, -0.0492, 0.323, 0.2056, 0.1244, 0.1933, 0.338, -0.1106, -0.2253, 0.0516, -0.2008, 0.2374, 0.2399, 0.4173, -0.1737, -0.4011, -0.4824, 0.0928, 1.2959, 1.2917, 1.2912, 1.2863, 1.2862, 1.2861, 1.2807, 1.278, 1.2772, 1.2767, 1.2761, 1.2752, 1.2742, 1.2738, 1.2722, 1.2695, 1.2695, 1.2688, 1.2687, 1.2679, 1.2674, 1.2674, 1.2671, 1.2661, 1.2649, 1.2633, 1.2623, 1.2623, 1.2615, 1.2608, 1.259, 1.2495, 1.2409, 1.2473, 1.173, 1.1354, 1.1708, 1.0997, 1.0616, 0.8778, 0.9784, 1.0974, 1.1288, 1.0795, 0.9777, 0.7647, 1.0644, 1.0171, 0.4981, 0.7968, 0.9387, 0.6794, 0.6598, 1.0756, 0.6583, 0.2114, 0.5878, 0.4774, 0.5625, 0.5571, 0.4907, 0.0034, 0.5071, 0.4211, 0.8441, 0.5026, 0.6617, 0.4228, 0.7793, 0.256, 0.0671, 0.0572, 0.2877, 0.1579, 0.092, -0.0818, 0.003, -0.1009, 0.0114, 0.0321, -0.3896, -0.4044, 1.4012, 1.3995, 1.3973, 1.3969, 1.3952, 1.3924, 1.3878, 1.3857, 1.3844, 1.3811, 1.3774, 1.3771, 1.3766, 1.3761, 1.3754, 1.374, 1.3731, 1.3724, 1.3722, 1.3717, 1.3703, 1.3686, 1.3679, 1.3678, 1.3676, 1.3676, 1.3676, 1.3674, 1.3672, 1.3662, 1.3466, 1.3458, 1.3645, 1.3564, 1.3032, 1.2763, 1.1514, 1.1476, 1.1584, 1.0242, 0.7426, 0.8019, 1.0409, 0.7722, 1.2639, 0.7752, 1.2514, 0.714, 1.2319, 0.8212, 0.7589, 0.139, 0.5267, 0.5029, 0.0071, 0.9826, 0.275, 0.2134, 0.4098, -0.0108, 0.2144, 0.2215, 0.0327, 0.5237, 0.0441, -0.1061, -0.2672, -0.5107, 0.1517, -0.0692, 0.1611, -0.7781, 1.5794, 1.5787, 1.577, 1.5726, 1.5711, 1.5704, 1.5701, 1.57, 1.5689, 1.5673, 1.567, 1.5663, 1.5611, 1.5604, 1.5594, 1.5591, 1.557, 1.5568, 1.5556, 1.5541, 1.5539, 1.5524, 1.552, 1.5508, 1.5486, 1.5486, 1.5482, 1.5473, 1.5442, 1.5423, 1.4477, 1.4146, 1.4358, 1.4848, 1.3185, 1.4063, 1.4009, 1.1804, 1.287, 1.4719, 1.1102, 1.4941, 1.2601, 0.9796, 1.3942, 1.0579, 0.7297, 0.9286, 1.0586, 0.592, 0.6158, 1.3211, 0.4645, 0.3502, 0.3447, 1.1141, 0.172, 0.8927, 0.7079, 0.0298, 0.2899, -0.2027, -0.2964, 0.1342, 0.2644, 0.2367, -0.0734, 0.1609, 0.0017, -0.243, -0.0841, 0.2387, -0.1898]}, \"token.table\": {\"Topic\": [3, 3, 1, 2, 3, 4, 1, 2, 3, 4, 1, 2, 3, 4, 3, 4, 1, 2, 4, 1, 4, 4, 2, 1, 2, 3, 4, 2, 1, 2, 3, 4, 1, 2, 3, 4, 1, 2, 4, 4, 4, 4, 1, 2, 3, 4, 2, 1, 2, 3, 4, 3, 2, 1, 2, 3, 4, 1, 3, 1, 2, 3, 4, 3, 1, 2, 3, 4, 1, 2, 3, 4, 3, 4, 3, 1, 2, 3, 4, 1, 2, 4, 2, 1, 4, 1, 2, 1, 2, 4, 1, 2, 3, 4, 1, 2, 3, 1, 1, 2, 2, 2, 1, 2, 3, 4, 3, 1, 2, 3, 4, 1, 2, 3, 1, 2, 3, 4, 1, 2, 1, 2, 3, 4, 1, 2, 3, 4, 2, 4, 3, 1, 2, 3, 4, 3, 1, 2, 3, 4, 2, 3, 4, 1, 2, 3, 4, 1, 2, 3, 4, 1, 4, 1, 2, 3, 2, 3, 4, 1, 2, 3, 1, 1, 1, 2, 3, 4, 1, 2, 3, 4, 1, 2, 3, 4, 1, 2, 3, 4, 3, 1, 2, 3, 4, 3, 4, 3, 1, 1, 2, 4, 1, 2, 3, 4, 2, 3, 1, 2, 3, 4, 4, 1, 2, 3, 4, 1, 2, 3, 4, 4, 1, 2, 3, 4, 2, 3, 4, 2, 1, 2, 1, 2, 3, 4, 1, 2, 3, 4, 1, 2, 3, 1, 3, 4, 2, 1, 1, 1, 1, 1, 1, 3, 1, 2, 3, 4, 4, 1, 2, 1, 2, 3, 4, 1, 2, 3, 4, 2, 1, 2, 3, 4, 3, 3, 4, 1, 2, 3, 4, 2, 2, 2, 4, 2, 4, 2, 3, 4, 1, 2, 3, 4, 1, 2, 3, 4, 3, 4, 3, 4, 1, 2, 3, 4, 4, 1, 2, 3, 4, 1, 2, 3, 4, 1, 2, 3, 4, 1, 3, 4, 3, 4, 1, 2, 3, 4, 1, 1, 2, 3, 4, 1, 2, 4, 3, 2, 4, 1, 2, 1, 2, 3, 4, 4, 1, 2, 3, 4, 1, 2, 4, 1, 1, 3, 1, 4, 4, 2, 3, 2, 3, 3, 4, 2, 3, 4, 1, 2, 3, 4, 3, 1, 2, 4, 1, 2, 3, 4, 1, 2, 3, 4, 1, 2, 3, 4, 1, 1, 1, 2, 3, 4, 2, 4, 1, 2, 3, 4, 1, 2, 4, 1, 2, 3, 1, 2, 3, 4, 1, 2, 3, 4, 3, 1, 2, 3, 4, 1, 2, 3, 4, 1, 2, 4, 1, 2, 3, 4, 3, 4, 1, 2, 2, 1, 2, 3, 4, 2, 1, 2, 3, 4, 1, 3, 2, 3, 1, 3, 4, 1, 3, 1, 2, 3, 4, 2, 3, 1, 2, 3, 4, 2, 3, 4, 1, 3, 4, 1, 2, 3, 4, 1, 4, 1, 3, 4, 3, 1, 2, 3, 4, 1, 2, 3, 4, 1, 2, 3, 4, 1, 1, 2, 3, 1, 2, 3, 4, 1, 2, 3, 4, 4, 1, 1, 2, 1, 2, 1, 2, 3, 4, 3, 3, 2, 4, 4, 2, 1, 2, 3, 4, 3, 4, 1, 2, 1, 2, 4, 1, 2, 3, 4, 3, 1, 2, 3, 4, 2, 3, 4, 2, 1, 2, 3, 4, 3, 3, 4, 3, 4, 3, 3, 4, 2, 3, 4], \"Freq\": [0.9408783504285504, 0.9807682864854905, 0.16757352524756905, 0.6934076906795961, 0.04622717937863974, 0.09245435875727948, 0.2351553337020196, 0.2725249797554413, 0.22057205719336723, 0.2725249797554413, 0.2559202520968774, 0.28314581083058776, 0.04628344984730761, 0.41382849275239747, 0.16614905170861669, 0.8307452585430833, 0.055605101727022724, 0.7895924445237227, 0.1556942848356636, 0.9915280228441505, 0.9372605569215244, 0.9846607681075588, 0.9540931839373569, 0.2522277267262093, 0.6020919928303061, 0.12204567422235935, 0.02169700875064166, 0.9826511860551025, 0.30784964747581506, 0.5361088982871511, 0.10361768622356701, 0.05255969591050501, 0.19067673346175426, 0.2190205722195826, 0.5565699246991745, 0.030920551372176367, 0.8595669908047988, 0.006139764220034277, 0.1289350486207198, 0.939550186900283, 0.959412518419661, 0.9815708864113563, 0.24373705471839024, 0.4144989433534301, 0.14157182220169973, 0.19995195506838, 0.9599151474194016, 0.7710046062405168, 0.04672755189336465, 0.17912228225789784, 0.003893962657780388, 0.9394247409328157, 0.992792440314968, 0.31719604508531074, 0.28720114720490314, 0.10648188747544711, 0.2887008920989235, 0.992965013212282, 0.9814238876696473, 0.026684521260835523, 0.18679164882584864, 0.0667113031520888, 0.7204820740425592, 0.9692228339121793, 0.22902462499496676, 0.2904390495746227, 0.11259311172936914, 0.36784681388856394, 0.744461006920214, 0.09897458473505735, 0.06454864221851567, 0.09036809910592193, 0.9738864395705442, 0.024610848653407253, 0.9857795396306428, 0.39266551462403515, 0.36205091517877136, 0.1371001627331377, 0.10914770237007078, 0.8437314643354914, 0.14889378782391025, 0.008271877101328347, 0.9627085522014547, 0.9797627789951459, 0.9669119677767793, 0.016385710119760272, 0.9667568970658561, 0.031175318706343075, 0.9352595611902923, 0.9895852054278989, 0.017417870636497024, 0.17766228049226965, 0.0696714825459881, 0.7385177149874739, 0.9893567827366189, 0.9570273157795028, 0.9577598259490537, 0.9780335996136429, 0.9705699392527601, 0.02367243754275025, 0.9524897190385235, 0.9650451744215851, 0.05211662479908947, 0.7875401080751298, 0.13318693004211754, 0.028953680443938593, 0.9954732665531842, 0.5043623619974658, 0.047486327948406196, 0.025901633426403378, 0.4223405228138551, 0.057125356336400264, 0.879730487580564, 0.057125356336400264, 0.259003465652462, 0.07519455454426316, 0.6516861393836141, 0.008354950504918128, 0.9118411580500378, 0.08656719854905422, 0.42506610349885954, 0.27162760760171023, 0.17417342777514244, 0.12855657764355752, 0.174292710396523, 0.3183612513601229, 0.30324916664366136, 0.20350940751501528, 0.9418861877216322, 0.9430143439774694, 0.9779079424474205, 0.13103126215344746, 0.16484578141885325, 0.6826306076703795, 0.023247481994966485, 0.9917465387597859, 0.20638841108791803, 0.350758629681437, 0.2562063034194844, 0.18707126916343308, 0.059487415635380604, 0.7733364032599478, 0.16524282120939057, 0.167367894794187, 0.45083784273389116, 0.2849777668117238, 0.09650040780926099, 0.9664538454185746, 0.027417130366484386, 0.0034271412958105482, 0.0034271412958105482, 0.9875214146611933, 0.9887103390670862, 0.08213038590008924, 0.844769683543775, 0.08213038590008924, 0.21558418951458408, 0.28597902690710136, 0.4971635390846531, 0.8401460375584285, 0.07729343545537543, 0.08401460375584285, 0.9803786356008556, 0.9645537034351582, 0.2665622849724221, 0.33550669158500757, 0.2464250572984491, 0.1515411709702374, 0.15963219342212423, 0.47385556363198983, 0.2873379481598236, 0.0789759272719983, 0.25065602253133146, 0.4467511436064895, 0.2420127114095614, 0.06050317785239035, 0.18779505742883276, 0.10699950946526518, 0.5459158646186999, 0.15940743246866038, 0.9726537685286619, 0.11140167005046475, 0.15815058516092764, 0.06763672824492503, 0.6634367314612499, 0.08754076678314988, 0.8972928595272863, 0.9542802427496138, 0.9913566521254954, 0.07599370894892789, 0.05811283625506251, 0.8672223256524713, 0.6959990027110321, 0.052575464233567175, 0.16273357977056505, 0.09012936725754372, 0.9539981501581211, 0.9459920235948458, 0.33995737376766866, 0.24506412309539258, 0.03777304152974097, 0.37680912160156227, 0.9481077839768993, 0.11200428868064444, 0.5244645263617478, 0.23111996076958374, 0.1333384389055291, 0.26970101874956415, 0.12367505279676146, 0.06407261771398484, 0.542382159253267, 0.9903048023004618, 0.35535803385382, 0.24546820009179532, 0.24118677799717098, 0.15841261750110047, 0.9620633960553754, 0.01815213954821463, 0.01815213954821463, 0.9849584720134288, 0.19634056430135186, 0.7976335424742419, 0.13985090668374986, 0.5258394091308994, 0.12306879788169987, 0.2097763600256248, 0.3231874245119809, 0.049598070098373304, 0.36958561912013654, 0.25918991470762826, 0.917461074267193, 0.04410870549361505, 0.03528696439489204, 0.06762619364801568, 0.8960470658362079, 0.03381309682400784, 0.9839420242616146, 0.9891404088968501, 0.9701986537748049, 0.9963726249072062, 0.988817709180836, 0.9754436664187233, 0.9529476825961928, 0.04107533114638762, 0.38685240191575, 0.12285863682888647, 0.32186932127898354, 0.16854986540161285, 0.9871073083870231, 0.9853264155985255, 0.9839924596863966, 0.23871095717133026, 0.41431441991805595, 0.15639683400880258, 0.19206628737923123, 0.09294444012701616, 0.2808538516881575, 0.11112922189099758, 0.515235483312807, 0.9622370629125242, 0.18444397790701608, 0.21518464089151879, 0.013662516882001192, 0.5874882259260512, 0.9617709509238558, 0.02633009147127532, 0.9478832929659116, 0.5012322687528241, 0.1102366501724424, 0.1469822002299232, 0.2417168214718659, 0.9810644400062056, 0.977375419293059, 0.9899063043581441, 0.9832221223916897, 0.010094400725356842, 0.9892512710849705, 0.020097352288318115, 0.8641861483976789, 0.12058411372990868, 0.04757577194791985, 0.8801517810365171, 0.06541668642838978, 0.011893942986979962, 0.34429806131075236, 0.18100681075621208, 0.1871687447394023, 0.287300171966243, 0.22653475514660582, 0.7595577084327371, 0.7703856568372955, 0.22786054638849587, 0.355767266674619, 0.31791968511348934, 0.1771266817060869, 0.14987642298207354, 0.9844896228695522, 0.2267631511801781, 0.44816969248995825, 0.2374763709209739, 0.08570575792636652, 0.20815268487731559, 0.4884873491878938, 0.19472347940135973, 0.10743364380764675, 0.023921739853025946, 0.15875336447917218, 0.056542294198061324, 0.7611462680508255, 0.054068741203624204, 0.938829960899293, 0.004915340109420382, 0.8482956275574329, 0.15080811156576585, 0.15201493293551094, 0.5838755378659398, 0.19520099342855382, 0.06909769678886861, 0.9664170325336113, 0.7339587542063645, 0.12819142624837188, 0.040216918038704905, 0.09551518034192415, 0.06733815561731935, 0.5901991286459166, 0.3406518460640861, 0.9621568034749896, 0.9714940331130314, 0.9477687528653274, 0.9692266959010377, 0.9948166802128358, 0.21006884220768302, 0.181235863865452, 0.024713981436198, 0.584897560656686, 0.9752857106660916, 0.15488771447234428, 0.8017716984450763, 0.03644416811113983, 0.009111042027784958, 0.9220359590411766, 0.015897171707606496, 0.06358868683042598, 0.9920329350906776, 0.9626830007056322, 0.03800064476469601, 0.9919462896435665, 0.9823134941174758, 0.9684232043924706, 0.9465670404580869, 0.046174001973565214, 0.12329283401766723, 0.8630498381236706, 0.9368237936676532, 0.05677719961622141, 0.204255000339342, 0.1739950002890691, 0.6203300010305942, 0.29776089779431997, 0.11910435911772799, 0.4143839160970953, 0.16873117541678131, 0.984327161586859, 0.9715948360241802, 0.02590919562731147, 0.9663325612407716, 0.4457962624225988, 0.44301871561622747, 0.08471517759432563, 0.026386694660527656, 0.1727724044597879, 0.24981955779996357, 0.2529325740965363, 0.3237536948435665, 0.18342520576150612, 0.15607232420057976, 0.04183381885788736, 0.6178533246703364, 0.9887428624122128, 0.9847332004144258, 0.272350439565741, 0.14112704595679307, 0.5224176613488305, 0.06189782717403205, 0.9856164055476105, 0.9454189253645906, 0.27113282492248236, 0.5247102870801997, 0.0897274096865769, 0.11508515590234863, 0.9895920730053913, 0.16749377408361854, 0.8207194930097309, 0.21932510739317504, 0.7188989631220737, 0.060923640942548624, 0.6488087802351111, 0.30303643627747706, 0.007770165032755822, 0.038850825163779114, 0.20181187347805776, 0.21236412830043985, 0.49991307221035225, 0.08705610228465237, 0.9863408956373345, 0.48103804979923837, 0.09974007080070602, 0.3054539668271622, 0.11428549779247564, 0.13425924354363064, 0.06891182411973962, 0.5310962996814416, 0.2649540823914127, 0.2306654103307399, 0.7517983744113004, 0.01708632669116592, 0.24437792905831002, 0.6297431248810297, 0.004699575558813654, 0.11748938897034135, 0.9680502254347901, 0.9826543662765274, 0.9729922850340709, 0.9851839262954225, 0.9808893029862279, 0.43937865740448045, 0.23649276177578268, 0.13816156082690462, 0.18670481192824948, 0.9871038627096498, 0.046767408858078945, 0.28060445314847365, 0.41491085807423883, 0.25782033088428136, 0.9789507233421562, 0.9507085295267881, 0.9530424707761772, 0.04950869978058063, 0.009043627799380146, 0.1356544169907022, 0.8591446409411139, 0.9746546096126821, 0.9820571662798008, 0.04186759235975546, 0.7222159682057816, 0.19625433918635368, 0.04186759235975546, 0.03583250917106531, 0.9674777476187635, 0.09462124016344813, 0.4379265089615997, 0.22806145065036215, 0.23897928605383695, 0.8455853835239515, 0.1492209500336385, 0.9727855432496596, 0.11768988312071642, 0.693529668389936, 0.18494124490398295, 0.7215797524878197, 0.011545276039805114, 0.017317914059707673, 0.24822343485580997, 0.08641938028399773, 0.8930002629346433, 0.19186939122021654, 0.7802688576288805, 0.03197823187003609, 0.970600715264179, 0.29504377869458986, 0.6528211183076308, 0.050971018246241444, 0.000980211889350797, 0.044575867889459934, 0.022287933944729967, 0.022287933944729967, 0.8915173577891986, 0.20021305329056707, 0.2748687680768802, 0.4049506953560622, 0.11990160253559383, 0.9957463106498405, 0.9605449071060302, 0.9625087402725853, 0.04010453084469105, 0.733762677954462, 0.17058813850533672, 0.04439965248769038, 0.05141012393311518, 0.9100911644037947, 0.09508415150487406, 0.1600692863535914, 0.838328974292538, 0.9909966622098714, 0.9825797889396009, 0.9886852437403363, 0.9621544310915743, 0.9781650936414061, 0.9479336973526157, 0.0972610473767677, 0.18371531171167235, 0.5295323690512909, 0.18911870323260388, 0.9408145344659234, 0.9505734871348827, 0.9538134881784442, 0.9814785702131983, 0.9787661043819365, 0.9852118245698275, 0.280089805479006, 0.2725056744249526, 0.281397414281429, 0.16632783966820525, 0.9881174806408739, 0.9810325703655988, 0.1792903052728038, 0.8110751905198267, 0.03854537872449422, 0.13876336340817919, 0.8248711047041762, 0.19980766411003797, 0.4772265696512477, 0.17008420994490836, 0.15357117985316968, 0.9923540188564879, 0.2236673425792925, 0.05218904660183491, 0.5144348879323727, 0.2096881336680867, 0.8163801219885423, 0.0333216376321854, 0.1499473693448343, 0.9714880557950571, 0.1664222711748966, 0.29780827473402555, 0.30306371487639067, 0.23299117964485527, 0.994757824852461, 0.9570538220082897, 0.03828215288033159, 0.9869555705472538, 0.9413666905322083, 0.9866689654161203, 0.9469087004803929, 0.9659501128059376, 0.10793368813448342, 0.8788886033807936, 0.015419098304926203], \"Term\": [\"accidentally\", \"adapt\", \"ago\", \"ago\", \"ago\", \"ago\", \"also\", \"also\", \"also\", \"also\", \"always\", \"always\", \"always\", \"always\", \"arm_hammer\", \"arm_hammer\", \"arrive\", \"arrive\", \"arrive\", \"attach\", \"attract\", \"attractive\", \"automatically\", \"away\", \"away\", \"away\", \"away\", \"awhile\", \"back\", \"back\", \"back\", \"back\", \"bad\", \"bad\", \"bad\", \"bad\", \"bag\", \"bag\", \"bag\", \"bare\", \"beige\", \"better_job\", \"big\", \"big\", \"big\", \"big\", \"bit_pricey\", \"bottom\", \"bottom\", \"bottom\", \"bottom\", \"break_apart\", \"breeze_system\", \"buy\", \"buy\", \"buy\", \"buy\", \"cartridge\", \"cat_attract\", \"catch\", \"catch\", \"catch\", \"catch\", \"clay_litters\", \"clean\", \"clean\", \"clean\", \"clean\", \"close\", \"close\", \"close\", \"close\", \"clump\", \"clump\", \"clump_seal\", \"come\", \"come\", \"come\", \"come\", \"convenient\", \"convenient\", \"convenient\", \"correct\", \"correctly\", \"crumble\", \"customer_service\", \"customer_service\", \"dark\", \"dark\", \"declaw\", \"definitely\", \"definitely\", \"definitely\", \"definitely\", \"diaper_genie\", \"die\", \"disappear\", \"disposable\", \"dispose\", \"dispose\", \"downstairs\", \"drive\", \"dry\", \"dry\", \"dry\", \"dry\", \"dusty\", \"easy\", \"easy\", \"easy\", \"easy\", \"eat\", \"eat\", \"eat\", \"eliminate\", \"eliminate\", \"eliminate\", \"eliminate\", \"empty\", \"empty\", \"enough\", \"enough\", \"enough\", \"enough\", \"even\", \"even\", \"even\", \"even\", \"every_months\", \"fabulous\", \"fall_apart\", \"far\", \"far\", \"far\", \"far\", \"feline_pine\", \"find\", \"find\", \"find\", \"find\", \"fine\", \"fine\", \"fine\", \"first\", \"first\", \"first\", \"first\", \"fit\", \"fit\", \"fit\", \"fit\", \"flimsy\", \"fly\", \"follow\", \"follow\", \"follow\", \"fresh\", \"fresh\", \"fresh\", \"full\", \"full\", \"full\", \"garbage_bag\", \"garbage_bags\", \"get\", \"get\", \"get\", \"get\", \"give\", \"give\", \"give\", \"give\", \"go\", \"go\", \"go\", \"go\", \"good\", \"good\", \"good\", \"good\", \"grate\", \"great\", \"great\", \"great\", \"great\", \"great_job\", \"great_job\", \"greatly\", \"grocery_bags\", \"highly\", \"highly\", \"highly\", \"hold\", \"hold\", \"hold\", \"hold\", \"instantly\", \"job_done\", \"keep\", \"keep\", \"keep\", \"keep\", \"kill\", \"know\", \"know\", \"know\", \"know\", \"large\", \"large\", \"large\", \"large\", \"large_size\", \"last\", \"last\", \"last\", \"last\", \"laundry_room\", \"laundry_room\", \"laundry_room\", \"lay\", \"learn\", \"learn\", \"leave\", \"leave\", \"leave\", \"leave\", \"less\", \"less\", \"less\", \"less\", \"lid\", \"lid\", \"lid\", \"lightweight\", \"lightweight\", \"lightweight\", \"linger\", \"litter_champ\", \"litter_genie_pail\", \"litter_locker\", \"litter_locker_ii\", \"litter_maid\", \"littermaid\", \"littermaid\", \"little\", \"little\", \"little\", \"little\", \"living_room\", \"lock\", \"lol\", \"long\", \"long\", \"long\", \"long\", \"look\", \"look\", \"look\", \"look\", \"loud\", \"love\", \"love\", \"love\", \"love\", \"lug\", \"maintain\", \"maintain\", \"make\", \"make\", \"make\", \"make\", \"male\", \"male_cat\", \"mark\", \"mask\", \"mat\", \"mat\", \"mix\", \"mix\", \"mix\", \"move\", \"move\", \"move\", \"move\", \"much\", \"much\", \"much\", \"much\", \"multi_cat\", \"multi_cat\", \"natural\", \"natural\", \"need\", \"need\", \"need\", \"need\", \"neutral\", \"never\", \"never\", \"never\", \"never\", \"new\", \"new\", \"new\", \"new\", \"nice\", \"nice\", \"nice\", \"nice\", \"odor_control\", \"odor_control\", \"odor_control\", \"okocat\", \"okocat\", \"old\", \"old\", \"old\", \"old\", \"omega_paw\", \"open\", \"open\", \"open\", \"open\", \"order\", \"order\", \"order\", \"overly\", \"overnight\", \"overprice\", \"pail\", \"pee\", \"perfect\", \"perfect\", \"perfect\", \"perfect\", \"perfect_size\", \"place\", \"place\", \"place\", \"place\", \"plastic\", \"plastic\", \"plastic\", \"plastic_bag\", \"plastic_bags\", \"plastic_bags\", \"plastic_grocery_bags\", \"plastic_ones\", \"please\", \"plenty\", \"plenty\", \"positive\", \"positive\", \"precious_cat\", \"precious_cat\", \"prefer\", \"prefer\", \"prefer\", \"pretty\", \"pretty\", \"pretty\", \"pretty\", \"pricey\", \"pull\", \"pull\", \"purr_fect_potty\", \"put\", \"put\", \"put\", \"put\", \"really\", \"really\", \"really\", \"really\", \"recommend\", \"recommend\", \"recommend\", \"recommend\", \"refill\", \"refill_bags\", \"regular\", \"regular\", \"regular\", \"regular\", \"remover\", \"respiratory\", \"right\", \"right\", \"right\", \"right\", \"rip\", \"rug\", \"rug\", \"run\", \"run\", \"run\", \"save\", \"save\", \"save\", \"save\", \"say\", \"say\", \"say\", \"say\", \"scent\", \"scoop\", \"scoop\", \"scoop\", \"scoop\", \"seem\", \"seem\", \"seem\", \"seem\", \"send\", \"send\", \"send\", \"set\", \"set\", \"set\", \"set\", \"sick\", \"significantly\", \"slide\", \"slow\", \"slowly\", \"small\", \"small\", \"small\", \"small\", \"smart\", \"smell\", \"smell\", \"smell\", \"smell\", \"snap\", \"sneeze\", \"soak\", \"soak\", \"soft\", \"soft\", \"soft\", \"spare\", \"standard\", \"start\", \"start\", \"start\", \"start\", \"sticky\", \"sticky\", \"still\", \"still\", \"still\", \"still\", \"stop\", \"stop\", \"stray\", \"strong\", \"strong\", \"strong\", \"sturdy\", \"sturdy\", \"sturdy\", \"sturdy\", \"super_scoop\", \"super_scoop\", \"suppose\", \"suppose\", \"suppose\", \"swheat_scoop\", \"take\", \"take\", \"take\", \"take\", \"thank\", \"thank\", \"thank\", \"thank\", \"think\", \"think\", \"think\", \"think\", \"tie\", \"tie_knot\", \"toilet_training\", \"toilet_training\", \"top\", \"top\", \"top\", \"top\", \"toss\", \"toss\", \"track\", \"track\", \"trap\", \"trap_door\", \"trash_bags\", \"travel\", \"tray\", \"treat\", \"try\", \"try\", \"try\", \"try\", \"typical\", \"typically\", \"unable\", \"unscente\", \"unscented\", \"upstairs\", \"use\", \"use\", \"use\", \"use\", \"usual\", \"vacuum\", \"wait\", \"wait\", \"walk\", \"walk\", \"walk\", \"want\", \"want\", \"want\", \"want\", \"weird\", \"well\", \"well\", \"well\", \"well\", \"wonderful\", \"wonderful\", \"wonderful\", \"wonderfully\", \"work\", \"work\", \"work\", \"work\", \"world_best\", \"world_best_cat\", \"world_best_cat\", \"worst\", \"worth_every_penny\", \"year_old_cat\", \"yellow\", \"yoga_mat\", \"young\", \"young\", \"young\"]}, \"R\": 30, \"lambda.step\": 0.01, \"plot.opts\": {\"xlab\": \"PC1\", \"ylab\": \"PC2\"}, \"topic.order\": [3, 2, 1, 4]};\n",
       "\n",
       "function LDAvis_load_lib(url, callback){\n",
       "  var s = document.createElement('script');\n",
       "  s.src = url;\n",
       "  s.async = true;\n",
       "  s.onreadystatechange = s.onload = callback;\n",
       "  s.onerror = function(){console.warn(\"failed to load library \" + url);};\n",
       "  document.getElementsByTagName(\"head\")[0].appendChild(s);\n",
       "}\n",
       "\n",
       "if(typeof(LDAvis) !== \"undefined\"){\n",
       "   // already loaded: just create the visualization\n",
       "   !function(LDAvis){\n",
       "       new LDAvis(\"#\" + \"ldavis_el2132013563777884806158156951\", ldavis_el2132013563777884806158156951_data);\n",
       "   }(LDAvis);\n",
       "}else if(typeof define === \"function\" && define.amd){\n",
       "   // require.js is available: use it to load d3/LDAvis\n",
       "   require.config({paths: {d3: \"https://d3js.org/d3.v5\"}});\n",
       "   require([\"d3\"], function(d3){\n",
       "      window.d3 = d3;\n",
       "      LDAvis_load_lib(\"https://cdn.jsdelivr.net/gh/bmabey/pyLDAvis@3.3.1/pyLDAvis/js/ldavis.v3.0.0.js\", function(){\n",
       "        new LDAvis(\"#\" + \"ldavis_el2132013563777884806158156951\", ldavis_el2132013563777884806158156951_data);\n",
       "      });\n",
       "    });\n",
       "}else{\n",
       "    // require.js not available: dynamically load d3 & LDAvis\n",
       "    LDAvis_load_lib(\"https://d3js.org/d3.v5.js\", function(){\n",
       "         LDAvis_load_lib(\"https://cdn.jsdelivr.net/gh/bmabey/pyLDAvis@3.3.1/pyLDAvis/js/ldavis.v3.0.0.js\", function(){\n",
       "                 new LDAvis(\"#\" + \"ldavis_el2132013563777884806158156951\", ldavis_el2132013563777884806158156951_data);\n",
       "            })\n",
       "         });\n",
       "}\n",
       "</script>"
      ],
      "text/plain": [
       "<IPython.core.display.HTML object>"
      ]
     },
     "execution_count": 334,
     "metadata": {},
     "output_type": "execute_result"
    }
   ],
   "source": [
    "optimal_model = model_list[1]\n",
    "model_topics = optimal_model.show_topics(formatted=False)\n",
    "pyLDAvis.enable_notebook()\n",
    "topic_data =  pyLDAvis.gensim_models.prepare(optimal_model, \n",
    "                                             cats_litter_doc_term_matrix, \n",
    "                                             cats_litter_dictionary, \n",
    "                                             mds = 'tsne')\n",
    "pyLDAvis.display(topic_data)"
   ]
  },
  {
   "cell_type": "code",
   "execution_count": 340,
   "id": "da7f709a",
   "metadata": {},
   "outputs": [
    {
     "data": {
      "text/plain": [
       "[(0,\n",
       "  '0.032*\"well\" + 0.031*\"use\" + 0.022*\"good\" + 0.021*\"get\" + 0.020*\"try\" + 0.013*\"go\" + 0.013*\"seem\" + 0.011*\"say\" + 0.010*\"think\" + 0.010*\"work\" + 0.010*\"smell\" + 0.009*\"really\" + 0.009*\"far\" + 0.009*\"little\" + 0.009*\"even\" + 0.009*\"scoop\" + 0.008*\"clump\" + 0.007*\"make\" + 0.007*\"find\" + 0.007*\"much\" + 0.007*\"also\" + 0.007*\"fine\" + 0.007*\"less\" + 0.006*\"bad\" + 0.006*\"regular\" + 0.006*\"odor_control\" + 0.006*\"first\" + 0.005*\"still\" + 0.005*\"clean\" + 0.005*\"give\"'),\n",
       " (1,\n",
       "  '0.027*\"use\" + 0.026*\"get\" + 0.022*\"go\" + 0.018*\"take\" + 0.012*\"clean\" + 0.010*\"buy\" + 0.009*\"still\" + 0.009*\"back\" + 0.009*\"find\" + 0.009*\"work\" + 0.009*\"old\" + 0.008*\"really\" + 0.008*\"put\" + 0.008*\"even\" + 0.008*\"long\" + 0.008*\"first\" + 0.008*\"also\" + 0.008*\"know\" + 0.008*\"new\" + 0.008*\"want\" + 0.007*\"big\" + 0.007*\"give\" + 0.007*\"start\" + 0.007*\"come\" + 0.007*\"right\" + 0.007*\"keep\" + 0.007*\"never\" + 0.006*\"think\" + 0.006*\"try\" + 0.006*\"much\"'),\n",
       " (2,\n",
       "  '0.027*\"use\" + 0.022*\"make\" + 0.020*\"get\" + 0.018*\"easy\" + 0.012*\"well\" + 0.012*\"go\" + 0.012*\"scoop\" + 0.011*\"much\" + 0.011*\"buy\" + 0.010*\"little\" + 0.009*\"keep\" + 0.009*\"clean\" + 0.009*\"small\" + 0.008*\"put\" + 0.008*\"empty\" + 0.008*\"top\" + 0.008*\"take\" + 0.008*\"come\" + 0.007*\"open\" + 0.007*\"fit\" + 0.007*\"hold\" + 0.007*\"also\" + 0.007*\"good\" + 0.006*\"full\" + 0.006*\"last\" + 0.006*\"need\" + 0.006*\"pull\" + 0.006*\"really\" + 0.005*\"enough\" + 0.005*\"back\"'),\n",
       " (3,\n",
       "  '0.023*\"great\" + 0.022*\"use\" + 0.021*\"easy\" + 0.020*\"clean\" + 0.016*\"well\" + 0.016*\"get\" + 0.015*\"make\" + 0.015*\"really\" + 0.014*\"keep\" + 0.014*\"buy\" + 0.013*\"recommend\" + 0.013*\"much\" + 0.013*\"large\" + 0.012*\"nice\" + 0.011*\"track\" + 0.010*\"also\" + 0.009*\"work\" + 0.009*\"look\" + 0.009*\"try\" + 0.008*\"seem\" + 0.008*\"good\" + 0.008*\"smell\" + 0.007*\"definitely\" + 0.007*\"even\" + 0.007*\"still\" + 0.007*\"highly\" + 0.006*\"find\" + 0.006*\"love\" + 0.006*\"little\" + 0.006*\"less\"')]"
      ]
     },
     "execution_count": 340,
     "metadata": {},
     "output_type": "execute_result"
    }
   ],
   "source": [
    "keywords_dict = get_keywords(cats_litter_doc_term_matrix, model = optimal_model)\n",
    "optimal_model.print_topics(num_topics=4, num_words=30)"
   ]
  },
  {
   "cell_type": "code",
   "execution_count": 335,
   "id": "0f8c4bc9",
   "metadata": {},
   "outputs": [
    {
     "data": {
      "text/plain": [
       "['still', 'back', 'old', 'long', 'first', 'know', 'new', 'want']"
      ]
     },
     "execution_count": 335,
     "metadata": {},
     "output_type": "execute_result"
    }
   ],
   "source": [
    "[w for w in keywords_dict[1] if w not in  keywords_dict[0]\\\n",
    "                                and w not in  keywords_dict[2]\\ \n",
    "                                and w not in  keywords_dict[3]] "
   ]
  },
  {
   "cell_type": "code",
   "execution_count": 337,
   "id": "94278852",
   "metadata": {},
   "outputs": [
    {
     "data": {
      "text/plain": [
       "['great', 'recommend', 'large', 'nice', 'track', 'look']"
      ]
     },
     "execution_count": 337,
     "metadata": {},
     "output_type": "execute_result"
    }
   ],
   "source": [
    "[w for w in keywords_dict[2] if w not in  keywords_dict[1]\\\n",
    "                                and w not in  keywords_dict[0]\\\n",
    "                                and w not in  keywords_dict[3]] "
   ]
  },
  {
   "cell_type": "code",
   "execution_count": 338,
   "id": "987150d1",
   "metadata": {},
   "outputs": [
    {
     "data": {
      "text/plain": [
       "['small', 'empty', 'top', 'come', 'open', 'fit']"
      ]
     },
     "execution_count": 338,
     "metadata": {},
     "output_type": "execute_result"
    }
   ],
   "source": [
    "[w for w in keywords_dict[3] if w not in  keywords_dict[1]\\\n",
    "                                and w not in  keywords_dict[0]\\\n",
    "                                and w not in  keywords_dict[2]] "
   ]
  },
  {
   "cell_type": "code",
   "execution_count": 339,
   "id": "0680be47",
   "metadata": {},
   "outputs": [
    {
     "data": {
      "text/plain": [
       "['good', 'say', 'think', 'smell', 'far', 'clump']"
      ]
     },
     "execution_count": 339,
     "metadata": {},
     "output_type": "execute_result"
    }
   ],
   "source": [
    "[w for w in keywords_dict[0] if w not in  keywords_dict[1]\\\n",
    "                                and w not in  keywords_dict[2]\\\n",
    "                                and w not in  keywords_dict[3]]  #odor_control/smell --------- scent: good one"
   ]
  },
  {
   "cell_type": "markdown",
   "id": "c068920a",
   "metadata": {},
   "source": [
    "## 6. cats health supplies"
   ]
  },
  {
   "cell_type": "code",
   "execution_count": 389,
   "id": "3f98b895",
   "metadata": {},
   "outputs": [
    {
     "data": {
      "application/vnd.jupyter.widget-view+json": {
       "model_id": "d0ae2be4aa5146eabe1ca44620ead0cf",
       "version_major": 2,
       "version_minor": 0
      },
      "text/plain": [
       "  0%|          | 0/4294 [00:00<?, ?it/s]"
      ]
     },
     "metadata": {},
     "output_type": "display_data"
    },
    {
     "data": {
      "application/vnd.jupyter.widget-view+json": {
       "model_id": "6e8a0fc71ce84dd29535915c1d6ea687",
       "version_major": 2,
       "version_minor": 0
      },
      "text/plain": [
       "  0%|          | 0/4294 [00:00<?, ?it/s]"
      ]
     },
     "metadata": {},
     "output_type": "display_data"
    },
    {
     "name": "stdout",
     "output_type": "stream",
     "text": [
      "Round: 2\n",
      "Round: 4\n",
      "Round: 6\n",
      "Round: 8\n",
      "Round: 10\n",
      "Round: 12\n",
      "Round: 14\n",
      "Round: 16\n",
      "Round: 18\n"
     ]
    },
    {
     "data": {
      "image/png": "[encoded data removed]",
      "text/plain": [
       "<Figure size 432x288 with 1 Axes>"
      ]
     },
     "metadata": {
      "needs_background": "light"
     },
     "output_type": "display_data"
    },
    {
     "name": "stdout",
     "output_type": "stream",
     "text": [
      "Num Topics = 2  has Coherence Value of 0.6053\n",
      "Num Topics = 4  has Coherence Value of 0.6499\n",
      "Num Topics = 6  has Coherence Value of 0.6351\n",
      "Num Topics = 8  has Coherence Value of 0.5983\n",
      "Num Topics = 10  has Coherence Value of 0.6221\n",
      "Num Topics = 12  has Coherence Value of 0.5631\n",
      "Num Topics = 14  has Coherence Value of 0.5595\n",
      "Num Topics = 16  has Coherence Value of 0.5441\n",
      "Num Topics = 18  has Coherence Value of 0.5268\n"
     ]
    }
   ],
   "source": [
    "cats_health_supplies_dictionary, cats_health_supplies_doc_term_matrix = vectorize(cats_health_supplies_reviews2)\n",
    "cats_health_supplies_model_list, coherence_values = compute_coherence_values(dictionary=cats_health_supplies_dictionary, \n",
    "                                                    corpus=cats_health_supplies_doc_term_matrix, \n",
    "                                                    texts=cats_health_supplies_reviews2, \n",
    "                                                    start=2, \n",
    "                                                    limit=20, \n",
    "                                                    step=2)\n",
    "\n",
    "limit=20; start=2; step=2;\n",
    "x = range(start, limit, step)\n",
    "plt.plot(x, coherence_values)\n",
    "plt.xlabel(\"Num Topics\")\n",
    "plt.ylabel(\"Coherence score\")\n",
    "plt.legend((\"coherence_values\"), loc='best')\n",
    "plt.show()\n",
    "for m, cv in zip(x, coherence_values):\n",
    "    print(\"Num Topics =\", m, \" has Coherence Value of\", round(cv, 4))\n",
    "    \n",
    "with open ('./cats_health_supplies_model_list.pickle', 'wb') as handle:\n",
    "     pickle.dump(cats_health_supplies_model_list, handle)"
   ]
  },
  {
   "cell_type": "code",
   "execution_count": 391,
   "id": "78cca1d1",
   "metadata": {},
   "outputs": [
    {
     "data": {
      "text/plain": [
       "[(0,\n",
       "  '0.020*\"calm\" + 0.020*\"get\" + 0.016*\"seem\" + 0.015*\"use\" + 0.015*\"feliway\" + 0.015*\"try\" + 0.013*\"spray\" + 0.013*\"help\" + 0.013*\"go\" + 0.012*\"new\" + 0.010*\"work\" + 0.010*\"also\" + 0.009*\"well\" + 0.009*\"think\" + 0.009*\"still\" + 0.009*\"come\" + 0.008*\"see\" + 0.008*\"start\" + 0.008*\"old\" + 0.008*\"make\" + 0.007*\"plug\" + 0.007*\"say\" + 0.007*\"really\" + 0.007*\"buy\" + 0.007*\"even\" + 0.006*\"much\" + 0.006*\"keep\" + 0.006*\"move\" + 0.006*\"stop\" + 0.006*\"little\"'),\n",
       " (1,\n",
       "  '0.038*\"eat\" + 0.024*\"give\" + 0.014*\"try\" + 0.013*\"good\" + 0.012*\"seem\" + 0.011*\"take\" + 0.010*\"even\" + 0.010*\"treat\" + 0.010*\"daily\" + 0.009*\"love\" + 0.008*\"small\" + 0.008*\"think\" + 0.008*\"little\" + 0.008*\"get\" + 0.007*\"say\" + 0.007*\"also\" + 0.007*\"make\" + 0.007*\"recommend\" + 0.007*\"well\" + 0.007*\"much\" + 0.007*\"use\" + 0.006*\"help\" + 0.006*\"see\" + 0.006*\"large\" + 0.006*\"healthy\" + 0.006*\"look\" + 0.006*\"want\" + 0.005*\"dry\" + 0.005*\"picky\" + 0.005*\"first\"'),\n",
       " (2,\n",
       "  '0.044*\"get\" + 0.037*\"work\" + 0.030*\"use\" + 0.030*\"well\" + 0.022*\"really\" + 0.022*\"great\" + 0.022*\"seem\" + 0.017*\"make\" + 0.016*\"good\" + 0.016*\"help\" + 0.016*\"much\" + 0.014*\"give\" + 0.013*\"buy\" + 0.013*\"try\" + 0.011*\"sure\" + 0.011*\"keep\" + 0.010*\"clean\" + 0.009*\"easy\" + 0.009*\"go\" + 0.009*\"know\" + 0.008*\"put\" + 0.008*\"bad\" + 0.008*\"still\" + 0.007*\"also\" + 0.007*\"say\" + 0.007*\"love\" + 0.006*\"find\" + 0.006*\"start\" + 0.006*\"take\" + 0.006*\"long\"'),\n",
       " (3,\n",
       "  '0.022*\"go\" + 0.019*\"get\" + 0.017*\"use\" + 0.013*\"give\" + 0.012*\"take\" + 0.012*\"see\" + 0.012*\"try\" + 0.012*\"put\" + 0.012*\"back\" + 0.011*\"find\" + 0.009*\"come\" + 0.008*\"even\" + 0.008*\"buy\" + 0.007*\"need\" + 0.007*\"also\" + 0.007*\"never\" + 0.006*\"start\" + 0.006*\"long\" + 0.006*\"say\" + 0.006*\"apply\" + 0.006*\"still\" + 0.006*\"well\" + 0.005*\"ago\" + 0.005*\"recommend\" + 0.005*\"quickly\" + 0.005*\"live\" + 0.005*\"want\" + 0.005*\"keep\" + 0.005*\"little\" + 0.004*\"bad\"')]"
      ]
     },
     "execution_count": 391,
     "metadata": {},
     "output_type": "execute_result"
    }
   ],
   "source": [
    "cats_health_supplies_optimal_model = cats_health_supplies_model_list[1]\n",
    "model_topics = optimal_model.show_topics(formatted=False)\n",
    "\n",
    "keywords_dict = get_keywords(cats_health_supplies_doc_term_matrix, model = cats_health_supplies_optimal_model)\n",
    "cats_health_supplies_optimal_model.print_topics(num_topics=4, num_words=30)"
   ]
  },
  {
   "cell_type": "code",
   "execution_count": 393,
   "id": "b682fb59",
   "metadata": {},
   "outputs": [
    {
     "data": {
      "text/plain": [
       "['calm', 'feliway', 'spray', 'new', 'still', 'old']"
      ]
     },
     "execution_count": 393,
     "metadata": {},
     "output_type": "execute_result"
    }
   ],
   "source": [
    "[w for w in keywords_dict[0] if w not in  keywords_dict[1]\\\n",
    "                                and w not in  keywords_dict[2]\\\n",
    "                                and w not in  keywords_dict[3]]  "
   ]
  },
  {
   "cell_type": "code",
   "execution_count": 394,
   "id": "6fd5806d",
   "metadata": {},
   "outputs": [
    {
     "data": {
      "text/plain": [
       "['eat', 'treat', 'daily', 'love', 'small', 'little', 'recommend']"
      ]
     },
     "execution_count": 394,
     "metadata": {},
     "output_type": "execute_result"
    }
   ],
   "source": [
    "[w for w in keywords_dict[1] if w not in  keywords_dict[0]\\\n",
    "                                and w not in  keywords_dict[2]\\\n",
    "                                and w not in  keywords_dict[3]]  "
   ]
  },
  {
   "cell_type": "code",
   "execution_count": 395,
   "id": "25e2bc68",
   "metadata": {},
   "outputs": [
    {
     "data": {
      "text/plain": [
       "['really', 'great', 'sure', 'keep', 'clean', 'easy', 'know']"
      ]
     },
     "execution_count": 395,
     "metadata": {},
     "output_type": "execute_result"
    }
   ],
   "source": [
    "[w for w in keywords_dict[2] if w not in  keywords_dict[1]\\\n",
    "                                and w not in  keywords_dict[0]\\\n",
    "                                and w not in  keywords_dict[3]]  "
   ]
  },
  {
   "cell_type": "code",
   "execution_count": 396,
   "id": "6d71a4e7",
   "metadata": {},
   "outputs": [
    {
     "data": {
      "text/plain": [
       "['put', 'back', 'find', 'need', 'never', 'long', 'apply']"
      ]
     },
     "execution_count": 396,
     "metadata": {},
     "output_type": "execute_result"
    }
   ],
   "source": [
    "[w for w in keywords_dict[3] if w not in  keywords_dict[1]\\\n",
    "                                and w not in  keywords_dict[2]\\\n",
    "                                and w not in  keywords_dict[0]]  "
   ]
  },
  {
   "cell_type": "code",
   "execution_count": 392,
   "id": "55a62338",
   "metadata": {},
   "outputs": [
    {
     "name": "stderr",
     "output_type": "stream",
     "text": [
      "C:\\Users\\JiatingChen\\anaconda3\\lib\\site-packages\\pyLDAvis\\_prepare.py:246: FutureWarning: In a future version of pandas all arguments of DataFrame.drop except for the argument 'labels' will be keyword-only\n",
      "  default_term_info = default_term_info.sort_values(\n",
      "C:\\Users\\JiatingChen\\anaconda3\\lib\\site-packages\\sklearn\\manifold\\_t_sne.py:691: FutureWarning: 'square_distances' has been introduced in 0.24 to help phase out legacy squaring behavior. The 'legacy' setting will be removed in 1.1 (renaming of 0.26), and the default setting will be changed to True. In 1.3, 'square_distances' will be removed altogether, and distances will be squared by default. Set 'square_distances'=True to silence this warning.\n",
      "  warnings.warn(\n"
     ]
    },
    {
     "data": {
      "text/html": [
       "\n",
       "<link rel=\"stylesheet\" type=\"text/css\" href=\"https://cdn.jsdelivr.net/gh/bmabey/pyLDAvis@3.3.1/pyLDAvis/js/ldavis.v1.0.0.css\">\n",
       "\n",
       "\n",
       "<div id=\"ldavis_el2132013561651765601144129696\"></div>\n",
       "<script type=\"text/javascript\">\n",
       "\n",
       "var ldavis_el2132013561651765601144129696_data = {\"mdsDat\": {\"x\": [269.5624084472656, 1.782994270324707, 220.81143188476562, 50.533992767333984], \"y\": [-124.80339813232422, -295.0796813964844, -343.8321228027344, -76.05093383789062], \"topics\": [1, 2, 3, 4], \"cluster\": [1, 1, 1, 1], \"Freq\": [27.547166118814648, 25.492937179419673, 24.18782514632849, 22.77207155543719]}, \"tinfo\": {\"Term\": [\"eat\", \"work\", \"calm\", \"great\", \"feliway\", \"spray\", \"get\", \"really\", \"well\", \"daily\", \"clean\", \"seem\", \"plug\", \"help\", \"use\", \"go\", \"new\", \"treat\", \"back\", \"love\", \"give\", \"comfort_zone\", \"litter_box\", \"move\", \"good\", \"picky\", \"stress\", \"healthy\", \"easy\", \"sure\", \"calm\", \"feliway\", \"plug\", \"comfort_zone\", \"litter_box\", \"mark\", \"female\", \"stress\", \"pee\", \"spray\", \"feral\", \"diffuser\", \"hiss\", \"aggressive\", \"urinate\", \"anxious\", \"feliway_diffuser\", \"male\", \"mellow\", \"relaxed\", \"relax\", \"friendly\", \"stressful\", \"shy\", \"adjust\", \"skittish\", \"new_home\", \"growl\", \"refill\", \"territorial\", \"cat_household\", \"together\", \"move\", \"adopt\", \"nervous\", \"empty\", \"introduce\", \"new\", \"play\", \"old\", \"change\", \"stop\", \"help\", \"seem\", \"notice\", \"try\", \"get\", \"go\", \"think\", \"come\", \"still\", \"start\", \"use\", \"also\", \"see\", \"say\", \"work\", \"well\", \"make\", \"buy\", \"really\", \"even\", \"much\", \"keep\", \"little\", \"brush\", \"vet_said\", \"stuff_works\", \"awesome\", \"best_price\", \"next_time\", \"pricey\", \"combine\", \"perfectly\", \"odor\", \"anything_else\", \"allergic\", \"familiar\", \"heal\", \"tick\", \"report\", \"instantly\", \"puppy\", \"sad\", \"gentle\", \"ear\", \"struggle\", \"cosequin\", \"loudly\", \"squeeze\", \"upper\", \"tartar\", \"generic\", \"lucky\", \"okay\", \"great\", \"long_time\", \"clean\", \"seriously\", \"work\", \"fine\", \"tired\", \"really\", \"well\", \"around\", \"easy\", \"anymore\", \"sure\", \"get\", \"make\", \"use\", \"lick\", \"much\", \"dental\", \"good\", \"seem\", \"help\", \"bad\", \"buy\", \"expensive\", \"keep\", \"know\", \"love\", \"oral\", \"right\", \"give\", \"last\", \"try\", \"put\", \"long\", \"still\", \"say\", \"happy\", \"go\", \"also\", \"find\", \"start\", \"take\", \"picky\", \"joint\", \"pet_naturals\", \"supplement\", \"eat\", \"digestive\", \"finicky\", \"salmon_oil\", \"gobble\", \"per_day\", \"canned_food\", \"shape\", \"sprinkle\", \"renal\", \"sneeze\", \"ingredient\", \"eat_anything\", \"vetri_science\", \"tasty\", \"move_free\", \"fair\", \"hyaluronic_acid\", \"lysine\", \"flex\", \"shed\", \"crumble\", \"senior\", \"rosemary\", \"hairball_remedy\", \"coat\", \"dry_food\", \"healthy\", \"feed\", \"daily\", \"enjoy\", \"dry\", \"contain\", \"natural\", \"wet_food\", \"prefer\", \"treat\", \"break\", \"soft\", \"refuse\", \"mix\", \"chew\", \"give\", \"small\", \"open\", \"love\", \"large\", \"good\", \"even\", \"take\", \"try\", \"seem\", \"think\", \"look\", \"little\", \"recommend\", \"say\", \"also\", \"make\", \"much\", \"want\", \"get\", \"well\", \"help\", \"see\", \"use\", \"first\", \"pay\", \"frontline_plus\", \"monthly\", \"excellent\", \"topical\", \"arrive\", \"send\", \"pill_pockets\", \"side_effects\", \"flea_problem\", \"flea_free\", \"wash\", \"ship\", \"home_zone\", \"cold\", \"taurine\", \"inside\", \"flea_treatment\", \"maine_coon\", \"heavy\", \"burn\", \"dead\", \"flea_comb\", \"adverse\", \"track\", \"red\", \"infest\", \"thin\", \"anti\", \"affordable\", \"kill\", \"severe\", \"quickly\", \"several_times\", \"double\", \"forget\", \"apply\", \"poor\", \"receive\", \"back\", \"call\", \"live\", \"wait\", \"go\", \"check\", \"ago\", \"sell\", \"find\", \"put\", \"see\", \"later\", \"take\", \"come\", \"use\", \"never\", \"get\", \"need\", \"give\", \"try\", \"even\", \"long\", \"buy\", \"start\", \"also\", \"pet\", \"purchase\", \"say\", \"still\", \"recommend\", \"want\", \"well\", \"bad\", \"keep\", \"little\"], \"Freq\": [868.0, 1201.0, 521.0, 583.0, 376.0, 335.0, 2121.0, 825.0, 1195.0, 240.0, 283.0, 1197.0, 189.0, 860.0, 1605.0, 1073.0, 382.0, 324.0, 392.0, 436.0, 1250.0, 142.0, 136.0, 165.0, 844.0, 118.0, 127.0, 135.0, 343.0, 441.0, 521.0789652537086, 376.062768783541, 189.16193624673596, 141.96360110474052, 135.300302275144, 118.03651276754279, 117.16764881040113, 126.64403927119999, 111.67661848065976, 332.7409564192785, 77.38472548742979, 72.60487280147794, 66.51824384678365, 65.48961011161889, 61.94853106484968, 63.803868192237104, 56.295801384691025, 111.2259627047503, 46.562070482888956, 48.388694862779246, 43.77694581353448, 42.51665093132987, 40.027851759954466, 38.89010248158012, 38.55442495273429, 38.13322179103752, 36.51027679900491, 33.56252942557216, 32.04597430776903, 31.214899782990898, 32.19846083784425, 53.929382087001606, 156.29828788014086, 103.91884961608181, 77.75298970589539, 53.934614424413994, 52.977812868928716, 295.06557007075816, 74.70984095869254, 210.30655751582148, 82.87506330192542, 151.55248681990557, 332.0378817957577, 406.2884430921043, 121.92254135283713, 368.76261636093244, 507.1888851039513, 328.3197970359599, 231.95036981735663, 220.09855736067354, 222.89397505577475, 214.0860808076787, 379.6355792340068, 244.47911888623352, 215.85948805445278, 189.0794144727502, 244.95152082464645, 233.06874050671723, 196.43719363409966, 178.38967811204878, 184.7679210934775, 167.76925246526025, 163.98014050076947, 156.52731510167337, 150.2967850302711, 60.190523115863094, 35.4539085586709, 26.52659604037499, 25.316810446392825, 25.217551745850404, 21.495080706125876, 20.968940028354126, 22.908684601112864, 20.40947393067729, 19.60892438357859, 18.952533022058798, 27.074058085171814, 16.925114768990916, 19.615253693687123, 16.367817781485417, 16.421619656183438, 14.187207491954588, 13.749273186320679, 14.139585664102052, 16.015200439869698, 12.426844496079772, 12.728643858870795, 22.01681469416823, 12.306564324426116, 15.967953824256394, 11.773973830425202, 12.801022847574092, 11.240198816034006, 17.822340351364907, 10.955147065235062, 521.6759479126167, 23.667199422315505, 243.32245314316893, 18.22003793719806, 877.3361786252583, 84.70113392136496, 17.975116093956586, 524.7798788371889, 695.7034816773611, 71.6353947308482, 221.69666574717942, 56.17500720913375, 270.1318441833565, 1036.485500892153, 406.32928588244334, 717.3183358816789, 61.68457990963557, 383.03181567087296, 73.77675015158387, 385.1242839494895, 507.67291759339207, 384.16054172730327, 191.69127710625853, 302.09539155390104, 120.01889247392789, 249.65312168433684, 209.69508872019009, 170.43089713332435, 44.9513601826458, 113.75383403789199, 325.5999789215285, 140.39756202751917, 300.46332238670175, 193.94800618239537, 141.45286699118031, 182.11164304678954, 172.3713305081135, 119.2668028199752, 210.61196501655314, 176.0826451459656, 149.30530873386556, 142.60627489213599, 142.4826246572679, 117.67331878126579, 92.71341765278974, 83.71825539939698, 78.27351597976993, 858.9237701327323, 57.560369613080276, 50.23729477458692, 45.75928862853666, 46.53190919080783, 44.36316868272236, 42.671404943191014, 41.54975569374814, 39.23138988556926, 32.669418774855686, 29.29259299167595, 29.17798073940224, 28.69607189687144, 53.806224579302004, 28.29532139703806, 27.851803735187705, 28.772978989291804, 26.96521536445011, 26.48440311581718, 24.034069248151603, 28.5928751351033, 23.981770554339864, 23.805346266405824, 22.945504912234075, 22.21075841645928, 22.316748634246885, 39.662301914721574, 127.80904782812158, 82.26089770050868, 215.86927975895802, 88.50566733272619, 121.20513070153255, 81.67888178849543, 101.78110582013886, 69.43303063437925, 53.11033960424443, 223.69490643032503, 95.7232404834149, 100.83300424857093, 66.49386794894583, 62.92205373848042, 98.19522298559033, 527.8493705858799, 186.09938517826058, 108.56642348422217, 208.8698300485236, 127.92726168973758, 284.1856451891459, 229.94730024855286, 254.64506866129042, 304.1465021562585, 261.28645707699627, 184.04799580862974, 126.73977003227513, 170.745095699623, 151.77902090308623, 160.18899179957666, 159.16940893667547, 158.53477730607432, 148.40131420679896, 123.00856511918504, 168.41864316108826, 150.40889179178973, 137.1440762329422, 132.63541223189887, 146.25254106248423, 111.96862943944102, 68.56788572929995, 58.15369316077496, 57.96822171933564, 57.72961304753619, 49.48424149010776, 64.93079399200936, 42.5814461551237, 34.94582431607774, 39.77663708330524, 33.105776462274285, 30.15387365309843, 29.166098534254797, 27.20369315562485, 26.19750838399761, 31.002824087927998, 26.376208008971144, 26.249542258423464, 24.125873214340086, 23.899712158934395, 23.619357000078537, 22.238723560530946, 43.517101773249465, 19.769505945315622, 18.489491961516947, 18.124922121229847, 18.767131543683128, 26.39731366672054, 18.82440574718041, 20.0069660015693, 16.897308981679956, 84.05412479431857, 36.26345392995939, 109.93113396729737, 25.977140558863223, 20.588504303197723, 27.634804410670935, 122.29913258826835, 51.33047156219483, 61.01642964237551, 245.02659235385948, 58.86418098848242, 109.51464768292776, 60.94913716271227, 456.73087647819267, 53.278650744022556, 112.43195013073237, 57.24261962785447, 238.56694488411358, 245.68355640966, 253.69406728041383, 82.26108088190136, 262.1380526918734, 193.45603934764253, 362.698489907403, 142.74115232401473, 408.91899475806815, 151.52255425533014, 271.11562201173376, 247.02668553330426, 167.84313101682932, 126.69182008390084, 167.28330142669262, 136.07318342518846, 148.21240816561448, 88.04198096715768, 88.34938424842889, 125.83579202441972, 120.00869288492211, 111.92629507232196, 106.76575991919272, 116.0215119365572, 93.69344345647046, 97.43961819685946, 96.28016970191864], \"Total\": [868.0, 1201.0, 521.0, 583.0, 376.0, 335.0, 2121.0, 825.0, 1195.0, 240.0, 283.0, 1197.0, 189.0, 860.0, 1605.0, 1073.0, 382.0, 324.0, 392.0, 436.0, 1250.0, 142.0, 136.0, 165.0, 844.0, 118.0, 127.0, 135.0, 343.0, 441.0, 521.7950225426554, 376.76338764771725, 189.89561890778307, 142.66416544180154, 136.0100816963259, 118.74536561148875, 117.88050549458254, 127.42330778174117, 112.38192484646648, 335.43570212990517, 78.11632206955701, 73.31644074450809, 67.21866906050023, 66.18774155826853, 62.65002599443332, 64.5334733656133, 57.00184131133633, 112.85027914630018, 47.27692084708152, 49.14447090048331, 44.49001953113451, 43.23682658717469, 40.731992728849484, 39.59155209248254, 39.260444181502585, 38.84303001726165, 37.211513400185986, 34.26017944388196, 32.74582462169708, 31.912243704718783, 32.919293414754826, 55.627818250335935, 165.80210850315197, 109.4615987243481, 81.67427533038675, 55.8943414978956, 55.05442930326706, 382.6800749362569, 84.48957001653173, 387.0741024080893, 111.67132537062786, 269.6732594881744, 860.3898940451651, 1197.6232816184433, 204.34273401947812, 1220.399126437197, 2121.0120239152607, 1073.157136284279, 602.6882602728344, 560.9671231898088, 589.4954873780031, 560.0188113410434, 1605.9049460855729, 727.943581134489, 731.2084950558416, 647.47552880486, 1201.2491889566586, 1195.2026259124254, 808.1966534281657, 685.6642135531542, 825.3791198481663, 624.9572601401085, 756.0035746624316, 609.3617565287253, 554.9504475378695, 60.912213013662836, 36.2283387307677, 27.21906389910146, 26.023160889992543, 25.92218145832868, 22.196081736440327, 21.669818839692052, 23.692179439466617, 21.131446355281053, 20.306279538620206, 19.66535630190104, 28.099084421116554, 17.63150112624748, 20.46193606590362, 17.082390955026543, 17.144178397706796, 14.893280536204202, 14.447789340256755, 14.8822862866808, 16.89576040180289, 13.11373350051797, 13.439995433925176, 23.278942131971156, 13.015711066195156, 16.89340324275704, 12.487707086914476, 13.597364541649137, 11.948266368827804, 18.951778796590997, 11.662928862964861, 583.1740531918209, 25.587760570844907, 283.466204310474, 19.62649492008608, 1201.2491889566586, 100.57140005031644, 19.608415300629378, 825.3791198481663, 1195.2026259124254, 92.58265623300792, 343.29268096552886, 71.61853150355716, 441.55807902296687, 2121.0120239152607, 808.1966534281657, 1605.9049460855729, 83.64691795642366, 756.0035746624316, 105.54799298325726, 844.0991707987401, 1197.6232816184433, 860.3898940451651, 375.1610076266591, 685.6642135531542, 217.7548621634099, 609.3617565287253, 522.3107027079442, 436.3302853535135, 61.105922410670715, 247.01968830508082, 1250.9379828151013, 347.1527685765352, 1220.399126437197, 608.21860957881, 371.88758026689027, 589.4954873780031, 647.47552880486, 287.07698584913965, 1073.157136284279, 727.943581134489, 541.8079320760447, 560.0188113410434, 804.5242636272767, 118.43735053528121, 93.42424689982137, 84.42078637542087, 78.9870384828653, 868.4266564318137, 58.27738352330734, 50.94050908557146, 46.45840485800502, 47.25066538588413, 45.070992890627814, 43.383672171877244, 42.24770406635426, 40.04242789371949, 33.37629202405564, 30.009982465441144, 29.893602409034308, 29.405437558895546, 55.14243177680709, 29.005811977193513, 28.55494909760428, 29.5105965513465, 27.663648675427137, 27.20405366797339, 24.73900267424215, 29.433100950483162, 24.70560908352099, 24.524966370034655, 23.648582844669498, 22.920630578103697, 23.043404221448725, 41.17342103862606, 135.28083997048248, 87.22039520760475, 240.4113732511741, 95.89694948179616, 136.55679688753793, 90.57662359666449, 116.63446836817808, 77.83743184698928, 58.087450289516006, 324.1606455091793, 119.68046547979947, 128.7905001945592, 79.36512891730105, 75.31859014711091, 131.36305327757302, 1250.9379828151013, 340.9810414725013, 166.94871931935728, 436.3302853535135, 224.5459582407809, 844.0991707987401, 624.9572601401085, 804.5242636272767, 1220.399126437197, 1197.6232816184433, 602.6882602728344, 290.0080802085599, 554.9504475378695, 488.7474005054078, 647.47552880486, 727.943581134489, 808.1966534281657, 756.0035746624316, 426.6487368962926, 2121.0120239152607, 1195.2026259124254, 860.3898940451651, 731.2084950558416, 1605.9049460855729, 429.7477922597063, 69.2906831928271, 58.84043061876198, 58.67580717233524, 58.43599603124439, 50.17493642465773, 65.87110986751568, 43.29654383755236, 35.64152987977678, 40.57359566221025, 33.792651911534044, 30.843925284386515, 29.860757834069272, 27.90503415496242, 26.882483918422388, 31.822531768063293, 27.07438884489738, 26.947139756256092, 24.814617257791664, 24.600757895078317, 24.357541123763383, 22.94375572205229, 44.9379549312006, 20.456727295251962, 19.192930409159644, 18.816838828376966, 19.49977734963669, 27.43273911062034, 19.566005342435833, 20.817251061496698, 17.58816528424318, 88.15996873509596, 37.90585069074759, 116.78203043598954, 27.23130974309539, 21.439702950351233, 29.139198055597653, 147.91177214684782, 59.58710695171793, 73.83238974915463, 392.9292392891177, 73.28170957675843, 156.5737338386948, 79.07651458776476, 1073.157136284279, 68.47481971096455, 184.35172080935146, 76.00744379972814, 541.8079320760447, 608.21860957881, 731.2084950558416, 137.90429788292028, 804.5242636272767, 560.9671231898088, 1605.9049460855729, 357.63081705747277, 2121.0120239152607, 416.6172497888279, 1250.9379828151013, 1220.399126437197, 624.9572601401085, 371.88758026689027, 685.6642135531542, 560.0188113410434, 727.943581134489, 204.23597712939969, 206.30667433130867, 647.47552880486, 589.4954873780031, 488.7474005054078, 426.6487368962926, 1195.2026259124254, 375.1610076266591, 609.3617565287253, 554.9504475378695], \"Category\": [\"Default\", \"Default\", \"Default\", \"Default\", \"Default\", \"Default\", \"Default\", \"Default\", \"Default\", \"Default\", \"Default\", \"Default\", \"Default\", \"Default\", \"Default\", \"Default\", \"Default\", \"Default\", \"Default\", \"Default\", \"Default\", \"Default\", \"Default\", \"Default\", \"Default\", \"Default\", \"Default\", \"Default\", \"Default\", \"Default\", \"Topic1\", \"Topic1\", \"Topic1\", \"Topic1\", \"Topic1\", \"Topic1\", \"Topic1\", \"Topic1\", \"Topic1\", \"Topic1\", \"Topic1\", \"Topic1\", \"Topic1\", \"Topic1\", \"Topic1\", \"Topic1\", \"Topic1\", \"Topic1\", \"Topic1\", \"Topic1\", \"Topic1\", \"Topic1\", \"Topic1\", \"Topic1\", \"Topic1\", \"Topic1\", \"Topic1\", \"Topic1\", \"Topic1\", \"Topic1\", \"Topic1\", \"Topic1\", \"Topic1\", \"Topic1\", \"Topic1\", \"Topic1\", \"Topic1\", \"Topic1\", \"Topic1\", \"Topic1\", \"Topic1\", \"Topic1\", \"Topic1\", \"Topic1\", \"Topic1\", \"Topic1\", \"Topic1\", \"Topic1\", \"Topic1\", \"Topic1\", \"Topic1\", \"Topic1\", \"Topic1\", \"Topic1\", \"Topic1\", \"Topic1\", \"Topic1\", \"Topic1\", \"Topic1\", \"Topic1\", \"Topic1\", \"Topic1\", \"Topic1\", \"Topic1\", \"Topic1\", \"Topic2\", \"Topic2\", \"Topic2\", \"Topic2\", \"Topic2\", \"Topic2\", \"Topic2\", \"Topic2\", \"Topic2\", \"Topic2\", \"Topic2\", \"Topic2\", \"Topic2\", \"Topic2\", \"Topic2\", \"Topic2\", \"Topic2\", \"Topic2\", \"Topic2\", \"Topic2\", \"Topic2\", \"Topic2\", \"Topic2\", \"Topic2\", \"Topic2\", \"Topic2\", \"Topic2\", \"Topic2\", \"Topic2\", \"Topic2\", \"Topic2\", \"Topic2\", \"Topic2\", \"Topic2\", \"Topic2\", \"Topic2\", \"Topic2\", \"Topic2\", \"Topic2\", \"Topic2\", \"Topic2\", \"Topic2\", \"Topic2\", \"Topic2\", \"Topic2\", \"Topic2\", \"Topic2\", \"Topic2\", \"Topic2\", \"Topic2\", \"Topic2\", \"Topic2\", \"Topic2\", \"Topic2\", \"Topic2\", \"Topic2\", \"Topic2\", \"Topic2\", \"Topic2\", \"Topic2\", \"Topic2\", \"Topic2\", \"Topic2\", \"Topic2\", \"Topic2\", \"Topic2\", \"Topic2\", \"Topic2\", \"Topic2\", \"Topic2\", \"Topic2\", \"Topic2\", \"Topic2\", \"Topic3\", \"Topic3\", \"Topic3\", \"Topic3\", \"Topic3\", \"Topic3\", \"Topic3\", \"Topic3\", \"Topic3\", \"Topic3\", \"Topic3\", \"Topic3\", \"Topic3\", \"Topic3\", \"Topic3\", \"Topic3\", \"Topic3\", \"Topic3\", \"Topic3\", \"Topic3\", \"Topic3\", \"Topic3\", \"Topic3\", \"Topic3\", \"Topic3\", \"Topic3\", \"Topic3\", \"Topic3\", \"Topic3\", \"Topic3\", \"Topic3\", \"Topic3\", \"Topic3\", \"Topic3\", \"Topic3\", \"Topic3\", \"Topic3\", \"Topic3\", \"Topic3\", \"Topic3\", \"Topic3\", \"Topic3\", \"Topic3\", \"Topic3\", \"Topic3\", \"Topic3\", \"Topic3\", \"Topic3\", \"Topic3\", \"Topic3\", \"Topic3\", \"Topic3\", \"Topic3\", \"Topic3\", \"Topic3\", \"Topic3\", \"Topic3\", \"Topic3\", \"Topic3\", \"Topic3\", \"Topic3\", \"Topic3\", \"Topic3\", \"Topic3\", \"Topic3\", \"Topic3\", \"Topic3\", \"Topic3\", \"Topic3\", \"Topic3\", \"Topic3\", \"Topic4\", \"Topic4\", \"Topic4\", \"Topic4\", \"Topic4\", \"Topic4\", \"Topic4\", \"Topic4\", \"Topic4\", \"Topic4\", \"Topic4\", \"Topic4\", \"Topic4\", \"Topic4\", \"Topic4\", \"Topic4\", \"Topic4\", \"Topic4\", \"Topic4\", \"Topic4\", \"Topic4\", \"Topic4\", \"Topic4\", \"Topic4\", \"Topic4\", \"Topic4\", \"Topic4\", \"Topic4\", \"Topic4\", \"Topic4\", \"Topic4\", \"Topic4\", \"Topic4\", \"Topic4\", \"Topic4\", \"Topic4\", \"Topic4\", \"Topic4\", \"Topic4\", \"Topic4\", \"Topic4\", \"Topic4\", \"Topic4\", \"Topic4\", \"Topic4\", \"Topic4\", \"Topic4\", \"Topic4\", \"Topic4\", \"Topic4\", \"Topic4\", \"Topic4\", \"Topic4\", \"Topic4\", \"Topic4\", \"Topic4\", \"Topic4\", \"Topic4\", \"Topic4\", \"Topic4\", \"Topic4\", \"Topic4\", \"Topic4\", \"Topic4\", \"Topic4\", \"Topic4\", \"Topic4\", \"Topic4\", \"Topic4\", \"Topic4\", \"Topic4\", \"Topic4\", \"Topic4\", \"Topic4\"], \"logprob\": [30.0, 29.0, 28.0, 27.0, 26.0, 25.0, 24.0, 23.0, 22.0, 21.0, 20.0, 19.0, 18.0, 17.0, 16.0, 15.0, 14.0, 13.0, 12.0, 11.0, 10.0, 9.0, 8.0, 7.0, 6.0, 5.0, 4.0, 3.0, 2.0, 1.0, -3.8875, -4.2136, -4.9008, -5.1878, -5.2359, -5.3724, -5.3797, -5.302, -5.4277, -4.336, -5.7946, -5.8583, -5.9459, -5.9615, -6.0171, -5.9875, -6.1127, -5.4318, -6.3026, -6.2641, -6.3642, -6.3935, -6.4538, -6.4826, -6.4913, -6.5023, -6.5458, -6.6299, -6.6762, -6.7025, -6.6714, -6.1557, -5.0916, -5.4997, -5.7898, -6.1556, -6.1735, -4.4562, -5.8297, -4.7948, -5.726, -5.1224, -4.3381, -4.1363, -5.34, -4.2332, -3.9145, -4.3494, -4.6968, -4.7493, -4.7367, -4.777, -4.2041, -4.6442, -4.7687, -4.9012, -4.6423, -4.692, -4.863, -4.9594, -4.9243, -5.0208, -5.0436, -5.0901, -5.1307, -5.9683, -6.4976, -6.7877, -6.8344, -6.8383, -6.998, -7.0228, -6.9343, -7.0499, -7.0899, -7.1239, -6.7673, -7.2371, -7.0895, -7.2705, -7.2673, -7.4135, -7.4449, -7.4169, -7.2923, -7.546, -7.522, -6.9741, -7.5557, -7.2953, -7.6, -7.5163, -7.6464, -7.1854, -7.672, -3.8088, -6.9018, -4.5715, -7.1633, -3.289, -5.6267, -7.1769, -3.8029, -3.5209, -5.7943, -4.6645, -6.0374, -4.4669, -3.1223, -4.0587, -3.4903, -5.9438, -4.1177, -5.7648, -4.1123, -3.836, -4.1148, -4.81, -4.3551, -5.2782, -4.5458, -4.7202, -4.9275, -6.2603, -5.3318, -4.2802, -5.1214, -4.3605, -4.7983, -5.1139, -4.8612, -4.9162, -5.2845, -4.7158, -4.8949, -5.0599, -5.1058, -5.1066, -5.2454, -5.4838, -5.5858, -5.6531, -3.2576, -5.9605, -6.0965, -6.1899, -6.1732, -6.2209, -6.2598, -6.2864, -6.3438, -6.5269, -6.636, -6.6399, -6.6565, -6.0279, -6.6706, -6.6864, -6.6539, -6.7188, -6.7367, -6.8338, -6.6601, -6.836, -6.8434, -6.8802, -6.9127, -6.908, -6.3329, -5.1628, -5.6034, -4.6386, -5.5302, -5.2158, -5.6105, -5.3905, -5.7729, -6.0409, -4.603, -5.4518, -5.3998, -5.8162, -5.8714, -5.4263, -3.7445, -4.787, -5.3259, -4.6716, -5.1618, -4.3637, -4.5755, -4.4734, -4.2958, -4.4477, -4.7981, -5.1712, -4.8731, -4.9909, -4.937, -4.9433, -4.9473, -5.0134, -5.2011, -4.8869, -4.9999, -5.0923, -5.1257, -5.028, -5.2951, -5.7252, -5.8899, -5.8931, -5.8972, -6.0513, -5.7797, -6.2016, -6.3992, -6.2697, -6.4533, -6.5467, -6.58, -6.6496, -6.6873, -6.5189, -6.6805, -6.6853, -6.7697, -6.7791, -6.7909, -6.8512, -6.1798, -6.9689, -7.0358, -7.0557, -7.0209, -6.6797, -7.0178, -6.9569, -7.1258, -5.5215, -6.3622, -5.2531, -6.6958, -6.9283, -6.6339, -5.1465, -6.0147, -5.8418, -4.4516, -5.8778, -5.2569, -5.843, -3.8289, -5.9775, -5.2306, -5.9057, -4.4783, -4.4489, -4.4169, -5.5431, -4.3841, -4.6879, -4.0594, -4.992, -3.9395, -4.9323, -4.3504, -4.4435, -4.83, -5.1112, -4.8333, -5.0398, -4.9543, -5.4752, -5.4717, -5.118, -5.1654, -5.2352, -5.2824, -5.1992, -5.413, -5.3738, -5.3857], \"loglift\": [30.0, 29.0, 28.0, 27.0, 26.0, 25.0, 24.0, 23.0, 22.0, 21.0, 20.0, 19.0, 18.0, 17.0, 16.0, 15.0, 14.0, 13.0, 12.0, 11.0, 10.0, 9.0, 8.0, 7.0, 6.0, 5.0, 4.0, 3.0, 2.0, 1.0, 1.2879, 1.2874, 1.2854, 1.2843, 1.284, 1.2833, 1.2832, 1.2831, 1.283, 1.2812, 1.2799, 1.2795, 1.2788, 1.2787, 1.278, 1.2779, 1.2768, 1.2748, 1.274, 1.2738, 1.2731, 1.2725, 1.2718, 1.2714, 1.2711, 1.2708, 1.2702, 1.2687, 1.2677, 1.2672, 1.2671, 1.2583, 1.2302, 1.2373, 1.2401, 1.2536, 1.2508, 1.0293, 1.1663, 0.6792, 0.991, 0.713, 0.3371, 0.2082, 0.7729, 0.0925, -0.1415, 0.1049, 0.3344, 0.3537, 0.3167, 0.3277, -0.153, 0.1982, 0.0692, 0.0584, -0.3008, -0.3455, -0.1252, -0.0571, -0.2075, -0.0258, -0.239, -0.0699, -0.017, 1.3548, 1.3452, 1.341, 1.3393, 1.3392, 1.3347, 1.3339, 1.3331, 1.332, 1.3318, 1.3298, 1.3296, 1.3259, 1.3245, 1.324, 1.3237, 1.3182, 1.3172, 1.3156, 1.3132, 1.313, 1.3124, 1.311, 1.3107, 1.3104, 1.3079, 1.3064, 1.3057, 1.3053, 1.3042, 1.2553, 1.2887, 1.2141, 1.2924, 1.0525, 1.195, 1.2798, 0.9139, 0.8256, 1.1103, 0.9295, 1.1239, 0.8754, 0.6507, 0.6791, 0.5608, 1.0622, 0.6868, 1.0086, 0.5821, 0.5085, 0.5604, 0.6953, 0.5471, 0.771, 0.4744, 0.4542, 0.4267, 1.0597, 0.5913, 0.0208, 0.4615, -0.0348, 0.2238, 0.4001, 0.1921, 0.0433, 0.4884, -0.2616, -0.0525, 0.0779, -0.0011, -0.3643, 1.4128, 1.4117, 1.411, 1.4102, 1.4083, 1.4069, 1.4054, 1.4042, 1.404, 1.4035, 1.4028, 1.4027, 1.3989, 1.3979, 1.3951, 1.3951, 1.3949, 1.3948, 1.3945, 1.3944, 1.394, 1.3937, 1.3925, 1.3904, 1.3904, 1.3896, 1.3895, 1.3891, 1.3879, 1.3873, 1.3819, 1.3625, 1.3608, 1.3116, 1.3391, 1.3001, 1.3159, 1.2831, 1.3051, 1.3297, 1.0484, 1.196, 1.1746, 1.2424, 1.2395, 1.1283, 0.5565, 0.8138, 0.989, 0.6826, 0.8567, 0.3307, 0.4195, 0.2689, 0.0299, -0.1032, 0.2331, 0.5915, 0.2406, 0.2499, 0.0226, -0.1009, -0.2095, -0.2088, 0.1756, -1.1139, -0.6534, -0.417, -0.2878, -0.9768, 0.0743, 1.4691, 1.4679, 1.4675, 1.4675, 1.4658, 1.4653, 1.463, 1.4599, 1.4598, 1.4591, 1.457, 1.4561, 1.4542, 1.4538, 1.4535, 1.4535, 1.4534, 1.4515, 1.4507, 1.4489, 1.4484, 1.4475, 1.4455, 1.4423, 1.4422, 1.4413, 1.4412, 1.441, 1.4399, 1.4396, 1.4319, 1.4353, 1.4192, 1.4325, 1.4391, 1.4266, 1.2895, 1.3305, 1.289, 1.0074, 1.2606, 1.1222, 1.2193, 0.6254, 1.2287, 0.9851, 1.1961, 0.6594, 0.5731, 0.4211, 0.963, 0.3583, 0.415, -0.0082, 0.5612, -0.1665, 0.4682, -0.0495, -0.1178, 0.165, 0.4028, 0.0689, 0.0649, -0.1119, 0.6382, 0.6316, -0.1585, -0.1121, 0.0056, 0.0943, -0.8527, 0.0923, -0.3535, -0.272]}, \"token.table\": {\"Topic\": [1, 1, 4, 4, 4, 1, 1, 2, 3, 4, 1, 2, 1, 2, 3, 4, 4, 1, 1, 2, 4, 2, 2, 4, 1, 2, 4, 2, 1, 2, 3, 4, 1, 2, 3, 4, 2, 1, 2, 3, 2, 4, 1, 2, 3, 4, 1, 3, 4, 1, 3, 1, 1, 2, 3, 4, 1, 2, 4, 2, 3, 1, 2, 3, 4, 3, 4, 2, 1, 2, 3, 4, 1, 1, 3, 4, 2, 4, 3, 2, 3, 3, 4, 2, 3, 1, 3, 4, 2, 3, 3, 4, 2, 1, 2, 3, 4, 2, 3, 3, 1, 3, 2, 3, 4, 1, 2, 3, 4, 4, 1, 2, 3, 4, 3, 2, 3, 4, 1, 1, 1, 1, 1, 2, 3, 4, 1, 2, 3, 3, 1, 2, 3, 4, 4, 4, 4, 4, 3, 1, 4, 1, 4, 2, 2, 1, 2, 3, 4, 1, 2, 3, 4, 1, 2, 3, 4, 3, 1, 2, 3, 4, 1, 2, 3, 4, 1, 3, 1, 2, 3, 4, 2, 1, 2, 3, 4, 4, 1, 2, 3, 4, 1, 4, 3, 2, 4, 3, 4, 2, 1, 4, 3, 1, 2, 3, 4, 2, 4, 1, 2, 3, 4, 1, 2, 3, 4, 1, 2, 3, 4, 1, 2, 3, 4, 1, 2, 3, 4, 1, 1, 2, 3, 4, 1, 2, 3, 4, 1, 2, 3, 4, 2, 3, 1, 2, 3, 4, 2, 1, 2, 3, 2, 3, 3, 4, 1, 2, 3, 4, 1, 2, 3, 1, 1, 2, 3, 4, 4, 1, 2, 3, 4, 3, 1, 2, 3, 4, 2, 3, 1, 2, 3, 4, 1, 2, 1, 2, 3, 4, 1, 2, 3, 4, 1, 2, 1, 2, 3, 4, 2, 2, 1, 2, 3, 4, 1, 2, 3, 4, 2, 3, 4, 4, 1, 3, 2, 1, 2, 3, 4, 3, 3, 4, 1, 2, 3, 4, 1, 1, 2, 3, 4, 2, 3, 4, 2, 2, 1, 2, 3, 4, 1, 2, 3, 4, 1, 4, 1, 2, 3, 4, 1, 3, 4, 1, 2, 3, 4, 4, 1, 1, 2, 3, 4, 1, 1, 3, 2, 1, 2, 3, 4, 3, 2, 3, 1, 2, 3, 4, 1, 2, 3, 4, 1, 2, 3, 4, 1, 3, 4, 4, 3, 2, 3, 3, 4, 1, 4, 3, 3, 4, 1, 4, 1, 1, 2, 3, 4, 3, 2, 3, 1, 2, 3, 2, 1, 2, 3, 4, 1, 2, 3, 4, 1, 2, 3, 4, 1, 1, 2, 2, 3, 1, 2, 3, 4, 1, 2, 3, 4, 2, 3, 4, 1, 4, 1, 2, 3, 4, 2, 1, 2, 1, 2, 4, 4, 4, 1, 2, 3, 4, 1, 2, 3, 4, 2, 1, 1, 2, 3, 4, 2, 1, 3, 2, 4, 1, 2, 3, 4, 4, 1, 2, 3, 4, 2, 3, 4, 1, 2, 4], \"Freq\": [0.993366244653307, 0.950104888033823, 0.045678119617010716, 0.9378453220155308, 0.9665590313294302, 0.9820549616846664, 0.363435717908424, 0.021697654800502928, 0.005424413700125732, 0.6075343344140819, 0.03558834818292146, 0.9608854009388794, 0.33519081193041045, 0.24177697909734525, 0.21842352088907896, 0.20331245969549488, 0.9607416435973012, 0.9917333852062956, 0.05585146631778295, 0.7819205284489613, 0.16755439895334884, 0.9661660693207619, 0.16901967731939435, 0.8248160253186444, 0.21602318202736467, 0.7776834552985129, 0.9867755398494467, 0.9606826820801001, 0.23922882443175658, 0.06871466233678114, 0.06871466233678114, 0.62352193601894, 0.1732589439696906, 0.5117802652643169, 0.06397253315803961, 0.2505590882023218, 0.9644250056728004, 0.15040048455558663, 0.05013349485186221, 0.8021359176297954, 0.985024136071723, 0.9588665546528111, 0.2596022899862208, 0.44044882907774546, 0.055420713592564, 0.24355945184100494, 0.05458387943051775, 0.13645969857629436, 0.8051122216001368, 0.9984763700144526, 0.9911563002237982, 0.9720743272593212, 0.7432525737876746, 0.00895485028659849, 0.18805185601856828, 0.07163880229278792, 0.1898508101937853, 0.029207816952890046, 0.7740071492515862, 0.25121218772427795, 0.7460240726357346, 0.12699926641191425, 0.8572450482804211, 0.0035277574003309514, 0.010583272200992854, 0.9547200486776373, 0.9741525352521204, 0.9707844758969882, 0.3921798460291599, 0.1247844964638236, 0.13904558177397489, 0.3440486831073994, 0.9953445531346659, 0.04416150482504076, 0.9053108489133357, 0.055201881031300956, 0.9450601266706761, 0.04295727848503073, 0.9714393164266636, 0.09982888777447965, 0.898459989970317, 0.022252904065861175, 0.9791277788978916, 0.7011028623892297, 0.2937052531630557, 0.995683904710939, 0.9952402886585255, 0.9794911827197667, 0.10984440424707186, 0.886078194259713, 0.9715005212337047, 0.024287513030842617, 0.915071211377448, 0.011651865075450452, 0.6466785116875001, 0.23886323404673426, 0.10195381941019147, 0.010363569488964268, 0.9891451323355896, 0.9862121569154173, 0.9661085282135952, 0.017890898670622133, 0.06256716227599046, 0.9280795737605253, 0.010427860379331744, 0.26881838281602854, 0.09440645586991478, 0.36802516695051524, 0.26881838281602854, 0.9925389133264491, 0.21583903814156746, 0.5510783952550659, 0.01836927984183553, 0.2112467181811086, 0.9826978573456455, 0.9641833601276648, 0.9401470814804381, 0.0458608332429482, 0.997973827413318, 0.9824244044001245, 0.9925305249507689, 0.9857094901554248, 0.14211678242686335, 0.2750052023584758, 0.14211678242686335, 0.4411157272729914, 0.10937503101773106, 0.8451706942279218, 0.039772738551902206, 0.9815371086301559, 0.28854133106299706, 0.2582910302257474, 0.26061797644399737, 0.19313653611474804, 0.9776734915287271, 0.9726388494134461, 0.9765436606274899, 0.967171879004667, 0.9701280328890708, 0.03431803435674509, 0.9609049619888625, 0.9945225724025514, 0.9857167833422688, 0.9206356521058348, 0.9469831259143977, 0.23903683443722704, 0.48844607589145406, 0.07920747176618174, 0.19283247590695435, 0.10072441778164778, 0.2606044460064855, 0.42208327451357164, 0.21663743824465514, 0.3056402356281894, 0.19661612718764623, 0.07175090897369081, 0.4258463039087883, 0.9946949871745294, 0.11728479712439467, 0.45610754437264595, 0.3364533574073544, 0.09003681395408075, 0.022291801099257696, 0.8951015518317321, 0.05658687971350031, 0.027436062891394088, 0.9924057769659925, 0.9598339768634819, 0.26473734832905893, 0.4145229533047107, 0.04528402010891797, 0.2751875068157323, 0.9774246159104486, 0.03696014898407618, 0.014784059593630472, 0.9461798139923502, 0.007392029796815236, 0.9853211322954696, 0.385871570898033, 0.4463092868218213, 0.15923013618382686, 0.008135846374356118, 0.9967468998783148, 0.9671725305927691, 0.9760100815617776, 0.03645279445000295, 0.9477726557000767, 0.9701072357621159, 0.9648519373550136, 0.9400212374948073, 0.9626836690659303, 0.03632768562512945, 0.995458920848714, 0.25764662504316355, 0.41026532650185277, 0.17395249843678556, 0.15918294668271887, 0.04537206690736522, 0.9528134050546697, 0.21443175378051949, 0.402059538338474, 0.20868804608996985, 0.1742257999466721, 0.12914950786557142, 0.026720587834256154, 0.5700392071307979, 0.27611274095398025, 0.3312662620308225, 0.40328066682013175, 0.03168633810729607, 0.23332667151736194, 0.18128514037484758, 0.13777670668488418, 0.08701686737992685, 0.5946152604295001, 0.08368509170471397, 0.7412108122417523, 0.11955013100673424, 0.05977506550336712, 0.992573479232362, 0.27029440315887676, 0.24867085090616664, 0.3081356196011195, 0.17298841802168113, 0.2554706911518681, 0.019160301836390108, 0.02554706911518681, 0.7025444006676372, 0.1640280644925612, 0.37914683759755946, 0.11562634054393657, 0.34150105230418476, 0.9379484356808455, 0.03908118482003523, 0.10689357337114982, 0.2758543828932899, 0.4379188328430977, 0.18275352866680455, 0.9219626910101597, 0.13063498435323775, 0.3896131112289547, 0.4789949426285384, 0.9497789201316448, 0.05276549556286916, 0.955739917195102, 0.975579699713296, 0.2425152333514592, 0.5023529833708797, 0.19673429644327556, 0.0581541630995846, 0.983604124329179, 0.008861298417379992, 0.008861298417379992, 0.993722991986673, 0.9941425786172237, 0.06638467329558466, 0.8364468835243668, 0.09293854261381854, 0.9884823540586268, 0.9408806764181432, 0.012062572774591579, 0.012062572774591579, 0.03618771832377474, 0.9805655721637816, 0.21693019120078735, 0.5066113611579364, 0.1957662701080276, 0.08068744916614652, 0.12003312739255118, 0.8745270710028729, 0.1512179345236737, 0.31203700774726323, 0.17282049659848425, 0.3648432705968001, 0.9550130648172431, 0.03673127172374012, 0.24885998564742626, 0.24606380603341024, 0.10625482533260897, 0.3998536848042916, 0.7708789124940414, 0.04181038169459208, 0.12020484737195222, 0.06794187025371212, 0.9943159151332736, 0.946112933325675, 0.597036153917618, 0.17128086382882482, 0.21043077556112763, 0.02446869483268926, 0.9849170037259806, 0.9431593152325601, 0.542531775423711, 0.11884029366424145, 0.14984210940273923, 0.18859437907586143, 0.1317769916995653, 0.11380740192235184, 0.6528950952387553, 0.10182767540420955, 0.7364261633687704, 0.16365025852639342, 0.09819015511583605, 0.995804873333141, 0.9966015456045245, 0.9762376459461021, 0.9464567480967393, 0.10282223678296815, 0.27908892841091354, 0.19095558259694084, 0.43087413509053313, 0.995015607014727, 0.996307325912775, 0.9820004954349395, 0.8876835328351779, 0.047343121751209485, 0.023671560875604743, 0.047343121751209485, 0.995283625220348, 0.016782153911420423, 0.10069292346852253, 0.033564307822840846, 0.8558898494824415, 0.0516462675680819, 0.9124173937027802, 0.017215422522693966, 0.969089781292257, 0.9690063767050471, 0.2714405638184511, 0.11148451728257813, 0.18903896408784987, 0.4265494574289946, 0.20222991875433938, 0.3189642621003402, 0.07563070132276108, 0.40445983750867875, 0.05137776743219681, 0.9419257362569415, 0.224139423388893, 0.6360713366441558, 0.1211564450750773, 0.019385031212012366, 0.10835352921908638, 0.05417676460954319, 0.8261956602955337, 0.257801882669258, 0.20255862209727415, 0.3109990965533906, 0.22915722903934044, 0.9743700996849586, 0.977223825317781, 0.10079993706475358, 0.025199984266188396, 0.831599480784217, 0.05039996853237679, 0.9889858548883849, 0.9767121126850496, 0.9887257690643279, 0.9332614038909067, 0.14573737116669958, 0.4615016753612153, 0.17812345364818835, 0.21860605675004935, 0.9725741348253478, 0.9407156756908769, 0.9901330047941577, 0.29190292388171774, 0.2656471053315103, 0.24711358635489333, 0.1946019492544785, 0.2954013820415261, 0.17642026983035586, 0.18189066579408783, 0.34737014369697977, 0.33900476571509197, 0.4241734506977013, 0.2179316351025591, 0.018369716368798087, 0.15787927339878416, 0.07893963669939208, 0.7499265486442247, 0.9931508658366592, 0.9785946140714764, 0.9171275907028361, 0.05095153281682423, 0.03672243492634628, 0.9547833080850033, 0.026381151768850534, 0.9497214636786192, 0.9941368632490605, 0.9852852422443769, 0.9675673518284702, 0.9850586283886845, 0.9858628338738907, 0.9782964918831768, 0.12317400351241264, 0.20822272022336424, 0.5454848726978274, 0.12317400351241264, 0.9663451164423632, 0.20964279165941638, 0.7842193317630021, 0.9927386914558013, 0.005962394543278086, 0.9739669158801684, 0.9471152597307425, 0.38213002075331554, 0.25534856526973887, 0.11963883827323431, 0.24284898515163977, 0.37828957943660285, 0.30873858052673414, 0.10856741293247794, 0.20356389924839616, 0.5636450580546547, 0.12607849982801486, 0.07787201459965623, 0.23361604379896872, 0.9966779407228523, 0.9820290469527893, 0.967262233377361, 0.9919518209768893, 0.9875037917381924, 0.25591197481888334, 0.611471090275208, 0.09285301741216122, 0.03850003160992051, 0.180230735796896, 0.1765018240217878, 0.3169575008841964, 0.3256582950261155, 0.9560676232648326, 0.9653237779385608, 0.9603171524553225, 0.9714139904056983, 0.9710720030721729, 0.384941959703968, 0.15430863039857337, 0.30529879562728496, 0.15430863039857337, 0.9366370341320372, 0.0509985118464878, 0.9179732132367804, 0.9707373342774215, 0.01797661730143373, 0.01797661730143373, 0.9765832005303683, 0.95659000771452, 0.006169780408903356, 0.1511596200181322, 0.6910154057971759, 0.1542445102225839, 0.3023600984353778, 0.24582121824014455, 0.2490988344833465, 0.20239280301771903, 0.9609450250938757, 0.9896244896292449, 0.23662670753101422, 0.4464772349993084, 0.09091447184086336, 0.22604077587831095, 0.9660945333459492, 0.018134854916220796, 0.9792821654759231, 0.22762763500435157, 0.7714047630703026, 0.22500945554969531, 0.23672869802624197, 0.28829336492304714, 0.2507917889980979, 0.9711742803430393, 0.19494602417069348, 0.5823280378661059, 0.1255017322987297, 0.0970546729776843, 0.025694578463631046, 0.8864629569952711, 0.08993102462270866, 0.2039543520631169, 0.7300733337116471, 0.06576487270606626], \"Term\": [\"adjust\", \"adopt\", \"adopt\", \"adverse\", \"affordable\", \"aggressive\", \"ago\", \"ago\", \"ago\", \"ago\", \"allergic\", \"allergic\", \"also\", \"also\", \"also\", \"also\", \"anti\", \"anxious\", \"anymore\", \"anymore\", \"anymore\", \"anything_else\", \"apply\", \"apply\", \"around\", \"around\", \"arrive\", \"awesome\", \"back\", \"back\", \"back\", \"back\", \"bad\", \"bad\", \"bad\", \"bad\", \"best_price\", \"break\", \"break\", \"break\", \"brush\", \"burn\", \"buy\", \"buy\", \"buy\", \"buy\", \"call\", \"call\", \"call\", \"calm\", \"canned_food\", \"cat_household\", \"change\", \"change\", \"change\", \"change\", \"check\", \"check\", \"check\", \"chew\", \"chew\", \"clean\", \"clean\", \"clean\", \"clean\", \"coat\", \"cold\", \"combine\", \"come\", \"come\", \"come\", \"come\", \"comfort_zone\", \"contain\", \"contain\", \"contain\", \"cosequin\", \"cosequin\", \"crumble\", \"daily\", \"daily\", \"dead\", \"dead\", \"dental\", \"dental\", \"diffuser\", \"digestive\", \"double\", \"dry\", \"dry\", \"dry_food\", \"dry_food\", \"ear\", \"easy\", \"easy\", \"easy\", \"easy\", \"eat\", \"eat\", \"eat_anything\", \"empty\", \"empty\", \"enjoy\", \"enjoy\", \"enjoy\", \"even\", \"even\", \"even\", \"even\", \"excellent\", \"expensive\", \"expensive\", \"expensive\", \"expensive\", \"fair\", \"familiar\", \"feed\", \"feed\", \"feliway\", \"feliway_diffuser\", \"female\", \"feral\", \"find\", \"find\", \"find\", \"find\", \"fine\", \"fine\", \"fine\", \"finicky\", \"first\", \"first\", \"first\", \"first\", \"flea_comb\", \"flea_free\", \"flea_problem\", \"flea_treatment\", \"flex\", \"forget\", \"forget\", \"friendly\", \"frontline_plus\", \"generic\", \"gentle\", \"get\", \"get\", \"get\", \"get\", \"give\", \"give\", \"give\", \"give\", \"go\", \"go\", \"go\", \"go\", \"gobble\", \"good\", \"good\", \"good\", \"good\", \"great\", \"great\", \"great\", \"great\", \"growl\", \"hairball_remedy\", \"happy\", \"happy\", \"happy\", \"happy\", \"heal\", \"healthy\", \"healthy\", \"healthy\", \"healthy\", \"heavy\", \"help\", \"help\", \"help\", \"help\", \"hiss\", \"home_zone\", \"hyaluronic_acid\", \"infest\", \"infest\", \"ingredient\", \"inside\", \"instantly\", \"introduce\", \"introduce\", \"joint\", \"keep\", \"keep\", \"keep\", \"keep\", \"kill\", \"kill\", \"know\", \"know\", \"know\", \"know\", \"large\", \"large\", \"large\", \"large\", \"last\", \"last\", \"last\", \"last\", \"later\", \"later\", \"later\", \"later\", \"lick\", \"lick\", \"lick\", \"lick\", \"litter_box\", \"little\", \"little\", \"little\", \"little\", \"live\", \"live\", \"live\", \"live\", \"long\", \"long\", \"long\", \"long\", \"long_time\", \"long_time\", \"look\", \"look\", \"look\", \"look\", \"loudly\", \"love\", \"love\", \"love\", \"lucky\", \"lucky\", \"lysine\", \"maine_coon\", \"make\", \"make\", \"make\", \"make\", \"male\", \"male\", \"male\", \"mark\", \"mellow\", \"mix\", \"mix\", \"mix\", \"monthly\", \"move\", \"move\", \"move\", \"move\", \"move_free\", \"much\", \"much\", \"much\", \"much\", \"natural\", \"natural\", \"need\", \"need\", \"need\", \"need\", \"nervous\", \"nervous\", \"never\", \"never\", \"never\", \"never\", \"new\", \"new\", \"new\", \"new\", \"new_home\", \"next_time\", \"notice\", \"notice\", \"notice\", \"notice\", \"odor\", \"okay\", \"old\", \"old\", \"old\", \"old\", \"open\", \"open\", \"open\", \"open\", \"oral\", \"oral\", \"oral\", \"pay\", \"pee\", \"per_day\", \"perfectly\", \"pet\", \"pet\", \"pet\", \"pet\", \"pet_naturals\", \"picky\", \"pill_pockets\", \"play\", \"play\", \"play\", \"play\", \"plug\", \"poor\", \"poor\", \"poor\", \"poor\", \"prefer\", \"prefer\", \"prefer\", \"pricey\", \"puppy\", \"purchase\", \"purchase\", \"purchase\", \"purchase\", \"put\", \"put\", \"put\", \"put\", \"quickly\", \"quickly\", \"really\", \"really\", \"really\", \"really\", \"receive\", \"receive\", \"receive\", \"recommend\", \"recommend\", \"recommend\", \"recommend\", \"red\", \"refill\", \"refuse\", \"refuse\", \"refuse\", \"refuse\", \"relax\", \"relaxed\", \"renal\", \"report\", \"right\", \"right\", \"right\", \"right\", \"rosemary\", \"sad\", \"salmon_oil\", \"say\", \"say\", \"say\", \"say\", \"see\", \"see\", \"see\", \"see\", \"seem\", \"seem\", \"seem\", \"seem\", \"sell\", \"sell\", \"sell\", \"send\", \"senior\", \"seriously\", \"seriously\", \"several_times\", \"several_times\", \"severe\", \"severe\", \"shape\", \"shed\", \"ship\", \"shy\", \"side_effects\", \"skittish\", \"small\", \"small\", \"small\", \"small\", \"sneeze\", \"soft\", \"soft\", \"spray\", \"spray\", \"sprinkle\", \"squeeze\", \"start\", \"start\", \"start\", \"start\", \"still\", \"still\", \"still\", \"still\", \"stop\", \"stop\", \"stop\", \"stop\", \"stress\", \"stressful\", \"struggle\", \"stuff_works\", \"supplement\", \"sure\", \"sure\", \"sure\", \"sure\", \"take\", \"take\", \"take\", \"take\", \"tartar\", \"tasty\", \"taurine\", \"territorial\", \"thin\", \"think\", \"think\", \"think\", \"think\", \"tick\", \"tired\", \"tired\", \"together\", \"together\", \"together\", \"topical\", \"track\", \"treat\", \"treat\", \"treat\", \"treat\", \"try\", \"try\", \"try\", \"try\", \"upper\", \"urinate\", \"use\", \"use\", \"use\", \"use\", \"vet_said\", \"vetri_science\", \"vetri_science\", \"wait\", \"wait\", \"want\", \"want\", \"want\", \"want\", \"wash\", \"well\", \"well\", \"well\", \"well\", \"wet_food\", \"wet_food\", \"wet_food\", \"work\", \"work\", \"work\"]}, \"R\": 30, \"lambda.step\": 0.01, \"plot.opts\": {\"xlab\": \"PC1\", \"ylab\": \"PC2\"}, \"topic.order\": [1, 3, 2, 4]};\n",
       "\n",
       "function LDAvis_load_lib(url, callback){\n",
       "  var s = document.createElement('script');\n",
       "  s.src = url;\n",
       "  s.async = true;\n",
       "  s.onreadystatechange = s.onload = callback;\n",
       "  s.onerror = function(){console.warn(\"failed to load library \" + url);};\n",
       "  document.getElementsByTagName(\"head\")[0].appendChild(s);\n",
       "}\n",
       "\n",
       "if(typeof(LDAvis) !== \"undefined\"){\n",
       "   // already loaded: just create the visualization\n",
       "   !function(LDAvis){\n",
       "       new LDAvis(\"#\" + \"ldavis_el2132013561651765601144129696\", ldavis_el2132013561651765601144129696_data);\n",
       "   }(LDAvis);\n",
       "}else if(typeof define === \"function\" && define.amd){\n",
       "   // require.js is available: use it to load d3/LDAvis\n",
       "   require.config({paths: {d3: \"https://d3js.org/d3.v5\"}});\n",
       "   require([\"d3\"], function(d3){\n",
       "      window.d3 = d3;\n",
       "      LDAvis_load_lib(\"https://cdn.jsdelivr.net/gh/bmabey/pyLDAvis@3.3.1/pyLDAvis/js/ldavis.v3.0.0.js\", function(){\n",
       "        new LDAvis(\"#\" + \"ldavis_el2132013561651765601144129696\", ldavis_el2132013561651765601144129696_data);\n",
       "      });\n",
       "    });\n",
       "}else{\n",
       "    // require.js not available: dynamically load d3 & LDAvis\n",
       "    LDAvis_load_lib(\"https://d3js.org/d3.v5.js\", function(){\n",
       "         LDAvis_load_lib(\"https://cdn.jsdelivr.net/gh/bmabey/pyLDAvis@3.3.1/pyLDAvis/js/ldavis.v3.0.0.js\", function(){\n",
       "                 new LDAvis(\"#\" + \"ldavis_el2132013561651765601144129696\", ldavis_el2132013561651765601144129696_data);\n",
       "            })\n",
       "         });\n",
       "}\n",
       "</script>"
      ],
      "text/plain": [
       "<IPython.core.display.HTML object>"
      ]
     },
     "execution_count": 392,
     "metadata": {},
     "output_type": "execute_result"
    }
   ],
   "source": [
    "pyLDAvis.enable_notebook()\n",
    "topic_data =  pyLDAvis.gensim_models.prepare(cats_health_supplies_optimal_model, \n",
    "                                             cats_health_supplies_doc_term_matrix, \n",
    "                                             cats_health_supplies_dictionary, \n",
    "                                             mds = 'tsne')\n",
    "pyLDAvis.display(topic_data)"
   ]
  },
  {
   "cell_type": "markdown",
   "id": "da0eb026",
   "metadata": {},
   "source": [
    "## 7. cats treats"
   ]
  },
  {
   "cell_type": "code",
   "execution_count": 399,
   "id": "dc76fdc3",
   "metadata": {},
   "outputs": [
    {
     "data": {
      "application/vnd.jupyter.widget-view+json": {
       "model_id": "c34911c25a26435d8f78507625b53d6c",
       "version_major": 2,
       "version_minor": 0
      },
      "text/plain": [
       "  0%|          | 0/2237 [00:00<?, ?it/s]"
      ]
     },
     "metadata": {},
     "output_type": "display_data"
    },
    {
     "data": {
      "application/vnd.jupyter.widget-view+json": {
       "model_id": "1b46f8f0461f4995bc39895ddbd7192b",
       "version_major": 2,
       "version_minor": 0
      },
      "text/plain": [
       "  0%|          | 0/2237 [00:00<?, ?it/s]"
      ]
     },
     "metadata": {},
     "output_type": "display_data"
    },
    {
     "name": "stdout",
     "output_type": "stream",
     "text": [
      "Round: 2\n",
      "Round: 4\n",
      "Round: 6\n",
      "Round: 8\n",
      "Round: 10\n",
      "Round: 12\n",
      "Round: 14\n",
      "Round: 16\n",
      "Round: 18\n"
     ]
    },
    {
     "data": {
      "image/png": "[encoded data removed]",
      "text/plain": [
       "<Figure size 432x288 with 1 Axes>"
      ]
     },
     "metadata": {
      "needs_background": "light"
     },
     "output_type": "display_data"
    },
    {
     "name": "stdout",
     "output_type": "stream",
     "text": [
      "Num Topics = 2  has Coherence Value of 0.5448\n",
      "Num Topics = 4  has Coherence Value of 0.5572\n",
      "Num Topics = 6  has Coherence Value of 0.5629\n",
      "Num Topics = 8  has Coherence Value of 0.552\n",
      "Num Topics = 10  has Coherence Value of 0.5532\n",
      "Num Topics = 12  has Coherence Value of 0.5211\n",
      "Num Topics = 14  has Coherence Value of 0.5197\n",
      "Num Topics = 16  has Coherence Value of 0.5137\n",
      "Num Topics = 18  has Coherence Value of 0.5052\n"
     ]
    },
    {
     "ename": "FileNotFoundError",
     "evalue": "[Errno 2] No such file or directory: './cat_treats_model_list.pickle'",
     "output_type": "error",
     "traceback": [
      "\u001b[1;31m---------------------------------------------------------------------------\u001b[0m",
      "\u001b[1;31mFileNotFoundError\u001b[0m                         Traceback (most recent call last)",
      "\u001b[1;32mC:\\Users\\JIATIN~1\\AppData\\Local\\Temp/ipykernel_21320/2727706901.py\u001b[0m in \u001b[0;36m<module>\u001b[1;34m\u001b[0m\n\u001b[0;32m     17\u001b[0m     \u001b[0mprint\u001b[0m\u001b[1;33m(\u001b[0m\u001b[1;34m\"Num Topics =\"\u001b[0m\u001b[1;33m,\u001b[0m \u001b[0mm\u001b[0m\u001b[1;33m,\u001b[0m \u001b[1;34m\" has Coherence Value of\"\u001b[0m\u001b[1;33m,\u001b[0m \u001b[0mround\u001b[0m\u001b[1;33m(\u001b[0m\u001b[0mcv\u001b[0m\u001b[1;33m,\u001b[0m \u001b[1;36m4\u001b[0m\u001b[1;33m)\u001b[0m\u001b[1;33m)\u001b[0m\u001b[1;33m\u001b[0m\u001b[1;33m\u001b[0m\u001b[0m\n\u001b[0;32m     18\u001b[0m \u001b[1;33m\u001b[0m\u001b[0m\n\u001b[1;32m---> 19\u001b[1;33m \u001b[1;32mwith\u001b[0m \u001b[0mopen\u001b[0m \u001b[1;33m(\u001b[0m\u001b[1;34m'./cat_treats_model_list.pickle'\u001b[0m\u001b[1;33m,\u001b[0m \u001b[1;34m'rb'\u001b[0m\u001b[1;33m)\u001b[0m \u001b[1;32mas\u001b[0m \u001b[0mhandle\u001b[0m\u001b[1;33m:\u001b[0m\u001b[1;33m\u001b[0m\u001b[1;33m\u001b[0m\u001b[0m\n\u001b[0m\u001b[0;32m     20\u001b[0m      \u001b[0mpickle\u001b[0m\u001b[1;33m.\u001b[0m\u001b[0mdump\u001b[0m\u001b[1;33m(\u001b[0m\u001b[0mcat_treats_model_list\u001b[0m\u001b[1;33m,\u001b[0m \u001b[0mhandle\u001b[0m\u001b[1;33m)\u001b[0m\u001b[1;33m\u001b[0m\u001b[1;33m\u001b[0m\u001b[0m\n",
      "\u001b[1;31mFileNotFoundError\u001b[0m: [Errno 2] No such file or directory: './cat_treats_model_list.pickle'"
     ]
    }
   ],
   "source": [
    "cats_treats_dictionary, cats_treats_doc_term_matrix = vectorize(cats_treats_reviews2)\n",
    "cat_treats_model_list, coherence_values = compute_coherence_values(dictionary=cats_treats_dictionary, \n",
    "                                                    corpus=cats_treats_doc_term_matrix, \n",
    "                                                    texts=cats_treats_reviews2, \n",
    "                                                    start=2, \n",
    "                                                    limit=20, \n",
    "                                                    step=2)\n",
    "\n",
    "limit=20; start=2; step=2;\n",
    "x = range(start, limit, step)\n",
    "plt.plot(x, coherence_values)\n",
    "plt.xlabel(\"Num Topics\")\n",
    "plt.ylabel(\"Coherence score\")\n",
    "plt.legend((\"coherence_values\"), loc='best')\n",
    "plt.show()\n",
    "for m, cv in zip(x, coherence_values):\n",
    "    print(\"Num Topics =\", m, \" has Coherence Value of\", round(cv, 4))\n",
    "    \n",
    "with open ('./cat_treats_model_list.pickle', 'rb') as handle:\n",
    "     pickle.dump(cat_treats_model_list, handle)"
   ]
  },
  {
   "cell_type": "code",
   "execution_count": null,
   "id": "0243e46e",
   "metadata": {},
   "outputs": [],
   "source": [
    "optimal_model = model_list[1]\n",
    "model_topics = optimal_model.show_topics(formatted=False)\n",
    "\n",
    "optimal_model.print_topics(num_topics=4, num_words=30)\n",
    "keywords_dict = get_keywords(cats_treats_doc_term_matrix, model = optimal_model)\n",
    "\n",
    "pyLDAvis.enable_notebook()\n",
    "topic_data =  pyLDAvis.gensim_models.prepare(optimal_model, \n",
    "                                             cats_treats_doc_term_matrix, \n",
    "                                             cats_treats_dictionary, \n",
    "                                             mds = 'tsne')\n",
    "pyLDAvis.display(topic_data)"
   ]
  },
  {
   "cell_type": "markdown",
   "id": "9152f037",
   "metadata": {},
   "source": [
    "## 8. cats grooming"
   ]
  },
  {
   "cell_type": "code",
   "execution_count": null,
   "id": "ef81d22e",
   "metadata": {},
   "outputs": [],
   "source": [
    "cats_grooming_dictionary, cats_grooming_doc_term_matrix = vectorize(cats_grooming_reviews2)\n",
    "cats_grooming_model_list, coherence_values = compute_coherence_values(dictionary=cats_grooming_dictionary, \n",
    "                                                    corpus=cats_grooming_doc_term_matrix, \n",
    "                                                    texts=cats_grooming_reviews, \n",
    "                                                    start=2, \n",
    "                                                    limit=20, \n",
    "                                                    step=2)\n",
    "\n",
    "limit=20; start=2; step=2;\n",
    "x = range(start, limit, step)\n",
    "plt.plot(x, coherence_values)\n",
    "plt.xlabel(\"Num Topics\")\n",
    "plt.ylabel(\"Coherence score\")\n",
    "plt.legend((\"coherence_values\"), loc='best')\n",
    "plt.show()\n",
    "for m, cv in zip(x, coherence_values):\n",
    "    print(\"Num Topics =\", m, \" has Coherence Value of\", round(cv, 4))\n",
    "    \n",
    "    \n",
    "with open ('./cat_treats_model_list.pickle', 'rb') as handle:\n",
    "     pickle.dump(model_list, handle)"
   ]
  },
  {
   "cell_type": "code",
   "execution_count": null,
   "id": "c303185e",
   "metadata": {},
   "outputs": [],
   "source": [
    "optimal_model = model_list[1]\n",
    "model_topics = optimal_model.show_topics(formatted=False)\n",
    "\n",
    "optimal_model.print_topics(num_topics=4, num_words=30)\n",
    "keywords_dict = get_keywords(cats_food_doc_term_matrix, model = optimal_model)\n",
    "\n",
    "pyLDAvis.enable_notebook()\n",
    "topic_data =  pyLDAvis.gensim_models.prepare(optimal_model, \n",
    "                                             cats_food_doc_term_matrix, \n",
    "                                             cats_food_dictionary, \n",
    "                                             mds = 'tsne')\n",
    "pyLDAvis.display(topic_data)"
   ]
  }
 ],
 "metadata": {
  "kernelspec": {
   "display_name": "Python 3 (ipykernel)",
   "language": "python",
   "name": "python3"
  },
  "language_info": {
   "codemirror_mode": {
    "name": "ipython",
    "version": 3
   },
   "file_extension": ".py",
   "mimetype": "text/x-python",
   "name": "python",
   "nbconvert_exporter": "python",
   "pygments_lexer": "ipython3",
   "version": "3.9.7"
  }
 },
 "nbformat": 4,
 "nbformat_minor": 5
}
