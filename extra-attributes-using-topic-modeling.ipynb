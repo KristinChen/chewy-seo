{
 "cells": [
  {
   "cell_type": "code",
   "execution_count": 2,
   "id": "7a2456b5",
   "metadata": {},
   "outputs": [],
   "source": [
    "%matplotlib inline\n",
    "import random\n",
    "random.seed(1234)\n",
    "\n",
    "import pandas as pd\n",
    "import gzip\n",
    "# Gensim\n",
    "import gensim\n",
    "import gensim.corpora as corpora\n",
    "from gensim.utils import simple_preprocess\n",
    "from gensim.models import CoherenceModel\n",
    "# import nltk\n",
    "# nltk.download('wordnet')\n",
    "from nltk.corpus import stopwords\n",
    "from nltk.stem.wordnet import WordNetLemmatizer\n",
    "import string\n",
    "import spacy\n",
    "import matplotlib.pyplot as plt\n",
    "import pyLDAvis #python library for interactive topic model visualization\n",
    "import pyLDAvis.gensim_models\n",
    "pyLDAvis.enable_notebook()\n",
    "spacy.prefer_gpu()\n",
    "nlp = spacy.load(\"en_core_web_sm\")\n",
    "# import logging\n",
    "# logging.basicConfig(format='%(asctime)s : %(levelname)s : %(message)s', level=logging.ERROR)\n",
    "\n",
    "# import warnings\n",
    "# warnings.filterwarnings(\"ignore\",category=DeprecationWarning)\n",
    "\n",
    "import pickle\n",
    "import numpy as np\n",
    "\n",
    "# Sklearn\n",
    "from sklearn.decomposition import LatentDirichletAllocation, TruncatedSVD\n",
    "from sklearn.feature_extraction.text import CountVectorizer, TfidfVectorizer\n",
    "from sklearn.model_selection import GridSearchCV\n",
    "from pprint import pprint\n",
    "\n",
    "# Plotting tools\n",
    "# import pyLDAvis\n",
    "# import pyLDAvis.sklearn\n",
    "# import matplotlib.pyplot as plt\n",
    "%matplotlib inline\n",
    "\n",
    "from tqdm.notebook import tqdm as tqdm\n",
    "tqdm.pandas()\n",
    "\n",
    "# Example for detecting bigrams \n",
    "import math\n",
    "import nltk\n",
    "from collections import defaultdict\n",
    "\n",
    "nlp = spacy.load(\"en_core_web_sm\", disable=['parser', 'ner'])\n",
    "from nltk.probability import FreqDist\n",
    "\n",
    "from gensim.models.ldamulticore import LdaMulticore"
   ]
  },
  {
   "cell_type": "markdown",
   "id": "42d8e864",
   "metadata": {},
   "source": [
    "# read data "
   ]
  },
  {
   "cell_type": "code",
   "execution_count": 3,
   "id": "739791dd",
   "metadata": {},
   "outputs": [],
   "source": [
    "df = pd.read_csv('./all_df.csv', index_col = False)"
   ]
  },
  {
   "cell_type": "markdown",
   "id": "19d8a7b6",
   "metadata": {},
   "source": [
    "# batch prepare data"
   ]
  },
  {
   "cell_type": "code",
   "execution_count": 4,
   "id": "ecbbfc05",
   "metadata": {
    "scrolled": false
   },
   "outputs": [
    {
     "data": {
      "text/plain": [
       "category_3                   \n",
       "Beds & Furniture                 53303\n",
       "Litter & Housebreaking           39361\n",
       "Toys                             36078\n",
       "Health Supplies                  34889\n",
       "Food                             27843\n",
       "Treats                           10143\n",
       "Grooming                          8567\n",
       "Feeding & Watering Supplies       7831\n",
       "Cat Flaps, Steps, Nets & Pens     3965\n",
       "Collars, Harnesses & Leashes      3082\n",
       "Educational Repellents            2263\n",
       "Carriers & Strollers              1284\n",
       "Cages                              196\n",
       "Memorials                          155\n",
       "Apparel                            150\n",
       "Medications                          8\n",
       "dtype: int64"
      ]
     },
     "execution_count": 4,
     "metadata": {},
     "output_type": "execute_result"
    }
   ],
   "source": [
    "df.loc[df.category_2 == 'Cats', ['category_3']].value_counts()"
   ]
  },
  {
   "cell_type": "code",
   "execution_count": 5,
   "id": "434ce194",
   "metadata": {},
   "outputs": [],
   "source": [
    "df1 = df.loc[(df.category_2 == 'Cats') & (df.category_3 == 'Toys')]\n",
    "df2 = df.loc[(df.category_2 == 'Cats') & (df.category_3 == 'Food')].reset_index(drop = True) \n",
    "df3 = df.loc[(df.category_2 == 'Cats') & (df.category_3 == 'Beds & Furniture')]\n",
    "df4 = df.loc[(df.category_2 == 'Cats') & (df.category_3 == 'Litter & Housebreaking')]\n",
    "df5 = df.loc[(df.category_2 == 'Cats') & (df.category_3 == 'Health Supplies')]\n",
    "df6 = df.loc[(df.category_2 == 'Cats') & (df.category_3 == 'Treats')]\n",
    "df7 = df.loc[(df.category_2 == 'Cats') & (df.category_3 == 'Grooming')]\n",
    "df8 = df.loc[(df.category_2 == 'Cats') & (df.category_3 == 'Feeding & Watering Supplies')]"
   ]
  },
  {
   "cell_type": "code",
   "execution_count": 6,
   "id": "a04bf09a",
   "metadata": {},
   "outputs": [],
   "source": [
    "def sent_to_words(sentences):\n",
    "    '''\n",
    "    Simplify and tokenize strings in an iterable.\n",
    "    \n",
    "            Parameters:\n",
    "                    sentences (iterable): Review strings in a list or as a pandas.series.\n",
    "                    \n",
    "            Returns:\n",
    "                    _ (generator): Simplify review tokens.  \n",
    "    '''\n",
    "    for sentence in sentences:\n",
    "        yield(gensim.utils.simple_preprocess(str(sentence), deacc=True))  # deacc=True removes punctuations\n",
    "\n",
    "def get_bigrams(data_words): \n",
    "    '''\n",
    "    Form bigram.\n",
    "    \n",
    "        Parameters:\n",
    "            data_words (iterable): Review tokens in a list or as a pandas.series.\n",
    "\n",
    "        Returns:\n",
    "           bigram_pmi (data frame): bigram and it's pmi score. \n",
    "    '''\n",
    "    bigram_measures = nltk.collocations.BigramAssocMeasures()\n",
    "    finder = nltk.collocations.BigramCollocationFinder.from_documents(data_words) #data_words_nostops\n",
    "    finder.apply_freq_filter(20)\n",
    "    bigram_scores = finder.score_ngrams(bigram_measures.pmi) \n",
    "    bigram_pmi = pd.DataFrame(bigram_scores)\n",
    "    bigram_pmi.columns = ['bigram', 'pmi']\n",
    "    bigram_pmi.sort_values(by='pmi', axis = 0, ascending = False, inplace = True)\n",
    "    return finder, bigram_measures, bigram_pmi\n",
    "\n",
    "def bigram_filter(bigram):\n",
    "    \"\"\"\n",
    "    Filter bigram. \n",
    "        \n",
    "        Parameters:\n",
    "            bigram (string): a bigram.\n",
    "\n",
    "        Returns:\n",
    "           _ (boolean): decide whether or not to keep the bigram.\n",
    "    \"\"\"\n",
    "    stop_words = stopwords.words('english')   \n",
    "    tag = nltk.pos_tag(bigram)\n",
    "    #if tag[0][1] not in ['JJ', 'NN', 'NNS'] and tag[1][1] not in ['NN', 'NNS']: #we only want adjective + noun\n",
    "    if tag[0][1] not in ['JJ', 'NN'] and tag[1][1] not in ['NN']: #we only want adjective + noun\n",
    "        return False\n",
    "    if bigram[0] in stop_words or bigram[1] in stop_words: \n",
    "        return False\n",
    "    if 'n' in bigram or 't' in bigram:\n",
    "        return False\n",
    "    if 'PRON' in bigram: #we don't want pronoun\n",
    "        return False\n",
    "    if len(bigram[0]) <= 2 or len(bigram[1]) <= 2:\n",
    "        return False\n",
    "    return True\n",
    "\n",
    "def get_trigrams(data_words): \n",
    "    trigram_measures = nltk.collocations.TrigramAssocMeasures()\n",
    "    finder = nltk.collocations.TrigramCollocationFinder.from_documents(data_words) #data_words_nostops\n",
    "    finder.apply_freq_filter(20)\n",
    "    trigram_scores = finder.score_ngrams(trigram_measures.pmi)\n",
    "\n",
    "    trigram_pmi = pd.DataFrame(trigram_scores)\n",
    "    trigram_pmi.columns = ['trigram', 'pmi']\n",
    "    trigram_pmi.sort_values(by='pmi', axis = 0, ascending = False, inplace = True)\n",
    "    return finder, trigram_measures, trigram_pmi\n",
    "\n",
    "def trigram_filter(trigram):\n",
    "    tag = nltk.pos_tag(trigram)\n",
    "    stop_words = stopwords.words('english')\n",
    "    #if tag[0][1] not in ['JJ', 'NN', 'NNS'] and tag[1][1] not in ['NN', 'NNS']: #we only want adjective + noun\n",
    "    if tag[0][1] not in ['JJ', 'NN'] and tag[1][1] not in ['JJ','NN']:\n",
    "        return False\n",
    "    if trigram[0] in stop_words or trigram[-1] in stop_words or trigram[1] in stop_words:\n",
    "        return False\n",
    "    if 'n' in trigram or 't' in trigram:\n",
    "        return False\n",
    "    if 'PRON' in trigram:\n",
    "        return False\n",
    "    if len(trigram[0]) <= 2 or len(trigram[1]) <= 2 and len(trigram[2]) <= 2:\n",
    "        return False\n",
    "    return True \n",
    "\n",
    "def replace_ngram(x, bigrams, trigrams):\n",
    "    '''\n",
    "    Form ngram. \n",
    "        \n",
    "        Parameters:\n",
    "            bigram (string): a bigram.\n",
    "\n",
    "        Returns:\n",
    "           _ (boolean): decide whether or not to keep the bigram.\n",
    "    '''\n",
    "    for gram in trigrams:\n",
    "        x = x.replace(gram, '_'.join(gram.split()))\n",
    "    for gram in bigrams:\n",
    "        x = x.replace(gram, '_'.join(gram.split()))\n",
    "    return x\n",
    "\n",
    "\n",
    "def remove_stopwords(texts, extra_stopwords = []):\n",
    "    '''\n",
    "    Remove stopwords in an iterable (string or tokens).\n",
    "\n",
    "        Parameters:\n",
    "                texts (iterable): Review strings in a list or as a pandas.series.\n",
    "\n",
    "        Returns:\n",
    "                _ (list): Simplify review stirngs without stopwords.  \n",
    "    '''\n",
    "    stop_words = stopwords.words('english') + extra_stopwords\n",
    "    return [[word for word in doc.split() if word not in stop_words] for doc in texts]\n",
    "\n",
    "def lemmatize_skip_ngrams(texts, allowed_postags=['NOUN', 'ADJ', 'VERB', 'ADV']):\n",
    "    '''feed tokens'''\n",
    "    nlp = spacy.load(\"en_core_web_sm\", disable=['parser', 'ner'])\n",
    "    texts_out = []\n",
    "    for sent in texts:\n",
    "        doc = nlp(' '.join(sent)) \n",
    "        if len(allowed_postags) > 0: \n",
    "            returned_doc = []\n",
    "            for token in doc:\n",
    "                if '_' in token.text:\n",
    "                    returned_token = token.text\n",
    "                if token.pos_ in allowed_postags and '_' not in token.text:\n",
    "                    returned_token = token.lemma_\n",
    "                if token.pos_ not in allowed_postags and '_' not in token.text:\n",
    "                    continue\n",
    "                returned_doc.append(returned_token)\n",
    "            texts_out.append(returned_doc)\n",
    "                    \n",
    "        else: \n",
    "            returned_doc = []\n",
    "            for token in doc:\n",
    "                if '_' in token.text:\n",
    "                    returned_token = token.text\n",
    "                else: \n",
    "                    returned_token = token.lemma_\n",
    "                returned_doc.append(returned_token)\n",
    "            texts_out.append(returned_doc)\n",
    "    return texts_out\n",
    "\n",
    "def preprocess_review(reviews, extra_stopwords = ['cat', 'cats'], allowed_postags=[]): \n",
    "    \n",
    "    data_words = list(sent_to_words(tqdm(reviews.tolist())))\n",
    "    bigram_finder, bigram_measures, bigram_pmi = get_bigrams(tqdm(data_words))\n",
    "    trigram_finder, trigram_measures, trigram_pmi = get_trigrams(tqdm(data_words))\n",
    "    filtered_bigram = bigram_pmi[bigram_pmi.progress_apply(lambda bigram:\\\n",
    "                                                  bigram_filter(bigram['bigram'])\\\n",
    "                                                  and bigram.pmi > 5, axis = 1)][:500]\n",
    "\n",
    "    filtered_trigram = trigram_pmi[trigram_pmi.progress_apply(lambda trigram: \\\n",
    "                                                     trigram_filter(trigram['trigram'])\\\n",
    "                                                     and trigram.pmi > 5, axis = 1)][:500]\n",
    "    bigrams = [' '.join(x) for x in filtered_bigram.bigram.values]\n",
    "    trigrams = [' '.join(x) for x in filtered_trigram.trigram.values]\n",
    "    reviews_ngrams = pd.DataFrame([' '.join(sen) for sen in data_words], columns = ['reviewText'])\n",
    "    reviews_ngrams.reviewText = reviews_ngrams.reviewText.map(lambda x: replace_ngram(x, bigrams, trigrams))\n",
    "    cleaned_reviews_ngrams = remove_stopwords(tqdm(reviews_ngrams.reviewText), extra_stopwords = extra_stopwords)\n",
    "    lemmatized_reviews_ngrams = lemmatize_skip_ngrams(tqdm(cleaned_reviews_ngrams), allowed_postags = allowed_postags)\n",
    "    return filtered_bigram, filtered_trigram, lemmatized_reviews_ngrams"
   ]
  },
  {
   "cell_type": "code",
   "execution_count": 7,
   "id": "df4bfbb1",
   "metadata": {},
   "outputs": [
    {
     "data": {
      "text/plain": [
       "(7831, 23)"
      ]
     },
     "execution_count": 7,
     "metadata": {},
     "output_type": "execute_result"
    }
   ],
   "source": [
    "df8.shape"
   ]
  },
  {
   "cell_type": "code",
   "execution_count": null,
   "id": "bec39038",
   "metadata": {},
   "outputs": [
    {
     "data": {
      "application/vnd.jupyter.widget-view+json": {
       "model_id": "b0600e78c8634bb5801f49ef7ed7c003",
       "version_major": 2,
       "version_minor": 0
      },
      "text/plain": [
       "  0%|          | 0/36078 [00:00<?, ?it/s]"
      ]
     },
     "metadata": {},
     "output_type": "display_data"
    },
    {
     "data": {
      "application/vnd.jupyter.widget-view+json": {
       "model_id": "cced275fb7ed4c799a306d4453179925",
       "version_major": 2,
       "version_minor": 0
      },
      "text/plain": [
       "  0%|          | 0/36078 [00:00<?, ?it/s]"
      ]
     },
     "metadata": {},
     "output_type": "display_data"
    },
    {
     "data": {
      "application/vnd.jupyter.widget-view+json": {
       "model_id": "c877a641de4f4d0d805505bdc850ec72",
       "version_major": 2,
       "version_minor": 0
      },
      "text/plain": [
       "  0%|          | 0/36078 [00:00<?, ?it/s]"
      ]
     },
     "metadata": {},
     "output_type": "display_data"
    },
    {
     "data": {
      "application/vnd.jupyter.widget-view+json": {
       "model_id": "f19d5feb62294425adc536927aa65007",
       "version_major": 2,
       "version_minor": 0
      },
      "text/plain": [
       "  0%|          | 0/14874 [00:00<?, ?it/s]"
      ]
     },
     "metadata": {},
     "output_type": "display_data"
    },
    {
     "data": {
      "application/vnd.jupyter.widget-view+json": {
       "model_id": "c60e8376f6df41bbb312812ab906d649",
       "version_major": 2,
       "version_minor": 0
      },
      "text/plain": [
       "  0%|          | 0/9235 [00:00<?, ?it/s]"
      ]
     },
     "metadata": {},
     "output_type": "display_data"
    },
    {
     "data": {
      "application/vnd.jupyter.widget-view+json": {
       "model_id": "127bae95417e41c285ba6fb8a2cd4e90",
       "version_major": 2,
       "version_minor": 0
      },
      "text/plain": [
       "  0%|          | 0/36078 [00:00<?, ?it/s]"
      ]
     },
     "metadata": {},
     "output_type": "display_data"
    },
    {
     "data": {
      "application/vnd.jupyter.widget-view+json": {
       "model_id": "3d363dc3309f451eae2488165acba374",
       "version_major": 2,
       "version_minor": 0
      },
      "text/plain": [
       "  0%|          | 0/36078 [00:00<?, ?it/s]"
      ]
     },
     "metadata": {},
     "output_type": "display_data"
    }
   ],
   "source": [
    "cats_toys_bigram, cats_toys_trigram, cats_toys_reviews = preprocess_review(df1.reviewText, extra_stopwords = ['cat', 'cats', 'toy', 'toys'])\n",
    "cats_food_bigram, cats_food_trigram, cats_food_reviews = preprocess_review(df2.reviewText, extra_stopwords = ['cat', 'cats', 'food'])\n",
    "cats_beds_bigram, cats_beds_trigram, cats_beds_reviews = preprocess_review(df3.reviewText, extra_stopwords = ['cat', 'cats', 'bed', 'beds'] )\n",
    "cats_litter_bigram, cats_litter_trigram, cats_litter_reviews = preprocess_review(df4.reviewText, extra_stopwords = ['cat', 'cats', 'litters', 'litter'])\n",
    "cats_health_supplies_bigram, cats_health_supplies_trigram, cats_health_supplies_reviews = preprocess_review(df5.reviewText, extra_stopwords = ['cat', 'cats'])\n",
    "cats_treats_bigram, cats_treats_trigram, cats_treats_reviews = preprocess_review(df6.reviewText, extra_stopwords = ['cat', 'cats', 'treat', 'treats'])\n",
    "cats_grooming_bigram, cats_grooming_trigram, cats_grooming_reviews = preprocess_review(df7.reviewText, extra_stopwords = ['cat', 'cats'])\n",
    "cats_feeding_supplies_bigram, cats_feeding_suppliess_trigram, cats_feeding_supplies_reviews = preprocess_review(df8.reviewText, extra_stopwords = ['cat', 'cats'])"
   ]
  },
  {
   "cell_type": "code",
   "execution_count": null,
   "id": "402f8b35",
   "metadata": {},
   "outputs": [],
   "source": [
    "cats_toys_bigram, cats_toys_trigram, cats_toys_reviews2 = preprocess_review(df1.reviewText, extra_stopwords = ['cat', 'cats', 'toy', 'toys'],\n",
    "                                                                          allowed_postags = ['ADJ', 'VERB', 'ADV'])\n",
    "cats_food_bigram, cats_food_trigram, cats_food_reviews2 = preprocess_review(df2.reviewText, extra_stopwords = ['cat', 'cats', 'food'],\n",
    "                                                                          allowed_postags = ['ADJ', 'VERB', 'ADV'])\n",
    "cats_beds_bigram, cats_beds_trigram, cats_beds_reviews2 = preprocess_review(df3.reviewText, extra_stopwords = ['cat', 'cats', 'bed', 'beds'],\n",
    "                                                                          allowed_postags = ['ADJ', 'VERB', 'ADV'])\n",
    "cats_litter_bigram, cats_litter_trigram, cats_litter_reviews2 = preprocess_review(df4.reviewText, extra_stopwords = ['cat', 'cats', 'litters', 'litter'],\n",
    "                                                                                allowed_postags = ['ADJ', 'VERB', 'ADV'])\n",
    "cats_health_supplies_bigram, cats_health_supplies_trigram, cats_health_supplies_reviews2 = preprocess_review(df5.reviewText, extra_stopwords = ['cat', 'cats'],\n",
    "                                                                                                           allowed_postags = ['ADJ', 'VERB', 'ADV'])\n",
    "cats_treats_bigram, cats_treats_trigram, cats_treats_reviews2 = preprocess_review(df6.reviewText, extra_stopwords = ['cat', 'cats', 'treat', 'treats'],\n",
    "                                                                                allowed_postags = ['ADJ', 'VERB', 'ADV'])\n",
    "cats_grooming_bigram, cats_grooming_trigram, cats_grooming_reviews2 = preprocess_review(df7.reviewText, extra_stopwords = ['cat', 'cats'],\n",
    "                                                                                      allowed_postags = ['ADJ', 'VERB', 'ADV'])\n",
    "cats_feeding_supplies_bigram, cats_feeding_suppliess_trigram, cats_feeding_supplies_reviews2 = preprocess_review(df8.reviewText, extra_stopwords = ['cat', 'cats'],\n",
    "                                                                                                               allowed_postags = ['ADJ', 'VERB', 'ADV'])"
   ]
  },
  {
   "cell_type": "code",
   "execution_count": null,
   "id": "c654cae7",
   "metadata": {},
   "outputs": [],
   "source": [
    "cats_health_supplies_bigram[:20]"
   ]
  },
  {
   "cell_type": "markdown",
   "id": "b4ef881b",
   "metadata": {},
   "source": [
    "# modeling"
   ]
  },
  {
   "cell_type": "code",
   "execution_count": 12,
   "id": "3c33c3bc",
   "metadata": {},
   "outputs": [],
   "source": [
    "def vectorize(texts):\n",
    "    dictionary = corpora.Dictionary(tqdm(texts))\n",
    "    doc_term_matrix = [dictionary.doc2bow(doc) for doc in tqdm(texts)]\n",
    "    return dictionary, doc_term_matrix"
   ]
  },
  {
   "cell_type": "code",
   "execution_count": 81,
   "id": "812547d1",
   "metadata": {},
   "outputs": [],
   "source": [
    "def compute_coherence_values(dictionary, corpus, texts, limit, start=2, step=3):\n",
    "    \"\"\"\n",
    "    Compute c_v coherence for various number of topics\n",
    "\n",
    "    Parameters:\n",
    "    ----------\n",
    "    dictionary : Gensim dictionary\n",
    "    corpus : Gensim corpus\n",
    "    texts : List of input texts\n",
    "    limit : Max num of topics\n",
    "\n",
    "    Returns:\n",
    "    -------\n",
    "    model_list : List of LDA topic models\n",
    "    coherence_values : Coherence values corresponding to the LDA model with respective number of topics\n",
    "    \"\"\"\n",
    "    coherence_values = []\n",
    "    model_list = []\n",
    "    for num_topics in range(start, limit, step):\n",
    "        print('Round: '+ str(num_topics))\n",
    "        model = LdaMulticore(corpus=corpus, \n",
    "                                num_topics=num_topics, \n",
    "                                id2word=dictionary,\n",
    "                                passes=40,\n",
    "                                iterations=10, \n",
    "                                chunksize = 100, \n",
    "                                eval_every = None,\n",
    "                                random_state = 1234)\n",
    "        model_list.append(model)\n",
    "        coherencemodel = CoherenceModel(model=model, \n",
    "                                        texts=texts, \n",
    "                                        dictionary=dictionary, \n",
    "                                        coherence='c_v')\n",
    "        coherence_values.append(coherencemodel.get_coherence())\n",
    "\n",
    "    return model_list, coherence_values\n",
    "\n",
    "def get_keywords(doc_term_matrix, model): #top 20\n",
    "    keywords_dict = {}\n",
    "    for k in range(len(model.top_topics(doc_term_matrix))):\n",
    "        tu = model.top_topics(doc_term_matrix)[k]\n",
    "        keywords_lst = []\n",
    "        for tup in tu[0]:\n",
    "            keywords_lst.append(tup[1])\n",
    "        keywords_dict[k] = keywords_lst\n",
    "    return keywords_dict"
   ]
  },
  {
   "cell_type": "markdown",
   "id": "a901b7ca",
   "metadata": {},
   "source": [
    "# Interpret the results"
   ]
  },
  {
   "cell_type": "markdown",
   "id": "b144491f",
   "metadata": {},
   "source": [
    "## 1. cats feeding supplies"
   ]
  },
  {
   "cell_type": "code",
   "execution_count": 89,
   "id": "3e238d23",
   "metadata": {},
   "outputs": [
    {
     "data": {
      "application/vnd.jupyter.widget-view+json": {
       "model_id": "669bcadca2d14ea5bc12b515c68b0d3e",
       "version_major": 2,
       "version_minor": 0
      },
      "text/plain": [
       "  0%|          | 0/1093 [00:00<?, ?it/s]"
      ]
     },
     "metadata": {},
     "output_type": "display_data"
    },
    {
     "data": {
      "application/vnd.jupyter.widget-view+json": {
       "model_id": "2868a996e6024732afed58117d1b696c",
       "version_major": 2,
       "version_minor": 0
      },
      "text/plain": [
       "  0%|          | 0/1093 [00:00<?, ?it/s]"
      ]
     },
     "metadata": {},
     "output_type": "display_data"
    }
   ],
   "source": [
    "cats_feeding_supplies_dictionary, cats_feeding_supplies_doc_term_matrix = vectorize(cats_feeding_supplies_reviews2)\n",
    "# cats_feeding_supplies_model_list, cats_feeding_supplies_coherence_values = compute_coherence_values(\n",
    "#                                                     dictionary=cats_feeding_supplies_dictionary, \n",
    "#                                                     corpus=cats_feeding_supplies_doc_term_matrix, \n",
    "#                                                     texts=cats_feeding_supplies_reviews2, \n",
    "#                                                     start=2, \n",
    "#                                                     limit=20, \n",
    "#                                                     step=2)\n",
    "\n",
    "# limit=20; start=2; step=2;\n",
    "# x = range(start, limit, step)\n",
    "# plt.plot(x, cats_feeding_supplies_coherence_values)\n",
    "# plt.xlabel(\"Num Topics\")\n",
    "# plt.ylabel(\"Coherence score\")\n",
    "# plt.legend((\"coherence_values\"), loc='best')\n",
    "# plt.show()\n",
    "# for m, cv in zip(x, cats_feeding_supplies_coherence_values):\n",
    "#     print(\"Num Topics =\", m, \" has Coherence Value of\", round(cv, 4))\n",
    "    \n",
    "# with open ('./cat_feeding_supplies_model_list.pickle', 'wb') as handle:\n",
    "#     pickle.dump(cats_feeding_supplies_model_list, handle)"
   ]
  },
  {
   "cell_type": "code",
   "execution_count": 82,
   "id": "8d3ab7af",
   "metadata": {},
   "outputs": [],
   "source": [
    "with open ('./cat_feeding_supplies_model_list.pickle', 'rb') as handle:\n",
    "    cat_feeding_supplies_model_list = pickle.load(handle)"
   ]
  },
  {
   "cell_type": "code",
   "execution_count": 86,
   "id": "c8248f54",
   "metadata": {},
   "outputs": [],
   "source": [
    "cats_feeding_supplies_optimal_model = cat_feeding_supplies_model_list[2]\n",
    "model_topics = cats_feeding_supplies_optimal_model.show_topics(formatted=False)"
   ]
  },
  {
   "cell_type": "code",
   "execution_count": 87,
   "id": "d702abdf",
   "metadata": {},
   "outputs": [
    {
     "data": {
      "text/plain": [
       "[(0,\n",
       "  '0.040*\"get\" + 0.024*\"eat\" + 0.014*\"put\" + 0.013*\"little\" + 0.013*\"come\" + 0.012*\"take\" + 0.012*\"try\" + 0.012*\"open\" + 0.012*\"use\" + 0.011*\"work\" + 0.011*\"small\" + 0.011*\"make\" + 0.011*\"great\" + 0.010*\"go\" + 0.010*\"really\" + 0.010*\"also\" + 0.009*\"find\" + 0.008*\"much\" + 0.008*\"seem\" + 0.008*\"even\" + 0.008*\"good\" + 0.008*\"give\" + 0.007*\"buy\" + 0.007*\"think\" + 0.007*\"want\" + 0.007*\"easy\" + 0.007*\"need\" + 0.007*\"keep\" + 0.007*\"big\" + 0.006*\"well\"'),\n",
       " (1,\n",
       "  '0.038*\"get\" + 0.021*\"keep\" + 0.017*\"drink\" + 0.016*\"great\" + 0.015*\"little\" + 0.014*\"use\" + 0.014*\"clean\" + 0.013*\"make\" + 0.012*\"love\" + 0.011*\"well\" + 0.011*\"much\" + 0.009*\"large\" + 0.009*\"fresh\" + 0.008*\"recommend\" + 0.008*\"easy\" + 0.008*\"come\" + 0.008*\"old\" + 0.008*\"buy\" + 0.008*\"small\" + 0.007*\"really\" + 0.007*\"go\" + 0.007*\"even\" + 0.007*\"seem\" + 0.007*\"happy\" + 0.007*\"find\" + 0.006*\"want\" + 0.006*\"hard\" + 0.006*\"work\" + 0.006*\"still\" + 0.005*\"extra\"'),\n",
       " (2,\n",
       "  '0.036*\"clean\" + 0.017*\"easy\" + 0.016*\"use\" + 0.015*\"take\" + 0.014*\"quiet\" + 0.014*\"good\" + 0.013*\"work\" + 0.013*\"get\" + 0.011*\"first\" + 0.011*\"go\" + 0.010*\"make\" + 0.010*\"drink\" + 0.009*\"new\" + 0.009*\"little\" + 0.008*\"add\" + 0.008*\"give\" + 0.008*\"buy\" + 0.008*\"even\" + 0.008*\"run\" + 0.008*\"often\" + 0.007*\"find\" + 0.007*\"try\" + 0.007*\"see\" + 0.007*\"think\" + 0.006*\"pet\" + 0.006*\"long\" + 0.006*\"right\" + 0.006*\"seem\" + 0.006*\"need\" + 0.006*\"fresh\"'),\n",
       " (3,\n",
       "  '0.026*\"clean\" + 0.025*\"buy\" + 0.023*\"easy\" + 0.022*\"well\" + 0.015*\"get\" + 0.014*\"grow\" + 0.014*\"use\" + 0.013*\"also\" + 0.013*\"good\" + 0.012*\"make\" + 0.011*\"recommend\" + 0.010*\"keep\" + 0.010*\"bowl\" + 0.010*\"nice\" + 0.009*\"really\" + 0.009*\"work\" + 0.009*\"great\" + 0.008*\"purchase\" + 0.008*\"much\" + 0.008*\"eat\" + 0.007*\"seem\" + 0.007*\"several\" + 0.007*\"look\" + 0.006*\"try\" + 0.006*\"put\" + 0.006*\"small\" + 0.006*\"catit\" + 0.006*\"shallow\" + 0.006*\"enough\" + 0.005*\"take\"'),\n",
       " (4,\n",
       "  '0.018*\"fit\" + 0.015*\"really\" + 0.015*\"use\" + 0.014*\"make\" + 0.013*\"little\" + 0.011*\"get\" + 0.011*\"hold\" + 0.010*\"think\" + 0.010*\"good\" + 0.009*\"buy\" + 0.008*\"keep\" + 0.008*\"well\" + 0.008*\"old\" + 0.007*\"run\" + 0.007*\"big\" + 0.007*\"still\" + 0.007*\"small\" + 0.007*\"come\" + 0.007*\"pet\" + 0.006*\"need\" + 0.006*\"play\" + 0.006*\"say\" + 0.006*\"large\" + 0.006*\"also\" + 0.006*\"drink\" + 0.006*\"nice\" + 0.006*\"top\" + 0.006*\"drate\" + 0.005*\"less\" + 0.005*\"drinkwell_hy_drate\"'),\n",
       " (5,\n",
       "  '0.016*\"use\" + 0.016*\"small\" + 0.016*\"make\" + 0.015*\"still\" + 0.014*\"get\" + 0.011*\"go\" + 0.010*\"different\" + 0.010*\"take\" + 0.009*\"well\" + 0.009*\"also\" + 0.009*\"think\" + 0.009*\"try\" + 0.009*\"even\" + 0.008*\"buy\" + 0.008*\"sure\" + 0.008*\"set\" + 0.007*\"put\" + 0.007*\"drink\" + 0.007*\"come\" + 0.007*\"see\" + 0.006*\"first\" + 0.006*\"like\" + 0.006*\"however\" + 0.006*\"long\" + 0.006*\"little\" + 0.005*\"give\" + 0.005*\"love\" + 0.005*\"top\" + 0.005*\"easy\" + 0.005*\"high\"')]"
      ]
     },
     "execution_count": 87,
     "metadata": {},
     "output_type": "execute_result"
    }
   ],
   "source": [
    "cats_feeding_supplies_optimal_model.print_topics(num_topics=6, num_words=30) "
   ]
  },
  {
   "cell_type": "code",
   "execution_count": 91,
   "id": "df90fad3",
   "metadata": {},
   "outputs": [
    {
     "name": "stderr",
     "output_type": "stream",
     "text": [
      "C:\\Users\\JiatingChen\\anaconda3\\lib\\site-packages\\pyLDAvis\\_prepare.py:246: FutureWarning: In a future version of pandas all arguments of DataFrame.drop except for the argument 'labels' will be keyword-only\n",
      "  default_term_info = default_term_info.sort_values(\n"
     ]
    },
    {
     "data": {
      "text/html": [
       "\n",
       "<link rel=\"stylesheet\" type=\"text/css\" href=\"https://cdn.jsdelivr.net/gh/bmabey/pyLDAvis@3.3.1/pyLDAvis/js/ldavis.v1.0.0.css\">\n",
       "\n",
       "\n",
       "<div id=\"ldavis_el2993617973764765444407325991\"></div>\n",
       "<script type=\"text/javascript\">\n",
       "\n",
       "var ldavis_el2993617973764765444407325991_data = {\"mdsDat\": {\"x\": [-0.004087389005683649, -0.08173769201877612, -0.05485260331379941, -0.03913043690496831, 0.06404663685552238, 0.1157614843877053], \"y\": [0.12070009172657259, -0.055579403018197374, -0.03205597003439629, -0.00032169323816279397, 0.03925650316608369, -0.07199952860189973], \"topics\": [1, 2, 3, 4, 5, 6], \"cluster\": [1, 1, 1, 1, 1, 1], \"Freq\": [30.855984245752634, 16.719507731322274, 15.681152642578741, 15.273377402074226, 13.028186721051235, 8.441791257220896]}, \"tinfo\": {\"Term\": [\"clean\", \"grow\", \"eat\", \"fit\", \"drink\", \"easy\", \"quiet\", \"keep\", \"open\", \"buy\", \"well\", \"still\", \"bowl\", \"little\", \"small\", \"nice\", \"get\", \"run\", \"really\", \"hold\", \"great\", \"different\", \"play\", \"catit\", \"add\", \"good\", \"use\", \"shallow\", \"make\", \"pet\", \"hungry\", \"hole\", \"hit\", \"lid\", \"pop\", \"learn\", \"freeze\", \"adopt\", \"entertain\", \"motivated\", \"open\", \"adjust\", \"aside\", \"slowly\", \"stimulate\", \"challenge\", \"feeder\", \"push\", \"starve\", \"screw\", \"accurate\", \"frustrating\", \"involve\", \"feral\", \"lock\", \"tape\", \"truly\", \"bored\", \"nudge\", \"either\", \"dry_food\", \"slow\", \"fall\", \"treat\", \"smart\", \"roll\", \"wet_food\", \"eat\", \"lose\", \"figure\", \"close\", \"kibble\", \"feed\", \"consider\", \"mean\", \"get\", \"able\", \"put\", \"come\", \"later\", \"probably\", \"try\", \"want\", \"take\", \"little\", \"work\", \"find\", \"small\", \"great\", \"away\", \"also\", \"really\", \"go\", \"give\", \"big\", \"seem\", \"much\", \"use\", \"make\", \"even\", \"think\", \"need\", \"good\", \"buy\", \"easy\", \"keep\", \"long\", \"well\", \"tall\", \"reservoir\", \"primary\", \"drinkwell\", \"lily\", \"near\", \"silent\", \"harmful\", \"medicinal\", \"thank\", \"soak\", \"splash\", \"easier\", \"submerge\", \"cat_mate\", \"pure\", \"com\", \"year\", \"lush\", \"harbor\", \"reuse\", \"blind\", \"fair\", \"dead\", \"experience\", \"forward\", \"readily\", \"respond\", \"skittish\", \"elderly\", \"quick\", \"ugly\", \"maintain\", \"add\", \"dirty\", \"main\", \"cost\", \"quiet\", \"gurgle\", \"quietly\", \"clog\", \"pet_fountain\", \"simple\", \"clean\", \"fountain\", \"begin\", \"apart\", \"often\", \"pump\", \"new\", \"run\", \"loud\", \"important\", \"first\", \"pet\", \"easy\", \"take\", \"good\", \"replace\", \"work\", \"low\", \"drink\", \"use\", \"go\", \"give\", \"change\", \"make\", \"little\", \"find\", \"get\", \"even\", \"see\", \"right\", \"fresh\", \"try\", \"buy\", \"think\", \"long\", \"need\", \"seem\", \"grow\", \"shallow\", \"stainless\", \"weird\", \"sprout\", \"cartridge\", \"gray\", \"plenty\", \"complete\", \"unique\", \"fight\", \"dishwash\", \"trigger\", \"skid\", \"package\", \"fantastic\", \"absorbent\", \"overseas\", \"cheaply\", \"bulk\", \"nibble\", \"delighted\", \"dark\", \"slanted\", \"used\", \"seriously\", \"brush\", \"reasonably\", \"okay\", \"bowl\", \"light\", \"dish\", \"catit\", \"excellent\", \"heavy\", \"overly\", \"real\", \"perfect_size\", \"several\", \"nice\", \"buy\", \"well\", \"easy\", \"clean\", \"highly\", \"stainless_steel\", \"purchase\", \"recommend\", \"cute\", \"also\", \"deep\", \"good\", \"order\", \"bottom\", \"use\", \"keep\", \"make\", \"look\", \"really\", \"great\", \"work\", \"get\", \"much\", \"seem\", \"replace\", \"eat\", \"enough\", \"try\", \"put\", \"small\", \"take\", \"picky\", \"playful\", \"divide\", \"preferred\", \"separately\", \"ruin\", \"strongly\", \"shoot\", \"water\", \"pour\", \"drip\", \"yell\", \"deal\", \"continuous\", \"substitute\", \"noise\", \"poorly\", \"deliver\", \"thorough\", \"grind\", \"deluxe\", \"naturally\", \"upgrade\", \"compact\", \"powerful\", \"accessible\", \"absolutely\", \"clogged\", \"worry\", \"prissy\", \"actual\", \"petmate\", \"constant\", \"possible\", \"extra\", \"outside\", \"cat_loves\", \"running_water\", \"glad\", \"drink\", \"love\", \"hum\", \"intend\", \"keep\", \"entire\", \"fresh\", \"get\", \"great\", \"happy\", \"pay\", \"kitten\", \"little\", \"worth\", \"large\", \"recommend\", \"old\", \"much\", \"together\", \"sometimes\", \"make\", \"clean\", \"well\", \"use\", \"definitely\", \"hard\", \"come\", \"want\", \"small\", \"find\", \"easy\", \"really\", \"buy\", \"seem\", \"even\", \"go\", \"still\", \"work\", \"sink\", \"comfortable\", \"carry\", \"minimal\", \"somehow\", \"invest\", \"bottled\", \"program\", \"internal\", \"jump\", \"ball\", \"slimcat\", \"strong\", \"evenly\", \"smoothly\", \"forever\", \"sorry\", \"fail\", \"result\", \"track\", \"sgd\", \"stress\", \"food\", \"dental\", \"surround\", \"clearly\", \"unfortunate\", \"forth\", \"unused\", \"yummy\", \"float\", \"likely\", \"prove\", \"discover\", \"rack\", \"lie\", \"different\", \"half\", \"weak\", \"high\", \"inside\", \"still\", \"small\", \"continue\", \"effective\", \"sure\", \"set\", \"nearly\", \"choose\", \"end\", \"make\", \"like\", \"overall\", \"blue\", \"however\", \"use\", \"go\", \"think\", \"top\", \"also\", \"even\", \"take\", \"try\", \"see\", \"well\", \"get\", \"drink\", \"pump\", \"buy\", \"come\", \"first\", \"put\", \"long\", \"leave\", \"love\", \"give\", \"little\", \"easy\", \"drate\", \"describe\", \"ask\", \"anywhere\", \"listen\", \"schematic\", \"activate\", \"yank\", \"struggle\", \"stale\", \"range\", \"regardless\", \"adapt\", \"rate\", \"supposedly\", \"essential\", \"ignore\", \"dig\", \"alternative\", \"dense\", \"loosen\", \"extreme\", \"press\", \"detachable\", \"disinfect\", \"vertical\", \"ridge\", \"spook\", \"unattended\", \"agile\", \"drinkwell_hy_drate\", \"double\", \"sturdy\", \"fascinated\", \"save\", \"safe\", \"cover\", \"fit\", \"filtered_water\", \"scare\", \"care\", \"base\", \"hold\", \"really\", \"hot\", \"require\", \"run\", \"pet\", \"moving_water\", \"plug\", \"interested\", \"bottom\", \"play\", \"deep\", \"little\", \"think\", \"make\", \"use\", \"old\", \"expect\", \"good\", \"big\", \"less\", \"say\", \"high\", \"top\", \"nice\", \"keep\", \"buy\", \"still\", \"get\", \"well\", \"need\", \"come\", \"small\", \"large\", \"drink\", \"also\"], \"Freq\": [397.0, 68.0, 280.0, 102.0, 189.0, 315.0, 120.0, 263.0, 116.0, 307.0, 292.0, 171.0, 64.0, 286.0, 241.0, 94.0, 738.0, 85.0, 242.0, 99.0, 240.0, 92.0, 71.0, 40.0, 60.0, 251.0, 406.0, 27.0, 354.0, 73.0, 19.089034171053264, 19.958341231514748, 14.127581187840383, 11.362298547441439, 11.209607301555723, 18.14315363404742, 8.601403791225959, 7.735651770749334, 9.44995207908689, 7.720085441256179, 105.50078085441407, 41.08587838635992, 8.530041614638774, 6.78716008385038, 6.776215253957404, 6.732376744829244, 10.05676760020367, 40.89593124332332, 7.508264876276486, 5.842605288144324, 5.839412194914959, 5.836353718640965, 5.836028961783648, 5.833450811377655, 6.605447622352299, 5.781570903421213, 5.759002397043189, 6.544645281641754, 4.896603753019058, 4.891503498955028, 47.970275387503555, 33.280929787875664, 41.89927069681349, 36.52272606981079, 16.25665466872703, 29.46375444861208, 48.853630801050926, 217.82262902758936, 28.102631413018177, 45.887657851254765, 25.700375606564492, 29.664198571359393, 52.118413582867525, 21.79455212128093, 26.079957707013573, 355.9331803869029, 35.57851331640768, 128.2672254893692, 112.66813536253, 23.700072410015224, 28.256832254489037, 105.66194406386471, 65.11068670163716, 111.64422518113568, 113.93493853073129, 102.09951638430296, 78.67521073587736, 98.76205511302427, 95.89496748347294, 44.69947098499064, 88.92136082122701, 90.76374209128223, 91.30516834297954, 67.72861248943252, 61.54908453305465, 72.98968614920636, 74.9438424439336, 105.43018918966094, 96.86562592108933, 71.35995985973359, 66.60952969199445, 62.177466004702836, 69.7426288061827, 67.44700848523331, 64.8490206732717, 61.816172953334544, 56.00972148423176, 57.96590593791309, 11.440312258678345, 13.983904673457879, 6.835580060775415, 6.813911153514181, 4.939048588904139, 4.931162226067047, 16.325027650626094, 4.785974360030692, 3.981950217414974, 3.975509659382177, 8.630791098675955, 14.102369843394115, 3.87537164056941, 5.346358538593815, 22.11496898028943, 3.02709661824563, 3.0251487269280255, 3.025224792041404, 3.0247164613769963, 3.024613716708925, 3.024736896780591, 3.024799338291573, 3.0208382758948824, 3.020799391863043, 3.0177644506042425, 5.2546069823561, 3.754852428746899, 3.007026213665549, 2.9904343688972936, 2.9901630321495696, 12.052388925933396, 7.363481030025232, 8.074450291774, 41.41749964671339, 20.1093294827277, 14.325309878905905, 7.5727866777889385, 69.84838659207752, 8.68464633424828, 9.263126630344237, 4.996758168654384, 22.091525031165993, 19.72949436552043, 173.8674654670643, 22.403591808853832, 14.290402803666277, 28.645999085999104, 37.362143756637465, 26.46240809393839, 46.15456243589127, 37.5710003931722, 20.867675957109405, 13.225156302805487, 55.45814321825078, 31.030097716926086, 84.3977263946869, 74.62060281663835, 68.11189952465563, 26.225266588228774, 62.23509978261521, 27.87781410008695, 49.069100567314564, 77.22460001384218, 52.81072760021031, 39.901061005194705, 22.563037910097997, 51.14787610373982, 44.71624607171312, 36.0696044792993, 61.65052008619646, 37.82795515796666, 33.57772952981609, 29.51310504890996, 29.177816840937822, 35.865155078139736, 38.52648493542751, 32.34706184276021, 30.758277331316982, 29.270579949653456, 29.3390044926883, 66.27629748894815, 26.260369292599158, 8.992021895262944, 6.324729133144258, 5.464350256741079, 4.555478042600503, 4.552094130269615, 7.553166506753, 3.692618730774163, 3.69140140611328, 3.6889294890345647, 3.685927571212395, 3.679158947955828, 3.66838537181866, 4.349548662825433, 5.6666614697130155, 2.8065309584386, 2.806027045125009, 2.805519405035723, 2.8047279975971033, 2.8037672880626343, 2.803325931341063, 2.8010789517953567, 2.8014170235905285, 2.799167648260447, 3.504242198323386, 3.4712208360812564, 6.731897479284213, 3.9683705841828196, 47.219078591828065, 13.65123154494932, 15.29158677412279, 27.095045661828287, 9.547264622895208, 22.62678002684815, 6.385521363071057, 10.845049306236449, 13.111920251015842, 32.88681286202997, 46.62071174544157, 113.22203518504384, 102.74874772626053, 105.61100516166363, 120.84061246160256, 23.8027183112441, 18.73081936342417, 37.9755504472321, 48.265765906369666, 16.71291300695393, 58.71164133272805, 15.500236167758542, 57.47225203014532, 20.06997977532225, 18.604057879733954, 64.24298570654862, 47.62997371366283, 54.25152136462371, 30.052320970346262, 42.18503516672296, 41.77406763896041, 41.80626272179135, 69.14101246672371, 35.942319589104805, 33.226716101257765, 21.117229300597238, 34.93120914013892, 25.398953840156295, 29.079715567859154, 27.961731839896668, 27.264773674900496, 25.04342795721585, 9.211568135276103, 4.691899998616811, 3.7906459887554935, 3.787532343259245, 3.787058646005382, 3.7869787889970676, 3.758662219821677, 4.451194381893933, 5.8844513734520225, 6.456557870606552, 2.8816922594918872, 2.8796540908478696, 2.87936940579875, 2.8778549746767923, 2.8781762176420562, 2.8766057829038783, 2.8746308776041096, 4.329509154163253, 5.001399835242309, 2.873088444674042, 6.414005493319162, 2.8712213981906975, 2.8632434756393144, 2.8622701535314854, 5.6777814359350325, 2.8334817020342387, 19.021209259208884, 4.578772693851795, 13.123535846808847, 1.9709543224272623, 6.465394515273314, 15.31842335109101, 5.712444044511387, 7.82052179523606, 23.496916631343243, 8.712516799824956, 16.100510740295555, 20.93038705561513, 15.232762708770041, 77.08385858188544, 54.99670438799187, 5.680148625824344, 7.200718884933904, 95.51114741686999, 15.097687171966687, 40.76285847676733, 171.1259772158886, 72.62188039255709, 29.80041817447571, 11.372581748577014, 11.085449134007503, 67.79926380526607, 17.38441023581011, 41.846055531204364, 37.81158405760572, 36.54007795493992, 49.498974578205114, 16.6628855720278, 20.119355130760727, 58.67635354288272, 60.96866037468411, 51.18075902488485, 61.53372026868292, 17.303047352482047, 26.646147240179562, 36.80606194465823, 26.709736235085707, 34.370806919558525, 29.440692428036634, 36.86112801885885, 32.946543693923815, 35.751252501020865, 30.08374046893423, 30.377933687563516, 31.397413146197906, 25.55522790932815, 26.424926733485336, 8.787764194539095, 6.158415350970437, 5.3534555838673015, 5.349685207996257, 5.342834040484921, 4.485833443682573, 4.462928542963388, 3.6201681480372043, 3.6201221462668394, 3.616510786130853, 3.612578519414101, 3.60850780506154, 11.511987266237796, 3.598196110142049, 3.5786004617784744, 3.5531866952755524, 3.5474057324122694, 8.373320090932626, 5.51066796106281, 2.751597442501061, 2.751352836933641, 2.7506225588291016, 2.750474601211919, 2.749541074900816, 2.7473000367320393, 2.74488251100196, 2.743961369782878, 2.7124972646652106, 3.342194488763631, 2.5835923422584495, 7.082388775202494, 9.969280741781501, 4.527265557416142, 6.6289758642005445, 4.9269718438420185, 4.321873402959049, 39.80039555275541, 15.214837846284254, 3.8302608872410815, 19.59557936091924, 10.69572035244396, 56.35089480157874, 59.86828216720447, 10.667653964624913, 6.5173830888159365, 30.88438549963497, 30.105380904485973, 11.544939572859233, 10.322212516565495, 13.671658034382862, 59.586213465719005, 23.794134402622547, 12.99421827100368, 12.183858161454557, 23.599651302612614, 61.70661906890951, 43.68487704589145, 34.762090578136515, 20.249333520457178, 34.87008858056195, 32.36605298271389, 36.4047324101124, 32.68994083205858, 25.769919286280732, 34.87186849521529, 53.276766340796385, 27.287324837036444, 15.38439860254968, 31.04068889954106, 26.327292659709187, 23.807628845029146, 27.3211449847488, 22.97012415236713, 18.67506270433526, 20.372536877287008, 20.76228333810421, 21.225183229594453, 20.069402903572232, 13.62873167917259, 6.884529768349819, 5.163036340550096, 5.056035532346278, 2.676695442481865, 2.676418003681169, 2.6762861629287724, 2.671979556090702, 2.6680509882796124, 2.6641593932012597, 2.662790828869316, 3.329047211274926, 2.6554467257401586, 2.6546167022207223, 5.286791242280217, 2.637410624201962, 7.583862416038773, 2.4795422143995314, 4.281175616764237, 1.8316410741360174, 1.8316546881267541, 1.831679623225577, 1.8315666987550459, 1.8312990047056144, 1.831169026920371, 1.830985596308341, 1.8309596580733585, 1.8309335765332104, 1.8309534959512357, 1.8307944272173657, 13.01986013068896, 4.5309304389495315, 10.976750358948145, 4.000920296342966, 6.765789974196734, 7.16723990625865, 12.903601808784245, 43.179400984348455, 9.923074480028607, 4.471882405275036, 6.355999108273409, 7.421888599850843, 26.294908928834275, 37.85545587160153, 8.416726243858394, 8.67539034819206, 18.221431803502615, 16.451796438354915, 8.048578712631215, 8.139406673060599, 9.84471865477595, 12.31435045713989, 15.479576362031343, 10.004485571412893, 31.4570682417706, 24.821912963696445, 33.98447151539344, 36.40001421603498, 19.316004683815603, 10.322921113897248, 23.494384352546483, 17.40096043318762, 13.2221921208475, 15.235097749434898, 10.680045611782738, 13.65238734947653, 14.367987999569909, 20.473059762792687, 21.073075052039236, 17.00517334805147, 27.016673993933193, 19.82227317301884, 15.766925001541887, 16.91044404779247, 16.956519524651796, 15.12903816955906, 14.524362596325618, 14.835828921994153], \"Total\": [397.0, 68.0, 280.0, 102.0, 189.0, 315.0, 120.0, 263.0, 116.0, 307.0, 292.0, 171.0, 64.0, 286.0, 241.0, 94.0, 738.0, 85.0, 242.0, 99.0, 240.0, 92.0, 71.0, 40.0, 60.0, 251.0, 406.0, 27.0, 354.0, 73.0, 19.864432542319506, 20.805677305104833, 15.106105674197165, 12.266221999299082, 12.246872055261685, 19.829962234172324, 9.428168148930451, 8.48700062244743, 10.3703093227688, 8.485839833588575, 116.08650308390314, 45.2543618972838, 9.426295619154686, 7.538193273958661, 7.537543897570188, 7.5364575777912295, 11.297859137378248, 46.070739044258644, 8.46208973137252, 6.590801681826097, 6.590383903770958, 6.589654570945172, 6.589768213802724, 6.588284357050542, 7.518625890321982, 6.586412568207198, 6.5846328932934775, 7.516091559487665, 5.6427883602238795, 5.64143157725011, 55.41843150214266, 38.43360273936917, 48.821221869980526, 43.07672850261851, 18.883466361157403, 34.70291864344197, 59.053115498859064, 280.8511283409155, 33.653956406017365, 56.863097867347925, 30.9730854163418, 37.513407126208286, 69.9864152566407, 27.989026569807717, 34.81279792011913, 738.1441304904413, 51.291359302221956, 239.77386200079786, 214.12751125724898, 32.00498316191142, 40.6558024353581, 230.54843760037218, 126.51692698592767, 275.2457948671174, 286.22905099867535, 245.50742401167489, 170.9744179347924, 241.45384116930467, 240.4054800420068, 78.11529965272842, 234.1794046712381, 242.41659544530845, 248.54335286806767, 158.62760859286604, 138.56942903804585, 193.9007737767501, 208.00655215524344, 406.5381284636792, 354.51206191344806, 205.70739425983314, 187.669113349807, 158.20059220837751, 251.42402425509886, 307.0605450583058, 315.74566934534454, 263.3963085945163, 155.33262507668786, 292.61920417991536, 12.360518152647709, 15.209724618513281, 7.594470846275992, 7.593199655370491, 5.683972479178651, 5.68224073150324, 18.960262340988642, 5.6673654066232615, 4.727606855853911, 4.726376961597012, 10.410426586582515, 17.01633379116881, 4.718695744563018, 6.612878205289861, 27.42314781316442, 3.771240030049141, 3.7705704449550894, 3.7707246095269644, 3.770733346629203, 3.77064853650485, 3.7709499964794206, 3.771047500756182, 3.770027502370521, 3.7702580497870404, 3.768980283215747, 6.581007939201541, 4.7064158070585265, 3.7693577973689747, 3.7674830136615727, 3.767249551383751, 15.217492597592702, 9.372982474260581, 10.449788939384115, 60.08961502317788, 28.033624756982235, 19.86895375225795, 10.216796476025603, 120.0014287018766, 12.141930465723105, 13.07368082073867, 6.614353586630179, 36.20685552845383, 32.251682597896334, 397.536833023638, 38.056162356144554, 22.656335524796674, 53.92419520698537, 77.74553275541184, 51.20371926346524, 107.54041240031142, 85.96962382101589, 39.78730265437117, 22.057923983462594, 164.90886231056288, 73.77654249972363, 315.74566934534454, 275.2457948671174, 251.42402425509886, 62.96400548806679, 245.50742401167489, 74.70548184708582, 189.0790551252701, 406.5381284636792, 248.54335286806767, 158.62760859286604, 54.7468435350962, 354.51206191344806, 286.22905099867535, 170.9744179347924, 738.1441304904413, 205.70739425983314, 147.812965403185, 106.35465401392543, 103.6074657597055, 230.54843760037218, 307.0605450583058, 187.669113349807, 155.33262507668786, 158.20059220837751, 193.9007737767501, 68.33535148613778, 27.52121249790493, 9.76907063779286, 7.107939674257351, 6.222259292943499, 5.332565874809578, 5.335386664420641, 8.916453865362806, 4.448761238562279, 4.448606655074521, 4.448156187408834, 4.448036489353266, 4.448250437010878, 4.449193786860016, 5.350311618422902, 7.1261121287549365, 3.5622488259508662, 3.5621873604693044, 3.5619629441897707, 3.561638611065564, 3.561355585587903, 3.5613008907402754, 3.5614892776329787, 3.562176704094938, 3.561106272798886, 4.459828524680733, 4.4438217436191705, 8.910790183011182, 5.375953159205672, 64.3984510468089, 18.80293832708599, 21.28975240704834, 40.56249549346305, 13.53020872240847, 35.42502123462542, 8.801844337674668, 16.06390293892387, 20.440496368767302, 60.15549624561882, 94.98343767391664, 307.0605450583058, 292.61920417991536, 315.74566934534454, 397.536833023638, 48.88899655639854, 36.28995166346502, 91.40060477398991, 135.87853148807102, 33.60597360376866, 234.1794046712381, 33.41556812809624, 251.42402425509886, 52.92930157656977, 47.50704644024072, 406.5381284636792, 263.3963085945163, 354.51206191344806, 123.89984435292813, 242.41659544530845, 240.4054800420068, 245.50742401167489, 738.1441304904413, 208.00655215524344, 193.9007737767501, 62.96400548806679, 280.8511283409155, 120.5333438267088, 230.54843760037218, 239.77386200079786, 241.45384116930467, 275.2457948671174, 10.005526036113308, 5.452231233983665, 4.543349751265008, 4.543152037762787, 4.542714147117975, 4.543179100504855, 4.539537246629407, 5.459194616105112, 7.257413296449427, 8.140135759793816, 3.6332403431445583, 3.6326051945094435, 3.6327832235048096, 3.632297517572931, 3.632715604516722, 3.63280790954794, 3.631994733366067, 5.470947320293593, 6.321426267366007, 3.6327893251383085, 8.112472363820963, 3.6331170605398833, 3.631970450492455, 3.632809944631422, 7.217309014733833, 3.630460227689525, 25.75927207945923, 6.298520099120468, 18.119342407477244, 2.722760095682034, 9.013929311908031, 22.998489345124113, 8.069410498542775, 11.817406506016086, 43.18597195104342, 13.452694215677237, 28.217191854601356, 38.84693838543118, 26.66843768153635, 189.0790551252701, 130.9643356217076, 8.254670728502923, 11.048274695980824, 263.3963085945163, 28.59665339204026, 103.6074657597055, 738.1441304904413, 240.4054800420068, 73.57452052765979, 21.16234037677075, 20.52277676995053, 286.22905099867535, 40.68027715066927, 151.85568131620124, 135.87853148807102, 129.35659702832336, 208.00655215524344, 39.17505462536131, 55.687212559074894, 354.51206191344806, 397.536833023638, 292.61920417991536, 406.5381284636792, 45.80843260260952, 101.79322688423548, 214.12751125724898, 126.51692698592767, 241.45384116930467, 170.9744179347924, 315.74566934534454, 242.41659544530845, 307.0605450583058, 193.9007737767501, 205.70739425983314, 248.54335286806767, 171.55846700873607, 245.50742401167489, 9.596541332326566, 6.991996157555247, 6.116863532969117, 6.117592804896603, 6.116664607539423, 5.248670959309356, 5.250001535958639, 4.379681170264529, 4.379664544044035, 4.378644547579593, 4.378011232548054, 4.377484786612519, 13.989381086271981, 4.380667025252246, 4.382026246778788, 4.381411418241032, 4.3840181501351125, 10.493731799128708, 6.966966717822428, 3.5100907793759912, 3.5102368547841194, 3.5100490627991645, 3.50989349409997, 3.509971081004588, 3.5096353145349877, 3.5098661042802126, 3.5098061006526837, 3.508501808878413, 4.397619784529731, 3.5169250561927448, 9.651411084604387, 14.184068893662982, 6.192042211396247, 9.791490455026432, 7.001915479013742, 6.089371030407795, 92.94337554831223, 28.94439623466867, 5.306790220031467, 41.96228995601988, 19.63729631316079, 171.55846700873607, 241.45384116930467, 21.724698579685903, 10.778983548215209, 112.67800015932274, 108.65433268437549, 25.54765660676394, 21.739309730056956, 34.03720460033002, 354.51206191344806, 83.32340622596907, 32.272649011539386, 29.32873266710525, 83.78638212487087, 406.5381284636792, 248.54335286806767, 187.669113349807, 81.78527319214263, 234.1794046712381, 205.70739425983314, 275.2457948671174, 230.54843760037218, 147.812965403185, 292.61920417991536, 738.1441304904413, 189.0790551252701, 51.20371926346524, 307.0605450583058, 214.12751125724898, 164.90886231056288, 239.77386200079786, 155.33262507668786, 97.44651910284779, 130.9643356217076, 158.62760859286604, 286.22905099867535, 315.74566934534454, 14.435985210336453, 7.667327332238016, 5.978053222876298, 5.994435074624658, 3.439505960049698, 3.4395843934570185, 3.4396370336667226, 3.438957849982348, 3.4380232485550923, 3.4372877270814017, 3.438784463044393, 4.307143011419094, 3.4406472616095938, 3.4405616815593136, 6.872569263259988, 3.440040457442273, 10.276360225467705, 3.463004715923243, 6.020969560259675, 2.593776028410571, 2.593829983414077, 2.593870440542989, 2.59386020583516, 2.593819710379016, 2.5938493379569865, 2.593817580720311, 2.5938184749025694, 2.5938225655130283, 2.593852199047296, 2.5938532879736615, 19.670456420594796, 6.869827314468546, 18.18513875157639, 6.133191069435664, 11.389917620344404, 12.287972789085561, 24.532440010512417, 102.35107249353628, 20.46990988985342, 7.853166770227709, 12.234408115391293, 16.097848059187825, 99.13974626181805, 242.41659544530845, 22.011868856970793, 24.39679643731793, 85.96962382101589, 73.77654249972363, 22.037007648825863, 22.61816389947472, 32.150542492956006, 47.50704644024072, 71.43581920690764, 33.41556812809624, 286.22905099867535, 187.669113349807, 354.51206191344806, 406.5381284636792, 129.35659702832336, 36.899163753134715, 251.42402425509886, 138.56942903804585, 72.46775868829735, 108.27904729497656, 41.96228995601988, 81.78527319214263, 94.98343767391664, 263.3963085945163, 307.0605450583058, 171.55846700873607, 738.1441304904413, 292.61920417991536, 158.20059220837751, 214.12751125724898, 241.45384116930467, 151.85568131620124, 189.0790551252701, 234.1794046712381], \"Category\": [\"Default\", \"Default\", \"Default\", \"Default\", \"Default\", \"Default\", \"Default\", \"Default\", \"Default\", \"Default\", \"Default\", \"Default\", \"Default\", \"Default\", \"Default\", \"Default\", \"Default\", \"Default\", \"Default\", \"Default\", \"Default\", \"Default\", \"Default\", \"Default\", \"Default\", \"Default\", \"Default\", \"Default\", \"Default\", \"Default\", \"Topic1\", \"Topic1\", \"Topic1\", \"Topic1\", \"Topic1\", \"Topic1\", \"Topic1\", \"Topic1\", \"Topic1\", \"Topic1\", \"Topic1\", \"Topic1\", \"Topic1\", \"Topic1\", \"Topic1\", \"Topic1\", \"Topic1\", \"Topic1\", \"Topic1\", \"Topic1\", \"Topic1\", \"Topic1\", \"Topic1\", \"Topic1\", \"Topic1\", \"Topic1\", \"Topic1\", \"Topic1\", \"Topic1\", \"Topic1\", \"Topic1\", \"Topic1\", \"Topic1\", \"Topic1\", \"Topic1\", \"Topic1\", \"Topic1\", \"Topic1\", \"Topic1\", \"Topic1\", \"Topic1\", \"Topic1\", \"Topic1\", \"Topic1\", \"Topic1\", \"Topic1\", \"Topic1\", \"Topic1\", \"Topic1\", \"Topic1\", \"Topic1\", \"Topic1\", \"Topic1\", \"Topic1\", \"Topic1\", \"Topic1\", \"Topic1\", \"Topic1\", \"Topic1\", \"Topic1\", \"Topic1\", \"Topic1\", \"Topic1\", \"Topic1\", \"Topic1\", \"Topic1\", \"Topic1\", \"Topic1\", \"Topic1\", \"Topic1\", \"Topic1\", \"Topic1\", \"Topic1\", \"Topic1\", \"Topic1\", \"Topic1\", \"Topic1\", \"Topic1\", \"Topic2\", \"Topic2\", \"Topic2\", \"Topic2\", \"Topic2\", \"Topic2\", \"Topic2\", \"Topic2\", \"Topic2\", \"Topic2\", \"Topic2\", \"Topic2\", \"Topic2\", \"Topic2\", \"Topic2\", \"Topic2\", \"Topic2\", \"Topic2\", \"Topic2\", \"Topic2\", \"Topic2\", \"Topic2\", \"Topic2\", \"Topic2\", \"Topic2\", \"Topic2\", \"Topic2\", \"Topic2\", \"Topic2\", \"Topic2\", \"Topic2\", \"Topic2\", \"Topic2\", \"Topic2\", \"Topic2\", \"Topic2\", \"Topic2\", \"Topic2\", \"Topic2\", \"Topic2\", \"Topic2\", \"Topic2\", \"Topic2\", \"Topic2\", \"Topic2\", \"Topic2\", \"Topic2\", \"Topic2\", \"Topic2\", \"Topic2\", \"Topic2\", \"Topic2\", \"Topic2\", \"Topic2\", \"Topic2\", \"Topic2\", \"Topic2\", \"Topic2\", \"Topic2\", \"Topic2\", \"Topic2\", \"Topic2\", \"Topic2\", \"Topic2\", \"Topic2\", \"Topic2\", \"Topic2\", \"Topic2\", \"Topic2\", \"Topic2\", \"Topic2\", \"Topic2\", \"Topic2\", \"Topic2\", \"Topic2\", \"Topic2\", \"Topic2\", \"Topic2\", \"Topic2\", \"Topic2\", \"Topic3\", \"Topic3\", \"Topic3\", \"Topic3\", \"Topic3\", \"Topic3\", \"Topic3\", \"Topic3\", \"Topic3\", \"Topic3\", \"Topic3\", \"Topic3\", \"Topic3\", \"Topic3\", \"Topic3\", \"Topic3\", \"Topic3\", \"Topic3\", \"Topic3\", \"Topic3\", \"Topic3\", \"Topic3\", \"Topic3\", \"Topic3\", \"Topic3\", \"Topic3\", \"Topic3\", \"Topic3\", \"Topic3\", \"Topic3\", \"Topic3\", \"Topic3\", \"Topic3\", \"Topic3\", \"Topic3\", \"Topic3\", \"Topic3\", \"Topic3\", \"Topic3\", \"Topic3\", \"Topic3\", \"Topic3\", \"Topic3\", \"Topic3\", \"Topic3\", \"Topic3\", \"Topic3\", \"Topic3\", \"Topic3\", \"Topic3\", \"Topic3\", \"Topic3\", \"Topic3\", \"Topic3\", \"Topic3\", \"Topic3\", \"Topic3\", \"Topic3\", \"Topic3\", \"Topic3\", \"Topic3\", \"Topic3\", \"Topic3\", \"Topic3\", \"Topic3\", \"Topic3\", \"Topic3\", \"Topic3\", \"Topic3\", \"Topic3\", \"Topic3\", \"Topic4\", \"Topic4\", \"Topic4\", \"Topic4\", \"Topic4\", \"Topic4\", \"Topic4\", \"Topic4\", \"Topic4\", \"Topic4\", \"Topic4\", \"Topic4\", \"Topic4\", \"Topic4\", \"Topic4\", \"Topic4\", \"Topic4\", \"Topic4\", \"Topic4\", \"Topic4\", \"Topic4\", \"Topic4\", \"Topic4\", \"Topic4\", \"Topic4\", \"Topic4\", \"Topic4\", \"Topic4\", \"Topic4\", \"Topic4\", \"Topic4\", \"Topic4\", \"Topic4\", \"Topic4\", \"Topic4\", \"Topic4\", \"Topic4\", \"Topic4\", \"Topic4\", \"Topic4\", \"Topic4\", \"Topic4\", \"Topic4\", \"Topic4\", \"Topic4\", \"Topic4\", \"Topic4\", \"Topic4\", \"Topic4\", \"Topic4\", \"Topic4\", \"Topic4\", \"Topic4\", \"Topic4\", \"Topic4\", \"Topic4\", \"Topic4\", \"Topic4\", \"Topic4\", \"Topic4\", \"Topic4\", \"Topic4\", \"Topic4\", \"Topic4\", \"Topic4\", \"Topic4\", \"Topic4\", \"Topic4\", \"Topic4\", \"Topic4\", \"Topic4\", \"Topic4\", \"Topic4\", \"Topic4\", \"Topic4\", \"Topic4\", \"Topic4\", \"Topic5\", \"Topic5\", \"Topic5\", \"Topic5\", \"Topic5\", \"Topic5\", \"Topic5\", \"Topic5\", \"Topic5\", \"Topic5\", \"Topic5\", \"Topic5\", \"Topic5\", \"Topic5\", \"Topic5\", \"Topic5\", \"Topic5\", \"Topic5\", \"Topic5\", \"Topic5\", \"Topic5\", \"Topic5\", \"Topic5\", \"Topic5\", \"Topic5\", \"Topic5\", \"Topic5\", \"Topic5\", \"Topic5\", \"Topic5\", \"Topic5\", \"Topic5\", \"Topic5\", \"Topic5\", \"Topic5\", \"Topic5\", \"Topic5\", \"Topic5\", \"Topic5\", \"Topic5\", \"Topic5\", \"Topic5\", \"Topic5\", \"Topic5\", \"Topic5\", \"Topic5\", \"Topic5\", \"Topic5\", \"Topic5\", \"Topic5\", \"Topic5\", \"Topic5\", \"Topic5\", \"Topic5\", \"Topic5\", \"Topic5\", \"Topic5\", \"Topic5\", \"Topic5\", \"Topic5\", \"Topic5\", \"Topic5\", \"Topic5\", \"Topic5\", \"Topic5\", \"Topic5\", \"Topic5\", \"Topic5\", \"Topic5\", \"Topic5\", \"Topic5\", \"Topic5\", \"Topic5\", \"Topic5\", \"Topic5\", \"Topic5\", \"Topic5\", \"Topic5\", \"Topic6\", \"Topic6\", \"Topic6\", \"Topic6\", \"Topic6\", \"Topic6\", \"Topic6\", \"Topic6\", \"Topic6\", \"Topic6\", \"Topic6\", \"Topic6\", \"Topic6\", \"Topic6\", \"Topic6\", \"Topic6\", \"Topic6\", \"Topic6\", \"Topic6\", \"Topic6\", \"Topic6\", \"Topic6\", \"Topic6\", \"Topic6\", \"Topic6\", \"Topic6\", \"Topic6\", \"Topic6\", \"Topic6\", \"Topic6\", \"Topic6\", \"Topic6\", \"Topic6\", \"Topic6\", \"Topic6\", \"Topic6\", \"Topic6\", \"Topic6\", \"Topic6\", \"Topic6\", \"Topic6\", \"Topic6\", \"Topic6\", \"Topic6\", \"Topic6\", \"Topic6\", \"Topic6\", \"Topic6\", \"Topic6\", \"Topic6\", \"Topic6\", \"Topic6\", \"Topic6\", \"Topic6\", \"Topic6\", \"Topic6\", \"Topic6\", \"Topic6\", \"Topic6\", \"Topic6\", \"Topic6\", \"Topic6\", \"Topic6\", \"Topic6\", \"Topic6\", \"Topic6\", \"Topic6\", \"Topic6\", \"Topic6\", \"Topic6\", \"Topic6\", \"Topic6\", \"Topic6\", \"Topic6\", \"Topic6\", \"Topic6\", \"Topic6\", \"Topic6\"], \"logprob\": [30.0, 29.0, 28.0, 27.0, 26.0, 25.0, 24.0, 23.0, 22.0, 21.0, 20.0, 19.0, 18.0, 17.0, 16.0, 15.0, 14.0, 13.0, 12.0, 11.0, 10.0, 9.0, 8.0, 7.0, 6.0, 5.0, 4.0, 3.0, 2.0, 1.0, -6.1557, -6.1112, -6.4567, -6.6746, -6.6881, -6.2066, -6.9529, -7.059, -6.8588, -7.061, -4.4461, -5.3892, -6.9613, -7.1898, -7.1914, -7.1979, -6.7966, -5.3938, -7.0888, -7.3397, -7.3402, -7.3407, -7.3408, -7.3412, -7.217, -7.3502, -7.3541, -7.2262, -7.5163, -7.5174, -5.2343, -5.5999, -5.3696, -5.5069, -6.3163, -5.7217, -5.216, -3.7212, -5.769, -5.2787, -5.8583, -5.7149, -5.1513, -6.0232, -5.8437, -3.2301, -5.5331, -4.2507, -4.3804, -5.9394, -5.7635, -4.4446, -4.9288, -4.3895, -4.3692, -4.4789, -4.7395, -4.5121, -4.5416, -5.3049, -4.6171, -4.5966, -4.5906, -4.8893, -4.985, -4.8145, -4.7881, -4.4468, -4.5315, -4.8371, -4.906, -4.9749, -4.86, -4.8935, -4.9328, -4.9807, -5.0793, -5.045, -6.055, -5.8542, -6.57, -6.5731, -6.8949, -6.8965, -5.6994, -6.9264, -7.1103, -7.1119, -6.3368, -5.8458, -7.1375, -6.8157, -5.3958, -7.3845, -7.3851, -7.3851, -7.3853, -7.3853, -7.3853, -7.3853, -7.3866, -7.3866, -7.3876, -6.833, -7.169, -7.3911, -7.3967, -7.3968, -6.0028, -6.4956, -6.4034, -4.7684, -5.4909, -5.8301, -6.4675, -4.2458, -6.3305, -6.2661, -6.8833, -5.3969, -5.51, -3.3338, -5.3829, -5.8325, -5.1371, -4.8714, -5.2164, -4.6601, -4.8659, -5.4539, -5.91, -4.4765, -5.0571, -4.0566, -4.1797, -4.2709, -5.2254, -4.3612, -5.1643, -4.5989, -4.1454, -4.5254, -4.8057, -5.3758, -4.5574, -4.6918, -4.9066, -4.3706, -4.859, -4.9782, -5.1073, -5.1187, -4.9123, -4.8408, -5.0156, -5.0659, -5.1155, -5.1132, -4.2341, -5.1599, -6.2316, -6.5835, -6.7297, -6.9116, -6.9124, -6.406, -7.1216, -7.122, -7.1226, -7.1235, -7.1253, -7.1282, -6.9579, -6.6934, -7.396, -7.3962, -7.3964, -7.3967, -7.397, -7.3972, -7.398, -7.3979, -7.3987, -7.174, -7.1835, -6.5211, -7.0496, -4.5732, -5.8141, -5.7007, -5.1286, -6.1717, -5.3088, -6.5739, -6.0443, -5.8545, -4.9349, -4.5859, -3.6986, -3.7957, -3.7682, -3.6335, -5.2582, -5.4978, -4.791, -4.5513, -5.6118, -4.3553, -5.6871, -4.3767, -5.4288, -5.5046, -4.2653, -4.5645, -4.4343, -5.025, -4.6859, -4.6957, -4.6949, -4.1918, -4.8461, -4.9246, -5.3779, -4.8746, -5.1933, -5.0579, -5.0971, -5.1224, -5.2074, -6.1812, -6.8558, -7.0691, -7.0699, -7.07, -7.0701, -7.0776, -6.9085, -6.6293, -6.5365, -7.3433, -7.344, -7.3441, -7.3446, -7.3445, -7.345, -7.3457, -6.9362, -6.7919, -7.3462, -6.5431, -7.3469, -7.3497, -7.35, -6.6651, -7.3601, -5.4561, -6.8802, -5.8272, -7.7231, -6.5352, -5.6726, -6.659, -6.3449, -5.2448, -6.2369, -5.6228, -5.3604, -5.6782, -4.0567, -4.3944, -6.6647, -6.4275, -3.8424, -5.6871, -4.6939, -3.2592, -4.1164, -5.0071, -5.9704, -5.996, -4.1851, -5.5461, -4.6676, -4.769, -4.8032, -4.4997, -5.5884, -5.3999, -4.3296, -4.2913, -4.4663, -4.282, -5.5507, -5.119, -4.796, -5.1166, -4.8644, -5.0193, -4.7945, -4.9067, -4.825, -4.9976, -4.9879, -4.9549, -5.1608, -5.1273, -6.0693, -6.4248, -6.5649, -6.5656, -6.5669, -6.7417, -6.7468, -6.9561, -6.9561, -6.9571, -6.9582, -6.9593, -5.7992, -6.9622, -6.9677, -6.9748, -6.9764, -6.1176, -6.5359, -7.2305, -7.2305, -7.2308, -7.2309, -7.2312, -7.232, -7.2329, -7.2332, -7.2448, -7.036, -7.2935, -6.285, -5.9431, -6.7325, -6.3512, -6.6479, -6.7789, -4.5588, -5.5204, -6.8997, -5.2673, -5.8728, -4.211, -4.1505, -5.8754, -6.3682, -4.8124, -4.8379, -5.7964, -5.9083, -5.6273, -4.1552, -5.0732, -5.6781, -5.7425, -5.0814, -4.1202, -4.4656, -4.6941, -5.2345, -4.691, -4.7655, -4.6479, -4.7556, -4.9934, -4.691, -4.2671, -4.9362, -5.5093, -4.8073, -4.972, -5.0726, -4.935, -5.1084, -5.3154, -5.2284, -5.2095, -5.1874, -5.2434, -5.1965, -5.8794, -6.1672, -6.1881, -6.8241, -6.8242, -6.8243, -6.8259, -6.8274, -6.8288, -6.8293, -6.606, -6.8321, -6.8324, -6.1435, -6.8389, -5.7827, -6.9006, -6.3545, -7.2035, -7.2035, -7.2035, -7.2035, -7.2037, -7.2038, -7.2039, -7.2039, -7.2039, -7.2039, -7.204, -5.2422, -6.2978, -5.4129, -6.4222, -5.8968, -5.8392, -5.2512, -4.0434, -5.5139, -6.3109, -5.9593, -5.8043, -4.5393, -4.1749, -5.6785, -5.6482, -4.9061, -5.0083, -5.7232, -5.712, -5.5218, -5.2979, -5.0692, -5.5057, -4.3601, -4.597, -4.2828, -4.2141, -4.8478, -5.4743, -4.652, -4.9522, -5.2268, -5.0851, -5.4403, -5.1948, -5.1437, -4.7896, -4.7607, -4.9752, -4.5123, -4.8219, -5.0508, -4.9808, -4.9781, -5.0921, -5.1329, -5.1117], \"loglift\": [30.0, 29.0, 28.0, 27.0, 26.0, 25.0, 24.0, 23.0, 22.0, 21.0, 20.0, 19.0, 18.0, 17.0, 16.0, 15.0, 14.0, 13.0, 12.0, 11.0, 10.0, 9.0, 8.0, 7.0, 6.0, 5.0, 4.0, 3.0, 2.0, 1.0, 1.136, 1.1343, 1.1089, 1.0993, 1.0873, 1.0869, 1.0841, 1.0831, 1.0829, 1.0813, 1.0802, 1.0792, 1.0759, 1.0709, 1.0694, 1.063, 1.0595, 1.0567, 1.0562, 1.0553, 1.0549, 1.0544, 1.0544, 1.0542, 1.0464, 1.0455, 1.0419, 1.0374, 1.034, 1.0332, 1.0315, 1.0319, 1.0229, 1.0108, 1.0261, 1.0122, 0.9862, 0.9217, 0.9956, 0.9614, 0.9892, 0.9411, 0.8811, 0.9257, 0.887, 0.4464, 0.8101, 0.5503, 0.5337, 0.8754, 0.812, 0.3956, 0.5116, 0.2735, 0.2547, 0.2985, 0.3997, 0.2819, 0.2568, 0.6176, 0.2075, 0.1934, 0.1744, 0.3248, 0.3643, 0.1988, 0.155, -0.1738, -0.1216, 0.1171, 0.14, 0.242, -0.1065, -0.3399, -0.407, -0.2737, 0.1558, -0.4432, 1.7112, 1.7046, 1.6833, 1.6803, 1.6481, 1.6468, 1.6389, 1.6196, 1.6169, 1.6156, 1.6011, 1.6008, 1.5917, 1.576, 1.5735, 1.5688, 1.5683, 1.5683, 1.5681, 1.5681, 1.5681, 1.5681, 1.567, 1.567, 1.5663, 1.5635, 1.5627, 1.5626, 1.5576, 1.5576, 1.5554, 1.5473, 1.5307, 1.4165, 1.4564, 1.4615, 1.4891, 1.2474, 1.4535, 1.444, 1.5081, 1.2945, 1.2971, 0.9616, 1.2588, 1.3277, 1.156, 1.0558, 1.1285, 0.9427, 0.9608, 1.1432, 1.277, 0.6988, 0.9225, 0.4692, 0.4833, 0.4826, 0.9128, 0.4162, 0.8029, 0.4397, 0.1276, 0.2397, 0.4084, 0.9022, -0.1474, -0.0679, 0.2325, -0.6941, 0.0952, 0.3065, 0.5066, 0.5214, -0.0721, -0.2871, 0.0304, 0.1692, 0.1013, -0.0998, 1.8221, 1.8058, 1.7698, 1.736, 1.7228, 1.6952, 1.6939, 1.6868, 1.6664, 1.6661, 1.6656, 1.6648, 1.6629, 1.6597, 1.6456, 1.6235, 1.6143, 1.6141, 1.614, 1.6138, 1.6135, 1.6134, 1.6125, 1.6125, 1.612, 1.6116, 1.6057, 1.5723, 1.5491, 1.5424, 1.5325, 1.5218, 1.4492, 1.504, 1.4044, 1.5318, 1.4598, 1.4087, 1.2488, 1.1411, 0.855, 0.8061, 0.7575, 0.6619, 1.133, 1.1913, 0.9744, 0.8177, 1.1542, 0.4693, 1.0845, 0.3769, 0.883, 0.9152, 0.0077, 0.1425, -0.0244, 0.4362, 0.1041, 0.1027, 0.0824, -0.5153, 0.0971, 0.0887, 0.7602, -0.2317, 0.2955, -0.2177, -0.2961, -0.3284, -0.5443, 1.7964, 1.7289, 1.6979, 1.6972, 1.6971, 1.697, 1.6903, 1.6749, 1.6693, 1.6473, 1.6473, 1.6468, 1.6466, 1.6462, 1.6462, 1.6457, 1.6452, 1.6451, 1.6448, 1.6444, 1.6441, 1.6437, 1.6412, 1.6407, 1.6391, 1.6312, 1.5758, 1.5602, 1.5565, 1.5559, 1.5468, 1.4727, 1.5336, 1.4662, 1.2704, 1.4446, 1.318, 1.2606, 1.319, 0.9818, 1.0114, 1.5053, 1.451, 0.8646, 1.2403, 0.9462, 0.4173, 0.682, 0.9753, 1.258, 1.2632, 0.4388, 1.0289, 0.5901, 0.5999, 0.6149, 0.4434, 1.0242, 0.861, 0.0804, 0.0041, 0.1356, -0.009, 0.9055, 0.5388, 0.1181, 0.3237, -0.0704, 0.1199, -0.2687, -0.1167, -0.2714, 0.0157, -0.0337, -0.1898, -0.025, -0.35, 1.95, 1.9111, 1.9047, 1.9039, 1.9028, 1.881, 1.8756, 1.8476, 1.8476, 1.8468, 1.8459, 1.8449, 1.8431, 1.8413, 1.8355, 1.8285, 1.8263, 1.8123, 1.8036, 1.7946, 1.7945, 1.7943, 1.7942, 1.7939, 1.7932, 1.7922, 1.7919, 1.7807, 1.7636, 1.7296, 1.7286, 1.6854, 1.7249, 1.648, 1.6866, 1.6952, 1.1899, 1.3949, 1.712, 1.2766, 1.4305, 0.9247, 0.6435, 1.3268, 1.5349, 0.7438, 0.7546, 1.2438, 1.2932, 1.1259, 0.2547, 0.7848, 1.1283, 1.1596, 0.771, 0.1528, 0.2994, 0.3519, 0.6421, 0.1336, 0.1887, 0.0151, 0.0847, 0.2913, -0.0891, -0.5906, 0.1023, 0.8356, -0.2537, -0.0579, 0.1027, -0.134, 0.1267, 0.3859, 0.1773, 0.0046, -0.5635, -0.7177, 2.4144, 2.3643, 2.3254, 2.3017, 2.2212, 2.2211, 2.221, 2.2196, 2.2184, 2.2172, 2.2162, 2.2144, 2.2129, 2.2126, 2.2096, 2.2063, 2.1682, 2.1379, 2.131, 2.1241, 2.1241, 2.1241, 2.124, 2.1239, 2.1238, 2.1237, 2.1237, 2.1237, 2.1237, 2.1236, 2.0593, 2.0558, 1.9672, 2.0448, 1.9511, 1.9329, 1.8295, 1.6089, 1.7479, 1.9089, 1.8171, 1.6977, 1.1448, 0.6151, 1.5106, 1.438, 0.9206, 0.9714, 1.4647, 1.4499, 1.2885, 1.1219, 0.9427, 1.266, 0.2638, 0.449, 0.1271, 0.0589, 0.5703, 1.1982, 0.1016, 0.3971, 0.7707, 0.5109, 1.1036, 0.6818, 0.5833, -0.0826, -0.2071, 0.1606, -0.8357, -0.2201, 0.166, -0.0667, -0.1841, 0.1657, -0.0944, -0.2871]}, \"token.table\": {\"Topic\": [1, 2, 3, 4, 5, 6, 2, 4, 3, 4, 1, 6, 4, 5, 6, 1, 2, 3, 4, 5, 6, 1, 2, 3, 5, 1, 6, 1, 2, 3, 4, 5, 6, 3, 6, 6, 1, 2, 3, 4, 5, 6, 1, 6, 1, 2, 3, 4, 5, 6, 5, 1, 2, 5, 6, 1, 2, 3, 5, 1, 2, 3, 4, 5, 6, 2, 1, 2, 3, 5, 1, 5, 1, 2, 3, 4, 5, 6, 3, 4, 5, 6, 3, 3, 1, 2, 3, 4, 5, 6, 1, 4, 5, 6, 5, 3, 1, 3, 4, 6, 1, 2, 3, 4, 5, 3, 5, 1, 1, 2, 3, 4, 5, 6, 3, 1, 2, 5, 6, 1, 2, 3, 4, 5, 6, 5, 1, 2, 4, 6, 1, 2, 3, 4, 6, 2, 1, 2, 3, 4, 5, 6, 5, 4, 3, 1, 3, 4, 5, 6, 4, 6, 2, 4, 5, 4, 2, 6, 1, 5, 6, 1, 3, 4, 6, 3, 2, 4, 2, 3, 5, 6, 1, 2, 3, 4, 5, 3, 2, 4, 4, 6, 6, 5, 6, 6, 1, 2, 3, 4, 5, 6, 2, 3, 4, 5, 6, 1, 2, 5, 3, 4, 6, 3, 6, 4, 5, 6, 6, 1, 2, 3, 4, 5, 6, 2, 5, 6, 4, 1, 3, 4, 6, 2, 1, 2, 3, 4, 5, 6, 1, 2, 3, 4, 5, 6, 2, 5, 1, 2, 1, 2, 3, 4, 5, 6, 1, 2, 3, 4, 5, 6, 1, 1, 4, 5, 6, 6, 1, 2, 3, 4, 5, 6, 5, 1, 2, 3, 1, 2, 3, 4, 5, 6, 2, 1, 2, 4, 5, 6, 6, 1, 5, 6, 2, 1, 3, 5, 3, 4, 2, 6, 1, 2, 3, 4, 5, 6, 1, 3, 1, 3, 1, 5, 6, 1, 2, 3, 5, 6, 1, 2, 3, 4, 5, 6, 1, 2, 3, 4, 5, 6, 1, 2, 3, 4, 5, 6, 3, 4, 5, 5, 5, 5, 2, 5, 2, 3, 4, 5, 6, 1, 1, 2, 3, 4, 5, 6, 1, 1, 2, 3, 4, 5, 6, 1, 2, 3, 4, 5, 6, 1, 4, 5, 1, 2, 3, 4, 5, 6, 1, 2, 3, 4, 5, 6, 3, 1, 2, 3, 4, 5, 6, 4, 3, 4, 1, 2, 5, 1, 2, 5, 1, 2, 3, 4, 5, 6, 2, 1, 2, 3, 4, 5, 6, 2, 1, 3, 5, 6, 1, 2, 3, 4, 5, 6, 1, 2, 3, 4, 5, 1, 1, 2, 3, 4, 5, 6, 1, 1, 3, 4, 6, 1, 2, 3, 4, 5, 6, 1, 4, 1, 5, 6, 2, 3, 5, 6, 1, 2, 4, 5, 6, 1, 2, 4, 1, 5, 6, 5, 5, 1, 5, 1, 2, 3, 4, 5, 6, 1, 4, 5, 1, 3, 4, 5, 6, 1, 2, 3, 4, 5, 6, 1, 2, 5, 1, 4, 1, 2, 3, 4, 5, 6, 1, 2, 3, 4, 5, 6, 1, 5, 6, 1, 3, 4, 1, 2, 3, 4, 5, 6, 1, 3, 5, 2, 6, 1, 2, 3, 4, 5, 6, 1, 1, 2, 3, 4, 5, 6, 1, 2, 3, 4, 5, 6, 6, 1, 5, 1, 2, 4, 5, 6, 1, 2, 3, 4, 5, 6, 1, 2, 3, 4, 5, 6, 2, 1, 2, 4, 6, 1, 2, 1, 2, 3, 4, 5, 6, 1, 2, 3, 4, 5, 2, 5, 1, 1, 4, 5, 6, 1, 2, 3, 4, 5, 6, 4, 2, 1, 2, 5, 1, 2, 3, 4, 5, 6, 1, 2, 3, 4, 5, 6, 3, 1, 2, 3, 4, 5, 6, 4, 1, 1, 2, 3, 4, 5, 1, 3, 1, 2, 3, 4, 5, 6, 1, 2, 4, 5, 6, 1, 2, 3, 4, 5, 6, 3, 4, 5, 6, 1, 3, 5, 6, 3, 6, 3, 3, 1, 3, 4, 5, 3, 4, 5, 1, 2, 3, 4, 5, 6, 2, 3, 4, 5, 6, 2, 4, 5, 4, 1, 2, 3, 4, 5, 6, 4, 1, 3, 1, 2, 4, 6, 4, 1, 1, 3, 4, 4, 5, 4, 6, 4, 6, 2, 4, 1, 3, 5, 6, 5, 1, 5, 2, 4, 5, 6, 1, 2, 3, 4, 5, 2, 1, 2, 5, 1, 2, 3, 4, 5, 6, 1, 2, 1, 2, 3, 4, 5, 6, 2, 3, 5, 3, 5, 6, 6, 2, 3, 4, 5, 1, 2, 3, 4, 5, 6, 3, 4, 1, 2, 3, 4, 5, 6, 6, 2, 3, 4, 5, 6, 1, 2, 3, 4, 6, 2, 2, 5, 6, 2, 6, 1, 2, 3, 4, 6, 1, 4, 5, 4, 1, 2, 3, 4, 5, 6, 2, 3, 4, 6, 1, 2, 4, 5, 6, 2, 4, 6, 1, 2, 3, 4, 5, 6, 1, 3, 6, 6, 1, 1, 2, 3, 4, 5, 6, 1, 2, 3, 4, 5, 6, 4, 3, 1, 2, 3, 4, 5, 1, 2, 3, 4, 5, 5, 3, 4, 2, 4, 1, 2, 3, 4, 5, 3, 2, 3, 5, 1, 5, 1, 1, 2, 3, 4, 5, 6, 1, 2, 4, 5, 2, 4, 5, 1, 2, 3, 4, 5, 5, 2, 4, 5, 6, 3, 3, 1, 2, 3, 4, 5, 6, 1, 1, 2, 3, 4, 5, 6, 1, 5, 2, 5, 6, 4, 6, 2, 3, 5, 6, 2, 4, 4, 3, 6, 1, 2, 3, 4, 5, 6, 5, 1, 2, 3, 4, 5, 6, 2, 1, 2, 1, 2, 3, 4, 5, 6, 4, 6, 1, 2, 3, 4, 5, 6, 1, 2, 3, 4, 5, 6, 5, 1, 4, 5, 3, 1, 1, 2, 3, 4, 5, 6, 2, 4, 6, 6, 5, 3, 5, 4, 1, 2, 3, 4, 5, 6, 3, 6, 1, 2, 3, 4, 5, 6, 3, 4, 1, 5, 3, 1, 2, 3, 4, 5, 6, 1, 3, 4, 5, 1, 2, 3, 4, 5, 6, 2, 4, 5, 1, 2, 3, 4, 5, 6, 6, 2, 4, 5], \"Freq\": [0.7018726056347754, 0.09748230633816325, 0.019496461267632652, 0.019496461267632652, 0.13647522887342856, 0.019496461267632652, 0.23292583662658994, 0.7375984826508681, 0.8421646399726763, 0.8263415137064432, 0.910417372888832, 0.872185050526084, 0.6656364602364454, 0.22187882007881515, 0.871928963330158, 0.11649267510367552, 0.6823142398929566, 0.11649267510367552, 0.016641810729096502, 0.033283621458193004, 0.04992543218728951, 0.9059900146876416, 0.022097317431405892, 0.022097317431405892, 0.044194634862811784, 0.9426180527005791, 0.7710536325523698, 0.38005050070456076, 0.08967483724489636, 0.2519435903547088, 0.06832368551992103, 0.14945806207482726, 0.06405345517492597, 0.16608620754376835, 0.6643448301750734, 0.8341069571619434, 0.18544551219754865, 0.5377919853728911, 0.03708910243950973, 0.03708910243950973, 0.12981185853828406, 0.0556336536592646, 0.9547759123649344, 0.83639268731607, 0.5760715276015488, 0.29443655855190276, 0.012801589502256641, 0.0640079475112832, 0.051206358009026565, 0.012801589502256641, 0.913656860965145, 0.3106005213626213, 0.12424020854504852, 0.06212010427252426, 0.4348407299076698, 0.264826586516305, 0.6179287018713783, 0.04413776441938416, 0.04413776441938416, 0.4474291366458411, 0.06494939080342854, 0.13711538058501582, 0.09381578671606346, 0.12989878160685708, 0.12268218262869837, 0.7955349274700015, 0.034096256778309, 0.136385027113236, 0.409155081339708, 0.409155081339708, 0.9313351154116536, 0.7619045389992649, 0.04209901793233572, 0.02104950896616786, 0.39994067035718933, 0.16839607172934287, 0.14734656276317504, 0.25259410759401435, 0.7298312185465051, 0.06211329519544725, 0.09316994279317087, 0.10869826659203267, 0.6750945859400557, 0.8423089278848721, 0.21819801038677172, 0.1270107821654343, 0.36800559960754037, 0.11724072199886242, 0.10095728838790931, 0.06839042116600308, 0.08173668808235739, 0.32694675232942955, 0.08173668808235739, 0.4904201284941443, 0.817412383495338, 0.9376349242340201, 0.17719693815614943, 0.17719693815614943, 0.5670302020996781, 0.035439387631229884, 0.07293108776666056, 0.8022419654332662, 0.03646554388333028, 0.03646554388333028, 0.07293108776666056, 0.6656395192537218, 0.3204931018629031, 0.9288183377596277, 0.16439303928509466, 0.4201155448396864, 0.18265893253899407, 0.20092482579289347, 0.036531786507798814, 0.018265893253899407, 0.8422322317792672, 0.41399658552895646, 0.045999620614328496, 0.45999620614328496, 0.045999620614328496, 0.06037176434057101, 0.4376952914691398, 0.30437431188371217, 0.15344490103228464, 0.03270137235114263, 0.010061960723428501, 0.8547334601572291, 0.15118635357222732, 0.7559317678611366, 0.7938372699165007, 0.15876745398330014, 0.8394384883038506, 0.03228609570399425, 0.03228609570399425, 0.0645721914079885, 0.03228609570399425, 0.7956355792301694, 0.5277229410481674, 0.03736091618040123, 0.060711488793151996, 0.1727942373343557, 0.12142297758630399, 0.07939194688335262, 0.8581240413750314, 0.8258070324965415, 0.8991266974113211, 0.7860223343291192, 0.07145657584810174, 0.03572828792405087, 0.07145657584810174, 0.03572828792405087, 0.7435487389176096, 0.24784957963920323, 0.36824446473473993, 0.09206111618368498, 0.5063361390102674, 0.8259235333796592, 0.7830243089184106, 0.19575607722960264, 0.24457412297467904, 0.20381176914556587, 0.5299105997784712, 0.08926984337283335, 0.505862445779389, 0.14878307228805557, 0.2678095301185, 0.8423442459424858, 0.7957015038186716, 0.8258131067632718, 0.11970468329810464, 0.4788187331924186, 0.11970468329810464, 0.2992617082452616, 0.3056205856561544, 0.04366008366516492, 0.19647037649324212, 0.3711107111539018, 0.06549012549774738, 0.8423888045518109, 0.18278370115001144, 0.7311348046000458, 0.7396019032074715, 0.12326698386791193, 0.7710765995572761, 0.8547078966648838, 0.9129648046416156, 0.7710636140195553, 0.2689809774232369, 0.09683315187236528, 0.1291108691631537, 0.0860739127754358, 0.430369563877179, 0.5775331436321179, 0.7134289687250904, 0.03567144843625452, 0.10701434530876357, 0.03567144843625452, 0.07134289687250904, 0.20425899501064274, 0.10212949750532137, 0.7149064825372495, 0.7045643233988006, 0.1409128646797601, 0.09394190978650675, 0.89927319831443, 0.7710548067434307, 0.8804076769318228, 0.1455640664931853, 0.7278203324659265, 0.9697987214600166, 0.026443965444439957, 0.2591508613555116, 0.08462068942220786, 0.40723706784437536, 0.14279741339997576, 0.07933189633331987, 0.9218775111555332, 0.30502596745635513, 0.6608895961554361, 0.8257092062903577, 0.8661378299410036, 0.01804453812377091, 0.07217815249508364, 0.03608907624754182, 0.8476918658315459, 0.2058618892058555, 0.26603690297372096, 0.3357132347049336, 0.11718292154794852, 0.06334211975564784, 0.012668423951129569, 0.7762119429172358, 0.003560605242739614, 0.1246211834958865, 0.028484841941916913, 0.06765149961205266, 0.003560605242739614, 0.37109250441915026, 0.6494118827335129, 0.886299856965956, 0.7963369453181215, 0.26441654376965895, 0.0587592319488131, 0.1175184638976262, 0.0587592319488131, 0.4113146236416917, 0.08813884792321965, 0.3069689998246048, 0.14933627018494286, 0.20741148636797618, 0.1576327296396619, 0.08296459454719048, 0.09126105400190952, 0.8678622517305069, 0.10490738055506298, 0.5245369027753148, 0.1748456342584383, 0.20981476111012595, 0.8720827667912224, 0.345150451472437, 0.1847284106472198, 0.12153184911001302, 0.14583821893201562, 0.15556076686081666, 0.04375146567960469, 0.9131029537150619, 0.14781737968961547, 0.14781737968961547, 0.7390868984480774, 0.35231150730063915, 0.08130265553091673, 0.21680708141577792, 0.02710088517697224, 0.02710088517697224, 0.2710088517697224, 0.795971263994079, 0.06946700200242956, 0.06946700200242956, 0.5325803486852932, 0.20840100600728867, 0.11577833667071592, 0.7710485337815597, 0.09529498362851524, 0.7623598690281219, 0.09529498362851524, 0.795750163125775, 0.8602816232632065, 0.10241447895990552, 0.020482895791981103, 0.8419738409376265, 0.1403289734896044, 0.3260945203495881, 0.6521890406991762, 0.7430013354636842, 0.014288487220455465, 0.07144243610227732, 0.10001941054318826, 0.02857697444091093, 0.02857697444091093, 0.8851234449291049, 0.08851234449291048, 0.9107075036278631, 0.8992489992421114, 0.8089604985523351, 0.1758609779461598, 0.01758609779461598, 0.04885219355536503, 0.3419653548875552, 0.04885219355536503, 0.04885219355536503, 0.48852193555365026, 0.4620574291419998, 0.21055781581154423, 0.058488282169873396, 0.16961601829263284, 0.029244141084936698, 0.07018593860384807, 0.3335175516305596, 0.3335175516305596, 0.05457559935772793, 0.07883142129449591, 0.14553493162060782, 0.048511643873535945, 0.33218997292038327, 0.058621759927126454, 0.10747322653306517, 0.009770293321187742, 0.07816234656950194, 0.42012261281107294, 0.10361179222747718, 0.10361179222747718, 0.7252825455923403, 0.8547267901555741, 0.9129478193595081, 0.8550658267891932, 0.7597620373949342, 0.15195240747898683, 0.5780929720163409, 0.07883085982041012, 0.21021562618776032, 0.02627695327347004, 0.07883085982041012, 0.9545862841893604, 0.08686632699687395, 0.2799026092121494, 0.15442902577222037, 0.39572437854131465, 0.03860725644305509, 0.04825907055381886, 0.9105181364824414, 0.4822906330820036, 0.08399443609855119, 0.09347767888387148, 0.2316620737556815, 0.07180169537456794, 0.03657822217194971, 0.4286769535467747, 0.25216291385104395, 0.03152036423138049, 0.11347331123296979, 0.13238552977179807, 0.04412850992393269, 0.337477587081566, 0.5624626451359434, 0.07499501935145911, 0.36613330813278605, 0.21324247616524902, 0.06839853009074026, 0.12472673134193811, 0.17703148964662183, 0.04828131535816959, 0.2784141261257392, 0.27045943680786094, 0.22670864555953046, 0.06761485920196524, 0.0636375145430261, 0.09147892715560002, 0.9371392018019635, 0.39932533976856777, 0.07487350120660646, 0.1747048361487484, 0.30365364378234844, 0.024957833735535485, 0.024957833735535485, 0.825811719727453, 0.9658251339116691, 0.014633714150176804, 0.08235922638685986, 0.7412330374817387, 0.16471845277371971, 0.3800390207077304, 0.06909800376504188, 0.5182350282378142, 0.14950827978368725, 0.09514163258961916, 0.2446499123733064, 0.40774985395551067, 0.05436664719406809, 0.05436664719406809, 0.7956191013179945, 0.4027772893635381, 0.1473575448890993, 0.11788603591127944, 0.26524358080037874, 0.05894301795563972, 0.009823836325939953, 0.8822441542514033, 0.11291454064367043, 0.649258608701105, 0.056457270321835215, 0.16937181096550566, 0.07149276179027074, 0.023830920596756917, 0.14298552358054148, 0.04766184119351383, 0.4766184119351383, 0.26214012656432606, 0.14318150285463055, 0.06136350122341309, 0.4909080097873047, 0.2863630057092611, 0.020454500407804364, 0.9267775760309613, 0.18156189297140038, 0.18156189297140038, 0.17147512113965593, 0.17147512113965593, 0.0302603154952334, 0.26225606762535614, 0.9612760837683879, 0.04543003624534664, 0.2271501812267332, 0.3634402899627731, 0.3634402899627731, 0.23870227467505448, 0.11935113733752724, 0.16709159227253811, 0.07161068240251633, 0.28644272961006534, 0.10741602360377452, 0.24228707186273468, 0.726861215588204, 0.9564834011503774, 0.19462143756341263, 0.7784857502536505, 0.5893573669827877, 0.04533518207559906, 0.2266759103779953, 0.09067036415119813, 0.15277052157070214, 0.15277052157070214, 0.05092350719023405, 0.5601585790925745, 0.1018470143804681, 0.09051186972783933, 0.18102373945567865, 0.6335830880948753, 0.4043477649824485, 0.24882939383535294, 0.31103674229419115, 0.913311957976246, 0.7620976873974851, 0.9105024342787332, 0.9135247121648872, 0.23538674604375526, 0.09871057092157479, 0.1822349001629073, 0.3644698003258146, 0.045558725040726826, 0.07593120840121137, 0.7997140835293755, 0.1599428167058751, 0.05331427223529169, 0.048726349811698044, 0.048726349811698044, 0.5359898479286785, 0.19490539924679218, 0.14617904943509413, 0.2765783909825907, 0.0921927969941969, 0.13828919549129534, 0.2765783909825907, 0.11194839635009624, 0.09877799677949668, 0.749883225327298, 0.1562256719431871, 0.062490268777274836, 0.9077173111798059, 0.05042873950998922, 0.4925778821236237, 0.06157223526545296, 0.09235835289817944, 0.1641926273745412, 0.1949787450072677, 0.010262039210908826, 0.3863787221629866, 0.08279544046349713, 0.12419316069524569, 0.05519696030899809, 0.16559088092699425, 0.17939012100424379, 0.8967716384579183, 0.6568822921161575, 0.16422057302903936, 0.10636635430107017, 0.7445644801074912, 0.15954953145160525, 0.1080128670639368, 0.24002859347541508, 0.1920228747803321, 0.14401715608524907, 0.28803431217049813, 0.02400285934754151, 0.21150489485709636, 0.07050163161903211, 0.7050163161903212, 0.8796664688852457, 0.8722182879882704, 0.39828242312317763, 0.1572167459696754, 0.024455938261949504, 0.23757197168750946, 0.07336781478584851, 0.10830486944577637, 0.9310211868648021, 0.3605166652681801, 0.199571725416314, 0.10944255909926896, 0.1287559518814929, 0.14806934466371685, 0.057940178346671804, 0.2986283008928217, 0.19370484382237085, 0.24213105477796357, 0.14527863286677814, 0.08878138675191997, 0.03228414063706181, 0.7710605601711567, 0.8319972743232522, 0.1485709418434379, 0.12566823248699627, 0.5278065764453844, 0.10053458598959703, 0.20106917197919405, 0.05026729299479851, 0.14507766492155375, 0.13744199834673512, 0.09926366547264204, 0.419961661615024, 0.15271333149637237, 0.045813999448911714, 0.0669294926741048, 0.3748051589749869, 0.2409461736267773, 0.09370128974374672, 0.1338589853482096, 0.08031539120892577, 0.7956012065084926, 0.15098932925238065, 0.704616869844443, 0.05032977641746022, 0.05032977641746022, 0.1913914253772359, 0.7655657015089437, 0.273615513888162, 0.14385970317831198, 0.15232203865938918, 0.16642593112785112, 0.1692467096215435, 0.09590646878554132, 0.7468517773164676, 0.11490027343330271, 0.028725068358325678, 0.028725068358325678, 0.057450136716651355, 0.8460940433418318, 0.8173149406083278, 0.9427469946267985, 0.09075642355220404, 0.36302569420881614, 0.18151284710440807, 0.36302569420881614, 0.36056556499251313, 0.1394186851304384, 0.1730714711964063, 0.23556950246177524, 0.04326786779910158, 0.048075408665668416, 0.825737225090732, 0.8799345603714411, 0.15657013328341704, 0.3914253332085426, 0.4697103998502511, 0.39190750890701653, 0.18331157674683032, 0.15170613248013542, 0.11377959936010157, 0.056889799680050784, 0.10113742165342363, 0.13948244818109476, 0.42774617442202395, 0.04649414939369826, 0.13018361830235511, 0.14878127805983443, 0.11158595854487582, 0.8423758672513362, 0.010528151270256768, 0.06316890762154061, 0.4948231097020681, 0.20003487413487858, 0.08422521016205414, 0.14739411778359474, 0.8258074951101156, 0.8860867501686034, 0.20579960588007218, 0.4759115885976669, 0.06431237683752256, 0.2186620812475767, 0.025724950735009022, 0.1860135254875911, 0.7440541019503644, 0.170072501174277, 0.15461136470388817, 0.10822795529272172, 0.2860310247021931, 0.13141965999830493, 0.14688079646869376, 0.9131121808655656, 0.03445706342888927, 0.017228531714444634, 0.017228531714444634, 0.02584279757166695, 0.17003814015909918, 0.13225188679041047, 0.37786253368688705, 0.03778625336868871, 0.15114501347475484, 0.13225188679041047, 0.07433455216982778, 0.6690109695284501, 0.14866910433965555, 0.07433455216982778, 0.3098599063381629, 0.2788739157043466, 0.4028178782396118, 0.030985990633816293, 0.6816753136973929, 0.22722510456579761, 0.8421791715090364, 0.7476200052024391, 0.3307762693243364, 0.04725375276061949, 0.5197912803668143, 0.04725375276061949, 0.6359923832311508, 0.14676747305334248, 0.14676747305334248, 0.0677722190629729, 0.42018775819043197, 0.08132666287556747, 0.14909888193854037, 0.0677722190629729, 0.21687110100151327, 0.6076197360665825, 0.16571447347270432, 0.11047631564846955, 0.08285723673635216, 0.027619078912117387, 0.2608867004246109, 0.6522167510615272, 0.04348111673743515, 0.8995029314316882, 0.5739417627625585, 0.027997159159149194, 0.013998579579574597, 0.16798295495489515, 0.013998579579574597, 0.20997869369361893, 0.9170557493664401, 0.11215220928632152, 0.8972176742905722, 0.39791028308044996, 0.13263676102681665, 0.0884245073512111, 0.3536980294048444, 0.8259923871694753, 0.8981885293130024, 0.08462093603117682, 0.16924187206235364, 0.6769674882494146, 0.7370884438605451, 0.12284807397675752, 0.831334779729017, 0.13855579662150283, 0.8804459914068263, 0.7710515761415325, 0.9217232038533013, 0.7345487408794321, 0.6887085808850885, 0.049193470063220605, 0.22137061528449273, 0.024596735031610303, 0.9133084908457852, 0.16149760706726665, 0.8074880353363333, 0.5077756142326063, 0.09764915658319354, 0.2929474697495806, 0.07811932526655482, 0.18599439294779951, 0.08752677315190566, 0.4157521724715519, 0.18599439294779951, 0.13129015972785849, 0.7954943138320762, 0.8899357998275792, 0.02170575121530681, 0.08682300486122724, 0.5338363361706793, 0.08341192752666865, 0.1167766985373361, 0.09592371665566894, 0.11260610216100267, 0.05421775289233462, 0.13142769659151243, 0.7885661795490746, 0.024999702357319395, 0.5833263883374525, 0.17499791650123578, 0.15833144826302284, 0.04166617059553233, 0.016666468238212932, 0.6884059755936045, 0.15297910568746767, 0.07648955284373384, 0.14281806214274032, 0.7140903107137017, 0.8724012895370789, 0.8719506515692971, 0.849903655771539, 0.684765093627794, 0.2490054885919251, 0.06225137214798127, 0.37538684112297294, 0.10725338317799225, 0.17325546513367981, 0.13612929403360557, 0.05362669158899613, 0.15675494464475792, 0.7855644512139689, 0.11222349303056697, 0.206066401317107, 0.05151660032927675, 0.3532566879721834, 0.2796615446446452, 0.08095465766029203, 0.02943805733101528, 0.6965173879869794, 0.4129343392063523, 0.33352388935897687, 0.07941044984737544, 0.1270567197558007, 0.03176417993895018, 0.1639559525889843, 0.3279119051779686, 0.040988988147246073, 0.08197797629449215, 0.3689008933252147, 0.9204637395577298, 0.7958915447331667, 0.8612069273492008, 0.14353448789153347, 0.7955554973682537, 0.7710639812892555, 0.4795276753316538, 0.28207510313626694, 0.14103755156813347, 0.037610013751502254, 0.056415020627253384, 0.8356645819322265, 0.057632040133257, 0.08644806019988549, 0.8804407467791672, 0.011632015537045341, 0.44201659040772295, 0.09305612429636273, 0.0581600776852267, 0.18611224859272546, 0.20937627966681613, 0.3861308155400342, 0.05148410873867122, 0.5405831417560478, 0.02574205436933561, 0.16276077708899572, 0.08138038854449786, 0.08138038854449786, 0.08138038854449786, 0.569662719811485, 0.17559389511541743, 0.17559389511541743, 0.614578632903961, 0.24935572185490243, 0.07388317684589701, 0.19394333922047965, 0.19394333922047965, 0.14776635369179403, 0.1385309565860569, 0.1273371659177186, 0.2546743318354372, 0.5093486636708744, 0.8721983986515284, 0.9103596633084543, 0.3044387877427048, 0.23002041740559917, 0.12854082149136423, 0.12177551509708191, 0.17589796625134055, 0.04059183836569397, 0.3764812206683063, 0.14956103286823128, 0.1701901408500563, 0.15471830986368754, 0.09283098591821252, 0.05157276995456251, 0.8805308611675934, 0.8968954698289322, 0.4049539389083856, 0.06442449028087953, 0.11964548195020484, 0.11964548195020484, 0.27610495834662657, 0.13298867932757927, 0.2327301888232637, 0.5485783022262645, 0.04987075474784223, 0.01662358491594741, 0.8546431833827067, 0.9447258183838836, 0.7327088116990083, 0.8438701802881128, 0.1054837725360141, 0.3100613423701579, 0.6201226847403158, 0.031006134237015794, 0.031006134237015794, 0.9378378822464841, 0.8990392847830907, 0.7962875981448249, 0.8421816909170503, 0.9137667393460818, 0.8586236430600532, 0.10407559309818827, 0.9286044739900878, 0.4100162561944183, 0.016566313381592656, 0.11182261532575044, 0.1408136637435376, 0.24849470072388985, 0.0704068318717688, 0.847302062767004, 0.05295637892293775, 0.05295637892293775, 0.9128197264770802, 0.8645178874417745, 0.09605754304908606, 0.8174389672824274, 0.48485098749299904, 0.07182977592488875, 0.017957443981222187, 0.35914887962444375, 0.05387233194366656, 0.9124049816893944, 0.8227389149633255, 0.05876706535452325, 0.05876706535452325, 0.7710627652760909, 0.8035666410865212, 0.9212749435122708, 0.16533502319432716, 0.1377791859952726, 0.5235609067820359, 0.1377791859952726, 0.05511167439810905, 0.8727811688162915, 0.9453929530362506, 0.3264193308345917, 0.0582891662204628, 0.03497349973227768, 0.15155183217320328, 0.3264193308345917, 0.09909158257478676, 0.9286844753576199, 0.8546889078546341, 0.07148279068480858, 0.8577934882177028, 0.07148279068480858, 0.8811470823309112, 0.8725944483536632, 0.10997991422125547, 0.10997991422125547, 0.1649698713318832, 0.6048895282169051, 0.7561004217498417, 0.15122008434996834, 0.8258284783620171, 0.14550599080112467, 0.7275299540056234, 0.1952466317195262, 0.1331227034451315, 0.16862209103049988, 0.1508723972378157, 0.2751202537866051, 0.0798736220670789, 0.8547896664863277, 0.4069090321763903, 0.27248372690383277, 0.09082790896794427, 0.061762978098202095, 0.13079218891383973, 0.0363311635871777, 0.8899303301167616, 0.9109663170755764, 0.846314213297203, 0.35701133129517665, 0.17051287464844256, 0.10657054665527661, 0.047956745994874476, 0.18649845664673406, 0.13321318331909576, 0.79096074027031, 0.158192148054062, 0.07657934439886772, 0.17868513693069135, 0.2552644813295591, 0.43394961826025047, 0.07657934439886772, 0.025526448132955907, 0.17117996252343662, 0.17117996252343662, 0.1344985419827002, 0.09781712144196378, 0.24454280360490946, 0.17117996252343662, 0.8546787500844428, 0.8589324511435653, 0.023214390571447713, 0.11607195285723856, 0.8992299459398037, 0.9112125303312, 0.45977323075048626, 0.15614939912280665, 0.1257870159600387, 0.08241218287037018, 0.1431369491959061, 0.03903734978070166, 0.7468273859705705, 0.10668962656722436, 0.10668962656722436, 0.771053956248774, 0.8547480726761857, 0.8991579409335291, 0.6821872164923444, 0.8259979096452267, 0.2582783573014379, 0.18940412868772113, 0.15742680825992406, 0.15250722050180143, 0.15250722050180143, 0.08855257964620729, 0.8424348419240297, 0.7710642471027566, 0.5137652450824218, 0.06323264554860576, 0.09484896832290865, 0.21341017872654447, 0.0711367262421815, 0.047424484161454325, 0.13779014080529683, 0.826740844831781, 0.1884378237197532, 0.7537512948790128, 0.8441264663134453, 0.19820982072092236, 0.08885267825420658, 0.35199330231474146, 0.17428794580632828, 0.1196093745729704, 0.06834821404169737, 0.8297614712799819, 0.10160344546285492, 0.033867815154284976, 0.016933907577142488, 0.4154660512227503, 0.25253818799814237, 0.17107425638583837, 0.10590311109599518, 0.028512376064306396, 0.024439179483691197, 0.055189640855141275, 0.7174653311168365, 0.16556892256542383, 0.17207355726888987, 0.0491638735053971, 0.0491638735053971, 0.41789292479587536, 0.24581936752698552, 0.0491638735053971, 0.8723573044128468, 0.7956030499868163, 0.8258535787303272, 0.8530178926381948], \"Term\": [\"able\", \"able\", \"able\", \"able\", \"able\", \"able\", \"absolutely\", \"absolutely\", \"absorbent\", \"accessible\", \"accurate\", \"activate\", \"actual\", \"actual\", \"adapt\", \"add\", \"add\", \"add\", \"add\", \"add\", \"add\", \"adjust\", \"adjust\", \"adjust\", \"adjust\", \"adopt\", \"agile\", \"also\", \"also\", \"also\", \"also\", \"also\", \"also\", \"alternative\", \"alternative\", \"anywhere\", \"apart\", \"apart\", \"apart\", \"apart\", \"apart\", \"apart\", \"aside\", \"ask\", \"away\", \"away\", \"away\", \"away\", \"away\", \"away\", \"ball\", \"base\", \"base\", \"base\", \"base\", \"begin\", \"begin\", \"begin\", \"begin\", \"big\", \"big\", \"big\", \"big\", \"big\", \"big\", \"blind\", \"blue\", \"blue\", \"blue\", \"blue\", \"bored\", \"bottled\", \"bottom\", \"bottom\", \"bottom\", \"bottom\", \"bottom\", \"bottom\", \"bowl\", \"bowl\", \"bowl\", \"bowl\", \"brush\", \"bulk\", \"buy\", \"buy\", \"buy\", \"buy\", \"buy\", \"buy\", \"care\", \"care\", \"care\", \"care\", \"carry\", \"cartridge\", \"cat_loves\", \"cat_loves\", \"cat_loves\", \"cat_loves\", \"cat_mate\", \"cat_mate\", \"cat_mate\", \"cat_mate\", \"cat_mate\", \"catit\", \"catit\", \"challenge\", \"change\", \"change\", \"change\", \"change\", \"change\", \"change\", \"cheaply\", \"choose\", \"choose\", \"choose\", \"choose\", \"clean\", \"clean\", \"clean\", \"clean\", \"clean\", \"clean\", \"clearly\", \"clog\", \"clog\", \"clogged\", \"clogged\", \"close\", \"close\", \"close\", \"close\", \"close\", \"com\", \"come\", \"come\", \"come\", \"come\", \"come\", \"come\", \"comfortable\", \"compact\", \"complete\", \"consider\", \"consider\", \"consider\", \"consider\", \"consider\", \"constant\", \"constant\", \"continue\", \"continue\", \"continue\", \"continuous\", \"cost\", \"cost\", \"cover\", \"cover\", \"cover\", \"cute\", \"cute\", \"cute\", \"cute\", \"dark\", \"dead\", \"deal\", \"deep\", \"deep\", \"deep\", \"deep\", \"definitely\", \"definitely\", \"definitely\", \"definitely\", \"definitely\", \"delighted\", \"deliver\", \"deliver\", \"deluxe\", \"deluxe\", \"dense\", \"dental\", \"describe\", \"detachable\", \"different\", \"different\", \"different\", \"different\", \"different\", \"dig\", \"dirty\", \"dirty\", \"dirty\", \"dirty\", \"dirty\", \"discover\", \"discover\", \"discover\", \"dish\", \"dish\", \"dish\", \"dishwash\", \"disinfect\", \"divide\", \"double\", \"double\", \"drate\", \"drink\", \"drink\", \"drink\", \"drink\", \"drink\", \"drink\", \"drinkwell\", \"drinkwell_hy_drate\", \"drinkwell_hy_drate\", \"drip\", \"dry_food\", \"dry_food\", \"dry_food\", \"dry_food\", \"easier\", \"easy\", \"easy\", \"easy\", \"easy\", \"easy\", \"easy\", \"eat\", \"eat\", \"eat\", \"eat\", \"eat\", \"eat\", \"effective\", \"effective\", \"either\", \"elderly\", \"end\", \"end\", \"end\", \"end\", \"end\", \"end\", \"enough\", \"enough\", \"enough\", \"enough\", \"enough\", \"enough\", \"entertain\", \"entire\", \"entire\", \"entire\", \"entire\", \"essential\", \"even\", \"even\", \"even\", \"even\", \"even\", \"even\", \"evenly\", \"excellent\", \"excellent\", \"excellent\", \"expect\", \"expect\", \"expect\", \"expect\", \"expect\", \"expect\", \"experience\", \"extra\", \"extra\", \"extra\", \"extra\", \"extra\", \"extreme\", \"fail\", \"fail\", \"fail\", \"fair\", \"fall\", \"fall\", \"fall\", \"fantastic\", \"fantastic\", \"fascinated\", \"fascinated\", \"feed\", \"feed\", \"feed\", \"feed\", \"feed\", \"feed\", \"feeder\", \"feeder\", \"feral\", \"fight\", \"figure\", \"figure\", \"figure\", \"filtered_water\", \"filtered_water\", \"filtered_water\", \"filtered_water\", \"filtered_water\", \"find\", \"find\", \"find\", \"find\", \"find\", \"find\", \"first\", \"first\", \"first\", \"first\", \"first\", \"first\", \"fit\", \"fit\", \"fit\", \"fit\", \"fit\", \"fit\", \"float\", \"float\", \"float\", \"food\", \"forever\", \"forth\", \"forward\", \"forward\", \"fountain\", \"fountain\", \"fountain\", \"fountain\", \"fountain\", \"freeze\", \"fresh\", \"fresh\", \"fresh\", \"fresh\", \"fresh\", \"fresh\", \"frustrating\", \"get\", \"get\", \"get\", \"get\", \"get\", \"get\", \"give\", \"give\", \"give\", \"give\", \"give\", \"give\", \"glad\", \"glad\", \"glad\", \"go\", \"go\", \"go\", \"go\", \"go\", \"go\", \"good\", \"good\", \"good\", \"good\", \"good\", \"good\", \"gray\", \"great\", \"great\", \"great\", \"great\", \"great\", \"great\", \"grind\", \"grow\", \"grow\", \"gurgle\", \"gurgle\", \"gurgle\", \"half\", \"half\", \"half\", \"happy\", \"happy\", \"happy\", \"happy\", \"happy\", \"happy\", \"harbor\", \"hard\", \"hard\", \"hard\", \"hard\", \"hard\", \"hard\", \"harmful\", \"heavy\", \"heavy\", \"heavy\", \"heavy\", \"high\", \"high\", \"high\", \"high\", \"high\", \"high\", \"highly\", \"highly\", \"highly\", \"highly\", \"highly\", \"hit\", \"hold\", \"hold\", \"hold\", \"hold\", \"hold\", \"hold\", \"hole\", \"hot\", \"hot\", \"hot\", \"hot\", \"however\", \"however\", \"however\", \"however\", \"however\", \"however\", \"hum\", \"hum\", \"hungry\", \"ignore\", \"ignore\", \"important\", \"important\", \"important\", \"important\", \"inside\", \"inside\", \"inside\", \"inside\", \"inside\", \"intend\", \"intend\", \"intend\", \"interested\", \"interested\", \"interested\", \"internal\", \"invest\", \"involve\", \"jump\", \"keep\", \"keep\", \"keep\", \"keep\", \"keep\", \"keep\", \"kibble\", \"kibble\", \"kibble\", \"kitten\", \"kitten\", \"kitten\", \"kitten\", \"kitten\", \"large\", \"large\", \"large\", \"large\", \"large\", \"large\", \"later\", \"later\", \"later\", \"learn\", \"learn\", \"leave\", \"leave\", \"leave\", \"leave\", \"leave\", \"leave\", \"less\", \"less\", \"less\", \"less\", \"less\", \"less\", \"lid\", \"lie\", \"lie\", \"light\", \"light\", \"light\", \"like\", \"like\", \"like\", \"like\", \"like\", \"like\", \"likely\", \"likely\", \"likely\", \"lily\", \"listen\", \"little\", \"little\", \"little\", \"little\", \"little\", \"little\", \"lock\", \"long\", \"long\", \"long\", \"long\", \"long\", \"long\", \"look\", \"look\", \"look\", \"look\", \"look\", \"look\", \"loosen\", \"lose\", \"lose\", \"loud\", \"loud\", \"loud\", \"loud\", \"loud\", \"love\", \"love\", \"love\", \"love\", \"love\", \"love\", \"low\", \"low\", \"low\", \"low\", \"low\", \"low\", \"lush\", \"main\", \"main\", \"main\", \"main\", \"maintain\", \"maintain\", \"make\", \"make\", \"make\", \"make\", \"make\", \"make\", \"mean\", \"mean\", \"mean\", \"mean\", \"mean\", \"medicinal\", \"minimal\", \"motivated\", \"moving_water\", \"moving_water\", \"moving_water\", \"moving_water\", \"much\", \"much\", \"much\", \"much\", \"much\", \"much\", \"naturally\", \"near\", \"nearly\", \"nearly\", \"nearly\", \"need\", \"need\", \"need\", \"need\", \"need\", \"need\", \"new\", \"new\", \"new\", \"new\", \"new\", \"new\", \"nibble\", \"nice\", \"nice\", \"nice\", \"nice\", \"nice\", \"nice\", \"noise\", \"nudge\", \"often\", \"often\", \"often\", \"often\", \"often\", \"okay\", \"okay\", \"old\", \"old\", \"old\", \"old\", \"old\", \"old\", \"open\", \"open\", \"open\", \"open\", \"open\", \"order\", \"order\", \"order\", \"order\", \"order\", \"order\", \"outside\", \"outside\", \"outside\", \"outside\", \"overall\", \"overall\", \"overall\", \"overall\", \"overly\", \"overly\", \"overseas\", \"package\", \"pay\", \"pay\", \"pay\", \"pay\", \"perfect_size\", \"perfect_size\", \"perfect_size\", \"pet\", \"pet\", \"pet\", \"pet\", \"pet\", \"pet\", \"pet_fountain\", \"pet_fountain\", \"pet_fountain\", \"pet_fountain\", \"pet_fountain\", \"petmate\", \"petmate\", \"petmate\", \"picky\", \"play\", \"play\", \"play\", \"play\", \"play\", \"play\", \"playful\", \"plenty\", \"plenty\", \"plug\", \"plug\", \"plug\", \"plug\", \"poorly\", \"pop\", \"possible\", \"possible\", \"possible\", \"pour\", \"pour\", \"powerful\", \"powerful\", \"preferred\", \"press\", \"primary\", \"prissy\", \"probably\", \"probably\", \"probably\", \"probably\", \"program\", \"prove\", \"prove\", \"pump\", \"pump\", \"pump\", \"pump\", \"purchase\", \"purchase\", \"purchase\", \"purchase\", \"purchase\", \"pure\", \"push\", \"push\", \"push\", \"put\", \"put\", \"put\", \"put\", \"put\", \"put\", \"quick\", \"quick\", \"quiet\", \"quiet\", \"quiet\", \"quiet\", \"quiet\", \"quiet\", \"quietly\", \"quietly\", \"quietly\", \"rack\", \"rack\", \"range\", \"rate\", \"readily\", \"real\", \"real\", \"real\", \"really\", \"really\", \"really\", \"really\", \"really\", \"really\", \"reasonably\", \"reasonably\", \"recommend\", \"recommend\", \"recommend\", \"recommend\", \"recommend\", \"recommend\", \"regardless\", \"replace\", \"replace\", \"replace\", \"replace\", \"replace\", \"require\", \"require\", \"require\", \"require\", \"require\", \"reservoir\", \"respond\", \"result\", \"result\", \"reuse\", \"ridge\", \"right\", \"right\", \"right\", \"right\", \"right\", \"roll\", \"roll\", \"roll\", \"ruin\", \"run\", \"run\", \"run\", \"run\", \"run\", \"run\", \"running_water\", \"running_water\", \"running_water\", \"running_water\", \"safe\", \"safe\", \"safe\", \"safe\", \"safe\", \"save\", \"save\", \"save\", \"say\", \"say\", \"say\", \"say\", \"say\", \"say\", \"scare\", \"scare\", \"scare\", \"schematic\", \"screw\", \"see\", \"see\", \"see\", \"see\", \"see\", \"see\", \"seem\", \"seem\", \"seem\", \"seem\", \"seem\", \"seem\", \"separately\", \"seriously\", \"set\", \"set\", \"set\", \"set\", \"set\", \"several\", \"several\", \"several\", \"several\", \"several\", \"sgd\", \"shallow\", \"shoot\", \"silent\", \"silent\", \"simple\", \"simple\", \"simple\", \"simple\", \"sink\", \"skid\", \"skittish\", \"slanted\", \"slimcat\", \"slow\", \"slow\", \"slowly\", \"small\", \"small\", \"small\", \"small\", \"small\", \"small\", \"smart\", \"smart\", \"smart\", \"smoothly\", \"soak\", \"soak\", \"somehow\", \"sometimes\", \"sometimes\", \"sometimes\", \"sometimes\", \"sometimes\", \"sorry\", \"splash\", \"splash\", \"splash\", \"spook\", \"sprout\", \"stainless\", \"stainless_steel\", \"stainless_steel\", \"stainless_steel\", \"stainless_steel\", \"stainless_steel\", \"stale\", \"starve\", \"still\", \"still\", \"still\", \"still\", \"still\", \"still\", \"stimulate\", \"stress\", \"strong\", \"strong\", \"strong\", \"strongly\", \"struggle\", \"sturdy\", \"sturdy\", \"sturdy\", \"sturdy\", \"submerge\", \"submerge\", \"substitute\", \"supposedly\", \"supposedly\", \"sure\", \"sure\", \"sure\", \"sure\", \"sure\", \"sure\", \"surround\", \"take\", \"take\", \"take\", \"take\", \"take\", \"take\", \"tall\", \"tape\", \"thank\", \"think\", \"think\", \"think\", \"think\", \"think\", \"think\", \"thorough\", \"thorough\", \"together\", \"together\", \"together\", \"together\", \"together\", \"together\", \"top\", \"top\", \"top\", \"top\", \"top\", \"top\", \"track\", \"treat\", \"treat\", \"treat\", \"trigger\", \"truly\", \"try\", \"try\", \"try\", \"try\", \"try\", \"try\", \"ugly\", \"ugly\", \"ugly\", \"unattended\", \"unfortunate\", \"unique\", \"unused\", \"upgrade\", \"use\", \"use\", \"use\", \"use\", \"use\", \"use\", \"used\", \"vertical\", \"want\", \"want\", \"want\", \"want\", \"want\", \"want\", \"water\", \"water\", \"weak\", \"weak\", \"weird\", \"well\", \"well\", \"well\", \"well\", \"well\", \"well\", \"wet_food\", \"wet_food\", \"wet_food\", \"wet_food\", \"work\", \"work\", \"work\", \"work\", \"work\", \"work\", \"worry\", \"worry\", \"worry\", \"worth\", \"worth\", \"worth\", \"worth\", \"worth\", \"worth\", \"yank\", \"year\", \"yell\", \"yummy\"]}, \"R\": 30, \"lambda.step\": 0.01, \"plot.opts\": {\"xlab\": \"PC1\", \"ylab\": \"PC2\"}, \"topic.order\": [1, 3, 4, 2, 6, 5]};\n",
       "\n",
       "function LDAvis_load_lib(url, callback){\n",
       "  var s = document.createElement('script');\n",
       "  s.src = url;\n",
       "  s.async = true;\n",
       "  s.onreadystatechange = s.onload = callback;\n",
       "  s.onerror = function(){console.warn(\"failed to load library \" + url);};\n",
       "  document.getElementsByTagName(\"head\")[0].appendChild(s);\n",
       "}\n",
       "\n",
       "if(typeof(LDAvis) !== \"undefined\"){\n",
       "   // already loaded: just create the visualization\n",
       "   !function(LDAvis){\n",
       "       new LDAvis(\"#\" + \"ldavis_el2993617973764765444407325991\", ldavis_el2993617973764765444407325991_data);\n",
       "   }(LDAvis);\n",
       "}else if(typeof define === \"function\" && define.amd){\n",
       "   // require.js is available: use it to load d3/LDAvis\n",
       "   require.config({paths: {d3: \"https://d3js.org/d3.v5\"}});\n",
       "   require([\"d3\"], function(d3){\n",
       "      window.d3 = d3;\n",
       "      LDAvis_load_lib(\"https://cdn.jsdelivr.net/gh/bmabey/pyLDAvis@3.3.1/pyLDAvis/js/ldavis.v3.0.0.js\", function(){\n",
       "        new LDAvis(\"#\" + \"ldavis_el2993617973764765444407325991\", ldavis_el2993617973764765444407325991_data);\n",
       "      });\n",
       "    });\n",
       "}else{\n",
       "    // require.js not available: dynamically load d3 & LDAvis\n",
       "    LDAvis_load_lib(\"https://d3js.org/d3.v5.js\", function(){\n",
       "         LDAvis_load_lib(\"https://cdn.jsdelivr.net/gh/bmabey/pyLDAvis@3.3.1/pyLDAvis/js/ldavis.v3.0.0.js\", function(){\n",
       "                 new LDAvis(\"#\" + \"ldavis_el2993617973764765444407325991\", ldavis_el2993617973764765444407325991_data);\n",
       "            })\n",
       "         });\n",
       "}\n",
       "</script>"
      ],
      "text/plain": [
       "<IPython.core.display.HTML object>"
      ]
     },
     "execution_count": 91,
     "metadata": {},
     "output_type": "execute_result"
    }
   ],
   "source": [
    "pyLDAvis.enable_notebook()\n",
    "topic_data =  pyLDAvis.gensim_models.prepare(cats_feeding_supplies_optimal_model, \n",
    "                                             cats_feeding_supplies_doc_term_matrix, \n",
    "                                             cats_feeding_supplies_dictionary, \n",
    "                                             mds = 'pcoa')\n",
    "pyLDAvis.display(topic_data)"
   ]
  },
  {
   "cell_type": "code",
   "execution_count": 90,
   "id": "456e4a3c",
   "metadata": {},
   "outputs": [
    {
     "name": "stderr",
     "output_type": "stream",
     "text": [
      "C:\\Users\\JiatingChen\\anaconda3\\lib\\site-packages\\pyLDAvis\\_prepare.py:246: FutureWarning: In a future version of pandas all arguments of DataFrame.drop except for the argument 'labels' will be keyword-only\n",
      "  default_term_info = default_term_info.sort_values(\n",
      "C:\\Users\\JiatingChen\\anaconda3\\lib\\site-packages\\sklearn\\manifold\\_t_sne.py:691: FutureWarning: 'square_distances' has been introduced in 0.24 to help phase out legacy squaring behavior. The 'legacy' setting will be removed in 1.1 (renaming of 0.26), and the default setting will be changed to True. In 1.3, 'square_distances' will be removed altogether, and distances will be squared by default. Set 'square_distances'=True to silence this warning.\n",
      "  warnings.warn(\n"
     ]
    },
    {
     "data": {
      "text/html": [
       "\n",
       "<link rel=\"stylesheet\" type=\"text/css\" href=\"https://cdn.jsdelivr.net/gh/bmabey/pyLDAvis@3.3.1/pyLDAvis/js/ldavis.v1.0.0.css\">\n",
       "\n",
       "\n",
       "<div id=\"ldavis_el2993617973764760969664535356\"></div>\n",
       "<script type=\"text/javascript\">\n",
       "\n",
       "var ldavis_el2993617973764760969664535356_data = {\"mdsDat\": {\"x\": [1.4650187492370605, 54.85479736328125, 32.212928771972656, 5.111096382141113, 26.350170135498047, 38.10981750488281], \"y\": [-47.625064849853516, -36.4767951965332, -61.44457244873047, -14.110331535339355, -33.37470245361328, -7.222781181335449], \"topics\": [1, 2, 3, 4, 5, 6], \"cluster\": [1, 1, 1, 1, 1, 1], \"Freq\": [30.822682341001013, 16.744891298367474, 15.688261109286772, 15.262060217513177, 13.050732226355397, 8.43137280747617]}, \"tinfo\": {\"Term\": [\"clean\", \"grow\", \"eat\", \"fit\", \"drink\", \"easy\", \"quiet\", \"keep\", \"open\", \"buy\", \"well\", \"still\", \"bowl\", \"little\", \"small\", \"nice\", \"get\", \"run\", \"really\", \"hold\", \"great\", \"different\", \"play\", \"catit\", \"add\", \"good\", \"shallow\", \"use\", \"make\", \"pet\", \"hungry\", \"hole\", \"hit\", \"lid\", \"pop\", \"learn\", \"freeze\", \"adopt\", \"entertain\", \"motivated\", \"open\", \"adjust\", \"aside\", \"slowly\", \"stimulate\", \"challenge\", \"feeder\", \"push\", \"starve\", \"screw\", \"accurate\", \"frustrating\", \"involve\", \"feral\", \"lock\", \"tape\", \"truly\", \"bored\", \"nudge\", \"either\", \"dry_food\", \"slow\", \"fall\", \"treat\", \"smart\", \"roll\", \"wet_food\", \"eat\", \"lose\", \"figure\", \"close\", \"kibble\", \"feed\", \"consider\", \"mean\", \"get\", \"able\", \"put\", \"come\", \"later\", \"probably\", \"try\", \"want\", \"take\", \"little\", \"work\", \"find\", \"small\", \"great\", \"away\", \"also\", \"really\", \"go\", \"give\", \"big\", \"seem\", \"much\", \"use\", \"make\", \"even\", \"think\", \"need\", \"good\", \"buy\", \"easy\", \"keep\", \"long\", \"well\", \"tall\", \"reservoir\", \"primary\", \"drinkwell\", \"lily\", \"near\", \"silent\", \"harmful\", \"medicinal\", \"thank\", \"soak\", \"splash\", \"easier\", \"submerge\", \"cat_mate\", \"pure\", \"com\", \"year\", \"lush\", \"harbor\", \"reuse\", \"blind\", \"fair\", \"dead\", \"experience\", \"forward\", \"readily\", \"respond\", \"skittish\", \"elderly\", \"quick\", \"ugly\", \"maintain\", \"add\", \"dirty\", \"main\", \"cost\", \"quiet\", \"gurgle\", \"quietly\", \"clog\", \"pet_fountain\", \"simple\", \"clean\", \"fountain\", \"begin\", \"apart\", \"often\", \"pump\", \"new\", \"run\", \"loud\", \"important\", \"first\", \"pet\", \"easy\", \"take\", \"good\", \"replace\", \"work\", \"low\", \"drink\", \"use\", \"go\", \"give\", \"change\", \"make\", \"little\", \"find\", \"get\", \"even\", \"see\", \"right\", \"fresh\", \"try\", \"buy\", \"think\", \"long\", \"need\", \"seem\", \"grow\", \"shallow\", \"stainless\", \"weird\", \"sprout\", \"cartridge\", \"gray\", \"plenty\", \"complete\", \"unique\", \"fight\", \"dishwash\", \"trigger\", \"skid\", \"package\", \"fantastic\", \"absorbent\", \"overseas\", \"cheaply\", \"bulk\", \"nibble\", \"delighted\", \"dark\", \"slanted\", \"used\", \"seriously\", \"brush\", \"reasonably\", \"okay\", \"bowl\", \"light\", \"dish\", \"catit\", \"excellent\", \"overly\", \"heavy\", \"real\", \"perfect_size\", \"several\", \"nice\", \"buy\", \"well\", \"easy\", \"clean\", \"highly\", \"stainless_steel\", \"purchase\", \"recommend\", \"cute\", \"also\", \"deep\", \"good\", \"order\", \"bottom\", \"use\", \"keep\", \"make\", \"look\", \"really\", \"great\", \"work\", \"get\", \"much\", \"seem\", \"replace\", \"eat\", \"enough\", \"try\", \"put\", \"small\", \"take\", \"picky\", \"playful\", \"divide\", \"preferred\", \"separately\", \"ruin\", \"strongly\", \"shoot\", \"water\", \"drip\", \"pour\", \"yell\", \"deal\", \"continuous\", \"substitute\", \"noise\", \"poorly\", \"deliver\", \"thorough\", \"grind\", \"deluxe\", \"naturally\", \"upgrade\", \"compact\", \"powerful\", \"accessible\", \"absolutely\", \"clogged\", \"worry\", \"prissy\", \"actual\", \"petmate\", \"constant\", \"possible\", \"extra\", \"outside\", \"cat_loves\", \"running_water\", \"glad\", \"drink\", \"love\", \"hum\", \"intend\", \"keep\", \"entire\", \"fresh\", \"get\", \"great\", \"happy\", \"pay\", \"kitten\", \"little\", \"worth\", \"large\", \"recommend\", \"old\", \"much\", \"together\", \"sometimes\", \"make\", \"clean\", \"well\", \"use\", \"definitely\", \"hard\", \"come\", \"want\", \"small\", \"find\", \"easy\", \"really\", \"buy\", \"seem\", \"even\", \"go\", \"still\", \"work\", \"sink\", \"comfortable\", \"carry\", \"minimal\", \"somehow\", \"invest\", \"bottled\", \"program\", \"internal\", \"jump\", \"ball\", \"slimcat\", \"strong\", \"evenly\", \"smoothly\", \"forever\", \"sorry\", \"fail\", \"result\", \"track\", \"sgd\", \"stress\", \"food\", \"dental\", \"surround\", \"clearly\", \"unfortunate\", \"forth\", \"unused\", \"yummy\", \"float\", \"likely\", \"prove\", \"discover\", \"rack\", \"lie\", \"different\", \"half\", \"weak\", \"high\", \"inside\", \"still\", \"small\", \"continue\", \"effective\", \"sure\", \"set\", \"nearly\", \"choose\", \"end\", \"overall\", \"make\", \"like\", \"however\", \"blue\", \"use\", \"go\", \"think\", \"top\", \"also\", \"even\", \"take\", \"try\", \"see\", \"well\", \"get\", \"drink\", \"pump\", \"buy\", \"come\", \"first\", \"put\", \"long\", \"leave\", \"love\", \"give\", \"little\", \"easy\", \"drate\", \"describe\", \"ask\", \"anywhere\", \"listen\", \"schematic\", \"activate\", \"yank\", \"struggle\", \"stale\", \"range\", \"regardless\", \"adapt\", \"rate\", \"supposedly\", \"essential\", \"ignore\", \"dig\", \"alternative\", \"dense\", \"loosen\", \"extreme\", \"press\", \"detachable\", \"disinfect\", \"vertical\", \"ridge\", \"spook\", \"unattended\", \"agile\", \"drinkwell_hy_drate\", \"double\", \"sturdy\", \"fascinated\", \"save\", \"safe\", \"cover\", \"fit\", \"filtered_water\", \"scare\", \"care\", \"base\", \"hold\", \"really\", \"hot\", \"require\", \"run\", \"pet\", \"moving_water\", \"plug\", \"interested\", \"bottom\", \"play\", \"deep\", \"little\", \"think\", \"make\", \"use\", \"old\", \"expect\", \"good\", \"big\", \"less\", \"say\", \"high\", \"top\", \"nice\", \"keep\", \"buy\", \"still\", \"get\", \"well\", \"need\", \"come\", \"small\", \"large\", \"drink\", \"also\"], \"Freq\": [397.0, 68.0, 280.0, 102.0, 189.0, 315.0, 120.0, 263.0, 115.0, 307.0, 292.0, 171.0, 64.0, 286.0, 241.0, 94.0, 737.0, 86.0, 242.0, 99.0, 240.0, 92.0, 71.0, 40.0, 60.0, 251.0, 27.0, 406.0, 354.0, 73.0, 19.068431993298226, 19.936800838739355, 14.112333745970222, 11.35003558577022, 11.197509134612261, 18.12357231459164, 8.592120574052068, 7.727302931756016, 9.439753051165132, 7.711753402499287, 105.38691727069468, 41.04153572542942, 8.52083541635614, 6.77983492128603, 6.768901903794296, 6.725110708152481, 10.045913655898058, 40.85179358620651, 7.500161448610798, 5.836299553049491, 5.833109906022469, 5.83005473066309, 5.829730324305355, 5.827154956413787, 6.598318576175951, 5.7753310407656, 5.752786891847253, 6.537581857467024, 4.891319006812847, 4.886224257288223, 47.918502619345894, 33.24501075576546, 41.854050167845536, 36.48330827172596, 16.239109386645904, 29.431955170500792, 48.80090465593937, 217.58754010260324, 28.072301151017108, 45.83813278490816, 25.67263802163101, 29.632182960383396, 52.06216386319479, 21.771029965425868, 26.051810451384547, 355.549033206614, 35.540114576637166, 128.1287908176096, 112.5465362846894, 23.67449368768579, 28.226335568502474, 105.54790654190103, 65.0404148414079, 111.52373117646816, 113.81197223316558, 101.98932367542076, 78.5902991231697, 98.65546441824847, 95.79147114373124, 44.65122829033479, 88.82539086981706, 90.66578371730053, 91.20662562513955, 67.65551518649377, 61.48265659495955, 72.91091073946819, 74.86295797645138, 105.31640179324428, 96.7610819810609, 71.28294336091815, 66.53764017895796, 62.11035987479033, 69.66735784051238, 67.3742151083968, 64.77903122073161, 61.74945675533789, 55.949272001681294, 57.90334520869214, 11.457680961999298, 14.00513506350755, 6.845957851120445, 6.824256046083958, 4.946547061645858, 4.938648725718058, 16.349812337928228, 4.793240435193806, 3.9879956216313337, 3.9815452855313684, 8.643894381753244, 14.123780087484828, 3.8812552369924385, 5.354475390057711, 22.148543967272794, 3.0316923619541365, 3.0297415133443155, 3.0298176939398904, 3.0293085915269238, 3.0292056908717067, 3.029329057955586, 3.029391594265386, 3.0254245181764072, 3.0253855751107586, 3.022346026198502, 5.262584536436893, 3.7605530526786795, 3.011591486448542, 2.994974451910741, 2.9947027032190627, 12.07068688518748, 7.374660280602328, 8.086708937204873, 41.480379771608035, 20.139859504100485, 14.347058590972631, 7.584283696589243, 69.95443054234161, 8.697831380444246, 9.277189926400236, 5.004344256187272, 22.125064425502252, 19.75944772051275, 174.13143137608685, 22.437604983551626, 14.312098519746536, 28.689489495020027, 37.41886703268717, 26.502583371059252, 46.224634378311315, 37.62804075575543, 20.89935730150819, 13.245234759669495, 55.54233987429556, 31.077207668916834, 84.52585917966402, 74.73389195443875, 68.21530713702853, 26.26508183667519, 62.32958522670387, 27.9201382492354, 49.143597366939346, 77.34184254502416, 52.890904944946335, 39.96163887012709, 22.597293156162863, 51.22552890424523, 44.78413435955746, 36.12436541981732, 61.74411802030419, 37.88538562975109, 33.62870730115727, 29.557911899814385, 29.22211465666212, 35.919605623197164, 38.58497591641756, 32.396171212133, 30.804974605093403, 29.31501859850171, 29.383547023804883, 66.30634146257054, 26.27227348568527, 8.99609810469028, 6.327596221416301, 5.466827323221813, 4.55754310458095, 4.554157658275223, 7.556590462886522, 3.6942926465471957, 3.693074770055999, 3.6906017324226617, 3.687598453789112, 3.6808267622208515, 3.6700483022707733, 4.3515203741347, 5.66923024669926, 2.8078031982178335, 2.807299056473282, 2.8067911862636357, 2.8059994200689435, 2.805038275031391, 2.8045967182366383, 2.8023487201036423, 2.8026869451514926, 2.800436550148079, 3.5058307203766956, 3.472794389088712, 6.734949142668548, 3.970169502131955, 47.24048366129386, 13.657419839346998, 15.298518664513361, 27.107328225399332, 9.551592531625236, 6.388416009312111, 22.63703706304423, 10.849965518934427, 13.117864068052787, 32.901720914766564, 46.64184556683784, 113.2733603188768, 102.79532517224621, 105.6588801090208, 120.89539120318685, 23.81350841672945, 18.73931030610205, 37.992765295966265, 48.28764545385038, 16.72048920442661, 58.73825614179795, 15.507262641840663, 57.49830500669099, 20.079077778165157, 18.612491359656417, 64.27210795147055, 47.65156504764052, 54.27611433886349, 30.06594410822109, 42.20415823381976, 41.793004408722695, 41.825214086035466, 69.17235505575597, 35.958612745822606, 33.241778236891875, 21.126802036313066, 34.94704394633309, 25.410467541556667, 29.092897810087052, 27.97440728444718, 27.277133178556326, 25.054780493755576, 9.204742608702615, 4.688423425719514, 3.7878372210682794, 3.78472588270039, 3.7842525364435713, 3.7841727386071726, 3.7558771512551306, 4.447896165445744, 5.880091151757946, 2.8795570023016968, 6.451773733240155, 2.8775203438863435, 2.8772358697812606, 2.875722560812417, 2.876043565745202, 2.874474294657326, 2.8725008527097686, 4.326301103226872, 4.9976939312117725, 2.8709595626814086, 6.409252886130654, 2.8690938996297666, 2.8611218885064456, 2.8601492876043677, 5.673574351158552, 2.8313821675826976, 19.00711504991118, 4.575379945273389, 13.113811656383822, 1.9694938977845415, 6.460603830188645, 15.307072807501541, 5.708211275665433, 7.814726996940262, 23.47950604212466, 8.706061056995303, 16.08858069078707, 20.91487819643464, 15.22147563743436, 77.0267414963457, 54.95595329526348, 5.675939787023223, 7.19538334408184, 95.44037620124367, 15.086500188005092, 40.732654284640795, 170.99917742591276, 72.56806951397955, 29.778336858551658, 11.36415496848983, 11.077235111537924, 67.74902635709547, 17.371528850981118, 41.815048718919044, 37.783566681195886, 36.51300273067667, 49.46229715679517, 16.650538817751805, 20.104447224629027, 58.632875928163834, 60.923484221674535, 51.142835446006046, 61.488125421346226, 17.29022625538193, 26.626403154981688, 36.77878963334496, 26.689945032136745, 34.34533906733874, 29.418877659306876, 36.83381490505166, 32.92213118280898, 35.724761775403074, 30.061449218738264, 30.355424448030448, 31.374148499546976, 25.536292166290142, 26.40534656678916, 8.802971585246821, 6.169072604204527, 5.362719839131562, 5.358942938554377, 5.352079914969206, 4.493596262565476, 4.4706517244861335, 3.6264329168949168, 3.626386835517626, 3.6227692258552118, 3.6188301542771772, 3.614752395477104, 11.531908976049815, 3.604422855976212, 3.5847932969757292, 3.5593355514733704, 3.55354458454546, 8.387810278348306, 5.520204275293513, 2.7563591334672912, 2.7561141046053503, 2.7553825627408584, 2.755234349080245, 2.7542992072843573, 2.7520542909570107, 2.749632581653327, 2.7487098463820945, 2.717191292040574, 3.347978218992012, 2.5880632972486426, 7.0946449817715616, 9.986532769027466, 4.535100075348706, 6.6404474312257085, 4.935498060997667, 4.329352485917258, 39.86927088351007, 15.241167408452858, 3.8368892255231892, 19.629489878417075, 10.714229497056794, 56.44841108160252, 59.97188535201488, 10.686114539827384, 6.528661542450952, 30.93783150781904, 30.157478830611932, 11.564918307255711, 10.340075298865132, 13.695317094952614, 13.016705009361026, 59.68932852535276, 23.83531059834224, 23.640490941681215, 12.204942556448215, 61.81340353019682, 43.76047454470334, 34.82224702766524, 20.284375371785874, 34.93043192265881, 32.42206304425844, 36.46773148213061, 32.74651138759926, 25.814514614787225, 34.93221491748784, 53.3689627838794, 27.334546064299612, 15.411021592786238, 31.09440539368933, 26.372852533289052, 23.848828393134443, 27.368424738411704, 23.009874382898705, 18.707380250499348, 20.40779193433474, 20.798212858710066, 21.261913807141823, 20.104133381594743, 13.61191177566362, 6.8760332237604755, 5.156664377618719, 5.049795624496162, 2.6733919979556036, 2.6731149015560915, 2.672983223515001, 2.6686819316771206, 2.6647582123092364, 2.66087142004418, 2.6595045447263392, 3.3249386666070446, 2.6521695053243795, 2.6513405061787316, 5.28026654719776, 2.634155663046596, 7.574502789841273, 2.4764820865920147, 4.275892002523817, 1.8293805537255148, 1.8293941509145404, 1.8294190552397032, 1.829306270134943, 1.8290389064602073, 1.8289090890870887, 1.8287258848560064, 1.828699978632705, 1.8286739292810978, 1.828693824115567, 1.828534951696425, 13.003791666193973, 4.525338589716381, 10.96320339902364, 3.9959825592948137, 6.757439972361871, 7.158394454863261, 12.887676824533978, 43.12611111297753, 9.910827914523068, 4.466363430191306, 6.348154849965232, 7.41272887368978, 26.262457058669714, 37.80873654877404, 8.406338738504578, 8.664683612452134, 18.198943817683762, 16.431492448581217, 8.038645556669412, 8.129361421742725, 9.83256879213691, 12.299152697631477, 15.460472237972096, 9.992138532383192, 31.418245491058567, 24.791278991967772, 33.942529569132525, 36.355091126986686, 19.29216583053059, 10.310181077542154, 23.4653887506728, 17.379485032369733, 13.205873948262916, 15.216295348732649, 10.666864830115717, 13.635538251314577, 14.35025574263949, 20.447792929616288, 21.04706770980399, 16.98418640798979, 26.98333135718544, 19.79780950831788, 15.747466246068376, 16.88957401792664, 16.93559263072164, 15.110366662320834, 14.506437349637196, 14.817519279041472], \"Total\": [397.0, 68.0, 280.0, 102.0, 189.0, 315.0, 120.0, 263.0, 115.0, 307.0, 292.0, 171.0, 64.0, 286.0, 241.0, 94.0, 737.0, 86.0, 242.0, 99.0, 240.0, 92.0, 71.0, 40.0, 60.0, 251.0, 27.0, 406.0, 354.0, 73.0, 19.844093727771345, 20.78455267783375, 15.091380523987928, 12.254491226015304, 12.234790577150793, 19.810144026601183, 9.419291767876079, 8.478925106442334, 10.36049353772276, 8.47779019006186, 115.97596835954349, 45.214396147056775, 9.417316953144464, 7.531144918261983, 7.530505593104444, 7.529425785559957, 11.28746483874059, 46.034062129534284, 8.454018374205814, 6.584770808242315, 6.584355689363493, 6.583636143723223, 6.583741464779795, 6.582267164345855, 7.5115792854211065, 6.58047292151191, 6.578652181320084, 7.509484026662232, 5.637778028771989, 5.636430311548821, 55.3624267249285, 38.40548419736568, 48.78069555795279, 43.04491019239266, 18.866902330897684, 34.67536405104432, 59.00426321125364, 280.65868147148865, 33.63218451906617, 56.82966419366897, 30.943721738862592, 37.480601977916784, 69.92902775283194, 27.968730685806253, 34.793524745132075, 737.8169778496518, 51.27299388655819, 239.6934267670139, 214.02186953634555, 31.990952337352216, 40.64128262447558, 230.53409848696802, 126.45235598123863, 275.2874141633951, 286.1248602429411, 245.4958764966425, 170.92097074937203, 241.42324254190834, 240.29702517573028, 78.10403401924195, 234.17235189400702, 242.32801396901323, 248.57039532181452, 158.63095786043897, 138.5260181679309, 193.8787833438233, 207.95199581100871, 406.58697236826873, 354.5274592468188, 205.72123934586162, 187.67853706405634, 158.17163813169537, 251.4641582156193, 307.09878622258753, 315.85422097993296, 263.31536162510747, 155.34000264322282, 292.64069833808236, 12.377964812917968, 15.231022446482237, 7.604698998008389, 7.603414921525424, 5.69133124840724, 5.689589810723264, 18.984375913258265, 5.674697720501438, 4.733511368198906, 4.732279226197156, 10.422654245485484, 17.038187353768564, 4.724481725534589, 6.6204692433970145, 27.45662523711242, 3.775696272904267, 3.7750238371971587, 3.7751805376280956, 3.775184198809375, 3.775099686877085, 3.775401330878929, 3.775498008680793, 3.7744746109160414, 3.7746981975190987, 3.7734153486152415, 6.589849450912904, 4.7122883684138275, 3.7737964392793706, 3.7719212663218444, 3.7717012515417636, 15.233052536110607, 9.382643661034548, 10.460157950270476, 60.14678604279896, 28.060978412943243, 19.88584289492539, 10.225841366418804, 120.10569170562354, 12.158538525468147, 13.090109228735898, 6.620862238874631, 36.24451790937585, 32.270575379917645, 397.8017844722018, 38.08473959403095, 22.674426142394434, 53.9644238235083, 77.77767424378033, 51.26150933554188, 107.59995752806994, 86.03062396651768, 39.822978499656855, 22.084131227104884, 164.95956732996632, 73.80126243415864, 315.85422097993296, 275.2874141633951, 251.4641582156193, 63.02104319429862, 245.4958764966425, 74.75606586221856, 189.12778214882556, 406.58697236826873, 248.57039532181452, 158.63095786043897, 54.77074874601797, 354.5274592468188, 286.1248602429411, 170.92097074937203, 737.8169778496518, 205.72123934586162, 147.8471496553487, 106.34065855912428, 103.61886670687495, 230.53409848696802, 307.09878622258753, 187.67853706405634, 155.34000264322282, 158.17163813169537, 193.8787833438233, 68.36463222500417, 27.533132750510337, 9.773176368970466, 7.1108739144649356, 6.224774592161495, 5.33465751492567, 5.337517008240598, 8.919471704735523, 4.450471249061878, 4.450314370171057, 4.449860886777856, 4.4497438222296095, 4.449962572371955, 4.450871829370374, 5.352061317207462, 7.128219818771719, 3.5635564697245914, 3.56349553001169, 3.5632691843769946, 3.562944306963367, 3.5626607817448654, 3.5626059920918256, 3.562795440228759, 3.563489114178176, 3.562407685060161, 4.461243977684165, 4.445803760343702, 8.912731979653094, 5.377092119531569, 64.4182636794757, 18.805435898387948, 21.291914023048818, 40.596015490413905, 13.535495705753602, 8.802765377667093, 35.42751671471278, 16.066824916407242, 20.449483424836153, 60.18266804002895, 94.9958320315967, 307.09878622258753, 292.64069833808236, 315.85422097993296, 397.8017844722018, 48.888544371009175, 36.298037557991066, 91.41967350015237, 135.8667730198929, 33.596639179447855, 234.17235189400702, 33.42194118114922, 251.4641582156193, 52.94403433872251, 47.50529908053024, 406.58697236826873, 263.31536162510747, 354.5274592468188, 123.91155295628666, 242.32801396901323, 240.29702517573028, 245.4958764966425, 737.8169778496518, 207.95199581100871, 193.8787833438233, 63.02104319429862, 280.65868147148865, 120.52260405593591, 230.53409848696802, 239.6934267670139, 241.42324254190834, 275.2874141633951, 9.998968769626126, 5.4489660712617605, 4.540757171415663, 4.540566574885924, 4.540126129095078, 4.540585445717033, 4.537005431430172, 5.455887696632264, 7.253551029751232, 3.631320260505241, 8.137112998831507, 3.6306871839267734, 3.6308669292428593, 3.6303817599383574, 3.630799943130193, 3.630887566889931, 3.6300763216382412, 5.468540536226183, 6.317311983217138, 3.630884282561733, 8.106782857269765, 3.6312186099551806, 3.6300915058856513, 3.630932051595369, 7.212468764927646, 3.6286526238254493, 25.754270258818924, 6.29448652895491, 18.116397053214026, 2.721514885726683, 9.012426676079523, 22.997413721540624, 8.063692191155798, 11.811125505702593, 43.17970307879963, 13.448317420038581, 28.201456692334155, 38.854103718785126, 26.650523552392006, 189.12778214882556, 130.96378036773817, 8.24873237351369, 11.045231951383256, 263.31536162510747, 28.58407521691336, 103.61886670687495, 737.8169778496518, 240.29702517573028, 73.562262883584, 21.148279386614856, 20.518905721574846, 286.1248602429411, 40.678197618952744, 151.82209526820563, 135.8667730198929, 129.34883839752882, 207.95199581100871, 39.177736215358614, 55.65481764490603, 354.5274592468188, 397.8017844722018, 292.64069833808236, 406.58697236826873, 45.792782845121266, 101.7660866566585, 214.02186953634555, 126.45235598123863, 241.42324254190834, 170.92097074937203, 315.85422097993296, 242.32801396901323, 307.09878622258753, 193.8787833438233, 205.72123934586162, 248.57039532181452, 171.57395660818443, 245.4958764966425, 9.611597592362074, 7.002430119171574, 6.125975873476598, 6.126699601918878, 6.125755690596267, 5.256282572378023, 5.257562530198573, 4.3857991044342235, 4.385780311469904, 4.384754878582756, 4.384107935568, 4.383571724144658, 14.009247586368284, 4.386724114145896, 4.388024281345743, 4.387347354392345, 4.389928267727654, 10.506619610788372, 6.975508388642476, 3.5147041888544144, 3.5148501549540554, 3.5146600584099414, 3.5145043021577407, 3.514580064945616, 3.5142430304772514, 3.5144691813112106, 3.5143985736743306, 3.5130077308949996, 4.402934882708112, 3.521117173170839, 9.663311360225398, 14.198507946586586, 6.1987513294914915, 9.80228510773625, 7.0105364412807765, 6.095468059180487, 92.99796967167084, 28.96258906973134, 5.312496637529699, 41.98244580983014, 19.65402191430702, 171.57395660818443, 241.42324254190834, 21.753409884664347, 10.795212608209145, 112.7146105377646, 108.66559328954489, 25.57787015714886, 21.747683276328594, 34.05029641288834, 32.288230331333466, 354.5274592468188, 83.38147554836661, 83.81158407962283, 29.359919729536212, 406.58697236826873, 248.57039532181452, 187.67853706405634, 81.80836823379231, 234.17235189400702, 205.72123934586162, 275.2874141633951, 230.53409848696802, 147.8471496553487, 292.64069833808236, 737.8169778496518, 189.12778214882556, 51.26150933554188, 307.09878622258753, 214.02186953634555, 164.95956732996632, 239.6934267670139, 155.34000264322282, 97.42658318926411, 130.96378036773817, 158.63095786043897, 286.1248602429411, 315.85422097993296, 14.419445772951564, 7.659125650698419, 5.972031089482264, 5.988291529322038, 3.436479353960515, 3.4365576937480924, 3.4366110810455908, 3.43594354064379, 3.435001123180152, 3.434281141308107, 3.4357962342260224, 4.303083023715075, 3.437633827974226, 3.4375451414829095, 6.866894718249817, 3.437078096451584, 10.269922529346406, 3.4604947546198845, 6.016379791718565, 2.591792152360285, 2.5918462878633695, 2.5918866563791654, 2.5918765587880896, 2.5918368434862833, 2.5918665998682484, 2.59183450914717, 2.59183577781509, 2.591839588679969, 2.591868990061672, 2.5918715672091444, 19.66473889508419, 6.866818707709042, 18.179888659040717, 6.130589248298214, 11.382064016094589, 12.279293963622536, 24.518156188573947, 102.28841012367731, 20.470543388809844, 7.84747026745206, 12.22512946816071, 16.08759224982696, 99.11550187659545, 242.32801396901323, 21.99762313315538, 24.392930649524917, 86.03062396651768, 73.80126243415864, 22.02678543921516, 22.602322692484424, 32.13888268909544, 47.50529908053024, 71.36921605929697, 33.42194118114922, 286.1248602429411, 187.67853706405634, 354.5274592468188, 406.58697236826873, 129.34883839752882, 36.88154721202134, 251.4641582156193, 138.5260181679309, 72.4516461552198, 108.26456151807837, 41.98244580983014, 81.80836823379231, 94.9958320315967, 263.31536162510747, 307.09878622258753, 171.57395660818443, 737.8169778496518, 292.64069833808236, 158.17163813169537, 214.02186953634555, 241.42324254190834, 151.82209526820563, 189.12778214882556, 234.17235189400702], \"Category\": [\"Default\", \"Default\", \"Default\", \"Default\", \"Default\", \"Default\", \"Default\", \"Default\", \"Default\", \"Default\", \"Default\", \"Default\", \"Default\", \"Default\", \"Default\", \"Default\", \"Default\", \"Default\", \"Default\", \"Default\", \"Default\", \"Default\", \"Default\", \"Default\", \"Default\", \"Default\", \"Default\", \"Default\", \"Default\", \"Default\", \"Topic1\", \"Topic1\", \"Topic1\", \"Topic1\", \"Topic1\", \"Topic1\", \"Topic1\", \"Topic1\", \"Topic1\", \"Topic1\", \"Topic1\", \"Topic1\", \"Topic1\", \"Topic1\", \"Topic1\", \"Topic1\", \"Topic1\", \"Topic1\", \"Topic1\", \"Topic1\", \"Topic1\", \"Topic1\", \"Topic1\", \"Topic1\", \"Topic1\", \"Topic1\", \"Topic1\", \"Topic1\", \"Topic1\", \"Topic1\", \"Topic1\", \"Topic1\", \"Topic1\", \"Topic1\", \"Topic1\", \"Topic1\", \"Topic1\", \"Topic1\", \"Topic1\", \"Topic1\", \"Topic1\", \"Topic1\", \"Topic1\", \"Topic1\", \"Topic1\", \"Topic1\", \"Topic1\", \"Topic1\", \"Topic1\", \"Topic1\", \"Topic1\", \"Topic1\", \"Topic1\", \"Topic1\", \"Topic1\", \"Topic1\", \"Topic1\", \"Topic1\", \"Topic1\", \"Topic1\", \"Topic1\", \"Topic1\", \"Topic1\", \"Topic1\", \"Topic1\", \"Topic1\", \"Topic1\", \"Topic1\", \"Topic1\", \"Topic1\", \"Topic1\", \"Topic1\", \"Topic1\", \"Topic1\", \"Topic1\", \"Topic1\", \"Topic1\", \"Topic1\", \"Topic2\", \"Topic2\", \"Topic2\", \"Topic2\", \"Topic2\", \"Topic2\", \"Topic2\", \"Topic2\", \"Topic2\", \"Topic2\", \"Topic2\", \"Topic2\", \"Topic2\", \"Topic2\", \"Topic2\", \"Topic2\", \"Topic2\", \"Topic2\", \"Topic2\", \"Topic2\", \"Topic2\", \"Topic2\", \"Topic2\", \"Topic2\", \"Topic2\", \"Topic2\", \"Topic2\", \"Topic2\", \"Topic2\", \"Topic2\", \"Topic2\", \"Topic2\", \"Topic2\", \"Topic2\", \"Topic2\", \"Topic2\", \"Topic2\", \"Topic2\", \"Topic2\", \"Topic2\", \"Topic2\", \"Topic2\", \"Topic2\", \"Topic2\", \"Topic2\", \"Topic2\", \"Topic2\", \"Topic2\", \"Topic2\", \"Topic2\", \"Topic2\", \"Topic2\", \"Topic2\", \"Topic2\", \"Topic2\", \"Topic2\", \"Topic2\", \"Topic2\", \"Topic2\", \"Topic2\", \"Topic2\", \"Topic2\", \"Topic2\", \"Topic2\", \"Topic2\", \"Topic2\", \"Topic2\", \"Topic2\", \"Topic2\", \"Topic2\", \"Topic2\", \"Topic2\", \"Topic2\", \"Topic2\", \"Topic2\", \"Topic2\", \"Topic2\", \"Topic2\", \"Topic2\", \"Topic2\", \"Topic3\", \"Topic3\", \"Topic3\", \"Topic3\", \"Topic3\", \"Topic3\", \"Topic3\", \"Topic3\", \"Topic3\", \"Topic3\", \"Topic3\", \"Topic3\", \"Topic3\", \"Topic3\", \"Topic3\", \"Topic3\", \"Topic3\", \"Topic3\", \"Topic3\", \"Topic3\", \"Topic3\", \"Topic3\", \"Topic3\", \"Topic3\", \"Topic3\", \"Topic3\", \"Topic3\", \"Topic3\", \"Topic3\", \"Topic3\", \"Topic3\", \"Topic3\", \"Topic3\", \"Topic3\", \"Topic3\", \"Topic3\", \"Topic3\", \"Topic3\", \"Topic3\", \"Topic3\", \"Topic3\", \"Topic3\", \"Topic3\", \"Topic3\", \"Topic3\", \"Topic3\", \"Topic3\", \"Topic3\", \"Topic3\", \"Topic3\", \"Topic3\", \"Topic3\", \"Topic3\", \"Topic3\", \"Topic3\", \"Topic3\", \"Topic3\", \"Topic3\", \"Topic3\", \"Topic3\", \"Topic3\", \"Topic3\", \"Topic3\", \"Topic3\", \"Topic3\", \"Topic3\", \"Topic3\", \"Topic3\", \"Topic3\", \"Topic3\", \"Topic3\", \"Topic4\", \"Topic4\", \"Topic4\", \"Topic4\", \"Topic4\", \"Topic4\", \"Topic4\", \"Topic4\", \"Topic4\", \"Topic4\", \"Topic4\", \"Topic4\", \"Topic4\", \"Topic4\", \"Topic4\", \"Topic4\", \"Topic4\", \"Topic4\", \"Topic4\", \"Topic4\", \"Topic4\", \"Topic4\", \"Topic4\", \"Topic4\", \"Topic4\", \"Topic4\", \"Topic4\", \"Topic4\", \"Topic4\", \"Topic4\", \"Topic4\", \"Topic4\", \"Topic4\", \"Topic4\", \"Topic4\", \"Topic4\", \"Topic4\", \"Topic4\", \"Topic4\", \"Topic4\", \"Topic4\", \"Topic4\", \"Topic4\", \"Topic4\", \"Topic4\", \"Topic4\", \"Topic4\", \"Topic4\", \"Topic4\", \"Topic4\", \"Topic4\", \"Topic4\", \"Topic4\", \"Topic4\", \"Topic4\", \"Topic4\", \"Topic4\", \"Topic4\", \"Topic4\", \"Topic4\", \"Topic4\", \"Topic4\", \"Topic4\", \"Topic4\", \"Topic4\", \"Topic4\", \"Topic4\", \"Topic4\", \"Topic4\", \"Topic4\", \"Topic4\", \"Topic4\", \"Topic4\", \"Topic4\", \"Topic4\", \"Topic4\", \"Topic4\", \"Topic5\", \"Topic5\", \"Topic5\", \"Topic5\", \"Topic5\", \"Topic5\", \"Topic5\", \"Topic5\", \"Topic5\", \"Topic5\", \"Topic5\", \"Topic5\", \"Topic5\", \"Topic5\", \"Topic5\", \"Topic5\", \"Topic5\", \"Topic5\", \"Topic5\", \"Topic5\", \"Topic5\", \"Topic5\", \"Topic5\", \"Topic5\", \"Topic5\", \"Topic5\", \"Topic5\", \"Topic5\", \"Topic5\", \"Topic5\", \"Topic5\", \"Topic5\", \"Topic5\", \"Topic5\", \"Topic5\", \"Topic5\", \"Topic5\", \"Topic5\", \"Topic5\", \"Topic5\", \"Topic5\", \"Topic5\", \"Topic5\", \"Topic5\", \"Topic5\", \"Topic5\", \"Topic5\", \"Topic5\", \"Topic5\", \"Topic5\", \"Topic5\", \"Topic5\", \"Topic5\", \"Topic5\", \"Topic5\", \"Topic5\", \"Topic5\", \"Topic5\", \"Topic5\", \"Topic5\", \"Topic5\", \"Topic5\", \"Topic5\", \"Topic5\", \"Topic5\", \"Topic5\", \"Topic5\", \"Topic5\", \"Topic5\", \"Topic5\", \"Topic5\", \"Topic5\", \"Topic5\", \"Topic5\", \"Topic5\", \"Topic5\", \"Topic5\", \"Topic5\", \"Topic6\", \"Topic6\", \"Topic6\", \"Topic6\", \"Topic6\", \"Topic6\", \"Topic6\", \"Topic6\", \"Topic6\", \"Topic6\", \"Topic6\", \"Topic6\", \"Topic6\", \"Topic6\", \"Topic6\", \"Topic6\", \"Topic6\", \"Topic6\", \"Topic6\", \"Topic6\", \"Topic6\", \"Topic6\", \"Topic6\", \"Topic6\", \"Topic6\", \"Topic6\", \"Topic6\", \"Topic6\", \"Topic6\", \"Topic6\", \"Topic6\", \"Topic6\", \"Topic6\", \"Topic6\", \"Topic6\", \"Topic6\", \"Topic6\", \"Topic6\", \"Topic6\", \"Topic6\", \"Topic6\", \"Topic6\", \"Topic6\", \"Topic6\", \"Topic6\", \"Topic6\", \"Topic6\", \"Topic6\", \"Topic6\", \"Topic6\", \"Topic6\", \"Topic6\", \"Topic6\", \"Topic6\", \"Topic6\", \"Topic6\", \"Topic6\", \"Topic6\", \"Topic6\", \"Topic6\", \"Topic6\", \"Topic6\", \"Topic6\", \"Topic6\", \"Topic6\", \"Topic6\", \"Topic6\", \"Topic6\", \"Topic6\", \"Topic6\", \"Topic6\", \"Topic6\", \"Topic6\", \"Topic6\", \"Topic6\", \"Topic6\", \"Topic6\", \"Topic6\"], \"logprob\": [30.0, 29.0, 28.0, 27.0, 26.0, 25.0, 24.0, 23.0, 22.0, 21.0, 20.0, 19.0, 18.0, 17.0, 16.0, 15.0, 14.0, 13.0, 12.0, 11.0, 10.0, 9.0, 8.0, 7.0, 6.0, 5.0, 4.0, 3.0, 2.0, 1.0, -6.1557, -6.1112, -6.4567, -6.6746, -6.6881, -6.2066, -6.9529, -7.059, -6.8588, -7.061, -4.4461, -5.3892, -6.9613, -7.1898, -7.1914, -7.1979, -6.7966, -5.3938, -7.0888, -7.3397, -7.3402, -7.3407, -7.3408, -7.3412, -7.217, -7.3502, -7.3541, -7.2262, -7.5163, -7.5174, -5.2343, -5.5999, -5.3696, -5.5069, -6.3163, -5.7217, -5.216, -3.7212, -5.769, -5.2787, -5.8583, -5.7149, -5.1513, -6.0232, -5.8437, -3.2301, -5.5331, -4.2507, -4.3804, -5.9394, -5.7635, -4.4446, -4.9288, -4.3895, -4.3692, -4.4789, -4.7395, -4.5121, -4.5416, -5.3049, -4.6171, -4.5966, -4.5906, -4.8893, -4.985, -4.8145, -4.7881, -4.4468, -4.5315, -4.8371, -4.906, -4.9749, -4.86, -4.8935, -4.9328, -4.9807, -5.0793, -5.045, -6.055, -5.8542, -6.57, -6.5731, -6.8949, -6.8965, -5.6994, -6.9264, -7.1103, -7.1119, -6.3368, -5.8458, -7.1375, -6.8157, -5.3958, -7.3845, -7.3851, -7.3851, -7.3853, -7.3853, -7.3853, -7.3853, -7.3866, -7.3866, -7.3876, -6.833, -7.169, -7.3911, -7.3967, -7.3968, -6.0028, -6.4956, -6.4034, -4.7684, -5.4909, -5.8301, -6.4675, -4.2458, -6.3305, -6.2661, -6.8833, -5.3969, -5.51, -3.3338, -5.3829, -5.8325, -5.1371, -4.8714, -5.2164, -4.6601, -4.8659, -5.4539, -5.91, -4.4765, -5.0571, -4.0566, -4.1797, -4.2709, -5.2254, -4.3612, -5.1643, -4.5989, -4.1454, -4.5254, -4.8057, -5.3758, -4.5574, -4.6918, -4.9066, -4.3706, -4.859, -4.9782, -5.1073, -5.1187, -4.9123, -4.8408, -5.0156, -5.0659, -5.1155, -5.1132, -4.2341, -5.1599, -6.2316, -6.5835, -6.7297, -6.9116, -6.9124, -6.406, -7.1216, -7.122, -7.1226, -7.1235, -7.1253, -7.1282, -6.9579, -6.6934, -7.396, -7.3962, -7.3964, -7.3967, -7.397, -7.3972, -7.398, -7.3979, -7.3987, -7.174, -7.1835, -6.5211, -7.0496, -4.5732, -5.8141, -5.7007, -5.1286, -6.1717, -6.5739, -5.3088, -6.0443, -5.8545, -4.9349, -4.5859, -3.6986, -3.7957, -3.7682, -3.6335, -5.2582, -5.4978, -4.791, -4.5513, -5.6118, -4.3553, -5.6871, -4.3767, -5.4288, -5.5046, -4.2653, -4.5645, -4.4343, -5.025, -4.6859, -4.6957, -4.6949, -4.1918, -4.8461, -4.9246, -5.3779, -4.8746, -5.1933, -5.0579, -5.0971, -5.1224, -5.2074, -6.1812, -6.8558, -7.0691, -7.0699, -7.07, -7.0701, -7.0776, -6.9085, -6.6293, -7.3433, -6.5365, -7.344, -7.3441, -7.3446, -7.3445, -7.345, -7.3457, -6.9362, -6.7919, -7.3462, -6.5431, -7.3469, -7.3497, -7.35, -6.6651, -7.3601, -5.4561, -6.8802, -5.8272, -7.7231, -6.5352, -5.6726, -6.659, -6.3449, -5.2448, -6.2369, -5.6228, -5.3604, -5.6782, -4.0567, -4.3944, -6.6647, -6.4275, -3.8424, -5.6871, -4.6939, -3.2592, -4.1164, -5.0071, -5.9704, -5.996, -4.1851, -5.5461, -4.6676, -4.769, -4.8032, -4.4997, -5.5884, -5.3999, -4.3296, -4.2913, -4.4663, -4.282, -5.5507, -5.119, -4.796, -5.1166, -4.8644, -5.0193, -4.7945, -4.9067, -4.825, -4.9976, -4.9879, -4.9549, -5.1608, -5.1273, -6.0693, -6.4248, -6.5649, -6.5656, -6.5669, -6.7417, -6.7468, -6.9561, -6.9561, -6.9571, -6.9582, -6.9593, -5.7992, -6.9622, -6.9677, -6.9748, -6.9764, -6.1176, -6.5359, -7.2305, -7.2305, -7.2308, -7.2309, -7.2312, -7.232, -7.2329, -7.2332, -7.2448, -7.036, -7.2935, -6.285, -5.9431, -6.7325, -6.3512, -6.6479, -6.7789, -4.5588, -5.5204, -6.8997, -5.2673, -5.8728, -4.211, -4.1505, -5.8754, -6.3682, -4.8124, -4.8379, -5.7964, -5.9083, -5.6273, -5.6781, -4.1552, -5.0732, -5.0814, -5.7425, -4.1202, -4.4656, -4.6941, -5.2345, -4.691, -4.7655, -4.6479, -4.7556, -4.9934, -4.691, -4.2671, -4.9362, -5.5093, -4.8073, -4.972, -5.0726, -4.935, -5.1084, -5.3154, -5.2284, -5.2095, -5.1874, -5.2434, -5.1965, -5.8794, -6.1672, -6.1881, -6.8241, -6.8242, -6.8243, -6.8259, -6.8274, -6.8288, -6.8293, -6.606, -6.8321, -6.8324, -6.1435, -6.8389, -5.7827, -6.9006, -6.3545, -7.2035, -7.2035, -7.2035, -7.2035, -7.2037, -7.2038, -7.2039, -7.2039, -7.2039, -7.2039, -7.204, -5.2422, -6.2978, -5.4129, -6.4222, -5.8968, -5.8392, -5.2512, -4.0434, -5.5139, -6.3109, -5.9593, -5.8043, -4.5393, -4.1749, -5.6785, -5.6482, -4.9061, -5.0083, -5.7232, -5.712, -5.5218, -5.2979, -5.0692, -5.5057, -4.3601, -4.597, -4.2828, -4.2141, -4.8478, -5.4743, -4.652, -4.9522, -5.2268, -5.0851, -5.4403, -5.1948, -5.1437, -4.7896, -4.7607, -4.9752, -4.5123, -4.8219, -5.0508, -4.9808, -4.9781, -5.0921, -5.1329, -5.1117], \"loglift\": [30.0, 29.0, 28.0, 27.0, 26.0, 25.0, 24.0, 23.0, 22.0, 21.0, 20.0, 19.0, 18.0, 17.0, 16.0, 15.0, 14.0, 13.0, 12.0, 11.0, 10.0, 9.0, 8.0, 7.0, 6.0, 5.0, 4.0, 3.0, 2.0, 1.0, 1.137, 1.1353, 1.1098, 1.1002, 1.0883, 1.0879, 1.085, 1.0841, 1.0838, 1.0822, 1.0812, 1.0801, 1.0769, 1.0718, 1.0703, 1.0639, 1.0604, 1.0575, 1.0572, 1.0563, 1.0558, 1.0554, 1.0553, 1.0551, 1.0473, 1.0464, 1.0428, 1.0383, 1.0349, 1.0341, 1.0325, 1.0326, 1.0238, 1.0115, 1.0269, 1.013, 0.9871, 0.9224, 0.9962, 0.962, 0.9902, 0.942, 0.8819, 0.9264, 0.8876, 0.4469, 0.8104, 0.5506, 0.5342, 0.8759, 0.8124, 0.3957, 0.5121, 0.2733, 0.255, 0.2985, 0.4, 0.282, 0.2572, 0.6178, 0.2075, 0.1938, 0.1743, 0.3248, 0.3646, 0.1989, 0.1553, -0.1739, -0.1216, 0.1171, 0.14, 0.2422, -0.1066, -0.34, -0.4074, -0.2733, 0.1557, -0.4433, 1.7098, 1.7032, 1.682, 1.679, 1.6468, 1.6455, 1.6377, 1.6183, 1.6157, 1.6143, 1.5999, 1.5995, 1.5905, 1.5748, 1.5722, 1.5676, 1.5671, 1.5671, 1.567, 1.567, 1.5669, 1.5669, 1.5659, 1.5658, 1.5651, 1.5622, 1.5615, 1.5615, 1.5564, 1.5564, 1.5544, 1.5463, 1.5297, 1.4155, 1.4554, 1.4606, 1.4882, 1.2465, 1.4521, 1.4428, 1.5072, 1.2935, 1.2966, 0.9609, 1.258, 1.3269, 1.1553, 1.0554, 1.1274, 0.9422, 0.9601, 1.1424, 1.2759, 0.6985, 0.9222, 0.4689, 0.4832, 0.4824, 0.9118, 0.4162, 0.8022, 0.4394, 0.1275, 0.2396, 0.4084, 0.9018, -0.1475, -0.0675, 0.2328, -0.6936, 0.0951, 0.3063, 0.5068, 0.5213, -0.072, -0.2872, 0.0304, 0.1691, 0.1015, -0.0997, 1.8217, 1.8054, 1.7694, 1.7356, 1.7224, 1.6948, 1.6935, 1.6864, 1.666, 1.6657, 1.6652, 1.6644, 1.6625, 1.6594, 1.6453, 1.6232, 1.6139, 1.6137, 1.6136, 1.6134, 1.6132, 1.613, 1.6122, 1.6121, 1.6116, 1.6113, 1.6053, 1.5721, 1.5489, 1.5421, 1.5324, 1.5217, 1.4484, 1.5036, 1.5317, 1.4044, 1.4597, 1.4083, 1.2484, 1.1409, 0.8549, 0.8061, 0.7572, 0.6612, 1.133, 1.1911, 0.9742, 0.8178, 1.1545, 0.4693, 1.0844, 0.3767, 0.8827, 0.9152, 0.0076, 0.1428, -0.0244, 0.4361, 0.1045, 0.1031, 0.0825, -0.5148, 0.0973, 0.0888, 0.7593, -0.231, 0.2956, -0.2176, -0.2958, -0.3282, -0.5445, 1.797, 1.7295, 1.6985, 1.6977, 1.6977, 1.6976, 1.6909, 1.6755, 1.6699, 1.6478, 1.6477, 1.6473, 1.6472, 1.6468, 1.6468, 1.6462, 1.6457, 1.6455, 1.6455, 1.645, 1.6448, 1.6442, 1.6418, 1.6412, 1.6398, 1.6317, 1.576, 1.5608, 1.5566, 1.5564, 1.5469, 1.4727, 1.5343, 1.4668, 1.2706, 1.445, 1.3185, 1.2604, 1.3197, 0.9815, 1.0114, 1.506, 1.4512, 0.8649, 1.2408, 0.9461, 0.4178, 0.6824, 0.9754, 1.2587, 1.2633, 0.4392, 1.0289, 0.5903, 0.6, 0.615, 0.4437, 1.0241, 0.8616, 0.0803, 0.0035, 0.1355, -0.0092, 0.9058, 0.539, 0.1186, 0.3242, -0.0703, 0.1202, -0.2691, -0.1163, -0.2715, 0.0158, -0.0337, -0.1899, -0.0251, -0.3499, 1.9484, 1.9096, 1.9033, 1.9024, 1.9013, 1.8796, 1.8742, 1.8462, 1.8462, 1.8454, 1.8445, 1.8435, 1.8417, 1.8399, 1.8341, 1.8272, 1.825, 1.8111, 1.8023, 1.7933, 1.7932, 1.7929, 1.7929, 1.7926, 1.7918, 1.7909, 1.7906, 1.7795, 1.7624, 1.7285, 1.7273, 1.6844, 1.7238, 1.6469, 1.6854, 1.6942, 1.1894, 1.3943, 1.7109, 1.2761, 1.4296, 0.9246, 0.6437, 1.3255, 1.5334, 0.7434, 0.7545, 1.2426, 1.2928, 1.1255, 1.1279, 0.2547, 0.7841, 0.7707, 1.1585, 0.1526, 0.2993, 0.3519, 0.6418, 0.1336, 0.1886, 0.0149, 0.0847, 0.2911, -0.0892, -0.5901, 0.1021, 0.8345, -0.2538, -0.0574, 0.1024, -0.1336, 0.1266, 0.3861, 0.1773, 0.0046, -0.5632, -0.718, 2.4156, 2.3654, 2.3264, 2.3028, 2.2221, 2.222, 2.2219, 2.2205, 2.2193, 2.2181, 2.2171, 2.2153, 2.2138, 2.2135, 2.2105, 2.2072, 2.1688, 2.1386, 2.1317, 2.1248, 2.1248, 2.1248, 2.1248, 2.1246, 2.1246, 2.1245, 2.1244, 2.1244, 2.1244, 2.1243, 2.0596, 2.0562, 1.9674, 2.0452, 1.9518, 1.9336, 1.8301, 1.6095, 1.7479, 1.9096, 1.8179, 1.6984, 1.1451, 0.6155, 1.5113, 1.4382, 0.9199, 0.971, 1.4652, 1.4506, 1.2888, 1.1219, 0.9436, 1.2658, 0.2642, 0.449, 0.1271, 0.0587, 0.5704, 1.1986, 0.1014, 0.3974, 0.771, 0.511, 1.1031, 0.6815, 0.5831, -0.0823, -0.2072, 0.1605, -0.8353, -0.2202, 0.1662, -0.0662, -0.1839, 0.1659, -0.0946, -0.287]}, \"token.table\": {\"Topic\": [1, 2, 3, 4, 5, 6, 2, 4, 3, 4, 1, 6, 4, 5, 6, 1, 2, 3, 4, 5, 6, 1, 2, 3, 5, 1, 6, 1, 2, 3, 4, 5, 6, 3, 6, 6, 1, 2, 3, 4, 5, 6, 1, 6, 1, 2, 3, 4, 5, 6, 5, 1, 2, 5, 6, 1, 2, 3, 5, 1, 2, 3, 4, 5, 6, 2, 1, 2, 3, 5, 1, 5, 1, 2, 3, 4, 5, 6, 3, 4, 5, 6, 3, 3, 1, 2, 3, 4, 5, 6, 1, 4, 5, 6, 5, 3, 1, 3, 4, 6, 1, 2, 3, 4, 5, 3, 5, 1, 1, 2, 3, 4, 5, 6, 3, 1, 2, 5, 6, 1, 2, 3, 4, 5, 6, 5, 1, 2, 4, 6, 1, 2, 3, 4, 6, 2, 1, 2, 3, 4, 5, 6, 5, 4, 3, 1, 3, 4, 5, 6, 4, 6, 2, 4, 5, 4, 2, 6, 1, 5, 6, 1, 3, 4, 6, 3, 2, 4, 2, 3, 5, 6, 1, 2, 3, 4, 5, 3, 2, 4, 4, 6, 6, 5, 6, 6, 1, 2, 3, 4, 5, 6, 2, 3, 4, 5, 6, 1, 2, 5, 3, 4, 6, 3, 6, 4, 5, 6, 6, 1, 2, 3, 4, 5, 6, 2, 5, 6, 4, 1, 3, 4, 6, 2, 1, 2, 3, 4, 5, 6, 1, 2, 3, 4, 5, 6, 2, 5, 1, 2, 1, 2, 3, 4, 5, 6, 1, 2, 3, 4, 5, 6, 1, 1, 4, 5, 6, 6, 1, 2, 3, 4, 5, 6, 5, 1, 2, 3, 1, 2, 3, 4, 5, 6, 2, 1, 2, 4, 5, 6, 6, 1, 5, 6, 2, 1, 3, 5, 3, 4, 2, 6, 1, 2, 3, 4, 5, 6, 1, 3, 1, 3, 1, 5, 6, 1, 2, 3, 5, 6, 1, 2, 3, 4, 5, 6, 1, 2, 3, 4, 5, 6, 1, 2, 3, 4, 5, 6, 3, 4, 5, 5, 5, 5, 2, 5, 2, 3, 4, 5, 6, 1, 1, 2, 3, 4, 5, 6, 1, 1, 2, 3, 4, 5, 6, 1, 2, 3, 4, 5, 6, 1, 4, 5, 1, 2, 3, 4, 5, 6, 1, 2, 3, 4, 5, 6, 3, 1, 2, 3, 4, 5, 6, 4, 3, 4, 1, 2, 5, 1, 2, 5, 1, 2, 3, 4, 5, 6, 2, 1, 2, 3, 4, 5, 6, 2, 1, 3, 5, 6, 1, 2, 3, 4, 5, 6, 1, 2, 3, 4, 5, 1, 1, 2, 3, 4, 5, 6, 1, 1, 3, 4, 6, 1, 2, 3, 4, 5, 6, 1, 4, 1, 5, 6, 2, 3, 5, 6, 1, 2, 4, 5, 6, 1, 2, 4, 1, 5, 6, 5, 5, 1, 5, 1, 2, 3, 4, 5, 6, 1, 4, 5, 1, 3, 4, 5, 6, 1, 2, 3, 4, 5, 6, 1, 2, 5, 1, 4, 1, 2, 3, 4, 5, 6, 1, 2, 3, 4, 5, 6, 1, 5, 6, 1, 3, 4, 1, 2, 3, 4, 5, 6, 1, 3, 5, 2, 6, 1, 2, 3, 4, 5, 6, 1, 1, 2, 3, 4, 5, 6, 1, 2, 3, 4, 5, 6, 6, 1, 5, 1, 2, 4, 5, 6, 1, 2, 3, 4, 5, 6, 1, 2, 3, 4, 5, 6, 2, 1, 2, 4, 6, 1, 2, 1, 2, 3, 4, 5, 6, 1, 2, 3, 4, 5, 2, 5, 1, 1, 4, 5, 6, 1, 2, 3, 4, 5, 6, 4, 2, 1, 2, 5, 1, 2, 3, 4, 5, 6, 1, 2, 3, 4, 5, 6, 3, 1, 2, 3, 4, 5, 6, 4, 1, 1, 2, 3, 4, 5, 1, 3, 1, 2, 3, 4, 5, 6, 1, 2, 4, 5, 6, 1, 2, 3, 4, 5, 6, 3, 4, 5, 6, 1, 3, 5, 6, 3, 6, 3, 3, 1, 3, 4, 5, 3, 4, 5, 1, 2, 3, 4, 5, 6, 2, 3, 4, 5, 6, 2, 4, 5, 4, 1, 2, 3, 4, 5, 6, 4, 1, 3, 1, 2, 4, 6, 4, 1, 1, 3, 4, 4, 5, 4, 6, 4, 6, 2, 4, 1, 3, 5, 6, 5, 1, 5, 2, 4, 5, 6, 1, 2, 3, 4, 5, 2, 1, 2, 5, 1, 2, 3, 4, 5, 6, 1, 2, 1, 2, 3, 4, 5, 6, 2, 3, 5, 3, 5, 6, 6, 2, 3, 4, 5, 1, 2, 3, 4, 5, 6, 3, 4, 1, 2, 3, 4, 5, 6, 6, 2, 3, 4, 5, 6, 1, 2, 3, 4, 6, 2, 2, 5, 6, 2, 6, 1, 2, 3, 4, 6, 1, 4, 5, 4, 1, 2, 3, 4, 5, 6, 2, 3, 4, 6, 1, 2, 4, 5, 6, 2, 4, 6, 1, 2, 3, 4, 5, 6, 1, 3, 6, 6, 1, 1, 2, 3, 4, 5, 6, 1, 2, 3, 4, 5, 6, 4, 3, 1, 2, 3, 4, 5, 1, 2, 3, 4, 5, 5, 3, 4, 2, 4, 5, 1, 2, 3, 4, 5, 3, 2, 3, 5, 1, 5, 1, 1, 2, 3, 4, 5, 6, 1, 2, 4, 5, 2, 4, 5, 1, 2, 3, 4, 5, 5, 2, 4, 5, 6, 3, 3, 1, 2, 3, 4, 5, 6, 1, 1, 2, 3, 4, 5, 6, 1, 5, 2, 5, 6, 4, 6, 2, 3, 5, 6, 2, 4, 4, 3, 6, 1, 2, 3, 4, 5, 6, 5, 1, 2, 3, 4, 5, 6, 2, 1, 2, 1, 2, 3, 4, 5, 6, 4, 6, 1, 2, 3, 4, 5, 6, 1, 2, 3, 4, 5, 6, 5, 1, 4, 5, 3, 1, 1, 2, 3, 4, 5, 6, 2, 4, 6, 6, 5, 3, 5, 4, 1, 2, 3, 4, 5, 6, 3, 6, 1, 2, 3, 4, 5, 6, 3, 4, 1, 5, 3, 1, 2, 3, 4, 5, 6, 1, 3, 4, 5, 1, 2, 3, 4, 5, 6, 2, 4, 5, 1, 2, 3, 4, 5, 6, 6, 2, 4, 5], \"Freq\": [0.7021240085892042, 0.09751722341516726, 0.01950344468303345, 0.01950344468303345, 0.13652411278123416, 0.01950344468303345, 0.23297107391134275, 0.7377417340525854, 0.8418556084314989, 0.8267531535816448, 0.9112508927323787, 0.8729530136669549, 0.6657474413550566, 0.22191581378501887, 0.8726932972287742, 0.11638194591177281, 0.6816656831975264, 0.11638194591177281, 0.0166259922731104, 0.0332519845462208, 0.049877976819331205, 0.9067908341991401, 0.022116849614613174, 0.022116849614613174, 0.04423369922922635, 0.943515823004682, 0.7716431729499409, 0.38006194702389073, 0.08967753806181691, 0.2519511783641523, 0.06832574328519385, 0.14946256343636152, 0.06405538432986922, 0.16621291118896472, 0.6648516447558589, 0.8349626893609291, 0.18530726896492392, 0.5373910799982794, 0.03706145379298478, 0.03706145379298478, 0.12971508827544673, 0.055592180689477175, 0.9556862155940158, 0.8372360969127954, 0.5761546194773199, 0.29447902773285245, 0.012803435988384888, 0.06401717994192443, 0.05121374395353955, 0.012803435988384888, 0.9123862958638048, 0.31079852860230095, 0.12431941144092037, 0.06215970572046019, 0.43511794004322135, 0.26461529664831446, 0.6174356921794004, 0.044102549441385745, 0.044102549441385745, 0.44035049015883454, 0.06496974444966412, 0.13715834939373536, 0.09384518642729262, 0.12993948889932824, 0.12272062840492111, 0.794597161249262, 0.0340600386244924, 0.1362401544979696, 0.40872046349390884, 0.40872046349390884, 0.9321545894693535, 0.7608088305226346, 0.042100566435959726, 0.021050283217979863, 0.3999553811416174, 0.1684022657438389, 0.14735198252585904, 0.25260339861575837, 0.7296067499406177, 0.062094191484307885, 0.09314128722646182, 0.1086648350975388, 0.6747936170192252, 0.8420002507860825, 0.21817083950126032, 0.12699496627685303, 0.36795977408421515, 0.1172261227170951, 0.10094471678416522, 0.06838190491830548, 0.08179872471734663, 0.3271948988693865, 0.08179872471734663, 0.49079234830407975, 0.8161964890603484, 0.9372672914822849, 0.1772958061900087, 0.1772958061900087, 0.5673465798080278, 0.03545916123800174, 0.0728421640579721, 0.8012638046376931, 0.03642108202898605, 0.03642108202898605, 0.0728421640579721, 0.6650899028840802, 0.3202284717590016, 0.9296857687905898, 0.1643212883894404, 0.41993218143968103, 0.18257920932160043, 0.2008371302537605, 0.03651584186432009, 0.018257920932160044, 0.841923482276718, 0.4138371837425142, 0.0459819093047238, 0.459819093047238, 0.0459819093047238, 0.06033155439924154, 0.43740376939450115, 0.3041715867628427, 0.1533427007647389, 0.03267959196625583, 0.010055259066540256, 0.8536139727595313, 0.15103772951632552, 0.7551886475816276, 0.7943459688093356, 0.15886919376186712, 0.8402350634941979, 0.0323167332113153, 0.0323167332113153, 0.0646334664226306, 0.0323167332113153, 0.7946969686494508, 0.5279834263890969, 0.037379357620467034, 0.06074145613325894, 0.17287952899466005, 0.12148291226651788, 0.07943113494349245, 0.8568453947970041, 0.826234134203049, 0.8987812247620218, 0.7865927219630563, 0.07150842926936876, 0.03575421463468438, 0.07150842926936876, 0.03575421463468438, 0.7440760209796646, 0.24802534032655488, 0.3677584361447543, 0.09193960903618857, 0.5056678496990371, 0.8263593744066572, 0.7823317136789971, 0.19558292841974928, 0.24471660731144804, 0.20393050609287336, 0.5302193158414708, 0.08929464593098932, 0.5060029936089395, 0.14882440988498222, 0.267883937792968, 0.8420354326622178, 0.7947655264126109, 0.8262489533389721, 0.11968185744567393, 0.4787274297826957, 0.11968185744567393, 0.2992046436141848, 0.30572503198485024, 0.04367500456926432, 0.19653752056168944, 0.3712375388387467, 0.06551250685389648, 0.8420802094476114, 0.1828641469100448, 0.7314565876401792, 0.7401209709989326, 0.12335349516648877, 0.7716668167926376, 0.8535870415706184, 0.9139424418976185, 0.771653510916913, 0.2688230731086114, 0.09677630631910011, 0.1290350750921335, 0.08602338339475565, 0.4301169169737783, 0.5779520391787701, 0.712733522890097, 0.03563667614450485, 0.10691002843351455, 0.03563667614450485, 0.0712733522890097, 0.2040340571630121, 0.10201702858150605, 0.7141192000705423, 0.7044927940138342, 0.14089855880276686, 0.0939323725351779, 0.8989281540247729, 0.7716446518125838, 0.8809103523923804, 0.14562784348410843, 0.7281392174205421, 0.9709111029954859, 0.02643715240136151, 0.2590840935333428, 0.08459888768435683, 0.4071321469809672, 0.14276062296735215, 0.07931145720408453, 0.9206389592369681, 0.30511465379791464, 0.6610817498954817, 0.8261458050473899, 0.8670140172592298, 0.018062792026233954, 0.07225116810493581, 0.03612558405246791, 0.8466537140742963, 0.20579113933744017, 0.26911148990280637, 0.3355978579964409, 0.11714264854592747, 0.06332035056536621, 0.012664070113073241, 0.7767441892658717, 0.0035630467397517055, 0.12470663589130969, 0.028504373918013644, 0.0676978880552824, 0.0035630467397517055, 0.37053461985160235, 0.648435584740304, 0.8870862804344798, 0.7953970370197496, 0.2643148796964193, 0.058736639932537624, 0.11747327986507525, 0.058736639932537624, 0.41115647952776335, 0.08810495989880643, 0.30699635383606444, 0.1493495775418692, 0.20742996880815168, 0.15764677629419527, 0.08297198752326067, 0.09126918627558674, 0.8686844856599566, 0.1049535441407208, 0.5247677207036041, 0.17492257356786803, 0.2099070882814416, 0.8728344005616804, 0.34512722276883495, 0.18471597838332013, 0.1215236699890264, 0.14582840398683167, 0.1555502975859538, 0.0437485211960495, 0.9118421619224184, 0.1477596420166459, 0.1477596420166459, 0.7387982100832294, 0.35247978956161363, 0.08134148989883391, 0.2169106397302238, 0.027113829966277973, 0.027113829966277973, 0.27113829966277975, 0.7950357230356134, 0.06947708729087902, 0.06947708729087902, 0.5326576692300725, 0.20843126187263708, 0.0926361163878387, 0.771638680679801, 0.09517809124574982, 0.7614247299659985, 0.09517809124574982, 0.7948126055276125, 0.8609963330699715, 0.1024995634607109, 0.02049991269214218, 0.8417248839884787, 0.14028748066474644, 0.3262329148140497, 0.6524658296280994, 0.7436110821359752, 0.014300213117999522, 0.07150106558999761, 0.10010149182599666, 0.028600426235999045, 0.028600426235999045, 0.8859385294099185, 0.08859385294099184, 0.9115400287153612, 0.8989045055061036, 0.8094364211485974, 0.17596443938012987, 0.017596443938012987, 0.048850681733570725, 0.3419547721349951, 0.048850681733570725, 0.048850681733570725, 0.4885068173357072, 0.4622019150349943, 0.2106236574843012, 0.058506571523417004, 0.1696690574179093, 0.029253285761708502, 0.0702078858281004, 0.33341503551585017, 0.33947712707068384, 0.05455882399350276, 0.07880719021283732, 0.14549019731600735, 0.048496732438669116, 0.3323934740885157, 0.05865767189797336, 0.10753906514628449, 0.009776278649662226, 0.07821022919729781, 0.4203799819354757, 0.1034841952952114, 0.1034841952952114, 0.7243893670664798, 0.8536054424967244, 0.9117126310948331, 0.8539690856973144, 0.758742674964652, 0.1517485349929304, 0.5776591945884822, 0.07877170835297485, 0.21005788894126629, 0.05251447223531657, 0.07877170835297485, 0.9554858498697272, 0.08685676929337487, 0.27987181216754126, 0.1544120342993331, 0.39568083789204106, 0.03860300857483327, 0.048253760718541594, 0.9113504861170592, 0.48250448375090615, 0.08403167975437129, 0.0935191274685745, 0.23176479416124984, 0.07183353269325288, 0.03659444118335524, 0.42866790264120663, 0.2521575897889451, 0.031519698723618136, 0.11347091540502528, 0.13238273463919617, 0.044127578213065385, 0.3377044350482266, 0.5628407250803777, 0.07504543001071703, 0.36609347578252754, 0.21321927710410946, 0.0683910888824502, 0.12471316207976213, 0.17701223004869462, 0.048276062740553086, 0.2783696909202389, 0.27041627117966066, 0.22667246260648025, 0.06760406779491517, 0.06362735792462604, 0.09146432701664993, 0.9367651648286076, 0.39950556994950215, 0.07490729436553166, 0.1747836868529072, 0.3037906938157673, 0.024969098121843884, 0.024969098121843884, 0.826245004394186, 0.9654114686491458, 0.014627446494684027, 0.08224672709679114, 0.7402205438711202, 0.16449345419358227, 0.3798002993971297, 0.06905459989038722, 0.5179094991779042, 0.14953319227561088, 0.09515748599357056, 0.24469067826918145, 0.4078177971153024, 0.054375706282040324, 0.054375706282040324, 0.7946810015185907, 0.40288470694885853, 0.14739684400567993, 0.11791747520454396, 0.2653143192102239, 0.05895873760227198, 0.00982645626704533, 0.881104200834539, 0.1129065870523979, 0.6492128755512879, 0.05645329352619895, 0.16935988057859686, 0.07145843797641617, 0.023819479325472057, 0.14291687595283234, 0.04763895865094411, 0.47638958650944113, 0.2620142725801926, 0.1431828271849916, 0.06136406879356782, 0.4909125503485426, 0.2863656543699832, 0.02045468959785594, 0.9276818630175573, 0.18160630435399544, 0.18160630435399544, 0.17151706522321794, 0.17151706522321794, 0.030267717392332576, 0.26232021740021566, 0.9622530881470228, 0.0454594568670819, 0.22729728433540952, 0.3636756549366552, 0.3636756549366552, 0.23863049743815323, 0.11931524871907662, 0.16704134820670727, 0.07158914923144596, 0.28635659692578386, 0.10738372384716895, 0.24246149704431078, 0.7273844911329322, 0.9574637300472908, 0.19474343592027885, 0.7789737436811154, 0.5886579764588835, 0.0452813828045295, 0.22640691402264748, 0.090562765609059, 0.15264051363533737, 0.15264051363533737, 0.050880171211779124, 0.5596818833295704, 0.10176034242355825, 0.09053680397130677, 0.18107360794261354, 0.6337576277991473, 0.40449446005199285, 0.2489196677243033, 0.3111495846553791, 0.9120383867698543, 0.7609940951462848, 0.9113359071126103, 0.9122516790021529, 0.23545910735079656, 0.09874091598581791, 0.18229092181997153, 0.360784116102027, 0.04557273045499288, 0.07595455075832147, 0.8004140386452628, 0.16008280772905256, 0.05336093590968419, 0.048735542409970634, 0.048735542409970634, 0.5360909665096769, 0.19494216963988253, 0.1462066272299119, 0.27663957558880814, 0.09221319186293604, 0.13831978779440407, 0.27663957558880814, 0.1119731615478509, 0.09879984842457433, 0.750212114566465, 0.1562941905346802, 0.06251767621387208, 0.9086253979693176, 0.0504791887760732, 0.49267867586769015, 0.06158483448346127, 0.0923772517251919, 0.16422622528923003, 0.19501864253096068, 0.010264139080576877, 0.38646464898827876, 0.08281385335463116, 0.12422078003194675, 0.055209235569754114, 0.16562770670926233, 0.17943001560170085, 0.8976300849314642, 0.6562252416326804, 0.1640563104081701, 0.10635222766473844, 0.744465593653169, 0.15952834149710765, 0.10793764371295424, 0.23986143047323163, 0.19188914437858529, 0.14391685828393896, 0.28783371656787793, 0.02398614304732316, 0.21128980673784245, 0.07042993557928082, 0.7042993557928081, 0.8785290790092891, 0.8729864756913275, 0.39842745542350144, 0.15727399556190846, 0.02446484375407465, 0.23765848218243946, 0.07339453126222395, 0.10834430805375916, 0.9318945768949004, 0.360499543241402, 0.19956224715149037, 0.10943736134113988, 0.12874983687192929, 0.14806231240271867, 0.057937426592368176, 0.29860008302093355, 0.19368654033790283, 0.24210817542237856, 0.14526490525342714, 0.08877299765487214, 0.032281090056317144, 0.7716506991040477, 0.8325358700421832, 0.14866711965038987, 0.12555565124399432, 0.5273337352247761, 0.10044452099519545, 0.2008890419903909, 0.050222260497597725, 0.14507828001489556, 0.13744258106674317, 0.09926408632598117, 0.4199634421483819, 0.15271397896304797, 0.04581419368891439, 0.06688420454355372, 0.37455154544390085, 0.24078313635679338, 0.09363788636097521, 0.13376840908710744, 0.08026104545226447, 0.7946632116510092, 0.15086109328388395, 0.7040184353247918, 0.05028703109462798, 0.05028703109462798, 0.19120170168637698, 0.7648068067455079, 0.27360363060755044, 0.14385345526788734, 0.1523154232248219, 0.16641870315304613, 0.16923935913869098, 0.09590230351192489, 0.7472654808747893, 0.11496392013458297, 0.028740980033645742, 0.028740980033645742, 0.057481960067291483, 0.8450386380971118, 0.8161000742445417, 0.9436421308677876, 0.09079854187163056, 0.3631941674865222, 0.1815970837432611, 0.3631941674865222, 0.36066015960799735, 0.13945526171509232, 0.17311687661183872, 0.23563130427722495, 0.04327921915295968, 0.04808802128106631, 0.8261689317672417, 0.8787979742540345, 0.15638518670335905, 0.39096296675839765, 0.46915556011007714, 0.39197924945544377, 0.18334513280980433, 0.1517339030150105, 0.11380042726125786, 0.05690021363062893, 0.10115593534334032, 0.1394052594870858, 0.4275094624270631, 0.0464684198290286, 0.13011157552128008, 0.1486989434528915, 0.11152420758966863, 0.8420672592159352, 0.010526777634490201, 0.0631606658069412, 0.4947585488210394, 0.2000087750553138, 0.08421422107592161, 0.14737488688286282, 0.8262442570122536, 0.8868742214544213, 0.2057145595515088, 0.4757149189628641, 0.0642857998598465, 0.2185717195234781, 0.0257143199439386, 0.1859741246328352, 0.7438964985313408, 0.17008270250086996, 0.1546206386371545, 0.10823444704600815, 0.28604818147873584, 0.13915857477343907, 0.14688960670529677, 0.9053599765986322, 0.03448990387042408, 0.01724495193521204, 0.01724495193521204, 0.025867427902818062, 0.1699908235632419, 0.1322150849936326, 0.3777573856960932, 0.037775738569609314, 0.15110295427843726, 0.1322150849936326, 0.07435874457498723, 0.669228701174885, 0.14871748914997446, 0.07435874457498723, 0.30971037735368545, 0.27873933961831693, 0.4026234905597911, 0.030971037735368544, 0.6816039894942785, 0.22720132983142619, 0.8418700050930493, 0.7473755928654185, 0.33099619463276203, 0.047285170661823146, 0.5201368772800546, 0.047285170661823146, 0.6357128798770212, 0.14670297227931256, 0.14670297227931256, 0.06774951857308295, 0.42004701515311427, 0.08129942228769954, 0.1490489408607825, 0.06774951857308295, 0.21679845943386544, 0.6069883466241103, 0.16554227635203006, 0.11036151756802004, 0.08277113817601503, 0.02759037939200501, 0.2608989024874599, 0.6522472562186498, 0.04348315041457665, 0.9000928203055605, 0.574477376435454, 0.028023286655388002, 0.014011643327694001, 0.168139719932328, 0.014011643327694001, 0.21017464991541002, 0.917605273112336, 0.11211426338950997, 0.8969141071160798, 0.39818916500084395, 0.132729721666948, 0.08848648111129866, 0.3539459244451946, 0.8264289051217827, 0.8990754627662496, 0.08466593632564354, 0.16933187265128707, 0.6773274906051483, 0.7373622562279278, 0.12289370937132131, 0.831892684121758, 0.13864878068695966, 0.8809473298165428, 0.7716416868769246, 0.9204835065573596, 0.7348848284788903, 0.6889546341024542, 0.04921104529303244, 0.22144970381864598, 0.02460552264651622, 0.9120344787238055, 0.16132281274816584, 0.8066140637408292, 0.526710983542572, 0.09753907102640222, 0.2926172130792067, 0.07803125682112177, 0.18595559740181816, 0.08750851642438502, 0.41566545301582886, 0.18595559740181816, 0.13126277463657754, 0.7945554364446796, 0.8906448421742786, 0.021723044931079967, 0.08689217972431987, 0.5340154785488472, 0.08343991852325738, 0.11681588593256033, 0.09595590630174598, 0.11264389000639746, 0.0542359470401173, 0.1312934485887785, 0.787760691532671, 0.024978000271235565, 0.5828200063288298, 0.17484600189864896, 0.15819400171782524, 0.04163000045205927, 0.01665200018082371, 0.6875420092173764, 0.15278711315941698, 0.07639355657970849, 0.14264243662034326, 0.7132121831017163, 0.8731600466043954, 0.8727158121640961, 0.8488444864307856, 0.6846405594901913, 0.24896020345097863, 0.06224005086274466, 0.3755240614138664, 0.1072925889753904, 0.17331879757563065, 0.1361790552379955, 0.0536462944876952, 0.1568122454255706, 0.7853933020739683, 0.11219904315342405, 0.20608423514923982, 0.051521058787309955, 0.35328726025583973, 0.2796857477025398, 0.08096166380862993, 0.029440605021319975, 0.6971745568157651, 0.4125606096338336, 0.3332220308580964, 0.07933857877573723, 0.12694172604117956, 0.03173543151029489, 0.16398193630243052, 0.32796387260486104, 0.04099548407560763, 0.08199096815121526, 0.36895935668046864, 0.9191766376283849, 0.7949554376528237, 0.8601523596142757, 0.14335872660237928, 0.7946175087302805, 0.7716538281935418, 0.47959078579191367, 0.2821122269364198, 0.1410561134682099, 0.03761496359152264, 0.056422445387283957, 0.8363286383182646, 0.05767783712539756, 0.08651675568809634, 0.8809436685687861, 0.011623767838638374, 0.44170317786825825, 0.092990142709107, 0.05811883919319188, 0.185980285418214, 0.20922782109549076, 0.38605960669085826, 0.05147461422544777, 0.5404834493672016, 0.025737307112723887, 0.16287581402684953, 0.08143790701342477, 0.08143790701342477, 0.08143790701342477, 0.5700653490939733, 0.17571505459571643, 0.17571505459571643, 0.6150026910850075, 0.24938908560112213, 0.07389306240033248, 0.19396928880087277, 0.19396928880087277, 0.14778612480066497, 0.13854949200062341, 0.12742960035765552, 0.25485920071531104, 0.5097184014306221, 0.8729665750869559, 0.9111934454103789, 0.30436839739488364, 0.2299672335872454, 0.1285111011222842, 0.12174735895795345, 0.1758572962725994, 0.04058245298598448, 0.37652392253020434, 0.14957799662158802, 0.17020944443146224, 0.15473585857405658, 0.09284151514443395, 0.05157861952468553, 0.881032792099383, 0.8966109049423481, 0.4049119750605862, 0.06441781421418416, 0.11963308354062774, 0.11963308354062774, 0.27607634663221786, 0.13292863644195713, 0.2492411933286696, 0.5483306253230731, 0.049848238665733915, 0.01661607955524464, 0.8535214497754926, 0.9443168067941008, 0.733152920737182, 0.8427983133659904, 0.1053497891707488, 0.0526748945853744, 0.3098798172102973, 0.6197596344205946, 0.03098798172102973, 0.03098798172102973, 0.9363687892168848, 0.8987003340794572, 0.7953506418031423, 0.8418715208259785, 0.9124979016467439, 0.8592522836169201, 0.10415179195356608, 0.9294735496359883, 0.4100682227512321, 0.01656841304045382, 0.1118367880230633, 0.14083151084385748, 0.24852619560680733, 0.07041575542192874, 0.8480459441292248, 0.05300287150807655, 0.05300287150807655, 0.9115719840030736, 0.8635036515672868, 0.09594485017414298, 0.8162258262561091, 0.48513320396210574, 0.07187158577216382, 0.017967896443040955, 0.3593579288608191, 0.05390368932912286, 0.9111766197652493, 0.821683651512579, 0.058691689393755644, 0.058691689393755644, 0.7716526936061677, 0.8032419368720943, 0.9208879140434549, 0.16529819251010971, 0.13774849375842477, 0.5234442762820141, 0.13774849375842477, 0.0550993975033699, 0.8735452563610763, 0.9462955538881869, 0.32638986188262026, 0.05828390390761076, 0.04079873273532753, 0.15153815015978797, 0.32638986188262026, 0.0990826366429383, 0.9295524601176555, 0.8535676139777861, 0.07138142101029403, 0.8565770521235284, 0.07138142101029403, 0.8816387946749944, 0.8733621598419088, 0.11001167485178275, 0.11001167485178275, 0.1650175122776741, 0.6050642116848051, 0.7552334760843117, 0.15104669521686234, 0.8262641971437383, 0.14562623151077997, 0.7281311575538998, 0.19518321444786418, 0.13307946439627102, 0.16856732156860998, 0.15082339298244052, 0.2750308930856268, 0.07984767863776263, 0.8536689050764327, 0.406847513680822, 0.2724425314826933, 0.09081417716089776, 0.06175364046941048, 0.13077241511169277, 0.0363256708643591, 0.888675979149667, 0.9117885707554068, 0.8452586605322499, 0.3569934050430727, 0.17050431285639295, 0.10656519553524559, 0.04795433799086051, 0.18648909218667978, 0.133206494419057, 0.7914758703200396, 0.15829517406400792, 0.07657410278912256, 0.17867290650795264, 0.2552470092970752, 0.43391991580502787, 0.07657410278912256, 0.02552470092970752, 0.17113163729156336, 0.17113163729156336, 0.13446057215765694, 0.0977895070237505, 0.24447376755937625, 0.17113163729156336, 0.8535568966268602, 0.8363358138998345, 0.023231550386106515, 0.11615775193053257, 0.8988839647403792, 0.9120409218527843, 0.4598018284309994, 0.1561591115426036, 0.125794839853764, 0.0780795557713018, 0.14314585224738663, 0.0390397778856509, 0.7460583874745774, 0.10657976963922534, 0.10657976963922534, 0.7716439402102693, 0.853631122682672, 0.8988129078724503, 0.6813636994228701, 0.8264254482665101, 0.2582473299338661, 0.18938137528483515, 0.1574078963406422, 0.1500294011996746, 0.15248889957999714, 0.08854194169161124, 0.8421270851680573, 0.7716542059076487, 0.5140275916222855, 0.06326493435351206, 0.0948974015302681, 0.2135191534431032, 0.07117305114770107, 0.04744870076513405, 0.13786350932093686, 0.8271810559256211, 0.18823541325853868, 0.7529416530341547, 0.8437781448767926, 0.1981952624135474, 0.0888461521164178, 0.3519674487688859, 0.1742751445360503, 0.11960058938748551, 0.06834319393570601, 0.8304484681821166, 0.10168756753250408, 0.03389585584416802, 0.01694792792208401, 0.4154855937117746, 0.25255006676598063, 0.17108230329308366, 0.10590809251476607, 0.028513717215513944, 0.024440329041869095, 0.05519861355779847, 0.7175819762513801, 0.16559584067339542, 0.17208235393248023, 0.04916638683785149, 0.04916638683785149, 0.41791428812173764, 0.24583193418925745, 0.04916638683785149, 0.873122612322638, 0.7946639823177482, 0.8262898586474605, 0.852002319848515], \"Term\": [\"able\", \"able\", \"able\", \"able\", \"able\", \"able\", \"absolutely\", \"absolutely\", \"absorbent\", \"accessible\", \"accurate\", \"activate\", \"actual\", \"actual\", \"adapt\", \"add\", \"add\", \"add\", \"add\", \"add\", \"add\", \"adjust\", \"adjust\", \"adjust\", \"adjust\", \"adopt\", \"agile\", \"also\", \"also\", \"also\", \"also\", \"also\", \"also\", \"alternative\", \"alternative\", \"anywhere\", \"apart\", \"apart\", \"apart\", \"apart\", \"apart\", \"apart\", \"aside\", \"ask\", \"away\", \"away\", \"away\", \"away\", \"away\", \"away\", \"ball\", \"base\", \"base\", \"base\", \"base\", \"begin\", \"begin\", \"begin\", \"begin\", \"big\", \"big\", \"big\", \"big\", \"big\", \"big\", \"blind\", \"blue\", \"blue\", \"blue\", \"blue\", \"bored\", \"bottled\", \"bottom\", \"bottom\", \"bottom\", \"bottom\", \"bottom\", \"bottom\", \"bowl\", \"bowl\", \"bowl\", \"bowl\", \"brush\", \"bulk\", \"buy\", \"buy\", \"buy\", \"buy\", \"buy\", \"buy\", \"care\", \"care\", \"care\", \"care\", \"carry\", \"cartridge\", \"cat_loves\", \"cat_loves\", \"cat_loves\", \"cat_loves\", \"cat_mate\", \"cat_mate\", \"cat_mate\", \"cat_mate\", \"cat_mate\", \"catit\", \"catit\", \"challenge\", \"change\", \"change\", \"change\", \"change\", \"change\", \"change\", \"cheaply\", \"choose\", \"choose\", \"choose\", \"choose\", \"clean\", \"clean\", \"clean\", \"clean\", \"clean\", \"clean\", \"clearly\", \"clog\", \"clog\", \"clogged\", \"clogged\", \"close\", \"close\", \"close\", \"close\", \"close\", \"com\", \"come\", \"come\", \"come\", \"come\", \"come\", \"come\", \"comfortable\", \"compact\", \"complete\", \"consider\", \"consider\", \"consider\", \"consider\", \"consider\", \"constant\", \"constant\", \"continue\", \"continue\", \"continue\", \"continuous\", \"cost\", \"cost\", \"cover\", \"cover\", \"cover\", \"cute\", \"cute\", \"cute\", \"cute\", \"dark\", \"dead\", \"deal\", \"deep\", \"deep\", \"deep\", \"deep\", \"definitely\", \"definitely\", \"definitely\", \"definitely\", \"definitely\", \"delighted\", \"deliver\", \"deliver\", \"deluxe\", \"deluxe\", \"dense\", \"dental\", \"describe\", \"detachable\", \"different\", \"different\", \"different\", \"different\", \"different\", \"dig\", \"dirty\", \"dirty\", \"dirty\", \"dirty\", \"dirty\", \"discover\", \"discover\", \"discover\", \"dish\", \"dish\", \"dish\", \"dishwash\", \"disinfect\", \"divide\", \"double\", \"double\", \"drate\", \"drink\", \"drink\", \"drink\", \"drink\", \"drink\", \"drink\", \"drinkwell\", \"drinkwell_hy_drate\", \"drinkwell_hy_drate\", \"drip\", \"dry_food\", \"dry_food\", \"dry_food\", \"dry_food\", \"easier\", \"easy\", \"easy\", \"easy\", \"easy\", \"easy\", \"easy\", \"eat\", \"eat\", \"eat\", \"eat\", \"eat\", \"eat\", \"effective\", \"effective\", \"either\", \"elderly\", \"end\", \"end\", \"end\", \"end\", \"end\", \"end\", \"enough\", \"enough\", \"enough\", \"enough\", \"enough\", \"enough\", \"entertain\", \"entire\", \"entire\", \"entire\", \"entire\", \"essential\", \"even\", \"even\", \"even\", \"even\", \"even\", \"even\", \"evenly\", \"excellent\", \"excellent\", \"excellent\", \"expect\", \"expect\", \"expect\", \"expect\", \"expect\", \"expect\", \"experience\", \"extra\", \"extra\", \"extra\", \"extra\", \"extra\", \"extreme\", \"fail\", \"fail\", \"fail\", \"fair\", \"fall\", \"fall\", \"fall\", \"fantastic\", \"fantastic\", \"fascinated\", \"fascinated\", \"feed\", \"feed\", \"feed\", \"feed\", \"feed\", \"feed\", \"feeder\", \"feeder\", \"feral\", \"fight\", \"figure\", \"figure\", \"figure\", \"filtered_water\", \"filtered_water\", \"filtered_water\", \"filtered_water\", \"filtered_water\", \"find\", \"find\", \"find\", \"find\", \"find\", \"find\", \"first\", \"first\", \"first\", \"first\", \"first\", \"first\", \"fit\", \"fit\", \"fit\", \"fit\", \"fit\", \"fit\", \"float\", \"float\", \"float\", \"food\", \"forever\", \"forth\", \"forward\", \"forward\", \"fountain\", \"fountain\", \"fountain\", \"fountain\", \"fountain\", \"freeze\", \"fresh\", \"fresh\", \"fresh\", \"fresh\", \"fresh\", \"fresh\", \"frustrating\", \"get\", \"get\", \"get\", \"get\", \"get\", \"get\", \"give\", \"give\", \"give\", \"give\", \"give\", \"give\", \"glad\", \"glad\", \"glad\", \"go\", \"go\", \"go\", \"go\", \"go\", \"go\", \"good\", \"good\", \"good\", \"good\", \"good\", \"good\", \"gray\", \"great\", \"great\", \"great\", \"great\", \"great\", \"great\", \"grind\", \"grow\", \"grow\", \"gurgle\", \"gurgle\", \"gurgle\", \"half\", \"half\", \"half\", \"happy\", \"happy\", \"happy\", \"happy\", \"happy\", \"happy\", \"harbor\", \"hard\", \"hard\", \"hard\", \"hard\", \"hard\", \"hard\", \"harmful\", \"heavy\", \"heavy\", \"heavy\", \"heavy\", \"high\", \"high\", \"high\", \"high\", \"high\", \"high\", \"highly\", \"highly\", \"highly\", \"highly\", \"highly\", \"hit\", \"hold\", \"hold\", \"hold\", \"hold\", \"hold\", \"hold\", \"hole\", \"hot\", \"hot\", \"hot\", \"hot\", \"however\", \"however\", \"however\", \"however\", \"however\", \"however\", \"hum\", \"hum\", \"hungry\", \"ignore\", \"ignore\", \"important\", \"important\", \"important\", \"important\", \"inside\", \"inside\", \"inside\", \"inside\", \"inside\", \"intend\", \"intend\", \"intend\", \"interested\", \"interested\", \"interested\", \"internal\", \"invest\", \"involve\", \"jump\", \"keep\", \"keep\", \"keep\", \"keep\", \"keep\", \"keep\", \"kibble\", \"kibble\", \"kibble\", \"kitten\", \"kitten\", \"kitten\", \"kitten\", \"kitten\", \"large\", \"large\", \"large\", \"large\", \"large\", \"large\", \"later\", \"later\", \"later\", \"learn\", \"learn\", \"leave\", \"leave\", \"leave\", \"leave\", \"leave\", \"leave\", \"less\", \"less\", \"less\", \"less\", \"less\", \"less\", \"lid\", \"lie\", \"lie\", \"light\", \"light\", \"light\", \"like\", \"like\", \"like\", \"like\", \"like\", \"like\", \"likely\", \"likely\", \"likely\", \"lily\", \"listen\", \"little\", \"little\", \"little\", \"little\", \"little\", \"little\", \"lock\", \"long\", \"long\", \"long\", \"long\", \"long\", \"long\", \"look\", \"look\", \"look\", \"look\", \"look\", \"look\", \"loosen\", \"lose\", \"lose\", \"loud\", \"loud\", \"loud\", \"loud\", \"loud\", \"love\", \"love\", \"love\", \"love\", \"love\", \"love\", \"low\", \"low\", \"low\", \"low\", \"low\", \"low\", \"lush\", \"main\", \"main\", \"main\", \"main\", \"maintain\", \"maintain\", \"make\", \"make\", \"make\", \"make\", \"make\", \"make\", \"mean\", \"mean\", \"mean\", \"mean\", \"mean\", \"medicinal\", \"minimal\", \"motivated\", \"moving_water\", \"moving_water\", \"moving_water\", \"moving_water\", \"much\", \"much\", \"much\", \"much\", \"much\", \"much\", \"naturally\", \"near\", \"nearly\", \"nearly\", \"nearly\", \"need\", \"need\", \"need\", \"need\", \"need\", \"need\", \"new\", \"new\", \"new\", \"new\", \"new\", \"new\", \"nibble\", \"nice\", \"nice\", \"nice\", \"nice\", \"nice\", \"nice\", \"noise\", \"nudge\", \"often\", \"often\", \"often\", \"often\", \"often\", \"okay\", \"okay\", \"old\", \"old\", \"old\", \"old\", \"old\", \"old\", \"open\", \"open\", \"open\", \"open\", \"open\", \"order\", \"order\", \"order\", \"order\", \"order\", \"order\", \"outside\", \"outside\", \"outside\", \"outside\", \"overall\", \"overall\", \"overall\", \"overall\", \"overly\", \"overly\", \"overseas\", \"package\", \"pay\", \"pay\", \"pay\", \"pay\", \"perfect_size\", \"perfect_size\", \"perfect_size\", \"pet\", \"pet\", \"pet\", \"pet\", \"pet\", \"pet\", \"pet_fountain\", \"pet_fountain\", \"pet_fountain\", \"pet_fountain\", \"pet_fountain\", \"petmate\", \"petmate\", \"petmate\", \"picky\", \"play\", \"play\", \"play\", \"play\", \"play\", \"play\", \"playful\", \"plenty\", \"plenty\", \"plug\", \"plug\", \"plug\", \"plug\", \"poorly\", \"pop\", \"possible\", \"possible\", \"possible\", \"pour\", \"pour\", \"powerful\", \"powerful\", \"preferred\", \"press\", \"primary\", \"prissy\", \"probably\", \"probably\", \"probably\", \"probably\", \"program\", \"prove\", \"prove\", \"pump\", \"pump\", \"pump\", \"pump\", \"purchase\", \"purchase\", \"purchase\", \"purchase\", \"purchase\", \"pure\", \"push\", \"push\", \"push\", \"put\", \"put\", \"put\", \"put\", \"put\", \"put\", \"quick\", \"quick\", \"quiet\", \"quiet\", \"quiet\", \"quiet\", \"quiet\", \"quiet\", \"quietly\", \"quietly\", \"quietly\", \"rack\", \"rack\", \"range\", \"rate\", \"readily\", \"real\", \"real\", \"real\", \"really\", \"really\", \"really\", \"really\", \"really\", \"really\", \"reasonably\", \"reasonably\", \"recommend\", \"recommend\", \"recommend\", \"recommend\", \"recommend\", \"recommend\", \"regardless\", \"replace\", \"replace\", \"replace\", \"replace\", \"replace\", \"require\", \"require\", \"require\", \"require\", \"require\", \"reservoir\", \"respond\", \"result\", \"result\", \"reuse\", \"ridge\", \"right\", \"right\", \"right\", \"right\", \"right\", \"roll\", \"roll\", \"roll\", \"ruin\", \"run\", \"run\", \"run\", \"run\", \"run\", \"run\", \"running_water\", \"running_water\", \"running_water\", \"running_water\", \"safe\", \"safe\", \"safe\", \"safe\", \"safe\", \"save\", \"save\", \"save\", \"say\", \"say\", \"say\", \"say\", \"say\", \"say\", \"scare\", \"scare\", \"scare\", \"schematic\", \"screw\", \"see\", \"see\", \"see\", \"see\", \"see\", \"see\", \"seem\", \"seem\", \"seem\", \"seem\", \"seem\", \"seem\", \"separately\", \"seriously\", \"set\", \"set\", \"set\", \"set\", \"set\", \"several\", \"several\", \"several\", \"several\", \"several\", \"sgd\", \"shallow\", \"shoot\", \"silent\", \"silent\", \"silent\", \"simple\", \"simple\", \"simple\", \"simple\", \"sink\", \"skid\", \"skittish\", \"slanted\", \"slimcat\", \"slow\", \"slow\", \"slowly\", \"small\", \"small\", \"small\", \"small\", \"small\", \"small\", \"smart\", \"smart\", \"smart\", \"smoothly\", \"soak\", \"soak\", \"somehow\", \"sometimes\", \"sometimes\", \"sometimes\", \"sometimes\", \"sometimes\", \"sorry\", \"splash\", \"splash\", \"splash\", \"spook\", \"sprout\", \"stainless\", \"stainless_steel\", \"stainless_steel\", \"stainless_steel\", \"stainless_steel\", \"stainless_steel\", \"stale\", \"starve\", \"still\", \"still\", \"still\", \"still\", \"still\", \"still\", \"stimulate\", \"stress\", \"strong\", \"strong\", \"strong\", \"strongly\", \"struggle\", \"sturdy\", \"sturdy\", \"sturdy\", \"sturdy\", \"submerge\", \"submerge\", \"substitute\", \"supposedly\", \"supposedly\", \"sure\", \"sure\", \"sure\", \"sure\", \"sure\", \"sure\", \"surround\", \"take\", \"take\", \"take\", \"take\", \"take\", \"take\", \"tall\", \"tape\", \"thank\", \"think\", \"think\", \"think\", \"think\", \"think\", \"think\", \"thorough\", \"thorough\", \"together\", \"together\", \"together\", \"together\", \"together\", \"together\", \"top\", \"top\", \"top\", \"top\", \"top\", \"top\", \"track\", \"treat\", \"treat\", \"treat\", \"trigger\", \"truly\", \"try\", \"try\", \"try\", \"try\", \"try\", \"try\", \"ugly\", \"ugly\", \"ugly\", \"unattended\", \"unfortunate\", \"unique\", \"unused\", \"upgrade\", \"use\", \"use\", \"use\", \"use\", \"use\", \"use\", \"used\", \"vertical\", \"want\", \"want\", \"want\", \"want\", \"want\", \"want\", \"water\", \"water\", \"weak\", \"weak\", \"weird\", \"well\", \"well\", \"well\", \"well\", \"well\", \"well\", \"wet_food\", \"wet_food\", \"wet_food\", \"wet_food\", \"work\", \"work\", \"work\", \"work\", \"work\", \"work\", \"worry\", \"worry\", \"worry\", \"worth\", \"worth\", \"worth\", \"worth\", \"worth\", \"worth\", \"yank\", \"year\", \"yell\", \"yummy\"]}, \"R\": 30, \"lambda.step\": 0.01, \"plot.opts\": {\"xlab\": \"PC1\", \"ylab\": \"PC2\"}, \"topic.order\": [1, 3, 4, 2, 6, 5]};\n",
       "\n",
       "function LDAvis_load_lib(url, callback){\n",
       "  var s = document.createElement('script');\n",
       "  s.src = url;\n",
       "  s.async = true;\n",
       "  s.onreadystatechange = s.onload = callback;\n",
       "  s.onerror = function(){console.warn(\"failed to load library \" + url);};\n",
       "  document.getElementsByTagName(\"head\")[0].appendChild(s);\n",
       "}\n",
       "\n",
       "if(typeof(LDAvis) !== \"undefined\"){\n",
       "   // already loaded: just create the visualization\n",
       "   !function(LDAvis){\n",
       "       new LDAvis(\"#\" + \"ldavis_el2993617973764760969664535356\", ldavis_el2993617973764760969664535356_data);\n",
       "   }(LDAvis);\n",
       "}else if(typeof define === \"function\" && define.amd){\n",
       "   // require.js is available: use it to load d3/LDAvis\n",
       "   require.config({paths: {d3: \"https://d3js.org/d3.v5\"}});\n",
       "   require([\"d3\"], function(d3){\n",
       "      window.d3 = d3;\n",
       "      LDAvis_load_lib(\"https://cdn.jsdelivr.net/gh/bmabey/pyLDAvis@3.3.1/pyLDAvis/js/ldavis.v3.0.0.js\", function(){\n",
       "        new LDAvis(\"#\" + \"ldavis_el2993617973764760969664535356\", ldavis_el2993617973764760969664535356_data);\n",
       "      });\n",
       "    });\n",
       "}else{\n",
       "    // require.js not available: dynamically load d3 & LDAvis\n",
       "    LDAvis_load_lib(\"https://d3js.org/d3.v5.js\", function(){\n",
       "         LDAvis_load_lib(\"https://cdn.jsdelivr.net/gh/bmabey/pyLDAvis@3.3.1/pyLDAvis/js/ldavis.v3.0.0.js\", function(){\n",
       "                 new LDAvis(\"#\" + \"ldavis_el2993617973764760969664535356\", ldavis_el2993617973764760969664535356_data);\n",
       "            })\n",
       "         });\n",
       "}\n",
       "</script>"
      ],
      "text/plain": [
       "<IPython.core.display.HTML object>"
      ]
     },
     "execution_count": 90,
     "metadata": {},
     "output_type": "execute_result"
    }
   ],
   "source": [
    "pyLDAvis.enable_notebook()\n",
    "topic_data =  pyLDAvis.gensim_models.prepare(cats_feeding_supplies_optimal_model, \n",
    "                                             cats_feeding_supplies_doc_term_matrix, \n",
    "                                             cats_feeding_supplies_dictionary, \n",
    "                                             mds = 'tsne')\n",
    "pyLDAvis.display(topic_data)\n",
    "\n",
    "# pcoa:Principal Coordinate Analysis(aka Classical Multidimensional Scaling)\n",
    "# mmds:Metric Multidimensional Scaling\n",
    "# tsne:t-distributed Stochastic Neighbor Embedding"
   ]
  },
  {
   "cell_type": "code",
   "execution_count": 216,
   "id": "270d9590",
   "metadata": {},
   "outputs": [],
   "source": [
    "keywords_dict = get_keywords(cats_feeding_supplies_doc_term_matrix, model = cats_feeding_supplies_optimal_model)"
   ]
  },
  {
   "cell_type": "code",
   "execution_count": 217,
   "id": "24672a63",
   "metadata": {},
   "outputs": [
    {
     "data": {
      "text/plain": [
       "['eat', 'open', 'find', 'seem']"
      ]
     },
     "execution_count": 217,
     "metadata": {},
     "output_type": "execute_result"
    }
   ],
   "source": [
    "[w for w in keywords_dict[0] if w not in  keywords_dict[1] and w not in  keywords_dict[2] and w not in  keywords_dict[3]]"
   ]
  },
  {
   "cell_type": "code",
   "execution_count": 218,
   "id": "4056f6f9",
   "metadata": {},
   "outputs": [
    {
     "data": {
      "text/plain": [
       "['still', 'different', 'think', 'sure', 'set', 'see']"
      ]
     },
     "execution_count": 218,
     "metadata": {},
     "output_type": "execute_result"
    }
   ],
   "source": [
    "[w for w in keywords_dict[1] if w not in  keywords_dict[0] and w not in  keywords_dict[2] and w not in  keywords_dict[3]]"
   ]
  },
  {
   "cell_type": "code",
   "execution_count": 219,
   "id": "4e231a6e",
   "metadata": {},
   "outputs": [
    {
     "data": {
      "text/plain": [
       "['keep', 'love', 'large', 'fresh', 'recommend', 'old']"
      ]
     },
     "execution_count": 219,
     "metadata": {},
     "output_type": "execute_result"
    }
   ],
   "source": [
    "[w for w in keywords_dict[2] if w not in  keywords_dict[1] and w not in  keywords_dict[0] and w not in  keywords_dict[3]]"
   ]
  },
  {
   "cell_type": "code",
   "execution_count": 220,
   "id": "c0f1d5ec",
   "metadata": {},
   "outputs": [
    {
     "data": {
      "text/plain": [
       "['quiet', 'good', 'first', 'new', 'add', 'give', 'run', 'often']"
      ]
     },
     "execution_count": 220,
     "metadata": {},
     "output_type": "execute_result"
    }
   ],
   "source": [
    "[w for w in keywords_dict[3] if w not in  keywords_dict[1] and w not in  keywords_dict[2] and w not in  keywords_dict[0]]"
   ]
  },
  {
   "cell_type": "code",
   "execution_count": 377,
   "id": "45f0876a",
   "metadata": {},
   "outputs": [
    {
     "name": "stderr",
     "output_type": "stream",
     "text": [
      "C:\\Users\\JiatingChen\\anaconda3\\lib\\site-packages\\pyLDAvis\\_prepare.py:246: FutureWarning: In a future version of pandas all arguments of DataFrame.drop except for the argument 'labels' will be keyword-only\n",
      "  default_term_info = default_term_info.sort_values(\n",
      "C:\\Users\\JiatingChen\\anaconda3\\lib\\site-packages\\sklearn\\manifold\\_t_sne.py:691: FutureWarning: 'square_distances' has been introduced in 0.24 to help phase out legacy squaring behavior. The 'legacy' setting will be removed in 1.1 (renaming of 0.26), and the default setting will be changed to True. In 1.3, 'square_distances' will be removed altogether, and distances will be squared by default. Set 'square_distances'=True to silence this warning.\n",
      "  warnings.warn(\n"
     ]
    },
    {
     "data": {
      "text/html": [
       "\n",
       "<link rel=\"stylesheet\" type=\"text/css\" href=\"https://cdn.jsdelivr.net/gh/bmabey/pyLDAvis@3.3.1/pyLDAvis/js/ldavis.v1.0.0.css\">\n",
       "\n",
       "\n",
       "<div id=\"ldavis_el2132013561651745441830906474\"></div>\n",
       "<script type=\"text/javascript\">\n",
       "\n",
       "var ldavis_el2132013561651745441830906474_data = {\"mdsDat\": {\"x\": [269.5624084472656, 1.782994270324707, 220.81143188476562, 50.533992767333984], \"y\": [-124.80339813232422, -295.0796813964844, -343.8321228027344, -76.05093383789062], \"topics\": [1, 2, 3, 4], \"cluster\": [1, 1, 1, 1], \"Freq\": [34.78074770940702, 27.722112336305603, 21.39744677664379, 16.099693177643594]}, \"tinfo\": {\"Term\": [\"clean\", \"nice\", \"eat\", \"well\", \"grow\", \"buy\", \"drink\", \"easy\", \"get\", \"quiet\", \"great\", \"bowl\", \"extra\", \"open\", \"recommend\", \"figure\", \"small\", \"cute\", \"pump\", \"wet_food\", \"fresh\", \"new\", \"purchase\", \"catit\", \"fit\", \"set\", \"leave\", \"feed\", \"keep\", \"highly\", \"roll\", \"hole\", \"figure\", \"dispense\", \"hungry\", \"learn\", \"fat\", \"adjust\", \"twist\", \"bat\", \"slim\", \"scarf\", \"entertain\", \"motivated\", \"starve\", \"smart\", \"bored\", \"slowly\", \"basically\", \"stimulate\", \"lose\", \"occupy\", \"screw\", \"slow\", \"challenge\", \"tape\", \"treat\", \"feral\", \"motivate\", \"fancy\", \"interested\", \"push\", \"eat\", \"round\", \"around\", \"close\", \"fall\", \"fit\", \"able\", \"open\", \"perfectly\", \"kibble\", \"sized\", \"small\", \"get\", \"big\", \"put\", \"come\", \"try\", \"dry_food\", \"play\", \"little\", \"work\", \"even\", \"find\", \"take\", \"great\", \"still\", \"also\", \"make\", \"go\", \"seem\", \"give\", \"really\", \"use\", \"think\", \"much\", \"good\", \"need\", \"easy\", \"buy\", \"large\", \"keep\", \"silent\", \"tall\", \"strong\", \"splash\", \"rinse\", \"attractive\", \"negative\", \"offer\", \"forward\", \"submerge\", \"clog\", \"frequent\", \"lily\", \"loud\", \"harmful\", \"main\", \"thoroughly\", \"eliminate\", \"near\", \"afraid\", \"program\", \"readily\", \"accord\", \"thank\", \"remain\", \"zen\", \"remind\", \"powerful\", \"proper\", \"consume\", \"pump\", \"stagnant\", \"important\", \"noisy\", \"difficult\", \"mention\", \"reservoir\", \"continue\", \"water_level\", \"run\", \"running_water\", \"remove\", \"apart\", \"clean\", \"require\", \"new\", \"cool\", \"add\", \"quiet\", \"pet\", \"fresh\", \"drink\", \"low\", \"bottom\", \"take\", \"use\", \"first\", \"replace\", \"enough\", \"little\", \"often\", \"make\", \"good\", \"go\", \"love\", \"easy\", \"old\", \"see\", \"give\", \"get\", \"seem\", \"keep\", \"think\", \"try\", \"work\", \"also\", \"find\", \"put\", \"still\", \"really\", \"grow\", \"medium\", \"cute\", \"stainless\", \"plenty\", \"sprout\", \"nice\", \"fight\", \"medicinal\", \"complete\", \"supply\", \"unique\", \"neat\", \"ok\", \"fantastic\", \"bowl\", \"weird\", \"overseas\", \"cheaply\", \"catit\", \"reuse\", \"wonder\", \"tough\", \"flush\", \"sgd\", \"construct\", \"dental\", \"accommodate\", \"multi\", \"stiff\", \"sturdy\", \"care\", \"gross\", \"pot\", \"highly\", \"perfect_size\", \"wonderful\", \"s\", \"several\", \"water\", \"well\", \"appreciate\", \"buy\", \"slide\", \"heavy\", \"stand\", \"easy\", \"recommend\", \"clean\", \"shallow\", \"purchase\", \"die\", \"hold\", \"wash\", \"really\", \"great\", \"quiet\", \"keep\", \"drink\", \"good\", \"happy\", \"also\", \"use\", \"make\", \"filter\", \"much\", \"get\", \"small\", \"work\", \"large\", \"old\", \"seem\", \"even\", \"take\", \"think\", \"put\", \"ugly\", \"color\", \"prove\", \"accurate\", \"total\", \"locate\", \"bottled\", \"accustomed\", \"worry\", \"playful\", \"shoot\", \"deliver\", \"internal\", \"divide\", \"amazing\", \"forever\", \"solid\", \"drip\", \"unfortunate\", \"precise\", \"upgrade\", \"poorly\", \"reliable\", \"clearly\", \"rounded\", \"deal\", \"fluffy\", \"inferior\", \"hum\", \"jump\", \"extra\", \"wake\", \"disassemble\", \"traditional\", \"absolutely\", \"everyday\", \"entire\", \"wet_food\", \"satisfied\", \"wait\", \"sink\", \"fail\", \"believe\", \"feed\", \"leave\", \"plastic\", \"get\", \"set\", \"rather\", \"hard\", \"anymore\", \"want\", \"large\", \"great\", \"keep\", \"use\", \"break\", \"little\", \"go\", \"well\", \"see\", \"love\", \"come\", \"recommend\", \"purchase\", \"even\", \"first\", \"buy\", \"make\", \"long\", \"much\", \"drink\", \"small\", \"like\", \"give\", \"work\", \"really\"], \"Freq\": [397.0, 95.0, 278.0, 290.0, 68.0, 305.0, 190.0, 314.0, 729.0, 119.0, 235.0, 64.0, 41.0, 112.0, 134.0, 56.0, 242.0, 33.0, 52.0, 55.0, 103.0, 107.0, 89.0, 41.0, 106.0, 106.0, 95.0, 67.0, 262.0, 47.0, 33.32314279623508, 19.75917775097773, 54.59102428885871, 17.85119780383073, 18.603726436320834, 18.303129463023513, 14.801952139236983, 41.64566369925007, 11.259408324493235, 8.61533486863628, 7.67791050319253, 8.524001137759871, 9.367966825837604, 7.654618161148879, 7.641793497992222, 16.937528675136896, 6.749582254897689, 6.741731938552635, 10.933941388418663, 6.723079171256234, 30.293234794166395, 9.9754753883551, 5.816483947506, 33.82446012482961, 6.619218942818404, 5.787572512452732, 37.80160420691953, 5.741750659947697, 6.52717906134417, 15.542960361639489, 29.246039436376094, 39.46186581583713, 230.9051995171808, 10.566643885826764, 35.066567217865796, 25.69045072923406, 39.63734778195823, 82.45493334526063, 40.08827807709256, 82.06776443420685, 31.16366105514725, 28.98463618296576, 21.1147341960799, 151.45400881454637, 382.6907731970445, 88.29665509151583, 139.1688399912122, 120.70524548038287, 123.10384303945737, 37.84552488473811, 47.08738773830639, 125.44765842706981, 109.42410472177195, 95.0212209577598, 82.22852115291177, 113.60838946150085, 100.85542302674584, 82.63906152321664, 99.13656272674717, 127.6292244967204, 99.24130918599381, 84.06507951710181, 72.88746657657205, 90.03727144270904, 114.01044657780108, 73.48044414213045, 73.74009973185386, 79.85730050932219, 63.06962572936225, 79.54157797915607, 76.47170279793356, 61.18276771489635, 62.21951487788806, 18.190750001123327, 11.671966752045702, 14.34704604197663, 15.913043081052146, 13.217452142369563, 8.793673146952978, 7.838724740850137, 7.7533095783731305, 5.957755348850837, 5.957242863523196, 5.93362618429241, 5.926445271882428, 5.015067060062686, 35.9480230645847, 4.985989988493409, 17.36458788723184, 7.435021835978979, 4.938333088438746, 4.9119356233484295, 14.646346885354257, 4.054481315355795, 4.042095547368487, 6.440665708249588, 4.033204468125955, 6.445767031437491, 4.026485216052443, 4.026247562158541, 6.424129703251753, 4.001235548679404, 5.605467569770375, 42.99570246623011, 6.341039784120819, 18.241029094240996, 26.10079020481645, 27.38103973149327, 16.662299453673608, 12.090023952108501, 17.630259528117993, 26.466274598734106, 60.24840760623088, 28.402386753145077, 19.190744879262077, 38.23427046557969, 213.72822884278673, 18.939628009921627, 66.55797636757792, 22.83312351875217, 38.560796562561244, 67.83246384618161, 44.80337045591659, 58.15168471490543, 94.94176117395442, 41.93928055344908, 30.225326711474903, 106.49253479334935, 137.66419460432184, 70.07465162705259, 35.89906918605164, 55.330246392065774, 94.43735890231689, 39.8914814221434, 107.59984946395626, 84.8517806267252, 81.9650641911512, 54.99529840580648, 86.28297472995861, 51.350468872297704, 54.471240039435344, 56.30260000463583, 118.79264949368438, 61.895280383109, 70.85048194042815, 57.37221006142219, 59.720550542371484, 60.044076082466866, 59.20640869649993, 50.32809593878707, 51.787898864828506, 48.478954756305065, 46.69429731076948, 65.82222234565684, 15.07610778161814, 30.760804835792232, 8.734019438496224, 7.927557941263219, 5.497040984751295, 84.13839608920672, 3.75963365579145, 3.7582046843553374, 3.749641026353865, 3.744243698807043, 3.7422869450891123, 5.216600073488448, 4.469908012680973, 5.784831981680065, 52.90124031973639, 5.776021686259904, 2.873792504693379, 2.872567127179468, 33.09260144230245, 2.8699792504645254, 2.869128914386249, 2.8597054761638105, 2.859413070976706, 2.858320456314828, 2.857200054079269, 2.8550126453379696, 2.852320883053447, 2.846009653083325, 2.834140545140667, 13.909974101268316, 9.447238914959717, 8.636972154695519, 5.488530359243384, 32.503964010885994, 14.329038318339357, 11.812703163684072, 6.591551739891991, 36.98185631973809, 5.3351393201594925, 148.04750827971682, 4.132387429477704, 148.06565265724012, 9.293456307190485, 21.88213091667205, 17.013793048986955, 133.13840926446775, 62.53635229168294, 145.939970832557, 16.9379885479841, 42.953687048733734, 16.086314307335787, 45.174458313790865, 12.989710684631625, 81.3184622589424, 79.25110164772705, 46.52554317867401, 82.00464170194196, 64.27763135590907, 73.9468177946779, 31.51854472736467, 67.7054831981259, 96.4848429681631, 81.05861175815934, 25.7349284974377, 55.54950578892335, 94.72829054579115, 52.14655161272504, 48.620771275547355, 38.684460893179825, 34.66635013289406, 39.113756749145736, 39.14892383062989, 38.7341719544052, 36.36957656680824, 36.86372317120268, 7.786837220975174, 6.067511458206166, 5.280381626340796, 5.264912660942999, 6.728199716050905, 4.4510461162342425, 4.442894299433534, 4.425209664380613, 14.75115183589744, 4.399697896818374, 4.395234581024885, 4.394540390704914, 3.604774002140029, 3.6038770207895774, 3.593032346814584, 3.5401099005313785, 4.2172736997378735, 2.757148490225146, 2.7566420592554977, 2.7545302448450952, 2.7481682911961567, 2.745172887295806, 2.7449564311015466, 2.7413608532080236, 2.740378601235591, 2.7400973721650197, 6.851122783701726, 2.724722969700573, 6.136242312555439, 3.404397332796541, 31.15679205867852, 11.907351448936724, 8.2910713788948, 3.363154228691948, 16.356889477696317, 5.10564025764011, 16.699885088548537, 28.770885072836727, 5.482995009691626, 11.396125646621226, 6.367086831060525, 6.775381153727289, 13.819698196690275, 27.339630801446386, 34.17115446064976, 16.992237602435882, 133.42454267732464, 34.641653702051514, 14.653249136519367, 30.67811995612384, 9.384831087763786, 30.988846102621842, 34.23500247867753, 44.38603492667591, 47.11470794861844, 59.998840931623725, 15.09459675733471, 48.26026409427524, 43.702536230844764, 46.98661398299365, 31.883798449555716, 29.64376763366101, 38.52113903824678, 29.024742273752153, 23.322562409898214, 33.98815277374796, 30.019542146173126, 39.37545009488889, 41.55299503628131, 28.205831643789303, 30.4749594196153, 28.086489942261675, 26.364681492537304, 20.781132741694485, 23.545730932605373, 24.510270666354188, 24.373352284567495], \"Total\": [397.0, 95.0, 278.0, 290.0, 68.0, 305.0, 190.0, 314.0, 729.0, 119.0, 235.0, 64.0, 41.0, 112.0, 134.0, 56.0, 242.0, 33.0, 52.0, 55.0, 103.0, 107.0, 89.0, 41.0, 106.0, 106.0, 95.0, 67.0, 262.0, 47.0, 34.425665245961895, 20.477331841069425, 56.7095656574621, 18.6124592914221, 19.524621962672057, 19.53298446528213, 15.800593555081772, 44.635308872328444, 12.084000284633385, 9.293428020587912, 8.361339645887206, 9.285034073959775, 10.216512141322626, 8.359298976077662, 8.359130099514394, 18.54288881352479, 7.428804910663132, 7.4281217794188255, 12.047581017443138, 7.428658375340118, 33.58274380599876, 11.118693813605544, 6.496777416275017, 37.8654337776245, 7.416967368840626, 6.495095078076899, 42.483209909978015, 6.492118589396552, 7.409922345638755, 17.68696858948073, 33.281747145065076, 45.40915530844975, 278.28561962420406, 12.041563579717183, 42.30240832300517, 30.57365623735672, 48.55105936389076, 106.74007448308647, 50.57677547534954, 112.79986564144939, 39.294275318895295, 36.580413747720414, 25.819744361985418, 242.93618720777775, 729.6362559138447, 139.21096560905409, 240.4536326376282, 212.14632788393803, 230.9079814418384, 53.924885704766545, 71.4226467793362, 286.5222623696244, 242.59922274614036, 204.29218950184173, 169.97929552146928, 275.7705545095831, 235.01558130880085, 175.06665312021084, 236.43355601992175, 357.84068075511726, 248.18481872627984, 195.15736660537192, 158.1864692109061, 242.4233832969884, 408.1583250819097, 189.34746902135512, 205.88222825503507, 252.2662894536327, 157.5004147366998, 314.2655829725179, 305.3488622187065, 150.67640565295807, 262.18934646887664, 19.054128857417403, 12.371153846388255, 15.219622100886621, 17.10358265591143, 14.246622072632398, 9.502531942249336, 8.54591723538218, 8.539520059088924, 6.637203190944043, 6.637357316290827, 6.636793772231447, 6.6354597969728095, 5.683016713617337, 40.783255542508776, 5.679733869979157, 19.807919180989135, 8.52573445726186, 5.675262378919451, 5.679008798094064, 17.04761608035062, 4.726860361432312, 4.725558013433683, 7.542208692313178, 4.724734802408337, 7.557422350891379, 4.723802627768403, 4.725463399665515, 7.554900897868811, 4.723558220753506, 6.628703712135751, 52.39548020002809, 7.534319843975119, 22.60306461316909, 32.96954852900945, 35.014555010517014, 20.87812543747388, 14.996531318729147, 22.46919792309284, 35.439158353813795, 88.42683310745318, 38.876066553763934, 25.34032840857516, 54.84298015406472, 397.46320103095735, 25.39686659948488, 107.94675996821853, 31.83006579307547, 60.077234824989205, 119.24342580164452, 74.96717582610125, 103.72120006175473, 190.0803174687806, 75.74169786371382, 50.07856359970243, 275.7705545095831, 408.1583250819097, 163.97019015664227, 63.94426741978615, 122.63153657987755, 286.5222623696244, 76.99266153050006, 357.84068075511726, 252.2662894536327, 248.18481872627984, 131.43807930659057, 314.2655829725179, 131.33417414805922, 147.55580148520002, 158.1864692109061, 729.6362559138447, 195.15736660537192, 262.18934646887664, 189.34746902135512, 230.9079814418384, 242.59922274614036, 236.43355601992175, 169.97929552146928, 240.4536326376282, 175.06665312021084, 242.4233832969884, 68.2959252935612, 15.952987796973305, 33.77518352136838, 9.776056713007964, 8.8845349853549, 6.217735947494796, 95.35195344883327, 4.446503616407115, 4.446707127738094, 4.446455674976211, 4.445834671361923, 4.446801664678248, 6.2044734421725245, 5.340150118455467, 7.07658969282689, 64.8139092257499, 7.133294853003455, 3.5612396197595584, 3.561036615865006, 41.03946073581668, 3.5610724562643044, 3.5610006548120436, 3.560864503313572, 3.561275449018502, 3.5610424652031933, 3.5604371831028265, 3.560219346137097, 3.560910719470339, 3.562226907973017, 3.558813735250415, 18.829975804566935, 12.542362594247576, 11.467153972104096, 7.119127515647073, 47.82417725628538, 20.22605354137046, 16.693563507580308, 8.833333487509424, 59.050457769047256, 7.060586210029516, 290.4223260594032, 5.355948261078499, 305.3488622187065, 13.391273918039897, 36.31396646035052, 27.126264899132043, 314.2655829725179, 134.04350344590057, 397.46320103095735, 28.180037588965096, 89.91260984622186, 26.768227376775762, 99.54539347599794, 20.722737239269506, 242.4233832969884, 235.01558130880085, 119.24342580164452, 262.18934646887664, 190.0803174687806, 252.2662894536327, 72.11109003435574, 236.43355601992175, 408.1583250819097, 357.84068075511726, 56.25009156006545, 205.88222825503507, 729.6362559138447, 242.93618720777775, 242.59922274614036, 150.67640565295807, 131.33417414805922, 195.15736660537192, 204.29218950184173, 275.7705545095831, 189.34746902135512, 240.4536326376282, 8.548781892159408, 6.853812387044116, 5.999594816147254, 6.000787862657567, 7.720909714499457, 5.149236512987136, 5.149581527201735, 5.150892161912578, 17.217107018799496, 5.15263686894993, 5.15242422824742, 5.154595523127883, 4.300465768526848, 4.3003504567453765, 4.300517834126817, 4.304615597235936, 5.170010595760855, 3.451393552813724, 3.4515176292113203, 3.451504807032911, 3.4516245422649345, 3.4519588975911515, 3.451972607464788, 3.452169821537473, 3.452225628489332, 3.4520903256701274, 8.640350549971357, 3.452639971988252, 7.778647740631273, 4.318623153665511, 41.77572739111717, 15.609441679833477, 11.229598254491242, 4.310174865690223, 24.43239029897007, 6.891661567655524, 28.278449239155407, 55.610048746939455, 7.883001721593008, 19.28678782823762, 9.683704527356408, 10.512465594289333, 26.895227101160877, 67.34671929516668, 95.48177048272399, 38.13216785268854, 729.6362559138447, 106.74058989467599, 32.10097007287105, 99.65205580711883, 17.76286637576199, 124.10684793385482, 150.67640565295807, 235.01558130880085, 262.18934646887664, 408.1583250819097, 39.695599049219354, 286.5222623696244, 248.18481872627984, 290.4223260594032, 147.55580148520002, 131.43807930659057, 212.14632788393803, 134.04350344590057, 89.91260984622186, 204.29218950184173, 163.97019015664227, 305.3488622187065, 357.84068075511726, 154.6004687847925, 205.88222825503507, 190.0803174687806, 242.93618720777775, 83.07366352706941, 158.1864692109061, 242.59922274614036, 242.4233832969884], \"Category\": [\"Default\", \"Default\", \"Default\", \"Default\", \"Default\", \"Default\", \"Default\", \"Default\", \"Default\", \"Default\", \"Default\", \"Default\", \"Default\", \"Default\", \"Default\", \"Default\", \"Default\", \"Default\", \"Default\", \"Default\", \"Default\", \"Default\", \"Default\", \"Default\", \"Default\", \"Default\", \"Default\", \"Default\", \"Default\", \"Default\", \"Topic1\", \"Topic1\", \"Topic1\", \"Topic1\", \"Topic1\", \"Topic1\", \"Topic1\", \"Topic1\", \"Topic1\", \"Topic1\", \"Topic1\", \"Topic1\", \"Topic1\", \"Topic1\", \"Topic1\", \"Topic1\", \"Topic1\", \"Topic1\", \"Topic1\", \"Topic1\", \"Topic1\", \"Topic1\", \"Topic1\", \"Topic1\", \"Topic1\", \"Topic1\", \"Topic1\", \"Topic1\", \"Topic1\", \"Topic1\", \"Topic1\", \"Topic1\", \"Topic1\", \"Topic1\", \"Topic1\", \"Topic1\", \"Topic1\", \"Topic1\", \"Topic1\", \"Topic1\", \"Topic1\", \"Topic1\", \"Topic1\", \"Topic1\", \"Topic1\", \"Topic1\", \"Topic1\", \"Topic1\", \"Topic1\", \"Topic1\", \"Topic1\", \"Topic1\", \"Topic1\", \"Topic1\", \"Topic1\", \"Topic1\", \"Topic1\", \"Topic1\", \"Topic1\", \"Topic1\", \"Topic1\", \"Topic1\", \"Topic1\", \"Topic1\", \"Topic1\", \"Topic1\", \"Topic1\", \"Topic1\", \"Topic1\", \"Topic1\", \"Topic1\", \"Topic1\", \"Topic1\", \"Topic2\", \"Topic2\", \"Topic2\", \"Topic2\", \"Topic2\", \"Topic2\", \"Topic2\", \"Topic2\", \"Topic2\", \"Topic2\", \"Topic2\", \"Topic2\", \"Topic2\", \"Topic2\", \"Topic2\", \"Topic2\", \"Topic2\", \"Topic2\", \"Topic2\", \"Topic2\", \"Topic2\", \"Topic2\", \"Topic2\", \"Topic2\", \"Topic2\", \"Topic2\", \"Topic2\", \"Topic2\", \"Topic2\", \"Topic2\", \"Topic2\", \"Topic2\", \"Topic2\", \"Topic2\", \"Topic2\", \"Topic2\", \"Topic2\", \"Topic2\", \"Topic2\", \"Topic2\", \"Topic2\", \"Topic2\", \"Topic2\", \"Topic2\", \"Topic2\", \"Topic2\", \"Topic2\", \"Topic2\", \"Topic2\", \"Topic2\", \"Topic2\", \"Topic2\", \"Topic2\", \"Topic2\", \"Topic2\", \"Topic2\", \"Topic2\", \"Topic2\", \"Topic2\", \"Topic2\", \"Topic2\", \"Topic2\", \"Topic2\", \"Topic2\", \"Topic2\", \"Topic2\", \"Topic2\", \"Topic2\", \"Topic2\", \"Topic2\", \"Topic2\", \"Topic2\", \"Topic2\", \"Topic2\", \"Topic2\", \"Topic2\", \"Topic2\", \"Topic2\", \"Topic2\", \"Topic2\", \"Topic3\", \"Topic3\", \"Topic3\", \"Topic3\", \"Topic3\", \"Topic3\", \"Topic3\", \"Topic3\", \"Topic3\", \"Topic3\", \"Topic3\", \"Topic3\", \"Topic3\", \"Topic3\", \"Topic3\", \"Topic3\", \"Topic3\", \"Topic3\", \"Topic3\", \"Topic3\", \"Topic3\", \"Topic3\", \"Topic3\", \"Topic3\", \"Topic3\", \"Topic3\", \"Topic3\", \"Topic3\", \"Topic3\", \"Topic3\", \"Topic3\", \"Topic3\", \"Topic3\", \"Topic3\", \"Topic3\", \"Topic3\", \"Topic3\", \"Topic3\", \"Topic3\", \"Topic3\", \"Topic3\", \"Topic3\", \"Topic3\", \"Topic3\", \"Topic3\", \"Topic3\", \"Topic3\", \"Topic3\", \"Topic3\", \"Topic3\", \"Topic3\", \"Topic3\", \"Topic3\", \"Topic3\", \"Topic3\", \"Topic3\", \"Topic3\", \"Topic3\", \"Topic3\", \"Topic3\", \"Topic3\", \"Topic3\", \"Topic3\", \"Topic3\", \"Topic3\", \"Topic3\", \"Topic3\", \"Topic3\", \"Topic3\", \"Topic3\", \"Topic3\", \"Topic3\", \"Topic3\", \"Topic3\", \"Topic3\", \"Topic3\", \"Topic4\", \"Topic4\", \"Topic4\", \"Topic4\", \"Topic4\", \"Topic4\", \"Topic4\", \"Topic4\", \"Topic4\", \"Topic4\", \"Topic4\", \"Topic4\", \"Topic4\", \"Topic4\", \"Topic4\", \"Topic4\", \"Topic4\", \"Topic4\", \"Topic4\", \"Topic4\", \"Topic4\", \"Topic4\", \"Topic4\", \"Topic4\", \"Topic4\", \"Topic4\", \"Topic4\", \"Topic4\", \"Topic4\", \"Topic4\", \"Topic4\", \"Topic4\", \"Topic4\", \"Topic4\", \"Topic4\", \"Topic4\", \"Topic4\", \"Topic4\", \"Topic4\", \"Topic4\", \"Topic4\", \"Topic4\", \"Topic4\", \"Topic4\", \"Topic4\", \"Topic4\", \"Topic4\", \"Topic4\", \"Topic4\", \"Topic4\", \"Topic4\", \"Topic4\", \"Topic4\", \"Topic4\", \"Topic4\", \"Topic4\", \"Topic4\", \"Topic4\", \"Topic4\", \"Topic4\", \"Topic4\", \"Topic4\", \"Topic4\", \"Topic4\", \"Topic4\", \"Topic4\", \"Topic4\", \"Topic4\", \"Topic4\", \"Topic4\", \"Topic4\", \"Topic4\", \"Topic4\", \"Topic4\", \"Topic4\", \"Topic4\", \"Topic4\"], \"logprob\": [30.0, 29.0, 28.0, 27.0, 26.0, 25.0, 24.0, 23.0, 22.0, 21.0, 20.0, 19.0, 18.0, 17.0, 16.0, 15.0, 14.0, 13.0, 12.0, 11.0, 10.0, 9.0, 8.0, 7.0, 6.0, 5.0, 4.0, 3.0, 2.0, 1.0, -5.7183, -6.241, -5.2247, -6.3425, -6.3012, -6.3175, -6.5298, -5.4954, -6.8034, -7.071, -7.1862, -7.0817, -6.9873, -7.1893, -7.191, -6.3951, -7.3151, -7.3163, -6.8327, -7.319, -5.8137, -6.9245, -7.4639, -5.7034, -7.3346, -7.4689, -5.5922, -7.4768, -7.3486, -6.481, -5.8488, -5.5492, -3.7826, -6.8669, -5.6673, -5.9785, -5.5448, -4.8123, -5.5335, -4.817, -5.7853, -5.8578, -6.1746, -4.2043, -3.2774, -4.7439, -4.2889, -4.4312, -4.4116, -5.5911, -5.3726, -4.3927, -4.5294, -4.6705, -4.8151, -4.4918, -4.6109, -4.8101, -4.6281, -4.3755, -4.627, -4.793, -4.9357, -4.7244, -4.4883, -4.9276, -4.924, -4.8443, -5.0803, -4.8483, -4.8877, -5.1107, -5.0939, -6.0968, -6.5406, -6.3342, -6.2306, -6.4162, -6.8237, -6.9387, -6.9496, -7.2131, -7.2131, -7.2171, -7.2183, -7.3853, -5.4157, -7.3911, -6.1433, -6.9915, -7.4007, -7.4061, -6.3136, -7.5979, -7.601, -7.1351, -7.6032, -7.1343, -7.6049, -7.6049, -7.1377, -7.6111, -7.274, -5.2367, -7.1507, -6.0941, -5.7358, -5.6879, -6.1846, -6.5054, -6.1281, -5.7219, -4.8993, -5.6513, -6.0433, -5.354, -3.633, -6.0565, -4.7997, -5.8695, -5.3455, -4.7807, -5.1955, -4.9347, -4.4445, -5.2615, -5.5891, -4.3297, -4.0729, -4.7482, -5.417, -4.9844, -4.4498, -5.3116, -4.3193, -4.5568, -4.5915, -4.9905, -4.5401, -5.0591, -5.0001, -4.967, -4.2204, -4.8723, -4.7372, -4.9482, -4.9081, -4.9027, -4.9167, -5.0792, -5.0506, -5.1166, -5.1541, -4.5518, -6.0257, -5.3126, -6.5716, -6.6684, -7.0346, -4.3063, -7.4145, -7.4149, -7.4171, -7.4186, -7.4191, -7.0869, -7.2414, -6.9836, -4.7704, -6.9851, -7.6832, -7.6836, -5.2395, -7.6845, -7.6848, -7.6881, -7.6882, -7.6886, -7.6889, -7.6897, -7.6907, -7.6929, -7.6971, -6.1062, -6.4931, -6.5827, -7.0361, -5.2574, -6.0765, -6.2696, -6.853, -5.1284, -7.0645, -3.7413, -7.3199, -3.7411, -6.5095, -5.6531, -5.9048, -3.8474, -4.603, -3.7556, -5.9092, -4.9787, -5.9608, -4.9283, -6.1746, -4.3404, -4.3662, -4.8988, -4.332, -4.5756, -4.4354, -5.2882, -4.5236, -4.1694, -4.3436, -5.4909, -4.7215, -4.1878, -4.7847, -4.8547, -5.0834, -5.193, -5.0723, -5.0714, -5.0821, -5.1451, -5.1316, -6.4019, -6.6514, -6.7903, -6.7933, -6.548, -6.9612, -6.963, -6.967, -5.763, -6.9728, -6.9738, -6.974, -7.1721, -7.1723, -7.1753, -7.1902, -7.0151, -7.4401, -7.4403, -7.4411, -7.4434, -7.4445, -7.4446, -7.4459, -7.4462, -7.4463, -6.5299, -7.452, -6.6401, -7.2293, -5.0153, -5.9772, -6.3391, -7.2414, -5.6597, -6.824, -5.6389, -5.095, -6.7527, -6.021, -6.6032, -6.541, -5.8282, -5.146, -4.9229, -5.6216, -3.5608, -4.9093, -5.7697, -5.0308, -6.2152, -5.0207, -4.9211, -4.6614, -4.6017, -4.36, -5.74, -4.5777, -4.6769, -4.6045, -4.9922, -5.0651, -4.8031, -5.0862, -5.3049, -4.9283, -5.0525, -4.7812, -4.7274, -5.1148, -5.0374, -5.119, -5.1823, -5.4203, -5.2954, -5.2552, -5.2608], \"loglift\": [30.0, 29.0, 28.0, 27.0, 26.0, 25.0, 24.0, 23.0, 22.0, 21.0, 20.0, 19.0, 18.0, 17.0, 16.0, 15.0, 14.0, 13.0, 12.0, 11.0, 10.0, 9.0, 8.0, 7.0, 6.0, 5.0, 4.0, 3.0, 2.0, 1.0, 1.0236, 1.0204, 1.018, 1.0143, 1.0078, 0.9911, 0.9908, 0.9868, 0.9854, 0.9803, 0.9708, 0.9706, 0.9694, 0.968, 0.9664, 0.9656, 0.9602, 0.9591, 0.9591, 0.9563, 0.953, 0.9476, 0.9455, 0.9433, 0.9423, 0.9408, 0.9393, 0.9333, 0.9293, 0.9269, 0.9268, 0.9157, 0.8695, 0.9254, 0.8685, 0.8821, 0.8533, 0.798, 0.8237, 0.738, 0.8243, 0.8234, 0.8549, 0.5836, 0.4108, 0.6008, 0.5093, 0.4922, 0.4271, 0.702, 0.6395, 0.2302, 0.2599, 0.2907, 0.3299, 0.1693, 0.2101, 0.3054, 0.1869, 0.0251, 0.1395, 0.2139, 0.2812, 0.0656, -0.2193, 0.1095, 0.0293, -0.0941, 0.1409, -0.3179, -0.3284, 0.1548, -0.3823, 1.2366, 1.2248, 1.2239, 1.2108, 1.208, 1.2054, 1.1966, 1.1864, 1.1749, 1.1748, 1.1709, 1.1699, 1.1579, 1.1567, 1.1527, 1.1513, 1.1461, 1.1439, 1.1378, 1.1311, 1.1295, 1.1267, 1.1251, 1.1247, 1.1238, 1.1232, 1.1228, 1.1208, 1.117, 1.1153, 1.0852, 1.1105, 1.0685, 1.0493, 1.037, 1.0574, 1.0675, 1.0404, 0.991, 0.8992, 0.969, 1.005, 0.9222, 0.6625, 0.9896, 0.7994, 0.9507, 0.8395, 0.7188, 0.7682, 0.7043, 0.5888, 0.6918, 0.778, 0.3314, 0.1961, 0.4328, 0.7056, 0.4871, 0.1731, 0.6254, 0.0813, 0.1934, 0.1751, 0.4117, -0.0097, 0.3439, 0.2864, 0.2499, -0.5322, 0.1346, -0.0256, 0.0889, -0.0694, -0.1134, -0.1017, 0.0658, -0.2524, -0.0011, -0.3641, 1.505, 1.4854, 1.4484, 1.4292, 1.4279, 1.4187, 1.4168, 1.3741, 1.3737, 1.3715, 1.3702, 1.3694, 1.3685, 1.364, 1.3403, 1.3388, 1.3308, 1.3274, 1.3271, 1.3267, 1.3261, 1.3259, 1.3226, 1.3224, 1.3221, 1.3219, 1.3212, 1.32, 1.3174, 1.3142, 1.2391, 1.2585, 1.2585, 1.2818, 1.1557, 1.1972, 1.1961, 1.2492, 1.0739, 1.2617, 0.8681, 1.2825, 0.8181, 1.1766, 1.0354, 1.0754, 0.683, 0.7795, 0.54, 1.0328, 0.8032, 1.0327, 0.7518, 1.0748, 0.4496, 0.4549, 0.6007, 0.3796, 0.4577, 0.3148, 0.7143, 0.2914, 0.0996, 0.057, 0.7599, 0.2319, -0.4996, 0.0032, -0.0655, 0.1822, 0.2099, -0.0654, -0.1103, -0.4209, -0.108, -0.3334, 1.733, 1.7045, 1.6987, 1.6955, 1.6887, 1.6807, 1.6788, 1.6745, 1.6718, 1.6684, 1.6674, 1.6668, 1.6499, 1.6497, 1.6466, 1.6308, 1.6227, 1.6018, 1.6016, 1.6008, 1.5985, 1.5973, 1.5972, 1.5958, 1.5954, 1.5954, 1.5943, 1.5896, 1.5892, 1.5885, 1.5331, 1.5556, 1.523, 1.5783, 1.4251, 1.5264, 1.2997, 1.1674, 1.4633, 1.3002, 1.4071, 1.3871, 1.1605, 0.9249, 0.7988, 1.0181, 0.1274, 0.701, 1.0421, 0.6482, 1.1884, 0.4389, 0.3445, 0.1596, 0.1099, -0.091, 0.8595, 0.0452, 0.0896, 0.0049, 0.2943, 0.3371, 0.1203, 0.2964, 0.477, 0.0328, 0.1285, -0.2219, -0.3267, 0.1251, -0.084, -0.0858, -0.3944, 0.4407, -0.0785, -0.4659, -0.4708]}, \"token.table\": {\"Topic\": [1, 2, 3, 4, 2, 3, 4, 3, 2, 4, 4, 4, 1, 2, 3, 1, 2, 3, 4, 1, 2, 4, 1, 2, 3, 4, 4, 1, 2, 4, 1, 2, 3, 4, 1, 3, 1, 2, 3, 4, 2, 1, 4, 1, 1, 3, 4, 1, 2, 3, 4, 1, 4, 1, 2, 3, 4, 1, 2, 3, 4, 1, 2, 3, 4, 1, 2, 3, 4, 1, 2, 3, 2, 3, 4, 1, 3, 1, 2, 3, 4, 4, 2, 1, 2, 3, 4, 4, 1, 2, 3, 4, 3, 3, 1, 2, 1, 2, 4, 1, 2, 4, 1, 3, 4, 4, 3, 1, 2, 3, 4, 1, 2, 3, 4, 1, 3, 4, 1, 4, 1, 2, 3, 4, 4, 1, 2, 3, 4, 1, 2, 3, 4, 1, 2, 3, 4, 2, 1, 2, 3, 4, 1, 1, 2, 3, 4, 1, 2, 3, 4, 3, 4, 2, 3, 4, 1, 4, 1, 2, 3, 1, 2, 3, 3, 4, 1, 3, 1, 2, 3, 4, 1, 3, 1, 4, 1, 2, 3, 4, 1, 2, 3, 4, 1, 2, 3, 4, 1, 2, 3, 1, 4, 3, 4, 2, 2, 1, 2, 3, 4, 1, 2, 3, 4, 1, 2, 3, 4, 1, 2, 3, 4, 1, 2, 3, 4, 1, 2, 3, 4, 3, 4, 2, 3, 1, 2, 3, 4, 1, 2, 3, 4, 2, 1, 2, 3, 4, 1, 2, 3, 4, 1, 2, 3, 4, 1, 1, 4, 1, 1, 2, 3, 4, 1, 2, 3, 4, 4, 4, 1, 2, 3, 4, 1, 4, 1, 2, 3, 4, 1, 2, 1, 2, 3, 4, 1, 2, 3, 4, 2, 1, 2, 3, 4, 4, 1, 2, 3, 4, 1, 2, 1, 2, 3, 4, 1, 2, 3, 4, 1, 2, 3, 4, 2, 4, 1, 2, 3, 4, 3, 3, 1, 2, 1, 1, 1, 2, 3, 4, 3, 2, 3, 4, 1, 2, 3, 4, 2, 1, 2, 3, 4, 1, 2, 3, 4, 1, 2, 3, 4, 1, 4, 2, 1, 2, 3, 4, 3, 1, 2, 3, 4, 1, 2, 4, 3, 2, 3, 4, 1, 2, 1, 2, 3, 4, 1, 3, 4, 1, 2, 3, 4, 4, 3, 4, 1, 3, 4, 2, 3, 4, 2, 2, 4, 2, 4, 1, 2, 3, 4, 1, 2, 3, 4, 1, 2, 3, 4, 1, 2, 3, 4, 1, 2, 3, 4, 2, 1, 2, 3, 4, 1, 2, 3, 4, 4, 2, 3, 2, 1, 2, 3, 4, 1, 2, 3, 4, 1, 2, 4, 2, 3, 4, 3, 2, 1, 4, 1, 3, 4, 1, 2, 3, 4, 2, 3, 4, 1, 3, 4, 2, 4, 1, 1, 1, 2, 3, 4, 1, 2, 3, 4, 1, 2, 3, 4, 1, 2, 3, 4, 3, 1, 2, 3, 4, 2, 2, 4, 1, 3, 4, 1, 3, 4, 1, 1, 4, 1, 1, 2, 3, 4, 1, 4, 4, 2, 4, 3, 2, 4, 1, 3, 1, 2, 3, 1, 3, 1, 2, 3, 4, 1, 2, 1, 2, 3, 2, 3, 1, 2, 3, 4, 2, 1, 2, 1, 2, 3, 4, 2, 4, 3, 4, 1, 3, 4, 1, 2, 3, 4, 1, 4, 4, 3, 4, 1, 2, 3, 4, 1, 2, 3, 4, 1, 2, 4, 1, 2, 3, 4, 1, 2, 3, 3, 4, 1, 2, 3, 4, 1, 3, 1, 2, 3, 4, 1, 2, 3, 4, 3, 3, 4, 1, 2, 3, 4, 1, 2, 4, 2], \"Freq\": [0.7908768327766462, 0.03954384163883231, 0.019771920819416155, 0.1384034457359131, 0.16371709648763336, 0.12278782236572501, 0.6548683859505334, 0.8424811056330638, 0.7955229356242878, 0.1325871559373813, 0.833223922331034, 0.7765645007242318, 0.1997428815583334, 0.6491643650645835, 0.14980716116875004, 0.9409590985498434, 0.022403788060710556, 0.022403788060710556, 0.022403788060710556, 0.05865922808718209, 0.8798884213077314, 0.05865922808718209, 0.41872228995979877, 0.24954156674371844, 0.2876072294673365, 0.042295180804020074, 0.9301205469392422, 0.33778332128800986, 0.11259444042933663, 0.5066749819320148, 0.2552742385747683, 0.6928872189886568, 0.03646774836782404, 0.01823387418391202, 0.1867083009869545, 0.746833203947818, 0.8273760617304163, 0.023639316049440466, 0.04727863209888093, 0.11819658024720232, 0.9471159954732673, 0.913046360433153, 0.08300421458483209, 0.968426287916808, 0.03718131831490789, 0.4461758197788947, 0.5205384564087104, 0.6321341110953159, 0.07183342171537681, 0.20831692297459276, 0.08620010605845217, 0.9422780762424336, 0.7767621463745591, 0.0798744954422728, 0.599058715817046, 0.2396234863268184, 0.0798744954422728, 0.06171514799497453, 0.030857573997487266, 0.8177257109334125, 0.07714393499371816, 0.37787564262227674, 0.20153367606521425, 0.02519170950815178, 0.37787564262227674, 0.24889563841100842, 0.1342726470375177, 0.4846915063793322, 0.12772276181617537, 0.1594595902463607, 0.07972979512318035, 0.7175681561086231, 0.12183395956848701, 0.8041041331520143, 0.0487335838273948, 0.9437819599163474, 0.8424513206728919, 0.047803167565492785, 0.5384146241587082, 0.3673296033979972, 0.047803167565492785, 0.8690186622000846, 0.9040509929816093, 0.8504053227442142, 0.06541579405724725, 0.032707897028623624, 0.06541579405724725, 0.8754251883728109, 0.5703610390380984, 0.09427455190712371, 0.15555301064675411, 0.1838353762188912, 0.8995929100364641, 0.8425931551994352, 0.15085905833582697, 0.9051543500149618, 0.04450537146109006, 0.801096686299621, 0.13351611438327016, 0.15708418677185815, 0.7225872591505474, 0.1256673494174865, 0.059215074249253735, 0.9178336508634328, 0.8690386742466344, 0.7760065716218879, 0.8426447104319724, 0.07471544424100376, 0.14943088848200753, 0.5977235539280301, 0.14943088848200753, 0.1713573112152313, 0.7711079004685408, 0.028559551869205214, 0.028559551869205214, 0.08905038072934206, 0.08905038072934206, 0.7124030458347365, 0.967094123251925, 0.9301567489053695, 0.015782801922627942, 0.4997887275498848, 0.3366997743493961, 0.1473061512778608, 0.8692141171655928, 0.7046839228931567, 0.05563294128103869, 0.07417725504138492, 0.16689882384311608, 0.2545617602898498, 0.27365389231158854, 0.42320892648187525, 0.047730330054346834, 0.830082417883977, 0.03234087342405105, 0.09702262027215315, 0.03952773418495128, 0.8810165356534548, 0.3180258609464367, 0.4484980090270261, 0.18755371286584727, 0.04892705553022103, 0.8809268638362194, 0.21217570840808958, 0.17681309034007464, 0.035362618068014925, 0.6011645071562538, 0.4650202253529793, 0.17621819066007638, 0.19090303988174942, 0.16642829117896102, 0.14510288849546485, 0.7255144424773242, 0.1914987601556652, 0.0478746900389163, 0.7420576956032026, 0.28537548809003327, 0.6658761388767442, 0.8238749169240476, 0.14417811046170834, 0.020596872923101188, 0.9046208183756231, 0.056538801148476446, 0.056538801148476446, 0.8478660287570207, 0.14131100479283676, 0.9493314252853314, 0.06328876168568875, 0.43060746393449434, 0.13363679915208446, 0.02969706647824099, 0.40091039745625334, 0.9241975354239031, 0.8995832107817107, 0.9698540160263571, 0.017633709382297403, 0.03555549768064543, 0.3911104744870997, 0.4622214698483906, 0.124444241882259, 0.4824116946033758, 0.2941534723191316, 0.11766138892765263, 0.10589525003488737, 0.3049334757264996, 0.42690686601709943, 0.08538137320341989, 0.18296008543589976, 0.768221311415642, 0.1030540783606349, 0.12179118351711399, 0.11573604499221563, 0.8101523149455093, 0.8423948225703263, 0.9292351220788367, 0.9039952262101214, 0.9042327409981875, 0.019282461047589277, 0.559191370380089, 0.2603132241424552, 0.15425968838071422, 0.5249190907054165, 0.16309496551943753, 0.13020186322980307, 0.1822826085217243, 0.46148068393050046, 0.3540125794535346, 0.03160826602263702, 0.15171967690865767, 0.3988962762028807, 0.3303989358448103, 0.0926728722491541, 0.17728723386794698, 0.3171252099250631, 0.33694553554537954, 0.29334081918068333, 0.05549691173688604, 0.42975873955901733, 0.04680540727870486, 0.3361479250016076, 0.18722162911481943, 0.7848503666990179, 0.17441119259978177, 0.029284323938847872, 0.9663826899819797, 0.15254241746670716, 0.12480743247276041, 0.4437597599031481, 0.2773498499394676, 0.3612569726577409, 0.2408379817718273, 0.09031424316443523, 0.3110823931219436, 0.8803229366833606, 0.11015045696997623, 0.2753761424249406, 0.6058275133348693, 0.027537614242494058, 0.1254595550666047, 0.020909925844434116, 0.6900275528663259, 0.16727940675547293, 0.20091336526609174, 0.2310503700560055, 0.4520550718487064, 0.12054801915965505, 0.9766897443097501, 0.12855704916120103, 0.7713422949672063, 0.9731302371090692, 0.044241788320039395, 0.7963521897607091, 0.1327253649601182, 0.8689003268048268, 0.8713484864120193, 0.030046499531448945, 0.030046499531448945, 0.06009299906289789, 0.9301318078786208, 0.6946658444726057, 0.23647032511048174, 0.2707966626265194, 0.31275107514612105, 0.17925976258375229, 0.792773974619333, 0.19135923525294243, 0.4048410879968615, 0.11282456550732206, 0.2588328267520918, 0.22564913101464412, 0.9215181649272873, 0.05119545360707152, 0.4084549312693827, 0.15709805048822412, 0.07331242356117125, 0.35608891443997465, 0.10833758399335988, 0.3370502613126752, 0.30093773331488854, 0.2527876959845064, 0.8798144105434831, 0.4362662746210811, 0.32807223851505296, 0.06282234354543567, 0.16752624945449512, 0.7768141917566631, 0.38162885574512323, 0.2846045703861936, 0.1552388565742874, 0.18111199933666863, 0.893315929553118, 0.0893315929553118, 0.07355960087279131, 0.8827152104734959, 0.024519866957597107, 0.049039733915194214, 0.17498734096951107, 0.4184479892749178, 0.17498734096951107, 0.22824435778631877, 0.10562213715349816, 0.5545162200558653, 0.22444704145118358, 0.10562213715349816, 0.8582425970475452, 0.1009697172997112, 0.3577010856616239, 0.30181029102699514, 0.22635771827024637, 0.11737066873272033, 0.8995420397822961, 0.9402627389237951, 0.19158808160144739, 0.8142493468061514, 0.9446792656497915, 0.9570180493476916, 0.35942878910526, 0.22342870674110757, 0.27200016472830485, 0.1457143739615919, 0.8421698217161196, 0.8804353326020649, 0.8058701591039815, 0.1611740318207963, 0.3999989467032185, 0.24761839557818288, 0.22222163705734363, 0.12698379260419634, 0.9361195269804451, 0.04631912992545668, 0.6206763410011195, 0.1574850417465527, 0.1760126937167354, 0.04194984848576214, 0.0629247727286432, 0.8809468182010048, 0.010487462121440534, 0.060662037826821544, 0.7886064917486801, 0.12132407565364309, 0.030331018913410772, 0.8993862199679751, 0.08993862199679752, 0.9368207984341353, 0.20781201327430046, 0.5195300331857511, 0.19482376244465668, 0.07792950497786268, 0.7490426132733738, 0.23603909798109543, 0.388322387001157, 0.26649575578510776, 0.10659830231404309, 0.72695122049745, 0.0797873290789884, 0.18617043451763962, 0.8424032978164353, 0.04944118228277185, 0.6921765519588058, 0.24720591141385923, 0.7889189900670631, 0.20359199743666145, 0.13339171297044258, 0.6002627083669916, 0.0933741990793098, 0.17340922686157534, 0.3933686660026179, 0.15734746640104716, 0.44581782146963356, 0.6580545823960966, 0.028002322655153046, 0.25202090389637744, 0.05600464531030609, 0.7763015523380306, 0.9004410487647411, 0.8690717615709336, 0.14046665097683783, 0.7023332548841891, 0.14046665097683783, 0.7941864600358373, 0.13236441000597288, 0.8691860993173446, 0.8462276636384364, 0.8468192436848839, 0.8333896126690167, 0.8206814754982806, 0.17177054138336106, 0.12234101555736591, 0.14458483656779608, 0.4782421517242486, 0.2558039416199469, 0.8588576408234325, 0.04404398158068885, 0.022021990790344424, 0.06606597237103327, 0.578074028141125, 0.21625790980819062, 0.15387582044044332, 0.054064477452047656, 0.025158619687682824, 0.570262046254144, 0.3941517084403643, 0.016772413125121885, 0.3738204787194689, 0.09345511967986722, 0.06230341311991148, 0.46727559839933613, 0.846460881154969, 0.371251315677509, 0.19387568707603248, 0.3341261841097581, 0.09900035084733573, 0.2014271434713514, 0.11190396859519522, 0.46999666809981994, 0.21634767261737745, 0.8690683099606843, 0.7939214882296892, 0.13232024803828155, 0.8464778290914567, 0.078925575381383, 0.7497929661231385, 0.078925575381383, 0.078925575381383, 0.07819309223101459, 0.5629902640633051, 0.3596882242626671, 0.01563861844620292, 0.1574997444795466, 0.7481237862778463, 0.0787498722397733, 0.800185039123895, 0.06668208659365792, 0.13336417318731583, 0.8424428418249905, 0.9124970069201775, 0.9585871402694499, 0.0290480951596803, 0.9135026300511677, 0.08304569364101524, 0.8690046140792882, 0.0791614915293172, 0.6785270702512902, 0.11308784504188171, 0.12439662954606988, 0.7202374746755101, 0.025722766952696794, 0.2572276695269679, 0.11320754519389847, 0.7924528163572894, 0.11320754519389847, 0.25371046089228017, 0.6342761522307004, 0.9693017740495791, 0.9235347951077184, 0.3185235655049059, 0.36596324547372167, 0.09487935993763154, 0.2168671084288721, 0.4304218767711524, 0.31769233761680293, 0.19983872850089218, 0.05124069961561338, 0.4403198450221818, 0.0655795513862824, 0.16863313213615475, 0.327897756931412, 0.08467334867335902, 0.16934669734671803, 0.6265827801828567, 0.13547735787737442, 0.8424499368694891, 0.07097222612588606, 0.3193750175664873, 0.6032639220700315, 0.7763335903263903, 0.9446771424028104, 0.30979879564943535, 0.6195975912988707, 0.813331058030088, 0.11619015114715543, 0.038730050382385146, 0.22402648309348563, 0.6720794492804569, 0.0746754943644952, 0.9567844793788586, 0.8979165589300955, 0.07922793167030254, 0.9423647333562803, 0.6215624017794152, 0.05351199485518145, 0.2140479794207258, 0.1070239897103629, 0.9167935034804587, 0.05392902961649758, 0.7736928050553312, 0.9354765210240905, 0.05846728256400566, 0.8041512283927984, 0.7963558920050294, 0.13272598200083824, 0.1022907322815963, 0.9206165905343667, 0.2211878422005671, 0.11059392110028354, 0.6266988862349401, 0.9570373836465045, 0.8429775265518092, 0.4741051395036805, 0.2741812854961044, 0.1370906427480522, 0.11424220229004349, 0.9422966633163432, 0.9198651521830117, 0.212427251182652, 0.053106812795663, 0.743495379139282, 0.903974234636052, 0.8997185670817247, 0.41338713700863394, 0.38437751335890524, 0.1414219152924274, 0.06164545025567349, 0.9699984454969321, 0.9237740060575851, 0.8466083637035209, 0.3855345961438062, 0.301033862742424, 0.1901266501531099, 0.1161885084269005, 0.8210436338464302, 0.9066289153536368, 0.8424920401234987, 0.6960274451694632, 0.8944710176213628, 0.023538710990035863, 0.09415484396014345, 0.5326797247629204, 0.2598437681770343, 0.10826823674043097, 0.10393750727081373, 0.9102945829940228, 0.9358058377108992, 0.8691828703437644, 0.8995229159359018, 0.8691559476603498, 0.27930338056224224, 0.33810409225955634, 0.2352028467892566, 0.1470017792432854, 0.2592448283523679, 0.051848965670473576, 0.10369793134094715, 0.5703386223752093, 0.1921913711927206, 0.06406379039757354, 0.7687654847708824, 0.44316652074922835, 0.15309388898609708, 0.15309388898609708, 0.24978476624047416, 0.28953703995387364, 0.04825617332564561, 0.6273302532333929, 0.708156497387927, 0.14163129947758538, 0.056434748817469294, 0.7336517346271008, 0.028217374408734647, 0.16930424645240788, 0.14018767212166375, 0.8411260327299825, 0.21348220999827153, 0.11362762790230582, 0.5096026948345836, 0.16183328822449616, 0.34166486863663614, 0.017982361507191374, 0.10789416904314825, 0.5214884837085498, 0.8424598282356524, 0.7188399286078717, 0.23961330953595722, 0.4493006975296838, 0.24732148487872505, 0.20197921265095878, 0.10305061869946877, 0.05808176709990198, 0.11616353419980396, 0.8712265064985297, 0.846775429711309], \"Term\": [\"able\", \"able\", \"able\", \"able\", \"absolutely\", \"absolutely\", \"absolutely\", \"accommodate\", \"accord\", \"accord\", \"accurate\", \"accustomed\", \"add\", \"add\", \"add\", \"adjust\", \"adjust\", \"adjust\", \"adjust\", \"afraid\", \"afraid\", \"afraid\", \"also\", \"also\", \"also\", \"also\", \"amazing\", \"anymore\", \"anymore\", \"anymore\", \"apart\", \"apart\", \"apart\", \"apart\", \"appreciate\", \"appreciate\", \"around\", \"around\", \"around\", \"around\", \"attractive\", \"basically\", \"basically\", \"bat\", \"believe\", \"believe\", \"believe\", \"big\", \"big\", \"big\", \"big\", \"bored\", \"bottled\", \"bottom\", \"bottom\", \"bottom\", \"bottom\", \"bowl\", \"bowl\", \"bowl\", \"bowl\", \"break\", \"break\", \"break\", \"break\", \"buy\", \"buy\", \"buy\", \"buy\", \"care\", \"care\", \"care\", \"catit\", \"catit\", \"catit\", \"challenge\", \"cheaply\", \"clean\", \"clean\", \"clean\", \"clean\", \"clearly\", \"clog\", \"close\", \"close\", \"close\", \"close\", \"color\", \"come\", \"come\", \"come\", \"come\", \"complete\", \"construct\", \"consume\", \"consume\", \"continue\", \"continue\", \"continue\", \"cool\", \"cool\", \"cool\", \"cute\", \"cute\", \"deal\", \"deliver\", \"dental\", \"die\", \"die\", \"die\", \"die\", \"difficult\", \"difficult\", \"difficult\", \"difficult\", \"disassemble\", \"disassemble\", \"disassemble\", \"dispense\", \"divide\", \"drink\", \"drink\", \"drink\", \"drink\", \"drip\", \"dry_food\", \"dry_food\", \"dry_food\", \"dry_food\", \"easy\", \"easy\", \"easy\", \"easy\", \"eat\", \"eat\", \"eat\", \"eat\", \"eliminate\", \"enough\", \"enough\", \"enough\", \"enough\", \"entertain\", \"entire\", \"entire\", \"entire\", \"entire\", \"even\", \"even\", \"even\", \"even\", \"everyday\", \"everyday\", \"extra\", \"extra\", \"extra\", \"fail\", \"fail\", \"fall\", \"fall\", \"fall\", \"fancy\", \"fancy\", \"fancy\", \"fantastic\", \"fantastic\", \"fat\", \"fat\", \"feed\", \"feed\", \"feed\", \"feed\", \"feral\", \"fight\", \"figure\", \"figure\", \"filter\", \"filter\", \"filter\", \"filter\", \"find\", \"find\", \"find\", \"find\", \"first\", \"first\", \"first\", \"first\", \"fit\", \"fit\", \"fit\", \"fluffy\", \"fluffy\", \"flush\", \"forever\", \"forward\", \"frequent\", \"fresh\", \"fresh\", \"fresh\", \"fresh\", \"get\", \"get\", \"get\", \"get\", \"give\", \"give\", \"give\", \"give\", \"go\", \"go\", \"go\", \"go\", \"good\", \"good\", \"good\", \"good\", \"great\", \"great\", \"great\", \"great\", \"gross\", \"gross\", \"grow\", \"grow\", \"happy\", \"happy\", \"happy\", \"happy\", \"hard\", \"hard\", \"hard\", \"hard\", \"harmful\", \"heavy\", \"heavy\", \"heavy\", \"heavy\", \"highly\", \"highly\", \"highly\", \"highly\", \"hold\", \"hold\", \"hold\", \"hold\", \"hole\", \"hum\", \"hum\", \"hungry\", \"important\", \"important\", \"important\", \"inferior\", \"interested\", \"interested\", \"interested\", \"interested\", \"internal\", \"jump\", \"keep\", \"keep\", \"keep\", \"keep\", \"kibble\", \"kibble\", \"large\", \"large\", \"large\", \"large\", \"learn\", \"learn\", \"leave\", \"leave\", \"leave\", \"leave\", \"like\", \"like\", \"like\", \"like\", \"lily\", \"little\", \"little\", \"little\", \"little\", \"locate\", \"long\", \"long\", \"long\", \"long\", \"lose\", \"lose\", \"loud\", \"loud\", \"loud\", \"loud\", \"love\", \"love\", \"love\", \"love\", \"low\", \"low\", \"low\", \"low\", \"main\", \"main\", \"make\", \"make\", \"make\", \"make\", \"medicinal\", \"medium\", \"mention\", \"mention\", \"motivate\", \"motivated\", \"much\", \"much\", \"much\", \"much\", \"multi\", \"near\", \"neat\", \"neat\", \"need\", \"need\", \"need\", \"need\", \"negative\", \"new\", \"new\", \"new\", \"new\", \"nice\", \"nice\", \"nice\", \"nice\", \"noisy\", \"noisy\", \"noisy\", \"noisy\", \"occupy\", \"occupy\", \"offer\", \"often\", \"often\", \"often\", \"often\", \"ok\", \"old\", \"old\", \"old\", \"old\", \"open\", \"open\", \"open\", \"overseas\", \"perfect_size\", \"perfect_size\", \"perfect_size\", \"perfectly\", \"perfectly\", \"pet\", \"pet\", \"pet\", \"pet\", \"plastic\", \"plastic\", \"plastic\", \"play\", \"play\", \"play\", \"play\", \"playful\", \"plenty\", \"poorly\", \"pot\", \"pot\", \"pot\", \"powerful\", \"powerful\", \"precise\", \"program\", \"proper\", \"prove\", \"pump\", \"pump\", \"purchase\", \"purchase\", \"purchase\", \"purchase\", \"push\", \"push\", \"push\", \"push\", \"put\", \"put\", \"put\", \"put\", \"quiet\", \"quiet\", \"quiet\", \"quiet\", \"rather\", \"rather\", \"rather\", \"rather\", \"readily\", \"really\", \"really\", \"really\", \"really\", \"recommend\", \"recommend\", \"recommend\", \"recommend\", \"reliable\", \"remain\", \"remain\", \"remind\", \"remove\", \"remove\", \"remove\", \"remove\", \"replace\", \"replace\", \"replace\", \"replace\", \"require\", \"require\", \"require\", \"reservoir\", \"reservoir\", \"reservoir\", \"reuse\", \"rinse\", \"roll\", \"roll\", \"round\", \"round\", \"rounded\", \"run\", \"run\", \"run\", \"run\", \"running_water\", \"running_water\", \"running_water\", \"s\", \"s\", \"s\", \"satisfied\", \"satisfied\", \"scarf\", \"screw\", \"see\", \"see\", \"see\", \"see\", \"seem\", \"seem\", \"seem\", \"seem\", \"set\", \"set\", \"set\", \"set\", \"several\", \"several\", \"several\", \"several\", \"sgd\", \"shallow\", \"shallow\", \"shallow\", \"shoot\", \"silent\", \"sink\", \"sink\", \"sized\", \"sized\", \"sized\", \"slide\", \"slide\", \"slide\", \"slim\", \"slow\", \"slow\", \"slowly\", \"small\", \"small\", \"small\", \"small\", \"smart\", \"smart\", \"solid\", \"splash\", \"splash\", \"sprout\", \"stagnant\", \"stagnant\", \"stainless\", \"stainless\", \"stand\", \"stand\", \"stand\", \"starve\", \"stiff\", \"still\", \"still\", \"still\", \"still\", \"stimulate\", \"strong\", \"sturdy\", \"sturdy\", \"sturdy\", \"submerge\", \"supply\", \"take\", \"take\", \"take\", \"take\", \"tall\", \"tape\", \"thank\", \"think\", \"think\", \"think\", \"think\", \"thoroughly\", \"total\", \"tough\", \"traditional\", \"treat\", \"treat\", \"treat\", \"try\", \"try\", \"try\", \"try\", \"twist\", \"ugly\", \"unfortunate\", \"unique\", \"upgrade\", \"use\", \"use\", \"use\", \"use\", \"wait\", \"wait\", \"wait\", \"wait\", \"wake\", \"wake\", \"wake\", \"want\", \"want\", \"want\", \"want\", \"wash\", \"wash\", \"wash\", \"water\", \"water\", \"water_level\", \"water_level\", \"water_level\", \"water_level\", \"weird\", \"weird\", \"well\", \"well\", \"well\", \"well\", \"wet_food\", \"wet_food\", \"wet_food\", \"wet_food\", \"wonder\", \"wonderful\", \"wonderful\", \"work\", \"work\", \"work\", \"work\", \"worry\", \"worry\", \"worry\", \"zen\"]}, \"R\": 30, \"lambda.step\": 0.01, \"plot.opts\": {\"xlab\": \"PC1\", \"ylab\": \"PC2\"}, \"topic.order\": [1, 3, 4, 2]};\n",
       "\n",
       "function LDAvis_load_lib(url, callback){\n",
       "  var s = document.createElement('script');\n",
       "  s.src = url;\n",
       "  s.async = true;\n",
       "  s.onreadystatechange = s.onload = callback;\n",
       "  s.onerror = function(){console.warn(\"failed to load library \" + url);};\n",
       "  document.getElementsByTagName(\"head\")[0].appendChild(s);\n",
       "}\n",
       "\n",
       "if(typeof(LDAvis) !== \"undefined\"){\n",
       "   // already loaded: just create the visualization\n",
       "   !function(LDAvis){\n",
       "       new LDAvis(\"#\" + \"ldavis_el2132013561651745441830906474\", ldavis_el2132013561651745441830906474_data);\n",
       "   }(LDAvis);\n",
       "}else if(typeof define === \"function\" && define.amd){\n",
       "   // require.js is available: use it to load d3/LDAvis\n",
       "   require.config({paths: {d3: \"https://d3js.org/d3.v5\"}});\n",
       "   require([\"d3\"], function(d3){\n",
       "      window.d3 = d3;\n",
       "      LDAvis_load_lib(\"https://cdn.jsdelivr.net/gh/bmabey/pyLDAvis@3.3.1/pyLDAvis/js/ldavis.v3.0.0.js\", function(){\n",
       "        new LDAvis(\"#\" + \"ldavis_el2132013561651745441830906474\", ldavis_el2132013561651745441830906474_data);\n",
       "      });\n",
       "    });\n",
       "}else{\n",
       "    // require.js not available: dynamically load d3 & LDAvis\n",
       "    LDAvis_load_lib(\"https://d3js.org/d3.v5.js\", function(){\n",
       "         LDAvis_load_lib(\"https://cdn.jsdelivr.net/gh/bmabey/pyLDAvis@3.3.1/pyLDAvis/js/ldavis.v3.0.0.js\", function(){\n",
       "                 new LDAvis(\"#\" + \"ldavis_el2132013561651745441830906474\", ldavis_el2132013561651745441830906474_data);\n",
       "            })\n",
       "         });\n",
       "}\n",
       "</script>"
      ],
      "text/plain": [
       "<IPython.core.display.HTML object>"
      ]
     },
     "execution_count": 377,
     "metadata": {},
     "output_type": "execute_result"
    }
   ],
   "source": [
    "pyLDAvis.enable_notebook()\n",
    "topic_data =  pyLDAvis.gensim_models.prepare(cat_feeding_supplies_optimal_model, \n",
    "                                             cats_feeding_supplies_doc_term_matrix2, \n",
    "                                             cats_feeding_supplies_dictionary2, \n",
    "                                             mds = 'tsne')\n",
    "pyLDAvis.display(topic_data)"
   ]
  },
  {
   "cell_type": "markdown",
   "id": "eec499ae",
   "metadata": {},
   "source": [
    "## 2. cat food (4/4)"
   ]
  },
  {
   "cell_type": "code",
   "execution_count": 22,
   "id": "278c71d1",
   "metadata": {},
   "outputs": [
    {
     "data": {
      "application/vnd.jupyter.widget-view+json": {
       "model_id": "5fc6568c0d424fe8b7530ddd1bf5ee4e",
       "version_major": 2,
       "version_minor": 0
      },
      "text/plain": [
       "  0%|          | 0/5999 [00:00<?, ?it/s]"
      ]
     },
     "metadata": {},
     "output_type": "display_data"
    },
    {
     "data": {
      "application/vnd.jupyter.widget-view+json": {
       "model_id": "435dcfdb79e04bd3b575c258274431b2",
       "version_major": 2,
       "version_minor": 0
      },
      "text/plain": [
       "  0%|          | 0/5999 [00:00<?, ?it/s]"
      ]
     },
     "metadata": {},
     "output_type": "display_data"
    },
    {
     "data": {
      "application/vnd.jupyter.widget-view+json": {
       "model_id": "043283db7f3c4ca5a9657cc4244b4e0f",
       "version_major": 2,
       "version_minor": 0
      },
      "text/plain": [
       "  0%|          | 0/5999 [00:00<?, ?it/s]"
      ]
     },
     "metadata": {},
     "output_type": "display_data"
    },
    {
     "data": {
      "application/vnd.jupyter.widget-view+json": {
       "model_id": "5f75e452a9234f879587f32cd95b9a59",
       "version_major": 2,
       "version_minor": 0
      },
      "text/plain": [
       "  0%|          | 0/3561 [00:00<?, ?it/s]"
      ]
     },
     "metadata": {},
     "output_type": "display_data"
    },
    {
     "data": {
      "application/vnd.jupyter.widget-view+json": {
       "model_id": "435bb35460fe4a3982aa5987d6391a4a",
       "version_major": 2,
       "version_minor": 0
      },
      "text/plain": [
       "  0%|          | 0/1195 [00:00<?, ?it/s]"
      ]
     },
     "metadata": {},
     "output_type": "display_data"
    },
    {
     "data": {
      "application/vnd.jupyter.widget-view+json": {
       "model_id": "04b99523d1014b3c9686fbf67c642a27",
       "version_major": 2,
       "version_minor": 0
      },
      "text/plain": [
       "  0%|          | 0/5999 [00:00<?, ?it/s]"
      ]
     },
     "metadata": {},
     "output_type": "display_data"
    },
    {
     "data": {
      "application/vnd.jupyter.widget-view+json": {
       "model_id": "c703ca6cee734ab2aa577e8dd0e9750d",
       "version_major": 2,
       "version_minor": 0
      },
      "text/plain": [
       "  0%|          | 0/5999 [00:00<?, ?it/s]"
      ]
     },
     "metadata": {},
     "output_type": "display_data"
    }
   ],
   "source": [
    "# cats_food_bigram, cats_food_trigram, cats_food_reviews2 = preprocess_review(df2.reviewText, \n",
    "#                                                          extra_stopwords = ['cat', 'cats', 'food'],\n",
    "#                                                          allowed_postags = ['ADJ', 'VERB', 'ADV'])"
   ]
  },
  {
   "cell_type": "code",
   "execution_count": 13,
   "id": "6f787b01",
   "metadata": {},
   "outputs": [
    {
     "data": {
      "application/vnd.jupyter.widget-view+json": {
       "model_id": "0fe367eb3a324854a061c659c7658abe",
       "version_major": 2,
       "version_minor": 0
      },
      "text/plain": [
       "  0%|          | 0/5999 [00:00<?, ?it/s]"
      ]
     },
     "metadata": {},
     "output_type": "display_data"
    },
    {
     "data": {
      "application/vnd.jupyter.widget-view+json": {
       "model_id": "3d1f870865b148cfaa779fe28f985fe7",
       "version_major": 2,
       "version_minor": 0
      },
      "text/plain": [
       "  0%|          | 0/5999 [00:00<?, ?it/s]"
      ]
     },
     "metadata": {},
     "output_type": "display_data"
    }
   ],
   "source": [
    "cats_food_dictionary, cats_food_doc_term_matrix = vectorize(cats_food_reviews2)\n",
    "# cats_food_model_list, cats_food_coherence_values = compute_coherence_values(dictionary=cats_food_dictionary, \n",
    "#                                                     corpus=cats_food_doc_term_matrix, \n",
    "#                                                     texts=cats_food_reviews2, \n",
    "#                                                     start=2, \n",
    "#                                                     limit=20, \n",
    "#                                                     step=2)\n",
    "\n",
    "# limit=20; start=2; step=2;\n",
    "# x = range(start, limit, step)\n",
    "# plt.plot(x, cats_food_coherence_values)\n",
    "# plt.xlabel(\"Num Topics\")\n",
    "# plt.ylabel(\"Coherence score\")\n",
    "# plt.legend((\"coherence_values\"), loc='best')\n",
    "# plt.show()\n",
    "# for m, cv in zip(x, cats_food_coherence_values):\n",
    "#     print(\"Num Topics =\", m, \" has Coherence Value of\", round(cv, 4))"
   ]
  },
  {
   "cell_type": "code",
   "execution_count": 24,
   "id": "1e628a77",
   "metadata": {},
   "outputs": [],
   "source": [
    "# with open ('./cats_food_model_list.pickle', 'wb') as handle:\n",
    "#     pickle.dump(cats_food_model_list, handle)"
   ]
  },
  {
   "cell_type": "code",
   "execution_count": 14,
   "id": "8446c4b4",
   "metadata": {},
   "outputs": [],
   "source": [
    "with open ('./cats_food_model_list.pickle', 'rb') as handle:\n",
    "    cats_food_model_list = pickle.load(handle)"
   ]
  },
  {
   "cell_type": "code",
   "execution_count": 121,
   "id": "deddb31c",
   "metadata": {},
   "outputs": [
    {
     "data": {
      "text/plain": [
       "0.5972780790966179"
      ]
     },
     "execution_count": 121,
     "metadata": {},
     "output_type": "execute_result"
    }
   ],
   "source": [
    "CoherenceModel(model=cats_food_model_list[1], \n",
    "               texts=cats_food_reviews2, \n",
    "               dictionary=cats_food_dictionary, \n",
    "               coherence='c_v').get_coherence()"
   ]
  },
  {
   "cell_type": "code",
   "execution_count": 15,
   "id": "1b20203d",
   "metadata": {},
   "outputs": [],
   "source": [
    "cats_food_optimal_model = cats_food_model_list[1]\n",
    "model_topics = cats_food_optimal_model.show_topics(formatted=False)"
   ]
  },
  {
   "cell_type": "code",
   "execution_count": 108,
   "id": "9709661a",
   "metadata": {},
   "outputs": [
    {
     "data": {
      "text/plain": [
       "[(0,\n",
       "  '0.059*\"eat\" + 0.024*\"get\" + 0.019*\"try\" + 0.017*\"seem\" + 0.016*\"go\" + 0.013*\"much\" + 0.013*\"give\" + 0.012*\"good\" + 0.011*\"look\" + 0.011*\"really\" + 0.011*\"well\" + 0.010*\"think\" + 0.010*\"even\" + 0.009*\"make\" + 0.009*\"say\" + 0.009*\"smell\" + 0.009*\"open\" + 0.009*\"come\" + 0.009*\"know\" + 0.009*\"first\" + 0.009*\"love\" + 0.008*\"see\" + 0.008*\"like\" + 0.008*\"put\" + 0.008*\"buy\" + 0.008*\"never\" + 0.008*\"old\" + 0.007*\"want\" + 0.007*\"picky\" + 0.007*\"little\"'),\n",
       " (1,\n",
       "  '0.022*\"well\" + 0.022*\"good\" + 0.019*\"get\" + 0.017*\"love\" + 0.016*\"healthy\" + 0.014*\"buy\" + 0.013*\"much\" + 0.013*\"try\" + 0.012*\"give\" + 0.012*\"find\" + 0.012*\"recommend\" + 0.012*\"seem\" + 0.011*\"feed\" + 0.011*\"also\" + 0.010*\"switch\" + 0.010*\"expensive\" + 0.009*\"eat\" + 0.009*\"go\" + 0.009*\"less\" + 0.009*\"make\" + 0.009*\"grain_free\" + 0.008*\"really\" + 0.008*\"use\" + 0.008*\"old\" + 0.007*\"great\" + 0.007*\"even\" + 0.007*\"cheap\" + 0.007*\"start\" + 0.007*\"little\" + 0.007*\"dry\"'),\n",
       " (2,\n",
       "  '0.035*\"dry\" + 0.026*\"fancy_feast\" + 0.025*\"eat\" + 0.022*\"get\" + 0.018*\"wet\" + 0.016*\"love\" + 0.016*\"can\" + 0.013*\"good\" + 0.013*\"really\" + 0.011*\"give\" + 0.010*\"try\" + 0.010*\"keep\" + 0.010*\"enjoy\" + 0.010*\"like\" + 0.009*\"happy\" + 0.009*\"prefer\" + 0.009*\"make\" + 0.009*\"favorite\" + 0.009*\"even\" + 0.009*\"great\" + 0.008*\"go\" + 0.008*\"always\" + 0.008*\"small\" + 0.008*\"find\" + 0.007*\"feed\" + 0.006*\"canned_cat_food\" + 0.006*\"also\" + 0.006*\"old\" + 0.006*\"treat\" + 0.006*\"kibble\"'),\n",
       " (3,\n",
       "  '0.014*\"dry\" + 0.012*\"natural\" + 0.012*\"make\" + 0.010*\"also\" + 0.010*\"well\" + 0.009*\"pet\" + 0.009*\"feed\" + 0.009*\"contain\" + 0.009*\"eat\" + 0.009*\"good\" + 0.008*\"high\" + 0.007*\"low\" + 0.007*\"include\" + 0.007*\"know\" + 0.006*\"use\" + 0.006*\"healthy\" + 0.006*\"see\" + 0.006*\"say\" + 0.006*\"look\" + 0.005*\"many\" + 0.005*\"need\" + 0.005*\"read\" + 0.005*\"first\" + 0.005*\"even\" + 0.005*\"mean\" + 0.005*\"find\" + 0.005*\"fresh\" + 0.004*\"compare\" + 0.004*\"add\" + 0.004*\"however\"')]"
      ]
     },
     "execution_count": 108,
     "metadata": {},
     "output_type": "execute_result"
    }
   ],
   "source": [
    "cats_food_optimal_model.print_topics(num_topics=4, num_words=30)"
   ]
  },
  {
   "cell_type": "code",
   "execution_count": 207,
   "id": "36f4c3b6",
   "metadata": {},
   "outputs": [],
   "source": [
    "keywords_dict = get_keywords(cats_food_doc_term_matrix, model = cats_food_optimal_model)"
   ]
  },
  {
   "cell_type": "code",
   "execution_count": 212,
   "id": "a87a7d25",
   "metadata": {},
   "outputs": [
    {
     "data": {
      "text/plain": [
       "['think', 'smell', 'open', 'come', 'first']"
      ]
     },
     "execution_count": 212,
     "metadata": {},
     "output_type": "execute_result"
    }
   ],
   "source": [
    "[w for w in keywords_dict[1] if w not in  keywords_dict[0] and w not in  keywords_dict[2] and w not in keywords_dict[3]] #scent"
   ]
  },
  {
   "cell_type": "code",
   "execution_count": 213,
   "id": "6290cdff",
   "metadata": {},
   "outputs": [
    {
     "data": {
      "text/plain": [
       "['buy', 'find', 'recommend', 'switch', 'expensive', 'less']"
      ]
     },
     "execution_count": 213,
     "metadata": {},
     "output_type": "execute_result"
    }
   ],
   "source": [
    "[w for w in keywords_dict[0] if w not in  keywords_dict[1] and w not in  keywords_dict[2] and w not in keywords_dict[3]] #value of money"
   ]
  },
  {
   "cell_type": "code",
   "execution_count": 214,
   "id": "27d28a50",
   "metadata": {},
   "outputs": [
    {
     "data": {
      "text/plain": [
       "['natural', 'pet', 'contain', 'high', 'low', 'include', 'use', 'see', 'many']"
      ]
     },
     "execution_count": 214,
     "metadata": {},
     "output_type": "execute_result"
    }
   ],
   "source": [
    "[w for w in keywords_dict[2] if w not in  keywords_dict[1] and w not in  keywords_dict[0] and w not in keywords_dict[3]] #ingredient "
   ]
  },
  {
   "cell_type": "code",
   "execution_count": 215,
   "id": "c64eb4eb",
   "metadata": {},
   "outputs": [
    {
     "data": {
      "text/plain": [
       "['fancy_feast',\n",
       " 'wet',\n",
       " 'can',\n",
       " 'keep',\n",
       " 'enjoy',\n",
       " 'like',\n",
       " 'happy',\n",
       " 'prefer',\n",
       " 'favorite',\n",
       " 'great']"
      ]
     },
     "execution_count": 215,
     "metadata": {},
     "output_type": "execute_result"
    }
   ],
   "source": [
    "[w for w in keywords_dict[2] if w not in  keywords_dict[1] and w not in  keywords_dict[0] and w not in keywords_dict[3]] #flavor"
   ]
  },
  {
   "cell_type": "code",
   "execution_count": 107,
   "id": "9e415661",
   "metadata": {},
   "outputs": [
    {
     "name": "stderr",
     "output_type": "stream",
     "text": [
      "C:\\Users\\JiatingChen\\anaconda3\\lib\\site-packages\\sklearn\\manifold\\_t_sne.py:691: FutureWarning: 'square_distances' has been introduced in 0.24 to help phase out legacy squaring behavior. The 'legacy' setting will be removed in 1.1 (renaming of 0.26), and the default setting will be changed to True. In 1.3, 'square_distances' will be removed altogether, and distances will be squared by default. Set 'square_distances'=True to silence this warning.\n",
      "  warnings.warn(\n"
     ]
    },
    {
     "data": {
      "text/html": [
       "\n",
       "<link rel=\"stylesheet\" type=\"text/css\" href=\"https://cdn.jsdelivr.net/gh/bmabey/pyLDAvis@3.3.1/pyLDAvis/js/ldavis.v1.0.0.css\">\n",
       "\n",
       "\n",
       "<div id=\"ldavis_el29936179734023889674914700\"></div>\n",
       "<script type=\"text/javascript\">\n",
       "\n",
       "var ldavis_el29936179734023889674914700_data = {\"mdsDat\": {\"x\": [269.5624084472656, 1.782994270324707, 220.81143188476562, 50.533992767333984], \"y\": [-124.80339813232422, -295.0796813964844, -343.8321228027344, -76.05093383789062], \"topics\": [1, 2, 3, 4], \"cluster\": [1, 1, 1, 1], \"Freq\": [32.73983980996929, 31.21139158517604, 18.799438353460022, 17.24933025139465]}, \"tinfo\": {\"Term\": [\"dry\", \"fancy_feast\", \"eat\", \"wet\", \"can\", \"switch\", \"love\", \"natural\", \"smell\", \"recommend\", \"contain\", \"pet\", \"open\", \"healthy\", \"favorite\", \"prefer\", \"grain_free\", \"enjoy\", \"low\", \"include\", \"highly\", \"leave\", \"feed\", \"picky\", \"canned_cat_food\", \"get\", \"high\", \"happy\", \"pate\", \"look\", \"refuse\", \"walk\", \"sit\", \"hate\", \"fussy\", \"eat_anything\", \"touch\", \"fussie_cat\", \"excited\", \"waste\", \"sniff\", \"outside\", \"left\", \"inside\", \"meow\", \"dish\", \"dent\", \"nibble\", \"literally\", \"tiki\", \"forward\", \"hardly\", \"stink\", \"brown\", \"guess\", \"crazy\", \"doubt\", \"fond\", \"mushy\", \"weird\", \"smell\", \"empty\", \"concerned\", \"hungry\", \"feral\", \"open\", \"picky\", \"fishy\", \"eat\", \"away\", \"flavor\", \"tiki_cat\", \"put\", \"turn\", \"else\", \"order\", \"first\", \"look\", \"never\", \"seem\", \"go\", \"try\", \"come\", \"think\", \"say\", \"get\", \"leave\", \"much\", \"know\", \"give\", \"see\", \"sure\", \"like\", \"really\", \"even\", \"new\", \"want\", \"good\", \"make\", \"old\", \"well\", \"buy\", \"love\", \"little\", \"wellness_core\", \"allergic\", \"highly\", \"shiny\", \"sensitive_stomach\", \"coat\", \"seriously\", \"reduce\", \"switch\", \"spot_stew\", \"vomit\", \"long_run\", \"limited_ingredient\", \"vet_bills\", \"digestive_issues\", \"lose_weight\", \"transition\", \"vet_said\", \"losing_weight\", \"good_quality_food\", \"adore\", \"overweight\", \"big_bag\", \"prescription_diet\", \"filler\", \"super\", \"healthy_weight\", \"hair_balls\", \"medical\", \"sensitive\", \"adopt\", \"sick\", \"work\", \"beautiful\", \"grain_free_food\", \"recommend\", \"royal_canin\", \"natural_balance\", \"grain_free\", \"help\", \"blue_buffalo\", \"develop\", \"definitely\", \"healthy\", \"expensive\", \"due\", \"well\", \"less\", \"start\", \"soft\", \"cheap\", \"buy\", \"good\", \"find\", \"love\", \"feed\", \"kitten\", \"stop\", \"much\", \"get\", \"also\", \"give\", \"use\", \"take\", \"try\", \"seem\", \"old\", \"great\", \"long\", \"go\", \"make\", \"really\", \"little\", \"eat\", \"even\", \"dry\", \"grill\", \"senior\", \"locally\", \"classic\", \"devour\", \"tasty\", \"disappear\", \"bowl\", \"split\", \"get_tired\", \"popular\", \"twice_day\", \"alternate\", \"classic_pate\", \"many_flavors\", \"bowl_clean\", \"eacute\", \"chunky\", \"pate\", \"variety_pack\", \"specialty_pet_shops\", \"enjoy_eating\", \"little_finicky\", \"get_bored\", \"several_cats_outside\", \"ounce_cans_pack\", \"love_fancy_feast\", \"pet_hospital\", \"slice\", \"fancy_feast_gourmet_cat_food\", \"fancy_feast\", \"female\", \"canned_cat_food\", \"deliver\", \"thank\", \"favorite\", \"wet\", \"dry\", \"can\", \"canned\", \"prefer\", \"enjoy\", \"treat\", \"subscribe\", \"fast\", \"kibble\", \"keep\", \"choose\", \"finicky\", \"love\", \"get\", \"happy\", \"eat\", \"really\", \"like\", \"always\", \"small\", \"great\", \"good\", \"give\", \"try\", \"even\", \"make\", \"find\", \"go\", \"feed\", \"also\", \"old\", \"list\", \"chicken_meal\", \"first_ingredient\", \"debone\", \"vitamin_supplement\", \"nutrience\", \"non\", \"organic\", \"taurine\", \"adult_cat_food\", \"glycemic\", \"likely\", \"vegetable\", \"source\", \"wheat_gluten\", \"hill_ideal_balance\", \"sweet_potatoes\", \"chicken_fat\", \"pet_foods\", \"mixed_tocopherols\", \"crude\", \"real_meat\", \"lead\", \"corn_gluten\", \"preserve\", \"green_peas\", \"primary\", \"inexpensive\", \"coconut\", \"foster\", \"diabetic\", \"low_quality\", \"ingredient_list\", \"artificial\", \"contain\", \"brown_rice\", \"pet\", \"weight_control\", \"provide\", \"natural\", \"turkey_chicken\", \"follow\", \"include\", \"low\", \"high\", \"read\", \"mean\", \"compare\", \"dry\", \"make\", \"also\", \"feed\", \"fresh\", \"well\", \"many\", \"know\", \"need\", \"use\", \"good\", \"see\", \"say\", \"healthy\", \"eat\", \"look\", \"first\", \"add\", \"even\", \"find\", \"however\"], \"Freq\": [1471.0, 657.0, 3749.0, 629.0, 645.0, 423.0, 1488.0, 380.0, 405.0, 571.0, 238.0, 269.0, 435.0, 1042.0, 278.0, 361.0, 428.0, 420.0, 280.0, 240.0, 238.0, 371.0, 870.0, 343.0, 180.0, 2444.0, 399.0, 612.0, 132.0, 762.0, 132.79074229899018, 116.18562260184132, 109.34328980153549, 95.48071000963364, 81.5827276911046, 76.16688150289215, 71.56769590330373, 63.21211033267338, 56.85356673319947, 49.03438308116283, 46.358074962108375, 44.288419784751326, 38.81829123336852, 37.500900712896716, 36.41473215748406, 32.27517500752104, 30.788120308366157, 52.60808405506796, 39.41094987712403, 33.27739792183321, 29.32206838855903, 25.929371583193443, 58.047189436332665, 25.366358589135984, 108.43737999227785, 122.0112093429311, 24.424691170290966, 31.068074261813607, 22.84954567718112, 22.479979865183257, 391.7973093404752, 68.51784051012325, 31.407858434894617, 112.53498698656043, 104.80466473405195, 390.1688233354511, 300.24197346119706, 70.3366963115519, 2540.379178736447, 242.80631243188765, 86.36448637188649, 65.76154554722666, 357.4767733777036, 158.75991843018969, 58.92671733714341, 171.2310766818972, 379.8204668624621, 469.70458590218703, 334.50938296915814, 749.4452478149063, 680.6985273762699, 800.4799265352013, 386.48430122150074, 454.11595035909215, 396.99241984338914, 1023.1783694117836, 237.89174265071705, 583.9960096387476, 382.87101731164984, 580.6599019766343, 360.97308641283695, 277.20948954658684, 359.37248323430424, 467.5477364523916, 417.13433706977145, 254.61670410609145, 303.3341668311635, 535.3769829615347, 409.7252012055139, 324.6966426992765, 461.09177420588065, 353.1637594608443, 378.4285013653926, 290.47166182758053, 65.16016917222723, 64.82761220207763, 236.31474003219856, 126.99290565939751, 51.38495182296806, 53.20382396650164, 49.96116663647799, 56.08735760461542, 416.80396768018187, 43.10166116489609, 99.46970509169867, 36.99567492568821, 36.69452459335425, 38.26655861731208, 35.93555565391392, 35.39314174817513, 34.22855375261647, 35.610412205976125, 29.92080039189851, 27.543194030451353, 26.23927839190001, 55.21631195826598, 26.094565862145334, 24.615753038797582, 23.914157270930257, 91.22586839218519, 22.06572226712596, 21.05165662119002, 23.884971328725346, 93.7942889242656, 100.22950469133501, 146.83249941399964, 198.7504229850449, 55.76435082596793, 81.54618992957941, 495.8855071826299, 107.28147365018212, 176.38267411110075, 356.4060406327389, 255.30055915042266, 145.33218305488407, 89.5775792820832, 183.96315422078754, 678.1018166217356, 398.72400031097123, 103.15863341165293, 923.2763687015736, 368.47563891385926, 292.44013515168564, 129.74243892323233, 293.1273648195156, 585.7529148505604, 914.932891190571, 496.0598593967197, 698.9345822775168, 457.35704812762134, 145.4407834728804, 143.9807037174791, 545.4687570404512, 791.8705735486145, 436.66798188424593, 499.92092163590496, 347.213081029955, 262.0440218727723, 528.9010329663498, 481.6430938889071, 337.85087801336203, 303.04202888901585, 251.3888506468008, 369.3090647761871, 362.2670637396921, 347.9850476407861, 288.8973742172051, 387.8865447862637, 300.8452639743458, 284.21923043538686, 91.1122687502273, 94.26722386360966, 84.26806564964053, 75.01438516113805, 63.37556117507808, 66.1323185195204, 60.30029420228644, 53.01698787219073, 46.32109309481051, 43.78101264596221, 44.65150884212116, 44.91049963714839, 42.03664231402718, 36.432449612509856, 34.4863515030295, 35.23085170829874, 33.70026330829614, 34.057211460148096, 129.57280091765068, 112.7288554046336, 29.702413930009733, 29.524268104209224, 28.173479794956616, 26.965863489766715, 25.687096439319756, 26.35093676794403, 25.254011610789597, 24.272948625673543, 24.103337303135106, 23.142938169529568, 639.8543660466169, 58.62237789134632, 159.6954849069753, 125.89752163622596, 91.38006301117447, 216.71911983922922, 442.43323014737905, 871.6660275488213, 401.7955059980051, 77.93828110690936, 226.7426929215611, 242.40647656499206, 140.50250630227342, 90.2752280382214, 106.13371750937722, 136.944436898248, 252.91508475782518, 87.48980448017906, 130.0372329101448, 409.10208193611396, 545.645110865957, 227.07856654773673, 624.1487514797082, 312.3723747964872, 240.7929782566475, 199.01293210237102, 191.9541835629521, 211.3987492594108, 327.0616459969534, 277.6233942723702, 257.041168590412, 214.68291634729098, 218.1613380997279, 189.9219248566626, 199.41654961347075, 161.9419072986471, 154.77394256770359, 142.37275115809138, 83.56595690951266, 75.66829543599474, 71.12107129234066, 68.69333514416007, 67.74510627503132, 72.32714041909183, 68.96990455126172, 66.1735878697337, 59.95293093782657, 57.25509487339591, 55.79876949429458, 49.57463103162566, 47.3936218401297, 48.183950551903365, 46.0814509405282, 44.97896796836349, 40.92745595658343, 39.360939598150125, 50.929116328732945, 35.658620876008925, 33.962306045256675, 34.20221058152316, 32.44763583623187, 29.991686551573085, 29.38645745623103, 29.463836600296545, 29.004115323393737, 30.944922774777687, 28.36533138317142, 28.871220093148708, 71.59530779277016, 31.343961395079322, 60.266820656386976, 85.69164903526138, 202.4877184733252, 77.34575109058534, 209.83610478263157, 32.39023303635446, 72.56448422579648, 268.6227069936221, 68.13787707851942, 64.93409392478468, 160.4481708381072, 164.67600168484722, 190.46709665284325, 114.4358993998351, 109.390078654842, 98.94602770503151, 309.356914110474, 263.1429898630172, 237.10884583592485, 206.32086261321584, 104.4092500222101, 227.5127705294957, 118.73085585797024, 152.42210668890195, 117.64915061893424, 147.73519143064235, 196.1148188715509, 134.76835748141195, 131.84123926458636, 142.86359582566178, 197.07446885988603, 130.40287879650435, 113.38045424343532, 98.4590910474176, 111.28171744503288, 105.73870650975546, 93.83447183806342], \"Total\": [1471.0, 657.0, 3749.0, 629.0, 645.0, 423.0, 1488.0, 380.0, 405.0, 571.0, 238.0, 269.0, 435.0, 1042.0, 278.0, 361.0, 428.0, 420.0, 280.0, 240.0, 238.0, 371.0, 870.0, 343.0, 180.0, 2444.0, 399.0, 612.0, 132.0, 762.0, 133.49047479194022, 116.86912922623831, 110.07138756767831, 96.17598972213686, 82.27062301695752, 76.86271185911544, 72.25299319262123, 63.89735199032395, 57.55388299180591, 49.734087068502134, 47.041442612177626, 44.989150985368376, 39.507333173797484, 38.18665344739821, 37.11781322201523, 32.96518578072724, 31.468019641125494, 53.81208368574418, 40.31594158107, 34.080901249973365, 30.096696576036507, 26.62583956879323, 59.615644381604945, 26.054947137014683, 111.50150902913929, 125.47169986506881, 25.141946320318898, 31.980632127331887, 23.532470207720934, 23.16875777946899, 405.858192951325, 71.00390703130572, 32.38220845348711, 117.96979036489209, 110.62819172492037, 435.8119447580349, 343.14857976747004, 75.12995589283277, 3749.488943862305, 299.0205392385666, 96.5990551157382, 71.62631286246292, 487.7917349068856, 195.3670773165038, 63.629847624594284, 219.25834507052002, 580.6150728641675, 762.4123763449904, 523.2414551647595, 1425.5370405377148, 1281.1070376107639, 1614.2686768947522, 656.7952965476268, 810.2957595154413, 696.6755549023594, 2444.299135499246, 371.8433816755442, 1296.3739274299899, 724.5440213552322, 1389.6066780190465, 722.2603936674501, 490.2563639605655, 749.7559529393197, 1152.717545672732, 1043.9442348364412, 458.27742392596775, 663.1352182247102, 1973.4863390206099, 1253.296592907951, 815.3001758816149, 1701.066750164509, 1113.0344593964176, 1488.82486957774, 754.478830671447, 65.8235535955013, 65.50224042895736, 238.86929139773085, 128.3807589019111, 52.038837717759336, 53.932036490855495, 50.6541415855507, 56.87188722505375, 423.3419993342016, 43.79252252352354, 101.15075845765962, 37.65564933229938, 37.35060305074239, 38.953083670351496, 36.59646654067748, 36.05008569546841, 34.895118116158734, 36.31838188122068, 30.593344861435593, 28.19918807675689, 26.91264196882002, 56.633809408375, 26.787017751363763, 25.283347062839702, 24.57916487521349, 93.92228358706403, 22.73886011148786, 21.701579040394204, 24.631223345172174, 96.83629580775379, 104.48538305422584, 153.7832503079598, 212.29614469650505, 58.114160014013976, 86.39359244521538, 571.3135895012265, 115.9824156287817, 200.91070745975668, 428.3924923330546, 309.62436690497674, 169.0815726364485, 100.84748641115307, 230.52255520314247, 1042.5517251619979, 584.5915298504951, 123.13786845104464, 1701.066750164509, 564.5313514170257, 430.42189911127736, 163.2970996485123, 449.9614506619807, 1113.0344593964176, 1973.4863390206099, 928.6578767613817, 1488.82486957774, 870.0375434247619, 192.01751237100171, 192.01057285184592, 1296.3739274299899, 2444.299135499246, 1079.7199563051925, 1389.6066780190465, 794.2215447784769, 502.07755612334836, 1614.2686768947522, 1425.5370405377148, 815.3001758816149, 706.007738753454, 496.8649703154511, 1281.1070376107639, 1253.296592907951, 1152.717545672732, 754.478830671447, 3749.488943862305, 1043.9442348364412, 1471.1108088672174, 91.75289525553922, 94.94062705330116, 84.91806043384517, 75.76314235737101, 64.04482567741023, 66.89570029301981, 61.01993473174007, 53.764447106914275, 46.978574545155574, 44.42792500258909, 45.31383609860549, 45.60246440202973, 42.70078324830029, 37.074466835813645, 35.12223053281652, 35.8833584435491, 34.362051513008836, 34.75287184719925, 132.25243727647353, 115.11321382007894, 30.332999027477253, 30.1631749363246, 28.804093943137993, 27.61255309365185, 26.317682150190862, 27.014544428793975, 25.897758174105174, 24.90475180572918, 24.748552700096834, 23.79191813519779, 657.8121015780754, 61.6325468186644, 180.58222356765964, 144.18487687832123, 102.23179815770264, 278.2041753734165, 629.0047607403787, 1471.1108088672174, 645.4289141117864, 97.39557301996757, 361.42996625905835, 420.3918489200354, 212.9494411934129, 125.31723289853359, 158.42583684911833, 237.05246431042968, 632.0000779871675, 128.046610468389, 239.67068448589626, 1488.82486957774, 2444.299135499246, 612.4373471507399, 3749.488943862305, 1152.717545672732, 749.7559529393197, 558.2178737599706, 524.6266298448434, 706.007738753454, 1973.4863390206099, 1389.6066780190465, 1614.2686768947522, 1043.9442348364412, 1253.296592907951, 928.6578767613817, 1281.1070376107639, 870.0375434247619, 1079.7199563051925, 815.3001758816149, 84.34191901298635, 76.3866632904598, 71.820825485104, 69.38244855634547, 68.42520654572924, 73.05589204269154, 69.67902129055133, 66.8792609908063, 60.63891543003975, 57.98391197712562, 56.51080585039459, 50.29339532512226, 48.093564250349814, 48.89837328497874, 46.79063205968382, 45.70590651786754, 41.622960923465676, 40.04380439466708, 51.84388326385501, 36.339299270037664, 34.64962336841886, 34.972385685198404, 33.18929431065229, 30.67776030175024, 30.070863228785388, 30.161735177457263, 29.70990281146714, 31.700382909452276, 29.062901837168056, 29.59189850458269, 74.22094242437494, 32.16484411083398, 63.325201132211795, 93.37454554736199, 238.43382256117695, 86.71382148033432, 269.3774465802001, 33.36558724939243, 82.65269287711176, 380.4147629954695, 81.44160675992117, 77.31016098788409, 240.92663264982696, 280.29711691634634, 399.0546291822453, 193.9211266462603, 188.69458115018696, 169.0132887840391, 1471.1108088672174, 1253.296592907951, 1079.7199563051925, 870.0375434247619, 229.5794429634573, 1701.066750164509, 356.1560879358561, 724.5440213552322, 394.0357532813109, 794.2215447784769, 1973.4863390206099, 722.2603936674501, 696.6755549023594, 1042.5517251619979, 3749.488943862305, 762.4123763449904, 580.6150728641675, 325.92139747616875, 1043.9442348364412, 928.6578767613817, 424.99690580041977], \"Category\": [\"Default\", \"Default\", \"Default\", \"Default\", \"Default\", \"Default\", \"Default\", \"Default\", \"Default\", \"Default\", \"Default\", \"Default\", \"Default\", \"Default\", \"Default\", \"Default\", \"Default\", \"Default\", \"Default\", \"Default\", \"Default\", \"Default\", \"Default\", \"Default\", \"Default\", \"Default\", \"Default\", \"Default\", \"Default\", \"Default\", \"Topic1\", \"Topic1\", \"Topic1\", \"Topic1\", \"Topic1\", \"Topic1\", \"Topic1\", \"Topic1\", \"Topic1\", \"Topic1\", \"Topic1\", \"Topic1\", \"Topic1\", \"Topic1\", \"Topic1\", \"Topic1\", \"Topic1\", \"Topic1\", \"Topic1\", \"Topic1\", \"Topic1\", \"Topic1\", \"Topic1\", \"Topic1\", \"Topic1\", \"Topic1\", \"Topic1\", \"Topic1\", \"Topic1\", \"Topic1\", \"Topic1\", \"Topic1\", \"Topic1\", \"Topic1\", \"Topic1\", \"Topic1\", \"Topic1\", \"Topic1\", \"Topic1\", \"Topic1\", \"Topic1\", \"Topic1\", \"Topic1\", \"Topic1\", \"Topic1\", \"Topic1\", \"Topic1\", \"Topic1\", \"Topic1\", \"Topic1\", \"Topic1\", \"Topic1\", \"Topic1\", \"Topic1\", \"Topic1\", \"Topic1\", \"Topic1\", \"Topic1\", \"Topic1\", \"Topic1\", \"Topic1\", \"Topic1\", \"Topic1\", \"Topic1\", \"Topic1\", \"Topic1\", \"Topic1\", \"Topic1\", \"Topic1\", \"Topic1\", \"Topic1\", \"Topic1\", \"Topic1\", \"Topic1\", \"Topic2\", \"Topic2\", \"Topic2\", \"Topic2\", \"Topic2\", \"Topic2\", \"Topic2\", \"Topic2\", \"Topic2\", \"Topic2\", \"Topic2\", \"Topic2\", \"Topic2\", \"Topic2\", \"Topic2\", \"Topic2\", \"Topic2\", \"Topic2\", \"Topic2\", \"Topic2\", \"Topic2\", \"Topic2\", \"Topic2\", \"Topic2\", \"Topic2\", \"Topic2\", \"Topic2\", \"Topic2\", \"Topic2\", \"Topic2\", \"Topic2\", \"Topic2\", \"Topic2\", \"Topic2\", \"Topic2\", \"Topic2\", \"Topic2\", \"Topic2\", \"Topic2\", \"Topic2\", \"Topic2\", \"Topic2\", \"Topic2\", \"Topic2\", \"Topic2\", \"Topic2\", \"Topic2\", \"Topic2\", \"Topic2\", \"Topic2\", \"Topic2\", \"Topic2\", \"Topic2\", \"Topic2\", \"Topic2\", \"Topic2\", \"Topic2\", \"Topic2\", \"Topic2\", \"Topic2\", \"Topic2\", \"Topic2\", \"Topic2\", \"Topic2\", \"Topic2\", \"Topic2\", \"Topic2\", \"Topic2\", \"Topic2\", \"Topic2\", \"Topic2\", \"Topic2\", \"Topic2\", \"Topic2\", \"Topic2\", \"Topic2\", \"Topic3\", \"Topic3\", \"Topic3\", \"Topic3\", \"Topic3\", \"Topic3\", \"Topic3\", \"Topic3\", \"Topic3\", \"Topic3\", \"Topic3\", \"Topic3\", \"Topic3\", \"Topic3\", \"Topic3\", \"Topic3\", \"Topic3\", \"Topic3\", \"Topic3\", \"Topic3\", \"Topic3\", \"Topic3\", \"Topic3\", \"Topic3\", \"Topic3\", \"Topic3\", \"Topic3\", \"Topic3\", \"Topic3\", \"Topic3\", \"Topic3\", \"Topic3\", \"Topic3\", \"Topic3\", \"Topic3\", \"Topic3\", \"Topic3\", \"Topic3\", \"Topic3\", \"Topic3\", \"Topic3\", \"Topic3\", \"Topic3\", \"Topic3\", \"Topic3\", \"Topic3\", \"Topic3\", \"Topic3\", \"Topic3\", \"Topic3\", \"Topic3\", \"Topic3\", \"Topic3\", \"Topic3\", \"Topic3\", \"Topic3\", \"Topic3\", \"Topic3\", \"Topic3\", \"Topic3\", \"Topic3\", \"Topic3\", \"Topic3\", \"Topic3\", \"Topic3\", \"Topic3\", \"Topic3\", \"Topic3\", \"Topic4\", \"Topic4\", \"Topic4\", \"Topic4\", \"Topic4\", \"Topic4\", \"Topic4\", \"Topic4\", \"Topic4\", \"Topic4\", \"Topic4\", \"Topic4\", \"Topic4\", \"Topic4\", \"Topic4\", \"Topic4\", \"Topic4\", \"Topic4\", \"Topic4\", \"Topic4\", \"Topic4\", \"Topic4\", \"Topic4\", \"Topic4\", \"Topic4\", \"Topic4\", \"Topic4\", \"Topic4\", \"Topic4\", \"Topic4\", \"Topic4\", \"Topic4\", \"Topic4\", \"Topic4\", \"Topic4\", \"Topic4\", \"Topic4\", \"Topic4\", \"Topic4\", \"Topic4\", \"Topic4\", \"Topic4\", \"Topic4\", \"Topic4\", \"Topic4\", \"Topic4\", \"Topic4\", \"Topic4\", \"Topic4\", \"Topic4\", \"Topic4\", \"Topic4\", \"Topic4\", \"Topic4\", \"Topic4\", \"Topic4\", \"Topic4\", \"Topic4\", \"Topic4\", \"Topic4\", \"Topic4\", \"Topic4\", \"Topic4\", \"Topic4\", \"Topic4\", \"Topic4\", \"Topic4\", \"Topic4\", \"Topic4\"], \"logprob\": [30.0, 29.0, 28.0, 27.0, 26.0, 25.0, 24.0, 23.0, 22.0, 21.0, 20.0, 19.0, 18.0, 17.0, 16.0, 15.0, 14.0, 13.0, 12.0, 11.0, 10.0, 9.0, 8.0, 7.0, 6.0, 5.0, 4.0, 3.0, 2.0, 1.0, -5.7863, -5.9199, -5.9806, -6.1162, -6.2735, -6.3422, -6.4044, -6.5286, -6.6346, -6.7826, -6.8387, -6.8844, -7.0162, -7.0507, -7.0801, -7.2008, -7.248, -6.7122, -7.001, -7.1702, -7.2967, -7.4197, -6.6138, -7.4417, -5.9889, -5.871, -7.4795, -7.2389, -7.5462, -7.5625, -4.7043, -6.448, -7.228, -5.9518, -6.023, -4.7085, -4.9705, -6.4218, -2.835, -5.1828, -6.2165, -6.489, -4.796, -5.6077, -6.5988, -5.5321, -4.7354, -4.523, -4.8624, -4.0558, -4.152, -3.9899, -4.718, -4.5567, -4.6912, -3.7444, -5.2033, -4.3052, -4.7274, -4.3109, -4.7863, -5.0503, -4.7907, -4.5276, -4.6417, -5.1353, -4.9603, -4.3921, -4.6596, -4.8922, -4.5415, -4.8082, -4.7391, -5.0036, -6.4504, -6.4555, -5.1621, -5.7831, -6.6879, -6.6531, -6.716, -6.6004, -4.5947, -6.8637, -6.0274, -7.0165, -7.0246, -6.9827, -7.0455, -7.0608, -7.0942, -7.0546, -7.2287, -7.3115, -7.36, -6.616, -7.3655, -7.4239, -7.4528, -6.1139, -7.5333, -7.5803, -7.454, -6.0862, -6.0198, -5.638, -5.3352, -6.6061, -6.2261, -4.4209, -5.9518, -5.4546, -4.7512, -5.0848, -5.6483, -6.1322, -5.4125, -4.108, -4.639, -5.991, -3.7993, -4.7179, -4.949, -5.7617, -4.9467, -4.2544, -3.8084, -4.4206, -4.0777, -4.5018, -5.6475, -5.6576, -4.3256, -3.9529, -4.5481, -4.4128, -4.7773, -5.0588, -4.3565, -4.4501, -4.8047, -4.9134, -5.1003, -4.7156, -4.7349, -4.7751, -4.9612, -4.6666, -4.9207, -4.9775, -5.6082, -5.5742, -5.6863, -5.8026, -5.9712, -5.9287, -6.021, -6.1497, -6.2847, -6.3411, -6.3214, -6.3156, -6.3818, -6.5249, -6.5798, -6.5584, -6.6028, -6.5923, -5.2561, -5.3953, -6.7291, -6.7351, -6.7819, -6.8257, -6.8743, -6.8488, -6.8913, -6.931, -6.938, -6.9786, -3.6591, -6.0492, -5.0471, -5.2849, -5.6053, -4.7417, -4.028, -3.3499, -4.1244, -5.7644, -4.6965, -4.6297, -5.1751, -5.6175, -5.4556, -5.2007, -4.5873, -5.6488, -5.2525, -4.1064, -3.8184, -4.695, -3.6839, -4.3761, -4.6364, -4.8269, -4.8631, -4.7666, -4.3302, -4.4941, -4.5711, -4.7512, -4.7351, -4.8737, -4.8249, -5.0331, -5.0784, -5.1619, -5.6086, -5.7079, -5.7699, -5.8046, -5.8185, -5.7531, -5.8006, -5.842, -5.9407, -5.9867, -6.0125, -6.1308, -6.1758, -6.1592, -6.2039, -6.2281, -6.3225, -6.3615, -6.1038, -6.4603, -6.509, -6.502, -6.5546, -6.6333, -6.6537, -6.6511, -6.6668, -6.6021, -6.6891, -6.6714, -5.7632, -6.5892, -5.9355, -5.5835, -4.7236, -5.686, -4.6879, -6.5564, -5.7498, -4.441, -5.8127, -5.8609, -4.9563, -4.9303, -4.7848, -5.2943, -5.3393, -5.4397, -4.2998, -4.4616, -4.5657, -4.7048, -5.3859, -4.6071, -5.2574, -5.0076, -5.2666, -5.0388, -4.7556, -5.1307, -5.1527, -5.0724, -4.7507, -5.1636, -5.3035, -5.4446, -5.3222, -5.3733, -5.4927], \"loglift\": [30.0, 29.0, 28.0, 27.0, 26.0, 25.0, 24.0, 23.0, 22.0, 21.0, 20.0, 19.0, 18.0, 17.0, 16.0, 15.0, 14.0, 13.0, 12.0, 11.0, 10.0, 9.0, 8.0, 7.0, 6.0, 5.0, 4.0, 3.0, 2.0, 1.0, 1.1113, 1.1107, 1.1099, 1.1093, 1.1082, 1.1075, 1.107, 1.1058, 1.1043, 1.1024, 1.1019, 1.1009, 1.099, 1.0985, 1.0975, 1.0954, 1.0947, 1.0939, 1.0939, 1.0927, 1.0905, 1.0901, 1.0899, 1.0898, 1.0887, 1.0886, 1.0876, 1.0876, 1.0871, 1.0864, 1.0813, 1.0809, 1.086, 1.0694, 1.0625, 1.0059, 0.983, 1.0507, 0.7273, 0.9083, 1.0046, 1.0312, 0.8058, 0.9091, 1.0398, 0.8693, 0.6922, 0.6322, 0.6692, 0.4736, 0.4842, 0.4152, 0.5863, 0.5375, 0.5542, 0.2457, 0.6699, 0.3191, 0.4787, 0.244, 0.423, 0.5464, 0.3812, 0.2142, 0.1992, 0.5289, 0.3344, -0.188, -0.0015, 0.1959, -0.1888, -0.0313, -0.2531, 0.1621, 1.1543, 1.154, 1.1536, 1.1535, 1.1517, 1.1508, 1.1506, 1.1505, 1.1488, 1.1485, 1.1476, 1.1467, 1.1467, 1.1466, 1.1462, 1.146, 1.1451, 1.1447, 1.1422, 1.1408, 1.139, 1.139, 1.1382, 1.1376, 1.137, 1.1353, 1.1343, 1.134, 1.1336, 1.1325, 1.1228, 1.1181, 1.0985, 1.1231, 1.1066, 1.0228, 1.0864, 1.0342, 0.9804, 0.9715, 1.013, 1.0459, 0.9388, 0.7343, 0.7817, 0.9874, 0.5533, 0.7378, 0.7779, 0.9344, 0.7358, 0.5224, 0.3957, 0.5373, 0.4082, 0.5213, 0.8866, 0.8765, 0.2987, 0.0373, 0.2591, 0.1421, 0.337, 0.5141, 0.0486, 0.0793, 0.2834, 0.3186, 0.4831, -0.0795, -0.0768, -0.0333, 0.2044, -1.1043, -0.0798, -0.4796, 1.6643, 1.6642, 1.6637, 1.6614, 1.6608, 1.6599, 1.6595, 1.6573, 1.6572, 1.6567, 1.6566, 1.6561, 1.6557, 1.6539, 1.6531, 1.653, 1.6519, 1.6511, 1.6509, 1.6504, 1.6503, 1.6499, 1.6492, 1.6476, 1.6471, 1.6465, 1.6462, 1.6456, 1.6449, 1.6437, 1.6437, 1.6213, 1.5484, 1.5357, 1.5591, 1.4216, 1.3195, 1.148, 1.1974, 1.4485, 1.2051, 1.1208, 1.2555, 1.3434, 1.2708, 1.1226, 0.7555, 1.2905, 1.0599, 0.3796, 0.1718, 0.6792, -0.1216, 0.3657, 0.5355, 0.64, 0.6659, 0.4655, -0.1261, 0.0608, -0.1661, 0.0897, -0.077, 0.0842, -0.1887, -0.01, -0.2711, -0.0738, 1.7482, 1.7479, 1.7476, 1.7474, 1.7474, 1.7474, 1.7472, 1.7468, 1.746, 1.7447, 1.7447, 1.743, 1.7427, 1.7427, 1.7421, 1.7414, 1.7405, 1.7402, 1.7396, 1.7385, 1.7374, 1.7351, 1.7348, 1.7348, 1.7344, 1.734, 1.7334, 1.7333, 1.7331, 1.7327, 1.7214, 1.7315, 1.7079, 1.6715, 1.594, 1.6431, 1.5076, 1.7277, 1.6272, 1.4094, 1.579, 1.5829, 1.3509, 1.2255, 1.0178, 1.23, 1.2122, 1.222, 0.1981, 0.1966, 0.2415, 0.3183, 0.9695, -0.2544, 0.6589, 0.1985, 0.5487, 0.0755, -0.5515, 0.0786, 0.0927, -0.2301, -1.1884, -0.0085, 0.1241, 0.5604, -0.4813, -0.4154, 0.2468]}, \"token.table\": {\"Topic\": [1, 2, 3, 4, 2, 4, 2, 4, 2, 1, 2, 3, 4, 3, 1, 2, 3, 4, 1, 4, 1, 2, 4, 2, 4, 2, 2, 4, 3, 3, 1, 1, 3, 4, 1, 2, 3, 4, 1, 2, 3, 4, 3, 4, 1, 2, 3, 1, 2, 3, 4, 4, 4, 1, 2, 3, 4, 3, 3, 3, 2, 4, 1, 2, 3, 4, 2, 3, 4, 1, 2, 4, 4, 1, 2, 3, 4, 4, 1, 2, 3, 4, 1, 2, 3, 1, 1, 2, 4, 3, 2, 3, 4, 2, 3, 1, 1, 1, 2, 3, 4, 1, 2, 4, 3, 1, 2, 3, 4, 1, 1, 2, 1, 4, 1, 2, 3, 4, 3, 1, 2, 3, 4, 1, 1, 2, 3, 4, 1, 2, 3, 3, 1, 2, 3, 1, 2, 3, 1, 2, 3, 4, 3, 4, 1, 2, 3, 2, 1, 2, 3, 4, 1, 2, 3, 4, 1, 2, 3, 4, 4, 1, 4, 1, 3, 4, 1, 4, 1, 1, 4, 1, 2, 3, 4, 1, 1, 1, 2, 3, 4, 3, 3, 1, 2, 3, 4, 4, 1, 2, 3, 4, 1, 2, 3, 4, 2, 1, 2, 3, 4, 2, 4, 1, 2, 3, 4, 4, 3, 1, 4, 2, 1, 2, 3, 4, 1, 1, 1, 2, 3, 4, 2, 2, 3, 4, 1, 2, 3, 4, 2, 3, 4, 4, 1, 2, 3, 4, 1, 3, 1, 2, 3, 4, 4, 2, 4, 1, 1, 2, 3, 4, 1, 2, 3, 4, 2, 3, 1, 2, 3, 4, 4, 1, 3, 1, 1, 2, 3, 4, 1, 2, 3, 4, 4, 2, 4, 1, 1, 2, 3, 4, 3, 3, 1, 2, 3, 4, 2, 1, 2, 3, 4, 2, 2, 1, 2, 3, 4, 3, 2, 4, 4, 1, 2, 3, 4, 1, 2, 3, 4, 3, 1, 2, 3, 4, 2, 1, 4, 1, 2, 3, 4, 1, 1, 2, 4, 2, 4, 1, 2, 3, 4, 1, 2, 3, 4, 1, 2, 3, 4, 1, 2, 4, 4, 1, 2, 3, 4, 1, 3, 4, 1, 2, 3, 4, 4, 3, 1, 2, 4, 1, 3, 1, 2, 4, 4, 3, 1, 2, 3, 3, 1, 2, 3, 4, 2, 4, 4, 2, 3, 4, 1, 2, 3, 4, 1, 2, 4, 4, 1, 2, 3, 4, 1, 2, 3, 4, 2, 1, 2, 4, 1, 2, 3, 4, 1, 2, 3, 4, 1, 2, 3, 4, 3, 2, 4, 2, 2, 3, 2, 3, 1, 2, 1, 3, 1, 2, 3, 4, 1, 2, 4, 1, 1, 2, 3, 4, 4, 3, 3, 2, 1, 2, 3, 4, 1, 3, 1, 2, 3, 4, 1, 2, 3, 1, 2, 1, 2, 3, 4, 4, 1, 2, 4, 1, 2, 3, 4, 3, 4, 1, 2, 3, 1, 2, 3, 4, 1, 1, 3, 4, 1, 2, 1, 2, 3, 4, 1, 2, 3, 4, 2, 4, 1, 2, 3, 4, 3, 1, 2, 3, 4, 1, 3, 4, 2, 2, 4, 1, 2, 4, 1, 1, 2, 3, 4, 1, 3, 4, 1, 1, 2, 3, 4, 2, 1, 2, 3, 4, 4, 1, 2, 3], \"Freq\": [0.13500187573053488, 0.273071975909491, 0.28841309815159727, 0.3006859959452822, 0.9570716695186158, 0.03828286678074463, 0.9660887262619043, 0.9830312936196204, 0.9923324694595433, 0.23246768621275035, 0.4047345771911231, 0.1435557424819773, 0.21950136108534596, 0.9835885153622285, 0.3636572914311383, 0.19526425993100527, 0.356491630516239, 0.0841965157500665, 0.07496689765894944, 0.921021885524236, 0.8126532064278303, 0.18393385330671058, 0.0033442518783038284, 0.9636205700382806, 0.03441502035851002, 0.970619433687287, 0.8575742331884527, 0.13602901629885802, 0.9857815499265877, 0.9753825037046413, 0.9595106782805181, 0.0345965608340807, 0.0691931216681614, 0.8879783947414046, 0.31715100733846713, 0.5264886410774553, 0.09433670189954405, 0.061992689819700374, 0.02633907410763387, 0.2540945972736444, 0.6228416347805187, 0.09606015262784118, 0.8008577554547455, 0.19508073530307904, 0.08306465444745105, 0.033225861778980424, 0.8860229807728113, 0.17557059584498996, 0.6511668934504058, 0.028891363873226196, 0.14445681936613097, 0.9739334358848759, 0.9949380785361771, 0.19524140395869188, 0.07028690542512908, 0.6794400857762477, 0.05466759310843373, 0.9783364134478019, 0.9899272610186718, 0.9710186840832538, 0.9827183145399391, 0.9634275392346153, 0.587702137985712, 0.16595733948301195, 0.12637118511091736, 0.11875846311628378, 0.40825192206138566, 0.005916694522628778, 0.585752757740249, 0.9573158064412909, 0.14679125479783708, 0.8471952419760883, 0.9779071126743378, 0.9723308134917894, 0.015939849401504745, 0.007969924700752373, 0.9812516470522172, 0.9944878198405627, 0.1952086638999157, 0.7981865368352108, 0.004337970308887015, 0.004337970308887015, 0.11096864211010513, 0.01387108026376314, 0.8738780566170778, 0.9851271339454155, 0.08924367200692727, 0.8924367200692728, 0.019831927112650506, 0.9836860251182047, 0.01347328620919787, 0.02694657241839574, 0.9700766070622466, 0.9837015264844079, 0.983285220867181, 0.9707210574468679, 0.9545800350629174, 0.004078550686892248, 0.1930513991795664, 0.5927493664950066, 0.21004536037495075, 0.0649678291546887, 0.8364608003666171, 0.08933076508769697, 0.9894636234721966, 0.677425654010217, 0.1034807691952615, 0.16642268035526592, 0.0525404936378003, 0.9887759377954718, 0.9272378011666847, 0.06286357974011422, 0.9717775103499278, 0.028167464068113848, 0.2259796431449611, 0.007136199257209298, 0.5756534067482167, 0.19029864685891462, 0.9945902599222705, 0.3994466237608305, 0.2883295773429496, 0.20594969810210687, 0.10632751855504122, 0.9903762706699605, 0.09579338245684398, 0.6825278500050133, 0.14540066980056673, 0.07526622907323455, 0.02584324605646112, 0.0015201909444977132, 0.9729222044785364, 0.9667148259884845, 0.2840445781760782, 0.044184712160723276, 0.6690827841480953, 0.17972411784578018, 0.03953930592607164, 0.7800026714506859, 0.05057253026898256, 0.5252646893846598, 0.18619886144489034, 0.2367713917138729, 0.9572864183852422, 0.048675580595859774, 0.9491251584504337, 0.03615714889334985, 0.018078574446674926, 0.9764367553513773, 0.14752472727391952, 0.5341041221011977, 0.20459633709521685, 0.11414321964259468, 0.40472200514664153, 0.008344783611270959, 0.5424109347326124, 0.045896309861990274, 0.6544783588298257, 0.09300481941265944, 0.056836278529958546, 0.19462119617834292, 0.9885712050848784, 0.9317189018432239, 0.053241080105327084, 0.8902778593119866, 0.09316861318381255, 0.010352068131534727, 0.15521892396370277, 0.8407691714700566, 0.9693366871728029, 0.9635608986765107, 0.9799979543559523, 0.3658864178591568, 0.004355790688799486, 0.17423162755197943, 0.4530022316351466, 0.9859563508913509, 0.9967105753301305, 0.41852487903083646, 0.3240192611851637, 0.22337691490795375, 0.03436567921660827, 0.9778161370455571, 0.9903681073882215, 0.41810392047643613, 0.3598140451604442, 0.20005660910920695, 0.02230847079994754, 0.9909609172492269, 0.5315715080841722, 0.28803213874164396, 0.1553344054460356, 0.02497839685564392, 0.27109384515197943, 0.4636464828300209, 0.16569661189663043, 0.09931662364446349, 0.9929363896501308, 0.0023343079486615936, 0.8310136297235272, 0.009337231794646374, 0.15639863256032677, 0.9491444640642595, 0.04629972995435412, 0.22379358090177454, 0.42917376590656764, 0.2988635795586989, 0.04674169727695291, 0.9614831450968531, 0.9917943160982294, 0.968596756585382, 0.026905465460705057, 0.9676715210866306, 0.1943055898756455, 0.42290040149405195, 0.37065015883841623, 0.011429740580920323, 0.9764950296806136, 0.9877725227935327, 0.20718396486892451, 0.650327445283013, 0.005755110135247903, 0.13716345822340836, 0.9675067216269746, 0.8235785915333308, 0.08397271913673177, 0.09043215907032652, 0.18293234725679985, 0.3182521657755285, 0.022553303086454778, 0.47612528738071197, 0.9879880273393815, 0.004186389946353311, 0.008372779892706622, 0.9845554640166346, 0.46117982819395487, 0.037647332913792235, 0.2800020385463297, 0.22117808086852936, 0.957872347238051, 0.042383732178674825, 0.004150641168232499, 0.32790065229036747, 0.004150641168232499, 0.6641025869171999, 0.977906168785001, 0.047374504089399284, 0.9474900817879858, 0.9951120763264757, 0.1946202291489234, 0.3465189445822295, 0.40031640629819204, 0.05854429657325338, 0.008436950891094386, 0.1898313950496237, 0.5779311360399655, 0.22779767405954843, 0.7551394568628822, 0.2395614828668454, 0.5286083229057814, 0.2539528235369812, 0.006900891943939706, 0.20978711509576706, 0.9641663272644341, 0.6400544200291007, 0.3576774700162622, 0.9871585062052742, 0.1806808421604409, 0.6518681364219828, 0.01062828483296711, 0.15765289168901214, 0.4788224736230338, 0.16672091699966357, 0.32143792797535137, 0.032010416063935405, 0.9941663249572712, 0.9906131890222473, 0.9959460370716285, 0.9673592745335288, 0.38437128811409466, 0.3830458698792185, 0.17362978876878069, 0.058318402334552294, 0.9720840396950048, 0.9891888671366866, 0.15698430088657514, 0.5051674297760302, 0.1891862087607444, 0.14692120467589725, 0.9825882877091434, 0.6164642843984024, 0.20854855578584253, 0.003934878411053632, 0.17051139781232408, 0.9708714785218829, 0.9806054269605696, 0.2538915138536128, 0.4694977994277125, 0.2747133046722953, 0.0013433413431408084, 0.9653345216960582, 0.4102789256812846, 0.5886610672818431, 0.963785177791624, 0.3271372493311427, 0.2888382542874967, 0.1739412691565588, 0.2098465770099769, 0.21058182785719373, 0.44924123276201333, 0.00842327311428775, 0.3341231668667474, 0.9680478569899493, 0.2967758780281461, 0.07949353875753913, 0.04239655400402087, 0.5776530483047844, 0.9743730412279382, 0.9698847231293185, 0.9906630211134142, 0.4504873074374127, 0.42040339478320193, 0.057082295805425586, 0.07173856094465647, 0.9773729573214871, 0.03943064638681922, 0.2549848466347643, 0.7071229252036246, 0.8760110510051018, 0.11945605240978661, 0.24870839558063051, 0.3781382749134076, 0.07359738236569678, 0.299465211005249, 0.6402397911964266, 0.2216949724739865, 0.08982468712308074, 0.04969025245106594, 0.5564315121950976, 0.36222600401720073, 0.019638759253944617, 0.06109836212338326, 0.984908897219319, 0.01858318673998715, 0.9902550110782998, 0.9855467914610568, 0.3986261865435822, 0.4145712340053255, 0.1741689799667344, 0.012265421124417914, 0.8948813925155954, 0.004589135346233822, 0.09866640994402719, 0.7799019004042984, 0.10033825619236587, 0.09577742636544015, 0.02280414913462861, 0.9868530097704403, 0.962444510901594, 0.9780135662997936, 0.97115134183198, 0.01765729712421782, 0.01512259464692513, 0.9829686520501334, 0.11508016128874604, 0.10394337148660933, 0.77957528614957, 0.9837226069744788, 0.9636715188817482, 0.8742568604051659, 0.12239596045672323, 0.0029141895346838863, 0.9930741661791209, 0.08023684449898096, 0.29051271284113794, 0.6280608172851269, 0.002766787741344171, 0.9887931347801592, 0.9643886768185523, 0.9761055155255124, 0.012098819351074291, 0.10888937415966862, 0.8832138126284232, 0.7318697190885114, 0.23780640732287767, 0.01435038664879434, 0.01435038664879434, 0.10829145005075691, 0.2990906715687572, 0.5878678717041089, 0.9721956147358299, 0.405997116775795, 0.30189529196148857, 0.2706647445171967, 0.021687880169647167, 0.005251056609066639, 0.8681746926990176, 0.02975598745137762, 0.09801972336924393, 0.984669275672117, 0.9963257693651575, 0.9225536424630851, 0.06897597326826804, 0.5698491890613852, 0.20813131590403236, 0.033013932867536164, 0.18947126689194668, 0.49981973698839566, 0.16060689609599416, 0.15229964284964964, 0.18691319804275183, 0.5254160212613459, 0.3381181872469542, 0.08698476186436166, 0.04910430105246223, 0.9900924706050964, 0.9707104058029584, 0.030980119334136972, 0.9800372613355888, 0.9870861184283243, 0.9879289464635259, 0.9892448143030058, 0.007789329246480361, 0.039015952569507115, 0.9558908379529243, 0.9902664298928769, 0.9697536777536933, 0.2382646874730098, 0.2744809199689073, 0.36597455995854306, 0.12008540248639694, 0.9658545935698604, 0.0295669773541794, 0.0049278295590299, 0.9778611676354494, 0.018371422434674767, 0.79609497216924, 0.17146660939029784, 0.012247614956449845, 0.9816277470061624, 0.9890218890926148, 0.9791697693122857, 0.9819027889270862, 0.24394669559518453, 0.6784041439408941, 0.004646603725622562, 0.07202235774714971, 0.9728989865267066, 0.01677412045735701, 0.21873795477089128, 0.7499587020716273, 0.010416093084328157, 0.020832186168656314, 0.22343295772155247, 0.05585823943038812, 0.7181773641049901, 0.02129420115883406, 0.9688861527269497, 0.5650105136060628, 0.27944563308314296, 0.03059623719888427, 0.12442469794212936, 0.9850332386345328, 0.002362156369017768, 0.9850192058804093, 0.01181078184508884, 0.3644855217448543, 0.5218317305855291, 0.0159337933003215, 0.09759448396446918, 0.9866104953069267, 0.9894636072312857, 0.07825353895917207, 0.02934507710968953, 0.8901340056605824, 0.5602892458322786, 0.23818463534279685, 0.12464584543845846, 0.07651527145727152, 0.9682842527536091, 0.9214490787307928, 0.04188404903321786, 0.04188404903321786, 0.9964985091766818, 0.9743483282337928, 0.3099327221997968, 0.028175702018163343, 0.6621289974268386, 0.004695950336360557, 0.495580451662421, 0.32770257366177585, 0.15920522009655275, 0.017345315808184734, 0.15962356978444986, 0.8349540573340454, 0.8138525804038751, 0.0716599756330456, 0.030711418128448117, 0.08701568469726967, 0.9867887753451562, 0.31603272619607486, 0.43690580075712343, 0.060436537280524276, 0.1863459899482832, 0.017374200003884736, 0.9816423002194876, 0.9772617341343782, 0.9755325232164631, 0.9912335884824949, 0.9937858200625954, 0.009886233333767704, 0.9787371000430026, 0.009886233333767704, 0.9925632266451149, 0.45692038617880393, 0.30008962656627713, 0.17794259263728998, 0.06484348714748703, 0.9852397598554282, 0.029970999536901882, 0.9590719851808602, 0.9495545773064844, 0.27100641403720166, 0.5426006944822932, 0.05232011030219295, 0.13403354099887632, 0.9874884665060444, 0.10810728987163731, 0.17169981332554163, 0.7026973841656425, 0.017487943949823684, 0.9831027702580437, 0.03768320904478347, 0.9373698249889889, 0.02355200565298967], \"Term\": [\"add\", \"add\", \"add\", \"add\", \"adopt\", \"adopt\", \"adore\", \"adult_cat_food\", \"allergic\", \"also\", \"also\", \"also\", \"also\", \"alternate\", \"always\", \"always\", \"always\", \"always\", \"artificial\", \"artificial\", \"away\", \"away\", \"away\", \"beautiful\", \"beautiful\", \"big_bag\", \"blue_buffalo\", \"blue_buffalo\", \"bowl\", \"bowl_clean\", \"brown\", \"brown_rice\", \"brown_rice\", \"brown_rice\", \"buy\", \"buy\", \"buy\", \"buy\", \"can\", \"can\", \"can\", \"can\", \"canned\", \"canned\", \"canned_cat_food\", \"canned_cat_food\", \"canned_cat_food\", \"cheap\", \"cheap\", \"cheap\", \"cheap\", \"chicken_fat\", \"chicken_meal\", \"choose\", \"choose\", \"choose\", \"choose\", \"chunky\", \"classic\", \"classic_pate\", \"coat\", \"coconut\", \"come\", \"come\", \"come\", \"come\", \"compare\", \"compare\", \"compare\", \"concerned\", \"contain\", \"contain\", \"corn_gluten\", \"crazy\", \"crazy\", \"crazy\", \"crude\", \"debone\", \"definitely\", \"definitely\", \"definitely\", \"definitely\", \"deliver\", \"deliver\", \"deliver\", \"dent\", \"develop\", \"develop\", \"develop\", \"devour\", \"diabetic\", \"diabetic\", \"diabetic\", \"digestive_issues\", \"disappear\", \"dish\", \"doubt\", \"dry\", \"dry\", \"dry\", \"dry\", \"due\", \"due\", \"due\", \"eacute\", \"eat\", \"eat\", \"eat\", \"eat\", \"eat_anything\", \"else\", \"else\", \"empty\", \"empty\", \"enjoy\", \"enjoy\", \"enjoy\", \"enjoy\", \"enjoy_eating\", \"even\", \"even\", \"even\", \"even\", \"excited\", \"expensive\", \"expensive\", \"expensive\", \"expensive\", \"fancy_feast\", \"fancy_feast\", \"fancy_feast\", \"fancy_feast_gourmet_cat_food\", \"fast\", \"fast\", \"fast\", \"favorite\", \"favorite\", \"favorite\", \"feed\", \"feed\", \"feed\", \"feed\", \"female\", \"female\", \"feral\", \"feral\", \"feral\", \"filler\", \"find\", \"find\", \"find\", \"find\", \"finicky\", \"finicky\", \"finicky\", \"finicky\", \"first\", \"first\", \"first\", \"first\", \"first_ingredient\", \"fishy\", \"fishy\", \"flavor\", \"flavor\", \"flavor\", \"follow\", \"follow\", \"fond\", \"forward\", \"foster\", \"fresh\", \"fresh\", \"fresh\", \"fresh\", \"fussie_cat\", \"fussy\", \"get\", \"get\", \"get\", \"get\", \"get_bored\", \"get_tired\", \"give\", \"give\", \"give\", \"give\", \"glycemic\", \"go\", \"go\", \"go\", \"go\", \"good\", \"good\", \"good\", \"good\", \"good_quality_food\", \"grain_free\", \"grain_free\", \"grain_free\", \"grain_free\", \"grain_free_food\", \"grain_free_food\", \"great\", \"great\", \"great\", \"great\", \"green_peas\", \"grill\", \"guess\", \"guess\", \"hair_balls\", \"happy\", \"happy\", \"happy\", \"happy\", \"hardly\", \"hate\", \"healthy\", \"healthy\", \"healthy\", \"healthy\", \"healthy_weight\", \"help\", \"help\", \"help\", \"high\", \"high\", \"high\", \"high\", \"highly\", \"highly\", \"highly\", \"hill_ideal_balance\", \"however\", \"however\", \"however\", \"however\", \"hungry\", \"hungry\", \"include\", \"include\", \"include\", \"include\", \"inexpensive\", \"ingredient_list\", \"ingredient_list\", \"inside\", \"keep\", \"keep\", \"keep\", \"keep\", \"kibble\", \"kibble\", \"kibble\", \"kibble\", \"kitten\", \"kitten\", \"know\", \"know\", \"know\", \"know\", \"lead\", \"leave\", \"leave\", \"left\", \"less\", \"less\", \"less\", \"less\", \"like\", \"like\", \"like\", \"like\", \"likely\", \"limited_ingredient\", \"list\", \"literally\", \"little\", \"little\", \"little\", \"little\", \"little_finicky\", \"locally\", \"long\", \"long\", \"long\", \"long\", \"long_run\", \"look\", \"look\", \"look\", \"look\", \"lose_weight\", \"losing_weight\", \"love\", \"love\", \"love\", \"love\", \"love_fancy_feast\", \"low\", \"low\", \"low_quality\", \"make\", \"make\", \"make\", \"make\", \"many\", \"many\", \"many\", \"many\", \"many_flavors\", \"mean\", \"mean\", \"mean\", \"mean\", \"medical\", \"meow\", \"mixed_tocopherols\", \"much\", \"much\", \"much\", \"much\", \"mushy\", \"natural\", \"natural\", \"natural\", \"natural_balance\", \"natural_balance\", \"need\", \"need\", \"need\", \"need\", \"never\", \"never\", \"never\", \"never\", \"new\", \"new\", \"new\", \"new\", \"nibble\", \"nibble\", \"non\", \"nutrience\", \"old\", \"old\", \"old\", \"old\", \"open\", \"open\", \"open\", \"order\", \"order\", \"order\", \"order\", \"organic\", \"ounce_cans_pack\", \"outside\", \"overweight\", \"overweight\", \"pate\", \"pate\", \"pet\", \"pet\", \"pet\", \"pet_foods\", \"pet_hospital\", \"picky\", \"picky\", \"picky\", \"popular\", \"prefer\", \"prefer\", \"prefer\", \"prefer\", \"prescription_diet\", \"preserve\", \"primary\", \"provide\", \"provide\", \"provide\", \"put\", \"put\", \"put\", \"put\", \"read\", \"read\", \"read\", \"real_meat\", \"really\", \"really\", \"really\", \"really\", \"recommend\", \"recommend\", \"recommend\", \"recommend\", \"reduce\", \"refuse\", \"royal_canin\", \"royal_canin\", \"say\", \"say\", \"say\", \"say\", \"see\", \"see\", \"see\", \"see\", \"seem\", \"seem\", \"seem\", \"seem\", \"senior\", \"sensitive\", \"sensitive\", \"sensitive_stomach\", \"seriously\", \"several_cats_outside\", \"shiny\", \"shiny\", \"sick\", \"sick\", \"sit\", \"slice\", \"small\", \"small\", \"small\", \"small\", \"smell\", \"smell\", \"smell\", \"sniff\", \"soft\", \"soft\", \"soft\", \"soft\", \"source\", \"specialty_pet_shops\", \"split\", \"spot_stew\", \"start\", \"start\", \"start\", \"start\", \"stink\", \"stink\", \"stop\", \"stop\", \"stop\", \"stop\", \"subscribe\", \"subscribe\", \"subscribe\", \"super\", \"super\", \"sure\", \"sure\", \"sure\", \"sure\", \"sweet_potatoes\", \"switch\", \"switch\", \"switch\", \"take\", \"take\", \"take\", \"take\", \"tasty\", \"taurine\", \"thank\", \"thank\", \"thank\", \"think\", \"think\", \"think\", \"think\", \"tiki\", \"tiki_cat\", \"tiki_cat\", \"tiki_cat\", \"touch\", \"transition\", \"treat\", \"treat\", \"treat\", \"treat\", \"try\", \"try\", \"try\", \"try\", \"turkey_chicken\", \"turkey_chicken\", \"turn\", \"turn\", \"turn\", \"turn\", \"twice_day\", \"use\", \"use\", \"use\", \"use\", \"variety_pack\", \"variety_pack\", \"vegetable\", \"vet_bills\", \"vet_said\", \"vitamin_supplement\", \"vomit\", \"vomit\", \"vomit\", \"walk\", \"want\", \"want\", \"want\", \"want\", \"waste\", \"weight_control\", \"weight_control\", \"weird\", \"well\", \"well\", \"well\", \"well\", \"wellness_core\", \"wet\", \"wet\", \"wet\", \"wet\", \"wheat_gluten\", \"work\", \"work\", \"work\"]}, \"R\": 30, \"lambda.step\": 0.01, \"plot.opts\": {\"xlab\": \"PC1\", \"ylab\": \"PC2\"}, \"topic.order\": [1, 2, 3, 4]};\n",
       "\n",
       "function LDAvis_load_lib(url, callback){\n",
       "  var s = document.createElement('script');\n",
       "  s.src = url;\n",
       "  s.async = true;\n",
       "  s.onreadystatechange = s.onload = callback;\n",
       "  s.onerror = function(){console.warn(\"failed to load library \" + url);};\n",
       "  document.getElementsByTagName(\"head\")[0].appendChild(s);\n",
       "}\n",
       "\n",
       "if(typeof(LDAvis) !== \"undefined\"){\n",
       "   // already loaded: just create the visualization\n",
       "   !function(LDAvis){\n",
       "       new LDAvis(\"#\" + \"ldavis_el29936179734023889674914700\", ldavis_el29936179734023889674914700_data);\n",
       "   }(LDAvis);\n",
       "}else if(typeof define === \"function\" && define.amd){\n",
       "   // require.js is available: use it to load d3/LDAvis\n",
       "   require.config({paths: {d3: \"https://d3js.org/d3.v5\"}});\n",
       "   require([\"d3\"], function(d3){\n",
       "      window.d3 = d3;\n",
       "      LDAvis_load_lib(\"https://cdn.jsdelivr.net/gh/bmabey/pyLDAvis@3.3.1/pyLDAvis/js/ldavis.v3.0.0.js\", function(){\n",
       "        new LDAvis(\"#\" + \"ldavis_el29936179734023889674914700\", ldavis_el29936179734023889674914700_data);\n",
       "      });\n",
       "    });\n",
       "}else{\n",
       "    // require.js not available: dynamically load d3 & LDAvis\n",
       "    LDAvis_load_lib(\"https://d3js.org/d3.v5.js\", function(){\n",
       "         LDAvis_load_lib(\"https://cdn.jsdelivr.net/gh/bmabey/pyLDAvis@3.3.1/pyLDAvis/js/ldavis.v3.0.0.js\", function(){\n",
       "                 new LDAvis(\"#\" + \"ldavis_el29936179734023889674914700\", ldavis_el29936179734023889674914700_data);\n",
       "            })\n",
       "         });\n",
       "}\n",
       "</script>"
      ],
      "text/plain": [
       "<IPython.core.display.HTML object>"
      ]
     },
     "execution_count": 107,
     "metadata": {},
     "output_type": "execute_result"
    }
   ],
   "source": [
    "pyLDAvis.enable_notebook()\n",
    "topic_data =  pyLDAvis.gensim_models.prepare(cats_food_optimal_model, \n",
    "                                             cats_food_doc_term_matrix, \n",
    "                                             cats_food_dictionary, \n",
    "                                             mds = 'tsne')\n",
    "pyLDAvis.display(topic_data)"
   ]
  },
  {
   "cell_type": "code",
   "execution_count": 76,
   "id": "a1073f9f",
   "metadata": {},
   "outputs": [],
   "source": [
    "def format_topics_sentences(ldamodel, corpus, texts):\n",
    "    # Init output\n",
    "    sent_topics_df = pd.DataFrame()\n",
    "\n",
    "    # Get main topic in each document\n",
    "    for i, row in enumerate(ldamodel[corpus]):\n",
    "            row = sorted(row, key=lambda x: (x[1]), reverse=True)\n",
    "            # Get the Dominant topic, Perc Contribution and Keywords for each document\n",
    "            for j, (topic_num, prop_topic) in enumerate(row):\n",
    "                #if j == 0:  # => dominant topic (topic_num, prop_topic) sorted descending in the row\n",
    "                wp = ldamodel.show_topic(topic_num)\n",
    "                topic_keywords = \", \".join([word for word, prop in wp])\n",
    "                sent_topics_df = sent_topics_df.append(pd.Series([i, int(topic_num), round(prop_topic,4), topic_keywords]), ignore_index=True)\n",
    "    sent_topics_df.columns = ['index', 'Topic', 'Perc_Contribution', 'Topic_Keywords']\n",
    "\n",
    "    # Add original text to the end of the output\n",
    "    contents = pd.Series(texts).reset_index()\n",
    "    contents.columns = ['index', 'Tokens']\n",
    "    sent_topics_df = contents.merge(sent_topics_df, left_on = 'index', right_on = 'index')\n",
    "    return(sent_topics_df)"
   ]
  },
  {
   "cell_type": "code",
   "execution_count": 77,
   "id": "b88b9e32",
   "metadata": {},
   "outputs": [],
   "source": [
    "df_topic_sents_keywords = format_topics_sentences(ldamodel=cats_food_optimal_model, \n",
    "                                                  corpus=cats_food_doc_term_matrix[:2], \n",
    "                                                  texts=cats_food_reviews2[ :2])\n",
    "wide_df_topic_sents_keywords = df_topic_sents_keywords.pivot(index=['index'], columns='Topic', values='Perc_Contribution')"
   ]
  },
  {
   "cell_type": "code",
   "execution_count": 78,
   "id": "d98c1a5b",
   "metadata": {},
   "outputs": [
    {
     "data": {
      "text/html": [
       "<div>\n",
       "<style scoped>\n",
       "    .dataframe tbody tr th:only-of-type {\n",
       "        vertical-align: middle;\n",
       "    }\n",
       "\n",
       "    .dataframe tbody tr th {\n",
       "        vertical-align: top;\n",
       "    }\n",
       "\n",
       "    .dataframe thead th {\n",
       "        text-align: right;\n",
       "    }\n",
       "</style>\n",
       "<table border=\"1\" class=\"dataframe\">\n",
       "  <thead>\n",
       "    <tr style=\"text-align: right;\">\n",
       "      <th>Topic</th>\n",
       "      <th>0.0</th>\n",
       "      <th>1.0</th>\n",
       "      <th>2.0</th>\n",
       "      <th>3.0</th>\n",
       "    </tr>\n",
       "    <tr>\n",
       "      <th>index</th>\n",
       "      <th></th>\n",
       "      <th></th>\n",
       "      <th></th>\n",
       "      <th></th>\n",
       "    </tr>\n",
       "  </thead>\n",
       "  <tbody>\n",
       "    <tr>\n",
       "      <th>0</th>\n",
       "      <td>0.6181</td>\n",
       "      <td>0.2918</td>\n",
       "      <td>0.0832</td>\n",
       "      <td>NaN</td>\n",
       "    </tr>\n",
       "    <tr>\n",
       "      <th>1</th>\n",
       "      <td>0.1848</td>\n",
       "      <td>0.7847</td>\n",
       "      <td>0.0153</td>\n",
       "      <td>0.0151</td>\n",
       "    </tr>\n",
       "  </tbody>\n",
       "</table>\n",
       "</div>"
      ],
      "text/plain": [
       "Topic     0.0     1.0     2.0     3.0\n",
       "index                                \n",
       "0      0.6181  0.2918  0.0832     NaN\n",
       "1      0.1848  0.7847  0.0153  0.0151"
      ]
     },
     "execution_count": 78,
     "metadata": {},
     "output_type": "execute_result"
    }
   ],
   "source": [
    "wide_df_topic_sents_keywords"
   ]
  },
  {
   "cell_type": "code",
   "execution_count": 82,
   "id": "bf0821e2",
   "metadata": {},
   "outputs": [],
   "source": [
    "#df_topic_sents_keywords['Dominant_Topic'].value_counts(normalize = True)"
   ]
  },
  {
   "cell_type": "code",
   "execution_count": 80,
   "id": "a8b39013",
   "metadata": {},
   "outputs": [],
   "source": [
    "# # Number of Documents for Each Topic\n",
    "# topic_counts = df_topic_sents_keywords['Dominant_Topic'].value_counts()\n",
    "\n",
    "# # Percentage of Documents for Each Topic\n",
    "# topic_contribution = round(topic_counts/topic_counts.sum(), 4)\n",
    "\n",
    "# # Topic Number and Keywords\n",
    "# topic_num_keywords = df_topic_sents_keywords[['Dominant_Topic', 'Topic_Keywords']]\n",
    "\n",
    "# # Concatenate Column wise\n",
    "# df_dominant_topics = pd.concat([topic_num_keywords, topic_counts, topic_contribution], axis=1)\n",
    "\n",
    "# # Change Column names\n",
    "# df_dominant_topics.columns = ['Dominant_Topic', 'Topic_Keywords', 'Num_Documents', 'Perc_Documents']\n",
    "\n",
    "# # Show\n",
    "# df_dominant_topics"
   ]
  },
  {
   "cell_type": "markdown",
   "id": "63cec613",
   "metadata": {},
   "source": [
    "## 3. cat toys (0/4)"
   ]
  },
  {
   "cell_type": "code",
   "execution_count": 124,
   "id": "d10530db",
   "metadata": {},
   "outputs": [
    {
     "data": {
      "application/vnd.jupyter.widget-view+json": {
       "model_id": "ca1f979bfb31443e88fcd3ca9bbcd436",
       "version_major": 2,
       "version_minor": 0
      },
      "text/plain": [
       "  0%|          | 0/7893 [00:00<?, ?it/s]"
      ]
     },
     "metadata": {},
     "output_type": "display_data"
    },
    {
     "data": {
      "application/vnd.jupyter.widget-view+json": {
       "model_id": "b9c49f96f69e498ba4c43b9968185af0",
       "version_major": 2,
       "version_minor": 0
      },
      "text/plain": [
       "  0%|          | 0/7893 [00:00<?, ?it/s]"
      ]
     },
     "metadata": {},
     "output_type": "display_data"
    }
   ],
   "source": [
    "cats_toys_dictionary, cats_toys_doc_term_matrix = vectorize(cats_toys_reviews2)\n",
    "# cats_toys_model_list, cats_toys_coherence_values = compute_coherence_values(dictionary=cats_toys_dictionary, \n",
    "#                                                     corpus=cats_toys_doc_term_matrix, \n",
    "#                                                     texts=cats_toys_reviews2, \n",
    "#                                                     start=2, \n",
    "#                                                     limit=20, \n",
    "#                                                     step=2)\n",
    "\n",
    "# limit=20; start=2; step=2;\n",
    "# x = range(start, limit, step)\n",
    "# plt.plot(x, cats_toys_coherence_values)\n",
    "# plt.xlabel(\"Num Topics\")\n",
    "# plt.ylabel(\"Coherence score\")\n",
    "# plt.legend((\"coherence_values\"), loc='best')\n",
    "# plt.show()\n",
    "# for m, cv in zip(x, cats_toys_coherence_values):\n",
    "#     print(\"Num Topics =\", m, \" has Coherence Value of\", round(cv, 4))"
   ]
  },
  {
   "cell_type": "code",
   "execution_count": 28,
   "id": "90d8b5d2",
   "metadata": {},
   "outputs": [],
   "source": [
    "# with open ('./cats_toys_model_list.pickle', 'wb') as handle:\n",
    "#     pickle.dump(cats_toys_model_list, handle)"
   ]
  },
  {
   "cell_type": "code",
   "execution_count": 113,
   "id": "7004e883",
   "metadata": {},
   "outputs": [],
   "source": [
    "with open ('./cats_toys_model_list.pickle', 'rb') as handle:\n",
    "     cats_toys_model_list = pickle.load(handle)"
   ]
  },
  {
   "cell_type": "code",
   "execution_count": 128,
   "id": "caf05a17",
   "metadata": {},
   "outputs": [
    {
     "data": {
      "text/plain": [
       "0.6224511640648648"
      ]
     },
     "execution_count": 128,
     "metadata": {},
     "output_type": "execute_result"
    }
   ],
   "source": [
    "CoherenceModel(model=cats_toys_model_list[1], \n",
    "               texts=cats_toys_reviews2, \n",
    "               dictionary=cats_toys_dictionary, \n",
    "               coherence='c_v').get_coherence()"
   ]
  },
  {
   "cell_type": "code",
   "execution_count": 129,
   "id": "de9ce8ed",
   "metadata": {},
   "outputs": [
    {
     "data": {
      "text/plain": [
       "0.6136577381694276"
      ]
     },
     "execution_count": 129,
     "metadata": {},
     "output_type": "execute_result"
    }
   ],
   "source": [
    "CoherenceModel(model=cats_toys_model_list[2], \n",
    "               texts=cats_toys_reviews2, \n",
    "               dictionary=cats_toys_dictionary, \n",
    "               coherence='c_v').get_coherence()"
   ]
  },
  {
   "cell_type": "code",
   "execution_count": 130,
   "id": "0875aead",
   "metadata": {},
   "outputs": [
    {
     "data": {
      "text/plain": [
       "[(0,\n",
       "  '0.042*\"buy\" + 0.029*\"love\" + 0.024*\"get\" + 0.016*\"play\" + 0.016*\"old\" + 0.015*\"catnip\" + 0.014*\"recommend\" + 0.013*\"good\" + 0.013*\"well\" + 0.012*\"little\" + 0.011*\"find\" + 0.011*\"great\" + 0.011*\"still\" + 0.010*\"make\" + 0.010*\"even\" + 0.009*\"new\" + 0.009*\"happy\" + 0.009*\"purchase\" + 0.008*\"keep\" + 0.008*\"small\" + 0.008*\"last\" + 0.008*\"highly\" + 0.008*\"come\" + 0.007*\"use\" + 0.007*\"always\" + 0.006*\"also\" + 0.006*\"carry\" + 0.006*\"much\" + 0.006*\"lose\" + 0.006*\"definitely\"'),\n",
       " (1,\n",
       "  '0.048*\"love\" + 0.040*\"go\" + 0.036*\"play\" + 0.029*\"get\" + 0.017*\"make\" + 0.017*\"much\" + 0.016*\"crazy\" + 0.013*\"great\" + 0.011*\"favorite\" + 0.011*\"really\" + 0.011*\"never\" + 0.011*\"little\" + 0.010*\"well\" + 0.010*\"know\" + 0.010*\"think\" + 0.010*\"even\" + 0.010*\"chase\" + 0.009*\"give\" + 0.009*\"see\" + 0.008*\"look\" + 0.008*\"around\" + 0.008*\"say\" + 0.007*\"also\" + 0.007*\"absolutely\" + 0.006*\"good\" + 0.006*\"worth\" + 0.006*\"fly\" + 0.006*\"keep\" + 0.005*\"carry\" + 0.005*\"nuts\"'),\n",
       " (2,\n",
       "  '0.026*\"seem\" + 0.025*\"make\" + 0.023*\"well\" + 0.019*\"really\" + 0.016*\"like\" + 0.016*\"play\" + 0.014*\"think\" + 0.014*\"much\" + 0.013*\"long\" + 0.012*\"still\" + 0.011*\"get\" + 0.011*\"also\" + 0.010*\"work\" + 0.009*\"nice\" + 0.009*\"small\" + 0.009*\"enjoy\" + 0.009*\"break\" + 0.009*\"maybe\" + 0.008*\"little\" + 0.008*\"come\" + 0.008*\"good\" + 0.008*\"use\" + 0.007*\"hard\" + 0.007*\"go\" + 0.006*\"pretty\" + 0.006*\"look\" + 0.006*\"see\" + 0.006*\"attach\" + 0.006*\"interested\" + 0.005*\"last\"'),\n",
       " (3,\n",
       "  '0.052*\"get\" + 0.022*\"put\" + 0.022*\"try\" + 0.020*\"play\" + 0.015*\"go\" + 0.013*\"back\" + 0.013*\"come\" + 0.013*\"keep\" + 0.013*\"even\" + 0.012*\"take\" + 0.012*\"away\" + 0.010*\"give\" + 0.009*\"make\" + 0.009*\"use\" + 0.008*\"great\" + 0.008*\"first\" + 0.008*\"want\" + 0.008*\"little\" + 0.008*\"together\" + 0.008*\"see\" + 0.008*\"good\" + 0.008*\"sit\" + 0.007*\"run\" + 0.007*\"sometimes\" + 0.007*\"right\" + 0.007*\"watch\" + 0.007*\"move\" + 0.006*\"think\" + 0.006*\"easy\" + 0.006*\"enough\"')]"
      ]
     },
     "execution_count": 130,
     "metadata": {},
     "output_type": "execute_result"
    }
   ],
   "source": [
    "cats_toys_optimal_model = cats_toys_model_list[1]\n",
    "model_topics = cats_toys_optimal_model.show_topics(formatted=False)\n",
    "keywords_dict = get_keywords(cats_toys_doc_term_matrix, model = cats_toys_optimal_model)\n",
    "cats_toys_optimal_model.print_topics(num_topics=4, num_words=30)"
   ]
  },
  {
   "cell_type": "code",
   "execution_count": 131,
   "id": "5c8d0f43",
   "metadata": {},
   "outputs": [
    {
     "data": {
      "text/plain": [
       "['put', 'try', 'back', 'take', 'away', 'use', 'first', 'want', 'together']"
      ]
     },
     "execution_count": 131,
     "metadata": {},
     "output_type": "execute_result"
    }
   ],
   "source": [
    "[w for w in keywords_dict[0] if w not in  keywords_dict[1] and w not in  keywords_dict[2] and w not in  keywords_dict[3]]"
   ]
  },
  {
   "cell_type": "code",
   "execution_count": 132,
   "id": "6691b88e",
   "metadata": {},
   "outputs": [
    {
     "data": {
      "text/plain": [
       "['crazy', 'favorite', 'never', 'know', 'chase', 'look']"
      ]
     },
     "execution_count": 132,
     "metadata": {},
     "output_type": "execute_result"
    }
   ],
   "source": [
    "[w for w in keywords_dict[1] if w not in  keywords_dict[0] and w not in  keywords_dict[2] and w not in  keywords_dict[3]]"
   ]
  },
  {
   "cell_type": "code",
   "execution_count": 133,
   "id": "4be6e183",
   "metadata": {},
   "outputs": [
    {
     "data": {
      "text/plain": [
       "['buy',\n",
       " 'old',\n",
       " 'catnip',\n",
       " 'recommend',\n",
       " 'good',\n",
       " 'find',\n",
       " 'new',\n",
       " 'happy',\n",
       " 'purchase']"
      ]
     },
     "execution_count": 133,
     "metadata": {},
     "output_type": "execute_result"
    }
   ],
   "source": [
    "[w for w in keywords_dict[2] if w not in  keywords_dict[0] and w not in  keywords_dict[1] and w not in  keywords_dict[3]]"
   ]
  },
  {
   "cell_type": "code",
   "execution_count": 134,
   "id": "2026ec4d",
   "metadata": {},
   "outputs": [
    {
     "data": {
      "text/plain": [
       "['seem', 'like', 'long', 'also', 'work', 'nice', 'enjoy', 'break', 'maybe']"
      ]
     },
     "execution_count": 134,
     "metadata": {},
     "output_type": "execute_result"
    }
   ],
   "source": [
    "[w for w in keywords_dict[3] if w not in  keywords_dict[0] and w not in  keywords_dict[2] and w not in  keywords_dict[1]]"
   ]
  },
  {
   "cell_type": "code",
   "execution_count": 119,
   "id": "5b6b82af",
   "metadata": {},
   "outputs": [
    {
     "name": "stderr",
     "output_type": "stream",
     "text": [
      "C:\\Users\\JiatingChen\\anaconda3\\lib\\site-packages\\pyLDAvis\\_prepare.py:246: FutureWarning: In a future version of pandas all arguments of DataFrame.drop except for the argument 'labels' will be keyword-only\n",
      "  default_term_info = default_term_info.sort_values(\n",
      "C:\\Users\\JiatingChen\\anaconda3\\lib\\site-packages\\sklearn\\manifold\\_t_sne.py:691: FutureWarning: 'square_distances' has been introduced in 0.24 to help phase out legacy squaring behavior. The 'legacy' setting will be removed in 1.1 (renaming of 0.26), and the default setting will be changed to True. In 1.3, 'square_distances' will be removed altogether, and distances will be squared by default. Set 'square_distances'=True to silence this warning.\n",
      "  warnings.warn(\n"
     ]
    },
    {
     "data": {
      "text/html": [
       "\n",
       "<link rel=\"stylesheet\" type=\"text/css\" href=\"https://cdn.jsdelivr.net/gh/bmabey/pyLDAvis@3.3.1/pyLDAvis/js/ldavis.v1.0.0.css\">\n",
       "\n",
       "\n",
       "<div id=\"ldavis_el2993617973402416969109759624\"></div>\n",
       "<script type=\"text/javascript\">\n",
       "\n",
       "var ldavis_el2993617973402416969109759624_data = {\"mdsDat\": {\"x\": [269.5624084472656, 1.782994270324707, 220.81143188476562, 50.533992767333984], \"y\": [-124.80339813232422, -295.0796813964844, -343.8321228027344, -76.05093383789062], \"topics\": [1, 2, 3, 4], \"cluster\": [1, 1, 1, 1], \"Freq\": [27.89679732601534, 25.73810859314935, 24.33918129920777, 22.02591278162754]}, \"tinfo\": {\"Term\": [\"love\", \"buy\", \"seem\", \"put\", \"go\", \"crazy\", \"catnip\", \"away\", \"back\", \"try\", \"get\", \"old\", \"like\", \"break\", \"favorite\", \"chase\", \"well\", \"together\", \"happy\", \"recommend\", \"work\", \"highly\", \"nice\", \"much\", \"around\", \"small\", \"maybe\", \"really\", \"carry\", \"walk\", \"walk\", \"send\", \"push\", \"middle\", \"forth\", \"cut\", \"interesting\", \"learn\", \"stuck\", \"come_running\", \"suggest\", \"away\", \"play_circuit\", \"bottom\", \"together\", \"round\", \"tape\", \"next_day\", \"amuse\", \"energetic\", \"bergan\", \"assemble\", \"shy\", \"intrigue\", \"spin\", \"stre\", \"left\", \"fix\", \"kibble\", \"figured\", \"fit\", \"put\", \"wait\", \"back\", \"treat\", \"sit\", \"figure\", \"entertain\", \"try\", \"sometimes\", \"right\", \"turn\", \"move\", \"next\", \"get\", \"watch\", \"run\", \"take\", \"top\", \"eat\", \"keep\", \"come\", \"roll\", \"first\", \"want\", \"even\", \"open\", \"play\", \"give\", \"go\", \"use\", \"enough\", \"easy\", \"see\", \"great\", \"little\", \"make\", \"good\", \"think\", \"catnip\", \"tear\", \"fill\", \"scratch\", \"stuff\", \"occupy\", \"good_quality\", \"crinkly\", \"rub\", \"local\", \"great_price\", \"disappear\", \"roll_around\", \"beat\", \"get_lost\", \"high_quality\", \"shred\", \"potent\", \"previous\", \"plenty\", \"sparkly\", \"shape\", \"new_kitten\", \"package\", \"sized\", \"several_months\", \"catnip_smell\", \"small_enough\", \"generally\", \"yeowww_catnip_toys\", \"went_crazy\", \"highly\", \"toss\", \"online\", \"arrive\", \"buy\", \"happy\", \"lose\", \"recommend\", \"old\", \"cat_nip\", \"constantly\", \"ago\", \"new\", \"purchase\", \"several\", \"always\", \"many\", \"love\", \"definitely\", \"order\", \"carry\", \"find\", \"last\", \"young\", \"good\", \"still\", \"small\", \"get\", \"little\", \"well\", \"great\", \"play\", \"even\", \"keep\", \"make\", \"hold\", \"come\", \"use\", \"also\", \"much\", \"break\", \"hope\", \"overall\", \"regular\", \"elastic\", \"random\", \"design\", \"engage\", \"spray\", \"undercover_mouse\", \"review\", \"attract\", \"actual\", \"perfectly\", \"siamese\", \"poorly\", \"jackson_galaxy\", \"good_idea\", \"warm\", \"cheaply_made\", \"spoil\", \"double\", \"great_cat_toy\", \"rather\", \"good_size\", \"fully\", \"complete\", \"click\", \"ok\", \"donate\", \"thin\", \"poor\", \"seem\", \"maybe\", \"swallow\", \"loud\", \"like\", \"nice\", \"work\", \"sturdy\", \"unfortunately\", \"attach\", \"short\", \"low\", \"hard\", \"really\", \"well\", \"enjoy\", \"make\", \"long\", \"think\", \"still\", \"small\", \"much\", \"also\", \"replace\", \"pretty\", \"feel\", \"play\", \"interested\", \"use\", \"come\", \"good\", \"little\", \"get\", \"however\", \"look\", \"last\", \"see\", \"go\", \"crazy\", \"cat_dancer\", \"drag\", \"nuts\", \"tired\", \"miss\", \"kitten_loves\", \"red_dot\", \"drive\", \"step\", \"cat_catcher\", \"much_fun\", \"bengal\", \"indoor_cats\", \"last_long\", \"weird\", \"entertained\", \"real_fur\", \"laser_pointers\", \"laugh\", \"neko_flies\", \"love_da_bird\", \"like_real_bird\", \"real_mouse\", \"red_light\", \"pant\", \"little_guy\", \"purple\", \"springy\", \"appreciate\", \"best_cat_toy\", \"fly\", \"chase\", \"wild\", \"simple\", \"inexpensive\", \"absolutely\", \"love\", \"go\", \"favorite\", \"fun\", \"never\", \"play\", \"much\", \"around\", \"know\", \"worth\", \"bring\", \"get\", \"great\", \"make\", \"say\", \"jump\", \"look\", \"see\", \"think\", \"give\", \"really\", \"little\", \"even\", \"well\", \"also\", \"carry\", \"good\", \"keep\"], \"Freq\": [2486.0, 1732.0, 1003.0, 909.0, 2083.0, 469.0, 503.0, 438.0, 570.0, 1073.0, 3928.0, 721.0, 710.0, 278.0, 508.0, 323.0, 1551.0, 299.0, 361.0, 600.0, 416.0, 272.0, 401.0, 1214.0, 426.0, 631.0, 320.0, 1258.0, 370.0, 213.0, 212.68378319498962, 100.88475011179484, 101.29761635589605, 79.72320243382107, 76.71686035914828, 70.79490987057272, 88.7143983511899, 64.43449268632467, 58.68380793230623, 57.011155044475316, 56.36604510579292, 431.664093938053, 45.78871896581162, 42.53309624612334, 294.4882122897172, 40.790944778959776, 34.43647959249748, 33.89115352447475, 31.547490073591163, 31.25281686909361, 29.472397658241228, 29.245726457264208, 28.20765387514529, 28.21854585956591, 25.3939155328552, 38.33891465945673, 25.064289350006284, 24.88408704240486, 22.929962120957846, 23.77153301249, 118.08529472154292, 828.5130145685812, 126.52501317260108, 494.1757482849514, 103.55732576308404, 278.72883159339915, 121.53229046513802, 184.90783355117378, 820.4557591452691, 254.91210971011213, 254.28188405407695, 212.27499930095473, 240.63105431973952, 92.53534936777096, 1906.279229782457, 244.84529173756172, 275.8577045001244, 439.81956590119574, 144.86464494360362, 181.49481736842475, 470.7763352031907, 473.21143986501335, 135.30704010726564, 305.5815011657054, 303.25541926447715, 463.5914333919475, 186.96597263565485, 749.6043438893772, 379.90133592667473, 570.0190543408348, 336.86396653097387, 231.13938458279185, 232.11974894430426, 292.64655782787014, 312.2759377761248, 300.59664298557595, 344.7852350999763, 290.91835153131126, 232.20952634030036, 503.0879755647384, 150.96290827068867, 92.57049915638143, 89.92303102463745, 80.11734820546732, 71.78574896670445, 60.98070595666146, 62.632600132083674, 60.02625834115318, 57.92854592732531, 55.014965247645144, 76.36843002249925, 49.730659717948996, 51.46105990402653, 48.637264811496074, 52.03072401510987, 45.399428947555045, 43.568129764866995, 41.50928856782532, 40.32151869900925, 39.73868387233494, 40.19559178205375, 31.069154298082545, 29.66582226676308, 29.001067092528977, 26.60143709138425, 25.72235809468279, 25.369567678760816, 25.118740519735923, 24.448274342811654, 56.22654052220193, 258.34673953408316, 155.37442145645417, 34.73205532484125, 119.3538317823564, 1415.232407851353, 316.0762529623893, 212.62765269019656, 465.9190055215012, 543.2090849521644, 116.01810771019917, 76.15760362045317, 114.17829048886068, 319.94072844814525, 298.8057377152403, 166.54146330553058, 222.29637431010923, 194.84507394725077, 1001.7968642534089, 212.13946977094136, 193.3402494656294, 216.70426808883556, 388.8269022422864, 272.5795473274603, 172.60491418665566, 454.3911913043536, 357.49153450914014, 279.47778973447726, 818.430561510249, 415.82562690737325, 446.55867870733573, 385.7415760643173, 549.8172788456924, 331.1098750796471, 288.44406791439445, 339.9867712209248, 207.84348223710023, 257.7134374054928, 225.074576333709, 219.18705677757612, 214.32942467020132, 278.104833634299, 117.74889642780401, 110.71213104416246, 90.58141735649225, 86.38820520387227, 72.405042291889, 61.52585844812661, 57.039091065300795, 54.78389041309611, 48.40613244586926, 43.739205515800386, 59.55409275418167, 38.48154652707812, 34.61602541288439, 34.43291022244821, 29.147812389196297, 29.297990864631565, 28.706044747476692, 28.56785533357609, 27.607853071146, 36.74637071744204, 27.536442486807665, 26.95788094373308, 137.65377652759605, 24.857058399222257, 25.11925575167718, 24.811683664226955, 24.727460927844472, 24.136670878723372, 23.392423086750824, 59.586002476705985, 56.001259983218674, 838.3926300370097, 273.4440462111667, 65.74427213561864, 91.42142611726199, 503.41903643570566, 297.98465436939784, 305.441076190618, 134.83695129020958, 106.09637415453973, 190.31524201162802, 124.9298148902194, 72.0279545989325, 231.28276132184587, 623.3602643660721, 724.6134467579379, 294.4233961446742, 816.8258029936817, 412.01714001144137, 449.80525523220604, 375.28793821376297, 296.8104484138565, 435.0689719866901, 350.2010972628773, 105.89699170257983, 201.40113381288467, 124.34931908444754, 500.2629183250298, 181.99744848959665, 242.56568602578992, 258.72012428857494, 257.3643595319244, 265.3222978832114, 356.0951735748495, 156.84833700034835, 191.8336195223877, 176.17255667626662, 190.37191553452615, 216.15513595227742, 468.4143789124253, 114.85989574754366, 114.44955830322824, 151.0691178903803, 100.65812885300082, 69.65275988921408, 63.297079929114425, 58.755645649865755, 56.26703619889152, 50.52773253895907, 49.09051544918432, 72.11827863281984, 42.459541439798485, 45.30513932101113, 38.0716129642712, 37.94081527995164, 33.91961260627446, 31.96320333133323, 31.510005877548945, 30.609827178005084, 29.071654265310457, 28.87114769917128, 27.03258567516479, 25.916739091652417, 26.07822845666044, 38.91671253955252, 26.653286949295207, 22.199993488950327, 21.683873857586914, 21.580446448687713, 61.1579865929589, 177.122762530882, 283.3543990248816, 97.77657108865611, 138.9442890232143, 72.72448757312964, 199.75072128935508, 1410.1961137822218, 1152.0771628666587, 324.3176389270626, 129.3666428089983, 310.69271311422045, 1035.781688724702, 488.03592757152137, 224.63592196526386, 294.3584686081846, 180.80346191422947, 145.08621403917877, 847.3259257597452, 384.1576201320715, 499.7707740284921, 218.6742534390792, 118.52144541815267, 232.78883767750202, 261.6560680821828, 286.9066030231779, 274.02987030082227, 311.5123316537752, 306.3569418743254, 286.50483825790315, 299.18110842866446, 202.29251385342965, 153.4910012913812, 188.67909953692956, 161.90311527243196], \"Total\": [2486.0, 1732.0, 1003.0, 909.0, 2083.0, 469.0, 503.0, 438.0, 570.0, 1073.0, 3928.0, 721.0, 710.0, 278.0, 508.0, 323.0, 1551.0, 299.0, 361.0, 600.0, 416.0, 272.0, 401.0, 1214.0, 426.0, 631.0, 320.0, 1258.0, 370.0, 213.0, 213.42540205329044, 101.63568922943259, 102.14310074068078, 80.4867113915403, 77.45579710104042, 71.56462374067291, 89.753006701152, 65.2463706485751, 59.43296988984586, 57.80164157343706, 57.188586984081276, 438.32687044459755, 46.52558049689802, 43.2765018741449, 299.747583984584, 41.532940923256604, 35.17488493440563, 34.6306315421552, 32.2974434187626, 32.01170290454711, 30.204822517728665, 29.97706093871885, 28.95074738409355, 28.96844590366688, 26.14296013672703, 39.480288519017, 25.815475272025502, 25.630773208747215, 23.65804625603158, 24.539293825465087, 123.06489459851306, 909.2066366891917, 135.31114437029652, 570.0228095068942, 113.1560248607035, 322.9486081649904, 136.15488314519402, 213.74714273525345, 1073.9053084986053, 307.2613365724633, 322.51126650664, 270.63100352693255, 315.67576205357864, 107.9127265020229, 3928.1308906273007, 351.81258863780323, 425.5162703278859, 764.6457218373155, 201.19029055840574, 273.7217419479538, 1022.6083184512505, 1080.463489312589, 185.35979530641615, 617.0784759130374, 619.8641621210531, 1189.3824631188509, 300.3388148317981, 2835.4662297848017, 953.0370348548478, 2083.0974471934046, 852.4093547753017, 459.604395112588, 471.24946875080144, 857.2750838622201, 1206.9376145621559, 1288.101509650486, 2001.3685833430748, 1191.3530019045188, 1033.9925215529204, 503.8278664630566, 151.7124459626829, 93.31526510148792, 90.67740355518079, 80.86169701136515, 72.54960633612063, 61.71611901765236, 63.39123488960923, 60.76578124227387, 58.67338190535619, 55.7648819450768, 77.42406313867833, 50.47451869084974, 52.242937178281714, 49.376292821452125, 52.82449179570308, 46.15349172557629, 44.29710297206738, 42.265691017519494, 41.07514610515555, 40.492799524027404, 40.96558876339354, 31.816348899856166, 30.41574168230777, 29.79838307154233, 27.35474897418621, 26.460590509785714, 26.112844123687108, 25.866573162752392, 25.176328174088766, 58.20610099491698, 272.24583748286005, 164.13659986796654, 36.04373623334754, 128.90007078730798, 1732.3968509397637, 361.7941266697963, 250.24587009887694, 600.8316450616157, 721.6840158611366, 135.67029873215924, 84.43741090493985, 135.27074860290477, 479.7087215828472, 462.58446117833944, 233.50118774504767, 340.8373248332025, 288.1247608309062, 2486.4928211085025, 332.235290238291, 312.46904788229244, 370.68790366256815, 855.1762155702075, 515.5765986594967, 275.9669122527843, 1191.3530019045188, 864.736047779215, 631.4171077047446, 3928.1308906273007, 1288.101509650486, 1551.0531214283926, 1206.9376145621559, 2835.4662297848017, 1189.3824631188509, 1022.6083184512505, 2001.3685833430748, 482.98332375696765, 1080.463489312589, 852.4093547753017, 939.1363348424611, 1214.9339666364103, 278.87014973968826, 118.52711997159649, 111.48265028471208, 91.33869683819076, 87.13092643857473, 73.21406696381125, 62.27964211696103, 57.80727101966298, 55.545495075287825, 49.14125033059978, 44.50540067908522, 60.69201980842085, 39.24085167068343, 35.37302269939659, 35.27540785424633, 29.900916990105138, 30.05796831302835, 29.45665073871888, 29.332972367251543, 28.35559203908512, 37.742194588152486, 28.31640472790941, 27.735382314107284, 141.82975809258775, 25.611498280010014, 25.883101126759605, 25.566404522191622, 25.487251935027977, 24.886342338097514, 24.148143746590918, 61.77199161469978, 59.55435039769188, 1003.3828162875177, 320.4152351410783, 71.67393892608615, 104.28111830394316, 710.4706742999466, 401.0335521642135, 416.28982258165416, 168.52301621919528, 128.98189594971478, 270.87543870914556, 165.37064870282273, 86.62579253456752, 367.25420553709586, 1258.3416366939564, 1551.0531214283926, 514.0197912539624, 2001.3685833430748, 849.0678343836983, 1033.9925215529204, 864.736047779215, 631.4171077047446, 1214.9339666364103, 939.1363348424611, 149.65834141177413, 416.9007061643932, 195.83425175628028, 2835.4662297848017, 448.52039661292315, 852.4093547753017, 1080.463489312589, 1191.3530019045188, 1288.101509650486, 3928.1308906273007, 346.03984698824524, 687.0116700851482, 515.5765986594967, 857.2750838622201, 2083.0974471934046, 469.1521635832707, 115.58969171430215, 115.18263238809067, 152.13985732446847, 101.390876486076, 70.43711170472697, 64.04212602303772, 59.49864529132017, 57.008973843139074, 51.2737806970339, 49.82588080667887, 73.38096689514371, 43.22085447034084, 46.167198732633885, 38.80879578386503, 38.68014691398229, 34.66391726404723, 32.70401140522546, 32.274031272382835, 31.361986445635072, 29.810978119800183, 29.614265909482143, 27.755228205964972, 26.644849788340462, 26.817995403895146, 40.0398975230749, 27.42603526968959, 22.94669765749692, 22.41324316955152, 22.332773964266305, 63.587954877527764, 190.60734450053937, 323.05311701292635, 110.60688354520839, 165.86017156567777, 81.99789775681005, 264.8489849271993, 2486.4928211085025, 2083.0974471934046, 508.7835759483186, 173.4299437133114, 530.5652245069538, 2835.4662297848017, 1214.9339666364103, 426.5861752069898, 637.4445679374685, 350.465697605689, 259.532957347214, 3928.1308906273007, 1206.9376145621559, 2001.3685833430748, 525.8630485400257, 196.11988836264828, 687.0116700851482, 857.2750838622201, 1033.9925215529204, 953.0370348548478, 1258.3416366939564, 1288.101509650486, 1189.3824631188509, 1551.0531214283926, 939.1363348424611, 370.68790366256815, 1191.3530019045188, 1022.6083184512505], \"Category\": [\"Default\", \"Default\", \"Default\", \"Default\", \"Default\", \"Default\", \"Default\", \"Default\", \"Default\", \"Default\", \"Default\", \"Default\", \"Default\", \"Default\", \"Default\", \"Default\", \"Default\", \"Default\", \"Default\", \"Default\", \"Default\", \"Default\", \"Default\", \"Default\", \"Default\", \"Default\", \"Default\", \"Default\", \"Default\", \"Default\", \"Topic1\", \"Topic1\", \"Topic1\", \"Topic1\", \"Topic1\", \"Topic1\", \"Topic1\", \"Topic1\", \"Topic1\", \"Topic1\", \"Topic1\", \"Topic1\", \"Topic1\", \"Topic1\", \"Topic1\", \"Topic1\", \"Topic1\", \"Topic1\", \"Topic1\", \"Topic1\", \"Topic1\", \"Topic1\", \"Topic1\", \"Topic1\", \"Topic1\", \"Topic1\", \"Topic1\", \"Topic1\", \"Topic1\", \"Topic1\", \"Topic1\", \"Topic1\", \"Topic1\", \"Topic1\", \"Topic1\", \"Topic1\", \"Topic1\", \"Topic1\", \"Topic1\", \"Topic1\", \"Topic1\", \"Topic1\", \"Topic1\", \"Topic1\", \"Topic1\", \"Topic1\", \"Topic1\", \"Topic1\", \"Topic1\", \"Topic1\", \"Topic1\", \"Topic1\", \"Topic1\", \"Topic1\", \"Topic1\", \"Topic1\", \"Topic1\", \"Topic1\", \"Topic1\", \"Topic1\", \"Topic1\", \"Topic1\", \"Topic1\", \"Topic1\", \"Topic1\", \"Topic1\", \"Topic1\", \"Topic1\", \"Topic1\", \"Topic2\", \"Topic2\", \"Topic2\", \"Topic2\", \"Topic2\", \"Topic2\", \"Topic2\", \"Topic2\", \"Topic2\", \"Topic2\", \"Topic2\", \"Topic2\", \"Topic2\", \"Topic2\", \"Topic2\", \"Topic2\", \"Topic2\", \"Topic2\", \"Topic2\", \"Topic2\", \"Topic2\", \"Topic2\", \"Topic2\", \"Topic2\", \"Topic2\", \"Topic2\", \"Topic2\", \"Topic2\", \"Topic2\", \"Topic2\", \"Topic2\", \"Topic2\", \"Topic2\", \"Topic2\", \"Topic2\", \"Topic2\", \"Topic2\", \"Topic2\", \"Topic2\", \"Topic2\", \"Topic2\", \"Topic2\", \"Topic2\", \"Topic2\", \"Topic2\", \"Topic2\", \"Topic2\", \"Topic2\", \"Topic2\", \"Topic2\", \"Topic2\", \"Topic2\", \"Topic2\", \"Topic2\", \"Topic2\", \"Topic2\", \"Topic2\", \"Topic2\", \"Topic2\", \"Topic2\", \"Topic2\", \"Topic2\", \"Topic2\", \"Topic2\", \"Topic2\", \"Topic2\", \"Topic2\", \"Topic2\", \"Topic2\", \"Topic2\", \"Topic2\", \"Topic3\", \"Topic3\", \"Topic3\", \"Topic3\", \"Topic3\", \"Topic3\", \"Topic3\", \"Topic3\", \"Topic3\", \"Topic3\", \"Topic3\", \"Topic3\", \"Topic3\", \"Topic3\", \"Topic3\", \"Topic3\", \"Topic3\", \"Topic3\", \"Topic3\", \"Topic3\", \"Topic3\", \"Topic3\", \"Topic3\", \"Topic3\", \"Topic3\", \"Topic3\", \"Topic3\", \"Topic3\", \"Topic3\", \"Topic3\", \"Topic3\", \"Topic3\", \"Topic3\", \"Topic3\", \"Topic3\", \"Topic3\", \"Topic3\", \"Topic3\", \"Topic3\", \"Topic3\", \"Topic3\", \"Topic3\", \"Topic3\", \"Topic3\", \"Topic3\", \"Topic3\", \"Topic3\", \"Topic3\", \"Topic3\", \"Topic3\", \"Topic3\", \"Topic3\", \"Topic3\", \"Topic3\", \"Topic3\", \"Topic3\", \"Topic3\", \"Topic3\", \"Topic3\", \"Topic3\", \"Topic3\", \"Topic3\", \"Topic3\", \"Topic3\", \"Topic3\", \"Topic3\", \"Topic3\", \"Topic3\", \"Topic3\", \"Topic3\", \"Topic4\", \"Topic4\", \"Topic4\", \"Topic4\", \"Topic4\", \"Topic4\", \"Topic4\", \"Topic4\", \"Topic4\", \"Topic4\", \"Topic4\", \"Topic4\", \"Topic4\", \"Topic4\", \"Topic4\", \"Topic4\", \"Topic4\", \"Topic4\", \"Topic4\", \"Topic4\", \"Topic4\", \"Topic4\", \"Topic4\", \"Topic4\", \"Topic4\", \"Topic4\", \"Topic4\", \"Topic4\", \"Topic4\", \"Topic4\", \"Topic4\", \"Topic4\", \"Topic4\", \"Topic4\", \"Topic4\", \"Topic4\", \"Topic4\", \"Topic4\", \"Topic4\", \"Topic4\", \"Topic4\", \"Topic4\", \"Topic4\", \"Topic4\", \"Topic4\", \"Topic4\", \"Topic4\", \"Topic4\", \"Topic4\", \"Topic4\", \"Topic4\", \"Topic4\", \"Topic4\", \"Topic4\", \"Topic4\", \"Topic4\", \"Topic4\", \"Topic4\", \"Topic4\", \"Topic4\", \"Topic4\", \"Topic4\", \"Topic4\", \"Topic4\", \"Topic4\"], \"logprob\": [30.0, 29.0, 28.0, 27.0, 26.0, 25.0, 24.0, 23.0, 22.0, 21.0, 20.0, 19.0, 18.0, 17.0, 16.0, 15.0, 14.0, 13.0, 12.0, 11.0, 10.0, 9.0, 8.0, 7.0, 6.0, 5.0, 4.0, 3.0, 2.0, 1.0, -5.1544, -5.9002, -5.8961, -6.1356, -6.1741, -6.2544, -6.0288, -6.3486, -6.442, -6.471, -6.4823, -4.4466, -6.6902, -6.7639, -4.829, -6.8057, -6.9751, -6.9911, -7.0627, -7.0721, -7.1308, -7.1385, -7.1746, -7.1742, -7.2797, -6.8677, -7.2928, -7.3, -7.3818, -7.3457, -5.7428, -3.7946, -5.6738, -4.3113, -5.8741, -4.884, -5.714, -5.2944, -3.8043, -4.9733, -4.9758, -5.1563, -5.0309, -5.9866, -2.9613, -5.0136, -4.8943, -4.4278, -5.5384, -5.313, -4.3598, -4.3547, -5.6067, -4.792, -4.7996, -4.3752, -5.2833, -3.8947, -4.5743, -4.1685, -4.6945, -5.0712, -5.067, -4.8352, -4.7703, -4.8084, -4.6713, -4.8412, -5.0666, -4.2129, -5.4166, -5.9057, -5.9347, -6.0502, -6.16, -6.3231, -6.2964, -6.3389, -6.3745, -6.4261, -6.0981, -6.527, -6.4928, -6.5493, -6.4818, -6.6182, -6.6593, -6.7078, -6.7368, -6.7513, -6.7399, -6.9975, -7.0437, -7.0663, -7.1527, -7.1863, -7.2001, -7.2101, -7.2371, -6.4043, -4.8794, -5.3878, -6.886, -5.6516, -3.1786, -4.6777, -5.0741, -4.2897, -4.1362, -5.6799, -6.1009, -5.6959, -4.6655, -4.7339, -5.3184, -5.0297, -5.1615, -3.5241, -5.0764, -5.1692, -5.0551, -4.4705, -4.8257, -5.2827, -4.3147, -4.5546, -4.8007, -3.7263, -4.4034, -4.3321, -4.4785, -4.1241, -4.6312, -4.7692, -4.6048, -5.0969, -4.8818, -5.0172, -5.0437, -5.0662, -4.7498, -5.6092, -5.6709, -5.8715, -5.9189, -6.0955, -6.2583, -6.334, -6.3744, -6.4982, -6.5995, -6.2909, -6.7276, -6.8335, -6.8388, -7.0054, -7.0003, -7.0207, -7.0255, -7.0597, -6.7737, -7.0623, -7.0835, -5.453, -7.1646, -7.1542, -7.1665, -7.1699, -7.1941, -7.2254, -6.2904, -6.3524, -3.6463, -4.7667, -6.192, -5.8623, -4.1564, -4.6807, -4.656, -5.4737, -5.7134, -5.1291, -5.55, -6.1007, -4.9341, -3.9427, -3.7921, -4.6928, -3.6724, -4.3567, -4.269, -4.4501, -4.6847, -4.3023, -4.5193, -5.7153, -5.0725, -5.5547, -4.1627, -5.1738, -4.8865, -4.822, -4.8273, -4.7968, -4.5026, -5.3225, -5.1212, -5.2063, -5.1288, -5.0018, -4.1286, -5.5342, -5.5378, -5.2602, -5.6662, -6.0344, -6.1301, -6.2045, -6.2478, -6.3554, -6.3843, -5.9996, -6.5294, -6.4645, -6.6384, -6.6419, -6.7539, -6.8133, -6.8276, -6.8566, -6.9082, -6.9151, -6.9809, -7.023, -7.0168, -6.6165, -6.995, -7.1778, -7.2013, -7.2061, -6.1645, -5.1011, -4.6312, -5.6952, -5.3438, -5.9912, -4.9808, -3.0264, -3.2286, -4.4962, -5.4153, -4.5391, -3.335, -4.0875, -4.8634, -4.5931, -5.0805, -5.3006, -3.5358, -4.3269, -4.0638, -4.8903, -5.5028, -4.8278, -4.7109, -4.6188, -4.6647, -4.5365, -4.5532, -4.6202, -4.5769, -4.9682, -5.2443, -5.0379, -5.1909], \"loglift\": [30.0, 29.0, 28.0, 27.0, 26.0, 25.0, 24.0, 23.0, 22.0, 21.0, 20.0, 19.0, 18.0, 17.0, 16.0, 15.0, 14.0, 13.0, 12.0, 11.0, 10.0, 9.0, 8.0, 7.0, 6.0, 5.0, 4.0, 3.0, 2.0, 1.0, 1.2732, 1.2692, 1.2683, 1.2671, 1.2671, 1.2658, 1.265, 1.2641, 1.264, 1.2629, 1.2622, 1.2613, 1.2607, 1.2593, 1.259, 1.2586, 1.2554, 1.2551, 1.2532, 1.2527, 1.2521, 1.252, 1.2507, 1.2504, 1.2476, 1.2473, 1.2471, 1.2471, 1.2454, 1.2449, 1.2354, 1.1837, 1.2095, 1.1339, 1.188, 1.1294, 1.163, 1.1317, 1.0075, 1.0899, 1.039, 1.0338, 1.0052, 1.1229, 0.5536, 0.9142, 0.8432, 0.7236, 0.9482, 0.8658, 0.5009, 0.4511, 0.9619, 0.5739, 0.5617, 0.3345, 0.8027, -0.0538, 0.3569, -0.0193, 0.3483, 0.5893, 0.5685, 0.2019, -0.0753, -0.1785, -0.482, -0.1331, -0.2169, 1.3557, 1.3522, 1.3492, 1.3488, 1.3479, 1.3466, 1.3452, 1.3452, 1.345, 1.3444, 1.3437, 1.3435, 1.3424, 1.3421, 1.3421, 1.3421, 1.3407, 1.3406, 1.3391, 1.3387, 1.3384, 1.3382, 1.3334, 1.3322, 1.3301, 1.3293, 1.3289, 1.3283, 1.3279, 1.3279, 1.3226, 1.3048, 1.3023, 1.3201, 1.2803, 1.155, 1.2221, 1.1943, 1.1029, 1.0731, 1.2007, 1.254, 1.1877, 0.9522, 0.9202, 1.0193, 0.9298, 0.966, 0.4481, 0.9086, 0.8771, 0.8204, 0.569, 0.7198, 0.8879, 0.3933, 0.4739, 0.5422, -0.2113, 0.2265, 0.1121, 0.2165, -0.2832, 0.0785, 0.0916, -0.4155, 0.514, -0.0761, 0.0256, -0.0978, -0.3777, 1.4103, 1.4065, 1.4061, 1.4048, 1.4045, 1.402, 1.4009, 1.3997, 1.3993, 1.398, 1.3957, 1.3942, 1.3935, 1.3915, 1.3889, 1.3876, 1.3875, 1.3873, 1.3867, 1.3864, 1.3863, 1.3852, 1.3846, 1.3832, 1.3832, 1.3831, 1.3831, 1.3828, 1.3825, 1.3813, 1.3771, 1.3516, 1.2334, 1.2546, 1.3267, 1.2815, 1.0686, 1.1161, 1.1035, 1.1901, 1.2178, 1.0601, 1.1326, 1.2285, 0.9507, 0.7107, 0.652, 0.8558, 0.5169, 0.69, 0.5807, 0.5784, 0.6582, 0.3861, 0.4266, 1.0672, 0.6855, 0.9589, -0.3217, 0.5111, 0.1563, -0.0163, -0.1193, -0.1669, -0.9876, 0.6218, 0.1374, 0.3393, -0.0917, -0.8525, 1.5114, 1.5066, 1.5066, 1.5059, 1.5057, 1.5018, 1.5012, 1.5004, 1.4999, 1.4983, 1.4981, 1.4956, 1.4952, 1.4941, 1.4938, 1.4937, 1.4912, 1.49, 1.489, 1.4887, 1.4878, 1.4875, 1.4866, 1.4852, 1.485, 1.4845, 1.4844, 1.4799, 1.4799, 1.4787, 1.474, 1.4396, 1.3818, 1.3897, 1.3359, 1.3929, 1.2309, 0.9458, 0.9207, 1.0627, 1.2198, 0.9778, 0.5059, 0.6009, 0.8716, 0.7403, 0.8511, 0.9314, -0.0209, 0.3682, 0.1255, 0.6355, 1.0093, 0.4307, 0.3262, 0.2309, 0.2665, 0.1168, 0.0768, 0.0895, -0.1327, -0.0223, 0.6312, -0.3298, -0.3302]}, \"token.table\": {\"Topic\": [2, 3, 4, 3, 1, 2, 3, 4, 1, 2, 3, 4, 1, 2, 4, 1, 4, 1, 2, 3, 4, 1, 2, 4, 1, 1, 3, 4, 2, 3, 1, 3, 1, 2, 3, 4, 2, 4, 1, 1, 4, 1, 3, 1, 2, 3, 4, 1, 2, 3, 4, 2, 4, 4, 4, 2, 3, 2, 2, 1, 4, 3, 3, 1, 2, 3, 4, 1, 3, 1, 2, 4, 4, 2, 1, 1, 2, 3, 4, 3, 1, 2, 3, 3, 4, 4, 1, 2, 3, 4, 1, 3, 4, 3, 1, 3, 1, 2, 3, 4, 1, 2, 3, 4, 1, 2, 4, 1, 2, 3, 4, 1, 2, 4, 1, 2, 3, 4, 1, 4, 1, 2, 1, 2, 3, 4, 1, 2, 3, 4, 1, 2, 1, 3, 4, 1, 3, 1, 3, 4, 2, 1, 2, 3, 4, 2, 1, 2, 3, 4, 1, 2, 3, 4, 1, 2, 3, 4, 3, 2, 3, 1, 2, 3, 4, 3, 2, 2, 4, 1, 2, 3, 4, 2, 1, 2, 1, 2, 3, 4, 3, 1, 2, 3, 4, 4, 1, 4, 1, 2, 3, 4, 1, 1, 3, 1, 3, 4, 1, 2, 3, 4, 1, 4, 1, 2, 3, 4, 4, 2, 3, 4, 4, 4, 1, 1, 1, 2, 3, 4, 4, 1, 2, 3, 4, 4, 2, 1, 2, 3, 4, 1, 2, 3, 4, 1, 2, 3, 4, 1, 3, 1, 2, 3, 4, 4, 2, 3, 1, 2, 3, 4, 1, 2, 3, 4, 1, 3, 4, 1, 4, 1, 3, 4, 1, 2, 3, 4, 1, 4, 4, 1, 2, 3, 4, 1, 2, 3, 4, 2, 1, 2, 3, 4, 1, 1, 2, 3, 1, 4, 2, 3, 1, 2, 3, 4, 2, 4, 1, 2, 3, 4, 1, 2, 3, 4, 3, 2, 1, 4, 3, 1, 2, 3, 4, 1, 2, 2, 3, 4, 3, 2, 1, 2, 3, 4, 2, 1, 2, 3, 4, 4, 1, 1, 2, 3, 3, 1, 3, 4, 4, 1, 2, 3, 4, 1, 2, 3, 4, 4, 4, 3, 2, 3, 4, 3, 1, 2, 3, 4, 1, 2, 2, 1, 2, 1, 3, 4, 1, 2, 3, 4, 2, 1, 2, 3, 4, 1, 2, 3, 4, 1, 1, 2, 3, 4, 2, 2, 1, 2, 3, 4, 2, 1, 3, 1, 3, 4, 1, 2, 3, 4, 2, 1, 2, 3, 2, 1, 2, 3, 2, 1, 3, 3, 4, 4, 1, 2, 3, 4, 1, 4, 1, 2, 1, 2, 3, 4, 1, 1, 3, 1, 2, 3, 4, 1, 2, 3, 4, 1, 2, 3, 4, 4, 1, 2, 1, 2, 3, 2, 4, 1, 2, 1, 2, 3, 4, 1, 2, 3, 4, 3, 1, 3, 4, 1, 2, 3, 4, 1, 4, 1, 1, 2, 3, 4, 3, 1, 2, 3, 4, 4, 1, 2, 3, 4, 1, 2, 3, 1, 2, 4, 1, 3, 1, 2, 3, 4, 2, 1, 2, 3], \"Freq\": [0.24164714098334975, 0.0037757365778648398, 0.755147315572968, 0.968378574422979, 0.07392581251513279, 0.8427542626725139, 0.06653323126361951, 0.014785162503026559, 0.17782295690647942, 0.23319297941628142, 0.37268284381597483, 0.2150912412880769, 0.17603705823404917, 0.6513371154659819, 0.17016915629291418, 0.9907904964827711, 0.9850993000332712, 0.4641500627720194, 0.0023441922362223205, 0.004688384472444641, 0.527443253150022, 0.06982152876277688, 0.9231957691967165, 0.007757947640308542, 0.9674063798076727, 0.14028588262224384, 0.7014294131112192, 0.1550528176351116, 0.016476630752388515, 0.988597845143311, 0.9855658622110477, 0.013688414752931219, 0.8666319869328409, 0.1315736822266459, 0.001754315763021945, 0.001754315763021945, 0.9762085126638242, 0.9717531158210068, 0.9601115842669992, 0.03145249762871062, 0.9593011776756739, 0.9936108081251804, 0.9968797315148269, 0.08091457907561746, 0.2851275643616996, 0.07320842868746341, 0.5586959031411681, 0.06638201861058371, 0.8167874463823995, 0.07677224761050115, 0.03982921116635022, 0.5853981148452364, 0.4127461362733695, 0.9834246621774088, 0.994898405683444, 0.8550139646187969, 0.14004539075652708, 0.9983568466173411, 0.9825933397209946, 0.12072318125455353, 0.8760169306420167, 0.987459544537283, 0.980882523691841, 0.43777508881945787, 0.23878641208334064, 0.23971194081234584, 0.08422311433947287, 0.986131162513463, 0.9778457498120244, 0.011843091696947056, 0.9000749689679762, 0.08290164187862939, 0.9975441580094809, 0.9938282494371574, 0.992110295406304, 0.006019830098619351, 0.6381019904536512, 0.030099150493096756, 0.32507082532544496, 0.9955098952489826, 0.01291588118036181, 0.9816069697074975, 0.9524541613368106, 0.9888260981240478, 0.9897325459266639, 0.9823014908860616, 0.4923082472962585, 0.2291779771896376, 0.17824953781416256, 0.09973486044363858, 0.6612554732112433, 0.3324544091835533, 0.0036533451558632226, 0.987020378586563, 0.9683958423716534, 0.9860351300896321, 0.15563603067663656, 0.2509630994660764, 0.5719624127366393, 0.01945450383457957, 0.5026061596808982, 0.26762146164827044, 0.14795332839091374, 0.08050401691858541, 0.8655086455548107, 0.13099590311099837, 0.9808470214433661, 0.39011841387275786, 0.2782956788618165, 0.09080342391865916, 0.2413016913393998, 0.025551139255565354, 0.3360957548232058, 0.6368130091387058, 0.0714890264315115, 0.0051063590308222506, 0.6331885198219591, 0.285956105726046, 0.8960383732245621, 0.10282407561593336, 0.9780232540797303, 0.9966215055902692, 0.23737797696425092, 0.4548770100447961, 0.14499935538703013, 0.16370894963051788, 0.49588506477598066, 0.24794253238799033, 0.2171522832679131, 0.03889294625693966, 0.9588437091256871, 0.03250317658053176, 0.9753900046787529, 0.06820303820959644, 0.9286105971614286, 0.9941153907376896, 0.9658811700176607, 0.10378830560975633, 0.1499164414363147, 0.7438161902032536, 0.966498339099659, 0.48521804722643097, 0.20824153338469073, 0.09062834460262824, 0.21562417943378123, 0.9923790791096281, 0.3987253234685427, 0.18257422706191168, 0.1311596458778101, 0.2875019437641598, 0.27363098196292807, 0.06960788137653433, 0.10369174053332011, 0.5530226161777072, 0.24426009716247163, 0.3810793268445434, 0.2157211167379904, 0.15864315588902797, 0.9844975335869178, 0.9883965643165681, 0.9761240723473295, 0.2585054904541898, 0.3198176901131964, 0.10356790482940297, 0.3181606036359259, 0.9734857697009917, 0.9862838058936422, 0.873424903020629, 0.12438012859470983, 0.2940742362420437, 0.07351855906051093, 0.6289921164065935, 0.0027229095948337377, 0.9843918650672159, 0.0477509596480734, 0.9476728914771491, 0.060043480951720206, 0.43065669096406217, 0.19876462659879793, 0.31056972906062175, 0.9955527479979028, 0.27453485726234034, 0.1416021895353124, 0.4537049746335519, 0.13004282712426649, 0.9747180083549485, 0.10975891146248974, 0.8902667263068612, 0.45036970787825215, 0.06688659027894835, 0.4057786476922866, 0.07580480231614145, 0.991610234254778, 0.9665689382548378, 0.9648024010801227, 0.38751806680344036, 0.010197843863248431, 0.6067717098632815, 0.46058690458662976, 0.2816327569446908, 0.09876704323407559, 0.15841842578138857, 0.9721850972430232, 0.9837274917659223, 0.2133518847608114, 0.2431583980729836, 0.08157572064383965, 0.46121657440940117, 0.9915092332262401, 0.5295042496300302, 0.34136537705086195, 0.12801201639407322, 0.9791594722915549, 0.9884577959925286, 0.9808974715959574, 0.9684113787008533, 0.02392779971777264, 0.118231480958406, 0.7079813681199787, 0.1491968688284647, 0.9727896956796535, 0.2336772356409034, 0.32295591370968707, 0.20572912772371893, 0.2375589172960679, 0.9844660277907383, 0.9885232130228594, 0.17901985429742517, 0.2331969154663828, 0.48523802612196826, 0.10364307354061458, 0.26491544165100267, 0.11644634797846272, 0.2794712351483105, 0.3391499884872727, 0.00399606994355144, 0.8511628979764566, 0.09990174858878599, 0.04795283932261727, 0.11507356456443224, 0.8726411979469445, 0.018097779980695287, 0.40297723423681503, 0.012065186653796857, 0.5670637727284523, 0.9792577701787482, 0.16161468299886989, 0.8311612268513309, 0.17238204040542796, 0.16988374996476957, 0.40822065800357865, 0.2498290440658376, 0.07982653047128487, 0.67679014964785, 0.17700665452328385, 0.06594365560671359, 0.08114470583320497, 0.8520194112486522, 0.06553995471143478, 0.9939528975264922, 0.993794298287537, 0.7634415719224457, 0.16155817497113995, 0.07602737645700704, 0.0633779300888075, 0.17614126024681565, 0.35804415050170474, 0.40166792056283196, 0.013627511905490837, 0.9811808571953403, 0.9727959909084117, 0.1771695460955866, 0.16586085166395342, 0.06973694899507132, 0.5861673280396535, 0.1563448747659412, 0.6670714656680158, 0.1396680881242408, 0.03752276994382589, 0.9743418422262821, 0.861807527384239, 0.08340072845653926, 0.01853349521256428, 0.0463337380314107, 0.9817897764472604, 0.017454898629363735, 0.23938146691698836, 0.7430799702214846, 0.006572899551675676, 0.992507832303027, 0.9924244063630846, 0.9643843869839945, 0.026327311652217474, 0.7524068540607415, 0.1427217421146526, 0.07759628697495675, 0.9710425071754388, 0.027744071633583965, 0.622630145573184, 0.3595938808657961, 0.00998871891293878, 0.006659145941959187, 0.16641648301622655, 0.617661177348687, 0.00960095094324384, 0.20482028678920192, 0.9956706242318473, 0.9863313646384102, 0.024975088895362492, 0.9740284669191371, 0.989454599269998, 0.2645067651032901, 0.1939716277424127, 0.17633784340219336, 0.3653720115293447, 0.9887034080760569, 0.9738248988231694, 0.03358276912844159, 0.9403175355963646, 0.016791384564220795, 0.9698699210327473, 0.9932929480229278, 0.057567664542492444, 0.21587874203434665, 0.4821291905433742, 0.24226392161632235, 0.9937137898109991, 0.11025013652660946, 0.6463684474795339, 0.22482380781896832, 0.019455906445872258, 0.958743620906705, 0.9888088306269176, 0.9117839295792448, 0.023097059736024297, 0.06489173925835398, 0.9834175724125345, 0.02820282607680092, 0.9729974996496317, 0.9784732399795772, 0.9757983327561245, 0.10013178959176783, 0.15734995507277802, 0.4950960707592965, 0.24794538375104416, 0.08321798695352084, 0.7755916384068142, 0.07988926747538, 0.06158131034560542, 0.9916192160530937, 0.9694982644461063, 0.9962918582165589, 0.10691017853777461, 0.7082799328127568, 0.18709281244110557, 0.9886440595663993, 0.7875693855636839, 0.06511400431825733, 0.08681867242434312, 0.06201333744595936, 0.7283132773039216, 0.2697456582607117, 0.9905988466426771, 0.9871682353474233, 0.9873978211648314, 0.6486238464802425, 0.023500864002907334, 0.326662009640412, 0.25862246905840247, 0.1140981481140011, 0.21108157401090202, 0.416458240616104, 0.9925295219247366, 0.34178060871659544, 0.13181299926612727, 0.22163247664216087, 0.30561952042234813, 0.018935943182981103, 0.11660554486362047, 0.8351747572283243, 0.02890222906876063, 0.9937454133065642, 0.13704427077664272, 0.7151997881156041, 0.09421793615894186, 0.0556742350030111, 0.9870315397695304, 0.9764292716755391, 0.16326960202302898, 0.04232915608004455, 0.7558777871436526, 0.04232915608004455, 0.9750074873546984, 0.9671598328195175, 0.9638442775908882, 0.06632092500666556, 0.09646680000969536, 0.8380553250842285, 0.8639145453677336, 0.006192935809087695, 0.01857880742726309, 0.11147284456357852, 0.9732071679988304, 0.0871056538203878, 0.44186322574342174, 0.4703705306300941, 0.957383266318446, 0.8299124219290175, 0.10089131403842957, 0.07160028738211131, 0.9878299468098029, 0.9562803855894904, 0.9803351501879685, 0.9901793102294174, 0.9815625446783661, 0.9946604152587926, 0.02891055607569978, 0.41284274076099287, 0.43365834113549667, 0.12373718000399506, 0.9625056306692397, 0.025329095543927357, 0.9927149881513858, 0.9893435700311355, 0.005933907560135973, 0.16614941168380723, 0.8010775206183562, 0.02373563024054389, 0.9792163603480512, 0.06976036304013174, 0.920836792129739, 0.5754298852843298, 0.06277416930374508, 0.22494077333841983, 0.13731849535194235, 0.966598755430286, 0.9953039715485298, 0.9713139957385136, 0.016188566595641895, 0.22437299609436884, 0.0628631239057499, 0.43520624242442235, 0.27756487016846493, 0.9961448554384509, 0.9808252533408922, 0.01668070158743014, 0.7207107241485212, 0.08449711938293009, 0.19384633270201607, 0.9443353896978728, 0.048739891081180535, 0.9190849548490707, 0.07953619801578497, 0.7635682527227817, 0.09125571800833246, 0.08194391004829853, 0.06332029412823069, 0.7833544465976244, 0.044340817731941005, 0.1699731346391072, 0.0036950681443284174, 0.9767761234620207, 0.1705665732234001, 0.8218207618945641, 0.007753026055609096, 0.3953499549390028, 0.26395768504829564, 0.2850742998521593, 0.05631097281030307, 0.9385775324791283, 0.05912299417191359, 0.9980067880899003, 0.4888167739254253, 0.18068474811764895, 0.18068474811764895, 0.14841961452521163, 0.9886485296108865, 0.6963935001547983, 0.0056848448992228425, 0.04263633674417132, 0.25581802046502794, 0.9824161238194152, 0.052222582760676595, 0.2881912900496597, 0.4674243518702535, 0.19277224994373213, 0.01718032960303127, 0.9620984577697511, 0.01718032960303127, 0.0271230858681034, 0.0813692576043102, 0.886020805024711, 0.2642389845560632, 0.732662638996357, 0.03138680925166081, 0.3766417110199297, 0.07704034998134926, 0.5164556795046006, 0.9532764203757309, 0.1666866495859628, 0.6268867473559036, 0.2065465005739104], \"Term\": [\"absolutely\", \"absolutely\", \"absolutely\", \"actual\", \"ago\", \"ago\", \"ago\", \"ago\", \"also\", \"also\", \"also\", \"also\", \"always\", \"always\", \"always\", \"amuse\", \"appreciate\", \"around\", \"around\", \"around\", \"around\", \"arrive\", \"arrive\", \"arrive\", \"assemble\", \"attach\", \"attach\", \"attach\", \"attract\", \"attract\", \"away\", \"away\", \"back\", \"back\", \"back\", \"back\", \"beat\", \"bengal\", \"bergan\", \"best_cat_toy\", \"best_cat_toy\", \"bottom\", \"break\", \"bring\", \"bring\", \"bring\", \"bring\", \"buy\", \"buy\", \"buy\", \"buy\", \"carry\", \"carry\", \"cat_catcher\", \"cat_dancer\", \"cat_nip\", \"cat_nip\", \"catnip\", \"catnip_smell\", \"chase\", \"chase\", \"cheaply_made\", \"click\", \"come\", \"come\", \"come\", \"come\", \"come_running\", \"complete\", \"constantly\", \"constantly\", \"constantly\", \"crazy\", \"crinkly\", \"cut\", \"definitely\", \"definitely\", \"definitely\", \"definitely\", \"design\", \"disappear\", \"disappear\", \"donate\", \"double\", \"drag\", \"drive\", \"easy\", \"easy\", \"easy\", \"easy\", \"eat\", \"eat\", \"eat\", \"elastic\", \"energetic\", \"engage\", \"enjoy\", \"enjoy\", \"enjoy\", \"enjoy\", \"enough\", \"enough\", \"enough\", \"enough\", \"entertain\", \"entertain\", \"entertained\", \"even\", \"even\", \"even\", \"even\", \"favorite\", \"favorite\", \"favorite\", \"feel\", \"feel\", \"feel\", \"feel\", \"figure\", \"figure\", \"figured\", \"fill\", \"find\", \"find\", \"find\", \"find\", \"first\", \"first\", \"first\", \"first\", \"fit\", \"fit\", \"fix\", \"fly\", \"fly\", \"forth\", \"fully\", \"fun\", \"fun\", \"fun\", \"generally\", \"get\", \"get\", \"get\", \"get\", \"get_lost\", \"give\", \"give\", \"give\", \"give\", \"go\", \"go\", \"go\", \"go\", \"good\", \"good\", \"good\", \"good\", \"good_idea\", \"good_quality\", \"good_size\", \"great\", \"great\", \"great\", \"great\", \"great_cat_toy\", \"great_price\", \"happy\", \"happy\", \"hard\", \"hard\", \"hard\", \"hard\", \"high_quality\", \"highly\", \"highly\", \"hold\", \"hold\", \"hold\", \"hold\", \"hope\", \"however\", \"however\", \"however\", \"however\", \"indoor_cats\", \"inexpensive\", \"inexpensive\", \"interested\", \"interested\", \"interested\", \"interested\", \"interesting\", \"intrigue\", \"jackson_galaxy\", \"jump\", \"jump\", \"jump\", \"keep\", \"keep\", \"keep\", \"keep\", \"kibble\", \"kitten_loves\", \"know\", \"know\", \"know\", \"know\", \"laser_pointers\", \"last\", \"last\", \"last\", \"last_long\", \"laugh\", \"learn\", \"left\", \"like\", \"like\", \"like\", \"like\", \"like_real_bird\", \"little\", \"little\", \"little\", \"little\", \"little_guy\", \"local\", \"long\", \"long\", \"long\", \"long\", \"look\", \"look\", \"look\", \"look\", \"lose\", \"lose\", \"lose\", \"lose\", \"loud\", \"loud\", \"love\", \"love\", \"love\", \"love\", \"love_da_bird\", \"low\", \"low\", \"make\", \"make\", \"make\", \"make\", \"many\", \"many\", \"many\", \"many\", \"maybe\", \"maybe\", \"maybe\", \"middle\", \"miss\", \"move\", \"move\", \"move\", \"much\", \"much\", \"much\", \"much\", \"much_fun\", \"much_fun\", \"neko_flies\", \"never\", \"never\", \"never\", \"never\", \"new\", \"new\", \"new\", \"new\", \"new_kitten\", \"next\", \"next\", \"next\", \"next\", \"next_day\", \"nice\", \"nice\", \"nice\", \"nuts\", \"nuts\", \"occupy\", \"ok\", \"old\", \"old\", \"old\", \"old\", \"online\", \"online\", \"open\", \"open\", \"open\", \"open\", \"order\", \"order\", \"order\", \"order\", \"overall\", \"package\", \"pant\", \"pant\", \"perfectly\", \"play\", \"play\", \"play\", \"play\", \"play_circuit\", \"plenty\", \"poor\", \"poor\", \"poor\", \"poorly\", \"potent\", \"pretty\", \"pretty\", \"pretty\", \"pretty\", \"previous\", \"purchase\", \"purchase\", \"purchase\", \"purchase\", \"purple\", \"push\", \"put\", \"put\", \"put\", \"random\", \"rather\", \"rather\", \"real_fur\", \"real_mouse\", \"really\", \"really\", \"really\", \"really\", \"recommend\", \"recommend\", \"recommend\", \"recommend\", \"red_dot\", \"red_light\", \"regular\", \"replace\", \"replace\", \"replace\", \"review\", \"right\", \"right\", \"right\", \"right\", \"roll\", \"roll\", \"roll_around\", \"round\", \"rub\", \"run\", \"run\", \"run\", \"say\", \"say\", \"say\", \"say\", \"scratch\", \"see\", \"see\", \"see\", \"see\", \"seem\", \"seem\", \"seem\", \"seem\", \"send\", \"several\", \"several\", \"several\", \"several\", \"several_months\", \"shape\", \"short\", \"short\", \"short\", \"short\", \"shred\", \"shy\", \"siamese\", \"simple\", \"simple\", \"simple\", \"sit\", \"sit\", \"sit\", \"sit\", \"sized\", \"small\", \"small\", \"small\", \"small_enough\", \"sometimes\", \"sometimes\", \"sometimes\", \"sparkly\", \"spin\", \"spoil\", \"spray\", \"springy\", \"step\", \"still\", \"still\", \"still\", \"still\", \"stre\", \"stre\", \"stuck\", \"stuff\", \"sturdy\", \"sturdy\", \"sturdy\", \"sturdy\", \"suggest\", \"swallow\", \"swallow\", \"take\", \"take\", \"take\", \"take\", \"tape\", \"tear\", \"thin\", \"thin\", \"think\", \"think\", \"think\", \"think\", \"tired\", \"together\", \"together\", \"top\", \"top\", \"top\", \"toss\", \"toss\", \"treat\", \"treat\", \"try\", \"try\", \"try\", \"try\", \"turn\", \"turn\", \"turn\", \"turn\", \"undercover_mouse\", \"unfortunately\", \"unfortunately\", \"unfortunately\", \"use\", \"use\", \"use\", \"use\", \"wait\", \"wait\", \"walk\", \"want\", \"want\", \"want\", \"want\", \"warm\", \"watch\", \"watch\", \"watch\", \"watch\", \"weird\", \"well\", \"well\", \"well\", \"well\", \"went_crazy\", \"went_crazy\", \"went_crazy\", \"wild\", \"wild\", \"wild\", \"work\", \"work\", \"worth\", \"worth\", \"worth\", \"worth\", \"yeowww_catnip_toys\", \"young\", \"young\", \"young\"]}, \"R\": 30, \"lambda.step\": 0.01, \"plot.opts\": {\"xlab\": \"PC1\", \"ylab\": \"PC2\"}, \"topic.order\": [4, 1, 3, 2]};\n",
       "\n",
       "function LDAvis_load_lib(url, callback){\n",
       "  var s = document.createElement('script');\n",
       "  s.src = url;\n",
       "  s.async = true;\n",
       "  s.onreadystatechange = s.onload = callback;\n",
       "  s.onerror = function(){console.warn(\"failed to load library \" + url);};\n",
       "  document.getElementsByTagName(\"head\")[0].appendChild(s);\n",
       "}\n",
       "\n",
       "if(typeof(LDAvis) !== \"undefined\"){\n",
       "   // already loaded: just create the visualization\n",
       "   !function(LDAvis){\n",
       "       new LDAvis(\"#\" + \"ldavis_el2993617973402416969109759624\", ldavis_el2993617973402416969109759624_data);\n",
       "   }(LDAvis);\n",
       "}else if(typeof define === \"function\" && define.amd){\n",
       "   // require.js is available: use it to load d3/LDAvis\n",
       "   require.config({paths: {d3: \"https://d3js.org/d3.v5\"}});\n",
       "   require([\"d3\"], function(d3){\n",
       "      window.d3 = d3;\n",
       "      LDAvis_load_lib(\"https://cdn.jsdelivr.net/gh/bmabey/pyLDAvis@3.3.1/pyLDAvis/js/ldavis.v3.0.0.js\", function(){\n",
       "        new LDAvis(\"#\" + \"ldavis_el2993617973402416969109759624\", ldavis_el2993617973402416969109759624_data);\n",
       "      });\n",
       "    });\n",
       "}else{\n",
       "    // require.js not available: dynamically load d3 & LDAvis\n",
       "    LDAvis_load_lib(\"https://d3js.org/d3.v5.js\", function(){\n",
       "         LDAvis_load_lib(\"https://cdn.jsdelivr.net/gh/bmabey/pyLDAvis@3.3.1/pyLDAvis/js/ldavis.v3.0.0.js\", function(){\n",
       "                 new LDAvis(\"#\" + \"ldavis_el2993617973402416969109759624\", ldavis_el2993617973402416969109759624_data);\n",
       "            })\n",
       "         });\n",
       "}\n",
       "</script>"
      ],
      "text/plain": [
       "<IPython.core.display.HTML object>"
      ]
     },
     "execution_count": 119,
     "metadata": {},
     "output_type": "execute_result"
    }
   ],
   "source": [
    "pyLDAvis.enable_notebook()\n",
    "topic_data =  pyLDAvis.gensim_models.prepare(cats_toys_optimal_model, \n",
    "                                             cats_toys_doc_term_matrix, \n",
    "                                             cats_toys_dictionary, \n",
    "                                             mds = 'tsne')\n",
    "pyLDAvis.display(topic_data)"
   ]
  },
  {
   "cell_type": "markdown",
   "id": "4dcd4ed2",
   "metadata": {},
   "source": [
    "## 4. cats beds (2/4)"
   ]
  },
  {
   "cell_type": "code",
   "execution_count": 135,
   "id": "571af1ab",
   "metadata": {},
   "outputs": [
    {
     "data": {
      "application/vnd.jupyter.widget-view+json": {
       "model_id": "1497b5ebd9f1449d87bb442aedb25316",
       "version_major": 2,
       "version_minor": 0
      },
      "text/plain": [
       "  0%|          | 0/5840 [00:00<?, ?it/s]"
      ]
     },
     "metadata": {},
     "output_type": "display_data"
    },
    {
     "data": {
      "application/vnd.jupyter.widget-view+json": {
       "model_id": "5a02e9cf540444ad88eed3979e0cc7de",
       "version_major": 2,
       "version_minor": 0
      },
      "text/plain": [
       "  0%|          | 0/5840 [00:00<?, ?it/s]"
      ]
     },
     "metadata": {},
     "output_type": "display_data"
    }
   ],
   "source": [
    "cats_beds_dictionary, cats_beds_doc_term_matrix = vectorize(cats_beds_reviews2)\n",
    "# cats_beds_model_list, cats_beds_coherence_values = compute_coherence_values(dictionary=cats_beds_dictionary, \n",
    "#                                                     corpus=cats_beds_doc_term_matrix, \n",
    "#                                                     texts=cats_beds_reviews2, \n",
    "#                                                     start=2, \n",
    "#                                                     limit=20, \n",
    "#                                                     step=2)\n",
    "\n",
    "# limit=20; start=2; step=2;\n",
    "# x = range(start, limit, step)\n",
    "# plt.plot(x, cats_beds_coherence_values)\n",
    "# plt.xlabel(\"Num Topics\")\n",
    "# plt.ylabel(\"Coherence score\")\n",
    "# plt.legend((\"coherence_values\"), loc='best')\n",
    "# plt.show()"
   ]
  },
  {
   "cell_type": "code",
   "execution_count": 31,
   "id": "8d429f87",
   "metadata": {},
   "outputs": [
    {
     "name": "stdout",
     "output_type": "stream",
     "text": [
      "Num Topics = 2  has Coherence Value of 0.5773\n",
      "Num Topics = 4  has Coherence Value of 0.6171\n",
      "Num Topics = 6  has Coherence Value of 0.6064\n",
      "Num Topics = 8  has Coherence Value of 0.593\n",
      "Num Topics = 10  has Coherence Value of 0.6091\n",
      "Num Topics = 12  has Coherence Value of 0.5758\n",
      "Num Topics = 14  has Coherence Value of 0.5343\n",
      "Num Topics = 16  has Coherence Value of 0.546\n",
      "Num Topics = 18  has Coherence Value of 0.55\n"
     ]
    }
   ],
   "source": [
    "# for m, cv in zip(x, cats_beds_coherence_values):\n",
    "#     print(\"Num Topics =\", m, \" has Coherence Value of\", round(cv, 4))"
   ]
  },
  {
   "cell_type": "code",
   "execution_count": 33,
   "id": "b3a12e7d",
   "metadata": {},
   "outputs": [],
   "source": [
    "# with open ('./cats_beds_model_list.pickle', 'wb') as handle:\n",
    "#     pickle.dump(cats_beds_model_list, handle)"
   ]
  },
  {
   "cell_type": "code",
   "execution_count": 136,
   "id": "d8cd379a",
   "metadata": {},
   "outputs": [],
   "source": [
    "with open ('./cats_beds_model_list.pickle', 'rb') as handle:\n",
    "     cats_beds_model_list = pickle.load(handle)"
   ]
  },
  {
   "cell_type": "code",
   "execution_count": 144,
   "id": "b9f3ffb3",
   "metadata": {},
   "outputs": [
    {
     "data": {
      "text/plain": [
       "[(0,\n",
       "  '0.031*\"well\" + 0.028*\"easy\" + 0.026*\"make\" + 0.022*\"together\" + 0.022*\"put\" + 0.020*\"sturdy\" + 0.017*\"cat_tree\" + 0.016*\"good\" + 0.014*\"large\" + 0.013*\"look\" + 0.012*\"take\" + 0.012*\"love\" + 0.011*\"really\" + 0.011*\"little\" + 0.011*\"buy\" + 0.011*\"even\" + 0.010*\"assemble\" + 0.010*\"recommend\" + 0.009*\"top\" + 0.009*\"hold\" + 0.009*\"nice\" + 0.009*\"enough\" + 0.009*\"get\" + 0.008*\"great\" + 0.008*\"big\" + 0.008*\"also\" + 0.007*\"fit\" + 0.007*\"high\" + 0.007*\"seem\" + 0.007*\"go\"'),\n",
       " (1,\n",
       "  '0.033*\"get\" + 0.023*\"warm\" + 0.019*\"love\" + 0.018*\"soft\" + 0.017*\"keep\" + 0.016*\"buy\" + 0.015*\"nice\" + 0.014*\"great\" + 0.014*\"put\" + 0.014*\"well\" + 0.012*\"really\" + 0.011*\"small\" + 0.011*\"sleep\" + 0.010*\"comfortable\" + 0.010*\"fit\" + 0.009*\"cold\" + 0.009*\"also\" + 0.009*\"make\" + 0.008*\"seem\" + 0.008*\"good\" + 0.008*\"take\" + 0.008*\"come\" + 0.007*\"little\" + 0.007*\"go\" + 0.007*\"perfect\" + 0.007*\"feel\" + 0.007*\"wash\" + 0.007*\"large\" + 0.007*\"enough\" + 0.007*\"purchase\"'),\n",
       " (2,\n",
       "  '0.029*\"scratch\" + 0.023*\"look\" + 0.017*\"try\" + 0.016*\"use\" + 0.015*\"think\" + 0.013*\"seem\" + 0.013*\"also\" + 0.012*\"like\" + 0.012*\"new\" + 0.012*\"get\" + 0.011*\"buy\" + 0.011*\"even\" + 0.011*\"much\" + 0.010*\"still\" + 0.009*\"love\" + 0.009*\"really\" + 0.009*\"know\" + 0.009*\"sit\" + 0.009*\"see\" + 0.009*\"give\" + 0.009*\"away\" + 0.008*\"however\" + 0.008*\"go\" + 0.008*\"take\" + 0.008*\"right\" + 0.008*\"scratching_post\" + 0.008*\"nice\" + 0.007*\"little\" + 0.007*\"prefer\" + 0.006*\"want\"'),\n",
       " (3,\n",
       "  '0.017*\"apply\" + 0.015*\"well\" + 0.015*\"come\" + 0.014*\"make\" + 0.013*\"use\" + 0.013*\"try\" + 0.012*\"get\" + 0.012*\"seem\" + 0.010*\"work\" + 0.010*\"protect\" + 0.010*\"go\" + 0.009*\"want\" + 0.008*\"back\" + 0.008*\"pet\" + 0.007*\"pull\" + 0.007*\"scratch\" + 0.007*\"easy\" + 0.007*\"cut\" + 0.006*\"good\" + 0.006*\"give\" + 0.006*\"long\" + 0.006*\"put\" + 0.006*\"however\" + 0.006*\"thick\" + 0.006*\"see\" + 0.006*\"invisible\" + 0.005*\"clear\" + 0.005*\"easily\" + 0.005*\"trim\" + 0.005*\"cover\"'),\n",
       " (4,\n",
       "  '0.049*\"get\" + 0.042*\"use\" + 0.036*\"love\" + 0.024*\"play\" + 0.019*\"buy\" + 0.019*\"go\" + 0.015*\"good\" + 0.015*\"scratch\" + 0.015*\"old\" + 0.014*\"much\" + 0.014*\"still\" + 0.012*\"put\" + 0.012*\"great\" + 0.012*\"even\" + 0.012*\"first\" + 0.011*\"little\" + 0.010*\"really\" + 0.010*\"well\" + 0.010*\"keep\" + 0.009*\"take\" + 0.008*\"last\" + 0.008*\"make\" + 0.008*\"happy\" + 0.007*\"purchase\" + 0.007*\"sleep\" + 0.007*\"never\" + 0.007*\"think\" + 0.007*\"recommend\" + 0.007*\"find\" + 0.006*\"come\"'),\n",
       " (5,\n",
       "  '0.021*\"small\" + 0.019*\"get\" + 0.013*\"big\" + 0.012*\"want\" + 0.012*\"go\" + 0.012*\"take\" + 0.011*\"also\" + 0.011*\"put\" + 0.010*\"use\" + 0.010*\"see\" + 0.010*\"set\" + 0.008*\"first\" + 0.008*\"come\" + 0.008*\"top\" + 0.007*\"attach\" + 0.007*\"look\" + 0.007*\"back\" + 0.007*\"make\" + 0.006*\"open\" + 0.006*\"little\" + 0.006*\"say\" + 0.006*\"much\" + 0.006*\"together\" + 0.006*\"think\" + 0.006*\"really\" + 0.006*\"easily\" + 0.006*\"hold\" + 0.006*\"able\" + 0.005*\"easy\" + 0.005*\"however\"')]"
      ]
     },
     "execution_count": 144,
     "metadata": {},
     "output_type": "execute_result"
    }
   ],
   "source": [
    "cats_beds_optimal_model = cats_beds_model_list[2]\n",
    "model_topics = cats_beds_optimal_model.show_topics(formatted=False)\n",
    "keywords_dict = get_keywords(cats_beds_doc_term_matrix, model = cats_beds_optimal_model)\n",
    "\n",
    "cats_beds_optimal_model.print_topics(num_topics=6, num_words=30)"
   ]
  },
  {
   "cell_type": "markdown",
   "id": "f8f5effe",
   "metadata": {},
   "source": [
    "### num_topics 6 (**check**) v.s. 4"
   ]
  },
  {
   "cell_type": "code",
   "execution_count": 145,
   "id": "6dbb0b3f",
   "metadata": {},
   "outputs": [
    {
     "data": {
      "text/plain": [
       "['play', 'old']"
      ]
     },
     "execution_count": 145,
     "metadata": {},
     "output_type": "execute_result"
    }
   ],
   "source": [
    "[w for w in keywords_dict[0] if w not in  keywords_dict[1]\\\n",
    "                                and w not in  keywords_dict[2]\\\n",
    "                                and w not in  keywords_dict[3]\\\n",
    "                                and w not in  keywords_dict[4]\\\n",
    "                                and w not in  keywords_dict[5]]"
   ]
  },
  {
   "cell_type": "code",
   "execution_count": 146,
   "id": "db56f7c6",
   "metadata": {},
   "outputs": [
    {
     "data": {
      "text/plain": [
       "['think', 'like', 'new', 'know', 'sit']"
      ]
     },
     "execution_count": 146,
     "metadata": {},
     "output_type": "execute_result"
    }
   ],
   "source": [
    "[w for w in keywords_dict[1] if w not in  keywords_dict[0]\\\n",
    "                                and w not in  keywords_dict[2]\\\n",
    "                                and w not in  keywords_dict[3]\\\n",
    "                                and w not in  keywords_dict[4]\\\n",
    "                                and w not in  keywords_dict[5]] "
   ]
  },
  {
   "cell_type": "code",
   "execution_count": 147,
   "id": "0df418d2",
   "metadata": {},
   "outputs": [
    {
     "data": {
      "text/plain": [
       "['together', 'sturdy', 'cat_tree', 'large', 'assemble', 'recommend', 'hold']"
      ]
     },
     "execution_count": 147,
     "metadata": {},
     "output_type": "execute_result"
    }
   ],
   "source": [
    "[w for w in keywords_dict[2] if w not in  keywords_dict[1]\\\n",
    "                                and w not in  keywords_dict[0]\\\n",
    "                                and w not in  keywords_dict[3]\\\n",
    "                                and w not in  keywords_dict[4]\\\n",
    "                                and w not in  keywords_dict[5]] #sturdy/assemble/hold"
   ]
  },
  {
   "cell_type": "code",
   "execution_count": 148,
   "id": "5970ed48",
   "metadata": {},
   "outputs": [
    {
     "data": {
      "text/plain": [
       "['big', 'set', 'attach', 'open']"
      ]
     },
     "execution_count": 148,
     "metadata": {},
     "output_type": "execute_result"
    }
   ],
   "source": [
    "[w for w in keywords_dict[3] if w not in  keywords_dict[1]\\\n",
    "                                and w not in  keywords_dict[2]\\\n",
    "                                and w not in  keywords_dict[0]\\\n",
    "                                and w not in  keywords_dict[4]\\\n",
    "                                and w not in  keywords_dict[5]]"
   ]
  },
  {
   "cell_type": "code",
   "execution_count": 149,
   "id": "a7fa50bf",
   "metadata": {},
   "outputs": [
    {
     "data": {
      "text/plain": [
       "['warm', 'soft', 'nice', 'sleep', 'comfortable', 'fit', 'cold']"
      ]
     },
     "execution_count": 149,
     "metadata": {},
     "output_type": "execute_result"
    }
   ],
   "source": [
    "[w for w in keywords_dict[4] if w not in  keywords_dict[1]\\\n",
    "                                and w not in  keywords_dict[2]\\\n",
    "                                and w not in  keywords_dict[0]\\\n",
    "                                and w not in  keywords_dict[3]\\\n",
    "                                and w not in  keywords_dict[5]] #warm/soft/comfortable"
   ]
  },
  {
   "cell_type": "code",
   "execution_count": 150,
   "id": "c732db90",
   "metadata": {},
   "outputs": [
    {
     "data": {
      "text/plain": [
       "['apply', 'work', 'protect', 'pet', 'pull', 'cut']"
      ]
     },
     "execution_count": 150,
     "metadata": {},
     "output_type": "execute_result"
    }
   ],
   "source": [
    "[w for w in keywords_dict[5] if w not in  keywords_dict[1]\\\n",
    "                                and w not in  keywords_dict[2]\\\n",
    "                                and w not in  keywords_dict[0]\\\n",
    "                                and w not in  keywords_dict[4]\\\n",
    "                                and w not in  keywords_dict[3]] "
   ]
  },
  {
   "cell_type": "code",
   "execution_count": 152,
   "id": "f4f40b30",
   "metadata": {},
   "outputs": [
    {
     "data": {
      "text/plain": [
       "[(0,\n",
       "  '0.022*\"well\" + 0.021*\"easy\" + 0.020*\"make\" + 0.020*\"put\" + 0.019*\"together\" + 0.015*\"sturdy\" + 0.014*\"cat_tree\" + 0.012*\"take\" + 0.012*\"small\" + 0.012*\"large\" + 0.012*\"top\" + 0.011*\"look\" + 0.011*\"get\" + 0.011*\"little\" + 0.011*\"big\" + 0.011*\"good\" + 0.010*\"love\" + 0.010*\"really\" + 0.009*\"even\" + 0.009*\"assemble\" + 0.009*\"also\" + 0.008*\"hold\" + 0.008*\"great\" + 0.007*\"high\" + 0.007*\"use\" + 0.007*\"recommend\" + 0.007*\"go\" + 0.007*\"fit\" + 0.007*\"nice\" + 0.006*\"buy\"'),\n",
       " (1,\n",
       "  '0.034*\"get\" + 0.021*\"love\" + 0.020*\"warm\" + 0.018*\"buy\" + 0.015*\"soft\" + 0.015*\"keep\" + 0.015*\"great\" + 0.014*\"small\" + 0.013*\"put\" + 0.013*\"nice\" + 0.013*\"sleep\" + 0.012*\"well\" + 0.011*\"really\" + 0.010*\"fit\" + 0.009*\"make\" + 0.008*\"also\" + 0.008*\"comfortable\" + 0.008*\"use\" + 0.008*\"cold\" + 0.008*\"little\" + 0.007*\"go\" + 0.007*\"perfect\" + 0.007*\"seem\" + 0.007*\"take\" + 0.007*\"purchase\" + 0.007*\"good\" + 0.007*\"feel\" + 0.006*\"lay\" + 0.006*\"much\" + 0.006*\"come\"'),\n",
       " (2,\n",
       "  '0.033*\"use\" + 0.030*\"get\" + 0.023*\"love\" + 0.022*\"scratch\" + 0.019*\"buy\" + 0.014*\"much\" + 0.014*\"go\" + 0.014*\"still\" + 0.013*\"play\" + 0.013*\"good\" + 0.011*\"even\" + 0.011*\"look\" + 0.011*\"try\" + 0.010*\"think\" + 0.010*\"really\" + 0.010*\"seem\" + 0.010*\"old\" + 0.009*\"well\" + 0.009*\"also\" + 0.009*\"like\" + 0.008*\"little\" + 0.008*\"new\" + 0.007*\"great\" + 0.007*\"sit\" + 0.007*\"take\" + 0.007*\"last\" + 0.007*\"want\" + 0.007*\"first\" + 0.007*\"give\" + 0.006*\"long\"'),\n",
       " (3,\n",
       "  '0.018*\"get\" + 0.016*\"go\" + 0.015*\"come\" + 0.013*\"back\" + 0.011*\"put\" + 0.010*\"take\" + 0.009*\"make\" + 0.009*\"think\" + 0.009*\"see\" + 0.009*\"try\" + 0.009*\"seem\" + 0.008*\"want\" + 0.007*\"use\" + 0.007*\"little\" + 0.007*\"open\" + 0.006*\"well\" + 0.006*\"pull\" + 0.006*\"work\" + 0.006*\"give\" + 0.006*\"however\" + 0.005*\"easily\" + 0.005*\"first\" + 0.005*\"keep\" + 0.005*\"much\" + 0.005*\"also\" + 0.005*\"leave\" + 0.005*\"set\" + 0.005*\"jump\" + 0.005*\"find\" + 0.005*\"easy\"')]"
      ]
     },
     "execution_count": 152,
     "metadata": {},
     "output_type": "execute_result"
    }
   ],
   "source": [
    "cats_beds_optimal_model = cats_beds_model_list[1]\n",
    "model_topics = cats_beds_optimal_model.show_topics(formatted=False)\n",
    "keywords_dict = get_keywords(cats_beds_doc_term_matrix, model = cats_beds_optimal_model)\n",
    "\n",
    "cats_beds_optimal_model.print_topics(num_topics=4, num_words=30)"
   ]
  },
  {
   "cell_type": "code",
   "execution_count": 153,
   "id": "0609fe1a",
   "metadata": {},
   "outputs": [
    {
     "data": {
      "text/plain": [
       "['scratch', 'much', 'still', 'play', 'old', 'like']"
      ]
     },
     "execution_count": 153,
     "metadata": {},
     "output_type": "execute_result"
    }
   ],
   "source": [
    "[w for w in keywords_dict[1] if w not in  keywords_dict[0]\\\n",
    "                                and w not in  keywords_dict[2]\\\n",
    "                                and w not in  keywords_dict[3]] "
   ]
  },
  {
   "cell_type": "code",
   "execution_count": 154,
   "id": "a75f1b29",
   "metadata": {},
   "outputs": [
    {
     "data": {
      "text/plain": [
       "['easy', 'together', 'sturdy', 'cat_tree', 'large', 'top', 'big', 'assemble']"
      ]
     },
     "execution_count": 154,
     "metadata": {},
     "output_type": "execute_result"
    }
   ],
   "source": [
    "[w for w in keywords_dict[0] if w not in  keywords_dict[1]\\\n",
    "                                and w not in  keywords_dict[2]\\\n",
    "                                and w not in  keywords_dict[3]] #sturdy, assemble"
   ]
  },
  {
   "cell_type": "code",
   "execution_count": 155,
   "id": "21a37b48",
   "metadata": {},
   "outputs": [
    {
     "data": {
      "text/plain": [
       "['warm',\n",
       " 'soft',\n",
       " 'keep',\n",
       " 'great',\n",
       " 'nice',\n",
       " 'sleep',\n",
       " 'fit',\n",
       " 'comfortable',\n",
       " 'cold']"
      ]
     },
     "execution_count": 155,
     "metadata": {},
     "output_type": "execute_result"
    }
   ],
   "source": [
    "[w for w in keywords_dict[2] if w not in  keywords_dict[1]\\\n",
    "                                and w not in  keywords_dict[0]\\\n",
    "                                and w not in  keywords_dict[3]] #warm/soft/comofortable"
   ]
  },
  {
   "cell_type": "code",
   "execution_count": 156,
   "id": "162a69e4",
   "metadata": {},
   "outputs": [
    {
     "data": {
      "text/plain": [
       "['come', 'back', 'see', 'want', 'open', 'pull', 'work', 'give', 'however']"
      ]
     },
     "execution_count": 156,
     "metadata": {},
     "output_type": "execute_result"
    }
   ],
   "source": [
    "[w for w in keywords_dict[3] if w not in  keywords_dict[1]\\\n",
    "                                and w not in  keywords_dict[2]\\\n",
    "                                and w not in  keywords_dict[0]]  "
   ]
  },
  {
   "cell_type": "code",
   "execution_count": 157,
   "id": "007b350e",
   "metadata": {},
   "outputs": [
    {
     "name": "stderr",
     "output_type": "stream",
     "text": [
      "C:\\Users\\JiatingChen\\anaconda3\\lib\\site-packages\\pyLDAvis\\_prepare.py:246: FutureWarning: In a future version of pandas all arguments of DataFrame.drop except for the argument 'labels' will be keyword-only\n",
      "  default_term_info = default_term_info.sort_values(\n",
      "C:\\Users\\JiatingChen\\anaconda3\\lib\\site-packages\\sklearn\\manifold\\_t_sne.py:691: FutureWarning: 'square_distances' has been introduced in 0.24 to help phase out legacy squaring behavior. The 'legacy' setting will be removed in 1.1 (renaming of 0.26), and the default setting will be changed to True. In 1.3, 'square_distances' will be removed altogether, and distances will be squared by default. Set 'square_distances'=True to silence this warning.\n",
      "  warnings.warn(\n"
     ]
    },
    {
     "data": {
      "text/html": [
       "\n",
       "<link rel=\"stylesheet\" type=\"text/css\" href=\"https://cdn.jsdelivr.net/gh/bmabey/pyLDAvis@3.3.1/pyLDAvis/js/ldavis.v1.0.0.css\">\n",
       "\n",
       "\n",
       "<div id=\"ldavis_el2993617954848815209392689973\"></div>\n",
       "<script type=\"text/javascript\">\n",
       "\n",
       "var ldavis_el2993617954848815209392689973_data = {\"mdsDat\": {\"x\": [269.5624084472656, 1.782994270324707, 220.81143188476562, 50.533992767333984], \"y\": [-124.80339813232422, -295.0796813964844, -343.8321228027344, -76.05093383789062], \"topics\": [1, 2, 3, 4], \"cluster\": [1, 1, 1, 1], \"Freq\": [31.35779783583996, 30.667629546106074, 20.04500535716583, 17.92956726088813]}, \"tinfo\": {\"Term\": [\"scratch\", \"warm\", \"together\", \"sturdy\", \"cat_tree\", \"soft\", \"easy\", \"love\", \"assemble\", \"back\", \"get\", \"buy\", \"fit\", \"play\", \"use\", \"sleep\", \"cold\", \"comfortable\", \"keep\", \"small\", \"nice\", \"come\", \"lay\", \"try\", \"catnip\", \"heavy\", \"open\", \"jump\", \"large\", \"pull\", \"catnip\", \"occasionally\", \"cat_nip\", \"scratcher\", \"cardboard\", \"flip\", \"scratch_pad\", \"sprinkle\", \"feline\", \"cardboard_scratchers\", \"corrugated_cardboard\", \"scratching_pad\", \"cardboard_scratcher\", \"dig\", \"ball_around\", \"anymore\", \"upstairs\", \"spray\", \"catit\", \"playful\", \"scratch_pads\", \"appeal\", \"great_deal\", \"typical\", \"cardboard_box\", \"scratch\", \"donate\", \"worn\", \"catnip_spray\", \"lose\", \"popular\", \"rescue\", \"rub\", \"play\", \"local\", \"use\", \"unfortunately\", \"prefer\", \"continue\", \"crazy\", \"ignore\", \"ever\", \"wear\", \"still\", \"scratching_post\", \"interested\", \"like\", \"shred\", \"try\", \"sit\", \"buy\", \"love\", \"old\", \"last\", \"much\", \"never\", \"get\", \"new\", \"enjoy\", \"good\", \"go\", \"think\", \"even\", \"look\", \"seem\", \"really\", \"lay\", \"also\", \"first\", \"want\", \"long\", \"little\", \"well\", \"give\", \"great\", \"take\", \"sturdy\", \"cat_tree\", \"assemble\", \"heavy\", \"stable\", \"climb\", \"cat_trees\", \"wobble\", \"wobbly\", \"tighten\", \"flimsy\", \"screw\", \"upper\", \"sisal_rope\", \"fully\", \"knock\", \"pet_stores\", \"tight\", \"condo\", \"top_perch\", \"faux_fur\", \"affordable\", \"dangle\", \"tip\", \"package\", \"elastic\", \"nice_looking\", \"tie\", \"unstable\", \"molly\", \"support\", \"together\", \"tall\", \"easy\", \"high\", \"pleased\", \"construct\", \"build\", \"top\", \"hang\", \"large\", \"hold\", \"make\", \"big\", \"well\", \"put\", \"bottom\", \"small\", \"take\", \"look\", \"fit\", \"little\", \"good\", \"recommend\", \"even\", \"really\", \"also\", \"enough\", \"nice\", \"love\", \"great\", \"get\", \"use\", \"go\", \"buy\", \"warm\", \"cold\", \"hot\", \"wash\", \"pet_bed\", \"heat\", \"curl\", \"washable\", \"heating_pad\", \"plug\", \"cozy\", \"kitty_tube\", \"heated\", \"snuggle\", \"feral_cat\", \"medium\", \"wet\", \"removable\", \"take_turns\", \"brown\", \"stay_warm\", \"dog\", \"memory_foam\", \"dog_beds\", \"heated_bed\", \"comfy\", \"thermal\", \"feral_cats\", \"every_night\", \"pet_beds\", \"dirty\", \"comfortable\", \"soft\", \"dry\", \"sleep\", \"inside\", \"outdoor\", \"keep\", \"great_product\", \"perfect\", \"nice\", \"fit\", \"get\", \"great\", \"stay\", \"love\", \"small\", \"buy\", \"clean\", \"feel\", \"lay\", \"put\", \"really\", \"well\", \"purchase\", \"also\", \"make\", \"little\", \"seem\", \"hard\", \"take\", \"use\", \"go\", \"good\", \"much\", \"come\", \"apply\", \"hear\", \"window_sill\", \"trim\", \"interesting\", \"first_day\", \"sill\", \"green\", \"decent\", \"sound\", \"whole_thing\", \"near\", \"emery_cat\", \"peel\", \"sharp\", \"instal\", \"adorable\", \"adhere\", \"weird\", \"bend\", \"carefully\", \"send\", \"nervous\", \"settle\", \"entirely\", \"loud\", \"certain\", \"window_sills\", \"noticeable\", \"promptly\", \"grab\", \"plastic\", \"roll\", \"pull\", \"wooden\", \"cut\", \"back\", \"protect\", \"basically\", \"stick\", \"open\", \"remove\", \"sticky\", \"wait\", \"let\", \"receive\", \"come\", \"return\", \"rip\", \"set\", \"go\", \"able\", \"work\", \"easily\", \"see\", \"try\", \"get\", \"however\", \"think\", \"want\", \"jump\", \"leave\", \"take\", \"seem\", \"put\", \"make\", \"give\", \"little\", \"first\", \"use\", \"attach\", \"well\", \"keep\", \"find\", \"much\", \"also\", \"easy\"], \"Freq\": [947.0, 529.0, 844.0, 626.0, 554.0, 483.0, 1064.0, 1926.0, 372.0, 447.0, 3057.0, 1555.0, 545.0, 688.0, 2047.0, 507.0, 211.0, 238.0, 825.0, 1037.0, 755.0, 968.0, 395.0, 760.0, 208.0, 196.0, 235.0, 281.0, 763.0, 175.0, 208.096773928874, 83.66735135725715, 108.43210769230342, 61.776445124874364, 59.36012936696546, 52.32654267125075, 52.26008541293487, 51.22576386410692, 48.018267134142974, 43.78206509854233, 42.3840189279528, 40.15789753721621, 39.130936376307595, 36.77442923587787, 33.65975841468008, 51.71863292921617, 32.22137100244819, 31.10177583727692, 30.035544699106282, 29.503223468915227, 27.92775308273489, 26.38778745887434, 27.184106127447336, 27.644596773224304, 26.320703474458398, 919.9697070450197, 23.931312647142857, 23.593050595074494, 22.869245107947048, 62.23330901845213, 39.107203376316875, 27.318514584201335, 92.20832606548382, 541.0864756762666, 47.83331491783862, 1363.2398434956615, 92.33628507341741, 168.3117152627505, 64.25177516136817, 89.33265408462248, 99.82649760395871, 199.12705055141885, 114.52529430404597, 571.1055870340282, 203.9876078162534, 116.35316769575711, 370.23180711665975, 83.57752061624825, 448.3768367475192, 307.99852724825877, 797.6557036864959, 946.3756889941633, 400.957982115496, 292.2189632511529, 594.4549723514089, 260.286559135081, 1271.5944146348706, 344.4618015504814, 215.49639781707612, 528.4925653041179, 590.0363298622459, 418.19588430568575, 476.8537937984119, 452.48252428736737, 405.62179596832965, 410.06881117396046, 213.04915385488042, 374.93297190172035, 280.57318744321896, 284.8955375966979, 266.95053289869867, 344.7878934561881, 382.5955098180694, 274.33670889662966, 311.87468728522845, 306.61079047909817, 626.0436985990978, 554.148899742701, 372.18820360324054, 195.7272862827825, 144.83850050100634, 185.86899888938058, 116.55940548988838, 89.83324309074197, 81.9163827899846, 73.20084808184396, 74.95636191144152, 72.25410065949451, 62.079611524564434, 80.03570725584851, 61.5380455431165, 57.571671031262284, 50.884728075615826, 57.34052432249339, 48.43162613671626, 41.437912993087664, 41.273860978335485, 39.28994675631642, 37.90450380594366, 38.29616035154607, 37.33052606504278, 37.29608307680348, 36.06100569786336, 32.89930425150418, 32.45369541848871, 30.31331718726556, 38.63670595433013, 793.0218991651919, 207.19358466029973, 872.0666233495659, 299.21861626406223, 77.98589094431651, 75.23848177207016, 127.51661854088992, 475.53157460345085, 192.86898864874433, 483.15082543926724, 341.3421485587026, 832.3687630902377, 442.2480070039854, 893.6910992633616, 806.537880814695, 147.49977606988642, 492.578083708498, 497.95907721835687, 451.1161190660149, 273.19784854473477, 442.53586657075186, 432.18189283370566, 281.606232951904, 384.9785495562465, 391.55724108396413, 367.09320710650076, 246.53858603169806, 269.97785439576637, 409.7785654049166, 306.2276147012715, 448.88854291505555, 297.8182039890312, 277.7030997386379, 260.91573266401866, 528.5624235591027, 210.9775212437133, 134.30671560720435, 134.0229859177734, 95.8618644339266, 95.12040943794503, 90.69542505318292, 81.15161048359411, 79.84267126376913, 77.70846871391066, 77.72580429979512, 53.33636789783665, 51.52259418079796, 50.45990910134127, 47.585751571263, 47.966354949424435, 46.180165373164265, 52.413525902720856, 38.998596122317714, 56.641526851173595, 36.86158298392012, 37.791055483490105, 36.31420456140525, 34.89946298760115, 33.552644487763146, 93.98501241432628, 30.833740141839236, 28.978285862608644, 28.695289100133778, 27.924492180928222, 33.3943012090271, 222.84152168388366, 405.58731770468074, 93.8973779531139, 337.2340528828357, 139.05050458411665, 89.20637213952874, 393.93564247693394, 84.40729065615157, 194.07010134900042, 343.2541658300283, 263.06907481913487, 898.0414363814455, 391.239763217672, 147.39338727997318, 567.27125266147, 372.49974021551964, 469.0806059933417, 145.3662976568712, 177.20430922089363, 172.9002888401085, 355.1062903690123, 293.4537916092154, 331.11736749231403, 181.19385424756567, 225.2737708437978, 237.63159013748208, 203.66145679080694, 193.13396728874932, 133.69662223998316, 192.58401119939745, 217.60616232428873, 199.7758631669877, 178.15587201469438, 170.71806715213728, 166.44882974553803, 107.2094037338295, 62.17521661938681, 59.83502563248366, 44.04582560174368, 40.05324210399055, 40.561512230129686, 40.04790025499499, 37.506535734936335, 37.34159677187859, 34.2676612962408, 33.727595640406854, 33.22248951115068, 30.851894708721606, 30.866089637669752, 32.39027499475384, 29.096540350227205, 29.55421986071006, 27.903549630867488, 28.09286442592522, 27.258708176586158, 27.091741366535828, 76.3536838945479, 25.622680113179136, 26.330290376562672, 24.569188599674202, 23.15138048458713, 23.27498053665821, 21.508449407787516, 20.977074326359492, 20.40556593065, 21.697304464931175, 49.32008340137502, 75.06535103206525, 149.89156056837945, 32.05844700207836, 72.71055954681543, 302.1633801579376, 70.17675084020863, 46.65270902477121, 83.58600852724545, 161.151611564999, 93.64452962415568, 41.99564451350712, 61.22590643959444, 104.07415227645544, 83.9234756012839, 368.2137012652642, 69.39942986411398, 74.56787294094832, 116.45458595860956, 373.07811174258455, 104.97507191568485, 149.75561148369798, 129.2839794091784, 208.4043355140249, 204.68989762109538, 439.22365832238523, 136.66422020168625, 221.17386025447817, 185.55268887111473, 115.77248489924378, 117.5844911913915, 234.7892360878853, 203.34196272426607, 253.61812320306902, 222.40092435905862, 146.95517145416383, 166.7779591599962, 128.1327067804142, 169.01052425117197, 100.50468599838813, 151.1449811281184, 118.9060696330623, 112.23041955642981, 118.5818252325646, 117.65328242827445, 108.89588351926318], \"Total\": [947.0, 529.0, 844.0, 626.0, 554.0, 483.0, 1064.0, 1926.0, 372.0, 447.0, 3057.0, 1555.0, 545.0, 688.0, 2047.0, 507.0, 211.0, 238.0, 825.0, 1037.0, 755.0, 968.0, 395.0, 760.0, 208.0, 196.0, 235.0, 281.0, 763.0, 175.0, 208.96468975593334, 84.40702024014679, 109.5699989911824, 62.487065917821006, 60.08567336788279, 53.04837506463932, 52.9819540656448, 51.9662212957424, 48.75488859860069, 44.49321674229091, 43.09788160604465, 40.883522321914775, 39.84189893634566, 37.523513905460845, 34.415752174306405, 52.88465887319166, 32.96646157773514, 31.82989006968831, 30.742069448763807, 30.22687970327466, 28.658845874420226, 27.116876275843868, 27.938841440885408, 28.420546775188072, 27.065814207404006, 947.2029786432652, 24.648242913272302, 24.30155863863561, 23.576762379248727, 64.17817824573638, 40.45557220026813, 28.255773696308996, 101.26687752466327, 688.8600824994169, 51.63626250675268, 2047.6747340601535, 107.4679355730195, 209.42687841262097, 71.98240230180751, 105.35588579147681, 119.96915775309519, 264.71072943100165, 140.32882212133302, 902.3983394744682, 273.5213040944203, 144.73252208592143, 573.7840870853029, 99.18610242027994, 760.4345779462384, 481.2909718730184, 1555.4388824356188, 1926.0404985728242, 674.4139550770661, 462.77600740518653, 1124.7711312485433, 403.0581750731077, 3057.7480522537567, 584.6750104907901, 348.4364110528179, 1207.9670510498054, 1440.593404510456, 905.5259491027819, 1105.7580655555385, 1083.8209033324324, 1004.6210904104029, 1149.0476247933968, 395.21271043831695, 1084.9532322802934, 660.1910030590168, 680.5070099471285, 617.2645159219798, 1157.763175977743, 1758.5489577018634, 674.3340764804298, 1050.9471130524348, 1231.9431149847378, 626.7795388388979, 554.8736618151262, 372.91467966981224, 196.48678930157882, 145.59189607541816, 186.9662439289338, 117.29176701211661, 90.56069348562603, 82.63798622137352, 73.92358276547333, 75.70566916328524, 72.98882571691358, 62.814644545327255, 81.0538700188517, 62.3312898670889, 58.31381698920638, 51.61275580847916, 58.173887707758425, 49.177900541589906, 42.15957224961802, 41.99978223648347, 40.02267627903785, 38.63289144485864, 39.049529637467444, 38.07398627581921, 38.06566550487066, 36.8233288806753, 33.633368424144585, 33.184754161643916, 31.029910578600465, 39.58916985048487, 844.9539366248003, 229.26592656699086, 1064.7254646866886, 346.1036890995036, 83.74353233986065, 82.96791276873348, 152.63549196122173, 707.9984860778459, 250.43038076909176, 763.1254194522197, 511.80958155823726, 1546.0446177946717, 731.832522421839, 1758.5489577018634, 1641.9551491231186, 202.30572521038755, 1037.2921372147334, 1231.9431149847378, 1083.8209033324324, 545.6142500614177, 1157.763175977743, 1207.9670510498054, 616.147116047592, 1105.7580655555385, 1149.0476247933968, 1084.9532322802934, 534.5517485990414, 755.8636830953853, 1926.0404985728242, 1050.9471130524348, 3057.7480522537567, 2047.6747340601535, 1440.593404510456, 1555.4388824356188, 529.2796476306482, 211.69030512508778, 135.02483760242555, 134.74757583036842, 96.57773047400022, 95.83556291988076, 91.44185714366473, 81.87085076287228, 80.56257821776818, 78.42289449842298, 78.45643193628585, 54.0509238120565, 52.23790605418866, 51.19584389447138, 48.31673001893595, 48.70319708691479, 46.932686072483946, 53.31083599870876, 39.738475582517125, 57.729701430201914, 37.57312380003075, 38.5377411632626, 37.03866907849238, 35.62547325574363, 34.26585741367256, 96.00572234335753, 31.546355502151872, 29.698967789573317, 29.431510443045763, 28.643279688048267, 34.25493570699798, 238.92622417103118, 483.8149079536405, 104.67234708387423, 507.8085787173868, 191.0302546266642, 115.45010278013297, 825.5089995956455, 113.0340997895077, 349.2509798241271, 755.8636830953853, 545.6142500614177, 3057.7480522537567, 1050.9471130524348, 250.92954952292206, 1926.0404985728242, 1037.2921372147334, 1555.4388824356188, 270.34404374738443, 384.36355290471647, 395.21271043831695, 1641.9551491231186, 1149.0476247933968, 1758.5489577018634, 545.8403277283587, 1084.9532322802934, 1546.0446177946717, 1157.763175977743, 1004.6210904104029, 307.65652304499656, 1231.9431149847378, 2047.6747340601535, 1440.593404510456, 1207.9670510498054, 1124.7711312485433, 968.8941965868021, 107.9474432820524, 62.941577400523364, 60.581165663485756, 44.79910293898121, 40.81123710070555, 41.338128907504505, 40.826676770298896, 38.27204430351606, 38.14112303463521, 35.02717025885652, 34.48568944235462, 33.9874273727672, 31.589122924856362, 31.608969393215716, 33.19030701756966, 29.844070557270935, 30.32829662849796, 28.646592494656087, 28.861401095327867, 28.007471940525686, 27.849242969090287, 78.49734727959404, 26.384089887520236, 27.119250949486357, 25.33735240490678, 23.899764272318684, 24.034120753937906, 22.243665201513586, 21.722748001802, 21.15601643236243, 22.505535011392197, 51.82199773135195, 83.05269928087259, 175.99859419242102, 34.0966140838271, 85.57436708537904, 447.38266207704305, 84.5441751768934, 52.87745374910477, 106.67488748930987, 235.69925868151154, 129.16239740765357, 47.702105647185604, 78.67966822523175, 157.92968456448492, 124.32257766432059, 968.8941965868021, 97.13721914921396, 114.03189640601792, 224.01519870847966, 1440.593404510456, 217.50333838577197, 398.76311772426743, 321.7768927999642, 752.0484994120967, 760.4345779462384, 3057.7480522537567, 370.3069320598931, 905.5259491027819, 680.5070099471285, 281.70476353604005, 291.1228813254428, 1231.9431149847378, 1004.6210904104029, 1641.9551491231186, 1546.0446177946717, 674.3340764804298, 1157.763175977743, 660.1910030590168, 2047.6747340601535, 257.1028347684363, 1758.5489577018634, 825.5089995956455, 642.7911258730915, 1124.7711312485433, 1084.9532322802934, 1064.7254646866886], \"Category\": [\"Default\", \"Default\", \"Default\", \"Default\", \"Default\", \"Default\", \"Default\", \"Default\", \"Default\", \"Default\", \"Default\", \"Default\", \"Default\", \"Default\", \"Default\", \"Default\", \"Default\", \"Default\", \"Default\", \"Default\", \"Default\", \"Default\", \"Default\", \"Default\", \"Default\", \"Default\", \"Default\", \"Default\", \"Default\", \"Default\", \"Topic1\", \"Topic1\", \"Topic1\", \"Topic1\", \"Topic1\", \"Topic1\", \"Topic1\", \"Topic1\", \"Topic1\", \"Topic1\", \"Topic1\", \"Topic1\", \"Topic1\", \"Topic1\", \"Topic1\", \"Topic1\", \"Topic1\", \"Topic1\", \"Topic1\", \"Topic1\", \"Topic1\", \"Topic1\", \"Topic1\", \"Topic1\", \"Topic1\", \"Topic1\", \"Topic1\", \"Topic1\", \"Topic1\", \"Topic1\", \"Topic1\", \"Topic1\", \"Topic1\", \"Topic1\", \"Topic1\", \"Topic1\", \"Topic1\", \"Topic1\", \"Topic1\", \"Topic1\", \"Topic1\", \"Topic1\", \"Topic1\", \"Topic1\", \"Topic1\", \"Topic1\", \"Topic1\", \"Topic1\", \"Topic1\", \"Topic1\", \"Topic1\", \"Topic1\", \"Topic1\", \"Topic1\", \"Topic1\", \"Topic1\", \"Topic1\", \"Topic1\", \"Topic1\", \"Topic1\", \"Topic1\", \"Topic1\", \"Topic1\", \"Topic1\", \"Topic1\", \"Topic1\", \"Topic1\", \"Topic1\", \"Topic1\", \"Topic1\", \"Topic1\", \"Topic1\", \"Topic1\", \"Topic1\", \"Topic1\", \"Topic1\", \"Topic2\", \"Topic2\", \"Topic2\", \"Topic2\", \"Topic2\", \"Topic2\", \"Topic2\", \"Topic2\", \"Topic2\", \"Topic2\", \"Topic2\", \"Topic2\", \"Topic2\", \"Topic2\", \"Topic2\", \"Topic2\", \"Topic2\", \"Topic2\", \"Topic2\", \"Topic2\", \"Topic2\", \"Topic2\", \"Topic2\", \"Topic2\", \"Topic2\", \"Topic2\", \"Topic2\", \"Topic2\", \"Topic2\", \"Topic2\", \"Topic2\", \"Topic2\", \"Topic2\", \"Topic2\", \"Topic2\", \"Topic2\", \"Topic2\", \"Topic2\", \"Topic2\", \"Topic2\", \"Topic2\", \"Topic2\", \"Topic2\", \"Topic2\", \"Topic2\", \"Topic2\", \"Topic2\", \"Topic2\", \"Topic2\", \"Topic2\", \"Topic2\", \"Topic2\", \"Topic2\", \"Topic2\", \"Topic2\", \"Topic2\", \"Topic2\", \"Topic2\", \"Topic2\", \"Topic2\", \"Topic2\", \"Topic2\", \"Topic2\", \"Topic2\", \"Topic2\", \"Topic3\", \"Topic3\", \"Topic3\", \"Topic3\", \"Topic3\", \"Topic3\", \"Topic3\", \"Topic3\", \"Topic3\", \"Topic3\", \"Topic3\", \"Topic3\", \"Topic3\", \"Topic3\", \"Topic3\", \"Topic3\", \"Topic3\", \"Topic3\", \"Topic3\", \"Topic3\", \"Topic3\", \"Topic3\", \"Topic3\", \"Topic3\", \"Topic3\", \"Topic3\", \"Topic3\", \"Topic3\", \"Topic3\", \"Topic3\", \"Topic3\", \"Topic3\", \"Topic3\", \"Topic3\", \"Topic3\", \"Topic3\", \"Topic3\", \"Topic3\", \"Topic3\", \"Topic3\", \"Topic3\", \"Topic3\", \"Topic3\", \"Topic3\", \"Topic3\", \"Topic3\", \"Topic3\", \"Topic3\", \"Topic3\", \"Topic3\", \"Topic3\", \"Topic3\", \"Topic3\", \"Topic3\", \"Topic3\", \"Topic3\", \"Topic3\", \"Topic3\", \"Topic3\", \"Topic3\", \"Topic3\", \"Topic3\", \"Topic3\", \"Topic3\", \"Topic3\", \"Topic3\", \"Topic4\", \"Topic4\", \"Topic4\", \"Topic4\", \"Topic4\", \"Topic4\", \"Topic4\", \"Topic4\", \"Topic4\", \"Topic4\", \"Topic4\", \"Topic4\", \"Topic4\", \"Topic4\", \"Topic4\", \"Topic4\", \"Topic4\", \"Topic4\", \"Topic4\", \"Topic4\", \"Topic4\", \"Topic4\", \"Topic4\", \"Topic4\", \"Topic4\", \"Topic4\", \"Topic4\", \"Topic4\", \"Topic4\", \"Topic4\", \"Topic4\", \"Topic4\", \"Topic4\", \"Topic4\", \"Topic4\", \"Topic4\", \"Topic4\", \"Topic4\", \"Topic4\", \"Topic4\", \"Topic4\", \"Topic4\", \"Topic4\", \"Topic4\", \"Topic4\", \"Topic4\", \"Topic4\", \"Topic4\", \"Topic4\", \"Topic4\", \"Topic4\", \"Topic4\", \"Topic4\", \"Topic4\", \"Topic4\", \"Topic4\", \"Topic4\", \"Topic4\", \"Topic4\", \"Topic4\", \"Topic4\", \"Topic4\", \"Topic4\", \"Topic4\", \"Topic4\", \"Topic4\", \"Topic4\", \"Topic4\", \"Topic4\", \"Topic4\", \"Topic4\", \"Topic4\", \"Topic4\", \"Topic4\", \"Topic4\", \"Topic4\", \"Topic4\"], \"logprob\": [30.0, 29.0, 28.0, 27.0, 26.0, 25.0, 24.0, 23.0, 22.0, 21.0, 20.0, 19.0, 18.0, 17.0, 16.0, 15.0, 14.0, 13.0, 12.0, 11.0, 10.0, 9.0, 8.0, 7.0, 6.0, 5.0, 4.0, 3.0, 2.0, 1.0, -5.301, -6.2122, -5.9529, -6.5155, -6.5554, -6.6815, -6.6828, -6.7028, -6.7675, -6.8598, -6.8923, -6.9462, -6.9721, -7.0342, -7.1227, -6.6932, -7.1664, -7.2018, -7.2367, -7.2545, -7.3094, -7.3661, -7.3364, -7.3196, -7.3687, -3.8147, -7.4639, -7.4781, -7.5093, -6.5082, -6.9727, -7.3315, -6.115, -4.3455, -6.7713, -3.4214, -6.1136, -5.5132, -6.4762, -6.1467, -6.0356, -5.3451, -5.8982, -4.2915, -5.321, -5.8824, -4.7249, -6.2133, -4.5334, -4.9089, -3.9574, -3.7864, -4.6452, -4.9615, -4.2514, -5.0773, -3.491, -4.7971, -5.2661, -4.369, -4.2589, -4.6031, -4.4718, -4.5243, -4.6336, -4.6227, -5.2775, -4.7123, -5.0022, -4.9869, -5.052, -4.7961, -4.6921, -5.0247, -4.8964, -4.9135, -4.1774, -4.2994, -4.6974, -5.3401, -5.6412, -5.3917, -5.8584, -6.1188, -6.2111, -6.3236, -6.2999, -6.3366, -6.4884, -6.2343, -6.4971, -6.5638, -6.6872, -6.5678, -6.7366, -6.8926, -6.8966, -6.9458, -6.9817, -6.9714, -6.997, -6.9979, -7.0316, -7.1233, -7.137, -7.2052, -6.9626, -3.9409, -5.2831, -3.8459, -4.9156, -6.2603, -6.2961, -5.7685, -4.4524, -5.3548, -4.4365, -4.7839, -3.8925, -4.5249, -3.8214, -3.924, -5.623, -4.4171, -4.4063, -4.5051, -5.0066, -4.5243, -4.5479, -4.9763, -4.6636, -4.6467, -4.7112, -5.1093, -5.0184, -4.6012, -4.8925, -4.51, -4.9203, -4.9902, -5.0526, -3.9214, -4.8398, -5.2914, -5.2935, -5.6287, -5.6364, -5.6841, -5.7952, -5.8115, -5.8386, -5.8384, -6.2149, -6.2495, -6.2704, -6.329, -6.3211, -6.359, -6.2324, -6.528, -6.1548, -6.5844, -6.5595, -6.5994, -6.6391, -6.6784, -5.6484, -6.763, -6.825, -6.8348, -6.8621, -6.6832, -4.7851, -4.1862, -5.6494, -4.3708, -5.2567, -5.7006, -4.2154, -5.7559, -4.9233, -4.3531, -4.6191, -3.3913, -4.2222, -5.1985, -3.8507, -4.2713, -4.0408, -5.2123, -5.0143, -5.0388, -4.3191, -4.5098, -4.3891, -4.992, -4.7742, -4.7208, -4.8751, -4.9282, -5.296, -4.931, -4.8089, -4.8944, -5.0089, -5.0515, -5.0769, -5.4052, -5.9501, -5.9884, -6.2948, -6.3898, -6.3772, -6.39, -6.4555, -6.4599, -6.5458, -6.5617, -6.5768, -6.6508, -6.6504, -6.6022, -6.7094, -6.6938, -6.7513, -6.7445, -6.7747, -6.7808, -5.7447, -6.8366, -6.8093, -6.8785, -6.938, -6.9327, -7.0116, -7.0366, -7.0642, -7.0028, -6.1817, -5.7617, -5.0701, -6.6125, -5.7935, -4.3691, -5.829, -6.2373, -5.6542, -4.9977, -5.5405, -6.3425, -5.9655, -5.4349, -5.6501, -4.1714, -5.8402, -5.7683, -5.3225, -4.1582, -5.4263, -5.071, -5.218, -4.7406, -4.7585, -3.995, -5.1625, -4.6811, -4.8567, -5.3284, -5.3129, -4.6213, -4.7651, -4.5442, -4.6756, -5.0899, -4.9634, -5.227, -4.9501, -5.4698, -5.0618, -5.3017, -5.3595, -5.3044, -5.3123, -5.3896], \"loglift\": [30.0, 29.0, 28.0, 27.0, 26.0, 25.0, 24.0, 23.0, 22.0, 21.0, 20.0, 19.0, 18.0, 17.0, 16.0, 15.0, 14.0, 13.0, 12.0, 11.0, 10.0, 9.0, 8.0, 7.0, 6.0, 5.0, 4.0, 3.0, 2.0, 1.0, 1.1555, 1.1509, 1.1493, 1.1483, 1.1476, 1.146, 1.146, 1.1454, 1.1445, 1.1436, 1.143, 1.1418, 1.1417, 1.1395, 1.1375, 1.1374, 1.1368, 1.1366, 1.1365, 1.1355, 1.1339, 1.1325, 1.1323, 1.132, 1.1318, 1.1305, 1.1302, 1.1301, 1.1292, 1.1289, 1.1258, 1.126, 1.066, 0.9182, 1.0832, 0.7529, 1.008, 0.9412, 1.0461, 0.9947, 0.9759, 0.875, 0.9565, 0.7022, 0.8664, 0.9414, 0.7216, 0.9885, 0.6315, 0.7133, 0.4919, 0.4491, 0.6397, 0.7, 0.522, 0.7224, 0.2823, 0.6306, 0.6792, 0.333, 0.2671, 0.3871, 0.3186, 0.2862, 0.2528, 0.1293, 0.5418, 0.0972, 0.304, 0.289, 0.3215, -0.0516, -0.3656, 0.2603, -0.0551, -0.2311, 1.1808, 1.1807, 1.18, 1.1781, 1.1768, 1.1761, 1.1757, 1.1739, 1.1732, 1.1721, 1.172, 1.1718, 1.1702, 1.1693, 1.1692, 1.1692, 1.1678, 1.1675, 1.1667, 1.1647, 1.1645, 1.1635, 1.1629, 1.1625, 1.1622, 1.1615, 1.161, 1.1599, 1.1597, 1.1586, 1.1576, 1.1185, 1.0807, 0.9824, 1.0364, 1.1107, 1.0842, 1.0022, 0.784, 0.9208, 0.7249, 0.7769, 0.5628, 0.6783, 0.5051, 0.4711, 0.866, 0.4372, 0.2761, 0.3054, 0.4902, 0.2202, 0.1541, 0.399, 0.1269, 0.1054, 0.0983, 0.4081, 0.1524, -0.3656, -0.0512, -0.7367, -0.746, -0.4643, -0.6034, 1.6058, 1.6038, 1.6019, 1.6018, 1.5998, 1.5997, 1.599, 1.5984, 1.5982, 1.598, 1.5978, 1.5939, 1.5934, 1.5927, 1.5919, 1.5919, 1.591, 1.5902, 1.5884, 1.5882, 1.5881, 1.5876, 1.5874, 1.5866, 1.5862, 1.5859, 1.5843, 1.5826, 1.5819, 1.5818, 1.5817, 1.5375, 1.4308, 1.4986, 1.1979, 1.2896, 1.3493, 0.8674, 1.3152, 1.0196, 0.8178, 0.8777, 0.382, 0.6191, 1.0751, 0.3848, 0.5831, 0.4085, 0.9868, 0.8329, 0.7805, 0.076, 0.2422, -0.0626, 0.5044, 0.0352, -0.2655, -0.1306, -0.0418, 0.7738, -0.2486, -0.6346, -0.3684, -0.3068, -0.2781, -0.1543, 1.7119, 1.7065, 1.7063, 1.7018, 1.7, 1.6998, 1.6995, 1.6985, 1.6975, 1.6968, 1.6965, 1.696, 1.6951, 1.6949, 1.6943, 1.6934, 1.6929, 1.6924, 1.6917, 1.6916, 1.6911, 1.691, 1.6894, 1.6892, 1.6879, 1.6869, 1.6866, 1.6851, 1.6838, 1.6826, 1.6821, 1.6692, 1.6176, 1.5582, 1.6571, 1.5558, 1.3263, 1.5325, 1.5935, 1.4748, 1.3385, 1.3972, 1.5913, 1.4679, 1.3017, 1.3257, 0.7512, 1.3825, 1.294, 1.0645, 0.3677, 0.9902, 0.7394, 0.8069, 0.4354, 0.4063, -0.2217, 0.7219, 0.3092, 0.4192, 0.8295, 0.8121, 0.0611, 0.1212, -0.1491, -0.2203, 0.1951, -0.2189, 0.0793, -0.7758, 0.7794, -0.7353, -0.2189, -0.0265, -0.531, -0.5028, -0.5614]}, \"token.table\": {\"Topic\": [1, 2, 3, 4, 4, 4, 2, 1, 2, 3, 4, 1, 2, 1, 4, 2, 1, 2, 4, 1, 2, 3, 4, 1, 1, 3, 4, 4, 1, 2, 3, 4, 1, 2, 3, 4, 2, 3, 2, 3, 1, 2, 3, 4, 1, 1, 1, 1, 4, 1, 4, 2, 2, 1, 1, 1, 4, 2, 3, 4, 1, 2, 3, 1, 2, 3, 4, 2, 3, 3, 4, 2, 2, 3, 1, 3, 4, 1, 3, 1, 2, 4, 3, 1, 2, 4, 2, 4, 1, 3, 3, 3, 1, 2, 3, 4, 1, 2, 3, 4, 1, 2, 3, 4, 2, 4, 1, 2, 3, 4, 1, 2, 3, 4, 4, 1, 2, 3, 4, 1, 2, 3, 3, 2, 1, 2, 3, 4, 1, 3, 3, 1, 2, 3, 4, 1, 2, 3, 4, 4, 1, 2, 3, 4, 2, 1, 2, 1, 2, 3, 4, 1, 2, 3, 4, 1, 2, 3, 4, 1, 2, 3, 4, 4, 1, 2, 3, 4, 1, 1, 2, 3, 4, 1, 2, 3, 4, 1, 2, 3, 4, 4, 3, 3, 3, 3, 2, 1, 2, 3, 4, 1, 2, 3, 4, 3, 1, 2, 3, 4, 1, 4, 2, 3, 4, 4, 1, 4, 4, 2, 4, 1, 2, 3, 4, 3, 2, 1, 2, 3, 4, 1, 2, 3, 4, 1, 2, 3, 4, 1, 2, 3, 4, 1, 2, 3, 4, 1, 2, 3, 4, 1, 2, 3, 4, 1, 2, 4, 1, 2, 3, 4, 1, 2, 3, 4, 1, 4, 4, 1, 2, 3, 4, 1, 2, 3, 4, 3, 3, 2, 1, 2, 3, 4, 4, 4, 1, 2, 3, 4, 1, 2, 3, 4, 1, 2, 3, 4, 2, 4, 1, 1, 2, 3, 4, 2, 3, 4, 3, 4, 2, 4, 1, 2, 3, 4, 3, 3, 2, 2, 4, 1, 2, 4, 1, 1, 2, 3, 3, 1, 3, 1, 2, 3, 4, 1, 3, 4, 1, 2, 3, 4, 1, 2, 3, 4, 1, 2, 3, 4, 1, 2, 3, 4, 2, 3, 4, 1, 2, 3, 4, 3, 1, 2, 3, 4, 1, 2, 3, 4, 1, 2, 4, 1, 4, 1, 4, 1, 4, 1, 1, 1, 1, 1, 2, 2, 1, 2, 3, 4, 1, 2, 3, 4, 2, 4, 1, 2, 3, 4, 4, 4, 1, 4, 4, 1, 2, 1, 2, 3, 4, 1, 2, 3, 4, 1, 2, 3, 4, 3, 2, 3, 4, 1, 1, 2, 1, 2, 3, 4, 3, 1, 2, 3, 4, 1, 4, 1, 2, 3, 4, 2, 2, 1, 2, 3, 4, 3, 1, 2, 3, 1, 2, 3, 4, 2, 2, 2, 2, 2, 3, 4, 1, 2, 3, 4, 2, 4, 1, 2, 3, 4, 1, 1, 2, 3, 2, 2, 1, 1, 2, 3, 4, 2, 3, 4, 1, 2, 3, 4, 3, 3, 3, 1, 2, 4, 4, 1, 2, 3, 4, 3, 4, 4, 4, 2, 2, 2, 4, 1, 2, 3, 4, 1], \"Freq\": [0.018390522323411203, 0.44137253576186886, 0.05517156697023361, 0.48275121098954404, 0.9774286420007299, 0.9891752368252203, 0.9744475788698447, 0.34563701811537645, 0.33826342839558177, 0.20738221086922587, 0.1087604483669718, 0.9832719186992788, 0.018909075359601513, 0.9588125024253329, 0.9912231058629443, 0.9975472146319847, 0.003889494259760557, 0.6028716102628864, 0.3928389202358163, 0.09387936449081088, 0.015646560748468482, 0.21458140455042488, 0.6750373351482116, 0.9879197126885173, 0.018911651925314774, 0.09455825962657387, 0.8888476404897943, 0.9640284584533345, 0.20223206193437057, 0.6039633201012959, 0.17080410636348867, 0.02322935846543446, 0.014829041525543355, 0.7266230347516244, 0.10874630452065126, 0.14829041525543354, 0.017322105869697766, 0.9873600345727725, 0.8385991904983634, 0.1637889043942116, 0.513038480014357, 0.16779829985431977, 0.3015226154470344, 0.01800135017594235, 0.9819312440548746, 0.9606213875837348, 0.9788690057747815, 0.9889147879518878, 0.969505707209605, 0.9856712694566261, 0.009126585828302093, 0.9984254761484476, 0.9975124680994322, 0.975861434767735, 0.9953834795866227, 0.9755368285954152, 0.9569728069303942, 0.2922202350195641, 0.5363535959219847, 0.1701535545683538, 0.005348559071337507, 0.9948319872687763, 0.9967390801166833, 0.20435667867297563, 0.2435766473071831, 0.171329336665222, 0.37981443308916685, 0.06696627821208391, 0.9333425025809194, 0.9791083042301978, 0.02083209157936591, 0.9760481734962688, 0.9039639240902273, 0.08436996624842122, 0.8891061975350735, 0.013892284336485523, 0.09724599035539867, 0.9745258568372264, 0.9941823515928366, 0.8447558418914648, 0.037966554691751225, 0.11389966407525368, 0.9951678896572438, 0.10517168056902534, 0.04674296914178904, 0.8530591868376499, 0.9836178080079256, 0.9700815564974588, 0.986048377377987, 0.9633648208324732, 0.9860463756558928, 0.9824430892116559, 0.9737002383677725, 0.019107243275985727, 0.8980404339713292, 0.08598259474193577, 0.06215486707565791, 0.357390485685033, 0.18024911451940795, 0.40089889263799355, 0.005635255471010633, 0.8189904617868786, 0.07325832112313822, 0.10237380772335983, 0.9720045481738838, 0.9813504500818919, 0.6170422871432031, 0.20376745296356938, 0.11479856504989824, 0.06026924665119658, 0.13843374414907433, 0.4620693892543427, 0.28247966711500305, 0.11785575515394166, 0.986685570002908, 0.43137826877197843, 0.3481774286733998, 0.12841868797824096, 0.09224440967451111, 0.7517640120887902, 0.20777397319036917, 0.04155479463807383, 0.9853384880167534, 0.9761955376136451, 0.11187325040327036, 0.2237465008065407, 0.4605015191018338, 0.20553457632228742, 0.9845166583229081, 0.9934447132740187, 0.9764649130392098, 0.3033644867687541, 0.33603450842077376, 0.18513012269477813, 0.17424011547743826, 0.42563439776970186, 0.2317511133763857, 0.14995660277295544, 0.19388328439331615, 0.9918204109271351, 0.016495170349724014, 0.5003535006082951, 0.4820255335530461, 0.0018327967055248903, 0.9906787804521849, 0.9802373764820905, 0.9946850150575206, 0.41599241607314713, 0.14684009026481373, 0.29368018052962747, 0.14356970963530785, 0.4063267889858031, 0.20612928346360085, 0.16905567132985969, 0.21799283934639802, 0.4095534507882149, 0.19297603274427755, 0.1388316782332932, 0.25892107990509183, 0.4370980148350339, 0.3576256485013914, 0.14735501257696218, 0.05712076330230557, 0.9775373031062671, 0.2968750721373678, 0.2911659361347261, 0.3720453628388167, 0.039963952018491816, 0.9663965507348663, 0.1857846440950672, 0.06192821469835574, 0.7431385763802688, 0.9928918272209706, 0.0958350178053241, 0.7706732681844812, 0.003993125741888504, 0.12778002374043212, 0.04550529227021271, 0.4192987644898171, 0.43555065458632164, 0.10076171859832814, 0.9850404543481376, 0.9912812854182398, 0.9954457199348329, 0.9922413319339126, 0.9930168791737589, 0.9975225341952548, 0.023114460353816188, 0.8639029557238801, 0.060675458428767495, 0.052007535796086427, 0.044938588156116614, 0.6662634157059029, 0.14067731944523462, 0.14849272608108097, 0.9924100067763596, 0.4374749322105541, 0.18363145302665235, 0.010801850178038374, 0.3699633685978143, 0.8335475706665116, 0.16670951413330234, 0.041878183200009994, 0.7276334331001736, 0.23033000760005495, 0.9717173112946788, 0.8014784675080547, 0.19346031974332356, 0.9801222124508565, 0.5857195949719559, 0.41177862434392054, 0.3198026915870253, 0.058145943924913686, 0.47728128971699985, 0.1441534859805152, 0.9805567835304586, 0.9946184797118586, 0.15069606786594572, 0.632923485036972, 0.20311209147149206, 0.013104005901386585, 0.6309748027717813, 0.1166871210605349, 0.16638719114187386, 0.08643490448928512, 0.5389502775954977, 0.022772546940654836, 0.43773895785925404, 0.0025302829934060926, 0.18892365914212067, 0.06526453679455077, 0.3400625864558172, 0.40532712325036796, 0.18362602369511408, 0.04432352296088961, 0.11397477332800185, 0.6585209125617885, 0.6448418635649495, 0.034856316949456734, 0.23353732356136012, 0.08714079237364183, 0.29798840311935465, 0.38263438429528723, 0.17620183836622708, 0.14424366179980355, 0.9295792853660323, 0.01936623511179234, 0.05809870533537702, 0.4325536186074042, 0.20250637575253005, 0.19764622273446933, 0.168485304626105, 0.4170430729009121, 0.4161204112352021, 0.08673019657673836, 0.08027156491676847, 0.9660604537979218, 0.015581620222547127, 0.9623525879976643, 0.49116308857522784, 0.2128719517080797, 0.2943863332158078, 0.0015575996466444858, 0.1642902132813695, 0.538147470275982, 0.15394122346836983, 0.1435922336553702, 0.9855615826275249, 0.9719571705913289, 0.9668091025917833, 0.5281074375910013, 0.21426581222126484, 0.15203092900347007, 0.1057993014702511, 0.9709472752398322, 0.9854423673828555, 0.645068171493707, 0.1786342628751804, 0.08435506857994629, 0.09179816286641214, 0.5883610447301967, 0.06841407496862753, 0.17616624304421588, 0.16761448367313744, 0.17331167369165507, 0.35720726638738065, 0.4537855272995243, 0.01587587850610581, 0.9776411067195129, 0.9667285187978039, 0.9951778864010508, 0.594590306118706, 0.05782798488436293, 0.2357602460670181, 0.11269043208234827, 0.0848538943731893, 0.2291055148076111, 0.6830738497041738, 0.7708958056927379, 0.2252055162697886, 0.9717921242068289, 0.980734285080917, 0.18324930693745967, 0.26055760830170044, 0.5554744616541746, 0.0028632704208978073, 0.9940179742145033, 0.977541688834024, 0.9881278223012752, 0.03859364917516512, 0.9455444047915454, 0.7853554208527651, 0.18726589517561312, 0.026130124908225087, 0.9924941077113534, 0.03582366203308629, 0.9314152128602435, 0.02388244135539086, 0.9946075122433605, 0.9640204767575014, 0.024718473763012856, 0.802189295248912, 0.11459847074984457, 0.0811739167811399, 0.9453575565107772, 0.04731254390536927, 0.11828135976342317, 0.8279695183439623, 0.039773044961636625, 0.028409317829740446, 0.07954608992327325, 0.8522795348922134, 0.2693095261241958, 0.3370949170534151, 0.3315988042753703, 0.06228927815117453, 0.13824981767694974, 0.4914872372920637, 0.2162056620058025, 0.15469362859006713, 0.35681723816601557, 0.3411520911245808, 0.2549937823966892, 0.04699544112430449, 0.2332641467449458, 0.08847950393773807, 0.6756616664336361, 0.2596782421483271, 0.4576829017864265, 0.2531862860946189, 0.030836791255113842, 0.9754114529597602, 0.007742191381318729, 0.17032821038901202, 0.10064848795714347, 0.7277659898439605, 0.9555569169754132, 0.15442072700226545, 0.12353658160181236, 0.710335344210421, 0.07892528567581582, 0.26308428558605274, 0.6577107139651318, 0.08428383496997469, 0.9030410889640145, 0.9084905375658853, 0.08887407432709747, 0.9712807294142702, 0.028504977928462277, 0.9814662542565312, 0.9770107324870229, 0.992205332244891, 0.9783892807728756, 0.7458285586762874, 0.25226554190521483, 0.9864523684659795, 0.34306298091371484, 0.252643280517852, 0.126321640258926, 0.27657790709322744, 0.4041324673306857, 0.20206623366534285, 0.19211223200695157, 0.20206623366534285, 0.02547856799385009, 0.9681855837663034, 0.04463982826903374, 0.36158260897917327, 0.07588770805735735, 0.5178220079207914, 0.9587285448417757, 0.964136908497425, 0.8468928403302706, 0.15123086434469118, 0.9797515537463413, 0.012337473827806342, 0.9869979062245074, 0.6399455173683609, 0.1745305956459166, 0.16621961490087298, 0.020777451862609122, 0.14966269414344938, 0.15360118609459278, 0.6636358937676637, 0.03347718158471894, 0.13978704243275591, 0.47527594427137004, 0.3586260674826565, 0.02602931134954765, 0.9766417778572741, 0.16121867829561387, 0.8391638895899901, 0.9706750430803983, 0.973927334719933, 0.9814067432333864, 0.9959345534238282, 0.003985182302766822, 0.1235406513857715, 0.5858217985067229, 0.2829479434964444, 0.9847464426146468, 0.11249133026929649, 0.028122832567324122, 0.07499422017953099, 0.7874393118850754, 0.1048171759330921, 0.8804642778379737, 0.6327582565505767, 0.14406054877683883, 0.11635659708898521, 0.10638317448135791, 0.998756279057319, 0.9851179033884779, 0.24919981796708474, 0.4042394441290169, 0.15666307774477967, 0.19075556098457627, 0.9814166101821475, 0.0959584371276892, 0.9028816584287119, 0.982680867775214, 0.46161018401975673, 0.16012793464800174, 0.133624000637298, 0.24405705901523023, 0.9811684510407258, 0.9798210545312778, 0.9875062499553973, 0.9731231170461927, 0.9385126994823738, 0.003550489405355765, 0.05799132695414416, 0.15395513146339584, 0.6723178218034535, 0.13135621308344783, 0.04378540436114928, 0.9724956353268378, 0.9821625236543323, 0.5891368080735446, 0.06312180086502264, 0.07890225108127831, 0.26958269119436756, 0.9852027204643642, 0.8560692964785784, 0.055830606292081204, 0.08374590943812181, 0.964298239008403, 0.9870309773903218, 0.9706834906907975, 0.6656330604311494, 0.14553092590497618, 0.10646222096404298, 0.08253263918772138, 0.06354881906322721, 0.15251716575174531, 0.775295592571372, 0.4188053845648745, 0.2204238866130918, 0.08816955464523672, 0.27332561940023387, 0.9994716448442706, 0.9944520276096875, 0.9893631157517273, 0.8195037787787254, 0.17815299538667942, 0.0071261198154671775, 0.9701538711692236, 0.21779319723945503, 0.5083736771072397, 0.18822336367169612, 0.0858662474756076, 0.9801271533650666, 0.9859162032075222, 0.9904068259974727, 0.9890456361707419, 0.993808644081165, 0.9922797462698999, 0.05865685065041844, 0.938509610406695, 0.1956048504313647, 0.0727248802885843, 0.35610113796479215, 0.3761631739064705, 0.9875909754135614], \"Term\": [\"able\", \"able\", \"able\", \"able\", \"adhere\", \"adorable\", \"affordable\", \"also\", \"also\", \"also\", \"also\", \"anymore\", \"anymore\", \"appeal\", \"apply\", \"assemble\", \"attach\", \"attach\", \"attach\", \"back\", \"back\", \"back\", \"back\", \"ball_around\", \"basically\", \"basically\", \"basically\", \"bend\", \"big\", \"big\", \"big\", \"big\", \"bottom\", \"bottom\", \"bottom\", \"bottom\", \"brown\", \"brown\", \"build\", \"build\", \"buy\", \"buy\", \"buy\", \"buy\", \"cardboard\", \"cardboard_box\", \"cardboard_scratcher\", \"cardboard_scratchers\", \"carefully\", \"cat_nip\", \"cat_nip\", \"cat_tree\", \"cat_trees\", \"catit\", \"catnip\", \"catnip_spray\", \"certain\", \"clean\", \"clean\", \"clean\", \"climb\", \"climb\", \"cold\", \"come\", \"come\", \"come\", \"come\", \"comfortable\", \"comfortable\", \"comfy\", \"comfy\", \"condo\", \"construct\", \"construct\", \"continue\", \"continue\", \"continue\", \"corrugated_cardboard\", \"cozy\", \"crazy\", \"crazy\", \"crazy\", \"curl\", \"cut\", \"cut\", \"cut\", \"dangle\", \"decent\", \"dig\", \"dirty\", \"dog\", \"dog_beds\", \"donate\", \"dry\", \"dry\", \"dry\", \"easily\", \"easily\", \"easily\", \"easily\", \"easy\", \"easy\", \"easy\", \"easy\", \"elastic\", \"emery_cat\", \"enjoy\", \"enjoy\", \"enjoy\", \"enjoy\", \"enough\", \"enough\", \"enough\", \"enough\", \"entirely\", \"even\", \"even\", \"even\", \"even\", \"ever\", \"ever\", \"ever\", \"every_night\", \"faux_fur\", \"feel\", \"feel\", \"feel\", \"feel\", \"feline\", \"feral_cat\", \"feral_cats\", \"find\", \"find\", \"find\", \"find\", \"first\", \"first\", \"first\", \"first\", \"first_day\", \"fit\", \"fit\", \"fit\", \"fit\", \"flimsy\", \"flip\", \"fully\", \"get\", \"get\", \"get\", \"get\", \"give\", \"give\", \"give\", \"give\", \"go\", \"go\", \"go\", \"go\", \"good\", \"good\", \"good\", \"good\", \"grab\", \"great\", \"great\", \"great\", \"great\", \"great_deal\", \"great_product\", \"great_product\", \"great_product\", \"green\", \"hang\", \"hang\", \"hang\", \"hang\", \"hard\", \"hard\", \"hard\", \"hard\", \"hear\", \"heat\", \"heated\", \"heated_bed\", \"heating_pad\", \"heavy\", \"high\", \"high\", \"high\", \"high\", \"hold\", \"hold\", \"hold\", \"hold\", \"hot\", \"however\", \"however\", \"however\", \"however\", \"ignore\", \"ignore\", \"inside\", \"inside\", \"inside\", \"instal\", \"interested\", \"interested\", \"interesting\", \"jump\", \"jump\", \"keep\", \"keep\", \"keep\", \"keep\", \"kitty_tube\", \"knock\", \"large\", \"large\", \"large\", \"large\", \"last\", \"last\", \"last\", \"last\", \"lay\", \"lay\", \"lay\", \"lay\", \"leave\", \"leave\", \"leave\", \"leave\", \"let\", \"let\", \"let\", \"let\", \"like\", \"like\", \"like\", \"like\", \"little\", \"little\", \"little\", \"little\", \"local\", \"local\", \"local\", \"long\", \"long\", \"long\", \"long\", \"look\", \"look\", \"look\", \"look\", \"lose\", \"lose\", \"loud\", \"love\", \"love\", \"love\", \"love\", \"make\", \"make\", \"make\", \"make\", \"medium\", \"memory_foam\", \"molly\", \"much\", \"much\", \"much\", \"much\", \"near\", \"nervous\", \"never\", \"never\", \"never\", \"never\", \"new\", \"new\", \"new\", \"new\", \"nice\", \"nice\", \"nice\", \"nice\", \"nice_looking\", \"noticeable\", \"occasionally\", \"old\", \"old\", \"old\", \"old\", \"open\", \"open\", \"open\", \"outdoor\", \"outdoor\", \"package\", \"peel\", \"perfect\", \"perfect\", \"perfect\", \"perfect\", \"pet_bed\", \"pet_beds\", \"pet_stores\", \"plastic\", \"plastic\", \"play\", \"play\", \"play\", \"playful\", \"pleased\", \"pleased\", \"pleased\", \"plug\", \"popular\", \"popular\", \"prefer\", \"prefer\", \"prefer\", \"promptly\", \"protect\", \"protect\", \"protect\", \"pull\", \"pull\", \"pull\", \"pull\", \"purchase\", \"purchase\", \"purchase\", \"purchase\", \"put\", \"put\", \"put\", \"put\", \"really\", \"really\", \"really\", \"really\", \"receive\", \"receive\", \"receive\", \"recommend\", \"recommend\", \"recommend\", \"recommend\", \"removable\", \"remove\", \"remove\", \"remove\", \"remove\", \"rescue\", \"return\", \"return\", \"return\", \"rip\", \"rip\", \"rip\", \"roll\", \"roll\", \"rub\", \"rub\", \"scratch\", \"scratch\", \"scratch_pad\", \"scratch_pads\", \"scratcher\", \"scratching_pad\", \"scratching_post\", \"scratching_post\", \"screw\", \"see\", \"see\", \"see\", \"see\", \"seem\", \"seem\", \"seem\", \"seem\", \"send\", \"send\", \"set\", \"set\", \"set\", \"set\", \"settle\", \"sharp\", \"shred\", \"shred\", \"sill\", \"sisal_rope\", \"sisal_rope\", \"sit\", \"sit\", \"sit\", \"sit\", \"sleep\", \"sleep\", \"sleep\", \"sleep\", \"small\", \"small\", \"small\", \"small\", \"snuggle\", \"soft\", \"soft\", \"sound\", \"spray\", \"sprinkle\", \"stable\", \"stay\", \"stay\", \"stay\", \"stay\", \"stay_warm\", \"stick\", \"stick\", \"stick\", \"stick\", \"sticky\", \"sticky\", \"still\", \"still\", \"still\", \"still\", \"sturdy\", \"support\", \"take\", \"take\", \"take\", \"take\", \"take_turns\", \"tall\", \"tall\", \"thermal\", \"think\", \"think\", \"think\", \"think\", \"tie\", \"tight\", \"tighten\", \"tip\", \"together\", \"together\", \"together\", \"top\", \"top\", \"top\", \"top\", \"top_perch\", \"trim\", \"try\", \"try\", \"try\", \"try\", \"typical\", \"unfortunately\", \"unfortunately\", \"unfortunately\", \"unstable\", \"upper\", \"upstairs\", \"use\", \"use\", \"use\", \"use\", \"wait\", \"wait\", \"wait\", \"want\", \"want\", \"want\", \"want\", \"warm\", \"wash\", \"washable\", \"wear\", \"wear\", \"wear\", \"weird\", \"well\", \"well\", \"well\", \"well\", \"wet\", \"whole_thing\", \"window_sill\", \"window_sills\", \"wobble\", \"wobbly\", \"wooden\", \"wooden\", \"work\", \"work\", \"work\", \"work\", \"worn\"]}, \"R\": 30, \"lambda.step\": 0.01, \"plot.opts\": {\"xlab\": \"PC1\", \"ylab\": \"PC2\"}, \"topic.order\": [3, 1, 2, 4]};\n",
       "\n",
       "function LDAvis_load_lib(url, callback){\n",
       "  var s = document.createElement('script');\n",
       "  s.src = url;\n",
       "  s.async = true;\n",
       "  s.onreadystatechange = s.onload = callback;\n",
       "  s.onerror = function(){console.warn(\"failed to load library \" + url);};\n",
       "  document.getElementsByTagName(\"head\")[0].appendChild(s);\n",
       "}\n",
       "\n",
       "if(typeof(LDAvis) !== \"undefined\"){\n",
       "   // already loaded: just create the visualization\n",
       "   !function(LDAvis){\n",
       "       new LDAvis(\"#\" + \"ldavis_el2993617954848815209392689973\", ldavis_el2993617954848815209392689973_data);\n",
       "   }(LDAvis);\n",
       "}else if(typeof define === \"function\" && define.amd){\n",
       "   // require.js is available: use it to load d3/LDAvis\n",
       "   require.config({paths: {d3: \"https://d3js.org/d3.v5\"}});\n",
       "   require([\"d3\"], function(d3){\n",
       "      window.d3 = d3;\n",
       "      LDAvis_load_lib(\"https://cdn.jsdelivr.net/gh/bmabey/pyLDAvis@3.3.1/pyLDAvis/js/ldavis.v3.0.0.js\", function(){\n",
       "        new LDAvis(\"#\" + \"ldavis_el2993617954848815209392689973\", ldavis_el2993617954848815209392689973_data);\n",
       "      });\n",
       "    });\n",
       "}else{\n",
       "    // require.js not available: dynamically load d3 & LDAvis\n",
       "    LDAvis_load_lib(\"https://d3js.org/d3.v5.js\", function(){\n",
       "         LDAvis_load_lib(\"https://cdn.jsdelivr.net/gh/bmabey/pyLDAvis@3.3.1/pyLDAvis/js/ldavis.v3.0.0.js\", function(){\n",
       "                 new LDAvis(\"#\" + \"ldavis_el2993617954848815209392689973\", ldavis_el2993617954848815209392689973_data);\n",
       "            })\n",
       "         });\n",
       "}\n",
       "</script>"
      ],
      "text/plain": [
       "<IPython.core.display.HTML object>"
      ]
     },
     "execution_count": 157,
     "metadata": {},
     "output_type": "execute_result"
    }
   ],
   "source": [
    "pyLDAvis.enable_notebook()\n",
    "topic_data =  pyLDAvis.gensim_models.prepare(cats_beds_optimal_model, \n",
    "                                             cats_beds_doc_term_matrix, \n",
    "                                             cats_beds_dictionary, \n",
    "                                             mds = 'tsne')\n",
    "pyLDAvis.display(topic_data)"
   ]
  },
  {
   "cell_type": "markdown",
   "id": "7cbee05a",
   "metadata": {},
   "source": [
    "## 5. cats litter (1/4)"
   ]
  },
  {
   "cell_type": "code",
   "execution_count": 158,
   "id": "01491255",
   "metadata": {},
   "outputs": [
    {
     "data": {
      "application/vnd.jupyter.widget-view+json": {
       "model_id": "aa86563b74a5499d912c9d44a374d6e4",
       "version_major": 2,
       "version_minor": 0
      },
      "text/plain": [
       "  0%|          | 0/4893 [00:00<?, ?it/s]"
      ]
     },
     "metadata": {},
     "output_type": "display_data"
    },
    {
     "data": {
      "application/vnd.jupyter.widget-view+json": {
       "model_id": "cf413e3d362746dfaddb7c06d893742f",
       "version_major": 2,
       "version_minor": 0
      },
      "text/plain": [
       "  0%|          | 0/4893 [00:00<?, ?it/s]"
      ]
     },
     "metadata": {},
     "output_type": "display_data"
    }
   ],
   "source": [
    "cats_litter_dictionary, cats_litter_doc_term_matrix = vectorize(cats_litter_reviews2)\n",
    "# cats_litter_model_list, cats_litter_coherence_values = compute_coherence_values(dictionary=cats_litter_dictionary, \n",
    "#                                                     corpus=cats_litter_doc_term_matrix, \n",
    "#                                                     texts=cats_litter_reviews2, \n",
    "#                                                     start=2, \n",
    "#                                                     limit=20, \n",
    "#                                                     step=2)\n",
    "\n",
    "# limit=20; start=2; step=2;\n",
    "# x = range(start, limit, step)\n",
    "# plt.plot(x, cats_litter_coherence_values)\n",
    "# plt.xlabel(\"Num Topics\")\n",
    "# plt.ylabel(\"Coherence score\")\n",
    "# plt.legend((\"coherence_values\"), loc='best')\n",
    "# plt.show()\n",
    "# for m, cv in zip(x, cats_litter_coherence_values):\n",
    "#     print(\"Num Topics =\", m, \" has Coherence Value of\", round(cv, 4))\n",
    "    \n",
    "# with open ('./cats_litter_model_list.pickle', 'wb') as handle:\n",
    "#      pickle.dump(cats_litter_model_list, handle)"
   ]
  },
  {
   "cell_type": "code",
   "execution_count": 159,
   "id": "485c76c3",
   "metadata": {},
   "outputs": [],
   "source": [
    "with open ('./cats_litter_model_list.pickle', 'rb') as handle:\n",
    "     cats_litter_model_list = pickle.load(handle)"
   ]
  },
  {
   "cell_type": "code",
   "execution_count": 161,
   "id": "57307d8e",
   "metadata": {},
   "outputs": [
    {
     "name": "stderr",
     "output_type": "stream",
     "text": [
      "C:\\Users\\JiatingChen\\anaconda3\\lib\\site-packages\\pyLDAvis\\_prepare.py:246: FutureWarning: In a future version of pandas all arguments of DataFrame.drop except for the argument 'labels' will be keyword-only\n",
      "  default_term_info = default_term_info.sort_values(\n",
      "C:\\Users\\JiatingChen\\anaconda3\\lib\\site-packages\\sklearn\\manifold\\_t_sne.py:691: FutureWarning: 'square_distances' has been introduced in 0.24 to help phase out legacy squaring behavior. The 'legacy' setting will be removed in 1.1 (renaming of 0.26), and the default setting will be changed to True. In 1.3, 'square_distances' will be removed altogether, and distances will be squared by default. Set 'square_distances'=True to silence this warning.\n",
      "  warnings.warn(\n"
     ]
    },
    {
     "data": {
      "text/html": [
       "\n",
       "<link rel=\"stylesheet\" type=\"text/css\" href=\"https://cdn.jsdelivr.net/gh/bmabey/pyLDAvis@3.3.1/pyLDAvis/js/ldavis.v1.0.0.css\">\n",
       "\n",
       "\n",
       "<div id=\"ldavis_el2993617954848817445822275730\"></div>\n",
       "<script type=\"text/javascript\">\n",
       "\n",
       "var ldavis_el2993617954848817445822275730_data = {\"mdsDat\": {\"x\": [269.5624084472656, 1.782994270324707, 220.81143188476562, 50.533992767333984], \"y\": [-124.80339813232422, -295.0796813964844, -343.8321228027344, -76.05093383789062], \"topics\": [1, 2, 3, 4], \"cluster\": [1, 1, 1, 1], \"Freq\": [30.37816604670359, 27.38305680010425, 22.689830820734606, 19.548946332457554]}, \"tinfo\": {\"Term\": [\"easy\", \"well\", \"great\", \"nice\", \"take\", \"track\", \"large\", \"recommend\", \"clump\", \"fit\", \"empty\", \"good\", \"try\", \"seem\", \"smell\", \"highly\", \"odor_control\", \"pull\", \"make\", \"keep\", \"far\", \"start\", \"clean\", \"definitely\", \"litter_locker\", \"look\", \"natural\", \"go\", \"really\", \"top\", \"litter_locker\", \"fit\", \"tie\", \"plastic_bag\", \"flimsy\", \"diaper_genie\", \"lock\", \"litter_locker_ii\", \"pull\", \"litter_champ\", \"trash_bags\", \"litter_maid\", \"dispose\", \"grocery_bags\", \"snap\", \"plastic_grocery_bags\", \"littermaid\", \"disposable\", \"slide\", \"rip\", \"garbage_bag\", \"cartridge\", \"tray\", \"garbage_bags\", \"plastic_bags\", \"attach\", \"pail\", \"rake\", \"omega_paw\", \"correctly\", \"lid\", \"empty\", \"hang\", \"roll\", \"refill\", \"design\", \"plastic\", \"full\", \"top\", \"bottom\", \"open\", \"bag\", \"toss\", \"hold\", \"make\", \"close\", \"easy\", \"scoop\", \"break\", \"fall\", \"get\", \"small\", \"use\", \"put\", \"little\", \"buy\", \"much\", \"keep\", \"come\", \"go\", \"clean\", \"well\", \"take\", \"sure\", \"enough\", \"last\", \"need\", \"also\", \"good\", \"back\", \"really\", \"work\", \"pee\", \"upstairs\", \"breeze_system\", \"slowly\", \"awhile\", \"smart\", \"poope\", \"male_cat\", \"loud\", \"correct\", \"issue\", \"toilet_training\", \"lol\", \"mark\", \"scrub\", \"travel\", \"slow\", \"linger\", \"wonderfully\", \"treat\", \"downstairs\", \"next_day\", \"every_months\", \"overnight\", \"drive\", \"bulk\", \"customer_service\", \"every_month\", \"female\", \"automatically\", \"old_litter_box\", \"soak\", \"breeze\", \"care\", \"male\", \"laundry_room\", \"stop\", \"call\", \"eat\", \"move\", \"start\", \"spray\", \"dry\", \"sorry\", \"litter_robot\", \"take\", \"happen\", \"wait\", \"away\", \"follow\", \"old\", \"know\", \"go\", \"ago\", \"pet\", \"back\", \"right\", \"new\", \"give\", \"get\", \"first\", \"want\", \"let\", \"use\", \"still\", \"never\", \"put\", \"decide\", \"even\", \"find\", \"work\", \"clean\", \"buy\", \"leave\", \"try\", \"smell\", \"think\", \"come\", \"long\", \"also\", \"really\", \"keep\", \"feline_pine\", \"dusty\", \"world_best\", \"standard\", \"odor_control\", \"usual\", \"pine\", \"swheat_scoop\", \"weird\", \"clay_litters\", \"environmentally\", \"okocat\", \"sick\", \"pricey\", \"sticky\", \"greatly\", \"cat_attract\", \"clay_based\", \"ordinary\", \"sneeze\", \"adapt\", \"typically\", \"clump_seal\", \"disappear\", \"best_cat_litter\", \"break_apart\", \"worst\", \"accidentally\", \"scent\", \"typical\", \"clump\", \"lightweight\", \"yellow\", \"natural\", \"pine_pellets\", \"precious_cat\", \"friendly\", \"positive\", \"far\", \"mix\", \"fine\", \"well\", \"seem\", \"good\", \"try\", \"base\", \"smell\", \"eliminate\", \"suppose\", \"bad\", \"say\", \"strong\", \"regular\", \"use\", \"less\", \"think\", \"little\", \"get\", \"scoop\", \"really\", \"expensive\", \"work\", \"go\", \"even\", \"find\", \"last\", \"much\", \"also\", \"make\", \"still\", \"mat\", \"trap\", \"large_size\", \"great_job\", \"purr_fect_potty\", \"plastic_ones\", \"super_scoop\", \"attractive\", \"yoga_mat\", \"please\", \"vacuum\", \"fly\", \"unscented\", \"starter\", \"perfect_size\", \"good_quality\", \"unscente\", \"beige\", \"significantly\", \"better_job\", \"stray\", \"worth_every_penny\", \"neutral\", \"lug\", \"booda_dome\", \"crumble\", \"fantastic\", \"overprice\", \"fabulous\", \"bare\", \"top_entry\", \"highly\", \"high_sides\", \"nice\", \"track\", \"tidy_cat\", \"great\", \"arm_hammer\", \"definitely\", \"soft\", \"recommend\", \"wish\", \"large\", \"catch\", \"look\", \"easy\", \"perfect\", \"love\", \"clean\", \"walk\", \"really\", \"keep\", \"heavy\", \"multi_cat\", \"buy\", \"much\", \"stay\", \"make\", \"well\", \"use\", \"also\", \"get\", \"work\", \"big\", \"always\", \"seem\", \"good\", \"small\", \"find\", \"still\", \"little\", \"try\", \"even\"], \"Freq\": [1397.0, 2139.0, 1009.0, 449.0, 1021.0, 371.0, 688.0, 624.0, 276.0, 303.0, 351.0, 1367.0, 1290.0, 839.0, 815.0, 223.0, 200.0, 222.0, 1760.0, 1079.0, 470.0, 384.0, 1592.0, 284.0, 189.0, 485.0, 187.0, 1860.0, 1252.0, 432.0, 188.64056242059434, 302.0126950581086, 114.87892659352364, 99.88452176970628, 101.10860935839855, 86.58876044537861, 72.39314141814138, 68.37138821345128, 219.85476623724014, 60.74124125410252, 57.76598464727034, 54.80933691164562, 81.19631045205516, 49.32834630505051, 48.293821744280585, 45.8877887313459, 130.04028664641345, 44.589320098670406, 43.149780384905185, 43.985694838878494, 39.5848625954385, 38.85957194179208, 38.940510633208774, 34.13813260345339, 74.03451809615727, 34.30803011282712, 32.76380312560026, 61.942790332295125, 31.31282835946142, 30.444249397517577, 113.1124794941557, 336.2670143265796, 54.74883333438201, 104.9144105720604, 65.62987585615555, 90.84961784841305, 116.42075075974752, 248.01137414112867, 346.74123524908373, 212.4846040154975, 302.07461904655213, 133.78371844652307, 68.18373556432843, 271.96330759569213, 915.7258437282568, 170.89223272645242, 704.8246962791419, 477.79856599533497, 174.22007300181932, 146.62523524500955, 972.7442169747675, 384.503306943489, 1099.7539598600247, 345.4708432457592, 392.32901037305595, 474.1690046496778, 462.1611355862782, 405.8886217350996, 318.3245188783922, 516.368381480173, 470.64927523748764, 526.0419458206404, 349.82120140063296, 220.93160618333556, 228.0002057081599, 268.21819307850524, 260.9683352294516, 315.1410755249266, 295.65477624336563, 244.8174781451125, 251.4269136712286, 226.69366498268138, 103.4365369258139, 60.39539563205418, 58.47204355740388, 42.13793832160881, 41.56038575500144, 40.649041076591054, 45.941979930109746, 32.03451805206808, 31.974140050689567, 28.882595886489078, 40.955365525139484, 25.355269683005528, 25.892470615028245, 26.24433954533176, 26.55868524749912, 23.10177922664893, 20.665930164311177, 20.684038211274043, 20.7460423233, 19.743046569056876, 19.365300396474947, 19.319055504921103, 21.339434412139855, 18.839524620468953, 19.079921323755695, 25.567123571690544, 58.563476034000054, 19.049308508220054, 17.93607405122358, 17.69397985794685, 44.250240438403765, 76.03494417517756, 99.36582655475934, 32.17630865483248, 26.964407661151295, 50.25688349323287, 155.43255133299627, 93.39967343199108, 76.5336984088199, 142.79101993989428, 305.84249522754203, 72.09148978826089, 142.27361785301105, 31.634824962256832, 170.3020283002402, 633.9708346476615, 112.58819842543485, 92.17817658778807, 240.19500310953384, 69.45417922339234, 345.7959044601143, 333.79600197718395, 879.649038248278, 122.49251940256227, 90.26533512132809, 340.9033144941165, 276.3928596132404, 304.90492756316274, 299.08089071140927, 954.6927107262261, 314.1172168918612, 292.9173201719865, 150.2251606215224, 1058.8260349491663, 347.4657527997023, 266.76382199307045, 305.380813639936, 172.78658261084527, 371.5329041752577, 340.9273336428842, 372.88061754192273, 450.007710270187, 387.8196715233162, 185.14818206730627, 356.32667731470394, 281.4495863774292, 287.0039877627044, 260.41218473086707, 247.3912364424466, 252.63083708224565, 255.91003976861154, 241.87675395449187, 131.49690976044835, 98.15885573842954, 80.72653357789436, 62.88397067898435, 197.67859080779195, 71.03936936229714, 45.136199569925886, 36.45687875708648, 36.218418796093445, 32.72571303270749, 33.30819292626479, 54.40035500744358, 27.62691244972904, 57.236715512657575, 25.912912168932248, 25.12274277254689, 22.634065525707047, 32.014284809961254, 21.7025715995157, 20.464079141351416, 21.51296768853917, 21.195768402204596, 19.177152045019596, 19.646078079958357, 38.389532641974824, 18.727128549464133, 17.92221343496007, 18.972833836983277, 17.38251793385849, 18.09491096794315, 263.03164308263916, 56.79233671792118, 23.173822020628876, 170.0944350260549, 47.06177077847544, 59.77376270724954, 54.24639181876373, 42.453975993364566, 305.3080050714494, 42.456371387032384, 196.60150648097263, 1046.830445649299, 456.5961600523375, 680.2058040698407, 632.5320286922141, 66.55703332053812, 407.4609875280137, 83.59725023858472, 105.45614899938917, 209.58090271089253, 346.67024343475504, 140.0392384530168, 207.31542218360372, 1033.0737885333149, 261.38858046308525, 299.4309510666044, 317.3162613920185, 581.1975003349378, 281.6806995421893, 315.94299107408784, 164.65081419765866, 284.7805163849114, 370.61273545428156, 260.37695544347224, 238.76673403270067, 202.64716958454665, 260.32869269697994, 238.96454623324416, 258.6344692003233, 180.89347592217746, 92.82226180309925, 62.69265392409129, 40.0778881419871, 44.59196820404771, 36.398012715029395, 34.423937128194595, 33.06274839932984, 31.52857573396784, 31.25371364154994, 31.52681130673325, 30.812597278242528, 30.206831826944942, 60.11064079322607, 34.64742381317358, 22.97288240543504, 24.767083553386243, 22.890551491666542, 23.140810334288048, 21.78865553656213, 21.83694478878386, 21.239181365332673, 20.75439383552583, 20.75471232419633, 18.91578262735962, 37.37965212548176, 18.11029293078931, 42.64902488475463, 16.964256038396467, 16.532108316050433, 16.12872012065086, 35.86425755213264, 201.77049676206627, 33.27320252791183, 376.71945739813657, 297.434276264757, 79.16502809754545, 644.3895660541947, 94.6013395165316, 196.6351726993216, 84.93355859543827, 375.86830279598945, 97.54792662852213, 394.2257604519663, 105.94046617337277, 261.5820066261821, 585.2290470325879, 140.27764698772222, 159.94260255249037, 529.2640649771574, 87.95637278582711, 428.7452696604056, 379.7270350905285, 122.62174343558355, 56.0723636955774, 389.26363052824144, 375.1247718853789, 120.05040604495362, 408.2307009786556, 448.3699300385817, 616.04438012851, 285.7477294265838, 438.21024336589574, 252.64146910508978, 188.54308899645054, 143.281198983319, 201.93907918513716, 236.8028236882034, 187.80920192278282, 198.1510641149967, 176.21785771799654, 182.33805066631245, 182.84424381966386, 165.78871689051786], \"Total\": [1397.0, 2139.0, 1009.0, 449.0, 1021.0, 371.0, 688.0, 624.0, 276.0, 303.0, 351.0, 1367.0, 1290.0, 839.0, 815.0, 223.0, 200.0, 222.0, 1760.0, 1079.0, 470.0, 384.0, 1592.0, 284.0, 189.0, 485.0, 187.0, 1860.0, 1252.0, 432.0, 189.3614605880016, 303.1889644390507, 115.6003615333315, 100.60938353093486, 101.84945497965252, 87.31149578670744, 73.14550007870103, 69.08947077929282, 222.4153297238281, 61.45653645379395, 58.49128454227364, 55.55040027220771, 82.34213211989808, 50.06608191105616, 49.02196224974915, 46.61445945822008, 132.13429146373704, 45.31864556619114, 43.87918619273378, 44.73597570558541, 40.30397532922267, 39.58677428608609, 39.70743400137574, 34.860036736802265, 75.60206420351409, 35.04267422216616, 33.4833683462802, 63.40349290419326, 32.051320320379574, 31.17141342403001, 116.47629878971786, 351.36338087545846, 56.61317300194966, 112.5186061859137, 68.91568004938166, 97.56993308825304, 127.46939317759413, 290.9408768592649, 432.4934175275872, 261.12617978304894, 390.96171291082135, 163.52786571684732, 74.21247646123187, 396.5991696082178, 1760.9544110169163, 228.61541612820338, 1397.8887848773106, 977.5737322439314, 262.818617488648, 209.21012553536713, 2946.8446714018273, 798.7567741554618, 3807.6981634710155, 715.7964618031064, 985.4210945874634, 1341.209925976289, 1302.1234652811972, 1079.1421662902096, 752.7321937703674, 1860.7332701324488, 1592.5702182027412, 2139.9666897282577, 1021.0169389559657, 431.6738657274284, 482.88280492606464, 693.0681209978475, 667.0634057218133, 1092.4841882670003, 1367.504809464252, 672.4869285561631, 1252.0252141743335, 1136.9962680146052, 104.17230734617904, 61.12603075917201, 59.1940172385578, 42.86953920469479, 42.297583525122015, 41.37831966832673, 46.89972444563176, 32.7603559905682, 32.71228726680943, 29.629819771364758, 42.0392852854713, 26.071919800494285, 26.628194808603144, 26.998504782309432, 27.344821221533515, 23.836032716604645, 21.388481429467387, 21.42506662429652, 21.492221452812906, 20.454377162000785, 20.0827642141977, 20.044464375925916, 22.15769788952801, 19.56534900796141, 19.816797668879374, 26.557817605181455, 60.859381707873055, 19.80057971808572, 18.66059926755306, 18.421849662522508, 46.29125990572511, 80.94676250203747, 106.43489575402431, 33.778907050937036, 28.251978567207576, 54.722552605092936, 181.43275747402336, 105.6431723306134, 85.89132680203363, 169.2458975071061, 384.3791183891047, 81.29467212287678, 175.19360200361638, 33.786735532619836, 224.7540776650183, 1021.0169389559657, 143.76584519243085, 116.2079872516075, 371.9731334085465, 85.79697158547813, 586.9498655973375, 564.5665262986552, 1860.7332701324488, 173.26359572097894, 118.6132058479099, 672.4869285561631, 513.6458209726565, 596.630603893303, 591.6856831845777, 2946.8446714018273, 663.9311363540529, 606.9042839628212, 242.2415198486644, 3807.6981634710155, 820.9670335787739, 567.06813180313, 715.7964618031064, 305.50419808517717, 998.2498855228762, 973.4336132265528, 1136.9962680146052, 1592.5702182027412, 1341.209925976289, 360.8943477489526, 1290.8682418343642, 815.8995872551175, 880.6755196447166, 752.7321937703674, 720.183689707198, 1092.4841882670003, 1252.0252141743335, 1079.1421662902096, 132.24051378911966, 98.90840529900119, 81.46356690690551, 63.74622903492931, 200.59092800394, 72.29665953988533, 46.02398273741801, 37.206052247150524, 36.97468502182413, 33.46177640642689, 34.10345719571582, 55.702013387139736, 28.380905010580133, 58.85079531804961, 26.702367461877508, 25.899446233840678, 23.38171382361758, 33.135583037414364, 22.469325071099313, 21.19690250985939, 22.28965195507074, 21.961143311111467, 19.90387434453607, 20.396965832088632, 39.88373603901471, 19.475432015114695, 18.671407600662064, 19.772413091307058, 18.121900490658092, 18.865306452757636, 276.5989954716889, 60.447752232464076, 24.2552657998567, 187.05553382531508, 50.464841634175954, 64.7847070978282, 60.42442823575045, 48.654001210759446, 470.27887324323103, 49.05137052599167, 297.9498734481344, 2139.9666897282577, 839.5746244577134, 1367.504809464252, 1290.8682418343642, 84.69324282029396, 815.8995872551175, 114.13068085185863, 154.05896578765808, 385.16862145665806, 747.9692548222523, 234.5098725781292, 406.1659175206854, 3807.6981634710155, 623.4709285734543, 880.6755196447166, 985.4210945874634, 2946.8446714018273, 977.5737322439314, 1252.0252141743335, 406.76654315560603, 1136.9962680146052, 1860.7332701324488, 998.2498855228762, 973.4336132265528, 693.0681209978475, 1302.1234652811972, 1092.4841882670003, 1760.9544110169163, 820.9670335787739, 93.56349532068907, 63.442712989700986, 40.82429667203083, 45.471332408517334, 37.12014185329434, 35.16235744526414, 33.81868402289777, 32.266974254016596, 31.985991961309807, 32.27717703631993, 31.554498483825668, 30.947411729907937, 61.608624802012436, 35.52447643136139, 23.706826156204038, 25.568674824382498, 23.634686585889472, 23.894995555604794, 22.543248854120915, 22.60076589241955, 21.989415377372662, 21.539599215487033, 21.563461563519475, 19.679576722807376, 38.89034822233154, 18.852506505179104, 44.51864815542601, 17.72202761233468, 17.272403460741298, 16.87389250913719, 37.62686225124714, 223.39223836624845, 35.3116888176197, 449.1036010457598, 371.29144609893916, 91.31492374453002, 1009.4964415185141, 120.55885138474949, 284.3667031356353, 108.01427351061342, 624.3397685677446, 128.02013083334552, 688.390762748945, 151.08587743374113, 485.9174772503975, 1397.8887848773106, 243.16882869141983, 295.4450942980216, 1592.5702182027412, 132.1154456609891, 1252.0252141743335, 1079.1421662902096, 216.05563647382183, 71.49672886704012, 1341.209925976289, 1302.1234652811972, 242.4859664195269, 1760.9544110169163, 2139.9666897282577, 3807.6981634710155, 1092.4841882670003, 2946.8446714018273, 1136.9962680146052, 683.3595912464727, 367.7264612240843, 839.5746244577134, 1367.504809464252, 798.7567741554618, 973.4336132265528, 820.9670335787739, 985.4210945874634, 1290.8682418343642, 998.2498855228762], \"Category\": [\"Default\", \"Default\", \"Default\", \"Default\", \"Default\", \"Default\", \"Default\", \"Default\", \"Default\", \"Default\", \"Default\", \"Default\", \"Default\", \"Default\", \"Default\", \"Default\", \"Default\", \"Default\", \"Default\", \"Default\", \"Default\", \"Default\", \"Default\", \"Default\", \"Default\", \"Default\", \"Default\", \"Default\", \"Default\", \"Default\", \"Topic1\", \"Topic1\", \"Topic1\", \"Topic1\", \"Topic1\", \"Topic1\", \"Topic1\", \"Topic1\", \"Topic1\", \"Topic1\", \"Topic1\", \"Topic1\", \"Topic1\", \"Topic1\", \"Topic1\", \"Topic1\", \"Topic1\", \"Topic1\", \"Topic1\", \"Topic1\", \"Topic1\", \"Topic1\", \"Topic1\", \"Topic1\", \"Topic1\", \"Topic1\", \"Topic1\", \"Topic1\", \"Topic1\", \"Topic1\", \"Topic1\", \"Topic1\", \"Topic1\", \"Topic1\", \"Topic1\", \"Topic1\", \"Topic1\", \"Topic1\", \"Topic1\", \"Topic1\", \"Topic1\", \"Topic1\", \"Topic1\", \"Topic1\", \"Topic1\", \"Topic1\", \"Topic1\", \"Topic1\", \"Topic1\", \"Topic1\", \"Topic1\", \"Topic1\", \"Topic1\", \"Topic1\", \"Topic1\", \"Topic1\", \"Topic1\", \"Topic1\", \"Topic1\", \"Topic1\", \"Topic1\", \"Topic1\", \"Topic1\", \"Topic1\", \"Topic1\", \"Topic1\", \"Topic1\", \"Topic1\", \"Topic1\", \"Topic1\", \"Topic1\", \"Topic1\", \"Topic2\", \"Topic2\", \"Topic2\", \"Topic2\", \"Topic2\", \"Topic2\", \"Topic2\", \"Topic2\", \"Topic2\", \"Topic2\", \"Topic2\", \"Topic2\", \"Topic2\", \"Topic2\", \"Topic2\", \"Topic2\", \"Topic2\", \"Topic2\", \"Topic2\", \"Topic2\", \"Topic2\", \"Topic2\", \"Topic2\", \"Topic2\", \"Topic2\", \"Topic2\", \"Topic2\", \"Topic2\", \"Topic2\", \"Topic2\", \"Topic2\", \"Topic2\", \"Topic2\", \"Topic2\", \"Topic2\", \"Topic2\", \"Topic2\", \"Topic2\", \"Topic2\", \"Topic2\", \"Topic2\", \"Topic2\", \"Topic2\", \"Topic2\", \"Topic2\", \"Topic2\", \"Topic2\", \"Topic2\", \"Topic2\", \"Topic2\", \"Topic2\", \"Topic2\", \"Topic2\", \"Topic2\", \"Topic2\", \"Topic2\", \"Topic2\", \"Topic2\", \"Topic2\", \"Topic2\", \"Topic2\", \"Topic2\", \"Topic2\", \"Topic2\", \"Topic2\", \"Topic2\", \"Topic2\", \"Topic2\", \"Topic2\", \"Topic2\", \"Topic2\", \"Topic2\", \"Topic2\", \"Topic2\", \"Topic2\", \"Topic2\", \"Topic2\", \"Topic2\", \"Topic2\", \"Topic2\", \"Topic2\", \"Topic2\", \"Topic3\", \"Topic3\", \"Topic3\", \"Topic3\", \"Topic3\", \"Topic3\", \"Topic3\", \"Topic3\", \"Topic3\", \"Topic3\", \"Topic3\", \"Topic3\", \"Topic3\", \"Topic3\", \"Topic3\", \"Topic3\", \"Topic3\", \"Topic3\", \"Topic3\", \"Topic3\", \"Topic3\", \"Topic3\", \"Topic3\", \"Topic3\", \"Topic3\", \"Topic3\", \"Topic3\", \"Topic3\", \"Topic3\", \"Topic3\", \"Topic3\", \"Topic3\", \"Topic3\", \"Topic3\", \"Topic3\", \"Topic3\", \"Topic3\", \"Topic3\", \"Topic3\", \"Topic3\", \"Topic3\", \"Topic3\", \"Topic3\", \"Topic3\", \"Topic3\", \"Topic3\", \"Topic3\", \"Topic3\", \"Topic3\", \"Topic3\", \"Topic3\", \"Topic3\", \"Topic3\", \"Topic3\", \"Topic3\", \"Topic3\", \"Topic3\", \"Topic3\", \"Topic3\", \"Topic3\", \"Topic3\", \"Topic3\", \"Topic3\", \"Topic3\", \"Topic3\", \"Topic3\", \"Topic3\", \"Topic3\", \"Topic3\", \"Topic3\", \"Topic4\", \"Topic4\", \"Topic4\", \"Topic4\", \"Topic4\", \"Topic4\", \"Topic4\", \"Topic4\", \"Topic4\", \"Topic4\", \"Topic4\", \"Topic4\", \"Topic4\", \"Topic4\", \"Topic4\", \"Topic4\", \"Topic4\", \"Topic4\", \"Topic4\", \"Topic4\", \"Topic4\", \"Topic4\", \"Topic4\", \"Topic4\", \"Topic4\", \"Topic4\", \"Topic4\", \"Topic4\", \"Topic4\", \"Topic4\", \"Topic4\", \"Topic4\", \"Topic4\", \"Topic4\", \"Topic4\", \"Topic4\", \"Topic4\", \"Topic4\", \"Topic4\", \"Topic4\", \"Topic4\", \"Topic4\", \"Topic4\", \"Topic4\", \"Topic4\", \"Topic4\", \"Topic4\", \"Topic4\", \"Topic4\", \"Topic4\", \"Topic4\", \"Topic4\", \"Topic4\", \"Topic4\", \"Topic4\", \"Topic4\", \"Topic4\", \"Topic4\", \"Topic4\", \"Topic4\", \"Topic4\", \"Topic4\", \"Topic4\", \"Topic4\", \"Topic4\", \"Topic4\", \"Topic4\", \"Topic4\", \"Topic4\", \"Topic4\", \"Topic4\", \"Topic4\", \"Topic4\"], \"logprob\": [30.0, 29.0, 28.0, 27.0, 26.0, 25.0, 24.0, 23.0, 22.0, 21.0, 20.0, 19.0, 18.0, 17.0, 16.0, 15.0, 14.0, 13.0, 12.0, 11.0, 10.0, 9.0, 8.0, 7.0, 6.0, 5.0, 4.0, 3.0, 2.0, 1.0, -5.4177, -4.9471, -5.9137, -6.0536, -6.0414, -6.1964, -6.3755, -6.4326, -5.2646, -6.5509, -6.6012, -6.6537, -6.2607, -6.7591, -6.7803, -6.8314, -5.7897, -6.8601, -6.8929, -6.8737, -6.9791, -6.9976, -6.9955, -7.1272, -6.353, -7.1222, -7.1682, -6.5314, -7.2135, -7.2417, -5.9292, -4.8397, -6.6548, -6.0044, -6.4735, -6.1484, -5.9004, -5.1441, -4.809, -5.2987, -4.9469, -5.7613, -6.4354, -5.0519, -3.8378, -5.5165, -4.0996, -4.4884, -5.4972, -5.6697, -3.7774, -4.7056, -3.6547, -4.8127, -4.6855, -4.496, -4.5217, -4.6515, -4.8945, -4.4107, -4.5035, -4.3922, -4.8001, -5.2597, -5.2282, -5.0658, -5.0932, -4.9045, -4.9684, -5.1571, -5.1304, -5.234, -5.9148, -6.4529, -6.4852, -6.8128, -6.8266, -6.8488, -6.7264, -7.087, -7.0888, -7.1905, -6.8413, -7.3208, -7.2998, -7.2863, -7.2744, -7.4139, -7.5253, -7.5244, -7.5214, -7.571, -7.5903, -7.5927, -7.4932, -7.6178, -7.6051, -7.3125, -6.4837, -7.6067, -7.667, -7.6805, -6.7639, -6.2226, -5.955, -7.0825, -7.2592, -6.6366, -5.5076, -6.0169, -6.216, -5.5924, -4.8307, -6.2758, -5.596, -7.0995, -5.4162, -4.1018, -5.83, -6.03, -5.0723, -6.3131, -4.7079, -4.7432, -3.7742, -5.7457, -6.051, -4.7222, -4.9319, -4.8338, -4.8531, -3.6924, -4.804, -4.8739, -5.5416, -3.5889, -4.7031, -4.9674, -4.8322, -5.4017, -4.6361, -4.7221, -4.6325, -4.4445, -4.5932, -5.3326, -4.6779, -4.9138, -4.8943, -4.9915, -5.0428, -5.0218, -5.0089, -5.0653, -5.4868, -5.7792, -5.9747, -6.2245, -5.0791, -6.1025, -6.5561, -6.7696, -6.7762, -6.8776, -6.86, -6.3694, -7.047, -6.3186, -7.111, -7.142, -7.2463, -6.8996, -7.2883, -7.3471, -7.2971, -7.312, -7.412, -7.3879, -6.718, -7.4358, -7.4797, -7.4228, -7.5103, -7.4701, -4.7935, -6.3264, -7.2227, -5.2294, -6.5143, -6.2752, -6.3722, -6.6173, -4.6444, -6.6173, -5.0846, -3.4122, -4.242, -3.8434, -3.916, -6.1677, -4.3558, -5.9397, -5.7075, -5.0206, -4.5174, -5.4238, -5.0315, -3.4255, -4.7998, -4.6639, -4.6059, -4.0007, -4.725, -4.6102, -5.2619, -4.714, -4.4506, -4.8036, -4.8903, -5.0543, -4.8038, -4.8894, -4.8103, -5.1679, -5.6861, -6.0785, -6.5259, -6.4192, -6.6222, -6.678, -6.7184, -6.7659, -6.7746, -6.7659, -6.7888, -6.8087, -6.1206, -6.6715, -7.0824, -7.0072, -7.086, -7.0752, -7.1354, -7.1332, -7.1609, -7.184, -7.184, -7.2768, -6.5956, -7.3203, -6.4638, -7.3857, -7.4115, -7.4362, -6.637, -4.9096, -6.712, -4.2853, -4.5216, -5.8452, -3.7485, -5.6671, -4.9354, -5.7749, -4.2875, -5.6364, -4.2398, -5.5539, -4.65, -3.8448, -5.2731, -5.1419, -3.9453, -5.7399, -4.1559, -4.2773, -5.4077, -6.1901, -4.2525, -4.2895, -5.4289, -4.2049, -4.1111, -3.7934, -4.5617, -4.1341, -4.6848, -4.9774, -5.252, -4.9088, -4.7495, -4.9813, -4.9277, -5.045, -5.0109, -5.0081, -5.106], \"loglift\": [30.0, 29.0, 28.0, 27.0, 26.0, 25.0, 24.0, 23.0, 22.0, 21.0, 20.0, 19.0, 18.0, 17.0, 16.0, 15.0, 14.0, 13.0, 12.0, 11.0, 10.0, 9.0, 8.0, 7.0, 6.0, 5.0, 4.0, 3.0, 2.0, 1.0, 1.1876, 1.1876, 1.1852, 1.1842, 1.1841, 1.1831, 1.1811, 1.181, 1.1799, 1.1797, 1.179, 1.178, 1.1774, 1.1766, 1.1765, 1.1757, 1.1755, 1.1752, 1.1747, 1.1745, 1.1734, 1.1729, 1.1719, 1.1705, 1.1705, 1.1703, 1.1697, 1.1681, 1.1681, 1.1678, 1.1621, 1.1475, 1.158, 1.1215, 1.1426, 1.1201, 1.1008, 1.0318, 0.9705, 0.9853, 0.9335, 0.9907, 1.1067, 0.8142, 0.5376, 0.9004, 0.5067, 0.4756, 0.7803, 0.836, 0.0831, 0.4603, -0.0505, 0.463, 0.2705, 0.1517, 0.1556, 0.2136, 0.3308, -0.0905, -0.0275, -0.2117, 0.1203, 0.5216, 0.441, 0.2421, 0.253, -0.0517, -0.3401, 0.181, -0.4139, -0.4211, 1.2882, 1.2832, 1.283, 1.278, 1.2777, 1.2775, 1.2746, 1.2728, 1.2724, 1.2697, 1.2691, 1.2674, 1.2672, 1.2669, 1.2661, 1.264, 1.2609, 1.26, 1.2599, 1.2599, 1.2589, 1.2584, 1.2576, 1.2574, 1.2574, 1.2572, 1.2568, 1.2566, 1.2556, 1.2549, 1.2502, 1.2326, 1.2265, 1.2466, 1.2486, 1.2101, 1.1406, 1.1721, 1.1799, 1.1253, 1.0667, 1.1751, 1.0871, 1.2294, 1.0178, 0.8187, 1.0508, 1.0636, 0.8579, 1.0839, 0.7662, 0.7697, 0.546, 0.9485, 1.0221, 0.6159, 0.6755, 0.6239, 0.613, 0.1681, 0.5468, 0.5668, 0.8174, 0.0154, 0.4354, 0.5411, 0.4434, 0.7253, 0.3069, 0.2461, 0.1804, 0.0314, 0.0545, 0.6278, 0.008, 0.2309, 0.1741, 0.2338, 0.2267, -0.169, -0.2924, -0.2002, 1.4776, 1.4756, 1.4742, 1.4696, 1.4686, 1.4657, 1.4638, 1.4629, 1.4626, 1.461, 1.4597, 1.4596, 1.4563, 1.4554, 1.4532, 1.4528, 1.4508, 1.4488, 1.4485, 1.4481, 1.4478, 1.4478, 1.4461, 1.4457, 1.4451, 1.4441, 1.4423, 1.442, 1.4416, 1.4416, 1.433, 1.4209, 1.4376, 1.3882, 1.4134, 1.4028, 1.3754, 1.3469, 1.0512, 1.3389, 1.0675, 0.7682, 0.8742, 0.7849, 0.7699, 1.2423, 0.7889, 1.1719, 1.1042, 0.8747, 0.7143, 0.9677, 0.8107, 0.1788, 0.614, 0.4044, 0.3501, -0.1401, 0.239, 0.1063, 0.5788, 0.0988, -0.1303, 0.1394, 0.0779, 0.2536, -0.1266, -0.0366, -0.4349, -0.0293, 1.6243, 1.6204, 1.6138, 1.6127, 1.6126, 1.611, 1.6096, 1.6091, 1.6091, 1.6087, 1.6085, 1.608, 1.6076, 1.6073, 1.6008, 1.6004, 1.6003, 1.6002, 1.5982, 1.5979, 1.5975, 1.5951, 1.594, 1.5927, 1.5926, 1.5921, 1.5893, 1.5885, 1.5884, 1.5871, 1.5843, 1.5305, 1.5728, 1.4565, 1.4105, 1.4895, 1.1833, 1.3898, 1.2633, 1.3919, 1.1248, 1.3604, 1.0748, 1.2773, 1.013, 0.7615, 1.0821, 1.0186, 0.5306, 1.2254, 0.5606, 0.5878, 1.0658, 1.3892, 0.3952, 0.3878, 0.9292, 0.1705, 0.0693, -0.1892, 0.2911, -0.2735, 0.1281, 0.3446, 0.6897, 0.2073, -0.1213, 0.1846, 0.0404, 0.0935, -0.055, -0.3222, -0.163]}, \"token.table\": {\"Topic\": [3, 3, 1, 2, 3, 4, 1, 2, 3, 4, 1, 2, 3, 4, 3, 4, 1, 4, 2, 1, 2, 3, 4, 2, 1, 2, 3, 4, 1, 2, 3, 4, 1, 4, 4, 2, 3, 4, 4, 3, 4, 4, 1, 2, 3, 4, 2, 4, 1, 2, 3, 1, 2, 3, 4, 3, 1, 2, 4, 2, 2, 1, 2, 3, 4, 1, 2, 3, 2, 3, 1, 3, 1, 2, 3, 4, 3, 4, 3, 1, 2, 3, 4, 1, 2, 3, 4, 3, 4, 3, 1, 2, 3, 4, 2, 1, 4, 1, 2, 1, 2, 3, 4, 1, 2, 3, 4, 1, 2, 3, 1, 3, 1, 1, 2, 2, 2, 1, 2, 3, 4, 3, 1, 2, 3, 4, 1, 2, 3, 1, 2, 3, 4, 1, 2, 1, 2, 3, 4, 3, 1, 2, 3, 4, 2, 2, 1, 2, 3, 4, 4, 1, 2, 3, 4, 1, 3, 4, 1, 2, 3, 4, 3, 2, 1, 2, 3, 4, 1, 2, 3, 4, 1, 2, 3, 4, 1, 4, 1, 4, 1, 2, 3, 2, 3, 4, 1, 2, 3, 1, 1, 1, 2, 3, 4, 1, 2, 3, 4, 1, 2, 3, 4, 1, 2, 3, 4, 4, 1, 2, 3, 4, 4, 3, 1, 1, 4, 1, 2, 3, 4, 1, 2, 3, 4, 1, 2, 4, 1, 2, 4, 1, 2, 3, 4, 2, 3, 1, 2, 3, 4, 1, 2, 3, 4, 1, 2, 3, 4, 4, 1, 2, 3, 4, 1, 2, 3, 1, 2, 3, 4, 1, 2, 3, 4, 1, 2, 3, 4, 1, 3, 1, 3, 4, 2, 1, 1, 1, 1, 1, 2, 3, 1, 3, 1, 2, 3, 4, 1, 2, 1, 2, 3, 4, 1, 2, 3, 4, 2, 1, 2, 3, 4, 4, 1, 2, 3, 4, 1, 2, 2, 2, 4, 2, 3, 4, 1, 2, 3, 4, 1, 2, 3, 4, 3, 4, 3, 4, 1, 2, 3, 4, 4, 1, 2, 3, 4, 1, 2, 3, 4, 2, 1, 2, 3, 4, 1, 3, 3, 4, 1, 2, 3, 4, 2, 3, 1, 1, 2, 3, 4, 3, 2, 4, 1, 2, 1, 2, 3, 4, 4, 2, 3, 4, 3, 2, 3, 1, 4, 1, 1, 3, 1, 4, 4, 2, 1, 2, 3, 3, 4, 2, 3, 1, 2, 4, 1, 2, 3, 4, 1, 2, 1, 2, 3, 4, 1, 2, 3, 4, 1, 3, 1, 2, 3, 4, 1, 2, 3, 4, 1, 1, 2, 3, 4, 1, 2, 3, 4, 3, 1, 2, 3, 4, 2, 1, 2, 3, 4, 3, 4, 1, 2, 2, 1, 2, 3, 4, 2, 1, 2, 3, 4, 1, 3, 2, 3, 3, 4, 1, 2, 2, 3, 4, 3, 1, 2, 3, 4, 4, 1, 2, 3, 4, 3, 1, 2, 3, 4, 2, 3, 4, 1, 2, 3, 4, 4, 1, 3, 4, 1, 2, 3, 4, 3, 1, 2, 3, 4, 1, 2, 3, 4, 1, 3, 4, 1, 2, 1, 2, 3, 4, 2, 4, 1, 2, 2, 3, 4, 4, 1, 2, 1, 2, 1, 2, 3, 4, 3, 3, 4, 2, 4, 2, 1, 2, 3, 4, 3, 4, 4, 1, 2, 1, 2, 3, 4, 1, 2, 3, 4, 3, 1, 2, 3, 4, 1, 2, 3, 4, 2, 1, 2, 3, 4, 3, 3, 4, 3, 4, 4], \"Freq\": [0.9609348091333045, 0.9870050929617658, 0.21354745551733925, 0.7041294479220375, 0.01731465855545994, 0.06348708137001978, 0.28833369249918595, 0.2315822990549017, 0.21876746827716012, 0.26178868588814974, 0.2529053788797861, 0.2882577436694336, 0.07070472957929504, 0.38887601268612265, 0.20736760273383345, 0.7879968903885671, 0.9702455864082821, 0.9917260833967609, 0.9771005805469838, 0.2661482540225992, 0.6452078885396343, 0.08065098606745429, 0.005376732404496953, 0.9929645265681604, 0.364319348966407, 0.5070730530512032, 0.06096772778621505, 0.06691579878974822, 0.23626015965643757, 0.2154900357305969, 0.5452157530533175, 0.0025962654907300832, 0.8194322075481889, 0.17733980611117522, 0.9482103783306681, 0.15349512625917514, 0.7910902661049796, 0.05903658702275967, 0.9625446443996151, 0.9527693183714782, 0.025072876799249424, 0.973418339215617, 0.3058419061899408, 0.31169533980123154, 0.1053618050032332, 0.2765747381334871, 0.025713320803483625, 0.9513928697288941, 0.8118680408687311, 0.03063652984410306, 0.1531826492205153, 0.6620535548913906, 0.06468339329398644, 0.24731885671230108, 0.022829432927289332, 0.9755881145668185, 0.009395414848820293, 0.930146070033209, 0.05637248909292176, 0.9798287513796236, 0.9789961052721206, 0.3534122368315814, 0.2892910293051763, 0.06710358927181925, 0.29003662474152986, 0.00946582706613988, 0.8803219171510089, 0.10412409772753868, 0.947336749283968, 0.029604273415124, 0.9851775170705857, 0.983674685846509, 0.09928128462290108, 0.17208756001302852, 0.02647500923277362, 0.7015877446685009, 0.9657291970347363, 0.030179037407335508, 0.9861998836876394, 0.2957483410254502, 0.2825621092599843, 0.08979195916483945, 0.3321674573300704, 0.7479810543664576, 0.04374158212669342, 0.10060563889139487, 0.10935395531673356, 0.9508349788165416, 0.04699944762211042, 0.9545880199558133, 0.4224610062274164, 0.34540836987147255, 0.11823594199446559, 0.11292196707336602, 0.9787437191240212, 0.9624202660272386, 0.9547802036326095, 0.032862640793823096, 0.9694479034177812, 0.08183193604766698, 0.5662769974498555, 0.3273277441906679, 0.022912942093346753, 0.014066344462600838, 0.23209468363291383, 0.06329855008170376, 0.6927674647830913, 0.9326643682095133, 0.010249058991313332, 0.06149435394787999, 0.996432362269129, 0.9805379959276039, 0.9929687756063731, 0.9837005420512575, 0.012144451136435277, 0.9460849013288605, 0.9587825600015039, 0.0057079710021565614, 0.8105318823062317, 0.1655311590625403, 0.017123913006469687, 0.9908156915860177, 0.5043319666248529, 0.052221607891651436, 0.02503775720832603, 0.4184882276248779, 0.0465704763092016, 0.8964816689521309, 0.058213095386502, 0.21028526090326183, 0.05257131522581546, 0.7359984131614163, 0.008761885870969243, 0.95627495148419, 0.042690846048401336, 0.4721642553308761, 0.22986944009529492, 0.1325373348297196, 0.16567166853714949, 0.9676438318442847, 0.20135238973227393, 0.3726521839821189, 0.2604558275143842, 0.16629102833610682, 0.9595678647047653, 0.9477518876148613, 0.3933460179855377, 0.08358602882192676, 0.40563808104758575, 0.12046221800807091, 0.9842289776659949, 0.702642855472832, 0.0286793002233809, 0.18163556808141235, 0.08603790067014269, 0.022462496985729302, 0.022462496985729302, 0.96588737038636, 0.1339630665641576, 0.1871230136134265, 0.6485513540010805, 0.02976957034759058, 0.9906192606669854, 0.9645992468901197, 0.20134911856016194, 0.35030637463783276, 0.24552264967285053, 0.20340370140261257, 0.0033562692557212144, 0.13425077022884857, 0.6611850433770793, 0.20473242459899407, 0.20333434087960725, 0.47294061508293833, 0.23797648784428108, 0.08735845756309052, 0.9960784705958856, 0.00329827308144333, 0.991659700291747, 0.96938639850801, 0.15152049961400224, 0.8042241902589349, 0.034966269141692825, 0.016549598054919526, 0.8936782949656543, 0.08274799027459762, 0.8524068624429271, 0.08592811113335959, 0.0618682400160189, 0.9924579318357643, 0.975328863153655, 0.3301836738945387, 0.3240754456004979, 0.19716003549098354, 0.14863355515499274, 0.20112029643765722, 0.5053358708811724, 0.23323194040669493, 0.060843114888703025, 0.2773100305576149, 0.4729318350594982, 0.19938376228076574, 0.050517718744991856, 0.21645262082549022, 0.1133451223917263, 0.4972560208153154, 0.1733083484312202, 0.9777589246103515, 0.13075826181362438, 0.17731612776241484, 0.053492016196482695, 0.6379418227876825, 0.989634515120805, 0.9652716036582495, 0.97870650407695, 0.9715053420182949, 0.017663733491241725, 0.16693812057986343, 0.7860003177301903, 0.013911510048321953, 0.034778775120804885, 0.16662374834345922, 0.03702749963187983, 0.23142187269924894, 0.5692978068401524, 0.028319234607126004, 0.028319234607126004, 0.9345347420351581, 0.05819360643446655, 0.040287881377707606, 0.9042391153663263, 0.6858309871619156, 0.05547162396162553, 0.14876480971526845, 0.11094324792325105, 0.9752782360971661, 0.023787274051150394, 0.37622475766628133, 0.22425219545625638, 0.04818642216415426, 0.3521315465842042, 0.1098187673408077, 0.591604327287577, 0.19306847806690386, 0.10627622645884616, 0.29924864066650453, 0.1074970845112686, 0.021789949563094987, 0.572349341857295, 0.9798086742644223, 0.3866863759570213, 0.20632892448453005, 0.2929005011913259, 0.1139859093306145, 0.05482200404008191, 0.9137000673346986, 0.01827400134669397, 0.18564990119104588, 0.5126153988110969, 0.09975218571459181, 0.20227526547681118, 0.31597303253697806, 0.036890252529697944, 0.41862417001092017, 0.22775721127030904, 0.1155871215532847, 0.6192167226068823, 0.22704613162252352, 0.03715300335641294, 0.9701544535168151, 0.025756312925225178, 0.016543212329125118, 0.9429631027601316, 0.04962963698737535, 0.9801603126025062, 0.9925713930504821, 0.9980911607521447, 0.9842310157104379, 0.9900918756748711, 0.1646243769385406, 0.7563822724203217, 0.07563822724203217, 0.9838475581161097, 0.015136116278709378, 0.3977994810067536, 0.09437589727966349, 0.32168988642637986, 0.18469261618170704, 0.9843394319887275, 0.9764086595761202, 0.28048399718983674, 0.3429680559697509, 0.2027260573748325, 0.1735668299442059, 0.13170960707597731, 0.23666570021464675, 0.0946662800858587, 0.5391862039672821, 0.9782256966319768, 0.18277507747523836, 0.23016120867252235, 0.047386131197284014, 0.5415557851118173, 0.9654679197434267, 0.5201724668562135, 0.10108154923625111, 0.1470793328774665, 0.23169253982241828, 0.035395751048767694, 0.9556852783167278, 0.9767903623883969, 0.9630162932962237, 0.9939774019904056, 0.04077358040261539, 0.8562451884549231, 0.10193395100653846, 0.0827198780367021, 0.8449244685177428, 0.053177064452165634, 0.01772568815072188, 0.35480506443390897, 0.1574351476384228, 0.19967384578531672, 0.2879911237288222, 0.20979980815478927, 0.7832526171112132, 0.9088210143986295, 0.08553609547281218, 0.3912671535587808, 0.3208090837608394, 0.13791792385980012, 0.14991078680413056, 0.9738696144930309, 0.3015510666350871, 0.470842893517943, 0.1833994791230939, 0.04408641325074373, 0.20448163269515685, 0.5112040817378921, 0.1910730010430154, 0.09386042156499003, 0.9478926272941295, 0.03562652350758982, 0.08683965104975018, 0.037853181226814185, 0.8394499601475851, 0.009970540641602276, 0.9870835235186254, 0.9694443111901465, 0.017952672429447158, 0.20615048591391802, 0.5894881663323606, 0.15333507216737705, 0.05281541374654098, 0.9505034014975743, 0.04320470006807156, 0.9671988451685998, 0.772454156064347, 0.06650267568765901, 0.03069354262507339, 0.1278897609378058, 0.979112631571521, 0.9711045784191552, 0.959258182634128, 0.9855639271031136, 0.988746458861823, 0.26319162840240395, 0.1521576601701398, 0.008224738387575124, 0.5757316871302587, 0.9701846990589644, 0.7587688011350205, 0.16861528914111568, 0.07587688011350205, 0.9777511054777643, 0.05944732813682964, 0.9313414741436643, 0.9100223756332265, 0.08629522527556457, 0.9939430745965411, 0.9788092531547621, 0.013227152069658948, 0.986818264861125, 0.9669431309583398, 0.9914125998067292, 0.9808159971883255, 0.020553294181668617, 0.1027664709083431, 0.8632383556300819, 0.9261444974876084, 0.07717870812396736, 0.016992123803861302, 0.9685510568200941, 0.9891404530127162, 0.00899218593647924, 0.9698238800454656, 0.4819805886312119, 0.4260987812536801, 0.07124930440635306, 0.019558632582136137, 0.9778641074819959, 0.01577200173358058, 0.20047519583343668, 0.20446872563091548, 0.2523910832006613, 0.3426448566236826, 0.18899965361920765, 0.16177088996220315, 0.046449067414890015, 0.6022361844137464, 0.9576920659087681, 0.04353145754130764, 0.28067347623817834, 0.09848192148708011, 0.5096439436956396, 0.11079216167296513, 0.30176435526426937, 0.5373352390512152, 0.04283106977944468, 0.11875887529755116, 0.9835484597356503, 0.9331789964275707, 0.035549676054383646, 0.017774838027191823, 0.017774838027191823, 0.21792339584697953, 0.24599941617082352, 0.46392281201780305, 0.07219548083274169, 0.9380914550746796, 0.48896567515454264, 0.09206466687010216, 0.2884692895263201, 0.1309364151041453, 0.9873898893417531, 0.15007599840381575, 0.06550936438261798, 0.5443232640519349, 0.24059802918706968, 0.9865788278972029, 0.9759019271074759, 0.979963479977225, 0.9818368858608089, 0.9797166188201164, 0.48199904208269984, 0.19154767126922875, 0.09264397172498647, 0.23536576600401965, 0.9908570557876878, 0.03186666644540201, 0.34440512581376787, 0.49883589397225453, 0.1237897427302155, 0.9791529713857102, 0.9435340843171462, 0.938888692405543, 0.04941519433713384, 0.20367678534483957, 0.7869330342868801, 0.05919482804336259, 0.9471172486938014, 0.8856668969790801, 0.09840743299767557, 0.012300929124709446, 0.9882937540584492, 0.044227168404062475, 0.7960890312731246, 0.1456894959192646, 0.015609588848492638, 0.9852361953208583, 0.23506514971420592, 0.13609034983454027, 0.13609034983454027, 0.49487399939832827, 0.9736964348618052, 0.14129678203317222, 0.4226722703923342, 0.22047170300003596, 0.21438132446412336, 0.8543109974073569, 0.13779209635602532, 0.9550049257612014, 0.14071902234736722, 0.008528425596810133, 0.5969897917767094, 0.255852767904304, 0.9757919609662085, 0.2920959502092479, 0.6815572171549118, 0.019473063347283194, 0.5119605738178876, 0.2270232408785203, 0.22239011351365254, 0.03706501891894209, 0.9675845144994417, 0.3427954881511469, 0.6209495413937918, 0.036238380175978385, 0.0009794156804318482, 0.24072430227823904, 0.3258862016691255, 0.33951210557166733, 0.09311034333403585, 0.010951112468731622, 0.12046223715604784, 0.8651378850297982, 0.994806577372525, 0.9588860425815684, 0.8023243497754878, 0.10636000025842203, 0.04161913053590427, 0.050867826210549666, 0.02657675767175763, 0.9567632761832747, 0.9162879780130065, 0.08084893923644176, 0.0026933020151870854, 0.19661104710865723, 0.7999106985105644, 0.9930218464999621, 0.9916007222936167, 0.9649256767456, 0.9821838398988152, 0.9777858226431403, 0.09218601569351283, 0.2757833746797526, 0.4903676296974253, 0.14176504934380543, 0.9541323935063271, 0.9562343682432431, 0.9731459698615849, 0.016231493613331476, 0.9738896167998885, 0.9815785395323898, 0.2888884446127588, 0.2781207844044651, 0.2712925120772544, 0.16177752898314496, 0.982064737871188, 0.013831897716495605, 0.9824272762848728, 0.2065262514876576, 0.7916839640360208, 0.030276550784713547, 0.26491981936624354, 0.03784568848089193, 0.6660841172636981, 0.22573576034996745, 0.4827779400185435, 0.15323668403318957, 0.13840732751384865, 0.9736391257626988, 0.24579821850722067, 0.05560834220980848, 0.48925995204764267, 0.20934905302516132, 0.11716907256974102, 0.06249017203719521, 0.06249017203719521, 0.7655046074556413, 0.977097693047059, 0.19964885231891025, 0.3280573652641124, 0.25066045335193576, 0.22251612174750787, 0.9943095186657458, 0.9640408685289342, 0.9749485025190692, 0.9482476996865514, 0.04122816085593702, 0.9691742572028886], \"Term\": [\"accidentally\", \"adapt\", \"ago\", \"ago\", \"ago\", \"ago\", \"also\", \"also\", \"also\", \"also\", \"always\", \"always\", \"always\", \"always\", \"arm_hammer\", \"arm_hammer\", \"attach\", \"attractive\", \"automatically\", \"away\", \"away\", \"away\", \"away\", \"awhile\", \"back\", \"back\", \"back\", \"back\", \"bad\", \"bad\", \"bad\", \"bad\", \"bag\", \"bag\", \"bare\", \"base\", \"base\", \"base\", \"beige\", \"best_cat_litter\", \"best_cat_litter\", \"better_job\", \"big\", \"big\", \"big\", \"big\", \"booda_dome\", \"booda_dome\", \"bottom\", \"bottom\", \"bottom\", \"break\", \"break\", \"break\", \"break\", \"break_apart\", \"breeze\", \"breeze\", \"breeze\", \"breeze_system\", \"bulk\", \"buy\", \"buy\", \"buy\", \"buy\", \"call\", \"call\", \"call\", \"care\", \"care\", \"cartridge\", \"cat_attract\", \"catch\", \"catch\", \"catch\", \"catch\", \"clay_based\", \"clay_based\", \"clay_litters\", \"clean\", \"clean\", \"clean\", \"clean\", \"close\", \"close\", \"close\", \"close\", \"clump\", \"clump\", \"clump_seal\", \"come\", \"come\", \"come\", \"come\", \"correct\", \"correctly\", \"crumble\", \"customer_service\", \"customer_service\", \"decide\", \"decide\", \"decide\", \"decide\", \"definitely\", \"definitely\", \"definitely\", \"definitely\", \"design\", \"design\", \"design\", \"diaper_genie\", \"disappear\", \"disposable\", \"dispose\", \"dispose\", \"downstairs\", \"drive\", \"dry\", \"dry\", \"dry\", \"dry\", \"dusty\", \"easy\", \"easy\", \"easy\", \"easy\", \"eat\", \"eat\", \"eat\", \"eliminate\", \"eliminate\", \"eliminate\", \"eliminate\", \"empty\", \"empty\", \"enough\", \"enough\", \"enough\", \"enough\", \"environmentally\", \"even\", \"even\", \"even\", \"even\", \"every_month\", \"every_months\", \"expensive\", \"expensive\", \"expensive\", \"expensive\", \"fabulous\", \"fall\", \"fall\", \"fall\", \"fall\", \"fantastic\", \"fantastic\", \"fantastic\", \"far\", \"far\", \"far\", \"far\", \"feline_pine\", \"female\", \"find\", \"find\", \"find\", \"find\", \"fine\", \"fine\", \"fine\", \"fine\", \"first\", \"first\", \"first\", \"first\", \"fit\", \"fit\", \"flimsy\", \"fly\", \"follow\", \"follow\", \"follow\", \"friendly\", \"friendly\", \"friendly\", \"full\", \"full\", \"full\", \"garbage_bag\", \"garbage_bags\", \"get\", \"get\", \"get\", \"get\", \"give\", \"give\", \"give\", \"give\", \"go\", \"go\", \"go\", \"go\", \"good\", \"good\", \"good\", \"good\", \"good_quality\", \"great\", \"great\", \"great\", \"great\", \"great_job\", \"greatly\", \"grocery_bags\", \"hang\", \"hang\", \"happen\", \"happen\", \"happen\", \"happen\", \"heavy\", \"heavy\", \"heavy\", \"heavy\", \"high_sides\", \"high_sides\", \"high_sides\", \"highly\", \"highly\", \"highly\", \"hold\", \"hold\", \"hold\", \"hold\", \"issue\", \"issue\", \"keep\", \"keep\", \"keep\", \"keep\", \"know\", \"know\", \"know\", \"know\", \"large\", \"large\", \"large\", \"large\", \"large_size\", \"last\", \"last\", \"last\", \"last\", \"laundry_room\", \"laundry_room\", \"laundry_room\", \"leave\", \"leave\", \"leave\", \"leave\", \"less\", \"less\", \"less\", \"less\", \"let\", \"let\", \"let\", \"let\", \"lid\", \"lid\", \"lightweight\", \"lightweight\", \"lightweight\", \"linger\", \"litter_champ\", \"litter_locker\", \"litter_locker_ii\", \"litter_maid\", \"litter_robot\", \"litter_robot\", \"litter_robot\", \"littermaid\", \"littermaid\", \"little\", \"little\", \"little\", \"little\", \"lock\", \"lol\", \"long\", \"long\", \"long\", \"long\", \"look\", \"look\", \"look\", \"look\", \"loud\", \"love\", \"love\", \"love\", \"love\", \"lug\", \"make\", \"make\", \"make\", \"make\", \"male\", \"male\", \"male_cat\", \"mark\", \"mat\", \"mix\", \"mix\", \"mix\", \"move\", \"move\", \"move\", \"move\", \"much\", \"much\", \"much\", \"much\", \"multi_cat\", \"multi_cat\", \"natural\", \"natural\", \"need\", \"need\", \"need\", \"need\", \"neutral\", \"never\", \"never\", \"never\", \"never\", \"new\", \"new\", \"new\", \"new\", \"next_day\", \"nice\", \"nice\", \"nice\", \"nice\", \"odor_control\", \"odor_control\", \"okocat\", \"okocat\", \"old\", \"old\", \"old\", \"old\", \"old_litter_box\", \"old_litter_box\", \"omega_paw\", \"open\", \"open\", \"open\", \"open\", \"ordinary\", \"overnight\", \"overprice\", \"pail\", \"pee\", \"perfect\", \"perfect\", \"perfect\", \"perfect\", \"perfect_size\", \"pet\", \"pet\", \"pet\", \"pine\", \"pine_pellets\", \"pine_pellets\", \"plastic\", \"plastic\", \"plastic_bag\", \"plastic_bags\", \"plastic_bags\", \"plastic_grocery_bags\", \"plastic_ones\", \"please\", \"poope\", \"positive\", \"positive\", \"positive\", \"precious_cat\", \"precious_cat\", \"pricey\", \"pricey\", \"pull\", \"pull\", \"purr_fect_potty\", \"put\", \"put\", \"put\", \"put\", \"rake\", \"rake\", \"really\", \"really\", \"really\", \"really\", \"recommend\", \"recommend\", \"recommend\", \"recommend\", \"refill\", \"refill\", \"regular\", \"regular\", \"regular\", \"regular\", \"right\", \"right\", \"right\", \"right\", \"rip\", \"roll\", \"roll\", \"roll\", \"roll\", \"say\", \"say\", \"say\", \"say\", \"scent\", \"scoop\", \"scoop\", \"scoop\", \"scoop\", \"scrub\", \"seem\", \"seem\", \"seem\", \"seem\", \"sick\", \"significantly\", \"slide\", \"slow\", \"slowly\", \"small\", \"small\", \"small\", \"small\", \"smart\", \"smell\", \"smell\", \"smell\", \"smell\", \"snap\", \"sneeze\", \"soak\", \"soak\", \"soft\", \"soft\", \"sorry\", \"sorry\", \"spray\", \"spray\", \"spray\", \"standard\", \"start\", \"start\", \"start\", \"start\", \"starter\", \"stay\", \"stay\", \"stay\", \"stay\", \"sticky\", \"still\", \"still\", \"still\", \"still\", \"stop\", \"stop\", \"stray\", \"strong\", \"strong\", \"strong\", \"strong\", \"super_scoop\", \"suppose\", \"suppose\", \"suppose\", \"sure\", \"sure\", \"sure\", \"sure\", \"swheat_scoop\", \"take\", \"take\", \"take\", \"take\", \"think\", \"think\", \"think\", \"think\", \"tidy_cat\", \"tidy_cat\", \"tidy_cat\", \"tie\", \"toilet_training\", \"top\", \"top\", \"top\", \"top\", \"top_entry\", \"top_entry\", \"toss\", \"toss\", \"track\", \"track\", \"track\", \"trap\", \"trash_bags\", \"travel\", \"tray\", \"treat\", \"try\", \"try\", \"try\", \"try\", \"typical\", \"typically\", \"unscente\", \"unscented\", \"unscented\", \"upstairs\", \"use\", \"use\", \"use\", \"use\", \"usual\", \"usual\", \"vacuum\", \"wait\", \"wait\", \"walk\", \"walk\", \"walk\", \"walk\", \"want\", \"want\", \"want\", \"want\", \"weird\", \"well\", \"well\", \"well\", \"well\", \"wish\", \"wish\", \"wish\", \"wish\", \"wonderfully\", \"work\", \"work\", \"work\", \"work\", \"world_best\", \"worst\", \"worth_every_penny\", \"yellow\", \"yellow\", \"yoga_mat\"]}, \"R\": 30, \"lambda.step\": 0.01, \"plot.opts\": {\"xlab\": \"PC1\", \"ylab\": \"PC2\"}, \"topic.order\": [3, 2, 1, 4]};\n",
       "\n",
       "function LDAvis_load_lib(url, callback){\n",
       "  var s = document.createElement('script');\n",
       "  s.src = url;\n",
       "  s.async = true;\n",
       "  s.onreadystatechange = s.onload = callback;\n",
       "  s.onerror = function(){console.warn(\"failed to load library \" + url);};\n",
       "  document.getElementsByTagName(\"head\")[0].appendChild(s);\n",
       "}\n",
       "\n",
       "if(typeof(LDAvis) !== \"undefined\"){\n",
       "   // already loaded: just create the visualization\n",
       "   !function(LDAvis){\n",
       "       new LDAvis(\"#\" + \"ldavis_el2993617954848817445822275730\", ldavis_el2993617954848817445822275730_data);\n",
       "   }(LDAvis);\n",
       "}else if(typeof define === \"function\" && define.amd){\n",
       "   // require.js is available: use it to load d3/LDAvis\n",
       "   require.config({paths: {d3: \"https://d3js.org/d3.v5\"}});\n",
       "   require([\"d3\"], function(d3){\n",
       "      window.d3 = d3;\n",
       "      LDAvis_load_lib(\"https://cdn.jsdelivr.net/gh/bmabey/pyLDAvis@3.3.1/pyLDAvis/js/ldavis.v3.0.0.js\", function(){\n",
       "        new LDAvis(\"#\" + \"ldavis_el2993617954848817445822275730\", ldavis_el2993617954848817445822275730_data);\n",
       "      });\n",
       "    });\n",
       "}else{\n",
       "    // require.js not available: dynamically load d3 & LDAvis\n",
       "    LDAvis_load_lib(\"https://d3js.org/d3.v5.js\", function(){\n",
       "         LDAvis_load_lib(\"https://cdn.jsdelivr.net/gh/bmabey/pyLDAvis@3.3.1/pyLDAvis/js/ldavis.v3.0.0.js\", function(){\n",
       "                 new LDAvis(\"#\" + \"ldavis_el2993617954848817445822275730\", ldavis_el2993617954848817445822275730_data);\n",
       "            })\n",
       "         });\n",
       "}\n",
       "</script>"
      ],
      "text/plain": [
       "<IPython.core.display.HTML object>"
      ]
     },
     "execution_count": 161,
     "metadata": {},
     "output_type": "execute_result"
    }
   ],
   "source": [
    "cats_litter_optimal_model = cats_litter_model_list[1]\n",
    "model_topics = cats_litter_optimal_model.show_topics(formatted=False)\n",
    "pyLDAvis.enable_notebook()\n",
    "topic_data =  pyLDAvis.gensim_models.prepare(cats_litter_optimal_model, \n",
    "                                             cats_litter_doc_term_matrix, \n",
    "                                             cats_litter_dictionary, \n",
    "                                             mds = 'tsne')\n",
    "pyLDAvis.display(topic_data)"
   ]
  },
  {
   "cell_type": "code",
   "execution_count": 163,
   "id": "da7f709a",
   "metadata": {},
   "outputs": [
    {
     "data": {
      "text/plain": [
       "[(0,\n",
       "  '0.033*\"well\" + 0.033*\"use\" + 0.021*\"good\" + 0.020*\"try\" + 0.018*\"get\" + 0.014*\"seem\" + 0.013*\"smell\" + 0.012*\"go\" + 0.011*\"say\" + 0.010*\"little\" + 0.010*\"really\" + 0.010*\"far\" + 0.009*\"think\" + 0.009*\"work\" + 0.009*\"scoop\" + 0.008*\"clump\" + 0.008*\"less\" + 0.008*\"even\" + 0.008*\"much\" + 0.008*\"make\" + 0.008*\"also\" + 0.008*\"find\" + 0.007*\"bad\" + 0.007*\"regular\" + 0.006*\"last\" + 0.006*\"odor_control\" + 0.006*\"fine\" + 0.006*\"still\" + 0.005*\"natural\" + 0.005*\"expensive\"'),\n",
       " (1,\n",
       "  '0.028*\"use\" + 0.025*\"get\" + 0.023*\"go\" + 0.017*\"take\" + 0.012*\"clean\" + 0.010*\"buy\" + 0.010*\"work\" + 0.010*\"even\" + 0.009*\"try\" + 0.009*\"still\" + 0.009*\"old\" + 0.009*\"find\" + 0.009*\"back\" + 0.009*\"know\" + 0.008*\"first\" + 0.008*\"start\" + 0.008*\"put\" + 0.008*\"new\" + 0.008*\"give\" + 0.008*\"want\" + 0.007*\"think\" + 0.007*\"smell\" + 0.007*\"right\" + 0.007*\"never\" + 0.007*\"come\" + 0.007*\"really\" + 0.007*\"also\" + 0.006*\"long\" + 0.006*\"keep\" + 0.006*\"away\"'),\n",
       " (2,\n",
       "  '0.026*\"use\" + 0.023*\"get\" + 0.022*\"make\" + 0.017*\"easy\" + 0.012*\"well\" + 0.012*\"go\" + 0.011*\"scoop\" + 0.011*\"buy\" + 0.011*\"clean\" + 0.011*\"much\" + 0.010*\"keep\" + 0.009*\"little\" + 0.009*\"small\" + 0.008*\"take\" + 0.008*\"top\" + 0.008*\"put\" + 0.008*\"empty\" + 0.007*\"come\" + 0.007*\"also\" + 0.007*\"open\" + 0.007*\"fit\" + 0.007*\"good\" + 0.006*\"hold\" + 0.006*\"last\" + 0.006*\"need\" + 0.006*\"really\" + 0.006*\"full\" + 0.006*\"back\" + 0.005*\"enough\" + 0.005*\"work\"'),\n",
       " (3,\n",
       "  '0.024*\"great\" + 0.023*\"use\" + 0.021*\"easy\" + 0.019*\"clean\" + 0.016*\"well\" + 0.016*\"get\" + 0.016*\"really\" + 0.015*\"make\" + 0.014*\"large\" + 0.014*\"buy\" + 0.014*\"keep\" + 0.014*\"nice\" + 0.014*\"recommend\" + 0.014*\"much\" + 0.011*\"track\" + 0.010*\"also\" + 0.010*\"look\" + 0.009*\"work\" + 0.009*\"good\" + 0.007*\"seem\" + 0.007*\"highly\" + 0.007*\"find\" + 0.007*\"definitely\" + 0.007*\"big\" + 0.007*\"small\" + 0.007*\"try\" + 0.007*\"little\" + 0.006*\"still\" + 0.006*\"even\" + 0.006*\"love\"')]"
      ]
     },
     "execution_count": 163,
     "metadata": {},
     "output_type": "execute_result"
    }
   ],
   "source": [
    "keywords_dict = get_keywords(cats_litter_doc_term_matrix, model = cats_litter_optimal_model)\n",
    "cats_litter_optimal_model.print_topics(num_topics=4, num_words=30)"
   ]
  },
  {
   "cell_type": "code",
   "execution_count": 167,
   "id": "0f8c4bc9",
   "metadata": {},
   "outputs": [
    {
     "data": {
      "text/plain": [
       "['great', 'large', 'nice', 'recommend', 'track', 'look']"
      ]
     },
     "execution_count": 167,
     "metadata": {},
     "output_type": "execute_result"
    }
   ],
   "source": [
    "[w for w in keywords_dict[1] if w not in  keywords_dict[2]\\\n",
    "                                and w not in  keywords_dict[0]\\\n",
    "                                and w not in  keywords_dict[3]] "
   ]
  },
  {
   "cell_type": "code",
   "execution_count": 166,
   "id": "94278852",
   "metadata": {},
   "outputs": [
    {
     "data": {
      "text/plain": [
       "['still',\n",
       " 'old',\n",
       " 'find',\n",
       " 'back',\n",
       " 'know',\n",
       " 'first',\n",
       " 'start',\n",
       " 'new',\n",
       " 'give',\n",
       " 'want']"
      ]
     },
     "execution_count": 166,
     "metadata": {},
     "output_type": "execute_result"
    }
   ],
   "source": [
    "[w for w in keywords_dict[2] if w not in  keywords_dict[1]\\\n",
    "                                and w not in  keywords_dict[0]\\\n",
    "                                and w not in  keywords_dict[3]] "
   ]
  },
  {
   "cell_type": "code",
   "execution_count": 168,
   "id": "987150d1",
   "metadata": {},
   "outputs": [
    {
     "data": {
      "text/plain": [
       "['small', 'top', 'empty', 'come', 'open']"
      ]
     },
     "execution_count": 168,
     "metadata": {},
     "output_type": "execute_result"
    }
   ],
   "source": [
    "[w for w in keywords_dict[3] if w not in  keywords_dict[1]\\\n",
    "                                and w not in  keywords_dict[0]\\\n",
    "                                and w not in  keywords_dict[2]] "
   ]
  },
  {
   "cell_type": "code",
   "execution_count": 169,
   "id": "0680be47",
   "metadata": {},
   "outputs": [
    {
     "data": {
      "text/plain": [
       "['smell', 'say', 'far', 'think', 'clump', 'less']"
      ]
     },
     "execution_count": 169,
     "metadata": {},
     "output_type": "execute_result"
    }
   ],
   "source": [
    "[w for w in keywords_dict[0] if w not in  keywords_dict[1]\\\n",
    "                                and w not in  keywords_dict[2]\\\n",
    "                                and w not in  keywords_dict[3]]  #odor_control/smell -> scent"
   ]
  },
  {
   "cell_type": "markdown",
   "id": "c068920a",
   "metadata": {},
   "source": [
    "## 6. cats health supplies (0/4)"
   ]
  },
  {
   "cell_type": "code",
   "execution_count": 170,
   "id": "3f98b895",
   "metadata": {},
   "outputs": [
    {
     "data": {
      "application/vnd.jupyter.widget-view+json": {
       "model_id": "71ac6ec5fdf843e3921de276d1836d94",
       "version_major": 2,
       "version_minor": 0
      },
      "text/plain": [
       "  0%|          | 0/4294 [00:00<?, ?it/s]"
      ]
     },
     "metadata": {},
     "output_type": "display_data"
    },
    {
     "data": {
      "application/vnd.jupyter.widget-view+json": {
       "model_id": "e5bfb1bd80e9450ca95dd7306dbfb535",
       "version_major": 2,
       "version_minor": 0
      },
      "text/plain": [
       "  0%|          | 0/4294 [00:00<?, ?it/s]"
      ]
     },
     "metadata": {},
     "output_type": "display_data"
    }
   ],
   "source": [
    "cats_health_supplies_dictionary, cats_health_supplies_doc_term_matrix = vectorize(cats_health_supplies_reviews2)\n",
    "# cats_health_supplies_model_list, cats_health_supplies_coherence_values = compute_coherence_values(dictionary=cats_health_supplies_dictionary, \n",
    "#                                                     corpus=cats_health_supplies_doc_term_matrix, \n",
    "#                                                     texts=cats_health_supplies_reviews2, \n",
    "#                                                     start=2, \n",
    "#                                                     limit=20, \n",
    "#                                                     step=2)\n",
    "\n",
    "# limit=20; start=2; step=2;\n",
    "# x = range(start, limit, step)\n",
    "# plt.plot(x, cats_health_supplies_coherence_values)\n",
    "# plt.xlabel(\"Num Topics\")\n",
    "# plt.ylabel(\"Coherence score\")\n",
    "# plt.legend((\"coherence_values\"), loc='best')\n",
    "# plt.show()\n",
    "# for m, cv in zip(x, cats_health_supplies_coherence_values):\n",
    "#     print(\"Num Topics =\", m, \" has Coherence Value of\", round(cv, 4))\n",
    "    \n",
    "# with open ('./cats_health_supplies_model_list.pickle', 'wb') as handle:\n",
    "#      pickle.dump(cats_health_supplies_model_list, handle)"
   ]
  },
  {
   "cell_type": "code",
   "execution_count": 171,
   "id": "0fe35ff2",
   "metadata": {},
   "outputs": [],
   "source": [
    "with open ('./cats_health_supplies_model_list.pickle', 'rb') as handle:\n",
    "     cats_health_supplies_model_list = pickle.load(handle)"
   ]
  },
  {
   "cell_type": "code",
   "execution_count": 172,
   "id": "78cca1d1",
   "metadata": {},
   "outputs": [
    {
     "data": {
      "text/plain": [
       "[(0,\n",
       "  '0.021*\"calm\" + 0.020*\"get\" + 0.015*\"seem\" + 0.015*\"try\" + 0.014*\"spray\" + 0.014*\"feliway\" + 0.014*\"use\" + 0.013*\"go\" + 0.013*\"help\" + 0.012*\"new\" + 0.010*\"think\" + 0.009*\"come\" + 0.009*\"also\" + 0.009*\"see\" + 0.009*\"old\" + 0.008*\"still\" + 0.008*\"well\" + 0.008*\"work\" + 0.008*\"start\" + 0.008*\"make\" + 0.007*\"say\" + 0.007*\"buy\" + 0.007*\"really\" + 0.007*\"plug\" + 0.006*\"much\" + 0.006*\"even\" + 0.006*\"keep\" + 0.006*\"take\" + 0.006*\"stop\" + 0.006*\"little\"'),\n",
       " (1,\n",
       "  '0.039*\"eat\" + 0.025*\"give\" + 0.013*\"try\" + 0.013*\"good\" + 0.013*\"take\" + 0.012*\"seem\" + 0.010*\"daily\" + 0.010*\"treat\" + 0.010*\"even\" + 0.010*\"love\" + 0.008*\"small\" + 0.008*\"think\" + 0.008*\"well\" + 0.007*\"get\" + 0.007*\"little\" + 0.007*\"recommend\" + 0.007*\"use\" + 0.007*\"say\" + 0.007*\"make\" + 0.007*\"much\" + 0.007*\"also\" + 0.007*\"help\" + 0.006*\"want\" + 0.006*\"healthy\" + 0.006*\"see\" + 0.005*\"look\" + 0.005*\"picky\" + 0.005*\"dry\" + 0.005*\"open\" + 0.005*\"soft\"'),\n",
       " (2,\n",
       "  '0.045*\"get\" + 0.039*\"work\" + 0.031*\"use\" + 0.031*\"well\" + 0.023*\"seem\" + 0.023*\"really\" + 0.022*\"great\" + 0.018*\"make\" + 0.017*\"much\" + 0.017*\"help\" + 0.016*\"good\" + 0.014*\"try\" + 0.013*\"buy\" + 0.013*\"give\" + 0.012*\"sure\" + 0.011*\"keep\" + 0.010*\"know\" + 0.009*\"clean\" + 0.009*\"easy\" + 0.008*\"go\" + 0.008*\"still\" + 0.008*\"also\" + 0.008*\"put\" + 0.008*\"love\" + 0.008*\"bad\" + 0.007*\"say\" + 0.007*\"long\" + 0.007*\"little\" + 0.007*\"start\" + 0.006*\"find\"'),\n",
       " (3,\n",
       "  '0.021*\"go\" + 0.019*\"get\" + 0.017*\"use\" + 0.013*\"give\" + 0.013*\"take\" + 0.011*\"see\" + 0.011*\"put\" + 0.011*\"try\" + 0.011*\"find\" + 0.010*\"back\" + 0.008*\"even\" + 0.008*\"also\" + 0.008*\"come\" + 0.008*\"buy\" + 0.007*\"need\" + 0.007*\"recommend\" + 0.006*\"start\" + 0.006*\"still\" + 0.006*\"say\" + 0.006*\"never\" + 0.006*\"long\" + 0.006*\"apply\" + 0.005*\"ago\" + 0.005*\"purchase\" + 0.005*\"want\" + 0.005*\"live\" + 0.005*\"keep\" + 0.005*\"quickly\" + 0.005*\"little\" + 0.005*\"know\"')]"
      ]
     },
     "execution_count": 172,
     "metadata": {},
     "output_type": "execute_result"
    }
   ],
   "source": [
    "cats_health_supplies_optimal_model = cats_health_supplies_model_list[1]\n",
    "model_topics = cats_health_supplies_optimal_model.show_topics(formatted=False)\n",
    "\n",
    "keywords_dict = get_keywords(cats_health_supplies_doc_term_matrix, model = cats_health_supplies_optimal_model)\n",
    "cats_health_supplies_optimal_model.print_topics(num_topics=4, num_words=30)"
   ]
  },
  {
   "cell_type": "code",
   "execution_count": 178,
   "id": "b682fb59",
   "metadata": {},
   "outputs": [
    {
     "data": {
      "text/plain": [
       "['calm', 'spray', 'feliway', 'new', 'old']"
      ]
     },
     "execution_count": 178,
     "metadata": {},
     "output_type": "execute_result"
    }
   ],
   "source": [
    "[w for w in keywords_dict[0] if w not in  keywords_dict[1]\\\n",
    "                                and w not in  keywords_dict[2]\\\n",
    "                                and w not in  keywords_dict[3]]  "
   ]
  },
  {
   "cell_type": "code",
   "execution_count": 174,
   "id": "6fd5806d",
   "metadata": {},
   "outputs": [
    {
     "data": {
      "text/plain": [
       "['eat', 'daily', 'treat', 'love', 'small', 'little']"
      ]
     },
     "execution_count": 174,
     "metadata": {},
     "output_type": "execute_result"
    }
   ],
   "source": [
    "[w for w in keywords_dict[1] if w not in  keywords_dict[0]\\\n",
    "                                and w not in  keywords_dict[2]\\\n",
    "                                and w not in  keywords_dict[3]]  "
   ]
  },
  {
   "cell_type": "code",
   "execution_count": 175,
   "id": "25e2bc68",
   "metadata": {},
   "outputs": [
    {
     "data": {
      "text/plain": [
       "['put', 'find', 'back', 'need', 'never']"
      ]
     },
     "execution_count": 175,
     "metadata": {},
     "output_type": "execute_result"
    }
   ],
   "source": [
    "[w for w in keywords_dict[2] if w not in  keywords_dict[1]\\\n",
    "                                and w not in  keywords_dict[0]\\\n",
    "                                and w not in  keywords_dict[3]]  "
   ]
  },
  {
   "cell_type": "code",
   "execution_count": 176,
   "id": "6d71a4e7",
   "metadata": {},
   "outputs": [
    {
     "data": {
      "text/plain": [
       "['really', 'great', 'sure', 'keep', 'know', 'clean', 'easy']"
      ]
     },
     "execution_count": 176,
     "metadata": {},
     "output_type": "execute_result"
    }
   ],
   "source": [
    "[w for w in keywords_dict[3] if w not in  keywords_dict[1]\\\n",
    "                                and w not in  keywords_dict[2]\\\n",
    "                                and w not in  keywords_dict[0]]  #clean"
   ]
  },
  {
   "cell_type": "code",
   "execution_count": 177,
   "id": "55a62338",
   "metadata": {},
   "outputs": [
    {
     "name": "stderr",
     "output_type": "stream",
     "text": [
      "C:\\Users\\JiatingChen\\anaconda3\\lib\\site-packages\\pyLDAvis\\_prepare.py:246: FutureWarning: In a future version of pandas all arguments of DataFrame.drop except for the argument 'labels' will be keyword-only\n",
      "  default_term_info = default_term_info.sort_values(\n",
      "C:\\Users\\JiatingChen\\anaconda3\\lib\\site-packages\\sklearn\\manifold\\_t_sne.py:691: FutureWarning: 'square_distances' has been introduced in 0.24 to help phase out legacy squaring behavior. The 'legacy' setting will be removed in 1.1 (renaming of 0.26), and the default setting will be changed to True. In 1.3, 'square_distances' will be removed altogether, and distances will be squared by default. Set 'square_distances'=True to silence this warning.\n",
      "  warnings.warn(\n"
     ]
    },
    {
     "data": {
      "text/html": [
       "\n",
       "<link rel=\"stylesheet\" type=\"text/css\" href=\"https://cdn.jsdelivr.net/gh/bmabey/pyLDAvis@3.3.1/pyLDAvis/js/ldavis.v1.0.0.css\">\n",
       "\n",
       "\n",
       "<div id=\"ldavis_el2993617954848834246715634814\"></div>\n",
       "<script type=\"text/javascript\">\n",
       "\n",
       "var ldavis_el2993617954848834246715634814_data = {\"mdsDat\": {\"x\": [269.5624084472656, 1.782994270324707, 220.81143188476562, 50.533992767333984], \"y\": [-124.80339813232422, -295.0796813964844, -343.8321228027344, -76.05093383789062], \"topics\": [1, 2, 3, 4], \"cluster\": [1, 1, 1, 1], \"Freq\": [27.128221018091143, 25.541157350761516, 23.859143171941742, 23.471478459205596]}, \"tinfo\": {\"Term\": [\"eat\", \"work\", \"calm\", \"great\", \"feliway\", \"spray\", \"really\", \"get\", \"well\", \"daily\", \"seem\", \"help\", \"new\", \"plug\", \"clean\", \"go\", \"give\", \"treat\", \"use\", \"love\", \"healthy\", \"litter_box\", \"stress\", \"picky\", \"sure\", \"comfort_zone\", \"easy\", \"make\", \"mark\", \"good\", \"calm\", \"feliway\", \"plug\", \"litter_box\", \"comfort_zone\", \"mark\", \"female\", \"pee\", \"stress\", \"aggressive\", \"feral\", \"diffuser\", \"hiss\", \"anxious\", \"urinate\", \"feliway_diffuser\", \"relax\", \"mellow\", \"shy\", \"skittish\", \"adjust\", \"stressful\", \"new_home\", \"feliway_spray\", \"growl\", \"litter_boxes\", \"spray\", \"behavioral\", \"refill\", \"territorial\", \"male\", \"adopt\", \"nervous\", \"together\", \"move\", \"new\", \"play\", \"empty\", \"change\", \"old\", \"help\", \"seem\", \"think\", \"stop\", \"try\", \"go\", \"come\", \"get\", \"start\", \"still\", \"use\", \"also\", \"see\", \"notice\", \"say\", \"buy\", \"make\", \"well\", \"work\", \"really\", \"even\", \"much\", \"keep\", \"little\", \"take\", \"brush\", \"stuff_works\", \"best_price\", \"awesome\", \"pricey\", \"next_time\", \"perfectly\", \"anything_else\", \"odor\", \"allergic\", \"familiar\", \"lucky\", \"report\", \"instantly\", \"squeeze\", \"tick\", \"puppy\", \"wipe\", \"generic\", \"upper\", \"worried\", \"along\", \"sad\", \"okay\", \"gentle\", \"tight\", \"disappointed\", \"m\", \"itchy\", \"gross\", \"tired\", \"great\", \"combine\", \"thank\", \"clean\", \"work\", \"long_time\", \"fine\", \"around\", \"really\", \"well\", \"sure\", \"get\", \"easy\", \"lick\", \"much\", \"use\", \"make\", \"seem\", \"help\", \"good\", \"dental\", \"expensive\", \"buy\", \"bad\", \"know\", \"keep\", \"order\", \"love\", \"long\", \"try\", \"actually\", \"give\", \"still\", \"put\", \"need\", \"also\", \"say\", \"go\", \"little\", \"start\", \"find\", \"picky\", \"joint\", \"supplement\", \"pet_naturals\", \"digestive\", \"vetri_science\", \"eat\", \"finicky\", \"per_day\", \"canned_food\", \"gobble\", \"sprinkle\", \"salmon_oil\", \"shape\", \"renal\", \"move_free\", \"hyaluronic_acid\", \"sneeze\", \"tasty\", \"lysine\", \"eat_anything\", \"ingredient\", \"shed\", \"increase\", \"senior\", \"fair\", \"rosemary\", \"flex\", \"hairball_remedy\", \"crumble\", \"daily\", \"healthy\", \"dry_food\", \"enjoy\", \"feed\", \"capsule\", \"wet_food\", \"contain\", \"dry\", \"natural\", \"treat\", \"soft\", \"refuse\", \"break\", \"chew\", \"prefer\", \"give\", \"small\", \"open\", \"love\", \"good\", \"take\", \"even\", \"try\", \"seem\", \"recommend\", \"think\", \"little\", \"look\", \"say\", \"want\", \"make\", \"well\", \"also\", \"much\", \"help\", \"use\", \"get\", \"see\", \"arrive\", \"excellent\", \"monthly\", \"topical\", \"frontline_plus\", \"side_effects\", \"pill_pockets\", \"send\", \"flea_problem\", \"cold\", \"flea_free\", \"home_zone\", \"ship\", \"taurine\", \"flea_treatment\", \"inside\", \"wash\", \"exact\", \"maine_coon\", \"red\", \"burn\", \"adverse\", \"track\", \"flea_comb\", \"affordable\", \"convenient\", \"worm\", \"squirt\", \"leak\", \"pay\", \"kill\", \"severe\", \"several_times\", \"quickly\", \"dead\", \"infest\", \"multiple\", \"apply\", \"wait\", \"live\", \"back\", \"call\", \"sell\", \"go\", \"ago\", \"receive\", \"walk\", \"find\", \"put\", \"poor\", \"later\", \"take\", \"see\", \"purchase\", \"use\", \"get\", \"give\", \"need\", \"never\", \"away\", \"even\", \"come\", \"try\", \"also\", \"buy\", \"recommend\", \"long\", \"pet\", \"start\", \"still\", \"say\", \"want\", \"first\", \"keep\", \"know\", \"little\"], \"Freq\": [875.0, 1203.0, 529.0, 591.0, 348.0, 359.0, 812.0, 2123.0, 1194.0, 238.0, 1199.0, 885.0, 383.0, 171.0, 266.0, 1059.0, 1262.0, 315.0, 1603.0, 455.0, 132.0, 128.0, 129.0, 114.0, 447.0, 122.0, 340.0, 817.0, 115.0, 846.0, 528.6609862580893, 347.3223322043051, 170.84197546857095, 127.43459086881158, 121.40695453087379, 114.4154951252102, 113.04130464968753, 107.51118968507855, 128.0573873242172, 68.40957354122794, 79.3984283829701, 66.06856976360831, 62.55979494474786, 63.85577301326762, 60.09197725098907, 50.02477909209724, 44.74282152125321, 45.228277036593056, 39.37716361814221, 40.09784798955642, 39.693714608387175, 39.322549581220635, 38.64886959571129, 33.618817412200784, 32.989078716763835, 31.654478244845556, 350.950040243652, 30.603550757381516, 28.890679808592086, 28.108785980780688, 112.97318792676042, 109.06789520666433, 79.87711069686878, 57.43553580625293, 143.1889175269254, 304.0900016369731, 80.93983299768581, 47.85002476792323, 86.67886800192798, 213.424696562744, 324.22807017240564, 385.11453462617476, 245.03381709070976, 145.48147717616516, 369.33672909077615, 336.80904120591856, 224.79607407623797, 497.15998048083827, 209.35107638032642, 212.3142878927445, 341.08877189002214, 221.55309786814905, 219.01231962151687, 115.77639567019429, 182.79179137983957, 182.6485982072033, 191.99933504497707, 210.51436498446893, 209.41472815290592, 172.95372211548323, 160.98252573701484, 161.85686327244753, 153.2360583827544, 144.33290075828555, 146.00000596601197, 60.60872823354994, 27.90523841781584, 25.41369354046015, 25.096788586587778, 21.896986162205064, 21.585412714630735, 20.148479844784735, 19.01926790844077, 18.087391675999786, 28.098171444490195, 15.45285376920312, 16.12338055073797, 15.88906318130132, 14.22203589013637, 17.416619310412607, 13.981138514470839, 13.10758780846901, 19.15471917511274, 12.497676384565144, 12.559634908605236, 19.051506646215216, 13.178484768827108, 12.489782023464022, 12.021439515893213, 14.400966509894134, 10.952412822094173, 11.65838259589629, 10.728023085074575, 10.827641717742623, 10.812507429020608, 17.818009294219983, 525.6928211101458, 21.88728353417115, 45.18153868380417, 223.12189768763668, 909.1382663292159, 23.304702761691594, 83.66324807283766, 74.39033999533808, 530.455143149615, 720.5903445899542, 280.3866327306161, 1051.9878198045142, 211.8160311051784, 62.18316622105303, 403.24837732640435, 735.3774570366979, 416.51696263089934, 537.3443163767533, 402.28307559526564, 370.289076734732, 72.06355320555826, 125.78617595465703, 303.8048913629399, 178.74609421194288, 227.21563841029834, 251.16585130765793, 94.1576720189303, 179.72267908970926, 155.228065343388, 334.67724886143543, 112.54638023538033, 299.3300261427108, 187.07874189977363, 182.43963445567633, 141.6694658527617, 183.1163159302768, 170.59330734491726, 197.76548422642085, 155.17984855045478, 154.39203686223055, 149.83181266211486, 114.11325532549903, 101.22028985068222, 81.6212405475939, 74.93794403441326, 60.94133941897165, 57.052905820059756, 864.2027678885825, 47.71411043327297, 47.30057064779826, 46.784111146291096, 46.028084935782495, 42.296727452592584, 40.75815818403713, 39.47778021744715, 34.74507018628722, 33.335158252529965, 32.270647161945895, 32.19456213676679, 29.267917282852178, 29.47543564533155, 29.09448761591763, 28.39046723621652, 28.809412921300527, 28.94933831426964, 25.863882022662686, 25.679666189034954, 23.97361143618789, 23.757765066202303, 23.36671782177623, 23.358753796130863, 230.68916065641787, 127.06606762064672, 40.32829816963289, 81.91291818075702, 83.12974030058906, 53.32425513155331, 72.6435407992898, 82.46555542863005, 110.50848150580151, 96.74102654103409, 223.22742997901383, 104.03559214071413, 69.5267846309028, 94.7100282635448, 103.04818624982055, 51.904895048929355, 548.6959907657504, 180.4939089138932, 104.99681184364728, 212.94673668694915, 282.82674264452817, 278.56434075287194, 218.05929767543537, 283.38579827676426, 262.5688246552512, 160.22046786722697, 172.24852016358693, 163.6027001013014, 118.43701122998037, 155.35435848406772, 131.76567837174272, 154.61334268044013, 169.82076115175732, 146.32126172184417, 146.54543353608344, 145.51825621876128, 158.0239860056807, 164.27229343612225, 122.04306667594845, 65.71089446609822, 59.51656755508447, 58.240973487924386, 54.47435677383099, 53.536667818648624, 41.28700232433597, 37.38247148611645, 43.41036744580969, 32.975326840587186, 31.48700768200034, 30.471950852383625, 28.525872190327664, 28.296325474158326, 27.024952573213064, 26.184789200183843, 25.802211339901618, 28.70413703235674, 24.490220430958555, 23.738078712087464, 20.658492101921333, 19.912076947252068, 19.64599344024066, 18.51073802009532, 18.340297717352136, 17.588091697562003, 17.766470011801157, 16.607332473841865, 16.86622562514147, 16.618378363091576, 67.53838710381096, 79.71616417063359, 37.419228917367, 25.466732011614855, 104.84876591245926, 42.05263714978741, 26.197540954991695, 44.794602328501014, 120.39468059405444, 62.89228007028075, 105.992111901183, 224.93347068784263, 56.90471969886245, 57.913608683460374, 465.69354091612394, 111.38055917623844, 53.57205601856426, 70.20298692969489, 229.48833597805324, 239.4375188389872, 44.83093865177195, 80.37250256334002, 273.41008989381385, 245.65640113626134, 108.10326993445723, 369.49283002856686, 410.3715921219108, 291.3619987129256, 150.340047265151, 133.92688213317913, 101.19437573573549, 181.19476509816695, 169.23380568714782, 239.06430117523388, 173.72210061411394, 165.46191881929758, 142.80166976344074, 124.47813693472615, 94.45746506181398, 135.24090041227555, 135.06593130754803, 134.79302307750172, 107.94829211154037, 101.83956359259847, 105.62356424927547, 103.48661524345336, 104.23183011430048], \"Total\": [875.0, 1203.0, 529.0, 591.0, 348.0, 359.0, 812.0, 2123.0, 1194.0, 238.0, 1199.0, 885.0, 383.0, 171.0, 266.0, 1059.0, 1262.0, 315.0, 1603.0, 455.0, 132.0, 128.0, 129.0, 114.0, 447.0, 122.0, 340.0, 817.0, 115.0, 846.0, 529.3836986183185, 348.020447749512, 171.56203364299233, 128.14292922349176, 122.10560073818324, 115.13516962711289, 113.7538461345763, 108.21686156693656, 129.23899520830767, 69.10504223355053, 80.24559921379115, 66.77612685111166, 63.258171781229045, 64.56910779701943, 60.78996919773654, 50.72722649836357, 45.45957910556634, 45.97399878321127, 40.07370226695325, 40.808753784982116, 40.397492966867574, 40.02479006700495, 39.34885700374366, 34.32825017640365, 33.68564355615728, 32.36923519096319, 359.17592820074566, 31.322356387750567, 29.58750249159074, 28.80495817259196, 116.06476201008084, 115.54088279514966, 84.99220343746032, 60.45381605159133, 164.8236203204179, 383.28529582787064, 92.69067519383215, 50.47242888887439, 107.64215215083097, 391.0685244716462, 885.3837257498448, 1199.370150729397, 601.2626394323274, 274.94142278313893, 1226.4640774042098, 1059.940816199282, 559.6923441482443, 2123.7916858433855, 563.3344328149947, 588.306734930625, 1603.9830449609676, 724.7127761343841, 722.4382728816572, 201.21665158956887, 643.5324802863263, 686.4331411446004, 817.9722724487509, 1194.299795632332, 1203.833404104898, 812.5442067968368, 626.7378632397043, 769.4630958662641, 611.449860210707, 567.3472795243422, 827.8672279310615, 61.79251770910048, 28.614631040967414, 26.138544437577742, 25.823684859851916, 22.61338964853905, 22.305841520939047, 20.88207908445596, 19.747245471824048, 18.807954764313084, 29.27066361242698, 16.193964278539966, 16.903320412735788, 16.657799975870006, 14.938640354034868, 18.31145711400838, 14.707921260292535, 13.826227124514038, 20.234787535303003, 13.220724876752321, 13.295233067499701, 20.20691045731633, 13.995177614764417, 13.27557746209843, 12.787221221903366, 15.327306184932713, 11.667819300682321, 12.427602465580575, 11.43607627275116, 11.545572742477146, 11.552819951638408, 19.129244322547436, 591.4097894651006, 23.619388162243304, 49.92522457413774, 266.167287854389, 1203.833404104898, 25.535902878529644, 98.41680212528736, 91.44281520598292, 812.5442067968368, 1194.299795632332, 447.59923237224035, 2123.7916858433855, 340.53778198053396, 82.59469622053723, 769.4630958662641, 1603.9830449609676, 817.9722724487509, 1199.370150729397, 885.3837257498448, 846.4759878159899, 108.06275657116963, 218.96009509032237, 686.4331411446004, 363.2327235221005, 517.7201737111831, 611.449860210707, 176.91768975799522, 455.1220162530833, 374.2318876722751, 1226.4640774042098, 244.1544163953413, 1262.612006760563, 588.306734930625, 599.0140449154447, 417.5276266477483, 724.7127761343841, 643.5324802863263, 1059.940816199282, 567.3472795243422, 563.3344328149947, 540.0356067742333, 114.89522264478032, 101.93977938829943, 82.34820925635223, 75.65191976216545, 61.670391685098934, 57.79040453554084, 875.9444665204205, 48.42890270421703, 48.0169956785117, 47.505865280259876, 46.77190825986658, 43.02455832727301, 41.470258515982344, 40.18701882019568, 35.461343678381034, 34.04645259916852, 32.97843147840109, 32.91932304356488, 29.989074118787606, 30.203737880931993, 29.819498648137937, 29.115603125019927, 29.55964260389606, 29.766819507568737, 26.59591438513041, 26.41335506167018, 24.688495040626282, 24.469217280914677, 24.087676072832867, 24.0976668090379, 238.8473234635467, 132.21244525596836, 42.26629972816045, 88.90350856138541, 91.01645697320377, 57.08645365999932, 80.42769753336817, 92.63894178381635, 134.20835501017584, 115.46333069995497, 315.77831753726093, 130.88565173818898, 82.03522703693403, 122.65728552461088, 136.37092005684403, 59.013194828105924, 1262.612006760563, 342.0834774233806, 162.54053679950502, 455.1220162530833, 846.4759878159899, 827.8672279310615, 626.7378632397043, 1226.4640774042098, 1199.370150729397, 502.0146494342912, 601.2626394323274, 567.3472795243422, 289.71230263042395, 643.5324802863263, 421.72604652182247, 817.9722724487509, 1194.299795632332, 724.7127761343841, 769.4630958662641, 885.3837257498448, 1603.9830449609676, 2123.7916858433855, 722.4382728816572, 66.51639294953529, 60.25398851001608, 58.9921877264517, 55.182696254916806, 54.241896814168925, 42.06254556364394, 38.094049575896655, 44.33819651927102, 33.68083289628616, 32.21026972071366, 31.180925992198826, 29.225990555192936, 29.012005542383925, 27.73895592794989, 26.889199475935186, 26.517235671596872, 29.547281348359203, 25.209962770733572, 24.45458739285648, 21.385832459162646, 20.644944789263437, 20.372495898943626, 19.217896067095456, 19.04410183092701, 18.2947546492631, 18.49478728116682, 17.315014932994817, 17.594960689729092, 17.338758654238557, 70.52308592926286, 84.73763539096387, 39.548867741502136, 26.80628021378515, 116.52594079833023, 45.11160341697746, 27.809872837982866, 49.796717922752414, 151.24790096387548, 77.65230559963953, 153.51227110142918, 387.4574505495335, 72.70266493474453, 74.52067199263396, 1059.940816199282, 181.2761206399431, 69.51930350436164, 101.33472240797666, 540.0356067742333, 599.0140449154447, 55.69654886443928, 129.4002501289662, 827.8672279310615, 722.4382728816572, 211.52028430729916, 1603.9830449609676, 2123.7916858433855, 1262.612006760563, 417.5276266477483, 349.9178369107576, 213.37321606004616, 626.7378632397043, 559.6923441482443, 1226.4640774042098, 724.7127761343841, 686.4331411446004, 502.0146494342912, 374.2318876722751, 208.98650922146888, 563.3344328149947, 588.306734930625, 643.5324802863263, 421.72604652182247, 431.81671409707087, 611.449860210707, 517.7201737111831, 567.3472795243422], \"Category\": [\"Default\", \"Default\", \"Default\", \"Default\", \"Default\", \"Default\", \"Default\", \"Default\", \"Default\", \"Default\", \"Default\", \"Default\", \"Default\", \"Default\", \"Default\", \"Default\", \"Default\", \"Default\", \"Default\", \"Default\", \"Default\", \"Default\", \"Default\", \"Default\", \"Default\", \"Default\", \"Default\", \"Default\", \"Default\", \"Default\", \"Topic1\", \"Topic1\", \"Topic1\", \"Topic1\", \"Topic1\", \"Topic1\", \"Topic1\", \"Topic1\", \"Topic1\", \"Topic1\", \"Topic1\", \"Topic1\", \"Topic1\", \"Topic1\", \"Topic1\", \"Topic1\", \"Topic1\", \"Topic1\", \"Topic1\", \"Topic1\", \"Topic1\", \"Topic1\", \"Topic1\", \"Topic1\", \"Topic1\", \"Topic1\", \"Topic1\", \"Topic1\", \"Topic1\", \"Topic1\", \"Topic1\", \"Topic1\", \"Topic1\", \"Topic1\", \"Topic1\", \"Topic1\", \"Topic1\", \"Topic1\", \"Topic1\", \"Topic1\", \"Topic1\", \"Topic1\", \"Topic1\", \"Topic1\", \"Topic1\", \"Topic1\", \"Topic1\", \"Topic1\", \"Topic1\", \"Topic1\", \"Topic1\", \"Topic1\", \"Topic1\", \"Topic1\", \"Topic1\", \"Topic1\", \"Topic1\", \"Topic1\", \"Topic1\", \"Topic1\", \"Topic1\", \"Topic1\", \"Topic1\", \"Topic1\", \"Topic1\", \"Topic2\", \"Topic2\", \"Topic2\", \"Topic2\", \"Topic2\", \"Topic2\", \"Topic2\", \"Topic2\", \"Topic2\", \"Topic2\", \"Topic2\", \"Topic2\", \"Topic2\", \"Topic2\", \"Topic2\", \"Topic2\", \"Topic2\", \"Topic2\", \"Topic2\", \"Topic2\", \"Topic2\", \"Topic2\", \"Topic2\", \"Topic2\", \"Topic2\", \"Topic2\", \"Topic2\", \"Topic2\", \"Topic2\", \"Topic2\", \"Topic2\", \"Topic2\", \"Topic2\", \"Topic2\", \"Topic2\", \"Topic2\", \"Topic2\", \"Topic2\", \"Topic2\", \"Topic2\", \"Topic2\", \"Topic2\", \"Topic2\", \"Topic2\", \"Topic2\", \"Topic2\", \"Topic2\", \"Topic2\", \"Topic2\", \"Topic2\", \"Topic2\", \"Topic2\", \"Topic2\", \"Topic2\", \"Topic2\", \"Topic2\", \"Topic2\", \"Topic2\", \"Topic2\", \"Topic2\", \"Topic2\", \"Topic2\", \"Topic2\", \"Topic2\", \"Topic2\", \"Topic2\", \"Topic2\", \"Topic2\", \"Topic2\", \"Topic2\", \"Topic2\", \"Topic2\", \"Topic3\", \"Topic3\", \"Topic3\", \"Topic3\", \"Topic3\", \"Topic3\", \"Topic3\", \"Topic3\", \"Topic3\", \"Topic3\", \"Topic3\", \"Topic3\", \"Topic3\", \"Topic3\", \"Topic3\", \"Topic3\", \"Topic3\", \"Topic3\", \"Topic3\", \"Topic3\", \"Topic3\", \"Topic3\", \"Topic3\", \"Topic3\", \"Topic3\", \"Topic3\", \"Topic3\", \"Topic3\", \"Topic3\", \"Topic3\", \"Topic3\", \"Topic3\", \"Topic3\", \"Topic3\", \"Topic3\", \"Topic3\", \"Topic3\", \"Topic3\", \"Topic3\", \"Topic3\", \"Topic3\", \"Topic3\", \"Topic3\", \"Topic3\", \"Topic3\", \"Topic3\", \"Topic3\", \"Topic3\", \"Topic3\", \"Topic3\", \"Topic3\", \"Topic3\", \"Topic3\", \"Topic3\", \"Topic3\", \"Topic3\", \"Topic3\", \"Topic3\", \"Topic3\", \"Topic3\", \"Topic3\", \"Topic3\", \"Topic3\", \"Topic3\", \"Topic3\", \"Topic3\", \"Topic3\", \"Topic3\", \"Topic3\", \"Topic4\", \"Topic4\", \"Topic4\", \"Topic4\", \"Topic4\", \"Topic4\", \"Topic4\", \"Topic4\", \"Topic4\", \"Topic4\", \"Topic4\", \"Topic4\", \"Topic4\", \"Topic4\", \"Topic4\", \"Topic4\", \"Topic4\", \"Topic4\", \"Topic4\", \"Topic4\", \"Topic4\", \"Topic4\", \"Topic4\", \"Topic4\", \"Topic4\", \"Topic4\", \"Topic4\", \"Topic4\", \"Topic4\", \"Topic4\", \"Topic4\", \"Topic4\", \"Topic4\", \"Topic4\", \"Topic4\", \"Topic4\", \"Topic4\", \"Topic4\", \"Topic4\", \"Topic4\", \"Topic4\", \"Topic4\", \"Topic4\", \"Topic4\", \"Topic4\", \"Topic4\", \"Topic4\", \"Topic4\", \"Topic4\", \"Topic4\", \"Topic4\", \"Topic4\", \"Topic4\", \"Topic4\", \"Topic4\", \"Topic4\", \"Topic4\", \"Topic4\", \"Topic4\", \"Topic4\", \"Topic4\", \"Topic4\", \"Topic4\", \"Topic4\", \"Topic4\", \"Topic4\", \"Topic4\", \"Topic4\", \"Topic4\", \"Topic4\", \"Topic4\", \"Topic4\", \"Topic4\", \"Topic4\", \"Topic4\", \"Topic4\"], \"logprob\": [30.0, 29.0, 28.0, 27.0, 26.0, 25.0, 24.0, 23.0, 22.0, 21.0, 20.0, 19.0, 18.0, 17.0, 16.0, 15.0, 14.0, 13.0, 12.0, 11.0, 10.0, 9.0, 8.0, 7.0, 6.0, 5.0, 4.0, 3.0, 2.0, 1.0, -3.8577, -4.2778, -4.9873, -5.2804, -5.3289, -5.3882, -5.4003, -5.4504, -5.2756, -5.9025, -5.7536, -5.9373, -5.9919, -5.9714, -6.0322, -6.2155, -6.3271, -6.3163, -6.4548, -6.4367, -6.4468, -6.4562, -6.4735, -6.6129, -6.6319, -6.6732, -4.2674, -6.7069, -6.7645, -6.7919, -5.4009, -5.4361, -5.7475, -6.0774, -5.1639, -4.4107, -5.7343, -6.26, -5.6658, -4.7647, -4.3466, -4.1745, -4.6266, -5.148, -4.2163, -4.3085, -4.7128, -3.9191, -4.784, -4.77, -4.2959, -4.7274, -4.7389, -5.3764, -4.9197, -4.9205, -4.8705, -4.7785, -4.7837, -4.975, -5.0467, -5.0413, -5.0961, -5.1559, -5.1444, -5.9633, -6.7389, -6.8325, -6.845, -6.9814, -6.9957, -7.0646, -7.1223, -7.1725, -6.732, -7.33, -7.2875, -7.3021, -7.413, -7.2103, -7.43, -7.4946, -7.1152, -7.5422, -7.5373, -7.1206, -7.4892, -7.5428, -7.5811, -7.4005, -7.6742, -7.6117, -7.6949, -7.6856, -7.687, -7.1875, -3.803, -6.9818, -6.2571, -4.66, -3.2552, -6.9191, -5.6409, -5.7584, -3.794, -3.4877, -4.4316, -3.1093, -4.712, -5.9377, -4.0682, -3.4674, -4.0358, -3.7811, -4.0706, -4.1535, -5.7902, -5.2332, -4.3514, -4.8818, -4.6418, -4.5416, -5.5228, -4.8763, -5.0229, -4.2546, -5.3444, -4.3662, -4.8362, -4.8613, -5.1143, -4.8576, -4.9285, -4.7807, -5.0232, -5.0283, -5.0582, -5.2624, -5.3823, -5.5975, -5.683, -5.8897, -5.9556, -3.2378, -6.1344, -6.1431, -6.1541, -6.1704, -6.2549, -6.292, -6.3239, -6.4516, -6.493, -6.5255, -6.5278, -6.6231, -6.6161, -6.6291, -6.6536, -6.6389, -6.6341, -6.7468, -6.7539, -6.8227, -6.8317, -6.8483, -6.8487, -4.5586, -5.1549, -6.3026, -5.594, -5.5792, -6.0232, -5.7141, -5.5872, -5.2945, -5.4276, -4.5914, -5.3549, -5.7579, -5.4488, -5.3644, -6.0502, -3.6921, -4.8039, -5.3457, -4.6386, -4.3548, -4.37, -4.6149, -4.3528, -4.4291, -4.9231, -4.8507, -4.9022, -5.2252, -4.9539, -5.1186, -4.9587, -4.8649, -5.0138, -5.0123, -5.0193, -4.9369, -4.8981, -5.1952, -5.798, -5.897, -5.9187, -5.9855, -6.0029, -6.2627, -6.362, -6.2125, -6.4875, -6.5337, -6.5664, -6.6324, -6.6405, -6.6865, -6.7181, -6.7328, -6.6262, -6.785, -6.8162, -6.9551, -6.9919, -7.0054, -7.0649, -7.0741, -7.116, -7.1059, -7.1734, -7.1579, -7.1727, -5.7705, -5.6048, -6.3611, -6.7459, -5.3307, -6.2443, -6.7176, -6.1812, -5.1925, -5.8418, -5.3199, -4.5674, -5.9419, -5.9243, -3.8397, -5.2703, -6.0022, -5.7319, -4.5474, -4.5049, -6.1803, -5.5966, -4.3723, -4.4793, -5.3002, -4.0711, -3.9662, -4.3087, -4.9703, -5.0859, -5.3662, -4.7837, -4.852, -4.5065, -4.8258, -4.8745, -5.0218, -5.1591, -5.4351, -5.0762, -5.0775, -5.0795, -5.3016, -5.3598, -5.3234, -5.3438, -5.3366], \"loglift\": [30.0, 29.0, 28.0, 27.0, 26.0, 25.0, 24.0, 23.0, 22.0, 21.0, 20.0, 19.0, 18.0, 17.0, 16.0, 15.0, 14.0, 13.0, 12.0, 11.0, 10.0, 9.0, 8.0, 7.0, 6.0, 5.0, 4.0, 3.0, 2.0, 1.0, 1.3032, 1.3026, 1.3004, 1.2991, 1.2989, 1.2983, 1.2983, 1.2981, 1.2954, 1.2945, 1.294, 1.2939, 1.2935, 1.2935, 1.293, 1.2907, 1.2887, 1.2882, 1.2871, 1.287, 1.287, 1.2869, 1.2866, 1.2837, 1.2837, 1.2823, 1.2814, 1.2814, 1.2808, 1.2801, 1.2776, 1.2469, 1.2425, 1.2534, 1.1639, 1.0731, 1.169, 1.2512, 1.088, 0.699, 0.3, 0.1686, 0.407, 0.6681, 0.1044, 0.1581, 0.3924, -0.1475, 0.3147, 0.2854, -0.2435, 0.1195, 0.1111, 0.7519, 0.046, -0.0193, -0.1447, -0.4312, -0.4444, -0.2426, -0.0546, -0.2544, -0.0793, -0.0643, -0.4307, 1.3455, 1.3398, 1.3368, 1.3363, 1.3327, 1.332, 1.3291, 1.3273, 1.3258, 1.324, 1.318, 1.3176, 1.3176, 1.3157, 1.3148, 1.3142, 1.3115, 1.31, 1.3086, 1.308, 1.306, 1.3048, 1.3039, 1.3031, 1.3025, 1.3016, 1.301, 1.301, 1.3007, 1.2987, 1.2939, 1.2471, 1.2887, 1.265, 1.1885, 1.0841, 1.2734, 1.2025, 1.1585, 0.9384, 0.8596, 0.8972, 0.6624, 0.8901, 1.081, 0.7187, 0.585, 0.69, 0.562, 0.576, 0.5381, 0.9597, 0.8106, 0.5498, 0.6558, 0.5413, 0.4752, 0.7342, 0.4357, 0.4849, 0.0662, 0.5904, -0.0745, 0.2192, 0.176, 0.284, -0.0108, 0.0372, -0.314, 0.0685, 0.0705, 0.0828, 1.4262, 1.4259, 1.4241, 1.4235, 1.4211, 1.4202, 1.4195, 1.4181, 1.418, 1.4177, 1.417, 1.4159, 1.4157, 1.4152, 1.4126, 1.4119, 1.4113, 1.4107, 1.4087, 1.4086, 1.4084, 1.4078, 1.4073, 1.4052, 1.4051, 1.4048, 1.4036, 1.4035, 1.4026, 1.4019, 1.3982, 1.3933, 1.3861, 1.3511, 1.3424, 1.3648, 1.3312, 1.3167, 1.2387, 1.2561, 1.0862, 1.2034, 1.2676, 1.1744, 1.1528, 1.3047, 0.5996, 0.7936, 0.996, 0.6735, 0.3368, 0.3438, 0.3772, -0.0321, -0.086, 0.2909, 0.1829, 0.1895, 0.5385, 0.0117, 0.2697, -0.2329, -0.5176, -0.167, -0.2254, -0.3727, -0.8845, -1.1264, -0.3453, 1.4372, 1.4371, 1.4366, 1.4365, 1.4363, 1.4308, 1.4305, 1.4282, 1.4282, 1.4267, 1.4264, 1.4251, 1.4244, 1.4233, 1.4228, 1.422, 1.4204, 1.4204, 1.4196, 1.4148, 1.4132, 1.4131, 1.4119, 1.4117, 1.41, 1.4092, 1.4077, 1.4071, 1.4069, 1.4061, 1.3883, 1.394, 1.3981, 1.3438, 1.3792, 1.3897, 1.3435, 1.2212, 1.2386, 1.079, 0.9056, 1.2044, 1.1973, 0.6269, 0.9623, 1.1888, 1.0823, 0.5936, 0.5324, 1.2324, 0.9731, 0.3415, 0.3707, 0.7782, -0.0187, -0.1945, -0.017, 0.4279, 0.489, 0.7034, 0.2084, 0.2533, -0.1858, 0.0211, 0.0266, 0.1922, 0.3486, 0.6553, 0.0226, -0.0221, -0.1138, 0.0867, 0.0048, -0.3066, -0.1606, -0.245]}, \"token.table\": {\"Topic\": [1, 2, 3, 4, 1, 1, 4, 4, 4, 1, 1, 2, 3, 4, 1, 2, 2, 1, 2, 3, 4, 1, 2, 2, 4, 1, 2, 4, 1, 2, 3, 4, 2, 1, 2, 3, 4, 1, 2, 3, 4, 1, 2, 1, 2, 3, 2, 4, 4, 1, 2, 3, 4, 1, 3, 4, 1, 3, 2, 3, 1, 2, 3, 4, 2, 3, 1, 2, 3, 4, 4, 2, 3, 1, 2, 3, 4, 1, 1, 3, 4, 4, 3, 2, 3, 3, 4, 2, 3, 4, 1, 3, 2, 2, 3, 4, 3, 4, 1, 2, 3, 4, 1, 2, 3, 4, 3, 1, 3, 2, 3, 4, 1, 2, 3, 4, 4, 4, 1, 2, 3, 4, 3, 2, 3, 4, 1, 1, 1, 1, 1, 1, 2, 3, 4, 1, 2, 3, 3, 1, 2, 3, 4, 4, 4, 4, 4, 3, 4, 2, 2, 1, 2, 3, 4, 1, 2, 3, 4, 1, 2, 3, 4, 3, 1, 2, 3, 4, 1, 2, 3, 4, 2, 1, 3, 1, 2, 3, 1, 2, 3, 4, 1, 4, 3, 3, 2, 4, 3, 4, 2, 2, 3, 1, 2, 3, 4, 2, 4, 1, 2, 3, 4, 1, 2, 3, 4, 4, 1, 2, 3, 4, 1, 1, 1, 2, 3, 4, 1, 2, 3, 4, 1, 2, 3, 4, 2, 3, 1, 2, 3, 4, 1, 2, 3, 2, 3, 2, 4, 1, 2, 3, 4, 1, 3, 1, 1, 4, 1, 2, 3, 4, 3, 1, 2, 3, 4, 1, 2, 4, 2, 3, 1, 2, 3, 4, 1, 2, 1, 2, 3, 4, 1, 2, 3, 4, 1, 2, 1, 2, 3, 4, 2, 2, 1, 2, 3, 4, 1, 2, 3, 4, 1, 2, 3, 4, 1, 4, 1, 3, 2, 1, 2, 3, 4, 3, 3, 4, 1, 2, 3, 4, 1, 2, 3, 4, 2, 3, 4, 2, 2, 1, 2, 3, 4, 1, 2, 3, 4, 1, 2, 3, 4, 1, 2, 3, 4, 1, 2, 3, 4, 1, 2, 3, 4, 4, 1, 1, 2, 3, 4, 1, 3, 2, 3, 2, 3, 1, 2, 3, 4, 1, 2, 3, 4, 1, 2, 3, 4, 1, 2, 3, 4, 4, 3, 1, 4, 1, 4, 3, 3, 4, 1, 4, 1, 1, 2, 3, 4, 3, 2, 3, 1, 2, 3, 2, 4, 1, 2, 3, 4, 1, 2, 3, 4, 1, 2, 3, 4, 1, 2, 1, 2, 3, 1, 2, 3, 4, 1, 2, 3, 4, 3, 4, 1, 1, 2, 1, 2, 3, 4, 2, 2, 1, 2, 1, 2, 4, 4, 4, 1, 2, 3, 4, 1, 2, 3, 4, 2, 1, 1, 2, 3, 4, 3, 2, 4, 1, 2, 3, 4, 1, 2, 3, 4, 4, 1, 2, 3, 4, 2, 3, 4, 2, 4, 1, 2, 4, 4, 2, 4], \"Freq\": [0.2375545806473755, 0.46282185539919707, 0.17611805116960597, 0.12696882758739036, 0.9901604545808429, 0.9433890183551182, 0.05192967073514412, 0.9817157455428452, 0.9838885705266907, 0.9840092387207307, 0.36408546126762875, 0.01103289276568572, 0.00551644638284286, 0.6123255484955575, 0.03416389915995775, 0.956589176478817, 0.928891390866341, 0.3063282548765697, 0.25251383172257774, 0.20145912257648277, 0.24009511868704111, 0.9911860668911752, 0.9621595086317107, 0.19834986012245745, 0.7933994404898298, 0.18590853706445953, 0.8092489260452944, 0.9922366062464171, 0.26245093472388226, 0.11716559585887601, 0.14528533886500625, 0.47334900726985907, 0.968103511782995, 0.2632547131441987, 0.0800087853673545, 0.07484692824688002, 0.5807089260533795, 0.19546697035318206, 0.4927970097636562, 0.07157945393215118, 0.23951586508065972, 0.9897084247506795, 0.9564419342363637, 0.15490315082985998, 0.07337517670888104, 0.7745157541492999, 0.9871745360363628, 0.01618318911535021, 0.9687601591650249, 0.2665955196959964, 0.44286906004143667, 0.05098821414950751, 0.24037300956196397, 0.08252792391290469, 0.13754653985484114, 0.7840152771725944, 0.9992751975186998, 0.9893515194960552, 0.05255187190060311, 0.9284164035773217, 0.8082335614963676, 0.009290040936739857, 0.13935061405109786, 0.04645020468369929, 0.2419870745628502, 0.7552929903022294, 0.12398217777254872, 0.8378189588872231, 0.007514071380154468, 0.03005628552061787, 0.96242596751882, 0.9314381832789398, 0.04233809923995181, 0.4020065708463663, 0.1643760200794031, 0.1322154944116938, 0.3019516021023818, 0.9909455362284827, 0.04317838614061958, 0.8851569158827014, 0.06476757921092938, 0.9732472034609093, 0.954449249475629, 0.033494199909763586, 0.9671450223944236, 0.06650173730847637, 0.9310243223186692, 0.6662795053963031, 0.32388587067875846, 0.009253882019393098, 0.9883771807723716, 0.9891294401287074, 0.965592521424397, 0.13411981689690794, 0.827072204197599, 0.03725550469358554, 0.9463804557594027, 0.023659511393985064, 0.008809595171943322, 0.6225447254839949, 0.2584147917103375, 0.10865167378730099, 0.0011416248840207582, 0.012557873724228341, 0.9863638997939351, 0.0011416248840207582, 0.9725180272878562, 0.9510142677239101, 0.03962559448849625, 0.06748890001182761, 0.922348300161644, 0.011248150001971269, 0.2568857084328147, 0.10690274822980489, 0.34783282259846965, 0.2887969765611147, 0.9520045792317382, 0.9957847021201948, 0.16441352012178193, 0.5754473204262367, 0.03196929557923538, 0.22835211128025268, 0.9843505279543218, 0.9262710317249376, 0.911922994590265, 0.07690916821845609, 0.9970678511676231, 0.9856639806951198, 0.990437899551627, 0.993373005307579, 0.9844776632488891, 0.12962108261365832, 0.27775946274355356, 0.16850740739775583, 0.4240461131218251, 0.10160866624450689, 0.8535127964538579, 0.040643466497802754, 0.9911436625595962, 0.2871588707706326, 0.25473770794169026, 0.22231654511274787, 0.2362113291822946, 0.9451745301408008, 0.9621266542085927, 0.9797857464397434, 0.9669309799746554, 0.9808241810300711, 0.9955404064316251, 0.9076658134760163, 0.91340251385873, 0.23401541842020857, 0.4953404832556527, 0.07722037951894206, 0.19305094879735515, 0.0974170999019537, 0.23681067374539963, 0.43481290931847627, 0.23047460220706117, 0.31794228021938903, 0.18680288274017515, 0.05660693416368944, 0.4396471886713213, 0.9834963274199157, 0.10986726302768636, 0.43710631527144034, 0.33432726276166924, 0.1193182103849067, 0.021981374389757436, 0.889400225308647, 0.06932587307538883, 0.02029049943669917, 0.9521484837509298, 0.9796458228558333, 0.954845122063909, 0.030254337950227354, 0.007563584487556839, 0.9605752299197184, 0.3659430262574564, 0.4540404214675848, 0.1649002525728044, 0.014682899201688065, 0.9959187599963859, 0.9922674800443065, 0.9703311699635592, 0.974239118580547, 0.035958452806522545, 0.9349197729695861, 0.9616836676805347, 0.980494359291346, 0.9371669488126243, 0.9527461517374588, 0.9907810337246297, 0.25022493250268446, 0.41049972587041694, 0.16518116459327534, 0.17335844996918007, 0.059005658783501794, 0.9440905405360287, 0.19315453613323227, 0.4384607970224373, 0.16804444643591207, 0.19894917221722924, 0.1931990083101374, 0.11591940498608244, 0.06955164299164947, 0.6182368265924397, 0.9804623467576933, 0.08475120462104739, 0.7506535266435626, 0.07264388967518347, 0.08475120462104739, 0.9910808249006201, 0.988593020848813, 0.2538127972002052, 0.27320127476410977, 0.2890645745891226, 0.18330924242237043, 0.24753721463017445, 0.013028274454219708, 0.04559896058976898, 0.6904985460736445, 0.14696770054016609, 0.4141817015222863, 0.10421346038302687, 0.331345361217829, 0.9006926486761583, 0.07832109988488332, 0.11045440497161525, 0.27958771258440107, 0.4073006183328312, 0.2036503091664156, 0.1362272045427114, 0.3954983357691621, 0.46800636399350853, 0.9465595876621269, 0.960146062527846, 0.9618683661816594, 0.9814109563349545, 0.2347267828837432, 0.5097972315756297, 0.18949297576552185, 0.06723944301357228, 0.9735943799220073, 0.017231758936672694, 0.9901405484458888, 0.9788141382305219, 0.9831810318503105, 0.8675940967805909, 0.04853673268702606, 0.018201274757634774, 0.06067091585878258, 0.9692639755604355, 0.2105364128186289, 0.5237418170735028, 0.1910423005206077, 0.07537723421901528, 0.06024493430779466, 0.020081644769264887, 0.9036740146169199, 0.155893649445945, 0.8400935553475926, 0.13651791249753317, 0.34009725569560895, 0.16286347455846062, 0.35925766446719254, 0.9412628072275626, 0.05882892545172266, 0.2400563536331622, 0.27720793217162776, 0.10002348068048424, 0.3829470403195682, 0.7931428711434919, 0.04435338424157685, 0.11218797190516498, 0.049571429446468245, 0.9911342531827425, 0.9862887252806872, 0.5764930441075558, 0.14412326102688894, 0.1838814019998238, 0.0993953524323372, 0.9570418594452318, 0.9384368809890513, 0.5446615789081313, 0.1125122510420553, 0.16109708671930645, 0.18155385963604376, 0.1538077853824101, 0.1476554739671137, 0.6459926986061224, 0.05537080273766764, 0.11304692044847463, 0.5313205261078308, 0.005652346022423731, 0.35044545339027133, 0.04253926158320845, 0.9642232625527248, 0.997996046422004, 0.9788200893425155, 0.957759039179554, 0.10526995298383582, 0.24403489100798303, 0.2009699102418684, 0.4497897991127531, 0.9913826408607349, 0.9922083562382044, 0.9712803026174226, 0.8738743118508422, 0.08630857400995973, 0.02157714350248993, 0.010788571751244966, 0.9967240208625535, 0.1256810366659775, 0.05386330142827607, 0.807949521424141, 0.06778145144744713, 0.8811588688168127, 0.05083608858558535, 0.9728749356875527, 0.9402420402128988, 0.2789330592723869, 0.08037054250221316, 0.1276473322093974, 0.5105893288375896, 0.22036211190779806, 0.30383260884257, 0.07679285717999022, 0.3989889753482101, 0.060072460707395615, 0.008581780101056516, 0.02574534030316955, 0.9010869106109343, 0.21291149275679444, 0.6522722032433587, 0.12183952475677833, 0.012307022702704881, 0.11507595152327842, 0.014384493940409802, 0.10069145758286861, 0.7767626727821293, 0.2509886915491142, 0.14541408319908997, 0.31871579879252593, 0.2848522451708201, 0.9819585017371003, 0.9801435592018043, 0.08532919640544724, 0.012189885200778178, 0.8532919640544725, 0.06094942600389089, 0.9898903792202056, 0.9869902369587227, 0.9605109932390307, 0.9721127173003731, 0.903915481963765, 0.9886603427899754, 0.2843679310771975, 0.2657208536295124, 0.24085808369926565, 0.2097796212864572, 0.3031400857632503, 0.1882513774602833, 0.16887255919231295, 0.34051352099433596, 0.3210018189679493, 0.4477350046384124, 0.21928176204823552, 0.011672793417016339, 0.16102914371446014, 0.02683819061907669, 0.040257285928615036, 0.778307527953224, 0.9698184269021994, 0.9775937620906322, 0.03730469099124575, 0.9326172747811436, 0.05057034788131804, 0.9355514358043838, 0.9704626305945552, 0.9810673420042536, 0.9651176978818139, 0.9732068112948308, 0.9747389144093473, 0.9801818553626173, 0.11985378630040126, 0.19293536331284106, 0.5261873544895665, 0.15785620634686995, 0.9720734523505158, 0.19864667864440855, 0.7945867145776342, 0.9772369817718517, 0.022273207561751607, 0.9761866625223773, 0.9283805157698178, 0.9661857335051396, 0.3710051930531254, 0.27337224751282924, 0.11360924571961735, 0.23964450268981785, 0.360356234957942, 0.3178613959298828, 0.09178885230060786, 0.22947213075151968, 0.527385064542891, 0.1636712269271041, 0.08365418265163098, 0.22186544094563, 0.9904131473143175, 0.0077376027133931055, 0.9743961163746427, 0.9785203925891112, 0.9957715017788881, 0.2278824283486996, 0.6255596072317243, 0.09606808253915768, 0.049151111996778345, 0.17635678170867003, 0.15703001111045964, 0.3370105623062941, 0.3297630233319652, 0.9670188511032434, 0.9733603553836244, 0.9720548744501257, 0.08011981987302026, 0.9013479735714779, 0.40747584155788036, 0.15966400322267965, 0.2860646724406344, 0.14635866962078967, 0.9518680275911094, 0.9427640004123763, 0.052275980333489215, 0.9409676460028059, 0.9428685188600197, 0.016541552962456484, 0.03308310592491297, 0.9785676247232767, 0.9886618146786352, 0.009500335625944326, 0.09183657771746181, 0.7061916148618615, 0.19317349106086795, 0.30086490652134074, 0.27314293681476737, 0.23074463020471392, 0.19486913999620714, 0.9777940660384961, 0.9870049416349111, 0.21259576344729886, 0.45823427018699314, 0.0985047818905373, 0.23005230707347002, 0.9863229104919184, 0.18029084766885517, 0.8113088145098483, 0.1578925724549135, 0.009868285778432094, 0.1381560008980493, 0.6907800044902466, 0.2300071356749379, 0.2015526446636054, 0.3129994011246578, 0.2560904191019927, 0.9814777765200522, 0.17667255807264398, 0.6037010159733474, 0.14234281930023449, 0.07786989526424593, 0.024867055272472915, 0.9076475174452614, 0.07460116581741874, 0.9389769952786158, 0.04941984185676925, 0.17361206233963952, 0.755087869218815, 0.07060777654961416, 0.9818068344605042, 0.9402723904841503, 0.049488020551797386], \"Term\": [\"actually\", \"actually\", \"actually\", \"actually\", \"adjust\", \"adopt\", \"adopt\", \"adverse\", \"affordable\", \"aggressive\", \"ago\", \"ago\", \"ago\", \"ago\", \"allergic\", \"allergic\", \"along\", \"also\", \"also\", \"also\", \"also\", \"anxious\", \"anything_else\", \"apply\", \"apply\", \"around\", \"around\", \"arrive\", \"away\", \"away\", \"away\", \"away\", \"awesome\", \"back\", \"back\", \"back\", \"back\", \"bad\", \"bad\", \"bad\", \"bad\", \"behavioral\", \"best_price\", \"break\", \"break\", \"break\", \"brush\", \"brush\", \"burn\", \"buy\", \"buy\", \"buy\", \"buy\", \"call\", \"call\", \"call\", \"calm\", \"canned_food\", \"capsule\", \"capsule\", \"change\", \"change\", \"change\", \"change\", \"chew\", \"chew\", \"clean\", \"clean\", \"clean\", \"clean\", \"cold\", \"combine\", \"combine\", \"come\", \"come\", \"come\", \"come\", \"comfort_zone\", \"contain\", \"contain\", \"contain\", \"convenient\", \"crumble\", \"daily\", \"daily\", \"dead\", \"dead\", \"dental\", \"dental\", \"dental\", \"diffuser\", \"digestive\", \"disappointed\", \"dry\", \"dry\", \"dry\", \"dry_food\", \"dry_food\", \"easy\", \"easy\", \"easy\", \"easy\", \"eat\", \"eat\", \"eat\", \"eat\", \"eat_anything\", \"empty\", \"empty\", \"enjoy\", \"enjoy\", \"enjoy\", \"even\", \"even\", \"even\", \"even\", \"exact\", \"excellent\", \"expensive\", \"expensive\", \"expensive\", \"expensive\", \"fair\", \"familiar\", \"feed\", \"feed\", \"feliway\", \"feliway_diffuser\", \"feliway_spray\", \"female\", \"feral\", \"find\", \"find\", \"find\", \"find\", \"fine\", \"fine\", \"fine\", \"finicky\", \"first\", \"first\", \"first\", \"first\", \"flea_comb\", \"flea_free\", \"flea_problem\", \"flea_treatment\", \"flex\", \"frontline_plus\", \"generic\", \"gentle\", \"get\", \"get\", \"get\", \"get\", \"give\", \"give\", \"give\", \"give\", \"go\", \"go\", \"go\", \"go\", \"gobble\", \"good\", \"good\", \"good\", \"good\", \"great\", \"great\", \"great\", \"great\", \"gross\", \"growl\", \"hairball_remedy\", \"healthy\", \"healthy\", \"healthy\", \"help\", \"help\", \"help\", \"help\", \"hiss\", \"home_zone\", \"hyaluronic_acid\", \"increase\", \"infest\", \"infest\", \"ingredient\", \"inside\", \"instantly\", \"itchy\", \"joint\", \"keep\", \"keep\", \"keep\", \"keep\", \"kill\", \"kill\", \"know\", \"know\", \"know\", \"know\", \"later\", \"later\", \"later\", \"later\", \"leak\", \"lick\", \"lick\", \"lick\", \"lick\", \"litter_box\", \"litter_boxes\", \"little\", \"little\", \"little\", \"little\", \"live\", \"live\", \"live\", \"live\", \"long\", \"long\", \"long\", \"long\", \"long_time\", \"long_time\", \"look\", \"look\", \"look\", \"look\", \"love\", \"love\", \"love\", \"lucky\", \"lysine\", \"m\", \"maine_coon\", \"make\", \"make\", \"make\", \"make\", \"male\", \"male\", \"mark\", \"mellow\", \"monthly\", \"move\", \"move\", \"move\", \"move\", \"move_free\", \"much\", \"much\", \"much\", \"much\", \"multiple\", \"multiple\", \"multiple\", \"natural\", \"natural\", \"need\", \"need\", \"need\", \"need\", \"nervous\", \"nervous\", \"never\", \"never\", \"never\", \"never\", \"new\", \"new\", \"new\", \"new\", \"new_home\", \"next_time\", \"notice\", \"notice\", \"notice\", \"notice\", \"odor\", \"okay\", \"old\", \"old\", \"old\", \"old\", \"open\", \"open\", \"open\", \"open\", \"order\", \"order\", \"order\", \"order\", \"pay\", \"pay\", \"pee\", \"per_day\", \"perfectly\", \"pet\", \"pet\", \"pet\", \"pet\", \"pet_naturals\", \"picky\", \"pill_pockets\", \"play\", \"play\", \"play\", \"play\", \"plug\", \"poor\", \"poor\", \"poor\", \"prefer\", \"prefer\", \"prefer\", \"pricey\", \"puppy\", \"purchase\", \"purchase\", \"purchase\", \"purchase\", \"put\", \"put\", \"put\", \"put\", \"quickly\", \"quickly\", \"quickly\", \"quickly\", \"really\", \"really\", \"really\", \"really\", \"receive\", \"receive\", \"receive\", \"receive\", \"recommend\", \"recommend\", \"recommend\", \"recommend\", \"red\", \"refill\", \"refuse\", \"refuse\", \"refuse\", \"refuse\", \"relax\", \"renal\", \"report\", \"rosemary\", \"sad\", \"salmon_oil\", \"say\", \"say\", \"say\", \"say\", \"see\", \"see\", \"see\", \"see\", \"seem\", \"seem\", \"seem\", \"seem\", \"sell\", \"sell\", \"sell\", \"sell\", \"send\", \"senior\", \"several_times\", \"several_times\", \"severe\", \"severe\", \"shape\", \"shed\", \"ship\", \"shy\", \"side_effects\", \"skittish\", \"small\", \"small\", \"small\", \"small\", \"sneeze\", \"soft\", \"soft\", \"spray\", \"spray\", \"sprinkle\", \"squeeze\", \"squirt\", \"start\", \"start\", \"start\", \"start\", \"still\", \"still\", \"still\", \"still\", \"stop\", \"stop\", \"stop\", \"stop\", \"stress\", \"stress\", \"stressful\", \"stuff_works\", \"supplement\", \"sure\", \"sure\", \"sure\", \"sure\", \"take\", \"take\", \"take\", \"take\", \"tasty\", \"taurine\", \"territorial\", \"thank\", \"thank\", \"think\", \"think\", \"think\", \"think\", \"tick\", \"tight\", \"tired\", \"tired\", \"together\", \"together\", \"together\", \"topical\", \"track\", \"treat\", \"treat\", \"treat\", \"treat\", \"try\", \"try\", \"try\", \"try\", \"upper\", \"urinate\", \"use\", \"use\", \"use\", \"use\", \"vetri_science\", \"wait\", \"wait\", \"walk\", \"walk\", \"walk\", \"walk\", \"want\", \"want\", \"want\", \"want\", \"wash\", \"well\", \"well\", \"well\", \"well\", \"wet_food\", \"wet_food\", \"wet_food\", \"wipe\", \"wipe\", \"work\", \"work\", \"work\", \"worm\", \"worried\", \"worried\"]}, \"R\": 30, \"lambda.step\": 0.01, \"plot.opts\": {\"xlab\": \"PC1\", \"ylab\": \"PC2\"}, \"topic.order\": [1, 3, 2, 4]};\n",
       "\n",
       "function LDAvis_load_lib(url, callback){\n",
       "  var s = document.createElement('script');\n",
       "  s.src = url;\n",
       "  s.async = true;\n",
       "  s.onreadystatechange = s.onload = callback;\n",
       "  s.onerror = function(){console.warn(\"failed to load library \" + url);};\n",
       "  document.getElementsByTagName(\"head\")[0].appendChild(s);\n",
       "}\n",
       "\n",
       "if(typeof(LDAvis) !== \"undefined\"){\n",
       "   // already loaded: just create the visualization\n",
       "   !function(LDAvis){\n",
       "       new LDAvis(\"#\" + \"ldavis_el2993617954848834246715634814\", ldavis_el2993617954848834246715634814_data);\n",
       "   }(LDAvis);\n",
       "}else if(typeof define === \"function\" && define.amd){\n",
       "   // require.js is available: use it to load d3/LDAvis\n",
       "   require.config({paths: {d3: \"https://d3js.org/d3.v5\"}});\n",
       "   require([\"d3\"], function(d3){\n",
       "      window.d3 = d3;\n",
       "      LDAvis_load_lib(\"https://cdn.jsdelivr.net/gh/bmabey/pyLDAvis@3.3.1/pyLDAvis/js/ldavis.v3.0.0.js\", function(){\n",
       "        new LDAvis(\"#\" + \"ldavis_el2993617954848834246715634814\", ldavis_el2993617954848834246715634814_data);\n",
       "      });\n",
       "    });\n",
       "}else{\n",
       "    // require.js not available: dynamically load d3 & LDAvis\n",
       "    LDAvis_load_lib(\"https://d3js.org/d3.v5.js\", function(){\n",
       "         LDAvis_load_lib(\"https://cdn.jsdelivr.net/gh/bmabey/pyLDAvis@3.3.1/pyLDAvis/js/ldavis.v3.0.0.js\", function(){\n",
       "                 new LDAvis(\"#\" + \"ldavis_el2993617954848834246715634814\", ldavis_el2993617954848834246715634814_data);\n",
       "            })\n",
       "         });\n",
       "}\n",
       "</script>"
      ],
      "text/plain": [
       "<IPython.core.display.HTML object>"
      ]
     },
     "execution_count": 177,
     "metadata": {},
     "output_type": "execute_result"
    }
   ],
   "source": [
    "pyLDAvis.enable_notebook()\n",
    "topic_data =  pyLDAvis.gensim_models.prepare(cats_health_supplies_optimal_model, \n",
    "                                             cats_health_supplies_doc_term_matrix, \n",
    "                                             cats_health_supplies_dictionary, \n",
    "                                             mds = 'tsne')\n",
    "pyLDAvis.display(topic_data)"
   ]
  },
  {
   "cell_type": "markdown",
   "id": "da0eb026",
   "metadata": {},
   "source": [
    "## 7. cats treats"
   ]
  },
  {
   "cell_type": "code",
   "execution_count": 179,
   "id": "dc76fdc3",
   "metadata": {},
   "outputs": [
    {
     "data": {
      "application/vnd.jupyter.widget-view+json": {
       "model_id": "5dfff5b289bc486288c4d9a22670e800",
       "version_major": 2,
       "version_minor": 0
      },
      "text/plain": [
       "  0%|          | 0/2237 [00:00<?, ?it/s]"
      ]
     },
     "metadata": {},
     "output_type": "display_data"
    },
    {
     "data": {
      "application/vnd.jupyter.widget-view+json": {
       "model_id": "d97a8b62d66142658989e6af5e429ae4",
       "version_major": 2,
       "version_minor": 0
      },
      "text/plain": [
       "  0%|          | 0/2237 [00:00<?, ?it/s]"
      ]
     },
     "metadata": {},
     "output_type": "display_data"
    }
   ],
   "source": [
    "cats_treats_dictionary, cats_treats_doc_term_matrix = vectorize(cats_treats_reviews2)\n",
    "# cat_treats_model_list, cats_treats_coherence_values = compute_coherence_values(dictionary=cats_treats_dictionary, \n",
    "#                                                     corpus=cats_treats_doc_term_matrix, \n",
    "#                                                     texts=cats_treats_reviews2, \n",
    "#                                                     start=2, \n",
    "#                                                     limit=20, \n",
    "#                                                     step=2)\n",
    "\n",
    "# limit=20; start=2; step=2;\n",
    "# x = range(start, limit, step)\n",
    "# plt.plot(x, cats_treats_coherence_values)\n",
    "# plt.xlabel(\"Num Topics\")\n",
    "# plt.ylabel(\"Coherence score\")\n",
    "# plt.legend((\"coherence_values\"), loc='best')\n",
    "# plt.show()\n",
    "# for m, cv in zip(x, cats_treats_coherence_values):\n",
    "#     print(\"Num Topics =\", m, \" has Coherence Value of\", round(cv, 4))"
   ]
  },
  {
   "cell_type": "code",
   "execution_count": 41,
   "id": "bdc69a0f",
   "metadata": {},
   "outputs": [],
   "source": [
    "# with open ('./cat_treats_model_list.pickle', 'wb') as handle:\n",
    "#      pickle.dump(cat_treats_model_list, handle)"
   ]
  },
  {
   "cell_type": "code",
   "execution_count": 180,
   "id": "a46d18f7",
   "metadata": {},
   "outputs": [],
   "source": [
    "with open ('./cat_treats_model_list.pickle', 'rb') as handle:\n",
    "     cat_treats_model_list = pickle.load(handle)"
   ]
  },
  {
   "cell_type": "code",
   "execution_count": 189,
   "id": "875057cf",
   "metadata": {},
   "outputs": [
    {
     "data": {
      "text/plain": [
       "[(0,\n",
       "  '0.049*\"eat\" + 0.027*\"get\" + 0.019*\"try\" + 0.016*\"give\" + 0.016*\"use\" + 0.016*\"make\" + 0.013*\"take\" + 0.013*\"easy\" + 0.012*\"great\" + 0.012*\"buy\" + 0.011*\"much\" + 0.010*\"good\" + 0.009*\"work\" + 0.009*\"first\" + 0.009*\"even\" + 0.009*\"little\" + 0.009*\"well\" + 0.008*\"like\" + 0.008*\"pill_pockets\" + 0.008*\"put\" + 0.008*\"really\" + 0.007*\"say\" + 0.007*\"want\" + 0.007*\"keep\" + 0.007*\"actually\" + 0.006*\"also\" + 0.006*\"need\" + 0.006*\"come\" + 0.006*\"sure\" + 0.006*\"love\"'),\n",
       " (1,\n",
       "  '0.023*\"go\" + 0.020*\"try\" + 0.018*\"seem\" + 0.018*\"love\" + 0.017*\"get\" + 0.016*\"buy\" + 0.015*\"well\" + 0.014*\"really\" + 0.014*\"much\" + 0.013*\"grow\" + 0.013*\"good\" + 0.011*\"enjoy\" + 0.011*\"come\" + 0.010*\"make\" + 0.008*\"give\" + 0.008*\"also\" + 0.008*\"put\" + 0.008*\"small\" + 0.008*\"like\" + 0.008*\"think\" + 0.008*\"different\" + 0.007*\"away\" + 0.007*\"happy\" + 0.007*\"many\" + 0.006*\"scratch\" + 0.006*\"keep\" + 0.006*\"catnip\" + 0.006*\"crazy\" + 0.006*\"take\" + 0.006*\"old\"'),\n",
       " (2,\n",
       "  '0.050*\"get\" + 0.041*\"love\" + 0.028*\"give\" + 0.019*\"good\" + 0.018*\"open\" + 0.012*\"come\" + 0.012*\"know\" + 0.010*\"even\" + 0.010*\"really\" + 0.010*\"go\" + 0.010*\"buy\" + 0.009*\"come_running\" + 0.009*\"think\" + 0.009*\"recommend\" + 0.008*\"want\" + 0.007*\"keep\" + 0.007*\"say\" + 0.006*\"highly\" + 0.006*\"sure\" + 0.006*\"try\" + 0.006*\"always\" + 0.006*\"great\" + 0.006*\"well\" + 0.006*\"hear\" + 0.006*\"see\" + 0.006*\"usually\" + 0.005*\"favorite\" + 0.005*\"fresh\" + 0.005*\"big\" + 0.005*\"also\"'),\n",
       " (3,\n",
       "  '0.026*\"little\" + 0.016*\"find\" + 0.013*\"give\" + 0.013*\"love\" + 0.012*\"even\" + 0.011*\"well\" + 0.010*\"cheap\" + 0.010*\"go\" + 0.010*\"like\" + 0.010*\"natural\" + 0.010*\"know\" + 0.009*\"use\" + 0.008*\"seem\" + 0.008*\"long\" + 0.008*\"healthy\" + 0.008*\"make\" + 0.008*\"still\" + 0.007*\"small\" + 0.007*\"much\" + 0.007*\"also\" + 0.007*\"look\" + 0.007*\"gobble\" + 0.007*\"last\" + 0.006*\"think\" + 0.006*\"dental\" + 0.006*\"dry\" + 0.006*\"get\" + 0.006*\"crunchy\" + 0.005*\"help\" + 0.005*\"say\"')]"
      ]
     },
     "execution_count": 189,
     "metadata": {},
     "output_type": "execute_result"
    }
   ],
   "source": [
    "cat_treats_optimal_model = cat_treats_model_list[1]\n",
    "model_topics = cat_treats_optimal_model.show_topics(formatted=False)\n",
    "cat_treats_optimal_model.print_topics(num_topics=4, num_words=30)"
   ]
  },
  {
   "cell_type": "code",
   "execution_count": 190,
   "id": "1839ea90",
   "metadata": {},
   "outputs": [],
   "source": [
    "keywords_dict = get_keywords(cats_treats_doc_term_matrix, model = cat_treats_optimal_model)"
   ]
  },
  {
   "cell_type": "code",
   "execution_count": 191,
   "id": "f1eabdb6",
   "metadata": {},
   "outputs": [
    {
     "data": {
      "text/plain": [
       "['open', 'come_running', 'recommend', 'want', 'keep', 'say', 'highly', 'sure']"
      ]
     },
     "execution_count": 191,
     "metadata": {},
     "output_type": "execute_result"
    }
   ],
   "source": [
    "[w for w in keywords_dict[3] if w not in  keywords_dict[1]\\\n",
    "                                and w not in  keywords_dict[2]\\\n",
    "                                and w not in  keywords_dict[0]]  "
   ]
  },
  {
   "cell_type": "code",
   "execution_count": 192,
   "id": "5c36c3e5",
   "metadata": {},
   "outputs": [
    {
     "data": {
      "text/plain": [
       "['eat', 'take', 'easy', 'great', 'work', 'first', 'pill_pockets']"
      ]
     },
     "execution_count": 192,
     "metadata": {},
     "output_type": "execute_result"
    }
   ],
   "source": [
    "[w for w in keywords_dict[1] if w not in  keywords_dict[3]\\\n",
    "                                and w not in  keywords_dict[2]\\\n",
    "                                and w not in  keywords_dict[0]]  "
   ]
  },
  {
   "cell_type": "code",
   "execution_count": 193,
   "id": "fa9e9628",
   "metadata": {},
   "outputs": [
    {
     "data": {
      "text/plain": [
       "['find', 'cheap', 'natural', 'long', 'healthy', 'still']"
      ]
     },
     "execution_count": 193,
     "metadata": {},
     "output_type": "execute_result"
    }
   ],
   "source": [
    "[w for w in keywords_dict[2] if w not in  keywords_dict[1]\\\n",
    "                                and w not in  keywords_dict[0]\\\n",
    "                                and w not in  keywords_dict[3]]  "
   ]
  },
  {
   "cell_type": "code",
   "execution_count": 194,
   "id": "7637709c",
   "metadata": {},
   "outputs": [
    {
     "data": {
      "text/plain": [
       "['grow', 'enjoy']"
      ]
     },
     "execution_count": 194,
     "metadata": {},
     "output_type": "execute_result"
    }
   ],
   "source": [
    "[w for w in keywords_dict[0] if w not in  keywords_dict[1]\\\n",
    "                                and w not in  keywords_dict[2]\\\n",
    "                                and w not in  keywords_dict[3]]  "
   ]
  },
  {
   "cell_type": "code",
   "execution_count": 182,
   "id": "0243e46e",
   "metadata": {},
   "outputs": [
    {
     "name": "stderr",
     "output_type": "stream",
     "text": [
      "C:\\Users\\JiatingChen\\anaconda3\\lib\\site-packages\\pyLDAvis\\_prepare.py:246: FutureWarning: In a future version of pandas all arguments of DataFrame.drop except for the argument 'labels' will be keyword-only\n",
      "  default_term_info = default_term_info.sort_values(\n",
      "C:\\Users\\JiatingChen\\anaconda3\\lib\\site-packages\\sklearn\\manifold\\_t_sne.py:691: FutureWarning: 'square_distances' has been introduced in 0.24 to help phase out legacy squaring behavior. The 'legacy' setting will be removed in 1.1 (renaming of 0.26), and the default setting will be changed to True. In 1.3, 'square_distances' will be removed altogether, and distances will be squared by default. Set 'square_distances'=True to silence this warning.\n",
      "  warnings.warn(\n"
     ]
    },
    {
     "data": {
      "text/html": [
       "\n",
       "<link rel=\"stylesheet\" type=\"text/css\" href=\"https://cdn.jsdelivr.net/gh/bmabey/pyLDAvis@3.3.1/pyLDAvis/js/ldavis.v1.0.0.css\">\n",
       "\n",
       "\n",
       "<div id=\"ldavis_el299361797399646720839382268\"></div>\n",
       "<script type=\"text/javascript\">\n",
       "\n",
       "var ldavis_el299361797399646720839382268_data = {\"mdsDat\": {\"x\": [269.5624084472656, 1.782994270324707, 220.81143188476562, 50.533992767333984], \"y\": [-124.80339813232422, -295.0796813964844, -343.8321228027344, -76.05093383789062], \"topics\": [1, 2, 3, 4], \"cluster\": [1, 1, 1, 1], \"Freq\": [30.17117939571631, 29.53726270756041, 23.131886639071887, 17.159671257651397]}, \"tinfo\": {\"Term\": [\"eat\", \"open\", \"get\", \"love\", \"little\", \"grow\", \"come_running\", \"pill_pockets\", \"cheap\", \"enjoy\", \"easy\", \"natural\", \"find\", \"go\", \"give\", \"hear\", \"gobble\", \"walk\", \"scratch\", \"fast\", \"seem\", \"know\", \"work\", \"highly\", \"want\", \"like\", \"use\", \"healthy\", \"crunchy\", \"great\", \"pill_pockets\", \"pill_pocket\", \"eventually\", \"sick\", \"pille\", \"twice\", \"messy\", \"medicate\", \"happily\", \"perfectly\", \"generally\", \"weird\", \"handy\", \"directly\", \"possibly\", \"plenty\", \"fix\", \"taurine\", \"pill\", \"involve\", \"got\", \"count\", \"pliable\", \"interest\", \"problem\", \"young\", \"tough\", \"closed\", \"previously\", \"single\", \"eat\", \"easy\", \"female\", \"wear\", \"work\", \"refuse\", \"daily\", \"fit\", \"whole\", \"use\", \"moist\", \"take\", \"first\", \"great\", \"actually\", \"twice_day\", \"soft\", \"make\", \"try\", \"feed\", \"wet_food\", \"definitely\", \"throw\", \"need\", \"chew\", \"get\", \"want\", \"right\", \"give\", \"much\", \"hard\", \"buy\", \"put\", \"like\", \"say\", \"even\", \"sure\", \"little\", \"good\", \"well\", \"keep\", \"really\", \"also\", \"see\", \"come\", \"love\", \"cat_nip\", \"walk\", \"great_price\", \"stay\", \"heavy\", \"reach\", \"fast\", \"kibble\", \"third\", \"every_time\", \"forever\", \"rub\", \"sweet\", \"adopt\", \"climb\", \"pull\", \"cardboard\", \"certify\", \"cute\", \"admit\", \"eliminate\", \"wooden\", \"purr\", \"please\", \"originally\", \"joint\", \"disappear\", \"kinda\", \"supply\", \"luckily\", \"enjoy\", \"bottom\", \"grow\", \"stand\", \"perfect\", \"scratch\", \"sprout\", \"crazy\", \"organic\", \"different\", \"yet\", \"seem\", \"go\", \"many\", \"absolutely\", \"away\", \"save\", \"top\", \"try\", \"happy\", \"well\", \"buy\", \"really\", \"much\", \"turn\", \"catnip\", \"old\", \"love\", \"come\", \"good\", \"small\", \"put\", \"large\", \"get\", \"also\", \"make\", \"like\", \"think\", \"give\", \"keep\", \"take\", \"come_running\", \"open\", \"good_price\", \"hear\", \"total\", \"forward\", \"prime\", \"shake\", \"everyday\", \"crack\", \"foster\", \"live\", \"smoke\", \"inhale\", \"brush\", \"lid\", \"rid\", \"commercial\", \"groom\", \"hardly\", \"serve\", \"stinky\", \"reward\", \"plain\", \"medley\", \"wrap\", \"mad\", \"draw\", \"split\", \"smartbite\", \"stale\", \"whiskas_temptations\", \"highly\", \"bonito_flakes\", \"love\", \"get\", \"smell\", \"jump\", \"soon\", \"pass\", \"potent\", \"give\", \"fresh\", \"recommend\", \"special\", \"good\", \"know\", \"usually\", \"want\", \"favorite\", \"wait\", \"free\", \"nice\", \"come\", \"always\", \"even\", \"think\", \"bad\", \"really\", \"buy\", \"sure\", \"go\", \"say\", \"keep\", \"catnip\", \"big\", \"see\", \"great\", \"try\", \"well\", \"also\", \"dried_ground\", \"crude\", \"list\", \"hairball\", \"respond\", \"incline\", \"flake\", \"ok\", \"cool\", \"dangle\", \"cosmic\", \"garlic\", \"guarantee\", \"noticed\", \"sensitive\", \"ingredient\", \"rosemary\", \"gobble\", \"stuff\", \"preservative\", \"recyclable\", \"approve\", \"hunt\", \"cat_man\", \"vegetable\", \"concerned\", \"crawl\", \"cheap\", \"sprinkle\", \"arabic\", \"scratcher\", \"crunchy\", \"natural\", \"semi\", \"carry\", \"otherwise\", \"shape\", \"little\", \"ignore\", \"find\", \"human\", \"dental\", \"healthy\", \"break\", \"flat\", \"long\", \"rather\", \"pet\", \"still\", \"even\", \"like\", \"know\", \"last\", \"look\", \"well\", \"give\", \"dry\", \"love\", \"go\", \"small\", \"use\", \"purchase\", \"seem\", \"also\", \"make\", \"much\", \"think\", \"help\", \"expensive\", \"say\", \"get\"], \"Freq\": [639.0, 156.0, 951.0, 689.0, 351.0, 164.0, 79.0, 93.0, 76.0, 142.0, 171.0, 83.0, 232.0, 444.0, 588.0, 52.0, 47.0, 62.0, 90.0, 63.0, 331.0, 240.0, 134.0, 71.0, 159.0, 248.0, 306.0, 103.0, 45.0, 242.0, 92.58150694514781, 38.90903649647241, 18.436415061965626, 24.125728162911738, 15.98768085015603, 18.668667165235217, 12.5523431056715, 9.915484741915881, 13.205184736329185, 9.355844989468881, 8.473381612335496, 8.194241298807027, 9.332311374654934, 7.686022759703023, 7.47768880743715, 6.90387550343073, 6.751238548426374, 18.530842932028403, 6.454450285765031, 6.566395556539954, 6.194607872449241, 6.178525211806492, 6.270097173595999, 6.024887170150111, 5.790780245259274, 24.568861205210034, 5.920527925922289, 5.586515913811862, 5.90342543652751, 17.084345749415665, 539.2110340586163, 142.00192743670087, 13.34063453934908, 11.677417930416237, 101.49589081689476, 31.33792607585899, 49.20473381957118, 17.01045275816594, 48.01595731529773, 173.19098436593592, 16.444030304354836, 145.0720643758277, 101.23177455849837, 130.23214714489833, 72.9073687690458, 22.001674336247703, 55.8172931072629, 172.83810552191295, 206.1802445593242, 41.59958516023032, 23.044539068022253, 42.320442518087695, 26.943635212721606, 69.78139329748845, 44.46772362317248, 301.1352200277763, 76.53269582756657, 58.32701281993214, 181.49179583049212, 124.66118846664975, 49.932392620892664, 129.9695199140334, 87.4150570724825, 92.68780696614517, 82.41184701319025, 100.41397788917747, 67.96781980695883, 97.6173566947395, 108.1466943290669, 95.12577933487569, 74.64059164545479, 86.98613441966432, 71.71772883561347, 64.65090757589599, 68.74744463508209, 67.12814270530033, 44.842114904243665, 60.72727698042136, 23.374266384138632, 24.608108379413068, 26.62046056182337, 17.91083133975046, 60.50245063641751, 16.336294018069758, 15.033171312642843, 22.258304093612402, 11.509197551177976, 16.211697564289782, 9.205764521338818, 11.571870336793172, 8.637548179289068, 49.64454490751897, 8.857053511672992, 7.50578229444148, 15.708259002582873, 7.356566829586226, 7.497540104385258, 14.357209230543628, 6.948966583590245, 6.855640089060187, 6.358372255810968, 6.476117828042715, 8.757208936083659, 5.712500779137705, 5.64685746444337, 5.9059609934081445, 124.67794561072934, 16.717082312886454, 141.35500075606248, 23.37674150868764, 32.29149984126243, 70.38871053929154, 15.190358171719202, 65.56737544360203, 31.568211758072753, 83.15640516075055, 25.321508618417692, 196.71585340192453, 252.63494027326942, 72.13670018577098, 41.88165335624423, 76.16290278549242, 34.053990984332685, 58.58557043610006, 216.0577420289802, 74.97743960502254, 166.61483625573294, 176.12360676445454, 152.853741032561, 149.91547968143672, 46.00505900676152, 66.57595579689466, 62.351095347889974, 196.39061494993857, 114.39266424860779, 139.26734202346782, 87.41716756972686, 89.8145762448597, 58.6443812175621, 186.28167988492842, 89.82477031611062, 104.59913799984908, 86.0278280258428, 84.50022569631305, 90.18491359200243, 66.74036176923897, 63.00811690634422, 78.44684121447987, 153.01888209455478, 24.672919204795782, 50.473195898947594, 16.1123423461081, 12.813725060852217, 11.673002097221268, 26.220870440782907, 9.957928423874367, 9.583496946293051, 8.82716490389011, 23.332598089601493, 8.627859094204958, 8.490740843441296, 8.47181294556549, 8.466047369134001, 8.329491009370109, 7.491184817839536, 7.536771322037702, 7.211679721073642, 23.0117434638923, 6.361278999196196, 6.360166118080252, 7.153049814161269, 6.098505767756747, 6.038595502516859, 5.672841128275888, 5.667098344601003, 5.651178595102265, 5.138898012061823, 16.22989450181103, 16.747645841931234, 54.907893362413056, 32.668978941758176, 345.1574599159901, 427.4474135872583, 41.85636849893915, 11.926655748545421, 34.54906622698424, 16.87934040761247, 15.566185285322343, 235.8737473013365, 45.876788782321185, 75.66398437160427, 24.591251766892892, 157.97999710059722, 100.07583534225354, 47.798420325911096, 70.71228772898655, 46.75614522399094, 32.23582539524865, 33.951840508542254, 42.46523636105888, 100.2318804999036, 51.3095315080213, 87.08931542061532, 77.5885650997009, 40.76228843422551, 86.86080911675171, 83.16454543581825, 54.20630456642673, 83.52928503689562, 57.294762725896106, 58.30139788440236, 44.7719069329559, 45.23421935208834, 49.5867637928363, 51.12098982538992, 53.647247796392314, 50.84453945350372, 44.9855999270055, 21.15375544944654, 16.00468820254755, 15.914250461055166, 13.400058899471997, 12.25883137497052, 11.232792107158422, 20.149401185117906, 9.944880214731365, 9.695897442007345, 9.511545507009792, 11.780473342333885, 7.2034107325446275, 6.878812739354636, 6.792181525356911, 8.30366625948196, 17.791718331637714, 5.90094170271912, 42.00840811235472, 5.746420063719665, 5.211561048042424, 5.207224855993906, 5.056922522625115, 5.009905144826844, 17.11490333444772, 4.735048203511542, 6.476777861903431, 4.60206674645896, 66.07932362190907, 19.03526484470933, 4.213784769040591, 9.961193588936444, 36.00796519238393, 63.03350175626637, 9.858693757229249, 16.03782954525015, 19.263877034799727, 7.966532014193404, 165.5567930821199, 19.600501096604063, 100.49578393255868, 20.15058328172111, 37.84315546616894, 51.46758629876162, 22.823706555389958, 17.195005082009075, 53.02351360138597, 22.934238468867452, 25.59196802184528, 48.463611240980214, 75.55352208057761, 63.94254580628791, 60.862713668723096, 41.82039006059088, 44.11802711149025, 69.07319204778693, 81.12960114161348, 37.620580202263575, 80.9778164091151, 65.83362984184845, 46.96473333188526, 55.731297006054824, 31.533606046614736, 53.576558379358076, 45.125655665788216, 51.433399594510654, 46.60612286136904, 38.50818772433144, 32.68274803133396, 27.72313822994823, 32.65670073852, 37.05681421977582], \"Total\": [639.0, 156.0, 951.0, 689.0, 351.0, 164.0, 79.0, 93.0, 76.0, 142.0, 171.0, 83.0, 232.0, 444.0, 588.0, 52.0, 47.0, 62.0, 90.0, 63.0, 331.0, 240.0, 134.0, 71.0, 159.0, 248.0, 306.0, 103.0, 45.0, 242.0, 93.69219760156467, 40.29332897198874, 19.151224580363518, 25.174322247543166, 16.692336517595336, 19.643150363049852, 13.266232046406735, 10.61858787492205, 14.142209106391872, 10.055285485449746, 9.17369319311701, 8.926233802812323, 10.171038678359237, 8.382340866218096, 8.176140627696064, 7.604126121167169, 7.452235475345632, 20.48001346784318, 7.148224235463604, 7.298761632887459, 6.889313814377881, 6.887912804785941, 6.994798936184511, 6.743568135142019, 6.493302694576677, 27.568759086642764, 6.643882715271645, 6.280997226887566, 6.643708465548158, 19.269488873076362, 639.9616095783665, 171.81149750248107, 15.277732026716102, 13.349635423462765, 134.2999497416451, 40.46957393723133, 67.51474828651496, 21.40912631678607, 69.29878991239673, 306.9729469789509, 20.713476894129933, 256.66456935035154, 170.41084164684253, 242.6532781715705, 126.58168669950399, 29.51136662238466, 91.87406368692314, 373.2025111082457, 502.561878958843, 66.27917338906478, 31.48600959745955, 68.93088769168605, 38.560833998314365, 132.99156339326788, 73.96854581578626, 951.9211277197388, 159.1132037640261, 109.99527942557538, 588.6800578654445, 354.36912390457746, 92.1483366199732, 413.7859281553244, 223.14148515603904, 248.1947539447084, 211.8839860563486, 313.923317646045, 168.77454683021685, 351.9673496208254, 433.5435850975684, 381.65834709189926, 230.08853124013265, 354.3796794302503, 251.6537547445178, 181.61810771836898, 306.0834967399984, 689.6540339803441, 45.54812456895978, 62.38073200824249, 24.08059637923005, 25.414769243082375, 27.508129945556483, 18.660832747421722, 63.145730304533245, 17.120274702635253, 15.799161200605363, 23.5191420294603, 12.222751284623143, 17.34549290994862, 9.91646421471792, 12.539924017895952, 9.360493232242607, 53.83145429851804, 9.613860489076846, 8.206761837726427, 17.190153611574253, 8.057278322579775, 8.213976971973926, 15.754913021572696, 7.651888486074833, 7.562331901970464, 7.060516071203443, 7.2014984255313585, 9.762013325011337, 6.415953073656353, 6.347828559585522, 6.645914947848177, 142.39262628488964, 18.86937522031048, 164.21290195467404, 27.72482341018617, 39.06928380067822, 90.9235251760831, 17.78248340337072, 88.4948942253538, 39.86212475208637, 117.34440883506723, 31.5145076029767, 331.8314737581901, 444.05043040658643, 111.91278272903524, 58.9676994908777, 122.2494478694055, 46.713786324941815, 92.26435276951725, 502.561878958843, 131.21338780451725, 381.65834709189926, 413.7859281553244, 354.3796794302503, 354.36912390457746, 70.8945927443602, 127.60443007389352, 116.66039985377859, 689.6540339803441, 306.0834967399984, 433.5435850975684, 204.3676736754151, 223.14148515603904, 109.52520286155932, 951.9211277197388, 251.6537547445178, 373.2025111082457, 248.1947539447084, 264.6516391448076, 588.6800578654445, 230.08853124013265, 256.66456935035154, 79.16044058188206, 156.89104564089936, 25.485448479863184, 52.756284778074885, 16.87285392936383, 13.526579379687544, 12.396088889903188, 27.904886108756155, 10.684757138384184, 10.289232613220229, 9.540021108797214, 25.222504375424915, 9.334553332816771, 9.195890337952392, 9.187490260462878, 9.187182192199314, 9.040827527547984, 8.204191956544657, 8.262596848843742, 7.9266079922036665, 25.374596388359205, 7.073528963922517, 7.081123646540662, 7.970194831900899, 6.823681364660806, 6.77938058159031, 6.383688758833466, 6.391003174320046, 6.383601418185446, 5.840878076759701, 18.533145343047973, 19.89979761813152, 71.93982697201308, 41.443353294312004, 689.6540339803441, 951.9211277197388, 63.998586141402946, 14.906913968329663, 53.145306546737174, 22.599405775039717, 20.477622537854884, 588.6800578654445, 79.870732013836, 154.45466051261005, 37.18333381459038, 433.5435850975684, 240.30593077157332, 90.64809636198056, 159.1132037640261, 93.95883722628487, 56.78519706208467, 61.82905283966851, 85.60517375778089, 306.0834967399984, 118.19927543924375, 313.923317646045, 264.6516391448076, 89.60125221234479, 354.3796794302503, 413.7859281553244, 168.77454683021685, 444.05043040658643, 211.8839860563486, 230.08853124013265, 127.60443007389352, 131.778742067299, 181.61810771836898, 242.6532781715705, 502.561878958843, 381.65834709189926, 251.6537547445178, 21.84938841118065, 16.705346408896926, 16.70250784688613, 14.128178140335384, 12.982991901266834, 11.943708762435342, 21.439718087647023, 10.66320506319207, 10.440116600760632, 10.247829188779926, 12.836578248156142, 7.898533332705757, 7.599178494665808, 7.510028978520314, 9.22884604229345, 19.843765052708946, 6.603933055014565, 47.02941524241588, 6.454757569801341, 5.905632582408392, 5.90527424704649, 5.763704784644782, 5.756139918733824, 19.68186338066352, 5.457597041555334, 7.466189084467385, 5.310251409358325, 76.3935777996854, 22.12681828233801, 4.909031110738749, 11.972226326218998, 45.92764345519747, 83.62725329883986, 11.932439111988739, 21.102499201922928, 26.50584941528418, 9.61366064487492, 351.9673496208254, 28.439223887047298, 232.4824453869093, 30.73341338859091, 68.35443631594939, 103.12111205346056, 37.45204529486131, 26.1438781037156, 132.65323370741908, 39.579510691926686, 48.14805392240275, 143.50508936070128, 313.923317646045, 248.1947539447084, 240.30593077157332, 124.58425052236844, 152.05824571203755, 381.65834709189926, 588.6800578654445, 118.81644024106208, 689.6540339803441, 444.05043040658643, 204.3676736754151, 306.9729469789509, 84.87717296106077, 331.8314737581901, 251.6537547445178, 373.2025111082457, 354.36912390457746, 264.6516391448076, 143.19389617407893, 74.55324309455781, 211.8839860563486, 951.9211277197388], \"Category\": [\"Default\", \"Default\", \"Default\", \"Default\", \"Default\", \"Default\", \"Default\", \"Default\", \"Default\", \"Default\", \"Default\", \"Default\", \"Default\", \"Default\", \"Default\", \"Default\", \"Default\", \"Default\", \"Default\", \"Default\", \"Default\", \"Default\", \"Default\", \"Default\", \"Default\", \"Default\", \"Default\", \"Default\", \"Default\", \"Default\", \"Topic1\", \"Topic1\", \"Topic1\", \"Topic1\", \"Topic1\", \"Topic1\", \"Topic1\", \"Topic1\", \"Topic1\", \"Topic1\", \"Topic1\", \"Topic1\", \"Topic1\", \"Topic1\", \"Topic1\", \"Topic1\", \"Topic1\", \"Topic1\", \"Topic1\", \"Topic1\", \"Topic1\", \"Topic1\", \"Topic1\", \"Topic1\", \"Topic1\", \"Topic1\", \"Topic1\", \"Topic1\", \"Topic1\", \"Topic1\", \"Topic1\", \"Topic1\", \"Topic1\", \"Topic1\", \"Topic1\", \"Topic1\", \"Topic1\", \"Topic1\", \"Topic1\", \"Topic1\", \"Topic1\", \"Topic1\", \"Topic1\", \"Topic1\", \"Topic1\", \"Topic1\", \"Topic1\", \"Topic1\", \"Topic1\", \"Topic1\", \"Topic1\", \"Topic1\", \"Topic1\", \"Topic1\", \"Topic1\", \"Topic1\", \"Topic1\", \"Topic1\", \"Topic1\", \"Topic1\", \"Topic1\", \"Topic1\", \"Topic1\", \"Topic1\", \"Topic1\", \"Topic1\", \"Topic1\", \"Topic1\", \"Topic1\", \"Topic1\", \"Topic1\", \"Topic1\", \"Topic1\", \"Topic1\", \"Topic1\", \"Topic1\", \"Topic2\", \"Topic2\", \"Topic2\", \"Topic2\", \"Topic2\", \"Topic2\", \"Topic2\", \"Topic2\", \"Topic2\", \"Topic2\", \"Topic2\", \"Topic2\", \"Topic2\", \"Topic2\", \"Topic2\", \"Topic2\", \"Topic2\", \"Topic2\", \"Topic2\", \"Topic2\", \"Topic2\", \"Topic2\", \"Topic2\", \"Topic2\", \"Topic2\", \"Topic2\", \"Topic2\", \"Topic2\", \"Topic2\", \"Topic2\", \"Topic2\", \"Topic2\", \"Topic2\", \"Topic2\", \"Topic2\", \"Topic2\", \"Topic2\", \"Topic2\", \"Topic2\", \"Topic2\", \"Topic2\", \"Topic2\", \"Topic2\", \"Topic2\", \"Topic2\", \"Topic2\", \"Topic2\", \"Topic2\", \"Topic2\", \"Topic2\", \"Topic2\", \"Topic2\", \"Topic2\", \"Topic2\", \"Topic2\", \"Topic2\", \"Topic2\", \"Topic2\", \"Topic2\", \"Topic2\", \"Topic2\", \"Topic2\", \"Topic2\", \"Topic2\", \"Topic2\", \"Topic2\", \"Topic2\", \"Topic2\", \"Topic2\", \"Topic2\", \"Topic2\", \"Topic3\", \"Topic3\", \"Topic3\", \"Topic3\", \"Topic3\", \"Topic3\", \"Topic3\", \"Topic3\", \"Topic3\", \"Topic3\", \"Topic3\", \"Topic3\", \"Topic3\", \"Topic3\", \"Topic3\", \"Topic3\", \"Topic3\", \"Topic3\", \"Topic3\", \"Topic3\", \"Topic3\", \"Topic3\", \"Topic3\", \"Topic3\", \"Topic3\", \"Topic3\", \"Topic3\", \"Topic3\", \"Topic3\", \"Topic3\", \"Topic3\", \"Topic3\", \"Topic3\", \"Topic3\", \"Topic3\", \"Topic3\", \"Topic3\", \"Topic3\", \"Topic3\", \"Topic3\", \"Topic3\", \"Topic3\", \"Topic3\", \"Topic3\", \"Topic3\", \"Topic3\", \"Topic3\", \"Topic3\", \"Topic3\", \"Topic3\", \"Topic3\", \"Topic3\", \"Topic3\", \"Topic3\", \"Topic3\", \"Topic3\", \"Topic3\", \"Topic3\", \"Topic3\", \"Topic3\", \"Topic3\", \"Topic3\", \"Topic3\", \"Topic3\", \"Topic3\", \"Topic3\", \"Topic3\", \"Topic3\", \"Topic3\", \"Topic3\", \"Topic3\", \"Topic4\", \"Topic4\", \"Topic4\", \"Topic4\", \"Topic4\", \"Topic4\", \"Topic4\", \"Topic4\", \"Topic4\", \"Topic4\", \"Topic4\", \"Topic4\", \"Topic4\", \"Topic4\", \"Topic4\", \"Topic4\", \"Topic4\", \"Topic4\", \"Topic4\", \"Topic4\", \"Topic4\", \"Topic4\", \"Topic4\", \"Topic4\", \"Topic4\", \"Topic4\", \"Topic4\", \"Topic4\", \"Topic4\", \"Topic4\", \"Topic4\", \"Topic4\", \"Topic4\", \"Topic4\", \"Topic4\", \"Topic4\", \"Topic4\", \"Topic4\", \"Topic4\", \"Topic4\", \"Topic4\", \"Topic4\", \"Topic4\", \"Topic4\", \"Topic4\", \"Topic4\", \"Topic4\", \"Topic4\", \"Topic4\", \"Topic4\", \"Topic4\", \"Topic4\", \"Topic4\", \"Topic4\", \"Topic4\", \"Topic4\", \"Topic4\", \"Topic4\", \"Topic4\", \"Topic4\", \"Topic4\", \"Topic4\", \"Topic4\", \"Topic4\", \"Topic4\", \"Topic4\", \"Topic4\", \"Topic4\", \"Topic4\", \"Topic4\", \"Topic4\"], \"logprob\": [30.0, 29.0, 28.0, 27.0, 26.0, 25.0, 24.0, 23.0, 22.0, 21.0, 20.0, 19.0, 18.0, 17.0, 16.0, 15.0, 14.0, 13.0, 12.0, 11.0, 10.0, 9.0, 8.0, 7.0, 6.0, 5.0, 4.0, 3.0, 2.0, 1.0, -4.7869, -5.6537, -6.4006, -6.1317, -6.5432, -6.3881, -6.7851, -7.0209, -6.7344, -7.079, -7.178, -7.2115, -7.0815, -7.2756, -7.303, -7.3829, -7.4052, -6.3955, -7.4502, -7.433, -7.4913, -7.4939, -7.4792, -7.5191, -7.5587, -6.1135, -7.5365, -7.5946, -7.5394, -6.4768, -3.0249, -4.3591, -6.7242, -6.8573, -4.695, -5.8701, -5.419, -6.4811, -5.4434, -4.1606, -6.515, -4.3377, -4.6976, -4.4457, -5.0258, -6.2239, -5.2929, -4.1626, -3.9862, -5.5869, -6.1775, -5.5697, -6.0212, -5.0696, -5.5202, -3.6074, -4.9773, -5.2489, -4.1138, -4.4894, -5.4043, -4.4477, -4.8443, -4.7857, -4.9032, -4.7057, -5.0959, -4.7339, -4.6315, -4.7598, -5.0023, -4.8492, -5.0422, -5.146, -5.0845, -5.1084, -5.4906, -5.1873, -6.1421, -6.0907, -6.0121, -6.4083, -5.1911, -6.5003, -6.5835, -6.191, -6.8506, -6.508, -7.0739, -6.8452, -7.1376, -5.3888, -7.1125, -7.2781, -6.5395, -7.2981, -7.2792, -6.6295, -7.3551, -7.3687, -7.444, -7.4256, -7.1239, -7.5511, -7.5626, -7.5178, -4.468, -6.4773, -4.3425, -6.142, -5.8189, -5.0397, -6.5731, -5.1107, -5.8416, -4.873, -6.0621, -4.012, -3.7618, -5.0152, -5.5589, -4.9609, -5.7658, -5.2232, -3.9182, -4.9765, -4.1781, -4.1225, -4.2643, -4.2837, -5.465, -5.0954, -5.161, -4.0136, -4.5541, -4.3573, -4.823, -4.796, -5.2222, -4.0665, -4.7959, -4.6436, -4.8391, -4.857, -4.7919, -5.0929, -5.1505, -4.6869, -4.0187, -5.8436, -5.1279, -6.2697, -6.4988, -6.592, -5.7827, -6.7509, -6.7893, -6.8715, -5.8994, -6.8943, -6.9103, -6.9126, -6.9132, -6.9295, -7.0356, -7.0295, -7.0736, -5.9133, -7.1991, -7.1992, -7.0818, -7.2413, -7.2511, -7.3136, -7.3146, -7.3174, -7.4125, -6.2624, -6.231, -5.0436, -5.5629, -3.2053, -2.9915, -5.3151, -6.5705, -5.5069, -6.2232, -6.3042, -3.586, -5.2233, -4.723, -5.8469, -3.9868, -4.4434, -5.1823, -4.7907, -5.2043, -5.5762, -5.5244, -5.3006, -4.4418, -5.1114, -4.5824, -4.6979, -5.3415, -4.585, -4.6285, -5.0565, -4.6241, -5.0011, -4.9837, -5.2477, -5.2374, -5.1456, -5.1151, -5.0669, -5.1205, -5.243, -5.6988, -5.9778, -5.9834, -6.1554, -6.2444, -6.3318, -5.7475, -6.4536, -6.4789, -6.4981, -6.2842, -6.7761, -6.8222, -6.8349, -6.6339, -5.8719, -6.9755, -5.0128, -7.0021, -7.0998, -7.1006, -7.1299, -7.1392, -5.9107, -7.1957, -6.8824, -7.2241, -4.5598, -5.8044, -7.3123, -6.4519, -5.1669, -4.607, -6.4623, -5.9757, -5.7924, -6.6754, -3.6413, -5.7751, -4.1405, -5.7474, -5.1172, -4.8097, -5.6228, -5.906, -4.7799, -5.618, -5.5084, -4.8698, -4.4258, -4.5927, -4.642, -5.0173, -4.9638, -4.5155, -4.3546, -5.1231, -4.3565, -4.5635, -4.9012, -4.7301, -5.2996, -4.7695, -4.9412, -4.8104, -4.9089, -5.0998, -5.2638, -5.4284, -5.2646, -5.1382], \"loglift\": [30.0, 29.0, 28.0, 27.0, 26.0, 25.0, 24.0, 23.0, 22.0, 21.0, 20.0, 19.0, 18.0, 17.0, 16.0, 15.0, 14.0, 13.0, 12.0, 11.0, 10.0, 9.0, 8.0, 7.0, 6.0, 5.0, 4.0, 3.0, 2.0, 1.0, 1.1864, 1.1633, 1.1602, 1.1557, 1.1552, 1.1474, 1.143, 1.1298, 1.1297, 1.1262, 1.1189, 1.1127, 1.1122, 1.1116, 1.109, 1.1017, 1.0995, 1.0983, 1.0962, 1.0925, 1.092, 1.0896, 1.0889, 1.0856, 1.0838, 1.0831, 1.083, 1.0811, 1.0801, 1.0779, 1.027, 1.0077, 1.0627, 1.0645, 0.9182, 0.9426, 0.8819, 0.9683, 0.8314, 0.6259, 0.9675, 0.6277, 0.6775, 0.576, 0.6466, 0.9046, 0.6999, 0.4285, 0.3073, 0.7325, 0.8862, 0.7104, 0.8398, 0.5534, 0.6894, 0.0474, 0.4664, 0.5639, 0.0216, 0.1535, 0.5856, 0.0402, 0.2611, 0.2133, 0.254, 0.0584, 0.2888, -0.0842, -0.1902, -0.191, 0.0725, -0.2063, -0.057, 0.1654, -0.2951, -1.1313, 1.2039, 1.1927, 1.1897, 1.1873, 1.1867, 1.1785, 1.1768, 1.1726, 1.1698, 1.1644, 1.1594, 1.1519, 1.1452, 1.1392, 1.1391, 1.1385, 1.1375, 1.1302, 1.1294, 1.1285, 1.1283, 1.1266, 1.1232, 1.1214, 1.1148, 1.1133, 1.1109, 1.1034, 1.1025, 1.1015, 1.0867, 1.0984, 1.0696, 1.0489, 1.029, 0.9635, 1.062, 0.9197, 0.9862, 0.8751, 1.0007, 0.6967, 0.6555, 0.7804, 0.8774, 0.7463, 0.9034, 0.7653, 0.3753, 0.6599, 0.3907, 0.3654, 0.3786, 0.3593, 0.7871, 0.5689, 0.593, -0.0366, 0.2353, 0.0839, 0.3703, 0.3095, 0.5949, -0.4117, 0.1893, -0.0525, 0.16, 0.0779, -0.6565, -0.0181, -0.185, 1.4549, 1.439, 1.4316, 1.4197, 1.4178, 1.4098, 1.4039, 1.4017, 1.3935, 1.3929, 1.3863, 1.3861, 1.3852, 1.3842, 1.3829, 1.3822, 1.382, 1.373, 1.372, 1.3694, 1.3662, 1.3578, 1.3566, 1.3558, 1.3516, 1.3482, 1.3459, 1.3437, 1.3421, 1.3359, 1.3313, 1.2915, 1.1938, 1.2261, 0.7718, 0.6633, 1.0393, 1.2409, 1.0333, 1.1721, 1.1897, 0.5494, 0.9095, 0.7504, 1.0505, 0.4544, 0.588, 0.824, 0.653, 0.766, 0.8978, 0.8645, 0.7629, 0.3476, 0.6295, 0.1817, 0.237, 0.6763, 0.0579, -0.1406, 0.3282, -0.2068, 0.1561, 0.0911, 0.4166, 0.3947, 0.1658, -0.0935, -0.7733, -0.5518, -0.2578, 1.7303, 1.7198, 1.7143, 1.7097, 1.7052, 1.7012, 1.7005, 1.6929, 1.6887, 1.688, 1.6768, 1.6705, 1.663, 1.6621, 1.657, 1.6535, 1.6501, 1.6497, 1.6464, 1.6376, 1.6368, 1.6318, 1.6238, 1.6229, 1.6206, 1.6204, 1.6195, 1.6176, 1.6121, 1.6099, 1.5787, 1.5193, 1.4799, 1.5717, 1.4882, 1.4435, 1.5747, 1.0084, 1.3904, 0.9239, 1.3405, 1.1714, 1.0677, 1.2673, 1.3436, 0.8456, 1.2169, 1.1306, 0.6771, 0.3383, 0.4064, 0.3893, 0.671, 0.5252, 0.0532, -0.2192, 0.6126, -0.3794, -0.1462, 0.2921, 0.0564, 0.7725, -0.0609, 0.044, -0.2192, -0.266, -0.1649, 0.2853, 0.7734, -0.1074, -1.4834]}, \"token.table\": {\"Topic\": [1, 2, 3, 1, 2, 3, 4, 2, 2, 1, 2, 3, 4, 1, 2, 3, 4, 4, 1, 2, 3, 4, 1, 2, 3, 4, 1, 2, 3, 4, 2, 3, 4, 1, 2, 4, 2, 3, 4, 3, 1, 2, 3, 4, 2, 2, 4, 3, 4, 2, 2, 3, 4, 2, 1, 2, 3, 4, 1, 2, 2, 1, 1, 2, 3, 4, 3, 3, 4, 4, 2, 4, 1, 3, 4, 1, 2, 3, 4, 4, 1, 3, 4, 2, 4, 1, 2, 3, 4, 4, 1, 2, 3, 4, 1, 2, 3, 4, 1, 2, 3, 4, 1, 2, 4, 3, 4, 1, 2, 3, 4, 1, 2, 3, 4, 1, 2, 3, 4, 2, 1, 2, 3, 4, 1, 2, 3, 4, 1, 2, 4, 3, 1, 2, 3, 4, 1, 2, 1, 2, 3, 1, 3, 4, 1, 4, 1, 2, 3, 4, 1, 2, 3, 4, 1, 2, 4, 1, 3, 4, 1, 4, 2, 3, 3, 1, 2, 3, 4, 1, 2, 3, 4, 4, 1, 1, 2, 3, 4, 1, 2, 3, 4, 1, 2, 3, 4, 1, 2, 3, 4, 1, 2, 3, 4, 3, 1, 1, 2, 3, 4, 2, 3, 1, 2, 4, 4, 1, 1, 1, 2, 3, 4, 1, 2, 3, 4, 3, 1, 2, 3, 4, 1, 3, 4, 2, 1, 2, 3, 4, 1, 2, 3, 2, 3, 4, 4, 1, 2, 3, 4, 4, 1, 2, 4, 3, 1, 1, 2, 3, 4, 1, 2, 3, 4, 2, 2, 1, 2, 3, 4, 1, 2, 3, 4, 1, 2, 3, 4, 3, 1, 2, 3, 4, 4, 1, 2, 3, 4, 3, 4, 1, 2, 3, 4, 1, 2, 3, 4, 1, 2, 3, 4, 2, 3, 1, 2, 3, 4, 1, 2, 3, 4, 1, 3, 1, 1, 4, 1, 2, 3, 4, 2, 3, 4, 1, 2, 3, 4, 1, 2, 3, 4, 4, 4, 1, 2, 3, 4, 2, 3, 4, 1, 2, 3, 2, 1, 3, 4, 2, 3, 2, 3, 1, 1, 3, 4, 1, 1, 3, 1, 3, 1, 3, 2, 1, 1, 1, 1, 3, 4, 1, 3, 1, 1, 2, 1, 2, 3, 4, 2, 1, 2, 3, 4, 1, 2, 3, 4, 2, 1, 2, 3, 4, 1, 2, 3, 4, 4, 1, 2, 3, 4, 3, 3, 1, 2, 3, 4, 4, 2, 4, 1, 2, 3, 4, 1, 2, 3, 4, 2, 3, 4, 1, 4, 1, 2, 3, 4, 1, 2, 3, 4, 2, 4, 4, 2, 3, 1, 3, 1, 4, 1, 3, 1, 2, 4, 1, 2, 3, 4, 3, 1, 2, 3, 4, 3, 1, 2, 3, 4, 1, 2, 3, 1, 3, 4, 3, 2, 4, 1, 2, 2, 3, 1, 2, 4, 2, 1, 2, 3, 4, 3, 4, 2, 1, 2, 3, 4, 2, 1, 2, 3, 4, 1, 2, 1, 2, 3, 4, 2, 1, 2, 3, 4, 1, 2, 3, 4, 3, 1, 1, 2, 3, 4, 1, 2, 3, 1, 3, 1, 3, 1, 2, 3, 4, 1, 2, 3, 4, 4, 1, 2, 3, 4, 1, 2, 1, 2, 3, 4, 1, 4, 1, 1, 2, 3, 4, 1, 2, 4, 3, 4, 1, 2, 4, 1, 2, 1, 2, 3, 4, 3, 1, 2, 3, 4, 1, 3], \"Freq\": [0.08479218357116848, 0.7122543419978152, 0.20350124057080435, 0.5767026961277334, 0.16590077559838906, 0.11850055399884933, 0.1422006647986192, 0.8687797193728743, 0.9569435973355647, 0.2861073941578791, 0.3576342426973489, 0.17881712134867445, 0.17881712134867445, 0.2622689511826532, 0.30457039492179083, 0.4314747261392037, 0.8674975882388382, 0.8148247403137864, 0.29447985759786377, 0.621679699373268, 0.024539988133155312, 0.049079976266310624, 0.27901395775979604, 0.2455322828286205, 0.4575828907260655, 0.011160558310391842, 0.25041975270295874, 0.26559670741222896, 0.3414814809585801, 0.14418106973806716, 0.09651728641728878, 0.7962676129426324, 0.09651728641728878, 0.052995925319436504, 0.9009307304304206, 0.052995925319436504, 0.32040973745288315, 0.05340162290881386, 0.6141186634513595, 0.8707492223885034, 0.31417211450265026, 0.4253407088651265, 0.2005868115670767, 0.060417714327432745, 0.9361483880721687, 0.23693876029358568, 0.7582040329394742, 0.10161639481579288, 0.8637393559342395, 0.987966034295662, 0.52506014063306, 0.3526523332610104, 0.1253874962705815, 0.9748059171431118, 0.0654505279633675, 0.052360422370694, 0.0130901055926735, 0.863946969116451, 0.5948474383906245, 0.3920585389392752, 0.9614877952156545, 0.9552623227272449, 0.2254286844436171, 0.37244739168945434, 0.32670823832408274, 0.07514289481453904, 0.985340650287542, 0.8532223571897233, 0.8036228298158647, 0.9578437083041231, 0.07790238026583454, 0.9348285631900145, 0.8710911665186889, 0.9718897779754143, 0.9415750055050943, 0.06780052174220237, 0.7458057391642261, 0.1582012173984722, 0.033900260871101186, 0.9577772054746932, 0.10886689635790943, 0.10886689635790943, 0.7838416537769479, 0.9307653882294039, 0.058172836764337744, 0.7257673507432302, 0.14811578586596535, 0.0444347357597896, 0.07405789293298268, 0.9758164208034158, 0.609305949864704, 0.21760926780882284, 0.08704370712352913, 0.07253642260294095, 0.08777777015476607, 0.24870368210517052, 0.11703702687302142, 0.5559258776468518, 0.06817538287013193, 0.7073195972776187, 0.16191653431656333, 0.06817538287013193, 0.9543873397276198, 0.9219409665156904, 0.10243788516841004, 0.93881974963005, 0.9611253003884536, 0.2188249365765344, 0.2440739677199807, 0.2272412802910165, 0.3198210611503195, 0.826487179636796, 0.10476598051734033, 0.06402365476059688, 0.005820332250963352, 0.8422380216761999, 0.09063043646979516, 0.03593965584147049, 0.031251874644756955, 0.8522059440736183, 0.07725119120980278, 0.8778544455659407, 0.021068506693582578, 0.021068506693582578, 0.318549130882823, 0.16246005675023972, 0.277137743868056, 0.24209733947094544, 0.9398876779115257, 0.9354082718001614, 0.042518557809098245, 0.9359127091504733, 0.06706616362293415, 0.2146117235933893, 0.3487440508392576, 0.37557051628843124, 0.0316727669528025, 0.9660193920604763, 0.07450070910457966, 0.4257183377404552, 0.5002190468450349, 0.6336832198171238, 0.2866662184886989, 0.0754384785496576, 0.850911639061803, 0.06545474146629254, 0.2322756021863518, 0.17635740166000785, 0.16345320153854387, 0.43014000404879965, 0.592685295277816, 0.1525724522497348, 0.14083610976898597, 0.1173634248074883, 0.7940538884424702, 0.04670905226132178, 0.14012715678396534, 0.939315460865163, 0.046642404340949455, 0.932848086818989, 0.3059989787384692, 0.650247829819247, 0.9817756837690564, 0.961070765571502, 0.9433941390025604, 0.11321538465342484, 0.2264307693068497, 0.5499032968880635, 0.12938901103248554, 0.05008092325117391, 0.26292484706866304, 0.5759306173884999, 0.1126820773151413, 0.8862404835357007, 0.8720588133471012, 0.3162026676737648, 0.1953943394927583, 0.44856657507208497, 0.03886876645823687, 0.3074675243056585, 0.1528844043508799, 0.4008968825200851, 0.13759596391579193, 0.09458385157186648, 0.5697551058971957, 0.18916770314373296, 0.1486317667557902, 0.042526575967208664, 0.042526575967208664, 0.042526575967208664, 0.8930580953113819, 0.24910990200834077, 0.3206136701774015, 0.36443856034553557, 0.06458404866882908, 0.9809519349739224, 0.870914021579058, 0.535743843971818, 0.25138749601754534, 0.21017643109663628, 0.004121106492090907, 0.9551258464610916, 0.9682186056456948, 0.13397242079110463, 0.8586414241611706, 0.9211522015062026, 0.920146948238536, 0.8848653794965073, 0.9192340391943699, 0.10669642964220473, 0.5715880159403826, 0.25911990055964007, 0.06096938836697413, 0.5426033918138299, 0.19533722105297874, 0.16278101754414895, 0.09766861052648937, 0.8831015747069811, 0.2133413765805265, 0.23273604717875618, 0.058184011794689044, 0.49456410025485686, 0.01895508761101374, 0.947754380550687, 0.01895508761101374, 0.9815280083901682, 0.3282262809782249, 0.13967075786307445, 0.30727566729876377, 0.23045675047407282, 0.013900506049160117, 0.22240809678656187, 0.7645278327038064, 0.26030300958922514, 0.09761362859595943, 0.6507575239730629, 0.8686376756977526, 0.035162703594574955, 0.17581351797287478, 0.14065081437829982, 0.7032540718914991, 0.9209869579704221, 0.050393662560698695, 0.050393662560698695, 0.9070859260925765, 0.8699538278510316, 0.889736691282595, 0.9590668050397385, 0.8331599405379713, 0.8049955896635937, 0.13416593161059898, 0.3259614879358155, 0.2911922625559952, 0.2520768840036973, 0.13038459517432618, 0.9345644434979298, 0.9351689345478165, 0.21639083077574744, 0.11651813964847939, 0.41613621303028353, 0.25384308994847293, 0.2830398774899713, 0.5386887990938163, 0.036521274514835, 0.15521541668804875, 0.21672081251676586, 0.2648809930760472, 0.184614025477245, 0.3371212639149691, 0.8707784206992943, 0.37470574426693193, 0.3465020860963027, 0.024174564146253675, 0.2578620175600392, 0.9579399780364659, 0.2784349176296479, 0.14774097670144581, 0.10228221463946248, 0.471634656393077, 0.9118840721625419, 0.03964713357228443, 0.18846129341362441, 0.24876890730598425, 0.1658459382039895, 0.39953794203688375, 0.3485506474957596, 0.23017495589342615, 0.13152854622481494, 0.2893628016945929, 0.0971501603685386, 0.2842004691378144, 0.5002508257782957, 0.11745019387838249, 0.9028102296046818, 0.9398954470794751, 0.4635552946475811, 0.2813485892369712, 0.11789845644215936, 0.13665502905795746, 0.26806589263923863, 0.6433581423341727, 0.06254870828248901, 0.026806589263923864, 0.9417448080471256, 0.879290763937693, 0.9799316003613214, 0.7724439543288021, 0.19311098858220052, 0.35273953504385813, 0.42328744205262975, 0.09312323725157855, 0.13263006517649065, 0.14349389136479593, 0.10762041852359695, 0.7533429296651787, 0.5263491774512326, 0.2857324106163834, 0.11278910945383555, 0.07519273963589036, 0.11681536945763249, 0.3621276453186607, 0.49062455172205643, 0.023363073891526497, 0.9320869493341417, 0.9378043412593308, 0.2057253363616227, 0.531457118934192, 0.17143778030135226, 0.08571889015067613, 0.006373850055718626, 0.9751990585249499, 0.012747700111437252, 0.025086470082045998, 0.8027670426254719, 0.17560529057432198, 0.8497962386164952, 0.22636512816450977, 0.03772752136075163, 0.7168229058542809, 0.2212447552723856, 0.752232167926111, 0.8190577580908841, 0.15357332964204076, 0.8950516634284754, 0.4153854282923411, 0.04153854282923411, 0.5400010567800434, 0.8393693038101602, 0.9679021563870326, 0.024818004009923914, 0.992612003781699, 0.010673247352491387, 0.9585236903853726, 0.8782721310628857, 0.9256404096963873, 0.9205528536033224, 0.8577801956481755, 0.8561496577355854, 0.19533517587823535, 0.7813407035129414, 0.8466493521615149, 0.9031100673838722, 0.9680472693104186, 0.9240290006827047, 0.07430599919924731, 0.9288249899905915, 0.21207115378663577, 0.37701538450957467, 0.047126923063696834, 0.37701538450957467, 0.9148068496736247, 0.38988716033310605, 0.4033315451721787, 0.13444384839072623, 0.07170338580838732, 0.10106239137554342, 0.25265597843885856, 0.07579679353165757, 0.5811087504093747, 0.9645871780554367, 0.24549940374649362, 0.43174033072659224, 0.24549940374649362, 0.07901130235519335, 0.20070614830990538, 0.2460268914766582, 0.4920537829533164, 0.05826952692868221, 0.846700727320283, 0.7660075702324238, 0.1482595297224046, 0.0741297648612023, 0.9242861808170029, 0.8473231508859723, 0.8848747501955417, 0.5272953557906433, 0.0727303939021577, 0.2636476778953217, 0.127278189328776, 0.9085494886178501, 0.922429825607498, 0.057651864100468624, 0.21406956675358846, 0.7278365269622008, 0.021406956675358847, 0.021406956675358847, 0.3870042353186279, 0.18878255381396483, 0.2690151391848999, 0.15574560689652098, 0.7698777611672836, 0.010998253730961194, 0.21996507461922388, 0.16705330700439816, 0.8352665350219908, 0.35789382907124, 0.23676053307789724, 0.27530294543941536, 0.13214541381091938, 0.13561100606385543, 0.5936748487684338, 0.11150238276361446, 0.16273320727662652, 0.1676103252008689, 0.8380516260043446, 0.8668472703237261, 0.07881898767530804, 0.9064183582660424, 0.03583601796841644, 0.9317364671788275, 0.1040186498088118, 0.8321491984704944, 0.9533523788249048, 0.039723015784371034, 0.882223711898901, 0.05189551246464124, 0.05189551246464124, 0.27401593898329263, 0.4257033337776153, 0.06850398474582316, 0.22997766307526346, 0.8560356737961241, 0.2343801778192092, 0.01562534518794728, 0.6562644978937857, 0.09375207112768368, 0.9641596848945512, 0.6095300213434528, 0.14149804066901583, 0.04353785866738948, 0.20680482867010005, 0.07526534815416504, 0.26342871853957767, 0.6585717963489441, 0.13446884630979616, 0.6723442315489808, 0.21515015409567387, 0.9399083067604046, 0.13558207789841387, 0.8586864933566211, 0.11247023009288425, 0.8435267256966318, 0.10791476368312335, 0.8633181094649868, 0.03606875994141039, 0.829581478652439, 0.10820627982423119, 0.9836799917750475, 0.35538809269552146, 0.2090518192326597, 0.09755751564190786, 0.3344829107722555, 0.8482329019365168, 0.9295469171562802, 0.9452051112722186, 0.40290435540855796, 0.20737724175440483, 0.31995345870679603, 0.07110076860151023, 0.9075815537802565, 0.5649396812618593, 0.2454565511689458, 0.15194929358077597, 0.03506522159556368, 0.9277337649134347, 0.04882809289018077, 0.24182733274129306, 0.3211769262970298, 0.2947270617784509, 0.14736353088922546, 0.949417491823886, 0.7001923247090628, 0.23339744156968759, 0.025933049063298623, 0.025933049063298623, 0.270960552473085, 0.6394669038364805, 0.0433536883956936, 0.054192110494616995, 0.9482687438048164, 0.9030863814330113, 0.4098997727936906, 0.4297978200166853, 0.10744945500417133, 0.053724727502085665, 0.2538980661741926, 0.6488506135562699, 0.08463268872473087, 0.9672582884535842, 0.05090833097124127, 0.7454754732812945, 0.23719674149859368, 0.5635675772167069, 0.2019721953030973, 0.0521218568524122, 0.1824264989834427, 0.1985700827971223, 0.2757917816626698, 0.5295202207923261, 0.011031671266506794, 0.9161541172660622, 0.12327156305096072, 0.29937379598090463, 0.5635271453758205, 0.01761022329299439, 0.016030590982290302, 0.9778660499197084, 0.4839321827382431, 0.03142416771027553, 0.4462231814859125, 0.04399383479438574, 0.8989009526739059, 0.07490841272282549, 0.8962346468540291, 0.24891372276766952, 0.43756412318106114, 0.13362736695948574, 0.18078996706283365, 0.730483166779437, 0.06352027537212496, 0.22232096380243738, 0.8542800447634002, 0.15075530201707063, 0.6926527874538452, 0.23088426248461505, 0.07215133202644221, 0.06347226408871519, 0.8886116972420127, 0.7520479359396283, 0.04467611500631455, 0.04467611500631455, 0.1563664025221009, 0.8850366088449511, 0.09519425268496454, 0.7932854390413712, 0.031731417561654846, 0.06346283512330969, 0.9068235505787656, 0.07254588404630126], \"Term\": [\"absolutely\", \"absolutely\", \"absolutely\", \"actually\", \"actually\", \"actually\", \"actually\", \"admit\", \"adopt\", \"also\", \"also\", \"also\", \"also\", \"always\", \"always\", \"always\", \"approve\", \"arabic\", \"away\", \"away\", \"away\", \"away\", \"bad\", \"bad\", \"bad\", \"bad\", \"big\", \"big\", \"big\", \"big\", \"bonito_flakes\", \"bonito_flakes\", \"bonito_flakes\", \"bottom\", \"bottom\", \"bottom\", \"break\", \"break\", \"break\", \"brush\", \"buy\", \"buy\", \"buy\", \"buy\", \"cardboard\", \"carry\", \"carry\", \"cat_man\", \"cat_man\", \"cat_nip\", \"catnip\", \"catnip\", \"catnip\", \"certify\", \"cheap\", \"cheap\", \"cheap\", \"cheap\", \"chew\", \"chew\", \"climb\", \"closed\", \"come\", \"come\", \"come\", \"come\", \"come_running\", \"commercial\", \"concerned\", \"cool\", \"cosmic\", \"cosmic\", \"count\", \"crack\", \"crawl\", \"crazy\", \"crazy\", \"crazy\", \"crazy\", \"crude\", \"crunchy\", \"crunchy\", \"crunchy\", \"cute\", \"cute\", \"daily\", \"daily\", \"daily\", \"daily\", \"dangle\", \"definitely\", \"definitely\", \"definitely\", \"definitely\", \"dental\", \"dental\", \"dental\", \"dental\", \"different\", \"different\", \"different\", \"different\", \"directly\", \"disappear\", \"disappear\", \"draw\", \"dried_ground\", \"dry\", \"dry\", \"dry\", \"dry\", \"easy\", \"easy\", \"easy\", \"easy\", \"eat\", \"eat\", \"eat\", \"eat\", \"eliminate\", \"enjoy\", \"enjoy\", \"enjoy\", \"enjoy\", \"even\", \"even\", \"even\", \"even\", \"eventually\", \"every_time\", \"every_time\", \"everyday\", \"expensive\", \"expensive\", \"expensive\", \"expensive\", \"fast\", \"fast\", \"favorite\", \"favorite\", \"favorite\", \"feed\", \"feed\", \"feed\", \"female\", \"female\", \"find\", \"find\", \"find\", \"find\", \"first\", \"first\", \"first\", \"first\", \"fit\", \"fit\", \"fit\", \"fix\", \"flake\", \"flake\", \"flat\", \"flat\", \"forever\", \"forward\", \"foster\", \"free\", \"free\", \"free\", \"free\", \"fresh\", \"fresh\", \"fresh\", \"fresh\", \"garlic\", \"generally\", \"get\", \"get\", \"get\", \"get\", \"give\", \"give\", \"give\", \"give\", \"go\", \"go\", \"go\", \"go\", \"gobble\", \"gobble\", \"gobble\", \"gobble\", \"good\", \"good\", \"good\", \"good\", \"good_price\", \"got\", \"great\", \"great\", \"great\", \"great\", \"great_price\", \"groom\", \"grow\", \"grow\", \"guarantee\", \"hairball\", \"handy\", \"happily\", \"happy\", \"happy\", \"happy\", \"happy\", \"hard\", \"hard\", \"hard\", \"hard\", \"hardly\", \"healthy\", \"healthy\", \"healthy\", \"healthy\", \"hear\", \"hear\", \"hear\", \"heavy\", \"help\", \"help\", \"help\", \"help\", \"highly\", \"highly\", \"highly\", \"human\", \"human\", \"human\", \"hunt\", \"ignore\", \"ignore\", \"ignore\", \"ignore\", \"incline\", \"ingredient\", \"ingredient\", \"ingredient\", \"inhale\", \"interest\", \"involve\", \"joint\", \"jump\", \"jump\", \"keep\", \"keep\", \"keep\", \"keep\", \"kibble\", \"kinda\", \"know\", \"know\", \"know\", \"know\", \"large\", \"large\", \"large\", \"large\", \"last\", \"last\", \"last\", \"last\", \"lid\", \"like\", \"like\", \"like\", \"like\", \"list\", \"little\", \"little\", \"little\", \"little\", \"live\", \"live\", \"long\", \"long\", \"long\", \"long\", \"look\", \"look\", \"look\", \"look\", \"love\", \"love\", \"love\", \"love\", \"luckily\", \"mad\", \"make\", \"make\", \"make\", \"make\", \"many\", \"many\", \"many\", \"many\", \"medicate\", \"medley\", \"messy\", \"moist\", \"moist\", \"much\", \"much\", \"much\", \"much\", \"natural\", \"natural\", \"natural\", \"need\", \"need\", \"need\", \"need\", \"nice\", \"nice\", \"nice\", \"nice\", \"noticed\", \"ok\", \"old\", \"old\", \"old\", \"old\", \"open\", \"open\", \"open\", \"organic\", \"organic\", \"organic\", \"originally\", \"otherwise\", \"otherwise\", \"otherwise\", \"pass\", \"pass\", \"perfect\", \"perfect\", \"perfectly\", \"pet\", \"pet\", \"pet\", \"pill\", \"pill_pocket\", \"pill_pocket\", \"pill_pockets\", \"pill_pockets\", \"pille\", \"plain\", \"please\", \"plenty\", \"pliable\", \"possibly\", \"potent\", \"potent\", \"preservative\", \"previously\", \"prime\", \"problem\", \"pull\", \"pull\", \"purchase\", \"purchase\", \"purchase\", \"purchase\", \"purr\", \"put\", \"put\", \"put\", \"put\", \"rather\", \"rather\", \"rather\", \"rather\", \"reach\", \"really\", \"really\", \"really\", \"really\", \"recommend\", \"recommend\", \"recommend\", \"recommend\", \"recyclable\", \"refuse\", \"refuse\", \"refuse\", \"respond\", \"reward\", \"rid\", \"right\", \"right\", \"right\", \"right\", \"rosemary\", \"rub\", \"rub\", \"save\", \"save\", \"save\", \"save\", \"say\", \"say\", \"say\", \"say\", \"scratch\", \"scratch\", \"scratch\", \"scratcher\", \"scratcher\", \"see\", \"see\", \"see\", \"see\", \"seem\", \"seem\", \"seem\", \"seem\", \"semi\", \"semi\", \"sensitive\", \"serve\", \"serve\", \"shake\", \"shake\", \"shape\", \"shape\", \"sick\", \"sick\", \"single\", \"single\", \"single\", \"small\", \"small\", \"small\", \"small\", \"smartbite\", \"smell\", \"smell\", \"smell\", \"smell\", \"smoke\", \"soft\", \"soft\", \"soft\", \"soft\", \"soon\", \"soon\", \"soon\", \"special\", \"special\", \"special\", \"split\", \"sprinkle\", \"sprinkle\", \"sprout\", \"sprout\", \"stale\", \"stale\", \"stand\", \"stand\", \"stand\", \"stay\", \"still\", \"still\", \"still\", \"still\", \"stinky\", \"stuff\", \"supply\", \"sure\", \"sure\", \"sure\", \"sure\", \"sweet\", \"take\", \"take\", \"take\", \"take\", \"taurine\", \"taurine\", \"think\", \"think\", \"think\", \"think\", \"third\", \"throw\", \"throw\", \"throw\", \"throw\", \"top\", \"top\", \"top\", \"top\", \"total\", \"tough\", \"try\", \"try\", \"try\", \"try\", \"turn\", \"turn\", \"turn\", \"twice\", \"twice\", \"twice_day\", \"twice_day\", \"use\", \"use\", \"use\", \"use\", \"usually\", \"usually\", \"usually\", \"usually\", \"vegetable\", \"wait\", \"wait\", \"wait\", \"wait\", \"walk\", \"walk\", \"want\", \"want\", \"want\", \"want\", \"wear\", \"wear\", \"weird\", \"well\", \"well\", \"well\", \"well\", \"wet_food\", \"wet_food\", \"wet_food\", \"whiskas_temptations\", \"whiskas_temptations\", \"whole\", \"whole\", \"whole\", \"wooden\", \"wooden\", \"work\", \"work\", \"work\", \"work\", \"wrap\", \"yet\", \"yet\", \"yet\", \"yet\", \"young\", \"young\"]}, \"R\": 30, \"lambda.step\": 0.01, \"plot.opts\": {\"xlab\": \"PC1\", \"ylab\": \"PC2\"}, \"topic.order\": [1, 2, 3, 4]};\n",
       "\n",
       "function LDAvis_load_lib(url, callback){\n",
       "  var s = document.createElement('script');\n",
       "  s.src = url;\n",
       "  s.async = true;\n",
       "  s.onreadystatechange = s.onload = callback;\n",
       "  s.onerror = function(){console.warn(\"failed to load library \" + url);};\n",
       "  document.getElementsByTagName(\"head\")[0].appendChild(s);\n",
       "}\n",
       "\n",
       "if(typeof(LDAvis) !== \"undefined\"){\n",
       "   // already loaded: just create the visualization\n",
       "   !function(LDAvis){\n",
       "       new LDAvis(\"#\" + \"ldavis_el299361797399646720839382268\", ldavis_el299361797399646720839382268_data);\n",
       "   }(LDAvis);\n",
       "}else if(typeof define === \"function\" && define.amd){\n",
       "   // require.js is available: use it to load d3/LDAvis\n",
       "   require.config({paths: {d3: \"https://d3js.org/d3.v5\"}});\n",
       "   require([\"d3\"], function(d3){\n",
       "      window.d3 = d3;\n",
       "      LDAvis_load_lib(\"https://cdn.jsdelivr.net/gh/bmabey/pyLDAvis@3.3.1/pyLDAvis/js/ldavis.v3.0.0.js\", function(){\n",
       "        new LDAvis(\"#\" + \"ldavis_el299361797399646720839382268\", ldavis_el299361797399646720839382268_data);\n",
       "      });\n",
       "    });\n",
       "}else{\n",
       "    // require.js not available: dynamically load d3 & LDAvis\n",
       "    LDAvis_load_lib(\"https://d3js.org/d3.v5.js\", function(){\n",
       "         LDAvis_load_lib(\"https://cdn.jsdelivr.net/gh/bmabey/pyLDAvis@3.3.1/pyLDAvis/js/ldavis.v3.0.0.js\", function(){\n",
       "                 new LDAvis(\"#\" + \"ldavis_el299361797399646720839382268\", ldavis_el299361797399646720839382268_data);\n",
       "            })\n",
       "         });\n",
       "}\n",
       "</script>"
      ],
      "text/plain": [
       "<IPython.core.display.HTML object>"
      ]
     },
     "execution_count": 182,
     "metadata": {},
     "output_type": "execute_result"
    }
   ],
   "source": [
    "pyLDAvis.enable_notebook()\n",
    "topic_data =  pyLDAvis.gensim_models.prepare(cat_treats_optimal_model, \n",
    "                                             cats_treats_doc_term_matrix, \n",
    "                                             cats_treats_dictionary, \n",
    "                                             mds = 'tsne')\n",
    "pyLDAvis.display(topic_data)"
   ]
  },
  {
   "cell_type": "markdown",
   "id": "9152f037",
   "metadata": {},
   "source": [
    "## 8. cats grooming"
   ]
  },
  {
   "cell_type": "code",
   "execution_count": 195,
   "id": "ef81d22e",
   "metadata": {},
   "outputs": [
    {
     "data": {
      "application/vnd.jupyter.widget-view+json": {
       "model_id": "03c3b1a0afb7465b8cce7ed95e7a3a8e",
       "version_major": 2,
       "version_minor": 0
      },
      "text/plain": [
       "  0%|          | 0/1150 [00:00<?, ?it/s]"
      ]
     },
     "metadata": {},
     "output_type": "display_data"
    },
    {
     "data": {
      "application/vnd.jupyter.widget-view+json": {
       "model_id": "c0671a269fb74a54a985b74333a3ed48",
       "version_major": 2,
       "version_minor": 0
      },
      "text/plain": [
       "  0%|          | 0/1150 [00:00<?, ?it/s]"
      ]
     },
     "metadata": {},
     "output_type": "display_data"
    }
   ],
   "source": [
    "cats_grooming_dictionary, cats_grooming_doc_term_matrix = vectorize(cats_grooming_reviews2)\n",
    "# cats_grooming_model_list, cats_grooming_coherence_values = compute_coherence_values(dictionary=cats_grooming_dictionary, \n",
    "#                                                     corpus=cats_grooming_doc_term_matrix, \n",
    "#                                                     texts=cats_grooming_reviews2, \n",
    "#                                                     start=2, \n",
    "#                                                     limit=20, \n",
    "#                                                     step=2)\n",
    "\n",
    "# limit=20; start=2; step=2;\n",
    "# x = range(start, limit, step)\n",
    "# plt.plot(x, cats_grooming_coherence_values)\n",
    "# plt.xlabel(\"Num Topics\")\n",
    "# plt.ylabel(\"Coherence score\")\n",
    "# plt.legend((\"coherence_values\"), loc='best')\n",
    "# plt.show()\n",
    "# for m, cv in zip(x, cats_grooming_coherence_values):\n",
    "#     print(\"Num Topics =\", m, \" has Coherence Value of\", round(cv, 4))\n",
    "    \n",
    "    \n",
    "# with open ('./cats_grooming_model_list.pickle', 'wb') as handle:\n",
    "#      pickle.dump(cats_grooming_model_list, handle)"
   ]
  },
  {
   "cell_type": "code",
   "execution_count": 196,
   "id": "3911809f",
   "metadata": {},
   "outputs": [],
   "source": [
    "with open ('./cats_grooming_model_list.pickle', 'rb') as handle:\n",
    "     cats_grooming_model_list = pickle.load(handle)"
   ]
  },
  {
   "cell_type": "code",
   "execution_count": 199,
   "id": "c303185e",
   "metadata": {},
   "outputs": [
    {
     "data": {
      "text/plain": [
       "[(0,\n",
       "  '0.031*\"get\" + 0.020*\"well\" + 0.019*\"use\" + 0.017*\"make\" + 0.014*\"put\" + 0.012*\"small\" + 0.010*\"go\" + 0.010*\"seem\" + 0.010*\"good\" + 0.009*\"big\" + 0.008*\"try\" + 0.008*\"take\" + 0.007*\"still\" + 0.007*\"first\" + 0.007*\"clean\" + 0.007*\"let\" + 0.007*\"really\" + 0.007*\"enough\" + 0.007*\"fit\" + 0.007*\"much\" + 0.006*\"come\" + 0.006*\"easy\" + 0.006*\"see\" + 0.006*\"love\" + 0.006*\"large\" + 0.006*\"say\" + 0.006*\"give\" + 0.005*\"soft\" + 0.005*\"know\" + 0.005*\"quite\"'),\n",
       " (1,\n",
       "  '0.025*\"use\" + 0.020*\"get\" + 0.017*\"love\" + 0.016*\"well\" + 0.013*\"much\" + 0.013*\"recommend\" + 0.012*\"long\" + 0.012*\"work\" + 0.012*\"buy\" + 0.012*\"also\" + 0.011*\"seem\" + 0.011*\"even\" + 0.010*\"try\" + 0.010*\"great\" + 0.010*\"make\" + 0.010*\"pet\" + 0.009*\"groom\" + 0.009*\"brush\" + 0.009*\"remove\" + 0.009*\"find\" + 0.008*\"look\" + 0.008*\"good\" + 0.007*\"see\" + 0.007*\"highly\" + 0.007*\"come\" + 0.007*\"never\" + 0.007*\"go\" + 0.007*\"say\" + 0.007*\"give\" + 0.006*\"little\"'),\n",
       " (2,\n",
       "  '0.033*\"use\" + 0.027*\"get\" + 0.022*\"well\" + 0.021*\"easy\" + 0.018*\"great\" + 0.013*\"long\" + 0.013*\"work\" + 0.012*\"cut\" + 0.010*\"trim\" + 0.010*\"good\" + 0.010*\"sharp\" + 0.010*\"still\" + 0.009*\"little\" + 0.009*\"make\" + 0.009*\"scratch\" + 0.009*\"hold\" + 0.008*\"soft_claws\" + 0.008*\"keep\" + 0.008*\"try\" + 0.007*\"clip\" + 0.007*\"clean\" + 0.006*\"give\" + 0.006*\"first\" + 0.006*\"even\" + 0.006*\"much\" + 0.006*\"nice\" + 0.006*\"go\" + 0.006*\"put\" + 0.006*\"take\" + 0.005*\"seem\"'),\n",
       " (3,\n",
       "  '0.055*\"get\" + 0.023*\"much\" + 0.022*\"brush\" + 0.021*\"really\" + 0.019*\"use\" + 0.016*\"good\" + 0.015*\"try\" + 0.014*\"think\" + 0.013*\"long\" + 0.012*\"work\" + 0.011*\"seem\" + 0.010*\"well\" + 0.010*\"shed\" + 0.010*\"little\" + 0.010*\"come\" + 0.009*\"also\" + 0.009*\"love\" + 0.009*\"go\" + 0.009*\"pull\" + 0.009*\"buy\" + 0.008*\"make\" + 0.008*\"great\" + 0.007*\"take\" + 0.007*\"even\" + 0.007*\"remove\" + 0.007*\"help\" + 0.007*\"groom\" + 0.006*\"keep\" + 0.006*\"back\" + 0.006*\"still\"')]"
      ]
     },
     "execution_count": 199,
     "metadata": {},
     "output_type": "execute_result"
    }
   ],
   "source": [
    "cats_grooming_optimal_model = cats_grooming_model_list[1]\n",
    "model_topics = cats_grooming_optimal_model.show_topics(formatted=False)\n",
    "\n",
    "cats_grooming_optimal_model.print_topics(num_topics=4, num_words=30)"
   ]
  },
  {
   "cell_type": "code",
   "execution_count": 200,
   "id": "a340da78",
   "metadata": {},
   "outputs": [],
   "source": [
    "keywords_dict = get_keywords(cats_grooming_doc_term_matrix, model = cats_grooming_optimal_model)"
   ]
  },
  {
   "cell_type": "code",
   "execution_count": 202,
   "id": "e446cf4b",
   "metadata": {},
   "outputs": [
    {
     "data": {
      "text/plain": [
       "['easy',\n",
       " 'cut',\n",
       " 'trim',\n",
       " 'sharp',\n",
       " 'scratch',\n",
       " 'hold',\n",
       " 'soft_claws',\n",
       " 'keep',\n",
       " 'clip']"
      ]
     },
     "execution_count": 202,
     "metadata": {},
     "output_type": "execute_result"
    }
   ],
   "source": [
    "[w for w in keywords_dict[3] if w not in  keywords_dict[1]\\\n",
    "                                and w not in  keywords_dict[2]\\\n",
    "                                and w not in  keywords_dict[0]]  "
   ]
  },
  {
   "cell_type": "code",
   "execution_count": 203,
   "id": "47490ba9",
   "metadata": {},
   "outputs": [
    {
     "data": {
      "text/plain": [
       "['put', 'small', 'big', 'take', 'first', 'clean', 'let', 'enough', 'fit']"
      ]
     },
     "execution_count": 203,
     "metadata": {},
     "output_type": "execute_result"
    }
   ],
   "source": [
    "[w for w in keywords_dict[2] if w not in  keywords_dict[1]\\\n",
    "                                and w not in  keywords_dict[3]\\\n",
    "                                and w not in  keywords_dict[0]]  "
   ]
  },
  {
   "cell_type": "code",
   "execution_count": 204,
   "id": "b3bc0b35",
   "metadata": {},
   "outputs": [
    {
     "data": {
      "text/plain": [
       "['think', 'shed', 'come', 'pull']"
      ]
     },
     "execution_count": 204,
     "metadata": {},
     "output_type": "execute_result"
    }
   ],
   "source": [
    "[w for w in keywords_dict[0] if w not in  keywords_dict[1]\\\n",
    "                                and w not in  keywords_dict[2]\\\n",
    "                                and w not in  keywords_dict[3]]  "
   ]
  },
  {
   "cell_type": "code",
   "execution_count": 205,
   "id": "3a418e0f",
   "metadata": {},
   "outputs": [
    {
     "data": {
      "text/plain": [
       "['recommend', 'even', 'pet', 'groom', 'remove', 'find']"
      ]
     },
     "execution_count": 205,
     "metadata": {},
     "output_type": "execute_result"
    }
   ],
   "source": [
    "[w for w in keywords_dict[1] if w not in  keywords_dict[3]\\\n",
    "                                and w not in  keywords_dict[2]\\\n",
    "                                and w not in  keywords_dict[0]]  "
   ]
  },
  {
   "cell_type": "code",
   "execution_count": 206,
   "id": "f763a344",
   "metadata": {},
   "outputs": [
    {
     "name": "stderr",
     "output_type": "stream",
     "text": [
      "C:\\Users\\JiatingChen\\anaconda3\\lib\\site-packages\\pyLDAvis\\_prepare.py:246: FutureWarning: In a future version of pandas all arguments of DataFrame.drop except for the argument 'labels' will be keyword-only\n",
      "  default_term_info = default_term_info.sort_values(\n",
      "C:\\Users\\JiatingChen\\anaconda3\\lib\\site-packages\\sklearn\\manifold\\_t_sne.py:691: FutureWarning: 'square_distances' has been introduced in 0.24 to help phase out legacy squaring behavior. The 'legacy' setting will be removed in 1.1 (renaming of 0.26), and the default setting will be changed to True. In 1.3, 'square_distances' will be removed altogether, and distances will be squared by default. Set 'square_distances'=True to silence this warning.\n",
      "  warnings.warn(\n"
     ]
    },
    {
     "data": {
      "text/html": [
       "\n",
       "<link rel=\"stylesheet\" type=\"text/css\" href=\"https://cdn.jsdelivr.net/gh/bmabey/pyLDAvis@3.3.1/pyLDAvis/js/ldavis.v1.0.0.css\">\n",
       "\n",
       "\n",
       "<div id=\"ldavis_el2993617974028807047664809327\"></div>\n",
       "<script type=\"text/javascript\">\n",
       "\n",
       "var ldavis_el2993617974028807047664809327_data = {\"mdsDat\": {\"x\": [269.5624084472656, 1.782994270324707, 220.81143188476562, 50.533992767333984], \"y\": [-124.80339813232422, -295.0796813964844, -343.8321228027344, -76.05093383789062], \"topics\": [1, 2, 3, 4], \"cluster\": [1, 1, 1, 1], \"Freq\": [29.440372822994366, 28.259652904200188, 25.40900524144969, 16.89096903135576]}, \"tinfo\": {\"Term\": [\"brush\", \"easy\", \"recommend\", \"put\", \"trim\", \"sharp\", \"get\", \"love\", \"great\", \"soft_claws\", \"scratch\", \"highly\", \"big\", \"really\", \"hold\", \"cut\", \"small\", \"well\", \"fit\", \"make\", \"zoom_groom\", \"think\", \"shed\", \"nail\", \"clip\", \"bad\", \"short_hair\", \"pink\", \"thick\", \"pull\", \"fluffy\", \"size\", \"fight\", \"matted\", \"oatmeal\", \"cool\", \"general\", \"paint\", \"fond\", \"clearly\", \"dsh\", \"warm\", \"useful\", \"sick\", \"kinda\", \"terrible\", \"oster\", \"choose\", \"heat\", \"amazingly\", \"thus\", \"vacuum\", \"issue\", \"damage\", \"irritated\", \"combine\", \"universal\", \"change\", \"maintain\", \"generally\", \"regularly\", \"undercoat\", \"white\", \"brush\", \"bald\", \"rid\", \"gentle\", \"create\", \"really\", \"think\", \"pull\", \"shed\", \"lose\", \"everywhere\", \"get\", \"short_hair\", \"much\", \"sensitive\", \"huge\", \"help\", \"maine_coon\", \"pretty\", \"good\", \"try\", \"back\", \"come\", \"long\", \"purchase\", \"little\", \"also\", \"work\", \"seem\", \"use\", \"actually\", \"go\", \"buy\", \"remove\", \"love\", \"groom\", \"take\", \"keep\", \"well\", \"make\", \"great\", \"even\", \"still\", \"zoom_groom\", \"talk\", \"local\", \"purr\", \"disappoint\", \"painful\", \"shorthaire\", \"rug\", \"ichi\", \"kitty\", \"everyday\", \"puppy\", \"wet\", \"shine\", \"sleepy\", \"surprised\", \"special\", \"mid\", \"laugh\", \"removed\", \"curl\", \"highly\", \"sound\", \"apart\", \"properly\", \"circular\", \"kind\", \"thick\", \"tummy\", \"grateful\", \"sadly\", \"show\", \"already\", \"stroke\", \"comb\", \"recommend\", \"wonderful\", \"short\", \"pet\", \"love_glove\", \"awesome\", \"love\", \"pick\", \"long_haired_cats\", \"adopt\", \"loose_hair\", \"never\", \"groom\", \"buy\", \"find\", \"stop\", \"also\", \"even\", \"look\", \"remove\", \"use\", \"ever\", \"rub\", \"say\", \"seem\", \"well\", \"work\", \"long\", \"much\", \"great\", \"get\", \"try\", \"make\", \"brush\", \"see\", \"come\", \"want\", \"good\", \"go\", \"give\", \"little\", \"peticure\", \"nail\", \"operate\", \"file\", \"frighten\", \"expose\", \"nervous\", \"cleanly\", \"protect\", \"rear\", \"hide\", \"possible\", \"rinse\", \"average\", \"shedde\", \"capture\", \"mind\", \"prepare\", \"petite\", \"suck\", \"improve\", \"ship\", \"describe\", \"waste\", \"contain\", \"foster\", \"gradually\", \"inside\", \"shred\", \"plug\", \"trim\", \"sharp\", \"round\", \"soft_claws\", \"clear\", \"scratch\", \"relatively\", \"treat\", \"nail_clippers\", \"hold\", \"apply\", \"easy\", \"clip\", \"cut\", \"quick\", \"replace\", \"smell\", \"quickly\", \"great\", \"declaw\", \"use\", \"well\", \"able\", \"nail_caps\", \"still\", \"play\", \"nice\", \"dry\", \"fall\", \"kitten\", \"get\", \"long\", \"sit\", \"work\", \"keep\", \"little\", \"good\", \"make\", \"first\", \"clean\", \"give\", \"try\", \"put\", \"even\", \"go\", \"much\", \"take\", \"seem\", \"tear\", \"construct\", \"thankfully\", \"stiff\", \"mild\", \"hit\", \"patient\", \"apple\", \"buzz\", \"smash\", \"ultimately\", \"carefully\", \"attract\", \"skittish\", \"traditional\", \"knead\", \"maltese\", \"fill\", \"wild\", \"dislike\", \"firm\", \"pink\", \"cap\", \"incredibly\", \"virtually\", \"awful\", \"way\", \"source\", \"superfine\", \"fuzze\", \"advertise\", \"sell\", \"horrible\", \"fit\", \"pass\", \"bad\", \"accept\", \"big\", \"put\", \"quite\", \"single\", \"excellent\", \"small\", \"free\", \"make\", \"close\", \"least\", \"fairly\", \"let\", \"sturdy\", \"well\", \"large\", \"get\", \"handle\", \"immediately\", \"go\", \"use\", \"enough\", \"seem\", \"take\", \"first\", \"good\", \"clean\", \"still\", \"different\", \"know\", \"sure\", \"say\", \"try\", \"soft\", \"see\", \"come\", \"really\", \"easy\", \"much\", \"love\", \"give\"], \"Freq\": [240.0, 221.0, 135.0, 132.0, 83.0, 79.0, 890.0, 219.0, 257.0, 63.0, 75.0, 62.0, 70.0, 257.0, 79.0, 129.0, 139.0, 435.0, 43.0, 272.0, 37.0, 173.0, 123.0, 32.0, 66.0, 33.0, 67.0, 26.0, 44.0, 105.0, 14.673686115294904, 9.380057182707677, 8.306572336013453, 9.910210932242657, 7.750048632398151, 7.38202266344183, 8.071102531613112, 5.780991083504069, 6.546805821626024, 5.591537427911919, 5.523595684178881, 4.717414155327005, 4.692543605865328, 4.692597011776618, 4.6804846408539555, 4.659815655606512, 4.631281640146033, 9.143171897263574, 3.988720115864733, 3.832418965086694, 3.8321061590348546, 3.8243941659289584, 3.8130748054705714, 3.8064686288807907, 3.804243083384274, 3.799591383632027, 3.780285371095397, 9.653323113469305, 3.763512773426248, 5.965601855157337, 7.413406938924164, 30.955592066671493, 10.219368328125967, 171.48148037338325, 13.380098005398308, 15.315609012586581, 27.849134463787884, 8.477735140172648, 158.12031588551005, 109.76420906483052, 68.23096860670336, 78.12582197353146, 24.08295857542388, 18.556277914486973, 425.5628876219943, 43.49424089504324, 178.65507008721244, 18.14402197762106, 20.051424421482483, 51.84932015976117, 20.365488878156057, 30.832555618000185, 120.08466535845525, 115.22241167897565, 47.57738221327894, 73.3246467050004, 97.44946294877862, 32.29612172864585, 74.29080721188258, 72.94390833400045, 94.2494884537026, 82.89828191577713, 143.95743442345315, 43.63102465358534, 68.37321682218548, 66.4533398345408, 52.56141214143908, 68.53457986601761, 50.14493378022444, 54.97150333517914, 49.08962938282723, 78.8329413712002, 63.51822993695463, 58.64166167809271, 52.59958435312525, 46.142596054559185, 35.75837367153607, 9.67979018515286, 9.934734452247664, 16.234002237300093, 8.500220081567047, 12.80846225388451, 6.08162866305181, 5.894963792323369, 5.4425013244136, 5.441793105208144, 8.742167406187036, 5.403053428511669, 7.9554840607790736, 5.233520225278702, 5.766746822397481, 12.983157186144101, 6.453026740933712, 4.459339705904765, 4.448954644842771, 4.289725514100858, 4.424481018759353, 53.023951461156386, 5.660497571548844, 7.906795282774814, 4.248896504590234, 9.161413359464289, 17.459865924983635, 37.60360693287059, 4.354888142856837, 3.6465845025081287, 4.983448626938709, 19.615735158061916, 20.369724968226304, 12.977761107210076, 35.21673589437683, 96.0703797956119, 15.22083866116063, 44.931897407097544, 70.36526907305553, 22.863909309537966, 12.308997982671555, 122.58158527318561, 35.31285381963307, 22.163639046162093, 13.318214658348495, 31.482201250149835, 51.74256063070739, 69.56494346134686, 91.03504808080977, 64.63684061446952, 37.618115949196465, 87.00367826195944, 82.36816127447271, 61.03031960716052, 65.3415445713141, 188.5941494484775, 31.63155106760786, 27.127369971608765, 49.43402449508471, 84.66259850610747, 120.89797418254818, 91.77468395914583, 92.11979866101602, 97.60745326768011, 74.01365600205735, 146.30133872139228, 74.26094340287614, 73.40007969597022, 66.29643773224265, 53.18378843697062, 52.61343590351038, 45.21323447093288, 56.25354476666546, 51.54441433767737, 48.6223294665449, 46.98539191702419, 16.53985616031527, 30.32553436887016, 9.650022000856673, 8.703379943893847, 7.262891202888871, 7.089702885415268, 13.811550636257842, 9.320963887788839, 6.39871082770071, 6.2294741017509345, 6.186442734182704, 8.434175156821983, 5.363037112936248, 5.358631952144199, 5.350770601274998, 5.348299791401395, 5.348061580385207, 5.312545673543974, 9.752957822638981, 5.2918321605151855, 4.5189505147997995, 4.518314898088311, 4.511438540087674, 4.509642080424127, 4.5085172596257355, 4.507154615146141, 4.490221491577513, 4.488348726921788, 6.849621815916091, 8.894539055362692, 69.19138994870586, 65.4084781631193, 9.53008837056313, 52.21041346660804, 17.764993621316293, 57.48663486519568, 6.7393204320462425, 8.71067733502391, 20.230898284660174, 57.254748254653386, 29.665010468463553, 142.89390004814118, 47.72574984473994, 80.40483694166998, 34.706277563422375, 18.53500472745286, 25.993121284490165, 33.76447719378045, 122.99243016879512, 25.478148575659485, 216.34792081020834, 149.00595935901038, 33.00338563769394, 21.965545481853955, 63.50646506795654, 16.28309489699311, 41.27028553293359, 22.92750896151003, 25.565571631265627, 24.42744510144599, 180.84524223340557, 86.28768690141787, 30.83316630505238, 84.13407339428204, 51.571725963353686, 61.2308193495748, 68.17919376942794, 59.600510901481435, 42.678685119715574, 43.39693742638675, 43.24495337536878, 51.291273742967874, 39.77956641631668, 42.61267704079727, 40.588126649567286, 42.11740883735771, 37.0460473633521, 35.841953037452676, 9.089327038613208, 8.343581652046096, 5.88246604584447, 5.122739169212049, 5.121372433498114, 7.211480575035578, 4.464431395156136, 4.313243080181217, 5.166222890745187, 4.31061569298736, 4.308383546811004, 4.296196991685754, 4.262744667416969, 4.403070420303762, 8.697999808387463, 3.657520465614359, 3.6379502418129985, 15.197343100157669, 3.487477222959653, 3.470322732856133, 4.155410853822225, 21.60233013046539, 4.131002982961066, 3.431372052439013, 3.5593791598800495, 3.407988718391296, 4.7185396986300425, 2.845972728096595, 2.838953659603403, 2.8389477374252907, 6.001735108223696, 13.544062540769355, 9.63906068898884, 29.20489692882614, 6.328404512790508, 22.234606584399337, 6.449133520817436, 39.14357451276445, 63.28492264020973, 23.294781520805, 8.282518331015371, 12.764307372732882, 51.35131558649604, 12.779903815020836, 75.86150726622041, 12.275609234899445, 20.208916806536266, 14.647079028611971, 31.311291060172643, 12.393000194359033, 87.09223932323648, 26.497837385393535, 137.92230848099348, 15.607881876179968, 11.807676828388056, 45.88955128928672, 84.79642818725564, 29.555125272896003, 44.304875301040234, 35.44604252439284, 31.78451325916841, 42.86019342370625, 31.4471777543352, 32.29335504213609, 19.8046720184174, 23.6820590111459, 22.795629451173195, 25.580054269577868, 37.24802434143488, 23.775685042298527, 26.91057509189756, 27.812525908244794, 31.21894009971621, 27.754585377481327, 28.76183973027478, 26.56612473377734, 25.32004696173202], \"Total\": [240.0, 221.0, 135.0, 132.0, 83.0, 79.0, 890.0, 219.0, 257.0, 63.0, 75.0, 62.0, 70.0, 257.0, 79.0, 129.0, 139.0, 435.0, 43.0, 272.0, 37.0, 173.0, 123.0, 32.0, 66.0, 33.0, 67.0, 26.0, 44.0, 105.0, 15.471597378411422, 10.091574195944634, 9.008527546086206, 10.787747002184863, 8.47739626929707, 8.108197193068625, 8.997318133142333, 6.496540714342364, 7.390249285693086, 6.312123898395105, 6.305545847244698, 5.416294603911217, 5.413615277934272, 5.415690342535899, 5.41252621946733, 5.412315321895288, 5.412714868796461, 10.761746567624781, 4.701053762035622, 4.519510599632731, 4.519697418274971, 4.5189812454677245, 4.5177439802978885, 4.516994737463476, 4.517409505865435, 4.516424570733753, 4.514424483551163, 11.576846301906336, 4.516118973925215, 7.163472485580486, 8.927109596492002, 38.028527351457186, 12.485867101907942, 240.95045761292468, 16.822259848627958, 19.611324904110965, 37.73643125577978, 10.660310572031186, 257.18718093033186, 173.20726377497468, 105.3577381235872, 123.69456638217137, 33.71417572175371, 25.46663771827632, 890.6317770577856, 67.04947089966463, 347.14177192252504, 25.563573355680553, 29.15539884197773, 98.33855587014261, 31.0368203163915, 52.52223303623487, 287.3775973182549, 278.02265316625454, 95.494165902509, 174.61254676271298, 293.71274397674443, 62.00292105273154, 201.67627477359343, 197.58558461363515, 291.69226387055556, 247.7077087603775, 633.6959328693946, 101.45125015094953, 206.39530909871684, 198.56961847021273, 139.48386086399145, 219.44826007579567, 136.31846891380377, 167.39690360217116, 147.59610902372603, 435.82911423599523, 272.38032780062673, 257.08409644921704, 186.39751902353865, 162.3902640869359, 37.863149957916605, 10.389497260610291, 10.701285460657475, 17.588066718510298, 9.24001541253634, 14.1306196665507, 6.796213342344433, 6.629322900348003, 6.14853174036184, 6.148627778127807, 9.917998056914154, 6.1487139800992905, 9.089175730615377, 5.981988336460494, 6.628197504125298, 14.945786512972237, 7.455478061305579, 5.1672141489430246, 5.167872385048946, 4.999105035420675, 5.168266451137762, 62.11754204868736, 6.641551060571466, 9.29835802156861, 5.000508054865994, 10.783678525647577, 20.63782844595403, 44.62899878725373, 5.171711213552101, 4.3525233334935365, 5.982210146015198, 24.28497827788617, 25.3312563579308, 15.935573972295934, 45.805143849429044, 135.05170730218623, 19.20319933055754, 63.37605311375766, 103.77338707713096, 31.09364820196279, 15.687371074348295, 219.44826007579567, 53.381236801783366, 32.01845935517745, 17.722736379879674, 50.01607476287955, 91.93740207734731, 136.31846891380377, 198.56961847021273, 129.1340641306437, 65.46423558675366, 197.58558461363515, 186.39751902353865, 126.44900370234775, 139.48386086399145, 633.6959328693946, 53.23569228549112, 44.22341470337145, 109.82679200679982, 247.7077087603775, 435.82911423599523, 291.69226387055556, 293.71274397674443, 347.14177192252504, 257.08409644921704, 890.6317770577856, 278.02265316625454, 272.38032780062673, 240.95045761292468, 151.9255427660516, 174.61254676271298, 112.56805626804142, 287.3775973182549, 206.39530909871684, 158.2538618372717, 201.67627477359343, 17.24024814210828, 32.1395734865902, 10.370974992864484, 9.50823988046611, 7.972878770764739, 7.796067004986588, 15.328921281501446, 10.353334391683509, 7.113675254599579, 6.937075942250818, 6.936163097600047, 9.522328038733962, 6.078027689761009, 6.078788842489978, 6.079860060229168, 6.077219224905636, 6.077188760465035, 6.080581476328253, 11.193215752605507, 6.074195877193989, 5.220629076800157, 5.220369217683609, 5.219826047370976, 5.2190494776701435, 5.219815167773414, 5.219732671000866, 5.218554388311765, 5.219385350286071, 7.991419551144762, 10.40422381346225, 83.73139246077605, 79.80917612174682, 11.188624785183562, 63.78550009428408, 21.57919431292744, 75.2224541020462, 7.976948841772766, 10.490248425145657, 25.92516256607786, 79.54435612299837, 39.362511493340655, 221.52039443494306, 66.63903567189385, 129.2983795604173, 50.70103358566613, 25.231137818589175, 37.93926436267396, 51.975608044092105, 257.08409644921704, 38.252303217451704, 633.6959328693946, 435.82911423599523, 59.58049761895046, 34.67899155871172, 162.3902640869359, 23.92352353648872, 91.39657745219141, 39.30172279677332, 46.163013074399075, 43.31556125667699, 890.6317770577856, 293.71274397674443, 61.70230592735568, 291.69226387055556, 147.59610902372603, 201.67627477359343, 287.3775973182549, 272.38032780062673, 144.5636125614714, 152.1685544890762, 158.2538618372717, 278.02265316625454, 132.3483773538831, 186.39751902353865, 206.39530909871684, 347.14177192252504, 167.39690360217116, 247.7077087603775, 10.119835241673984, 9.290532540589211, 6.656927908563639, 5.8378850505865785, 5.837906481591415, 8.293526065536314, 5.188469911279665, 5.019534985180774, 6.012933651804757, 5.0194236570148005, 5.019555306770266, 5.019445717222842, 5.020820208128011, 5.1924464926549625, 10.30885185135047, 4.369539213960106, 4.370792596838418, 18.307751071804528, 4.2014416738827896, 4.201472469333411, 5.031707973168261, 26.285150468249572, 5.036227614722121, 4.200737058385206, 4.368824489758193, 4.2012633749182795, 5.83622757172316, 3.550891335411165, 3.551111657375759, 3.5511117628841387, 7.518157269734193, 17.54286675474263, 12.378822227434856, 43.63792337866417, 8.287057152843738, 33.55611314998861, 8.584518488010332, 70.67500095676908, 132.3483773538831, 41.24134404538786, 11.767046210994167, 21.53816027041354, 139.26694070267385, 22.030309968579566, 272.38032780062673, 21.64683090783473, 44.07975692494242, 28.352121890526824, 86.73658427961894, 23.007768330740085, 435.82911423599523, 71.96341104423318, 890.6317770577856, 33.86742482487694, 21.936376949921204, 206.39530909871684, 633.6959328693946, 113.08384333790212, 247.7077087603775, 167.39690360217116, 144.5636125614714, 287.3775973182549, 152.1685544890762, 162.3902640869359, 58.76302268776574, 90.04698505857677, 82.98018968177342, 109.82679200679982, 278.02265316625454, 94.209960402523, 151.9255427660516, 174.61254676271298, 257.18718093033186, 221.52039443494306, 347.14177192252504, 219.44826007579567, 158.2538618372717], \"Category\": [\"Default\", \"Default\", \"Default\", \"Default\", \"Default\", \"Default\", \"Default\", \"Default\", \"Default\", \"Default\", \"Default\", \"Default\", \"Default\", \"Default\", \"Default\", \"Default\", \"Default\", \"Default\", \"Default\", \"Default\", \"Default\", \"Default\", \"Default\", \"Default\", \"Default\", \"Default\", \"Default\", \"Default\", \"Default\", \"Default\", \"Topic1\", \"Topic1\", \"Topic1\", \"Topic1\", \"Topic1\", \"Topic1\", \"Topic1\", \"Topic1\", \"Topic1\", \"Topic1\", \"Topic1\", \"Topic1\", \"Topic1\", \"Topic1\", \"Topic1\", \"Topic1\", \"Topic1\", \"Topic1\", \"Topic1\", \"Topic1\", \"Topic1\", \"Topic1\", \"Topic1\", \"Topic1\", \"Topic1\", \"Topic1\", \"Topic1\", \"Topic1\", \"Topic1\", \"Topic1\", \"Topic1\", \"Topic1\", \"Topic1\", \"Topic1\", \"Topic1\", \"Topic1\", \"Topic1\", \"Topic1\", \"Topic1\", \"Topic1\", \"Topic1\", \"Topic1\", \"Topic1\", \"Topic1\", \"Topic1\", \"Topic1\", \"Topic1\", \"Topic1\", \"Topic1\", \"Topic1\", \"Topic1\", \"Topic1\", \"Topic1\", \"Topic1\", \"Topic1\", \"Topic1\", \"Topic1\", \"Topic1\", \"Topic1\", \"Topic1\", \"Topic1\", \"Topic1\", \"Topic1\", \"Topic1\", \"Topic1\", \"Topic1\", \"Topic1\", \"Topic1\", \"Topic1\", \"Topic1\", \"Topic1\", \"Topic1\", \"Topic1\", \"Topic1\", \"Topic1\", \"Topic1\", \"Topic2\", \"Topic2\", \"Topic2\", \"Topic2\", \"Topic2\", \"Topic2\", \"Topic2\", \"Topic2\", \"Topic2\", \"Topic2\", \"Topic2\", \"Topic2\", \"Topic2\", \"Topic2\", \"Topic2\", \"Topic2\", \"Topic2\", \"Topic2\", \"Topic2\", \"Topic2\", \"Topic2\", \"Topic2\", \"Topic2\", \"Topic2\", \"Topic2\", \"Topic2\", \"Topic2\", \"Topic2\", \"Topic2\", \"Topic2\", \"Topic2\", \"Topic2\", \"Topic2\", \"Topic2\", \"Topic2\", \"Topic2\", \"Topic2\", \"Topic2\", \"Topic2\", \"Topic2\", \"Topic2\", \"Topic2\", \"Topic2\", \"Topic2\", \"Topic2\", \"Topic2\", \"Topic2\", \"Topic2\", \"Topic2\", \"Topic2\", \"Topic2\", \"Topic2\", \"Topic2\", \"Topic2\", \"Topic2\", \"Topic2\", \"Topic2\", \"Topic2\", \"Topic2\", \"Topic2\", \"Topic2\", \"Topic2\", \"Topic2\", \"Topic2\", \"Topic2\", \"Topic2\", \"Topic2\", \"Topic2\", \"Topic2\", \"Topic2\", \"Topic2\", \"Topic2\", \"Topic2\", \"Topic2\", \"Topic2\", \"Topic2\", \"Topic3\", \"Topic3\", \"Topic3\", \"Topic3\", \"Topic3\", \"Topic3\", \"Topic3\", \"Topic3\", \"Topic3\", \"Topic3\", \"Topic3\", \"Topic3\", \"Topic3\", \"Topic3\", \"Topic3\", \"Topic3\", \"Topic3\", \"Topic3\", \"Topic3\", \"Topic3\", \"Topic3\", \"Topic3\", \"Topic3\", \"Topic3\", \"Topic3\", \"Topic3\", \"Topic3\", \"Topic3\", \"Topic3\", \"Topic3\", \"Topic3\", \"Topic3\", \"Topic3\", \"Topic3\", \"Topic3\", \"Topic3\", \"Topic3\", \"Topic3\", \"Topic3\", \"Topic3\", \"Topic3\", \"Topic3\", \"Topic3\", \"Topic3\", \"Topic3\", \"Topic3\", \"Topic3\", \"Topic3\", \"Topic3\", \"Topic3\", \"Topic3\", \"Topic3\", \"Topic3\", \"Topic3\", \"Topic3\", \"Topic3\", \"Topic3\", \"Topic3\", \"Topic3\", \"Topic3\", \"Topic3\", \"Topic3\", \"Topic3\", \"Topic3\", \"Topic3\", \"Topic3\", \"Topic3\", \"Topic3\", \"Topic3\", \"Topic3\", \"Topic3\", \"Topic3\", \"Topic3\", \"Topic3\", \"Topic3\", \"Topic3\", \"Topic3\", \"Topic3\", \"Topic4\", \"Topic4\", \"Topic4\", \"Topic4\", \"Topic4\", \"Topic4\", \"Topic4\", \"Topic4\", \"Topic4\", \"Topic4\", \"Topic4\", \"Topic4\", \"Topic4\", \"Topic4\", \"Topic4\", \"Topic4\", \"Topic4\", \"Topic4\", \"Topic4\", \"Topic4\", \"Topic4\", \"Topic4\", \"Topic4\", \"Topic4\", \"Topic4\", \"Topic4\", \"Topic4\", \"Topic4\", \"Topic4\", \"Topic4\", \"Topic4\", \"Topic4\", \"Topic4\", \"Topic4\", \"Topic4\", \"Topic4\", \"Topic4\", \"Topic4\", \"Topic4\", \"Topic4\", \"Topic4\", \"Topic4\", \"Topic4\", \"Topic4\", \"Topic4\", \"Topic4\", \"Topic4\", \"Topic4\", \"Topic4\", \"Topic4\", \"Topic4\", \"Topic4\", \"Topic4\", \"Topic4\", \"Topic4\", \"Topic4\", \"Topic4\", \"Topic4\", \"Topic4\", \"Topic4\", \"Topic4\", \"Topic4\", \"Topic4\", \"Topic4\", \"Topic4\", \"Topic4\", \"Topic4\", \"Topic4\", \"Topic4\", \"Topic4\", \"Topic4\", \"Topic4\", \"Topic4\", \"Topic4\", \"Topic4\", \"Topic4\", \"Topic4\"], \"logprob\": [30.0, 29.0, 28.0, 27.0, 26.0, 25.0, 24.0, 23.0, 22.0, 21.0, 20.0, 19.0, 18.0, 17.0, 16.0, 15.0, 14.0, 13.0, 12.0, 11.0, 10.0, 9.0, 8.0, 7.0, 6.0, 5.0, 4.0, 3.0, 2.0, 1.0, -6.2642, -6.7117, -6.8332, -6.6567, -6.9026, -6.9512, -6.862, -7.1957, -7.0713, -7.229, -7.2413, -7.399, -7.4043, -7.4043, -7.4069, -7.4113, -7.4175, -6.7373, -7.5668, -7.6068, -7.6069, -7.6089, -7.6119, -7.6136, -7.6142, -7.6154, -7.6205, -6.683, -7.6249, -7.1643, -6.947, -5.5177, -6.626, -3.8058, -6.3565, -6.2214, -5.6235, -6.8128, -3.8869, -4.252, -4.7274, -4.592, -5.7688, -6.0295, -2.8969, -5.1777, -3.7648, -6.052, -5.952, -5.0019, -5.9364, -5.5217, -4.1621, -4.2034, -5.0879, -4.6554, -4.371, -5.4753, -4.6423, -4.6606, -4.4043, -4.5327, -3.9808, -5.1745, -4.7253, -4.7538, -4.9883, -4.723, -5.0354, -4.9435, -5.0566, -4.583, -4.799, -4.8788, -4.9876, -5.1186, -5.3326, -6.6393, -6.6133, -6.1223, -6.7693, -6.3593, -7.1041, -7.1353, -7.2151, -7.2153, -6.7412, -7.2224, -6.8355, -7.2543, -7.1573, -6.3457, -7.0448, -7.4144, -7.4167, -7.4531, -7.4222, -4.9386, -7.1758, -6.8416, -7.4627, -6.6944, -6.0495, -5.2823, -7.4381, -7.6156, -7.3032, -5.933, -5.8953, -6.3461, -5.3478, -4.3443, -6.1867, -5.1042, -4.6557, -5.7798, -6.399, -4.1006, -5.3451, -5.8109, -6.3202, -5.4599, -4.9631, -4.6671, -4.3981, -4.7406, -5.2819, -4.4434, -4.4982, -4.798, -4.7297, -3.6698, -5.4552, -5.6088, -5.0087, -4.4707, -4.1144, -4.39, -4.3863, -4.3284, -4.6051, -3.9237, -4.6018, -4.6134, -4.7152, -4.9356, -4.9464, -5.098, -4.8795, -4.9669, -5.0253, -5.0595, -5.9973, -5.391, -6.5361, -6.6393, -6.8203, -6.8444, -6.1775, -6.5708, -6.9469, -6.9737, -6.9807, -6.6707, -7.1235, -7.1243, -7.1258, -7.1262, -7.1263, -7.133, -6.5255, -7.1369, -7.2947, -7.2949, -7.2964, -7.2968, -7.2971, -7.2974, -7.3011, -7.3015, -6.8788, -6.6176, -4.5662, -4.6224, -6.5486, -4.8477, -5.9258, -4.7515, -6.8951, -6.6385, -5.7958, -4.7555, -5.4131, -3.8409, -4.9376, -4.416, -5.2561, -5.8834, -5.5452, -5.2836, -3.9909, -5.5652, -3.4261, -3.799, -5.3064, -5.7136, -4.6519, -6.0129, -5.0829, -5.6707, -5.5618, -5.6073, -3.6054, -4.3453, -5.3744, -4.3706, -4.8601, -4.6884, -4.5809, -4.7154, -5.0493, -5.0326, -5.0361, -4.8655, -5.1197, -5.0509, -5.0996, -5.0626, -5.1909, -5.2239, -6.1876, -6.2732, -6.6227, -6.761, -6.7613, -6.419, -6.8986, -6.933, -6.7526, -6.9336, -6.9341, -6.937, -6.9448, -6.9124, -6.2316, -7.0979, -7.1033, -5.6736, -7.1455, -7.1505, -6.9703, -5.3219, -6.9762, -7.1617, -7.1251, -7.1686, -6.8432, -7.3488, -7.3513, -7.3513, -6.6027, -5.7888, -6.1289, -5.0204, -6.5497, -5.2931, -6.5308, -4.7275, -4.2471, -5.2465, -6.2806, -5.8481, -4.456, -5.8468, -4.0658, -5.8871, -5.3886, -5.7105, -4.9507, -5.8776, -3.9277, -5.1176, -3.468, -5.6469, -5.926, -4.5685, -3.9545, -5.0084, -4.6036, -4.8267, -4.9357, -4.6368, -4.9464, -4.9198, -5.4088, -5.23, -5.2681, -5.1529, -4.7771, -5.226, -5.1022, -5.0692, -4.9537, -5.0713, -5.0357, -5.1151, -5.1631], \"loglift\": [30.0, 29.0, 28.0, 27.0, 26.0, 25.0, 24.0, 23.0, 22.0, 21.0, 20.0, 19.0, 18.0, 17.0, 16.0, 15.0, 14.0, 13.0, 12.0, 11.0, 10.0, 9.0, 8.0, 7.0, 6.0, 5.0, 4.0, 3.0, 2.0, 1.0, 1.1699, 1.1497, 1.1417, 1.138, 1.1331, 1.129, 1.1142, 1.1061, 1.1016, 1.1016, 1.0904, 1.0847, 1.0799, 1.0795, 1.0775, 1.0731, 1.0669, 1.0598, 1.0585, 1.0579, 1.0578, 1.0559, 1.0532, 1.0517, 1.051, 1.05, 1.0453, 1.0411, 1.0405, 1.0398, 1.037, 1.017, 1.0225, 0.8827, 0.9939, 0.9756, 0.919, 0.9937, 0.7364, 0.7666, 0.7883, 0.7633, 0.8864, 0.9062, 0.4843, 0.79, 0.5585, 0.88, 0.8485, 0.5827, 0.8015, 0.6901, 0.3502, 0.342, 0.5261, 0.3551, 0.1195, 0.5706, 0.2241, 0.2263, 0.093, 0.1282, -0.2592, 0.379, 0.118, 0.1282, 0.2468, 0.059, 0.2227, 0.1093, 0.122, -0.4871, -0.2331, -0.2552, -0.0424, -0.0355, 1.2065, 1.193, 1.1894, 1.1836, 1.1803, 1.1655, 1.1526, 1.1463, 1.1418, 1.1416, 1.1375, 1.1345, 1.1305, 1.1301, 1.1245, 1.123, 1.1193, 1.1164, 1.1139, 1.1107, 1.1084, 1.1055, 1.1039, 1.1016, 1.1009, 1.1007, 1.0965, 1.0925, 1.0918, 1.0868, 1.0811, 1.0502, 1.0457, 1.0584, 1.0009, 0.9232, 1.0313, 0.9198, 0.8752, 0.9563, 1.0212, 0.6814, 0.8505, 0.8959, 0.978, 0.8008, 0.6889, 0.591, 0.4838, 0.5717, 0.7097, 0.4435, 0.4471, 0.5353, 0.5054, 0.0518, 0.7432, 0.775, 0.4655, 0.1902, -0.0186, 0.1074, 0.1042, -0.005, 0.0186, -0.5425, -0.0564, -0.0475, -0.0267, 0.2141, 0.0641, 0.3516, -0.3672, -0.1236, 0.0836, -0.1931, 1.3286, 1.312, 1.298, 1.2816, 1.2768, 1.2751, 1.2658, 1.265, 1.2641, 1.2625, 1.2557, 1.2487, 1.2449, 1.244, 1.2423, 1.2423, 1.2423, 1.235, 1.2323, 1.2322, 1.2257, 1.2256, 1.2242, 1.224, 1.2236, 1.2233, 1.2197, 1.2192, 1.2159, 1.2133, 1.1793, 1.1711, 1.2096, 1.1698, 1.1756, 1.1012, 1.2015, 1.1842, 1.1221, 1.0413, 1.0872, 0.9317, 1.0362, 0.895, 0.991, 1.0616, 0.9919, 0.9387, 0.6328, 0.9637, 0.2954, 0.2968, 0.7793, 0.9134, 0.4312, 0.9853, 0.575, 0.8311, 0.7791, 0.7973, -0.2242, 0.1452, 0.6763, 0.1268, 0.3186, 0.1781, -0.0686, -0.1495, 0.15, 0.1155, 0.0727, -0.3201, 0.168, -0.1057, -0.2563, -0.7392, -0.1381, -0.5631, 1.671, 1.6709, 1.6547, 1.6477, 1.6474, 1.6386, 1.6281, 1.6267, 1.6266, 1.6262, 1.6256, 1.6228, 1.6147, 1.6135, 1.6085, 1.6005, 1.5949, 1.5922, 1.5921, 1.5872, 1.587, 1.5822, 1.5803, 1.5761, 1.5735, 1.5691, 1.5658, 1.5571, 1.5546, 1.5546, 1.5531, 1.5197, 1.5282, 1.3768, 1.5087, 1.3668, 1.4924, 1.1875, 1.0406, 1.2072, 1.4272, 1.2552, 0.7807, 1.2338, 0.5001, 1.2111, 0.9985, 1.1179, 0.7595, 1.1597, 0.1681, 0.7793, -0.0868, 1.0037, 1.159, 0.2748, -0.2329, 0.4365, 0.0572, 0.226, 0.2637, -0.1245, 0.2017, 0.1633, 0.6908, 0.4428, 0.4864, 0.3213, -0.2317, 0.4015, 0.0475, -0.0587, -0.3304, -0.2987, -0.7123, -0.3331, -0.0542]}, \"token.table\": {\"Topic\": [1, 2, 3, 4, 1, 4, 1, 2, 3, 4, 1, 2, 1, 4, 2, 3, 4, 1, 2, 3, 4, 1, 1, 2, 4, 1, 3, 4, 4, 3, 2, 3, 4, 4, 1, 2, 3, 4, 1, 3, 4, 1, 2, 1, 2, 3, 4, 1, 2, 3, 4, 1, 2, 3, 4, 4, 4, 3, 4, 1, 2, 1, 3, 1, 2, 1, 2, 3, 4, 2, 3, 1, 2, 3, 4, 1, 1, 2, 3, 4, 1, 2, 3, 4, 1, 2, 1, 1, 2, 3, 4, 4, 3, 1, 1, 4, 2, 1, 2, 3, 4, 1, 2, 3, 4, 3, 1, 2, 3, 4, 2, 4, 1, 2, 3, 4, 1, 1, 2, 3, 4, 1, 2, 3, 4, 1, 2, 3, 4, 1, 2, 3, 4, 2, 1, 2, 4, 2, 4, 3, 1, 3, 4, 1, 2, 3, 4, 1, 3, 1, 4, 1, 2, 3, 4, 4, 1, 2, 3, 4, 1, 2, 3, 4, 1, 1, 3, 1, 2, 3, 4, 3, 4, 1, 1, 4, 1, 2, 3, 1, 2, 3, 4, 1, 2, 3, 4, 1, 2, 3, 4, 1, 2, 3, 4, 3, 2, 1, 2, 3, 4, 1, 2, 3, 4, 1, 2, 3, 4, 1, 1, 2, 3, 4, 3, 2, 3, 2, 4, 1, 2, 3, 4, 2, 4, 1, 2, 3, 4, 2, 1, 2, 4, 3, 4, 3, 1, 1, 1, 2, 3, 4, 1, 2, 3, 4, 1, 1, 2, 3, 4, 2, 4, 1, 2, 3, 4, 1, 2, 3, 4, 2, 1, 2, 3, 4, 1, 2, 3, 4, 1, 2, 3, 4, 2, 1, 2, 3, 4, 1, 2, 3, 1, 2, 3, 4, 1, 2, 3, 4, 1, 2, 3, 4, 1, 2, 3, 4, 2, 4, 1, 2, 3, 4, 1, 1, 2, 3, 4, 4, 1, 2, 4, 3, 1, 2, 3, 4, 3, 4, 3, 4, 2, 3, 4, 2, 3, 1, 2, 3, 4, 1, 2, 3, 4, 1, 3, 1, 2, 4, 1, 2, 4, 4, 1, 2, 3, 4, 3, 3, 4, 1, 2, 3, 1, 2, 3, 4, 2, 3, 4, 1, 3, 1, 3, 3, 1, 2, 3, 4, 2, 3, 1, 2, 3, 4, 2, 1, 2, 3, 4, 1, 2, 1, 2, 3, 4, 1, 2, 3, 4, 1, 2, 3, 4, 1, 2, 3, 4, 1, 2, 3, 4, 3, 1, 2, 3, 4, 1, 2, 4, 1, 3, 1, 2, 3, 4, 2, 1, 2, 3, 4, 1, 3, 3, 2, 3, 1, 2, 3, 4, 2, 2, 4, 1, 2, 3, 4, 1, 2, 3, 4, 1, 2, 3, 4, 1, 2, 3, 4, 2, 3, 4, 1, 3, 4, 1, 3, 1, 2, 3, 4, 3, 2, 3, 1, 2, 3, 4, 1, 2, 3, 2, 1, 2, 3, 1, 3, 1, 2, 3, 4, 1, 2, 3, 4, 1, 4, 2, 1, 2, 3, 4, 4, 1, 2, 3, 4, 1, 2, 3, 4, 3, 4, 2, 4, 2, 4, 1, 2, 3, 4, 1, 2, 3, 4, 2, 4, 1, 2, 4, 3, 4, 1, 2, 3, 4, 2, 4, 1, 2, 3, 4, 2, 4, 1, 4, 1, 2, 3, 1, 2, 3, 4, 1, 3, 4, 2, 3, 2, 3, 4, 1, 2, 3, 4, 2, 4, 1, 2, 3, 4, 1, 1, 2, 3, 4, 1, 1, 4, 1, 2, 3, 4, 1, 3, 2, 4, 1, 2, 3, 4, 2, 3, 1, 3, 4, 4, 1, 2, 3, 4, 1, 2, 3, 4, 1, 2], \"Freq\": [0.1007040934497266, 0.1510561401745899, 0.5538725139734962, 0.2014081868994532, 0.2329775400674276, 0.6989326202022828, 0.43370584329451145, 0.30556548050295124, 0.08871255885569553, 0.17742511771139105, 0.22569878117360775, 0.7335210388142253, 0.13301131701855917, 0.798067902111355, 0.7895384152053053, 0.07895384152053053, 0.07895384152053053, 0.3694601513705892, 0.44031552286631864, 0.0961608613156328, 0.09109976335165212, 0.8850515806567755, 0.10754586967724679, 0.8603669574179743, 0.7968865665463519, 0.0762146490705386, 0.7621464907053859, 0.17783418116459004, 0.7966825805721055, 0.8225322723912735, 0.7649465256560535, 0.12749108760934225, 0.06374554380467112, 0.7140709192168544, 0.5026485078575764, 0.20943687827399018, 0.16754950261919213, 0.1256621269643941, 0.02980082930136202, 0.2980082930136202, 0.6556182446299644, 0.7727855898659355, 0.1783351361229082, 0.14149274658116895, 0.05659709863246758, 0.2546869438461041, 0.5518217116665589, 0.7096894593771773, 0.2739152299350509, 0.00830046151318336, 0.00830046151318336, 0.3323771305422567, 0.45827755877795995, 0.14604449675341583, 0.06043220555313758, 0.8315408566830387, 0.7942452776175216, 0.8227447151336946, 0.7969007387160507, 0.8637931038570772, 0.08637931038570772, 0.8362954789397521, 0.09292171988219468, 0.0927327347177153, 0.8345946124594377, 0.23000809935743038, 0.28258137921055737, 0.28258137921055737, 0.20372145943086692, 0.09658724060948586, 0.8692851654853727, 0.09268186619932611, 0.046340933099663056, 0.834136795793935, 0.046340933099663056, 0.9505516838041687, 0.09003731730965912, 0.06002487820643942, 0.720298538477273, 0.13505597596448868, 0.04619613855985107, 0.1847845542394043, 0.1847845542394043, 0.5543536627182128, 0.21831609202826788, 0.7641063220989376, 0.8856563277774717, 0.41806846846579826, 0.30352916203681246, 0.12026627175043512, 0.16035502900058016, 0.8610916505645902, 0.9578883234926535, 0.8633238478689222, 0.7504471793710323, 0.18761179484275808, 0.7739539046249105, 0.18561717541700137, 0.10827668565991747, 0.6187239180566713, 0.09280858770850069, 0.8855445340293235, 0.2091377336031936, 0.65355541750998, 0.130711083501996, 0.9578863269817787, 0.2212275578313053, 0.37438509786836277, 0.08508752224280973, 0.3403500889712389, 0.974024349330554, 0.7140353820944989, 0.10177670889094971, 0.12722088611368715, 0.5852160761229608, 0.178109240559162, 0.9515433152582324, 0.17154176750601616, 0.05868534151521606, 0.6455387566673766, 0.12639919710969613, 0.29181887549925045, 0.1414879396360002, 0.30066187172650044, 0.2652898868175004, 0.28433854848307855, 0.4399200184077819, 0.23068976575042222, 0.048283904459390695, 0.2817658483627554, 0.6011004765072115, 0.056353169672551086, 0.07513755956340144, 0.90744119411536, 0.7460741465044092, 0.039267060342337325, 0.23560236205402393, 0.371433766837988, 0.6035798711117305, 0.8978886399414729, 0.10581218617723202, 0.3527072872574401, 0.5290609308861601, 0.12997418496773686, 0.10831182080644737, 0.5632214681935264, 0.21662364161289474, 0.8880474593737169, 0.9465474276148368, 0.10924334682921091, 0.8193251012190819, 0.24006059290937823, 0.5033528561003092, 0.09292668112621093, 0.16262169197086912, 0.7949586942108176, 0.21443847072387023, 0.26977743091067546, 0.29744691100407805, 0.22135584074722087, 0.16041093292313952, 0.045831695120897006, 0.11457923780224251, 0.6645595792530066, 0.9695185075673263, 0.9471940295101308, 0.957903462715317, 0.18156803084954076, 0.09078401542477038, 0.18156803084954076, 0.5900961002610075, 0.8779764751557332, 0.8448058524532224, 0.8891538435804962, 0.837582612633403, 0.13959710210556717, 0.7419885523942191, 0.23849632041242758, 0.026499591156936397, 0.47831214983963055, 0.16392857717508466, 0.2032265237581529, 0.15494618938466906, 0.25907740590974787, 0.3096290948677475, 0.27171532814924776, 0.1579740279937487, 0.32946485216617144, 0.25194371048001346, 0.19864792557077984, 0.2228732823477042, 0.41756908374143925, 0.19486557241267166, 0.23662248078681558, 0.14962892167401573, 0.7664957960309818, 0.9190071352907406, 0.2294968876523038, 0.28784355400458445, 0.4784426640887012, 0.0038897777568187085, 0.3667881571617105, 0.5135034200263947, 0.02934305257293684, 0.09536492086204472, 0.26574208244463715, 0.08858069414821239, 0.17716138829642478, 0.47243036879046607, 0.8508730600579101, 0.5287854752378782, 0.06101370868129364, 0.33557539774711503, 0.08135161157505819, 0.8650315622013034, 0.8532211393435193, 0.12878809650468215, 0.12057597602007819, 0.8440318321405473, 0.1760024303717034, 0.1005728173552591, 0.7165813236562211, 0.012571602169407387, 0.16156625915246225, 0.8078312957623113, 0.6859792969528562, 0.10289689454292843, 0.10289689454292843, 0.10289689454292843, 0.8132022751346732, 0.3191046550658925, 0.1367591378853825, 0.54703655154153, 0.9577389863262636, 0.7141603862140379, 0.7663737646389268, 0.8854632272780171, 0.885397671369649, 0.33198707150283524, 0.2845603470024302, 0.3523128105744374, 0.033876231786003595, 0.09690942073859968, 0.8237300762780972, 0.04845471036929984, 0.04845471036929984, 0.923783053838411, 0.09234556551852158, 0.04617278275926079, 0.5540733931111295, 0.3001230879351951, 0.8131895734177046, 0.9154283333172806, 0.18879032972554577, 0.34426471891128935, 0.19989564323881315, 0.26652752431841753, 0.30571091170869363, 0.19454330745098686, 0.12506355478992012, 0.361294713837547, 0.7740129209793007, 0.11343075254507046, 0.09074460203605637, 0.34029225763521137, 0.4537230101802818, 0.12682076532479666, 0.3343456540381003, 0.18446656774515877, 0.3574039750062451, 0.3669246671829602, 0.2330467480756639, 0.30246492835352123, 0.09421038751994924, 0.9344671756271056, 0.3302546518297492, 0.3132312161684219, 0.2928030933748292, 0.0612843683807782, 0.24985586943009436, 0.6871036409327596, 0.031231983678761795, 0.1502582024665429, 0.4824079131820587, 0.26097477270504815, 0.10280824379289777, 0.11996143296820691, 0.6198007370024023, 0.059980716484103455, 0.19993572161367817, 0.7118667292379999, 0.059322227436499994, 0.14830556859125, 0.08898334115474998, 0.3144249126248162, 0.5604965833746723, 0.009113765583328007, 0.12303583537492808, 0.7397009141741084, 0.25728727449534206, 0.6443959077031285, 0.16109897692578212, 0.03221979538515642, 0.16109897692578212, 0.8857162583835504, 0.23496557375041363, 0.26800760755906555, 0.22028022539101277, 0.2790216188286162, 0.9151658220738664, 0.9269776161764528, 0.7741115201927942, 0.8564714107302723, 0.8227488394843593, 0.5156394720481785, 0.2823054092777737, 0.1209880325476173, 0.08353935580668813, 0.9334286907235123, 0.031114289690783743, 0.6343898427021408, 0.34603082329207685, 0.15429025718950962, 0.7714512859475481, 0.038572564297377404, 0.06523616252154513, 0.9133062753016317, 0.11964662641593521, 0.5656022339662392, 0.22841628679405812, 0.09789269434031063, 0.19694391739576475, 0.2516505611168105, 0.4485944785125753, 0.09847195869788238, 0.9436859792639308, 0.9642294969258218, 0.923750857231423, 0.9199879627906873, 0.07076830483005286, 0.9235684441650377, 0.12067009814899682, 0.7240205888939809, 0.770940194006725, 0.15418211210652483, 0.6745467404660461, 0.09636382006657801, 0.07709105605326241, 0.9860646934935068, 0.8933983067084402, 0.08933983067084403, 0.26226443669683364, 0.6556610917420841, 0.07493269619909533, 0.03804429429490703, 0.07608858858981406, 0.07608858858981406, 0.8369744744879546, 0.208999313682781, 0.6687978037848992, 0.1253995882096686, 0.09611481047784443, 0.8650332943005998, 0.10501633591410643, 0.8401306873128515, 0.8222897792694721, 0.5902262376889655, 0.0951977802724138, 0.1903955605448276, 0.1332768923813793, 0.7999187194804336, 0.8434458680301021, 0.6454200821987498, 0.21830385133193006, 0.028474415391121312, 0.10440618976744481, 0.81317817289645, 0.5161047166275441, 0.3386937202868258, 0.032256544789221506, 0.11289790676227528, 0.056856732238089874, 0.909707715809438, 0.15111632193663008, 0.06800234487148353, 0.30223264387326015, 0.4760164141003847, 0.09861731894581273, 0.17751117410246292, 0.6903212326206891, 0.03944692757832509, 0.26935711821059366, 0.01923979415789955, 0.6541530013685846, 0.0769591766315982, 0.09699004949009006, 0.12123756186261259, 0.21822761135270266, 0.5576927845680179, 0.614338550733599, 0.15552874702116432, 0.10887012291481502, 0.12053477894140234, 0.864917733343024, 0.007404571330316028, 0.7108388477103388, 0.259159996561061, 0.022213713990948087, 0.7841283815705277, 0.1120183402243611, 0.1120183402243611, 0.12536121515074977, 0.8775285060552485, 0.3799722754425294, 0.4660037340332907, 0.07886217037486458, 0.07886217037486458, 0.8001432199680516, 0.15853426939204376, 0.07926713469602188, 0.753037779612208, 0.03963356734801094, 0.7648641829831533, 0.20396378212884086, 0.8226352782865658, 0.089376488996596, 0.8937648899659602, 0.09044982226790942, 0.6105363003083886, 0.022612455566977354, 0.27134946680372823, 0.9050698073079277, 0.8358114940730631, 0.16716229881461261, 0.20942066666734632, 0.4461570724652161, 0.10926295652209372, 0.23673640579786975, 0.03988170867079427, 0.013293902890264758, 0.7577524647450912, 0.1861146404637066, 0.269869037513563, 0.34885509727363023, 0.20404732104684034, 0.17771863446015126, 0.3350723334988774, 0.34314636563138046, 0.14533257838505526, 0.17762870691506752, 0.11400645219284412, 0.11400645219284412, 0.7980451653499088, 0.704126913305732, 0.11735448555095532, 0.15647264740127376, 0.17541842530291712, 0.8144426889064009, 0.6305855000858184, 0.23444845516011198, 0.016168858976559446, 0.11318201283591613, 0.8223873494567793, 0.8358424856037866, 0.9577866605800363, 0.01577883050250916, 0.7100473726129122, 0.14200947452258245, 0.14200947452258245, 0.6413175141135242, 0.328115937453431, 0.014914360793337772, 0.8828445632535471, 0.04117771852860157, 0.8235543705720314, 0.1235331555858047, 0.12513421346483442, 0.875939494253841, 0.923243332568152, 0.16996618897709123, 0.08498309448854562, 0.6798647559083649, 0.21068904645647057, 0.2268958961838914, 0.5024123415500452, 0.06482739890968325, 0.891833110003463, 0.7703497774427234, 0.9052234783688451, 0.15797000988891266, 0.23695501483336898, 0.23695501483336898, 0.3662032047424793, 0.7969042410695649, 0.13178958748918662, 0.026357917497837325, 0.6853058549437704, 0.15814750498702396, 0.23352095580979385, 0.38212520041602627, 0.1273750668053421, 0.2547501336106842, 0.815232300807183, 0.17245298670921178, 0.9034034286990389, 0.8448582951786171, 0.8047773664763893, 0.8564745548557197, 0.28326821351416626, 0.12316009283224619, 0.3941122970631878, 0.1970561485315939, 0.24440826134442048, 0.5804696206929987, 0.13747964700623652, 0.03055103266805256, 0.8157848611289783, 0.12550536325061204, 0.3477086471403403, 0.1303907426776276, 0.5215629707105104, 0.8231542250346032, 0.8448058775535586, 0.3374299348721565, 0.22897031294896333, 0.15666389833350122, 0.2771745893592714, 0.869810363523968, 0.0669084895018437, 0.3285604381949072, 0.23895304595993253, 0.2210315675129376, 0.20908391521494096, 0.9625104804553929, 0.8893425421530138, 0.9238190501896141, 0.9013166557326615, 0.044813911455508844, 0.851464317654668, 0.1120347786387721, 0.6350772918098196, 0.13856231821305157, 0.09814830873424486, 0.12701545836196393, 0.8850149976470497, 0.09700401309666692, 0.8730361178700022, 0.09532662711809087, 0.8579396440628179, 0.023885903974867007, 0.8240636871329118, 0.14331542384920204, 0.4136353591706473, 0.2661653615532861, 0.18343828971915663, 0.13308268077664304, 0.7734383910529044, 0.7968833403638144, 0.8151775038118098, 0.1314802425502919, 0.026296048510058376, 0.026296048510058376, 0.8860487122056137, 0.2272383213001914, 0.2982502967065012, 0.3408574819502871, 0.13413373132302964, 0.9235972161486696, 0.8851552557364046, 0.9155780941480195, 0.22208787136264707, 0.39975816845276474, 0.27538896048968237, 0.09771866339956471, 0.923140332209662, 0.9580288559042498, 0.17134355843919696, 0.8567177921959849, 0.181263705015408, 0.2776317507198021, 0.34187711452273156, 0.1996195232448164, 0.8801678212748523, 0.11002097765935653, 0.800905529298155, 0.08009055292981548, 0.08009055292981548, 0.7140406157840412, 0.10414931207933947, 0.7811198405950461, 0.05207465603966974, 0.05207465603966974, 0.32225743237988114, 0.31540089126541554, 0.2879747268075533, 0.07542195225912111, 0.05282180701349257, 0.9507925262428661], \"Term\": [\"able\", \"able\", \"able\", \"able\", \"accept\", \"accept\", \"actually\", \"actually\", \"actually\", \"actually\", \"adopt\", \"adopt\", \"advertise\", \"advertise\", \"already\", \"already\", \"already\", \"also\", \"also\", \"also\", \"also\", \"amazingly\", \"apart\", \"apart\", \"apple\", \"apply\", \"apply\", \"apply\", \"attract\", \"average\", \"awesome\", \"awesome\", \"awesome\", \"awful\", \"back\", \"back\", \"back\", \"back\", \"bad\", \"bad\", \"bad\", \"bald\", \"bald\", \"big\", \"big\", \"big\", \"big\", \"brush\", \"brush\", \"brush\", \"brush\", \"buy\", \"buy\", \"buy\", \"buy\", \"buzz\", \"cap\", \"capture\", \"carefully\", \"change\", \"change\", \"choose\", \"choose\", \"circular\", \"circular\", \"clean\", \"clean\", \"clean\", \"clean\", \"cleanly\", \"cleanly\", \"clear\", \"clear\", \"clear\", \"clear\", \"clearly\", \"clip\", \"clip\", \"clip\", \"clip\", \"close\", \"close\", \"close\", \"close\", \"comb\", \"comb\", \"combine\", \"come\", \"come\", \"come\", \"come\", \"construct\", \"contain\", \"cool\", \"create\", \"create\", \"curl\", \"cut\", \"cut\", \"cut\", \"cut\", \"damage\", \"declaw\", \"declaw\", \"declaw\", \"describe\", \"different\", \"different\", \"different\", \"different\", \"disappoint\", \"dislike\", \"dry\", \"dry\", \"dry\", \"dry\", \"dsh\", \"easy\", \"easy\", \"easy\", \"easy\", \"enough\", \"enough\", \"enough\", \"enough\", \"even\", \"even\", \"even\", \"even\", \"ever\", \"ever\", \"ever\", \"ever\", \"everyday\", \"everywhere\", \"everywhere\", \"everywhere\", \"excellent\", \"excellent\", \"expose\", \"fairly\", \"fairly\", \"fairly\", \"fall\", \"fall\", \"fall\", \"fall\", \"fight\", \"file\", \"fill\", \"fill\", \"find\", \"find\", \"find\", \"find\", \"firm\", \"first\", \"first\", \"first\", \"first\", \"fit\", \"fit\", \"fit\", \"fit\", \"fluffy\", \"fond\", \"foster\", \"free\", \"free\", \"free\", \"free\", \"frighten\", \"fuzze\", \"general\", \"generally\", \"generally\", \"gentle\", \"gentle\", \"gentle\", \"get\", \"get\", \"get\", \"get\", \"give\", \"give\", \"give\", \"give\", \"go\", \"go\", \"go\", \"go\", \"good\", \"good\", \"good\", \"good\", \"gradually\", \"grateful\", \"great\", \"great\", \"great\", \"great\", \"groom\", \"groom\", \"groom\", \"groom\", \"handle\", \"handle\", \"handle\", \"handle\", \"heat\", \"help\", \"help\", \"help\", \"help\", \"hide\", \"highly\", \"highly\", \"hit\", \"hit\", \"hold\", \"hold\", \"hold\", \"hold\", \"horrible\", \"horrible\", \"huge\", \"huge\", \"huge\", \"huge\", \"ichi\", \"immediately\", \"immediately\", \"immediately\", \"improve\", \"incredibly\", \"inside\", \"irritated\", \"issue\", \"keep\", \"keep\", \"keep\", \"keep\", \"kind\", \"kind\", \"kind\", \"kind\", \"kinda\", \"kitten\", \"kitten\", \"kitten\", \"kitten\", \"kitty\", \"knead\", \"know\", \"know\", \"know\", \"know\", \"large\", \"large\", \"large\", \"large\", \"laugh\", \"least\", \"least\", \"least\", \"least\", \"let\", \"let\", \"let\", \"let\", \"little\", \"little\", \"little\", \"little\", \"local\", \"long\", \"long\", \"long\", \"long\", \"long_haired_cats\", \"long_haired_cats\", \"long_haired_cats\", \"look\", \"look\", \"look\", \"look\", \"loose_hair\", \"loose_hair\", \"loose_hair\", \"loose_hair\", \"lose\", \"lose\", \"lose\", \"lose\", \"love\", \"love\", \"love\", \"love\", \"love_glove\", \"love_glove\", \"maine_coon\", \"maine_coon\", \"maine_coon\", \"maine_coon\", \"maintain\", \"make\", \"make\", \"make\", \"make\", \"maltese\", \"matted\", \"mid\", \"mild\", \"mind\", \"much\", \"much\", \"much\", \"much\", \"nail\", \"nail\", \"nail_caps\", \"nail_caps\", \"nail_clippers\", \"nail_clippers\", \"nail_clippers\", \"nervous\", \"nervous\", \"never\", \"never\", \"never\", \"never\", \"nice\", \"nice\", \"nice\", \"nice\", \"oatmeal\", \"operate\", \"oster\", \"painful\", \"painful\", \"paint\", \"pass\", \"pass\", \"patient\", \"pet\", \"pet\", \"pet\", \"pet\", \"peticure\", \"petite\", \"petite\", \"pick\", \"pick\", \"pick\", \"pink\", \"pink\", \"pink\", \"pink\", \"play\", \"play\", \"play\", \"plug\", \"plug\", \"possible\", \"possible\", \"prepare\", \"pretty\", \"pretty\", \"pretty\", \"pretty\", \"properly\", \"protect\", \"pull\", \"pull\", \"pull\", \"pull\", \"puppy\", \"purchase\", \"purchase\", \"purchase\", \"purchase\", \"purr\", \"purr\", \"put\", \"put\", \"put\", \"put\", \"quick\", \"quick\", \"quick\", \"quick\", \"quickly\", \"quickly\", \"quickly\", \"quickly\", \"quite\", \"quite\", \"quite\", \"quite\", \"really\", \"really\", \"really\", \"really\", \"rear\", \"recommend\", \"recommend\", \"recommend\", \"recommend\", \"regularly\", \"regularly\", \"regularly\", \"relatively\", \"relatively\", \"remove\", \"remove\", \"remove\", \"remove\", \"removed\", \"replace\", \"replace\", \"replace\", \"replace\", \"rid\", \"rid\", \"rinse\", \"round\", \"round\", \"rub\", \"rub\", \"rub\", \"rub\", \"rug\", \"sadly\", \"sadly\", \"say\", \"say\", \"say\", \"say\", \"scratch\", \"scratch\", \"scratch\", \"scratch\", \"see\", \"see\", \"see\", \"see\", \"seem\", \"seem\", \"seem\", \"seem\", \"sell\", \"sell\", \"sell\", \"sensitive\", \"sensitive\", \"sensitive\", \"sharp\", \"sharp\", \"shed\", \"shed\", \"shed\", \"shed\", \"shedde\", \"shine\", \"ship\", \"short\", \"short\", \"short\", \"short\", \"short_hair\", \"short_hair\", \"short_hair\", \"shorthaire\", \"show\", \"show\", \"show\", \"shred\", \"shred\", \"sick\", \"single\", \"single\", \"single\", \"sit\", \"sit\", \"sit\", \"sit\", \"size\", \"skittish\", \"sleepy\", \"small\", \"small\", \"small\", \"small\", \"smash\", \"smell\", \"smell\", \"smell\", \"smell\", \"soft\", \"soft\", \"soft\", \"soft\", \"soft_claws\", \"soft_claws\", \"sound\", \"source\", \"special\", \"stiff\", \"still\", \"still\", \"still\", \"still\", \"stop\", \"stop\", \"stop\", \"stop\", \"stroke\", \"stroke\", \"sturdy\", \"sturdy\", \"sturdy\", \"suck\", \"superfine\", \"sure\", \"sure\", \"sure\", \"sure\", \"surprised\", \"surprised\", \"take\", \"take\", \"take\", \"take\", \"talk\", \"tear\", \"terrible\", \"thankfully\", \"thick\", \"thick\", \"thick\", \"think\", \"think\", \"think\", \"think\", \"thus\", \"traditional\", \"traditional\", \"treat\", \"treat\", \"trim\", \"trim\", \"trim\", \"try\", \"try\", \"try\", \"try\", \"tummy\", \"ultimately\", \"undercoat\", \"undercoat\", \"undercoat\", \"undercoat\", \"universal\", \"use\", \"use\", \"use\", \"use\", \"useful\", \"vacuum\", \"virtually\", \"want\", \"want\", \"want\", \"want\", \"warm\", \"waste\", \"way\", \"way\", \"well\", \"well\", \"well\", \"well\", \"wet\", \"wet\", \"white\", \"white\", \"white\", \"wild\", \"wonderful\", \"wonderful\", \"wonderful\", \"wonderful\", \"work\", \"work\", \"work\", \"work\", \"zoom_groom\", \"zoom_groom\"]}, \"R\": 30, \"lambda.step\": 0.01, \"plot.opts\": {\"xlab\": \"PC1\", \"ylab\": \"PC2\"}, \"topic.order\": [4, 2, 3, 1]};\n",
       "\n",
       "function LDAvis_load_lib(url, callback){\n",
       "  var s = document.createElement('script');\n",
       "  s.src = url;\n",
       "  s.async = true;\n",
       "  s.onreadystatechange = s.onload = callback;\n",
       "  s.onerror = function(){console.warn(\"failed to load library \" + url);};\n",
       "  document.getElementsByTagName(\"head\")[0].appendChild(s);\n",
       "}\n",
       "\n",
       "if(typeof(LDAvis) !== \"undefined\"){\n",
       "   // already loaded: just create the visualization\n",
       "   !function(LDAvis){\n",
       "       new LDAvis(\"#\" + \"ldavis_el2993617974028807047664809327\", ldavis_el2993617974028807047664809327_data);\n",
       "   }(LDAvis);\n",
       "}else if(typeof define === \"function\" && define.amd){\n",
       "   // require.js is available: use it to load d3/LDAvis\n",
       "   require.config({paths: {d3: \"https://d3js.org/d3.v5\"}});\n",
       "   require([\"d3\"], function(d3){\n",
       "      window.d3 = d3;\n",
       "      LDAvis_load_lib(\"https://cdn.jsdelivr.net/gh/bmabey/pyLDAvis@3.3.1/pyLDAvis/js/ldavis.v3.0.0.js\", function(){\n",
       "        new LDAvis(\"#\" + \"ldavis_el2993617974028807047664809327\", ldavis_el2993617974028807047664809327_data);\n",
       "      });\n",
       "    });\n",
       "}else{\n",
       "    // require.js not available: dynamically load d3 & LDAvis\n",
       "    LDAvis_load_lib(\"https://d3js.org/d3.v5.js\", function(){\n",
       "         LDAvis_load_lib(\"https://cdn.jsdelivr.net/gh/bmabey/pyLDAvis@3.3.1/pyLDAvis/js/ldavis.v3.0.0.js\", function(){\n",
       "                 new LDAvis(\"#\" + \"ldavis_el2993617974028807047664809327\", ldavis_el2993617974028807047664809327_data);\n",
       "            })\n",
       "         });\n",
       "}\n",
       "</script>"
      ],
      "text/plain": [
       "<IPython.core.display.HTML object>"
      ]
     },
     "execution_count": 206,
     "metadata": {},
     "output_type": "execute_result"
    }
   ],
   "source": [
    "\n",
    "pyLDAvis.enable_notebook()\n",
    "topic_data =  pyLDAvis.gensim_models.prepare(cats_grooming_optimal_model, \n",
    "                                             cats_grooming_doc_term_matrix, \n",
    "                                             cats_grooming_dictionary, \n",
    "                                             mds = 'tsne')\n",
    "pyLDAvis.display(topic_data)"
   ]
  }
 ],
 "metadata": {
  "kernelspec": {
   "display_name": "Python 3 (ipykernel)",
   "language": "python",
   "name": "python3"
  },
  "language_info": {
   "codemirror_mode": {
    "name": "ipython",
    "version": 3
   },
   "file_extension": ".py",
   "mimetype": "text/x-python",
   "name": "python",
   "nbconvert_exporter": "python",
   "pygments_lexer": "ipython3",
   "version": "3.9.7"
  }
 },
 "nbformat": 4,
 "nbformat_minor": 5
}
